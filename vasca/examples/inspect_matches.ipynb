{
 "cells": [
  {
   "cell_type": "markdown",
   "id": "3d71aec9-140a-49df-a536-10d6fa7d8898",
   "metadata": {},
   "source": [
    "# Notebook to match VASCA sources to SIMBAD database sources positionally\n",
    "Set your option in the cell bellow"
   ]
  },
  {
   "cell_type": "code",
   "execution_count": null,
   "id": "30de25fb-4fd8-4e4f-afa3-349b41a7fbb9",
   "metadata": {},
   "outputs": [],
   "source": [
    "from astropy import units as uu\n",
    "region_name = \"ALL_10-800_LOOSE\" #\"CAINGSGII_10-800\" #\"TDS\" #\"CAINGSGII_10-800\" #\"WD\" #\"MDIS_10-800\" #\"TDS\" #  _ELAISN1\n",
    "region_cat_fname = \"./vasca_pipeline/\"+region_name+\"/region_\"+region_name+\"_cat.fits\""
   ]
  },
  {
   "cell_type": "code",
   "execution_count": null,
   "id": "7b55f43a-7d3b-48a6-9e1c-7f438d8d1686",
   "metadata": {},
   "outputs": [],
   "source": [
    "%matplotlib widget\n",
    "import ipywidgets as widgets\n",
    "from IPython.display import display\n",
    "import matplotlib.pyplot as plt\n",
    "import numpy as np\n",
    "from astropy.table import Table\n",
    "from vasca.region import Region\n",
    "import vasca.visualization as vvis\n",
    "from vasca.utils import otype2ogroup,dd_ogrp2otypes, dd_ogrp2col, get_col_cycler,add_ogrp, color_palette, nb_fig\n",
    "\n",
    "# Get region\n",
    "rc = Region()\n",
    "rc.load_from_fits(region_cat_fname)"
   ]
  },
  {
   "cell_type": "markdown",
   "id": "c2b42832-3293-4967-a557-138ce55a8dcc",
   "metadata": {},
   "source": [
    "### Prepare association data for plotting"
   ]
  },
  {
   "cell_type": "code",
   "execution_count": null,
   "id": "2123a104-4145-44c6-b296-83a61bcef9c3",
   "metadata": {},
   "outputs": [],
   "source": [
    "#Add Object group to source table\n",
    "rc.copy_table_columns(\"tt_sources\",\"tt_simbad\",[\"otype\",\"ogrp\",\"match_distance\"],\"rg_src_id\")\n",
    "rc.tt_sources.rename_column(\"match_distance\",\"match_distance_simbad\")\n",
    "rc.tt_sources.rename_column(\"ogrp\",\"ogrp_simbad\")\n",
    "sel_simbad = rc.tt_sources[\"sel\"].data\n",
    "print(f\"Number of SIMBAD matches is: {sel_simbad.sum()}  ({100* sel_simbad.sum() / len(rc.tt_sources)} )%\")\n",
    "\n",
    "rc.copy_table_columns(\"tt_sources\",\"tt_gaiadr3\",[\"PQSO\", \"PGal\", \"PSS\",\"match_distance\",\"Gmag_abs\",\"BP-RP\", \"ogrp\"],\"rg_src_id\")\n",
    "rc.tt_sources.rename_column(\"match_distance\",\"match_distance_gaiadr3\")\n",
    "rc.tt_sources.rename_column(\"ogrp\",\"ogrp_gaiadr3\")\n",
    "sel_gaiadr3 = rc.tt_sources[\"sel\"].data\n",
    "print(f\"Number of GAIA matches is: {sel_gaiadr3.sum()}  ({100*sel_gaiadr3.sum() / len(rc.tt_sources)} )%\")\n",
    "\n",
    "sel_match = np.array(sel_simbad+sel_gaiadr3, dtype=bool)\n",
    "print(f\"Total number of matches is: {sel_match.sum()}  ({100*sel_match.sum() / len(rc.tt_sources)} )%\")\n",
    "\n",
    "#Copy lomb scargle result into tt_sources\n",
    "rc.copy_table_columns(\"tt_sources\",\"tt_lombscargle\",[\"ls_peak_pval\", \"ls_model_rchiq\"],\"rg_src_id\")\n",
    "\n",
    "display(rc.tt_sources)\n",
    "#display(rc.tt_simbad)\n"
   ]
  },
  {
   "cell_type": "markdown",
   "id": "687ed8dc-6549-4785-bba9-0fb79186bad4",
   "metadata": {},
   "source": [
    "### Create matching table"
   ]
  },
  {
   "cell_type": "code",
   "execution_count": null,
   "id": "4f1020ea-338d-4579-92cd-1645352280f6",
   "metadata": {},
   "outputs": [],
   "source": [
    "fig, axs = plt.subplots(1, 3, figsize=(18, 6))\n",
    "axs = np.array(axs).flatten()\n",
    "rc.tt_sources[\"sel\"]=sel_simbad\n",
    "_ = vvis.plot_table_hist(rc.tt_sources[sel_simbad], \"match_distance_simbad\", ax=axs[0], logx=False, obs_filter_id=None, density= False)\n",
    "rc.tt_sources[\"sel\"]=sel_gaiadr3\n",
    "_ = vvis.plot_table_hist(rc.tt_sources[sel_gaiadr3], \"match_distance_gaiadr3\", ax=axs[1], logx=False, obs_filter_id=None, density= False)\n",
    "rc.tt_sources[\"sel\"]=sel_match\n",
    "_ = vvis.plot_table_hist(rc.tt_sources, 'pos_err', ax=axs[2], logx=False, obs_filter_id=None, density= False)"
   ]
  },
  {
   "cell_type": "markdown",
   "id": "5de9a792-515f-4184-8709-ea83935c5b8d",
   "metadata": {},
   "source": [
    "### Plot found object types"
   ]
  },
  {
   "cell_type": "code",
   "execution_count": null,
   "id": "7ff8189f-fee8-4f92-a32c-10c7a5f91510",
   "metadata": {
    "scrolled": true
   },
   "outputs": [],
   "source": [
    "#Prepare data\n",
    "sel_mt = rc.tt_sources[\"sel\"]\n",
    "otypes_all, otype_cts_all= np.unique(rc.tt_sources[sel_mt][\"otype\"],return_counts=True)\n",
    "dd_otype2id = dict(zip(list(otypes_all),range(len(otypes_all))))\n",
    "\n",
    "#Do bar chart of all otypes color coded by ogrp\n",
    "fig_otypes = plt.figure(\"Source types\",figsize=(18, 7), clear=True)\n",
    "fig_otypes.clf()\n",
    "tt_mt_grp =  rc.tt_sources[sel_mt].group_by(\"ogrp_simbad\")\n",
    "for group, tt_grp in zip(tt_mt_grp.groups.keys, tt_mt_grp.groups):\n",
    "    otypes, otype_cts= np.unique(tt_grp[\"otype\"],return_counts=True)\n",
    "    otypes_id = []\n",
    "    for otype in otypes:\n",
    "        otypes_id.append(dd_otype2id[otype])\n",
    "    plt.bar( otypes_id, otype_cts, align='center', label=group[0], color = dd_ogrp2col[group[0]])\n",
    "plt.yscale('log')\n",
    "#plt.grid()\n",
    "plt.xlabel(\"Object type\")\n",
    "plt.ylabel(\"Nr of sources\")\n",
    "plt.show()\n",
    "plt.legend()\n",
    "_ = plt.xticks(range(len(otypes_all)), otypes_all, size='small')\n",
    "\n",
    "#Printout otypes whch have no ogrp assigned yet\n",
    "sel_ogrp_none = rc.tt_simbad[\"ogrp\"]==\"none\"\n",
    "if sel_ogrp_none.sum()>0:\n",
    "    print(\"Unclassified new otypes:\")\n",
    "    display(rc.tt_simbad[\"main_id\",\"otype\",\"rg_src_id\"][sel_ogrp_none])"
   ]
  },
  {
   "cell_type": "code",
   "execution_count": null,
   "id": "b7d72527-becc-4172-97eb-77fe0714e3da",
   "metadata": {},
   "outputs": [],
   "source": [
    "# Pie chart showing fractions of grouped classification\n",
    "\n",
    "# Grouped classifications\n",
    "sel_mt = rc.tt_sources[\"sel\"]\n",
    "plabel, pvals = np.unique(rc.tt_sources[sel_mt][\"ogrp_simbad\"],return_counts=True)\n",
    "percent = [i/pvals.sum()*100 for i in pvals]\n",
    "\n",
    "# Figure (notebook-optimized)\n",
    "fig, ax = nb_fig(num=\"class pie\", gr_size=8, layout=\"constrained\")\n",
    "\n",
    "# Seaborn colors\n",
    "alpha = 0.95\n",
    "c_bright_rgb = color_palette(name=\"bright\", n=len(plabel), show_in_notebook=False)\n",
    "c_bright_rgba = [(*c[:3], alpha) for c in c_bright_rgb]\n",
    "\n",
    "# Chart\n",
    "patches, text = ax.pie(pvals,\n",
    "\t\t\t\t\t   labels=plabel,\n",
    "\t\t\t\t\t   colors=c_bright_rgba,\n",
    "\t\t\t\t\t   startangle=270,\n",
    "\t\t\t\t\t   radius=1.2,\n",
    "\t\t\t\t\t   textprops={'fontsize': 7}\n",
    "\t\t\t\t\t  )\n",
    "\n",
    "# External legend, sorted by percentage\n",
    "xlabels = [f'{i} - {j:d} ({k:1.1f}%)' for i,j,k in zip(plabel, pvals, percent)]\n",
    "sort_legend = True\n",
    "if sort_legend:\n",
    "\tpatches, labels, _ =  zip(\n",
    "\t\t*sorted(\n",
    "\t\t\tzip(patches, xlabels, pvals),\n",
    "\t\t\tkey=lambda x: x[2],\n",
    "\t\t\treverse=True\n",
    "\t\t)\n",
    "\t)\n",
    "_=ax.legend(\n",
    "\tpatches,\n",
    "\tlabels,\n",
    "\tloc='best',\n",
    "\tbbox_to_anchor=(-0.1, 1.),\n",
    "\tfontsize=10,\n",
    "\ttitle=f\"Number of cross-matched\\nVASCA sources (total: {pvals.sum()})\",\n",
    "\ttitle_fontsize=12,\n",
    "\talignment='left',\n",
    ")"
   ]
  },
  {
   "cell_type": "markdown",
   "id": "e537463f-0000-49b3-a6c0-fd39e6c1d31f",
   "metadata": {},
   "source": [
    "### Scatter plots of source variables by group"
   ]
  },
  {
   "cell_type": "code",
   "execution_count": null,
   "id": "fc416e5f-1e62-430f-a1fd-4ccd74a36c59",
   "metadata": {},
   "outputs": [],
   "source": [
    "plot_kwargs = {\"markersize\": 3.0,\"alpha\":0.6}\n",
    "fig, axs = plt.subplots(2, 4, figsize=(19, 8))\n",
    "#fig.clf()\n",
    "axs = axs.flatten()\n",
    "plt_ogrops = [[\"AGN\",\"UNK\",\"GAL\",'Star*'],[\"AGN\",'WD*', 'B*']]\n",
    "\n",
    "plt_flts = [1,2]\n",
    "ctr = 0\n",
    "for flt in plt_flts:\n",
    "    for ogrps in plt_ogrops:\n",
    "        axs[ctr].set_prop_cycle(get_col_cycler(ogrps))\n",
    "        vvis.plot_table_scatter(rc.tt_sources,\"flux_nxv\", \"flux\", ax=axs[ctr], xscale=\"log\",yscale=\"log\", obs_filter_id=flt, grp_var=\"ogrp_simbad\",grp_vals = ogrps,**plot_kwargs)\n",
    "\n",
    "        axs[ctr+4].set_prop_cycle(get_col_cycler(ogrps))\n",
    "        vvis.plot_table_scatter(rc.tt_sources,\"flux_nxv\", \"hr\", ax=axs[ctr+4], xscale=\"log\",yscale=\"log\", obs_filter_id=flt, grp_var=\"ogrp_simbad\",grp_vals = ogrps,**plot_kwargs)\n",
    "        ctr +=1\n",
    "\n",
    "_ = axs[0].legend()\n",
    "_ = axs[1].legend()\n",
    "_ = axs[2].legend()\n",
    "_ = axs[3].legend()\n",
    "#print(dd_ogrp2otypes.keys())r"
   ]
  },
  {
   "cell_type": "markdown",
   "id": "da32d863-5802-4b5e-8ad5-d6bf7d58b388",
   "metadata": {},
   "source": [
    "### Compare object classification from SIMBAD to the one from GAIA-DR3"
   ]
  },
  {
   "cell_type": "code",
   "execution_count": null,
   "id": "4719fe89-4bf3-4411-9faa-6c578e2aa033",
   "metadata": {},
   "outputs": [],
   "source": [
    "#Reset source selection\n",
    "rc.tt_sources[\"sel\"]=True\n",
    "\n",
    "#Define selections for different SIMBAD object groups\n",
    "sel_AGN = rc.tt_sources[\"ogrp_simbad\"]==\"AGN\"\n",
    "sel_star = np.array((rc.tt_sources[\"ogrp_simbad\"]==\"Star*\")+(rc.tt_sources[\"ogrp_simbad\"]==\"S*\"), dtype=bool)\n",
    "sel_gal = rc.tt_sources[\"ogrp_simbad\"]==\"GAL\"\n",
    "sels_ogrp = [sel_AGN,sel_star,sel_gal]\n",
    "\n",
    "#GAIA variables to plot\n",
    "gaia_vars = [\"PQSO\",\"PSS\",\"PGal\"]\n",
    "\n",
    "#Define figure parameters and loop to do plots\n",
    "fig, axs = plt.subplots(1, 3, figsize=(18, 6),num=\"Cummulative probabilities of object groups\")\n",
    "hist_bins = np.linspace(0.0,1.0,1001)\n",
    "hist_dens = True\n",
    "axs = np.array(axs).flatten()\n",
    "panel = 0\n",
    "cumulative = -1\n",
    "for var in gaia_vars:\n",
    "    for sel in sels_ogrp:\n",
    "        _ = vvis.plot_table_hist(rc.tt_sources[sel], var, ax=axs[panel], density= hist_dens, bins=hist_bins,cumulative= cumulative )\n",
    "    panel+=1\n",
    "    \n",
    "#Print out figure labels\n",
    "print(\"SIMBAD assoc: orange:AGN; red:Star; brown:Galaxy\")"
   ]
  },
  {
   "cell_type": "markdown",
   "id": "6da478ea-9bb0-4fbc-964e-3b1acb361e43",
   "metadata": {},
   "source": [
    "### Hertzsprung russel diagram"
   ]
  },
  {
   "cell_type": "code",
   "execution_count": null,
   "id": "65e2bc74-b9b6-4eb0-8984-000769d8b814",
   "metadata": {},
   "outputs": [],
   "source": [
    "tt_HR = rc.tt_sources[rc.tt_sources[\"Gmag_abs\"]>-10]\n",
    "fig, axs = plt.subplots(1, 1, figsize=(5, 8),num=\"HR\", clear=True)\n",
    "axs = np.array(axs).flatten()\n",
    "axs[0].invert_yaxis()\n",
    "axs[0].plot(tt_HR[\"BP-RP\"],tt_HR[\"Gmag_abs\"],\"o\")\n",
    "#axs[0].invert_yaxis()\n",
    "axs[0].plot(tt_HR[\"BP-RP\"][tt_HR[\"ogrp_gaiadr3\"]==\"WD*\"],tt_HR[\"Gmag_abs\"][tt_HR[\"ogrp_gaiadr3\"]==\"WD*\"],\"o\")\n",
    "#axs[0].invert_yaxis()\n",
    "axs[0].set_xlabel(\"Gaia BP-RP color\")\n",
    "axs[0].set_ylabel(\"Gaia G absolute magnitude\")\n",
    "plt.show()"
   ]
  },
  {
   "cell_type": "markdown",
   "id": "629ed7b2-65ae-4ce2-8356-f87fa06666a2",
   "metadata": {},
   "source": [
    "### Print info for selected sources"
   ]
  },
  {
   "cell_type": "code",
   "execution_count": null,
   "id": "abd8b156-4074-40cc-8edc-71223de1a691",
   "metadata": {},
   "outputs": [],
   "source": [
    "# Make selection\n",
    "sel_otype = rc.tt_sources[\"otype\"] ==  \"RR*\"# \"No*\"#\"HS?\" #\"BS*\" #\"PM*\" # # \"SN*\" #\"EB*\"\n",
    "sel_otypes = (rc.tt_sources[\"otype\"] ==  \"WD?\")  + (rc.tt_sources[\"otype\"] ==\"WD*\") + (rc.tt_sources[\"ogrp_gaiadr3\"] ==\"WD*\")\n",
    "sel_flux_nxv = rc.tt_sources[\"flux_nxv\"][:,0]>2\n",
    "sel_flux_hr = rc.tt_sources[\"hr\"]>2\n",
    "sel_src_id = rc.tt_sources[\"rg_src_id\"]==15179\n",
    "sel_period = (rc.tt_sources[\"ls_peak_pval\"]>-0.5) * (rc.tt_sources[\"ls_peak_pval\"]<0.000000573303) * (rc.tt_sources[\"ls_model_rchiq\"]<1.1)# # 3 sigma 0.002699796063, 4 sigma 0.000063342484, 5 sigma 0.000000573303\n",
    "sel_srcs =  sel_period #sel_otypes  #sel_src_id  #sel_flux_nxv #sel_otype # sel_flux_nxv_fuv # sel_flux_hr#\n",
    "\n",
    "#Display match and simbad table for selected sources\n",
    "display(rc.tt_sources[sel_srcs])\n",
    "\n",
    "#Print oout list of source IDs to be used for further use, e.g. in inspect_sources.ipynb\n",
    "print(\"srcs_ids = [\", end=\"\")\n",
    "for src_id in rc.tt_sources[sel_srcs][\"rg_src_id\"].data:\n",
    "    print(src_id,\",\", end=\"\")\n",
    "print(\"]\")\n",
    "print(\"Total Nr. of sources:\",sel_srcs.sum())"
   ]
  },
  {
   "cell_type": "code",
   "execution_count": null,
   "id": "faee6507-701e-416f-8b93-8dc8c8bbcf6c",
   "metadata": {},
   "outputs": [],
   "source": [
    "tt_nodes = Table.read(\"./resources/SIMBAD_otypes/otypes_nodes3.csv\")\n",
    "tt_nodes.rename_column(\"Id\", \"otype\")\n",
    "#display(tt_nodes)\n",
    "add_ogrp(tt_nodes)\n",
    "tt_nodes[\"otype\",\"Candidate\",\"Description\",\"ogrp\",\"Label\",\"Category\",\"Subcategory\"].pprint_all()"
   ]
  },
  {
   "cell_type": "code",
   "execution_count": null,
   "id": "ca97ec46-3578-41c4-bbfa-940d4256a903",
   "metadata": {},
   "outputs": [],
   "source": [
    "from astroquery.simbad import Simbad\n",
    "\n",
    "testSimbad = Simbad()\n",
    "\n",
    "#testSimbad.list_votable_fields()\n",
    "all_vo_fields = [\"biblio\",\"cel\",\"cl.g\",\"coo(opt)\",\"coo_bibcode\",\"coo_err_angle\",\"coo_err_maja\",\"coo_err_mina\",\"coo_qual\",\"coo_wavelength\",\"coordinates\",\"dec(opt)\",\"dec_prec\",\"diameter\",\"dim\",\"dim_angle\",\"dim_bibcode\",\"dim_incl\",\"dim_majaxis\",\"dim_minaxis\",\"dim_qual\",\"dim_wavelength\",\"dimensions\",\"distance\",\"distance_result\",\"einstein\",\"fe_h\",\"flux(filtername)\",\"flux_bibcode(filtername)\",\"flux_error(filtername)\",\"flux_name(filtername)\",\"flux_qual(filtername)\",\"flux_system(filtername)\",\"flux_unit(filtername)\",\"fluxdata(filtername)\",\"gcrv\",\"gen\",\"gj\",\"hbet\",\"hbet1\",\"hgam\",\"id(opt)\",\"ids\",\"iras\",\"irc\",\"iso\",\"iue\",\"jp11\",\"link_bibcode\",\"main_id\",\"measurements\",\"membership\",\"mesplx\",\"mespm\",\"mk\",\"morphtype\",\"mt\",\"mt_bibcode\",\"mt_qual\",\"otype\",\"otype(opt)\",\"otypes\",\"parallax\",\"plx\",\"plx_bibcode\",\"plx_error\",\"plx_prec\",\"plx_qual\",\"pm\",\"pm_bibcode\",\"pm_err_angle\",\"pm_err_maja\",\"pm_err_mina\",\"pm_qual\",\"pmdec\",\"pmdec_prec\",\"pmra\",\"pmra_prec\",\"pos\",\"posa\",\"propermotions\",\"ra(opt)\",\"ra_prec\",\"rot\",\"rv_value\",\"rvz_bibcode\",\"rvz_error\",\"rvz_qual\",\"rvz_radvel\",\"rvz_type\",\"rvz_wavelength\",\"sao\",\"sp\",\"sp_bibcode\",\"sp_nature\",\"sp_qual\",\"sptype\",\"td1\",\"typed_id\",\"ubv\",\"uvby\",\"uvby1\",\"v*\",\"velocity\",\"xmm\",\"z_value\"]\n",
    "\n",
    "#for vo_field in all_vo_fields:\n",
    "#    print(\"*\",vo_field)\n",
    "#    testSimbad.get_field_description(vo_field)"
   ]
  },
  {
   "cell_type": "code",
   "execution_count": null,
   "id": "e0504390-6b19-43c5-95eb-92a0f80831a9",
   "metadata": {},
   "outputs": [],
   "source": []
  }
 ],
 "metadata": {
  "kernelspec": {
   "display_name": "Python 3 (ipykernel)",
   "language": "python",
   "name": "python3"
  },
  "language_info": {
   "codemirror_mode": {
    "name": "ipython",
    "version": 3
   },
   "file_extension": ".py",
   "mimetype": "text/x-python",
   "name": "python",
   "nbconvert_exporter": "python",
   "pygments_lexer": "ipython3",
   "version": "3.11.6"
  }
 },
 "nbformat": 4,
 "nbformat_minor": 5
}
