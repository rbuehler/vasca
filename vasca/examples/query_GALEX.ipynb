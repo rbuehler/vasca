{
 "cells": [
  {
   "cell_type": "code",
   "execution_count": null,
   "id": "e0331dc8-104c-4e1b-9c87-364cb4922e1b",
   "metadata": {},
   "outputs": [],
   "source": [
    "Notebook to querry GALEX field and visit information"
   ]
  },
  {
   "cell_type": "code",
   "execution_count": 26,
   "id": "1d38ae3e-1ed9-4b6d-a31b-27f023ec2872",
   "metadata": {},
   "outputs": [],
   "source": [
    "from astroquery.mast import Observations\n",
    "from astropy.table import Table\n",
    "from astropy import units as uu\n",
    "from astropy.coordinates import SkyCoord\n",
    "import healpy as hpy\n",
    "import numpy as np"
   ]
  },
  {
   "cell_type": "code",
   "execution_count": null,
   "id": "c81f11c0-ab2f-4630-8f84-2cf3d217ff7f",
   "metadata": {},
   "outputs": [],
   "source": [
    "Get field info from astroquery"
   ]
  },
  {
   "cell_type": "code",
   "execution_count": 27,
   "id": "ec134a3f-360d-4eea-a7bf-007cf44f54da",
   "metadata": {},
   "outputs": [
    {
     "name": "stdout",
     "output_type": "stream",
     "text": [
      "      name          ra    dec   ebv  nr_vis coordinates \n",
      "                                              deg,deg   \n",
      "---------------- ------- ----- ----- ------ ------------\n",
      " PS_XMMLSS_MOS00   35.58 -3.14 0.028     27  35.58,-3.14\n",
      " PS_XMMLSS_MOS01    36.5 -3.49 0.025     27   36.5,-3.49\n",
      " PS_XMMLSS_MOS02    35.0 -3.95  0.02     14   35.0,-3.95\n",
      " PS_XMMLSS_MOS03  35.875 -4.25 0.026     27 35.875,-4.25\n",
      " PS_XMMLSS_MOS04    36.9 -4.42 0.026     27   36.9,-4.42\n",
      " PS_XMMLSS_MOS05    35.2 -5.05 0.022     26   35.2,-5.05\n",
      "             ...     ...   ...   ...    ...          ...\n",
      "PS_VVDS22H_MOS00   333.7  1.25  0.04     39   333.7,1.25\n",
      "PS_VVDS22H_MOS01   332.7   0.7 0.046     35    332.7,0.7\n",
      "PS_VVDS22H_MOS02 334.428  0.67 0.057     38 334.428,0.67\n",
      "PS_VVDS22H_MOS03   333.6   0.2 0.058     27    333.6,0.2\n",
      "PS_VVDS22H_MOS04  334.61 -0.04 0.093     24 334.61,-0.04\n",
      "PS_VVDS22H_MOS05   333.9 -0.72 0.102     35  333.9,-0.72\n",
      "PS_VVDS22H_MOS06   332.9  -0.4 0.113     33   332.9,-0.4\n",
      "Length = 42 rows\n",
      "dataproduct_type calib_level obs_collection ... intentType obsid objID\n",
      "---------------- ----------- -------------- ... ---------- ----- -----\n",
      "           image           2          GALEX ...    science  2047  3659\n",
      "           image           2          GALEX ...    science  2048  3661\n",
      "           image           2          GALEX ...    science  2049  3663\n",
      "           image           2          GALEX ...    science  2050  3665\n",
      "           image           2          GALEX ...    science  2051  3667\n",
      "           image           2          GALEX ...    science  2052  3669\n",
      "           image           2          GALEX ...    science  2053  3671\n",
      "             ...         ...            ... ...        ...   ...   ...\n",
      "           image           2          GALEX ...    science  2161  3875\n",
      "           image           2          GALEX ...    science  2162  3877\n",
      "           image           2          GALEX ...    science  2163  3879\n",
      "           image           2          GALEX ...    science  2164  3881\n",
      "           image           2          GALEX ...    science  2165  3883\n",
      "           image           2          GALEX ...    science  2166  3885\n",
      "           image           2          GALEX ...    science  2167  3887\n",
      "Length = 42 rows\n"
     ]
    },
    {
     "data": {
      "text/html": [
       "<i>Table length=2</i>\n",
       "<table id=\"table140356471517296-230899\" class=\"table-striped table-bordered table-condensed\">\n",
       "<thead><tr><th>idx</th><th>dataproduct_type</th><th>calib_level</th><th>obs_collection</th><th>obs_id</th><th>target_name</th><th>s_ra</th><th>s_dec</th><th>t_min</th><th>t_max</th><th>t_exptime</th><th>wavelength_region</th><th>filters</th><th>em_min</th><th>em_max</th><th>target_classification</th><th>obs_title</th><th>t_obs_release</th><th>instrument_name</th><th>proposal_pi</th><th>proposal_id</th><th>proposal_type</th><th>project</th><th>sequence_number</th><th>provenance_name</th><th>s_region</th><th>jpegURL</th><th>dataURL</th><th>dataRights</th><th>mtFlag</th><th>srcDen</th><th>intentType</th><th>obsid</th><th>objID</th></tr></thead>\n",
       "<tr><td>0</td><td>image</td><td>2</td><td>GALEX</td><td>2592597978464124928</td><td>PS_XMMLSS_MOS00</td><td>35.578863351058885</td><td>-3.14176421214975</td><td>54791.262777777774</td><td>55512.31023148148</td><td>40457.25</td><td>UV</td><td>NUV</td><td>169300000000.0</td><td>300700000000.0</td><td>--</td><td>--</td><td>55953.94460633</td><td>GALEX</td><td>--</td><td>--</td><td>DIS</td><td>DIS</td><td>--</td><td>DIS</td><td>CIRCLE ICRS  35.57886335  -3.14176421 0.625</td><td>http://galex.stsci.edu/data/GR6/pipe/01-vsn/08150-PS_XMMLSS_MOS00/d/01-main/0007-img/07-try/qa/PS_XMMLSS_MOS00-xd-int_2color.jpg</td><td>http://galex.stsci.edu/data/GR6/pipe/01-vsn/08150-PS_XMMLSS_MOS00/d/01-main/0007-img/07-try/PS_XMMLSS_MOS00-nd-exp.fits.gz</td><td>PUBLIC</td><td>--</td><td>5885.0</td><td>science</td><td>2047</td><td>3659</td></tr>\n",
       "<tr><td>1</td><td>image</td><td>2</td><td>GALEX</td><td>2592668347208302592</td><td>PS_XMMLSS_MOS01</td><td>36.49984981667359</td><td>-3.4923125504146</td><td>54791.33122685185</td><td>55512.37857638889</td><td>38609.0</td><td>UV</td><td>NUV</td><td>169300000000.0</td><td>300700000000.0</td><td>--</td><td>--</td><td>55953.94680547</td><td>GALEX</td><td>--</td><td>--</td><td>DIS</td><td>DIS</td><td>--</td><td>DIS</td><td>CIRCLE ICRS  36.49984982  -3.49231255 0.625</td><td>http://galex.stsci.edu/data/GR6/pipe/01-vsn/08152-PS_XMMLSS_MOS01/d/01-main/0007-img/07-try/qa/PS_XMMLSS_MOS01-xd-int_2color.jpg</td><td>http://galex.stsci.edu/data/GR6/pipe/01-vsn/08152-PS_XMMLSS_MOS01/d/01-main/0007-img/07-try/PS_XMMLSS_MOS01-nd-exp.fits.gz</td><td>PUBLIC</td><td>--</td><td>5885.0</td><td>science</td><td>2048</td><td>3661</td></tr>\n",
       "</table><style>table.dataTable {clear: both; width: auto !important; margin: 0 !important;}\n",
       ".dataTables_info, .dataTables_length, .dataTables_filter, .dataTables_paginate{\n",
       "display: inline-block; margin-right: 1em; }\n",
       ".paginate_button { margin-right: 5px; }\n",
       "</style>\n",
       "<script>\n",
       "\n",
       "var astropy_sort_num = function(a, b) {\n",
       "    var a_num = parseFloat(a);\n",
       "    var b_num = parseFloat(b);\n",
       "\n",
       "    if (isNaN(a_num) && isNaN(b_num))\n",
       "        return ((a < b) ? -1 : ((a > b) ? 1 : 0));\n",
       "    else if (!isNaN(a_num) && !isNaN(b_num))\n",
       "        return ((a_num < b_num) ? -1 : ((a_num > b_num) ? 1 : 0));\n",
       "    else\n",
       "        return isNaN(a_num) ? -1 : 1;\n",
       "}\n",
       "\n",
       "require.config({paths: {\n",
       "    datatables: 'https://cdn.datatables.net/1.10.12/js/jquery.dataTables.min'\n",
       "}});\n",
       "require([\"datatables\"], function(){\n",
       "    console.log(\"$('#table140356471517296-230899').dataTable()\");\n",
       "    \n",
       "jQuery.extend( jQuery.fn.dataTableExt.oSort, {\n",
       "    \"optionalnum-asc\": astropy_sort_num,\n",
       "    \"optionalnum-desc\": function (a,b) { return -astropy_sort_num(a, b); }\n",
       "});\n",
       "\n",
       "    $('#table140356471517296-230899').dataTable({\n",
       "        order: [],\n",
       "        pageLength: 50,\n",
       "        lengthMenu: [[10, 25, 50, 100, 500, 1000, -1], [10, 25, 50, 100, 500, 1000, 'All']],\n",
       "        pagingType: \"full_numbers\",\n",
       "        columnDefs: [{targets: [0, 2, 6, 7, 8, 9, 10, 13, 14, 17, 23, 30], type: \"optionalnum\"}]\n",
       "    });\n",
       "});\n",
       "</script>\n"
      ],
      "text/plain": [
       "<IPython.core.display.HTML object>"
      ]
     },
     "execution_count": 27,
     "metadata": {},
     "output_type": "execute_result"
    }
   ],
   "source": [
    "#Get TDS field info\n",
    "tt_tds = Table.read(\"./TDS-ApJ_766_60/tds_fields_table2.ecsv\")\n",
    "print(tt_tds)\n",
    "dd_query = {\"instrument_name\":\"GALEX\",\n",
    "             \"dataproduct_type\":\"image\",\n",
    "             \"dataRights\":\"PUBLIC\",\n",
    "             \"filters\":\"NUV\",\n",
    "             \"radius\":\".02 deg\",\n",
    "             \"target_name\":tt_tds[\"name\"]}\n",
    "# \"coordinates\":tt_tds[\"coordinates\"]\n",
    "\n",
    "tt_obs = Observations.query_criteria(**dd_query)\n",
    "print(tt_obs)\n",
    "tt_obs[0:2].show_in_notebook()"
   ]
  },
  {
   "cell_type": "code",
   "execution_count": 37,
   "id": "a068ac16-7358-4194-a16a-3ed1456fc794",
   "metadata": {},
   "outputs": [
    {
     "name": "stdout",
     "output_type": "stream",
     "text": [
      "       obs_id         target_name   \n",
      "------------------- ----------------\n",
      "2592597978464124928  PS_XMMLSS_MOS00\n",
      "2592668347208302592  PS_XMMLSS_MOS01\n",
      "2592738715952480256  PS_XMMLSS_MOS02\n",
      "2592809084696657920  PS_XMMLSS_MOS03\n",
      "2592879453440835584  PS_XMMLSS_MOS04\n",
      "2592949822185013248  PS_XMMLSS_MOS05\n",
      "2593020190929190912  PS_XMMLSS_MOS06\n",
      "2593653509626789888    PS_CDFS_MOS00\n",
      "2593723878370967552    PS_CDFS_MOS01\n",
      "2593794247115145216    PS_CDFS_MOS02\n",
      "2593864615859322880    PS_CDFS_MOS03\n",
      "2593934984603500544    PS_CDFS_MOS04\n",
      "2594005353347678208    PS_CDFS_MOS05\n",
      "2594075722091855872    PS_CDFS_MOS06\n",
      "2597312684324028416 PS_ELAISN1_MOS10\n",
      "2597383053068206080 PS_ELAISN1_MOS11\n",
      "2597453421812383744 PS_ELAISN1_MOS12\n",
      "2597523790556561408 PS_ELAISN1_MOS13\n",
      "2597594159300739072 PS_ELAISN1_MOS14\n",
      "2597664528044916736 PS_ELAISN1_MOS15\n",
      "2597734896789094400 PS_ELAISN1_MOS16\n",
      "2597875634277449728 PS_VVDS22H_MOS00\n",
      "2597946003021627392 PS_VVDS22H_MOS01\n",
      "2598016371765805056 PS_VVDS22H_MOS02\n",
      "2598086740509982720 PS_VVDS22H_MOS03\n",
      "2598157109254160384 PS_VVDS22H_MOS04\n",
      "2598227477998338048 PS_VVDS22H_MOS05\n",
      "2598297846742515712 PS_VVDS22H_MOS06\n",
      "2604912508670050304  PS_COSMOS_MOS21\n",
      "2604982877414227968  PS_COSMOS_MOS22\n",
      "2605053246158405632  PS_COSMOS_MOS23\n",
      "2605123614902583296  PS_COSMOS_MOS24\n",
      "2605193983646760960  PS_COSMOS_MOS25\n",
      "2605264352416104448  PS_COSMOS_MOS26\n",
      "2605334721135116288  PS_COSMOS_MOS27\n",
      "2607023571020546048   PS_GROTH_MOS01\n",
      "2607093939764723712   PS_GROTH_MOS02\n",
      "2607164308508901376   PS_GROTH_MOS03\n",
      "2607234677253079040   PS_GROTH_MOS04\n",
      "2607305045997256704   PS_GROTH_MOS05\n",
      "2607375414741434368   PS_GROTH_MOS06\n",
      "2607445783485612032   PS_GROTH_MOS07\n"
     ]
    }
   ],
   "source": [
    "tt_obs[\"obs_id\",\"target_name\"].pprint(100)"
   ]
  },
  {
   "cell_type": "code",
   "execution_count": null,
   "id": "aa792f29-229e-4475-ab90-856a3bd32540",
   "metadata": {},
   "outputs": [],
   "source": []
  }
 ],
 "metadata": {
  "kernelspec": {
   "display_name": "Python 3 (ipykernel)",
   "language": "python",
   "name": "python3"
  },
  "language_info": {
   "codemirror_mode": {
    "name": "ipython",
    "version": 3
   },
   "file_extension": ".py",
   "mimetype": "text/x-python",
   "name": "python",
   "nbconvert_exporter": "python",
   "pygments_lexer": "ipython3",
   "version": "3.10.6"
  }
 },
 "nbformat": 4,
 "nbformat_minor": 5
}
