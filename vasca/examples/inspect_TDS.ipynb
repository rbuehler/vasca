{
 "cells": [
  {
   "cell_type": "markdown",
   "id": "59525c5b-fe82-4037-ac36-e1cd49b9ec5f",
   "metadata": {},
   "source": [
    "# Compare Time Domain Survey and VASCA catalogs"
   ]
  },
  {
   "cell_type": "markdown",
   "id": "77effa05-cbf0-4d4e-9d4e-9910b70026db",
   "metadata": {},
   "source": [
    "### Setup main notebook options"
   ]
  },
  {
   "cell_type": "code",
   "execution_count": 1,
   "id": "39b3ad40-7c4f-4047-a27f-d17843893e93",
   "metadata": {},
   "outputs": [],
   "source": [
    "region_name = \"ALL_10-800_LOOSE\" #\"TDS_ELAISN1\"  #\"ALL_10-800_LOOSE\" #\n",
    "redo_src_sel = False  # Redo source selection in dedicated cell below"
   ]
  },
  {
   "cell_type": "markdown",
   "id": "3937da23-9e0b-4c02-94be-ceb7d60f6b8a",
   "metadata": {},
   "source": [
    "### Load VASCA region"
   ]
  },
  {
   "cell_type": "code",
   "execution_count": 2,
   "id": "eeb559f1-2976-4f25-b236-35fa9e1ed538",
   "metadata": {},
   "outputs": [
    {
     "data": {
      "text/html": [
       "<div><i>Table length=2</i>\n",
       "<table id=\"table140208253566496\" class=\"table-striped table-bordered table-condensed\">\n",
       "<thead><tr><th>field_id</th><th>field_name</th><th>project</th><th>ra</th><th>dec</th><th>observatory</th><th>obs_filter</th><th>fov_diam</th><th>sel</th><th>nr_vis</th><th>time_bin_size_sum</th><th>time_start</th><th>time_stop</th><th>rg_fd_id</th></tr></thead>\n",
       "<thead><tr><th></th><th></th><th></th><th>deg</th><th>deg</th><th></th><th></th><th>deg</th><th></th><th></th><th>s</th><th>d</th><th>d</th><th></th></tr></thead>\n",
       "<thead><tr><th>bytes32</th><th>bytes32</th><th>bytes32</th><th>float64</th><th>float64</th><th>bytes22</th><th>bytes8</th><th>float32</th><th>bool</th><th>int32</th><th>float32</th><th>float64</th><th>float64</th><th>int64</th></tr></thead>\n",
       "<tr><td>GNU2509140647668088832</td><td>PKS2155m304</td><td>DIS</td><td>329.7262466081879</td><td>-30.2657589090371</td><td>GALEX</td><td>NUV</td><td>1.2</td><td>True</td><td>29</td><td>32261.951</td><td>54683.55502314815</td><td>55140.15796296296</td><td>1</td></tr>\n",
       "<tr><td>GNU2509211016412266496</td><td>HPQ_3C454p3</td><td>DIS</td><td>343.48735799747396</td><td>16.1446550539213</td><td>GALEX</td><td>NUV</td><td>1.2</td><td>True</td><td>12</td><td>10216.749</td><td>54738.00383101852</td><td>56251.395905309604</td><td>2</td></tr>\n",
       "</table></div>"
      ],
      "text/plain": [
       "<Table length=2>\n",
       "       field_id         field_name project ...     time_stop      rg_fd_id\n",
       "                                           ...         d                  \n",
       "       bytes32           bytes32   bytes32 ...      float64        int64  \n",
       "---------------------- ----------- ------- ... ------------------ --------\n",
       "GNU2509140647668088832 PKS2155m304     DIS ...  55140.15796296296        1\n",
       "GNU2509211016412266496 HPQ_3C454p3     DIS ... 56251.395905309604        2"
      ]
     },
     "metadata": {},
     "output_type": "display_data"
    }
   ],
   "source": [
    "# General path setup and library loading\n",
    "%matplotlib widget\n",
    "import matplotlib.pyplot as plt\n",
    "from scipy.stats import chi2\n",
    "import numpy as np\n",
    "\n",
    "from astropy.coordinates import SkyCoord, match_coordinates_sky\n",
    "from astropy import units as uu\n",
    "from astropy.table import Table\n",
    "from astropy.io import fits\n",
    "\n",
    "from loguru import logger\n",
    "\n",
    "from vasca.region import Region\n",
    "from vasca.field import BaseField\n",
    "from vasca.utils import sel_sources\n",
    "import vasca.visualization as vvis\n",
    "\n",
    "#Load region\n",
    "region_fname = \"./vasca_pipeline/\"+region_name+\"/region_\"+region_name+\"_cat.fits\"\n",
    "rg = Region()\n",
    "rg.load_from_fits(region_fname)\n",
    "display(rg.tt_fields[:2])\n",
    "\n",
    "#Apply source selections\n",
    "if redo_src_sel:\n",
    "    sel_vasca =  sel_sources(rg.tt_sources)\n",
    "    rg.tt_sources[\"sel\"][:]=sel_vasca   \n",
    "else:\n",
    "    sel_vasca = rg.tt_sources[\"sel\"]\n",
    "tt_vasca = rg.tt_sources[sel_vasca]"
   ]
  },
  {
   "cell_type": "markdown",
   "id": "e432b571-6e7b-4761-ba21-e4be51705742",
   "metadata": {},
   "source": [
    "### Get TDS & VASCA data and match them positionally"
   ]
  },
  {
   "cell_type": "code",
   "execution_count": 3,
   "id": "7cd24d9c-df6b-4e07-bb83-f22075473823",
   "metadata": {},
   "outputs": [
    {
     "name": "stdout",
     "output_type": "stream",
     "text": [
      "Selected 10413 out of 10413 sources\n",
      "Nr. sources VASCA/TDS : 10413 / 1078\n",
      "Nr. associated sources VASCA/TDS: 679 / 683\n",
      "Fraction of associated VASCA/TDS sources: 0.06520695284740229 / 0.6335807050092764\n"
     ]
    }
   ],
   "source": [
    "print(f\"Selected {len(tt_vasca)} out of {len(rg.tt_sources)} sources\")\n",
    "\n",
    "#Read TDS\n",
    "tt_tds_all = Table.read(\"./resources/TDS-ApJ_766_60/table4.fit\", hdu=\"J_ApJ_766_60_table4\")\n",
    "#display(tt_tds_all)\n",
    "ids = tt_tds_all[\"ID\"].data.astype(dtype=str)\n",
    "sel_elai = (np.char.find(ids, 'ELAI') > -1)\n",
    "tt_tds = tt_tds_all\n",
    "if \"ELAISN1\" in region_fname:    # restrict t ELAISN1 fields?\n",
    "    tt_tds = tt_tds_all[sel_elai]\n",
    "tt_tds['RAJ2000'].name = 'ra'\n",
    "tt_tds['DEJ2000'].name = 'dec'\n",
    "\n",
    "#Match VASCA-TDS\n",
    "pos_tds = SkyCoord(ra=tt_tds[\"ra\"], dec=tt_tds[\"dec\"], unit=\"deg\", frame=\"icrs\")\n",
    "pos_vasca = SkyCoord(ra=tt_vasca[\"ra\"], dec=tt_vasca[\"dec\"], unit=\"deg\", frame=\"icrs\")\n",
    "\n",
    "match_dist = 10 * uu.arcsec\n",
    "idx_tds, dist_tds, _ = pos_vasca.match_to_catalog_sky(pos_tds)\n",
    "tt_vasca[\"tds_recno\"]=tt_tds[idx_tds][\"recno\"]\n",
    "tt_vasca[\"tds_idx\"]=idx_tds\n",
    "tt_vasca[\"tds_dist\"]=dist_tds.to(\"arcsec\")\n",
    "tt_vasca[\"tds_match\"] = tt_vasca[\"tds_dist\"] < match_dist\n",
    "\n",
    "idx_vasca, dist_vasca, _ = pos_tds.match_to_catalog_sky(pos_vasca)\n",
    "tt_tds[\"rg_src_id\"]=tt_vasca[idx_vasca][\"rg_src_id\"]\n",
    "tt_tds[\"vasca_idx\"]=idx_vasca\n",
    "tt_tds[\"vasca_dist\"]=dist_vasca.to(\"arcsec\")\n",
    "tt_tds[\"vasca_match\"] = tt_tds[\"vasca_dist\"] < match_dist\n",
    "\n",
    "#display(\"Selected rg_src_ids\",tt_vasca[:][\"rg_src_id\"].data)\n",
    "#display(tt_tds[:2])\n",
    "\n",
    "sel_tmv = tt_tds[\"vasca_match\"]\n",
    "sel_vmt = tt_vasca[\"tds_match\"]\n",
    "print(\"Nr. sources VASCA/TDS :\",len(tt_vasca),\"/\",len(tt_tds))\n",
    "print(\"Nr. associated sources VASCA/TDS:\",sel_vmt.sum(),\"/\",sel_tmv.sum())\n",
    "print(\"Fraction of associated VASCA/TDS sources:\",sel_vmt.sum()/len(tt_vasca),\"/\",sel_tmv.sum()/len(tt_tds))"
   ]
  },
  {
   "cell_type": "code",
   "execution_count": 4,
   "id": "275db800-969e-4a69-9dff-63cd530439d5",
   "metadata": {},
   "outputs": [
    {
     "ename": "FileNotFoundError",
     "evalue": "[Errno 2] No such file or directory: './vasca_pipeline/ALL_10-800_LOOSE/fields/field_GNU2597664528044916736.fits'",
     "output_type": "error",
     "traceback": [
      "\u001b[0;31m---------------------------------------------------------------------------\u001b[0m",
      "\u001b[0;31mFileNotFoundError\u001b[0m                         Traceback (most recent call last)",
      "Cell \u001b[0;32mIn[4], line 3\u001b[0m\n\u001b[1;32m      1\u001b[0m \u001b[38;5;66;03m#PS_ELAISN1_MOS15 is field_id GNU2597664528044916736 (TDE PS1-10jh field)\u001b[39;00m\n\u001b[1;32m      2\u001b[0m field_id \u001b[38;5;241m=\u001b[39m \u001b[38;5;124m\"\u001b[39m\u001b[38;5;124mGNU2597664528044916736\u001b[39m\u001b[38;5;124m\"\u001b[39m \u001b[38;5;66;03m#rg.tt_fields[\"field_id\"][0]\u001b[39;00m\n\u001b[0;32m----> 3\u001b[0m fd \u001b[38;5;241m=\u001b[39m \u001b[43mrg\u001b[49m\u001b[38;5;241;43m.\u001b[39;49m\u001b[43mget_field\u001b[49m\u001b[43m(\u001b[49m\u001b[43mfield_id\u001b[49m\u001b[38;5;241;43m=\u001b[39;49m\u001b[43mfield_id\u001b[49m\u001b[43m,\u001b[49m\u001b[43m \u001b[49m\u001b[43mload_method\u001b[49m\u001b[38;5;241;43m=\u001b[39;49m\u001b[38;5;124;43m\"\u001b[39;49m\u001b[38;5;124;43mFITS\u001b[39;49m\u001b[38;5;124;43m\"\u001b[39;49m\u001b[43m,\u001b[49m\u001b[43m \u001b[49m\u001b[43madd_field\u001b[49m\u001b[38;5;241;43m=\u001b[39;49m\u001b[38;5;28;43;01mFalse\u001b[39;49;00m\u001b[43m)\u001b[49m\n\u001b[1;32m      5\u001b[0m fig, ax \u001b[38;5;241m=\u001b[39m vvis\u001b[38;5;241m.\u001b[39mplot_field_sky_map(fd, img_idx\u001b[38;5;241m=\u001b[39m\u001b[38;5;241m-\u001b[39m\u001b[38;5;241m1\u001b[39m, sky_region \u001b[38;5;241m=\u001b[39m fd\u001b[38;5;241m.\u001b[39mget_sky_region()) \u001b[38;5;66;03m# \u001b[39;00m\n\u001b[1;32m      6\u001b[0m ax \u001b[38;5;241m=\u001b[39m vvis\u001b[38;5;241m.\u001b[39mplot_sky_sources(rg\u001b[38;5;241m.\u001b[39mtt_sources,tt_det\u001b[38;5;241m=\u001b[39mrg\u001b[38;5;241m.\u001b[39mtt_detections, src_id\u001b[38;5;241m=\u001b[39m\u001b[38;5;124m\"\u001b[39m\u001b[38;5;124mrg_src_id\u001b[39m\u001b[38;5;124m\"\u001b[39m, sky_region_wcs \u001b[38;5;241m=\u001b[39m (fd\u001b[38;5;241m.\u001b[39mget_sky_region(),fd\u001b[38;5;241m.\u001b[39mref_wcs), draw_labels\u001b[38;5;241m=\u001b[39m\u001b[38;5;28;01mFalse\u001b[39;00m)\n",
      "File \u001b[0;32m~/Code/vasca/vasca/region.py:531\u001b[0m, in \u001b[0;36mRegion.get_field\u001b[0;34m(self, field_id, rg_fd_id, load_method, add_field, mast_products, field_kwargs)\u001b[0m\n\u001b[1;32m    529\u001b[0m \u001b[38;5;28;01melif\u001b[39;00m load_method \u001b[38;5;241m==\u001b[39m \u001b[38;5;124m\"\u001b[39m\u001b[38;5;124mFITS\u001b[39m\u001b[38;5;124m\"\u001b[39m:\n\u001b[1;32m    530\u001b[0m     fd \u001b[38;5;241m=\u001b[39m BaseField()\n\u001b[0;32m--> 531\u001b[0m     \u001b[43mfd\u001b[49m\u001b[38;5;241;43m.\u001b[39;49m\u001b[43mload_from_fits\u001b[49m\u001b[43m(\u001b[49m\u001b[38;5;28;43mself\u001b[39;49m\u001b[38;5;241;43m.\u001b[39;49m\u001b[43mregion_path\u001b[49m\u001b[43m \u001b[49m\u001b[38;5;241;43m+\u001b[39;49m\u001b[43m \u001b[49m\u001b[38;5;124;43m\"\u001b[39;49m\u001b[38;5;124;43m/fields/field_\u001b[39;49m\u001b[38;5;124;43m\"\u001b[39;49m\u001b[43m \u001b[49m\u001b[38;5;241;43m+\u001b[39;49m\u001b[43m \u001b[49m\u001b[43mfield_id\u001b[49m\u001b[43m \u001b[49m\u001b[38;5;241;43m+\u001b[39;49m\u001b[43m \u001b[49m\u001b[38;5;124;43m\"\u001b[39;49m\u001b[38;5;124;43m.fits\u001b[39;49m\u001b[38;5;124;43m\"\u001b[39;49m\u001b[43m)\u001b[49m\n\u001b[1;32m    532\u001b[0m     \u001b[38;5;28;01mif\u001b[39;00m add_field:\n\u001b[1;32m    533\u001b[0m         \u001b[38;5;28mself\u001b[39m\u001b[38;5;241m.\u001b[39mfields[field_id] \u001b[38;5;241m=\u001b[39m fd\n",
      "File \u001b[0;32m~/Code/vasca/vasca/field.py:443\u001b[0m, in \u001b[0;36mBaseField.load_from_fits\u001b[0;34m(self, file_name)\u001b[0m\n\u001b[1;32m    429\u001b[0m \u001b[38;5;28;01mdef\u001b[39;00m \u001b[38;5;21mload_from_fits\u001b[39m(\u001b[38;5;28mself\u001b[39m, file_name\u001b[38;5;241m=\u001b[39m\u001b[38;5;124m\"\u001b[39m\u001b[38;5;124mtables.fits\u001b[39m\u001b[38;5;124m\"\u001b[39m):\n\u001b[1;32m    430\u001b[0m \u001b[38;5;250m    \u001b[39m\u001b[38;5;124;03m\"\"\"\u001b[39;00m\n\u001b[1;32m    431\u001b[0m \u001b[38;5;124;03m    Loads field from a fits file and sets field attibutes.\u001b[39;00m\n\u001b[1;32m    432\u001b[0m \n\u001b[0;32m   (...)\u001b[0m\n\u001b[1;32m    441\u001b[0m \n\u001b[1;32m    442\u001b[0m \u001b[38;5;124;03m    \"\"\"\u001b[39;00m\n\u001b[0;32m--> 443\u001b[0m     \u001b[38;5;28;43msuper\u001b[39;49m\u001b[43m(\u001b[49m\u001b[43m)\u001b[49m\u001b[38;5;241;43m.\u001b[39;49m\u001b[43mload_from_fits\u001b[49m\u001b[43m(\u001b[49m\u001b[43mfile_name\u001b[49m\u001b[43m)\u001b[49m\n\u001b[1;32m    444\u001b[0m     \u001b[38;5;28mself\u001b[39m\u001b[38;5;241m.\u001b[39mset_field_attr()\n",
      "File \u001b[0;32m~/Code/vasca/vasca/tables.py:331\u001b[0m, in \u001b[0;36mTableCollection.load_from_fits\u001b[0;34m(self, file_name)\u001b[0m\n\u001b[1;32m    317\u001b[0m \u001b[38;5;250m\u001b[39m\u001b[38;5;124;03m\"\"\"\u001b[39;00m\n\u001b[1;32m    318\u001b[0m \u001b[38;5;124;03mLoads field from a fits file\u001b[39;00m\n\u001b[1;32m    319\u001b[0m \n\u001b[0;32m   (...)\u001b[0m\n\u001b[1;32m    328\u001b[0m \n\u001b[1;32m    329\u001b[0m \u001b[38;5;124;03m\"\"\"\u001b[39;00m\n\u001b[1;32m    330\u001b[0m logger\u001b[38;5;241m.\u001b[39mdebug(\u001b[38;5;124mf\u001b[39m\u001b[38;5;124m\"\u001b[39m\u001b[38;5;124mLoading file with name \u001b[39m\u001b[38;5;124m'\u001b[39m\u001b[38;5;132;01m{\u001b[39;00mfile_name\u001b[38;5;132;01m}\u001b[39;00m\u001b[38;5;124m'\u001b[39m\u001b[38;5;124m\"\u001b[39m)\n\u001b[0;32m--> 331\u001b[0m \u001b[38;5;28;01mwith\u001b[39;00m \u001b[43mfits\u001b[49m\u001b[38;5;241;43m.\u001b[39;49m\u001b[43mopen\u001b[49m\u001b[43m(\u001b[49m\u001b[43mfile_name\u001b[49m\u001b[43m)\u001b[49m \u001b[38;5;28;01mas\u001b[39;00m ff:\n\u001b[1;32m    332\u001b[0m     \u001b[38;5;66;03m# Load tables\u001b[39;00m\n\u001b[1;32m    333\u001b[0m     \u001b[38;5;66;03m# get available table names\u001b[39;00m\n\u001b[1;32m    334\u001b[0m     tt_names \u001b[38;5;241m=\u001b[39m [\n\u001b[1;32m    335\u001b[0m         hdu\u001b[38;5;241m.\u001b[39mheader[\u001b[38;5;124m\"\u001b[39m\u001b[38;5;124mEXTNAME\u001b[39m\u001b[38;5;124m\"\u001b[39m]\n\u001b[1;32m    336\u001b[0m         \u001b[38;5;28;01mfor\u001b[39;00m hdu \u001b[38;5;129;01min\u001b[39;00m ff[\u001b[38;5;241m1\u001b[39m:]\n\u001b[1;32m    337\u001b[0m         \u001b[38;5;28;01mif\u001b[39;00m hdu\u001b[38;5;241m.\u001b[39mheader[\u001b[38;5;124m\"\u001b[39m\u001b[38;5;124mEXTNAME\u001b[39m\u001b[38;5;124m\"\u001b[39m]\u001b[38;5;241m.\u001b[39mstartswith(\u001b[38;5;124m\"\u001b[39m\u001b[38;5;124mtt_\u001b[39m\u001b[38;5;124m\"\u001b[39m)\n\u001b[1;32m    338\u001b[0m     ]\n\u001b[1;32m    339\u001b[0m     \u001b[38;5;66;03m# loop over tables\u001b[39;00m\n",
      "File \u001b[0;32m~/miniforge3/envs/vas/lib/python3.10/site-packages/astropy/io/fits/hdu/hdulist.py:213\u001b[0m, in \u001b[0;36mfitsopen\u001b[0;34m(name, mode, memmap, save_backup, cache, lazy_load_hdus, ignore_missing_simple, use_fsspec, fsspec_kwargs, **kwargs)\u001b[0m\n\u001b[1;32m    210\u001b[0m \u001b[38;5;28;01mif\u001b[39;00m \u001b[38;5;129;01mnot\u001b[39;00m name:\n\u001b[1;32m    211\u001b[0m     \u001b[38;5;28;01mraise\u001b[39;00m \u001b[38;5;167;01mValueError\u001b[39;00m(\u001b[38;5;124mf\u001b[39m\u001b[38;5;124m\"\u001b[39m\u001b[38;5;124mEmpty filename: \u001b[39m\u001b[38;5;132;01m{\u001b[39;00mname\u001b[38;5;132;01m!r}\u001b[39;00m\u001b[38;5;124m\"\u001b[39m)\n\u001b[0;32m--> 213\u001b[0m \u001b[38;5;28;01mreturn\u001b[39;00m \u001b[43mHDUList\u001b[49m\u001b[38;5;241;43m.\u001b[39;49m\u001b[43mfromfile\u001b[49m\u001b[43m(\u001b[49m\n\u001b[1;32m    214\u001b[0m \u001b[43m    \u001b[49m\u001b[43mname\u001b[49m\u001b[43m,\u001b[49m\n\u001b[1;32m    215\u001b[0m \u001b[43m    \u001b[49m\u001b[43mmode\u001b[49m\u001b[43m,\u001b[49m\n\u001b[1;32m    216\u001b[0m \u001b[43m    \u001b[49m\u001b[43mmemmap\u001b[49m\u001b[43m,\u001b[49m\n\u001b[1;32m    217\u001b[0m \u001b[43m    \u001b[49m\u001b[43msave_backup\u001b[49m\u001b[43m,\u001b[49m\n\u001b[1;32m    218\u001b[0m \u001b[43m    \u001b[49m\u001b[43mcache\u001b[49m\u001b[43m,\u001b[49m\n\u001b[1;32m    219\u001b[0m \u001b[43m    \u001b[49m\u001b[43mlazy_load_hdus\u001b[49m\u001b[43m,\u001b[49m\n\u001b[1;32m    220\u001b[0m \u001b[43m    \u001b[49m\u001b[43mignore_missing_simple\u001b[49m\u001b[43m,\u001b[49m\n\u001b[1;32m    221\u001b[0m \u001b[43m    \u001b[49m\u001b[43muse_fsspec\u001b[49m\u001b[38;5;241;43m=\u001b[39;49m\u001b[43muse_fsspec\u001b[49m\u001b[43m,\u001b[49m\n\u001b[1;32m    222\u001b[0m \u001b[43m    \u001b[49m\u001b[43mfsspec_kwargs\u001b[49m\u001b[38;5;241;43m=\u001b[39;49m\u001b[43mfsspec_kwargs\u001b[49m\u001b[43m,\u001b[49m\n\u001b[1;32m    223\u001b[0m \u001b[43m    \u001b[49m\u001b[38;5;241;43m*\u001b[39;49m\u001b[38;5;241;43m*\u001b[39;49m\u001b[43mkwargs\u001b[49m\u001b[43m,\u001b[49m\n\u001b[1;32m    224\u001b[0m \u001b[43m\u001b[49m\u001b[43m)\u001b[49m\n",
      "File \u001b[0;32m~/miniforge3/envs/vas/lib/python3.10/site-packages/astropy/io/fits/hdu/hdulist.py:476\u001b[0m, in \u001b[0;36mHDUList.fromfile\u001b[0;34m(cls, fileobj, mode, memmap, save_backup, cache, lazy_load_hdus, ignore_missing_simple, **kwargs)\u001b[0m\n\u001b[1;32m    457\u001b[0m \u001b[38;5;129m@classmethod\u001b[39m\n\u001b[1;32m    458\u001b[0m \u001b[38;5;28;01mdef\u001b[39;00m \u001b[38;5;21mfromfile\u001b[39m(\n\u001b[1;32m    459\u001b[0m     \u001b[38;5;28mcls\u001b[39m,\n\u001b[0;32m   (...)\u001b[0m\n\u001b[1;32m    467\u001b[0m     \u001b[38;5;241m*\u001b[39m\u001b[38;5;241m*\u001b[39mkwargs,\n\u001b[1;32m    468\u001b[0m ):\n\u001b[1;32m    469\u001b[0m \u001b[38;5;250m    \u001b[39m\u001b[38;5;124;03m\"\"\"\u001b[39;00m\n\u001b[1;32m    470\u001b[0m \u001b[38;5;124;03m    Creates an `HDUList` instance from a file-like object.\u001b[39;00m\n\u001b[1;32m    471\u001b[0m \n\u001b[0;32m   (...)\u001b[0m\n\u001b[1;32m    474\u001b[0m \u001b[38;5;124;03m    documentation for details of the parameters accepted by this method).\u001b[39;00m\n\u001b[1;32m    475\u001b[0m \u001b[38;5;124;03m    \"\"\"\u001b[39;00m\n\u001b[0;32m--> 476\u001b[0m     \u001b[38;5;28;01mreturn\u001b[39;00m \u001b[38;5;28;43mcls\u001b[39;49m\u001b[38;5;241;43m.\u001b[39;49m\u001b[43m_readfrom\u001b[49m\u001b[43m(\u001b[49m\n\u001b[1;32m    477\u001b[0m \u001b[43m        \u001b[49m\u001b[43mfileobj\u001b[49m\u001b[38;5;241;43m=\u001b[39;49m\u001b[43mfileobj\u001b[49m\u001b[43m,\u001b[49m\n\u001b[1;32m    478\u001b[0m \u001b[43m        \u001b[49m\u001b[43mmode\u001b[49m\u001b[38;5;241;43m=\u001b[39;49m\u001b[43mmode\u001b[49m\u001b[43m,\u001b[49m\n\u001b[1;32m    479\u001b[0m \u001b[43m        \u001b[49m\u001b[43mmemmap\u001b[49m\u001b[38;5;241;43m=\u001b[39;49m\u001b[43mmemmap\u001b[49m\u001b[43m,\u001b[49m\n\u001b[1;32m    480\u001b[0m \u001b[43m        \u001b[49m\u001b[43msave_backup\u001b[49m\u001b[38;5;241;43m=\u001b[39;49m\u001b[43msave_backup\u001b[49m\u001b[43m,\u001b[49m\n\u001b[1;32m    481\u001b[0m \u001b[43m        \u001b[49m\u001b[43mcache\u001b[49m\u001b[38;5;241;43m=\u001b[39;49m\u001b[43mcache\u001b[49m\u001b[43m,\u001b[49m\n\u001b[1;32m    482\u001b[0m \u001b[43m        \u001b[49m\u001b[43mignore_missing_simple\u001b[49m\u001b[38;5;241;43m=\u001b[39;49m\u001b[43mignore_missing_simple\u001b[49m\u001b[43m,\u001b[49m\n\u001b[1;32m    483\u001b[0m \u001b[43m        \u001b[49m\u001b[43mlazy_load_hdus\u001b[49m\u001b[38;5;241;43m=\u001b[39;49m\u001b[43mlazy_load_hdus\u001b[49m\u001b[43m,\u001b[49m\n\u001b[1;32m    484\u001b[0m \u001b[43m        \u001b[49m\u001b[38;5;241;43m*\u001b[39;49m\u001b[38;5;241;43m*\u001b[39;49m\u001b[43mkwargs\u001b[49m\u001b[43m,\u001b[49m\n\u001b[1;32m    485\u001b[0m \u001b[43m    \u001b[49m\u001b[43m)\u001b[49m\n",
      "File \u001b[0;32m~/miniforge3/envs/vas/lib/python3.10/site-packages/astropy/io/fits/hdu/hdulist.py:1146\u001b[0m, in \u001b[0;36mHDUList._readfrom\u001b[0;34m(cls, fileobj, data, mode, memmap, cache, lazy_load_hdus, ignore_missing_simple, use_fsspec, fsspec_kwargs, **kwargs)\u001b[0m\n\u001b[1;32m   1143\u001b[0m \u001b[38;5;28;01mif\u001b[39;00m fileobj \u001b[38;5;129;01mis\u001b[39;00m \u001b[38;5;129;01mnot\u001b[39;00m \u001b[38;5;28;01mNone\u001b[39;00m:\n\u001b[1;32m   1144\u001b[0m     \u001b[38;5;28;01mif\u001b[39;00m \u001b[38;5;129;01mnot\u001b[39;00m \u001b[38;5;28misinstance\u001b[39m(fileobj, _File):\n\u001b[1;32m   1145\u001b[0m         \u001b[38;5;66;03m# instantiate a FITS file object (ffo)\u001b[39;00m\n\u001b[0;32m-> 1146\u001b[0m         fileobj \u001b[38;5;241m=\u001b[39m \u001b[43m_File\u001b[49m\u001b[43m(\u001b[49m\n\u001b[1;32m   1147\u001b[0m \u001b[43m            \u001b[49m\u001b[43mfileobj\u001b[49m\u001b[43m,\u001b[49m\n\u001b[1;32m   1148\u001b[0m \u001b[43m            \u001b[49m\u001b[43mmode\u001b[49m\u001b[38;5;241;43m=\u001b[39;49m\u001b[43mmode\u001b[49m\u001b[43m,\u001b[49m\n\u001b[1;32m   1149\u001b[0m \u001b[43m            \u001b[49m\u001b[43mmemmap\u001b[49m\u001b[38;5;241;43m=\u001b[39;49m\u001b[43mmemmap\u001b[49m\u001b[43m,\u001b[49m\n\u001b[1;32m   1150\u001b[0m \u001b[43m            \u001b[49m\u001b[43mcache\u001b[49m\u001b[38;5;241;43m=\u001b[39;49m\u001b[43mcache\u001b[49m\u001b[43m,\u001b[49m\n\u001b[1;32m   1151\u001b[0m \u001b[43m            \u001b[49m\u001b[43muse_fsspec\u001b[49m\u001b[38;5;241;43m=\u001b[39;49m\u001b[43muse_fsspec\u001b[49m\u001b[43m,\u001b[49m\n\u001b[1;32m   1152\u001b[0m \u001b[43m            \u001b[49m\u001b[43mfsspec_kwargs\u001b[49m\u001b[38;5;241;43m=\u001b[39;49m\u001b[43mfsspec_kwargs\u001b[49m\u001b[43m,\u001b[49m\n\u001b[1;32m   1153\u001b[0m \u001b[43m        \u001b[49m\u001b[43m)\u001b[49m\n\u001b[1;32m   1154\u001b[0m     \u001b[38;5;66;03m# The Astropy mode is determined by the _File initializer if the\u001b[39;00m\n\u001b[1;32m   1155\u001b[0m     \u001b[38;5;66;03m# supplied mode was None\u001b[39;00m\n\u001b[1;32m   1156\u001b[0m     mode \u001b[38;5;241m=\u001b[39m fileobj\u001b[38;5;241m.\u001b[39mmode\n",
      "File \u001b[0;32m~/miniforge3/envs/vas/lib/python3.10/site-packages/astropy/io/fits/file.py:217\u001b[0m, in \u001b[0;36m_File.__init__\u001b[0;34m(self, fileobj, mode, memmap, overwrite, cache, use_fsspec, fsspec_kwargs)\u001b[0m\n\u001b[1;32m    215\u001b[0m     \u001b[38;5;28mself\u001b[39m\u001b[38;5;241m.\u001b[39m_open_fileobj(fileobj, mode, overwrite)\n\u001b[1;32m    216\u001b[0m \u001b[38;5;28;01melif\u001b[39;00m \u001b[38;5;28misinstance\u001b[39m(fileobj, (\u001b[38;5;28mstr\u001b[39m, \u001b[38;5;28mbytes\u001b[39m)):\n\u001b[0;32m--> 217\u001b[0m     \u001b[38;5;28;43mself\u001b[39;49m\u001b[38;5;241;43m.\u001b[39;49m\u001b[43m_open_filename\u001b[49m\u001b[43m(\u001b[49m\u001b[43mfileobj\u001b[49m\u001b[43m,\u001b[49m\u001b[43m \u001b[49m\u001b[43mmode\u001b[49m\u001b[43m,\u001b[49m\u001b[43m \u001b[49m\u001b[43moverwrite\u001b[49m\u001b[43m)\u001b[49m\n\u001b[1;32m    218\u001b[0m \u001b[38;5;28;01melse\u001b[39;00m:\n\u001b[1;32m    219\u001b[0m     \u001b[38;5;28mself\u001b[39m\u001b[38;5;241m.\u001b[39m_open_filelike(fileobj, mode, overwrite)\n",
      "File \u001b[0;32m~/miniforge3/envs/vas/lib/python3.10/site-packages/astropy/io/fits/file.py:626\u001b[0m, in \u001b[0;36m_File._open_filename\u001b[0;34m(self, filename, mode, overwrite)\u001b[0m\n\u001b[1;32m    623\u001b[0m ext \u001b[38;5;241m=\u001b[39m os\u001b[38;5;241m.\u001b[39mpath\u001b[38;5;241m.\u001b[39msplitext(\u001b[38;5;28mself\u001b[39m\u001b[38;5;241m.\u001b[39mname)[\u001b[38;5;241m1\u001b[39m]\n\u001b[1;32m    625\u001b[0m \u001b[38;5;28;01mif\u001b[39;00m \u001b[38;5;129;01mnot\u001b[39;00m \u001b[38;5;28mself\u001b[39m\u001b[38;5;241m.\u001b[39m_try_read_compressed(\u001b[38;5;28mself\u001b[39m\u001b[38;5;241m.\u001b[39mname, magic, mode, ext\u001b[38;5;241m=\u001b[39mext):\n\u001b[0;32m--> 626\u001b[0m     \u001b[38;5;28mself\u001b[39m\u001b[38;5;241m.\u001b[39m_file \u001b[38;5;241m=\u001b[39m \u001b[38;5;28;43mopen\u001b[39;49m\u001b[43m(\u001b[49m\u001b[38;5;28;43mself\u001b[39;49m\u001b[38;5;241;43m.\u001b[39;49m\u001b[43mname\u001b[49m\u001b[43m,\u001b[49m\u001b[43m \u001b[49m\u001b[43mIO_FITS_MODES\u001b[49m\u001b[43m[\u001b[49m\u001b[43mmode\u001b[49m\u001b[43m]\u001b[49m\u001b[43m)\u001b[49m\n\u001b[1;32m    627\u001b[0m     \u001b[38;5;28mself\u001b[39m\u001b[38;5;241m.\u001b[39mclose_on_error \u001b[38;5;241m=\u001b[39m \u001b[38;5;28;01mTrue\u001b[39;00m\n\u001b[1;32m    629\u001b[0m \u001b[38;5;66;03m# Make certain we're back at the beginning of the file\u001b[39;00m\n\u001b[1;32m    630\u001b[0m \u001b[38;5;66;03m# BZ2File does not support seek when the file is open for writing, but\u001b[39;00m\n\u001b[1;32m    631\u001b[0m \u001b[38;5;66;03m# when opening a file for write, bz2.BZ2File always truncates anyway.\u001b[39;00m\n",
      "\u001b[0;31mFileNotFoundError\u001b[0m: [Errno 2] No such file or directory: './vasca_pipeline/ALL_10-800_LOOSE/fields/field_GNU2597664528044916736.fits'"
     ]
    }
   ],
   "source": [
    "#PS_ELAISN1_MOS15 is field_id GNU2597664528044916736 (TDE PS1-10jh field)\n",
    "field_id = \"GNU2597664528044916736\" #rg.tt_fields[\"field_id\"][0]\n",
    "fd = rg.get_field(field_id=field_id, load_method=\"FITS\", add_field=False)\n",
    "\n",
    "fig, ax = vvis.plot_field_sky_map(fd, img_idx=-1, sky_region = fd.get_sky_region()) # \n",
    "ax = vvis.plot_sky_sources(rg.tt_sources,tt_det=rg.tt_detections, src_id=\"rg_src_id\", sky_region_wcs = (fd.get_sky_region(),fd.ref_wcs), draw_labels=False)\n",
    "\n",
    "plot_tds = {\"marker\":\"x\",\"color\":\"k\"}\n",
    "ax = vvis.plot_sky_sources(tt_tds,  src_id=\"recno\",src_kwargs=plot_tds, sky_region_wcs = (fd.get_sky_region(),fd.ref_wcs), draw_labels=False) #"
   ]
  },
  {
   "cell_type": "code",
   "execution_count": null,
   "id": "b7ffc452-4cfe-44e8-9c33-97776359aa57",
   "metadata": {},
   "outputs": [],
   "source": []
  }
 ],
 "metadata": {
  "kernelspec": {
   "display_name": "Python 3 (ipykernel)",
   "language": "python",
   "name": "python3"
  },
  "language_info": {
   "codemirror_mode": {
    "name": "ipython",
    "version": 3
   },
   "file_extension": ".py",
   "mimetype": "text/x-python",
   "name": "python",
   "nbconvert_exporter": "python",
   "pygments_lexer": "ipython3",
   "version": "3.10.12"
  }
 },
 "nbformat": 4,
 "nbformat_minor": 5
}
