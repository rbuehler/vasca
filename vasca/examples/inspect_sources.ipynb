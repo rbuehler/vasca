{
 "cells": [
  {
   "cell_type": "markdown",
   "id": "c0fd65f4-8d6a-45e8-96b6-a972fe024459",
   "metadata": {},
   "source": [
    "# Inspect source light curves and skymaps"
   ]
  },
  {
   "cell_type": "markdown",
   "id": "8ba66aa5-9d87-4681-a429-74b92c9bfeee",
   "metadata": {},
   "source": [
    "### Setup main notebook options"
   ]
  },
  {
   "cell_type": "code",
   "execution_count": 1,
   "id": "d73f0bca-43f4-4d59-91b3-c07bdbf960fe",
   "metadata": {
    "tags": []
   },
   "outputs": [],
   "source": [
    "region_name = \"ALL_10-800_LOOSE\"  #\"TDS\" #\"CAINGSGII_10-800\"  #\"TDS\" #\"WD\" #\"MDIS_10-800\" # \"TDS_ELAISN1\"\n",
    "region_fname = \"./vasca_pipeline/\"+region_name+\"/region_\"+region_name+\"_cat.fits\"\n",
    "show_skymaps = False\n",
    "show_sed = True\n",
    "show_LS = True\n",
    "load_src_from_file = False\n",
    "lc_block_srcs = 5 #Setup light curve plotting parameters\n",
    "\n",
    "#srcs_ids = [2996 ,11821 ,55034 ,61491 ,64360 ,73354 ,76243 ,92867 ,104078 ,106745 ,124860 ,162490 ,182622 ,199884 ,226975 ,267514 ,588567 ,599887 ,789511 ,814134 ,] # WD and candidates, including GAIA info\n",
    "srcs_ids = []\n",
    "srcs_ids = [4993 ,13580 ,14504 ,30475 ,50388 ,52994 ,79477 ,120265 ,138783 ,139480 ,162697 ,204419 ,221349 ,228958 ,236839 ,253214 ,253670\n",
    "            ,256433 ,261213 ,331466 ,340464 ,381336 ,390864 ,489430 ,498065 ,525310 ,532554 ,533185 ,540235 ,583838 ,639720 ,645215 ,645730\n",
    "            ,659787 ,666224 ,673175 ,680119 ,691408 ,714140 ,764827 ,1037284 ,1069077 ,1070938 ,1805505 ,1839206 ,2527679 ,3074917 ,] # WD ALL_10-800-LOOSE"
   ]
  },
  {
   "cell_type": "code",
   "execution_count": 2,
   "id": "250fba4b-1add-4439-81d7-3e282470e4d8",
   "metadata": {},
   "outputs": [
    {
     "name": "stdout",
     "output_type": "stream",
     "text": [
      "Nr sources: 10413 selected: 10413\n"
     ]
    },
    {
     "name": "stderr",
     "output_type": "stream",
     "text": [
      "WARNING: UnitsWarning: 'log(cm.s**-2)' did not parse as fits unit: 'log' is not a recognized function If this is meant to be a custom unit, define it with 'u.def_unit'. To have it recognized inside a file reader or other code, enable it with 'u.add_enabled_units'. For details, see https://docs.astropy.org/en/latest/units/combining_and_defining.html [astropy.units.core]\n"
     ]
    }
   ],
   "source": [
    "%matplotlib widget\n",
    "import ipywidgets as widgets\n",
    "from IPython.display import display\n",
    "import matplotlib.pyplot as plt\n",
    "\n",
    "import warnings\n",
    "#warnings.filterwarnings('ignore')\n",
    "\n",
    "from regions import CircleSkyRegion\n",
    "from astropy import units as uu\n",
    "from astropy.coordinates import SkyCoord\n",
    "from astropy.wcs.utils import pixel_to_skycoord\n",
    "from astropy.table import Table\n",
    "import numpy as np\n",
    "\n",
    "from vasca.region import Region\n",
    "from vasca.field import BaseField\n",
    "import vasca.visualization as vvis\n",
    "\n",
    "from vasca.utils import mag2flux, sel_sources, dd_filter2id\n",
    "\n",
    "from astroquery.gaia import Gaia\n",
    "from astropy.coordinates import SkyCoord\n",
    "\n",
    "#Load region\n",
    "rg = Region()\n",
    "rg.load_from_fits(region_fname)\n",
    "\n",
    "print(\"Nr sources:\",len(rg.tt_sources),\"selected:\",rg.tt_sources[\"sel\"].sum())\n",
    "    \n",
    "#Subselect sources based on choice\n",
    "if len(srcs_ids)>0:\n",
    "    rg.tt_sources.add_index(\"rg_src_id\")\n",
    "    idx_srcs = rg.tt_sources.loc_indices[\"rg_src_id\", srcs_ids]\n",
    "    tt_srcs = Table(rg.tt_sources[idx_srcs])\n",
    "else:\n",
    "    tt_srcs = rg.tt_sources\n",
    "\n",
    "nr_srcs = len(tt_srcs)\n",
    "tt_srcs.add_index(\"rg_src_id\")\n",
    "#display(tt_srcs)"
   ]
  },
  {
   "cell_type": "markdown",
   "id": "23df4759-a6cd-462d-8fa6-dcd4c14bd395",
   "metadata": {},
   "source": [
    "### Show all info for one source"
   ]
  },
  {
   "cell_type": "code",
   "execution_count": 3,
   "id": "4e438a82-e94a-43c6-89ce-49862abc76dc",
   "metadata": {},
   "outputs": [
    {
     "data": {
      "application/vnd.jupyter.widget-view+json": {
       "model_id": "2a41068743b041e7bc702a664439fc2d",
       "version_major": 2,
       "version_minor": 0
      },
      "text/plain": [
       "interactive(children=(Dropdown(description='rg_src_id', options=(4993, 13580, 14504, 30475, 50388, 52994, 7947…"
      ]
     },
     "execution_count": 3,
     "metadata": {},
     "output_type": "execute_result"
    }
   ],
   "source": [
    "#Define displayed tables and columns\n",
    "disp_tt_sources = ['ra','dec','rg_src_id','flux_cpval','nr_det','pos_err','pos_xv','pos_cpval','pos_rchiq','coadd_src_id','coadd_dist','obs_filter_id','flux','flux_err','flux_nxv','flux_rchiq','coadd_ffactor',\n",
    "                   'coadd_fdiff_s2n','nr_fd_srcs','hr','hr_err'] #'fd_src_id','rg_fd_id,,'pos_var','flux_var','sel', ,'simbad_match_id','gaiadr3_match_id'\n",
    "disp_tt_simbad = ['ogrp','otypes','main_id','otype','ra','dec','ra_prec','dec_prec','coo_err_maja','coo_err_mina','coo_err_angle','coo_qual','coo_wavelength','coo_bibcode','distance_distance','distance_q','distance_unit',\n",
    "                  'distance_merr','distance_perr','distance_method','distance_bibcode','match_distance','rvz_type','rvz_radvel','rvz_error','rvz_qual','rvz_wavelength','rvz_bibcode','z_value','sp_type','sp_qual',\n",
    "                  'sp_bibcode','simbad_match_id'] #,'rg_src_id',,'script_number_id'\n",
    "disp_tt_gaiadr3 = ['ogrp','Gmag_abs','BP-RP','ra','dec','Source','e_RA_ICRS','e_DE_ICRS','Plx','e_Plx','PM','pmRA','e_pmRA','pmDE','e_pmDE','RUWE','FG','e_FG','Gmag','FBP','e_FBP','BPmag','FRP','e_FRP','RPmag','RV','e_RV',\n",
    "                   'Vbroad','GRVSmag','QSO','Gal','NSS','XPcont','XPsamp','RVS','EpochPh','EpochRV','MCMCGSP','MCMCMSC','And','Teff','logg','__Fe_H_','Dist','A0','HIP','PS1','SDSS13','SKYM2','TYC2','URAT1','AllWISE','APASS9',\n",
    "                   'GSC23','RAVE5','_2MASS','RAVE6','RAJ2000','DEJ2000','PQSO','PGal','PSS','RPlx','match_distance','gaiadr3_match_id'] #,'_q',,'rg_src_id'\n",
    "dd_tab_col = {\"tt_sources\":disp_tt_sources, \"tt_simbad\":disp_tt_simbad, \"tt_gaiadr3\":disp_tt_gaiadr3}\n",
    "\n",
    "def display_src_info(rg_src_id=0):\n",
    "\n",
    "    #Get source\n",
    "    tc_src = rg.get_src_from_id(rg_src_id, load_from_file = load_src_from_file, add_sed=show_sed,add_gphoton=False, add_spectrum=show_sed)\n",
    "\n",
    "    #Prepare figure\n",
    "\n",
    "    fig, axs = plt.subplots(1,2,figsize=(20, 6),squeeze=True, num=\"Source ID \" + str(rg_src_id), clear=True, gridspec_kw={'width_ratios': [2, 1]})\n",
    "    axs = axs.flatten()\n",
    "    \n",
    "    #Plot light curve und SED\n",
    "    vvis.plot_light_curve(tc_src, ax = axs[0]) #\n",
    "    if show_sed:\n",
    "        vvis.plot_sed(tc_src,ax = axs[1])\n",
    "    plt.show()\n",
    "\n",
    "    #If lomb scargle present and signal is at more than 3 sigma plot it too\n",
    "    if show_LS or tc_src.tt_lombscargle[\"ls_peak_pval\"] < 0.002699796063:\n",
    "        fig_ls, axs_ls = plt.subplots(2,2,figsize=(15, 10),squeeze=True, num=\"LS \" + str(rg_src_id), clear=True)\n",
    "        axs_ls = axs_ls.flatten()\n",
    "        vvis.plot_lombscargle(tc_src.tt_source_lc, ax=axs_ls[0], ax_phase = axs_ls[1]) #, ax_lc = axs[0]\n",
    "        vvis.plot_lombscargle(tc_src.tt_source_lc, ax=axs_ls[2],obs_filter=\"FUV\", ax_phase = axs_ls[3])\n",
    "        plt.show()\n",
    "        if \"tt_lombscargle\" in tc_src._table_names:\n",
    "            print(\"\\n tt_lombscargle :\")\n",
    "            display(tc_src.tt_lombscargle)\n",
    "\n",
    "    for table_name, col_names in dd_tab_col.items():\n",
    "        if table_name in tc_src._table_names:\n",
    "            print(\"\\n\",table_name,\":\")\n",
    "            display(tc_src.__dict__[table_name][col_names])\n",
    "    display(tc_src.tt_fields)\n",
    "\n",
    "\n",
    "    \n",
    "    #tc_src.tt_sed.pprint_all()\n",
    "\n",
    "widgets.interactive(display_src_info, rg_src_id=tt_srcs[\"rg_src_id\"])\n",
    "#2572986 specially clear example"
   ]
  },
  {
   "cell_type": "markdown",
   "id": "e7a1fe03-a8a7-4936-83ce-5f1a81b6c20f",
   "metadata": {},
   "source": [
    "### Draw light curves"
   ]
  },
  {
   "cell_type": "code",
   "execution_count": 4,
   "id": "b4b6f33c-ac4d-4467-a780-804bee76b0dd",
   "metadata": {
    "jupyter": {
     "source_hidden": true
    }
   },
   "outputs": [
    {
     "data": {
      "application/vnd.jupyter.widget-view+json": {
       "model_id": "a0f617017141412db015af4748e674b3",
       "version_major": 2,
       "version_minor": 0
      },
      "text/plain": [
       "interactive(children=(IntSlider(value=4, description='block_nr', max=9), Output()), _dom_classes=('widget-inte…"
      ]
     },
     "execution_count": 4,
     "metadata": {},
     "output_type": "execute_result"
    }
   ],
   "source": [
    "nr_blocks = int(nr_srcs/lc_block_srcs)+1 \n",
    "def plot_lc_range(block_nr):\n",
    "    fig_lc = plt.figure(\"Light curves\",figsize=(10, 9), clear=True)\n",
    "    lc_min = lc_block_srcs * block_nr\n",
    "    lc_max = lc_min + lc_block_srcs if lc_min + lc_block_srcs<=nr_srcs-1 else nr_srcs\n",
    "    vvis.plot_light_curves(rg,fig=fig_lc, rg_src_ids = tt_srcs[\"rg_src_id\"][lc_min:lc_max], ylim = [1.2,550])\n",
    "    plt.show()\n",
    "    #display(tt_srcs[lc_min:lc_max]) #[show_lc_pars]\n",
    "widgets.interactive( plot_lc_range, block_nr=(0,nr_blocks-1))"
   ]
  },
  {
   "cell_type": "markdown",
   "id": "1ef453ca-db09-45cf-b4fd-fb8bf284ca2e",
   "metadata": {},
   "source": [
    "### Plot skymaps for one source"
   ]
  },
  {
   "cell_type": "code",
   "execution_count": 5,
   "id": "c038cd88-42e8-4897-a277-bbf207f4c930",
   "metadata": {
    "jupyter": {
     "source_hidden": true
    },
    "tags": []
   },
   "outputs": [],
   "source": [
    "def plot_sky_src(rg_src_id=0, fd_idx=0, vis_idx = -1):\n",
    "    \n",
    "    #Check if src_id exists\n",
    "    if rg_src_id not in tt_srcs[\"rg_src_id\"]:\n",
    "        print(\"Source ID does not exist\") \n",
    "        return\n",
    "    \n",
    "    #Get source and check id field index out of range\n",
    "    tc_src = rg.get_src_from_id(rg_src_id)\n",
    "    if fd_idx > len(tc_src.tt_fields)-1:\n",
    "        print(\"Field index out of range\") \n",
    "        return\n",
    "    \n",
    "    #Get field to plot and check if visit index out of range\n",
    "    rg_fd_id = tc_src.tt_fields[fd_idx][\"rg_fd_id\"]\n",
    "    fd_src = rg.get_field(rg_fd_id=rg_fd_id, load_method=\"FITS\", add_field=True)\n",
    "    if vis_idx > len(fd_src.tt_visits)-1:\n",
    "        print(\"Visit index out of range\") \n",
    "        return\n",
    "\n",
    "    fig_src = plt.figure(\"Sky map source\",figsize=(8, 7), clear=True)\n",
    "\n",
    "    #Get sky region of source\n",
    "    sky_center = SkyCoord(tc_src.tt_sources[0][\"ra\"]*uu.deg, tc_src.tt_sources[0][\"dec\"]*uu.deg, frame=\"icrs\")\n",
    "    sky_region_src = CircleSkyRegion(center=sky_center, radius=0.3*uu.arcmin)\n",
    "     \n",
    "    #Plot\n",
    "    plt.cla()\n",
    "    ax_src, wcs_src = vvis.plot_field_sky_map(fd_src, img_idx=vis_idx, sky_region = sky_region_src, fig=fig_src) #\n",
    "    \n",
    "    #If displaying visits, onle show detections in that visit\n",
    "    sel_det_rg = np.ones(len(rg.tt_detections), dtype=bool)\n",
    "    sel_det_src = np.ones(len(tc_src.tt_detections), dtype=bool)\n",
    "    \n",
    "    # Preselt field detections, can be removed in the future\n",
    "    #fd_src.tt_detections = fd_src.tt_detections[fd_src.tt_detections[\"s2n\"]>0]\n",
    "    \n",
    "    sel_det_fd = np.ones(len(fd_src.tt_detections), dtype=bool)\n",
    "    if vis_idx > -1:\n",
    "        vis_id = fd_src.tt_visits[\"vis_id\"][vis_idx]\n",
    "        sel_det_rg = (rg.tt_detections[\"vis_id\"]==vis_id) * (rg.tt_detections[\"obs_filter_id\"]==dd_filter2id[fd_src.obs_filter])\n",
    "        sel_det_src = (tc_src.tt_detections[\"vis_id\"]==vis_id) * (tc_src.tt_detections[\"obs_filter_id\"]==dd_filter2id[fd_src.obs_filter])\n",
    "\n",
    "        fd_det_coords = SkyCoord(fd_src.tt_detections[\"ra\"][sel_det_fd], fd_src.tt_detections[\"dec\"][sel_det_fd], frame=\"icrs\")\n",
    "        sel_det_fd = ( (fd_src.tt_detections[\"vis_id\"] == vis_id)\n",
    "                     * (fd_src.tt_detections[\"obs_filter_id\"] == dd_filter2id[fd_src.obs_filter])\n",
    "                     * sky_region_src.contains(fd_det_coords, wcs_src))\n",
    "        \n",
    "    #Show sources\n",
    "    plt_ref_src_kwargs = {\"marker\": \"x\",\"markersize\": 10,\"color\":\"yellow\"}\n",
    "    _ = vvis.plot_sky_sources(rg.tt_sources,tt_det=rg.tt_detections[sel_det_rg], sky_region_wcs = (sky_region_src,wcs_src),only_selected=False) #\n",
    "    _ = vvis.plot_sky_sources(rg.tt_coadd_sources,tt_det=None, sky_region_wcs = (sky_region_src,wcs_src),only_selected=False, src_id=\"coadd_src_id\", src_kwargs = plt_ref_src_kwargs)\n",
    "    if vis_idx > -1:\n",
    "        plot_tds = {\"marker\":\"x\",\"color\":\"green\"}\n",
    "        _ = vvis.plot_sky_sources(fd_src.tt_detections[sel_det_fd],src_kwargs=plot_tds, sky_region_wcs = (sky_region_src,wcs_src),  src_id=\"det_id\",only_selected=False)\n",
    "    plt.show()\n",
    "\n",
    "    # Display sources only for the shown field\n",
    "    #fd_src_id = rg.tt_src_id_map[sel_fd_src][\"fd_src_id\"][0]\n",
    "    if vis_idx > -1:\n",
    "        print(\"\\nAll detections for this visit in the field:\")\n",
    "        display(fd_src.tt_detections[sel_det_fd])\n",
    "    \n",
    "#Decide which sources to show\n",
    "list_srcs = tt_srcs[\"rg_src_id\"]\n",
    "if len(srcs_ids)>0:\n",
    "    list_srcs = srcs_ids\n",
    "\n",
    "if show_skymaps:\n",
    "    widget = widgets.interactive( plot_sky_src, rg_src_id=list_srcs,\n",
    "                        fd_idx=widgets.IntSlider(min=0, max=10, value=0, step=1),\n",
    "                        vis_idx = widgets.IntSlider(min=-1, max=100, value=-1, step=1)) #visprob_srcids = [1669,1801,2815,3776,4338,6137,] \n",
    "    \n",
    "    controls = widgets.HBox(widget.children[:-1], layout = widgets.Layout(flex_flow='row wrap'))\n",
    "    output = widget.children[-1]\n",
    "    display(widgets.VBox([controls, output]))\n",
    "    # straight NUV, dashed FUV"
   ]
  },
  {
   "cell_type": "markdown",
   "id": "20ff40c6-d108-4925-b04d-f85e3dd5f663",
   "metadata": {},
   "source": [
    "### Draw sky maps of entire fields"
   ]
  },
  {
   "cell_type": "code",
   "execution_count": 6,
   "id": "aaa5317e-41b7-47fe-9dca-29ae84bc127b",
   "metadata": {
    "jupyter": {
     "source_hidden": true
    },
    "tags": []
   },
   "outputs": [],
   "source": [
    "def plot_sky_field(rg_fd_id):\n",
    "    if rg_fd_id not in rg.tt_fields[\"rg_fd_id\"]:\n",
    "        print(\"source ID does not exist\") \n",
    "        return\n",
    "    fig_skymap = plt.figure(\"Sky map\",figsize=(9, 8), clear=True) #, constrained_layout=True\n",
    "    fd = rg.get_field(rg_fd_id=rg_fd_id, load_method=\"FITS\", add_field=True)\n",
    "    ax, wcs = vvis.plot_field_sky_map(fd, img_idx=-1, sky_region = fd.get_sky_region(),fig=fig_skymap) # \n",
    "    ax, tt_src_shown = vvis.plot_sky_sources(rg.tt_sources,tt_det=rg.tt_detections, sky_region_wcs = (fd.get_sky_region(),wcs),only_selected=True) # \n",
    "    plt.show()\n",
    "    #display(tt_src_shown) #[show_map_pars]\n",
    "if show_skymaps: \n",
    "    widgets.interactive(plot_sky_field, rg_fd_id=rg.tt_fields[\"rg_fd_id\"])"
   ]
  },
  {
   "cell_type": "code",
   "execution_count": 7,
   "id": "22812e30-f572-4316-8360-7c239c95c6d2",
   "metadata": {},
   "outputs": [
    {
     "name": "stdout",
     "output_type": "stream",
     "text": [
      "[1 2 3] [0.66666667 0.33333333 0.        ]\n"
     ]
    }
   ],
   "source": [
    "a = np.array([1,2,3])\n",
    "b = (a%1.5)/1.5\n",
    "print(a,b)"
   ]
  },
  {
   "cell_type": "code",
   "execution_count": null,
   "id": "dfbcff50-c3f0-45ba-adab-d2e915c017ad",
   "metadata": {},
   "outputs": [],
   "source": []
  }
 ],
 "metadata": {
  "kernelspec": {
   "display_name": "Python 3 (ipykernel)",
   "language": "python",
   "name": "python3"
  },
  "language_info": {
   "codemirror_mode": {
    "name": "ipython",
    "version": 3
   },
   "file_extension": ".py",
   "mimetype": "text/x-python",
   "name": "python",
   "nbconvert_exporter": "python",
   "pygments_lexer": "ipython3",
   "version": "3.10.12"
  }
 },
 "nbformat": 4,
 "nbformat_minor": 5
}
