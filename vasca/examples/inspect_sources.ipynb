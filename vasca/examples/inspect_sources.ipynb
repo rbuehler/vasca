{
 "cells": [
  {
   "cell_type": "markdown",
   "id": "c0fd65f4-8d6a-45e8-96b6-a972fe024459",
   "metadata": {},
   "source": [
    "# Inspect source light curves and skymaps"
   ]
  },
  {
   "cell_type": "markdown",
   "id": "8ba66aa5-9d87-4681-a429-74b92c9bfeee",
   "metadata": {},
   "source": [
    "### Setup main notebook options"
   ]
  },
  {
   "cell_type": "code",
   "execution_count": 1,
   "id": "d73f0bca-43f4-4d59-91b3-c07bdbf960fe",
   "metadata": {
    "tags": []
   },
   "outputs": [],
   "source": [
    "region_name = \"ALL_10-800\"  #\"TDS\" #\"CAINGSGII_10-800\"  #\"TDS\" #\"WD\" #\"MDIS_10-800\" # \"TDS\" # _ELAISN1\n",
    "region_fname = \"./vasca_pipeline/\"+region_name+\"/region_\"+region_name+\"_cat.fits\"\n",
    "show_skymaps = False\n",
    "load_src_from_file = True\n",
    "lc_block_srcs = 5 #Setup light curve plotting parameters\n",
    "\n",
    "srcs_ids = [2996 ,11821 ,55034 ,61491 ,64360 ,73354 ,76243 ,92867 ,104078 ,106745 ,124860 ,162490 ,182622 ,199884 ,226975 ,267514 ,588567 ,599887 ,789511 ,814134 ,] # WD and candidates, including GAIA info\n",
    "#srrcs_ids = []"
   ]
  },
  {
   "cell_type": "code",
   "execution_count": 2,
   "id": "250fba4b-1add-4439-81d7-3e282470e4d8",
   "metadata": {},
   "outputs": [
    {
     "name": "stdout",
     "output_type": "stream",
     "text": [
      "Nr sources: 7043 selected: 7043\n"
     ]
    },
    {
     "data": {
      "text/html": [
       "<div><i>Table length=20</i>\n",
       "<table id=\"table139856339665632\" class=\"table-striped table-bordered table-condensed\">\n",
       "<thead><tr><th>fd_src_id</th><th>nr_det</th><th>ra</th><th>dec</th><th>pos_err</th><th>pos_xv</th><th>pos_var</th><th>pos_cpval</th><th>pos_rchiq</th><th>coadd_src_id</th><th>coadd_dist</th><th>obs_filter_id</th><th>sel</th><th>flux</th><th>flux_err</th><th>flux_nxv</th><th>flux_var</th><th>flux_cpval</th><th>flux_rchiq</th><th>coadd_ffactor</th><th>coadd_fdiff_s2n</th><th>rg_fd_id</th><th>rg_src_id</th><th>nr_fd_srcs</th><th>hr</th><th>hr_err</th><th>simbad_match_id</th><th>gaiadr3_match_id</th></tr></thead>\n",
       "<thead><tr><th></th><th></th><th>deg</th><th>deg</th><th>arcsec</th><th>arcsec2</th><th>arcsec2</th><th></th><th></th><th></th><th>arcsec</th><th></th><th></th><th>1e-06 Jy</th><th>1e-06 Jy</th><th></th><th>1e-12 Jy2</th><th></th><th></th><th></th><th></th><th></th><th></th><th></th><th></th><th></th><th></th><th></th></tr></thead>\n",
       "<thead><tr><th>int32</th><th>int32[2]</th><th>float64</th><th>float64</th><th>float32</th><th>float32</th><th>float32</th><th>float32</th><th>float32</th><th>int64</th><th>float32</th><th>int32[2]</th><th>bool</th><th>float32[2]</th><th>float32[2]</th><th>float32[2]</th><th>float32[2]</th><th>float32[2]</th><th>float32[2]</th><th>float32[2]</th><th>float32[2]</th><th>int64</th><th>int32</th><th>int32</th><th>float32</th><th>float32</th><th>int32</th><th>int32</th></tr></thead>\n",
       "<tr><td>-1</td><td>65 .. 36</td><td>35.241813178245486</td><td>-5.326812482874275</td><td>0.06617177</td><td>-0.32326788</td><td>0.14221312</td><td>1.0</td><td>0.27839538</td><td>622</td><td>0.12558194</td><td>1 .. 2</td><td>True</td><td>15.8891325 .. 6.6866865</td><td>0.10949657 .. 0.14540422</td><td>0.01734488 .. 0.019145919</td><td>5.311681 .. 1.7715347</td><td>0.0 .. 0.00011943624</td><td>6.787512 .. 2.1231346</td><td>0.9856447 .. 1.2130626</td><td>-1.6013261 .. 1.3778348</td><td>-1</td><td>2996</td><td>6</td><td>0.40279025</td><td>0.009472339</td><td>114</td><td>97</td></tr>\n",
       "<tr><td>-1</td><td>43 .. 3</td><td>160.9862831040312</td><td>58.125564453570256</td><td>0.074825816</td><td>-0.0422247</td><td>0.21750309</td><td>0.09029268</td><td>0.8487536</td><td>41397</td><td>0.08939208</td><td>1 .. 2</td><td>True</td><td>200.61133 .. 207.43813</td><td>0.38346985 .. 2.5625901</td><td>0.058434997 .. 0.021001792</td><td>2359.211 .. 923.80865</td><td>0.0 .. 7.736314e-22</td><td>293.03583 .. 48.610947</td><td>0.98173904 .. 1.3655044</td><td>-6.452764 .. 20.112865</td><td>-1</td><td>11821</td><td>4</td><td>1.2079993</td><td>0.017565036</td><td>304</td><td>287</td></tr>\n",
       "<tr><td>-1</td><td>14 .. 4</td><td>348.90357602965054</td><td>19.41375292102418</td><td>0.12961677</td><td>-0.16667423</td><td>0.1757124</td><td>0.9601939</td><td>0.38698718</td><td>95103</td><td>0.1253812</td><td>1 .. 2</td><td>True</td><td>127.17284 .. 38.594788</td><td>0.6384927 .. 1.9439608</td><td>0.0018059316 .. 0.0030419875</td><td>36.337494 .. 59.990253</td><td>1.3913134e-13 .. 0.45650917</td><td>6.9238577 .. 0.86853236</td><td>1.002267 .. -100.0</td><td>0.35846016 .. -10000.0</td><td>-1</td><td>55034</td><td>2</td><td>0.31256443</td><td>0.016097367</td><td>952</td><td>1020</td></tr>\n",
       "<tr><td>-1</td><td>7 .. 2</td><td>334.6190008630954</td><td>-0.00334150877900888</td><td>0.18584667</td><td>-0.18340522</td><td>0.12893102</td><td>0.8110655</td><td>0.40349314</td><td>-1</td><td>-1.0</td><td>1 .. 2</td><td>True</td><td>121.26046 .. 42.269413</td><td>0.7279036 .. 0.8880146</td><td>0.0016064999 .. 0.005644754</td><td>27.450546 .. 11.66761</td><td>2.65163e-07 .. 0.00661471</td><td>6.8656754 .. 7.3747196</td><td>-100.0 .. -100.0</td><td>-10000.0 .. -10000.0</td><td>-1</td><td>61491</td><td>2</td><td>0.35823846</td><td>0.011588516</td><td>983</td><td>1088</td></tr>\n",
       "<tr><td>-1</td><td>32 .. 4</td><td>333.54135905569626</td><td>0.8794295342456827</td><td>0.106176615</td><td>-0.26969245</td><td>0.14336883</td><td>0.9997828</td><td>0.34498087</td><td>123187</td><td>0.306418</td><td>1 .. 2</td><td>True</td><td>19.849901 .. 5.189896</td><td>0.17154492 .. 0.40037686</td><td>0.06351051 .. -0.020882767</td><td>26.03123 .. 0.08260181</td><td>0.0 .. 0.9400651</td><td>26.48837 .. 0.13361953</td><td>-100.0 .. 1.0394988</td><td>-10000.0 .. 0.3762283</td><td>-1</td><td>64360</td><td>2</td><td>0.34424755</td><td>0.02826839</td><td>1036</td><td>1138</td></tr>\n",
       "<tr><td>-1</td><td>18 .. 6</td><td>303.01100514369136</td><td>-48.394108786088324</td><td>0.11078485</td><td>-0.1118269</td><td>0.21495172</td><td>0.59480566</td><td>0.64826185</td><td>12473</td><td>0.16462971</td><td>1 .. 2</td><td>True</td><td>145.71655 .. 53.254395</td><td>0.65051293 .. 1.6317714</td><td>0.011681384 .. 0.09355949</td><td>262.29507 .. 336.1793</td><td>0.0 .. 4.538933e-19</td><td>41.07661 .. 19.113188</td><td>0.9875043 .. 0.92640793</td><td>-2.2628753 .. -1.732858</td><td>-1</td><td>73354</td><td>2</td><td>0.38933843</td><td>0.012308751</td><td>1136</td><td>1278</td></tr>\n",
       "<tr><td>-1</td><td>25 .. 12</td><td>261.0003596219375</td><td>60.74772407491583</td><td>0.09249079</td><td>-0.12485813</td><td>0.21191294</td><td>0.78836334</td><td>0.5457976</td><td>221770</td><td>0.09023533</td><td>1 .. 2</td><td>True</td><td>43.02675 .. 51.450314</td><td>0.27040577 .. 0.68775964</td><td>0.021784516 .. 0.014586984</td><td>42.229954 .. 74.628174</td><td>0.0 .. 9.499622e-33</td><td>27.235014 .. 16.378187</td><td>0.9762591 .. -100.0</td><td>-2.9283037 .. -10000.0</td><td>-1</td><td>76243</td><td>2</td><td>1.0981839</td><td>0.017458435</td><td>1169</td><td>1352</td></tr>\n",
       "<tr><td>-1</td><td>15 .. -1</td><td>244.14364475974057</td><td>54.16992508668509</td><td>0.14302015</td><td>-0.149046</td><td>0.15964259</td><td>0.6340721</td><td>0.52604604</td><td>305044</td><td>0.03605146</td><td>1 .. 0</td><td>True</td><td>43.955715 .. -1.0</td><td>0.373552 .. -1.0</td><td>0.023890479 .. -100.0</td><td>48.38352 .. -1.0</td><td>0.0 .. -1.0</td><td>23.603268 .. -1.0</td><td>1.0128101 .. 1.0</td><td>1.2362585 .. 0.0</td><td>-1</td><td>92867</td><td>2</td><td>-1.0</td><td>-1.0</td><td>-1</td><td>1588</td></tr>\n",
       "<tr><td>-1</td><td>21 .. 1</td><td>219.22854193199083</td><td>34.06670048559544</td><td>0.11800814</td><td>-0.10925614</td><td>0.2025599</td><td>0.68355554</td><td>0.61700284</td><td>379609</td><td>0.1868789</td><td>1 .. 2</td><td>True</td><td>30.282242 .. 37.433167</td><td>0.3364404 .. 3.059399</td><td>0.013331741 .. -100.0</td><td>19.445185 .. -100.0</td><td>4.734923e-28 .. -1.0</td><td>9.079622 .. -1.0</td><td>-100.0 .. 0.9832684</td><td>-10000.0 .. -0.18113555</td><td>-1</td><td>104078</td><td>2</td><td>1.1301088</td><td>0.1134821</td><td>1512</td><td>1720</td></tr>\n",
       "<tr><td>-1</td><td>18 .. 8</td><td>218.05243811169709</td><td>35.840903328171464</td><td>0.12735511</td><td>-0.29414088</td><td>0.17379755</td><td>0.96632844</td><td>0.39901668</td><td>391726</td><td>0.12893131</td><td>1 .. 2</td><td>True</td><td>14.915235 .. 6.4086227</td><td>0.24988876 .. 0.38860035</td><td>0.04386847 .. 0.04654254</td><td>12.461055 .. 3.405273</td><td>3.1348733e-25 .. 0.030883376</td><td>9.390375 .. 2.204061</td><td>-100.0 .. 0.97631735</td><td>-10000.0 .. -0.309062</td><td>-1</td><td>106745</td><td>2</td><td>0.32614058</td><td>0.026615512</td><td>1577</td><td>1777</td></tr>\n",
       "<tr><td>-1</td><td>155 .. 14</td><td>201.3684320334309</td><td>27.371843000669475</td><td>0.048078686</td><td>-0.27886626</td><td>0.13611199</td><td>1.0</td><td>0.3089331</td><td>-1</td><td>-1.0</td><td>1 .. 2</td><td>True</td><td>13.370645 .. 3.7169697</td><td>0.07604436 .. 0.1570825</td><td>0.008398119 .. 0.0040883985</td><td>2.8828123 .. 0.4612662</td><td>1.703112e-39 .. 0.103729</td><td>3.303097 .. 1.5131364</td><td>-100.0 .. -100.0</td><td>-10000.0 .. -10000.0</td><td>-1</td><td>124860</td><td>2</td><td>0.26652512</td><td>0.012348483</td><td>-1</td><td>1983</td></tr>\n",
       "<tr><td>-1</td><td>11 .. 1</td><td>153.71556247725928</td><td>34.82637985599021</td><td>0.22731751</td><td>-0.40198573</td><td>0.27724478</td><td>0.90713245</td><td>0.40840507</td><td>641889</td><td>0.56682754</td><td>1 .. 2</td><td>True</td><td>4.00238 .. 1.4019285</td><td>0.17568259 .. 0.34790248</td><td>0.5450896 .. -100.0</td><td>9.164351 .. -100.0</td><td>7.026446e-34 .. -1.0</td><td>18.251858 .. -1.0</td><td>1.1768382 .. -100.0</td><td>2.9423485 .. -10000.0</td><td>-1</td><td>162490</td><td>2</td><td>-1.0</td><td>-1.0</td><td>-1</td><td>2442</td></tr>\n",
       "<tr><td>-1</td><td>16 .. 7</td><td>79.8508950195637</td><td>-48.00658277687029</td><td>0.14606708</td><td>-0.29702455</td><td>0.2302761</td><td>0.98009926</td><td>0.39562613</td><td>-1</td><td>-1.0</td><td>1 .. 2</td><td>True</td><td>11.000844 .. 4.947921</td><td>0.2174953 .. 0.3524044</td><td>0.026924567 .. 0.000272777</td><td>4.21095 .. 1.1388232</td><td>7.684907e-11 .. 0.37619984</td><td>5.3182006 .. 1.0726023</td><td>-100.0 .. -100.0</td><td>-10000.0 .. -10000.0</td><td>-1</td><td>182622</td><td>2</td><td>0.44899425</td><td>0.03974801</td><td>-1</td><td>2648</td></tr>\n",
       "<tr><td>-1</td><td>12 .. 10</td><td>49.89487839440355</td><td>41.9351166214901</td><td>0.11688124</td><td>-0.13351366</td><td>0.18084738</td><td>0.7082775</td><td>0.6558279</td><td>793999</td><td>0.14107761</td><td>1 .. 2</td><td>True</td><td>146.99852 .. 48.611095</td><td>0.724471 .. 0.7923874</td><td>0.002608319 .. 0.003205992</td><td>63.340233 .. 14.719814</td><td>7.1037353e-20 .. 0.0057712668</td><td>10.640779 .. 2.5773096</td><td>0.99900264 .. -100.0</td><td>-0.15790002 .. -10000.0</td><td>-1</td><td>199884</td><td>2</td><td>0.3276734</td><td>0.0056179515</td><td>-1</td><td>2845</td></tr>\n",
       "<tr><td>-1</td><td>8 .. 2</td><td>17.90849637066491</td><td>-46.12418089066694</td><td>0.16791977</td><td>0.17754589</td><td>0.47294554</td><td>0.04757083</td><td>1.22303</td><td>906375</td><td>0.87806475</td><td>1 .. 2</td><td>True</td><td>211.67215 .. 51.06775</td><td>0.9692165 .. 4.06685</td><td>0.002947837 .. -0.01447288</td><td>140.74606 .. 0.8718241</td><td>4.914994e-20 .. 0.8805627</td><td>15.212214 .. 0.022576839</td><td>0.98922604 .. -100.0</td><td>-1.915892 .. -10000.0</td><td>-1</td><td>226975</td><td>2</td><td>0.25029808</td><td>0.024380246</td><td>-1</td><td>3078</td></tr>\n",
       "<tr><td>-1</td><td>14 .. -1</td><td>357.12120255365335</td><td>-9.416754993209638</td><td>0.16907042</td><td>-0.2680231</td><td>0.1342233</td><td>0.9720384</td><td>0.33244652</td><td>84727</td><td>0.027343804</td><td>1 .. 0</td><td>True</td><td>16.348427 .. -1.0</td><td>0.22906503 .. -1.0</td><td>0.01764733 .. -100.0</td><td>5.4612293 .. -1.0</td><td>1.6703516e-17 .. -1.0</td><td>8.480622 .. -1.0</td><td>0.9799343 .. 1.0</td><td>-1.0902563 .. 0.0</td><td>-1</td><td>267514</td><td>1</td><td>-1.0</td><td>-1.0</td><td>2801</td><td>3570</td></tr>\n",
       "<tr><td>-1</td><td>15 .. -1</td><td>210.00141636784147</td><td>3.2144356068734976</td><td>0.13007838</td><td>0.042491015</td><td>0.29654562</td><td>0.042537145</td><td>1.1792775</td><td>462498</td><td>0.29846194</td><td>1 .. 0</td><td>True</td><td>146.37997 .. -1.0</td><td>0.75588596 .. -1.0</td><td>0.003225269 .. -100.0</td><td>84.25254 .. -1.0</td><td>1.9072014e-12 .. -1.0</td><td>6.162609 .. -1.0</td><td>0.99770206 .. 1.0</td><td>-0.3538577 .. 0.0</td><td>-1</td><td>588567</td><td>1</td><td>-1.0</td><td>-1.0</td><td>3686</td><td>-1</td></tr>\n",
       "<tr><td>-1</td><td>15 .. -1</td><td>207.03531485024092</td><td>-30.479189687581158</td><td>0.13244738</td><td>-0.1224625</td><td>0.14153127</td><td>0.81857866</td><td>0.54091847</td><td>480639</td><td>0.088201396</td><td>1 .. 0</td><td>True</td><td>144.80977 .. -1.0</td><td>0.74000114 .. -1.0</td><td>0.0036297448 .. -100.0</td><td>87.941795 .. -1.0</td><td>1.1032776e-20 .. -1.0</td><td>9.209585 .. -1.0</td><td>0.99899083 .. 1.0</td><td>-0.15575865 .. 0.0</td><td>-1</td><td>599887</td><td>1</td><td>-1.0</td><td>-1.0</td><td>3698</td><td>4732</td></tr>\n",
       "<tr><td>-1</td><td>2 .. -1</td><td>123.35946588970357</td><td>3.3534605469478334</td><td>0.44029623</td><td>-0.40459162</td><td>0.01649831</td><td>0.7148694</td><td>0.039180018</td><td>-1</td><td>-1.0</td><td>1 .. 0</td><td>True</td><td>13.346463 .. -1.0</td><td>0.5558191 .. -1.0</td><td>5.6237526 .. -100.0</td><td>1002.8247 .. -1.0</td><td>0.0 .. -1.0</td><td>931.6575 .. -1.0</td><td>-100.0 .. -100.0</td><td>-10000.0 .. -10000.0</td><td>-1</td><td>789511</td><td>1</td><td>-1.0</td><td>-1.0</td><td>-1</td><td>5193</td></tr>\n",
       "<tr><td>-1</td><td>4 .. -1</td><td>73.73248299562411</td><td>-2.4755414408779637</td><td>0.36034596</td><td>-0.48975262</td><td>0.045375433</td><td>0.92818755</td><td>0.08875485</td><td>-1</td><td>-1.0</td><td>1 .. 0</td><td>True</td><td>7.45314 .. -1.0</td><td>0.43975663 .. -1.0</td><td>0.36125147 .. -100.0</td><td>20.888418 .. -1.0</td><td>5.6727126e-15 .. -1.0</td><td>23.141022 .. -1.0</td><td>-100.0 .. -100.0</td><td>-10000.0 .. -10000.0</td><td>-1</td><td>814134</td><td>1</td><td>-1.0</td><td>-1.0</td><td>-1</td><td>5262</td></tr>\n",
       "</table></div>"
      ],
      "text/plain": [
       "<Table length=20>\n",
       "fd_src_id   nr_det          ra         ...    hr_err    simbad_match_id gaiadr3_match_id\n",
       "                           deg         ...                                              \n",
       "  int32    int32[2]      float64       ...   float32         int32           int32      \n",
       "--------- --------- ------------------ ... ------------ --------------- ----------------\n",
       "       -1  65 .. 36 35.241813178245486 ...  0.009472339             114               97\n",
       "       -1   43 .. 3  160.9862831040312 ...  0.017565036             304              287\n",
       "       -1   14 .. 4 348.90357602965054 ...  0.016097367             952             1020\n",
       "       -1    7 .. 2  334.6190008630954 ...  0.011588516             983             1088\n",
       "       -1   32 .. 4 333.54135905569626 ...   0.02826839            1036             1138\n",
       "       -1   18 .. 6 303.01100514369136 ...  0.012308751            1136             1278\n",
       "       -1  25 .. 12  261.0003596219375 ...  0.017458435            1169             1352\n",
       "       -1  15 .. -1 244.14364475974057 ...         -1.0              -1             1588\n",
       "       -1   21 .. 1 219.22854193199083 ...    0.1134821            1512             1720\n",
       "       -1   18 .. 8 218.05243811169709 ...  0.026615512            1577             1777\n",
       "       -1 155 .. 14  201.3684320334309 ...  0.012348483              -1             1983\n",
       "       -1   11 .. 1 153.71556247725928 ...         -1.0              -1             2442\n",
       "       -1   16 .. 7   79.8508950195637 ...   0.03974801              -1             2648\n",
       "       -1  12 .. 10  49.89487839440355 ... 0.0056179515              -1             2845\n",
       "       -1    8 .. 2  17.90849637066491 ...  0.024380246              -1             3078\n",
       "       -1  14 .. -1 357.12120255365335 ...         -1.0            2801             3570\n",
       "       -1  15 .. -1 210.00141636784147 ...         -1.0            3686               -1\n",
       "       -1  15 .. -1 207.03531485024092 ...         -1.0            3698             4732\n",
       "       -1   2 .. -1 123.35946588970357 ...         -1.0              -1             5193\n",
       "       -1   4 .. -1  73.73248299562411 ...         -1.0              -1             5262"
      ]
     },
     "metadata": {},
     "output_type": "display_data"
    }
   ],
   "source": [
    "%matplotlib widget\n",
    "import ipywidgets as widgets\n",
    "from IPython.display import display\n",
    "import matplotlib.pyplot as plt\n",
    "\n",
    "import warnings\n",
    "warnings.filterwarnings('ignore')\n",
    "\n",
    "from regions import CircleSkyRegion\n",
    "from astropy import units as uu\n",
    "from astropy.coordinates import SkyCoord\n",
    "from astropy.wcs.utils import pixel_to_skycoord\n",
    "from astropy.table import Table\n",
    "import numpy as np\n",
    "\n",
    "from vasca.region import Region\n",
    "from vasca.field import BaseField\n",
    "import vasca.visualization as vvis\n",
    "\n",
    "from vasca.utils import mag2flux, sel_sources, dd_filter2id\n",
    "\n",
    "from astroquery.gaia import Gaia\n",
    "from astropy.coordinates import SkyCoord\n",
    "\n",
    "#Load region\n",
    "rg = Region()\n",
    "rg.load_from_fits(region_fname)\n",
    "\n",
    "print(\"Nr sources:\",len(rg.tt_sources),\"selected:\",rg.tt_sources[\"sel\"].sum())\n",
    "    \n",
    "#Subselect sources based on choice\n",
    "if len(srcs_ids)>0:\n",
    "    rg.tt_sources.add_index(\"rg_src_id\")\n",
    "    idx_srcs = rg.tt_sources.loc_indices[\"rg_src_id\", srcs_ids]\n",
    "    tt_srcs = Table(rg.tt_sources[idx_srcs])\n",
    "else:\n",
    "    tt_srcs = rg.tt_sources\n",
    "\n",
    "nr_srcs = len(tt_srcs)\n",
    "tt_srcs.add_index(\"rg_src_id\")\n",
    "display(tt_srcs)\n",
    "# strcol = \"\"\n",
    "# for col in rg.tt_gaiadr3.colnames:\n",
    "#     strcol+= \"'\"+str(col)+\"',\"\n",
    "# print(strcol)"
   ]
  },
  {
   "cell_type": "markdown",
   "id": "23df4759-a6cd-462d-8fa6-dcd4c14bd395",
   "metadata": {},
   "source": [
    "### Show all info for one source"
   ]
  },
  {
   "cell_type": "code",
   "execution_count": 3,
   "id": "4e438a82-e94a-43c6-89ce-49862abc76dc",
   "metadata": {},
   "outputs": [
    {
     "data": {
      "application/vnd.jupyter.widget-view+json": {
       "model_id": "8e87ddccce74421e9fb3d6cbf969cbd2",
       "version_major": 2,
       "version_minor": 0
      },
      "text/plain": [
       "interactive(children=(Dropdown(description='rg_src_id', options=(2996, 11821, 55034, 61491, 64360, 73354, 7624…"
      ]
     },
     "execution_count": 3,
     "metadata": {},
     "output_type": "execute_result"
    }
   ],
   "source": [
    "#Define displayed tables and columns\n",
    "disp_tt_sources = ['rg_src_id','nr_det','ra','dec','pos_err','pos_xv','pos_cpval','pos_rchiq','coadd_src_id','coadd_dist','obs_filter_id','flux','flux_err','flux_nxv','flux_cpval','flux_rchiq','coadd_ffactor',\n",
    "                   'coadd_fdiff_s2n','nr_fd_srcs','hr','hr_err','simbad_match_id','gaiadr3_match_id'] #'fd_src_id','rg_fd_id,,'pos_var','flux_var','sel'\n",
    "disp_tt_simbad = ['ogrp','otypes','main_id','otype','ra','dec','ra_prec','dec_prec','coo_err_maja','coo_err_mina','coo_err_angle','coo_qual','coo_wavelength','coo_bibcode','distance_distance','distance_q','distance_unit',\n",
    "                  'distance_merr','distance_perr','distance_method','distance_bibcode','match_distance','rvz_type','rvz_radvel','rvz_error','rvz_qual','rvz_wavelength','rvz_bibcode','z_value','sp_type','sp_qual',\n",
    "                  'sp_bibcode','simbad_match_id'] #,'rg_src_id',,'script_number_id'\n",
    "disp_tt_gaiadr3 = ['ogrp','Gmag_abs','BP-RP','ra','dec','Source','e_RA_ICRS','e_DE_ICRS','Plx','e_Plx','PM','pmRA','e_pmRA','pmDE','e_pmDE','RUWE','FG','e_FG','Gmag','FBP','e_FBP','BPmag','FRP','e_FRP','RPmag','RV','e_RV',\n",
    "                   'Vbroad','GRVSmag','QSO','Gal','NSS','XPcont','XPsamp','RVS','EpochPh','EpochRV','MCMCGSP','MCMCMSC','And','Teff','logg','__Fe_H_','Dist','A0','HIP','PS1','SDSS13','SKYM2','TYC2','URAT1','AllWISE','APASS9',\n",
    "                   'GSC23','RAVE5','_2MASS','RAVE6','RAJ2000','DEJ2000','PQSO','PGal','PSS','RPlx','match_distance','gaiadr3_match_id'] #,'_q',,'rg_src_id'\n",
    "dd_tab_col = {\"tt_sources\":disp_tt_sources, \"tt_simbad\":disp_tt_simbad, \"tt_gaiadr3\":disp_tt_gaiadr3}\n",
    "\n",
    "def display_src_info(rg_src_id=0):\n",
    "\n",
    "    #Get source\n",
    "    tc_src = rg.get_src_from_id(rg_src_id, load_from_file = load_src_from_file)\n",
    "\n",
    "    #Prepare figure\n",
    "\n",
    "    fig, axs = plt.subplots(1,2,figsize=(20, 6),squeeze=True, num=\"Source ID \" + str(rg_src_id), clear=True, gridspec_kw={'width_ratios': [2, 1]})\n",
    "    axs = axs.flatten()\n",
    "    \n",
    "    #Plot light curve und SED\n",
    "    vvis.plot_light_curve(tc_src, ax = axs[0]) #\n",
    "    vvis.plot_sed(tc_src,ax = axs[1])\n",
    "    plt.show()\n",
    "\n",
    "    for table_name, col_names in dd_tab_col.items():\n",
    "        if table_name in tc_src._table_names:\n",
    "            print(\"\\n\",table_name,\":\")\n",
    "            display(tc_src.__dict__[table_name][col_names])\n",
    "    \n",
    "    #tc_src.tt_sed.pprint_all()\n",
    "\n",
    "widgets.interactive(display_src_info, rg_src_id=tt_srcs[\"rg_src_id\"])"
   ]
  },
  {
   "cell_type": "markdown",
   "id": "e7a1fe03-a8a7-4936-83ce-5f1a81b6c20f",
   "metadata": {},
   "source": [
    "### Draw light curves"
   ]
  },
  {
   "cell_type": "code",
   "execution_count": 4,
   "id": "b4b6f33c-ac4d-4467-a780-804bee76b0dd",
   "metadata": {},
   "outputs": [
    {
     "data": {
      "application/vnd.jupyter.widget-view+json": {
       "model_id": "711705f7792041cab9ceef9b232f56d5",
       "version_major": 2,
       "version_minor": 0
      },
      "text/plain": [
       "interactive(children=(IntSlider(value=2, description='block_nr', max=4), Output()), _dom_classes=('widget-inte…"
      ]
     },
     "execution_count": 4,
     "metadata": {},
     "output_type": "execute_result"
    }
   ],
   "source": [
    "nr_blocks = int(nr_srcs/lc_block_srcs)+1 \n",
    "def plot_lc_range(block_nr):\n",
    "    fig_lc = plt.figure(\"Light curves\",figsize=(10, 9), clear=True)\n",
    "    lc_min = lc_block_srcs * block_nr\n",
    "    lc_max = lc_min + lc_block_srcs if lc_min + lc_block_srcs<=nr_srcs-1 else nr_srcs\n",
    "    vvis.plot_light_curves(rg,fig=fig_lc, rg_src_ids = tt_srcs[\"rg_src_id\"][lc_min:lc_max], ylim = [1.2,550])\n",
    "    plt.show()\n",
    "    #display(tt_srcs[lc_min:lc_max]) #[show_lc_pars]\n",
    "widgets.interactive( plot_lc_range, block_nr=(0,nr_blocks-1))"
   ]
  },
  {
   "cell_type": "markdown",
   "id": "1ef453ca-db09-45cf-b4fd-fb8bf284ca2e",
   "metadata": {},
   "source": [
    "### Plot skymaps for one source"
   ]
  },
  {
   "cell_type": "code",
   "execution_count": 5,
   "id": "c038cd88-42e8-4897-a277-bbf207f4c930",
   "metadata": {
    "tags": []
   },
   "outputs": [],
   "source": [
    "def plot_sky_src(rg_src_id=0, fd_idx=0, vis_idx = -1):\n",
    "    \n",
    "    #Check if src_id exists\n",
    "    if rg_src_id not in tt_srcs[\"rg_src_id\"]:\n",
    "        print(\"Source ID does not exist\") \n",
    "        return\n",
    "    \n",
    "    #Get source and check id field index out of range\n",
    "    tc_src = rg.get_src_from_id(rg_src_id)\n",
    "    if fd_idx > len(tc_src.tt_fields)-1:\n",
    "        print(\"Field index out of range\") \n",
    "        return\n",
    "    \n",
    "    #Get field to plot and check if visit index out of range\n",
    "    rg_fd_id = tc_src.tt_fields[fd_idx][\"rg_fd_id\"]\n",
    "    fd_src = rg.get_field(rg_fd_id=rg_fd_id, load_method=\"FITS\", add_field=True)\n",
    "    if vis_idx > len(fd_src.tt_visits)-1:\n",
    "        print(\"Visit index out of range\") \n",
    "        return\n",
    "\n",
    "    fig_src = plt.figure(\"Sky map source\",figsize=(8, 7), clear=True)\n",
    "\n",
    "    #Get sky region of source\n",
    "    sky_center = SkyCoord(tc_src.tt_sources[0][\"ra\"]*uu.deg, tc_src.tt_sources[0][\"dec\"]*uu.deg, frame=\"icrs\")\n",
    "    sky_region_src = CircleSkyRegion(center=sky_center, radius=0.3*uu.arcmin)\n",
    "     \n",
    "    #Plot\n",
    "    plt.cla()\n",
    "    ax_src, wcs_src = vvis.plot_field_sky_map(fd_src, img_idx=vis_idx, sky_region = sky_region_src, fig=fig_src) #\n",
    "    \n",
    "    #If displaying visits, onle show detections in that visit\n",
    "    sel_det_rg = np.ones(len(rg.tt_detections), dtype=bool)\n",
    "    sel_det_src = np.ones(len(tc_src.tt_detections), dtype=bool)\n",
    "    \n",
    "    # Preselt field detections, can be removed in the future\n",
    "    #fd_src.tt_detections = fd_src.tt_detections[fd_src.tt_detections[\"s2n\"]>0]\n",
    "    \n",
    "    sel_det_fd = np.ones(len(fd_src.tt_detections), dtype=bool)\n",
    "    if vis_idx > -1:\n",
    "        vis_id = fd_src.tt_visits[\"vis_id\"][vis_idx]\n",
    "        sel_det_rg = (rg.tt_detections[\"vis_id\"]==vis_id) * (rg.tt_detections[\"obs_filter_id\"]==dd_filter2id[fd_src.obs_filter])\n",
    "        sel_det_src = (tc_src.tt_detections[\"vis_id\"]==vis_id) * (tc_src.tt_detections[\"obs_filter_id\"]==dd_filter2id[fd_src.obs_filter])\n",
    "\n",
    "        fd_det_coords = SkyCoord(fd_src.tt_detections[\"ra\"][sel_det_fd], fd_src.tt_detections[\"dec\"][sel_det_fd], frame=\"icrs\")\n",
    "        sel_det_fd = ( (fd_src.tt_detections[\"vis_id\"] == vis_id)\n",
    "                     * (fd_src.tt_detections[\"obs_filter_id\"] == dd_filter2id[fd_src.obs_filter])\n",
    "                     * sky_region_src.contains(fd_det_coords, wcs_src))\n",
    "        \n",
    "    #Show sources\n",
    "    plt_ref_src_kwargs = {\"marker\": \"x\",\"markersize\": 10,\"color\":\"yellow\"}\n",
    "    _ = vvis.plot_sky_sources(rg.tt_sources,tt_det=rg.tt_detections[sel_det_rg], sky_region_wcs = (sky_region_src,wcs_src),only_selected=False) #\n",
    "    _ = vvis.plot_sky_sources(rg.tt_coadd_sources,tt_det=None, sky_region_wcs = (sky_region_src,wcs_src),only_selected=False, src_id=\"coadd_src_id\", src_kwargs = plt_ref_src_kwargs)\n",
    "    if vis_idx > -1:\n",
    "        plot_tds = {\"marker\":\"x\",\"color\":\"green\"}\n",
    "        _ = vvis.plot_sky_sources(fd_src.tt_detections[sel_det_fd],src_kwargs=plot_tds, sky_region_wcs = (sky_region_src,wcs_src),  src_id=\"det_id\",only_selected=False)\n",
    "    plt.show()\n",
    "\n",
    "    # Display sources only for the shown field\n",
    "    #fd_src_id = rg.tt_src_id_map[sel_fd_src][\"fd_src_id\"][0]\n",
    "    if vis_idx > -1:\n",
    "        print(\"\\nAll detections for this visit in the field:\")\n",
    "        display(fd_src.tt_detections[sel_det_fd])\n",
    "    \n",
    "#Decide which sources to show\n",
    "list_srcs = tt_srcs[\"rg_src_id\"]\n",
    "if len(srcs_ids)>0:\n",
    "    list_srcs = srcs_ids\n",
    "\n",
    "if show_skymaps:\n",
    "    widget = widgets.interactive( plot_sky_src, rg_src_id=list_srcs,\n",
    "                        fd_idx=widgets.IntSlider(min=0, max=10, value=0, step=1),\n",
    "                        vis_idx = widgets.IntSlider(min=-1, max=100, value=-1, step=1)) #visprob_srcids = [1669,1801,2815,3776,4338,6137,] \n",
    "    \n",
    "    controls = widgets.HBox(widget.children[:-1], layout = widgets.Layout(flex_flow='row wrap'))\n",
    "    output = widget.children[-1]\n",
    "    display(widgets.VBox([controls, output]))\n",
    "    # straight NUV, dashed FUV"
   ]
  },
  {
   "cell_type": "markdown",
   "id": "20ff40c6-d108-4925-b04d-f85e3dd5f663",
   "metadata": {},
   "source": [
    "### Draw sky maps of entire fields"
   ]
  },
  {
   "cell_type": "code",
   "execution_count": 6,
   "id": "aaa5317e-41b7-47fe-9dca-29ae84bc127b",
   "metadata": {
    "tags": []
   },
   "outputs": [],
   "source": [
    "def plot_sky_field(rg_fd_id):\n",
    "    if rg_fd_id not in rg.tt_fields[\"rg_fd_id\"]:\n",
    "        print(\"source ID does not exist\") \n",
    "        return\n",
    "    fig_skymap = plt.figure(\"Sky map\",figsize=(9, 8), clear=True) #, constrained_layout=True\n",
    "    fd = rg.get_field(rg_fd_id=rg_fd_id, load_method=\"FITS\", add_field=True)\n",
    "    ax, wcs = vvis.plot_field_sky_map(fd, img_idx=-1, sky_region = fd.get_sky_region(),fig=fig_skymap) # \n",
    "    ax, tt_src_shown = vvis.plot_sky_sources(rg.tt_sources,tt_det=rg.tt_detections, sky_region_wcs = (fd.get_sky_region(),wcs),only_selected=only_sel_srcs) # \n",
    "    plt.show()\n",
    "    display(tt_src_shown) #[show_map_pars]\n",
    "if show_skymaps:    \n",
    "    widgets.interactive( plot_sky_field, rg_fd_id=(rg.tt_fields[\"rg_fd_id\"].min(),rg.tt_fields[\"rg_fd_id\"].max()))"
   ]
  },
  {
   "cell_type": "code",
   "execution_count": 7,
   "id": "40b02103-e651-4c98-bd2f-24461ed03f7e",
   "metadata": {},
   "outputs": [
    {
     "data": {
      "text/plain": [
       "[':esd']"
      ]
     },
     "execution_count": 7,
     "metadata": {},
     "output_type": "execute_result"
    }
   ],
   "source": [
    "\":esd\".split(\"-\")"
   ]
  },
  {
   "cell_type": "code",
   "execution_count": null,
   "id": "4060d8a2-ed4a-4ef1-888a-99cafcc028ac",
   "metadata": {},
   "outputs": [],
   "source": []
  }
 ],
 "metadata": {
  "kernelspec": {
   "display_name": "Python 3 (ipykernel)",
   "language": "python",
   "name": "python3"
  },
  "language_info": {
   "codemirror_mode": {
    "name": "ipython",
    "version": 3
   },
   "file_extension": ".py",
   "mimetype": "text/x-python",
   "name": "python",
   "nbconvert_exporter": "python",
   "pygments_lexer": "ipython3",
   "version": "3.10.12"
  }
 },
 "nbformat": 4,
 "nbformat_minor": 5
}
