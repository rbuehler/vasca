{
 "cells": [
  {
   "cell_type": "markdown",
   "id": "c0fd65f4-8d6a-45e8-96b6-a972fe024459",
   "metadata": {},
   "source": [
    "# Inspect source light curves and skymaps"
   ]
  },
  {
   "cell_type": "markdown",
   "id": "8ba66aa5-9d87-4681-a429-74b92c9bfeee",
   "metadata": {},
   "source": [
    "### Setup main notebook options"
   ]
  },
  {
   "cell_type": "code",
   "execution_count": 1,
   "id": "d73f0bca-43f4-4d59-91b3-c07bdbf960fe",
   "metadata": {
    "tags": []
   },
   "outputs": [],
   "source": [
    "region_name = \"MDIS_10-800\" # \"TDS\" # _ELAISN1\n",
    "region_fname = \"./vasca_pipeline/\"+region_name+\"/region_\"+region_name+\"_cat.fits\"\n",
    "sort_par = \"rg_src_id\" # \"flux\"\n",
    "redo_src_sel = False\n",
    "only_sel_srcs = True\n",
    "lc_block_srcs = 5 #Setup light curve plotting parameters\n",
    "srcs_ids = []\n",
    "srcs_ids = [54293 ,502818 ,] # MDIS grv lens cand.\n",
    "srcs_ids = [33345 ,38012 ,46152 ,62707 ,70648 ,82868 ,105732 ,115400 ,146068 ,150601 ,182076 ,187753 ,286520 ,428562 ,478745 ,565122 ,]  # MDIS PM*\n",
    "srcs_ids = [4156 ,64183 ,] # MDIS BS*\n",
    "srcs_ids = [42218 ,] # MIDS HS? Hot subdwarf\n",
    "#srcs_ids = [17896 ,18125 ,170390 ,170722 ,535004 ,541088 ,542293 ,] # MDIS Novae\n",
    "srcs_ids = [52201 ,52938 ,98629 ,185620 ,311664 ,335541 ,552767 ,] # MDIS Most NUV variablle nxv_nuv>10\n",
    "srcs_ids = [3900 ,12909 ,12980 ,23259 ,23703 ,28623 ,29903 ,38012 ,46313 ,52201 ,52926 ,52938 ,53484 ,79799 ,85785 ,\n",
    "            87494 ,98629 ,118735 ,135168 ,154145 ,164594 ,172498 ,185620 ,194179 ,216306 ,221274 ,255447 ,258839 ,\n",
    "            283349 ,286520 ,311664 ,335541 ,374256 ,388731 ,443231 ,444083 ,506417 ,506472 ,506485 ,506618 ,552767 ,559483 ,] # MDIS Most NUV variablle nxv_nuv>2\n",
    "srcs_ids = [900 ,11630 ,52486 ,53151 ,58506 ,72801 ,82069 ,84614 ,163052 ,165195 ,179997 ,] # MDIS WD"
   ]
  },
  {
   "cell_type": "code",
   "execution_count": 2,
   "id": "a47713fa-f128-425f-a2d0-754e64ffb654",
   "metadata": {
    "tags": []
   },
   "outputs": [
    {
     "name": "stdout",
     "output_type": "stream",
     "text": [
      "Nr sources: 4612 selected: 2930\n"
     ]
    },
    {
     "name": "stderr",
     "output_type": "stream",
     "text": [
      "WARNING: UnitsWarning: '\"h:m:s\"' did not parse as fits unit: Invalid character at col 0 If this is meant to be a custom unit, define it with 'u.def_unit'. To have it recognized inside a file reader or other code, enable it with 'u.add_enabled_units'. For details, see https://docs.astropy.org/en/latest/units/combining_and_defining.html [astropy.units.core]\n",
      "WARNING: UnitsWarning: '\"d:m:s\"' did not parse as fits unit: Invalid character at col 0 If this is meant to be a custom unit, define it with 'u.def_unit'. To have it recognized inside a file reader or other code, enable it with 'u.add_enabled_units'. For details, see https://docs.astropy.org/en/latest/units/combining_and_defining.html [astropy.units.core]\n"
     ]
    },
    {
     "data": {
      "text/html": [
       "<div><i>Table length=11</i>\n",
       "<table id=\"table140391595296944\" class=\"table-striped table-bordered table-condensed\">\n",
       "<thead><tr><th>nr_det</th><th>ra</th><th>dec</th><th>pos_err</th><th>pos_xv</th><th>pos_var</th><th>pos_cpval</th><th>pos_rchiq</th><th>assoc_id</th><th>assoc_dist</th><th>obs_filter_id</th><th>sel</th><th>flux</th><th>flux_err</th><th>flux_nxv</th><th>flux_var</th><th>flux_cpval</th><th>flux_rchiq</th><th>assoc_ffactor</th><th>assoc_fdiff_s2n</th><th>rg_src_id</th><th>nr_fd_srcs</th><th>hr</th><th>hr_err</th><th>otype</th><th>MAIN_ID</th><th>OTYPES</th><th>Z_VALUE</th><th>Distance_distance</th><th>Distance_unit</th><th>DISTANCE_RESULT</th><th>ogrp</th></tr></thead>\n",
       "<thead><tr><th></th><th>deg</th><th>deg</th><th>arcsec</th><th>arcsec2</th><th>arcsec2</th><th></th><th></th><th></th><th>arcsec</th><th></th><th></th><th>1e-06 Jy</th><th>1e-06 Jy</th><th></th><th>1e-12 Jy2</th><th></th><th></th><th></th><th></th><th></th><th></th><th></th><th></th><th></th><th></th><th></th><th></th><th></th><th></th><th>arcsec</th><th></th></tr></thead>\n",
       "<thead><tr><th>int32[2]</th><th>float64</th><th>float64</th><th>float32</th><th>float32</th><th>float32</th><th>float32</th><th>float32</th><th>int64</th><th>float32</th><th>int32[2]</th><th>bool</th><th>float32[2]</th><th>float32[2]</th><th>float32[2]</th><th>float32[2]</th><th>float32[2]</th><th>float32[2]</th><th>float32[2]</th><th>float32[2]</th><th>int32</th><th>int32</th><th>float32</th><th>float32</th><th>bytes32</th><th>bytes32</th><th>bytes32</th><th>float64</th><th>float64</th><th>bytes4</th><th>float32</th><th>bytes8</th></tr></thead>\n",
       "<tr><td>35 .. 55</td><td>215.3258439968967</td><td>52.596545351520945</td><td>0.061777495</td><td>-0.073819295</td><td>0.27413565</td><td>0.076620735</td><td>0.8073005</td><td>2996</td><td>0.15070449</td><td>1 .. 2</td><td>True</td><td>69.76633 .. 78.84212</td><td>0.2989939 .. 0.35905793</td><td>0.0028636206 .. 0.00013604689</td><td>17.501484 .. 8.515412</td><td>3.2471413e-13 .. 0.18849026</td><td>3.8351877 .. 1.1662406</td><td>0.91958094 .. 0.98226017</td><td>-18.350433 .. -3.4928458</td><td>900</td><td>6</td><td>1.1639541</td><td>0.017203152</td><td>WD*</td><td>SDSS J142118.18+523547.1</td><td>WD*|WD*|blu|WD*|*|Opt|WD?</td><td>0.0000500</td><td>311.0400</td><td>pc</td><td>0.5117</td><td>WD</td></tr>\n",
       "<tr><td>67 .. 46</td><td>149.76167436162893</td><td>1.6465905160899403</td><td>0.050711945</td><td>-0.121467255</td><td>0.17606305</td><td>0.9983214</td><td>0.60001004</td><td>51881</td><td>0.11816379</td><td>1 .. 2</td><td>True</td><td>154.65216 .. 112.11728</td><td>0.3336962 .. 0.5372641</td><td>0.00080672395 .. 0.00011547043</td><td>31.759632 .. 23.498913</td><td>1.1646499e-18 .. 0.1507282</td><td>3.3541517 .. 1.2172611</td><td>1.0050958 .. 0.9974542</td><td>1.9505055 .. -0.43859452</td><td>11630</td><td>4</td><td>0.72394663</td><td>0.005090711</td><td>WD*</td><td>GALEX J095902.8+013847</td><td>WD*|WD*|WD*|PM*|WD*|WD*|*|*|G|Op</td><td>0.0001800</td><td>194.9580</td><td>pc</td><td>0.7095</td><td>WD</td></tr>\n",
       "<tr><td>62 .. 41</td><td>333.74330229428716</td><td>-18.1284418039241</td><td>0.07469829</td><td>-0.26511413</td><td>0.374089</td><td>0.9973886</td><td>0.6041299</td><td>227436</td><td>0.26807556</td><td>1 .. 2</td><td>True</td><td>15.743377 .. 4.2345347</td><td>0.17000161 .. 0.11394305</td><td>0.01079712 .. 0.052266393</td><td>4.8854165 .. 1.7236115</td><td>4.6363047e-07 .. 0.000100011224</td><td>2.1521604 .. 2.0515473</td><td>0.9985297 .. 0.91966665</td><td>-0.10560306 .. -2.440815</td><td>52486</td><td>2</td><td>0.2847042</td><td>0.013879122</td><td>WD?</td><td>[LKK2008] J221458.39-180742.6</td><td>*|WD?|WD?|WD?</td><td>--</td><td>--</td><td></td><td>0.2090</td><td>WD</td></tr>\n",
       "<tr><td>32 .. 4</td><td>333.54135905569626</td><td>0.8794295342456827</td><td>0.106176615</td><td>-0.26969245</td><td>0.14336883</td><td>0.9997828</td><td>0.34498087</td><td>230050</td><td>0.11125645</td><td>1 .. 2</td><td>True</td><td>20.118876 .. 4.6691704</td><td>0.19772485 .. 0.3908768</td><td>0.056504067 .. -0.026277466</td><td>24.190218 .. 0.044125017</td><td>0.0 .. 0.97339696</td><td>18.964977 .. 0.075116284</td><td>0.9191351 .. 1.0333134</td><td>-6.522281 .. 0.2772817</td><td>53151</td><td>2</td><td>0.29695582</td><td>0.026712412</td><td>WD*</td><td>GALEX J221409.8+005245</td><td>WD*|WD*|WD*|*|Opt|UV</td><td>--</td><td>439.0000</td><td>pc</td><td>0.2767</td><td>WD</td></tr>\n",
       "<tr><td>25 .. 12</td><td>261.0003596219375</td><td>60.747724074915844</td><td>0.09249079</td><td>-0.12485813</td><td>0.21191294</td><td>0.78836334</td><td>0.5457976</td><td>254894</td><td>0.072778955</td><td>1 .. 2</td><td>True</td><td>42.035763 .. 49.616528</td><td>0.2805657 .. 0.656898</td><td>0.020497339 .. 0.0150321275</td><td>38.25497 .. 67.96018</td><td>0.0 .. 2.7350098e-33</td><td>21.373968 .. 16.616245</td><td>0.97845787 .. 0.93842715</td><td>-2.4446874 .. -4.0401735</td><td>58506</td><td>2</td><td>1.0894871</td><td>0.017481763</td><td>WD?</td><td>ZTF J172400.04+604451.8</td><td>EB*|*|WD?|WD?</td><td>--</td><td>--</td><td></td><td>0.2700</td><td>WD</td></tr>\n",
       "<tr><td>15 .. -1</td><td>244.14364475974057</td><td>54.1699250866851</td><td>0.14302015</td><td>-0.149046</td><td>0.15964259</td><td>0.6340721</td><td>0.52604604</td><td>83326</td><td>0.20260328</td><td>1 .. 0</td><td>False</td><td>46.74693 .. -1.0</td><td>0.40762272 .. -1.0</td><td>0.020200865 .. -100.0</td><td>46.770695 .. -1.0</td><td>0.0 .. -1.0</td><td>19.716309 .. -1.0</td><td>0.98185104 .. -100.0</td><td>-1.8601466 .. -10000.0</td><td>72801</td><td>2</td><td>-1.0</td><td>-1.0</td><td>WD?</td><td>GALEX J161634.4+541011</td><td>*|*|Opt|UV|WD?|WD?</td><td>--</td><td>93.6920</td><td>pc</td><td>1.0158</td><td>WD</td></tr>\n",
       "<tr><td>21 .. 1</td><td>219.2285419319909</td><td>34.06670048559544</td><td>0.11800814</td><td>-0.10925614</td><td>0.2025599</td><td>0.68355554</td><td>0.61700284</td><td>375016</td><td>0.035019293</td><td>1 .. 2</td><td>True</td><td>29.51347 .. 35.736923</td><td>0.35198805 .. 2.8622541</td><td>0.013819349 .. -100.0</td><td>19.32615 .. -100.0</td><td>5.677633e-20 .. -1.0</td><td>6.986842 .. -1.0</td><td>1.0026231 .. 0.9697317</td><td>0.18479453 .. -0.3386549</td><td>82069</td><td>2</td><td>1.1706479</td><td>0.11864556</td><td>WD?</td><td>GALEX J143654.8+340400</td><td>*|UV|WD?|WD?</td><td>--</td><td>--</td><td></td><td>0.2658</td><td>WD</td></tr>\n",
       "<tr><td>18 .. 8</td><td>218.05243811169714</td><td>35.84090332817147</td><td>0.12735511</td><td>-0.29414088</td><td>0.17379755</td><td>0.96632844</td><td>0.39901668</td><td>386808</td><td>0.07959464</td><td>1 .. 2</td><td>True</td><td>14.612254 .. 6.05339</td><td>0.2779116 .. 0.37645307</td><td>0.030357704 .. 0.055571366</td><td>9.390714 .. 3.3930244</td><td>1.0763691e-15 .. 0.020767232</td><td>6.486113 .. 2.36001</td><td>0.92887527 .. 0.9908855</td><td>-3.061352 .. -0.11080818</td><td>84614</td><td>2</td><td>0.3186552</td><td>0.026751982</td><td>WD?</td><td>Gaia DR2 1480420251349953920</td><td>*|WD?</td><td>--</td><td>--</td><td></td><td>0.2143</td><td>WD</td></tr>\n",
       "<tr><td>27 .. -1</td><td>30.651243653382906</td><td>-5.058806000160703</td><td>0.10887574</td><td>-0.10441901</td><td>0.2216627</td><td>0.32414684</td><td>0.6463418</td><td>764588</td><td>0.22176254</td><td>1 .. 0</td><td>True</td><td>39.525303 .. -1.0</td><td>0.32735923 .. -1.0</td><td>0.008519889 .. -100.0</td><td>18.993498 .. -1.0</td><td>1.3471752e-15 .. -1.0</td><td>4.9573245 .. -1.0</td><td>0.98539853 .. 1.0</td><td>-1.5521367 .. 0.0</td><td>163052</td><td>2</td><td>-1.0</td><td>-1.0</td><td>WD?</td><td>VIPERS 110121616</td><td>PM*|*|*|G|WD?|WD?|WD?|WD?</td><td>--</td><td>217.9030</td><td>pc</td><td>0.3194</td><td>WD</td></tr>\n",
       "<tr><td>8 .. 2</td><td>17.90849637066491</td><td>-46.12418089066695</td><td>0.16791977</td><td>0.17754589</td><td>0.47294554</td><td>0.04757083</td><td>1.22303</td><td>773750</td><td>0.16838291</td><td>1 .. 2</td><td>False</td><td>221.08849 .. 48.13418</td><td>0.9750241 .. 3.7650402</td><td>0.0023548792 .. -0.014233844</td><td>123.75618 .. 0.29399106</td><td>9.515806e-17 .. 0.9251096</td><td>12.93644 .. 0.00883589</td><td>1.053266 .. 0.7436863</td><td>9.382669 .. -4.2693295</td><td>165195</td><td>2</td><td>0.22295146</td><td>0.021214794</td><td>WD?</td><td>GALEX J011138.0-460727</td><td>PM*|*|UV|WD?|WD?|WD?|WD?|WD?</td><td>--</td><td>152.5620</td><td>pc</td><td>1.2872</td><td>WD</td></tr>\n",
       "<tr><td>23 .. 1</td><td>9.581427287974996</td><td>40.04211088904561</td><td>0.10756002</td><td>-0.0741879</td><td>0.20497334</td><td>0.5506882</td><td>0.72313446</td><td>829384</td><td>0.191858</td><td>1 .. 2</td><td>True</td><td>133.17755 .. 201.53406</td><td>0.44956428 .. 4.65655</td><td>0.0006635223 .. -100.0</td><td>16.57366 .. -100.0</td><td>6.563902e-08 .. -1.0</td><td>3.4672577 .. -1.0</td><td>0.98132765 .. 1.0013433</td><td>-4.368208 .. 0.05427624</td><td>179997</td><td>2</td><td>1.538817</td><td>0.043492936</td><td>WD?</td><td>Gaia DR2 380733938664446208</td><td>blu|*|WD?</td><td>--</td><td>--</td><td></td><td>0.4286</td><td>WD</td></tr>\n",
       "</table></div>"
      ],
      "text/plain": [
       "<Table length=11>\n",
       " nr_det          ra                dec         ... DISTANCE_RESULT  ogrp \n",
       "                deg                deg         ...      arcsec           \n",
       "int32[2]      float64            float64       ...     float32     bytes8\n",
       "-------- ------------------ ------------------ ... --------------- ------\n",
       "35 .. 55  215.3258439968967 52.596545351520945 ...          0.5117     WD\n",
       "67 .. 46 149.76167436162893 1.6465905160899403 ...          0.7095     WD\n",
       "62 .. 41 333.74330229428716  -18.1284418039241 ...          0.2090     WD\n",
       " 32 .. 4 333.54135905569626 0.8794295342456827 ...          0.2767     WD\n",
       "25 .. 12  261.0003596219375 60.747724074915844 ...          0.2700     WD\n",
       "15 .. -1 244.14364475974057   54.1699250866851 ...          1.0158     WD\n",
       " 21 .. 1  219.2285419319909  34.06670048559544 ...          0.2658     WD\n",
       " 18 .. 8 218.05243811169714  35.84090332817147 ...          0.2143     WD\n",
       "27 .. -1 30.651243653382906 -5.058806000160703 ...          0.3194     WD\n",
       "  8 .. 2  17.90849637066491 -46.12418089066695 ...          1.2872     WD\n",
       " 23 .. 1  9.581427287974996  40.04211088904561 ...          0.4286     WD"
      ]
     },
     "metadata": {},
     "output_type": "display_data"
    },
    {
     "data": {
      "text/html": [
       "<div><i>Table length=392</i>\n",
       "<table id=\"table140391162959504\" class=\"table-striped table-bordered table-condensed\">\n",
       "<thead><tr><th>field_id</th><th>field_name</th><th>ra</th><th>dec</th><th>observatory</th><th>obs_filter</th><th>fov_diam</th><th>sel</th><th>nr_vis</th><th>time_bin_size_sum</th><th>time_start</th><th>time_stop</th><th>rg_fd_id</th></tr></thead>\n",
       "<thead><tr><th></th><th></th><th>deg</th><th>deg</th><th></th><th></th><th>deg</th><th></th><th></th><th>s</th><th>d</th><th>d</th><th></th></tr></thead>\n",
       "<thead><tr><th>bytes32</th><th>bytes32</th><th>float64</th><th>float64</th><th>bytes22</th><th>bytes8</th><th>float32</th><th>bool</th><th>int32</th><th>float32</th><th>float64</th><th>float64</th><th>int64</th></tr></thead>\n",
       "<tr><td>GNU2509140647668088832</td><td>PKS2155m304</td><td>329.7262466081879</td><td>-30.2657589090371</td><td>GALEX</td><td>NUV</td><td>1.2</td><td>True</td><td>29</td><td>32261.951</td><td>54683.55502314815</td><td>55140.15796296296</td><td>1</td></tr>\n",
       "<tr><td>GNU2509211016412266496</td><td>HPQ_3C454p3</td><td>343.48735799747396</td><td>16.1446550539213</td><td>GALEX</td><td>NUV</td><td>1.2</td><td>True</td><td>12</td><td>10216.749</td><td>54738.00383101852</td><td>56251.395905309604</td><td>2</td></tr>\n",
       "<tr><td>GNU2518745981248339968</td><td>CDFS_00</td><td>53.1273118243563</td><td>-27.8744513655764</td><td>GALEX</td><td>NUV</td><td>1.2</td><td>True</td><td>73</td><td>89294.34</td><td>52952.65777777778</td><td>55288.62908564815</td><td>3</td></tr>\n",
       "<tr><td>GNU2518851534364606464</td><td>CDFS_01</td><td>52.012981707647214</td><td>-28.2176904865393</td><td>GALEX</td><td>NUV</td><td>1.2</td><td>True</td><td>23</td><td>36824.6</td><td>52976.559745370374</td><td>54669.45879882813</td><td>4</td></tr>\n",
       "<tr><td>GNU2518957087480872960</td><td>CDFS_02</td><td>53.125889581000706</td><td>-26.8016267586752</td><td>GALEX</td><td>NUV</td><td>1.2</td><td>True</td><td>30</td><td>30703.352</td><td>53714.68446759259</td><td>55366.04723379629</td><td>5</td></tr>\n",
       "<tr><td>GNU2519027456225050624</td><td>CDFS_03</td><td>54.16583693007192</td><td>-27.3163848506865</td><td>GALEX</td><td>NUV</td><td>1.2</td><td>True</td><td>30</td><td>32152.951</td><td>52980.601168981484</td><td>55226.42217466001</td><td>6</td></tr>\n",
       "<tr><td>...</td><td>...</td><td>...</td><td>...</td><td>...</td><td>...</td><td>...</td><td>...</td><td>...</td><td>...</td><td>...</td><td>...</td><td>...</td></tr>\n",
       "<tr><td>GFU2607234677253079040</td><td>PS_GROTH_MOS04</td><td>212.397804323772</td><td>53.7029450147134</td><td>GALEX</td><td>FUV</td><td>1.2</td><td>True</td><td>4</td><td>5378.6</td><td>54955.656273148146</td><td>56384.656747685185</td><td>387</td></tr>\n",
       "<tr><td>GFU2607305045997256704</td><td>PS_GROTH_MOS05</td><td>215.49424460210594</td><td>52.7780196325928</td><td>GALEX</td><td>FUV</td><td>1.2</td><td>True</td><td>4</td><td>5378.4</td><td>54955.725069444445</td><td>56363.92515950521</td><td>388</td></tr>\n",
       "<tr><td>GFU2607375414741434368</td><td>PS_GROTH_MOS06</td><td>214.300238834909</td><td>52.5500705847555</td><td>GALEX</td><td>FUV</td><td>1.2</td><td>True</td><td>4</td><td>3369.75</td><td>54955.79356481481</td><td>55725.543969907405</td><td>389</td></tr>\n",
       "<tr><td>GFU2607445783485612032</td><td>PS_GROTH_MOS07</td><td>212.62676625037193</td><td>52.7521896298337</td><td>GALEX</td><td>FUV</td><td>1.2</td><td>True</td><td>3</td><td>4024.15</td><td>54955.86178240741</td><td>56349.212406141494</td><td>390</td></tr>\n",
       "<tr><td>GFU2834842380094406656</td><td>MISDR2_24267_0504</td><td>157.616041259466</td><td>1.52414653697365</td><td>GALEX</td><td>FUV</td><td>1.2</td><td>True</td><td>20</td><td>15541.1</td><td>54183.906481481485</td><td>56485.91301179109</td><td>391</td></tr>\n",
       "<tr><td>GFU2911122098984321024</td><td>MISWZS00_29144_0165</td><td>353.34428030131903</td><td>-1.312225482005</td><td>GALEX</td><td>FUV</td><td>1.2</td><td>True</td><td>8</td><td>7801.0996</td><td>53999.559641203705</td><td>55709.64549768518</td><td>392</td></tr>\n",
       "</table></div>"
      ],
      "text/plain": [
       "<Table length=392>\n",
       "       field_id             field_name     ...     time_stop      rg_fd_id\n",
       "                                           ...         d                  \n",
       "       bytes32               bytes32       ...      float64        int64  \n",
       "---------------------- ------------------- ... ------------------ --------\n",
       "GNU2509140647668088832         PKS2155m304 ...  55140.15796296296        1\n",
       "GNU2509211016412266496         HPQ_3C454p3 ... 56251.395905309604        2\n",
       "GNU2518745981248339968             CDFS_00 ...  55288.62908564815        3\n",
       "GNU2518851534364606464             CDFS_01 ...  54669.45879882813        4\n",
       "GNU2518957087480872960             CDFS_02 ...  55366.04723379629        5\n",
       "GNU2519027456225050624             CDFS_03 ...  55226.42217466001        6\n",
       "                   ...                 ... ...                ...      ...\n",
       "GFU2607234677253079040      PS_GROTH_MOS04 ... 56384.656747685185      387\n",
       "GFU2607305045997256704      PS_GROTH_MOS05 ...  56363.92515950521      388\n",
       "GFU2607375414741434368      PS_GROTH_MOS06 ... 55725.543969907405      389\n",
       "GFU2607445783485612032      PS_GROTH_MOS07 ... 56349.212406141494      390\n",
       "GFU2834842380094406656   MISDR2_24267_0504 ...  56485.91301179109      391\n",
       "GFU2911122098984321024 MISWZS00_29144_0165 ...  55709.64549768518      392"
      ]
     },
     "metadata": {},
     "output_type": "display_data"
    }
   ],
   "source": [
    "%matplotlib widget\n",
    "import ipywidgets as widgets\n",
    "from IPython.display import display\n",
    "import matplotlib.pyplot as plt\n",
    "\n",
    "from regions import CircleSkyRegion\n",
    "from astropy import units as uu\n",
    "from astropy.coordinates import SkyCoord\n",
    "from astropy.wcs.utils import pixel_to_skycoord\n",
    "from astropy.table import Table\n",
    "import numpy as np\n",
    "\n",
    "from vasca.region import Region\n",
    "from vasca.field import BaseField\n",
    "import vasca.visualization as vvis\n",
    "\n",
    "from vasca.utils import mag2flux, sel_sources, dd_filter2id\n",
    "\n",
    "#Setup some global setup parameters that usually don't need to be adjusted\n",
    "\n",
    "show_lc_pars = [\"rg_src_id\",\"nr_det\",\"flux\",\"flux_cpval\",\"flux_nxv\",\"flux_rchiq\",\"assoc_ffactor\",\"assoc_fdiff_s2n\"]\n",
    "show_map_pars = [\"rg_src_id\",\"obs_filter_id\",\"ra\",\"dec\",\"pos_err\",\"pos_xv\", \"pos_cpval\",\"nr_det\",\"flux\",\"flux_cpval\", \"nr_fd_srcs\",\"assoc_ffactor\",\"assoc_fdiff_s2n\",\"sel\"]\n",
    "\n",
    "#Load region\n",
    "rg = Region()\n",
    "rg.load_from_fits(region_fname)\n",
    "\n",
    "#Select source pool to show\n",
    "if redo_src_sel:\n",
    "    sel_vasca =  sel_sources(rg.tt_sources)\n",
    "    rg.tt_sources[\"sel\"][:]=sel_vasca \n",
    "print(\"Nr sources:\",len(rg.tt_sources),\"selected:\",rg.tt_sources[\"sel\"].sum())\n",
    "    \n",
    "#Subselect sources based on choice\n",
    "if len(srcs_ids)>0:\n",
    "    rg.tt_sources.add_index(\"rg_src_id\")\n",
    "    idx_srcs = rg.tt_sources.loc_indices[\"rg_src_id\", srcs_ids]\n",
    "    tt_srcs = Table(rg.tt_sources[idx_srcs])\n",
    "elif only_sel_srcs:\n",
    "    tt_srcs = rg.tt_sources[rg.tt_sources[\"sel\"]]\n",
    "\n",
    "nr_srcs = len(tt_srcs)\n",
    "tt_srcs.sort(sort_par)\n",
    "tt_srcs.add_index(\"rg_src_id\")\n",
    "display(tt_srcs)\n",
    "display(rg.tt_fields)\n",
    "#print(rg.tt_fields[\"field_id\"].data)"
   ]
  },
  {
   "cell_type": "markdown",
   "id": "23df4759-a6cd-462d-8fa6-dcd4c14bd395",
   "metadata": {},
   "source": [
    "### Show all info for one source"
   ]
  },
  {
   "cell_type": "code",
   "execution_count": 3,
   "id": "c038cd88-42e8-4897-a277-bbf207f4c930",
   "metadata": {
    "tags": []
   },
   "outputs": [
    {
     "data": {
      "application/vnd.jupyter.widget-view+json": {
       "model_id": "3ff127e3ee3545488ba6ff3548785a75",
       "version_major": 2,
       "version_minor": 0
      },
      "text/plain": [
       "VBox(children=(HBox(children=(Dropdown(description='rg_src_id', options=(900, 11630, 52486, 53151, 58506, 7280…"
      ]
     },
     "metadata": {},
     "output_type": "display_data"
    }
   ],
   "source": [
    "def plot_sky_src(rg_src_id=0, fd_idx=0, vis_idx = -1):\n",
    "    \n",
    "    #Check if src_id exists\n",
    "    if rg_src_id not in tt_srcs[\"rg_src_id\"]:\n",
    "        print(\"Source ID does not exist\") \n",
    "        return\n",
    "    \n",
    "    #Get source and check id field index out of range\n",
    "    tc_src = rg.get_src_from_id(rg_src_id)\n",
    "    if fd_idx > len(tc_src.tt_fields)-1:\n",
    "        print(\"Field index out of range\") \n",
    "        return\n",
    "    \n",
    "    #Get field to plot and check if visit index out of range\n",
    "    rg_fd_id = tc_src.tt_fields[fd_idx][\"rg_fd_id\"]\n",
    "    fd_src = rg.get_field(rg_fd_id=rg_fd_id, load_method=\"FITS\", add_field=True)\n",
    "    if vis_idx > len(fd_src.tt_visits)-1:\n",
    "        print(\"Visit index out of range\") \n",
    "        return\n",
    "\n",
    "    fig_src = plt.figure(\"Sky map source\",figsize=(8, 7), clear=True)\n",
    "\n",
    "    #Get sky region of source\n",
    "    sky_center = SkyCoord(tc_src.tt_sources[0][\"ra\"]*uu.deg, tc_src.tt_sources[0][\"dec\"]*uu.deg, frame=\"icrs\")\n",
    "    sky_region_src = CircleSkyRegion(center=sky_center, radius=0.3*uu.arcmin)\n",
    "     \n",
    "    #Plot\n",
    "    plt.cla()\n",
    "    ax_src, wcs_src = vvis.plot_field_sky_map(fd_src, img_idx=vis_idx, sky_region = sky_region_src, fig=fig_src) #\n",
    "    \n",
    "    #If displaying visits, onle show detections in that visit\n",
    "    sel_det_rg = np.ones(len(rg.tt_detections), dtype=bool)\n",
    "    sel_det_src = np.ones(len(tc_src.tt_detections), dtype=bool)\n",
    "    \n",
    "    # Preselt field detections, can be removed in the future\n",
    "    fd_src.tt_detections = fd_src.tt_detections[fd_src.tt_detections[\"s2n\"]>0]\n",
    "    \n",
    "    sel_det_fd = np.ones(len(fd_src.tt_detections), dtype=bool)\n",
    "    if vis_idx > -1:\n",
    "        vis_id = fd_src.tt_visits[\"vis_id\"][vis_idx]\n",
    "        sel_det_rg = (rg.tt_detections[\"vis_id\"]==vis_id) * (rg.tt_detections[\"obs_filter_id\"]==dd_filter2id[fd_src.obs_filter])\n",
    "        sel_det_src = (tc_src.tt_detections[\"vis_id\"]==vis_id) * (tc_src.tt_detections[\"obs_filter_id\"]==dd_filter2id[fd_src.obs_filter])\n",
    "\n",
    "        fd_det_coords = SkyCoord(fd_src.tt_detections[\"ra\"][sel_det_fd], fd_src.tt_detections[\"dec\"][sel_det_fd], frame=\"icrs\")\n",
    "        sel_det_fd = ( (fd_src.tt_detections[\"vis_id\"] == vis_id)\n",
    "                     * (fd_src.tt_detections[\"obs_filter_id\"] == dd_filter2id[fd_src.obs_filter])\n",
    "                     * sky_region_src.contains(fd_det_coords, wcs_src))\n",
    "        \n",
    "    #Show sources\n",
    "    plt_ref_src_kwargs = {\"marker\": \"x\",\"markersize\": 10,\"color\":\"yellow\"}\n",
    "    _ = vvis.plot_sky_sources(rg.tt_sources,tt_det=rg.tt_detections[sel_det_rg], sky_region_wcs = (sky_region_src,wcs_src),only_selected=False) #\n",
    "    _ = vvis.plot_sky_sources(rg.tt_coadd_sources,tt_det=None, sky_region_wcs = (sky_region_src,wcs_src),only_selected=False, src_id=\"coadd_src_id\", src_kwargs = plt_ref_src_kwargs)\n",
    "    if vis_idx > -1:\n",
    "        plot_tds = {\"marker\":\"x\",\"color\":\"green\"}\n",
    "        _ = vvis.plot_sky_sources(fd_src.tt_detections[sel_det_fd],src_kwargs=plot_tds, sky_region_wcs = (sky_region_src,wcs_src),  src_id=\"det_id\",only_selected=False)\n",
    "    plt.show()\n",
    "    \n",
    "    fig_lc_src = plt.figure(\"Light curve\",figsize=(8, 4), clear=True)\n",
    "    plt.cla()\n",
    "    vvis.plot_light_curve(rg, rg_src_ids = rg_src_id,fig=fig_lc_src) #\n",
    "    plt.show()\n",
    "\n",
    "    print(\"\\nSource:\")\n",
    "    display(tc_src.tt_sources) #[show_map_pars]\n",
    "    if \"tt_coadd_sources\" in tc_src._table_names:\n",
    "        print(\"\\nCoadd source:\")\n",
    "        display(tc_src.tt_coadd_sources) #[\"coadd_src_id\",\"flux\",\"flux_err\",\"nr_det\"]\n",
    "    print(\"\\nFields this source was detected in:\")\n",
    "    display(tc_src.tt_fields)\n",
    "    #print(\"\\nDetections:\")\n",
    "    #tc_src.tt_detections[sel_det_src].pprint_all()\n",
    "\n",
    "    # Display sources only for the shown field\n",
    "    #fd_src_id = rg.tt_src_id_map[sel_fd_src][\"fd_src_id\"][0]\n",
    "    if vis_idx > -1:\n",
    "        print(\"\\nAll detections for this visit in the field:\")\n",
    "        display(fd_src.tt_detections[sel_det_fd])\n",
    "    \n",
    "#Decide which sources to show\n",
    "list_srcs = tt_srcs[\"rg_src_id\"]\n",
    "if len(srcs_ids)>0:\n",
    "    list_srcs = srcs_ids\n",
    "     \n",
    "widget = widgets.interactive( plot_sky_src, rg_src_id=list_srcs,\n",
    "                    fd_idx=widgets.IntSlider(min=0, max=10, value=0, step=1),\n",
    "                    vis_idx = widgets.IntSlider(min=-1, max=100, value=-1, step=1)) #visprob_srcids = [1669,1801,2815,3776,4338,6137,] \n",
    "\n",
    "controls = widgets.HBox(widget.children[:-1], layout = widgets.Layout(flex_flow='row wrap'))\n",
    "output = widget.children[-1]\n",
    "display(widgets.VBox([controls, output]))\n",
    "# straight NUV, dashed FUV"
   ]
  },
  {
   "cell_type": "markdown",
   "id": "b65aa26f-ae0b-44c7-86f7-e22da3a9e976",
   "metadata": {},
   "source": [
    "### Sources to look into\n",
    "6213\t244.39756945883389\t55.14934913850557  periodic"
   ]
  },
  {
   "cell_type": "markdown",
   "id": "e7a1fe03-a8a7-4936-83ce-5f1a81b6c20f",
   "metadata": {},
   "source": [
    "### Draw light curves"
   ]
  },
  {
   "cell_type": "code",
   "execution_count": 4,
   "id": "b4b6f33c-ac4d-4467-a780-804bee76b0dd",
   "metadata": {},
   "outputs": [
    {
     "data": {
      "application/vnd.jupyter.widget-view+json": {
       "model_id": "461623b1502f4f00a16c5fe0054cce8e",
       "version_major": 2,
       "version_minor": 0
      },
      "text/plain": [
       "interactive(children=(IntSlider(value=1, description='block_nr', max=2), Output()), _dom_classes=('widget-inte…"
      ]
     },
     "execution_count": 4,
     "metadata": {},
     "output_type": "execute_result"
    }
   ],
   "source": [
    "nr_blocks = int(nr_srcs/lc_block_srcs)+1 \n",
    "def plot_lc_range(block_nr):\n",
    "    fig_lc = plt.figure(\"Light curves\",figsize=(10, 9), clear=True)\n",
    "    lc_min = lc_block_srcs * block_nr\n",
    "    lc_max = lc_min + lc_block_srcs if lc_min + lc_block_srcs<=nr_srcs-1 else nr_srcs\n",
    "    vvis.plot_light_curve(rg,fig=fig_lc, rg_src_ids = tt_srcs[\"rg_src_id\"][lc_min:lc_max], ylim = [1.2,550])\n",
    "    plt.show()\n",
    "    display(tt_srcs[lc_min:lc_max]) #[show_lc_pars]\n",
    "widgets.interactive( plot_lc_range, block_nr=(0,nr_blocks-1))"
   ]
  },
  {
   "cell_type": "markdown",
   "id": "20ff40c6-d108-4925-b04d-f85e3dd5f663",
   "metadata": {},
   "source": [
    "### Draw sky maps of fields"
   ]
  },
  {
   "cell_type": "code",
   "execution_count": 5,
   "id": "aaa5317e-41b7-47fe-9dca-29ae84bc127b",
   "metadata": {
    "tags": []
   },
   "outputs": [
    {
     "data": {
      "application/vnd.jupyter.widget-view+json": {
       "model_id": "0b0e2246af57492a9a165d335208bb33",
       "version_major": 2,
       "version_minor": 0
      },
      "text/plain": [
       "interactive(children=(IntSlider(value=196, description='rg_fd_id', max=392, min=1), Output()), _dom_classes=('…"
      ]
     },
     "execution_count": 5,
     "metadata": {},
     "output_type": "execute_result"
    }
   ],
   "source": [
    "def plot_sky_field(rg_fd_id):\n",
    "    if rg_fd_id not in rg.tt_fields[\"rg_fd_id\"]:\n",
    "        print(\"source ID does not exist\") \n",
    "        return\n",
    "    fig_skymap = plt.figure(\"Sky map\",figsize=(9, 8), clear=True) #, constrained_layout=True\n",
    "    fd = rg.get_field(rg_fd_id=rg_fd_id, load_method=\"FITS\", add_field=True)\n",
    "    ax, wcs = vvis.plot_field_sky_map(fd, img_idx=-1, sky_region = fd.get_sky_region(),fig=fig_skymap) # \n",
    "    ax, tt_src_shown = vvis.plot_sky_sources(rg.tt_sources,tt_det=rg.tt_detections, sky_region_wcs = (fd.get_sky_region(),wcs),only_selected=only_sel_srcs) # \n",
    "    plt.show()\n",
    "    display(tt_src_shown) #[show_map_pars]\n",
    "widgets.interactive( plot_sky_field, rg_fd_id=(rg.tt_fields[\"rg_fd_id\"].min(),rg.tt_fields[\"rg_fd_id\"].max()))"
   ]
  },
  {
   "cell_type": "code",
   "execution_count": null,
   "id": "40b02103-e651-4c98-bd2f-24461ed03f7e",
   "metadata": {},
   "outputs": [],
   "source": []
  }
 ],
 "metadata": {
  "kernelspec": {
   "display_name": "Python 3 (ipykernel)",
   "language": "python",
   "name": "python3"
  },
  "language_info": {
   "codemirror_mode": {
    "name": "ipython",
    "version": 3
   },
   "file_extension": ".py",
   "mimetype": "text/x-python",
   "name": "python",
   "nbconvert_exporter": "python",
   "pygments_lexer": "ipython3",
   "version": "3.10.9"
  }
 },
 "nbformat": 4,
 "nbformat_minor": 5
}
