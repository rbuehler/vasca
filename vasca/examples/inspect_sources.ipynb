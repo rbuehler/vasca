{
 "cells": [
  {
   "cell_type": "markdown",
   "id": "c0fd65f4-8d6a-45e8-96b6-a972fe024459",
   "metadata": {},
   "source": [
    "# Inspect source light curves and skymaps"
   ]
  },
  {
   "cell_type": "markdown",
   "id": "8ba66aa5-9d87-4681-a429-74b92c9bfeee",
   "metadata": {},
   "source": [
    "### Setup main notebook options"
   ]
  },
  {
   "cell_type": "code",
   "execution_count": 1,
   "id": "d73f0bca-43f4-4d59-91b3-c07bdbf960fe",
   "metadata": {
    "tags": []
   },
   "outputs": [],
   "source": [
    "region_name = \"WD\" #\"MDIS_10-800\" # \"TDS\" # _ELAISN1\n",
    "region_fname = \"./vasca_pipeline/\"+region_name+\"/region_\"+region_name+\"_cat.fits\"\n",
    "sort_par = \"rg_src_id\" # \"flux\"\n",
    "redo_src_sel = False\n",
    "only_sel_srcs = False\n",
    "lc_block_srcs = 5 #Setup light curve plotting parameters\n",
    "srcs_ids = []\n",
    "srcs_ids = [54293 ,502818 ,] # MDIS grv lens cand.\n",
    "srcs_ids = [33345 ,38012 ,46152 ,62707 ,70648 ,82868 ,105732 ,115400 ,146068 ,150601 ,182076 ,187753 ,286520 ,428562 ,478745 ,565122 ,]  # MDIS PM*\n",
    "srcs_ids = [4156 ,64183 ,] # MDIS BS*\n",
    "srcs_ids = [42218 ,] # MIDS HS? Hot subdwarf\n",
    "#srcs_ids = [17896 ,18125 ,170390 ,170722 ,535004 ,541088 ,542293 ,] # MDIS Novae\n",
    "srcs_ids = [52201 ,52938 ,98629 ,185620 ,311664 ,335541 ,552767 ,] # MDIS Most NUV variablle nxv_nuv>10\n",
    "srcs_ids = [3900 ,12909 ,12980 ,23259 ,23703 ,28623 ,29903 ,38012 ,46313 ,52201 ,52926 ,52938 ,53484 ,79799 ,85785 ,\n",
    "            87494 ,98629 ,118735 ,135168 ,154145 ,164594 ,172498 ,185620 ,194179 ,216306 ,221274 ,255447 ,258839 ,\n",
    "            283349 ,286520 ,311664 ,335541 ,374256 ,388731 ,443231 ,444083 ,506417 ,506472 ,506485 ,506618 ,552767 ,559483 ,] # MDIS Most NUV variablle nxv_nuv>2\n",
    "srcs_ids = [900 ,11630 ,52486 ,53151 ,58506 ,72801 ,82069 ,84614 ,163052 ,165195 ,179997 ,] # MDIS WD\n",
    "srcs_ids = [142 ,265 ,] # WD WD\n",
    "srcs_ids = []"
   ]
  },
  {
   "cell_type": "code",
   "execution_count": 2,
   "id": "a47713fa-f128-425f-a2d0-754e64ffb654",
   "metadata": {
    "tags": []
   },
   "outputs": [
    {
     "name": "stdout",
     "output_type": "stream",
     "text": [
      "Nr sources: 97 selected: 54\n"
     ]
    },
    {
     "name": "stderr",
     "output_type": "stream",
     "text": [
      "WARNING: UnitsWarning: '\"h:m:s\"' did not parse as fits unit: Invalid character at col 0 If this is meant to be a custom unit, define it with 'u.def_unit'. To have it recognized inside a file reader or other code, enable it with 'u.add_enabled_units'. For details, see https://docs.astropy.org/en/latest/units/combining_and_defining.html [astropy.units.core]\n",
      "WARNING: UnitsWarning: '\"d:m:s\"' did not parse as fits unit: Invalid character at col 0 If this is meant to be a custom unit, define it with 'u.def_unit'. To have it recognized inside a file reader or other code, enable it with 'u.add_enabled_units'. For details, see https://docs.astropy.org/en/latest/units/combining_and_defining.html [astropy.units.core]\n"
     ]
    },
    {
     "data": {
      "text/html": [
       "<div><i>Table length=2</i>\n",
       "<table id=\"table139853339869040\" class=\"table-striped table-bordered table-condensed\">\n",
       "<thead><tr><th>fd_src_id</th><th>nr_det</th><th>ra</th><th>dec</th><th>pos_err</th><th>pos_xv</th><th>pos_var</th><th>pos_cpval</th><th>pos_rchiq</th><th>coadd_id</th><th>coadd_dist</th><th>obs_filter_id</th><th>sel</th><th>flux</th><th>flux_err</th><th>flux_nxv</th><th>flux_var</th><th>flux_cpval</th><th>flux_rchiq</th><th>coadd_ffactor</th><th>coadd_fdiff_s2n</th><th>rg_fd_id</th><th>rg_src_id</th><th>nr_fd_srcs</th><th>hr</th><th>hr_err</th><th>otype</th><th>MAIN_ID</th><th>OTYPES</th><th>Z_VALUE</th><th>Distance_distance</th><th>Distance_unit</th><th>DISTANCE_RESULT</th><th>ogrp</th></tr></thead>\n",
       "<thead><tr><th></th><th></th><th>deg</th><th>deg</th><th>arcsec</th><th>arcsec2</th><th>arcsec2</th><th></th><th></th><th></th><th>arcsec</th><th></th><th></th><th>1e-06 Jy</th><th>1e-06 Jy</th><th></th><th>1e-12 Jy2</th><th></th><th></th><th></th><th></th><th></th><th></th><th></th><th></th><th></th><th></th><th></th><th></th><th></th><th></th><th></th><th>arcsec</th><th></th></tr></thead>\n",
       "<thead><tr><th>int32</th><th>int32[2]</th><th>float64</th><th>float64</th><th>float32</th><th>float32</th><th>float32</th><th>float32</th><th>float32</th><th>int64</th><th>float32</th><th>int32[2]</th><th>bool</th><th>float32[2]</th><th>float32[2]</th><th>float32[2]</th><th>float32[2]</th><th>float32[2]</th><th>float32[2]</th><th>float32[2]</th><th>float32[2]</th><th>int64</th><th>int32</th><th>int32</th><th>float32</th><th>float32</th><th>bytes32</th><th>bytes32</th><th>bytes32</th><th>float64</th><th>float64</th><th>bytes4</th><th>float32</th><th>bytes8</th></tr></thead>\n",
       "<tr><td>-1</td><td>65 .. 68</td><td>215.3258251809816</td><td>52.59654064337691</td><td>0.050360497</td><td>-0.07375955</td><td>0.26852778</td><td>0.076726675</td><td>0.79896915</td><td>368</td><td>0.11300543</td><td>1 .. 2</td><td>True</td><td>69.72519 .. 79.03558</td><td>0.22222711 .. 0.321316</td><td>0.002134229 .. 0.00021953335</td><td>13.988516 .. 9.005532</td><td>3.3108735e-17 .. 0.07128012</td><td>3.2579195 .. 1.2637537</td><td>0.9190387 .. 0.9846705</td><td>-23.128105 .. -3.282504</td><td>-1</td><td>142</td><td>6</td><td>1.1398447</td><td>0.010448129</td><td>WD*</td><td>SDSS J142118.18+523547.1</td><td>WD*|WD*|blu|WD*|*|Opt|WD?</td><td>0.0000500</td><td>311.0400</td><td>pc</td><td>0.4919</td><td>WD</td></tr>\n",
       "<tr><td>-1</td><td>138 .. 68</td><td>214.9642150671265</td><td>52.621268300836206</td><td>0.04451492</td><td>-0.18287745</td><td>0.22787334</td><td>0.9952592</td><td>0.5621546</td><td>784</td><td>0.18468158</td><td>1 .. 2</td><td>True</td><td>29.59391 .. 36.6164</td><td>0.111993775 .. 0.22920944</td><td>0.0022042582 .. 0.0008774234</td><td>3.8099718 .. 4.9800878</td><td>4.7207465e-09 .. 0.10959702</td><td>1.8555318 .. 1.2163855</td><td>1.063451 .. 0.9980463</td><td>12.4877825 .. -0.26716673</td><td>-1</td><td>265</td><td>6</td><td>1.2425294</td><td>0.013673056</td><td>WD*</td><td>SDSS J141951.41+523716.5</td><td>WD*|*|Opt</td><td>-0.0005690</td><td>1227.8400</td><td>pc</td><td>0.3502</td><td>WD</td></tr>\n",
       "</table></div>"
      ],
      "text/plain": [
       "<Table length=2>\n",
       "fd_src_id   nr_det          ra               dec           pos_err      pos_xv    pos_var   ...           OTYPES              Z_VALUE      Distance_distance Distance_unit DISTANCE_RESULT  ogrp \n",
       "                           deg               deg            arcsec     arcsec2    arcsec2   ...                                                                                 arcsec           \n",
       "  int32    int32[2]      float64           float64         float32     float32    float32   ...          bytes32              float64           float64          bytes4        float32     bytes8\n",
       "--------- --------- ----------------- ------------------ ----------- ----------- ---------- ... ------------------------- ---------------- ----------------- ------------- --------------- ------\n",
       "       -1  65 .. 68 215.3258251809816  52.59654064337691 0.050360497 -0.07375955 0.26852778 ... WD*|WD*|blu|WD*|*|Opt|WD?        0.0000500          311.0400            pc          0.4919     WD\n",
       "       -1 138 .. 68 214.9642150671265 52.621268300836206  0.04451492 -0.18287745 0.22787334 ...                 WD*|*|Opt       -0.0005690         1227.8400            pc          0.3502     WD"
      ]
     },
     "metadata": {},
     "output_type": "display_data"
    }
   ],
   "source": [
    "%matplotlib widget\n",
    "import ipywidgets as widgets\n",
    "from IPython.display import display\n",
    "import matplotlib.pyplot as plt\n",
    "\n",
    "from regions import CircleSkyRegion\n",
    "from astropy import units as uu\n",
    "from astropy.coordinates import SkyCoord\n",
    "from astropy.wcs.utils import pixel_to_skycoord\n",
    "from astropy.table import Table\n",
    "import numpy as np\n",
    "\n",
    "from vasca.region import Region\n",
    "from vasca.field import BaseField\n",
    "import vasca.visualization as vvis\n",
    "\n",
    "from vasca.utils import mag2flux, sel_sources, dd_filter2id\n",
    "\n",
    "#Setup some global setup parameters that usually don't need to be adjusted\n",
    "\n",
    "show_lc_pars = [\"rg_src_id\",\"nr_det\",\"flux\",\"flux_cpval\",\"flux_nxv\",\"flux_rchiq\",\"coadd_ffactor\",\"coadd_fdiff_s2n\"]\n",
    "show_map_pars = [\"rg_src_id\",\"obs_filter_id\",\"ra\",\"dec\",\"pos_err\",\"pos_xv\", \"pos_cpval\",\"nr_det\",\"flux\",\"flux_cpval\", \"nr_fd_srcs\",\"coadd_ffactor\",\"coadd_fdiff_s2n\",\"sel\"]\n",
    "\n",
    "#Load region\n",
    "rg = Region()\n",
    "rg.load_from_fits(region_fname)\n",
    "\n",
    "#Select source pool to show\n",
    "if redo_src_sel:\n",
    "    sel_vasca =  sel_sources(rg.tt_sources)\n",
    "    rg.tt_sources[\"sel\"][:]=sel_vasca \n",
    "print(\"Nr sources:\",len(rg.tt_sources),\"selected:\",rg.tt_sources[\"sel\"].sum())\n",
    "    \n",
    "#Subselect sources based on choice\n",
    "if len(srcs_ids)>0:\n",
    "    rg.tt_sources.add_index(\"rg_src_id\")\n",
    "    idx_srcs = rg.tt_sources.loc_indices[\"rg_src_id\", srcs_ids]\n",
    "    tt_srcs = Table(rg.tt_sources[idx_srcs])\n",
    "elif only_sel_srcs:\n",
    "    tt_srcs = rg.tt_sources[rg.tt_sources[\"sel\"]]\n",
    "else:\n",
    "    tt_srcs = rg.tt_sources\n",
    "\n",
    "nr_srcs = len(tt_srcs)\n",
    "tt_srcs.sort(sort_par)\n",
    "tt_srcs.add_index(\"rg_src_id\")\n",
    "display(tt_srcs)\n",
    "#display(rg.tt_fields)"
   ]
  },
  {
   "cell_type": "markdown",
   "id": "23df4759-a6cd-462d-8fa6-dcd4c14bd395",
   "metadata": {},
   "source": [
    "### Show all info for one source"
   ]
  },
  {
   "cell_type": "code",
   "execution_count": 3,
   "id": "c038cd88-42e8-4897-a277-bbf207f4c930",
   "metadata": {
    "tags": []
   },
   "outputs": [
    {
     "data": {
      "application/vnd.jupyter.widget-view+json": {
       "model_id": "426f9953ca2a4ee992e175bdc6e4527c",
       "version_major": 2,
       "version_minor": 0
      },
      "text/plain": [
       "VBox(children=(HBox(children=(Dropdown(description='rg_src_id', options=(142, 265), value=142), IntSlider(valu…"
      ]
     },
     "metadata": {},
     "output_type": "display_data"
    }
   ],
   "source": [
    "def plot_sky_src(rg_src_id=0, fd_idx=0, vis_idx = -1):\n",
    "    \n",
    "    #Check if src_id exists\n",
    "    if rg_src_id not in tt_srcs[\"rg_src_id\"]:\n",
    "        print(\"Source ID does not exist\") \n",
    "        return\n",
    "    \n",
    "    #Get source and check id field index out of range\n",
    "    tc_src = rg.get_src_from_id(rg_src_id)\n",
    "    if fd_idx > len(tc_src.tt_fields)-1:\n",
    "        print(\"Field index out of range\") \n",
    "        return\n",
    "    \n",
    "    #Get field to plot and check if visit index out of range\n",
    "    rg_fd_id = tc_src.tt_fields[fd_idx][\"rg_fd_id\"]\n",
    "    fd_src = rg.get_field(rg_fd_id=rg_fd_id, load_method=\"FITS\", add_field=True)\n",
    "    if vis_idx > len(fd_src.tt_visits)-1:\n",
    "        print(\"Visit index out of range\") \n",
    "        return\n",
    "\n",
    "    fig_src = plt.figure(\"Sky map source\",figsize=(8, 7), clear=True)\n",
    "\n",
    "    #Get sky region of source\n",
    "    sky_center = SkyCoord(tc_src.tt_sources[0][\"ra\"]*uu.deg, tc_src.tt_sources[0][\"dec\"]*uu.deg, frame=\"icrs\")\n",
    "    sky_region_src = CircleSkyRegion(center=sky_center, radius=0.3*uu.arcmin)\n",
    "     \n",
    "    #Plot\n",
    "    plt.cla()\n",
    "    ax_src, wcs_src = vvis.plot_field_sky_map(fd_src, img_idx=vis_idx, sky_region = sky_region_src, fig=fig_src) #\n",
    "    \n",
    "    #If displaying visits, onle show detections in that visit\n",
    "    sel_det_rg = np.ones(len(rg.tt_detections), dtype=bool)\n",
    "    sel_det_src = np.ones(len(tc_src.tt_detections), dtype=bool)\n",
    "    \n",
    "    # Preselt field detections, can be removed in the future\n",
    "    #fd_src.tt_detections = fd_src.tt_detections[fd_src.tt_detections[\"s2n\"]>0]\n",
    "    \n",
    "    sel_det_fd = np.ones(len(fd_src.tt_detections), dtype=bool)\n",
    "    if vis_idx > -1:\n",
    "        vis_id = fd_src.tt_visits[\"vis_id\"][vis_idx]\n",
    "        sel_det_rg = (rg.tt_detections[\"vis_id\"]==vis_id) * (rg.tt_detections[\"obs_filter_id\"]==dd_filter2id[fd_src.obs_filter])\n",
    "        sel_det_src = (tc_src.tt_detections[\"vis_id\"]==vis_id) * (tc_src.tt_detections[\"obs_filter_id\"]==dd_filter2id[fd_src.obs_filter])\n",
    "\n",
    "        fd_det_coords = SkyCoord(fd_src.tt_detections[\"ra\"][sel_det_fd], fd_src.tt_detections[\"dec\"][sel_det_fd], frame=\"icrs\")\n",
    "        sel_det_fd = ( (fd_src.tt_detections[\"vis_id\"] == vis_id)\n",
    "                     * (fd_src.tt_detections[\"obs_filter_id\"] == dd_filter2id[fd_src.obs_filter])\n",
    "                     * sky_region_src.contains(fd_det_coords, wcs_src))\n",
    "        \n",
    "    #Show sources\n",
    "    plt_ref_src_kwargs = {\"marker\": \"x\",\"markersize\": 10,\"color\":\"yellow\"}\n",
    "    _ = vvis.plot_sky_sources(rg.tt_sources,tt_det=rg.tt_detections[sel_det_rg], sky_region_wcs = (sky_region_src,wcs_src),only_selected=False) #\n",
    "    _ = vvis.plot_sky_sources(rg.tt_coadd_sources,tt_det=None, sky_region_wcs = (sky_region_src,wcs_src),only_selected=False, src_id=\"coadd_src_id\", src_kwargs = plt_ref_src_kwargs)\n",
    "    if vis_idx > -1:\n",
    "        plot_tds = {\"marker\":\"x\",\"color\":\"green\"}\n",
    "        _ = vvis.plot_sky_sources(fd_src.tt_detections[sel_det_fd],src_kwargs=plot_tds, sky_region_wcs = (sky_region_src,wcs_src),  src_id=\"det_id\",only_selected=False)\n",
    "    plt.show()\n",
    "    \n",
    "    fig_lc_src = plt.figure(\"Light curve\",figsize=(8, 4), clear=True)\n",
    "    plt.cla()\n",
    "    vvis.plot_light_curve(rg, rg_src_ids = rg_src_id,fig=fig_lc_src) #\n",
    "    plt.show()\n",
    "\n",
    "    print(\"\\nSource:\")\n",
    "    display(tc_src.tt_sources) #[show_map_pars]\n",
    "    if \"tt_coadd_sources\" in tc_src._table_names:\n",
    "        print(\"\\nCoadd source:\")\n",
    "        display(tc_src.tt_coadd_sources) #[\"coadd_src_id\",\"flux\",\"flux_err\",\"nr_det\"]\n",
    "    print(\"\\nFields this source was detected in:\")\n",
    "    display(tc_src.tt_fields)\n",
    "    print(\"\\nDetections:\")\n",
    "    tc_src.tt_detections[sel_det_src].pprint_all()\n",
    "\n",
    "    # Display sources only for the shown field\n",
    "    #fd_src_id = rg.tt_src_id_map[sel_fd_src][\"fd_src_id\"][0]\n",
    "    if vis_idx > -1:\n",
    "        print(\"\\nAll detections for this visit in the field:\")\n",
    "        display(fd_src.tt_detections[sel_det_fd])\n",
    "    \n",
    "#Decide which sources to show\n",
    "list_srcs = tt_srcs[\"rg_src_id\"]\n",
    "if len(srcs_ids)>0:\n",
    "    list_srcs = srcs_ids\n",
    "     \n",
    "widget = widgets.interactive( plot_sky_src, rg_src_id=list_srcs,\n",
    "                    fd_idx=widgets.IntSlider(min=0, max=10, value=0, step=1),\n",
    "                    vis_idx = widgets.IntSlider(min=-1, max=100, value=-1, step=1)) #visprob_srcids = [1669,1801,2815,3776,4338,6137,] \n",
    "\n",
    "controls = widgets.HBox(widget.children[:-1], layout = widgets.Layout(flex_flow='row wrap'))\n",
    "output = widget.children[-1]\n",
    "display(widgets.VBox([controls, output]))\n",
    "# straight NUV, dashed FUV"
   ]
  },
  {
   "cell_type": "markdown",
   "id": "b65aa26f-ae0b-44c7-86f7-e22da3a9e976",
   "metadata": {},
   "source": [
    "### Sources to look into\n",
    "6213\t244.39756945883389\t55.14934913850557  periodic"
   ]
  },
  {
   "cell_type": "markdown",
   "id": "e7a1fe03-a8a7-4936-83ce-5f1a81b6c20f",
   "metadata": {},
   "source": [
    "### Draw light curves"
   ]
  },
  {
   "cell_type": "code",
   "execution_count": 4,
   "id": "b4b6f33c-ac4d-4467-a780-804bee76b0dd",
   "metadata": {},
   "outputs": [
    {
     "data": {
      "application/vnd.jupyter.widget-view+json": {
       "model_id": "e5a84c2b96784f7d9f867fefe9897af6",
       "version_major": 2,
       "version_minor": 0
      },
      "text/plain": [
       "interactive(children=(IntSlider(value=0, description='block_nr', max=0), Output()), _dom_classes=('widget-inte…"
      ]
     },
     "execution_count": 4,
     "metadata": {},
     "output_type": "execute_result"
    }
   ],
   "source": [
    "nr_blocks = int(nr_srcs/lc_block_srcs)+1 \n",
    "def plot_lc_range(block_nr):\n",
    "    fig_lc = plt.figure(\"Light curves\",figsize=(10, 9), clear=True)\n",
    "    lc_min = lc_block_srcs * block_nr\n",
    "    lc_max = lc_min + lc_block_srcs if lc_min + lc_block_srcs<=nr_srcs-1 else nr_srcs\n",
    "    vvis.plot_light_curve(rg,fig=fig_lc, rg_src_ids = tt_srcs[\"rg_src_id\"][lc_min:lc_max], ylim = [1.2,550])\n",
    "    plt.show()\n",
    "    display(tt_srcs[lc_min:lc_max]) #[show_lc_pars]\n",
    "widgets.interactive( plot_lc_range, block_nr=(0,nr_blocks-1))"
   ]
  },
  {
   "cell_type": "markdown",
   "id": "20ff40c6-d108-4925-b04d-f85e3dd5f663",
   "metadata": {},
   "source": [
    "### Draw sky maps of fields"
   ]
  },
  {
   "cell_type": "code",
   "execution_count": 5,
   "id": "aaa5317e-41b7-47fe-9dca-29ae84bc127b",
   "metadata": {
    "tags": []
   },
   "outputs": [
    {
     "data": {
      "application/vnd.jupyter.widget-view+json": {
       "model_id": "e09483afba854c7fb3a4b6785d41c188",
       "version_major": 2,
       "version_minor": 0
      },
      "text/plain": [
       "interactive(children=(IntSlider(value=3, description='rg_fd_id', max=6, min=1), Output()), _dom_classes=('widg…"
      ]
     },
     "execution_count": 5,
     "metadata": {},
     "output_type": "execute_result"
    }
   ],
   "source": [
    "def plot_sky_field(rg_fd_id):\n",
    "    if rg_fd_id not in rg.tt_fields[\"rg_fd_id\"]:\n",
    "        print(\"source ID does not exist\") \n",
    "        return\n",
    "    fig_skymap = plt.figure(\"Sky map\",figsize=(9, 8), clear=True) #, constrained_layout=True\n",
    "    fd = rg.get_field(rg_fd_id=rg_fd_id, load_method=\"FITS\", add_field=True)\n",
    "    ax, wcs = vvis.plot_field_sky_map(fd, img_idx=-1, sky_region = fd.get_sky_region(),fig=fig_skymap) # \n",
    "    ax, tt_src_shown = vvis.plot_sky_sources(rg.tt_sources,tt_det=rg.tt_detections, sky_region_wcs = (fd.get_sky_region(),wcs),only_selected=only_sel_srcs) # \n",
    "    plt.show()\n",
    "    display(tt_src_shown) #[show_map_pars]\n",
    "widgets.interactive( plot_sky_field, rg_fd_id=(rg.tt_fields[\"rg_fd_id\"].min(),rg.tt_fields[\"rg_fd_id\"].max()))"
   ]
  },
  {
   "cell_type": "code",
   "execution_count": null,
   "id": "40b02103-e651-4c98-bd2f-24461ed03f7e",
   "metadata": {},
   "outputs": [],
   "source": []
  }
 ],
 "metadata": {
  "kernelspec": {
   "display_name": "Python 3 (ipykernel)",
   "language": "python",
   "name": "python3"
  },
  "language_info": {
   "codemirror_mode": {
    "name": "ipython",
    "version": 3
   },
   "file_extension": ".py",
   "mimetype": "text/x-python",
   "name": "python",
   "nbconvert_exporter": "python",
   "pygments_lexer": "ipython3",
   "version": "3.10.12"
  }
 },
 "nbformat": 4,
 "nbformat_minor": 5
}
