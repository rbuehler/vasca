{
 "cells": [
  {
   "cell_type": "markdown",
   "id": "c0fd65f4-8d6a-45e8-96b6-a972fe024459",
   "metadata": {},
   "source": [
    "# Inspect source light curves and skymaps"
   ]
  },
  {
   "cell_type": "markdown",
   "id": "8ba66aa5-9d87-4681-a429-74b92c9bfeee",
   "metadata": {},
   "source": [
    "### Setup main notebook options"
   ]
  },
  {
   "cell_type": "code",
   "execution_count": 1,
   "id": "d73f0bca-43f4-4d59-91b3-c07bdbf960fe",
   "metadata": {
    "tags": []
   },
   "outputs": [],
   "source": [
    "region_name = \"MDIS_10-800\" # \"TDS\" # _ELAISN1\n",
    "sort_par = \"rg_src_id\" # \"flux\"\n",
    "redo_src_sel = False\n",
    "only_sel_srcs = True\n",
    "lc_block_srcs = 5 #Setup light curve plotting parameters\n",
    "srcs_ids = []\n",
    "srcs_ids = [54293 ,502818 ,] # MDIS grv lens cand.\n",
    "srcs_ids = [33345 ,38012 ,46152 ,62707 ,70648 ,82868 ,105732 ,115400 ,146068 ,150601 ,182076 ,187753 ,286520 ,428562 ,478745 ,565122 ,]  # MDIS PM*\n",
    "srcs_ids = [4156 ,64183 ,] # MDIS BS*\n",
    "srcs_ids = [42218 ,] # MIDS HS? Hot subdwarf\n",
    "#srcs_ids = [17896 ,18125 ,170390 ,170722 ,535004 ,541088 ,542293 ,] # MDIS Novae\n",
    "srcs_ids = [52201 ,52938 ,98629 ,185620 ,311664 ,335541 ,552767 ,] # MDIS Most NUV variablle nxv_nuv>10\n",
    "srcs_ids = [3900 ,12909 ,12980 ,23259 ,23703 ,28623 ,29903 ,38012 ,46313 ,52201 ,52926 ,52938 ,53484 ,79799 ,85785 ,87494 ,98629 ,118735 ,135168 ,154145 ,164594 ,172498 ,185620 ,194179 ,216306 ,221274 ,255447 ,258839 ,283349 ,286520 ,311664 ,335541 ,374256 ,388731 ,443231 ,444083 ,506417 ,506472 ,506485 ,506618 ,552767 ,559483 ,] # MDIS Most NUV variablle nxv_nuv>2"
   ]
  },
  {
   "cell_type": "code",
   "execution_count": 2,
   "id": "a47713fa-f128-425f-a2d0-754e64ffb654",
   "metadata": {
    "tags": []
   },
   "outputs": [
    {
     "name": "stdout",
     "output_type": "stream",
     "text": [
      "Nr sources: 573356 selected: 4612\n"
     ]
    },
    {
     "data": {
      "text/html": [
       "<div><i>Table length=42</i>\n",
       "<table id=\"table139812093993328\" class=\"table-striped table-bordered table-condensed\">\n",
       "<thead><tr><th>fd_src_id</th><th>nr_det</th><th>ra</th><th>dec</th><th>pos_err</th><th>pos_xv</th><th>pos_var</th><th>pos_cpval</th><th>pos_rchiq</th><th>assoc_id</th><th>assoc_dist</th><th>obs_filter_id</th><th>sel</th><th>flux</th><th>flux_err</th><th>flux_nxv</th><th>flux_var</th><th>flux_cpval</th><th>flux_rchiq</th><th>assoc_ffactor</th><th>assoc_fdiff_s2n</th><th>rg_fd_id</th><th>rg_src_id</th><th>nr_fd_srcs</th><th>hr</th><th>hr_err</th></tr></thead>\n",
       "<thead><tr><th></th><th></th><th>deg</th><th>deg</th><th>arcsec</th><th>arcsec2</th><th>arcsec2</th><th></th><th></th><th></th><th>arcsec</th><th></th><th></th><th>1e-06 Jy</th><th>1e-06 Jy</th><th></th><th>1e-12 Jy2</th><th></th><th></th><th></th><th></th><th></th><th></th><th></th><th></th><th></th></tr></thead>\n",
       "<thead><tr><th>int32</th><th>int32[2]</th><th>float64</th><th>float64</th><th>float32</th><th>float32</th><th>float32</th><th>float32</th><th>float32</th><th>int64</th><th>float32</th><th>int32[2]</th><th>bool</th><th>float32[2]</th><th>float32[2]</th><th>float32[2]</th><th>float32[2]</th><th>float32[2]</th><th>float32[2]</th><th>float32[2]</th><th>float32[2]</th><th>int64</th><th>int32</th><th>int32</th><th>float32</th><th>float32</th></tr></thead>\n",
       "<tr><td>-1</td><td>10 .. -1</td><td>150.22831884456286</td><td>2.269886740591147</td><td>0.29041144</td><td>0.4147138</td><td>1.3703669</td><td>0.22907266</td><td>0.948215</td><td>12717</td><td>0.18874817</td><td>1 .. 0</td><td>True</td><td>3.092427 .. -1.0</td><td>0.2235056 .. -1.0</td><td>8.368637 .. -100.0</td><td>81.569916 .. -1.0</td><td>5.398462e-15 .. -1.0</td><td>9.711369 .. -1.0</td><td>1.1757222 .. 1.0</td><td>1.9841396 .. 0.0</td><td>-1</td><td>3900</td><td>5</td><td>-1.0</td><td>-1.0</td></tr>\n",
       "<tr><td>-1</td><td>67 .. 45</td><td>53.51697239173307</td><td>-27.941627946211444</td><td>0.07158798</td><td>-0.18929036</td><td>0.4201057</td><td>0.45059058</td><td>0.76199985</td><td>56190</td><td>0.3110039</td><td>1 .. 2</td><td>True</td><td>4.205877 .. 4.409619</td><td>0.081059024 .. 0.11404071</td><td>3.0603263 .. 0.048226316</td><td>55.395607 .. 1.5975167</td><td>0.0 .. 5.5779788e-06</td><td>52.287514 .. 2.2257674</td><td>0.5465592 .. 0.90830237</td><td>-33.856792 .. -3.0449603</td><td>-1</td><td>12909</td><td>4</td><td>0.3295063</td><td>0.019855477</td></tr>\n",
       "<tr><td>-1</td><td>75 .. 1</td><td>53.44915920680709</td><td>-27.499030477624498</td><td>0.090595126</td><td>-0.1679001</td><td>0.4910341</td><td>0.83188313</td><td>0.7530256</td><td>128004</td><td>0.42523834</td><td>1 .. 2</td><td>True</td><td>3.7669249 .. 2.5113854</td><td>0.079283096 .. 0.58577585</td><td>2.7439303 .. -100.0</td><td>39.503582 .. -100.0</td><td>0.0 .. -1.0</td><td>12.393266 .. -1.0</td><td>0.8764824 .. 2.228559</td><td>-5.0550985 .. 2.3409104</td><td>-1</td><td>12980</td><td>4</td><td>-1.0</td><td>-1.0</td></tr>\n",
       "<tr><td>-1</td><td>18 .. 1</td><td>242.68796139057343</td><td>56.16066860222422</td><td>0.18438716</td><td>-0.20605813</td><td>0.47426274</td><td>0.42997792</td><td>0.7232592</td><td>32702</td><td>0.14364624</td><td>1 .. 2</td><td>True</td><td>3.2209144 .. 2.8791478</td><td>0.16158082 .. 0.670552</td><td>4.5173016 .. -100.0</td><td>48.21635 .. -100.0</td><td>2.264683e-09 .. -1.0</td><td>4.4488792 .. -1.0</td><td>0.91170025 .. 1.0514175</td><td>-1.5290216 .. 0.19681442</td><td>-1</td><td>23259</td><td>3</td><td>1.0483983</td><td>0.336938</td></tr>\n",
       "<tr><td>-1</td><td>20 .. 4</td><td>242.233580139594</td><td>56.42015253267921</td><td>0.1340013</td><td>-0.20506123</td><td>0.2498949</td><td>0.81330734</td><td>0.5521697</td><td>92316</td><td>0.09399477</td><td>1 .. 2</td><td>True</td><td>9.907438 .. 25.090893</td><td>0.20202076 .. 0.81195325</td><td>2.7687387 .. 0.00318659</td><td>272.82355 .. 4.6664896</td><td>0.0 .. 0.1544085</td><td>156.06506 .. 1.7498561</td><td>0.46331567 .. 1.0014042</td><td>-44.104336 .. 0.033042956</td><td>-1</td><td>23703</td><td>3</td><td>0.71864426</td><td>0.04638169</td></tr>\n",
       "<tr><td>-1</td><td>30 .. 10</td><td>160.85459439209984</td><td>56.54944760481319</td><td>0.0864584</td><td>-0.07789119</td><td>0.22741136</td><td>0.39234215</td><td>0.75083053</td><td>108622</td><td>0.14112164</td><td>1 .. 2</td><td>True</td><td>48.12061 .. 59.228115</td><td>0.23283403 .. 0.7288154</td><td>4.5429554 .. 2.6537988</td><td>10522.554 .. 9319.845</td><td>0.0 .. 0.0</td><td>1468.8219 .. 721.02734</td><td>0.4345416 .. 0.55719936</td><td>-172.4756 .. -45.251938</td><td>-1</td><td>28623</td><td>3</td><td>0.8122526</td><td>0.01138824</td></tr>\n",
       "<tr><td>...</td><td>...</td><td>...</td><td>...</td><td>...</td><td>...</td><td>...</td><td>...</td><td>...</td><td>...</td><td>...</td><td>...</td><td>...</td><td>...</td><td>...</td><td>...</td><td>...</td><td>...</td><td>...</td><td>...</td><td>...</td><td>...</td><td>...</td><td>...</td><td>...</td><td>...</td></tr>\n",
       "<tr><td>-1</td><td>5 .. -1</td><td>33.142874555607314</td><td>-5.29260478713723</td><td>0.34207028</td><td>0.37649962</td><td>0.98932505</td><td>0.08677337</td><td>1.1996771</td><td>2438300</td><td>0.29785067</td><td>1 .. 0</td><td>True</td><td>6.9566526 .. -1.0</td><td>0.4117867 .. -1.0</td><td>2.10664 .. -100.0</td><td>104.018456 .. -1.0</td><td>5.990777e-15 .. -1.0</td><td>18.184704 .. -1.0</td><td>1.0930475 .. 1.0</td><td>1.2884772 .. 0.0</td><td>-1</td><td>506417</td><td>1</td><td>-1.0</td><td>-1.0</td></tr>\n",
       "<tr><td>-1</td><td>3 .. -1</td><td>33.13272290328395</td><td>-5.267362564969266</td><td>0.43673265</td><td>-0.13303809</td><td>0.44362673</td><td>0.23548692</td><td>0.72304994</td><td>2438629</td><td>0.8123531</td><td>1 .. 0</td><td>True</td><td>7.3565903 .. -1.0</td><td>0.62616926 .. -1.0</td><td>2.978285 .. -100.0</td><td>165.87529 .. -1.0</td><td>2.3838171e-09 .. -1.0</td><td>19.854563 .. -1.0</td><td>0.717758 .. 1.0</td><td>-4.0978737 .. 0.0</td><td>-1</td><td>506472</td><td>1</td><td>-1.0</td><td>-1.0</td></tr>\n",
       "<tr><td>-1</td><td>2 .. -1</td><td>33.12980209561828</td><td>-5.322188395538376</td><td>0.7868315</td><td>-0.20535862</td><td>1.4185551</td><td>0.14251962</td><td>0.87354094</td><td>2438715</td><td>0.55287087</td><td>1 .. 0</td><td>True</td><td>6.0297046 .. -1.0</td><td>0.86656237 .. -1.0</td><td>9.862177 .. -100.0</td><td>368.43777 .. -1.0</td><td>1.008154e-09 .. -1.0</td><td>37.309055 .. -1.0</td><td>2.6663222 .. 1.0</td><td>4.2733183 .. 0.0</td><td>-1</td><td>506485</td><td>1</td><td>-1.0</td><td>-1.0</td></tr>\n",
       "<tr><td>-1</td><td>2 .. -1</td><td>33.10628300493833</td><td>-5.290420762072824</td><td>0.85433435</td><td>-0.8966884</td><td>0.8341095</td><td>0.245163</td><td>0.48192194</td><td>2439464</td><td>0.66608995</td><td>1 .. 0</td><td>True</td><td>3.7470527 .. -1.0</td><td>0.65989536 .. -1.0</td><td>5.7483907 .. -100.0</td><td>83.98297 .. -1.0</td><td>4.077257e-07 .. -1.0</td><td>25.657415 .. -1.0</td><td>1.0257738 .. 1.0</td><td>0.1305152 .. 0.0</td><td>-1</td><td>506618</td><td>1</td><td>-1.0</td><td>-1.0</td></tr>\n",
       "<tr><td>-1</td><td>2 .. -1</td><td>9.618421610306147</td><td>-41.82183894589478</td><td>0.4170756</td><td>-0.3154215</td><td>0.063812286</td><td>0.4693918</td><td>0.16826636</td><td>828361</td><td>0.13813682</td><td>1 .. 0</td><td>True</td><td>13.50185 .. -1.0</td><td>0.6078362 .. -1.0</td><td>24.79433 .. -100.0</td><td>4522.048 .. -1.0</td><td>0.0 .. -1.0</td><td>2213.92 .. -1.0</td><td>4.397701 .. -100.0</td><td>16.781715 .. -10000.0</td><td>-1</td><td>552767</td><td>1</td><td>-1.0</td><td>-1.0</td></tr>\n",
       "<tr><td>-1</td><td>18 .. -1</td><td>9.014980297582389</td><td>-41.94254160479844</td><td>0.17270428</td><td>-0.1563607</td><td>0.39775103</td><td>0.63884187</td><td>0.662901</td><td>-1</td><td>-1.0</td><td>1 .. 0</td><td>True</td><td>4.9913316 .. -1.0</td><td>0.17109743 .. -1.0</td><td>2.7833369 .. -100.0</td><td>69.936264 .. -1.0</td><td>0.0 .. -1.0</td><td>55.352936 .. -1.0</td><td>-100.0 .. -100.0</td><td>-10000.0 .. -10000.0</td><td>-1</td><td>559483</td><td>1</td><td>-1.0</td><td>-1.0</td></tr>\n",
       "</table></div>"
      ],
      "text/plain": [
       "<Table length=42>\n",
       "fd_src_id  nr_det          ra         ... nr_fd_srcs     hr        hr_err  \n",
       "                          deg         ...                                  \n",
       "  int32   int32[2]      float64       ...   int32     float32     float32  \n",
       "--------- -------- ------------------ ... ---------- ---------- -----------\n",
       "       -1 10 .. -1 150.22831884456286 ...          5       -1.0        -1.0\n",
       "       -1 67 .. 45  53.51697239173307 ...          4  0.3295063 0.019855477\n",
       "       -1  75 .. 1  53.44915920680709 ...          4       -1.0        -1.0\n",
       "       -1  18 .. 1 242.68796139057343 ...          3  1.0483983    0.336938\n",
       "       -1  20 .. 4   242.233580139594 ...          3 0.71864426  0.04638169\n",
       "       -1 30 .. 10 160.85459439209984 ...          3  0.8122526  0.01138824\n",
       "      ...      ...                ... ...        ...        ...         ...\n",
       "       -1  5 .. -1 33.142874555607314 ...          1       -1.0        -1.0\n",
       "       -1  3 .. -1  33.13272290328395 ...          1       -1.0        -1.0\n",
       "       -1  2 .. -1  33.12980209561828 ...          1       -1.0        -1.0\n",
       "       -1  2 .. -1  33.10628300493833 ...          1       -1.0        -1.0\n",
       "       -1  2 .. -1  9.618421610306147 ...          1       -1.0        -1.0\n",
       "       -1 18 .. -1  9.014980297582389 ...          1       -1.0        -1.0"
      ]
     },
     "metadata": {},
     "output_type": "display_data"
    },
    {
     "data": {
      "text/html": [
       "<div><i>Table length=392</i>\n",
       "<table id=\"table139811673226976\" class=\"table-striped table-bordered table-condensed\">\n",
       "<thead><tr><th>field_id</th><th>field_name</th><th>ra</th><th>dec</th><th>observatory</th><th>obs_filter</th><th>fov_diam</th><th>sel</th><th>nr_vis</th><th>time_bin_size_sum</th><th>time_start</th><th>time_stop</th><th>rg_fd_id</th></tr></thead>\n",
       "<thead><tr><th></th><th></th><th>deg</th><th>deg</th><th></th><th></th><th>deg</th><th></th><th></th><th>s</th><th>d</th><th>d</th><th></th></tr></thead>\n",
       "<thead><tr><th>bytes32</th><th>bytes32</th><th>float64</th><th>float64</th><th>bytes22</th><th>bytes8</th><th>float32</th><th>bool</th><th>int32</th><th>float32</th><th>float64</th><th>float64</th><th>int64</th></tr></thead>\n",
       "<tr><td>GNU2509140647668088832</td><td>PKS2155m304</td><td>329.7262466081879</td><td>-30.2657589090371</td><td>GALEX</td><td>NUV</td><td>1.2</td><td>True</td><td>29</td><td>32261.951</td><td>54683.55502314815</td><td>55140.15796296296</td><td>1</td></tr>\n",
       "<tr><td>GNU2509211016412266496</td><td>HPQ_3C454p3</td><td>343.48735799747396</td><td>16.1446550539213</td><td>GALEX</td><td>NUV</td><td>1.2</td><td>True</td><td>12</td><td>10216.749</td><td>54738.00383101852</td><td>56251.395905309604</td><td>2</td></tr>\n",
       "<tr><td>GNU2518745981248339968</td><td>CDFS_00</td><td>53.1273118243563</td><td>-27.8744513655764</td><td>GALEX</td><td>NUV</td><td>1.2</td><td>True</td><td>73</td><td>89294.34</td><td>52952.65777777778</td><td>55288.62908564815</td><td>3</td></tr>\n",
       "<tr><td>GNU2518851534364606464</td><td>CDFS_01</td><td>52.012981707647214</td><td>-28.2176904865393</td><td>GALEX</td><td>NUV</td><td>1.2</td><td>True</td><td>23</td><td>36824.6</td><td>52976.559745370374</td><td>54669.45879882813</td><td>4</td></tr>\n",
       "<tr><td>GNU2518957087480872960</td><td>CDFS_02</td><td>53.125889581000706</td><td>-26.8016267586752</td><td>GALEX</td><td>NUV</td><td>1.2</td><td>True</td><td>30</td><td>30703.352</td><td>53714.68446759259</td><td>55366.04723379629</td><td>5</td></tr>\n",
       "<tr><td>GNU2519027456225050624</td><td>CDFS_03</td><td>54.16583693007192</td><td>-27.3163848506865</td><td>GALEX</td><td>NUV</td><td>1.2</td><td>True</td><td>30</td><td>32152.951</td><td>52980.601168981484</td><td>55226.42217466001</td><td>6</td></tr>\n",
       "<tr><td>...</td><td>...</td><td>...</td><td>...</td><td>...</td><td>...</td><td>...</td><td>...</td><td>...</td><td>...</td><td>...</td><td>...</td><td>...</td></tr>\n",
       "<tr><td>GFU2607234677253079040</td><td>PS_GROTH_MOS04</td><td>212.397804323772</td><td>53.7029450147134</td><td>GALEX</td><td>FUV</td><td>1.2</td><td>True</td><td>4</td><td>5378.6</td><td>54955.656273148146</td><td>56384.656747685185</td><td>387</td></tr>\n",
       "<tr><td>GFU2607305045997256704</td><td>PS_GROTH_MOS05</td><td>215.49424460210594</td><td>52.7780196325928</td><td>GALEX</td><td>FUV</td><td>1.2</td><td>True</td><td>4</td><td>5378.4</td><td>54955.725069444445</td><td>56363.92515950521</td><td>388</td></tr>\n",
       "<tr><td>GFU2607375414741434368</td><td>PS_GROTH_MOS06</td><td>214.300238834909</td><td>52.5500705847555</td><td>GALEX</td><td>FUV</td><td>1.2</td><td>True</td><td>4</td><td>3369.75</td><td>54955.79356481481</td><td>55725.543969907405</td><td>389</td></tr>\n",
       "<tr><td>GFU2607445783485612032</td><td>PS_GROTH_MOS07</td><td>212.62676625037193</td><td>52.7521896298337</td><td>GALEX</td><td>FUV</td><td>1.2</td><td>True</td><td>3</td><td>4024.15</td><td>54955.86178240741</td><td>56349.212406141494</td><td>390</td></tr>\n",
       "<tr><td>GFU2834842380094406656</td><td>MISDR2_24267_0504</td><td>157.616041259466</td><td>1.52414653697365</td><td>GALEX</td><td>FUV</td><td>1.2</td><td>True</td><td>20</td><td>15541.1</td><td>54183.906481481485</td><td>56485.91301179109</td><td>391</td></tr>\n",
       "<tr><td>GFU2911122098984321024</td><td>MISWZS00_29144_0165</td><td>353.34428030131903</td><td>-1.312225482005</td><td>GALEX</td><td>FUV</td><td>1.2</td><td>True</td><td>8</td><td>7801.0996</td><td>53999.559641203705</td><td>55709.64549768518</td><td>392</td></tr>\n",
       "</table></div>"
      ],
      "text/plain": [
       "<Table length=392>\n",
       "       field_id             field_name     ...     time_stop      rg_fd_id\n",
       "                                           ...         d                  \n",
       "       bytes32               bytes32       ...      float64        int64  \n",
       "---------------------- ------------------- ... ------------------ --------\n",
       "GNU2509140647668088832         PKS2155m304 ...  55140.15796296296        1\n",
       "GNU2509211016412266496         HPQ_3C454p3 ... 56251.395905309604        2\n",
       "GNU2518745981248339968             CDFS_00 ...  55288.62908564815        3\n",
       "GNU2518851534364606464             CDFS_01 ...  54669.45879882813        4\n",
       "GNU2518957087480872960             CDFS_02 ...  55366.04723379629        5\n",
       "GNU2519027456225050624             CDFS_03 ...  55226.42217466001        6\n",
       "                   ...                 ... ...                ...      ...\n",
       "GFU2607234677253079040      PS_GROTH_MOS04 ... 56384.656747685185      387\n",
       "GFU2607305045997256704      PS_GROTH_MOS05 ...  56363.92515950521      388\n",
       "GFU2607375414741434368      PS_GROTH_MOS06 ... 55725.543969907405      389\n",
       "GFU2607445783485612032      PS_GROTH_MOS07 ... 56349.212406141494      390\n",
       "GFU2834842380094406656   MISDR2_24267_0504 ...  56485.91301179109      391\n",
       "GFU2911122098984321024 MISWZS00_29144_0165 ...  55709.64549768518      392"
      ]
     },
     "metadata": {},
     "output_type": "display_data"
    }
   ],
   "source": [
    "%matplotlib widget\n",
    "import ipywidgets as widgets\n",
    "from IPython.display import display\n",
    "import matplotlib.pyplot as plt\n",
    "\n",
    "from regions import CircleSkyRegion\n",
    "from astropy import units as uu\n",
    "from astropy.coordinates import SkyCoord\n",
    "from astropy.wcs.utils import pixel_to_skycoord\n",
    "from astropy.table import Table\n",
    "import numpy as np\n",
    "\n",
    "from vasca.region import Region\n",
    "from vasca.field import BaseField\n",
    "import vasca.visualization as vvis\n",
    "\n",
    "from vasca.utils import mag2flux, sel_sources, dd_filter2id\n",
    "\n",
    "#Setup some global setup parameters that usually don't need to be adjusted\n",
    "\n",
    "show_lc_pars = [\"rg_src_id\",\"nr_det\",\"flux\",\"flux_cpval\",\"flux_nxv\",\"flux_rchiq\",\"assoc_ffactor\",\"assoc_fdiff_s2n\"]\n",
    "show_map_pars = [\"rg_src_id\",\"obs_filter_id\",\"ra\",\"dec\",\"pos_err\",\"pos_xv\", \"pos_cpval\",\"nr_det\",\"flux\",\"flux_cpval\", \"nr_fd_srcs\",\"assoc_ffactor\",\"assoc_fdiff_s2n\",\"sel\"]\n",
    "\n",
    "#Load region\n",
    "region_fname = \"./vasca_pipeline/\"+region_name+\"/region_\"+region_name+\".fits\"\n",
    "rg = Region()\n",
    "rg.load_from_fits(region_fname)\n",
    "\n",
    "#Select source pool to show\n",
    "if redo_src_sel:\n",
    "    sel_vasca =  sel_sources(rg.tt_sources)\n",
    "    rg.tt_sources[\"sel\"][:]=sel_vasca \n",
    "print(\"Nr sources:\",len(rg.tt_sources),\"selected:\",rg.tt_sources[\"sel\"].sum())\n",
    "    \n",
    "#Subselect sources based on choice\n",
    "if len(srcs_ids)>0:\n",
    "    rg.tt_sources.add_index(\"rg_src_id\")\n",
    "    idx_srcs = rg.tt_sources.loc_indices[\"rg_src_id\", srcs_ids]\n",
    "    tt_srcs = Table(rg.tt_sources[idx_srcs])\n",
    "elif only_sel_srcs:\n",
    "    tt_srcs = rg.tt_sources[rg.tt_sources[\"sel\"]]\n",
    "\n",
    "nr_srcs = len(tt_srcs)\n",
    "tt_srcs.sort(sort_par)\n",
    "tt_srcs.add_index(\"rg_src_id\")\n",
    "display(tt_srcs)\n",
    "display(rg.tt_fields)\n",
    "#print(rg.tt_fields[\"field_id\"].data)"
   ]
  },
  {
   "cell_type": "markdown",
   "id": "23df4759-a6cd-462d-8fa6-dcd4c14bd395",
   "metadata": {},
   "source": [
    "### Show all info for one source"
   ]
  },
  {
   "cell_type": "code",
   "execution_count": 3,
   "id": "c038cd88-42e8-4897-a277-bbf207f4c930",
   "metadata": {
    "tags": []
   },
   "outputs": [
    {
     "data": {
      "application/vnd.jupyter.widget-view+json": {
       "model_id": "f0d416b088cd4ff58ca080c186916364",
       "version_major": 2,
       "version_minor": 0
      },
      "text/plain": [
       "VBox(children=(HBox(children=(Dropdown(description='rg_src_id', options=(3900, 12909, 12980, 23259, 23703, 286…"
      ]
     },
     "metadata": {},
     "output_type": "display_data"
    }
   ],
   "source": [
    "def plot_sky_src(rg_src_id=0, fd_idx=0, vis_idx = -1):\n",
    "    \n",
    "    #Check if src_id exists\n",
    "    if rg_src_id not in tt_srcs[\"rg_src_id\"]:\n",
    "        print(\"Source ID does not exist\") \n",
    "        return\n",
    "    \n",
    "    #Get source and check id field index out of range\n",
    "    tc_src = rg.get_src_from_id(rg_src_id)\n",
    "    if fd_idx > len(tc_src.tt_fields)-1:\n",
    "        print(\"Field index out of range\") \n",
    "        return\n",
    "    \n",
    "    #Get field to plot and check if visit index out of range\n",
    "    rg_fd_id = tc_src.tt_fields[fd_idx][\"rg_fd_id\"]\n",
    "    fd_src = rg.get_field(rg_fd_id=rg_fd_id, load_method=\"FITS\", add_field=True)\n",
    "    if vis_idx > len(fd_src.tt_visits)-1:\n",
    "        print(\"Visit index out of range\") \n",
    "        return\n",
    "\n",
    "    fig_src = plt.figure(\"Sky map source\",figsize=(8, 7))\n",
    "    #plt.cla()\n",
    "\n",
    "    #Get sky region of source\n",
    "    sky_center = SkyCoord(tc_src.tt_sources[0][\"ra\"]*uu.deg, tc_src.tt_sources[0][\"dec\"]*uu.deg, frame=\"icrs\")\n",
    "    sky_region_src = CircleSkyRegion(center=sky_center, radius=0.3*uu.arcmin)\n",
    "     \n",
    "    #Plot\n",
    "    plt.cla()\n",
    "    ax_src, wcs_src = vvis.plot_field_sky_map(fd_src, img_idx=vis_idx, sky_region = sky_region_src, fig=fig_src) #\n",
    "    \n",
    "    #If displaying visits, onle show detections in that visit\n",
    "    sel_det_rg = np.ones(len(rg.tt_detections), dtype=bool)\n",
    "    sel_det_src = np.ones(len(tc_src.tt_detections), dtype=bool)\n",
    "    \n",
    "    # Preselt field detections, can be removed in the future\n",
    "    fd_src.tt_detections = fd_src.tt_detections[fd_src.tt_detections[\"s2n\"]>0]\n",
    "    \n",
    "    sel_det_fd = np.ones(len(fd_src.tt_detections), dtype=bool)\n",
    "    if vis_idx > -1:\n",
    "        vis_id = fd_src.tt_visits[\"vis_id\"][vis_idx]\n",
    "        sel_det_rg = (rg.tt_detections[\"vis_id\"]==vis_id) * (rg.tt_detections[\"obs_filter_id\"]==dd_filter2id[fd_src.obs_filter])\n",
    "        sel_det_src = (tc_src.tt_detections[\"vis_id\"]==vis_id) * (tc_src.tt_detections[\"obs_filter_id\"]==dd_filter2id[fd_src.obs_filter])\n",
    "\n",
    "        fd_det_coords = SkyCoord(fd_src.tt_detections[\"ra\"][sel_det_fd], fd_src.tt_detections[\"dec\"][sel_det_fd], frame=\"icrs\")\n",
    "        sel_det_fd = ( (fd_src.tt_detections[\"vis_id\"] == vis_id)\n",
    "                     * (fd_src.tt_detections[\"obs_filter_id\"] == dd_filter2id[fd_src.obs_filter])\n",
    "                     * sky_region_src.contains(fd_det_coords, wcs_src))\n",
    "        \n",
    "    #Show sources\n",
    "    plt_ref_src_kwargs = {\"marker\": \"x\",\"markersize\": 10,\"color\":\"yellow\"}\n",
    "    _ = vvis.plot_sky_sources(rg.tt_sources,tt_det=rg.tt_detections[sel_det_rg], sky_region_wcs = (sky_region_src,wcs_src),only_selected=False) #\n",
    "    _ = vvis.plot_sky_sources(rg.tt_coadd_sources,tt_det=None, sky_region_wcs = (sky_region_src,wcs_src),only_selected=False, src_id=\"coadd_src_id\", src_kwargs = plt_ref_src_kwargs)\n",
    "    if vis_idx > -1:\n",
    "        plot_tds = {\"marker\":\"x\",\"color\":\"green\"}\n",
    "        _ = vvis.plot_sky_sources(fd_src.tt_detections[sel_det_fd],src_kwargs=plot_tds, sky_region_wcs = (sky_region_src,wcs_src),  src_id=\"det_id\",only_selected=False)\n",
    "    plt.show()\n",
    "    \n",
    "    fig_lc_src = plt.figure(\"Light curve\",figsize=(8, 4))\n",
    "    plt.cla()\n",
    "    vvis.plot_light_curve(rg, rg_src_ids = rg_src_id,fig=fig_lc_src) #\n",
    "    plt.show()\n",
    "\n",
    "    print(\"\\nSource:\")\n",
    "    display(tc_src.tt_sources[show_map_pars])\n",
    "    if \"tt_coadd_sources\" in tc_src._table_names:\n",
    "        display(tc_src.tt_coadd_sources[\"coadd_src_id\",\"flux\",\"flux_err\",\"nr_det\"])\n",
    "    print(\"\\nFields this source was detected in:\")\n",
    "    display(tc_src.tt_fields)\n",
    "    #print(\"\\nDetections:\")\n",
    "    #tc_src.tt_detections[sel_det_src].pprint_all()\n",
    "\n",
    "    # Display sources only for the shown field\n",
    "    #fd_src_id = rg.tt_src_id_map[sel_fd_src][\"fd_src_id\"][0]\n",
    "    if vis_idx > -1:\n",
    "        print(\"\\nAll detections for this visit in the field:\")\n",
    "        display(fd_src.tt_detections[sel_det_fd])\n",
    "    \n",
    "#Decide which sources to show\n",
    "list_srcs = tt_srcs[\"rg_src_id\"]\n",
    "if len(srcs_ids)>0:\n",
    "    list_srcs = srcs_ids\n",
    "     \n",
    "widget = widgets.interactive( plot_sky_src, rg_src_id=list_srcs,\n",
    "                    fd_idx=widgets.IntSlider(min=0, max=10, value=0, step=1),\n",
    "                    vis_idx = widgets.IntSlider(min=-1, max=100, value=-1, step=1)) #visprob_srcids = [1669,1801,2815,3776,4338,6137,] \n",
    "\n",
    "controls = widgets.HBox(widget.children[:-1], layout = widgets.Layout(flex_flow='row wrap'))\n",
    "output = widget.children[-1]\n",
    "display(widgets.VBox([controls, output]))\n",
    "# straight NUV, dashed FUV"
   ]
  },
  {
   "cell_type": "markdown",
   "id": "b65aa26f-ae0b-44c7-86f7-e22da3a9e976",
   "metadata": {},
   "source": [
    "### Sources to look into\n",
    "6213\t244.39756945883389\t55.14934913850557  periodic"
   ]
  },
  {
   "cell_type": "markdown",
   "id": "e7a1fe03-a8a7-4936-83ce-5f1a81b6c20f",
   "metadata": {},
   "source": [
    "### Draw light curves"
   ]
  },
  {
   "cell_type": "code",
   "execution_count": 4,
   "id": "b4b6f33c-ac4d-4467-a780-804bee76b0dd",
   "metadata": {},
   "outputs": [
    {
     "data": {
      "application/vnd.jupyter.widget-view+json": {
       "model_id": "0cdd9fdd48a748b1bbc69ae1c7297604",
       "version_major": 2,
       "version_minor": 0
      },
      "text/plain": [
       "interactive(children=(IntSlider(value=4, description='block_nr', max=8), Output()), _dom_classes=('widget-inte…"
      ]
     },
     "execution_count": 4,
     "metadata": {},
     "output_type": "execute_result"
    }
   ],
   "source": [
    "nr_blocks = int(nr_srcs/lc_block_srcs)+1 \n",
    "def plot_lc_range(block_nr):\n",
    "    fig_lc = plt.figure(\"Light curves\",figsize=(10, 9))\n",
    "    plt.cla()\n",
    "    lc_min = lc_block_srcs * block_nr\n",
    "    lc_max = lc_min + lc_block_srcs if lc_min + lc_block_srcs<=nr_srcs-1 else nr_srcs\n",
    "    print(lc_min,lc_max)\n",
    "    vvis.plot_light_curve(rg,fig=fig_lc, rg_src_ids = tt_srcs[\"rg_src_id\"][lc_min:lc_max], ylim = [1.2,550])\n",
    "    plt.show()\n",
    "    display(tt_srcs[lc_min:lc_max][show_lc_pars])\n",
    "widgets.interactive( plot_lc_range, block_nr=(0,nr_blocks-1))"
   ]
  },
  {
   "cell_type": "markdown",
   "id": "20ff40c6-d108-4925-b04d-f85e3dd5f663",
   "metadata": {},
   "source": [
    "### Draw sky maps of fields"
   ]
  },
  {
   "cell_type": "code",
   "execution_count": 5,
   "id": "aaa5317e-41b7-47fe-9dca-29ae84bc127b",
   "metadata": {
    "tags": []
   },
   "outputs": [
    {
     "data": {
      "application/vnd.jupyter.widget-view+json": {
       "model_id": "0589bab4dbbb43cb8c04015c9e56efbc",
       "version_major": 2,
       "version_minor": 0
      },
      "text/plain": [
       "interactive(children=(IntSlider(value=196, description='rg_fd_id', max=392, min=1), Output()), _dom_classes=('…"
      ]
     },
     "execution_count": 5,
     "metadata": {},
     "output_type": "execute_result"
    }
   ],
   "source": [
    "def plot_sky_field(rg_fd_id):\n",
    "    if rg_fd_id not in rg.tt_fields[\"rg_fd_id\"]:\n",
    "        print(\"source ID does not exist\") \n",
    "        return\n",
    "    fig_skymap = plt.figure(\"Sky map\",figsize=(9, 8)) #, constrained_layout=True\n",
    "    plt.cla()\n",
    "    fd = rg.get_field(rg_fd_id=rg_fd_id, load_method=\"FITS\", add_field=True)\n",
    "    ax, wcs = vvis.plot_field_sky_map(fd, img_idx=-1, sky_region = fd.get_sky_region(),fig=fig_skymap) # \n",
    "    ax, tt_src_shown = vvis.plot_sky_sources(rg.tt_sources,tt_det=rg.tt_detections, sky_region_wcs = (fd.get_sky_region(),wcs),only_selected=only_sel_srcs) # \n",
    "    plt.show()\n",
    "    display(tt_src_shown[show_map_pars])\n",
    "widgets.interactive( plot_sky_field, rg_fd_id=(rg.tt_fields[\"rg_fd_id\"].min(),rg.tt_fields[\"rg_fd_id\"].max()))"
   ]
  },
  {
   "cell_type": "code",
   "execution_count": null,
   "id": "40b02103-e651-4c98-bd2f-24461ed03f7e",
   "metadata": {},
   "outputs": [],
   "source": []
  }
 ],
 "metadata": {
  "kernelspec": {
   "display_name": "Python 3 (ipykernel)",
   "language": "python",
   "name": "python3"
  },
  "language_info": {
   "codemirror_mode": {
    "name": "ipython",
    "version": 3
   },
   "file_extension": ".py",
   "mimetype": "text/x-python",
   "name": "python",
   "nbconvert_exporter": "python",
   "pygments_lexer": "ipython3",
   "version": "3.10.9"
  }
 },
 "nbformat": 4,
 "nbformat_minor": 5
}
