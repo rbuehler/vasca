{
 "cells": [
  {
   "cell_type": "markdown",
   "id": "c0fd65f4-8d6a-45e8-96b6-a972fe024459",
   "metadata": {},
   "source": [
    "# Inspect source light curves and skymaps"
   ]
  },
  {
   "cell_type": "markdown",
   "id": "8ba66aa5-9d87-4681-a429-74b92c9bfeee",
   "metadata": {},
   "source": [
    "### Setup main notebook options"
   ]
  },
  {
   "cell_type": "code",
   "execution_count": 1,
   "id": "d73f0bca-43f4-4d59-91b3-c07bdbf960fe",
   "metadata": {
    "tags": []
   },
   "outputs": [],
   "source": [
    "region_name = \"TDS\" # _ELAISN1\n",
    "sort_par = \"rg_src_id\" # \"flux\"\n",
    "redo_src_sel = False\n",
    "only_sel_srcs = True\n",
    "srcs_ids = [] #[ 1932,  2017,  2018,  2849,  3839,  4300,  4665,  5239,  6173, 6217,  7125,  8407,  9443,  9710, 13543, 14042, 16926, 18771, 19305, 19909, 19986, 27586, 28065, 30891, 30911, 31661, 33963,34725, 35193, 35636]"
   ]
  },
  {
   "cell_type": "code",
   "execution_count": 2,
   "id": "a47713fa-f128-425f-a2d0-754e64ffb654",
   "metadata": {
    "tags": []
   },
   "outputs": [
    {
     "name": "stdout",
     "output_type": "stream",
     "text": [
      "Nr sources: 123024 selected: 1030\n"
     ]
    },
    {
     "data": {
      "text/html": [
       "<div><i>Table length=84</i>\n",
       "<table id=\"table140079066693936\" class=\"table-striped table-bordered table-condensed\">\n",
       "<thead><tr><th>field_id</th><th>field_name</th><th>ra</th><th>dec</th><th>observatory</th><th>obs_filter</th><th>fov_diam</th><th>sel</th><th>nr_vis</th><th>time_bin_size_sum</th><th>time_start</th><th>time_stop</th><th>rg_fd_id</th></tr></thead>\n",
       "<thead><tr><th></th><th></th><th>deg</th><th>deg</th><th></th><th></th><th>deg</th><th></th><th></th><th>s</th><th>d</th><th>d</th><th></th></tr></thead>\n",
       "<thead><tr><th>bytes32</th><th>bytes32</th><th>float64</th><th>float64</th><th>bytes22</th><th>bytes8</th><th>float32</th><th>bool</th><th>int32</th><th>float32</th><th>float64</th><th>float64</th><th>int64</th></tr></thead>\n",
       "<tr><td>GNU2592597978464124928</td><td>PS_XMMLSS_MOS00</td><td>35.578863351058885</td><td>-3.14176421214975</td><td>GALEX</td><td>NUV</td><td>1.2</td><td>True</td><td>27</td><td>40457.25</td><td>54791.262777777774</td><td>57213.3405928096</td><td>1</td></tr>\n",
       "<tr><td>GNU2592668347208302592</td><td>PS_XMMLSS_MOS01</td><td>36.49984981667359</td><td>-3.4923125504146</td><td>GALEX</td><td>NUV</td><td>1.2</td><td>True</td><td>26</td><td>38608.996</td><td>54791.33122685185</td><td>57205.55893265336</td><td>2</td></tr>\n",
       "<tr><td>GNU2592738715952480256</td><td>PS_XMMLSS_MOS02</td><td>34.995648096666685</td><td>-3.95320684099725</td><td>GALEX</td><td>NUV</td><td>1.2</td><td>True</td><td>24</td><td>23118.55</td><td>54791.399976851855</td><td>56670.07746654369</td><td>3</td></tr>\n",
       "<tr><td>GNU2592809084696657920</td><td>PS_XMMLSS_MOS03</td><td>35.87152971805409</td><td>-4.25258328683038</td><td>GALEX</td><td>NUV</td><td>1.2</td><td>True</td><td>21</td><td>31699.102</td><td>54791.468136574076</td><td>57205.5459979022</td><td>4</td></tr>\n",
       "<tr><td>GNU2592879453440835584</td><td>PS_XMMLSS_MOS04</td><td>36.890941423843685</td><td>-4.42319486511272</td><td>GALEX</td><td>NUV</td><td>1.2</td><td>True</td><td>23</td><td>34784.05</td><td>54791.53658564815</td><td>57214.614389105904</td><td>5</td></tr>\n",
       "<tr><td>GNU2592949822185013248</td><td>PS_XMMLSS_MOS05</td><td>35.19163328261652</td><td>-5.0517494636978</td><td>GALEX</td><td>NUV</td><td>1.2</td><td>True</td><td>22</td><td>32845.8</td><td>54791.60503472222</td><td>57205.68289605035</td><td>6</td></tr>\n",
       "<tr><td>GNU2593020190929190912</td><td>PS_XMMLSS_MOS06</td><td>36.220702772470815</td><td>-5.20539528501055</td><td>GALEX</td><td>NUV</td><td>1.2</td><td>True</td><td>23</td><td>33876.6</td><td>54791.673472222225</td><td>57206.85126283999</td><td>7</td></tr>\n",
       "<tr><td>GNU2593653509626789888</td><td>PS_CDFS_MOS00</td><td>53.10325584718021</td><td>-27.796382607231</td><td>GALEX</td><td>NUV</td><td>1.2</td><td>True</td><td>117</td><td>185705.4</td><td>54812.34815972222</td><td>56994.373020833336</td><td>8</td></tr>\n",
       "<tr><td>GNU2593723878370967552</td><td>PS_CDFS_MOS01</td><td>52.011017607343604</td><td>-28.2144666003044</td><td>GALEX</td><td>NUV</td><td>1.2</td><td>True</td><td>29</td><td>44314.6</td><td>54812.41662037037</td><td>56994.44150462963</td><td>9</td></tr>\n",
       "<tr><td>GNU2593794247115145216</td><td>PS_CDFS_MOS02</td><td>53.12536355503789</td><td>-26.8044480739192</td><td>GALEX</td><td>NUV</td><td>1.2</td><td>True</td><td>29</td><td>44053.254</td><td>54812.485081018516</td><td>56981.85998716001</td><td>10</td></tr>\n",
       "<tr><td>GNU2593864615859322880</td><td>PS_CDFS_MOS03</td><td>54.16732628835791</td><td>-27.3116473139648</td><td>GALEX</td><td>NUV</td><td>1.2</td><td>True</td><td>30</td><td>46006.402</td><td>54812.55354166667</td><td>56974.57864583333</td><td>11</td></tr>\n",
       "<tr><td>GNU2593934984603500544</td><td>PS_CDFS_MOS04</td><td>52.909627708088294</td><td>-28.799172679314</td><td>GALEX</td><td>NUV</td><td>1.2</td><td>True</td><td>31</td><td>46588.55</td><td>54812.62200231481</td><td>56978.64697916667</td><td>12</td></tr>\n",
       "<tr><td>GNU2594005353347678208</td><td>PS_CDFS_MOS05</td><td>52.11182442506271</td><td>-27.275610427641</td><td>GALEX</td><td>NUV</td><td>1.2</td><td>True</td><td>29</td><td>44051.297</td><td>54812.690462962964</td><td>56428.73700231482</td><td>13</td></tr>\n",
       "<tr><td>GNU2594075722091855872</td><td>PS_CDFS_MOS06</td><td>53.969358611917414</td><td>-28.3345951229996</td><td>GALEX</td><td>NUV</td><td>1.2</td><td>True</td><td>29</td><td>24023.146</td><td>54812.75892361111</td><td>56203.98398211444</td><td>14</td></tr>\n",
       "<tr><td>GNU2597312684324028416</td><td>PS_ELAISN1_MOS10</td><td>242.50638203682297</td><td>55.9801443588634</td><td>GALEX</td><td>NUV</td><td>1.2</td><td>True</td><td>24</td><td>29566.4</td><td>54960.17787037037</td><td>56821.33210648148</td><td>15</td></tr>\n",
       "<tr><td>GNU2597383053068206080</td><td>PS_ELAISN1_MOS11</td><td>244.57200462478102</td><td>55.1825511621234</td><td>GALEX</td><td>NUV</td><td>1.2</td><td>True</td><td>25</td><td>31369.5</td><td>54960.24638888889</td><td>56815.50054271557</td><td>16</td></tr>\n",
       "<tr><td>GNU2597453421812383744</td><td>PS_ELAISN1_MOS12</td><td>242.896209389035</td><td>55.0003489374844</td><td>GALEX</td><td>NUV</td><td>1.2</td><td>True</td><td>21</td><td>26349.451</td><td>54960.314884259256</td><td>56814.569061234084</td><td>17</td></tr>\n",
       "<tr><td>GNU2597523790556561408</td><td>PS_ELAISN1_MOS13</td><td>241.28881797574297</td><td>55.3529870930308</td><td>GALEX</td><td>NUV</td><td>1.2</td><td>True</td><td>22</td><td>27810.902</td><td>54960.38337962963</td><td>56819.53759259259</td><td>18</td></tr>\n",
       "<tr><td>GNU2597594159300739072</td><td>PS_ELAISN1_MOS14</td><td>243.95513153083402</td><td>54.1978605194106</td><td>GALEX</td><td>NUV</td><td>1.2</td><td>True</td><td>22</td><td>26881.852</td><td>54960.451886574076</td><td>56810.60611111111</td><td>19</td></tr>\n",
       "<tr><td>GNU2597664528044916736</td><td>PS_ELAISN1_MOS15</td><td>242.396514585217</td><td>53.9999872930018</td><td>GALEX</td><td>NUV</td><td>1.2</td><td>True</td><td>22</td><td>28044.65</td><td>54960.52040509259</td><td>56810.67461805556</td><td>20</td></tr>\n",
       "<tr><td>...</td><td>...</td><td>...</td><td>...</td><td>...</td><td>...</td><td>...</td><td>...</td><td>...</td><td>...</td><td>...</td><td>...</td><td>...</td></tr>\n",
       "<tr><td>GFU2597875634277449728</td><td>PS_VVDS22H_MOS00</td><td>333.69764966992693</td><td>1.25077631821895</td><td>GALEX</td><td>FUV</td><td>1.2</td><td>True</td><td>5</td><td>7694.6997</td><td>54698.20695601852</td><td>56291.525695710356</td><td>64</td></tr>\n",
       "<tr><td>GFU2597946003021627392</td><td>PS_VVDS22H_MOS01</td><td>332.701352094418</td><td>0.699900662244599</td><td>GALEX</td><td>FUV</td><td>1.2</td><td>True</td><td>5</td><td>7386.3506</td><td>54698.27543981482</td><td>56304.49419234665</td><td>65</td></tr>\n",
       "<tr><td>GFU2598016371765805056</td><td>PS_VVDS22H_MOS02</td><td>334.428448039004</td><td>0.669193327485299</td><td>GALEX</td><td>FUV</td><td>1.2</td><td>True</td><td>5</td><td>7732.05</td><td>54698.34392361111</td><td>56307.51262731481</td><td>66</td></tr>\n",
       "<tr><td>GFU2598086740509982720</td><td>PS_VVDS22H_MOS03</td><td>333.5989282559731</td><td>0.199116989839109</td><td>GALEX</td><td>FUV</td><td>1.2</td><td>True</td><td>5</td><td>5028.6504</td><td>54698.41269675926</td><td>55837.13144929109</td><td>67</td></tr>\n",
       "<tr><td>GFU2598157109254160384</td><td>PS_VVDS22H_MOS04</td><td>334.60786734441</td><td>-0.0384267102587055</td><td>GALEX</td><td>FUV</td><td>1.2</td><td>True</td><td>5</td><td>5451.1504</td><td>54698.48118055556</td><td>55721.349896466294</td><td>68</td></tr>\n",
       "<tr><td>GFU2598227477998338048</td><td>PS_VVDS22H_MOS05</td><td>333.90362485612695</td><td>-0.722056894339538</td><td>GALEX</td><td>FUV</td><td>1.2</td><td>True</td><td>5</td><td>7673.8003</td><td>54698.549375</td><td>56298.86810311777</td><td>69</td></tr>\n",
       "<tr><td>GFU2598297846742515712</td><td>PS_VVDS22H_MOS06</td><td>332.899753362468</td><td>-0.39990339159369</td><td>GALEX</td><td>FUV</td><td>1.2</td><td>True</td><td>5</td><td>6671.3</td><td>54698.61785879629</td><td>55729.843205385565</td><td>70</td></tr>\n",
       "<tr><td>GFU2604912508670050304</td><td>PS_COSMOS_MOS21</td><td>150.50213748204703</td><td>3.09702777491166</td><td>GALEX</td><td>FUV</td><td>1.2</td><td>True</td><td>9</td><td>10905.449</td><td>54510.593935185185</td><td>55716.77156123408</td><td>71</td></tr>\n",
       "<tr><td>GFU2604982877414227968</td><td>PS_COSMOS_MOS22</td><td>149.49989874061703</td><td>3.10005767451708</td><td>GALEX</td><td>FUV</td><td>1.2</td><td>True</td><td>9</td><td>10678.949</td><td>54509.566979166666</td><td>55709.42940845631</td><td>72</td></tr>\n",
       "<tr><td>GFU2605053246158405632</td><td>PS_COSMOS_MOS23</td><td>151.00379402274802</td><td>2.20171000810559</td><td>GALEX</td><td>FUV</td><td>1.2</td><td>True</td><td>9</td><td>10292.549</td><td>54510.66210648148</td><td>56119.586676974825</td><td>73</td></tr>\n",
       "<tr><td>GFU2605123614902583296</td><td>PS_COSMOS_MOS24</td><td>149.99874146524496</td><td>2.20495017931632</td><td>GALEX</td><td>FUV</td><td>1.2</td><td>True</td><td>9</td><td>12833.25</td><td>54509.635150462964</td><td>56118.03460648148</td><td>74</td></tr>\n",
       "<tr><td>GFU2605193983646760960</td><td>PS_COSMOS_MOS25</td><td>148.998105554709</td><td>2.29798225654256</td><td>GALEX</td><td>FUV</td><td>1.2</td><td>True</td><td>9</td><td>10678.851</td><td>54509.43004629629</td><td>55742.89009385851</td><td>75</td></tr>\n",
       "<tr><td>GFU2605264352416104448</td><td>PS_COSMOS_MOS26</td><td>150.499346004512</td><td>1.29936606898427</td><td>GALEX</td><td>FUV</td><td>1.2</td><td>True</td><td>9</td><td>10629.45</td><td>54509.703622685185</td><td>56115.01617151331</td><td>76</td></tr>\n",
       "<tr><td>GFU2605334721135116288</td><td>PS_COSMOS_MOS27</td><td>149.499506466688</td><td>1.29867662291422</td><td>GALEX</td><td>FUV</td><td>1.2</td><td>True</td><td>11</td><td>12644.8</td><td>54509.49822916667</td><td>56118.10309027778</td><td>77</td></tr>\n",
       "<tr><td>GFU2607023571020546048</td><td>PS_GROTH_MOS01</td><td>215.58990898179695</td><td>54.2765239788334</td><td>GALEX</td><td>FUV</td><td>1.2</td><td>True</td><td>4</td><td>4048.35</td><td>54955.45077546296</td><td>55013.467094907406</td><td>78</td></tr>\n",
       "<tr><td>GFU2607093939764723712</td><td>PS_GROTH_MOS02</td><td>213.77799348532596</td><td>54.3533934809404</td><td>GALEX</td><td>FUV</td><td>1.2</td><td>True</td><td>4</td><td>4828.85</td><td>54955.519328703704</td><td>55809.91989709925</td><td>79</td></tr>\n",
       "<tr><td>GFU2607164308508901376</td><td>PS_GROTH_MOS03</td><td>214.14752584163693</td><td>53.4132903803254</td><td>GALEX</td><td>FUV</td><td>1.2</td><td>True</td><td>4</td><td>5351.1504</td><td>54955.58777777778</td><td>56301.63832429109</td><td>80</td></tr>\n",
       "<tr><td>GFU2607234677253079040</td><td>PS_GROTH_MOS04</td><td>212.397804323772</td><td>53.7029450147134</td><td>GALEX</td><td>FUV</td><td>1.2</td><td>True</td><td>4</td><td>5378.6</td><td>54955.656273148146</td><td>56384.656747685185</td><td>81</td></tr>\n",
       "<tr><td>GFU2607305045997256704</td><td>PS_GROTH_MOS05</td><td>215.49424460210594</td><td>52.7780196325928</td><td>GALEX</td><td>FUV</td><td>1.2</td><td>True</td><td>4</td><td>5378.4</td><td>54955.725069444445</td><td>56363.92515950521</td><td>82</td></tr>\n",
       "<tr><td>GFU2607375414741434368</td><td>PS_GROTH_MOS06</td><td>214.300238834909</td><td>52.5500705847555</td><td>GALEX</td><td>FUV</td><td>1.2</td><td>True</td><td>4</td><td>3369.75</td><td>54955.79356481481</td><td>55725.543969907405</td><td>83</td></tr>\n",
       "<tr><td>GFU2607445783485612032</td><td>PS_GROTH_MOS07</td><td>212.62676625037193</td><td>52.7521896298337</td><td>GALEX</td><td>FUV</td><td>1.2</td><td>True</td><td>3</td><td>4024.15</td><td>54955.86178240741</td><td>56349.212406141494</td><td>84</td></tr>\n",
       "</table></div>"
      ],
      "text/plain": [
       "<Table length=84>\n",
       "       field_id           field_name            ra                 dec         observatory obs_filter fov_diam sel  nr_vis time_bin_size_sum     time_start         time_stop      rg_fd_id\n",
       "                                               deg                 deg                                  deg                        s                 d                  d                  \n",
       "       bytes32             bytes32           float64             float64         bytes22     bytes8   float32  bool int32       float32           float64            float64        int64  \n",
       "---------------------- ---------------- ------------------ ------------------- ----------- ---------- -------- ---- ------ ----------------- ------------------ ------------------ --------\n",
       "GNU2592597978464124928  PS_XMMLSS_MOS00 35.578863351058885   -3.14176421214975       GALEX        NUV      1.2 True     27          40457.25 54791.262777777774   57213.3405928096        1\n",
       "GNU2592668347208302592  PS_XMMLSS_MOS01  36.49984981667359    -3.4923125504146       GALEX        NUV      1.2 True     26         38608.996  54791.33122685185  57205.55893265336        2\n",
       "GNU2592738715952480256  PS_XMMLSS_MOS02 34.995648096666685   -3.95320684099725       GALEX        NUV      1.2 True     24          23118.55 54791.399976851855  56670.07746654369        3\n",
       "GNU2592809084696657920  PS_XMMLSS_MOS03  35.87152971805409   -4.25258328683038       GALEX        NUV      1.2 True     21         31699.102 54791.468136574076   57205.5459979022        4\n",
       "GNU2592879453440835584  PS_XMMLSS_MOS04 36.890941423843685   -4.42319486511272       GALEX        NUV      1.2 True     23          34784.05  54791.53658564815 57214.614389105904        5\n",
       "GNU2592949822185013248  PS_XMMLSS_MOS05  35.19163328261652    -5.0517494636978       GALEX        NUV      1.2 True     22           32845.8  54791.60503472222  57205.68289605035        6\n",
       "GNU2593020190929190912  PS_XMMLSS_MOS06 36.220702772470815   -5.20539528501055       GALEX        NUV      1.2 True     23           33876.6 54791.673472222225  57206.85126283999        7\n",
       "GNU2593653509626789888    PS_CDFS_MOS00  53.10325584718021    -27.796382607231       GALEX        NUV      1.2 True    117          185705.4  54812.34815972222 56994.373020833336        8\n",
       "GNU2593723878370967552    PS_CDFS_MOS01 52.011017607343604   -28.2144666003044       GALEX        NUV      1.2 True     29           44314.6  54812.41662037037  56994.44150462963        9\n",
       "GNU2593794247115145216    PS_CDFS_MOS02  53.12536355503789   -26.8044480739192       GALEX        NUV      1.2 True     29         44053.254 54812.485081018516  56981.85998716001       10\n",
       "GNU2593864615859322880    PS_CDFS_MOS03  54.16732628835791   -27.3116473139648       GALEX        NUV      1.2 True     30         46006.402  54812.55354166667  56974.57864583333       11\n",
       "GNU2593934984603500544    PS_CDFS_MOS04 52.909627708088294    -28.799172679314       GALEX        NUV      1.2 True     31          46588.55  54812.62200231481  56978.64697916667       12\n",
       "GNU2594005353347678208    PS_CDFS_MOS05  52.11182442506271    -27.275610427641       GALEX        NUV      1.2 True     29         44051.297 54812.690462962964  56428.73700231482       13\n",
       "GNU2594075722091855872    PS_CDFS_MOS06 53.969358611917414   -28.3345951229996       GALEX        NUV      1.2 True     29         24023.146  54812.75892361111  56203.98398211444       14\n",
       "GNU2597312684324028416 PS_ELAISN1_MOS10 242.50638203682297    55.9801443588634       GALEX        NUV      1.2 True     24           29566.4  54960.17787037037  56821.33210648148       15\n",
       "GNU2597383053068206080 PS_ELAISN1_MOS11 244.57200462478102    55.1825511621234       GALEX        NUV      1.2 True     25           31369.5  54960.24638888889  56815.50054271557       16\n",
       "GNU2597453421812383744 PS_ELAISN1_MOS12   242.896209389035    55.0003489374844       GALEX        NUV      1.2 True     21         26349.451 54960.314884259256 56814.569061234084       17\n",
       "GNU2597523790556561408 PS_ELAISN1_MOS13 241.28881797574297    55.3529870930308       GALEX        NUV      1.2 True     22         27810.902  54960.38337962963  56819.53759259259       18\n",
       "GNU2597594159300739072 PS_ELAISN1_MOS14 243.95513153083402    54.1978605194106       GALEX        NUV      1.2 True     22         26881.852 54960.451886574076  56810.60611111111       19\n",
       "GNU2597664528044916736 PS_ELAISN1_MOS15   242.396514585217    53.9999872930018       GALEX        NUV      1.2 True     22          28044.65  54960.52040509259  56810.67461805556       20\n",
       "                   ...              ...                ...                 ...         ...        ...      ...  ...    ...               ...                ...                ...      ...\n",
       "GFU2597875634277449728 PS_VVDS22H_MOS00 333.69764966992693    1.25077631821895       GALEX        FUV      1.2 True      5         7694.6997  54698.20695601852 56291.525695710356       64\n",
       "GFU2597946003021627392 PS_VVDS22H_MOS01   332.701352094418   0.699900662244599       GALEX        FUV      1.2 True      5         7386.3506  54698.27543981482  56304.49419234665       65\n",
       "GFU2598016371765805056 PS_VVDS22H_MOS02   334.428448039004   0.669193327485299       GALEX        FUV      1.2 True      5           7732.05  54698.34392361111  56307.51262731481       66\n",
       "GFU2598086740509982720 PS_VVDS22H_MOS03  333.5989282559731   0.199116989839109       GALEX        FUV      1.2 True      5         5028.6504  54698.41269675926  55837.13144929109       67\n",
       "GFU2598157109254160384 PS_VVDS22H_MOS04    334.60786734441 -0.0384267102587055       GALEX        FUV      1.2 True      5         5451.1504  54698.48118055556 55721.349896466294       68\n",
       "GFU2598227477998338048 PS_VVDS22H_MOS05 333.90362485612695  -0.722056894339538       GALEX        FUV      1.2 True      5         7673.8003       54698.549375  56298.86810311777       69\n",
       "GFU2598297846742515712 PS_VVDS22H_MOS06   332.899753362468   -0.39990339159369       GALEX        FUV      1.2 True      5            6671.3  54698.61785879629 55729.843205385565       70\n",
       "GFU2604912508670050304  PS_COSMOS_MOS21 150.50213748204703    3.09702777491166       GALEX        FUV      1.2 True      9         10905.449 54510.593935185185  55716.77156123408       71\n",
       "GFU2604982877414227968  PS_COSMOS_MOS22 149.49989874061703    3.10005767451708       GALEX        FUV      1.2 True      9         10678.949 54509.566979166666  55709.42940845631       72\n",
       "GFU2605053246158405632  PS_COSMOS_MOS23 151.00379402274802    2.20171000810559       GALEX        FUV      1.2 True      9         10292.549  54510.66210648148 56119.586676974825       73\n",
       "GFU2605123614902583296  PS_COSMOS_MOS24 149.99874146524496    2.20495017931632       GALEX        FUV      1.2 True      9          12833.25 54509.635150462964  56118.03460648148       74\n",
       "GFU2605193983646760960  PS_COSMOS_MOS25   148.998105554709    2.29798225654256       GALEX        FUV      1.2 True      9         10678.851  54509.43004629629  55742.89009385851       75\n",
       "GFU2605264352416104448  PS_COSMOS_MOS26   150.499346004512    1.29936606898427       GALEX        FUV      1.2 True      9          10629.45 54509.703622685185  56115.01617151331       76\n",
       "GFU2605334721135116288  PS_COSMOS_MOS27   149.499506466688    1.29867662291422       GALEX        FUV      1.2 True     11           12644.8  54509.49822916667  56118.10309027778       77\n",
       "GFU2607023571020546048   PS_GROTH_MOS01 215.58990898179695    54.2765239788334       GALEX        FUV      1.2 True      4           4048.35  54955.45077546296 55013.467094907406       78\n",
       "GFU2607093939764723712   PS_GROTH_MOS02 213.77799348532596    54.3533934809404       GALEX        FUV      1.2 True      4           4828.85 54955.519328703704  55809.91989709925       79\n",
       "GFU2607164308508901376   PS_GROTH_MOS03 214.14752584163693    53.4132903803254       GALEX        FUV      1.2 True      4         5351.1504  54955.58777777778  56301.63832429109       80\n",
       "GFU2607234677253079040   PS_GROTH_MOS04   212.397804323772    53.7029450147134       GALEX        FUV      1.2 True      4            5378.6 54955.656273148146 56384.656747685185       81\n",
       "GFU2607305045997256704   PS_GROTH_MOS05 215.49424460210594    52.7780196325928       GALEX        FUV      1.2 True      4            5378.4 54955.725069444445  56363.92515950521       82\n",
       "GFU2607375414741434368   PS_GROTH_MOS06   214.300238834909    52.5500705847555       GALEX        FUV      1.2 True      4           3369.75  54955.79356481481 55725.543969907405       83\n",
       "GFU2607445783485612032   PS_GROTH_MOS07 212.62676625037193    52.7521896298337       GALEX        FUV      1.2 True      3           4024.15  54955.86178240741 56349.212406141494       84"
      ]
     },
     "metadata": {},
     "output_type": "display_data"
    },
    {
     "name": "stdout",
     "output_type": "stream",
     "text": [
      "[b'GNU2592597978464124928' b'GNU2592668347208302592'\n",
      " b'GNU2592738715952480256' b'GNU2592809084696657920'\n",
      " b'GNU2592879453440835584' b'GNU2592949822185013248'\n",
      " b'GNU2593020190929190912' b'GNU2593653509626789888'\n",
      " b'GNU2593723878370967552' b'GNU2593794247115145216'\n",
      " b'GNU2593864615859322880' b'GNU2593934984603500544'\n",
      " b'GNU2594005353347678208' b'GNU2594075722091855872'\n",
      " b'GNU2597312684324028416' b'GNU2597383053068206080'\n",
      " b'GNU2597453421812383744' b'GNU2597523790556561408'\n",
      " b'GNU2597594159300739072' b'GNU2597664528044916736'\n",
      " b'GNU2597734896789094400' b'GNU2597875634277449728'\n",
      " b'GNU2597946003021627392' b'GNU2598016371765805056'\n",
      " b'GNU2598086740509982720' b'GNU2598157109254160384'\n",
      " b'GNU2598227477998338048' b'GNU2598297846742515712'\n",
      " b'GNU2604912508670050304' b'GNU2604982877414227968'\n",
      " b'GNU2605053246158405632' b'GNU2605123614902583296'\n",
      " b'GNU2605193983646760960' b'GNU2605264352416104448'\n",
      " b'GNU2605334721135116288' b'GNU2607023571020546048'\n",
      " b'GNU2607093939764723712' b'GNU2607164308508901376'\n",
      " b'GNU2607234677253079040' b'GNU2607305045997256704'\n",
      " b'GNU2607375414741434368' b'GNU2607445783485612032'\n",
      " b'GFU2592597978464124928' b'GFU2592668347208302592'\n",
      " b'GFU2592738715952480256' b'GFU2592809084696657920'\n",
      " b'GFU2592879453440835584' b'GFU2592949822185013248'\n",
      " b'GFU2593020190929190912' b'GFU2593653509626789888'\n",
      " b'GFU2593723878370967552' b'GFU2593794247115145216'\n",
      " b'GFU2593864615859322880' b'GFU2593934984603500544'\n",
      " b'GFU2594005353347678208' b'GFU2594075722091855872'\n",
      " b'GFU2597312684324028416' b'GFU2597383053068206080'\n",
      " b'GFU2597453421812383744' b'GFU2597523790556561408'\n",
      " b'GFU2597594159300739072' b'GFU2597664528044916736'\n",
      " b'GFU2597734896789094400' b'GFU2597875634277449728'\n",
      " b'GFU2597946003021627392' b'GFU2598016371765805056'\n",
      " b'GFU2598086740509982720' b'GFU2598157109254160384'\n",
      " b'GFU2598227477998338048' b'GFU2598297846742515712'\n",
      " b'GFU2604912508670050304' b'GFU2604982877414227968'\n",
      " b'GFU2605053246158405632' b'GFU2605123614902583296'\n",
      " b'GFU2605193983646760960' b'GFU2605264352416104448'\n",
      " b'GFU2605334721135116288' b'GFU2607023571020546048'\n",
      " b'GFU2607093939764723712' b'GFU2607164308508901376'\n",
      " b'GFU2607234677253079040' b'GFU2607305045997256704'\n",
      " b'GFU2607375414741434368' b'GFU2607445783485612032']\n"
     ]
    }
   ],
   "source": [
    "%matplotlib widget\n",
    "import ipywidgets as widgets\n",
    "from IPython.display import display\n",
    "import matplotlib.pyplot as plt\n",
    "\n",
    "from regions import CircleSkyRegion\n",
    "from astropy import units as uu\n",
    "from astropy.coordinates import SkyCoord\n",
    "from astropy.wcs.utils import pixel_to_skycoord\n",
    "import numpy as np\n",
    "\n",
    "from vasca.region import Region\n",
    "from vasca.field import BaseField\n",
    "import vasca.visualization as vvis\n",
    "\n",
    "from vasca.utils import mag2flux, sel_sources, dd_filter2id\n",
    "\n",
    "#Setup some global setup parameters that usually don't need to be adjusted\n",
    "lc_block_srcs = 5 #Setup light curve plotting parameters\n",
    "show_lc_pars = [\"rg_src_id\",\"nr_det\",\"flux\",\"flux_cpval\",\"flux_nxv\",\"flux_rchiq\",\"assoc_ffactor\",\"assoc_fdiff_s2n\"]\n",
    "show_map_pars = [\"rg_src_id\",\"obs_filter_id\",\"ra\",\"dec\",\"pos_err\",\"pos_xv\", \"pos_cpval\",\"nr_det\",\"flux\",\"flux_cpval\", \"nr_fd_srcs\",\"assoc_ffactor\",\"assoc_fdiff_s2n\",\"sel\"]\n",
    "\n",
    "#Load region\n",
    "region_fname = \"./vasca_pipeline/\"+region_name+\"/region_\"+region_name+\".fits\"\n",
    "rg = Region()\n",
    "rg.load_from_fits(region_fname)\n",
    "\n",
    "#Select source pool to show\n",
    "if redo_src_sel:\n",
    "    sel_vasca =  sel_sources(rg.tt_sources)\n",
    "    rg.tt_sources[\"sel\"][:]=sel_vasca \n",
    "print(\"Nr sources:\",len(rg.tt_sources),\"selected:\",rg.tt_sources[\"sel\"].sum())\n",
    "    \n",
    "tt_srcs = rg.tt_sources\n",
    "\n",
    "if only_sel_srcs:\n",
    "    tt_srcs = rg.tt_sources[rg.tt_sources[\"sel\"]]\n",
    "nr_srcs = len(tt_srcs)\n",
    "tt_srcs.sort(sort_par)\n",
    "tt_srcs.add_index(\"rg_src_id\")\n",
    "#display(tt_srcs)\n",
    "display(rg.tt_fields)\n",
    "print(rg.tt_fields[\"field_id\"].data)"
   ]
  },
  {
   "cell_type": "markdown",
   "id": "23df4759-a6cd-462d-8fa6-dcd4c14bd395",
   "metadata": {},
   "source": [
    "### Show all info for one source"
   ]
  },
  {
   "cell_type": "code",
   "execution_count": 3,
   "id": "c038cd88-42e8-4897-a277-bbf207f4c930",
   "metadata": {
    "tags": []
   },
   "outputs": [
    {
     "data": {
      "application/vnd.jupyter.widget-view+json": {
       "model_id": "f58016195cb94e6487ac3d5218d236d1",
       "version_major": 2,
       "version_minor": 0
      },
      "text/plain": [
       "VBox(children=(HBox(children=(Dropdown(description='rg_src_id', options=(8, 13, 34, 75, 80, 81, 115, 138, 169,…"
      ]
     },
     "metadata": {},
     "output_type": "display_data"
    }
   ],
   "source": [
    "def plot_sky_src(rg_src_id=0, fd_idx=0, vis_idx = -1):\n",
    "    \n",
    "    #Check if src_id exists\n",
    "    if rg_src_id not in tt_srcs[\"rg_src_id\"]:\n",
    "        print(\"Source ID does not exist\") \n",
    "        return\n",
    "    \n",
    "    #Get source and check id field index out of range\n",
    "    tc_src = rg.get_src_from_id(rg_src_id)\n",
    "    if fd_idx > len(tc_src.tt_fields)-1:\n",
    "        print(\"Field index out of range\") \n",
    "        return\n",
    "    \n",
    "    #Get field to plot and check if visit index out of range\n",
    "    rg_fd_id = tc_src.tt_fields[fd_idx][\"rg_fd_id\"]\n",
    "    fd_src = rg.get_field(rg_fd_id=rg_fd_id, load_method=\"FITS\", add_field=True)\n",
    "    if vis_idx > len(fd_src.tt_visits)-1:\n",
    "        print(\"Visit index out of range\") \n",
    "        return\n",
    "\n",
    "    fig_src = plt.figure(\"Sky map source\",figsize=(8, 7))\n",
    "    #plt.cla()\n",
    "\n",
    "    #Get sky region of source\n",
    "    sky_center = SkyCoord(tc_src.tt_sources[0][\"ra\"]*uu.deg, tc_src.tt_sources[0][\"dec\"]*uu.deg, frame=\"icrs\")\n",
    "    sky_region_src = CircleSkyRegion(center=sky_center, radius=0.3*uu.arcmin)\n",
    "     \n",
    "    #Plot\n",
    "    plt.cla()\n",
    "    ax_src, wcs_src = vvis.plot_field_sky_map(fd_src, img_idx=vis_idx, sky_region = sky_region_src, fig=fig_src) #\n",
    "    \n",
    "    #If displaying visits, onle show detections in that visit\n",
    "    sel_det_rg = np.ones(len(rg.tt_detections), dtype=bool)\n",
    "    sel_det_src = np.ones(len(tc_src.tt_detections), dtype=bool)\n",
    "    \n",
    "    # Preselt field detections, can be removed in the future\n",
    "    fd_src.tt_detections = fd_src.tt_detections[fd_src.tt_detections[\"s2n\"]>0]\n",
    "    \n",
    "    sel_det_fd = np.ones(len(fd_src.tt_detections), dtype=bool)\n",
    "    if vis_idx > -1:\n",
    "        vis_id = fd_src.tt_visits[\"vis_id\"][vis_idx]\n",
    "        sel_det_rg = (rg.tt_detections[\"vis_id\"]==vis_id) * (rg.tt_detections[\"obs_filter_id\"]==dd_filter2id[fd_src.obs_filter])\n",
    "        sel_det_src = (tc_src.tt_detections[\"vis_id\"]==vis_id) * (tc_src.tt_detections[\"obs_filter_id\"]==dd_filter2id[fd_src.obs_filter])\n",
    "\n",
    "        fd_det_coords = SkyCoord(fd_src.tt_detections[\"ra\"][sel_det_fd], fd_src.tt_detections[\"dec\"][sel_det_fd], frame=\"icrs\")\n",
    "        sel_det_fd = ( (fd_src.tt_detections[\"vis_id\"] == vis_id)\n",
    "                     * (fd_src.tt_detections[\"obs_filter_id\"] == dd_filter2id[fd_src.obs_filter])\n",
    "                     * sky_region_src.contains(fd_det_coords, wcs_src))\n",
    "        \n",
    "    #Show sources\n",
    "    plt_ref_src_kwargs = {\"marker\": \"x\",\"markersize\": 10,\"color\":\"yellow\"}\n",
    "    _ = vvis.plot_sky_sources(rg.tt_sources,tt_det=rg.tt_detections[sel_det_rg], sky_region_wcs = (sky_region_src,wcs_src),only_selected=False) #\n",
    "    _ = vvis.plot_sky_sources(rg.tt_coadd_sources,tt_det=None, sky_region_wcs = (sky_region_src,wcs_src),only_selected=False, src_id=\"coadd_src_id\", src_kwargs = plt_ref_src_kwargs)\n",
    "    if vis_idx > -1:\n",
    "        plot_tds = {\"marker\":\"x\",\"color\":\"green\"}\n",
    "        _ = vvis.plot_sky_sources(fd_src.tt_detections[sel_det_fd],src_kwargs=plot_tds, sky_region_wcs = (sky_region_src,wcs_src),  src_id=\"det_id\",only_selected=False)\n",
    "    plt.show()\n",
    "    \n",
    "    fig_lc_src = plt.figure(\"Light curve\",figsize=(8, 4))\n",
    "    plt.cla()\n",
    "    vvis.plot_light_curve(rg, rg_src_ids = rg_src_id,fig=fig_lc_src) #\n",
    "    plt.show()\n",
    "\n",
    "    print(\"\\nSource:\")\n",
    "    display(tc_src.tt_sources[show_map_pars])\n",
    "    if \"tt_coadd_sources\" in tc_src._table_names:\n",
    "        display(tc_src.tt_coadd_sources[\"coadd_src_id\",\"flux\",\"flux_err\",\"nr_det\"])\n",
    "    print(\"\\nFields this source was detected in:\")\n",
    "    display(tc_src.tt_fields)\n",
    "    print(\"\\nDetections:\")\n",
    "    display(tc_src.tt_detections[sel_det_src])\n",
    "\n",
    "    # Display sources only for the shown field\n",
    "    #fd_src_id = rg.tt_src_id_map[sel_fd_src][\"fd_src_id\"][0]\n",
    "    if vis_idx > -1:\n",
    "        print(\"\\nAll detections for this visit in the field:\")\n",
    "        display(fd_src.tt_detections[sel_det_fd])\n",
    "    \n",
    "#Decide which sources to show\n",
    "list_srcs = tt_srcs[\"rg_src_id\"]\n",
    "if len(srcs_ids)>0:\n",
    "    list_srcs = srcs_ids\n",
    "     \n",
    "widget = widgets.interactive( plot_sky_src, rg_src_id=list_srcs,\n",
    "                    fd_idx=widgets.IntSlider(min=0, max=10, value=0, step=1),\n",
    "                    vis_idx = widgets.IntSlider(min=-1, max=100, value=-1, step=1)) #visprob_srcids = [1669,1801,2815,3776,4338,6137,] \n",
    "\n",
    "controls = widgets.HBox(widget.children[:-1], layout = widgets.Layout(flex_flow='row wrap'))\n",
    "output = widget.children[-1]\n",
    "display(widgets.VBox([controls, output]))\n",
    "# straight NUV, dashed FUV"
   ]
  },
  {
   "cell_type": "markdown",
   "id": "b65aa26f-ae0b-44c7-86f7-e22da3a9e976",
   "metadata": {},
   "source": [
    "### Sources to look into\n",
    "6213\t244.39756945883389\t55.14934913850557  periodic"
   ]
  },
  {
   "cell_type": "markdown",
   "id": "20ff40c6-d108-4925-b04d-f85e3dd5f663",
   "metadata": {},
   "source": [
    "### Draw sky maps of fields"
   ]
  },
  {
   "cell_type": "code",
   "execution_count": 4,
   "id": "aaa5317e-41b7-47fe-9dca-29ae84bc127b",
   "metadata": {
    "tags": []
   },
   "outputs": [
    {
     "data": {
      "application/vnd.jupyter.widget-view+json": {
       "model_id": "7d0cb8bc59764a2fb94f6fe324d2fd4e",
       "version_major": 2,
       "version_minor": 0
      },
      "text/plain": [
       "interactive(children=(IntSlider(value=42, description='rg_fd_id', max=84, min=1), Output()), _dom_classes=('wi…"
      ]
     },
     "execution_count": 4,
     "metadata": {},
     "output_type": "execute_result"
    }
   ],
   "source": [
    "def plot_sky_field(rg_fd_id):\n",
    "    if rg_fd_id not in rg.tt_fields[\"rg_fd_id\"]:\n",
    "        print(\"source ID does not exist\") \n",
    "        return\n",
    "    fig_skymap = plt.figure(\"Sky map\",figsize=(9, 8)) #, constrained_layout=True\n",
    "    plt.cla()\n",
    "    fd = rg.get_field(rg_fd_id=rg_fd_id, load_method=\"FITS\", add_field=True)\n",
    "    ax, wcs = vvis.plot_field_sky_map(fd, img_idx=-1, sky_region = fd.get_sky_region(),fig=fig_skymap) # \n",
    "    ax, tt_src_shown = vvis.plot_sky_sources(tt_srcs,tt_det=rg.tt_detections, sky_region_wcs = (fd.get_sky_region(),wcs),only_selected=False) # \n",
    "    plt.show()\n",
    "    display(tt_src_shown[show_map_pars])\n",
    "widgets.interactive( plot_sky_field, rg_fd_id=(rg.tt_fields[\"rg_fd_id\"].min(),rg.tt_fields[\"rg_fd_id\"].max()))"
   ]
  },
  {
   "cell_type": "markdown",
   "id": "e7a1fe03-a8a7-4936-83ce-5f1a81b6c20f",
   "metadata": {},
   "source": [
    "### Draw light curves"
   ]
  },
  {
   "cell_type": "code",
   "execution_count": 5,
   "id": "b4b6f33c-ac4d-4467-a780-804bee76b0dd",
   "metadata": {},
   "outputs": [
    {
     "data": {
      "application/vnd.jupyter.widget-view+json": {
       "model_id": "b2b9f8f28d31408e9a9dfc6281016244",
       "version_major": 2,
       "version_minor": 0
      },
      "text/plain": [
       "interactive(children=(IntSlider(value=103, description='block_nr', max=206), Output()), _dom_classes=('widget-…"
      ]
     },
     "execution_count": 5,
     "metadata": {},
     "output_type": "execute_result"
    }
   ],
   "source": [
    "nr_blocks = int(nr_srcs/lc_block_srcs)+1 \n",
    "def plot_lc_range(block_nr):\n",
    "    fig_lc = plt.figure(\"Light curves\",figsize=(10, 9))\n",
    "    plt.cla()\n",
    "    lc_min = lc_block_srcs * block_nr\n",
    "    lc_max = lc_min + lc_block_srcs if lc_min + lc_block_srcs<=nr_srcs-1 else nr_srcs-1\n",
    "    vvis.plot_light_curve(rg,fig=fig_lc, rg_src_ids = tt_srcs[\"rg_src_id\"][lc_min:lc_max], ylim = [1.2,350])\n",
    "    plt.show()\n",
    "    display(tt_srcs[lc_min:lc_max][show_lc_pars])\n",
    "widgets.interactive( plot_lc_range, block_nr=(0,nr_blocks-1))"
   ]
  },
  {
   "cell_type": "code",
   "execution_count": null,
   "id": "40b02103-e651-4c98-bd2f-24461ed03f7e",
   "metadata": {},
   "outputs": [],
   "source": []
  }
 ],
 "metadata": {
  "kernelspec": {
   "display_name": "Python 3 (ipykernel)",
   "language": "python",
   "name": "python3"
  },
  "language_info": {
   "codemirror_mode": {
    "name": "ipython",
    "version": 3
   },
   "file_extension": ".py",
   "mimetype": "text/x-python",
   "name": "python",
   "nbconvert_exporter": "python",
   "pygments_lexer": "ipython3",
   "version": "3.10.9"
  }
 },
 "nbformat": 4,
 "nbformat_minor": 5
}
