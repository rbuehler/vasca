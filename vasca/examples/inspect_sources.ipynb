{
 "cells": [
  {
   "cell_type": "markdown",
   "id": "c0fd65f4-8d6a-45e8-96b6-a972fe024459",
   "metadata": {},
   "source": [
    "# Inspect source light curves and skymaps"
   ]
  },
  {
   "cell_type": "markdown",
   "id": "8ba66aa5-9d87-4681-a429-74b92c9bfeee",
   "metadata": {},
   "source": [
    "### Setup main notebook options"
   ]
  },
  {
   "cell_type": "code",
   "execution_count": 1,
   "id": "d73f0bca-43f4-4d59-91b3-c07bdbf960fe",
   "metadata": {
    "tags": []
   },
   "outputs": [],
   "source": [
    "region_name = \"TDS\" #\"CAINGSGII_10-800\"  #\"TDS\" #\"WD\" #\"MDIS_10-800\" # \"TDS\" # _ELAISN1\n",
    "region_fname = \"./vasca_pipeline/\"+region_name+\"/region_\"+region_name+\"_cat.fits\"\n",
    "sort_par = \"rg_src_id\" # \"flux\"\n",
    "redo_src_sel = False\n",
    "only_sel_srcs = False\n",
    "lc_block_srcs = 5 #Setup light curve plotting parameters\n",
    "srcs_ids = []\n",
    "srcs_ids = [1891 ,3403 ,16149 ,45461 ,] # WDs TDS\n",
    "#srcs_ids = []\n",
    "#srcs_ids = [4546 ,12718 ,69253 ,228174 ,229551 ,] #WD \"CAINGSGII_10-800\""
   ]
  },
  {
   "cell_type": "code",
   "execution_count": 2,
   "id": "a47713fa-f128-425f-a2d0-754e64ffb654",
   "metadata": {
    "tags": []
   },
   "outputs": [
    {
     "name": "stdout",
     "output_type": "stream",
     "text": [
      "Nr sources: 1230 selected: 871\n"
     ]
    },
    {
     "data": {
      "text/html": [
       "<div><i>Table length=4</i>\n",
       "<table id=\"table140115339360624\" class=\"table-striped table-bordered table-condensed\">\n",
       "<thead><tr><th>fd_src_id</th><th>nr_det</th><th>ra</th><th>dec</th><th>pos_err</th><th>pos_xv</th><th>pos_var</th><th>pos_cpval</th><th>pos_rchiq</th><th>coadd_src_id</th><th>coadd_dist</th><th>obs_filter_id</th><th>sel</th><th>flux</th><th>flux_err</th><th>flux_nxv</th><th>flux_var</th><th>flux_cpval</th><th>flux_rchiq</th><th>coadd_ffactor</th><th>coadd_fdiff_s2n</th><th>rg_fd_id</th><th>rg_src_id</th><th>nr_fd_srcs</th><th>hr</th><th>hr_err</th><th>otype</th><th>main_id</th><th>otypes</th><th>z_value</th><th>distance_distance</th><th>distance_unit</th><th>distance_result</th></tr></thead>\n",
       "<thead><tr><th></th><th></th><th>deg</th><th>deg</th><th>arcsec</th><th>arcsec2</th><th>arcsec2</th><th></th><th></th><th></th><th>arcsec</th><th></th><th></th><th>1e-06 Jy</th><th>1e-06 Jy</th><th></th><th>1e-12 Jy2</th><th></th><th></th><th></th><th></th><th></th><th></th><th></th><th></th><th></th><th></th><th></th><th></th><th></th><th></th><th></th><th>arcsec</th></tr></thead>\n",
       "<thead><tr><th>int32</th><th>int32[2]</th><th>float64</th><th>float64</th><th>float32</th><th>float32</th><th>float32</th><th>float32</th><th>float32</th><th>int64</th><th>float32</th><th>int32[2]</th><th>bool</th><th>float32[2]</th><th>float32[2]</th><th>float32[2]</th><th>float32[2]</th><th>float32[2]</th><th>float32[2]</th><th>float32[2]</th><th>float32[2]</th><th>int64</th><th>int32</th><th>int32</th><th>float32</th><th>float32</th><th>bytes32</th><th>bytes32</th><th>bytes32</th><th>float64</th><th>float64</th><th>bytes4</th><th>float32</th></tr></thead>\n",
       "<tr><td>-1</td><td>35 .. 5</td><td>334.61900740472345</td><td>-0.0033813554025151345</td><td>0.08654309</td><td>-0.13358614</td><td>0.16820572</td><td>0.97304916</td><td>0.5630017</td><td>2410</td><td>0.18017368</td><td>1 .. 2</td><td>True</td><td>121.59981 .. 40.61505</td><td>0.32700354 .. 0.6793138</td><td>0.0012762442 .. 0.0012225002</td><td>22.828146 .. 9.024125</td><td>2.1874502e-27 .. 0.001186736</td><td>6.2001452 .. 4.5217357</td><td>1.0003184 .. 1.007664</td><td>0.08853569 .. 0.31262133</td><td>-1</td><td>1891</td><td>2</td><td>0.33295098</td><td>0.0059931264</td><td>WD*</td><td>PB  5130</td><td>WD*|WD*|WD*|WD*|*|Opt|UV|WD?|WD?</td><td>1.3299500</td><td>121.7450</td><td>pc</td><td>0.3261</td></tr>\n",
       "<tr><td>-1</td><td>35 .. 4</td><td>333.5413675869932</td><td>0.8794347888579439</td><td>0.10153956</td><td>-0.2568612</td><td>0.15229508</td><td>0.99949604</td><td>0.37336546</td><td>6503</td><td>0.08153211</td><td>1 .. 2</td><td>True</td><td>20.24083 .. 5.189896</td><td>0.16559538 .. 0.40037686</td><td>0.06014167 .. -0.020882767</td><td>25.663895 .. 0.08260181</td><td>0.0 .. 0.9400651</td><td>26.422163 .. 0.13361952</td><td>0.9598218 .. 1.0394988</td><td>-3.864632 .. 0.3762283</td><td>-1</td><td>3403</td><td>2</td><td>0.34424755</td><td>0.02826839</td><td>WD*</td><td>GALEX J221409.8+005245</td><td>WD*|WD*|WD*|*|Opt|UV</td><td>--</td><td>439.0000</td><td>pc</td><td>0.2825</td></tr>\n",
       "<tr><td>-1</td><td>28 .. 9</td><td>150.65361426058803</td><td>2.643111670533707</td><td>0.08557914</td><td>-0.08412055</td><td>0.19236396</td><td>0.8580123</td><td>0.66507405</td><td>44620</td><td>0.12717035</td><td>1 .. 2</td><td>True</td><td>106.96241 .. 66.50696</td><td>0.34322292 .. 0.6652977</td><td>0.0007799396 .. 0.0010192677</td><td>12.584814 .. 8.828741</td><td>5.945311e-11 .. 0.026203794</td><td>3.846406 .. 2.1749918</td><td>1.0030466 .. 1.0014558</td><td>0.71483445 .. 0.09157375</td><td>-1</td><td>16149</td><td>2</td><td>0.6084019</td><td>0.006708973</td><td>WD?</td><td>GALEX J100236.8+023834</td><td>*|*|G|Opt|UV|WD?|WD?</td><td>1.9900000</td><td>293.2980</td><td>pc</td><td>0.4992</td></tr>\n",
       "<tr><td>-1</td><td>12 .. -1</td><td>244.14364033210146</td><td>54.16991388586225</td><td>0.16000032</td><td>-0.1349428</td><td>0.17470829</td><td>0.4975613</td><td>0.578193</td><td>12469</td><td>0.3236669</td><td>1 .. 0</td><td>True</td><td>46.202312 .. -1.0</td><td>0.4356251 .. -1.0</td><td>0.019377798 .. -100.0</td><td>43.763363 .. -1.0</td><td>7.33e-43 .. -1.0</td><td>20.80549 .. -1.0</td><td>1.0119411 .. -100.0</td><td>1.0512818 .. -10000.0</td><td>-1</td><td>45461</td><td>1</td><td>-1.0</td><td>-1.0</td><td>WD?</td><td>GALEX J161634.4+541011</td><td>*|*|Opt|UV|WD?|WD?</td><td>--</td><td>93.6920</td><td>pc</td><td>0.9987</td></tr>\n",
       "</table></div>"
      ],
      "text/plain": [
       "<Table length=4>\n",
       "fd_src_id  nr_det          ra         ... distance_unit distance_result\n",
       "                          deg         ...                    arcsec    \n",
       "  int32   int32[2]      float64       ...     bytes4        float32    \n",
       "--------- -------- ------------------ ... ------------- ---------------\n",
       "       -1  35 .. 5 334.61900740472345 ...            pc          0.3261\n",
       "       -1  35 .. 4  333.5413675869932 ...            pc          0.2825\n",
       "       -1  28 .. 9 150.65361426058803 ...            pc          0.4992\n",
       "       -1 12 .. -1 244.14364033210146 ...            pc          0.9987"
      ]
     },
     "metadata": {},
     "output_type": "display_data"
    }
   ],
   "source": [
    "%matplotlib widget\n",
    "import ipywidgets as widgets\n",
    "from IPython.display import display\n",
    "import matplotlib.pyplot as plt\n",
    "\n",
    "from regions import CircleSkyRegion\n",
    "from astropy import units as uu\n",
    "from astropy.coordinates import SkyCoord\n",
    "from astropy.wcs.utils import pixel_to_skycoord\n",
    "from astropy.table import Table\n",
    "import numpy as np\n",
    "\n",
    "from vasca.region import Region\n",
    "from vasca.field import BaseField\n",
    "import vasca.visualization as vvis\n",
    "\n",
    "from vasca.utils import mag2flux, sel_sources, dd_filter2id\n",
    "\n",
    "#Setup some global setup parameters that usually don't need to be adjusted\n",
    "\n",
    "show_lc_pars = [\"rg_src_id\",\"nr_det\",\"flux\",\"flux_cpval\",\"flux_nxv\",\"flux_rchiq\",\"coadd_ffactor\",\"coadd_fdiff_s2n\"]\n",
    "show_map_pars = [\"rg_src_id\",\"obs_filter_id\",\"ra\",\"dec\",\"pos_err\",\"pos_xv\", \"pos_cpval\",\"nr_det\",\"flux\",\"flux_cpval\", \"nr_fd_srcs\",\"coadd_ffactor\",\"coadd_fdiff_s2n\",\"sel\"]\n",
    "\n",
    "#Load region\n",
    "rg = Region()\n",
    "rg.load_from_fits(region_fname)\n",
    "\n",
    "#Select source pool to show\n",
    "if redo_src_sel:\n",
    "    sel_vasca =  sel_sources(rg.tt_sources)\n",
    "    rg.tt_sources[\"sel\"][:]=sel_vasca \n",
    "print(\"Nr sources:\",len(rg.tt_sources),\"selected:\",rg.tt_sources[\"sel\"].sum())\n",
    "    \n",
    "#Subselect sources based on choice\n",
    "if len(srcs_ids)>0:\n",
    "    rg.tt_sources.add_index(\"rg_src_id\")\n",
    "    idx_srcs = rg.tt_sources.loc_indices[\"rg_src_id\", srcs_ids]\n",
    "    tt_srcs = Table(rg.tt_sources[idx_srcs])\n",
    "elif only_sel_srcs:\n",
    "    tt_srcs = rg.tt_sources[rg.tt_sources[\"sel\"]]\n",
    "else:\n",
    "    tt_srcs = rg.tt_sources\n",
    "\n",
    "nr_srcs = len(tt_srcs)\n",
    "tt_srcs.sort(sort_par)\n",
    "tt_srcs.add_index(\"rg_src_id\")\n",
    "display(tt_srcs)\n",
    "#display(rg.tt_fields)"
   ]
  },
  {
   "cell_type": "markdown",
   "id": "e7a1fe03-a8a7-4936-83ce-5f1a81b6c20f",
   "metadata": {},
   "source": [
    "### Draw light curves"
   ]
  },
  {
   "cell_type": "code",
   "execution_count": 3,
   "id": "b4b6f33c-ac4d-4467-a780-804bee76b0dd",
   "metadata": {},
   "outputs": [
    {
     "data": {
      "application/vnd.jupyter.widget-view+json": {
       "model_id": "564af865f9dc45569d8a08be5b0e1653",
       "version_major": 2,
       "version_minor": 0
      },
      "text/plain": [
       "interactive(children=(IntSlider(value=0, description='block_nr', max=0), Output()), _dom_classes=('widget-inte…"
      ]
     },
     "execution_count": 3,
     "metadata": {},
     "output_type": "execute_result"
    }
   ],
   "source": [
    "nr_blocks = int(nr_srcs/lc_block_srcs)+1 \n",
    "def plot_lc_range(block_nr):\n",
    "    fig_lc = plt.figure(\"Light curves\",figsize=(10, 9), clear=True)\n",
    "    lc_min = lc_block_srcs * block_nr\n",
    "    lc_max = lc_min + lc_block_srcs if lc_min + lc_block_srcs<=nr_srcs-1 else nr_srcs\n",
    "    vvis.plot_light_curve(rg,fig=fig_lc, rg_src_ids = tt_srcs[\"rg_src_id\"][lc_min:lc_max], ylim = [1.2,550])\n",
    "    plt.show()\n",
    "    display(tt_srcs[lc_min:lc_max]) #[show_lc_pars]\n",
    "widgets.interactive( plot_lc_range, block_nr=(0,nr_blocks-1))"
   ]
  },
  {
   "cell_type": "markdown",
   "id": "23df4759-a6cd-462d-8fa6-dcd4c14bd395",
   "metadata": {},
   "source": [
    "### Show all info for one source"
   ]
  },
  {
   "cell_type": "code",
   "execution_count": 4,
   "id": "4e438a82-e94a-43c6-89ce-49862abc76dc",
   "metadata": {},
   "outputs": [
    {
     "data": {
      "application/vnd.jupyter.widget-view+json": {
       "model_id": "8da7128273e3469a8477c654cb7e77a7",
       "version_major": 2,
       "version_minor": 0
      },
      "text/plain": [
       "interactive(children=(Dropdown(description='rg_src_id', options=(1891, 3403, 16149, 45461), value=1891), Outpu…"
      ]
     },
     "execution_count": 4,
     "metadata": {},
     "output_type": "execute_result"
    }
   ],
   "source": [
    "def display_src_info(rg_src_id=0):\n",
    "    fig_lc_src = plt.figure(\"Light curve\",figsize=(8, 4), clear=True)\n",
    "    plt.cla()\n",
    "    vvis.plot_light_curve(rg, rg_src_ids = rg_src_id,fig=fig_lc_src) #\n",
    "    plt.show()\n",
    "    \n",
    "    tc_src = rg.get_src_from_id(rg_src_id)\n",
    "    tc_src.info()\n",
    "    table_names = [\"tt_sources\",\"tt_simbad\",\"tt_coadd_sources\",\"tt_suource_lc\"]\n",
    "    for table_name in table_names:\n",
    "        if table_name in tc_src._table_names:\n",
    "            print(\"\\n\",table_name,\":\")\n",
    "            display(tc_src.__dict__[table_name])\n",
    "\n",
    "widgets.interactive(display_src_info, rg_src_id=tt_srcs[\"rg_src_id\"])"
   ]
  },
  {
   "cell_type": "markdown",
   "id": "1ef453ca-db09-45cf-b4fd-fb8bf284ca2e",
   "metadata": {},
   "source": [
    "### Plot skymaps for one source"
   ]
  },
  {
   "cell_type": "code",
   "execution_count": 5,
   "id": "c038cd88-42e8-4897-a277-bbf207f4c930",
   "metadata": {
    "tags": []
   },
   "outputs": [
    {
     "data": {
      "application/vnd.jupyter.widget-view+json": {
       "model_id": "b7b9af26f32649819fd7e671f00767fe",
       "version_major": 2,
       "version_minor": 0
      },
      "text/plain": [
       "VBox(children=(HBox(children=(Dropdown(description='rg_src_id', options=(1891, 3403, 16149, 45461), value=1891…"
      ]
     },
     "metadata": {},
     "output_type": "display_data"
    }
   ],
   "source": [
    "def plot_sky_src(rg_src_id=0, fd_idx=0, vis_idx = -1):\n",
    "    \n",
    "    #Check if src_id exists\n",
    "    if rg_src_id not in tt_srcs[\"rg_src_id\"]:\n",
    "        print(\"Source ID does not exist\") \n",
    "        return\n",
    "    \n",
    "    #Get source and check id field index out of range\n",
    "    tc_src = rg.get_src_from_id(rg_src_id)\n",
    "    if fd_idx > len(tc_src.tt_fields)-1:\n",
    "        print(\"Field index out of range\") \n",
    "        return\n",
    "    \n",
    "    #Get field to plot and check if visit index out of range\n",
    "    rg_fd_id = tc_src.tt_fields[fd_idx][\"rg_fd_id\"]\n",
    "    fd_src = rg.get_field(rg_fd_id=rg_fd_id, load_method=\"FITS\", add_field=True)\n",
    "    if vis_idx > len(fd_src.tt_visits)-1:\n",
    "        print(\"Visit index out of range\") \n",
    "        return\n",
    "\n",
    "    fig_src = plt.figure(\"Sky map source\",figsize=(8, 7), clear=True)\n",
    "\n",
    "    #Get sky region of source\n",
    "    sky_center = SkyCoord(tc_src.tt_sources[0][\"ra\"]*uu.deg, tc_src.tt_sources[0][\"dec\"]*uu.deg, frame=\"icrs\")\n",
    "    sky_region_src = CircleSkyRegion(center=sky_center, radius=0.3*uu.arcmin)\n",
    "     \n",
    "    #Plot\n",
    "    plt.cla()\n",
    "    ax_src, wcs_src = vvis.plot_field_sky_map(fd_src, img_idx=vis_idx, sky_region = sky_region_src, fig=fig_src) #\n",
    "    \n",
    "    #If displaying visits, onle show detections in that visit\n",
    "    sel_det_rg = np.ones(len(rg.tt_detections), dtype=bool)\n",
    "    sel_det_src = np.ones(len(tc_src.tt_detections), dtype=bool)\n",
    "    \n",
    "    # Preselt field detections, can be removed in the future\n",
    "    #fd_src.tt_detections = fd_src.tt_detections[fd_src.tt_detections[\"s2n\"]>0]\n",
    "    \n",
    "    sel_det_fd = np.ones(len(fd_src.tt_detections), dtype=bool)\n",
    "    if vis_idx > -1:\n",
    "        vis_id = fd_src.tt_visits[\"vis_id\"][vis_idx]\n",
    "        sel_det_rg = (rg.tt_detections[\"vis_id\"]==vis_id) * (rg.tt_detections[\"obs_filter_id\"]==dd_filter2id[fd_src.obs_filter])\n",
    "        sel_det_src = (tc_src.tt_detections[\"vis_id\"]==vis_id) * (tc_src.tt_detections[\"obs_filter_id\"]==dd_filter2id[fd_src.obs_filter])\n",
    "\n",
    "        fd_det_coords = SkyCoord(fd_src.tt_detections[\"ra\"][sel_det_fd], fd_src.tt_detections[\"dec\"][sel_det_fd], frame=\"icrs\")\n",
    "        sel_det_fd = ( (fd_src.tt_detections[\"vis_id\"] == vis_id)\n",
    "                     * (fd_src.tt_detections[\"obs_filter_id\"] == dd_filter2id[fd_src.obs_filter])\n",
    "                     * sky_region_src.contains(fd_det_coords, wcs_src))\n",
    "        \n",
    "    #Show sources\n",
    "    plt_ref_src_kwargs = {\"marker\": \"x\",\"markersize\": 10,\"color\":\"yellow\"}\n",
    "    _ = vvis.plot_sky_sources(rg.tt_sources,tt_det=rg.tt_detections[sel_det_rg], sky_region_wcs = (sky_region_src,wcs_src),only_selected=False) #\n",
    "    _ = vvis.plot_sky_sources(rg.tt_coadd_sources,tt_det=None, sky_region_wcs = (sky_region_src,wcs_src),only_selected=False, src_id=\"coadd_src_id\", src_kwargs = plt_ref_src_kwargs)\n",
    "    if vis_idx > -1:\n",
    "        plot_tds = {\"marker\":\"x\",\"color\":\"green\"}\n",
    "        _ = vvis.plot_sky_sources(fd_src.tt_detections[sel_det_fd],src_kwargs=plot_tds, sky_region_wcs = (sky_region_src,wcs_src),  src_id=\"det_id\",only_selected=False)\n",
    "    plt.show()\n",
    "\n",
    "    # Display sources only for the shown field\n",
    "    #fd_src_id = rg.tt_src_id_map[sel_fd_src][\"fd_src_id\"][0]\n",
    "    if vis_idx > -1:\n",
    "        print(\"\\nAll detections for this visit in the field:\")\n",
    "        display(fd_src.tt_detections[sel_det_fd])\n",
    "    \n",
    "#Decide which sources to show\n",
    "list_srcs = tt_srcs[\"rg_src_id\"]\n",
    "if len(srcs_ids)>0:\n",
    "    list_srcs = srcs_ids\n",
    "     \n",
    "widget = widgets.interactive( plot_sky_src, rg_src_id=list_srcs,\n",
    "                    fd_idx=widgets.IntSlider(min=0, max=10, value=0, step=1),\n",
    "                    vis_idx = widgets.IntSlider(min=-1, max=100, value=-1, step=1)) #visprob_srcids = [1669,1801,2815,3776,4338,6137,] \n",
    "\n",
    "controls = widgets.HBox(widget.children[:-1], layout = widgets.Layout(flex_flow='row wrap'))\n",
    "output = widget.children[-1]\n",
    "display(widgets.VBox([controls, output]))\n",
    "# straight NUV, dashed FUV"
   ]
  },
  {
   "cell_type": "markdown",
   "id": "b65aa26f-ae0b-44c7-86f7-e22da3a9e976",
   "metadata": {},
   "source": [
    "### Sources to look into\n",
    "6213\t244.39756945883389\t55.14934913850557  periodic"
   ]
  },
  {
   "cell_type": "markdown",
   "id": "20ff40c6-d108-4925-b04d-f85e3dd5f663",
   "metadata": {},
   "source": [
    "### Draw sky maps of entire fields"
   ]
  },
  {
   "cell_type": "code",
   "execution_count": 6,
   "id": "aaa5317e-41b7-47fe-9dca-29ae84bc127b",
   "metadata": {
    "tags": []
   },
   "outputs": [
    {
     "data": {
      "application/vnd.jupyter.widget-view+json": {
       "model_id": "75b739e3d4534f39bf148b9dc359de83",
       "version_major": 2,
       "version_minor": 0
      },
      "text/plain": [
       "interactive(children=(IntSlider(value=42, description='rg_fd_id', max=84, min=1), Output()), _dom_classes=('wi…"
      ]
     },
     "execution_count": 6,
     "metadata": {},
     "output_type": "execute_result"
    }
   ],
   "source": [
    "def plot_sky_field(rg_fd_id):\n",
    "    if rg_fd_id not in rg.tt_fields[\"rg_fd_id\"]:\n",
    "        print(\"source ID does not exist\") \n",
    "        return\n",
    "    fig_skymap = plt.figure(\"Sky map\",figsize=(9, 8), clear=True) #, constrained_layout=True\n",
    "    fd = rg.get_field(rg_fd_id=rg_fd_id, load_method=\"FITS\", add_field=True)\n",
    "    ax, wcs = vvis.plot_field_sky_map(fd, img_idx=-1, sky_region = fd.get_sky_region(),fig=fig_skymap) # \n",
    "    ax, tt_src_shown = vvis.plot_sky_sources(rg.tt_sources,tt_det=rg.tt_detections, sky_region_wcs = (fd.get_sky_region(),wcs),only_selected=only_sel_srcs) # \n",
    "    plt.show()\n",
    "    display(tt_src_shown) #[show_map_pars]\n",
    "widgets.interactive( plot_sky_field, rg_fd_id=(rg.tt_fields[\"rg_fd_id\"].min(),rg.tt_fields[\"rg_fd_id\"].max()))"
   ]
  },
  {
   "cell_type": "code",
   "execution_count": null,
   "id": "40b02103-e651-4c98-bd2f-24461ed03f7e",
   "metadata": {},
   "outputs": [],
   "source": []
  }
 ],
 "metadata": {
  "kernelspec": {
   "display_name": "Python 3 (ipykernel)",
   "language": "python",
   "name": "python3"
  },
  "language_info": {
   "codemirror_mode": {
    "name": "ipython",
    "version": 3
   },
   "file_extension": ".py",
   "mimetype": "text/x-python",
   "name": "python",
   "nbconvert_exporter": "python",
   "pygments_lexer": "ipython3",
   "version": "3.10.12"
  }
 },
 "nbformat": 4,
 "nbformat_minor": 5
}
