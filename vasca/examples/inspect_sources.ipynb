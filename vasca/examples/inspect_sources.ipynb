{
 "cells": [
  {
   "cell_type": "markdown",
   "id": "c0fd65f4-8d6a-45e8-96b6-a972fe024459",
   "metadata": {},
   "source": [
    "# Inspect source light curves and skymaps"
   ]
  },
  {
   "cell_type": "markdown",
   "id": "8ba66aa5-9d87-4681-a429-74b92c9bfeee",
   "metadata": {},
   "source": [
    "### Setup main notebook options"
   ]
  },
  {
   "cell_type": "code",
   "execution_count": 1,
   "id": "d73f0bca-43f4-4d59-91b3-c07bdbf960fe",
   "metadata": {
    "tags": []
   },
   "outputs": [],
   "source": [
    "region_name = \"TDS_ELAISN1\" # _ELAISN1\n",
    "sort_par = \"rg_src_id\" # \"flux\"\n",
    "redo_src_sel = False\n",
    "only_sel_srcs = True\n",
    "srcs_ids = [] #[ 1932,  2017,  2018,  2849,  3839,  4300,  4665,  5239,  6173, 6217,  7125,  8407,  9443,  9710, 13543, 14042, 16926, 18771, 19305, 19909, 19986, 27586, 28065, 30891, 30911, 31661, 33963,34725, 35193, 35636]"
   ]
  },
  {
   "cell_type": "code",
   "execution_count": 2,
   "id": "a47713fa-f128-425f-a2d0-754e64ffb654",
   "metadata": {
    "tags": []
   },
   "outputs": [
    {
     "name": "stdout",
     "output_type": "stream",
     "text": [
      "Nr sources: 25310 selected: 229\n"
     ]
    },
    {
     "data": {
      "text/html": [
       "<div><i>Table length=16</i>\n",
       "<table id=\"table140303325567184\" class=\"table-striped table-bordered table-condensed\">\n",
       "<thead><tr><th>field_id</th><th>field_name</th><th>ra</th><th>dec</th><th>observatory</th><th>obs_filter</th><th>fov_diam</th><th>sel</th><th>nr_vis</th><th>time_bin_size_sum</th><th>time_start</th><th>time_stop</th><th>rg_fd_id</th></tr></thead>\n",
       "<thead><tr><th></th><th></th><th>deg</th><th>deg</th><th></th><th></th><th>deg</th><th></th><th></th><th>s</th><th>d</th><th>d</th><th></th></tr></thead>\n",
       "<thead><tr><th>bytes32</th><th>bytes32</th><th>float64</th><th>float64</th><th>bytes22</th><th>bytes8</th><th>float32</th><th>bool</th><th>int32</th><th>float32</th><th>float64</th><th>float64</th><th>int64</th></tr></thead>\n",
       "<tr><td>GNU2592738715952480256</td><td>PS_XMMLSS_MOS02</td><td>34.995648096666685</td><td>-3.95320684099725</td><td>GALEX</td><td>NUV</td><td>1.2</td><td>True</td><td>24</td><td>23118.55</td><td>54791.399976851855</td><td>56670.07746654369</td><td>1</td></tr>\n",
       "<tr><td>GNU2597312684324028416</td><td>PS_ELAISN1_MOS10</td><td>242.50638203682297</td><td>55.9801443588634</td><td>GALEX</td><td>NUV</td><td>1.2</td><td>True</td><td>24</td><td>29566.4</td><td>54960.17787037037</td><td>56821.33210648148</td><td>2</td></tr>\n",
       "<tr><td>GNU2597383053068206080</td><td>PS_ELAISN1_MOS11</td><td>244.57200462478102</td><td>55.1825511621234</td><td>GALEX</td><td>NUV</td><td>1.2</td><td>True</td><td>25</td><td>31369.5</td><td>54960.24638888889</td><td>56815.50054271557</td><td>3</td></tr>\n",
       "<tr><td>GNU2597453421812383744</td><td>PS_ELAISN1_MOS12</td><td>242.896209389035</td><td>55.0003489374844</td><td>GALEX</td><td>NUV</td><td>1.2</td><td>True</td><td>21</td><td>26349.451</td><td>54960.314884259256</td><td>56814.569061234084</td><td>4</td></tr>\n",
       "<tr><td>GNU2597523790556561408</td><td>PS_ELAISN1_MOS13</td><td>241.28881797574297</td><td>55.3529870930308</td><td>GALEX</td><td>NUV</td><td>1.2</td><td>True</td><td>22</td><td>27810.902</td><td>54960.38337962963</td><td>56819.53759259259</td><td>5</td></tr>\n",
       "<tr><td>GNU2597594159300739072</td><td>PS_ELAISN1_MOS14</td><td>243.95513153083402</td><td>54.1978605194106</td><td>GALEX</td><td>NUV</td><td>1.2</td><td>True</td><td>22</td><td>26881.852</td><td>54960.451886574076</td><td>56810.60611111111</td><td>6</td></tr>\n",
       "<tr><td>...</td><td>...</td><td>...</td><td>...</td><td>...</td><td>...</td><td>...</td><td>...</td><td>...</td><td>...</td><td>...</td><td>...</td><td>...</td></tr>\n",
       "<tr><td>GFU2597383053068206080</td><td>PS_ELAISN1_MOS11</td><td>244.57200462478102</td><td>55.1825511621234</td><td>GALEX</td><td>FUV</td><td>1.2</td><td>True</td><td>5</td><td>6896.3994</td><td>54960.24638888889</td><td>56501.58207429109</td><td>11</td></tr>\n",
       "<tr><td>GFU2597453421812383744</td><td>PS_ELAISN1_MOS12</td><td>242.896209389035</td><td>55.0003489374844</td><td>GALEX</td><td>FUV</td><td>1.2</td><td>True</td><td>5</td><td>6929.0996</td><td>54960.314884259256</td><td>56508.650511791086</td><td>12</td></tr>\n",
       "<tr><td>GFU2597523790556561408</td><td>PS_ELAISN1_MOS13</td><td>241.28881797574297</td><td>55.3529870930308</td><td>GALEX</td><td>FUV</td><td>1.2</td><td>True</td><td>5</td><td>6942.2</td><td>54960.38337962963</td><td>56506.76889919705</td><td>13</td></tr>\n",
       "<tr><td>GFU2597594159300739072</td><td>PS_ELAISN1_MOS14</td><td>243.95513153083402</td><td>54.1978605194106</td><td>GALEX</td><td>FUV</td><td>1.2</td><td>True</td><td>5</td><td>6951.2</td><td>54960.451886574076</td><td>56513.78742151331</td><td>14</td></tr>\n",
       "<tr><td>GFU2597664528044916736</td><td>PS_ELAISN1_MOS15</td><td>242.396514585217</td><td>53.9999872930018</td><td>GALEX</td><td>FUV</td><td>1.2</td><td>True</td><td>5</td><td>6977.0</td><td>54960.52040509259</td><td>56519.80583333333</td><td>15</td></tr>\n",
       "<tr><td>GFU2597734896789094400</td><td>PS_ELAISN1_MOS16</td><td>241.37385712300306</td><td>54.4519391954855</td><td>GALEX</td><td>FUV</td><td>1.2</td><td>True</td><td>5</td><td>6887.0</td><td>54960.588912037034</td><td>56510.974315863714</td><td>16</td></tr>\n",
       "</table></div>"
      ],
      "text/plain": [
       "<Table length=16>\n",
       "       field_id           field_name    ...     time_stop      rg_fd_id\n",
       "                                        ...         d                  \n",
       "       bytes32             bytes32      ...      float64        int64  \n",
       "---------------------- ---------------- ... ------------------ --------\n",
       "GNU2592738715952480256  PS_XMMLSS_MOS02 ...  56670.07746654369        1\n",
       "GNU2597312684324028416 PS_ELAISN1_MOS10 ...  56821.33210648148        2\n",
       "GNU2597383053068206080 PS_ELAISN1_MOS11 ...  56815.50054271557        3\n",
       "GNU2597453421812383744 PS_ELAISN1_MOS12 ... 56814.569061234084        4\n",
       "GNU2597523790556561408 PS_ELAISN1_MOS13 ...  56819.53759259259        5\n",
       "GNU2597594159300739072 PS_ELAISN1_MOS14 ...  56810.60611111111        6\n",
       "                   ...              ... ...                ...      ...\n",
       "GFU2597383053068206080 PS_ELAISN1_MOS11 ...  56501.58207429109       11\n",
       "GFU2597453421812383744 PS_ELAISN1_MOS12 ... 56508.650511791086       12\n",
       "GFU2597523790556561408 PS_ELAISN1_MOS13 ...  56506.76889919705       13\n",
       "GFU2597594159300739072 PS_ELAISN1_MOS14 ...  56513.78742151331       14\n",
       "GFU2597664528044916736 PS_ELAISN1_MOS15 ...  56519.80583333333       15\n",
       "GFU2597734896789094400 PS_ELAISN1_MOS16 ... 56510.974315863714       16"
      ]
     },
     "metadata": {},
     "output_type": "display_data"
    }
   ],
   "source": [
    "%matplotlib widget\n",
    "import ipywidgets as widgets\n",
    "from IPython.display import display\n",
    "import matplotlib.pyplot as plt\n",
    "\n",
    "from regions import CircleSkyRegion\n",
    "from astropy import units as uu\n",
    "from astropy.coordinates import SkyCoord\n",
    "from astropy.wcs.utils import pixel_to_skycoord\n",
    "import numpy as np\n",
    "\n",
    "from vasca.region import Region\n",
    "from vasca.field import BaseField\n",
    "import vasca.visualization as vvis\n",
    "\n",
    "from vasca.utils import mag2flux, sel_sources, dd_filter2id\n",
    "\n",
    "#Setup some global setup parameters that usually don't need to be adjusted\n",
    "lc_block_srcs = 5 #Setup light curve plotting parameters\n",
    "show_lc_pars = [\"rg_src_id\",\"nr_det\",\"flux\",\"flux_cpval\",\"flux_nxv\",\"flux_rchiq\",\"assoc_ffactor\",\"assoc_fdiff_s2n\"]\n",
    "show_map_pars = [\"rg_src_id\",\"obs_filter_id\",\"ra\",\"dec\",\"pos_err\",\"pos_nxv\", \"pos_cpval\",\"nr_det\",\"flux\",\"flux_cpval\", \"nr_fd_srcs\",\"assoc_ffactor\",\"assoc_fdiff_s2n\",\"sel\"]\n",
    "\n",
    "#Load region\n",
    "region_fname = \"./vasca_pipeline/\"+region_name+\"/region_\"+region_name+\".fits\"\n",
    "rg = Region()\n",
    "rg.load_from_fits(region_fname)\n",
    "\n",
    "#Select source pool to show\n",
    "if redo_src_sel:\n",
    "    sel_vasca =  sel_sources(rg.tt_sources)\n",
    "    rg.tt_sources[\"sel\"][:]=sel_vasca \n",
    "print(\"Nr sources:\",len(rg.tt_sources),\"selected:\",rg.tt_sources[\"sel\"].sum())\n",
    "    \n",
    "tt_srcs = rg.tt_sources\n",
    "\n",
    "if only_sel_srcs:\n",
    "    tt_srcs = rg.tt_sources[rg.tt_sources[\"sel\"]]\n",
    "nr_srcs = len(tt_srcs)\n",
    "tt_srcs.sort(sort_par)\n",
    "tt_srcs.add_index(\"rg_src_id\")\n",
    "#display(tt_srcs)\n",
    "display(rg.tt_fields)"
   ]
  },
  {
   "cell_type": "markdown",
   "id": "23df4759-a6cd-462d-8fa6-dcd4c14bd395",
   "metadata": {},
   "source": [
    "### Show all info for one source"
   ]
  },
  {
   "cell_type": "code",
   "execution_count": 3,
   "id": "c038cd88-42e8-4897-a277-bbf207f4c930",
   "metadata": {
    "tags": []
   },
   "outputs": [
    {
     "data": {
      "application/vnd.jupyter.widget-view+json": {
       "model_id": "7e3a6fc67b5845af9233ce64d9ad753c",
       "version_major": 2,
       "version_minor": 0
      },
      "text/plain": [
       "VBox(children=(HBox(children=(Dropdown(description='rg_src_id', options=(17, 18, 47, 69, 98, 179, 213, 250, 32…"
      ]
     },
     "metadata": {},
     "output_type": "display_data"
    }
   ],
   "source": [
    "def plot_sky_src(rg_src_id=0, fd_idx=0, vis_idx = -1):\n",
    "    \n",
    "    #Check if src_id exists\n",
    "    if rg_src_id not in tt_srcs[\"rg_src_id\"]:\n",
    "        print(\"Source ID does not exist\") \n",
    "        return\n",
    "    \n",
    "    #Get source and check id field index out of range\n",
    "    tc_src = rg.get_src_from_id(rg_src_id)\n",
    "    if fd_idx > len(tc_src.tt_fields)-1:\n",
    "        print(\"Field index out of range\") \n",
    "        return\n",
    "    \n",
    "    #Get field to plot and check if visit index out of range\n",
    "    rg_fd_id = tc_src.tt_fields[fd_idx][\"rg_fd_id\"]\n",
    "    fd_src = rg.get_field(rg_fd_id=rg_fd_id, load_method=\"FITS\", add_field=True)\n",
    "    if vis_idx > len(fd_src.tt_visits)-1:\n",
    "        print(\"Visit index out of range\") \n",
    "        return\n",
    "\n",
    "    fig_src = plt.figure(\"Sky map source\",figsize=(8, 7))\n",
    "    #plt.cla()\n",
    "\n",
    "    #Get sky region of source\n",
    "    sky_center = SkyCoord(tc_src.tt_sources[0][\"ra\"]*uu.deg, tc_src.tt_sources[0][\"dec\"]*uu.deg, frame=\"icrs\")\n",
    "    sky_region_src = CircleSkyRegion(center=sky_center, radius=0.3*uu.arcmin)\n",
    "     \n",
    "    #Plot\n",
    "    plt.cla()\n",
    "    ax_src, wcs_src = vvis.plot_field_sky_map(fd_src, img_idx=vis_idx, sky_region = sky_region_src, fig=fig_src) #\n",
    "    \n",
    "    #If displaying visits, onle show detections in that visit\n",
    "    sel_det_rg = np.ones(len(rg.tt_detections), dtype=bool)\n",
    "    sel_det_src = np.ones(len(tc_src.tt_detections), dtype=bool)\n",
    "    \n",
    "    # Preselt field detections, can be removed in the future\n",
    "    fd_src.tt_detections = fd_src.tt_detections[fd_src.tt_detections[\"s2n\"]>0]\n",
    "    \n",
    "    sel_det_fd = np.ones(len(fd_src.tt_detections), dtype=bool)\n",
    "    if vis_idx > -1:\n",
    "        vis_id = fd_src.tt_visits[\"vis_id\"][vis_idx]\n",
    "        sel_det_rg = (rg.tt_detections[\"vis_id\"]==vis_id) * (rg.tt_detections[\"obs_filter_id\"]==dd_filter2id[fd_src.obs_filter])\n",
    "        sel_det_src = (tc_src.tt_detections[\"vis_id\"]==vis_id) * (tc_src.tt_detections[\"obs_filter_id\"]==dd_filter2id[fd_src.obs_filter])\n",
    "\n",
    "        fd_det_coords = SkyCoord(fd_src.tt_detections[\"ra\"][sel_det_fd], fd_src.tt_detections[\"dec\"][sel_det_fd], frame=\"icrs\")\n",
    "        sel_det_fd = ( (fd_src.tt_detections[\"vis_id\"] == vis_id)\n",
    "                     * (fd_src.tt_detections[\"obs_filter_id\"] == dd_filter2id[fd_src.obs_filter])\n",
    "                     * sky_region_src.contains(fd_det_coords, wcs_src))\n",
    "        \n",
    "    #Show sources\n",
    "    plt_ref_src_kwargs = {\"marker\": \"x\",\"markersize\": 10,\"color\":\"yellow\"}\n",
    "    _ = vvis.plot_sky_sources(rg.tt_sources,tt_det=rg.tt_detections[sel_det_rg], sky_region_wcs = (sky_region_src,wcs_src),only_selected=False) #\n",
    "    _ = vvis.plot_sky_sources(rg.tt_coadd_sources,tt_det=None, sky_region_wcs = (sky_region_src,wcs_src),only_selected=False, src_id=\"coadd_src_id\", src_kwargs = plt_ref_src_kwargs)\n",
    "    if vis_idx > -1:\n",
    "        plot_tds = {\"marker\":\"x\",\"color\":\"green\"}\n",
    "        _ = vvis.plot_sky_sources(fd_src.tt_detections[sel_det_fd],src_kwargs=plot_tds, sky_region_wcs = (sky_region_src,wcs_src),  src_id=\"det_id\",only_selected=False)\n",
    "    plt.show()\n",
    "    \n",
    "    fig_lc_src = plt.figure(\"Light curve\",figsize=(8, 4))\n",
    "    plt.cla()\n",
    "    vvis.plot_light_curve(rg, rg_src_ids = rg_src_id,fig=fig_lc_src) #\n",
    "    plt.show()\n",
    "\n",
    "    print(\"\\nSource:\")\n",
    "    display(tc_src.tt_sources[show_map_pars])\n",
    "    if \"tt_coadd_sources\" in tc_src._table_names:\n",
    "        display(tc_src.tt_coadd_sources[\"coadd_src_id\",\"flux\",\"flux_err\",\"nr_det\"])\n",
    "    print(\"\\nFields this source was detected in:\")\n",
    "    display(tc_src.tt_fields)\n",
    "    print(\"\\nDetections:\")\n",
    "    display(tc_src.tt_detections[sel_det_src])\n",
    "\n",
    "    # Display sources only for the shown field\n",
    "    #fd_src_id = rg.tt_src_id_map[sel_fd_src][\"fd_src_id\"][0]\n",
    "    if vis_idx > -1:\n",
    "        print(\"\\nAll detections for this visit in the field:\")\n",
    "        display(fd_src.tt_detections[sel_det_fd])\n",
    "    \n",
    "#Decide which sources to show\n",
    "list_srcs = tt_srcs[\"rg_src_id\"]\n",
    "if len(srcs_ids)>0:\n",
    "    list_srcs = srcs_ids\n",
    "     \n",
    "widget = widgets.interactive( plot_sky_src, rg_src_id=list_srcs,\n",
    "                    fd_idx=widgets.IntSlider(min=0, max=10, value=0, step=1),\n",
    "                    vis_idx = widgets.IntSlider(min=-1, max=100, value=-1, step=1)) #visprob_srcids = [1669,1801,2815,3776,4338,6137,] \n",
    "\n",
    "controls = widgets.HBox(widget.children[:-1], layout = widgets.Layout(flex_flow='row wrap'))\n",
    "output = widget.children[-1]\n",
    "display(widgets.VBox([controls, output]))\n",
    "# straight NUV, dashed FUV"
   ]
  },
  {
   "cell_type": "markdown",
   "id": "b65aa26f-ae0b-44c7-86f7-e22da3a9e976",
   "metadata": {},
   "source": [
    "### Sources to look into\n",
    "6213\t244.39756945883389\t55.14934913850557  periodic"
   ]
  },
  {
   "cell_type": "markdown",
   "id": "20ff40c6-d108-4925-b04d-f85e3dd5f663",
   "metadata": {},
   "source": [
    "### Draw sky maps of fields"
   ]
  },
  {
   "cell_type": "code",
   "execution_count": 4,
   "id": "aaa5317e-41b7-47fe-9dca-29ae84bc127b",
   "metadata": {
    "tags": []
   },
   "outputs": [
    {
     "data": {
      "application/vnd.jupyter.widget-view+json": {
       "model_id": "4e3cb342c616485b97141f9aa7e85fe8",
       "version_major": 2,
       "version_minor": 0
      },
      "text/plain": [
       "interactive(children=(IntSlider(value=8, description='rg_fd_id', max=16, min=1), Output()), _dom_classes=('wid…"
      ]
     },
     "execution_count": 4,
     "metadata": {},
     "output_type": "execute_result"
    }
   ],
   "source": [
    "def plot_sky_field(rg_fd_id):\n",
    "    if rg_fd_id not in rg.tt_fields[\"rg_fd_id\"]:\n",
    "        print(\"source ID does not exist\") \n",
    "        return\n",
    "    fig_skymap = plt.figure(\"Sky map\",figsize=(9, 8)) #, constrained_layout=True\n",
    "    plt.cla()\n",
    "    fd = rg.get_field(rg_fd_id=rg_fd_id, load_method=\"FITS\", add_field=True)\n",
    "    ax, wcs = vvis.plot_field_sky_map(fd, img_idx=-1, sky_region = fd.get_sky_region(),fig=fig_skymap) # \n",
    "    ax, tt_src_shown = vvis.plot_sky_sources(tt_srcs,tt_det=rg.tt_detections, sky_region_wcs = (fd.get_sky_region(),wcs),only_selected=False) # \n",
    "    plt.show()\n",
    "    display(tt_src_shown[show_map_pars])\n",
    "widgets.interactive( plot_sky_field, rg_fd_id=(rg.tt_fields[\"rg_fd_id\"].min(),rg.tt_fields[\"rg_fd_id\"].max()))"
   ]
  },
  {
   "cell_type": "markdown",
   "id": "e7a1fe03-a8a7-4936-83ce-5f1a81b6c20f",
   "metadata": {},
   "source": [
    "### Draw light curves"
   ]
  },
  {
   "cell_type": "code",
   "execution_count": 5,
   "id": "b4b6f33c-ac4d-4467-a780-804bee76b0dd",
   "metadata": {},
   "outputs": [
    {
     "data": {
      "application/vnd.jupyter.widget-view+json": {
       "model_id": "9d458e6db8b24fbfae6cc1ea0bac81cf",
       "version_major": 2,
       "version_minor": 0
      },
      "text/plain": [
       "interactive(children=(IntSlider(value=22, description='block_nr', max=45), Output()), _dom_classes=('widget-in…"
      ]
     },
     "execution_count": 5,
     "metadata": {},
     "output_type": "execute_result"
    }
   ],
   "source": [
    "nr_blocks = int(nr_srcs/lc_block_srcs)+1 \n",
    "def plot_lc_range(block_nr):\n",
    "    fig_lc = plt.figure(\"Light curves\",figsize=(10, 9))\n",
    "    plt.cla()\n",
    "    lc_min = lc_block_srcs * block_nr\n",
    "    lc_max = lc_min + lc_block_srcs if lc_min + lc_block_srcs<=nr_srcs-1 else nr_srcs-1\n",
    "    vvis.plot_light_curve(rg,fig=fig_lc, rg_src_ids = tt_srcs[\"rg_src_id\"][lc_min:lc_max], ylim = [1.2,350])\n",
    "    plt.show()\n",
    "    display(tt_srcs[lc_min:lc_max][show_lc_pars])\n",
    "widgets.interactive( plot_lc_range, block_nr=(0,nr_blocks-1))"
   ]
  },
  {
   "cell_type": "code",
   "execution_count": null,
   "id": "40b02103-e651-4c98-bd2f-24461ed03f7e",
   "metadata": {},
   "outputs": [],
   "source": []
  }
 ],
 "metadata": {
  "kernelspec": {
   "display_name": "Python 3 (ipykernel)",
   "language": "python",
   "name": "python3"
  },
  "language_info": {
   "codemirror_mode": {
    "name": "ipython",
    "version": 3
   },
   "file_extension": ".py",
   "mimetype": "text/x-python",
   "name": "python",
   "nbconvert_exporter": "python",
   "pygments_lexer": "ipython3",
   "version": "3.10.9"
  }
 },
 "nbformat": 4,
 "nbformat_minor": 5
}
