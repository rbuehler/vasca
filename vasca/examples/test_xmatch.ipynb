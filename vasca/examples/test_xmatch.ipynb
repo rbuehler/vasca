{
 "cells": [
  {
   "cell_type": "code",
   "execution_count": 1,
   "id": "059e3f2c-14e7-4b84-bc40-b8a830106413",
   "metadata": {},
   "outputs": [],
   "source": [
    "%matplotlib widget"
   ]
  },
  {
   "cell_type": "code",
   "execution_count": 2,
   "id": "6eea5ff5-1f55-48c4-b888-58423b302b8f",
   "metadata": {},
   "outputs": [],
   "source": [
    "%load_ext autoreload\n",
    "%autoreload 2"
   ]
  },
  {
   "cell_type": "code",
   "execution_count": 3,
   "id": "36f9de2b-cc71-409b-928a-84b4e6e76f88",
   "metadata": {},
   "outputs": [],
   "source": [
    "import json\n",
    "import requests\n",
    "import matplotlib.pyplot as plt\n",
    "from astropy.io import fits\n",
    "from tqdm import tqdm\n",
    "from pprint import pprint\n",
    "import backoff\n",
    "import numpy as np\n",
    "from vasca.region import Region\n",
    "from vasca.utils import nb_fig\n",
    "from vasca.acms_api import acms_xmatch_query, get_acms_cat_info\n",
    "from vasca.xmatch import xmatch_ampel, xmatch\n",
    "from loguru import logger"
   ]
  },
  {
   "cell_type": "code",
   "execution_count": 4,
   "id": "4cf1dfe2-1186-482e-8835-487f96872223",
   "metadata": {},
   "outputs": [],
   "source": [
    "logger.enable(\"vasca\")"
   ]
  },
  {
   "cell_type": "code",
   "execution_count": 5,
   "id": "e6233d4d-3f04-4dd9-bd99-3afaed6c4985",
   "metadata": {},
   "outputs": [
    {
     "name": "stderr",
     "output_type": "stream",
     "text": [
      "2023-05-17 15:51:53.990 | DEBUG    | vasca.tables:add_table:132 - Adding table 'region:tt_fields'\n",
      "2023-05-17 15:51:53.993 | DEBUG    | vasca.tables:table_from_template:114 - Created new table from template 'region:tt_fields'.\n",
      "2023-05-17 15:51:53.995 | DEBUG    | vasca.tables:load_from_fits:263 - Loading file with name '/Users/julianschliwinski/Library/Mobile Documents/com~apple~CloudDocs/PhD/ULTRASAT/Science/vasca/vasca/examples/vasca_pipeline/TDS_All/region_TDS_All.fits'\n",
      "2023-05-17 15:51:54.015 | DEBUG    | vasca.tables:load_from_fits:274 - Loading table 'tt_fields'\n",
      "2023-05-17 15:51:54.016 | WARNING  | vasca.tables:load_from_fits:277 - Table 'tt_fields' already exists, overwriting.\n",
      "2023-05-17 15:51:54.049 | DEBUG    | vasca.tables:load_from_fits:274 - Loading table 'tt_visits'\n",
      "2023-05-17 15:51:54.068 | DEBUG    | vasca.tables:load_from_fits:274 - Loading table 'tt_detections'\n",
      "2023-05-17 15:51:54.226 | DEBUG    | vasca.tables:load_from_fits:274 - Loading table 'tt_coadd_detections'\n",
      "2023-05-17 15:51:54.321 | DEBUG    | vasca.tables:load_from_fits:274 - Loading table 'tt_sources'\n",
      "2023-05-17 15:51:54.422 | DEBUG    | vasca.tables:load_from_fits:274 - Loading table 'tt_coadd_sources'\n",
      "2023-05-17 15:51:54.705 | DEBUG    | vasca.tables:load_from_fits:274 - Loading table 'tt_src_id_map'\n"
     ]
    }
   ],
   "source": [
    "file = f\"/Users/julianschliwinski/Library/Mobile Documents/com~apple~CloudDocs/PhD/ULTRASAT/Science/vasca/vasca/examples/vasca_pipeline/TDS_All/region_TDS_All.fits\"\n",
    "rg = Region()\n",
    "rg.load_from_fits(file)"
   ]
  },
  {
   "cell_type": "code",
   "execution_count": 6,
   "id": "44ee4c97-cd8e-474e-bc0f-da23ffb1626e",
   "metadata": {},
   "outputs": [],
   "source": [
    "vasca_cat = rg.tt_sources[\"ra\",\"dec\",\"rg_src_id\"][rg.tt_sources[\"sel\"]]"
   ]
  },
  {
   "cell_type": "code",
   "execution_count": 7,
   "id": "467dd160-5c0b-4893-9aaa-6d126a063e2b",
   "metadata": {},
   "outputs": [
    {
     "name": "stderr",
     "output_type": "stream",
     "text": [
      "2023-05-17 15:51:54.824 | DEBUG    | vasca.xmatch:xmatch:68 - Running x-matching via ampel API\n",
      "2023-05-17 15:51:55.133 | DEBUG    | vasca.acms_api:get_acms_cat_info:73 - Fetching available catalogs from Ampel Catalog Matching Service.\n",
      "X-match PS1: 100%|████████████████████████████████████████████████████████████████████████████████████████████████████████████████████████████| 1588/1588 [03:58<00:00,  6.66it/s]\n"
     ]
    }
   ],
   "source": [
    "api = \"ampel\"\n",
    "catalog = \"PS1\"\n",
    "radius = 5.0\n",
    "coords = vasca_cat[\"ra\", \"dec\"]\n",
    "ids = vasca_cat[\"rg_src_id\"]\n",
    "\n",
    "tt_matched = xmatch(\n",
    "    api=api,\n",
    "    catalog=catalog,\n",
    "    radius=radius,\n",
    "    coords=coords,\n",
    "    ids=ids,\n",
    "    dropna=True,\n",
    "    hide_progress=False,\n",
    ")"
   ]
  },
  {
   "cell_type": "code",
   "execution_count": 10,
   "id": "75b21658-774d-466d-b172-47d78b3ca0c8",
   "metadata": {},
   "outputs": [
    {
     "data": {
      "text/html": [
       "<div><i>Table length=10</i>\n",
       "<table id=\"table4422016784\" class=\"table-striped table-bordered table-condensed\">\n",
       "<thead><tr><th>vasca_id</th><th>vasca_ra</th><th>vasca_dec</th><th>vasca_dist</th><th>RA</th><th>Dec</th><th>ErrRA</th><th>ErrDec</th><th>MeanEpoch</th><th>posMeanChi2</th><th>gPSFMag</th><th>gPSFMagErr</th><th>gpsfLikelihood</th><th>gMeanPSFMagStd</th><th>gMeanPSFMagNpt</th><th>gMeanPSFMagMin</th><th>gMeanPSFMagMax</th><th>rPSFMag</th><th>rPSFMagErr</th><th>rpsfLikelihood</th><th>rMeanPSFMagStd</th><th>rMeanPSFMagNpt</th><th>rMeanPSFMagMin</th><th>rMeanPSFMagMax</th><th>iPSFMag</th><th>iPSFMagErr</th><th>ipsfLikelihood</th><th>iMeanPSFMagStd</th><th>iMeanPSFMagNpt</th><th>iMeanPSFMagMin</th><th>iMeanPSFMagMax</th><th>zPSFMag</th><th>zPSFMagErr</th><th>zpsfLikelihood</th><th>zMeanPSFMagStd</th><th>zMeanPSFMagNpt</th><th>zMeanPSFMagMin</th><th>zMeanPSFMagMax</th><th>yPSFMag</th><th>yPSFMagErr</th><th>ypsfLikelihood</th><th>yMeanPSFMagStd</th><th>yMeanPSFMagNpt</th><th>yMeanPSFMagMin</th><th>yMeanPSFMagMax</th></tr></thead>\n",
       "<thead><tr><th></th><th>deg</th><th>deg</th><th></th><th></th><th></th><th></th><th></th><th></th><th></th><th></th><th></th><th></th><th></th><th></th><th></th><th></th><th></th><th></th><th></th><th></th><th></th><th></th><th></th><th></th><th></th><th></th><th></th><th></th><th></th><th></th><th></th><th></th><th></th><th></th><th></th><th></th><th></th><th></th><th></th><th></th><th></th><th></th><th></th><th></th></tr></thead>\n",
       "<thead><tr><th>int32</th><th>float64</th><th>float64</th><th>float64</th><th>float64</th><th>float64</th><th>float64</th><th>float64</th><th>float64</th><th>float64</th><th>float64</th><th>float64</th><th>float64</th><th>float64</th><th>float64</th><th>float64</th><th>float64</th><th>float64</th><th>float64</th><th>float64</th><th>float64</th><th>float64</th><th>float64</th><th>float64</th><th>float64</th><th>float64</th><th>float64</th><th>float64</th><th>float64</th><th>float64</th><th>float64</th><th>float64</th><th>float64</th><th>float64</th><th>float64</th><th>float64</th><th>float64</th><th>float64</th><th>float64</th><th>float64</th><th>float64</th><th>float64</th><th>float64</th><th>float64</th><th>float64</th></tr></thead>\n",
       "<tr><td>70</td><td>334.7211626255977</td><td>0.3913839571562643</td><td>2.1018477415065524</td><td>5.841976883542938</td><td>0.006834675491422306</td><td>0.001</td><td>0.001</td><td>56262.99362269</td><td>2.0925</td><td>15.3267</td><td>0.00084</td><td>-0.362599</td><td>0.010207</td><td>7.0</td><td>15.3424</td><td>15.3698</td><td>14.8614</td><td>0.000434</td><td>-0.552762</td><td>0.004607</td><td>10.0</td><td>14.907</td><td>14.9211</td><td>14.7373</td><td>0.000277</td><td>0.824251</td><td>0.010297</td><td>29.0</td><td>14.7247</td><td>14.7588</td><td>14.6682</td><td>0.00066</td><td>0.704944</td><td>0.006165</td><td>8.0</td><td>14.677</td><td>14.6955</td><td>14.6139</td><td>0.001065</td><td>0.781377</td><td>0.012522</td><td>8.0</td><td>14.606</td><td>14.6475</td></tr>\n",
       "<tr><td>156</td><td>334.60402550008</td><td>0.4073711880956681</td><td>1.076733882550584</td><td>5.839947155332793</td><td>0.007110029455258293</td><td>0.001</td><td>0.001</td><td>56102.66738426</td><td>1.9545</td><td>18.6061</td><td>0.003659</td><td>0.000497703</td><td>0.055692</td><td>12.0</td><td>18.5664</td><td>18.7318</td><td>18.357</td><td>0.002709</td><td>0.00497429</td><td>0.033299</td><td>11.0</td><td>18.4</td><td>18.5225</td><td>18.7115</td><td>0.003791</td><td>2.06845e-05</td><td>0.022325</td><td>14.0</td><td>18.6148</td><td>18.6904</td><td>18.3687</td><td>0.006574</td><td>0.0448003</td><td>0.056408</td><td>9.0</td><td>18.1799</td><td>18.3387</td><td>18.1323</td><td>0.011355</td><td>0.00179104</td><td>0.077159</td><td>7.0</td><td>17.9578</td><td>18.1791</td></tr>\n",
       "<tr><td>358</td><td>334.37172672267315</td><td>0.14254561060438567</td><td>0.5108497450233881</td><td>5.835889831355781</td><td>0.002488870405671674</td><td>0.001</td><td>0.001</td><td>55912.75212963</td><td>1.5262</td><td>18.6098</td><td>0.004547</td><td>0.648154</td><td>0.028697</td><td>10.0</td><td>18.5719</td><td>18.6429</td><td>18.8704</td><td>0.004799</td><td>0.392744</td><td>0.035429</td><td>14.0</td><td>18.7696</td><td>18.8985</td><td>19.1137</td><td>0.005097</td><td>-0.993053</td><td>0.059113</td><td>24.0</td><td>19.0548</td><td>19.2713</td><td>19.3402</td><td>0.019209</td><td>0.544678</td><td>0.150556</td><td>8.0</td><td>18.933</td><td>19.3692</td><td>19.5965</td><td>0.050843</td><td>-0.286054</td><td>0.260879</td><td>5.0</td><td>19.181</td><td>19.6978</td></tr>\n",
       "<tr><td>368</td><td>334.3605970044044</td><td>0.2280129466197396</td><td>1.3278909076543137</td><td>5.835687061097679</td><td>0.00397801499407052</td><td>0.001</td><td>0.001</td><td>56127.59528935</td><td>1.4321</td><td>15.4056</td><td>0.000683</td><td>-0.459419</td><td>0.0092</td><td>10.0</td><td>15.4321</td><td>15.4609</td><td>15.0042</td><td>0.000463</td><td>-0.854677</td><td>0.008571</td><td>11.0</td><td>14.9895</td><td>15.0174</td><td>14.9671</td><td>0.000385</td><td>0.00378689</td><td>0.006837</td><td>16.0</td><td>14.8362</td><td>14.8609</td><td>14.7673</td><td>0.000697</td><td>-0.937227</td><td>0.032618</td><td>11.0</td><td>14.751</td><td>14.8693</td><td>14.716</td><td>0.000988</td><td>-0.483156</td><td>0.016903</td><td>8.0</td><td>14.7185</td><td>14.7609</td></tr>\n",
       "<tr><td>398</td><td>334.33170034997175</td><td>-0.533246042848342</td><td>0.7130864873009493</td><td>5.835191453389026</td><td>-0.0093092991234758</td><td>0.001</td><td>0.001</td><td>55983.89731481</td><td>1.0713</td><td>20.2651</td><td>0.012503</td><td>0.750021</td><td>0.137662</td><td>10.0</td><td>20.0754</td><td>20.4714</td><td>20.1236</td><td>0.012362</td><td>-0.415089</td><td>0.129183</td><td>11.0</td><td>20.0035</td><td>20.3773</td><td>20.1446</td><td>0.011519</td><td>0.555057</td><td>0.182425</td><td>18.0</td><td>20.1188</td><td>20.6758</td><td>20.0307</td><td>0.024604</td><td>-0.0164843</td><td>0.126024</td><td>10.0</td><td>19.7795</td><td>20.1257</td><td>20.0516</td><td>0.084226</td><td>-0.0290496</td><td>0.080584</td><td>5.0</td><td>19.6724</td><td>19.8868</td></tr>\n",
       "<tr><td>525</td><td>334.1672365373477</td><td>0.272298214043041</td><td>0.11327714465551093</td><td>5.8323184796482215</td><td>0.004751953500132298</td><td>0.001</td><td>0.001</td><td>55992.14416667</td><td>1.0635</td><td>19.3144</td><td>0.006629</td><td>0.699848</td><td>0.024098</td><td>9.0</td><td>19.2196</td><td>19.2909</td><td>18.8492</td><td>0.006206</td><td>-0.275641</td><td>0.037136</td><td>8.0</td><td>18.903</td><td>19.0072</td><td>18.9929</td><td>0.004935</td><td>0.0391769</td><td>0.152268</td><td>19.0</td><td>18.9371</td><td>19.3061</td><td>18.8802</td><td>0.009708</td><td>0.000240116</td><td>0.053195</td><td>11.0</td><td>18.8064</td><td>18.9764</td><td>18.7525</td><td>0.017675</td><td>0.0536069</td><td>0.099578</td><td>12.0</td><td>18.6083</td><td>18.9079</td></tr>\n",
       "<tr><td>611</td><td>334.09394119092696</td><td>-0.29467736418453433</td><td>0.5440424888959358</td><td>5.831040584651029</td><td>-0.00514538527105101</td><td>0.001</td><td>0.001</td><td>55847.50174769</td><td>6.0879</td><td>14.3005</td><td>0.000407</td><td>0.757386</td><td>0.007226</td><td>10.0</td><td>14.2836</td><td>14.3021</td><td>13.8559</td><td>0.000288</td><td>0.000133243</td><td>0.008258</td><td>2.0</td><td>13.7285</td><td>13.7373</td><td>13.8803</td><td>0.00026</td><td>4.8279e-11</td><td>0.002814</td><td>2.0</td><td>13.4971</td><td>13.5003</td><td>13.7293</td><td>0.000606</td><td>2.58755e-22</td><td>0.010216</td><td>4.0</td><td>13.3664</td><td>13.3904</td><td>13.3855</td><td>0.000626</td><td>0.000616585</td><td>0.01068</td><td>5.0</td><td>13.3026</td><td>13.3304</td></tr>\n",
       "<tr><td>626</td><td>334.0843579649877</td><td>-0.27553777714282396</td><td>0.45128600702353194</td><td>5.830872879104797</td><td>-0.004811056108191358</td><td>0.001</td><td>0.001</td><td>56140.71903935</td><td>0.8805</td><td>19.5548</td><td>0.008431</td><td>-0.341865</td><td>0.127305</td><td>12.0</td><td>19.431</td><td>19.806</td><td>19.4476</td><td>0.00742</td><td>0.0634496</td><td>0.073772</td><td>10.0</td><td>19.2043</td><td>19.4553</td><td>19.458</td><td>0.006644</td><td>0.612172</td><td>0.072486</td><td>18.0</td><td>19.3498</td><td>19.6215</td><td>19.1882</td><td>0.012609</td><td>0.179363</td><td>0.077515</td><td>10.0</td><td>19.1144</td><td>19.3257</td><td>19.3281</td><td>0.039436</td><td>0.000130395</td><td>0.17027</td><td>7.0</td><td>19.0971</td><td>19.5784</td></tr>\n",
       "<tr><td>646</td><td>334.07092763848755</td><td>-0.09687335380383318</td><td>0.42043823439588285</td><td>5.830637723040695</td><td>-0.0016927948415093002</td><td>0.001</td><td>0.001</td><td>56239.61601852</td><td>1.6594</td><td>15.3492</td><td>0.000912</td><td>-0.856959</td><td>0.007454</td><td>6.0</td><td>15.3625</td><td>15.3797</td><td>15.1285</td><td>0.000591</td><td>0.0378264</td><td>0.004943</td><td>9.0</td><td>15.059</td><td>15.073</td><td>14.9581</td><td>0.000319</td><td>0.348519</td><td>0.010728</td><td>22.0</td><td>14.916</td><td>14.951</td><td>14.9147</td><td>0.000753</td><td>0.664739</td><td>0.006906</td><td>8.0</td><td>14.9007</td><td>14.9225</td><td>14.9098</td><td>0.001248</td><td>0.497674</td><td>0.009851</td><td>9.0</td><td>14.8602</td><td>14.8892</td></tr>\n",
       "<tr><td>653</td><td>334.065099627794</td><td>0.9393142927372964</td><td>0.22214819192151283</td><td>5.830536057437233</td><td>0.01639306102442573</td><td>0.001</td><td>0.001</td><td>56140.37018519</td><td>0.9861</td><td>19.9536</td><td>0.010808</td><td>-0.424443</td><td>0.087509</td><td>14.0</td><td>19.9362</td><td>20.162</td><td>19.4422</td><td>0.0072</td><td>0.552827</td><td>0.075092</td><td>13.0</td><td>19.3432</td><td>19.5651</td><td>19.2196</td><td>0.004801</td><td>0.736932</td><td>0.043674</td><td>23.0</td><td>19.1108</td><td>19.276</td><td>19.0266</td><td>0.013978</td><td>-0.231192</td><td>0.102511</td><td>14.0</td><td>18.7772</td><td>19.1799</td><td>19.2073</td><td>0.029063</td><td>0.151275</td><td>0.284467</td><td>8.0</td><td>18.8729</td><td>19.5315</td></tr>\n",
       "</table></div>"
      ],
      "text/plain": [
       "<Table length=10>\n",
       "vasca_id      vasca_ra           vasca_dec            vasca_dist             RA         ... ypsfLikelihood yMeanPSFMagStd yMeanPSFMagNpt yMeanPSFMagMin yMeanPSFMagMax\n",
       "                deg                 deg                                                 ...                                                                           \n",
       " int32        float64             float64              float64            float64       ...    float64        float64        float64        float64        float64    \n",
       "-------- ------------------ -------------------- ------------------- ------------------ ... -------------- -------------- -------------- -------------- --------------\n",
       "      70  334.7211626255977   0.3913839571562643  2.1018477415065524  5.841976883542938 ...       0.781377       0.012522            8.0         14.606        14.6475\n",
       "     156    334.60402550008   0.4073711880956681   1.076733882550584  5.839947155332793 ...     0.00179104       0.077159            7.0        17.9578        18.1791\n",
       "     358 334.37172672267315  0.14254561060438567  0.5108497450233881  5.835889831355781 ...      -0.286054       0.260879            5.0         19.181        19.6978\n",
       "     368  334.3605970044044   0.2280129466197396  1.3278909076543137  5.835687061097679 ...      -0.483156       0.016903            8.0        14.7185        14.7609\n",
       "     398 334.33170034997175   -0.533246042848342  0.7130864873009493  5.835191453389026 ...     -0.0290496       0.080584            5.0        19.6724        19.8868\n",
       "     525  334.1672365373477    0.272298214043041 0.11327714465551093 5.8323184796482215 ...      0.0536069       0.099578           12.0        18.6083        18.9079\n",
       "     611 334.09394119092696 -0.29467736418453433  0.5440424888959358  5.831040584651029 ...    0.000616585        0.01068            5.0        13.3026        13.3304\n",
       "     626  334.0843579649877 -0.27553777714282396 0.45128600702353194  5.830872879104797 ...    0.000130395        0.17027            7.0        19.0971        19.5784\n",
       "     646 334.07092763848755 -0.09687335380383318 0.42043823439588285  5.830637723040695 ...       0.497674       0.009851            9.0        14.8602        14.8892\n",
       "     653   334.065099627794   0.9393142927372964 0.22214819192151283  5.830536057437233 ...       0.151275       0.284467            8.0        18.8729        19.5315"
      ]
     },
     "execution_count": 10,
     "metadata": {},
     "output_type": "execute_result"
    }
   ],
   "source": [
    "tt_matched[:10]"
   ]
  },
  {
   "cell_type": "code",
   "execution_count": 8,
   "id": "5de15c28-f77c-4648-acbd-b051b9f0b3bb",
   "metadata": {},
   "outputs": [
    {
     "data": {
      "application/vnd.jupyter.widget-view+json": {
       "model_id": "732d4596b8424a50b974929f6da0e987",
       "version_major": 2,
       "version_minor": 0
      },
      "image/png": "[encoded data removed]",
      "text/html": [
       "\n",
       "            <div style=\"display: inline-block;\">\n",
       "                <div class=\"jupyter-widgets widget-label\" style=\"text-align: center;\">\n",
       "                    dist_hist\n",
       "                </div>\n",
       "                <img src='data:image/png;base64,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' width=600.0/>\n",
       "            </div>\n",
       "        "
      ],
      "text/plain": [
       "Canvas(toolbar=Toolbar(toolitems=[('Home', 'Reset original view', 'home', 'home'), ('Back', 'Back to previous …"
      ]
     },
     "metadata": {},
     "output_type": "display_data"
    }
   ],
   "source": [
    "fig, ax = nb_fig(num=\"dist_hist\", gr_size=6, layout=\"tight\")\n",
    "ax.hist(\n",
    "    tt_matched[\"vasca_dist\"],\n",
    "    histtype=\"step\",\n",
    "    bins=\"auto\",\n",
    "    lw=2,\n",
    "    color=\"k\",\n",
    "    label=f\"{catalog}: $N_{{xmatch}} = {len(tt_matched)}$\"\n",
    ")\n",
    "ax.set_xlabel(\"Distance [arcsec]\")\n",
    "ax.set_ylabel(\"VASCA sources\")\n",
    "\n",
    "ax.set_yscale(\"log\")\n",
    "\n",
    "ax.grid(True, linewidth=0.5, color=\"k\", alpha=0.3, zorder=0)\n",
    "ax.tick_params(\n",
    "    axis=\"y\", direction=\"in\", left=True, right=True, which=\"both\"\n",
    ")\n",
    "ax.tick_params(\n",
    "    axis=\"x\", direction=\"in\", top=True, bottom=True, which=\"both\"\n",
    ")\n",
    "\n",
    "_ = ax.legend()"
   ]
  },
  {
   "cell_type": "code",
   "execution_count": 9,
   "id": "b64f69d6-f00d-4200-bc90-3619f7b99580",
   "metadata": {
    "tags": []
   },
   "outputs": [
    {
     "name": "stderr",
     "output_type": "stream",
     "text": [
      "2023-05-17 15:55:54.576 | DEBUG    | vasca.acms_api:get_acms_cat_info:73 - Fetching available catalogs from Ampel Catalog Matching Service.\n"
     ]
    },
    {
     "data": {
      "text/plain": [
       "{'name': 'PS1',\n",
       " 'use': 'catsHTM',\n",
       " 'description': 'PS1 -- Pan-STARRS (~2.6x10^9 sources; A cleaned version of the PS1 stack catalog; some missing tiles below declination of zero [being corrected])',\n",
       " 'reference': 'https://doi.org/10.1088/1538-3873/aac410',\n",
       " 'contact': 'Eran Ofek <eran.ofek@weizmann.ac.il>',\n",
       " 'columns': [{'name': 'RA', 'unit': 'rad'},\n",
       "  {'name': 'Dec', 'unit': 'rad'},\n",
       "  {'name': 'ErrRA', 'unit': 'arcsec'},\n",
       "  {'name': 'ErrDec', 'unit': 'arcsec'},\n",
       "  {'name': 'MeanEpoch', 'unit': 'MJD'},\n",
       "  {'name': 'posMeanChi2', 'unit': None},\n",
       "  {'name': 'gPSFMag', 'unit': 'mag'},\n",
       "  {'name': 'gPSFMagErr', 'unit': 'mag'},\n",
       "  {'name': 'gpsfLikelihood', 'unit': None},\n",
       "  {'name': 'gMeanPSFMagStd', 'unit': 'mag'},\n",
       "  {'name': 'gMeanPSFMagNpt', 'unit': None},\n",
       "  {'name': 'gMeanPSFMagMin', 'unit': 'mag'},\n",
       "  {'name': 'gMeanPSFMagMax', 'unit': 'mag'},\n",
       "  {'name': 'rPSFMag', 'unit': 'mag'},\n",
       "  {'name': 'rPSFMagErr', 'unit': 'mag'},\n",
       "  {'name': 'rpsfLikelihood', 'unit': None},\n",
       "  {'name': 'rMeanPSFMagStd', 'unit': 'mag'},\n",
       "  {'name': 'rMeanPSFMagNpt', 'unit': None},\n",
       "  {'name': 'rMeanPSFMagMin', 'unit': 'mag'},\n",
       "  {'name': 'rMeanPSFMagMax', 'unit': 'mag'},\n",
       "  {'name': 'iPSFMag', 'unit': 'mag'},\n",
       "  {'name': 'iPSFMagErr', 'unit': 'mag'},\n",
       "  {'name': 'ipsfLikelihood', 'unit': None},\n",
       "  {'name': 'iMeanPSFMagStd', 'unit': 'mag'},\n",
       "  {'name': 'iMeanPSFMagNpt', 'unit': None},\n",
       "  {'name': 'iMeanPSFMagMin', 'unit': 'mag'},\n",
       "  {'name': 'iMeanPSFMagMax', 'unit': 'mag'},\n",
       "  {'name': 'zPSFMag', 'unit': 'mag'},\n",
       "  {'name': 'zPSFMagErr', 'unit': 'mag'},\n",
       "  {'name': 'zpsfLikelihood', 'unit': None},\n",
       "  {'name': 'zMeanPSFMagStd', 'unit': 'mag'},\n",
       "  {'name': 'zMeanPSFMagNpt', 'unit': None},\n",
       "  {'name': 'zMeanPSFMagMin', 'unit': 'mag'},\n",
       "  {'name': 'zMeanPSFMagMax', 'unit': 'mag'},\n",
       "  {'name': 'yPSFMag', 'unit': 'mag'},\n",
       "  {'name': 'yPSFMagErr', 'unit': 'mag'},\n",
       "  {'name': 'ypsfLikelihood', 'unit': None},\n",
       "  {'name': 'yMeanPSFMagStd', 'unit': 'mag'},\n",
       "  {'name': 'yMeanPSFMagNpt', 'unit': None},\n",
       "  {'name': 'yMeanPSFMagMin', 'unit': 'mag'},\n",
       "  {'name': 'yMeanPSFMagMax', 'unit': 'mag'}]}"
      ]
     },
     "execution_count": 9,
     "metadata": {},
     "output_type": "execute_result"
    }
   ],
   "source": [
    "get_acms_cat_info()[\"PS1\"]"
   ]
  },
  {
   "cell_type": "code",
   "execution_count": null,
   "id": "50df9316-2309-4606-b12d-fd2fab64279a",
   "metadata": {},
   "outputs": [],
   "source": []
  }
 ],
 "metadata": {
  "kernelspec": {
   "display_name": "uc_uvva_venv399",
   "language": "python",
   "name": "uc_uvva_venv399"
  },
  "language_info": {
   "codemirror_mode": {
    "name": "ipython",
    "version": 3
   },
   "file_extension": ".py",
   "mimetype": "text/x-python",
   "name": "python",
   "nbconvert_exporter": "python",
   "pygments_lexer": "ipython3",
   "version": "3.9.9"
  }
 },
 "nbformat": 4,
 "nbformat_minor": 5
}
