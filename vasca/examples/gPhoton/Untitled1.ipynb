{
 "cells": [
  {
   "cell_type": "code",
   "execution_count": null,
   "id": "75018140-f441-401c-85cc-2fd375bc6bb8",
   "metadata": {},
   "outputs": [],
   "source": []
  },
  {
   "cell_type": "code",
   "execution_count": 1,
   "id": "64b6ef6a-6cc4-4dc6-ac71-c61d863899f4",
   "metadata": {},
   "outputs": [],
   "source": [
    "%matplotlib widget"
   ]
  },
  {
   "cell_type": "code",
   "execution_count": 2,
   "id": "970f08bb-e09d-4480-aa06-e4bbd7ae33bd",
   "metadata": {},
   "outputs": [],
   "source": [
    "%load_ext autoreload\n",
    "%autoreload 2"
   ]
  },
  {
   "cell_type": "code",
   "execution_count": 3,
   "id": "550512be-3507-4b50-b529-832a2aa40a61",
   "metadata": {},
   "outputs": [],
   "source": [
    "import os\n",
    "import json\n",
    "import yaml\n",
    "from copy import deepcopy\n",
    "from multiprocessing import Pool\n",
    "\n",
    "import pandas as pd\n",
    "import numpy as np\n",
    "import astropy.units as u\n",
    "from astropy.coordinates import SkyCoord\n",
    "from astropy.io import fits\n",
    "\n",
    "import gPhoton as gp"
   ]
  },
  {
   "cell_type": "code",
   "execution_count": 4,
   "id": "a24fca0f-d902-4884-ae72-bc0a1343e5ed",
   "metadata": {},
   "outputs": [],
   "source": [
    "import vasca.utils as vutils"
   ]
  },
  {
   "cell_type": "code",
   "execution_count": null,
   "id": "73e53bf1-91fa-4d89-bc25-301a259790e2",
   "metadata": {},
   "outputs": [],
   "source": []
  },
  {
   "cell_type": "code",
   "execution_count": 5,
   "id": "42c38a3a-27df-4ba0-9284-cf62797b900e",
   "metadata": {
    "tags": []
   },
   "outputs": [
    {
     "data": {
      "text/html": [
       "<div>\n",
       "<style scoped>\n",
       "    .dataframe tbody tr th:only-of-type {\n",
       "        vertical-align: middle;\n",
       "    }\n",
       "\n",
       "    .dataframe tbody tr th {\n",
       "        vertical-align: top;\n",
       "    }\n",
       "\n",
       "    .dataframe thead th {\n",
       "        text-align: right;\n",
       "    }\n",
       "</style>\n",
       "<table border=\"1\" class=\"dataframe\">\n",
       "  <thead>\n",
       "    <tr style=\"text-align: right;\">\n",
       "      <th></th>\n",
       "      <th>PS1-10jh</th>\n",
       "      <th>PS1-11af</th>\n",
       "      <th>D3-13</th>\n",
       "      <th>D1-9</th>\n",
       "      <th>D23H-1</th>\n",
       "      <th>PS1-13arp</th>\n",
       "      <th>SN-2010aq</th>\n",
       "      <th>test</th>\n",
       "    </tr>\n",
       "  </thead>\n",
       "  <tbody>\n",
       "    <tr>\n",
       "      <th>ra</th>\n",
       "      <td>242.368075</td>\n",
       "      <td>149.36175</td>\n",
       "      <td>214.8741</td>\n",
       "      <td>36.3207</td>\n",
       "      <td>352.998042</td>\n",
       "      <td>184.604295</td>\n",
       "      <td>150.540587</td>\n",
       "      <td>176.919526</td>\n",
       "    </tr>\n",
       "    <tr>\n",
       "      <th>dec</th>\n",
       "      <td>53.673492</td>\n",
       "      <td>3.23361</td>\n",
       "      <td>52.8684</td>\n",
       "      <td>4.5497</td>\n",
       "      <td>0.287381</td>\n",
       "      <td>46.616852</td>\n",
       "      <td>1.233594</td>\n",
       "      <td>0.255697</td>\n",
       "    </tr>\n",
       "    <tr>\n",
       "      <th>trans_type</th>\n",
       "      <td>TDE</td>\n",
       "      <td>TDE</td>\n",
       "      <td>TDE</td>\n",
       "      <td>TDE</td>\n",
       "      <td>TDE</td>\n",
       "      <td>SN2p</td>\n",
       "      <td>SN2p</td>\n",
       "      <td>test</td>\n",
       "    </tr>\n",
       "    <tr>\n",
       "      <th>pub_date</th>\n",
       "      <td>2012</td>\n",
       "      <td>2013</td>\n",
       "      <td>2006</td>\n",
       "      <td>2008</td>\n",
       "      <td>2009</td>\n",
       "      <td>2008</td>\n",
       "      <td>2010</td>\n",
       "      <td>0</td>\n",
       "    </tr>\n",
       "  </tbody>\n",
       "</table>\n",
       "</div>"
      ],
      "text/plain": [
       "              PS1-10jh   PS1-11af     D3-13     D1-9      D23H-1   PS1-13arp  \\\n",
       "ra          242.368075  149.36175  214.8741  36.3207  352.998042  184.604295   \n",
       "dec          53.673492    3.23361   52.8684   4.5497    0.287381   46.616852   \n",
       "trans_type         TDE        TDE       TDE      TDE         TDE        SN2p   \n",
       "pub_date          2012       2013      2006     2008        2009        2008   \n",
       "\n",
       "             SN-2010aq        test  \n",
       "ra          150.540587  176.919526  \n",
       "dec           1.233594    0.255697  \n",
       "trans_type        SN2p        test  \n",
       "pub_date          2010           0  "
      ]
     },
     "execution_count": 5,
     "metadata": {},
     "output_type": "execute_result"
    }
   ],
   "source": [
    "# Event sky locations\n",
    "locs = {\n",
    "    \"PS1-10jh\": {\n",
    "        \"ra\": 242.368075,\n",
    "        \"dec\": 53.673492,\n",
    "        \"trans_type\": \"TDE\",\n",
    "        \"pub_date\": \"2012\",\n",
    "    },\n",
    "    \"PS1-11af\": {\n",
    "        \"ra\": 149.36175,\n",
    "        \"dec\": 3.23361,\n",
    "        \"trans_type\": \"TDE\",\n",
    "        \"pub_date\": \"2013\",\n",
    "    },\n",
    "    \"D3-13\": {\n",
    "        \"ra\": 214.8741,\n",
    "        \"dec\": 52.8684,\n",
    "        \"trans_type\": \"TDE\",\n",
    "        \"pub_date\": \"2006\",\n",
    "    },\n",
    "    \"D1-9\": {\n",
    "        \"ra\": 36.3207,\n",
    "        \"dec\": 4.5497,\n",
    "        \"trans_type\": \"TDE\",\n",
    "        \"pub_date\": \"2008\",\n",
    "    },\n",
    "    \"D23H-1\": {\n",
    "        \"ra\": 352.99804167,\n",
    "        \"dec\": 0.28738056,\n",
    "        \"trans_type\": \"TDE\",\n",
    "        \"pub_date\": \"2009\",\n",
    "    },\n",
    "    \"PS1-13arp\": {\n",
    "        \"ra\": 184.604295,\n",
    "        \"dec\": 46.616852,\n",
    "        \"trans_type\": \"SN2p\",\n",
    "        \"pub_date\": \"2008\",\n",
    "    },\n",
    "    \"SN-2010aq\": {\n",
    "        \"ra\": 150.5405875,\n",
    "        \"dec\": 1.23359444,\n",
    "        \"trans_type\": \"SN2p\",\n",
    "        \"pub_date\": \"2010\",\n",
    "    },\n",
    "    \"test\": {\n",
    "        \"ra\": 176.919525856024,\n",
    "        \"dec\": 0.255696872807351,\n",
    "        \"trans_type\": \"test\",\n",
    "        \"pub_date\": \"0\",\n",
    "    },\n",
    "}\n",
    "\n",
    "df_locs = pd.DataFrame.from_dict(locs)\n",
    "df_locs"
   ]
  },
  {
   "cell_type": "code",
   "execution_count": 11,
   "id": "388bb42b-877f-40b1-908f-9785833e9c41",
   "metadata": {},
   "outputs": [],
   "source": [
    "out_dir = \"./out\"\n",
    "if not os.path.isdir(out_dir):\n",
    "    os.mkdir(out_dir)"
   ]
  },
  {
   "cell_type": "code",
   "execution_count": 6,
   "id": "e6c6f6be-36fe-48b8-9432-cdcee5167a5a",
   "metadata": {},
   "outputs": [],
   "source": [
    "transient = \"test\"\n",
    "band = \"NUV\"\n",
    "ra = df_locs[transient].ra\n",
    "dec = df_locs[transient].dec"
   ]
  },
  {
   "cell_type": "code",
   "execution_count": 12,
   "id": "f9dda289-364e-487f-b2a0-568f1f85182d",
   "metadata": {},
   "outputs": [],
   "source": [
    "@vutils.timeit\n",
    "def gfind_and_save(transient):\n",
    "    band = \"NUV\"\n",
    "    ra = df_locs[transient].ra\n",
    "    dec = df_locs[transient].dec\n",
    "    \n",
    "    gfind_res = gp.gFind(\n",
    "        band=band, skypos=[ra, dec], maxgap=100, retries=3, quiet=True,\n",
    "    )\n",
    "    \n",
    "    with open(f\"{out_dir}/{transient}_gFind_res.json\", \"w\") as f:\n",
    "        # convert to JSON-compatible types\n",
    "        out_data = deepcopy(gfind_res)\n",
    "        for key in out_data[band].keys():\n",
    "            if isinstance(out_data[band][key], np.ndarray):\n",
    "                out_data[band][key] = out_data[band][key].tolist()\n",
    "        # write        \n",
    "        json.dump(out_data, f, indent=4)"
   ]
  },
  {
   "cell_type": "code",
   "execution_count": 9,
   "id": "b99726f2-dd4e-4343-8131-06fb726f87c5",
   "metadata": {},
   "outputs": [
    {
     "name": "stdout",
     "output_type": "stream",
     "text": [
      "func: gfind_and_save , args: [('SN 2010aq',)] took:     231.05 sec\n"
     ]
    }
   ],
   "source": [
    "gfind_and_save(\"SN 2010aq\")"
   ]
  },
  {
   "cell_type": "code",
   "execution_count": null,
   "id": "9685fedb-697b-4272-ba3c-f4cb4eed3058",
   "metadata": {},
   "outputs": [],
   "source": []
  },
  {
   "cell_type": "code",
   "execution_count": null,
   "id": "a3244035-34ec-4eac-937f-67db2a600c2b",
   "metadata": {},
   "outputs": [],
   "source": []
  }
 ],
 "metadata": {
  "kernelspec": {
   "display_name": "uc_uvva_venv399",
   "language": "python",
   "name": "uc_uvva_venv399"
  },
  "language_info": {
   "codemirror_mode": {
    "name": "ipython",
    "version": 3
   },
   "file_extension": ".py",
   "mimetype": "text/x-python",
   "name": "python",
   "nbconvert_exporter": "python",
   "pygments_lexer": "ipython3",
   "version": "3.9.9"
  }
 },
 "nbformat": 4,
 "nbformat_minor": 5
}
