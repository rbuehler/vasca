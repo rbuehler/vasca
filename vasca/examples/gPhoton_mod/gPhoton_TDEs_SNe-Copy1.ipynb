{
 "cells": [
  {
   "cell_type": "code",
   "execution_count": 1,
   "id": "da59d1d9-ad94-456d-854a-04a1d82cb57f",
   "metadata": {},
   "outputs": [],
   "source": [
    "%matplotlib widget"
   ]
  },
  {
   "cell_type": "code",
   "execution_count": 2,
   "id": "5c950de9-8ef8-46d6-bc3f-5d41d2279af9",
   "metadata": {},
   "outputs": [],
   "source": [
    "import os\n",
    "import json\n",
    "import yaml\n",
    "from copy import deepcopy\n",
    "from multiprocessing import Pool\n",
    "\n",
    "import pandas as pd\n",
    "import numpy as np\n",
    "import astropy.units as u\n",
    "from astropy.coordinates import SkyCoord\n",
    "from astropy.io import fits\n",
    "\n",
    "import gPhoton as gp\n",
    "from gPhoton.gphoton_utils import read_lc"
   ]
  },
  {
   "cell_type": "code",
   "execution_count": 3,
   "id": "81c4bd63-9dd9-4d84-ba52-55d77eae02e6",
   "metadata": {},
   "outputs": [],
   "source": [
    "import vasca.utils as vutils"
   ]
  },
  {
   "cell_type": "code",
   "execution_count": 17,
   "id": "517cb746-67a0-455c-a6f5-3e16b54924ae",
   "metadata": {},
   "outputs": [
    {
     "data": {
      "text/plain": [
       "<SkyCoord (FK5: equinox=J2000.000): (ra, dec) in deg\n",
       "    (149.36172917, 3.23361111)>"
      ]
     },
     "execution_count": 17,
     "metadata": {},
     "output_type": "execute_result"
    }
   ],
   "source": [
    "SkyCoord(\"9h57m26.815s\", \"+03d14m01.00s\", frame=\"fk5\")"
   ]
  },
  {
   "cell_type": "code",
   "execution_count": 4,
   "id": "9990adeb-60c6-493f-9e8d-d8f9feb5c671",
   "metadata": {
    "tags": []
   },
   "outputs": [
    {
     "data": {
      "text/html": [
       "<div>\n",
       "<style scoped>\n",
       "    .dataframe tbody tr th:only-of-type {\n",
       "        vertical-align: middle;\n",
       "    }\n",
       "\n",
       "    .dataframe tbody tr th {\n",
       "        vertical-align: top;\n",
       "    }\n",
       "\n",
       "    .dataframe thead th {\n",
       "        text-align: right;\n",
       "    }\n",
       "</style>\n",
       "<table border=\"1\" class=\"dataframe\">\n",
       "  <thead>\n",
       "    <tr style=\"text-align: right;\">\n",
       "      <th></th>\n",
       "      <th>PS1-10jh</th>\n",
       "      <th>PS1-11af</th>\n",
       "      <th>D3-13</th>\n",
       "      <th>D1-9</th>\n",
       "      <th>D23H-1</th>\n",
       "      <th>PS1-13arp</th>\n",
       "      <th>SN-2010aq</th>\n",
       "      <th>test</th>\n",
       "    </tr>\n",
       "  </thead>\n",
       "  <tbody>\n",
       "    <tr>\n",
       "      <th>ra</th>\n",
       "      <td>242.368075</td>\n",
       "      <td>149.36175</td>\n",
       "      <td>214.8741</td>\n",
       "      <td>36.3207</td>\n",
       "      <td>352.998042</td>\n",
       "      <td>184.604295</td>\n",
       "      <td>150.540587</td>\n",
       "      <td>176.919526</td>\n",
       "    </tr>\n",
       "    <tr>\n",
       "      <th>dec</th>\n",
       "      <td>53.673492</td>\n",
       "      <td>3.23361</td>\n",
       "      <td>52.8684</td>\n",
       "      <td>4.5497</td>\n",
       "      <td>0.287381</td>\n",
       "      <td>46.616852</td>\n",
       "      <td>1.233594</td>\n",
       "      <td>0.255697</td>\n",
       "    </tr>\n",
       "    <tr>\n",
       "      <th>trans_type</th>\n",
       "      <td>TDE</td>\n",
       "      <td>TDE</td>\n",
       "      <td>TDE</td>\n",
       "      <td>TDE</td>\n",
       "      <td>TDE</td>\n",
       "      <td>SN2p</td>\n",
       "      <td>SN2p</td>\n",
       "      <td>test</td>\n",
       "    </tr>\n",
       "    <tr>\n",
       "      <th>pub_date</th>\n",
       "      <td>2012</td>\n",
       "      <td>2013</td>\n",
       "      <td>2006</td>\n",
       "      <td>2008</td>\n",
       "      <td>2009</td>\n",
       "      <td>2008</td>\n",
       "      <td>2010</td>\n",
       "      <td>0</td>\n",
       "    </tr>\n",
       "  </tbody>\n",
       "</table>\n",
       "</div>"
      ],
      "text/plain": [
       "              PS1-10jh   PS1-11af     D3-13     D1-9      D23H-1   PS1-13arp  \\\n",
       "ra          242.368075  149.36175  214.8741  36.3207  352.998042  184.604295   \n",
       "dec          53.673492    3.23361   52.8684   4.5497    0.287381   46.616852   \n",
       "trans_type         TDE        TDE       TDE      TDE         TDE        SN2p   \n",
       "pub_date          2012       2013      2006     2008        2009        2008   \n",
       "\n",
       "             SN-2010aq        test  \n",
       "ra          150.540587  176.919526  \n",
       "dec           1.233594    0.255697  \n",
       "trans_type        SN2p        test  \n",
       "pub_date          2010           0  "
      ]
     },
     "execution_count": 4,
     "metadata": {},
     "output_type": "execute_result"
    }
   ],
   "source": [
    "# Event sky locations\n",
    "locs = {\n",
    "    \"PS1-10jh\": {\n",
    "        \"ra\": 242.368075,\n",
    "        \"dec\": 53.673492,\n",
    "        \"trans_type\": \"TDE\",\n",
    "        \"pub_date\": \"2012\",\n",
    "    },\n",
    "    \"PS1-11af\": {\n",
    "        \"ra\": 149.36175,\n",
    "        \"dec\": 3.23361,\n",
    "        \"trans_type\": \"TDE\",\n",
    "        \"pub_date\": \"2013\",\n",
    "    },\n",
    "    \"D3-13\": {\n",
    "        \"ra\": 214.8741,\n",
    "        \"dec\": 52.8684,\n",
    "        \"trans_type\": \"TDE\",\n",
    "        \"pub_date\": \"2006\",\n",
    "    },\n",
    "    \"D1-9\": {\n",
    "        \"ra\": 36.3207,\n",
    "        \"dec\": 4.5497,\n",
    "        \"trans_type\": \"TDE\",\n",
    "        \"pub_date\": \"2008\",\n",
    "    },\n",
    "    \"D23H-1\": {\n",
    "        \"ra\": 352.99804167,\n",
    "        \"dec\": 0.28738056,\n",
    "        \"trans_type\": \"TDE\",\n",
    "        \"pub_date\": \"2009\",\n",
    "    },\n",
    "    \"PS1-13arp\": {\n",
    "        \"ra\": 184.604295,\n",
    "        \"dec\": 46.616852,\n",
    "        \"trans_type\": \"SN2p\",\n",
    "        \"pub_date\": \"2008\",\n",
    "    },\n",
    "    \"SN-2010aq\": {\n",
    "        \"ra\": 150.5405875,\n",
    "        \"dec\": 1.23359444,\n",
    "        \"trans_type\": \"SN2p\",\n",
    "        \"pub_date\": \"2010\",\n",
    "    },\n",
    "    \"test\": {\n",
    "        \"ra\": 176.919525856024,\n",
    "        \"dec\": 0.255696872807351,\n",
    "        \"trans_type\": \"test\",\n",
    "        \"pub_date\": \"0\",\n",
    "    },\n",
    "}\n",
    "\n",
    "df_locs = pd.DataFrame.from_dict(locs)\n",
    "df_locs"
   ]
  },
  {
   "cell_type": "code",
   "execution_count": 5,
   "id": "084d0629-0402-4bc0-a16f-a811659987e4",
   "metadata": {},
   "outputs": [],
   "source": [
    "out_dir = \"./out\"\n",
    "if not os.path.isdir(out_dir):\n",
    "    os.mkdir(out_dir)"
   ]
  },
  {
   "cell_type": "code",
   "execution_count": 8,
   "id": "d417794b-29b5-4bca-8b80-5d48a0786bf3",
   "metadata": {},
   "outputs": [],
   "source": [
    "transient = \"PS1-11af\"\n",
    "band = \"NUV\"\n",
    "ra = df_locs[transient].ra\n",
    "dec = df_locs[transient].dec\n",
    "detsize=1.15\n",
    "maxgap=1500"
   ]
  },
  {
   "cell_type": "code",
   "execution_count": 10,
   "id": "209ef0d7-d5af-4e54-a626-49405b37c58f",
   "metadata": {},
   "outputs": [
    {
     "name": "stdout",
     "output_type": "stream",
     "text": [
      "NUV: 61210.0s (raw) in 45 exposures.\n",
      "    [ 823012836.995, 823013087.995 ], 251.000 seconds\n",
      "    [ 826651390.995, 826651657.995 ], 267.000 seconds\n",
      "    [ 884277194.995, 884278396.995 ], 1202.000 seconds\n",
      "    [ 884295709.995, 884296159.995 ], 450.000 seconds\n",
      "    [ 885401001.995, 885402693.995 ], 1692.000 seconds\n",
      "    [ 885406933.995, 885408608.995 ], 1675.000 seconds\n",
      "    [ 885513875.995, 885515078.995 ], 1203.000 seconds\n",
      "    [ 885531119.995, 885532823.995 ], 1704.000 seconds\n",
      "    [ 885578464.995, 885580143.995 ], 1679.000 seconds\n",
      "    [ 885613953.995, 885615634.995 ], 1681.000 seconds\n",
      "    [ 885661311.995, 885662954.995 ], 1643.000 seconds\n",
      "    [ 885667191.995, 885668869.995 ], 1678.000 seconds\n",
      "    [ 886944986.995, 886946665.995 ], 1679.000 seconds\n",
      "    [ 887909258.995, 887910826.995 ], 1568.000 seconds\n",
      "    [ 888246605.995, 888248067.995 ], 1462.000 seconds\n",
      "    [ 888944773.995, 888946368.995 ], 1595.000 seconds\n",
      "    [ 889276027.995, 889277680.995 ], 1653.000 seconds\n",
      "    [ 889613136.995, 889614840.995 ], 1704.000 seconds\n",
      "    [ 890222454.995, 890224071.995 ], 1617.000 seconds\n",
      "    [ 890405884.995, 890407460.995 ], 1576.000 seconds\n",
      "    [ 890423662.995, 890425209.995 ], 1547.000 seconds\n",
      "    [ 918447323.995, 918447909.995 ], 586.000 seconds\n",
      "    [ 920821159.995, 920821284.995 ], 125.000 seconds\n",
      "    [ 921523700.995, 921525252.995 ], 1552.000 seconds\n",
      "    [ 949321263.995, 949322802.995 ], 1539.000 seconds\n",
      "    [ 949486945.995, 949488418.995 ], 1473.000 seconds\n",
      "    [ 949676296.995, 949677718.995 ], 1422.000 seconds\n",
      "    [ 949859773.995, 949861140.995 ], 1367.000 seconds\n",
      "    [ 950013670.995, 950015006.995 ], 1336.000 seconds\n",
      "    [ 950203022.995, 950204399.995 ], 1377.000 seconds\n",
      "    [ 950865485.995, 950867112.995 ], 1627.000 seconds\n",
      "    [ 951025160.995, 951026818.995 ], 1658.000 seconds\n",
      "    [ 951563359.995, 951565025.995 ], 1666.000 seconds\n",
      "    [ 951717154.995, 951718801.995 ], 1647.000 seconds\n",
      "    [ 951888688.995, 951890334.995 ], 1646.000 seconds\n",
      "    [ 980507054.995, 980508406.995 ], 1352.000 seconds\n",
      "    [ 980666882.995, 980667805.995 ], 923.000 seconds\n",
      "    [ 980880128.995, 980881211.995 ], 1083.000 seconds\n",
      "    [ 981045595.995, 981046935.995 ], 1340.000 seconds\n",
      "    [ 981211223.995, 981212646.995 ], 1423.000 seconds\n",
      "    [ 981376803.995, 981378328.995 ], 1525.000 seconds\n",
      "    [ 981542387.995, 981543981.995 ], 1594.000 seconds\n",
      "    [ 981707983.995, 981709607.995 ], 1624.000 seconds\n",
      "    [ 981867643.995, 981869300.995 ], 1657.000 seconds\n",
      "    [ 1011477259.995, 1011477401.995 ], 142.000 seconds\n",
      "CPU times: user 44.9 s, sys: 1.6 s, total: 46.5 s\n",
      "Wall time: 8min 17s\n"
     ]
    }
   ],
   "source": [
    "%%time\n",
    "overwrite = True\n",
    "if os.path.isfile(f\"{out_dir}/{transient}_gFind_res.json\") and not overwrite:\n",
    "    with open(f\"{out_dir}/{transient}_gFind_res.json\") as f:\n",
    "        gfind_res = json.load(f)\n",
    "else:\n",
    "    # load observations\n",
    "    gfind_res = gp.gFind(\n",
    "        band=band, skypos=[ra, dec], maxgap=maxgap, detsize=detsize, retries=3, quiet=False,\n",
    "    )\n",
    "    # add time delta column\n",
    "    dt = gfind_res[band][\"t1\"] - gfind_res[band][\"t0\"]\n",
    "    # add gAperture compatible observation time ranges\n",
    "    tranges = [[t0, t1] for t0, t1 in zip(gfind_res[band][\"t0\"], gfind_res[band][\"t1\"])]\n",
    "    gfind_res[band][\"dt\"] = dt\n",
    "    gfind_res[band][\"tranges\"] = tranges\n",
    "    with open(f\"{out_dir}/{transient}_gFind_res.json\", \"w\") as f:\n",
    "        # convert to JSON-compatible types\n",
    "        out_data = deepcopy(gfind_res)\n",
    "        for key in out_data[band].keys():\n",
    "            if isinstance(out_data[band][key], np.ndarray):\n",
    "                out_data[band][key] = out_data[band][key].tolist()\n",
    "        # write        \n",
    "        json.dump(out_data, f, indent=4)"
   ]
  },
  {
   "cell_type": "code",
   "execution_count": 14,
   "id": "b334a4b2-6002-4988-a5d2-6bc67bc871ea",
   "metadata": {},
   "outputs": [
    {
     "name": "stdout",
     "output_type": "stream",
     "text": [
      "[823012836.0, 1011477402.0] 188464566.0\n"
     ]
    }
   ],
   "source": [
    "trange = [\n",
    "    np.floor(gfind_res[band][\"t0\"][0]),\n",
    "    np.ceil(gfind_res[band][\"t1\"][-1])\n",
    "]\n",
    "print(trange, trange[1]-trange[0])"
   ]
  },
  {
   "cell_type": "code",
   "execution_count": 9,
   "id": "52bcc792-0219-4e35-ac1c-dbe805533ea3",
   "metadata": {},
   "outputs": [],
   "source": [
    "dt = np.asarray(gfind_res[band][\"t1\"]) - np.asarray(gfind_res[band][\"t0\"])\n",
    "tranges = [[t0, t1] for t0, t1 in zip(gfind_res[band][\"t0\"], gfind_res[band][\"t1\"])]"
   ]
  },
  {
   "cell_type": "code",
   "execution_count": 11,
   "id": "f374e06b-c41f-47f2-8b3a-dea9482abb1e",
   "metadata": {},
   "outputs": [
    {
     "data": {
      "text/plain": [
       "[[823012836.995, 823013087.995],\n",
       " [826651390.995, 826651657.995],\n",
       " [884277194.995, 884278396.995],\n",
       " [884295709.995, 884296159.995],\n",
       " [885401001.995, 885402693.995],\n",
       " [885406933.995, 885408608.995],\n",
       " [885513875.995, 885515078.995],\n",
       " [885531119.995, 885532823.995],\n",
       " [885578464.995, 885580143.995],\n",
       " [885613953.995, 885615634.995],\n",
       " [885661311.995, 885662954.995],\n",
       " [885667191.995, 885668869.995],\n",
       " [886944986.995, 886946665.995],\n",
       " [887909258.995, 887910826.995],\n",
       " [888246605.995, 888248067.995],\n",
       " [888944773.995, 888946368.995],\n",
       " [889276027.995, 889277680.995],\n",
       " [889613136.995, 889614840.995],\n",
       " [890222454.995, 890224071.995],\n",
       " [890405884.995, 890407460.995],\n",
       " [890423662.995, 890425209.995],\n",
       " [918447323.995, 918447909.995],\n",
       " [920821159.995, 920821284.995],\n",
       " [921523700.995, 921525252.995],\n",
       " [949321263.995, 949322802.995],\n",
       " [949486945.995, 949488418.995],\n",
       " [949676296.995, 949677718.995],\n",
       " [949859773.995, 949861140.995],\n",
       " [950013670.995, 950015006.995],\n",
       " [950203022.995, 950204399.995],\n",
       " [950865485.995, 950867112.995],\n",
       " [951025160.995, 951026818.995],\n",
       " [951563359.995, 951565025.995],\n",
       " [951717154.995, 951718801.995],\n",
       " [951888688.995, 951890334.995],\n",
       " [980507054.995, 980508406.995],\n",
       " [980666882.995, 980667805.995],\n",
       " [980880128.995, 980881211.995],\n",
       " [981045595.995, 981046935.995],\n",
       " [981211223.995, 981212646.995],\n",
       " [981376803.995, 981378328.995],\n",
       " [981542387.995, 981543981.995],\n",
       " [981707983.995, 981709607.995],\n",
       " [981867643.995, 981869300.995],\n",
       " [1011477259.995, 1011477401.995]]"
      ]
     },
     "execution_count": 11,
     "metadata": {},
     "output_type": "execute_result"
    }
   ],
   "source": [
    "gfind_res[band][\"tranges\"]"
   ]
  },
  {
   "cell_type": "code",
   "execution_count": 16,
   "id": "a60a8b61-a6e5-4192-96a4-61f9701374f8",
   "metadata": {},
   "outputs": [
    {
     "data": {
      "text/plain": [
       "{'NUV': {'expt': 61210.0,\n",
       "  't0': array([8.23012837e+08, 8.26651391e+08, 8.84277195e+08, 8.84295710e+08,\n",
       "         8.85401002e+08, 8.85406934e+08, 8.85513876e+08, 8.85531120e+08,\n",
       "         8.85578465e+08, 8.85613954e+08, 8.85661312e+08, 8.85667192e+08,\n",
       "         8.86944987e+08, 8.87909259e+08, 8.88246606e+08, 8.88944774e+08,\n",
       "         8.89276028e+08, 8.89613137e+08, 8.90222455e+08, 8.90405885e+08,\n",
       "         8.90423663e+08, 9.18447324e+08, 9.20821160e+08, 9.21523701e+08,\n",
       "         9.49321264e+08, 9.49486946e+08, 9.49676297e+08, 9.49859774e+08,\n",
       "         9.50013671e+08, 9.50203023e+08, 9.50865486e+08, 9.51025161e+08,\n",
       "         9.51563360e+08, 9.51717155e+08, 9.51888689e+08, 9.80507055e+08,\n",
       "         9.80666883e+08, 9.80880129e+08, 9.81045596e+08, 9.81211224e+08,\n",
       "         9.81376804e+08, 9.81542388e+08, 9.81707984e+08, 9.81867644e+08,\n",
       "         1.01147726e+09]),\n",
       "  't1': array([8.23013088e+08, 8.26651658e+08, 8.84278397e+08, 8.84296160e+08,\n",
       "         8.85402694e+08, 8.85408609e+08, 8.85515079e+08, 8.85532824e+08,\n",
       "         8.85580144e+08, 8.85615635e+08, 8.85662955e+08, 8.85668870e+08,\n",
       "         8.86946666e+08, 8.87910827e+08, 8.88248068e+08, 8.88946369e+08,\n",
       "         8.89277681e+08, 8.89614841e+08, 8.90224072e+08, 8.90407461e+08,\n",
       "         8.90425210e+08, 9.18447910e+08, 9.20821285e+08, 9.21525253e+08,\n",
       "         9.49322803e+08, 9.49488419e+08, 9.49677719e+08, 9.49861141e+08,\n",
       "         9.50015007e+08, 9.50204400e+08, 9.50867113e+08, 9.51026819e+08,\n",
       "         9.51565026e+08, 9.51718802e+08, 9.51890335e+08, 9.80508407e+08,\n",
       "         9.80667806e+08, 9.80881212e+08, 9.81046936e+08, 9.81212647e+08,\n",
       "         9.81378329e+08, 9.81543982e+08, 9.81709608e+08, 9.81869301e+08,\n",
       "         1.01147740e+09]),\n",
       "  'nearest_source': {'mag': 23.66075,\n",
       "   'skypos': [149.361890530433, 3.23391459763221],\n",
       "   'distance': 0.00033535902861851053},\n",
       "  'dt': array([ 251.,  267., 1202.,  450., 1692., 1675., 1203., 1704., 1679.,\n",
       "         1681., 1643., 1678., 1679., 1568., 1462., 1595., 1653., 1704.,\n",
       "         1617., 1576., 1547.,  586.,  125., 1552., 1539., 1473., 1422.,\n",
       "         1367., 1336., 1377., 1627., 1658., 1666., 1647., 1646., 1352.,\n",
       "          923., 1083., 1340., 1423., 1525., 1594., 1624., 1657.,  142.]),\n",
       "  'tranges': [[823012836.995, 823013087.995],\n",
       "   [826651390.995, 826651657.995],\n",
       "   [884277194.995, 884278396.995],\n",
       "   [884295709.995, 884296159.995],\n",
       "   [885401001.995, 885402693.995],\n",
       "   [885406933.995, 885408608.995],\n",
       "   [885513875.995, 885515078.995],\n",
       "   [885531119.995, 885532823.995],\n",
       "   [885578464.995, 885580143.995],\n",
       "   [885613953.995, 885615634.995],\n",
       "   [885661311.995, 885662954.995],\n",
       "   [885667191.995, 885668869.995],\n",
       "   [886944986.995, 886946665.995],\n",
       "   [887909258.995, 887910826.995],\n",
       "   [888246605.995, 888248067.995],\n",
       "   [888944773.995, 888946368.995],\n",
       "   [889276027.995, 889277680.995],\n",
       "   [889613136.995, 889614840.995],\n",
       "   [890222454.995, 890224071.995],\n",
       "   [890405884.995, 890407460.995],\n",
       "   [890423662.995, 890425209.995],\n",
       "   [918447323.995, 918447909.995],\n",
       "   [920821159.995, 920821284.995],\n",
       "   [921523700.995, 921525252.995],\n",
       "   [949321263.995, 949322802.995],\n",
       "   [949486945.995, 949488418.995],\n",
       "   [949676296.995, 949677718.995],\n",
       "   [949859773.995, 949861140.995],\n",
       "   [950013670.995, 950015006.995],\n",
       "   [950203022.995, 950204399.995],\n",
       "   [950865485.995, 950867112.995],\n",
       "   [951025160.995, 951026818.995],\n",
       "   [951563359.995, 951565025.995],\n",
       "   [951717154.995, 951718801.995],\n",
       "   [951888688.995, 951890334.995],\n",
       "   [980507054.995, 980508406.995],\n",
       "   [980666882.995, 980667805.995],\n",
       "   [980880128.995, 980881211.995],\n",
       "   [981045595.995, 981046935.995],\n",
       "   [981211223.995, 981212646.995],\n",
       "   [981376803.995, 981378328.995],\n",
       "   [981542387.995, 981543981.995],\n",
       "   [981707983.995, 981709607.995],\n",
       "   [981867643.995, 981869300.995],\n",
       "   [1011477259.995, 1011477401.995]]}}"
      ]
     },
     "execution_count": 16,
     "metadata": {},
     "output_type": "execute_result"
    }
   ],
   "source": [
    "gfind_res"
   ]
  },
  {
   "cell_type": "code",
   "execution_count": 12,
   "id": "b08fd52f-4ad5-4c00-85ad-e8189ae9d476",
   "metadata": {},
   "outputs": [
    {
     "data": {
      "text/plain": [
       "[0.03333333333333333, 0.03333333333333333]"
      ]
     },
     "execution_count": 12,
     "metadata": {},
     "output_type": "execute_result"
    }
   ],
   "source": [
    "skyrange = [\n",
    "    (120 * u.arcsec).to(u.deg).value,\n",
    "    (120 * u.arcsec).to(u.deg).value,\n",
    "]\n",
    "skyrange"
   ]
  },
  {
   "cell_type": "code",
   "execution_count": 15,
   "id": "24ad847f-c162-4c1f-9381-ff1b4d086559",
   "metadata": {},
   "outputs": [
    {
     "name": "stdout",
     "output_type": "stream",
     "text": [
      "[[8.23012836e+08 1.01147740e+09]]\n",
      "Coadding across [[8.23012836e+08 1.01147740e+09]]\n",
      "Writing image to ./out/PS1-11af_counts.fits                 \n",
      "CPU times: user 5.83 s, sys: 831 ms, total: 6.66 s\n",
      "Wall time: 2min 31s\n"
     ]
    }
   ],
   "source": [
    "%%time\n",
    "gp.gMap(\n",
    "    band=band,\n",
    "    skypos=[ra, dec],\n",
    "    skyrange=skyrange,\n",
    "    trange=trange,\n",
    "    detsize=detsize,\n",
    "    coadd=True,\n",
    "    cntfile=f\"{out_dir}/{transient}_counts.fits\",\n",
    "    #intfile=f\"{out_dir}/{transient}_intensity.fits\",\n",
    "    memlight=100.0,\n",
    "    overwrite=True,\n",
    "    verbose=3,\n",
    ")"
   ]
  },
  {
   "cell_type": "code",
   "execution_count": 19,
   "id": "85c876f5-c53b-462e-aed7-c70d76cdfeb9",
   "metadata": {},
   "outputs": [],
   "source": [
    "config_gaper = {\n",
    "    \"band\": band,\n",
    "    \"skypos\":[ra, dec],\n",
    "    \"stepsz\": 80.0,\n",
    "    \"radius\": (6 * u.arcsec).to(u.deg).value,\n",
    "    \"annulus\": [\n",
    "        (7 * u.arcsec).to(u.deg).value,\n",
    "        (10 * u.arcsec).to(u.deg).value,\n",
    "    ],\n",
    "    \"detsize\": detsize,\n",
    "    \"tranges\": tranges,\n",
    "    \"maxgap\": maxgap,\n",
    "    \"csvfile\": f\"{out_dir}/{transient}_gAperture_lc.csv\",\n",
    "    \"photoncsvfile\": f\"{out_dir}/{transient}_gAperture_photons.csv\",\n",
    "    \"verbose\": 3,\n",
    "    \"overwrite\": True,\n",
    "}"
   ]
  },
  {
   "cell_type": "code",
   "execution_count": 20,
   "id": "18963731-7574-4ad1-87b3-ae7a56fec1a7",
   "metadata": {},
   "outputs": [
    {
     "name": "stdout",
     "output_type": "stream",
     "text": [
      "Using v1.28.9 of gAperture.\n",
      "Generating a light curve with the following paramters:\n",
      " band:    NUV\n",
      " skypos:  [149.36175, 3.23361]\n",
      " tranges: [[823012836.995, 823013087.995], [826651390.995, 826651657.995], [884277194.995, 884278396.995], [884295709.995, 884296159.995], [885401001.995, 885402693.995], [885406933.995, 885408608.995], [885513875.995, 885515078.995], [885531119.995, 885532823.995], [885578464.995, 885580143.995], [885613953.995, 885615634.995], [885661311.995, 885662954.995], [885667191.995, 885668869.995], [886944986.995, 886946665.995], [887909258.995, 887910826.995], [888246605.995, 888248067.995], [888944773.995, 888946368.995], [889276027.995, 889277680.995], [889613136.995, 889614840.995], [890222454.995, 890224071.995], [890405884.995, 890407460.995], [890423662.995, 890425209.995], [918447323.995, 918447909.995], [920821159.995, 920821284.995], [921523700.995, 921525252.995], [949321263.995, 949322802.995], [949486945.995, 949488418.995], [949676296.995, 949677718.995], [949859773.995, 949861140.995], [950013670.995, 950015006.995], [950203022.995, 950204399.995], [950865485.995, 950867112.995], [951025160.995, 951026818.995], [951563359.995, 951565025.995], [951717154.995, 951718801.995], [951888688.995, 951890334.995], [980507054.995, 980508406.995], [980666882.995, 980667805.995], [980880128.995, 980881211.995], [981045595.995, 981046935.995], [981211223.995, 981212646.995], [981376803.995, 981378328.995], [981542387.995, 981543981.995], [981707983.995, 981709607.995], [981867643.995, 981869300.995], [1011477259.995, 1011477401.995]]\n",
      " radius:  0.0016666666666666666\n",
      " annulus: [0.0019444444444444444, 0.002777777777777778]\n",
      " stepsz:  80.0\n",
      " csvfile: ./out/PS1-11af_gAperture_lc.csv\n",
      " verbose: 3\n",
      "No concurrent NUV MCAT source nearby.                       49.36175, 3.23361]\r"
     ]
    },
    {
     "name": "stderr",
     "output_type": "stream",
     "text": [
      "/Users/julianschliwinski/.pyenv/versions/uc_uvva_venv399/lib/python3.9/site-packages/gPhoton/curvetools.py:1000: RuntimeWarning: invalid value encountered in subtract\n",
      "  lcurve['mag_err_1'] = (lcurve['mag'] -\n",
      "/Users/julianschliwinski/.pyenv/versions/uc_uvva_venv399/lib/python3.9/site-packages/gPhoton/curvetools.py:1003: RuntimeWarning: invalid value encountered in subtract\n",
      "  lcurve['mag_err_2'] = (gxt.counts2mag(lcurve['cps'] -\n",
      "/Users/julianschliwinski/.pyenv/versions/uc_uvva_venv399/lib/python3.9/site-packages/gPhoton/curvetools.py:1007: RuntimeWarning: invalid value encountered in subtract\n",
      "  lcurve['mag_bgsub_err_1'] = (lcurve['mag_bgsub'] -\n",
      "/Users/julianschliwinski/.pyenv/versions/uc_uvva_venv399/lib/python3.9/site-packages/gPhoton/curvetools.py:1010: RuntimeWarning: invalid value encountered in subtract\n",
      "  lcurve['mag_bgsub_err_2'] = (gxt.counts2mag(lcurve['cps_bgsub'] -\n"
     ]
    },
    {
     "name": "stdout",
     "output_type": "stream",
     "text": [
      "CPU times: user 6min 4s, sys: 25.4 s, total: 6min 29s                                                                   \n",
      "Wall time: 1h 35min 41s\n"
     ]
    }
   ],
   "source": [
    "%%time\n",
    "photon_events = gp.gAperture(**config_gaper)"
   ]
  },
  {
   "cell_type": "code",
   "execution_count": 26,
   "id": "2218ac8b-7f6c-49fe-86e7-6c74b48d4618",
   "metadata": {},
   "outputs": [],
   "source": [
    "lc_data = read_lc(config_gaper[\"csvfile\"])\n",
    "sel = lc_data[\"t_mean\"] > 1"
   ]
  },
  {
   "cell_type": "code",
   "execution_count": 27,
   "id": "16da5eee-90f0-45c1-9040-882e3e20f8d5",
   "metadata": {},
   "outputs": [
    {
     "data": {
      "application/vnd.jupyter.widget-view+json": {
       "model_id": "52bc4ce6b0ae4e39acbcd5965fd83888",
       "version_major": 2,
       "version_minor": 0
      },
      "image/png": "[encoded data removed]",
      "text/html": [
       "\n",
       "            <div style=\"display: inline-block;\">\n",
       "                <div class=\"jupyter-widgets widget-label\" style=\"text-align: center;\">\n",
       "                    PS1-11af_lc\n",
       "                </div>\n",
       "                <img src='data:image/png;base64,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' width=600.0/>\n",
       "            </div>\n",
       "        "
      ],
      "text/plain": [
       "Canvas(toolbar=Toolbar(toolitems=[('Home', 'Reset original view', 'home', 'home'), ('Back', 'Back to previous …"
      ]
     },
     "metadata": {},
     "output_type": "display_data"
    }
   ],
   "source": [
    "fig2, ax2 = vutils.nb_fig(num=f\"{transient}_lc\", gr_size=6)\n",
    "ax2.errorbar(\n",
    "    lc_data[sel][\"t_mean\"],\n",
    "    lc_data[sel][\"mag_bgsub\"],\n",
    "    yerr=[lc_data[sel][\"mag_bgsub_err_1\"], lc_data[sel][\"mag_bgsub_err_2\"]],\n",
    "    color=\"k\",\n",
    "    marker=\"o\",\n",
    "    ms=2\n",
    ")\n",
    "ax2.set_title(\"calibrated light curve\")\n",
    "ax2.invert_yaxis()"
   ]
  },
  {
   "cell_type": "code",
   "execution_count": null,
   "id": "7afb5d57-3f66-4ce0-b882-d4b474d7e44c",
   "metadata": {},
   "outputs": [],
   "source": []
  }
 ],
 "metadata": {
  "kernelspec": {
   "display_name": "uc_uvva_venv399",
   "language": "python",
   "name": "uc_uvva_venv399"
  },
  "language_info": {
   "codemirror_mode": {
    "name": "ipython",
    "version": 3
   },
   "file_extension": ".py",
   "mimetype": "text/x-python",
   "name": "python",
   "nbconvert_exporter": "python",
   "pygments_lexer": "ipython3",
   "version": "3.9.9"
  }
 },
 "nbformat": 4,
 "nbformat_minor": 5
}
