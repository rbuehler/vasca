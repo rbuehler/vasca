{
 "cells": [
  {
   "cell_type": "code",
   "execution_count": 20,
   "id": "9550475b-7101-4f16-b5ec-fed429c1810d",
   "metadata": {},
   "outputs": [],
   "source": [
    "%matplotlib widget"
   ]
  },
  {
   "cell_type": "code",
   "execution_count": 21,
   "id": "a4030d15-8624-4113-a9a9-4a33c9a946d3",
   "metadata": {},
   "outputs": [],
   "source": [
    "%load_ext autoreload\n",
    "%autoreload 2"
   ]
  },
  {
   "cell_type": "code",
   "execution_count": 19,
   "id": "05f9d327-a27a-4e55-86fd-8e1c1a3b4877",
   "metadata": {},
   "outputs": [],
   "source": [
    "from datetime import datetime\n",
    "import os\n",
    "from collections import Counter\n",
    "\n",
    "import pandas as pd\n",
    "import numpy as np\n",
    "import matplotlib.pyplot as plt\n",
    "from matplotlib.colors import LogNorm, Normalize\n",
    "from matplotlib import cm\n",
    "import matplotlib.dates as mdates\n",
    "from matplotlib.patches import Patch\n",
    "from matplotlib.lines import Line2D\n",
    "from mpl_toolkits.axes_grid1 import make_axes_locatable\n",
    "from astropy.coordinates import SkyCoord, match_coordinates_sky\n",
    "from astropy.table import Table\n",
    "from astropy.io import fits\n",
    "import astropy.units as u\n",
    "from astropy.time import Time\n",
    "import healpy as hpy\n",
    "from astroquery.mast import Observations\n",
    "\n",
    "from vasca.resource_manager import ResourceManager\n",
    "from vasca.region import Region\n",
    "from vasca.field import BaseField\n",
    "import vasca.visualization as vvis\n",
    "from vasca.utils import nb_fig"
   ]
  },
  {
   "cell_type": "code",
   "execution_count": 7,
   "id": "8b3c6dec-2da4-4796-b1a8-8ce79b23bded",
   "metadata": {},
   "outputs": [
    {
     "data": {
      "text/html": [
       "<i>Table length=34</i>\n",
       "<table id=\"table4485969952-464097\" class=\"table-striped table-bordered table-condensed\">\n",
       "<thead><tr><th>idx</th><th>Column Name</th><th>Column Label</th><th>Data Type</th><th>Units</th><th>Description</th><th>Examples/Valid Values</th></tr></thead>\n",
       "<tr><td>0</td><td>intentType</td><td>Observation Type</td><td>string</td><td></td><td>Whether observation is for science or calibration.</td><td>Valid values: science, calibration</td></tr>\n",
       "<tr><td>1</td><td>obs_collection</td><td>Mission</td><td>string</td><td></td><td>Collection</td><td>E.g. SWIFT, PS1, HST, IUE</td></tr>\n",
       "<tr><td>2</td><td>provenance_name</td><td>Provenance Name</td><td>string</td><td></td><td>Provenance name, or source of data</td><td>E.g. TASOC, CALSTIS, PS1</td></tr>\n",
       "<tr><td>3</td><td>instrument_name</td><td>Instrument</td><td>string</td><td></td><td>Instrument Name</td><td>E.g. WFPC2/WFC, UVOT, STIS/CCD</td></tr>\n",
       "<tr><td>4</td><td>project</td><td>Project</td><td>string</td><td></td><td>Processing project</td><td>E.g. HST, HLA, EUVE, hlsp_legus</td></tr>\n",
       "<tr><td>5</td><td>filters</td><td>Filters</td><td>string</td><td></td><td>Instrument filters</td><td>F469N, NUV, FUV, LOW DISP, MIRROR</td></tr>\n",
       "<tr><td>6</td><td>wavelength_region</td><td>Waveband</td><td>string</td><td></td><td>Energy Band</td><td>EUV, XRAY, OPTICAL</td></tr>\n",
       "<tr><td>7</td><td>target_name</td><td>Target Name</td><td>string</td><td></td><td>Target Name</td><td>Ex. COMET-67P-CHURYUMOV-GER-UPDATE</td></tr>\n",
       "<tr><td>8</td><td>target_classification</td><td>Target Classification</td><td>string</td><td></td><td>Type of target</td><td>Ex. COMET;COMET BEING ORBITED BY THE ROSETTA SPACECRAFT;SOLAR SYSTEM</td></tr>\n",
       "<tr><td>9</td><td>obs_id</td><td>Observation ID</td><td>string</td><td></td><td>Observation identifier, given by mission</td><td>U24Z0101T, N4QF18030</td></tr>\n",
       "<tr><td>10</td><td>s_ra</td><td>RA</td><td>float</td><td>deg</td><td>Observation Right Ascension</td><td>May be displayed in the Portal as hh:mm:ss.sss, but should be searched as decimal</td></tr>\n",
       "<tr><td>11</td><td>s_dec</td><td>Dec</td><td>float</td><td>deg</td><td>Observation Declination</td><td>May be displayed in the Portal as hh:mm:ss.sss, but should be searched as decimal</td></tr>\n",
       "<tr><td>12</td><td>proposal_id</td><td>Proposal ID</td><td>string</td><td></td><td>Proposal ID</td><td>E.g. EGCJC, 11360, 9401</td></tr>\n",
       "<tr><td>13</td><td>proposal_pi</td><td>Principal Investigator</td><td>string</td><td></td><td>Principal investigator&apos;s last name</td><td>Chander, Chu, Malkin</td></tr>\n",
       "<tr><td>14</td><td>obs_title</td><td>Observation Title</td><td>string</td><td></td><td>Observation description from proposal</td><td>Age-dating Star Clusters in M101</td></tr>\n",
       "<tr><td>15</td><td>dataproduct_type</td><td>Product Type</td><td>string</td><td></td><td>Type of product</td><td>Valid values: IMAGE, SPECTRUM, SED, TIMESERIES, VISIBILITY, EVENTLIST, CUBE, CATALOG, ENGINEERING, NULL</td></tr>\n",
       "<tr><td>16</td><td>calib_level</td><td>Calibration Level</td><td>integer</td><td></td><td>Calibration level</td><td>0 = raw, 1 = uncalibrated, 2 = calibrated, 3 = science product, 4 = contributed science product</td></tr>\n",
       "<tr><td>17</td><td>t_min</td><td>Start Time</td><td>float</td><td>MJD</td><td>Observation start datetime</td><td>May be displayed in the Portal as YYY-MM-DD HH:MM, but should be searched as MJD</td></tr>\n",
       "<tr><td>18</td><td>t_max</td><td>End Time</td><td>float</td><td>MJD</td><td>Observation end datetime</td><td>May be displayed in the Portal as YYY-MM-DD HH:MM, but should be searched as MJD</td></tr>\n",
       "<tr><td>19</td><td>t_obs_release</td><td>Release Date</td><td>float</td><td>MJD</td><td>Dataset release date</td><td>May be displayed in the Portal as YYY-MM-DD HH:MM, but should be searched as MJD</td></tr>\n",
       "<tr><td>20</td><td>t_exptime</td><td>Exposure Length</td><td>float</td><td>sec</td><td>Exposure time</td><td></td></tr>\n",
       "<tr><td>21</td><td>em_min</td><td>Min. Wavelength</td><td>float</td><td>nm</td><td>Minimum Wavelength</td><td></td></tr>\n",
       "<tr><td>22</td><td>em_max</td><td>Max. Wavelength</td><td>float</td><td>nm</td><td>Maximum Wavelength</td><td></td></tr>\n",
       "<tr><td>23</td><td>objID</td><td>Object ID</td><td>integer</td><td></td><td>Plane ID of observation at given calibration level</td><td>Long integer, e.g. 2012969445</td></tr>\n",
       "<tr><td>24</td><td>s_region</td><td>s_region</td><td>string</td><td>ICRS Shape</td><td>STC/S Footprint</td><td>Will be ICRS circle or polygon. E.g. CIRCLE ICRS 17.71740689 -58.40043015 0.625</td></tr>\n",
       "<tr><td>25</td><td>jpegURL</td><td>jpegURL</td><td>string</td><td></td><td>Preview Image URL</td><td>https://archive.stsci.edu/hst/previews/N4QF/N4QF18090.jpg</td></tr>\n",
       "<tr><td>26</td><td>distance</td><td>Distance (&quot;)</td><td>float</td><td>arcsec</td><td>Angular separation between searched coordinates and center of obsevation</td><td></td></tr>\n",
       "<tr><td>27</td><td>obsid</td><td>Product Group ID</td><td>integer</td><td></td><td>Database identifier for obs_id</td><td>Long integer, e.g. 2007590987</td></tr>\n",
       "<tr><td>28</td><td>dataRights</td><td>Data Rights</td><td>string</td><td></td><td>Data Rights</td><td>valid values: public,exclusive_access,restricted</td></tr>\n",
       "<tr><td>29</td><td>mtFlag</td><td>Moving Target</td><td>boolean</td><td></td><td>Moving Target Flag</td><td>If True, observation contains a moving target, if False or absent observation may or may not contain a moving target</td></tr>\n",
       "<tr><td>30</td><td>srcDen</td><td>Number of Catalog Objects</td><td>float</td><td></td><td>Number of cataloged objects found in observation</td><td></td></tr>\n",
       "<tr><td>31</td><td>dataURL</td><td>Data URL</td><td>string</td><td></td><td>Data URL</td><td></td></tr>\n",
       "<tr><td>32</td><td>proposal_type</td><td>Proposal Type</td><td>string</td><td></td><td>Type of telescope proposal</td><td>Eg. 3PI, GO, GO/DD, HLA, GII, AIS</td></tr>\n",
       "<tr><td>33</td><td>sequence_number</td><td>Sequence Number</td><td>integer</td><td></td><td>Sequence number, e.g. Kepler quarter or TESS sector</td><td></td></tr>\n",
       "</table><style>table.dataTable {clear: both; width: auto !important; margin: 0 !important;}\n",
       ".dataTables_info, .dataTables_length, .dataTables_filter, .dataTables_paginate{\n",
       "display: inline-block; margin-right: 1em; }\n",
       ".paginate_button { margin-right: 5px; }\n",
       "</style>\n",
       "<script>\n",
       "\n",
       "var astropy_sort_num = function(a, b) {\n",
       "    var a_num = parseFloat(a);\n",
       "    var b_num = parseFloat(b);\n",
       "\n",
       "    if (isNaN(a_num) && isNaN(b_num))\n",
       "        return ((a < b) ? -1 : ((a > b) ? 1 : 0));\n",
       "    else if (!isNaN(a_num) && !isNaN(b_num))\n",
       "        return ((a_num < b_num) ? -1 : ((a_num > b_num) ? 1 : 0));\n",
       "    else\n",
       "        return isNaN(a_num) ? -1 : 1;\n",
       "}\n",
       "\n",
       "require.config({paths: {\n",
       "    datatables: 'https://cdn.datatables.net/1.10.12/js/jquery.dataTables.min'\n",
       "}});\n",
       "require([\"datatables\"], function(){\n",
       "    console.log(\"$('#table4485969952-464097').dataTable()\");\n",
       "    \n",
       "jQuery.extend( jQuery.fn.dataTableExt.oSort, {\n",
       "    \"optionalnum-asc\": astropy_sort_num,\n",
       "    \"optionalnum-desc\": function (a,b) { return -astropy_sort_num(a, b); }\n",
       "});\n",
       "\n",
       "    $('#table4485969952-464097').dataTable({\n",
       "        order: [],\n",
       "        pageLength: 50,\n",
       "        lengthMenu: [[10, 25, 50, 100, 500, 1000, -1], [10, 25, 50, 100, 500, 1000, 'All']],\n",
       "        pagingType: \"full_numbers\",\n",
       "        columnDefs: [{targets: [0], type: \"optionalnum\"}]\n",
       "    });\n",
       "});\n",
       "</script>\n"
      ],
      "text/plain": [
       "<IPython.core.display.HTML object>"
      ]
     },
     "execution_count": 7,
     "metadata": {},
     "output_type": "execute_result"
    }
   ],
   "source": [
    "Observations.get_metadata(\"observations\").show_in_notebook()"
   ]
  },
  {
   "cell_type": "code",
   "execution_count": 10,
   "id": "0f83132e-de64-4035-8995-0b2f3cc6f633",
   "metadata": {},
   "outputs": [],
   "source": [
    "query = {\n",
    "    \"instrument_name\": \"UVOT\",\n",
    "    #\"dataproduct_type\": \"image\",\n",
    "    #\"filters\": [\"NUV\",\"FUV\"],\n",
    "}"
   ]
  },
  {
   "cell_type": "code",
   "execution_count": 13,
   "id": "7ab79291-db75-45ec-b682-a3801338c409",
   "metadata": {},
   "outputs": [],
   "source": [
    "tt_obs = Observations.query_criteria(**query)"
   ]
  },
  {
   "cell_type": "code",
   "execution_count": 14,
   "id": "3b0e3027-8971-4985-a51b-a4295ca94fdb",
   "metadata": {},
   "outputs": [
    {
     "data": {
      "text/plain": [
       "<Table length=266251>\n",
       "         name          dtype  n_bad \n",
       "--------------------- ------- ------\n",
       "     dataproduct_type    str4      0\n",
       "          calib_level   int64      0\n",
       "       obs_collection    str5      0\n",
       "               obs_id   str11      0\n",
       "          target_name   str33      0\n",
       "                 s_ra float64      0\n",
       "                s_dec float64      0\n",
       "                t_min float64      0\n",
       "                t_max float64      0\n",
       "            t_exptime float64      0\n",
       "    wavelength_region   str10      2\n",
       "              filters    str9      0\n",
       "               em_min float64      0\n",
       "               em_max float64      0\n",
       "target_classification    str1 266251\n",
       "            obs_title    str1 266251\n",
       "        t_obs_release float64      0\n",
       "      instrument_name    str4      0\n",
       "          proposal_pi    str1 266251\n",
       "          proposal_id    str1 266251\n",
       "        proposal_type    str1 266251\n",
       "              project    str1 266251\n",
       "      sequence_number   int64 266251\n",
       "      provenance_name    str1 266251\n",
       "             s_region str5798      0\n",
       "              jpegURL  str100      0\n",
       "              dataURL   str89  31893\n",
       "           dataRights   str11      8\n",
       "               mtFlag    bool 266251\n",
       "               srcDen float64      0\n",
       "           intentType    str7      0\n",
       "                obsid    str8      0\n",
       "                objID    str9      0"
      ]
     },
     "execution_count": 14,
     "metadata": {},
     "output_type": "execute_result"
    }
   ],
   "source": [
    "tt_obs.info"
   ]
  },
  {
   "cell_type": "code",
   "execution_count": 25,
   "id": "c34c577a-11c3-4010-8a67-cb00413479d2",
   "metadata": {},
   "outputs": [
    {
     "data": {
      "application/vnd.jupyter.widget-view+json": {
       "model_id": "a675af9303144d748d8fad7a09e0e7d3",
       "version_major": 2,
       "version_minor": 0
      },
      "image/png": "[encoded data removed]",
      "text/html": [
       "\n",
       "            <div style=\"display: inline-block;\">\n",
       "                <div class=\"jupyter-widgets widget-label\" style=\"text-align: center;\">\n",
       "                    texp\n",
       "                </div>\n",
       "                <img src='data:image/png;base64,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' width=640.0/>\n",
       "            </div>\n",
       "        "
      ],
      "text/plain": [
       "Canvas(toolbar=Toolbar(toolitems=[('Home', 'Reset original view', 'home', 'home'), ('Back', 'Back to previous …"
      ]
     },
     "metadata": {},
     "output_type": "display_data"
    }
   ],
   "source": [
    "fig, ax = nb_fig(num=\"texp\")\n",
    "ax.hist(tt_obs[\"t_exptime\"], bins=\"auto\", cumulative=True, density=True)\n",
    "ax.set_xscale(\"log\")\n",
    "ax.set_yscale(\"log\")"
   ]
  },
  {
   "cell_type": "code",
   "execution_count": 57,
   "id": "7cf0b7f2-0512-4dae-aab8-2d2783493a9c",
   "metadata": {},
   "outputs": [],
   "source": [
    "#tt_obs.write(\"tt_swift_obs.fits\")"
   ]
  },
  {
   "cell_type": "code",
   "execution_count": 56,
   "id": "ec204b54-e561-400c-840f-5dce254dd4b9",
   "metadata": {},
   "outputs": [
    {
     "name": "stdout",
     "output_type": "stream",
     "text": [
      "Objects:                 266251\n",
      "Observations:            115562\n",
      "Targets:                  27464\n",
      "Filters:                     11\n",
      "RA:                      115557\n",
      "DEC:                     115557\n",
      "Time stamps:             266159\n",
      "Exposure times:          206942\n"
     ]
    }
   ],
   "source": [
    "keys = [\"objID\", \"obs_id\", \"target_name\", \"filters\", \"s_ra\", \"s_dec\", \"t_min\", \"t_exptime\"]\n",
    "names =[\"Objects\", \"Observations\", \"Targets\", \"Filters\", \"RA\", \"DEC\", \"Time stamps\", \"Exposure times\"]\n",
    "\n",
    "for key, name in zip(keys, names):\n",
    "    print(f'{name+\":\":<20} {len(np.unique(tt_obs[key])):>10}')\n"
   ]
  },
  {
   "cell_type": "code",
   "execution_count": null,
   "id": "683a7134-c4db-4c82-9569-0f1e5036037a",
   "metadata": {},
   "outputs": [],
   "source": []
  }
 ],
 "metadata": {
  "kernelspec": {
   "display_name": "uc_uvva_venv399",
   "language": "python",
   "name": "uc_uvva_venv399"
  },
  "language_info": {
   "codemirror_mode": {
    "name": "ipython",
    "version": 3
   },
   "file_extension": ".py",
   "mimetype": "text/x-python",
   "name": "python",
   "nbconvert_exporter": "python",
   "pygments_lexer": "ipython3",
   "version": "3.9.9"
  }
 },
 "nbformat": 4,
 "nbformat_minor": 5
}
