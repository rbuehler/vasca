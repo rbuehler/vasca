{
 "cells": [
  {
   "cell_type": "code",
   "execution_count": 1,
   "id": "73dca955-5887-4a96-b932-4339b3635a2d",
   "metadata": {},
   "outputs": [],
   "source": [
    "#Select VASCA sources based on chosen criteria"
   ]
  },
  {
   "cell_type": "code",
   "execution_count": 2,
   "id": "4f80db66-a40c-473c-9993-7ef764a1861a",
   "metadata": {},
   "outputs": [],
   "source": [
    "region_name = \"ALL_10-800_LOOSE\" #\"CAINGSGII_10-800\" #\"TDS\" #\"CAINGSGII_10-800\" #\"WD\" #\"MDIS_10-800\" #\"TDS\" #  _ELAISN1\n",
    "region_cat_fname = \"./vasca_pipeline/\"+region_name+\"/region_\"+region_name+\"_cat.fits\""
   ]
  },
  {
   "cell_type": "code",
   "execution_count": 3,
   "id": "593676f1-65b6-4173-8fb6-fc6a0e81ef5d",
   "metadata": {},
   "outputs": [],
   "source": [
    "### Prepare tt_sources with variables for selection"
   ]
  },
  {
   "cell_type": "code",
   "execution_count": 4,
   "id": "3a81e293-e136-402c-aafb-b2f2ff5221e5",
   "metadata": {},
   "outputs": [
    {
     "name": "stderr",
     "output_type": "stream",
     "text": [
      "WARNING: UnitsWarning: 'log(cm.s**-2)' did not parse as fits unit: 'log' is not a recognized function If this is meant to be a custom unit, define it with 'u.def_unit'. To have it recognized inside a file reader or other code, enable it with 'u.add_enabled_units'. For details, see https://docs.astropy.org/en/latest/units/combining_and_defining.html [astropy.units.core]\n"
     ]
    },
    {
     "name": "stdout",
     "output_type": "stream",
     "text": [
      "Number of SIMBAD matches is: 5508  (52.89541918755402 )%\n",
      "Number of GAIA matches is: 7952  (76.36608086046289 )%\n",
      "Total number of matches is: 8696  (83.51099587054644 )%\n"
     ]
    },
    {
     "data": {
      "text/html": [
       "<div><i>Table length=56</i>\n",
       "<table id=\"table140553647263024\" class=\"table-striped table-bordered table-condensed\">\n",
       "<thead><tr><th>main_id</th><th>ra</th><th>dec</th><th>ra_prec</th><th>dec_prec</th><th>coo_err_maja</th><th>coo_err_mina</th><th>coo_err_angle</th><th>coo_qual</th><th>coo_wavelength</th><th>coo_bibcode</th><th>otype</th><th>otypes</th><th>distance_distance</th><th>distance_q</th><th>distance_unit</th><th>distance_merr</th><th>distance_perr</th><th>distance_method</th><th>distance_bibcode</th><th>match_distance</th><th>rvz_type</th><th>rvz_radvel</th><th>rvz_error</th><th>rvz_qual</th><th>rvz_wavelength</th><th>rvz_bibcode</th><th>z_value</th><th>sp_type</th><th>sp_qual</th><th>sp_bibcode</th><th>script_number_id</th><th>rg_src_id</th><th>simbad_match_id</th><th>ogrp</th></tr></thead>\n",
       "<thead><tr><th></th><th>deg</th><th>deg</th><th></th><th></th><th>mas</th><th>mas</th><th>deg</th><th></th><th></th><th></th><th></th><th></th><th></th><th></th><th></th><th></th><th></th><th></th><th></th><th>arcsec</th><th></th><th>km / s</th><th>km / s</th><th></th><th></th><th></th><th></th><th></th><th></th><th></th><th></th><th></th><th></th><th></th></tr></thead>\n",
       "<thead><tr><th>bytes32</th><th>float64</th><th>float64</th><th>int16</th><th>int16</th><th>float32</th><th>float32</th><th>int16</th><th>bytes1</th><th>bytes1</th><th>bytes32</th><th>bytes32</th><th>bytes32</th><th>float64</th><th>bytes1</th><th>bytes4</th><th>float64</th><th>float64</th><th>bytes8</th><th>bytes19</th><th>float32</th><th>bytes1</th><th>float64</th><th>float32</th><th>bytes1</th><th>bytes1</th><th>bytes32</th><th>float64</th><th>bytes32</th><th>bytes32</th><th>bytes32</th><th>int32</th><th>int32</th><th>int32</th><th>bytes8</th></tr></thead>\n",
       "<tr><td>GALEX J221729.2+000833</td><td>334.3718966666666</td><td>0.14262111111111112</td><td>14</td><td>14</td><td>0.197</td><td>0.177</td><td>90</td><td>A</td><td>O</td><td>2020yCat.1350....0G</td><td>WD*</td><td>WD*|WD*|WD*|WD*|WD*|WD*|*|G|Opt|</td><td>319.8670</td><td>--</td><td>pc</td><td>-23.3176</td><td>23.3176</td><td>paral</td><td>2020yCat.1350....0G</td><td>0.4493</td><td>z</td><td>-0.000</td><td>0.000</td><td>E</td><td>--</td><td>2008ApJS..175..297A</td><td>-0.0000100</td><td>DB</td><td>D</td><td>2006ApJS..167...40E</td><td>101</td><td>4993</td><td>77</td><td>WD*</td></tr>\n",
       "<tr><td>GALEX J221613.5+010456</td><td>334.05641333333324</td><td>1.0822822222222221</td><td>14</td><td>14</td><td>0.290</td><td>0.205</td><td>90</td><td>A</td><td>O</td><td>2020yCat.1350....0G</td><td>WD*</td><td>WD*|WD*|WD*|WD*|WD*|*|Opt|UV|WD?</td><td>153.2380</td><td>--</td><td>pc</td><td>-8.2609</td><td>8.2609</td><td>paral</td><td>2020yCat.1350....0G</td><td>0.1086</td><td>z</td><td>0.000</td><td>0.000</td><td>E</td><td>--</td><td>2008ApJS..175..297A</td><td>0.0000900</td><td>DA</td><td>D</td><td>2006ApJS..167...40E</td><td>315</td><td>14504</td><td>234</td><td>WD*</td></tr>\n",
       "<tr><td>VIPERS 406014492</td><td>334.8938645833333</td><td>0.881735</td><td>14</td><td>14</td><td>0.349</td><td>0.319</td><td>90</td><td>A</td><td>O</td><td>2020yCat.1350....0G</td><td>WD?</td><td>*|*|G|WD?|WD?</td><td>--</td><td>--</td><td>--</td><td>--</td><td>--</td><td>--</td><td>--</td><td>0.4710</td><td>--</td><td>--</td><td>--</td><td>--</td><td>--</td><td>--</td><td>--</td><td>--</td><td>--</td><td>--</td><td>525</td><td>30475</td><td>380</td><td>WD*</td></tr>\n",
       "<tr><td>V* V2276 Sgr</td><td>306.59244125</td><td>-43.6754825</td><td>14</td><td>14</td><td>0.331</td><td>0.248</td><td>90</td><td>A</td><td>O</td><td>2020yCat.1350....0G</td><td>CV*</td><td>CV*|V*|*|WD?</td><td>--</td><td>--</td><td>--</td><td>--</td><td>--</td><td>--</td><td>--</td><td>0.2714</td><td>--</td><td>--</td><td>--</td><td>--</td><td>--</td><td>--</td><td>--</td><td>--</td><td>--</td><td>--</td><td>585</td><td>34280</td><td>419</td><td>WD*</td></tr>\n",
       "<tr><td>...</td><td>...</td><td>...</td><td>...</td><td>...</td><td>...</td><td>...</td><td>...</td><td>...</td><td>...</td><td>...</td><td>...</td><td>...</td><td>...</td><td>...</td><td>...</td><td>...</td><td>...</td><td>...</td><td>...</td><td>...</td><td>...</td><td>...</td><td>...</td><td>...</td><td>...</td><td>...</td><td>...</td><td>...</td><td>...</td><td>...</td><td>...</td><td>...</td><td>...</td><td>...</td></tr>\n",
       "<tr><td>ZTF18absmovx</td><td>253.91191666666663</td><td>-4.15625</td><td>6</td><td>6</td><td>--</td><td>--</td><td>0</td><td>D</td><td>O</td><td>2021AJ....162...94S</td><td>CV?</td><td>CV?|ev</td><td>--</td><td>--</td><td>--</td><td>--</td><td>--</td><td>--</td><td>--</td><td>0.5316</td><td>--</td><td>--</td><td>--</td><td>--</td><td>--</td><td>--</td><td>--</td><td>--</td><td>--</td><td>--</td><td>7836</td><td>1255730</td><td>4236</td><td>WD*</td></tr>\n",
       "<tr><td>V* MQ Dra</td><td>238.37966583333332</td><td>55.2706875</td><td>14</td><td>14</td><td>0.055</td><td>0.066</td><td>90</td><td>A</td><td>O</td><td>2020yCat.1350....0G</td><td>CV*</td><td>EB*|V*|CV*|V*|CV*|NIR|*|Opt|X</td><td>186.2340</td><td>--</td><td>pc</td><td>-3.2116</td><td>3.2116</td><td>paral</td><td>2018yCat.1345....0G</td><td>0.2065</td><td>z</td><td>-0.000</td><td>0.000</td><td>E</td><td>--</td><td>2008ApJS..175..297A</td><td>-0.0003500</td><td>M5Ve</td><td>D</td><td>2003ApJ...583..902S</td><td>8272</td><td>1473877</td><td>4520</td><td>WD*</td></tr>\n",
       "<tr><td>GALEX J140000.3+031251</td><td>210.00146291666664</td><td>3.2144083333333335</td><td>14</td><td>14</td><td>0.186</td><td>0.135</td><td>90</td><td>A</td><td>O</td><td>2020yCat.1350....0G</td><td>WD*</td><td>WD*|WD*|WD*|WD*|WD*|WD*|*|Opt|UV</td><td>313.7650</td><td>--</td><td>pc</td><td>-20.6052</td><td>20.6052</td><td>paral</td><td>2020yCat.1350....0G</td><td>0.2679</td><td>v</td><td>19.000</td><td>10.000</td><td>D</td><td>O</td><td>2019MNRAS.486.2169K</td><td>0.0000630</td><td>DA</td><td>D</td><td>2006ApJS..167...40E</td><td>8834</td><td>1805505</td><td>4860</td><td>WD*</td></tr>\n",
       "<tr><td>Gaia DR3 6175066552397551616</td><td>207.03526291666665</td><td>-30.479195833333332</td><td>14</td><td>14</td><td>0.464</td><td>0.349</td><td>90</td><td>A</td><td>O</td><td>2020yCat.1350....0G</td><td>WD?</td><td>*|WD?</td><td>--</td><td>--</td><td>--</td><td>--</td><td>--</td><td>--</td><td>--</td><td>0.1621</td><td>--</td><td>--</td><td>--</td><td>--</td><td>--</td><td>--</td><td>--</td><td>--</td><td>--</td><td>--</td><td>8875</td><td>1839206</td><td>4876</td><td>WD*</td></tr>\n",
       "<tr><td>Gaia DR3 2522087431383099392</td><td>10.880957083333332</td><td>-9.212593055555555</td><td>14</td><td>14</td><td>0.283</td><td>0.166</td><td>90</td><td>A</td><td>O</td><td>2020yCat.1350....0G</td><td>WD?</td><td>*|WD?</td><td>--</td><td>--</td><td>--</td><td>--</td><td>--</td><td>--</td><td>--</td><td>0.4423</td><td>--</td><td>--</td><td>--</td><td>--</td><td>--</td><td>--</td><td>--</td><td>--</td><td>--</td><td>--</td><td>10260</td><td>3074917</td><td>5549</td><td>WD*</td></tr>\n",
       "</table></div>"
      ],
      "text/plain": [
       "<Table length=56>\n",
       "          main_id                    ra         ...  ogrp \n",
       "                                    deg         ...       \n",
       "          bytes32                 float64       ... bytes8\n",
       "---------------------------- ------------------ ... ------\n",
       "      GALEX J221729.2+000833  334.3718966666666 ...    WD*\n",
       "      GALEX J221613.5+010456 334.05641333333324 ...    WD*\n",
       "            VIPERS 406014492  334.8938645833333 ...    WD*\n",
       "                V* V2276 Sgr       306.59244125 ...    WD*\n",
       "                         ...                ... ...    ...\n",
       "                ZTF18absmovx 253.91191666666663 ...    WD*\n",
       "                   V* MQ Dra 238.37966583333332 ...    WD*\n",
       "      GALEX J140000.3+031251 210.00146291666664 ...    WD*\n",
       "Gaia DR3 6175066552397551616 207.03526291666665 ...    WD*\n",
       "Gaia DR3 2522087431383099392 10.880957083333332 ...    WD*"
      ]
     },
     "metadata": {},
     "output_type": "display_data"
    }
   ],
   "source": [
    "%matplotlib widget\n",
    "import ipywidgets as widgets\n",
    "from IPython.display import display\n",
    "import matplotlib.pyplot as plt\n",
    "import numpy as np\n",
    "from astropy.table import Table\n",
    "from vasca.region import Region\n",
    "import vasca.visualization as vvis\n",
    "from vasca.utils import otype2ogroup,dd_ogrp2otypes, dd_ogrp2col, get_col_cycler,add_ogrp, color_palette, nb_fig\n",
    "from astropy import units as uu\n",
    "from astropy.table import Column\n",
    "\n",
    "# Get region\n",
    "rc = Region()\n",
    "rc.load_from_fits(region_cat_fname)\n",
    "rc.tt_sources.sort([\"dec\"])\n",
    "\n",
    "#Add Object group to source table\n",
    "rc.copy_table_columns(\"tt_sources\",\"tt_simbad\",[\"otype\",\"ogrp\",\"match_distance\",\"sp_type\",\"main_id\"],\"rg_src_id\")\n",
    "rc.tt_sources.rename_column(\"match_distance\",\"match_distance_simbad\")\n",
    "rc.tt_sources.rename_column(\"ogrp\",\"ogrp_simbad\")\n",
    "sel_simbad = rc.tt_sources[\"sel\"].data\n",
    "print(f\"Number of SIMBAD matches is: {sel_simbad.sum()}  ({100* sel_simbad.sum() / len(rc.tt_sources)} )%\")\n",
    "\n",
    "rc.copy_table_columns(\"tt_sources\",\"tt_gaiadr3\",[\"PQSO\", \"PGal\", \"PSS\",\"match_distance\",\"Gmag_abs\",\"BP-RP\", \"ogrp\", \"Plx\",\"e_Plx\",\"Plx_dist\",\"VarFlag\"],\"rg_src_id\")\n",
    "rc.tt_sources.rename_column(\"match_distance\",\"match_distance_gaiadr3\")\n",
    "rc.tt_sources.rename_column(\"ogrp\",\"ogrp_gaiadr3\")\n",
    "sel_gaiadr3 = rc.tt_sources[\"sel\"].data\n",
    "print(f\"Number of GAIA matches is: {sel_gaiadr3.sum()}  ({100*sel_gaiadr3.sum() / len(rc.tt_sources)} )%\")\n",
    "\n",
    "sel_match = np.array(sel_simbad+sel_gaiadr3, dtype=bool)\n",
    "print(f\"Total number of matches is: {sel_match.sum()}  ({100*sel_match.sum() / len(rc.tt_sources)} )%\")\n",
    "\n",
    "#Copy lomb scargle result into tt_sources\n",
    "rc.copy_table_columns(\"tt_sources\",\"tt_lombscargle\",[\"ls_peak_pval\", \"ls_model_rchiq\"],\"rg_src_id\")\n",
    "\n",
    "display(rc.tt_simbad[rc.tt_simbad[\"ogrp\"]==\"WD*\"])"
   ]
  },
  {
   "cell_type": "markdown",
   "id": "09f0834f-a5c7-4db1-aa77-b593f93ed1ca",
   "metadata": {},
   "source": [
    "### Print info for selected sources"
   ]
  },
  {
   "cell_type": "code",
   "execution_count": 5,
   "id": "52c7472a-a628-488d-a500-dfbfaffa8610",
   "metadata": {},
   "outputs": [
    {
     "name": "stdout",
     "output_type": "stream",
     "text": [
      "\n",
      "srcs_ids = [253670 ,253214 ,540235 ,1037284 ,659787 ,680119 ,256433 ,1839206 ,498065 ,666224 ,1070938 ,1069077 ,714140 ,236839 ,764827 ,3074917 ,13580 ,645730 ,639720 ,645215 ,162697 ,221349 ,4993 ,228958 ,30475 ,14504 ,120265 ,138783 ,139480 ,52994 ,1805505 ,2527679 ,381336 ,532554 ,533185 ,204419 ,390864 ,525310 ,331466 ,489430 ,340464 ,673175 ,79477 ,691408 ,583838 ,50388 ,261213 ,]\n",
      "\n",
      "Total Nr. of sources: 47 \n",
      "\n"
     ]
    },
    {
     "data": {
      "text/html": [
       "<div><i>Table length=47</i>\n",
       "<table id=\"table140556267852256\" class=\"table-striped table-bordered table-condensed\">\n",
       "<thead><tr><th>ra</th><th>dec</th><th>ogrp_gaiadr3</th><th>otype</th><th>sp_type</th><th>main_id</th><th>nr_det</th><th>flux</th><th>flux_cpval</th><th>flux_ne</th><th>Plx_dist</th><th>ls_peak_pval</th><th>ls_model_rchiq</th><th>VarFlag</th><th>rg_src_id</th></tr></thead>\n",
       "<thead><tr><th>deg</th><th>deg</th><th></th><th></th><th></th><th></th><th></th><th>1e-06 Jy</th><th></th><th></th><th>pc</th><th></th><th></th><th></th><th></th></tr></thead>\n",
       "<thead><tr><th>float64</th><th>float64</th><th>bytes8</th><th>bytes32</th><th>bytes32</th><th>bytes32</th><th>int32[2]</th><th>float32[2]</th><th>float32[2]</th><th>float32[2]</th><th>float32</th><th>float32</th><th>float32</th><th>bytes32</th><th>int32</th></tr></thead>\n",
       "<tr><td>302.19601541246413</td><td>-48.86194592748431</td><td>none</td><td>WD?</td><td></td><td>GALEX J200847.0-485142</td><td>17 .. 6</td><td>398.86325 .. 688.0984</td><td>4.3121627e-23 .. 0.009076236</td><td>0.03252131 .. --</td><td>11820.331</td><td>-1.0</td><td>-1.0</td><td>NOT_AVAILABLE</td><td>253670</td></tr>\n",
       "<tr><td>303.0110051436914</td><td>-48.39410878608832</td><td>Star*</td><td>WD?</td><td></td><td>Gaia DR3 6669015352243852800</td><td>18 .. 6</td><td>145.71657 .. 53.254395</td><td>0.0 .. 4.5389494e-19</td><td>0.10808045 .. 0.30587494</td><td>20120.725</td><td>-1.0</td><td>-1.0</td><td>VARIABLE</td><td>253214</td></tr>\n",
       "<tr><td>79.85087717838213</td><td>-48.00660083372566</td><td>WD*</td><td>none</td><td>none</td><td>none</td><td>19 .. 14</td><td>10.857628 .. 4.2883177</td><td>3.626451e-12 .. 0.092903994</td><td>0.17871925 .. 0.15028058</td><td>433.78302</td><td>-1.0</td><td>-1.0</td><td>NOT_AVAILABLE</td><td>540235</td></tr>\n",
       "<tr><td>300.10991648653743</td><td>-47.03423566870643</td><td>WD*</td><td>WD?</td><td></td><td>GALEX J200026.3-470202</td><td>4 .. -1</td><td>530.47546 .. -1.0</td><td>4.2548773e-09 .. -1.0</td><td>0.032412373 .. --</td><td>231.72285</td><td>-1.0</td><td>-1.0</td><td>NOT_AVAILABLE</td><td>1037284</td></tr>\n",
       "<tr><td>...</td><td>...</td><td>...</td><td>...</td><td>...</td><td>...</td><td>...</td><td>...</td><td>...</td><td>...</td><td>...</td><td>...</td><td>...</td><td>...</td><td>...</td></tr>\n",
       "<tr><td>9.974460437212938</td><td>40.66513671157182</td><td>WD*</td><td>none</td><td>none</td><td>none</td><td>46 .. 6</td><td>60.771236 .. 58.456455</td><td>3.7028865e-08 .. 0.03668479</td><td>0.029154323 .. 0.04182261</td><td>142.7878</td><td>0.0056931046</td><td>1.640739</td><td>NOT_AVAILABLE</td><td>79477</td></tr>\n",
       "<tr><td>10.300977984620214</td><td>41.83352144076305</td><td>none</td><td>WD?</td><td></td><td>Gaia DR3 381342449635008128</td><td>29 .. 5</td><td>62.991554 .. 104.6912</td><td>2.9536553e-09 .. 0.508178</td><td>0.03838789 .. 0.004407491</td><td>2032.9335</td><td>0.0003252659</td><td>1.2801787</td><td>NOT_AVAILABLE</td><td>691408</td></tr>\n",
       "<tr><td>49.89487839440353</td><td>41.935116621490096</td><td>WD*</td><td>none</td><td>none</td><td>none</td><td>12 .. 10</td><td>146.99852 .. 48.61109</td><td>7.1037353e-20 .. 0.005771271</td><td>0.051071703 .. 0.05662148</td><td>204.54918</td><td>-1.0</td><td>-1.0</td><td>NOT_AVAILABLE</td><td>583838</td></tr>\n",
       "<tr><td>160.98628310403117</td><td>58.125564453570256</td><td>WD*</td><td>CV*</td><td></td><td>V* IY UMa</td><td>43 .. 3</td><td>200.6113 .. 207.43813</td><td>0.0 .. 7.736314e-22</td><td>0.24173336 .. 0.14491995</td><td>182.04657</td><td>0.16768725</td><td>209.25395</td><td>VARIABLE</td><td>50388</td></tr>\n",
       "<tr><td>261.0003514781842</td><td>60.7477214367325</td><td>WD*</td><td>WD?</td><td></td><td>ZTF J172400.04+604451.8</td><td>25 .. 14</td><td>43.02675 .. 51.41957</td><td>0.0 .. 1.3405661e-31</td><td>0.1475958 .. 0.08222167</td><td>689.22736</td><td>0.19052197</td><td>15.530447</td><td>NOT_AVAILABLE</td><td>261213</td></tr>\n",
       "</table></div>"
      ],
      "text/plain": [
       "<Table length=47>\n",
       "        ra                dec         ...    VarFlag    rg_src_id\n",
       "       deg                deg         ...                        \n",
       "     float64            float64       ...    bytes32      int32  \n",
       "------------------ ------------------ ... ------------- ---------\n",
       "302.19601541246413 -48.86194592748431 ... NOT_AVAILABLE    253670\n",
       " 303.0110051436914 -48.39410878608832 ...      VARIABLE    253214\n",
       " 79.85087717838213 -48.00660083372566 ... NOT_AVAILABLE    540235\n",
       "300.10991648653743 -47.03423566870643 ... NOT_AVAILABLE   1037284\n",
       "               ...                ... ...           ...       ...\n",
       " 9.974460437212938  40.66513671157182 ... NOT_AVAILABLE     79477\n",
       "10.300977984620214  41.83352144076305 ... NOT_AVAILABLE    691408\n",
       " 49.89487839440353 41.935116621490096 ... NOT_AVAILABLE    583838\n",
       "160.98628310403117 58.125564453570256 ...      VARIABLE     50388\n",
       " 261.0003514781842   60.7477214367325 ... NOT_AVAILABLE    261213"
      ]
     },
     "metadata": {},
     "output_type": "display_data"
    }
   ],
   "source": [
    "# Make selection\n",
    "sel_otype = rc.tt_sources[\"otype\"] ==  \"RR*\"# \"No*\"#\"HS?\" #\"BS*\" #\"PM*\" # # \"SN*\" #\"EB*\"\n",
    "sel_otypes = (rc.tt_sources[\"otype\"] ==  \"WD?\")  + (rc.tt_sources[\"otype\"] ==\"WD*\") + (rc.tt_sources[\"ogrp_gaiadr3\"] ==\"WD*\")\n",
    "sel_flux_nxv = rc.tt_sources[\"flux_nxv\"][:,0]>2\n",
    "sel_flux_hr = rc.tt_sources[\"hr\"]>2\n",
    "sel_src_id = rc.tt_sources[\"rg_src_id\"]==15179\n",
    "sel_period = (rc.tt_sources[\"ls_peak_pval\"]>-0.5) * (rc.tt_sources[\"ls_peak_pval\"]<0.000000573303) * (rc.tt_sources[\"ls_model_rchiq\"]<1.1)# # 3 sigma 0.002699796063, 4 sigma 0.000063342484, 5 sigma 0.000000573303\n",
    "sel_srcs =  sel_otypes #sel_period #sel_otypes  #sel_src_id  #sel_flux_nxv #sel_otype # sel_flux_nxv_fuv # sel_flux_hr#\n",
    "\n",
    "#Print oout list of source IDs to be used for further use, e.g. in inspect_sources.ipynb\n",
    "print(\"\\nsrcs_ids = [\", end=\"\")\n",
    "for src_id in rc.tt_sources[sel_srcs][\"rg_src_id\"].data:\n",
    "    print(src_id,\",\", end=\"\")\n",
    "print(\"]\\n\")\n",
    "print(\"Total Nr. of sources:\",sel_srcs.sum(),\"\\n\")\n",
    "\n",
    "#Display match and simbad table for selected sources\n",
    "cols_write = [\"ra\",\"dec\",\"ogrp_gaiadr3\",\"otype\",\"sp_type\",\"main_id\",\"nr_det\",\"flux\",\"flux_cpval\",\"flux_ne\",\"Plx_dist\",\"ls_peak_pval\",\"ls_model_rchiq\",\"VarFlag\",\"rg_src_id\"]\n",
    "display(rc.tt_sources[sel_srcs][cols_write] )#[\"sp_type\",\"main_id\"]\n",
    "rc.tt_sources[sel_srcs][cols_write].write(\"sources.ecsv\",overwrite=True,delimiter=',')"
   ]
  },
  {
   "cell_type": "code",
   "execution_count": null,
   "id": "1e96156e-d1ef-4d8a-81ca-ecc8dfbe8238",
   "metadata": {},
   "outputs": [],
   "source": []
  }
 ],
 "metadata": {
  "kernelspec": {
   "display_name": "Python 3 (ipykernel)",
   "language": "python",
   "name": "python3"
  },
  "language_info": {
   "codemirror_mode": {
    "name": "ipython",
    "version": 3
   },
   "file_extension": ".py",
   "mimetype": "text/x-python",
   "name": "python",
   "nbconvert_exporter": "python",
   "pygments_lexer": "ipython3",
   "version": "3.10.12"
  }
 },
 "nbformat": 4,
 "nbformat_minor": 5
}
