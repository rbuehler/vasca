{
 "cells": [
  {
   "cell_type": "code",
   "execution_count": 1,
   "id": "73dca955-5887-4a96-b932-4339b3635a2d",
   "metadata": {},
   "outputs": [],
   "source": [
    "#Select VASCA sources based on chosen criteria"
   ]
  },
  {
   "cell_type": "code",
   "execution_count": 2,
   "id": "4f80db66-a40c-473c-9993-7ef764a1861a",
   "metadata": {},
   "outputs": [],
   "source": [
    "region_name = \"ALL_10-800_LOOSE\" #\"CAINGSGII_10-800\" #\"TDS\" #\"CAINGSGII_10-800\" #\"WD\" #\"MDIS_10-800\" #\"TDS\" #  _ELAISN1\n",
    "region_cat_fname = \"./vasca_pipeline/\"+region_name+\"/region_\"+region_name+\"_cat.fits\""
   ]
  },
  {
   "cell_type": "code",
   "execution_count": 3,
   "id": "593676f1-65b6-4173-8fb6-fc6a0e81ef5d",
   "metadata": {},
   "outputs": [],
   "source": [
    "### Prepare tt_sources with variables for selection"
   ]
  },
  {
   "cell_type": "code",
   "execution_count": 4,
   "id": "3a81e293-e136-402c-aafb-b2f2ff5221e5",
   "metadata": {},
   "outputs": [
    {
     "name": "stderr",
     "output_type": "stream",
     "text": [
      "WARNING: UnitsWarning: 'log(cm.s**-2)' did not parse as fits unit: 'log' is not a recognized function If this is meant to be a custom unit, define it with 'u.def_unit'. To have it recognized inside a file reader or other code, enable it with 'u.add_enabled_units'. For details, see https://docs.astropy.org/en/latest/units/combining_and_defining.html [astropy.units.core]\n"
     ]
    },
    {
     "name": "stdout",
     "output_type": "stream",
     "text": [
      "Number of SIMBAD matches is: 5508  (52.89541918755402 )%\n",
      "Number of GAIA matches is: 7952  (76.36608086046289 )%\n",
      "Total number of matches is: 8696  (83.51099587054644 )%\n"
     ]
    },
    {
     "data": {
      "text/html": [
       "<div><i>Table length=56</i>\n",
       "<table id=\"table140161660968944\" class=\"table-striped table-bordered table-condensed\">\n",
       "<thead><tr><th>main_id</th><th>ra</th><th>dec</th><th>ra_prec</th><th>dec_prec</th><th>coo_err_maja</th><th>coo_err_mina</th><th>coo_err_angle</th><th>coo_qual</th><th>coo_wavelength</th><th>coo_bibcode</th><th>otype</th><th>otypes</th><th>distance_distance</th><th>distance_q</th><th>distance_unit</th><th>distance_merr</th><th>distance_perr</th><th>distance_method</th><th>distance_bibcode</th><th>match_distance</th><th>rvz_type</th><th>rvz_radvel</th><th>rvz_error</th><th>rvz_qual</th><th>rvz_wavelength</th><th>rvz_bibcode</th><th>z_value</th><th>sp_type</th><th>sp_qual</th><th>sp_bibcode</th><th>script_number_id</th><th>rg_src_id</th><th>simbad_match_id</th><th>ogrp</th></tr></thead>\n",
       "<thead><tr><th></th><th>deg</th><th>deg</th><th></th><th></th><th>mas</th><th>mas</th><th>deg</th><th></th><th></th><th></th><th></th><th></th><th></th><th></th><th></th><th></th><th></th><th></th><th></th><th>arcsec</th><th></th><th>km / s</th><th>km / s</th><th></th><th></th><th></th><th></th><th></th><th></th><th></th><th></th><th></th><th></th><th></th></tr></thead>\n",
       "<thead><tr><th>bytes32</th><th>float64</th><th>float64</th><th>int16</th><th>int16</th><th>float32</th><th>float32</th><th>int16</th><th>bytes1</th><th>bytes1</th><th>bytes32</th><th>bytes32</th><th>bytes32</th><th>float64</th><th>bytes1</th><th>bytes4</th><th>float64</th><th>float64</th><th>bytes8</th><th>bytes19</th><th>float32</th><th>bytes1</th><th>float64</th><th>float32</th><th>bytes1</th><th>bytes1</th><th>bytes32</th><th>float64</th><th>bytes32</th><th>bytes32</th><th>bytes32</th><th>int32</th><th>int32</th><th>int32</th><th>bytes8</th></tr></thead>\n",
       "<tr><td>GALEX J221729.2+000833</td><td>334.3718966666666</td><td>0.14262111111111112</td><td>14</td><td>14</td><td>0.197</td><td>0.177</td><td>90</td><td>A</td><td>O</td><td>2020yCat.1350....0G</td><td>WD*</td><td>WD*|WD*|WD*|WD*|WD*|WD*|*|G|Opt|</td><td>319.8670</td><td>--</td><td>pc</td><td>-23.3176</td><td>23.3176</td><td>paral</td><td>2020yCat.1350....0G</td><td>0.4493</td><td>z</td><td>-0.000</td><td>0.000</td><td>E</td><td>--</td><td>2008ApJS..175..297A</td><td>-0.0000100</td><td>DB</td><td>D</td><td>2006ApJS..167...40E</td><td>101</td><td>4993</td><td>77</td><td>WD*</td></tr>\n",
       "<tr><td>GALEX J221613.5+010456</td><td>334.05641333333324</td><td>1.0822822222222221</td><td>14</td><td>14</td><td>0.290</td><td>0.205</td><td>90</td><td>A</td><td>O</td><td>2020yCat.1350....0G</td><td>WD*</td><td>WD*|WD*|WD*|WD*|WD*|*|Opt|UV|WD?</td><td>153.2380</td><td>--</td><td>pc</td><td>-8.2609</td><td>8.2609</td><td>paral</td><td>2020yCat.1350....0G</td><td>0.1086</td><td>z</td><td>0.000</td><td>0.000</td><td>E</td><td>--</td><td>2008ApJS..175..297A</td><td>0.0000900</td><td>DA</td><td>D</td><td>2006ApJS..167...40E</td><td>315</td><td>14504</td><td>234</td><td>WD*</td></tr>\n",
       "<tr><td>VIPERS 406014492</td><td>334.8938645833333</td><td>0.881735</td><td>14</td><td>14</td><td>0.349</td><td>0.319</td><td>90</td><td>A</td><td>O</td><td>2020yCat.1350....0G</td><td>WD?</td><td>*|*|G|WD?|WD?</td><td>--</td><td>--</td><td>--</td><td>--</td><td>--</td><td>--</td><td>--</td><td>0.4710</td><td>--</td><td>--</td><td>--</td><td>--</td><td>--</td><td>--</td><td>--</td><td>--</td><td>--</td><td>--</td><td>525</td><td>30475</td><td>380</td><td>WD*</td></tr>\n",
       "<tr><td>V* V2276 Sgr</td><td>306.59244125</td><td>-43.6754825</td><td>14</td><td>14</td><td>0.331</td><td>0.248</td><td>90</td><td>A</td><td>O</td><td>2020yCat.1350....0G</td><td>CV*</td><td>CV*|V*|*|WD?</td><td>--</td><td>--</td><td>--</td><td>--</td><td>--</td><td>--</td><td>--</td><td>0.2714</td><td>--</td><td>--</td><td>--</td><td>--</td><td>--</td><td>--</td><td>--</td><td>--</td><td>--</td><td>--</td><td>585</td><td>34280</td><td>419</td><td>WD*</td></tr>\n",
       "<tr><td>V* IY UMa</td><td>160.98645291666665</td><td>58.12553333333334</td><td>14</td><td>14</td><td>0.036</td><td>0.046</td><td>90</td><td>A</td><td>O</td><td>2020yCat.1350....0G</td><td>CV*</td><td>PM*|CV*|CV*|V*|PM*|NIR|*|*|CV?|C</td><td>182.0470</td><td>--</td><td>pc</td><td>-2.2337</td><td>2.2337</td><td>paral</td><td>2020yCat.1350....0G</td><td>0.3422</td><td>z</td><td>0.001</td><td>0.000</td><td>E</td><td>--</td><td>2009ApJS..182..543A</td><td>0.0005300</td><td>--</td><td>--</td><td>--</td><td>794</td><td>50388</td><td>539</td><td>WD*</td></tr>\n",
       "<tr><td>GALEX J100210.9+025821</td><td>150.54527416666664</td><td>2.9726219444444446</td><td>14</td><td>14</td><td>0.219</td><td>0.200</td><td>90</td><td>A</td><td>O</td><td>2020yCat.1350....0G</td><td>WD*</td><td>WD*|WD*|WD*|WD*|WD*|WD*|*|Opt|UV</td><td>526.9200</td><td>--</td><td>pc</td><td>-52.0300</td><td>52.0300</td><td>ST-L</td><td>2017MNRAS.469.2102A</td><td>0.5164</td><td>z</td><td>0.000</td><td>0.000</td><td>E</td><td>--</td><td>2008ApJS..175..297A</td><td>0.0000600</td><td>DA</td><td>D</td><td>2006ApJS..167...40E</td><td>846</td><td>52994</td><td>580</td><td>WD*</td></tr>\n",
       "<tr><td>...</td><td>...</td><td>...</td><td>...</td><td>...</td><td>...</td><td>...</td><td>...</td><td>...</td><td>...</td><td>...</td><td>...</td><td>...</td><td>...</td><td>...</td><td>...</td><td>...</td><td>...</td><td>...</td><td>...</td><td>...</td><td>...</td><td>...</td><td>...</td><td>...</td><td>...</td><td>...</td><td>...</td><td>...</td><td>...</td><td>...</td><td>...</td><td>...</td><td>...</td><td>...</td></tr>\n",
       "<tr><td>GALEX J191654.1-244628</td><td>289.2254916666666</td><td>-24.774540555555554</td><td>14</td><td>14</td><td>0.153</td><td>0.150</td><td>90</td><td>A</td><td>O</td><td>2020yCat.1350....0G</td><td>WD?</td><td>*|UV|WD?|WD?|WD?</td><td>162.8480</td><td>--</td><td>pc</td><td>-5.1050</td><td>5.1050</td><td>paral</td><td>2020yCat.1350....0G</td><td>0.6672</td><td>--</td><td>--</td><td>--</td><td>--</td><td>--</td><td>--</td><td>--</td><td>--</td><td>--</td><td>--</td><td>7488</td><td>1070938</td><td>4098</td><td>WD*</td></tr>\n",
       "<tr><td>ZTF18absmovx</td><td>253.91191666666663</td><td>-4.15625</td><td>6</td><td>6</td><td>--</td><td>--</td><td>0</td><td>D</td><td>O</td><td>2021AJ....162...94S</td><td>CV?</td><td>CV?|ev</td><td>--</td><td>--</td><td>--</td><td>--</td><td>--</td><td>--</td><td>--</td><td>0.5316</td><td>--</td><td>--</td><td>--</td><td>--</td><td>--</td><td>--</td><td>--</td><td>--</td><td>--</td><td>--</td><td>7836</td><td>1255730</td><td>4236</td><td>WD*</td></tr>\n",
       "<tr><td>V* MQ Dra</td><td>238.37966583333332</td><td>55.2706875</td><td>14</td><td>14</td><td>0.055</td><td>0.066</td><td>90</td><td>A</td><td>O</td><td>2020yCat.1350....0G</td><td>CV*</td><td>EB*|V*|CV*|V*|CV*|NIR|*|Opt|X</td><td>186.2340</td><td>--</td><td>pc</td><td>-3.2116</td><td>3.2116</td><td>paral</td><td>2018yCat.1345....0G</td><td>0.2065</td><td>z</td><td>-0.000</td><td>0.000</td><td>E</td><td>--</td><td>2008ApJS..175..297A</td><td>-0.0003500</td><td>M5Ve</td><td>D</td><td>2003ApJ...583..902S</td><td>8272</td><td>1473877</td><td>4520</td><td>WD*</td></tr>\n",
       "<tr><td>GALEX J140000.3+031251</td><td>210.00146291666664</td><td>3.2144083333333335</td><td>14</td><td>14</td><td>0.186</td><td>0.135</td><td>90</td><td>A</td><td>O</td><td>2020yCat.1350....0G</td><td>WD*</td><td>WD*|WD*|WD*|WD*|WD*|WD*|*|Opt|UV</td><td>313.7650</td><td>--</td><td>pc</td><td>-20.6052</td><td>20.6052</td><td>paral</td><td>2020yCat.1350....0G</td><td>0.2679</td><td>v</td><td>19.000</td><td>10.000</td><td>D</td><td>O</td><td>2019MNRAS.486.2169K</td><td>0.0000630</td><td>DA</td><td>D</td><td>2006ApJS..167...40E</td><td>8834</td><td>1805505</td><td>4860</td><td>WD*</td></tr>\n",
       "<tr><td>Gaia DR3 6175066552397551616</td><td>207.03526291666665</td><td>-30.479195833333332</td><td>14</td><td>14</td><td>0.464</td><td>0.349</td><td>90</td><td>A</td><td>O</td><td>2020yCat.1350....0G</td><td>WD?</td><td>*|WD?</td><td>--</td><td>--</td><td>--</td><td>--</td><td>--</td><td>--</td><td>--</td><td>0.1621</td><td>--</td><td>--</td><td>--</td><td>--</td><td>--</td><td>--</td><td>--</td><td>--</td><td>--</td><td>--</td><td>8875</td><td>1839206</td><td>4876</td><td>WD*</td></tr>\n",
       "<tr><td>Gaia DR3 2522087431383099392</td><td>10.880957083333332</td><td>-9.212593055555555</td><td>14</td><td>14</td><td>0.283</td><td>0.166</td><td>90</td><td>A</td><td>O</td><td>2020yCat.1350....0G</td><td>WD?</td><td>*|WD?</td><td>--</td><td>--</td><td>--</td><td>--</td><td>--</td><td>--</td><td>--</td><td>0.4423</td><td>--</td><td>--</td><td>--</td><td>--</td><td>--</td><td>--</td><td>--</td><td>--</td><td>--</td><td>--</td><td>10260</td><td>3074917</td><td>5549</td><td>WD*</td></tr>\n",
       "</table></div>"
      ],
      "text/plain": [
       "<Table length=56>\n",
       "          main_id                    ra         ... simbad_match_id  ogrp \n",
       "                                    deg         ...                       \n",
       "          bytes32                 float64       ...      int32      bytes8\n",
       "---------------------------- ------------------ ... --------------- ------\n",
       "      GALEX J221729.2+000833  334.3718966666666 ...              77    WD*\n",
       "      GALEX J221613.5+010456 334.05641333333324 ...             234    WD*\n",
       "            VIPERS 406014492  334.8938645833333 ...             380    WD*\n",
       "                V* V2276 Sgr       306.59244125 ...             419    WD*\n",
       "                   V* IY UMa 160.98645291666665 ...             539    WD*\n",
       "      GALEX J100210.9+025821 150.54527416666664 ...             580    WD*\n",
       "                         ...                ... ...             ...    ...\n",
       "      GALEX J191654.1-244628  289.2254916666666 ...            4098    WD*\n",
       "                ZTF18absmovx 253.91191666666663 ...            4236    WD*\n",
       "                   V* MQ Dra 238.37966583333332 ...            4520    WD*\n",
       "      GALEX J140000.3+031251 210.00146291666664 ...            4860    WD*\n",
       "Gaia DR3 6175066552397551616 207.03526291666665 ...            4876    WD*\n",
       "Gaia DR3 2522087431383099392 10.880957083333332 ...            5549    WD*"
      ]
     },
     "metadata": {},
     "output_type": "display_data"
    }
   ],
   "source": [
    "%matplotlib widget\n",
    "import ipywidgets as widgets\n",
    "from IPython.display import display\n",
    "import matplotlib.pyplot as plt\n",
    "import numpy as np\n",
    "from astropy.table import Table\n",
    "from vasca.region import Region\n",
    "import vasca.visualization as vvis\n",
    "from vasca.utils import otype2ogroup,dd_ogrp2otypes, dd_ogrp2col, get_col_cycler,add_ogrp, color_palette, nb_fig\n",
    "from astropy import units as uu\n",
    "from astropy.table import Column\n",
    "\n",
    "# Get region\n",
    "rc = Region()\n",
    "rc.load_from_fits(region_cat_fname)\n",
    "rc.tt_sources.sort([\"dec\"])\n",
    "\n",
    "#Add Object group to source table\n",
    "rc.copy_table_columns(\"tt_sources\",\"tt_simbad\",[\"otype\",\"ogrp\",\"match_distance\",\"sp_type\",\"main_id\"],\"rg_src_id\")\n",
    "rc.tt_sources.rename_column(\"match_distance\",\"match_distance_simbad\")\n",
    "rc.tt_sources.rename_column(\"ogrp\",\"ogrp_simbad\")\n",
    "sel_simbad = rc.tt_sources[\"sel\"].data\n",
    "print(f\"Number of SIMBAD matches is: {sel_simbad.sum()}  ({100* sel_simbad.sum() / len(rc.tt_sources)} )%\")\n",
    "\n",
    "rc.copy_table_columns(\"tt_sources\",\"tt_gaiadr3\",[\"PQSO\", \"PGal\", \"PSS\",\"match_distance\",\"Gmag_abs\",\"BP-RP\", \"ogrp\", \"Plx\",\"e_Plx\",\"Plx_dist\"],\"rg_src_id\")\n",
    "rc.tt_sources.rename_column(\"match_distance\",\"match_distance_gaiadr3\")\n",
    "rc.tt_sources.rename_column(\"ogrp\",\"ogrp_gaiadr3\")\n",
    "sel_gaiadr3 = rc.tt_sources[\"sel\"].data\n",
    "print(f\"Number of GAIA matches is: {sel_gaiadr3.sum()}  ({100*sel_gaiadr3.sum() / len(rc.tt_sources)} )%\")\n",
    "\n",
    "sel_match = np.array(sel_simbad+sel_gaiadr3, dtype=bool)\n",
    "print(f\"Total number of matches is: {sel_match.sum()}  ({100*sel_match.sum() / len(rc.tt_sources)} )%\")\n",
    "\n",
    "#Copy lomb scargle result into tt_sources\n",
    "rc.copy_table_columns(\"tt_sources\",\"tt_lombscargle\",[\"ls_peak_pval\", \"ls_model_rchiq\"],\"rg_src_id\")\n",
    "\n",
    "display(rc.tt_simbad[rc.tt_simbad[\"ogrp\"]==\"WD*\"])"
   ]
  },
  {
   "cell_type": "markdown",
   "id": "09f0834f-a5c7-4db1-aa77-b593f93ed1ca",
   "metadata": {},
   "source": [
    "### Print info for selected sources"
   ]
  },
  {
   "cell_type": "code",
   "execution_count": 5,
   "id": "52c7472a-a628-488d-a500-dfbfaffa8610",
   "metadata": {},
   "outputs": [
    {
     "name": "stdout",
     "output_type": "stream",
     "text": [
      "\n",
      "srcs_ids = [253670 ,253214 ,540235 ,1037284 ,659787 ,680119 ,256433 ,1839206 ,498065 ,666224 ,1070938 ,1069077 ,714140 ,236839 ,764827 ,3074917 ,13580 ,645730 ,639720 ,645215 ,162697 ,221349 ,4993 ,228958 ,30475 ,14504 ,120265 ,138783 ,139480 ,52994 ,1805505 ,2527679 ,381336 ,532554 ,533185 ,204419 ,390864 ,525310 ,331466 ,489430 ,340464 ,673175 ,79477 ,691408 ,583838 ,50388 ,261213 ,]\n",
      "\n",
      "Total Nr. of sources: 47 \n",
      "\n",
      "        ra                 dec          ogrp_gaiadr3 otype sp_type           main_id              nr_det            flux                    flux_cpval                    flux_ne            Plx_dist  ls_peak_pval  ls_model_rchiq rg_src_id\n",
      "       deg                 deg                                                                                    1e-06 Jy                                                                      pc                                           \n",
      "------------------ -------------------- ------------ ----- ------- ---------------------------- --------- ----------------------- ------------------------------ -------------------------- --------- -------------- -------------- ---------\n",
      "302.19601541246413   -48.86194592748431         none   WD?               GALEX J200847.0-485142   17 .. 6   398.86325 .. 688.0984   4.3121627e-23 .. 0.009076236           0.03252131 .. -- 11820.331           -1.0           -1.0    253670\n",
      " 303.0110051436914   -48.39410878608832        Star*   WD?         Gaia DR3 6669015352243852800   18 .. 6  145.71657 .. 53.254395           0.0 .. 4.5389494e-19   0.10808045 .. 0.30587494 20120.725           -1.0           -1.0    253214\n",
      " 79.85087717838213   -48.00660083372566          WD*  none    none                         none  19 .. 14  10.857628 .. 4.2883177    3.626451e-12 .. 0.092903994   0.17871925 .. 0.15028058 433.78302           -1.0           -1.0    540235\n",
      "300.10991648653743   -47.03423566870643          WD*   WD?               GALEX J200026.3-470202   4 .. -1       530.47546 .. -1.0          4.2548773e-09 .. -1.0          0.032412373 .. -- 231.72285           -1.0           -1.0   1037284\n",
      "17.908561463231784   -46.12420985667207          WD*  none    none                         none   12 .. 2   210.91878 .. 51.06775     4.8612658e-20 .. 0.8805627           0.05030113 .. -- 152.56229           -1.0           -1.0    659787\n",
      "10.977684093078867   -41.85486577381306          WD*   WD?              [ICS96] 004131.9-420744  23 .. 22  173.58986 .. 264.54852            1.711602e-24 .. 0.0 0.038278796 .. 0.093179375  544.7216  1.2344277e-06      1.1728556    680119\n",
      "284.04060189455356   -35.98876422195317          WD*  none    none                         none    8 .. 1   41.53139 .. 4.8025274          1.5162082e-07 .. -1.0          0.096350424 .. -- 735.13196           -1.0           -1.0    256433\n",
      "207.03531485024087  -30.479189687581155        Star*   WD?         Gaia DR3 6175066552397551616  15 .. -1        144.8098 .. -1.0          1.1032699e-20 .. -1.0           0.06024735 .. --       nan           -1.0           -1.0   1839206\n",
      " 150.8184749089036  -25.618061803671175          WD*   WD?         Gaia DR2 5467193995704762112   12 .. 7  455.18253 .. 575.21576 1.4524174e-09 .. 1.7261269e-05   0.03017665 .. 0.03115875 207.96506           -1.0           -1.0    498065\n",
      "12.321346896575118  -25.432354111852238          WD*   WD*      DA       GALEX J004917.1-252556   11 .. 1   73.65472 .. 41.309494          1.0632669e-08 .. -1.0          0.042591758 .. --  99.60556           -1.0           -1.0    666224\n",
      " 289.2255855772187  -24.774705471689778          WD*   WD?               GALEX J191654.1-244628  12 .. -1       114.39852 .. -1.0          8.0754126e-10 .. -1.0           0.04183656 .. -- 162.84789           -1.0           -1.0   1070938\n",
      "289.38193004645626  -24.317275553240115        Star*   WD?               GALEX J191731.6-241902  14 .. -1       192.32353 .. -1.0          2.9986267e-12 .. -1.0          0.031603035 .. --  2151.926           -1.0           -1.0   1069077\n",
      " 8.803780466923735  -12.419146721028543         none   WD?                           LP  705-64   11 .. 9  140.58951 .. 10.914086     4.5734344e-30 .. 0.6183368           0.08407008 .. --      -1.0           -1.0           -1.0    714140\n",
      "329.23559065772406      -9.647754026686          WD*   WD?         Gaia DR2 2617525521709761792  16 .. 13     459.363 .. 668.7456      8.959e-42 .. 7.397734e-08 0.039238203 .. 0.026980177 283.92154           -1.0           -1.0    236839\n",
      " 357.1212025536532   -9.416754993209635          WD*   WD*      DA       GALEX J234829.1-092500  14 .. -1       16.348429 .. -1.0          1.6703516e-17 .. -1.0           0.13284323 .. -- 403.82828           -1.0           -1.0    764827\n",
      "10.880859092668379   -9.212517701516024          WD*   WD?         Gaia DR3 2522087431383099392  14 .. -1       131.92952 .. -1.0             5.6224e-07 .. -1.0          0.027190022 .. -- 832.29297           -1.0           -1.0   3074917\n",
      "  35.2418133124936  -5.3268123630922135          WD*   QSO             SDSS J022058.05-051936.9  67 .. 39  15.821138 .. 6.6184993           0.0 .. 0.00016123278   0.13491532 .. 0.12821697 335.84094 0.000118549106      4.4332905     13580\n",
      "30.672836308469364   -4.988620929212611         none   WD?               GALEX J020241.4-045919  62 .. -1       268.67355 .. -1.0                    0.0 .. -1.0          0.029517174 .. -- 1381.0248      0.9983492      5.7439137    645730\n",
      "32.168953126513905   -4.981430853671862          WD*   WD?               GALEX J020840.5-045851  44 .. -1       52.124275 .. -1.0         1.09652264e-13 .. -1.0          0.044827994 .. -- 193.96008     0.44873324       2.623656    639720\n",
      " 30.96292800324037    -4.70405386705325          WD*   WD?               GALEX J020351.0-044214  39 .. -1        537.8872 .. -1.0                    0.0 .. -1.0           0.06303193 .. --  777.0008     0.04566647      23.023289    645215\n",
      "37.360210370819004  -4.2241348502496825          WD*   WD?                     VIPERS 126088156   41 .. 1    70.23232 .. 64.39634           4.500818e-10 .. -1.0          0.030417629 .. -- 278.73788    0.014863136      1.8935288    162697\n",
      " 334.6190008630954 -0.00334150877900888          WD*   WD*     DAH                     PB  5130    7 .. 2  121.26045 .. 42.269413      2.65163e-07 .. 0.00661471   0.04008117 .. 0.07513158 121.74485           -1.0           -1.0    221349\n",
      "334.37177337994245  0.14260354697811373          WD*   WD*      DB       GALEX J221729.2+000833 149 .. 75  138.31387 .. 137.74933           0.0 .. 2.9569552e-12 0.032552835 .. 0.034244664 319.86694    0.008928546      3.5938787      4993\n",
      " 333.5413643717583   0.8794312141279352          AGN   WD*      DC       GALEX J221409.8+005245   34 .. 5  19.755316 .. 4.9333982              0.0 .. 0.67645735            0.2530931 .. --       nan  1.6815713e-09      4.9599805    228958\n",
      "334.89381197775845   0.8818548523370469          WD*   WD?                     VIPERS 406014492 107 .. 67     73.96888 .. 97.4021  5.322324e-07 .. 3.1927897e-08 0.029385706 .. 0.053867504  435.0285    0.003767448      1.4492389     30475\n",
      " 334.0564353836822   1.0823032174516622          WD*   WD*      DA       GALEX J221613.5+010456   60 .. 8    38.38036 .. 2.679372     1.1513696e-09 .. 0.9945474          0.037385527 .. -- 153.23792      0.2466465       2.034905     14504\n",
      "187.20402287626274   1.7802263377138512          WD*   WD?                 2QZ J122849.0+014648   29 .. 4  134.20035 .. 213.80635   2.4660549e-25 .. 0.021676127  0.04168697 .. 0.094270594   697.496    0.023714075      3.4335945    120265\n",
      "149.50430287014058    2.213943745696226          WD*     X                XMMU J095800.9+021250    4 .. 1   3.902144 .. 17.025454                    0.0 .. -1.0            5.8442936 .. -- 125.44691           -1.0           -1.0    138783\n",
      "149.17864716184437   2.6357481960855296          WD*   WD*      DA       GALEX J095642.9+023809   25 .. 7   50.357143 .. 57.38417     4.8120942e-08 .. 0.9805307          0.065138265 .. --  498.4051     0.39397725       2.076794    139480\n",
      "150.54540974779889   2.9726705626470653          WD*   WD*      DA       GALEX J100210.9+025821  64 .. 25 121.049805 .. 152.51727   2.4744158e-09 .. 3.07255e-06 0.026701514 .. 0.018240469 450.47073   0.0026768018      1.6505754     52994\n",
      "210.00141652944322     3.21446645812717         none   WD*      DA       GALEX J140000.3+031251  17 .. -1       147.22969 .. -1.0          2.3525176e-13 .. -1.0           0.05264253 .. --      -1.0           -1.0           -1.0   1805505\n",
      "123.35939395926069    3.353465465397161          WD*  none    none                         none   3 .. -1        9.705873 .. -1.0                    0.0 .. -1.0            2.6781895 .. -- 500.57565           -1.0           -1.0   2527679\n",
      "209.32965593730242    5.000049592120219         none   WD?         Gaia DR3 3672000637815544064   13 .. 8   99.70575 .. 163.47163    1.0801385e-08 .. 0.07019813 0.034052692 .. 0.015046269 1945.5253           -1.0           -1.0    381336\n",
      "  89.1671799173076    6.904947267404637          WD*   WD?               GALEX J055640.1+065417  36 .. 32  280.88846 .. 464.45712 2.848792e-31 .. 1.09169505e-26   0.032825734 .. 0.0349534 257.38037      0.0989173      4.3794646    532554\n",
      " 88.21274942355635     7.30964792737763          WD*   WD?         Gaia DR2 3322878659180522624  34 .. 33   371.0968 .. 224.73141  8.930607e-23 .. 4.5804658e-21 0.025393123 .. 0.047788914  159.7342      0.5346975      4.0738444    533185\n",
      " 348.9035688841206   19.413759373254578          WD*   WD?             SDSS J231536.88+192448.9   15 .. 4  126.54991 .. 38.594788     7.254839e-15 .. 0.45650917 0.042335905 .. 0.055154216 168.92747           -1.0           -1.0    204419\n",
      "201.36843458081592   27.371845903302667          WD*  none    none                         none 159 .. 18  13.366301 .. 3.6222548     4.292959e-39 .. 0.09242948          0.090495326 .. -- 383.58267  8.9762385e-14      2.0168195    390864\n",
      " 140.6270170393252   30.094889305952442          WD*   WD*      DA       GALEX J092230.4+300541  18 .. -1       116.75435 .. -1.0          2.0280349e-20 .. -1.0          0.045277294 .. -- 480.79236           -1.0           -1.0    525310\n",
      "219.22853678357765   34.066705416455534        Star*   WD?               GALEX J143654.8+340400   23 .. 1  30.567654 .. 37.433167          5.1660697e-28 .. -1.0            0.1085327 .. --  713.3176     0.02608318       4.050283    331466\n",
      "153.71556375792142   34.826414103061104          WD*  none    none                         none   28 .. 2  3.1363504 .. 1.4727683      1.682445e-36 .. 0.7436595             0.646364 .. -- 108.51872      0.9999997       8.251534    489430\n",
      "218.05244112116156   35.840909818341125          WD*   WD?         Gaia DR2 1480420251349953920  19 .. 11  14.738803 .. 6.3933945    2.515735e-26 .. 0.072899885   0.21884009 .. 0.16464248  377.5437           -1.0           -1.0    340464\n",
      "11.492665711353501   40.333499202354595          WD*  none    none                         none  67 .. -1        41.64287 .. -1.0          2.6046807e-08 .. -1.0          0.038185578 .. -- 1372.4952   9.216402e-05      1.4213517    673175\n",
      " 9.974460437212938    40.66513671157182          WD*  none    none                         none   46 .. 6  60.771236 .. 58.456455    3.7028865e-08 .. 0.03668479  0.029154323 .. 0.04182261  142.7878   0.0056931046       1.640739     79477\n",
      "10.300977984620214    41.83352144076305         none   WD?          Gaia DR3 381342449635008128   29 .. 5   62.991554 .. 104.6912      2.9536553e-09 .. 0.508178  0.03838789 .. 0.004407491 2032.9335   0.0003252659      1.2801787    691408\n",
      " 49.89487839440353   41.935116621490096          WD*  none    none                         none  12 .. 10   146.99852 .. 48.61109   7.1037353e-20 .. 0.005771271  0.051071703 .. 0.05662148 204.54918           -1.0           -1.0    583838\n",
      "160.98628310403117   58.125564453570256          WD*   CV*                            V* IY UMa   43 .. 3   200.6113 .. 207.43813            0.0 .. 7.736314e-22   0.24173336 .. 0.14491995 182.04657     0.16768725      209.25395     50388\n",
      " 261.0003514781842     60.7477214367325          WD*   WD?              ZTF J172400.04+604451.8  25 .. 14    43.02675 .. 51.41957           0.0 .. 1.3405661e-31    0.1475958 .. 0.08222167 689.22736     0.19052197      15.530447    261213\n"
     ]
    }
   ],
   "source": [
    "# Make selection\n",
    "sel_otype = rc.tt_sources[\"otype\"] ==  \"RR*\"# \"No*\"#\"HS?\" #\"BS*\" #\"PM*\" # # \"SN*\" #\"EB*\"\n",
    "sel_otypes = (rc.tt_sources[\"otype\"] ==  \"WD?\")  + (rc.tt_sources[\"otype\"] ==\"WD*\") + (rc.tt_sources[\"ogrp_gaiadr3\"] ==\"WD*\")\n",
    "sel_flux_nxv = rc.tt_sources[\"flux_nxv\"][:,0]>2\n",
    "sel_flux_hr = rc.tt_sources[\"hr\"]>2\n",
    "sel_src_id = rc.tt_sources[\"rg_src_id\"]==15179\n",
    "sel_period = (rc.tt_sources[\"ls_peak_pval\"]>-0.5) * (rc.tt_sources[\"ls_peak_pval\"]<0.000000573303) * (rc.tt_sources[\"ls_model_rchiq\"]<1.1)# # 3 sigma 0.002699796063, 4 sigma 0.000063342484, 5 sigma 0.000000573303\n",
    "sel_srcs =  sel_otypes #sel_period #sel_otypes  #sel_src_id  #sel_flux_nxv #sel_otype # sel_flux_nxv_fuv # sel_flux_hr#\n",
    "\n",
    "#Print oout list of source IDs to be used for further use, e.g. in inspect_sources.ipynb\n",
    "print(\"\\nsrcs_ids = [\", end=\"\")\n",
    "for src_id in rc.tt_sources[sel_srcs][\"rg_src_id\"].data:\n",
    "    print(src_id,\",\", end=\"\")\n",
    "print(\"]\\n\")\n",
    "print(\"Total Nr. of sources:\",sel_srcs.sum(),\"\\n\")\n",
    "\n",
    "#Display match and simbad table for selected sources\n",
    "cols_write = [\"ra\",\"dec\",\"ogrp_gaiadr3\",\"otype\",\"sp_type\",\"main_id\",\"nr_det\",\"flux\",\"flux_cpval\",\"flux_ne\",\"Plx_dist\",\"ls_peak_pval\",\"ls_model_rchiq\",\"rg_src_id\"]\n",
    "rc.tt_sources[sel_srcs][cols_write].pprint_all() #[\"sp_type\",\"main_id\"]\n",
    "rc.tt_sources[sel_srcs][cols_write].write(\"sources.ecsv\",overwrite=True,delimiter=',')"
   ]
  },
  {
   "cell_type": "code",
   "execution_count": null,
   "id": "1e96156e-d1ef-4d8a-81ca-ecc8dfbe8238",
   "metadata": {},
   "outputs": [],
   "source": []
  }
 ],
 "metadata": {
  "kernelspec": {
   "display_name": "Python 3 (ipykernel)",
   "language": "python",
   "name": "python3"
  },
  "language_info": {
   "codemirror_mode": {
    "name": "ipython",
    "version": 3
   },
   "file_extension": ".py",
   "mimetype": "text/x-python",
   "name": "python",
   "nbconvert_exporter": "python",
   "pygments_lexer": "ipython3",
   "version": "3.10.12"
  }
 },
 "nbformat": 4,
 "nbformat_minor": 5
}
