{
 "cells": [
  {
   "cell_type": "markdown",
   "id": "ba8e5203-a2c2-4d41-a2dc-b8628877d0cc",
   "metadata": {},
   "source": [
    "#Select VASCA sources based on chosen criteria"
   ]
  },
  {
   "cell_type": "code",
   "execution_count": 1,
   "id": "4f80db66-a40c-473c-9993-7ef764a1861a",
   "metadata": {},
   "outputs": [],
   "source": [
    "region_name = \"ALL_10-800\" #\"CAINGSGII_10-800\" #\"TDS\" #\"CAINGSGII_10-800\" #\"WD\" #\"MDIS_10-800\" #\"TDS\" #  _ELAISN1\n",
    "region_dir_name = \"./vasca_pipeline/\"+region_name+\"/\"\n",
    "region_cat_fname = region_dir_name+\"region_\"+region_name+\"_cat.fits\""
   ]
  },
  {
   "cell_type": "markdown",
   "id": "d7e5e14e-4c5e-49eb-9170-4ffc8bc1cde8",
   "metadata": {},
   "source": [
    "### Prepare tt_sources with variables for selection"
   ]
  },
  {
   "cell_type": "code",
   "execution_count": 2,
   "id": "3a81e293-e136-402c-aafb-b2f2ff5221e5",
   "metadata": {},
   "outputs": [
    {
     "name": "stderr",
     "output_type": "stream",
     "text": [
      "WARNING: UnitsWarning: 'log(cm.s**-2)' did not parse as fits unit: 'log' is not a recognized function If this is meant to be a custom unit, define it with 'u.def_unit'. To have it recognized inside a file reader or other code, enable it with 'u.add_enabled_units'. For details, see https://docs.astropy.org/en/latest/units/combining_and_defining.html [astropy.units.core]\n",
      "WARNING: MergeConflictWarning: Cannot merge meta key 'NAME' types <class 'str'> and <class 'str'>, choosing NAME='tt_simbad' [astropy.utils.metadata]\n",
      "WARNING: MergeConflictWarning: Cannot merge meta key 'EXTNAME' types <class 'str'> and <class 'str'>, choosing EXTNAME='tt_simbad' [astropy.utils.metadata]\n"
     ]
    },
    {
     "name": "stdout",
     "output_type": "stream",
     "text": [
      "Number of SIMBAD matches is: 2687  (63.945740123750596 )%\n"
     ]
    },
    {
     "name": "stderr",
     "output_type": "stream",
     "text": [
      "WARNING: MergeConflictWarning: Cannot merge meta key 'NAME' types <class 'str'> and <class 'str'>, choosing NAME='tt_gaiadr3' [astropy.utils.metadata]\n",
      "WARNING: MergeConflictWarning: Cannot merge meta key 'EXTNAME' types <class 'str'> and <class 'str'>, choosing EXTNAME='tt_gaiadr3' [astropy.utils.metadata]\n"
     ]
    },
    {
     "name": "stdout",
     "output_type": "stream",
     "text": [
      "Number of GAIA matches is: 3302  (78.58162779628748 )%\n",
      "Number of GAIA WD matches is: 11  (0.2617801047120419 )%\n",
      "Total number of matches is: 3656  (87.00618752974773 )%\n"
     ]
    },
    {
     "name": "stderr",
     "output_type": "stream",
     "text": [
      "WARNING: MergeConflictWarning: Cannot merge meta key 'NAME' types <class 'str'> and <class 'str'>, choosing NAME='tt_gaiaedr3_wd' [astropy.utils.metadata]\n",
      "WARNING: MergeConflictWarning: Cannot merge meta key 'EXTNAME' types <class 'str'> and <class 'str'>, choosing EXTNAME='tt_gaiaedr3_wd' [astropy.utils.metadata]\n",
      "WARNING: MergeConflictWarning: In merged column 'rg_src_id' the 'description' attribute does not match (Region source ID nr != Region source ID number).  Using Region source ID number for merged output [astropy.utils.metadata]\n",
      "WARNING: MergeConflictWarning: Cannot merge meta key 'INFO' types <class 'str'> and <class 'str'>, choosing INFO='LombScargle results information' [astropy.utils.metadata]\n",
      "WARNING: MergeConflictWarning: Cannot merge meta key 'EXTNAME' types <class 'str'> and <class 'str'>, choosing EXTNAME='tt_lombscargle' [astropy.utils.metadata]\n"
     ]
    },
    {
     "name": "stdout",
     "output_type": "stream",
     "text": [
      "Total number of sources is: 4202\n",
      "Total number of sources with coadd: 2453 , fraction: 0.5837696335078534\n"
     ]
    },
    {
     "data": {
      "text/html": [
       "<div><i>Table length=4202</i>\n",
       "<table id=\"table139715014694208\" class=\"table-striped table-bordered table-condensed\">\n",
       "<thead><tr><th>fd_src_id</th><th>nr_det</th><th>ra</th><th>dec</th><th>pos_err</th><th>pos_xv</th><th>pos_var</th><th>pos_cpval</th><th>pos_rchiq</th><th>coadd_src_id</th><th>coadd_dist</th><th>obs_filter_id</th><th>sel</th><th>flux</th><th>flux_err</th><th>flux_nxv</th><th>flux_var</th><th>flux_cpval</th><th>flux_rchiq</th><th>coadd_ffactor</th><th>coadd_fdiff_s2n</th><th>rg_fd_id</th><th>rg_src_id</th><th>nr_fd_srcs</th><th>hr</th><th>hr_err</th><th>gaiaedr3_wd_match_id</th><th>simbad_match_id</th><th>gaiadr3_match_id</th><th>gfcat_src_id</th><th>gfcat_dist</th><th>flux_ne</th><th>src_name</th><th>otype</th><th>ogrp_simbad</th><th>match_distance_simbad</th><th>sp_type</th><th>main_id</th><th>PQSO</th><th>PGal</th><th>PSS</th><th>match_distance_gaiadr3</th><th>Gmag_abs</th><th>BP-RP</th><th>ogrp_gaiadr3</th><th>Plx</th><th>e_Plx</th><th>Plx_dist</th><th>VarFlag</th><th>RPlx</th><th>Pwd</th><th>ls_peak_pval</th><th>ls_model_rchiq</th></tr></thead>\n",
       "<thead><tr><th></th><th></th><th>deg</th><th>deg</th><th>arcsec</th><th>arcsec2</th><th>arcsec2</th><th></th><th></th><th></th><th>arcsec</th><th></th><th></th><th>1e-06 Jy</th><th>1e-06 Jy</th><th></th><th>1e-12 Jy2</th><th></th><th></th><th></th><th></th><th></th><th></th><th></th><th></th><th></th><th></th><th></th><th></th><th></th><th>arcsec</th><th></th><th></th><th></th><th></th><th>arcsec</th><th></th><th></th><th></th><th></th><th></th><th>arcsec</th><th></th><th></th><th></th><th>0.001 arcsec</th><th>0.001 arcsec</th><th>pc</th><th></th><th></th><th></th><th></th><th></th></tr></thead>\n",
       "<thead><tr><th>int32</th><th>int32[2]</th><th>float64</th><th>float64</th><th>float32</th><th>float32</th><th>float32</th><th>float32</th><th>float32</th><th>int64</th><th>float32</th><th>int32[2]</th><th>bool</th><th>float32[2]</th><th>float32[2]</th><th>float32[2]</th><th>float32[2]</th><th>float32[2]</th><th>float32[2]</th><th>float32[2]</th><th>float32[2]</th><th>int64</th><th>int32</th><th>int32</th><th>float32</th><th>float32</th><th>int32</th><th>int32</th><th>int32</th><th>int64</th><th>float32</th><th>float32[2]</th><th>bytes24</th><th>bytes32</th><th>bytes8</th><th>float32</th><th>bytes32</th><th>bytes32</th><th>float32</th><th>float32</th><th>float32</th><th>float32</th><th>float32</th><th>float32</th><th>bytes8</th><th>float32</th><th>float32</th><th>float32</th><th>bytes32</th><th>float32</th><th>float32</th><th>float32</th><th>float32</th></tr></thead>\n",
       "<tr><td>-1</td><td>5 .. -1</td><td>220.1390715169943</td><td>-78.32071691152815</td><td>0.22684142</td><td>-0.08022427</td><td>0.1776882</td><td>0.28521943</td><td>0.6988279</td><td>468728</td><td>0.23905067</td><td>1 .. 0</td><td>True</td><td>414.49017 .. -1.0</td><td>3.191858 .. -1.0</td><td>0.068687744 .. -100.0</td><td>11898.802 .. -1.0</td><td>0.0 .. -1.0</td><td>331.87186 .. -1.0</td><td>1.1180216 .. 1.0</td><td>13.033482 .. 0.0</td><td>-1</td><td>873876</td><td>1</td><td>-1.0</td><td>-1.0</td><td>-1</td><td>2259</td><td>2701</td><td>-1</td><td>-1.0</td><td>0.26208347 .. --</td><td>1UVA J144033.4-781914.6</td><td>RR*</td><td>Star</td><td>0.16848367</td><td></td><td>V* V344 Aps</td><td>0.0</td><td>0.0</td><td>0.999893</td><td>0.54511434</td><td>0.45664087</td><td>0.563334</td><td>Star*</td><td>0.1894</td><td>0.0148</td><td>5279.831</td><td>VARIABLE</td><td>12.7554</td><td>-1.0</td><td>-1.0</td><td>-1.0</td></tr>\n",
       "<tr><td>-1</td><td>4 .. -1</td><td>19.79593885327578</td><td>-75.06699124574038</td><td>0.48057422</td><td>1.7799766</td><td>2.8625517</td><td>0.004490181</td><td>2.3231015</td><td>1151472</td><td>0.647359</td><td>1 .. 0</td><td>True</td><td>5.786413 .. -1.0</td><td>0.43786627 .. -1.0</td><td>0.25031152 .. -100.0</td><td>9.308881 .. -1.0</td><td>4.794181e-10 .. -1.0</td><td>15.447742 .. -1.0</td><td>1.3853205 .. 1.0</td><td>3.497799 .. 0.0</td><td>-1</td><td>1818045</td><td>1</td><td>-1.0</td><td>-1.0</td><td>-1</td><td>2703</td><td>3241</td><td>-1</td><td>-1.0</td><td>0.50031143 .. --</td><td>1UVA J11911.0-750401.2</td><td>WV*</td><td>Star</td><td>0.82075334</td><td></td><td>OGLE SMC-T2CEP-54</td><td>0.981342</td><td>3e-06</td><td>0.018655</td><td>0.8463338</td><td>-100.0</td><td>0.681774</td><td>none</td><td>-0.0055</td><td>0.1208</td><td>nan</td><td>VARIABLE</td><td>-0.0458</td><td>-1.0</td><td>-1.0</td><td>-1.0</td></tr>\n",
       "<tr><td>-1</td><td>8 .. -1</td><td>21.518452116961953</td><td>-74.94033726457188</td><td>0.25355923</td><td>0.43845955</td><td>0.993351</td><td>0.01866888</td><td>1.3660051</td><td>-1</td><td>-1.0</td><td>1 .. 0</td><td>True</td><td>9.020686 .. -1.0</td><td>0.33330327 .. -1.0</td><td>0.63382846 .. -100.0</td><td>52.74124 .. -1.0</td><td>0.0 .. -1.0</td><td>43.60751 .. -1.0</td><td>-100.0 .. -100.0</td><td>-10000.0 .. -10000.0</td><td>-1</td><td>1814643</td><td>1</td><td>-1.0</td><td>-1.0</td><td>-1</td><td>2702</td><td>3240</td><td>-1</td><td>-1.0</td><td>0.79613346 .. --</td><td>1UVA J12604.4-745625.2</td><td>cC*</td><td>Star</td><td>0.5843469</td><td></td><td>OGLE SMC-CEP-4874</td><td>0.007119</td><td>0.0</td><td>0.992839</td><td>0.611582</td><td>-100.0</td><td>0.737564</td><td>none</td><td>-0.0495</td><td>0.0649</td><td>nan</td><td>VARIABLE</td><td>-0.7622</td><td>-1.0</td><td>-1.0</td><td>-1.0</td></tr>\n",
       "<tr><td>-1</td><td>21 .. 19</td><td>7.37628051678903</td><td>-72.34582444970648</td><td>0.094023064</td><td>0.07283033</td><td>0.44373125</td><td>0.0002033718</td><td>1.2652671</td><td>1251902</td><td>0.23931019</td><td>1 .. 2</td><td>True</td><td>44.67289 .. 20.190329</td><td>0.32570434 .. 0.35183197</td><td>0.020134017 .. 0.06424665</td><td>43.705227 .. 30.346352</td><td>0.0 .. 5.8510213e-33</td><td>22.47226 .. 11.176</td><td>0.91441 .. -100.0</td><td>-10.58143 .. -10000.0</td><td>-1</td><td>386837</td><td>2</td><td>0.46179053</td><td>0.0088326745</td><td>-1</td><td>-1</td><td>2274</td><td>-1</td><td>-1.0</td><td>0.14189439 .. 0.25346923</td><td>1UVA J02930.3-722045.0</td><td>none</td><td>none</td><td>-1.0</td><td>none</td><td>none</td><td>1.0</td><td>0.0</td><td>0.0</td><td>0.68663955</td><td>-100.0</td><td>0.478901</td><td>AGN</td><td>0.1025</td><td>0.1663</td><td>9756.098</td><td>NOT_AVAILABLE</td><td>0.6163</td><td>-1.0</td><td>1.4771491e-05</td><td>3.565981</td></tr>\n",
       "<tr><td>-1</td><td>4 .. -1</td><td>6.476485133811305</td><td>-71.64575935955612</td><td>0.42254618</td><td>0.5118115</td><td>1.35829</td><td>0.046909314</td><td>1.4828753</td><td>-1</td><td>-1.0</td><td>1 .. 0</td><td>True</td><td>3.6794333 .. -1.0</td><td>0.3212436 .. -1.0</td><td>0.4325275 .. -100.0</td><td>6.3018556 .. -1.0</td><td>1.9788551e-10 .. -1.0</td><td>16.049904 .. -1.0</td><td>-100.0 .. -100.0</td><td>-10000.0 .. -10000.0</td><td>-1</td><td>1962250</td><td>1</td><td>-1.0</td><td>-1.0</td><td>-1</td><td>2755</td><td>3326</td><td>-1</td><td>-1.0</td><td>0.65766823 .. --</td><td>1UVA J02554.4-713844.7</td><td>RR*</td><td>Star</td><td>1.348883</td><td></td><td>OGLE SMC706.04.008128</td><td>1.0</td><td>0.0</td><td>0.0</td><td>1.3680757</td><td>-100.0</td><td>0.515135</td><td>AGN</td><td>-0.1556</td><td>0.2602</td><td>nan</td><td>VARIABLE</td><td>-0.5981</td><td>-1.0</td><td>-1.0</td><td>-1.0</td></tr>\n",
       "<tr><td>-1</td><td>3 .. -1</td><td>70.65655908743925</td><td>-53.4897268849611</td><td>0.43310454</td><td>-0.13687117</td><td>0.46440896</td><td>0.2369255</td><td>0.7200048</td><td>957734</td><td>0.3241243</td><td>1 .. 0</td><td>True</td><td>3.2716336 .. -1.0</td><td>0.33077025 .. -1.0</td><td>2.1917343 .. -100.0</td><td>23.906345 .. -1.0</td><td>4.1113073e-17 .. -1.0</td><td>37.730206 .. -1.0</td><td>1.2911669 .. 1.0</td><td>2.1189752 .. 0.0</td><td>-1</td><td>1565036</td><td>1</td><td>-1.0</td><td>-1.0</td><td>-1</td><td>-1</td><td>3087</td><td>-1</td><td>-1.0</td><td>1.4804507 .. --</td><td>1UVA J44237.6-532923.0</td><td>none</td><td>none</td><td>-1.0</td><td>none</td><td>none</td><td>0.0</td><td>0.0</td><td>0.999593</td><td>0.52596915</td><td>7.4644613</td><td>1.700063</td><td>Star*</td><td>3.8326</td><td>0.3888</td><td>260.9195</td><td>NOT_AVAILABLE</td><td>9.858</td><td>-1.0</td><td>-1.0</td><td>-1.0</td></tr>\n",
       "<tr><td>...</td><td>...</td><td>...</td><td>...</td><td>...</td><td>...</td><td>...</td><td>...</td><td>...</td><td>...</td><td>...</td><td>...</td><td>...</td><td>...</td><td>...</td><td>...</td><td>...</td><td>...</td><td>...</td><td>...</td><td>...</td><td>...</td><td>...</td><td>...</td><td>...</td><td>...</td><td>...</td><td>...</td><td>...</td><td>...</td><td>...</td><td>...</td><td>...</td><td>...</td><td>...</td><td>...</td><td>...</td><td>...</td><td>...</td><td>...</td><td>...</td><td>...</td><td>...</td><td>...</td><td>...</td><td>...</td><td>...</td><td>...</td><td>...</td><td>...</td><td>...</td><td>...</td><td>...</td></tr>\n",
       "<tr><td>-1</td><td>13 .. 12</td><td>123.41738994357975</td><td>70.82386849724772</td><td>0.13065393</td><td>0.09626572</td><td>0.53214467</td><td>0.0006431561</td><td>1.1866323</td><td>914676</td><td>0.0731467</td><td>1 .. 2</td><td>True</td><td>13.940221 .. 8.082115</td><td>0.20784602 .. 0.28883895</td><td>0.021697985 .. 0.030308083</td><td>4.792586 .. 2.9899004</td><td>3.0511457e-15 .. 0.00042061688</td><td>8.018407 .. 3.0544016</td><td>0.96912074 .. -100.0</td><td>-1.589508 .. -10000.0</td><td>-1</td><td>276419</td><td>2</td><td>0.57241434</td><td>0.022268092</td><td>-1</td><td>-1</td><td>1774</td><td>-1</td><td>-1.0</td><td>0.14730236 .. 0.17409217</td><td>1UVA J81340.2+704925.9</td><td>none</td><td>none</td><td>-1.0</td><td>none</td><td>none</td><td>1.0</td><td>0.0</td><td>0.0</td><td>0.16637336</td><td>-100.0</td><td>0.623333</td><td>AGN</td><td>0.1127</td><td>0.1942</td><td>8873.114</td><td>VARIABLE</td><td>0.5801</td><td>-1.0</td><td>-1.0</td><td>-1.0</td></tr>\n",
       "<tr><td>-1</td><td>-1 .. 10</td><td>126.21164020873607</td><td>70.86102305393892</td><td>0.17692621</td><td>0.1478723</td><td>0.46344146</td><td>0.002388329</td><td>1.5284731</td><td>-1</td><td>-1.0</td><td>0 .. 2</td><td>True</td><td>-1.0 .. 323.69998</td><td>-1.0 .. 1.6553578</td><td>-100.0 .. 0.03823734</td><td>-1.0 .. 4034.8894</td><td>-1.0 .. 0.0</td><td>-1.0 .. 145.77094</td><td>-100.0 .. -100.0</td><td>-10000.0 .. -10000.0</td><td>-1</td><td>1494136</td><td>1</td><td>-1.0</td><td>-1.0</td><td>-1</td><td>2525</td><td>3043</td><td>-1</td><td>-1.0</td><td>-- .. 0.1955437</td><td>1UVA J82450.8+705139.7</td><td>Pu*</td><td>Star</td><td>0.20419662</td><td></td><td>TYC 4377-2161-1</td><td>0.0</td><td>0.0</td><td>0.998627</td><td>0.14968808</td><td>0.6045611</td><td>0.437185</td><td>none</td><td>1.3772</td><td>0.0131</td><td>726.11096</td><td>VARIABLE</td><td>105.239</td><td>-1.0</td><td>-1.0</td><td>-1.0</td></tr>\n",
       "<tr><td>-1</td><td>13 .. 1</td><td>125.16460869835971</td><td>70.93881844869611</td><td>0.1842769</td><td>0.3098339</td><td>0.8477275</td><td>0.000114740724</td><td>1.6603175</td><td>911395</td><td>0.041984428</td><td>1 .. 2</td><td>True</td><td>8.269068 .. 1.1294436</td><td>0.17848948 .. 0.47201613</td><td>0.022032635 .. -100.0</td><td>1.9229169 .. -100.0</td><td>1.446132e-07 .. -1.0</td><td>4.628592 .. -1.0</td><td>0.98553187 .. -100.0</td><td>-0.5016342 .. -10000.0</td><td>-1</td><td>275594</td><td>2</td><td>0.11360869</td><td>0.04806052</td><td>-1</td><td>-1</td><td>1773</td><td>-1</td><td>-1.0</td><td>0.14843394 .. --</td><td>1UVA J82039.5+705619.7</td><td>none</td><td>none</td><td>-1.0</td><td>none</td><td>none</td><td>0.955443</td><td>4e-06</td><td>0.044551</td><td>0.20548256</td><td>-100.0</td><td>0.696634</td><td>none</td><td>0.1559</td><td>1.2435</td><td>6414.368</td><td>NOT_AVAILABLE</td><td>0.1254</td><td>-1.0</td><td>-1.0</td><td>-1.0</td></tr>\n",
       "<tr><td>-1</td><td>2 .. 1</td><td>96.69831401563003</td><td>71.18339236065309</td><td>0.44980028</td><td>0.456465</td><td>1.0757734</td><td>0.02152608</td><td>1.919245</td><td>925964</td><td>0.8323229</td><td>1 .. 2</td><td>True</td><td>5.32958 .. 3.389432</td><td>0.4429963 .. 0.6776021</td><td>0.13649844 .. -100.0</td><td>4.274706 .. -100.0</td><td>0.001041266 .. -1.0</td><td>10.752712 .. -1.0</td><td>5.1437516 .. -100.0</td><td>9.384168 .. -10000.0</td><td>-1</td><td>276848</td><td>2</td><td>0.48723868</td><td>0.107973725</td><td>-1</td><td>-1</td><td>-1</td><td>-1</td><td>-1.0</td><td>0.36945695 .. --</td><td>1UVA J62647.6+711100.2</td><td>none</td><td>none</td><td>-1.0</td><td>none</td><td>none</td><td>-1.0</td><td>-1.0</td><td>-1.0</td><td>-1.0</td><td>-100.0</td><td>-1.0</td><td>none</td><td>-1.0</td><td>-1.0</td><td>-1.0</td><td>none</td><td>-1.0</td><td>-1.0</td><td>-1.0</td><td>-1.0</td></tr>\n",
       "<tr><td>-1</td><td>14 .. 7</td><td>145.81377055607163</td><td>71.42319778021839</td><td>0.1528209</td><td>0.3879331</td><td>1.0104698</td><td>0.0029460604</td><td>1.1540464</td><td>870419</td><td>0.060104206</td><td>1 .. 2</td><td>True</td><td>13.935838 .. 2.0171373</td><td>0.19788484 .. 0.22409603</td><td>0.024617082 .. -0.021052679</td><td>5.353654 .. 0.27093816</td><td>4.4019718e-15 .. 0.65861267</td><td>7.5238514 .. 0.6889205</td><td>0.9713714 .. -100.0</td><td>-1.5724571 .. -10000.0</td><td>-1</td><td>269600</td><td>2</td><td>0.14024736</td><td>0.015825413</td><td>-1</td><td>-1</td><td>1764</td><td>-1</td><td>-1.0</td><td>0.15689832 .. --</td><td>1UVA J94315.3+712523.5</td><td>none</td><td>none</td><td>-1.0</td><td>none</td><td>none</td><td>1.0</td><td>0.0</td><td>0.0</td><td>0.17331387</td><td>-100.0</td><td>0.661736</td><td>AGN</td><td>-0.0076</td><td>0.1356</td><td>nan</td><td>VARIABLE</td><td>-0.0557</td><td>-1.0</td><td>-1.0</td><td>-1.0</td></tr>\n",
       "<tr><td>-1</td><td>14 .. -1</td><td>144.7793262218005</td><td>71.47208829926947</td><td>0.15378015</td><td>-0.06734357</td><td>0.26899272</td><td>0.14218962</td><td>0.7582497</td><td>871753</td><td>0.19527292</td><td>1 .. 0</td><td>True</td><td>56.79631 .. -1.0</td><td>0.36303437 .. -1.0</td><td>0.03838375 .. -100.0</td><td>125.71411 .. -1.0</td><td>0.0 .. -1.0</td><td>67.18086 .. -1.0</td><td>0.9650813 .. 1.0</td><td>-4.3829975 .. 0.0</td><td>-1</td><td>1439818</td><td>1</td><td>-1.0</td><td>-1.0</td><td>-1</td><td>2511</td><td>3016</td><td>-1</td><td>-1.0</td><td>0.19591771 .. --</td><td>1UVA J93907.0+712819.5</td><td>EB?</td><td>Binary</td><td>0.09728063</td><td></td><td>ATO J144.7792+71.4720</td><td>0.0</td><td>0.0</td><td>0.999919</td><td>0.22033101</td><td>4.2926183</td><td>0.909118</td><td>Star*</td><td>0.9422</td><td>0.0225</td><td>1061.3458</td><td>VARIABLE</td><td>41.7946</td><td>-1.0</td><td>-1.0</td><td>-1.0</td></tr>\n",
       "</table></div>"
      ],
      "text/plain": [
       "<Table length=4202>\n",
       "fd_src_id  nr_det          ra         ...   Pwd    ls_peak_pval ls_model_rchiq\n",
       "                          deg         ...                                     \n",
       "  int32   int32[2]      float64       ... float32    float32       float32    \n",
       "--------- -------- ------------------ ... ------- ------------- --------------\n",
       "       -1  5 .. -1  220.1390715169943 ...    -1.0          -1.0           -1.0\n",
       "       -1  4 .. -1  19.79593885327578 ...    -1.0          -1.0           -1.0\n",
       "       -1  8 .. -1 21.518452116961953 ...    -1.0          -1.0           -1.0\n",
       "       -1 21 .. 19   7.37628051678903 ...    -1.0 1.4771491e-05       3.565981\n",
       "       -1  4 .. -1  6.476485133811305 ...    -1.0          -1.0           -1.0\n",
       "       -1  3 .. -1  70.65655908743925 ...    -1.0          -1.0           -1.0\n",
       "      ...      ...                ... ...     ...           ...            ...\n",
       "       -1 13 .. 12 123.41738994357975 ...    -1.0          -1.0           -1.0\n",
       "       -1 -1 .. 10 126.21164020873607 ...    -1.0          -1.0           -1.0\n",
       "       -1  13 .. 1 125.16460869835971 ...    -1.0          -1.0           -1.0\n",
       "       -1   2 .. 1  96.69831401563003 ...    -1.0          -1.0           -1.0\n",
       "       -1  14 .. 7 145.81377055607163 ...    -1.0          -1.0           -1.0\n",
       "       -1 14 .. -1  144.7793262218005 ...    -1.0          -1.0           -1.0"
      ]
     },
     "metadata": {},
     "output_type": "display_data"
    }
   ],
   "source": [
    "%matplotlib widget\n",
    "import ipywidgets as widgets\n",
    "from IPython.display import display\n",
    "import matplotlib.pyplot as plt\n",
    "import numpy as np\n",
    "from astropy.table import Table\n",
    "from vasca.region import Region\n",
    "import vasca.visualization as vvis\n",
    "from vasca.utils import otype2ogroup,dd_ogrp2otypes, dd_ogrp2col, get_col_cycler,add_ogrp, color_palette, nb_fig\n",
    "from astropy import units as uu\n",
    "from astropy.table import Column\n",
    "\n",
    "# Get region\n",
    "rc = Region()\n",
    "rc.load_from_fits(region_cat_fname)\n",
    "rc.tt_sources.sort([\"dec\"])\n",
    "\n",
    "#Add Object group to source table\n",
    "rc.copy_table_columns(\"tt_sources\",\"tt_simbad\",[\"otype\",\"ogrp\",\"match_distance\",\"sp_type\",\"main_id\"],\"simbad_match_id\",select_matched=True)\n",
    "rc.tt_sources.rename_column(\"match_distance\",\"match_distance_simbad\")\n",
    "rc.tt_sources.rename_column(\"ogrp\",\"ogrp_simbad\")\n",
    "sel_simbad = rc.tt_sources[\"sel\"].data\n",
    "print(f\"Number of SIMBAD matches is: {sel_simbad.sum()}  ({100* sel_simbad.sum() / len(rc.tt_sources)} )%\")\n",
    "\n",
    "rc.copy_table_columns(\"tt_sources\",\"tt_gaiadr3\",[\"PQSO\", \"PGal\", \"PSS\",\"match_distance\",\"Gmag_abs\",\"BP-RP\", \"ogrp\", \"Plx\",\"e_Plx\",\"Plx_dist\",\"VarFlag\",\"RPlx\"],\"gaiadr3_match_id\",select_matched=True)\n",
    "rc.tt_sources.rename_column(\"match_distance\",\"match_distance_gaiadr3\")\n",
    "rc.tt_sources.rename_column(\"ogrp\",\"ogrp_gaiadr3\")\n",
    "sel_gaiadr3 = rc.tt_sources[\"sel\"].data\n",
    "print(f\"Number of GAIA matches is: {sel_gaiadr3.sum()}  ({100*sel_gaiadr3.sum() / len(rc.tt_sources)} )%\")\n",
    "\n",
    "rc.copy_table_columns(\"tt_sources\",\"tt_gaiaedr3_wd\",[\"Pwd\"],\"rg_src_id\",select_matched=True)\n",
    "sel_gaia2wd = rc.tt_sources[\"sel\"].data\n",
    "print(f\"Number of GAIA WD matches is: {sel_gaia2wd.sum()}  ({100*sel_gaia2wd.sum() / len(rc.tt_sources)} )%\")\n",
    "\n",
    "sel_match = np.array(sel_simbad+sel_gaiadr3+sel_gaia2wd, dtype=bool)\n",
    "print(f\"Total number of matches is: {sel_match.sum()}  ({100*sel_match.sum() / len(rc.tt_sources)} )%\")\n",
    "\n",
    "#Copy lomb scargle result into tt_sources\n",
    "rc.copy_table_columns(\"tt_sources\",\"tt_lombscargle\",[\"ls_peak_pval\", \"ls_model_rchiq\"],\"rg_src_id\")\n",
    "\n",
    "rc.tt_sources[\"sel\"]=True\n",
    "nr_srcs = rc.tt_sources['sel'].sum()\n",
    "print(f\"Total number of sources is: {nr_srcs}\")\n",
    "\n",
    "nr_coadd = (rc.tt_sources[\"coadd_src_id\"]>-0.5).sum()\n",
    "print(f\"Total number of sources with coadd: {nr_coadd} , fraction: {nr_coadd/nr_srcs}\")\n",
    "\n",
    "display(rc.tt_sources)\n",
    "\n",
    "#display(rc.tt_simbad[rc.tt_simbad[\"ogrp\"]==\"WD*\"])\n",
    "#display(rc.tt_gaiadr3)"
   ]
  },
  {
   "cell_type": "markdown",
   "id": "09f0834f-a5c7-4db1-aa77-b593f93ed1ca",
   "metadata": {},
   "source": [
    "### Print info for selected sources"
   ]
  },
  {
   "cell_type": "code",
   "execution_count": 3,
   "id": "52c7472a-a628-488d-a500-dfbfaffa8610",
   "metadata": {},
   "outputs": [
    {
     "name": "stdout",
     "output_type": "stream",
     "text": [
      "\n",
      "srcs_ids = [357455 ,322799 ,94932 ,87105 ,]\n",
      "\n",
      "Total Nr. of sources: 4 \n",
      "\n"
     ]
    },
    {
     "data": {
      "text/html": [
       "<div><i>Table length=4</i>\n",
       "<table id=\"table140550389037808\" class=\"table-striped table-bordered table-condensed\">\n",
       "<thead><tr><th>src_name</th><th>ra</th><th>dec</th><th>ogrp_gaiadr3</th><th>otype</th><th>sp_type</th><th>main_id</th><th>nr_det</th><th>flux</th><th>flux_cpval</th><th>flux_ne</th><th>Plx_dist</th><th>ls_peak_pval</th><th>ls_model_rchiq</th><th>VarFlag</th><th>Pwd</th><th>RPlx</th><th>rg_src_id</th></tr></thead>\n",
       "<thead><tr><th></th><th>deg</th><th>deg</th><th></th><th></th><th></th><th></th><th></th><th>1e-06 Jy</th><th></th><th></th><th>pc</th><th></th><th></th><th></th><th></th><th></th><th></th></tr></thead>\n",
       "<thead><tr><th>bytes24</th><th>float64</th><th>float64</th><th>bytes8</th><th>bytes32</th><th>bytes32</th><th>bytes32</th><th>int32[2]</th><th>float32[2]</th><th>float32[2]</th><th>float32[2]</th><th>float32</th><th>float32</th><th>float32</th><th>bytes32</th><th>float32</th><th>float32</th><th>int32</th></tr></thead>\n",
       "<tr><td>1UVA J04917.1-252556.5</td><td>12.321346896575122</td><td>-25.432354111852234</td><td>WD*</td><td>WD*</td><td>DA</td><td>GALEX J004917.1-252556</td><td>11 .. 1</td><td>73.65471 .. 41.309494</td><td>1.0632669e-08 .. -1.0</td><td>0.04259176 .. --</td><td>99.60556</td><td>-1.0</td><td>-1.0</td><td>NOT_AVAILABLE</td><td>1.0</td><td>39.4121</td><td>357455</td></tr>\n",
       "<tr><td>1UVA J22222.9-05025.9</td><td>35.59527907918115</td><td>-0.8405203013145769</td><td>WD*</td><td>WD*</td><td>DA</td><td>GALEX J022222.7-005027</td><td>1 .. 9</td><td>26.544712 .. 10.316418</td><td>-1.0 .. 2.1149104e-07</td><td>-- .. 0.18395825</td><td>371.59525</td><td>-1.0</td><td>-1.0</td><td>NOT_AVAILABLE</td><td>0.988086</td><td>7.7587</td><td>322799</td></tr>\n",
       "<tr><td>1UVA J221828.6-00012.0</td><td>334.6190008630954</td><td>-0.00334150877900888</td><td>WD*</td><td>WD*</td><td>DAH</td><td>PB  5130</td><td>7 .. 2</td><td>121.26045 .. 42.269413</td><td>2.6516346e-07 .. 0.00661471</td><td>0.04008117 .. 0.07513158</td><td>121.74485</td><td>-1.0</td><td>-1.0</td><td>NOT_AVAILABLE</td><td>0.994004</td><td>48.3832</td><td>94932</td></tr>\n",
       "<tr><td>1UVA J231536.9+192449.5</td><td>348.90356888412066</td><td>19.41375937325458</td><td>WD*</td><td>WD?</td><td></td><td>SDSS J231536.88+192448.9</td><td>15 .. 4</td><td>126.54993 .. 38.594788</td><td>7.254814e-15 .. 0.4565092</td><td>0.0423359 .. 0.055154238</td><td>168.92747</td><td>-1.0</td><td>-1.0</td><td>NOT_AVAILABLE</td><td>0.995758</td><td>39.2334</td><td>87105</td></tr>\n",
       "</table></div>"
      ],
      "text/plain": [
       "<Table length=4>\n",
       "        src_name                ra         ...   RPlx  rg_src_id\n",
       "                               deg         ...                  \n",
       "        bytes24              float64       ... float32   int32  \n",
       "----------------------- ------------------ ... ------- ---------\n",
       " 1UVA J04917.1-252556.5 12.321346896575122 ... 39.4121    357455\n",
       "  1UVA J22222.9-05025.9  35.59527907918115 ...  7.7587    322799\n",
       " 1UVA J221828.6-00012.0  334.6190008630954 ... 48.3832     94932\n",
       "1UVA J231536.9+192449.5 348.90356888412066 ... 39.2334     87105"
      ]
     },
     "metadata": {},
     "output_type": "display_data"
    }
   ],
   "source": [
    "# Make selection\n",
    "sel_otype = rc.tt_sources[\"otype\"] ==  \"PM*\" #\"SN*\" #\"RR*\"# \"No*\"#\"HS?\" #\"BS*\" # # \"SN*\" #\"EB*\"\n",
    "sel_otypes =   (rc.tt_sources[\"Pwd\"] >0.9) # (rc.tt_sources[\"otype\"] ==  \"WD?\")  + #  + (rc.tt_sources[\"RPlx\"]>4) (rc.tt_sources[\"otype\"] ==\"WD*\")*(rc.tt_sources[\"sp_type\"] !=\"none\")+\n",
    "sel_flux_nxv = rc.tt_sources[\"flux_nxv\"][:,0]>2\n",
    "sel_flux_hr = rc.tt_sources[\"hr\"]>2\n",
    "sel_src_id = rc.tt_sources[\"rg_src_id\"]==15179\n",
    "sel_period = (rc.tt_sources[\"ls_peak_pval\"]>-0.5) * (rc.tt_sources[\"ls_peak_pval\"]<0.000000573303) * (rc.tt_sources[\"ls_model_rchiq\"]<1.1)# # 3 sigma 0.002699796063, 4 sigma 0.000063342484, 5 sigma 0.000000573303\n",
    "sel_srcs =  sel_otypes #sel_period #sel_otypes  #sel_src_id  #sel_flux_nxv #sel_otype # sel_flux_nxv_fuv # sel_flux_hr#\n",
    "\n",
    "#Print oout list of source IDs to be used for further use, e.g. in inspect_sources.ipynb\n",
    "print(\"\\nsrcs_ids = [\", end=\"\")\n",
    "for src_id in rc.tt_sources[sel_srcs][\"rg_src_id\"].data:\n",
    "    print(src_id,\",\", end=\"\")\n",
    "print(\"]\\n\")\n",
    "print(\"Total Nr. of sources:\",sel_srcs.sum(),\"\\n\")\n",
    "\n",
    "#Display match and simbad table for selected sources\n",
    "cols_write = [\"src_name\",\"ra\",\"dec\",\"ogrp_gaiadr3\",\"otype\",\"sp_type\",\"main_id\",\"nr_det\",\"flux\",\"flux_cpval\",\"flux_ne\",\"Plx_dist\",\"ls_peak_pval\",\"ls_model_rchiq\",\"VarFlag\",\"Pwd\",\"RPlx\",\"rg_src_id\"]\n",
    "display(rc.tt_sources[sel_srcs][cols_write] )#[\"sp_type\",\"main_id\"]\n",
    "rc.tt_sources[sel_srcs][cols_write].write(region_dir_name+\"sources.ecsv\",overwrite=True,delimiter=',')\n",
    "\n",
    "col_rd = [\"Pwd\",\"Plx_dist\",\"RPlx\",\"flux_ne\"]\n",
    "for col in col_rd:\n",
    "    rc.tt_sources[col] = np.round(rc.tt_sources[col],2)\n",
    "cols_tex = [\"src_name\",\"main_id\",\"sp_type\"]+col_rd+ [\"flux_cpval\"]\n",
    "rc.tt_sources[sel_srcs][cols_tex].write(region_dir_name+\"sources.tex\", overwrite=True)\n"
   ]
  },
  {
   "cell_type": "code",
   "execution_count": 4,
   "id": "f9b8913d-551b-44a4-b746-72f93dcbc6fb",
   "metadata": {},
   "outputs": [],
   "source": [
    "srcs_ids = [357455 ,94932]"
   ]
  }
 ],
 "metadata": {
  "kernelspec": {
   "display_name": "Python 3 (ipykernel)",
   "language": "python",
   "name": "python3"
  },
  "language_info": {
   "codemirror_mode": {
    "name": "ipython",
    "version": 3
   },
   "file_extension": ".py",
   "mimetype": "text/x-python",
   "name": "python",
   "nbconvert_exporter": "python",
   "pygments_lexer": "ipython3",
   "version": "3.10.12"
  }
 },
 "nbformat": 4,
 "nbformat_minor": 5
}
