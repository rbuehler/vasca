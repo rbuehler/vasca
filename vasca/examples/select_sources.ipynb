{
 "cells": [
  {
   "cell_type": "markdown",
   "id": "ba8e5203-a2c2-4d41-a2dc-b8628877d0cc",
   "metadata": {},
   "source": [
    "#Select VASCA sources based on chosen criteria"
   ]
  },
  {
   "cell_type": "code",
   "execution_count": 1,
   "id": "4f80db66-a40c-473c-9993-7ef764a1861a",
   "metadata": {},
   "outputs": [],
   "source": [
    "region_name = \"ALL_10-800\" #\"CAINGSGII_10-800\" #\"TDS\" #\"CAINGSGII_10-800\" #\"WD\" #\"MDIS_10-800\" #\"TDS\" #  _ELAISN1\n",
    "region_dir_name = \"./vasca_pipeline/\"+region_name+\"/\"\n",
    "region_cat_fname = region_dir_name+\"region_\"+region_name+\"_cat.fits\""
   ]
  },
  {
   "cell_type": "markdown",
   "id": "d7e5e14e-4c5e-49eb-9170-4ffc8bc1cde8",
   "metadata": {},
   "source": [
    "### Prepare tt_sources with variables for selection"
   ]
  },
  {
   "cell_type": "code",
   "execution_count": 2,
   "id": "3a81e293-e136-402c-aafb-b2f2ff5221e5",
   "metadata": {},
   "outputs": [
    {
     "name": "stderr",
     "output_type": "stream",
     "text": [
      "WARNING: UnitsWarning: 'log(cm.s**-2)' did not parse as fits unit: 'log' is not a recognized function If this is meant to be a custom unit, define it with 'u.def_unit'. To have it recognized inside a file reader or other code, enable it with 'u.add_enabled_units'. For details, see https://docs.astropy.org/en/latest/units/combining_and_defining.html [astropy.units.core]\n",
      "WARNING: MergeConflictWarning: Cannot merge meta key 'NAME' types <class 'str'> and <class 'str'>, choosing NAME='tt_simbad' [astropy.utils.metadata]\n",
      "WARNING: MergeConflictWarning: Cannot merge meta key 'EXTNAME' types <class 'str'> and <class 'str'>, choosing EXTNAME='tt_simbad' [astropy.utils.metadata]\n"
     ]
    },
    {
     "name": "stdout",
     "output_type": "stream",
     "text": [
      "Number of SIMBAD matches is: 2687  (63.945740123750596 )%\n"
     ]
    },
    {
     "name": "stderr",
     "output_type": "stream",
     "text": [
      "WARNING: MergeConflictWarning: Cannot merge meta key 'NAME' types <class 'str'> and <class 'str'>, choosing NAME='tt_gaiadr3' [astropy.utils.metadata]\n",
      "WARNING: MergeConflictWarning: Cannot merge meta key 'EXTNAME' types <class 'str'> and <class 'str'>, choosing EXTNAME='tt_gaiadr3' [astropy.utils.metadata]\n"
     ]
    },
    {
     "name": "stdout",
     "output_type": "stream",
     "text": [
      "Number of GAIA matches is: 3302  (78.58162779628748 )%\n",
      "Number of GAIA WD matches is: 11  (0.2617801047120419 )%\n",
      "Total number of matches is: 3656  (87.00618752974773 )%\n",
      "Total number of sources is: 4202\n"
     ]
    },
    {
     "name": "stderr",
     "output_type": "stream",
     "text": [
      "WARNING: MergeConflictWarning: Cannot merge meta key 'NAME' types <class 'str'> and <class 'str'>, choosing NAME='tt_gaiaedr3_wd' [astropy.utils.metadata]\n",
      "WARNING: MergeConflictWarning: Cannot merge meta key 'EXTNAME' types <class 'str'> and <class 'str'>, choosing EXTNAME='tt_gaiaedr3_wd' [astropy.utils.metadata]\n",
      "WARNING: MergeConflictWarning: In merged column 'rg_src_id' the 'description' attribute does not match (Region source ID nr != Region source ID number).  Using Region source ID number for merged output [astropy.utils.metadata]\n",
      "WARNING: MergeConflictWarning: Cannot merge meta key 'INFO' types <class 'str'> and <class 'str'>, choosing INFO='LombScargle results information' [astropy.utils.metadata]\n",
      "WARNING: MergeConflictWarning: Cannot merge meta key 'EXTNAME' types <class 'str'> and <class 'str'>, choosing EXTNAME='tt_lombscargle' [astropy.utils.metadata]\n"
     ]
    },
    {
     "data": {
      "text/html": [
       "<div><i>Table length=0</i>\n",
       "<table id=\"table140370772617552\" class=\"table-striped table-bordered table-condensed\">\n",
       "<thead><tr><th>main_id</th><th>ra</th><th>dec</th><th>ra_prec</th><th>dec_prec</th><th>coo_err_maja</th><th>coo_err_mina</th><th>coo_err_angle</th><th>coo_qual</th><th>coo_wavelength</th><th>coo_bibcode</th><th>otype</th><th>otypes</th><th>distance_distance</th><th>distance_q</th><th>distance_unit</th><th>distance_merr</th><th>distance_perr</th><th>distance_method</th><th>distance_bibcode</th><th>match_distance</th><th>rvz_type</th><th>rvz_radvel</th><th>rvz_error</th><th>rvz_qual</th><th>rvz_wavelength</th><th>rvz_bibcode</th><th>z_value</th><th>sp_type</th><th>sp_qual</th><th>sp_bibcode</th><th>script_number_id</th><th>rg_src_id</th><th>simbad_match_id</th><th>ogrp</th></tr></thead>\n",
       "<thead><tr><th></th><th>deg</th><th>deg</th><th></th><th></th><th>mas</th><th>mas</th><th>deg</th><th></th><th></th><th></th><th></th><th></th><th></th><th></th><th></th><th></th><th></th><th></th><th></th><th>arcsec</th><th></th><th>km / s</th><th>km / s</th><th></th><th></th><th></th><th></th><th></th><th></th><th></th><th></th><th></th><th></th><th></th></tr></thead>\n",
       "<thead><tr><th>bytes32</th><th>float64</th><th>float64</th><th>int16</th><th>int16</th><th>float32</th><th>float32</th><th>int16</th><th>bytes1</th><th>bytes1</th><th>bytes32</th><th>bytes32</th><th>bytes32</th><th>float64</th><th>bytes1</th><th>bytes4</th><th>float64</th><th>float64</th><th>bytes8</th><th>bytes19</th><th>float32</th><th>bytes1</th><th>float64</th><th>float32</th><th>bytes1</th><th>bytes1</th><th>bytes32</th><th>float64</th><th>bytes32</th><th>bytes32</th><th>bytes32</th><th>int32</th><th>int32</th><th>int32</th><th>bytes8</th></tr></thead>\n",
       "</table></div>"
      ],
      "text/plain": [
       "<Table length=0>\n",
       "main_id    ra     dec   ra_prec ... rg_src_id simbad_match_id  ogrp \n",
       "          deg     deg           ...                                 \n",
       "bytes32 float64 float64  int16  ...   int32        int32      bytes8\n",
       "------- ------- ------- ------- ... --------- --------------- ------"
      ]
     },
     "metadata": {},
     "output_type": "display_data"
    },
    {
     "data": {
      "text/html": [
       "<div><i>Table length=3330</i>\n",
       "<table id=\"table140370666093248\" class=\"table-striped table-bordered table-condensed\">\n",
       "<thead><tr><th>_q</th><th>ra</th><th>dec</th><th>Source</th><th>e_RA_ICRS</th><th>e_DE_ICRS</th><th>Plx</th><th>e_Plx</th><th>PM</th><th>pmRA</th><th>e_pmRA</th><th>pmDE</th><th>e_pmDE</th><th>RUWE</th><th>FG</th><th>e_FG</th><th>Gmag</th><th>FBP</th><th>e_FBP</th><th>BPmag</th><th>FRP</th><th>e_FRP</th><th>RPmag</th><th>BP-RP</th><th>RV</th><th>e_RV</th><th>Vbroad</th><th>GRVSmag</th><th>QSO</th><th>Gal</th><th>NSS</th><th>XPcont</th><th>XPsamp</th><th>RVS</th><th>EpochPh</th><th>EpochRV</th><th>MCMCGSP</th><th>MCMCMSC</th><th>And</th><th>Teff</th><th>logg</th><th>__Fe_H_</th><th>Dist</th><th>A0</th><th>HIP</th><th>PS1</th><th>SDSS13</th><th>SKYM2</th><th>TYC2</th><th>URAT1</th><th>AllWISE</th><th>APASS9</th><th>GSC23</th><th>RAVE5</th><th>_2MASS</th><th>RAVE6</th><th>RAJ2000</th><th>DEJ2000</th><th>PQSO</th><th>PGal</th><th>PSS</th><th>RPlx</th><th>VarFlag</th><th>o_Gmag</th><th>RFRP</th><th>RFBP</th><th>AG</th><th>E_BP-RP</th><th>rg_src_id</th><th>match_distance</th><th>gaiadr3_match_id</th><th>Gmag_abs</th><th>Plx_dist</th><th>ogrp</th></tr></thead>\n",
       "<thead><tr><th></th><th>deg</th><th>deg</th><th></th><th>mas</th><th>mas</th><th>mas</th><th>mas</th><th>mas / yr</th><th>mas / yr</th><th>mas / yr</th><th>mas / yr</th><th>mas / yr</th><th></th><th></th><th></th><th>mag</th><th></th><th></th><th>mag</th><th></th><th></th><th>mag</th><th>mag</th><th>km / s</th><th>km / s</th><th>km / s</th><th>mag</th><th></th><th></th><th></th><th></th><th></th><th></th><th></th><th></th><th></th><th></th><th></th><th>K</th><th>log(cm.s**-2)</th><th></th><th>pc</th><th>mag</th><th></th><th></th><th></th><th></th><th></th><th></th><th></th><th></th><th></th><th></th><th></th><th></th><th>deg</th><th>deg</th><th></th><th></th><th></th><th></th><th></th><th></th><th></th><th></th><th>mag</th><th>mag</th><th></th><th>arcsec</th><th></th><th></th><th>pc</th><th></th></tr></thead>\n",
       "<thead><tr><th>int32</th><th>float64</th><th>float64</th><th>int64</th><th>float64</th><th>float64</th><th>float64</th><th>float32</th><th>float64</th><th>float64</th><th>float32</th><th>float64</th><th>float32</th><th>float64</th><th>float64</th><th>float32</th><th>float64</th><th>float32</th><th>float32</th><th>float64</th><th>float32</th><th>float32</th><th>float64</th><th>float64</th><th>float64</th><th>float32</th><th>float64</th><th>float64</th><th>uint8</th><th>uint8</th><th>uint8</th><th>uint8</th><th>uint8</th><th>uint8</th><th>uint8</th><th>uint8</th><th>uint8</th><th>uint8</th><th>uint8</th><th>float64</th><th>float64</th><th>float64</th><th>float64</th><th>float64</th><th>int32</th><th>int64</th><th>int64</th><th>int32</th><th>bytes12</th><th>bytes15</th><th>bytes19</th><th>int32</th><th>bytes10</th><th>bytes16</th><th>bytes17</th><th>bytes21</th><th>float64</th><th>float64</th><th>float64</th><th>float64</th><th>float64</th><th>float64</th><th>bytes13</th><th>int16</th><th>float32</th><th>float32</th><th>float32</th><th>float32</th><th>int32</th><th>float64</th><th>int32</th><th>float32</th><th>float64</th><th>bytes8</th></tr></thead>\n",
       "<tr><td>1</td><td>150.2</td><td>2.1</td><td>3836069006998531584</td><td>2.2872</td><td>3.3137</td><td>--</td><td>--</td><td>--</td><td>--</td><td>--</td><td>--</td><td>--</td><td>--</td><td>95.82888</td><td>1.689</td><td>20.733625</td><td>93.75</td><td>16.38</td><td>20.408556</td><td>130.9</td><td>9.985</td><td>19.455320</td><td>0.953236</td><td>--</td><td>--</td><td>--</td><td>--</td><td>0</td><td>0</td><td>0</td><td>0</td><td>0</td><td>0</td><td>0</td><td>0</td><td>0</td><td>0</td><td>0</td><td>--</td><td>--</td><td>--</td><td>--</td><td>--</td><td>--</td><td>110481501947501974</td><td>1237651753997304055</td><td>--</td><td>--</td><td>--</td><td>J100046.74+020404.4</td><td>--</td><td>N6SS000981</td><td>--</td><td>--</td><td>--</td><td>150.2</td><td>2.1</td><td>0.001869</td><td>0.000724</td><td>0.996765</td><td>--</td><td>NOT_AVAILABLE</td><td>79</td><td>13.11</td><td>5.725</td><td>--</td><td>--</td><td>41</td><td>0.6956587221689177</td><td>0</td><td>-100.0</td><td>--</td><td>none</td></tr>\n",
       "<tr><td>2</td><td>150.1</td><td>2.0</td><td>3836046123412862208</td><td>1.5776</td><td>2.0453</td><td>--</td><td>--</td><td>--</td><td>--</td><td>--</td><td>--</td><td>--</td><td>--</td><td>90.12499</td><td>2.676</td><td>20.800253</td><td>37.12</td><td>20.52</td><td>21.414429</td><td>59.56</td><td>10.83</td><td>20.310590</td><td>1.103838</td><td>--</td><td>--</td><td>--</td><td>--</td><td>0</td><td>0</td><td>0</td><td>0</td><td>0</td><td>0</td><td>0</td><td>0</td><td>0</td><td>0</td><td>0</td><td>--</td><td>--</td><td>--</td><td>--</td><td>--</td><td>--</td><td>110451501456232172</td><td>1237651736280760581</td><td>--</td><td>--</td><td>--</td><td>J100034.94+020234.9</td><td>--</td><td>N6SS004829</td><td>--</td><td>--</td><td>--</td><td>150.1</td><td>2.0</td><td>0.001265</td><td>0.000013</td><td>0.997987</td><td>--</td><td>NOT_AVAILABLE</td><td>43</td><td>5.497</td><td>1.809</td><td>--</td><td>--</td><td>68</td><td>0.6420858569707824</td><td>1</td><td>-100.0</td><td>--</td><td>none</td></tr>\n",
       "<tr><td>4</td><td>150.1</td><td>2.1</td><td>3836257710681556224</td><td>0.5228</td><td>0.5439</td><td>-0.0737</td><td>0.5331</td><td>0.702</td><td>-0.580</td><td>0.607</td><td>0.396</td><td>0.641</td><td>1.065</td><td>231.69009</td><td>2.456</td><td>19.775099</td><td>160.4</td><td>10.57</td><td>19.825287</td><td>132.1</td><td>14.81</td><td>19.445590</td><td>0.379698</td><td>--</td><td>--</td><td>--</td><td>--</td><td>1</td><td>0</td><td>0</td><td>0</td><td>0</td><td>0</td><td>1</td><td>0</td><td>0</td><td>0</td><td>0</td><td>--</td><td>--</td><td>--</td><td>--</td><td>--</td><td>--</td><td>110521501020297033</td><td>1237651753997238486</td><td>--</td><td>--</td><td>--</td><td>J100024.44+020619.5</td><td>--</td><td>N6SV003245</td><td>--</td><td>--</td><td>--</td><td>150.1</td><td>2.1</td><td>1.000000</td><td>0.000000</td><td>0.000000</td><td>-0.1383</td><td>VARIABLE</td><td>182</td><td>8.917</td><td>15.18</td><td>--</td><td>--</td><td>87</td><td>1.015315761207988</td><td>2</td><td>-100.0</td><td>--</td><td>AGN</td></tr>\n",
       "<tr><td>7</td><td>215.1</td><td>52.6</td><td>1607957522794289024</td><td>0.1805</td><td>0.2101</td><td>-0.4327</td><td>0.2279</td><td>0.356</td><td>0.190</td><td>0.223</td><td>0.302</td><td>0.256</td><td>1.036</td><td>311.79894</td><td>1.36</td><td>19.452680</td><td>178.4</td><td>9.809</td><td>19.709816</td><td>189.3</td><td>7.18</td><td>19.055190</td><td>0.654627</td><td>--</td><td>--</td><td>--</td><td>--</td><td>1</td><td>0</td><td>0</td><td>0</td><td>0</td><td>0</td><td>1</td><td>0</td><td>0</td><td>0</td><td>0</td><td>--</td><td>--</td><td>--</td><td>--</td><td>--</td><td>--</td><td>171142150651746989</td><td>1237661385994862739</td><td>--</td><td>--</td><td>--</td><td>J142015.62+523718.5</td><td>--</td><td>N5MV001218</td><td>--</td><td>--</td><td>--</td><td>215.1</td><td>52.6</td><td>1.000000</td><td>0.000000</td><td>0.000000</td><td>-1.8990</td><td>VARIABLE</td><td>482</td><td>26.36</td><td>18.19</td><td>--</td><td>--</td><td>302</td><td>0.26795579682948123</td><td>3</td><td>-100.0</td><td>--</td><td>AGN</td></tr>\n",
       "<tr><td>8</td><td>215.0</td><td>52.7</td><td>1607958480571152256</td><td>0.8988</td><td>0.7715</td><td>-1.1739</td><td>0.6843</td><td>0.532</td><td>-0.092</td><td>1.013</td><td>0.524</td><td>0.894</td><td>1.079</td><td>127.05163</td><td>2.726</td><td>20.427416</td><td>98.51</td><td>10.98</td><td>20.354832</td><td>127.2</td><td>7.357</td><td>19.486479</td><td>0.868353</td><td>--</td><td>--</td><td>--</td><td>--</td><td>1</td><td>0</td><td>0</td><td>0</td><td>0</td><td>0</td><td>1</td><td>0</td><td>0</td><td>0</td><td>0</td><td>--</td><td>--</td><td>--</td><td>--</td><td>--</td><td>--</td><td>171212150426430532</td><td>1237661385994862858</td><td>--</td><td>--</td><td>--</td><td>J142010.22+524029.6</td><td>--</td><td>N5MV001750</td><td>--</td><td>--</td><td>--</td><td>215.0</td><td>52.7</td><td>0.999765</td><td>0.000220</td><td>0.000015</td><td>-1.7155</td><td>VARIABLE</td><td>283</td><td>17.29</td><td>8.972</td><td>--</td><td>--</td><td>314</td><td>0.5654019830257911</td><td>4</td><td>-100.0</td><td>--</td><td>AGN</td></tr>\n",
       "<tr><td>9</td><td>214.9</td><td>52.5</td><td>1607951746062355328</td><td>0.2074</td><td>0.2337</td><td>0.1023</td><td>0.2656</td><td>0.429</td><td>-0.239</td><td>0.256</td><td>-0.357</td><td>0.272</td><td>0.966</td><td>233.47251</td><td>0.8803</td><td>19.766777</td><td>140.9</td><td>7.083</td><td>19.965982</td><td>148.7</td><td>6.695</td><td>19.317305</td><td>0.648678</td><td>--</td><td>--</td><td>--</td><td>--</td><td>1</td><td>0</td><td>0</td><td>0</td><td>0</td><td>0</td><td>1</td><td>0</td><td>0</td><td>0</td><td>0</td><td>--</td><td>--</td><td>--</td><td>--</td><td>--</td><td>--</td><td>171052149430476033</td><td>1237661385994862854</td><td>--</td><td>--</td><td>--</td><td>J141946.35+523246.3</td><td>--</td><td>N5MV000642</td><td>--</td><td>--</td><td>--</td><td>214.9</td><td>52.5</td><td>1.000000</td><td>0.000000</td><td>0.000000</td><td>0.3850</td><td>VARIABLE</td><td>523</td><td>22.21</td><td>19.9</td><td>--</td><td>--</td><td>336</td><td>0.5780435001189599</td><td>5</td><td>-100.0</td><td>9775.1711</td><td>AGN</td></tr>\n",
       "<tr><td>...</td><td>...</td><td>...</td><td>...</td><td>...</td><td>...</td><td>...</td><td>...</td><td>...</td><td>...</td><td>...</td><td>...</td><td>...</td><td>...</td><td>...</td><td>...</td><td>...</td><td>...</td><td>...</td><td>...</td><td>...</td><td>...</td><td>...</td><td>...</td><td>...</td><td>...</td><td>...</td><td>...</td><td>...</td><td>...</td><td>...</td><td>...</td><td>...</td><td>...</td><td>...</td><td>...</td><td>...</td><td>...</td><td>...</td><td>...</td><td>...</td><td>...</td><td>...</td><td>...</td><td>...</td><td>...</td><td>...</td><td>...</td><td>...</td><td>...</td><td>...</td><td>...</td><td>...</td><td>...</td><td>...</td><td>...</td><td>...</td><td>...</td><td>...</td><td>...</td><td>...</td><td>...</td><td>...</td><td>...</td><td>...</td><td>...</td><td>...</td><td>...</td><td>...</td><td>...</td><td>...</td><td>...</td><td>...</td><td>...</td></tr>\n",
       "<tr><td>4197</td><td>8.6</td><td>-41.9</td><td>4993174329442926080</td><td>0.0092</td><td>0.0092</td><td>0.7024</td><td>0.0133</td><td>46.119</td><td>-13.017</td><td>0.012</td><td>-44.244</td><td>0.012</td><td>1.049</td><td>171074.94050</td><td>352.2</td><td>12.604401</td><td>7.835e+04</td><td>621.3</td><td>13.103431</td><td>1.329e+05</td><td>786.5</td><td>11.938880</td><td>1.164551</td><td>69.04</td><td>4.73</td><td>18.9255</td><td>11.652281</td><td>0</td><td>0</td><td>0</td><td>1</td><td>1</td><td>0</td><td>1</td><td>0</td><td>1</td><td>1</td><td>0</td><td>5961.3</td><td>3.4155</td><td>-0.0595</td><td>1259.7257</td><td>1.0341</td><td>--</td><td>--</td><td>--</td><td>8922775</td><td>--</td><td>--</td><td>J003418.31-415216.4</td><td>37455495</td><td>S2T0000233</td><td>J003418.3-415216</td><td>00341832-4152160</td><td>20101006_0037m39_002</td><td>8.6</td><td>-41.9</td><td>0.000000</td><td>0.000000</td><td>0.999953</td><td>52.6773</td><td>VARIABLE</td><td>427</td><td>169</td><td>126.1</td><td>0.8480</td><td>0.4580</td><td>1942335</td><td>1.0946199139630401</td><td>3324</td><td>1.8373235</td><td>1423.6902</td><td>Star*</td></tr>\n",
       "<tr><td>4198</td><td>8.0</td><td>-44.4</td><td>4980310696233451136</td><td>0.0283</td><td>0.0342</td><td>0.1144</td><td>0.0499</td><td>3.279</td><td>1.572</td><td>0.034</td><td>-2.877</td><td>0.040</td><td>1.003</td><td>4571.73889</td><td>26.82</td><td>16.537163</td><td>2673</td><td>59.32</td><td>16.771120</td><td>2802</td><td>39.56</td><td>16.129220</td><td>0.641901</td><td>--</td><td>--</td><td>--</td><td>--</td><td>0</td><td>0</td><td>0</td><td>1</td><td>0</td><td>0</td><td>1</td><td>0</td><td>1</td><td>1</td><td>0</td><td>6336.1</td><td>4.1630</td><td>-1.4769</td><td>3221.8728</td><td>0.0795</td><td>--</td><td>--</td><td>--</td><td>8890537</td><td>--</td><td>--</td><td>J003201.92-442110.8</td><td>37426083</td><td>S2RU001224</td><td>--</td><td>00320194-4421109</td><td>--</td><td>8.0</td><td>-44.4</td><td>0.000000</td><td>0.000000</td><td>0.999915</td><td>2.2934</td><td>VARIABLE</td><td>587</td><td>70.83</td><td>45.06</td><td>0.0691</td><td>0.0378</td><td>1947476</td><td>0.3686509178776722</td><td>3325</td><td>-100.0</td><td>8741.2587</td><td>Star*</td></tr>\n",
       "<tr><td>4199</td><td>6.5</td><td>-71.6</td><td>4689844974288765568</td><td>0.2478</td><td>0.2185</td><td>-0.1556</td><td>0.2602</td><td>1.438</td><td>0.737</td><td>0.319</td><td>-1.235</td><td>0.323</td><td>1.049</td><td>265.60425</td><td>3.539</td><td>19.626780</td><td>171.6</td><td>11.22</td><td>19.752337</td><td>160.1</td><td>7.739</td><td>19.237202</td><td>0.515135</td><td>--</td><td>--</td><td>--</td><td>--</td><td>1</td><td>0</td><td>0</td><td>0</td><td>0</td><td>0</td><td>1</td><td>0</td><td>0</td><td>0</td><td>0</td><td>--</td><td>--</td><td>--</td><td>--</td><td>--</td><td>--</td><td>--</td><td>--</td><td>--</td><td>--</td><td>--</td><td>--</td><td>--</td><td>S0WC237912</td><td>--</td><td>--</td><td>--</td><td>6.5</td><td>-71.6</td><td>1.000000</td><td>0.000000</td><td>0.000000</td><td>-0.5981</td><td>VARIABLE</td><td>385</td><td>20.68</td><td>15.3</td><td>--</td><td>--</td><td>1962250</td><td>1.3680757578640181</td><td>3326</td><td>-100.0</td><td>--</td><td>AGN</td></tr>\n",
       "<tr><td>4200</td><td>5.0</td><td>17.1</td><td>2793606540757272064</td><td>0.0454</td><td>0.0420</td><td>3.7128</td><td>0.0613</td><td>18.094</td><td>7.430</td><td>0.057</td><td>16.497</td><td>0.060</td><td>2.945</td><td>1924799.21828</td><td>341.7</td><td>9.976403</td><td>1.106e+06</td><td>285.9</td><td>10.228972</td><td>1.189e+06</td><td>227.2</td><td>9.559739</td><td>0.669232</td><td>-0.73</td><td>1.21</td><td>14.5580</td><td>9.391799</td><td>0</td><td>0</td><td>0</td><td>1</td><td>1</td><td>0</td><td>0</td><td>0</td><td>1</td><td>1</td><td>0</td><td>6317.8</td><td>3.8411</td><td>-0.1928</td><td>310.4662</td><td>0.1109</td><td>--</td><td>--</td><td>1237678600770420880</td><td>--</td><td>1179-648-1</td><td>URAT1-536001709</td><td>J001956.77+170440.5</td><td>17835586</td><td>NB60006097</td><td>--</td><td>00195676+1704404</td><td>--</td><td>5.0</td><td>17.1</td><td>0.000000</td><td>0.000000</td><td>0.998258</td><td>60.5774</td><td>NOT_AVAILABLE</td><td>414</td><td>5235</td><td>3869</td><td>0.0959</td><td>0.0517</td><td>1976961</td><td>0.7515630056544794</td><td>3327</td><td>2.8249109</td><td>269.3385</td><td>none</td></tr>\n",
       "<tr><td>4201</td><td>4.3</td><td>16.5</td><td>2793466456104092288</td><td>0.2899</td><td>0.2167</td><td>12.3563</td><td>0.3431</td><td>45.338</td><td>45.189</td><td>0.439</td><td>-3.678</td><td>0.371</td><td>17.224</td><td>6799332.29599</td><td>2674</td><td>8.606201</td><td>3.643e+06</td><td>3706</td><td>8.934947</td><td>4.622e+06</td><td>3368</td><td>8.085792</td><td>0.849155</td><td>--</td><td>--</td><td>--</td><td>--</td><td>0</td><td>0</td><td>0</td><td>1</td><td>1</td><td>0</td><td>0</td><td>0</td><td>1</td><td>1</td><td>0</td><td>5564.0</td><td>4.2141</td><td>-0.3049</td><td>80.7783</td><td>0.0059</td><td>--</td><td>--</td><td>1237678600233287749</td><td>--</td><td>1179-78-1</td><td>URAT1-533001407</td><td>J001722.37+163037.3</td><td>--</td><td>NB79008247</td><td>--</td><td>00172236+1630375</td><td>--</td><td>4.3</td><td>16.5</td><td>0.000000</td><td>0.000000</td><td>0.997667</td><td>36.0129</td><td>NOT_AVAILABLE</td><td>307</td><td>1372</td><td>983</td><td>0.0049</td><td>0.0027</td><td>1983574</td><td>0.781889653434758</td><td>3328</td><td>4.0656433</td><td>80.9304</td><td>none</td></tr>\n",
       "<tr><td>4202</td><td>0.8</td><td>-43.1</td><td>4994901245597961216</td><td>0.0948</td><td>0.0797</td><td>0.0961</td><td>0.1421</td><td>1.636</td><td>0.563</td><td>0.129</td><td>-1.536</td><td>0.115</td><td>1.005</td><td>1058.52397</td><td>3.539</td><td>18.125616</td><td>617.6</td><td>8.804</td><td>18.361828</td><td>627.7</td><td>10.99</td><td>17.753479</td><td>0.608349</td><td>--</td><td>--</td><td>--</td><td>--</td><td>1</td><td>0</td><td>0</td><td>0</td><td>0</td><td>0</td><td>1</td><td>0</td><td>1</td><td>1</td><td>0</td><td>6363.9</td><td>4.5811</td><td>-1.7609</td><td>4385.6750</td><td>0.0040</td><td>--</td><td>--</td><td>--</td><td>--</td><td>--</td><td>--</td><td>J000309.86-430313.8</td><td>--</td><td>S076004334</td><td>--</td><td>--</td><td>--</td><td>0.8</td><td>-43.1</td><td>0.250889</td><td>0.000001</td><td>0.749046</td><td>0.6762</td><td>VARIABLE</td><td>423</td><td>57.13</td><td>70.14</td><td>0.0035</td><td>0.0019</td><td>1987789</td><td>0.3063420906226005</td><td>3329</td><td>-100.0</td><td>10405.8273</td><td>none</td></tr>\n",
       "</table></div>"
      ],
      "text/plain": [
       "<Table length=3330>\n",
       "  _q         ra             dec       ...  Gmag_abs  Plx_dist   ogrp \n",
       "            deg             deg       ...               pc           \n",
       "int32     float64         float64     ...  float32   float64   bytes8\n",
       "----- --------------- --------------- ... --------- ---------- ------\n",
       "    1           150.2             2.1 ...    -100.0         --   none\n",
       "    2           150.1             2.0 ...    -100.0         --   none\n",
       "    4           150.1             2.1 ...    -100.0         --    AGN\n",
       "    7           215.1            52.6 ...    -100.0         --    AGN\n",
       "    8           215.0            52.7 ...    -100.0         --    AGN\n",
       "    9           214.9            52.5 ...    -100.0  9775.1711    AGN\n",
       "  ...             ...             ... ...       ...        ...    ...\n",
       " 4197             8.6           -41.9 ... 1.8373235  1423.6902  Star*\n",
       " 4198             8.0           -44.4 ...    -100.0  8741.2587  Star*\n",
       " 4199             6.5           -71.6 ...    -100.0         --    AGN\n",
       " 4200             5.0            17.1 ... 2.8249109   269.3385   none\n",
       " 4201             4.3            16.5 ... 4.0656433    80.9304   none\n",
       " 4202             0.8           -43.1 ...    -100.0 10405.8273   none"
      ]
     },
     "metadata": {},
     "output_type": "display_data"
    }
   ],
   "source": [
    "%matplotlib widget\n",
    "import ipywidgets as widgets\n",
    "from IPython.display import display\n",
    "import matplotlib.pyplot as plt\n",
    "import numpy as np\n",
    "from astropy.table import Table\n",
    "from vasca.region import Region\n",
    "import vasca.visualization as vvis\n",
    "from vasca.utils import otype2ogroup,dd_ogrp2otypes, dd_ogrp2col, get_col_cycler,add_ogrp, color_palette, nb_fig\n",
    "from astropy import units as uu\n",
    "from astropy.table import Column\n",
    "\n",
    "# Get region\n",
    "rc = Region()\n",
    "rc.load_from_fits(region_cat_fname)\n",
    "rc.tt_sources.sort([\"dec\"])\n",
    "\n",
    "#Add Object group to source table\n",
    "rc.copy_table_columns(\"tt_sources\",\"tt_simbad\",[\"otype\",\"ogrp\",\"match_distance\",\"sp_type\",\"main_id\"],\"simbad_match_id\",select_matched=True)\n",
    "rc.tt_sources.rename_column(\"match_distance\",\"match_distance_simbad\")\n",
    "rc.tt_sources.rename_column(\"ogrp\",\"ogrp_simbad\")\n",
    "sel_simbad = rc.tt_sources[\"sel\"].data\n",
    "print(f\"Number of SIMBAD matches is: {sel_simbad.sum()}  ({100* sel_simbad.sum() / len(rc.tt_sources)} )%\")\n",
    "\n",
    "rc.copy_table_columns(\"tt_sources\",\"tt_gaiadr3\",[\"PQSO\", \"PGal\", \"PSS\",\"match_distance\",\"Gmag_abs\",\"BP-RP\", \"ogrp\", \"Plx\",\"e_Plx\",\"Plx_dist\",\"VarFlag\",\"RPlx\"],\"gaiadr3_match_id\",select_matched=True)\n",
    "rc.tt_sources.rename_column(\"match_distance\",\"match_distance_gaiadr3\")\n",
    "rc.tt_sources.rename_column(\"ogrp\",\"ogrp_gaiadr3\")\n",
    "sel_gaiadr3 = rc.tt_sources[\"sel\"].data\n",
    "print(f\"Number of GAIA matches is: {sel_gaiadr3.sum()}  ({100*sel_gaiadr3.sum() / len(rc.tt_sources)} )%\")\n",
    "\n",
    "rc.copy_table_columns(\"tt_sources\",\"tt_gaiaedr3_wd\",[\"Pwd\"],\"rg_src_id\",select_matched=True)\n",
    "sel_gaia2wd = rc.tt_sources[\"sel\"].data\n",
    "print(f\"Number of GAIA WD matches is: {sel_gaia2wd.sum()}  ({100*sel_gaia2wd.sum() / len(rc.tt_sources)} )%\")\n",
    "\n",
    "sel_match = np.array(sel_simbad+sel_gaiadr3+sel_gaia2wd, dtype=bool)\n",
    "print(f\"Total number of matches is: {sel_match.sum()}  ({100*sel_match.sum() / len(rc.tt_sources)} )%\")\n",
    "\n",
    "#Copy lomb scargle result into tt_sources\n",
    "rc.copy_table_columns(\"tt_sources\",\"tt_lombscargle\",[\"ls_peak_pval\", \"ls_model_rchiq\"],\"rg_src_id\")\n",
    "\n",
    "rc.tt_sources[\"sel\"]=True\n",
    "print(f\"Total number of sources is: {rc.tt_sources['sel'].sum()}\")\n",
    "\n",
    "display(rc.tt_simbad[rc.tt_simbad[\"ogrp\"]==\"WD*\"])\n",
    "display(rc.tt_gaiadr3)"
   ]
  },
  {
   "cell_type": "markdown",
   "id": "09f0834f-a5c7-4db1-aa77-b593f93ed1ca",
   "metadata": {},
   "source": [
    "### Print info for selected sources"
   ]
  },
  {
   "cell_type": "code",
   "execution_count": 5,
   "id": "52c7472a-a628-488d-a500-dfbfaffa8610",
   "metadata": {},
   "outputs": [
    {
     "name": "stdout",
     "output_type": "stream",
     "text": [
      "\n",
      "srcs_ids = [1521282 ,309137 ,214046 ,570092 ,70723 ,1747015 ,242634 ,1469861 ,1775540 ,1570009 ,1584655 ,192348 ,866068 ,160031 ,883278 ,805990 ,821390 ,221953 ,653072 ,124748 ,]\n",
      "\n",
      "Total Nr. of sources: 20 \n",
      "\n"
     ]
    },
    {
     "data": {
      "text/html": [
       "<div><i>Table length=20</i>\n",
       "<table id=\"table140373359794624\" class=\"table-striped table-bordered table-condensed\">\n",
       "<thead><tr><th>src_name</th><th>ra</th><th>dec</th><th>ogrp_gaiadr3</th><th>otype</th><th>sp_type</th><th>main_id</th><th>nr_det</th><th>flux</th><th>flux_cpval</th><th>flux_ne</th><th>Plx_dist</th><th>ls_peak_pval</th><th>ls_model_rchiq</th><th>VarFlag</th><th>Pwd</th><th>RPlx</th><th>rg_src_id</th></tr></thead>\n",
       "<thead><tr><th></th><th>deg</th><th>deg</th><th></th><th></th><th></th><th></th><th></th><th>1e-06 Jy</th><th></th><th></th><th></th><th></th><th></th><th></th><th></th><th></th><th></th></tr></thead>\n",
       "<thead><tr><th>bytes24</th><th>float64</th><th>float64</th><th>bytes8</th><th>bytes32</th><th>bytes32</th><th>bytes32</th><th>int32[2]</th><th>float32[2]</th><th>float32[2]</th><th>float32[2]</th><th>float32</th><th>float32</th><th>float32</th><th>bytes32</th><th>float32</th><th>float32</th><th>int32</th></tr></thead>\n",
       "<tr><td>1UVA J64716.1-361135.0</td><td>101.81710210989921</td><td>-36.193058721758696</td><td>Star*</td><td>PM*</td><td></td><td>CD-36  3152</td><td>17 .. -1</td><td>538.3593 .. -1.0</td><td>0.0 .. -1.0</td><td>0.04 .. --</td><td>478.86</td><td>-1.0</td><td>-1.0</td><td>NOT_AVAILABLE</td><td>-1.0</td><td>164.21</td><td>1521282</td></tr>\n",
       "<tr><td>1UVA J24936.5-244414.0</td><td>42.4020294028045</td><td>-24.7372359958571</td><td>none</td><td>PM*</td><td>M0.5</td><td>LP  830-44</td><td>19 .. 2</td><td>7.402895 .. 2.1757395</td><td>0.0 .. 0.85363716</td><td>0.42 .. --</td><td>-1.0</td><td>-1.0</td><td>-1.0</td><td>none</td><td>-1.0</td><td>-1.0</td><td>309137</td></tr>\n",
       "<tr><td>1UVA J110206.5-225229.4</td><td>165.52697545737453</td><td>-22.87482653838341</td><td>none</td><td>PM*</td><td>K5Ve</td><td>RX J1102.1-2252</td><td>20 .. 20</td><td>79.83186 .. 9.882956</td><td>0.0 .. 0.0</td><td>0.67 .. 1.44</td><td>56.52</td><td>-1.0</td><td>-1.0</td><td>NOT_AVAILABLE</td><td>-1.0</td><td>875.09</td><td>214046</td></tr>\n",
       "<tr><td>1UVA J194443.4-74959.3</td><td>296.18095254478396</td><td>-7.833144728280071</td><td>none</td><td>PM*</td><td></td><td>GUVV J194443.4-074959.5</td><td>14 .. -1</td><td>26.761148 .. -1.0</td><td>0.0 .. -1.0</td><td>0.27 .. --</td><td>55.04</td><td>-1.0</td><td>-1.0</td><td>NOT_AVAILABLE</td><td>-1.0</td><td>225.17</td><td>570092</td></tr>\n",
       "<tr><td>1UVA J22635.2-50518.1</td><td>36.64679343377384</td><td>-5.088367301961614</td><td>none</td><td>PM*</td><td></td><td>2XLSSd J022635.2-050518</td><td>7 .. 1</td><td>3.4287777 .. 12.545136</td><td>0.0 .. -1.0</td><td>3.55 .. --</td><td>118.32</td><td>-1.0</td><td>-1.0</td><td>NOT_AVAILABLE</td><td>-1.0</td><td>218.0</td><td>70723</td></tr>\n",
       "<tr><td>1UVA J21829.9-45513.5</td><td>34.62451156641868</td><td>-4.920414447220848</td><td>none</td><td>PM*</td><td>M1</td><td>2MASS J02182991-0455137</td><td>-1 .. 16</td><td>-1.0 .. 2.8671021</td><td>-1.0 .. 5.8832773e-25</td><td>-- .. 1.06</td><td>91.02</td><td>-1.0</td><td>-1.0</td><td>NOT_AVAILABLE</td><td>-1.0</td><td>588.8</td><td>1747015</td></tr>\n",
       "<tr><td>...</td><td>...</td><td>...</td><td>...</td><td>...</td><td>...</td><td>...</td><td>...</td><td>...</td><td>...</td><td>...</td><td>...</td><td>...</td><td>...</td><td>...</td><td>...</td><td>...</td><td>...</td></tr>\n",
       "<tr><td>1UVA J143735.2+345907.6</td><td>219.39646966499114</td><td>34.98545123380675</td><td>Star*</td><td>PM*</td><td></td><td>2MASS J14373514+3459077</td><td>5 .. -1</td><td>2.8333015 .. -1.0</td><td>4.601553e-11 .. -1.0</td><td>0.88 .. --</td><td>130.16</td><td>-1.0</td><td>-1.0</td><td>NOT_AVAILABLE</td><td>-1.0</td><td>41.48</td><td>883278</td></tr>\n",
       "<tr><td>1UVA J160659.0+532534.3</td><td>241.7457450938821</td><td>53.42620231130154</td><td>none</td><td>PM*</td><td></td><td>2MASS J16065902+5325335</td><td>12 .. -1</td><td>3.1207738 .. -1.0</td><td>0.0 .. -1.0</td><td>2.09 .. --</td><td>56.48</td><td>-1.0</td><td>-1.0</td><td>NOT_AVAILABLE</td><td>-1.0</td><td>932.28</td><td>805990</td></tr>\n",
       "<tr><td>1UVA J160322.0+551052.2</td><td>240.84160854742194</td><td>55.18115560313473</td><td>none</td><td>PM*</td><td>G0</td><td>HD 144465</td><td>-1 .. 3</td><td>-1.0 .. 156.63501</td><td>-1.0 .. 8.3920045e-11</td><td>-- .. 0.11</td><td>93.76</td><td>-1.0</td><td>-1.0</td><td>NOT_AVAILABLE</td><td>-1.0</td><td>627.87</td><td>821390</td></tr>\n",
       "<tr><td>1UVA J105130.9+573440.2</td><td>162.87889634456937</td><td>57.577835480177775</td><td>none</td><td>PM*</td><td>M5V</td><td>[BCH2008] 444</td><td>20 .. 1</td><td>10.886024 .. 3.4589686</td><td>0.0 .. -1.0</td><td>0.48 .. --</td><td>55.32</td><td>-1.0</td><td>-1.0</td><td>NOT_AVAILABLE</td><td>-1.0</td><td>57.73</td><td>221953</td></tr>\n",
       "<tr><td>1UVA J171944.0+581528.3</td><td>259.93349533816985</td><td>58.25784829849</td><td>Star*</td><td>PM*</td><td></td><td>2MASS J17194399+5815284</td><td>5 .. -1</td><td>2.4079738 .. -1.0</td><td>1.4947734e-17 .. -1.0</td><td>1.45 .. --</td><td>33.92</td><td>-1.0</td><td>-1.0</td><td>NOT_AVAILABLE</td><td>-1.0</td><td>1017.41</td><td>653072</td></tr>\n",
       "<tr><td>1UVA J171043.3+595728.2</td><td>257.68030204204837</td><td>59.95783218682287</td><td>Star*</td><td>PM*</td><td>G8V</td><td>2MASS J17104326+5957282</td><td>30 .. -1</td><td>76.504845 .. -1.0</td><td>5.107331e-07 .. -1.0</td><td>0.03 .. --</td><td>129.98</td><td>0.097229466</td><td>1.727266</td><td>NOT_AVAILABLE</td><td>-1.0</td><td>660.42</td><td>124748</td></tr>\n",
       "</table></div>"
      ],
      "text/plain": [
       "<Table length=20>\n",
       "        src_name                ra         ...   RPlx  rg_src_id\n",
       "                               deg         ...                  \n",
       "        bytes24              float64       ... float32   int32  \n",
       "----------------------- ------------------ ... ------- ---------\n",
       " 1UVA J64716.1-361135.0 101.81710210989921 ...  164.21   1521282\n",
       " 1UVA J24936.5-244414.0   42.4020294028045 ...    -1.0    309137\n",
       "1UVA J110206.5-225229.4 165.52697545737453 ...  875.09    214046\n",
       " 1UVA J194443.4-74959.3 296.18095254478396 ...  225.17    570092\n",
       "  1UVA J22635.2-50518.1  36.64679343377384 ...   218.0     70723\n",
       "  1UVA J21829.9-45513.5  34.62451156641868 ...   588.8   1747015\n",
       "                    ...                ... ...     ...       ...\n",
       "1UVA J143735.2+345907.6 219.39646966499114 ...   41.48    883278\n",
       "1UVA J160659.0+532534.3  241.7457450938821 ...  932.28    805990\n",
       "1UVA J160322.0+551052.2 240.84160854742194 ...  627.87    821390\n",
       "1UVA J105130.9+573440.2 162.87889634456937 ...   57.73    221953\n",
       "1UVA J171944.0+581528.3 259.93349533816985 ... 1017.41    653072\n",
       "1UVA J171043.3+595728.2 257.68030204204837 ...  660.42    124748"
      ]
     },
     "metadata": {},
     "output_type": "display_data"
    }
   ],
   "source": [
    "# Make selection\n",
    "sel_otype = rc.tt_sources[\"otype\"] ==  \"PM*\" #\"SN*\" #\"RR*\"# \"No*\"#\"HS?\" #\"BS*\" # # \"SN*\" #\"EB*\"\n",
    "sel_otypes =   (rc.tt_sources[\"Pwd\"] >0.9) # (rc.tt_sources[\"otype\"] ==  \"WD?\")  + #  + (rc.tt_sources[\"RPlx\"]>4) (rc.tt_sources[\"otype\"] ==\"WD*\")*(rc.tt_sources[\"sp_type\"] !=\"none\")+\n",
    "sel_flux_nxv = rc.tt_sources[\"flux_nxv\"][:,0]>2\n",
    "sel_flux_hr = rc.tt_sources[\"hr\"]>2\n",
    "sel_src_id = rc.tt_sources[\"rg_src_id\"]==15179\n",
    "sel_period = (rc.tt_sources[\"ls_peak_pval\"]>-0.5) * (rc.tt_sources[\"ls_peak_pval\"]<0.000000573303) * (rc.tt_sources[\"ls_model_rchiq\"]<1.1)# # 3 sigma 0.002699796063, 4 sigma 0.000063342484, 5 sigma 0.000000573303\n",
    "sel_srcs =  sel_otype #sel_period #sel_otypes  #sel_src_id  #sel_flux_nxv #sel_otype # sel_flux_nxv_fuv # sel_flux_hr#\n",
    "\n",
    "#Print oout list of source IDs to be used for further use, e.g. in inspect_sources.ipynb\n",
    "print(\"\\nsrcs_ids = [\", end=\"\")\n",
    "for src_id in rc.tt_sources[sel_srcs][\"rg_src_id\"].data:\n",
    "    print(src_id,\",\", end=\"\")\n",
    "print(\"]\\n\")\n",
    "print(\"Total Nr. of sources:\",sel_srcs.sum(),\"\\n\")\n",
    "\n",
    "#Display match and simbad table for selected sources\n",
    "cols_write = [\"src_name\",\"ra\",\"dec\",\"ogrp_gaiadr3\",\"otype\",\"sp_type\",\"main_id\",\"nr_det\",\"flux\",\"flux_cpval\",\"flux_ne\",\"Plx_dist\",\"ls_peak_pval\",\"ls_model_rchiq\",\"VarFlag\",\"Pwd\",\"RPlx\",\"rg_src_id\"]\n",
    "display(rc.tt_sources[sel_srcs][cols_write] )#[\"sp_type\",\"main_id\"]\n",
    "rc.tt_sources[sel_srcs][cols_write].write(region_dir_name+\"sources.ecsv\",overwrite=True,delimiter=',')\n",
    "\n",
    "col_rd = [\"Pwd\",\"Plx_dist\",\"RPlx\",\"flux_ne\"]\n",
    "for col in col_rd:\n",
    "    rc.tt_sources[col] = np.round(rc.tt_sources[col],2)\n",
    "cols_tex = [\"src_name\",\"main_id\",\"sp_type\"]+col_rd+ [\"flux_cpval\"]\n",
    "rc.tt_sources[sel_srcs][cols_tex].write(region_dir_name+\"sources.tex\", overwrite=True)\n"
   ]
  },
  {
   "cell_type": "code",
   "execution_count": 4,
   "id": "f9b8913d-551b-44a4-b746-72f93dcbc6fb",
   "metadata": {},
   "outputs": [],
   "source": [
    "srcs_ids = [357455 ,94932]"
   ]
  }
 ],
 "metadata": {
  "kernelspec": {
   "display_name": "Python 3 (ipykernel)",
   "language": "python",
   "name": "python3"
  },
  "language_info": {
   "codemirror_mode": {
    "name": "ipython",
    "version": 3
   },
   "file_extension": ".py",
   "mimetype": "text/x-python",
   "name": "python",
   "nbconvert_exporter": "python",
   "pygments_lexer": "ipython3",
   "version": "3.10.12"
  }
 },
 "nbformat": 4,
 "nbformat_minor": 5
}
