{
 "cells": [
  {
   "cell_type": "markdown",
   "id": "ba8e5203-a2c2-4d41-a2dc-b8628877d0cc",
   "metadata": {},
   "source": [
    "#Select VASCA sources based on chosen criteria"
   ]
  },
  {
   "cell_type": "code",
   "execution_count": 2,
   "id": "4f80db66-a40c-473c-9993-7ef764a1861a",
   "metadata": {},
   "outputs": [],
   "source": [
    "region_name = \"ALL_10-800\" #\"CAINGSGII_10-800\" #\"TDS\" #\"CAINGSGII_10-800\" #\"WD\" #\"MDIS_10-800\" #\"TDS\" #  _ELAISN1\n",
    "region_cat_fname = \"./vasca_pipeline/\"+region_name+\"/region_\"+region_name+\"_cat.fits\""
   ]
  },
  {
   "cell_type": "markdown",
   "id": "d7e5e14e-4c5e-49eb-9170-4ffc8bc1cde8",
   "metadata": {},
   "source": [
    "### Prepare tt_sources with variables for selection"
   ]
  },
  {
   "cell_type": "code",
   "execution_count": 4,
   "id": "3a81e293-e136-402c-aafb-b2f2ff5221e5",
   "metadata": {},
   "outputs": [
    {
     "name": "stderr",
     "output_type": "stream",
     "text": [
      "WARNING: UnitsWarning: 'log(cm.s**-2)' did not parse as fits unit: 'log' is not a recognized function If this is meant to be a custom unit, define it with 'u.def_unit'. To have it recognized inside a file reader or other code, enable it with 'u.add_enabled_units'. For details, see https://docs.astropy.org/en/latest/units/combining_and_defining.html [astropy.units.core]\n"
     ]
    },
    {
     "name": "stdout",
     "output_type": "stream",
     "text": [
      "Number of SIMBAD matches is: 4761  (56.84097421203438 )%\n",
      "Number of GAIA matches is: 6216  (74.21203438395415 )%\n",
      "Total number of matches is: 6885  (82.19914040114614 )%\n"
     ]
    },
    {
     "data": {
      "text/html": [
       "<div><i>Table length=42</i>\n",
       "<table id=\"table139974298036944\" class=\"table-striped table-bordered table-condensed\">\n",
       "<thead><tr><th>main_id</th><th>ra</th><th>dec</th><th>ra_prec</th><th>dec_prec</th><th>coo_err_maja</th><th>coo_err_mina</th><th>coo_err_angle</th><th>coo_qual</th><th>coo_wavelength</th><th>coo_bibcode</th><th>otype</th><th>otypes</th><th>distance_distance</th><th>distance_q</th><th>distance_unit</th><th>distance_merr</th><th>distance_perr</th><th>distance_method</th><th>distance_bibcode</th><th>match_distance</th><th>rvz_type</th><th>rvz_radvel</th><th>rvz_error</th><th>rvz_qual</th><th>rvz_wavelength</th><th>rvz_bibcode</th><th>z_value</th><th>sp_type</th><th>sp_qual</th><th>sp_bibcode</th><th>script_number_id</th><th>rg_src_id</th><th>simbad_match_id</th><th>ogrp</th></tr></thead>\n",
       "<thead><tr><th></th><th>deg</th><th>deg</th><th></th><th></th><th>mas</th><th>mas</th><th>deg</th><th></th><th></th><th></th><th></th><th></th><th></th><th></th><th></th><th></th><th></th><th></th><th></th><th>arcsec</th><th></th><th>km / s</th><th>km / s</th><th></th><th></th><th></th><th></th><th></th><th></th><th></th><th></th><th></th><th></th><th></th></tr></thead>\n",
       "<thead><tr><th>bytes32</th><th>float64</th><th>float64</th><th>int16</th><th>int16</th><th>float32</th><th>float32</th><th>int16</th><th>bytes1</th><th>bytes1</th><th>bytes32</th><th>bytes32</th><th>bytes32</th><th>float64</th><th>bytes1</th><th>bytes4</th><th>float64</th><th>float64</th><th>bytes8</th><th>bytes19</th><th>float32</th><th>bytes1</th><th>float64</th><th>float32</th><th>bytes1</th><th>bytes1</th><th>bytes32</th><th>float64</th><th>bytes32</th><th>bytes32</th><th>bytes32</th><th>int32</th><th>int32</th><th>int32</th><th>bytes8</th></tr></thead>\n",
       "<tr><td>V* V2276 Sgr</td><td>306.59244125</td><td>-43.6754825</td><td>14</td><td>14</td><td>0.331</td><td>0.248</td><td>90</td><td>A</td><td>O</td><td>2020yCat.1350....0G</td><td>CV*</td><td>CV*|V*|*|WD?</td><td>--</td><td>--</td><td>--</td><td>--</td><td>--</td><td>--</td><td>--</td><td>0.2714</td><td>--</td><td>--</td><td>--</td><td>--</td><td>--</td><td>--</td><td>--</td><td>--</td><td>--</td><td>--</td><td>348</td><td>21770</td><td>267</td><td>WD*</td></tr>\n",
       "<tr><td>SBSS 1612+554</td><td>243.31930499999993</td><td>55.357211944444444</td><td>14</td><td>14</td><td>0.031</td><td>0.028</td><td>90</td><td>A</td><td>O</td><td>2020yCat.1350....0G</td><td>WD*</td><td>WD*|Pu*|MIR|NIR|WD*|*|Opt|WD?|WD</td><td>65.9420</td><td>--</td><td>pc</td><td>-0.1309</td><td>0.1309</td><td>paral</td><td>2020yCat.1350....0G</td><td>0.1378</td><td>--</td><td>--</td><td>--</td><td>--</td><td>--</td><td>--</td><td>--</td><td>DA4.2</td><td>C</td><td>2011ApJ...743..138G</td><td>395</td><td>25273</td><td>288</td><td>WD*</td></tr>\n",
       "<tr><td>GALEX J161003.8+561350</td><td>242.51598291666667</td><td>56.23088694444445</td><td>14</td><td>14</td><td>0.128</td><td>0.121</td><td>90</td><td>A</td><td>O</td><td>2020yCat.1350....0G</td><td>WD?</td><td>*|UV|WD?|WD?</td><td>--</td><td>--</td><td>--</td><td>--</td><td>--</td><td>--</td><td>--</td><td>0.3921</td><td>--</td><td>--</td><td>--</td><td>--</td><td>--</td><td>--</td><td>--</td><td>--</td><td>--</td><td>--</td><td>401</td><td>26195</td><td>295</td><td>WD*</td></tr>\n",
       "<tr><td>V* IY UMa</td><td>160.98645291666665</td><td>58.12553333333334</td><td>14</td><td>14</td><td>0.036</td><td>0.046</td><td>90</td><td>A</td><td>O</td><td>2020yCat.1350....0G</td><td>CV*</td><td>PM*|CV*|CV*|V*|PM*|NIR|*|*|CV?|C</td><td>182.0470</td><td>--</td><td>pc</td><td>-2.2337</td><td>2.2337</td><td>paral</td><td>2020yCat.1350....0G</td><td>0.3422</td><td>z</td><td>0.001</td><td>0.000</td><td>E</td><td>--</td><td>2009ApJS..182..543A</td><td>0.0005300</td><td>--</td><td>--</td><td>--</td><td>494</td><td>32448</td><td>350</td><td>WD*</td></tr>\n",
       "<tr><td>2QZ J100132.7+013057</td><td>150.38664125</td><td>1.5162241666666667</td><td>14</td><td>14</td><td>0.364</td><td>0.397</td><td>90</td><td>A</td><td>O</td><td>2020yCat.1350....0G</td><td>WD*</td><td>WD*|WD*|blu|*|*|G|Opt|UV|WD?</td><td>1110.4600</td><td>--</td><td>pc</td><td>-129.4600</td><td>129.4600</td><td>ST-L</td><td>2017MNRAS.469.2102A</td><td>0.5794</td><td>v</td><td>-74.400</td><td>19.330</td><td>C</td><td>O</td><td>2017MNRAS.469.2102A</td><td>-0.0002480</td><td>DA</td><td>D</td><td>2015MNRAS.446.4078K</td><td>541</td><td>34658</td><td>390</td><td>WD*</td></tr>\n",
       "<tr><td>M31N 2008-05d</td><td>11.007374999999998</td><td>41.07325</td><td>6</td><td>6</td><td>--</td><td>--</td><td>0</td><td>C</td><td>O</td><td>2008ATel.1602....1H</td><td>No*</td><td>No*</td><td>--</td><td>--</td><td>--</td><td>--</td><td>--</td><td>--</td><td>--</td><td>0.5632</td><td>--</td><td>--</td><td>--</td><td>--</td><td>--</td><td>--</td><td>--</td><td>--</td><td>--</td><td>--</td><td>858</td><td>53048</td><td>581</td><td>WD*</td></tr>\n",
       "<tr><td>...</td><td>...</td><td>...</td><td>...</td><td>...</td><td>...</td><td>...</td><td>...</td><td>...</td><td>...</td><td>...</td><td>...</td><td>...</td><td>...</td><td>...</td><td>...</td><td>...</td><td>...</td><td>...</td><td>...</td><td>...</td><td>...</td><td>...</td><td>...</td><td>...</td><td>...</td><td>...</td><td>...</td><td>...</td><td>...</td><td>...</td><td>...</td><td>...</td><td>...</td><td>...</td></tr>\n",
       "<tr><td>V* MQ Dra</td><td>238.37966583333332</td><td>55.2706875</td><td>14</td><td>14</td><td>0.055</td><td>0.066</td><td>90</td><td>A</td><td>O</td><td>2020yCat.1350....0G</td><td>CV*</td><td>EB*|V*|CV*|V*|CV*|NIR|*|Opt|X</td><td>186.2340</td><td>--</td><td>pc</td><td>-3.2116</td><td>3.2116</td><td>paral</td><td>2018yCat.1345....0G</td><td>0.2065</td><td>z</td><td>-0.000</td><td>0.000</td><td>E</td><td>--</td><td>2008ApJS..175..297A</td><td>-0.0003500</td><td>M5Ve</td><td>D</td><td>2003ApJ...583..902S</td><td>6442</td><td>1232731</td><td>3758</td><td>WD*</td></tr>\n",
       "<tr><td>GALEX J140000.3+031251</td><td>210.00146291666664</td><td>3.2144083333333335</td><td>14</td><td>14</td><td>0.186</td><td>0.135</td><td>90</td><td>A</td><td>O</td><td>2020yCat.1350....0G</td><td>WD*</td><td>WD*|WD*|WD*|WD*|WD*|WD*|*|Opt|UV</td><td>313.7650</td><td>--</td><td>pc</td><td>-20.6052</td><td>20.6052</td><td>paral</td><td>2020yCat.1350....0G</td><td>0.2679</td><td>v</td><td>19.000</td><td>10.000</td><td>D</td><td>O</td><td>2019MNRAS.486.2169K</td><td>0.0000630</td><td>DA</td><td>D</td><td>2006ApJS..167...40E</td><td>6973</td><td>1521738</td><td>4102</td><td>WD*</td></tr>\n",
       "<tr><td>Gaia DR3 6175066552397551616</td><td>207.03526291666665</td><td>-30.479195833333332</td><td>14</td><td>14</td><td>0.464</td><td>0.349</td><td>90</td><td>A</td><td>O</td><td>2020yCat.1350....0G</td><td>WD?</td><td>*|WD?</td><td>--</td><td>--</td><td>--</td><td>--</td><td>--</td><td>--</td><td>--</td><td>0.1621</td><td>--</td><td>--</td><td>--</td><td>--</td><td>--</td><td>--</td><td>--</td><td>--</td><td>--</td><td>--</td><td>7005</td><td>1551422</td><td>4122</td><td>WD*</td></tr>\n",
       "<tr><td>M31N 2011-08b</td><td>11.199749999999998</td><td>41.636</td><td>6</td><td>6</td><td>--</td><td>--</td><td>0</td><td>D</td><td>--</td><td>--</td><td>No*</td><td>SN*|No*</td><td>--</td><td>--</td><td>--</td><td>--</td><td>--</td><td>--</td><td>--</td><td>0.1456</td><td>--</td><td>--</td><td>--</td><td>--</td><td>--</td><td>--</td><td>--</td><td>--</td><td>--</td><td>--</td><td>8237</td><td>2602713</td><td>4799</td><td>WD*</td></tr>\n",
       "<tr><td>V* V500 And</td><td>10.610416666666666</td><td>42.26027777777778</td><td>5</td><td>5</td><td>--</td><td>--</td><td>0</td><td>D</td><td>--</td><td>2009PASJ...61S.395K</td><td>CV*</td><td>CV*|V*|No*</td><td>--</td><td>--</td><td>--</td><td>--</td><td>--</td><td>--</td><td>--</td><td>0.3801</td><td>--</td><td>--</td><td>--</td><td>--</td><td>--</td><td>--</td><td>--</td><td>--</td><td>--</td><td>--</td><td>8263</td><td>2626037</td><td>4808</td><td>WD*</td></tr>\n",
       "<tr><td>AT 2018lcl</td><td>10.608666666666666</td><td>41.066944444444445</td><td>6</td><td>6</td><td>--</td><td>--</td><td>0</td><td>D</td><td>--</td><td>--</td><td>No*</td><td>No*|No*|ev</td><td>--</td><td>--</td><td>--</td><td>--</td><td>--</td><td>--</td><td>--</td><td>0.9198</td><td>--</td><td>--</td><td>--</td><td>--</td><td>--</td><td>--</td><td>--</td><td>--</td><td>--</td><td>--</td><td>8264</td><td>2626143</td><td>4809</td><td>WD*</td></tr>\n",
       "</table></div>"
      ],
      "text/plain": [
       "<Table length=42>\n",
       "          main_id                    ra         ... simbad_match_id  ogrp \n",
       "                                    deg         ...                       \n",
       "          bytes32                 float64       ...      int32      bytes8\n",
       "---------------------------- ------------------ ... --------------- ------\n",
       "                V* V2276 Sgr       306.59244125 ...             267    WD*\n",
       "               SBSS 1612+554 243.31930499999993 ...             288    WD*\n",
       "      GALEX J161003.8+561350 242.51598291666667 ...             295    WD*\n",
       "                   V* IY UMa 160.98645291666665 ...             350    WD*\n",
       "        2QZ J100132.7+013057       150.38664125 ...             390    WD*\n",
       "               M31N 2008-05d 11.007374999999998 ...             581    WD*\n",
       "                         ...                ... ...             ...    ...\n",
       "                   V* MQ Dra 238.37966583333332 ...            3758    WD*\n",
       "      GALEX J140000.3+031251 210.00146291666664 ...            4102    WD*\n",
       "Gaia DR3 6175066552397551616 207.03526291666665 ...            4122    WD*\n",
       "               M31N 2011-08b 11.199749999999998 ...            4799    WD*\n",
       "                 V* V500 And 10.610416666666666 ...            4808    WD*\n",
       "                  AT 2018lcl 10.608666666666666 ...            4809    WD*"
      ]
     },
     "metadata": {},
     "output_type": "display_data"
    }
   ],
   "source": [
    "%matplotlib widget\n",
    "import ipywidgets as widgets\n",
    "from IPython.display import display\n",
    "import matplotlib.pyplot as plt\n",
    "import numpy as np\n",
    "from astropy.table import Table\n",
    "from vasca.region import Region\n",
    "import vasca.visualization as vvis\n",
    "from vasca.utils import otype2ogroup,dd_ogrp2otypes, dd_ogrp2col, get_col_cycler,add_ogrp, color_palette, nb_fig\n",
    "from astropy import units as uu\n",
    "from astropy.table import Column\n",
    "\n",
    "# Get region\n",
    "rc = Region()\n",
    "rc.load_from_fits(region_cat_fname)\n",
    "rc.tt_sources.sort([\"dec\"])\n",
    "\n",
    "#Add Object group to source table\n",
    "rc.copy_table_columns(\"tt_sources\",\"tt_simbad\",[\"otype\",\"ogrp\",\"match_distance\",\"sp_type\",\"main_id\"],\"rg_src_id\")\n",
    "rc.tt_sources.rename_column(\"match_distance\",\"match_distance_simbad\")\n",
    "rc.tt_sources.rename_column(\"ogrp\",\"ogrp_simbad\")\n",
    "sel_simbad = rc.tt_sources[\"sel\"].data\n",
    "print(f\"Number of SIMBAD matches is: {sel_simbad.sum()}  ({100* sel_simbad.sum() / len(rc.tt_sources)} )%\")\n",
    "\n",
    "rc.copy_table_columns(\"tt_sources\",\"tt_gaiadr3\",[\"PQSO\", \"PGal\", \"PSS\",\"match_distance\",\"Gmag_abs\",\"BP-RP\", \"ogrp\", \"Plx\",\"e_Plx\",\"Plx_dist\",\"VarFlag\"],\"rg_src_id\")\n",
    "rc.tt_sources.rename_column(\"match_distance\",\"match_distance_gaiadr3\")\n",
    "rc.tt_sources.rename_column(\"ogrp\",\"ogrp_gaiadr3\")\n",
    "sel_gaiadr3 = rc.tt_sources[\"sel\"].data\n",
    "print(f\"Number of GAIA matches is: {sel_gaiadr3.sum()}  ({100*sel_gaiadr3.sum() / len(rc.tt_sources)} )%\")\n",
    "\n",
    "sel_match = np.array(sel_simbad+sel_gaiadr3, dtype=bool)\n",
    "print(f\"Total number of matches is: {sel_match.sum()}  ({100*sel_match.sum() / len(rc.tt_sources)} )%\")\n",
    "\n",
    "#Copy lomb scargle result into tt_sources\n",
    "rc.copy_table_columns(\"tt_sources\",\"tt_lombscargle\",[\"ls_peak_pval\", \"ls_model_rchiq\"],\"rg_src_id\")\n",
    "\n",
    "display(rc.tt_simbad[rc.tt_simbad[\"ogrp\"]==\"WD*\"])"
   ]
  },
  {
   "cell_type": "markdown",
   "id": "09f0834f-a5c7-4db1-aa77-b593f93ed1ca",
   "metadata": {},
   "source": [
    "### Print info for selected sources"
   ]
  },
  {
   "cell_type": "code",
   "execution_count": 5,
   "id": "52c7472a-a628-488d-a500-dfbfaffa8610",
   "metadata": {},
   "outputs": [
    {
     "name": "stdout",
     "output_type": "stream",
     "text": [
      "\n",
      "srcs_ids = [193067 ,432606 ,535864 ,451644 ,1551422 ,541266 ,581995 ,625693 ,187856 ,8215 ,494782 ,166179 ,172775 ,34658 ,98746 ,1521738 ,2136829 ,297278 ,426363 ,426330 ,151796 ,305192 ,259271 ,388172 ,265150 ,54184 ,472623 ,419001 ,25273 ,26195 ,32448 ,199832 ,]\n",
      "\n",
      "Total Nr. of sources: 32 \n",
      "\n"
     ]
    },
    {
     "data": {
      "text/html": [
       "<div><i>Table length=32</i>\n",
       "<table id=\"table139976926903408\" class=\"table-striped table-bordered table-condensed\">\n",
       "<thead><tr><th>ra</th><th>dec</th><th>ogrp_gaiadr3</th><th>otype</th><th>sp_type</th><th>main_id</th><th>nr_det</th><th>flux</th><th>flux_cpval</th><th>flux_ne</th><th>Plx_dist</th><th>ls_peak_pval</th><th>ls_model_rchiq</th><th>VarFlag</th><th>rg_src_id</th></tr></thead>\n",
       "<thead><tr><th>deg</th><th>deg</th><th></th><th></th><th></th><th></th><th></th><th>1e-06 Jy</th><th></th><th></th><th>pc</th><th></th><th></th><th></th><th></th></tr></thead>\n",
       "<thead><tr><th>float64</th><th>float64</th><th>bytes8</th><th>bytes32</th><th>bytes32</th><th>bytes32</th><th>int32[2]</th><th>float32[2]</th><th>float32[2]</th><th>float32[2]</th><th>float32</th><th>float32</th><th>float32</th><th>bytes32</th><th>int32</th></tr></thead>\n",
       "<tr><td>303.0110051436914</td><td>-48.39410878608832</td><td>Star*</td><td>WD?</td><td></td><td>Gaia DR3 6669015352243852800</td><td>18 .. 6</td><td>145.71657 .. 53.254395</td><td>0.0 .. 4.538933e-19</td><td>0.10808045 .. 0.30587497</td><td>20120.725</td><td>-1.0</td><td>-1.0</td><td>VARIABLE</td><td>193067</td></tr>\n",
       "<tr><td>79.85087717838213</td><td>-48.00660083372567</td><td>WD*</td><td>none</td><td>none</td><td>none</td><td>19 .. 14</td><td>10.857628 .. 4.288318</td><td>3.626451e-12 .. 0.092903994</td><td>0.17871924 .. 0.15028061</td><td>433.78302</td><td>-1.0</td><td>-1.0</td><td>NOT_AVAILABLE</td><td>432606</td></tr>\n",
       "<tr><td>17.908561463231784</td><td>-46.124209856672074</td><td>WD*</td><td>none</td><td>none</td><td>none</td><td>12 .. 2</td><td>210.91878 .. 51.06775</td><td>4.861283e-20 .. 0.8805627</td><td>0.05030113 .. --</td><td>152.56229</td><td>-1.0</td><td>-1.0</td><td>VARIABLE</td><td>535864</td></tr>\n",
       "<tr><td>53.603003894660404</td><td>-35.35703047345705</td><td>WD*</td><td>WD?</td><td></td><td>GALEX J033424.7-352125</td><td>24 .. 28</td><td>309.9156 .. 470.0984</td><td>0.106752574 .. 9.816341e-09</td><td>0.011271525 .. 0.025724309</td><td>430.47784</td><td>0.5929085</td><td>0.87381697</td><td>NOT_AVAILABLE</td><td>451644</td></tr>\n",
       "<tr><td>207.03531485024092</td><td>-30.479189687581158</td><td>Star*</td><td>WD?</td><td></td><td>Gaia DR3 6175066552397551616</td><td>15 .. -1</td><td>144.80975 .. -1.0</td><td>1.1032699e-20 .. -1.0</td><td>0.060247365 .. --</td><td>nan</td><td>-1.0</td><td>-1.0</td><td>NOT_AVAILABLE</td><td>1551422</td></tr>\n",
       "<tr><td>12.321346896575124</td><td>-25.432354111852234</td><td>WD*</td><td>WD*</td><td>DA</td><td>GALEX J004917.1-252556</td><td>11 .. 1</td><td>73.65471 .. 41.309494</td><td>1.0632669e-08 .. -1.0</td><td>0.04259176 .. --</td><td>99.60556</td><td>-1.0</td><td>-1.0</td><td>NOT_AVAILABLE</td><td>541266</td></tr>\n",
       "<tr><td>...</td><td>...</td><td>...</td><td>...</td><td>...</td><td>...</td><td>...</td><td>...</td><td>...</td><td>...</td><td>...</td><td>...</td><td>...</td><td>...</td><td>...</td></tr>\n",
       "<tr><td>49.89487839440356</td><td>41.93511662149011</td><td>WD*</td><td>none</td><td>none</td><td>none</td><td>12 .. 10</td><td>146.99852 .. 48.611095</td><td>7.10371e-20 .. 0.005771271</td><td>0.0510717 .. 0.05662148</td><td>204.54918</td><td>-1.0</td><td>-1.0</td><td>NOT_AVAILABLE</td><td>472623</td></tr>\n",
       "<tr><td>141.17228132428698</td><td>51.26618673844799</td><td>WD*</td><td>WD*</td><td>DA</td><td>GALEX J092441.3+511558</td><td>5 .. 5</td><td>151.06789 .. 224.87167</td><td>0.0018218284 .. 4.5588277e-07</td><td>0.02447616 .. 0.052893884</td><td>510.59485</td><td>-1.0</td><td>-1.0</td><td>NOT_AVAILABLE</td><td>419001</td></tr>\n",
       "<tr><td>243.31937179444097</td><td>55.35720712328874</td><td>WD*</td><td>WD*</td><td>DA4.2</td><td>SBSS 1612+554</td><td>40 .. 29</td><td>943.7087 .. 438.76984</td><td>0.0 .. 5.3318298e-14</td><td>0.023023272 .. 0.027591381</td><td>65.942184</td><td>1.0568034e-05</td><td>5.51139</td><td>VARIABLE</td><td>25273</td></tr>\n",
       "<tr><td>242.516107466015</td><td>56.23080270549403</td><td>WD*</td><td>WD?</td><td></td><td>GALEX J161003.8+561350</td><td>44 .. 6</td><td>374.51685 .. 536.80164</td><td>5.3856186e-16 .. 1.0536713e-36</td><td>0.017631114 .. 0.10029933</td><td>853.5336</td><td>0.00040659597</td><td>2.0001616</td><td>NOT_AVAILABLE</td><td>26195</td></tr>\n",
       "<tr><td>160.98628310403117</td><td>58.12556445357027</td><td>WD*</td><td>CV*</td><td></td><td>V* IY UMa</td><td>43 .. 3</td><td>200.61136 .. 207.43813</td><td>0.0 .. 7.736314e-22</td><td>0.24173328 .. 0.14491995</td><td>182.04657</td><td>0.16768725</td><td>209.25395</td><td>VARIABLE</td><td>32448</td></tr>\n",
       "<tr><td>261.00035147818414</td><td>60.7477214367325</td><td>WD*</td><td>WD?</td><td></td><td>ZTF J172400.04+604451.8</td><td>25 .. 14</td><td>43.026752 .. 51.419567</td><td>0.0 .. 1.3405564e-31</td><td>0.14759578 .. 0.08222167</td><td>689.22736</td><td>0.19052197</td><td>15.530447</td><td>NOT_AVAILABLE</td><td>199832</td></tr>\n",
       "</table></div>"
      ],
      "text/plain": [
       "<Table length=32>\n",
       "        ra                 dec         ogrp_gaiadr3 ...    VarFlag    rg_src_id\n",
       "       deg                 deg                      ...                        \n",
       "     float64             float64          bytes8    ...    bytes32      int32  \n",
       "------------------ ------------------- ------------ ... ------------- ---------\n",
       " 303.0110051436914  -48.39410878608832        Star* ...      VARIABLE    193067\n",
       " 79.85087717838213  -48.00660083372567          WD* ... NOT_AVAILABLE    432606\n",
       "17.908561463231784 -46.124209856672074          WD* ...      VARIABLE    535864\n",
       "53.603003894660404  -35.35703047345705          WD* ... NOT_AVAILABLE    451644\n",
       "207.03531485024092 -30.479189687581158        Star* ... NOT_AVAILABLE   1551422\n",
       "12.321346896575124 -25.432354111852234          WD* ... NOT_AVAILABLE    541266\n",
       "               ...                 ...          ... ...           ...       ...\n",
       " 49.89487839440356   41.93511662149011          WD* ... NOT_AVAILABLE    472623\n",
       "141.17228132428698   51.26618673844799          WD* ... NOT_AVAILABLE    419001\n",
       "243.31937179444097   55.35720712328874          WD* ...      VARIABLE     25273\n",
       "  242.516107466015   56.23080270549403          WD* ... NOT_AVAILABLE     26195\n",
       "160.98628310403117   58.12556445357027          WD* ...      VARIABLE     32448\n",
       "261.00035147818414    60.7477214367325          WD* ... NOT_AVAILABLE    199832"
      ]
     },
     "metadata": {},
     "output_type": "display_data"
    }
   ],
   "source": [
    "# Make selection\n",
    "sel_otype = rc.tt_sources[\"otype\"] ==  \"RR*\"# \"No*\"#\"HS?\" #\"BS*\" #\"PM*\" # # \"SN*\" #\"EB*\"\n",
    "sel_otypes = (rc.tt_sources[\"otype\"] ==  \"WD?\")  + (rc.tt_sources[\"otype\"] ==\"WD*\") + (rc.tt_sources[\"ogrp_gaiadr3\"] ==\"WD*\")\n",
    "sel_flux_nxv = rc.tt_sources[\"flux_nxv\"][:,0]>2\n",
    "sel_flux_hr = rc.tt_sources[\"hr\"]>2\n",
    "sel_src_id = rc.tt_sources[\"rg_src_id\"]==15179\n",
    "sel_period = (rc.tt_sources[\"ls_peak_pval\"]>-0.5) * (rc.tt_sources[\"ls_peak_pval\"]<0.000000573303) * (rc.tt_sources[\"ls_model_rchiq\"]<1.1)# # 3 sigma 0.002699796063, 4 sigma 0.000063342484, 5 sigma 0.000000573303\n",
    "sel_srcs =  sel_otypes #sel_period #sel_otypes  #sel_src_id  #sel_flux_nxv #sel_otype # sel_flux_nxv_fuv # sel_flux_hr#\n",
    "\n",
    "#Print oout list of source IDs to be used for further use, e.g. in inspect_sources.ipynb\n",
    "print(\"\\nsrcs_ids = [\", end=\"\")\n",
    "for src_id in rc.tt_sources[sel_srcs][\"rg_src_id\"].data:\n",
    "    print(src_id,\",\", end=\"\")\n",
    "print(\"]\\n\")\n",
    "print(\"Total Nr. of sources:\",sel_srcs.sum(),\"\\n\")\n",
    "\n",
    "#Display match and simbad table for selected sources\n",
    "cols_write = [\"ra\",\"dec\",\"ogrp_gaiadr3\",\"otype\",\"sp_type\",\"main_id\",\"nr_det\",\"flux\",\"flux_cpval\",\"flux_ne\",\"Plx_dist\",\"ls_peak_pval\",\"ls_model_rchiq\",\"VarFlag\",\"rg_src_id\"]\n",
    "display(rc.tt_sources[sel_srcs][cols_write] )#[\"sp_type\",\"main_id\"]\n",
    "rc.tt_sources[sel_srcs][cols_write].write(\"sources.ecsv\",overwrite=True,delimiter=',')"
   ]
  },
  {
   "cell_type": "code",
   "execution_count": null,
   "id": "1e96156e-d1ef-4d8a-81ca-ecc8dfbe8238",
   "metadata": {},
   "outputs": [],
   "source": []
  }
 ],
 "metadata": {
  "kernelspec": {
   "display_name": "Python 3 (ipykernel)",
   "language": "python",
   "name": "python3"
  },
  "language_info": {
   "codemirror_mode": {
    "name": "ipython",
    "version": 3
   },
   "file_extension": ".py",
   "mimetype": "text/x-python",
   "name": "python",
   "nbconvert_exporter": "python",
   "pygments_lexer": "ipython3",
   "version": "3.10.12"
  }
 },
 "nbformat": 4,
 "nbformat_minor": 5
}
