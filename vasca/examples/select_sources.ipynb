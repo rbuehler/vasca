{
 "cells": [
  {
   "cell_type": "markdown",
   "id": "ba8e5203-a2c2-4d41-a2dc-b8628877d0cc",
   "metadata": {},
   "source": [
    "#Select VASCA sources based on chosen criteria"
   ]
  },
  {
   "cell_type": "code",
   "execution_count": 1,
   "id": "4f80db66-a40c-473c-9993-7ef764a1861a",
   "metadata": {},
   "outputs": [],
   "source": [
    "region_name = \"ALL_10-800\" #\"CAINGSGII_10-800\" #\"TDS\" #\"CAINGSGII_10-800\" #\"WD\" #\"MDIS_10-800\" #\"TDS\" #  _ELAISN1\n",
    "region_cat_fname = \"./vasca_pipeline/\"+region_name+\"/region_\"+region_name+\"_cat.fits\""
   ]
  },
  {
   "cell_type": "markdown",
   "id": "d7e5e14e-4c5e-49eb-9170-4ffc8bc1cde8",
   "metadata": {},
   "source": [
    "### Prepare tt_sources with variables for selection"
   ]
  },
  {
   "cell_type": "code",
   "execution_count": 2,
   "id": "3a81e293-e136-402c-aafb-b2f2ff5221e5",
   "metadata": {},
   "outputs": [
    {
     "name": "stderr",
     "output_type": "stream",
     "text": [
      "WARNING: UnitsWarning: 'log(cm.s**-2)' did not parse as fits unit: 'log' is not a recognized function If this is meant to be a custom unit, define it with 'u.def_unit'. To have it recognized inside a file reader or other code, enable it with 'u.add_enabled_units'. For details, see https://docs.astropy.org/en/latest/units/combining_and_defining.html [astropy.units.core]\n"
     ]
    },
    {
     "name": "stdout",
     "output_type": "stream",
     "text": [
      "Number of SIMBAD matches is: 4761  (56.84097421203438 )%\n",
      "Number of GAIA matches is: 6216  (74.21203438395415 )%\n",
      "Number of GAIA WD matches is: 22  (0.2626552053486151 )%\n",
      "Total number of matches is: 6885  (82.19914040114614 )%\n"
     ]
    },
    {
     "data": {
      "text/html": [
       "<div><i>Table length=42</i>\n",
       "<table id=\"table139857905120400\" class=\"table-striped table-bordered table-condensed\">\n",
       "<thead><tr><th>main_id</th><th>ra</th><th>dec</th><th>ra_prec</th><th>dec_prec</th><th>coo_err_maja</th><th>coo_err_mina</th><th>coo_err_angle</th><th>coo_qual</th><th>coo_wavelength</th><th>coo_bibcode</th><th>otype</th><th>otypes</th><th>distance_distance</th><th>distance_q</th><th>distance_unit</th><th>distance_merr</th><th>distance_perr</th><th>distance_method</th><th>distance_bibcode</th><th>match_distance</th><th>rvz_type</th><th>rvz_radvel</th><th>rvz_error</th><th>rvz_qual</th><th>rvz_wavelength</th><th>rvz_bibcode</th><th>z_value</th><th>sp_type</th><th>sp_qual</th><th>sp_bibcode</th><th>script_number_id</th><th>rg_src_id</th><th>simbad_match_id</th><th>ogrp</th></tr></thead>\n",
       "<thead><tr><th></th><th>deg</th><th>deg</th><th></th><th></th><th>mas</th><th>mas</th><th>deg</th><th></th><th></th><th></th><th></th><th></th><th></th><th></th><th></th><th></th><th></th><th></th><th></th><th>arcsec</th><th></th><th>km / s</th><th>km / s</th><th></th><th></th><th></th><th></th><th></th><th></th><th></th><th></th><th></th><th></th><th></th></tr></thead>\n",
       "<thead><tr><th>bytes32</th><th>float64</th><th>float64</th><th>int16</th><th>int16</th><th>float32</th><th>float32</th><th>int16</th><th>bytes1</th><th>bytes1</th><th>bytes32</th><th>bytes32</th><th>bytes32</th><th>float64</th><th>bytes1</th><th>bytes4</th><th>float64</th><th>float64</th><th>bytes8</th><th>bytes19</th><th>float32</th><th>bytes1</th><th>float64</th><th>float32</th><th>bytes1</th><th>bytes1</th><th>bytes32</th><th>float64</th><th>bytes32</th><th>bytes32</th><th>bytes32</th><th>int32</th><th>int32</th><th>int32</th><th>bytes8</th></tr></thead>\n",
       "<tr><td>V* V2276 Sgr</td><td>306.59244125</td><td>-43.6754825</td><td>14</td><td>14</td><td>0.331</td><td>0.248</td><td>90</td><td>A</td><td>O</td><td>2020yCat.1350....0G</td><td>CV*</td><td>CV*|V*|*|WD?</td><td>--</td><td>--</td><td>--</td><td>--</td><td>--</td><td>--</td><td>--</td><td>0.2714</td><td>--</td><td>--</td><td>--</td><td>--</td><td>--</td><td>--</td><td>--</td><td>--</td><td>--</td><td>--</td><td>348</td><td>21770</td><td>267</td><td>WD*</td></tr>\n",
       "<tr><td>SBSS 1612+554</td><td>243.31930499999993</td><td>55.357211944444444</td><td>14</td><td>14</td><td>0.031</td><td>0.028</td><td>90</td><td>A</td><td>O</td><td>2020yCat.1350....0G</td><td>WD*</td><td>WD*|Pu*|MIR|NIR|WD*|*|Opt|WD?|WD</td><td>65.9420</td><td>--</td><td>pc</td><td>-0.1309</td><td>0.1309</td><td>paral</td><td>2020yCat.1350....0G</td><td>0.1378</td><td>--</td><td>--</td><td>--</td><td>--</td><td>--</td><td>--</td><td>--</td><td>DA4.2</td><td>C</td><td>2011ApJ...743..138G</td><td>395</td><td>25273</td><td>288</td><td>WD*</td></tr>\n",
       "<tr><td>GALEX J161003.8+561350</td><td>242.51598291666667</td><td>56.23088694444445</td><td>14</td><td>14</td><td>0.128</td><td>0.121</td><td>90</td><td>A</td><td>O</td><td>2020yCat.1350....0G</td><td>WD?</td><td>*|UV|WD?|WD?</td><td>--</td><td>--</td><td>--</td><td>--</td><td>--</td><td>--</td><td>--</td><td>0.3921</td><td>--</td><td>--</td><td>--</td><td>--</td><td>--</td><td>--</td><td>--</td><td>--</td><td>--</td><td>--</td><td>401</td><td>26195</td><td>295</td><td>WD*</td></tr>\n",
       "<tr><td>V* IY UMa</td><td>160.98645291666665</td><td>58.12553333333334</td><td>14</td><td>14</td><td>0.036</td><td>0.046</td><td>90</td><td>A</td><td>O</td><td>2020yCat.1350....0G</td><td>CV*</td><td>PM*|CV*|CV*|V*|PM*|NIR|*|*|CV?|C</td><td>182.0470</td><td>--</td><td>pc</td><td>-2.2337</td><td>2.2337</td><td>paral</td><td>2020yCat.1350....0G</td><td>0.3422</td><td>z</td><td>0.001</td><td>0.000</td><td>E</td><td>--</td><td>2009ApJS..182..543A</td><td>0.0005300</td><td>--</td><td>--</td><td>--</td><td>494</td><td>32448</td><td>350</td><td>WD*</td></tr>\n",
       "<tr><td>2QZ J100132.7+013057</td><td>150.38664125</td><td>1.5162241666666667</td><td>14</td><td>14</td><td>0.364</td><td>0.397</td><td>90</td><td>A</td><td>O</td><td>2020yCat.1350....0G</td><td>WD*</td><td>WD*|WD*|blu|*|*|G|Opt|UV|WD?</td><td>1110.4600</td><td>--</td><td>pc</td><td>-129.4600</td><td>129.4600</td><td>ST-L</td><td>2017MNRAS.469.2102A</td><td>0.5794</td><td>v</td><td>-74.400</td><td>19.330</td><td>C</td><td>O</td><td>2017MNRAS.469.2102A</td><td>-0.0002480</td><td>DA</td><td>D</td><td>2015MNRAS.446.4078K</td><td>541</td><td>34658</td><td>390</td><td>WD*</td></tr>\n",
       "<tr><td>M31N 2008-05d</td><td>11.007374999999998</td><td>41.07325</td><td>6</td><td>6</td><td>--</td><td>--</td><td>0</td><td>C</td><td>O</td><td>2008ATel.1602....1H</td><td>No*</td><td>No*</td><td>--</td><td>--</td><td>--</td><td>--</td><td>--</td><td>--</td><td>--</td><td>0.5632</td><td>--</td><td>--</td><td>--</td><td>--</td><td>--</td><td>--</td><td>--</td><td>--</td><td>--</td><td>--</td><td>858</td><td>53048</td><td>581</td><td>WD*</td></tr>\n",
       "<tr><td>...</td><td>...</td><td>...</td><td>...</td><td>...</td><td>...</td><td>...</td><td>...</td><td>...</td><td>...</td><td>...</td><td>...</td><td>...</td><td>...</td><td>...</td><td>...</td><td>...</td><td>...</td><td>...</td><td>...</td><td>...</td><td>...</td><td>...</td><td>...</td><td>...</td><td>...</td><td>...</td><td>...</td><td>...</td><td>...</td><td>...</td><td>...</td><td>...</td><td>...</td><td>...</td></tr>\n",
       "<tr><td>V* MQ Dra</td><td>238.37966583333332</td><td>55.2706875</td><td>14</td><td>14</td><td>0.055</td><td>0.066</td><td>90</td><td>A</td><td>O</td><td>2020yCat.1350....0G</td><td>CV*</td><td>EB*|V*|CV*|V*|CV*|NIR|*|Opt|X</td><td>186.2340</td><td>--</td><td>pc</td><td>-3.2116</td><td>3.2116</td><td>paral</td><td>2018yCat.1345....0G</td><td>0.2065</td><td>z</td><td>-0.000</td><td>0.000</td><td>E</td><td>--</td><td>2008ApJS..175..297A</td><td>-0.0003500</td><td>M5Ve</td><td>D</td><td>2003ApJ...583..902S</td><td>6442</td><td>1232731</td><td>3758</td><td>WD*</td></tr>\n",
       "<tr><td>GALEX J140000.3+031251</td><td>210.00146291666664</td><td>3.2144083333333335</td><td>14</td><td>14</td><td>0.186</td><td>0.135</td><td>90</td><td>A</td><td>O</td><td>2020yCat.1350....0G</td><td>WD*</td><td>WD*|WD*|WD*|WD*|WD*|WD*|*|Opt|UV</td><td>313.7650</td><td>--</td><td>pc</td><td>-20.6052</td><td>20.6052</td><td>paral</td><td>2020yCat.1350....0G</td><td>0.2679</td><td>v</td><td>19.000</td><td>10.000</td><td>D</td><td>O</td><td>2019MNRAS.486.2169K</td><td>0.0000630</td><td>DA</td><td>D</td><td>2006ApJS..167...40E</td><td>6973</td><td>1521738</td><td>4102</td><td>WD*</td></tr>\n",
       "<tr><td>Gaia DR3 6175066552397551616</td><td>207.03526291666665</td><td>-30.479195833333332</td><td>14</td><td>14</td><td>0.464</td><td>0.349</td><td>90</td><td>A</td><td>O</td><td>2020yCat.1350....0G</td><td>WD?</td><td>*|WD?</td><td>--</td><td>--</td><td>--</td><td>--</td><td>--</td><td>--</td><td>--</td><td>0.1621</td><td>--</td><td>--</td><td>--</td><td>--</td><td>--</td><td>--</td><td>--</td><td>--</td><td>--</td><td>--</td><td>7005</td><td>1551422</td><td>4122</td><td>WD*</td></tr>\n",
       "<tr><td>M31N 2011-08b</td><td>11.199749999999998</td><td>41.636</td><td>6</td><td>6</td><td>--</td><td>--</td><td>0</td><td>D</td><td>--</td><td>--</td><td>No*</td><td>SN*|No*</td><td>--</td><td>--</td><td>--</td><td>--</td><td>--</td><td>--</td><td>--</td><td>0.1456</td><td>--</td><td>--</td><td>--</td><td>--</td><td>--</td><td>--</td><td>--</td><td>--</td><td>--</td><td>--</td><td>8237</td><td>2602713</td><td>4799</td><td>WD*</td></tr>\n",
       "<tr><td>V* V500 And</td><td>10.610416666666666</td><td>42.26027777777778</td><td>5</td><td>5</td><td>--</td><td>--</td><td>0</td><td>D</td><td>--</td><td>2009PASJ...61S.395K</td><td>CV*</td><td>CV*|V*|No*</td><td>--</td><td>--</td><td>--</td><td>--</td><td>--</td><td>--</td><td>--</td><td>0.3801</td><td>--</td><td>--</td><td>--</td><td>--</td><td>--</td><td>--</td><td>--</td><td>--</td><td>--</td><td>--</td><td>8263</td><td>2626037</td><td>4808</td><td>WD*</td></tr>\n",
       "<tr><td>AT 2018lcl</td><td>10.608666666666666</td><td>41.066944444444445</td><td>6</td><td>6</td><td>--</td><td>--</td><td>0</td><td>D</td><td>--</td><td>--</td><td>No*</td><td>No*|No*|ev</td><td>--</td><td>--</td><td>--</td><td>--</td><td>--</td><td>--</td><td>--</td><td>0.9198</td><td>--</td><td>--</td><td>--</td><td>--</td><td>--</td><td>--</td><td>--</td><td>--</td><td>--</td><td>--</td><td>8264</td><td>2626143</td><td>4809</td><td>WD*</td></tr>\n",
       "</table></div>"
      ],
      "text/plain": [
       "<Table length=42>\n",
       "          main_id                    ra         ... simbad_match_id  ogrp \n",
       "                                    deg         ...                       \n",
       "          bytes32                 float64       ...      int32      bytes8\n",
       "---------------------------- ------------------ ... --------------- ------\n",
       "                V* V2276 Sgr       306.59244125 ...             267    WD*\n",
       "               SBSS 1612+554 243.31930499999993 ...             288    WD*\n",
       "      GALEX J161003.8+561350 242.51598291666667 ...             295    WD*\n",
       "                   V* IY UMa 160.98645291666665 ...             350    WD*\n",
       "        2QZ J100132.7+013057       150.38664125 ...             390    WD*\n",
       "               M31N 2008-05d 11.007374999999998 ...             581    WD*\n",
       "                         ...                ... ...             ...    ...\n",
       "                   V* MQ Dra 238.37966583333332 ...            3758    WD*\n",
       "      GALEX J140000.3+031251 210.00146291666664 ...            4102    WD*\n",
       "Gaia DR3 6175066552397551616 207.03526291666665 ...            4122    WD*\n",
       "               M31N 2011-08b 11.199749999999998 ...            4799    WD*\n",
       "                 V* V500 And 10.610416666666666 ...            4808    WD*\n",
       "                  AT 2018lcl 10.608666666666666 ...            4809    WD*"
      ]
     },
     "metadata": {},
     "output_type": "display_data"
    },
    {
     "data": {
      "text/html": [
       "<div><i>Table length=6242</i>\n",
       "<table id=\"table139857776621600\" class=\"table-striped table-bordered table-condensed\">\n",
       "<thead><tr><th>_q</th><th>ra</th><th>dec</th><th>Source</th><th>e_RA_ICRS</th><th>e_DE_ICRS</th><th>Plx</th><th>e_Plx</th><th>PM</th><th>pmRA</th><th>e_pmRA</th><th>pmDE</th><th>e_pmDE</th><th>RUWE</th><th>FG</th><th>e_FG</th><th>Gmag</th><th>FBP</th><th>e_FBP</th><th>BPmag</th><th>FRP</th><th>e_FRP</th><th>RPmag</th><th>BP-RP</th><th>RV</th><th>e_RV</th><th>Vbroad</th><th>GRVSmag</th><th>QSO</th><th>Gal</th><th>NSS</th><th>XPcont</th><th>XPsamp</th><th>RVS</th><th>EpochPh</th><th>EpochRV</th><th>MCMCGSP</th><th>MCMCMSC</th><th>And</th><th>Teff</th><th>logg</th><th>__Fe_H_</th><th>Dist</th><th>A0</th><th>HIP</th><th>PS1</th><th>SDSS13</th><th>SKYM2</th><th>TYC2</th><th>URAT1</th><th>AllWISE</th><th>APASS9</th><th>GSC23</th><th>RAVE5</th><th>_2MASS</th><th>RAVE6</th><th>RAJ2000</th><th>DEJ2000</th><th>PQSO</th><th>PGal</th><th>PSS</th><th>RPlx</th><th>VarFlag</th><th>o_Gmag</th><th>rg_src_id</th><th>match_distance</th><th>gaiadr3_match_id</th><th>Gmag_abs</th><th>Plx_dist</th><th>ogrp</th></tr></thead>\n",
       "<thead><tr><th></th><th>deg</th><th>deg</th><th></th><th>mas</th><th>mas</th><th>mas</th><th>mas</th><th>mas / yr</th><th>mas / yr</th><th>mas / yr</th><th>mas / yr</th><th>mas / yr</th><th></th><th></th><th></th><th>mag</th><th></th><th></th><th>mag</th><th></th><th></th><th>mag</th><th>mag</th><th>km / s</th><th>km / s</th><th>km / s</th><th>mag</th><th></th><th></th><th></th><th></th><th></th><th></th><th></th><th></th><th></th><th></th><th></th><th>K</th><th>log(cm.s**-2)</th><th></th><th>pc</th><th>mag</th><th></th><th></th><th></th><th></th><th></th><th></th><th></th><th></th><th></th><th></th><th></th><th></th><th>deg</th><th>deg</th><th></th><th></th><th></th><th></th><th></th><th></th><th></th><th>arcsec</th><th></th><th></th><th>pc</th><th></th></tr></thead>\n",
       "<thead><tr><th>int32</th><th>float64</th><th>float64</th><th>int64</th><th>float64</th><th>float64</th><th>float64</th><th>float32</th><th>float64</th><th>float64</th><th>float32</th><th>float64</th><th>float32</th><th>float64</th><th>float64</th><th>float32</th><th>float64</th><th>float32</th><th>float32</th><th>float64</th><th>float32</th><th>float32</th><th>float64</th><th>float64</th><th>float64</th><th>float32</th><th>float64</th><th>float64</th><th>uint8</th><th>uint8</th><th>uint8</th><th>uint8</th><th>uint8</th><th>uint8</th><th>uint8</th><th>uint8</th><th>uint8</th><th>uint8</th><th>uint8</th><th>float64</th><th>float64</th><th>float64</th><th>float64</th><th>float64</th><th>int32</th><th>int64</th><th>int64</th><th>int32</th><th>bytes12</th><th>bytes15</th><th>bytes19</th><th>int32</th><th>bytes10</th><th>bytes16</th><th>bytes17</th><th>bytes21</th><th>float64</th><th>float64</th><th>float64</th><th>float64</th><th>float64</th><th>float64</th><th>bytes13</th><th>int16</th><th>int32</th><th>float64</th><th>int32</th><th>float32</th><th>float64</th><th>bytes8</th></tr></thead>\n",
       "<tr><td>1</td><td>150.2</td><td>2.1</td><td>3836069006998531584</td><td>2.2872</td><td>3.3137</td><td>--</td><td>--</td><td>--</td><td>--</td><td>--</td><td>--</td><td>--</td><td>--</td><td>95.82888</td><td>1.689</td><td>20.733625</td><td>93.75</td><td>16.38</td><td>20.408556</td><td>130.9</td><td>9.985</td><td>19.455320</td><td>0.953236</td><td>--</td><td>--</td><td>--</td><td>--</td><td>0</td><td>0</td><td>0</td><td>0</td><td>0</td><td>0</td><td>0</td><td>0</td><td>0</td><td>0</td><td>0</td><td>--</td><td>--</td><td>--</td><td>--</td><td>--</td><td>--</td><td>110481501947501974</td><td>1237651753997304055</td><td>--</td><td>--</td><td>--</td><td>J100046.74+020404.4</td><td>--</td><td>N6SS000981</td><td>--</td><td>--</td><td>--</td><td>150.2</td><td>2.1</td><td>0.001869</td><td>0.000724</td><td>0.996765</td><td>--</td><td>NOT_AVAILABLE</td><td>79</td><td>108</td><td>0.704386779266328</td><td>0</td><td>-100.0</td><td>--</td><td>none</td></tr>\n",
       "<tr><td>2</td><td>150.2</td><td>2.1</td><td>3836070076445471744</td><td>3.6095</td><td>4.1203</td><td>--</td><td>--</td><td>--</td><td>--</td><td>--</td><td>--</td><td>--</td><td>--</td><td>146.36924</td><td>3.992</td><td>20.273743</td><td>185.5</td><td>14.67</td><td>19.667881</td><td>286.5</td><td>18.95</td><td>18.604939</td><td>1.062943</td><td>--</td><td>--</td><td>--</td><td>--</td><td>0</td><td>0</td><td>0</td><td>0</td><td>0</td><td>0</td><td>0</td><td>0</td><td>0</td><td>0</td><td>0</td><td>--</td><td>--</td><td>--</td><td>--</td><td>--</td><td>--</td><td>--</td><td>1237651753997303903</td><td>--</td><td>--</td><td>--</td><td>J100043.14+020637.1</td><td>--</td><td>N6SS001075</td><td>--</td><td>--</td><td>--</td><td>150.2</td><td>2.1</td><td>0.000287</td><td>0.000160</td><td>0.998952</td><td>--</td><td>NOT_AVAILABLE</td><td>109</td><td>120</td><td>0.8139196155304314</td><td>1</td><td>-100.0</td><td>--</td><td>none</td></tr>\n",
       "<tr><td>3</td><td>150.1</td><td>2.0</td><td>3836046123412862208</td><td>1.5776</td><td>2.0453</td><td>--</td><td>--</td><td>--</td><td>--</td><td>--</td><td>--</td><td>--</td><td>--</td><td>90.12499</td><td>2.676</td><td>20.800253</td><td>37.12</td><td>20.52</td><td>21.414429</td><td>59.56</td><td>10.83</td><td>20.310591</td><td>1.103838</td><td>--</td><td>--</td><td>--</td><td>--</td><td>0</td><td>0</td><td>0</td><td>0</td><td>0</td><td>0</td><td>0</td><td>0</td><td>0</td><td>0</td><td>0</td><td>--</td><td>--</td><td>--</td><td>--</td><td>--</td><td>--</td><td>110451501456232172</td><td>1237651736280760581</td><td>--</td><td>--</td><td>--</td><td>J100034.94+020234.9</td><td>--</td><td>N6SS004829</td><td>--</td><td>--</td><td>--</td><td>150.1</td><td>2.0</td><td>0.001265</td><td>0.000013</td><td>0.997987</td><td>--</td><td>NOT_AVAILABLE</td><td>43</td><td>154</td><td>0.5969659350492861</td><td>2</td><td>-100.0</td><td>--</td><td>none</td></tr>\n",
       "<tr><td>5</td><td>150.1</td><td>2.1</td><td>3836257710681556224</td><td>0.5228</td><td>0.5439</td><td>-0.0737</td><td>0.5331</td><td>0.702</td><td>-0.580</td><td>0.607</td><td>0.396</td><td>0.641</td><td>1.065</td><td>231.69009</td><td>2.456</td><td>19.775099</td><td>160.4</td><td>10.57</td><td>19.825287</td><td>132.1</td><td>14.81</td><td>19.445589</td><td>0.379698</td><td>--</td><td>--</td><td>--</td><td>--</td><td>1</td><td>0</td><td>0</td><td>0</td><td>0</td><td>0</td><td>1</td><td>0</td><td>0</td><td>0</td><td>0</td><td>--</td><td>--</td><td>--</td><td>--</td><td>--</td><td>--</td><td>110521501020297033</td><td>1237651753997238486</td><td>--</td><td>--</td><td>--</td><td>J100024.44+020619.5</td><td>--</td><td>N6SV003245</td><td>--</td><td>--</td><td>--</td><td>150.1</td><td>2.1</td><td>1.000000</td><td>0.000000</td><td>0.000000</td><td>-0.1383</td><td>VARIABLE</td><td>182</td><td>187</td><td>0.8013254227793969</td><td>3</td><td>-100.0</td><td>--</td><td>AGN</td></tr>\n",
       "<tr><td>9</td><td>215.1</td><td>52.6</td><td>1607957522794289024</td><td>0.1805</td><td>0.2101</td><td>-0.4327</td><td>0.2279</td><td>0.356</td><td>0.190</td><td>0.223</td><td>0.302</td><td>0.256</td><td>1.036</td><td>311.79894</td><td>1.36</td><td>19.452681</td><td>178.4</td><td>9.809</td><td>19.709816</td><td>189.3</td><td>7.18</td><td>19.055189</td><td>0.654627</td><td>--</td><td>--</td><td>--</td><td>--</td><td>1</td><td>0</td><td>0</td><td>0</td><td>0</td><td>0</td><td>1</td><td>0</td><td>0</td><td>0</td><td>0</td><td>--</td><td>--</td><td>--</td><td>--</td><td>--</td><td>--</td><td>171142150651746989</td><td>1237661385994862739</td><td>--</td><td>--</td><td>--</td><td>J142015.62+523718.5</td><td>--</td><td>N5MV001218</td><td>--</td><td>--</td><td>--</td><td>215.1</td><td>52.6</td><td>1.000000</td><td>0.000000</td><td>0.000000</td><td>-1.8990</td><td>VARIABLE</td><td>482</td><td>512</td><td>0.2679557969426055</td><td>4</td><td>-100.0</td><td>--</td><td>AGN</td></tr>\n",
       "<tr><td>10</td><td>215.0</td><td>52.7</td><td>1607958480571152256</td><td>0.8988</td><td>0.7715</td><td>-1.1739</td><td>0.6843</td><td>0.532</td><td>-0.092</td><td>1.013</td><td>0.524</td><td>0.894</td><td>1.079</td><td>127.05163</td><td>2.726</td><td>20.427416</td><td>98.51</td><td>10.98</td><td>20.354832</td><td>127.2</td><td>7.357</td><td>19.486479</td><td>0.868353</td><td>--</td><td>--</td><td>--</td><td>--</td><td>1</td><td>0</td><td>0</td><td>0</td><td>0</td><td>0</td><td>1</td><td>0</td><td>0</td><td>0</td><td>0</td><td>--</td><td>--</td><td>--</td><td>--</td><td>--</td><td>--</td><td>171212150426430532</td><td>1237661385994862858</td><td>--</td><td>--</td><td>--</td><td>J142010.22+524029.6</td><td>--</td><td>N5MV001750</td><td>--</td><td>--</td><td>--</td><td>215.0</td><td>52.7</td><td>0.999765</td><td>0.000220</td><td>0.000015</td><td>-1.7155</td><td>VARIABLE</td><td>283</td><td>524</td><td>0.5654019828574242</td><td>5</td><td>-100.0</td><td>--</td><td>AGN</td></tr>\n",
       "<tr><td>...</td><td>...</td><td>...</td><td>...</td><td>...</td><td>...</td><td>...</td><td>...</td><td>...</td><td>...</td><td>...</td><td>...</td><td>...</td><td>...</td><td>...</td><td>...</td><td>...</td><td>...</td><td>...</td><td>...</td><td>...</td><td>...</td><td>...</td><td>...</td><td>...</td><td>...</td><td>...</td><td>...</td><td>...</td><td>...</td><td>...</td><td>...</td><td>...</td><td>...</td><td>...</td><td>...</td><td>...</td><td>...</td><td>...</td><td>...</td><td>...</td><td>...</td><td>...</td><td>...</td><td>...</td><td>...</td><td>...</td><td>...</td><td>...</td><td>...</td><td>...</td><td>...</td><td>...</td><td>...</td><td>...</td><td>...</td><td>...</td><td>...</td><td>...</td><td>...</td><td>...</td><td>...</td><td>...</td><td>...</td><td>...</td><td>...</td><td>...</td><td>...</td><td>...</td><td>...</td></tr>\n",
       "<tr><td>8370</td><td>5.0</td><td>17.1</td><td>2793606540757272064</td><td>0.0454</td><td>0.0420</td><td>3.7128</td><td>0.0613</td><td>18.094</td><td>7.430</td><td>0.057</td><td>16.497</td><td>0.060</td><td>2.945</td><td>1924799.21828</td><td>341.7</td><td>9.976403</td><td>1.106e+06</td><td>285.9</td><td>10.228971</td><td>1.189e+06</td><td>227.2</td><td>9.559739</td><td>0.669232</td><td>-0.73</td><td>1.21</td><td>14.5580</td><td>9.391799</td><td>0</td><td>0</td><td>0</td><td>1</td><td>1</td><td>0</td><td>0</td><td>0</td><td>1</td><td>1</td><td>0</td><td>6317.8</td><td>3.8411</td><td>-0.1928</td><td>310.4662</td><td>0.1109</td><td>--</td><td>--</td><td>1237678600770420880</td><td>--</td><td>1179-648-1</td><td>URAT1-536001709</td><td>J001956.77+170440.5</td><td>17835586</td><td>NB60006097</td><td>--</td><td>00195676+1704404</td><td>--</td><td>5.0</td><td>17.1</td><td>0.000000</td><td>0.000000</td><td>0.998258</td><td>60.5774</td><td>NOT_AVAILABLE</td><td>414</td><td>2770683</td><td>0.7515630056605814</td><td>6236</td><td>2.8249109</td><td>269.3385</td><td>none</td></tr>\n",
       "<tr><td>8372</td><td>4.3</td><td>16.5</td><td>2793466456104092288</td><td>0.2899</td><td>0.2167</td><td>12.3563</td><td>0.3431</td><td>45.338</td><td>45.189</td><td>0.439</td><td>-3.678</td><td>0.371</td><td>17.224</td><td>6799332.29599</td><td>2674</td><td>8.606201</td><td>3.643e+06</td><td>3706</td><td>8.934947</td><td>4.622e+06</td><td>3368</td><td>8.085792</td><td>0.849155</td><td>--</td><td>--</td><td>--</td><td>--</td><td>0</td><td>0</td><td>0</td><td>1</td><td>1</td><td>0</td><td>0</td><td>0</td><td>1</td><td>1</td><td>0</td><td>5564.0</td><td>4.2141</td><td>-0.3049</td><td>80.7783</td><td>0.0059</td><td>--</td><td>--</td><td>1237678600233287749</td><td>--</td><td>1179-78-1</td><td>URAT1-533001407</td><td>J001722.37+163037.3</td><td>--</td><td>NB79008247</td><td>--</td><td>00172236+1630375</td><td>--</td><td>4.3</td><td>16.5</td><td>0.000000</td><td>0.000000</td><td>0.997667</td><td>36.0129</td><td>NOT_AVAILABLE</td><td>307</td><td>2777792</td><td>0.781889653434758</td><td>6237</td><td>4.0656433</td><td>80.9304</td><td>none</td></tr>\n",
       "<tr><td>8373</td><td>4.1</td><td>-39.5</td><td>4997951535667378048</td><td>0.0576</td><td>0.0453</td><td>4.3439</td><td>0.0747</td><td>16.290</td><td>-12.258</td><td>0.069</td><td>-10.728</td><td>0.078</td><td>4.629</td><td>2509462.97838</td><td>439.7</td><td>9.688415</td><td>1.537e+06</td><td>455.2</td><td>9.871757</td><td>1.425e+06</td><td>280.6</td><td>9.363037</td><td>0.508719</td><td>1.83</td><td>0.86</td><td>110.9864</td><td>9.228719</td><td>0</td><td>0</td><td>1</td><td>1</td><td>1</td><td>0</td><td>0</td><td>0</td><td>1</td><td>1</td><td>0</td><td>6749.5</td><td>4.1519</td><td>-0.5969</td><td>208.9228</td><td>0.0036</td><td>--</td><td>--</td><td>--</td><td>8984002</td><td>7524-153-1</td><td>--</td><td>J001627.53-392833.9</td><td>37467118</td><td>S08S000128</td><td>J001627.6-392834</td><td>00162755-3928338</td><td>20070911_0014m37_147</td><td>4.1</td><td>-39.5</td><td>0.000000</td><td>0.000000</td><td>0.997679</td><td>58.1672</td><td>NOT_AVAILABLE</td><td>398</td><td>2779511</td><td>0.22354826058508367</td><td>6238</td><td>2.877814</td><td>230.2079</td><td>none</td></tr>\n",
       "<tr><td>8374</td><td>3.7</td><td>-39.4</td><td>4997962801365516544</td><td>0.0678</td><td>0.0534</td><td>-0.0510</td><td>0.0873</td><td>0.034</td><td>0.032</td><td>0.077</td><td>0.014</td><td>0.089</td><td>1.058</td><td>1562.18137</td><td>2.143</td><td>17.703039</td><td>921.4</td><td>11.5</td><td>17.927469</td><td>923.5</td><td>11.76</td><td>17.334288</td><td>0.593182</td><td>--</td><td>--</td><td>--</td><td>--</td><td>1</td><td>0</td><td>0</td><td>1</td><td>0</td><td>0</td><td>1</td><td>0</td><td>1</td><td>1</td><td>0</td><td>6508.3</td><td>4.3239</td><td>-2.2751</td><td>4909.7095</td><td>0.0034</td><td>--</td><td>--</td><td>--</td><td>8983628</td><td>--</td><td>--</td><td>J001437.64-392632.4</td><td>--</td><td>S08L003480</td><td>--</td><td>00143762-3926323</td><td>--</td><td>3.7</td><td>-39.4</td><td>0.999943</td><td>0.000000</td><td>0.000057</td><td>-0.5848</td><td>VARIABLE</td><td>484</td><td>2783047</td><td>0.4226967619869669</td><td>6239</td><td>-100.0</td><td>--</td><td>AGN</td></tr>\n",
       "<tr><td>8375</td><td>3.6</td><td>-39.6</td><td>4996457054551795584</td><td>0.4426</td><td>0.3400</td><td>-1.7456</td><td>0.6253</td><td>1.578</td><td>0.888</td><td>0.515</td><td>1.305</td><td>0.683</td><td>1.101</td><td>157.63906</td><td>0.8162</td><td>20.193207</td><td>99.24</td><td>7.542</td><td>20.346853</td><td>95.03</td><td>6.826</td><td>19.803226</td><td>0.543627</td><td>--</td><td>--</td><td>--</td><td>--</td><td>1</td><td>0</td><td>0</td><td>0</td><td>0</td><td>0</td><td>0</td><td>0</td><td>0</td><td>0</td><td>0</td><td>--</td><td>--</td><td>--</td><td>--</td><td>--</td><td>--</td><td>--</td><td>--</td><td>8981418</td><td>--</td><td>--</td><td>J001419.13-393807.6</td><td>--</td><td>S08L001879</td><td>--</td><td>--</td><td>--</td><td>3.6</td><td>-39.6</td><td>0.999999</td><td>0.000001</td><td>0.000000</td><td>-2.7914</td><td>NOT_AVAILABLE</td><td>401</td><td>2783640</td><td>0.36664489341045037</td><td>6240</td><td>-100.0</td><td>--</td><td>AGN</td></tr>\n",
       "<tr><td>8376</td><td>0.8</td><td>-43.1</td><td>4994901245597961216</td><td>0.0948</td><td>0.0797</td><td>0.0961</td><td>0.1421</td><td>1.636</td><td>0.563</td><td>0.129</td><td>-1.536</td><td>0.115</td><td>1.005</td><td>1058.52397</td><td>3.539</td><td>18.125616</td><td>617.6</td><td>8.804</td><td>18.361828</td><td>627.7</td><td>10.99</td><td>17.753479</td><td>0.608349</td><td>--</td><td>--</td><td>--</td><td>--</td><td>1</td><td>0</td><td>0</td><td>0</td><td>0</td><td>0</td><td>1</td><td>0</td><td>1</td><td>1</td><td>0</td><td>6363.9</td><td>4.5811</td><td>-1.7609</td><td>4385.6748</td><td>0.0040</td><td>--</td><td>--</td><td>--</td><td>--</td><td>--</td><td>--</td><td>J000309.86-430313.8</td><td>--</td><td>S076004334</td><td>--</td><td>--</td><td>--</td><td>0.8</td><td>-43.1</td><td>0.250889</td><td>0.000001</td><td>0.749046</td><td>0.6762</td><td>VARIABLE</td><td>423</td><td>2787446</td><td>0.30634209062317946</td><td>6241</td><td>-100.0</td><td>10405.8273</td><td>none</td></tr>\n",
       "</table></div>"
      ],
      "text/plain": [
       "<Table length=6242>\n",
       "  _q         ra             dec       ...  Gmag_abs  Plx_dist   ogrp \n",
       "            deg             deg       ...               pc           \n",
       "int32     float64         float64     ...  float32   float64   bytes8\n",
       "----- --------------- --------------- ... --------- ---------- ------\n",
       "    1           150.2             2.1 ...    -100.0         --   none\n",
       "    2           150.2             2.1 ...    -100.0         --   none\n",
       "    3           150.1             2.0 ...    -100.0         --   none\n",
       "    5           150.1             2.1 ...    -100.0         --    AGN\n",
       "    9           215.1            52.6 ...    -100.0         --    AGN\n",
       "   10           215.0            52.7 ...    -100.0         --    AGN\n",
       "  ...             ...             ... ...       ...        ...    ...\n",
       " 8370             5.0            17.1 ... 2.8249109   269.3385   none\n",
       " 8372             4.3            16.5 ... 4.0656433    80.9304   none\n",
       " 8373             4.1           -39.5 ...  2.877814   230.2079   none\n",
       " 8374             3.7           -39.4 ...    -100.0         --    AGN\n",
       " 8375             3.6           -39.6 ...    -100.0         --    AGN\n",
       " 8376             0.8           -43.1 ...    -100.0 10405.8273   none"
      ]
     },
     "metadata": {},
     "output_type": "display_data"
    }
   ],
   "source": [
    "%matplotlib widget\n",
    "import ipywidgets as widgets\n",
    "from IPython.display import display\n",
    "import matplotlib.pyplot as plt\n",
    "import numpy as np\n",
    "from astropy.table import Table\n",
    "from vasca.region import Region\n",
    "import vasca.visualization as vvis\n",
    "from vasca.utils import otype2ogroup,dd_ogrp2otypes, dd_ogrp2col, get_col_cycler,add_ogrp, color_palette, nb_fig\n",
    "from astropy import units as uu\n",
    "from astropy.table import Column\n",
    "\n",
    "# Get region\n",
    "rc = Region()\n",
    "rc.load_from_fits(region_cat_fname)\n",
    "rc.tt_sources.sort([\"dec\"])\n",
    "\n",
    "#Add Object group to source table\n",
    "rc.copy_table_columns(\"tt_sources\",\"tt_simbad\",[\"otype\",\"ogrp\",\"match_distance\",\"sp_type\",\"main_id\"],\"rg_src_id\")\n",
    "rc.tt_sources.rename_column(\"match_distance\",\"match_distance_simbad\")\n",
    "rc.tt_sources.rename_column(\"ogrp\",\"ogrp_simbad\")\n",
    "sel_simbad = rc.tt_sources[\"sel\"].data\n",
    "print(f\"Number of SIMBAD matches is: {sel_simbad.sum()}  ({100* sel_simbad.sum() / len(rc.tt_sources)} )%\")\n",
    "\n",
    "rc.copy_table_columns(\"tt_sources\",\"tt_gaiadr3\",[\"PQSO\", \"PGal\", \"PSS\",\"match_distance\",\"Gmag_abs\",\"BP-RP\", \"ogrp\", \"Plx\",\"e_Plx\",\"Plx_dist\",\"VarFlag\",\"RPlx\"],\"rg_src_id\")\n",
    "rc.tt_sources.rename_column(\"match_distance\",\"match_distance_gaiadr3\")\n",
    "rc.tt_sources.rename_column(\"ogrp\",\"ogrp_gaiadr3\")\n",
    "sel_gaiadr3 = rc.tt_sources[\"sel\"].data\n",
    "print(f\"Number of GAIA matches is: {sel_gaiadr3.sum()}  ({100*sel_gaiadr3.sum() / len(rc.tt_sources)} )%\")\n",
    "\n",
    "rc.copy_table_columns(\"tt_sources\",\"tt_maincat\",[\"Pwd\"],\"rg_src_id\")\n",
    "sel_gaia2wd = rc.tt_sources[\"sel\"].data\n",
    "print(f\"Number of GAIA WD matches is: {sel_gaia2wd.sum()}  ({100*sel_gaia2wd.sum() / len(rc.tt_sources)} )%\")\n",
    "\n",
    "sel_match = np.array(sel_simbad+sel_gaiadr3, dtype=bool)\n",
    "print(f\"Total number of matches is: {sel_match.sum()}  ({100*sel_match.sum() / len(rc.tt_sources)} )%\")\n",
    "\n",
    "#Copy lomb scargle result into tt_sources\n",
    "rc.copy_table_columns(\"tt_sources\",\"tt_lombscargle\",[\"ls_peak_pval\", \"ls_model_rchiq\"],\"rg_src_id\")\n",
    "\n",
    "display(rc.tt_simbad[rc.tt_simbad[\"ogrp\"]==\"WD*\"])\n",
    "display(rc.tt_gaiadr3)"
   ]
  },
  {
   "cell_type": "markdown",
   "id": "09f0834f-a5c7-4db1-aa77-b593f93ed1ca",
   "metadata": {},
   "source": [
    "### Print info for selected sources"
   ]
  },
  {
   "cell_type": "code",
   "execution_count": 5,
   "id": "52c7472a-a628-488d-a500-dfbfaffa8610",
   "metadata": {},
   "outputs": [
    {
     "name": "stdout",
     "output_type": "stream",
     "text": [
      "\n",
      "srcs_ids = [535864 ,451644 ,541266 ,581995 ,625693 ,187856 ,494782 ,166179 ,172775 ,34658 ,1521738 ,426363 ,151796 ,259271 ,419001 ,25273 ,]\n",
      "\n",
      "Total Nr. of sources: 16 \n",
      "\n"
     ]
    },
    {
     "data": {
      "text/html": [
       "<div><i>Table length=16</i>\n",
       "<table id=\"table139857904240960\" class=\"table-striped table-bordered table-condensed\">\n",
       "<thead><tr><th>ra</th><th>dec</th><th>ogrp_gaiadr3</th><th>otype</th><th>sp_type</th><th>main_id</th><th>nr_det</th><th>flux</th><th>flux_cpval</th><th>flux_ne</th><th>Plx_dist</th><th>ls_peak_pval</th><th>ls_model_rchiq</th><th>VarFlag</th><th>Pwd</th><th>RPlx</th><th>rg_src_id</th></tr></thead>\n",
       "<thead><tr><th>deg</th><th>deg</th><th></th><th></th><th></th><th></th><th></th><th>1e-06 Jy</th><th></th><th></th><th>pc</th><th></th><th></th><th></th><th></th><th></th><th></th></tr></thead>\n",
       "<thead><tr><th>float64</th><th>float64</th><th>bytes8</th><th>bytes32</th><th>bytes32</th><th>bytes32</th><th>int32[2]</th><th>float32[2]</th><th>float32[2]</th><th>float32[2]</th><th>float32</th><th>float32</th><th>float32</th><th>bytes32</th><th>float32</th><th>float32</th><th>int32</th></tr></thead>\n",
       "<tr><td>17.908561463231784</td><td>-46.124209856672074</td><td>WD*</td><td>none</td><td>none</td><td>none</td><td>12 .. 2</td><td>210.91878 .. 51.06775</td><td>4.861283e-20 .. 0.8805627</td><td>0.05030113 .. --</td><td>152.56229</td><td>-1.0</td><td>-1.0</td><td>VARIABLE</td><td>0.988864</td><td>93.8769</td><td>535864</td></tr>\n",
       "<tr><td>53.603003894660404</td><td>-35.35703047345705</td><td>WD*</td><td>WD?</td><td></td><td>GALEX J033424.7-352125</td><td>24 .. 28</td><td>309.9156 .. 470.0984</td><td>0.106752574 .. 9.816341e-09</td><td>0.011271525 .. 0.025724309</td><td>430.47784</td><td>0.5929085</td><td>0.87381697</td><td>NOT_AVAILABLE</td><td>0.99926</td><td>15.7304</td><td>451644</td></tr>\n",
       "<tr><td>12.321346896575124</td><td>-25.432354111852234</td><td>WD*</td><td>WD*</td><td>DA</td><td>GALEX J004917.1-252556</td><td>11 .. 1</td><td>73.65471 .. 41.309494</td><td>1.0632669e-08 .. -1.0</td><td>0.04259176 .. --</td><td>99.60556</td><td>-1.0</td><td>-1.0</td><td>NOT_AVAILABLE</td><td>1.0</td><td>39.4121</td><td>541266</td></tr>\n",
       "<tr><td>8.885109360326481</td><td>-11.807273095439037</td><td>none</td><td>WD?</td><td></td><td>PB  8382</td><td>7 .. 16</td><td>284.0145 .. 432.53094</td><td>0.0005666494 .. 1.844926e-12</td><td>0.028993921 .. 0.03350836</td><td>1129.3054</td><td>-1.0</td><td>-1.0</td><td>NOT_AVAILABLE</td><td>0.987006</td><td>3.2726</td><td>581995</td></tr>\n",
       "<tr><td>357.1212025536532</td><td>-9.416754993209635</td><td>WD*</td><td>WD*</td><td>DA</td><td>GALEX J234829.1-092500</td><td>14 .. -1</td><td>16.348425 .. -1.0</td><td>1.6703574e-17 .. -1.0</td><td>0.13284327 .. --</td><td>403.82828</td><td>-1.0</td><td>-1.0</td><td>NOT_AVAILABLE</td><td>0.339561</td><td>4.7312</td><td>625693</td></tr>\n",
       "<tr><td>318.34081907295393</td><td>-6.383251181607393</td><td>none</td><td>WD?</td><td></td><td>Gaia DR3 6910932370192461312</td><td>29 .. 17</td><td>78.23779 .. 126.54944</td><td>0.012277861 .. 1.1401694e-07</td><td>0.010227647 .. 0.050328996</td><td>1083.541</td><td>0.0039228913</td><td>0.7665074</td><td>NOT_AVAILABLE</td><td>0.978881</td><td>1.1039</td><td>187856</td></tr>\n",
       "<tr><td>...</td><td>...</td><td>...</td><td>...</td><td>...</td><td>...</td><td>...</td><td>...</td><td>...</td><td>...</td><td>...</td><td>...</td><td>...</td><td>...</td><td>...</td><td>...</td><td>...</td></tr>\n",
       "<tr><td>210.0014165294432</td><td>3.2144664581271694</td><td>none</td><td>WD*</td><td>DA</td><td>GALEX J140000.3+031251</td><td>17 .. -1</td><td>147.22968 .. -1.0</td><td>2.3525176e-13 .. -1.0</td><td>0.052642535 .. --</td><td>-1.0</td><td>-1.0</td><td>-1.0</td><td>none</td><td>-1.0</td><td>-1.0</td><td>1521738</td></tr>\n",
       "<tr><td>88.38520502984609</td><td>7.042538065540249</td><td>WD*</td><td>WD?</td><td></td><td>GALEX J055332.4+070233</td><td>25 .. 31</td><td>185.77211 .. 324.15527</td><td>0.028219594 .. 4.36786e-11</td><td>0.012609625 .. 0.03000415</td><td>762.8347</td><td>0.3829508</td><td>1.0142821</td><td>NOT_AVAILABLE</td><td>0.985489</td><td>5.311</td><td>426363</td></tr>\n",
       "<tr><td>348.9035688841206</td><td>19.413759373254578</td><td>WD*</td><td>WD?</td><td></td><td>SDSS J231536.88+192448.9</td><td>15 .. 4</td><td>126.54993 .. 38.594788</td><td>7.254839e-15 .. 0.45650917</td><td>0.042335898 .. 0.055154216</td><td>168.92747</td><td>-1.0</td><td>-1.0</td><td>NOT_AVAILABLE</td><td>0.995758</td><td>39.2334</td><td>151796</td></tr>\n",
       "<tr><td>219.22853678357762</td><td>34.06670541645552</td><td>Star*</td><td>WD?</td><td></td><td>GALEX J143654.8+340400</td><td>23 .. 1</td><td>30.567654 .. 37.433167</td><td>5.1660697e-28 .. -1.0</td><td>0.1085327 .. --</td><td>713.3176</td><td>0.02608318</td><td>4.050283</td><td>NOT_AVAILABLE</td><td>0.935621</td><td>2.859</td><td>259271</td></tr>\n",
       "<tr><td>141.17228132428698</td><td>51.26618673844799</td><td>WD*</td><td>WD*</td><td>DA</td><td>GALEX J092441.3+511558</td><td>5 .. 5</td><td>151.06789 .. 224.87167</td><td>0.0018218284 .. 4.5588277e-07</td><td>0.02447616 .. 0.052893884</td><td>510.59485</td><td>-1.0</td><td>-1.0</td><td>NOT_AVAILABLE</td><td>0.999152</td><td>9.1147</td><td>419001</td></tr>\n",
       "<tr><td>243.31937179444097</td><td>55.35720712328874</td><td>WD*</td><td>WD*</td><td>DA4.2</td><td>SBSS 1612+554</td><td>40 .. 29</td><td>943.7087 .. 438.76984</td><td>0.0 .. 5.3318298e-14</td><td>0.023023272 .. 0.027591381</td><td>65.942184</td><td>1.0568034e-05</td><td>5.51139</td><td>VARIABLE</td><td>0.998099</td><td>503.8845</td><td>25273</td></tr>\n",
       "</table></div>"
      ],
      "text/plain": [
       "<Table length=16>\n",
       "        ra                 dec         ogrp_gaiadr3 ...   RPlx   rg_src_id\n",
       "       deg                 deg                      ...                   \n",
       "     float64             float64          bytes8    ... float32    int32  \n",
       "------------------ ------------------- ------------ ... -------- ---------\n",
       "17.908561463231784 -46.124209856672074          WD* ...  93.8769    535864\n",
       "53.603003894660404  -35.35703047345705          WD* ...  15.7304    451644\n",
       "12.321346896575124 -25.432354111852234          WD* ...  39.4121    541266\n",
       " 8.885109360326481 -11.807273095439037         none ...   3.2726    581995\n",
       " 357.1212025536532  -9.416754993209635          WD* ...   4.7312    625693\n",
       "318.34081907295393  -6.383251181607393         none ...   1.1039    187856\n",
       "               ...                 ...          ... ...      ...       ...\n",
       " 210.0014165294432  3.2144664581271694         none ...     -1.0   1521738\n",
       " 88.38520502984609   7.042538065540249          WD* ...    5.311    426363\n",
       " 348.9035688841206  19.413759373254578          WD* ...  39.2334    151796\n",
       "219.22853678357762   34.06670541645552        Star* ...    2.859    259271\n",
       "141.17228132428698   51.26618673844799          WD* ...   9.1147    419001\n",
       "243.31937179444097   55.35720712328874          WD* ... 503.8845     25273"
      ]
     },
     "metadata": {},
     "output_type": "display_data"
    }
   ],
   "source": [
    "# Make selection\n",
    "sel_otype = rc.tt_sources[\"otype\"] ==  \"RR*\"# \"No*\"#\"HS?\" #\"BS*\" #\"PM*\" # # \"SN*\" #\"EB*\"\n",
    "sel_otypes =   (rc.tt_sources[\"otype\"] ==\"WD*\")*(rc.tt_sources[\"sp_type\"] !=\"none\") +(rc.tt_sources[\"Pwd\"] >0.9) # (rc.tt_sources[\"otype\"] ==  \"WD?\")  + # \n",
    "sel_flux_nxv = rc.tt_sources[\"flux_nxv\"][:,0]>2\n",
    "sel_flux_hr = rc.tt_sources[\"hr\"]>2\n",
    "sel_src_id = rc.tt_sources[\"rg_src_id\"]==15179\n",
    "sel_period = (rc.tt_sources[\"ls_peak_pval\"]>-0.5) * (rc.tt_sources[\"ls_peak_pval\"]<0.000000573303) * (rc.tt_sources[\"ls_model_rchiq\"]<1.1)# # 3 sigma 0.002699796063, 4 sigma 0.000063342484, 5 sigma 0.000000573303\n",
    "sel_srcs =  sel_otypes #sel_period #sel_otypes  #sel_src_id  #sel_flux_nxv #sel_otype # sel_flux_nxv_fuv # sel_flux_hr#\n",
    "\n",
    "#Print oout list of source IDs to be used for further use, e.g. in inspect_sources.ipynb\n",
    "print(\"\\nsrcs_ids = [\", end=\"\")\n",
    "for src_id in rc.tt_sources[sel_srcs][\"rg_src_id\"].data:\n",
    "    print(src_id,\",\", end=\"\")\n",
    "print(\"]\\n\")\n",
    "print(\"Total Nr. of sources:\",sel_srcs.sum(),\"\\n\")\n",
    "\n",
    "#Display match and simbad table for selected sources\n",
    "cols_write = [\"ra\",\"dec\",\"ogrp_gaiadr3\",\"otype\",\"sp_type\",\"main_id\",\"nr_det\",\"flux\",\"flux_cpval\",\"flux_ne\",\"Plx_dist\",\"ls_peak_pval\",\"ls_model_rchiq\",\"VarFlag\",\"Pwd\",\"RPlx\",\"rg_src_id\"]\n",
    "display(rc.tt_sources[sel_srcs][cols_write] )#[\"sp_type\",\"main_id\"]\n",
    "rc.tt_sources[sel_srcs][cols_write].write(\"sources.ecsv\",overwrite=True,delimiter=',')"
   ]
  },
  {
   "cell_type": "code",
   "execution_count": null,
   "id": "1e96156e-d1ef-4d8a-81ca-ecc8dfbe8238",
   "metadata": {},
   "outputs": [],
   "source": []
  }
 ],
 "metadata": {
  "kernelspec": {
   "display_name": "Python 3 (ipykernel)",
   "language": "python",
   "name": "python3"
  },
  "language_info": {
   "codemirror_mode": {
    "name": "ipython",
    "version": 3
   },
   "file_extension": ".py",
   "mimetype": "text/x-python",
   "name": "python",
   "nbconvert_exporter": "python",
   "pygments_lexer": "ipython3",
   "version": "3.10.12"
  }
 },
 "nbformat": 4,
 "nbformat_minor": 5
}
