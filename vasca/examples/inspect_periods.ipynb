{
 "cells": [
  {
   "cell_type": "code",
   "execution_count": 1,
   "id": "1a946ccd-43ce-4fbe-b179-3936a4665d7e",
   "metadata": {},
   "outputs": [],
   "source": [
    "region_name = \"MDIS_10-800\" #\"TDS\" # _ELAISN1\n",
    "probabilities = [0.000063342484]  # 3 sigma 0.002699796063, 4 sigma 0.000063342484\n",
    "srcs_ids = [15179]  #RR*s [2052 ,15179 ,15934] # TDS RR*\n",
    "srcs_ids = [900 ,11630 ,52486 ,53151 ,58506 ,72801 ,82069 ,84614 ,163052 ,165195 ,179997 ,] # MDIS WD"
   ]
  },
  {
   "cell_type": "code",
   "execution_count": 2,
   "id": "d26387a0-2113-4e4b-860d-89c984d18144",
   "metadata": {},
   "outputs": [
    {
     "data": {
      "text/html": [
       "<div><i>Table length=11</i>\n",
       "<table id=\"table140548226000032\" class=\"table-striped table-bordered table-condensed\">\n",
       "<thead><tr><th>nr_det</th><th>ra</th><th>dec</th><th>pos_err</th><th>pos_xv</th><th>pos_var</th><th>pos_cpval</th><th>pos_rchiq</th><th>assoc_id</th><th>assoc_dist</th><th>obs_filter_id</th><th>sel</th><th>flux</th><th>flux_err</th><th>flux_nxv</th><th>flux_var</th><th>flux_cpval</th><th>flux_rchiq</th><th>assoc_ffactor</th><th>assoc_fdiff_s2n</th><th>rg_src_id</th><th>nr_fd_srcs</th><th>hr</th><th>hr_err</th></tr></thead>\n",
       "<thead><tr><th></th><th>deg</th><th>deg</th><th>arcsec</th><th>arcsec2</th><th>arcsec2</th><th></th><th></th><th></th><th>arcsec</th><th></th><th></th><th>1e-06 Jy</th><th>1e-06 Jy</th><th></th><th>1e-12 Jy2</th><th></th><th></th><th></th><th></th><th></th><th></th><th></th><th></th></tr></thead>\n",
       "<thead><tr><th>int32[2]</th><th>float64</th><th>float64</th><th>float32</th><th>float32</th><th>float32</th><th>float32</th><th>float32</th><th>int64</th><th>float32</th><th>int32[2]</th><th>bool</th><th>float32[2]</th><th>float32[2]</th><th>float32[2]</th><th>float32[2]</th><th>float32[2]</th><th>float32[2]</th><th>float32[2]</th><th>float32[2]</th><th>int32</th><th>int32</th><th>float32</th><th>float32</th></tr></thead>\n",
       "<tr><td>35 .. 55</td><td>215.3258439968967</td><td>52.596545351520945</td><td>0.061777495</td><td>-0.073819295</td><td>0.27413565</td><td>0.076620735</td><td>0.8073005</td><td>2996</td><td>0.15070449</td><td>1 .. 2</td><td>True</td><td>69.76633 .. 78.84212</td><td>0.2989939 .. 0.35905793</td><td>0.0028636206 .. 0.00013604689</td><td>17.501484 .. 8.515412</td><td>3.2471413e-13 .. 0.18849026</td><td>3.8351877 .. 1.1662406</td><td>0.91958094 .. 0.98226017</td><td>-18.350433 .. -3.4928458</td><td>900</td><td>6</td><td>1.1639541</td><td>0.017203152</td></tr>\n",
       "<tr><td>67 .. 46</td><td>149.76167436162893</td><td>1.6465905160899403</td><td>0.050711945</td><td>-0.121467255</td><td>0.17606305</td><td>0.9983214</td><td>0.60001004</td><td>51881</td><td>0.11816379</td><td>1 .. 2</td><td>True</td><td>154.65216 .. 112.11728</td><td>0.3336962 .. 0.5372641</td><td>0.00080672395 .. 0.00011547043</td><td>31.759632 .. 23.498913</td><td>1.1646499e-18 .. 0.1507282</td><td>3.3541517 .. 1.2172611</td><td>1.0050958 .. 0.9974542</td><td>1.9505055 .. -0.43859452</td><td>11630</td><td>4</td><td>0.72394663</td><td>0.005090711</td></tr>\n",
       "<tr><td>62 .. 41</td><td>333.74330229428716</td><td>-18.1284418039241</td><td>0.07469829</td><td>-0.26511413</td><td>0.374089</td><td>0.9973886</td><td>0.6041299</td><td>227436</td><td>0.26807556</td><td>1 .. 2</td><td>True</td><td>15.743377 .. 4.2345347</td><td>0.17000161 .. 0.11394305</td><td>0.01079712 .. 0.052266393</td><td>4.8854165 .. 1.7236115</td><td>4.6363047e-07 .. 0.000100011224</td><td>2.1521604 .. 2.0515473</td><td>0.9985297 .. 0.91966665</td><td>-0.10560306 .. -2.440815</td><td>52486</td><td>2</td><td>0.2847042</td><td>0.013879122</td></tr>\n",
       "<tr><td>32 .. 4</td><td>333.54135905569626</td><td>0.8794295342456827</td><td>0.106176615</td><td>-0.26969245</td><td>0.14336883</td><td>0.9997828</td><td>0.34498087</td><td>230050</td><td>0.11125645</td><td>1 .. 2</td><td>True</td><td>20.118876 .. 4.6691704</td><td>0.19772485 .. 0.3908768</td><td>0.056504067 .. -0.026277466</td><td>24.190218 .. 0.044125017</td><td>0.0 .. 0.97339696</td><td>18.964977 .. 0.075116284</td><td>0.9191351 .. 1.0333134</td><td>-6.522281 .. 0.2772817</td><td>53151</td><td>2</td><td>0.29695582</td><td>0.026712412</td></tr>\n",
       "<tr><td>25 .. 12</td><td>261.0003596219375</td><td>60.747724074915844</td><td>0.09249079</td><td>-0.12485813</td><td>0.21191294</td><td>0.78836334</td><td>0.5457976</td><td>254894</td><td>0.072778955</td><td>1 .. 2</td><td>True</td><td>42.035763 .. 49.616528</td><td>0.2805657 .. 0.656898</td><td>0.020497339 .. 0.0150321275</td><td>38.25497 .. 67.96018</td><td>0.0 .. 2.7350098e-33</td><td>21.373968 .. 16.616245</td><td>0.97845787 .. 0.93842715</td><td>-2.4446874 .. -4.0401735</td><td>58506</td><td>2</td><td>1.0894871</td><td>0.017481763</td></tr>\n",
       "<tr><td>15 .. -1</td><td>244.14364475974057</td><td>54.1699250866851</td><td>0.14302015</td><td>-0.149046</td><td>0.15964259</td><td>0.6340721</td><td>0.52604604</td><td>83326</td><td>0.20260328</td><td>1 .. 0</td><td>True</td><td>46.74693 .. -1.0</td><td>0.40762272 .. -1.0</td><td>0.020200865 .. -100.0</td><td>46.770695 .. -1.0</td><td>0.0 .. -1.0</td><td>19.716309 .. -1.0</td><td>0.98185104 .. -100.0</td><td>-1.8601466 .. -10000.0</td><td>72801</td><td>2</td><td>-1.0</td><td>-1.0</td></tr>\n",
       "<tr><td>21 .. 1</td><td>219.2285419319909</td><td>34.06670048559544</td><td>0.11800814</td><td>-0.10925614</td><td>0.2025599</td><td>0.68355554</td><td>0.61700284</td><td>375016</td><td>0.035019293</td><td>1 .. 2</td><td>True</td><td>29.51347 .. 35.736923</td><td>0.35198805 .. 2.8622541</td><td>0.013819349 .. -100.0</td><td>19.32615 .. -100.0</td><td>5.677633e-20 .. -1.0</td><td>6.986842 .. -1.0</td><td>1.0026231 .. 0.9697317</td><td>0.18479453 .. -0.3386549</td><td>82069</td><td>2</td><td>1.1706479</td><td>0.11864556</td></tr>\n",
       "<tr><td>18 .. 8</td><td>218.05243811169714</td><td>35.84090332817147</td><td>0.12735511</td><td>-0.29414088</td><td>0.17379755</td><td>0.96632844</td><td>0.39901668</td><td>386808</td><td>0.07959464</td><td>1 .. 2</td><td>True</td><td>14.612254 .. 6.05339</td><td>0.2779116 .. 0.37645307</td><td>0.030357704 .. 0.055571366</td><td>9.390714 .. 3.3930244</td><td>1.0763691e-15 .. 0.020767232</td><td>6.486113 .. 2.36001</td><td>0.92887527 .. 0.9908855</td><td>-3.061352 .. -0.11080818</td><td>84614</td><td>2</td><td>0.3186552</td><td>0.026751982</td></tr>\n",
       "<tr><td>27 .. -1</td><td>30.651243653382906</td><td>-5.058806000160703</td><td>0.10887574</td><td>-0.10441901</td><td>0.2216627</td><td>0.32414684</td><td>0.6463418</td><td>764588</td><td>0.22176254</td><td>1 .. 0</td><td>True</td><td>39.525303 .. -1.0</td><td>0.32735923 .. -1.0</td><td>0.008519889 .. -100.0</td><td>18.993498 .. -1.0</td><td>1.3471752e-15 .. -1.0</td><td>4.9573245 .. -1.0</td><td>0.98539853 .. 1.0</td><td>-1.5521367 .. 0.0</td><td>163052</td><td>2</td><td>-1.0</td><td>-1.0</td></tr>\n",
       "<tr><td>8 .. 2</td><td>17.90849637066491</td><td>-46.12418089066695</td><td>0.16791977</td><td>0.17754589</td><td>0.47294554</td><td>0.04757083</td><td>1.22303</td><td>773750</td><td>0.16838291</td><td>1 .. 2</td><td>True</td><td>221.08849 .. 48.13418</td><td>0.9750241 .. 3.7650402</td><td>0.0023548792 .. -0.014233844</td><td>123.75618 .. 0.29399106</td><td>9.515806e-17 .. 0.9251096</td><td>12.93644 .. 0.00883589</td><td>1.053266 .. 0.7436863</td><td>9.382669 .. -4.2693295</td><td>165195</td><td>2</td><td>0.22295146</td><td>0.021214794</td></tr>\n",
       "<tr><td>23 .. 1</td><td>9.581427287974996</td><td>40.04211088904561</td><td>0.10756002</td><td>-0.0741879</td><td>0.20497334</td><td>0.5506882</td><td>0.72313446</td><td>829384</td><td>0.191858</td><td>1 .. 2</td><td>True</td><td>133.17755 .. 201.53406</td><td>0.44956428 .. 4.65655</td><td>0.0006635223 .. -100.0</td><td>16.57366 .. -100.0</td><td>6.563902e-08 .. -1.0</td><td>3.4672577 .. -1.0</td><td>0.98132765 .. 1.0013433</td><td>-4.368208 .. 0.05427624</td><td>179997</td><td>2</td><td>1.538817</td><td>0.043492936</td></tr>\n",
       "</table></div>"
      ],
      "text/plain": [
       "<Table length=11>\n",
       " nr_det          ra                dec         ...     hr        hr_err  \n",
       "                deg                deg         ...                       \n",
       "int32[2]      float64            float64       ...  float32     float32  \n",
       "-------- ------------------ ------------------ ... ---------- -----------\n",
       "35 .. 55  215.3258439968967 52.596545351520945 ...  1.1639541 0.017203152\n",
       "67 .. 46 149.76167436162893 1.6465905160899403 ... 0.72394663 0.005090711\n",
       "62 .. 41 333.74330229428716  -18.1284418039241 ...  0.2847042 0.013879122\n",
       " 32 .. 4 333.54135905569626 0.8794295342456827 ... 0.29695582 0.026712412\n",
       "25 .. 12  261.0003596219375 60.747724074915844 ...  1.0894871 0.017481763\n",
       "15 .. -1 244.14364475974057   54.1699250866851 ...       -1.0        -1.0\n",
       " 21 .. 1  219.2285419319909  34.06670048559544 ...  1.1706479  0.11864556\n",
       " 18 .. 8 218.05243811169714  35.84090332817147 ...  0.3186552 0.026751982\n",
       "27 .. -1 30.651243653382906 -5.058806000160703 ...       -1.0        -1.0\n",
       "  8 .. 2  17.90849637066491 -46.12418089066695 ... 0.22295146 0.021214794\n",
       " 23 .. 1  9.581427287974996  40.04211088904561 ...   1.538817 0.043492936"
      ]
     },
     "metadata": {},
     "output_type": "display_data"
    }
   ],
   "source": [
    "%matplotlib widget\n",
    "import ipywidgets as widgets\n",
    "from IPython.display import display\n",
    "import matplotlib.pyplot as plt\n",
    "\n",
    "from regions import CircleSkyRegion\n",
    "from astropy import units as uu\n",
    "from astropy.coordinates import SkyCoord\n",
    "from astropy.wcs.utils import pixel_to_skycoord\n",
    "from astropy.timeseries import LombScargle,TimeSeries,BinnedTimeSeries\n",
    "from astropy.units import cds\n",
    "from astropy.table import QTable\n",
    "from astropy.time import Time\n",
    "\n",
    "#cds.enable()  \n",
    "import numpy as np\n",
    "\n",
    "from vasca.region import Region\n",
    "from vasca.field import BaseField\n",
    "import vasca.visualization as vvis\n",
    "\n",
    "from vasca.utils import mag2flux, sel_sources, dd_filter2id\n",
    "\n",
    "region_fname = \"./vasca_pipeline/\"+region_name+\"/region_\"+region_name+\".fits\"\n",
    "rg = Region()\n",
    "rg.load_from_fits(region_fname)\n",
    "#rg.remove_table(\"tt_coadd_detections\")\n",
    "#rg.tt_coadd_sources.remove_columns([\"nr_det\",\"obs_filter_id\",\"flux_nxv\",\"flux_var\",\"flux_cpval\",\"flux_rchiq\",\"fd_src_id\",\"assoc_id\",\"assoc_dist\",\"assoc_ffactor\",\"assoc_fdiff_s2n\",\"rg_fd_id\",\"nr_fd_dets\",\"pos_xv\",\"pos_var\",\"pos_cpval\",\"pos_rchiq\"])\n",
    "#rg.tt_sources.remove_columns([\"fd_src_id\",\"rg_fd_id\"])\n",
    "#rg.write_to_fits(region_fname)\n",
    "rg.tt_sources.add_index(\"rg_src_id\")\n",
    "src_idx = rg.tt_sources.loc_indices[srcs_ids]\n",
    "tt_src = rg.tt_sources[src_idx]\n",
    "display(tt_src)"
   ]
  },
  {
   "cell_type": "code",
   "execution_count": 3,
   "id": "ba910fb0-d3ef-44a3-854f-368da2da96b8",
   "metadata": {},
   "outputs": [
    {
     "data": {
      "application/vnd.jupyter.widget-view+json": {
       "model_id": "053d5b67f6ad4f73bb0db2c80834a21d",
       "version_major": 2,
       "version_minor": 0
      },
      "text/plain": [
       "interactive(children=(Dropdown(description='rg_src_id', options=(900, 11630, 52486, 53151, 58506, 72801, 82069…"
      ]
     },
     "execution_count": 3,
     "metadata": {},
     "output_type": "execute_result"
    }
   ],
   "source": [
    "dd_lcs = rg.get_light_curve(rg_src_ids=srcs_ids)\n",
    "\n",
    "def plot_LombScargle(rg_src_id):\n",
    "    fig, axs = plt.subplots(1, 2, figsize=(14, 6), num=\"LombScargle\", clear=True)\n",
    "    axs = axs.flatten()\n",
    "    plt.sca(axs[0])\n",
    "    lc = dd_lcs[rg_src_id][dd_lcs[rg_src_id][\"obs_filter_id\"]==1]\n",
    "    lc[\"time\"]=Time(lc[\"time\"].quantity, format=\"mjd\")\n",
    "    dt = lc[\"time\"][1:]-lc[\"time\"][0:-1]\n",
    "    f_max = np.max(1/dt)/2\n",
    "\n",
    "    f_min = 2/ (np.max(lc[\"time\"]) - np.min(lc[\"time\"]))\n",
    "    print(f_min,f_max)\n",
    "    \n",
    "    ts = TimeSeries(data=lc)\n",
    "    \n",
    "    ls = LombScargle(lc[\"time\"], lc[\"flux\"],lc[\"flux_err\"])\n",
    "\n",
    "    #Frquency vs power plot with confidence itnervals\n",
    "    freq,power = ls.autopower(minimum_frequency=f_min,maximum_frequency=f_max) #\n",
    "    conf = ls.false_alarm_level(probabilities)\n",
    "    \n",
    "    plt.axhline(conf[0],linewidth=0.5, ls=\"--\", color='k')\n",
    "    plt.plot(freq, power)\n",
    "    plt.xscale('log')\n",
    "    plt.xlabel('Frequency [1/day]')\n",
    "    plt.ylabel('LS power')\n",
    "    plt.show()\n",
    "\n",
    "    p_peak = power.max()\n",
    "    idx_pmax = np.argmax(power) #np.where(power == p_peak)\n",
    "    f_peak = freq[idx_pmax]\n",
    "    Pval =ls.false_alarm_probability(p_peak)\n",
    "    \n",
    "    #Show best fit model\n",
    "    plt.sca(axs[1])\n",
    "    ts_folded = ts.fold(period=1/f_peak, epoch_time=lc[\"time\"][0])\n",
    "    plt.plot(ts_folded.time.jd, ts_folded['flux'], 'k.', markersize=4)\n",
    "    plt.xlabel('Time (days)')\n",
    "    plt.ylabel('Flux')\n",
    "    \n",
    "    #time_fit = np.linspace(0, 1)*uu.d\n",
    "    #flux_fit = ls.model(time_fit*uu.d, best_freq)\n",
    "    #plt.sca(axs[1])\n",
    "    #plt.plot(time_fit,flux_fit,\"ob\")\n",
    "    #plt.show()\n",
    "    \n",
    "    fig = plt.figure(figsize=(14, 6))\n",
    "    vvis.plot_light_curve(rg,rg_src_ids = rg_src_id, fig=fig)\n",
    "    plt.show()\n",
    "\n",
    "    print(f\"Tested {len(freq)} frequencies, maximum power at frequency {f_peak }, period {1/f_peak}, whith a false probability of {Pval}\")\n",
    "widgets.interactive(plot_LombScargle, rg_src_id=srcs_ids)"
   ]
  },
  {
   "cell_type": "code",
   "execution_count": 4,
   "id": "98c2ed05-be40-4520-bf88-23d0fea24f53",
   "metadata": {},
   "outputs": [
    {
     "data": {
      "text/plain": [
       "16.0"
      ]
     },
     "execution_count": 4,
     "metadata": {},
     "output_type": "execute_result"
    }
   ],
   "source": [
    "24*60/90 # MAximum Nr of orbits per day"
   ]
  },
  {
   "cell_type": "code",
   "execution_count": 5,
   "id": "639bcbe0-131a-46db-b81d-3deb7a10485c",
   "metadata": {},
   "outputs": [
    {
     "data": {
      "text/plain": [
       "0.0011111111111111111"
      ]
     },
     "execution_count": 5,
     "metadata": {},
     "output_type": "execute_result"
    }
   ],
   "source": [
    "1/(3600/4)"
   ]
  },
  {
   "cell_type": "code",
   "execution_count": null,
   "id": "a4a40966-cf53-4cbb-8929-c48195c8678b",
   "metadata": {},
   "outputs": [],
   "source": []
  }
 ],
 "metadata": {
  "kernelspec": {
   "display_name": "Python 3 (ipykernel)",
   "language": "python",
   "name": "python3"
  },
  "language_info": {
   "codemirror_mode": {
    "name": "ipython",
    "version": 3
   },
   "file_extension": ".py",
   "mimetype": "text/x-python",
   "name": "python",
   "nbconvert_exporter": "python",
   "pygments_lexer": "ipython3",
   "version": "3.10.9"
  }
 },
 "nbformat": 4,
 "nbformat_minor": 5
}
