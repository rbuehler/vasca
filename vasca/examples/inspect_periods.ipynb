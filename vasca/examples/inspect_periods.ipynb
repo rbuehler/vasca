{
 "cells": [
  {
   "cell_type": "code",
   "execution_count": 1,
   "id": "1a946ccd-43ce-4fbe-b179-3936a4665d7e",
   "metadata": {},
   "outputs": [],
   "source": [
    "region_name = \"ALL_10-800_LOOSE\"#\"TDS\" # _ELAISN1\n",
    "probabilities = [0.000063342484]  # 3 sigma 0.002699796063, 4 sigma 0.000063342484\n",
    "srcs_ids = [8215 ,32448 ,54184 ,98746 ,151796 ,166179 ,172775 ,193067 ,199832 ,259271 ,265150 ,297278 ,305192 ,388172 ,432606 ,472623 ,535864 ,541266 ,625693 ,1521738 ,1551422 ,2136829 ,] # WD ALL_10-800-LOOSE"
   ]
  },
  {
   "cell_type": "code",
   "execution_count": 2,
   "id": "d26387a0-2113-4e4b-860d-89c984d18144",
   "metadata": {},
   "outputs": [
    {
     "data": {
      "text/html": [
       "<div><i>Table length=22</i>\n",
       "<table id=\"table140148913422880\" class=\"table-striped table-bordered table-condensed\">\n",
       "<thead><tr><th>fd_src_id</th><th>nr_det</th><th>ra</th><th>dec</th><th>pos_err</th><th>pos_xv</th><th>pos_var</th><th>pos_cpval</th><th>pos_rchiq</th><th>coadd_src_id</th><th>coadd_dist</th><th>obs_filter_id</th><th>sel</th><th>flux</th><th>flux_err</th><th>flux_nxv</th><th>flux_var</th><th>flux_cpval</th><th>flux_rchiq</th><th>coadd_ffactor</th><th>coadd_fdiff_s2n</th><th>rg_fd_id</th><th>rg_src_id</th><th>nr_fd_srcs</th><th>hr</th><th>hr_err</th></tr></thead>\n",
       "<thead><tr><th></th><th></th><th>deg</th><th>deg</th><th>arcsec</th><th>arcsec2</th><th>arcsec2</th><th></th><th></th><th></th><th>arcsec</th><th></th><th></th><th>1e-06 Jy</th><th>1e-06 Jy</th><th></th><th>1e-12 Jy2</th><th></th><th></th><th></th><th></th><th></th><th></th><th></th><th></th><th></th></tr></thead>\n",
       "<thead><tr><th>int32</th><th>int32[2]</th><th>float64</th><th>float64</th><th>float32</th><th>float32</th><th>float32</th><th>float32</th><th>float32</th><th>int64</th><th>float32</th><th>int32[2]</th><th>bool</th><th>float32[2]</th><th>float32[2]</th><th>float32[2]</th><th>float32[2]</th><th>float32[2]</th><th>float32[2]</th><th>float32</th><th>float32</th><th>int64</th><th>int32</th><th>int32</th><th>float32</th><th>float32</th></tr></thead>\n",
       "<tr><td>-1</td><td>67 .. 39</td><td>35.24181331249359</td><td>-5.3268123630922135</td><td>0.06502271</td><td>-0.3229914</td><td>0.15286975</td><td>1.0</td><td>0.28614402</td><td>816</td><td>0.12559491</td><td>1 .. 2</td><td>True</td><td>15.8211355 .. 6.618499</td><td>0.10766479 .. 0.13884212</td><td>0.018202152 .. 0.01643959</td><td>5.4822598 .. 1.6915867</td><td>0.0 .. 0.00016123278</td><td>7.0483823 .. 2.0399196</td><td>-100.0</td><td>-10000.0</td><td>-1</td><td>8215</td><td>6</td><td>0.40061885</td><td>0.009090735</td></tr>\n",
       "<tr><td>-1</td><td>43 .. 3</td><td>160.98628310403117</td><td>58.12556445357027</td><td>0.074825816</td><td>-0.0422247</td><td>0.21750309</td><td>0.09029268</td><td>0.8487536</td><td>51761</td><td>0.08939208</td><td>1 .. 2</td><td>True</td><td>200.61136 .. 207.43813</td><td>0.38346985 .. 2.5625901</td><td>0.058434978 .. 0.021001792</td><td>2359.211 .. 923.8086</td><td>0.0 .. 7.736314e-22</td><td>293.03583 .. 48.610947</td><td>-100.0</td><td>-10000.0</td><td>-1</td><td>32448</td><td>4</td><td>1.2079993</td><td>0.017565036</td></tr>\n",
       "<tr><td>-1</td><td>46 .. 5</td><td>9.974461149474259</td><td>40.66514017555066</td><td>0.08865072</td><td>-0.022966983</td><td>0.38019085</td><td>0.33848307</td><td>0.9459373</td><td>-1</td><td>-1.0</td><td>1 .. 2</td><td>True</td><td>60.77122 .. 58.39467</td><td>0.21031997 .. 1.2000568</td><td>0.00084997487 .. 0.0030169173</td><td>5.252687 .. 17.953432</td><td>3.7028865e-08 .. 0.01857928</td><td>2.5735614 .. 2.9600725</td><td>-100.0</td><td>-10000.0</td><td>-1</td><td>54184</td><td>4</td><td>0.9690136</td><td>0.027690087</td></tr>\n",
       "<tr><td>-1</td><td>4 .. 1</td><td>149.50430287014058</td><td>2.213943745696226</td><td>0.3462598</td><td>0.47544754</td><td>1.4778644</td><td>0.11377874</td><td>1.0737575</td><td>844112</td><td>0.40557882</td><td>1 .. 2</td><td>True</td><td>3.902144 .. 17.025454</td><td>0.2973466 .. 1.3194003</td><td>34.15577 .. -100.0</td><td>520.93 .. -100.0</td><td>0.0 .. -1.0</td><td>263.5419 .. -1.0</td><td>-100.0</td><td>-10000.0</td><td>-1</td><td>98746</td><td>3</td><td>0.35459045</td><td>0.029906916</td></tr>\n",
       "<tr><td>-1</td><td>15 .. 4</td><td>348.9035688841206</td><td>19.413759373254578</td><td>0.12630433</td><td>-0.16186069</td><td>0.17914553</td><td>0.95801276</td><td>0.40485027</td><td>118292</td><td>0.15854242</td><td>1 .. 2</td><td>True</td><td>126.54993 .. 38.594788</td><td>0.6038925 .. 1.9439608</td><td>0.0017923283 .. 0.0030419875</td><td>35.589436 .. 59.990253</td><td>7.254839e-15 .. 0.45650917</td><td>7.074004 .. 0.86853236</td><td>-100.0</td><td>-10000.0</td><td>-1</td><td>151796</td><td>2</td><td>0.31256443</td><td>0.016097367</td></tr>\n",
       "<tr><td>-1</td><td>7 .. 2</td><td>334.6190008630954</td><td>-0.00334150877900888</td><td>0.18584667</td><td>-0.18340522</td><td>0.12893102</td><td>0.8110655</td><td>0.40349314</td><td>-1</td><td>-1.0</td><td>1 .. 2</td><td>True</td><td>121.26045 .. 42.269413</td><td>0.7279036 .. 0.8880146</td><td>0.0016065001 .. 0.005644754</td><td>27.450546 .. 11.66761</td><td>2.65163e-07 .. 0.00661471</td><td>6.8656754 .. 7.3747196</td><td>-100.0</td><td>-10000.0</td><td>-1</td><td>166179</td><td>2</td><td>0.35823846</td><td>0.011588516</td></tr>\n",
       "<tr><td>...</td><td>...</td><td>...</td><td>...</td><td>...</td><td>...</td><td>...</td><td>...</td><td>...</td><td>...</td><td>...</td><td>...</td><td>...</td><td>...</td><td>...</td><td>...</td><td>...</td><td>...</td><td>...</td><td>...</td><td>...</td><td>...</td><td>...</td><td>...</td><td>...</td><td>...</td></tr>\n",
       "<tr><td>-1</td><td>12 .. 10</td><td>49.89487839440356</td><td>41.93511662149011</td><td>0.11688124</td><td>-0.13351366</td><td>0.18084738</td><td>0.7082775</td><td>0.6558279</td><td>995093</td><td>0.14107761</td><td>1 .. 2</td><td>True</td><td>146.99852 .. 48.611095</td><td>0.724471 .. 0.7923874</td><td>0.0026083186 .. 0.003205992</td><td>63.340225 .. 14.719814</td><td>7.10371e-20 .. 0.005771271</td><td>10.640779 .. 2.5773094</td><td>-100.0</td><td>-10000.0</td><td>-1</td><td>472623</td><td>2</td><td>0.3276734</td><td>0.0056179515</td></tr>\n",
       "<tr><td>-1</td><td>12 .. 2</td><td>17.908561463231784</td><td>-46.124209856672074</td><td>0.13979676</td><td>0.26204428</td><td>0.54584837</td><td>0.0013347667</td><td>1.6089647</td><td>1138878</td><td>1.0073358</td><td>1 .. 2</td><td>True</td><td>210.91878 .. 51.06775</td><td>0.85674274 .. 4.06685</td><td>0.002530204 .. -0.01447288</td><td>128.35872 .. 0.8718241</td><td>4.861283e-20 .. 0.8805627</td><td>10.715359 .. 0.022576839</td><td>-100.0</td><td>-10000.0</td><td>-1</td><td>535864</td><td>2</td><td>0.25316325</td><td>0.020363212</td></tr>\n",
       "<tr><td>-1</td><td>11 .. 1</td><td>12.321346896575124</td><td>-25.432354111852234</td><td>0.15710679</td><td>-0.09986815</td><td>0.19939545</td><td>0.5981422</td><td>0.6211446</td><td>-1</td><td>-1.0</td><td>1 .. 2</td><td>True</td><td>73.65471 .. 41.309494</td><td>0.49720997 .. 1.8218318</td><td>0.001814058 .. -100.0</td><td>13.62446 .. -100.0</td><td>1.0632669e-08 .. -1.0</td><td>5.7522326 .. -1.0</td><td>-100.0</td><td>-10000.0</td><td>-1</td><td>541266</td><td>2</td><td>0.5271166</td><td>0.02530804</td></tr>\n",
       "<tr><td>-1</td><td>14 .. -1</td><td>357.1212025536532</td><td>-9.416754993209635</td><td>0.16907042</td><td>-0.2680231</td><td>0.1342233</td><td>0.9720384</td><td>0.33244652</td><td>105508</td><td>0.027343804</td><td>1 .. 0</td><td>True</td><td>16.348425 .. -1.0</td><td>0.22906503 .. -1.0</td><td>0.017647333 .. -100.0</td><td>5.4612293 .. -1.0</td><td>1.6703574e-17 .. -1.0</td><td>8.480622 .. -1.0</td><td>-100.0</td><td>-10000.0</td><td>-1</td><td>625693</td><td>1</td><td>-1.0</td><td>-1.0</td></tr>\n",
       "<tr><td>-1</td><td>17 .. -1</td><td>210.0014165294432</td><td>3.2144664581271694</td><td>0.123477906</td><td>0.15057498</td><td>0.41101447</td><td>0.003518554</td><td>1.5325837</td><td>575776</td><td>0.19368891</td><td>1 .. 0</td><td>True</td><td>147.22968 .. -1.0</td><td>0.7023897 .. -1.0</td><td>0.0027712367 .. -100.0</td><td>74.33389 .. -1.0</td><td>2.3525176e-13 .. -1.0</td><td>5.971573 .. -1.0</td><td>-100.0</td><td>-10000.0</td><td>-1</td><td>1521738</td><td>1</td><td>-1.0</td><td>-1.0</td></tr>\n",
       "<tr><td>-1</td><td>15 .. -1</td><td>207.03531485024092</td><td>-30.479189687581158</td><td>0.13244738</td><td>-0.1224625</td><td>0.14153127</td><td>0.81857866</td><td>0.54091847</td><td>598951</td><td>0.088201396</td><td>1 .. 0</td><td>True</td><td>144.80975 .. -1.0</td><td>0.74000114 .. -1.0</td><td>0.003629745 .. -100.0</td><td>87.94179 .. -1.0</td><td>1.1032699e-20 .. -1.0</td><td>9.209586 .. -1.0</td><td>-100.0</td><td>-10000.0</td><td>-1</td><td>1551422</td><td>1</td><td>-1.0</td><td>-1.0</td></tr>\n",
       "<tr><td>-1</td><td>3 .. -1</td><td>123.35939395926069</td><td>3.353465465397161</td><td>0.39177275</td><td>-0.2683002</td><td>0.25808147</td><td>0.41750205</td><td>0.43673292</td><td>-1</td><td>-1.0</td><td>1 .. 0</td><td>True</td><td>9.7058735 .. -1.0</td><td>0.41658217 .. -1.0</td><td>7.1726975 .. -100.0</td><td>676.54626 .. -1.0</td><td>0.0 .. -1.0</td><td>514.77423 .. -1.0</td><td>-100.0</td><td>-10000.0</td><td>-1</td><td>2136829</td><td>1</td><td>-1.0</td><td>-1.0</td></tr>\n",
       "</table></div>"
      ],
      "text/plain": [
       "<Table length=22>\n",
       "fd_src_id  nr_det          ra         ... nr_fd_srcs     hr        hr_err   \n",
       "                          deg         ...                                   \n",
       "  int32   int32[2]      float64       ...   int32     float32     float32   \n",
       "--------- -------- ------------------ ... ---------- ---------- ------------\n",
       "       -1 67 .. 39  35.24181331249359 ...          6 0.40061885  0.009090735\n",
       "       -1  43 .. 3 160.98628310403117 ...          4  1.2079993  0.017565036\n",
       "       -1  46 .. 5  9.974461149474259 ...          4  0.9690136  0.027690087\n",
       "       -1   4 .. 1 149.50430287014058 ...          3 0.35459045  0.029906916\n",
       "       -1  15 .. 4  348.9035688841206 ...          2 0.31256443  0.016097367\n",
       "       -1   7 .. 2  334.6190008630954 ...          2 0.35823846  0.011588516\n",
       "      ...      ...                ... ...        ...        ...          ...\n",
       "       -1 12 .. 10  49.89487839440356 ...          2  0.3276734 0.0056179515\n",
       "       -1  12 .. 2 17.908561463231784 ...          2 0.25316325  0.020363212\n",
       "       -1  11 .. 1 12.321346896575124 ...          2  0.5271166   0.02530804\n",
       "       -1 14 .. -1  357.1212025536532 ...          1       -1.0         -1.0\n",
       "       -1 17 .. -1  210.0014165294432 ...          1       -1.0         -1.0\n",
       "       -1 15 .. -1 207.03531485024092 ...          1       -1.0         -1.0\n",
       "       -1  3 .. -1 123.35939395926069 ...          1       -1.0         -1.0"
      ]
     },
     "metadata": {},
     "output_type": "display_data"
    }
   ],
   "source": [
    "%matplotlib widget\n",
    "import ipywidgets as widgets\n",
    "from IPython.display import display\n",
    "import matplotlib.pyplot as plt\n",
    "import time\n",
    "\n",
    "from regions import CircleSkyRegion\n",
    "from astropy import units as uu\n",
    "from astropy.coordinates import SkyCoord\n",
    "from astropy.wcs.utils import pixel_to_skycoord\n",
    "from astropy.timeseries import LombScargle,TimeSeries,BinnedTimeSeries\n",
    "from astropy.units import cds\n",
    "from astropy.table import QTable\n",
    "from astropy.time import Time\n",
    "\n",
    "from loguru import logger\n",
    "logger.enable(\"vasca\")\n",
    "\n",
    "#cds.enable()  \n",
    "import numpy as np\n",
    "\n",
    "from vasca.region import Region\n",
    "from vasca.field import BaseField\n",
    "import vasca.visualization as vvis\n",
    "\n",
    "from vasca.utils import mag2flux, sel_sources, dd_filter2id\n",
    "\n",
    "region_fname = \"./vasca_pipeline/\"+region_name+\"/region_\"+region_name+\".fits\"\n",
    "rg = Region()\n",
    "rg.load_from_fits(region_fname)\n",
    "#rg.remove_table(\"tt_coadd_detections\")\n",
    "#rg.tt_coadd_sources.remove_columns([\"nr_det\",\"obs_filter_id\",\"flux_nxv\",\"flux_var\",\"flux_cpval\",\"flux_rchiq\",\"fd_src_id\",\"assoc_id\",\"assoc_dist\",\"assoc_ffactor\",\"assoc_fdiff_s2n\",\"rg_fd_id\",\"nr_fd_dets\",\"pos_xv\",\"pos_var\",\"pos_cpval\",\"pos_rchiq\"])\n",
    "#rg.tt_sources.remove_columns([\"fd_src_id\",\"rg_fd_id\"])\n",
    "#rg.write_to_fits(region_fname)\n",
    "rg.tt_sources.add_index(\"rg_src_id\")\n",
    "src_idx = rg.tt_sources.loc_indices[srcs_ids]\n",
    "tt_src = rg.tt_sources[src_idx]\n",
    "display(tt_src)"
   ]
  },
  {
   "cell_type": "code",
   "execution_count": 3,
   "id": "ba910fb0-d3ef-44a3-854f-368da2da96b8",
   "metadata": {},
   "outputs": [
    {
     "data": {
      "application/vnd.jupyter.widget-view+json": {
       "model_id": "d0c23f6a217c4f8a8003248b95615c09",
       "version_major": 2,
       "version_minor": 0
      },
      "text/plain": [
       "interactive(children=(Dropdown(description='rg_src_id', options=(8215, 32448, 54184, 98746, 151796, 166179, 17…"
      ]
     },
     "execution_count": 3,
     "metadata": {},
     "output_type": "execute_result"
    }
   ],
   "source": [
    "#dd_lcs = rg.get_light_curve(rg_src_ids=srcs_ids)\n",
    "\n",
    "def freq2period(ff):\n",
    "    return 1/ff\n",
    "\n",
    "def period2freq(pp):\n",
    "    return 1/pp\n",
    "\n",
    "def plot_LombScargle(rg_src_id):\n",
    "\n",
    "    t_start = time.time()\n",
    "\n",
    "    #Get source and light curve\n",
    "    tc_src = rg.get_src_from_id(rg_src_id, load_from_file = False, write_to_file=False, add_sed=False, add_gphoton=False, add_spectrum=False)\n",
    "    lc_orig = tc_src.tt_source_lc\n",
    "    sel_lc = np.array((lc_orig[\"obs_filter_id\"]==1) * (lc_orig[\"sel\"]==True), dtype=bool)\n",
    "    lc = lc_orig[sel_lc]\n",
    "\n",
    "    #Get LS parameters\n",
    "    dt = lc[\"time\"][1:]-lc[\"time\"][0:-1]\n",
    "    t_min = np.min(lc[\"time\"].quantity)\n",
    "    t_max = np.max(lc[\"time\"].quantity)\n",
    "    dt_tot =  t_max - t_min\n",
    "    dt_min = np.min(dt.quantity)\n",
    "    f_min = 1/(dt_tot/4)\n",
    "    f_max = 1/(4*dt_min)\n",
    "\n",
    "    # Run LS\n",
    "    \n",
    "    t_ls_start = time.time()\n",
    "    print(\"Loading:\",t_ls_start - t_start)\n",
    "    ls = LombScargle(lc[\"time\"], lc[\"flux\"],lc[\"flux_err\"]) #normalization{‘standard’, ‘model’, ‘log’, ‘psd’},\n",
    "    freq,power = ls.autopower(minimum_frequency=f_min,maximum_frequency=f_max) #nyquist_factor=5\n",
    "    t_ls_done = time.time()\n",
    "    print(\"LS calculation:\",t_ls_done - t_ls_start)\n",
    "\n",
    "    \n",
    "    #Get confidence interval\n",
    "    #conf = ls.false_alarm_level(probabilities)\n",
    "\n",
    "    #Get some basic results\n",
    "    p_peak = power.max()\n",
    "#    idx_pmax =  #np.where(power == p_peak)\n",
    "    f_peak = freq[np.argmax(power)]\n",
    "    Pval =ls.false_alarm_probability(p_peak)\n",
    "    t_false_prob = time.time()\n",
    "    print(\"False prob. calc:\",t_false_prob-t_ls_done)\n",
    "    print(\"Total:\",t_false_prob - t_start)\n",
    "\n",
    "    #Print basic info\n",
    "    print(f\"Lightcurve total duration= {dt_tot} ({1/dt_tot}), minimum bin distance {dt_min} ({1/dt_min})\")\n",
    "    print(f\"Freq_min= {freq[0]}, freqmax= {freq[-1]}, number of freq bins {len(freq)}\")\n",
    "    print(f\"Maximum power at frequency {f_peak }, period {1/f_peak}, whith a false probability of {Pval}\")\n",
    "    \n",
    "    #Plot power spectrum\n",
    "    fig, axs = plt.subplots(1, 2, figsize=(14, 6), num=\"LombScargle\", clear=True)\n",
    "    axs = axs.flatten()\n",
    "    #axs[0].axhline(conf[0],linewidth=0.5, ls=\"--\", color='k', label=\"4-sigma\")\n",
    "    axs[0].plot(freq, power)\n",
    "\n",
    "    axs[0].set_xscale(\"log\")\n",
    "    axs[0].set_xlabel('Frequency [1/day]')\n",
    "    axs[0].set_ylabel('LS power')\n",
    "    secax = axs[0].secondary_xaxis(\"top\", functions=(freq2period, period2freq))\n",
    "    secax.set_xlabel(\"Period [day]\")\n",
    "    axs[0].legend()\n",
    "    plt.show()\n",
    "\n",
    "#     best_frequency = frequency[np.argmax(power)]\n",
    "\n",
    "\n",
    "\n",
    "\n",
    "\n",
    "    # Create time series for folding\n",
    "    #lc[\"time\"]=Time(lc[\"time\"].quantity, format=\"mjd\")\n",
    "    # #ts = TimeSeries(data=lc)\n",
    "    \n",
    "    #Show best fit model\n",
    "    # plt.sca(axs[1])\n",
    "    # ts_folded = ts.fold(period=1/f_peak, epoch_time=lc[\"time\"][0])\n",
    "    # plt.plot(ts_folded.time.jd, ts_folded['flux'], 'k.', markersize=4)\n",
    "    # plt.xlabel('Time (days)')\n",
    "    # plt.ylabel('Flux')\n",
    "    \n",
    "    # time_fit = np.linspace(0, 1)*uu.d\n",
    "    # flux_fit = ls.model(time_fit*uu.d, f_peak)\n",
    "    # plt.sca(axs[1])\n",
    "    # plt.plot(time_fit,flux_fit,\"ob\")\n",
    "    # plt.show()\n",
    "    \n",
    "    # fig = plt.figure(figsize=(14, 6))\n",
    "    fig_lc, axs_lc = plt.subplots(1, 1, figsize=(14, 6), num=\"LC\", clear=True)\n",
    "    #axs_lc = axs_lc.flatten()\n",
    "    vvis.plot_light_curve(tc_src, ax = axs_lc)\n",
    "    #vvis.plot_light_curve(rg,rg_src_ids = rg_src_id, ax = axs_lc)\n",
    "\n",
    "        #t_fit = lc[\"time\"] #np.linspace(0, 1)*uu.d\n",
    "    t_fit = np.linspace(t_min,t_max,1000)\n",
    "    y_fit = ls.model(t_fit, f_peak)\n",
    "    #print(t_fit, y_fit)\n",
    "    axs_lc.plot(t_fit, y_fit,\"b--\", alpha=0.5)\n",
    "    #axs[1].set_xlabel('Time (days)')\n",
    "    #axs[1].set_ylabel('Flux')\n",
    "\n",
    "\n",
    "    plt.show()\n",
    "\n",
    "\n",
    "widgets.interactive(plot_LombScargle, rg_src_id=srcs_ids)"
   ]
  },
  {
   "cell_type": "code",
   "execution_count": 4,
   "id": "98c2ed05-be40-4520-bf88-23d0fea24f53",
   "metadata": {},
   "outputs": [
    {
     "data": {
      "text/plain": [
       "16.0"
      ]
     },
     "execution_count": 4,
     "metadata": {},
     "output_type": "execute_result"
    }
   ],
   "source": [
    "24*60/90 # MAximum Nr of orbits per day"
   ]
  },
  {
   "cell_type": "code",
   "execution_count": 5,
   "id": "639bcbe0-131a-46db-b81d-3deb7a10485c",
   "metadata": {},
   "outputs": [
    {
     "data": {
      "text/plain": [
       "0.0011111111111111111"
      ]
     },
     "execution_count": 5,
     "metadata": {},
     "output_type": "execute_result"
    }
   ],
   "source": [
    "1/(3600/4)"
   ]
  },
  {
   "cell_type": "code",
   "execution_count": null,
   "id": "a4a40966-cf53-4cbb-8929-c48195c8678b",
   "metadata": {},
   "outputs": [],
   "source": []
  }
 ],
 "metadata": {
  "kernelspec": {
   "display_name": "Python 3 (ipykernel)",
   "language": "python",
   "name": "python3"
  },
  "language_info": {
   "codemirror_mode": {
    "name": "ipython",
    "version": 3
   },
   "file_extension": ".py",
   "mimetype": "text/x-python",
   "name": "python",
   "nbconvert_exporter": "python",
   "pygments_lexer": "ipython3",
   "version": "3.10.12"
  }
 },
 "nbformat": 4,
 "nbformat_minor": 5
}
