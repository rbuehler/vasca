{
 "cells": [
  {
   "cell_type": "markdown",
   "id": "eb377187-b538-48c3-9026-329a376ce60b",
   "metadata": {},
   "source": [
    "**Create a complete list of all GALEX CAUSE Kepler survey visits.**\n",
    "\n",
    "This script reads all mcat files relative to the specified root data directory and\n",
    "extracts relevant information from the FITS header. A combined list for all mcat files\n",
    "is created. All required information is contained that VASCA field and visits tables can\n",
    "be created."
   ]
  },
  {
   "cell_type": "code",
   "execution_count": 1,
   "id": "0a6cd61b-0759-410f-9626-9095993a8ad5",
   "metadata": {},
   "outputs": [],
   "source": [
    "from tqdm.notebook import tqdm"
   ]
  },
  {
   "cell_type": "code",
   "execution_count": 2,
   "id": "d72be34d-4e57-4feb-a0e6-9a4b887b919e",
   "metadata": {},
   "outputs": [],
   "source": [
    "import hashlib\n",
    "import os\n",
    "import pathlib\n",
    "\n",
    "import numpy as np\n",
    "import pandas as pd\n",
    "import requests\n",
    "from astropy.io import fits\n",
    "from astropy.table import Table\n",
    "from astropy.time import Time\n",
    "from datetime import datetime\n",
    "\n",
    "\n",
    "import vasca.utils as vutils\n",
    "import vasca.resource_manager as vascarm"
   ]
  },
  {
   "cell_type": "markdown",
   "id": "c37673c1-9d53-407c-9831-9378bf15b6d5",
   "metadata": {},
   "source": [
    "# GALEX standard imaging mode visits table"
   ]
  },
  {
   "cell_type": "code",
   "execution_count": 3,
   "id": "171db7ca-586d-4ff4-bcc5-dac6004a527d",
   "metadata": {},
   "outputs": [],
   "source": [
    "rm = vascarm.ResourceManager()\n",
    "tt_gal_vis = Table.read(rm.get_path(\"gal_visits_list\",\"sas_cloud\"))"
   ]
  },
  {
   "cell_type": "code",
   "execution_count": 4,
   "id": "506f063d-9520-4f4a-8c36-96cec0b7b8dc",
   "metadata": {},
   "outputs": [
    {
     "data": {
      "text/html": [
       "<div><i>Table length=10</i>\n",
       "<table id=\"table5200342800\" class=\"table-striped table-bordered table-condensed\">\n",
       "<thead><tr><th>RATileCenter</th><th>DECTileCenter</th><th>survey</th><th>nexptime</th><th>fexptime</th><th>imgRunID</th><th>ParentImgRunID</th><th>joinID</th><th>tileNum</th><th>specTileNum</th><th>source</th><th>nPhotoObjects</th><th>nPhotoVisits</th><th>PhotoObsDate</th><th>spectra</th><th>nSpectra</th><th>nSpectraVisits</th><th>SpecObsDate</th><th>visitNum</th><th>subvis</th><th>minPhotoObsDate</th><th>maxPhotoObsDate</th><th>minSpecObsDate</th><th>maxSpecObsDate</th><th>PhotoObsDate_MJD</th><th>gall</th><th>galb</th></tr></thead>\n",
       "<thead><tr><th>float64</th><th>float64</th><th>bytes3</th><th>float64</th><th>float64</th><th>int64</th><th>int64</th><th>int64</th><th>int64</th><th>int64</th><th>bytes6</th><th>int64</th><th>int64</th><th>bytes22</th><th>bytes5</th><th>bytes4</th><th>bytes4</th><th>bytes4</th><th>int64</th><th>int64</th><th>bytes22</th><th>bytes22</th><th>bytes4</th><th>bytes4</th><th>float64</th><th>float64</th><th>float64</th></tr></thead>\n",
       "<tr><td>210.542232477159</td><td>-32.6804067553693</td><td>NGS</td><td>544.0</td><td>544.0</td><td>2391589523080347648</td><td>2391589660720627712</td><td>7804</td><td>2437</td><td>-999</td><td>visitI</td><td>7781</td><td>1</td><td>6/7/2003 5:02:29 AM</td><td>False</td><td>null</td><td>null</td><td>null</td><td>1</td><td>-999</td><td>6/7/2003 5:02:29 AM</td><td>6/7/2003 5:11:33 AM</td><td>null</td><td>null</td><td>52797.21005787037</td><td>319.74270865062874</td><td>27.871918173555255</td></tr>\n",
       "<tr><td>201.528614022379</td><td>-42.9957260941383</td><td>NGS</td><td>937.0</td><td>937.0</td><td>2391624707452436480</td><td>2391624845092716544</td><td>74460</td><td>2438</td><td>-999</td><td>visitI</td><td>8258</td><td>1</td><td>6/7/2003 6:41:02 AM</td><td>False</td><td>null</td><td>null</td><td>null</td><td>1</td><td>-999</td><td>6/7/2003 6:41:02 AM</td><td>6/7/2003 6:56:39 AM</td><td>null</td><td>null</td><td>52797.278495370374</td><td>309.64494588030084</td><td>19.423571577159674</td></tr>\n",
       "<tr><td>203.769181415483</td><td>-30.085639855328</td><td>NGS</td><td>1349.05</td><td>1349.05</td><td>2391659891824525312</td><td>2391660029464805376</td><td>55314</td><td>2439</td><td>-999</td><td>visitI</td><td>10310</td><td>1</td><td>6/7/2003 8:19:41 AM</td><td>False</td><td>null</td><td>null</td><td>null</td><td>1</td><td>-999</td><td>6/7/2003 8:19:41 AM</td><td>6/7/2003 8:42:10 AM</td><td>null</td><td>null</td><td>52797.34700231482</td><td>314.0467834685246</td><td>31.84251982355922</td></tr>\n",
       "<tr><td>231.921642929177</td><td>3.34027063665351</td><td>MIS</td><td>1696.0</td><td>1696.0</td><td>2391730260568702976</td><td>2391730398208983040</td><td>60377</td><td>2441</td><td>-999</td><td>visitI</td><td>11931</td><td>1</td><td>6/7/2003 11:37:03 AM</td><td>False</td><td>null</td><td>null</td><td>null</td><td>1</td><td>-999</td><td>6/7/2003 11:37:03 AM</td><td>6/7/2003 12:05:19 PM</td><td>null</td><td>null</td><td>52797.4840625</td><td>7.318115437067729</td><td>45.76107027896758</td></tr>\n",
       "<tr><td>231.294710460205</td><td>2.47871950720032</td><td>MIS</td><td>1698.45</td><td>1698.45</td><td>2391765444940791808</td><td>2391765582581071872</td><td>80501</td><td>2442</td><td>-999</td><td>visitI</td><td>12210</td><td>1</td><td>6/7/2003 1:15:37 PM</td><td>False</td><td>null</td><td>null</td><td>null</td><td>1</td><td>-999</td><td>6/7/2003 1:15:37 PM</td><td>6/7/2003 1:43:55 PM</td><td>null</td><td>null</td><td>52797.552511574075</td><td>5.791997165545202</td><td>45.74212396120733</td></tr>\n",
       "<tr><td>230.830932461494</td><td>3.23716734012699</td><td>MIS</td><td>1700.05</td><td>1700.05</td><td>2391800629312880640</td><td>2391800766953160704</td><td>19263</td><td>2443</td><td>-999</td><td>visitI</td><td>12072</td><td>1</td><td>6/7/2003 2:54:16 PM</td><td>False</td><td>null</td><td>null</td><td>null</td><td>1</td><td>-999</td><td>6/7/2003 2:54:16 PM</td><td>6/7/2003 3:22:36 PM</td><td>null</td><td>null</td><td>52797.62101851852</td><td>6.256101183947215</td><td>46.57064854646065</td></tr>\n",
       "<tr><td>234.188554368289</td><td>16.8671059033759</td><td>NGS</td><td>1638.65</td><td>1638.65</td><td>2391835813684969472</td><td>2391835951325249536</td><td>43106</td><td>2444</td><td>-999</td><td>visitI</td><td>10393</td><td>1</td><td>6/7/2003 4:32:55 PM</td><td>False</td><td>null</td><td>null</td><td>null</td><td>1</td><td>-999</td><td>6/7/2003 4:32:55 PM</td><td>6/7/2003 5:00:13 PM</td><td>null</td><td>null</td><td>52797.68952546296</td><td>26.660767071324788</td><td>50.52230153629896</td></tr>\n",
       "<tr><td>248.444951658959</td><td>28.9948431329317</td><td>NGS</td><td>1214.2</td><td>1214.15</td><td>2391870998057058304</td><td>2391871135697338368</td><td>66730</td><td>2445</td><td>-999</td><td>visitI</td><td>10950</td><td>1</td><td>6/7/2003 6:19:27 PM</td><td>False</td><td>null</td><td>null</td><td>null</td><td>1</td><td>-999</td><td>6/7/2003 6:19:27 PM</td><td>6/7/2003 6:39:41 PM</td><td>null</td><td>null</td><td>52797.763506944444</td><td>48.86491252912745</td><td>41.37504928770764</td></tr>\n",
       "<tr><td>232.973573105411</td><td>3.52025544208571</td><td>MIS</td><td>820.05</td><td>820.05</td><td>2391906182429147136</td><td>2391906320069427200</td><td>41926</td><td>2446</td><td>-999</td><td>visitI</td><td>9171</td><td>1</td><td>6/7/2003 8:04:52 PM</td><td>False</td><td>null</td><td>null</td><td>null</td><td>1</td><td>-999</td><td>6/7/2003 8:04:52 PM</td><td>6/7/2003 8:18:32 PM</td><td>null</td><td>null</td><td>52797.83671296296</td><td>8.406902702835215</td><td>45.019198221613436</td></tr>\n",
       "<tr><td>146.041027481743</td><td>1.19810859927203</td><td>MIS</td><td>1677.05</td><td>1677.05</td><td>2411398324566360064</td><td>2411398462005313536</td><td>25501</td><td>3000</td><td>-999</td><td>visitI</td><td>6694</td><td>1</td><td>1/16/2009 6:30:22 AM</td><td>False</td><td>null</td><td>null</td><td>null</td><td>1</td><td>-999</td><td>1/16/2009 6:30:22 AM</td><td>1/16/2009 6:58:19 AM</td><td>null</td><td>null</td><td>54847.27108796296</td><td>234.85154150948858</td><td>38.201648981903</td></tr>\n",
       "</table></div>"
      ],
      "text/plain": [
       "<Table length=10>\n",
       "  RATileCenter     DECTileCenter   survey nexptime fexptime ... minSpecObsDate maxSpecObsDate  PhotoObsDate_MJD         gall               galb       \n",
       "    float64           float64      bytes3 float64  float64  ...     bytes4         bytes4          float64            float64            float64      \n",
       "---------------- ----------------- ------ -------- -------- ... -------------- -------------- ------------------ ------------------ ------------------\n",
       "210.542232477159 -32.6804067553693    NGS    544.0    544.0 ...           null           null  52797.21005787037 319.74270865062874 27.871918173555255\n",
       "201.528614022379 -42.9957260941383    NGS    937.0    937.0 ...           null           null 52797.278495370374 309.64494588030084 19.423571577159674\n",
       "203.769181415483  -30.085639855328    NGS  1349.05  1349.05 ...           null           null  52797.34700231482  314.0467834685246  31.84251982355922\n",
       "231.921642929177  3.34027063665351    MIS   1696.0   1696.0 ...           null           null      52797.4840625  7.318115437067729  45.76107027896758\n",
       "231.294710460205  2.47871950720032    MIS  1698.45  1698.45 ...           null           null 52797.552511574075  5.791997165545202  45.74212396120733\n",
       "230.830932461494  3.23716734012699    MIS  1700.05  1700.05 ...           null           null  52797.62101851852  6.256101183947215  46.57064854646065\n",
       "234.188554368289  16.8671059033759    NGS  1638.65  1638.65 ...           null           null  52797.68952546296 26.660767071324788  50.52230153629896\n",
       "248.444951658959  28.9948431329317    NGS   1214.2  1214.15 ...           null           null 52797.763506944444  48.86491252912745  41.37504928770764\n",
       "232.973573105411  3.52025544208571    MIS   820.05   820.05 ...           null           null  52797.83671296296  8.406902702835215 45.019198221613436\n",
       "146.041027481743  1.19810859927203    MIS  1677.05  1677.05 ...           null           null  54847.27108796296 234.85154150948858    38.201648981903"
      ]
     },
     "metadata": {},
     "output_type": "display_data"
    },
    {
     "name": "stdout",
     "output_type": "stream",
     "text": [
      "<Table length=100865>\n",
      "      name        dtype \n",
      "---------------- -------\n",
      "    RATileCenter float64\n",
      "   DECTileCenter float64\n",
      "          survey  bytes3\n",
      "        nexptime float64\n",
      "        fexptime float64\n",
      "        imgRunID   int64\n",
      "  ParentImgRunID   int64\n",
      "          joinID   int64\n",
      "         tileNum   int64\n",
      "     specTileNum   int64\n",
      "          source  bytes6\n",
      "   nPhotoObjects   int64\n",
      "    nPhotoVisits   int64\n",
      "    PhotoObsDate bytes22\n",
      "         spectra  bytes5\n",
      "        nSpectra  bytes4\n",
      "  nSpectraVisits  bytes4\n",
      "     SpecObsDate  bytes4\n",
      "        visitNum   int64\n",
      "          subvis   int64\n",
      " minPhotoObsDate bytes22\n",
      " maxPhotoObsDate bytes22\n",
      "  minSpecObsDate  bytes4\n",
      "  maxSpecObsDate  bytes4\n",
      "PhotoObsDate_MJD float64\n",
      "            gall float64\n",
      "            galb float64\n",
      "None\n"
     ]
    }
   ],
   "source": [
    "display(tt_gal_vis[:10])\n",
    "print(tt_gal_vis.info())"
   ]
  },
  {
   "cell_type": "markdown",
   "id": "c12ac630-cb66-4008-a56b-2a7a364b4349",
   "metadata": {},
   "source": [
    "# GCK example mcat"
   ]
  },
  {
   "cell_type": "code",
   "execution_count": 5,
   "id": "4134b6a0-c9ba-4db7-9265-495396e40497",
   "metadata": {},
   "outputs": [],
   "source": [
    "# VASCA columns - mcat header keys:\n",
    "# \"vis_id\"\n",
    "# \"time_bin_start\" - NEXPSTAR\n",
    "# \"time_bin_size\" - NEXPTIME\n",
    "# \"sel\"\n",
    "# \"obs_filter_id\"\n",
    "# \"ra\" - RA_CENT\n",
    "# \"dec\" - DEC_CENT\n",
    "# \"gall\" - GLONO\n",
    "# \"galb\" - GLATO\n"
   ]
  },
  {
   "cell_type": "code",
   "execution_count": 6,
   "id": "e5ac2850-840b-4ed1-a0dd-0a2cdbaa8b6f",
   "metadata": {},
   "outputs": [],
   "source": [
    "def get_hdr_info(hdr):\n",
    "    \"\"\"\n",
    "    Compile data from an mcat file header for general information about\n",
    "    a drift scan observation.\n",
    "    \"\"\"\n",
    "    # Extract header info\n",
    "    hdr_info = {\n",
    "        k: hdr[k]\n",
    "        for k in [\n",
    "            \"TILENUM\",\n",
    "            \"TILENAME\",\n",
    "            \"OBJECT\",\n",
    "            \"VISIT\",\n",
    "            \"SUBVIS\",\n",
    "            \"OBSDATIM\",\n",
    "            \"NEXPSTAR\",\n",
    "            \"NEXPTIME\",\n",
    "            \"RA_CENT\",\n",
    "            \"DEC_CENT\",\n",
    "            \"GLONO\",\n",
    "            \"GLATO\",\n",
    "        ]\n",
    "    }\n",
    "\n",
    "    # Create names and IDs for fields and visits\n",
    "    field_name = f'{hdr_info[\"TILENUM\"]}-{hdr_info[\"TILENAME\"]}_sv{hdr_info[\"SUBVIS\"]:02}'\n",
    "    field_id = vutils.name2id(field_name, bits=64)\n",
    "    vis_name = f'{field_name}_{hdr_info[\"VISIT\"]:04}-img'\n",
    "    vis_id = vutils.name2id(vis_name, bits=64)\n",
    "\n",
    "    hdr_info.update(\n",
    "        {\n",
    "            \"field_name\": field_name,\n",
    "            \"field_id\": field_id,\n",
    "            \"vis_name\": vis_name,\n",
    "            \"vis_id\": vis_id,\n",
    "        }\n",
    "    )\n",
    "\n",
    "    # Time stamp\n",
    "    time_bin_start = Time(hdr_info[\"NEXPSTAR\"], format=\"unix\").mjd\n",
    "    hdr_info[\"time_bin_start\"] = time_bin_start\n",
    "\n",
    "    # Other info\n",
    "    hdr_info.update(\n",
    "        {\n",
    "            \"observatory\": \"GALEX_DS\",  # GALEX drift scan\n",
    "            \"obs_filter\": \"NUV\",\n",
    "            \"fov_diam\": -999.99,  # FoV undefined for drift scan\n",
    "            \"sel\": 0,\n",
    "        }\n",
    "    )\n",
    "\n",
    "    return hdr_info"
   ]
  },
  {
   "cell_type": "code",
   "execution_count": 7,
   "id": "10531935-86fe-4aac-b012-1b8f4b9ff7f7",
   "metadata": {
    "tags": []
   },
   "outputs": [],
   "source": [
    "# Settings\n",
    "\n",
    "# Input/output directories\n",
    "root_data_dir = \"/Users/julianschliwinski/GALEX_DS/GALEX_DS_GCK_fields\"\n",
    "out_dir = \"/Users/julianschliwinski/GALEX_DS/GALEX_DS_GCK_visits_list\"\n",
    "\n",
    "# Dry-run, don't export final list\n",
    "dry_run = False\n",
    "\n",
    "# Loops over mcat files and saves info\n",
    "info = list()\n",
    "for path, subdirs, files in os.walk(root_data_dir):\n",
    "    for name in files:\n",
    "        if name.endswith(\"-xd-mcat.fits\"):\n",
    "            # Load mcat file and get relevant info\n",
    "            mcat_path = os.path.join(path, name)\n",
    "            with fits.open(mcat_path) as hdul:\n",
    "                hdr_info = get_hdr_info(hdul[0].header)\n",
    "\n",
    "            # Cross-checks\n",
    "            # File name matches 'OBJECT' key\n",
    "            if (\n",
    "                mcat_path.split(os.sep)[-1].rstrip(\"-xd-mcat.fits\")\n",
    "                != hdr_info[\"OBJECT\"]\n",
    "            ):\n",
    "                print(\n",
    "                    \"Warning: OBJECT key inconsistent \"\n",
    "                    f'(OBJECT: {hdr_info[\"OBJECT\"]}, '\n",
    "                    f'mcat: {mcat_path.split(os.sep)[-1].rstrip(\"-xd-mcat.fits\")})'\n",
    "                )\n",
    "            # Visit directory name matches 'vis_name' key\n",
    "            if mcat_path.split(os.sep)[-2] != hdr_info[\"vis_name\"]:\n",
    "                print(\n",
    "                    \"Warning: vis_name key inconsistent: \"\n",
    "                    f'(vis_name: {hdr_info[\"vis_name\"]}, '\n",
    "                    f\"mcat directory: {mcat_path.split(os.sep)[-2]})\"\n",
    "                )\n",
    "\n",
    "            info.append(hdr_info)\n",
    "\n",
    "# Combines to astropy table via DataFrame\n",
    "# because of problematic dtype handling of IDs\n",
    "# tt_info = Table(info)  # this fails second cross-check\n",
    "df_info = pd.DataFrame(info)\n",
    "tt_info = Table.from_pandas(df_info)\n",
    "\n",
    "# Cross-checks\n",
    "# All visit IDs are unique\n",
    "vis_ids = np.unique(tt_info[\"vis_id\"])\n",
    "if not len(vis_ids) == len(tt_info):\n",
    "    raise ValueError(\"Non-unique visit IDs\")\n",
    "# All visit IDs have been consistently created from visit name\n",
    "if not all(\n",
    "    [\n",
    "        int(vis_id) == vutils.name2id(vis_name, bits=64)\n",
    "        for vis_id, vis_name in zip(tt_info[\"vis_id\"], tt_info[\"vis_name\"])\n",
    "    ]\n",
    "):\n",
    "    raise ValueError(\"Inconsistent mapping vis_name to vis_id.\")\n",
    "\n",
    "if not dry_run:\n",
    "    # Export\n",
    "    if not os.path.isdir(out_dir):\n",
    "        os.mkdir(out_dir)\n",
    "    # FITS\n",
    "    tt_info.write(f\"{out_dir}/GALEX_DS_GCK_visits_list.fits\", overwrite=True)\n",
    "    # CSV\n",
    "    df_info.to_csv(f\"{out_dir}/GALEX_DS_GCK_visits_list.csv\")\n",
    "    # HTML\n",
    "    df_info.to_html(f\"{out_dir}/GALEX_DS_GCK_visits_list.html\")"
   ]
  },
  {
   "cell_type": "code",
   "execution_count": 8,
   "id": "c0dadef5-55b7-44c7-933a-03e65d98cbec",
   "metadata": {},
   "outputs": [
    {
     "data": {
      "text/html": [
       "<div><i>Table length=10</i>\n",
       "<table id=\"table5200807152\" class=\"table-striped table-bordered table-condensed\">\n",
       "<thead><tr><th>TILENUM</th><th>TILENAME</th><th>OBJECT</th><th>VISIT</th><th>SUBVIS</th><th>OBSDATIM</th><th>NEXPSTAR</th><th>NEXPTIME</th><th>RA_CENT</th><th>DEC_CENT</th><th>GLONO</th><th>GLATO</th><th>field_name</th><th>field_id</th><th>vis_name</th><th>vis_id</th><th>time_bin_start</th><th>observatory</th><th>obs_filter</th><th>fov_diam</th><th>sel</th></tr></thead>\n",
       "<thead><tr><th>int64</th><th>str15</th><th>str25</th><th>int64</th><th>int64</th><th>str14</th><th>float64</th><th>float64</th><th>float64</th><th>float64</th><th>float64</th><th>float64</th><th>str26</th><th>uint64</th><th>str35</th><th>uint64</th><th>float64</th><th>str8</th><th>str3</th><th>float64</th><th>int64</th></tr></thead>\n",
       "<tr><td>29208</td><td>KEPLER_SCAN_009</td><td>KEPLER_SCAN_009_0019_sv08</td><td>19</td><td>8</td><td>120907T090122Z</td><td>1347008481.995</td><td>228.35</td><td>291.69037852002</td><td>44.8728877632244</td><td>76.9861861593149</td><td>12.9961413692396</td><td>29208-KEPLER_SCAN_009_sv08</td><td>11563663594598293566</td><td>29208-KEPLER_SCAN_009_sv08_0019-img</td><td>4459283194592964374</td><td>56177.375949016205</td><td>GALEX_DS</td><td>NUV</td><td>-999.99</td><td>0</td></tr>\n",
       "<tr><td>29208</td><td>KEPLER_SCAN_009</td><td>KEPLER_SCAN_009_0025_sv08</td><td>25</td><td>8</td><td>120919T015504Z</td><td>1348019703.995</td><td>121.0</td><td>291.69037852002</td><td>44.8728877632244</td><td>76.9861861593149</td><td>12.9961413692396</td><td>29208-KEPLER_SCAN_009_sv08</td><td>11563663594598293566</td><td>29208-KEPLER_SCAN_009_sv08_0025-img</td><td>15284256427265905955</td><td>56189.07990734954</td><td>GALEX_DS</td><td>NUV</td><td>-999.99</td><td>0</td></tr>\n",
       "<tr><td>29208</td><td>KEPLER_SCAN_009</td><td>KEPLER_SCAN_009_0024_sv08</td><td>24</td><td>8</td><td>120918T192056Z</td><td>1347996055.995</td><td>118.0</td><td>291.69037852002</td><td>44.8728877632244</td><td>76.9861861593149</td><td>12.9961413692396</td><td>29208-KEPLER_SCAN_009_sv08</td><td>11563663594598293566</td><td>29208-KEPLER_SCAN_009_sv08_0024-img</td><td>8862978591103310281</td><td>56188.80620364583</td><td>GALEX_DS</td><td>NUV</td><td>-999.99</td><td>0</td></tr>\n",
       "<tr><td>29208</td><td>KEPLER_SCAN_009</td><td>KEPLER_SCAN_009_0018_sv08</td><td>18</td><td>8</td><td>120906T163540Z</td><td>1346949339.995</td><td>229.05</td><td>291.69037852002</td><td>44.8728877632244</td><td>76.9861861593149</td><td>12.9961413692396</td><td>29208-KEPLER_SCAN_009_sv08</td><td>11563663594598293566</td><td>29208-KEPLER_SCAN_009_sv08_0018-img</td><td>12169717864554354965</td><td>56176.691435127315</td><td>GALEX_DS</td><td>NUV</td><td>-999.99</td><td>0</td></tr>\n",
       "<tr><td>29208</td><td>KEPLER_SCAN_009</td><td>KEPLER_SCAN_009_0026_sv08</td><td>26</td><td>8</td><td>120919T033337Z</td><td>1348025616.995</td><td>121.0</td><td>291.69037852002</td><td>44.8728877632244</td><td>76.9861861593149</td><td>12.9961413692396</td><td>29208-KEPLER_SCAN_009_sv08</td><td>11563663594598293566</td><td>29208-KEPLER_SCAN_009_sv08_0026-img</td><td>8571124233770291412</td><td>56189.148344849535</td><td>GALEX_DS</td><td>NUV</td><td>-999.99</td><td>0</td></tr>\n",
       "<tr><td>29208</td><td>KEPLER_SCAN_009</td><td>KEPLER_SCAN_009_0023_sv08</td><td>23</td><td>8</td><td>120917T035601Z</td><td>1347854160.995</td><td>118.0</td><td>291.69037852002</td><td>44.8728877632244</td><td>76.9861861593149</td><td>12.9961413692396</td><td>29208-KEPLER_SCAN_009_sv08</td><td>11563663594598293566</td><td>29208-KEPLER_SCAN_009_sv08_0023-img</td><td>13212896263789748751</td><td>56187.16390040509</td><td>GALEX_DS</td><td>NUV</td><td>-999.99</td><td>0</td></tr>\n",
       "<tr><td>29208</td><td>KEPLER_SCAN_009</td><td>KEPLER_SCAN_009_0022_sv08</td><td>22</td><td>8</td><td>120910T091834Z</td><td>1347268713.995</td><td>220.05</td><td>291.69037852002</td><td>44.8728877632244</td><td>76.9861861593149</td><td>12.9961413692396</td><td>29208-KEPLER_SCAN_009_sv08</td><td>11563663594598293566</td><td>29208-KEPLER_SCAN_009_sv08_0022-img</td><td>16143993856861089493</td><td>56180.38789346065</td><td>GALEX_DS</td><td>NUV</td><td>-999.99</td><td>0</td></tr>\n",
       "<tr><td>29208</td><td>KEPLER_SCAN_009</td><td>KEPLER_SCAN_009_0020_sv08</td><td>20</td><td>8</td><td>120907T153538Z</td><td>1347032137.995</td><td>229.05</td><td>291.69037852002</td><td>44.8728877632244</td><td>76.9861861593149</td><td>12.9961413692396</td><td>29208-KEPLER_SCAN_009_sv08</td><td>11563663594598293566</td><td>29208-KEPLER_SCAN_009_sv08_0020-img</td><td>15804500812357242501</td><td>56177.6497453125</td><td>GALEX_DS</td><td>NUV</td><td>-999.99</td><td>0</td></tr>\n",
       "<tr><td>29208</td><td>KEPLER_SCAN_009</td><td>KEPLER_SCAN_009_0021_sv08</td><td>21</td><td>8</td><td>120908T080119Z</td><td>1347091278.995</td><td>222.05</td><td>291.69037852002</td><td>44.8728877632244</td><td>76.9861861593149</td><td>12.9961413692396</td><td>29208-KEPLER_SCAN_009_sv08</td><td>11563663594598293566</td><td>29208-KEPLER_SCAN_009_sv08_0021-img</td><td>16384408983742434967</td><td>56178.33424762731</td><td>GALEX_DS</td><td>NUV</td><td>-999.99</td><td>0</td></tr>\n",
       "<tr><td>29208</td><td>KEPLER_SCAN_009</td><td>KEPLER_SCAN_009_0010_sv08</td><td>10</td><td>8</td><td>120822T151539Z</td><td>1345648538.995</td><td>227.05</td><td>291.69037852002</td><td>44.8728877632244</td><td>76.9861861593149</td><td>12.9961413692396</td><td>29208-KEPLER_SCAN_009_sv08</td><td>11563663594598293566</td><td>29208-KEPLER_SCAN_009_sv08_0010-img</td><td>17703005942907717890</td><td>56161.635867997684</td><td>GALEX_DS</td><td>NUV</td><td>-999.99</td><td>0</td></tr>\n",
       "</table></div>"
      ],
      "text/plain": [
       "<Table length=10>\n",
       "TILENUM     TILENAME              OBJECT          VISIT SUBVIS    OBSDATIM    ...   time_bin_start   observatory obs_filter fov_diam  sel \n",
       " int64       str15                str25           int64 int64      str14      ...      float64           str8       str3    float64  int64\n",
       "------- --------------- ------------------------- ----- ------ -------------- ... ------------------ ----------- ---------- -------- -----\n",
       "  29208 KEPLER_SCAN_009 KEPLER_SCAN_009_0019_sv08    19      8 120907T090122Z ... 56177.375949016205    GALEX_DS        NUV  -999.99     0\n",
       "  29208 KEPLER_SCAN_009 KEPLER_SCAN_009_0025_sv08    25      8 120919T015504Z ...  56189.07990734954    GALEX_DS        NUV  -999.99     0\n",
       "  29208 KEPLER_SCAN_009 KEPLER_SCAN_009_0024_sv08    24      8 120918T192056Z ...  56188.80620364583    GALEX_DS        NUV  -999.99     0\n",
       "  29208 KEPLER_SCAN_009 KEPLER_SCAN_009_0018_sv08    18      8 120906T163540Z ... 56176.691435127315    GALEX_DS        NUV  -999.99     0\n",
       "  29208 KEPLER_SCAN_009 KEPLER_SCAN_009_0026_sv08    26      8 120919T033337Z ... 56189.148344849535    GALEX_DS        NUV  -999.99     0\n",
       "  29208 KEPLER_SCAN_009 KEPLER_SCAN_009_0023_sv08    23      8 120917T035601Z ...  56187.16390040509    GALEX_DS        NUV  -999.99     0\n",
       "  29208 KEPLER_SCAN_009 KEPLER_SCAN_009_0022_sv08    22      8 120910T091834Z ...  56180.38789346065    GALEX_DS        NUV  -999.99     0\n",
       "  29208 KEPLER_SCAN_009 KEPLER_SCAN_009_0020_sv08    20      8 120907T153538Z ...   56177.6497453125    GALEX_DS        NUV  -999.99     0\n",
       "  29208 KEPLER_SCAN_009 KEPLER_SCAN_009_0021_sv08    21      8 120908T080119Z ...  56178.33424762731    GALEX_DS        NUV  -999.99     0\n",
       "  29208 KEPLER_SCAN_009 KEPLER_SCAN_009_0010_sv08    10      8 120822T151539Z ... 56161.635867997684    GALEX_DS        NUV  -999.99     0"
      ]
     },
     "execution_count": 8,
     "metadata": {},
     "output_type": "execute_result"
    }
   ],
   "source": [
    "tt_info[:10]"
   ]
  }
 ],
 "metadata": {
  "kernelspec": {
   "display_name": "uc_uvva_venv399",
   "language": "python",
   "name": "uc_uvva_venv399"
  },
  "language_info": {
   "codemirror_mode": {
    "name": "ipython",
    "version": 3
   },
   "file_extension": ".py",
   "mimetype": "text/x-python",
   "name": "python",
   "nbconvert_exporter": "python",
   "pygments_lexer": "ipython3",
   "version": "3.9.9"
  }
 },
 "nbformat": 4,
 "nbformat_minor": 5
}
