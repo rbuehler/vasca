{
 "cells": [
  {
   "cell_type": "markdown",
   "id": "5ba5cd42-e958-4d10-907d-70c3a71f7cb8",
   "metadata": {},
   "source": [
    "# Notebook to run gPhoton\n",
    "Run gPhoton to create GALEX light curves etc.\n",
    "Setup your source parameter and setting in the cell below."
   ]
  },
  {
   "cell_type": "code",
   "execution_count": 1,
   "id": "b319afee-6aa7-4b48-8ea4-f26a7124125c",
   "metadata": {},
   "outputs": [],
   "source": [
    "region_name = \"CAINGSGII_10-800\" #\"TDS\" # \"WD\" #\"MDIS_10-800\" # _ELAISN1\n",
    "outdir = \"./resources/gPhoton_out/\"\n",
    "region_fname = \"./vasca_pipeline/\"+region_name+\"/region_\"+region_name+\"_cat.fits\"\n",
    "\n",
    "srcs_ids = [1891 ,3403 ,16149 ,45461 ,]\n",
    "srcs_ids = [4546 ,12718 ,69253 ,228174 ,229551 ,] # WD \"CAINGSGII_10-800\" "
   ]
  },
  {
   "cell_type": "code",
   "execution_count": 2,
   "id": "1ec09f28-d01d-41d9-b548-e68915107df4",
   "metadata": {},
   "outputs": [
    {
     "data": {
      "text/html": [
       "<div><i>Table length=5</i>\n",
       "<table id=\"table140693525610400\" class=\"table-striped table-bordered table-condensed\">\n",
       "<thead><tr><th>fd_src_id</th><th>nr_det</th><th>ra</th><th>dec</th><th>pos_err</th><th>pos_xv</th><th>pos_var</th><th>pos_cpval</th><th>pos_rchiq</th><th>coadd_src_id</th><th>coadd_dist</th><th>obs_filter_id</th><th>sel</th><th>flux</th><th>flux_err</th><th>flux_nxv</th><th>flux_var</th><th>flux_cpval</th><th>flux_rchiq</th><th>coadd_ffactor</th><th>coadd_fdiff_s2n</th><th>rg_fd_id</th><th>rg_src_id</th><th>nr_fd_srcs</th><th>hr</th><th>hr_err</th><th>otype</th><th>main_id</th><th>otypes</th><th>z_value</th><th>distance_distance</th><th>distance_unit</th><th>distance_result</th></tr></thead>\n",
       "<thead><tr><th></th><th></th><th>deg</th><th>deg</th><th>arcsec</th><th>arcsec2</th><th>arcsec2</th><th></th><th></th><th></th><th>arcsec</th><th></th><th></th><th>1e-06 Jy</th><th>1e-06 Jy</th><th></th><th>1e-12 Jy2</th><th></th><th></th><th></th><th></th><th></th><th></th><th></th><th></th><th></th><th></th><th></th><th></th><th></th><th></th><th></th><th>arcsec</th></tr></thead>\n",
       "<thead><tr><th>int32</th><th>int32[2]</th><th>float64</th><th>float64</th><th>float32</th><th>float32</th><th>float32</th><th>float32</th><th>float32</th><th>int64</th><th>float32</th><th>int32[2]</th><th>bool</th><th>float32[2]</th><th>float32[2]</th><th>float32[2]</th><th>float32[2]</th><th>float32[2]</th><th>float32[2]</th><th>float32[2]</th><th>float32[2]</th><th>int64</th><th>int32</th><th>int32</th><th>float32</th><th>float32</th><th>bytes32</th><th>bytes32</th><th>bytes32</th><th>float64</th><th>float64</th><th>bytes4</th><th>float32</th></tr></thead>\n",
       "<tr><td>-1</td><td>14 .. 4</td><td>348.9035760296506</td><td>19.413752921024184</td><td>0.12961677</td><td>-0.16667423</td><td>0.1757124</td><td>0.9601939</td><td>0.38698718</td><td>10620</td><td>0.27343646</td><td>1 .. 2</td><td>True</td><td>127.17282 .. 38.594795</td><td>0.6384927 .. 1.9439608</td><td>0.001805932 .. 0.0030419864</td><td>36.337494 .. 59.990253</td><td>1.3913088e-13 .. 0.45650917</td><td>6.923858 .. 0.86853236</td><td>1.0022669 .. 1.0705501</td><td>0.35844114 .. 1.2124159</td><td>-1</td><td>4546</td><td>2</td><td>0.31256443</td><td>0.016097367</td><td>WD?</td><td>SDSS J231536.88+192448.9</td><td>blu|Pu*|*|Opt|WD?|WD?</td><td>--</td><td>168.9270</td><td>pc</td><td>0.4557</td></tr>\n",
       "<tr><td>-1</td><td>18 .. 6</td><td>303.01100514369136</td><td>-48.39410878608832</td><td>0.11078485</td><td>-0.1118269</td><td>0.21495172</td><td>0.59480566</td><td>0.64826185</td><td>34860</td><td>0.16462971</td><td>1 .. 2</td><td>True</td><td>145.71658 .. 53.2544</td><td>0.650513 .. 1.6317714</td><td>0.011681381 .. 0.09355947</td><td>262.29507 .. 336.1793</td><td>0.0 .. 4.538933e-19</td><td>41.076607 .. 19.113188</td><td>0.9875045 .. 0.926408</td><td>-2.2628376 .. -1.7328564</td><td>-1</td><td>12718</td><td>2</td><td>0.38933843</td><td>0.012308751</td><td>WD?</td><td>Gaia DR3 6669015352243852800</td><td>*|WD?</td><td>--</td><td>--</td><td>--</td><td>0.3998</td></tr>\n",
       "<tr><td>-1</td><td>14 .. -1</td><td>357.1212025536532</td><td>-9.416754993209635</td><td>0.16907042</td><td>-0.2680231</td><td>0.1342233</td><td>0.9720384</td><td>0.33244652</td><td>233862</td><td>0.027343804</td><td>1 .. 0</td><td>True</td><td>16.348427 .. -1.0</td><td>0.22906503 .. -1.0</td><td>0.01764733 .. -100.0</td><td>5.4612293 .. -1.0</td><td>1.6703516e-17 .. -1.0</td><td>8.480622 .. -1.0</td><td>0.9799343 .. 1.0</td><td>-1.0902563 .. 0.0</td><td>-1</td><td>69253</td><td>1</td><td>-1.0</td><td>-1.0</td><td>WD*</td><td>GALEX J234829.1-092500</td><td>WD*|**|WD*|WD*|EB*|WD*|*|Opt|UV</td><td>-0.0000600</td><td>507.2900</td><td>pc</td><td>0.6189</td></tr>\n",
       "<tr><td>-1</td><td>15 .. -1</td><td>210.0014163678415</td><td>3.214435606873498</td><td>0.13007838</td><td>0.042491015</td><td>0.29654562</td><td>0.042537145</td><td>1.1792775</td><td>669224</td><td>0.29846194</td><td>1 .. 0</td><td>True</td><td>146.37999 .. -1.0</td><td>0.755886 .. -1.0</td><td>0.0032252688 .. -100.0</td><td>84.25255 .. -1.0</td><td>1.9072077e-12 .. -1.0</td><td>6.1626086 .. -1.0</td><td>0.9977022 .. 1.0</td><td>-0.35384166 .. 0.0</td><td>-1</td><td>228174</td><td>1</td><td>-1.0</td><td>-1.0</td><td>WD*</td><td>GALEX J140000.3+031251</td><td>WD*|WD*|WD*|WD*|WD*|WD*|*|Opt|UV</td><td>0.0000630</td><td>313.7650</td><td>pc</td><td>0.1945</td></tr>\n",
       "<tr><td>-1</td><td>15 .. -1</td><td>207.03531485024092</td><td>-30.479189687581158</td><td>0.13244738</td><td>-0.1224625</td><td>0.14153127</td><td>0.81857866</td><td>0.54091847</td><td>673280</td><td>0.088201396</td><td>1 .. 0</td><td>True</td><td>144.80978 .. -1.0</td><td>0.74000114 .. -1.0</td><td>0.0036297438 .. -100.0</td><td>87.94179 .. -1.0</td><td>1.1032699e-20 .. -1.0</td><td>9.209586 .. -1.0</td><td>0.99899095 .. 1.0</td><td>-0.1557424 .. 0.0</td><td>-1</td><td>229551</td><td>1</td><td>-1.0</td><td>-1.0</td><td>WD?</td><td>Gaia DR3 6175066552397551616</td><td>*|WD?</td><td>--</td><td>--</td><td>--</td><td>0.1621</td></tr>\n",
       "</table></div>"
      ],
      "text/plain": [
       "<Table length=5>\n",
       "fd_src_id  nr_det          ra         ... distance_unit distance_result\n",
       "                          deg         ...                    arcsec    \n",
       "  int32   int32[2]      float64       ...     bytes4        float32    \n",
       "--------- -------- ------------------ ... ------------- ---------------\n",
       "       -1  14 .. 4  348.9035760296506 ...            pc          0.4557\n",
       "       -1  18 .. 6 303.01100514369136 ...            --          0.3998\n",
       "       -1 14 .. -1  357.1212025536532 ...            pc          0.6189\n",
       "       -1 15 .. -1  210.0014163678415 ...            pc          0.1945\n",
       "       -1 15 .. -1 207.03531485024092 ...            --          0.1621"
      ]
     },
     "metadata": {},
     "output_type": "display_data"
    }
   ],
   "source": [
    "%matplotlib widget\n",
    "import ipywidgets as widgets\n",
    "import gPhoton\n",
    "import matplotlib.pyplot as plt\n",
    "import numpy as np\n",
    "from astropy.io import ascii\n",
    "from astropy.table import Table\n",
    "from astropy import units as uu\n",
    "import os\n",
    "from vasca.utils import mag2flux, flux2mag, tgalex_to_astrotime\n",
    "import vasca.visualization as vvis\n",
    "from vasca.region import Region\n",
    "from vasca.resource_manager import ResourceManager\n",
    "\n",
    "rg = Region()\n",
    "rg.load_from_fits(region_fname)\n",
    "\n",
    "#Subselect sources based on choice\n",
    "if len(srcs_ids)>0:\n",
    "    rg.tt_sources.add_index(\"rg_src_id\")\n",
    "    idx_srcs = rg.tt_sources.loc_indices[\"rg_src_id\", srcs_ids]\n",
    "    tt_srcs = Table(rg.tt_sources[idx_srcs])\n",
    "else:\n",
    "    tt_srcs = rg.tt_sources\n",
    "\n",
    "rm = ResourceManager()\n",
    "gphot_dir = rm.get_path(\"gal_gphoton\", \"sas_cloud\")\n",
    "\n",
    "display(tt_srcs)"
   ]
  },
  {
   "cell_type": "markdown",
   "id": "2a4559bd-0849-4f44-80a3-ea5c3ab00660",
   "metadata": {},
   "source": [
    "### Do aperture photometry for each visit with gPhoton"
   ]
  },
  {
   "cell_type": "code",
   "execution_count": 3,
   "id": "f1fd4218-6ade-47e3-982f-b9ce6cfc2034",
   "metadata": {},
   "outputs": [
    {
     "data": {
      "application/vnd.jupyter.widget-view+json": {
       "model_id": "0bbec9581eaf4cf0a4a776eb12dfc982",
       "version_major": 2,
       "version_minor": 0
      },
      "text/plain": [
       "interactive(children=(Dropdown(description='rg_src_id', options=(4546, 12718, 69253, 228174, 229551), value=45…"
      ]
     },
     "execution_count": 3,
     "metadata": {},
     "output_type": "execute_result"
    }
   ],
   "source": [
    "def get_lc(filename, sig_cut=3.5):\n",
    "    #Load file\n",
    "    dd_gph = np.load(filename,allow_pickle='TRUE').item()\n",
    "\n",
    "    # Get gphoton lc\n",
    "    keep_keys = ('t_mean', 'exptime','flux_bgsub', 'flux_bgsub_err','mag_bgsub','mag_bgsub_err_2',\"flags\",\"mag_mcatbgsub\",\"mag_mcatbgsub_err_2\", \"mag\", \"flags\")\n",
    "    dd_gap = {x: dd_gph[\"gAperture\"][x] for x in keep_keys if x in dd_gph[\"gAperture\"]}\n",
    "    dd_gap[\"s2n\"]=dd_gap['flux_bgsub']/dd_gap['flux_bgsub_err']\n",
    "    \n",
    "    # Units of flux_bgsub are in erg sec^-1 cm^-2 Å^-1. . Get also Jy flux from AB magnitude\n",
    "    dd_gap['flux'],dd_gap['flux_err'] = mag2flux(dd_gap[\"mag_mcatbgsub\"],dd_gap[\"mag_mcatbgsub_err_2\"])\n",
    "    dd_gap['t_mean']= tgalex_to_astrotime(dd_gap['t_mean'],\"mjd\")\n",
    "    # Units of time are in \"GALEX Time\" = \"UNIX Time\" - 315964800, change to MJD\n",
    "    \n",
    "    tt_gap = Table(data= dd_gap)\n",
    "    sel_gap = (tt_gap[\"s2n\"]>sig_cut) * (tt_gap[\"flags\"]<0.5)\n",
    "    return tt_gap,sel_gap\n",
    "\n",
    "def plot_lc(rg_src_id):\n",
    "\n",
    "    #Get table entries for that source\n",
    "    tt_src = tt_srcs[tt_srcs[\"rg_src_id\"]==rg_src_id]\n",
    "\n",
    "    fname = gphot_dir+\"/gPhoton_ra\"+str(round(tt_src[\"ra\"][0],5))+\"_dec\"+str(round(tt_src[\"dec\"][0],5))+\"_nuv_app.npy\"\n",
    "    tt_gap, sel_gap = get_lc(fname)\n",
    "\n",
    "    fig_lc_src = plt.figure(\"Light curve\",figsize=(12, 8), clear=True)\n",
    "    vvis.plot_light_curve(rg, rg_src_ids = rg_src_id,fig=fig_lc_src, flux_var=\"flux\") #\n",
    "\n",
    "    plt.errorbar(tt_gap['t_mean'],1.132*tt_gap['flux'],yerr=tt_gap['flux_err'],fmt=\"k*\", label=\"gPhoton all\", alpha=0.3)\n",
    "    plt.errorbar(tt_gap['t_mean'][sel_gap],1.132*tt_gap['flux'][sel_gap],yerr=tt_gap['flux_err'][sel_gap],fmt=\"k*\",label=\"gPhoton sel\")\n",
    "    plt.yscale('log')\n",
    "\n",
    "    #Add FUV if existent\n",
    "    fname_fuv = fname.replace(\"_nuv\",\"_fuv\")\n",
    "    if os.path.isfile(fname_fuv):\n",
    "        tt_gap_fuv,sel_gap_fuv = get_lc(fname_fuv)\n",
    "        plt.errorbar(tt_gap_fuv['t_mean'],1.132*tt_gap_fuv['flux'],yerr=tt_gap_fuv['flux_err'],fmt=\"k+\", label=\"gPhoton all\", alpha=0.3)\n",
    "        plt.errorbar(tt_gap_fuv['t_mean'][sel_gap_fuv],1.132*tt_gap_fuv['flux'][sel_gap_fuv],yerr=tt_gap_fuv['flux_err'][sel_gap_fuv],fmt=\"k+\",label=\"gPhoton sel\")\n",
    "\n",
    "    plt.legend()\n",
    "    plt.show()\n",
    "    display(tt_src)\n",
    "    display(tt_gap)\n",
    "                  \n",
    "widgets.interactive( plot_lc, rg_src_id=tt_srcs[\"rg_src_id\"])"
   ]
  },
  {
   "cell_type": "code",
   "execution_count": 4,
   "id": "df873184-eb45-4ac7-9da3-3baf75e4c2df",
   "metadata": {},
   "outputs": [
    {
     "name": "stdout",
     "output_type": "stream",
     "text": [
      "91.20108393559062 1e-06 Jy 109.64781961431808 1e-06 Jy 1.202264434617413 18.8 mag(AB)\n"
     ]
    }
   ],
   "source": [
    "# Calculate apperture flux correctin from http://www.galex.caltech.edu/researcher/techdoc-ch5.html\n",
    "f1 = mag2flux(19)\n",
    "f2 = mag2flux(19-0.20)\n",
    "mag = flux2mag(f2)\n",
    "print(f1,f2,f2/f1, mag)\n"
   ]
  },
  {
   "cell_type": "code",
   "execution_count": 5,
   "id": "0322156a-a468-4bdd-9686-9d61ec205d73",
   "metadata": {},
   "outputs": [
    {
     "data": {
      "text/plain": [
       "0.0002777777777777778"
      ]
     },
     "execution_count": 5,
     "metadata": {},
     "output_type": "execute_result"
    }
   ],
   "source": [
    "1/(60*60)"
   ]
  },
  {
   "cell_type": "code",
   "execution_count": null,
   "id": "48736486-a082-4e9b-b758-29e6698443f9",
   "metadata": {},
   "outputs": [],
   "source": []
  }
 ],
 "metadata": {
  "kernelspec": {
   "display_name": "Python 3 (ipykernel)",
   "language": "python",
   "name": "python3"
  },
  "language_info": {
   "codemirror_mode": {
    "name": "ipython",
    "version": 3
   },
   "file_extension": ".py",
   "mimetype": "text/x-python",
   "name": "python",
   "nbconvert_exporter": "python",
   "pygments_lexer": "ipython3",
   "version": "3.10.12"
  }
 },
 "nbformat": 4,
 "nbformat_minor": 5
}
