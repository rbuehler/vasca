{
 "cells": [
  {
   "cell_type": "markdown",
   "id": "5ba5cd42-e958-4d10-907d-70c3a71f7cb8",
   "metadata": {},
   "source": [
    "# Notebook to run gPhoton\n",
    "Run gPhoton to create GALEX light curves etc.\n",
    "Setup your source parameter and setting in the cell below."
   ]
  },
  {
   "cell_type": "code",
   "execution_count": 1,
   "id": "b319afee-6aa7-4b48-8ea4-f26a7124125c",
   "metadata": {},
   "outputs": [],
   "source": [
    "region_name = \"TDS\" # \"WD\" #\"MDIS_10-800\" # _ELAISN1\n",
    "srcs_ids = [1891 ,3403 ,16149 ,45461 ,] \n",
    "outdir = \"./resources/gPhoton_out/\"\n",
    "region_fname = \"./vasca_pipeline/\"+region_name+\"/region_\"+region_name+\"_cat.fits\""
   ]
  },
  {
   "cell_type": "code",
   "execution_count": 2,
   "id": "1ec09f28-d01d-41d9-b548-e68915107df4",
   "metadata": {},
   "outputs": [
    {
     "data": {
      "text/html": [
       "<div><i>Table length=4</i>\n",
       "<table id=\"table140032389595392\" class=\"table-striped table-bordered table-condensed\">\n",
       "<thead><tr><th>fd_src_id</th><th>nr_det</th><th>ra</th><th>dec</th><th>pos_err</th><th>pos_xv</th><th>pos_var</th><th>pos_cpval</th><th>pos_rchiq</th><th>coadd_src_id</th><th>coadd_dist</th><th>obs_filter_id</th><th>sel</th><th>flux</th><th>flux_err</th><th>flux_nxv</th><th>flux_var</th><th>flux_cpval</th><th>flux_rchiq</th><th>coadd_ffactor</th><th>coadd_fdiff_s2n</th><th>rg_fd_id</th><th>rg_src_id</th><th>nr_fd_srcs</th><th>hr</th><th>hr_err</th><th>otype</th><th>main_id</th><th>otypes</th><th>z_value</th><th>distance_distance</th><th>distance_unit</th><th>distance_result</th></tr></thead>\n",
       "<thead><tr><th></th><th></th><th>deg</th><th>deg</th><th>arcsec</th><th>arcsec2</th><th>arcsec2</th><th></th><th></th><th></th><th>arcsec</th><th></th><th></th><th>1e-06 Jy</th><th>1e-06 Jy</th><th></th><th>1e-12 Jy2</th><th></th><th></th><th></th><th></th><th></th><th></th><th></th><th></th><th></th><th></th><th></th><th></th><th></th><th></th><th></th><th>arcsec</th></tr></thead>\n",
       "<thead><tr><th>int32</th><th>int32[2]</th><th>float64</th><th>float64</th><th>float32</th><th>float32</th><th>float32</th><th>float32</th><th>float32</th><th>int64</th><th>float32</th><th>int32[2]</th><th>bool</th><th>float32[2]</th><th>float32[2]</th><th>float32[2]</th><th>float32[2]</th><th>float32[2]</th><th>float32[2]</th><th>float32[2]</th><th>float32[2]</th><th>int64</th><th>int32</th><th>int32</th><th>float32</th><th>float32</th><th>bytes32</th><th>bytes32</th><th>bytes32</th><th>float64</th><th>float64</th><th>bytes4</th><th>float32</th></tr></thead>\n",
       "<tr><td>-1</td><td>35 .. 5</td><td>334.61900740472345</td><td>-0.0033813554025151345</td><td>0.08654309</td><td>-0.13358614</td><td>0.16820572</td><td>0.97304916</td><td>0.5630017</td><td>2410</td><td>0.18017368</td><td>1 .. 2</td><td>True</td><td>121.59981 .. 40.61505</td><td>0.32700354 .. 0.6793138</td><td>0.0012762442 .. 0.0012225002</td><td>22.828146 .. 9.024125</td><td>2.1874502e-27 .. 0.001186736</td><td>6.2001452 .. 4.5217357</td><td>1.0003184 .. 1.007664</td><td>0.08853569 .. 0.31262133</td><td>-1</td><td>1891</td><td>2</td><td>0.33295098</td><td>0.0059931264</td><td>WD*</td><td>PB  5130</td><td>WD*|WD*|WD*|WD*|*|Opt|UV|WD?|WD?</td><td>1.3299500</td><td>121.7450</td><td>pc</td><td>0.3261</td></tr>\n",
       "<tr><td>-1</td><td>35 .. 4</td><td>333.5413675869932</td><td>0.8794347888579439</td><td>0.10153956</td><td>-0.2568612</td><td>0.15229508</td><td>0.99949604</td><td>0.37336546</td><td>6503</td><td>0.08153211</td><td>1 .. 2</td><td>True</td><td>20.24083 .. 5.189896</td><td>0.16559538 .. 0.40037686</td><td>0.06014167 .. -0.020882767</td><td>25.663895 .. 0.08260181</td><td>0.0 .. 0.9400651</td><td>26.422163 .. 0.13361952</td><td>0.9598218 .. 1.0394988</td><td>-3.864632 .. 0.3762283</td><td>-1</td><td>3403</td><td>2</td><td>0.34424755</td><td>0.02826839</td><td>WD*</td><td>GALEX J221409.8+005245</td><td>WD*|WD*|WD*|*|Opt|UV</td><td>--</td><td>439.0000</td><td>pc</td><td>0.2825</td></tr>\n",
       "<tr><td>-1</td><td>28 .. 9</td><td>150.65361426058803</td><td>2.643111670533707</td><td>0.08557914</td><td>-0.08412055</td><td>0.19236396</td><td>0.8580123</td><td>0.66507405</td><td>44620</td><td>0.12717035</td><td>1 .. 2</td><td>True</td><td>106.96241 .. 66.50696</td><td>0.34322292 .. 0.6652977</td><td>0.0007799396 .. 0.0010192677</td><td>12.584814 .. 8.828741</td><td>5.945311e-11 .. 0.026203794</td><td>3.846406 .. 2.1749918</td><td>1.0030466 .. 1.0014558</td><td>0.71483445 .. 0.09157375</td><td>-1</td><td>16149</td><td>2</td><td>0.6084019</td><td>0.006708973</td><td>WD?</td><td>GALEX J100236.8+023834</td><td>*|*|G|Opt|UV|WD?|WD?</td><td>1.9900000</td><td>293.2980</td><td>pc</td><td>0.4992</td></tr>\n",
       "<tr><td>-1</td><td>12 .. -1</td><td>244.14364033210146</td><td>54.16991388586225</td><td>0.16000032</td><td>-0.1349428</td><td>0.17470829</td><td>0.4975613</td><td>0.578193</td><td>12469</td><td>0.3236669</td><td>1 .. 0</td><td>True</td><td>46.202312 .. -1.0</td><td>0.4356251 .. -1.0</td><td>0.019377798 .. -100.0</td><td>43.763363 .. -1.0</td><td>7.33e-43 .. -1.0</td><td>20.80549 .. -1.0</td><td>1.0119411 .. -100.0</td><td>1.0512818 .. -10000.0</td><td>-1</td><td>45461</td><td>1</td><td>-1.0</td><td>-1.0</td><td>WD?</td><td>GALEX J161634.4+541011</td><td>*|*|Opt|UV|WD?|WD?</td><td>--</td><td>93.6920</td><td>pc</td><td>0.9987</td></tr>\n",
       "</table></div>"
      ],
      "text/plain": [
       "<Table length=4>\n",
       "fd_src_id  nr_det          ra         ... distance_unit distance_result\n",
       "                          deg         ...                    arcsec    \n",
       "  int32   int32[2]      float64       ...     bytes4        float32    \n",
       "--------- -------- ------------------ ... ------------- ---------------\n",
       "       -1  35 .. 5 334.61900740472345 ...            pc          0.3261\n",
       "       -1  35 .. 4  333.5413675869932 ...            pc          0.2825\n",
       "       -1  28 .. 9 150.65361426058803 ...            pc          0.4992\n",
       "       -1 12 .. -1 244.14364033210146 ...            pc          0.9987"
      ]
     },
     "metadata": {},
     "output_type": "display_data"
    }
   ],
   "source": [
    "%matplotlib widget\n",
    "import ipywidgets as widgets\n",
    "import gPhoton\n",
    "import matplotlib.pyplot as plt\n",
    "import numpy as np\n",
    "from astropy.io import ascii\n",
    "from astropy.table import Table\n",
    "from astropy import units as uu\n",
    "import os\n",
    "from vasca.utils import mag2flux, flux2mag, tgalex_to_astrotime\n",
    "import vasca.visualization as vvis\n",
    "from vasca.region import Region\n",
    "\n",
    "rg = Region()\n",
    "rg.load_from_fits(region_fname)\n",
    "\n",
    "#Subselect sources based on choice\n",
    "if len(srcs_ids)>0:\n",
    "    rg.tt_sources.add_index(\"rg_src_id\")\n",
    "    idx_srcs = rg.tt_sources.loc_indices[\"rg_src_id\", srcs_ids]\n",
    "    tt_srcs = Table(rg.tt_sources[idx_srcs])\n",
    "else:\n",
    "    tt_srcs = rg.tt_sources\n",
    "\n",
    "display(tt_srcs)"
   ]
  },
  {
   "cell_type": "markdown",
   "id": "2a4559bd-0849-4f44-80a3-ea5c3ab00660",
   "metadata": {},
   "source": [
    "### Do aperture photometry for each visit with gPhoton"
   ]
  },
  {
   "cell_type": "code",
   "execution_count": 3,
   "id": "f1fd4218-6ade-47e3-982f-b9ce6cfc2034",
   "metadata": {},
   "outputs": [
    {
     "data": {
      "application/vnd.jupyter.widget-view+json": {
       "model_id": "b28eb54136964f5dae7c3fc874816b9a",
       "version_major": 2,
       "version_minor": 0
      },
      "text/plain": [
       "interactive(children=(Dropdown(description='rg_src_id', options=(1891, 3403, 16149, 45461), value=1891), Outpu…"
      ]
     },
     "execution_count": 3,
     "metadata": {},
     "output_type": "execute_result"
    }
   ],
   "source": [
    "#print(dd_gph[\"gAperture\"].keys())\n",
    "#print(\"\\n\", dd_gph[\"gFind\"][\"NUV\"].keys())\n",
    "#print(dd_gph[\"gAperture\"]['photons'])\n",
    "def plot_lc(rg_src_id):\n",
    "\n",
    "    #Get table entries for that source\n",
    "    tt_src = tt_srcs[tt_srcs[\"rg_src_id\"]==rg_src_id]\n",
    "\n",
    "    #Load file\n",
    "    outfile_app = outdir+\"gPhoton_\"+str(round(tt_src[\"ra\"][0],5))+\"_\"+str(round(tt_src[\"dec\"][0],5))+\"_app.npy\"\n",
    "    dd_gph = np.load(outfile_app,allow_pickle='TRUE').item()\n",
    "\n",
    "    # Get gphoton lc\n",
    "    keep_keys = ('t_mean', 'exptime','flux_bgsub', 'flux_bgsub_err','mag_bgsub','mag_bgsub_err_2',\"flags\",\"mag_mcatbgsub\",\"mag_mcatbgsub_err_2\", \"mag\")\n",
    "    dd_gap = {x: dd_gph[\"gAperture\"][x] for x in keep_keys if x in dd_gph[\"gAperture\"]}\n",
    "    dd_gap[\"s2n\"]=dd_gap['flux_bgsub']/dd_gap['flux_bgsub_err']\n",
    "    \n",
    "    # Units of flux_bgsub are in erg sec^-1 cm^-2 Å^-1. . Get also Jy flux from AB magnitude\n",
    "    dd_gap['flux'],dd_gap['flux_err'] = mag2flux(dd_gap[\"mag_mcatbgsub\"],dd_gap[\"mag_mcatbgsub_err_2\"])\n",
    "    dd_gap['t_mean']= tgalex_to_astrotime(dd_gap['t_mean'],\"mjd\")\n",
    "    # Units of time are in \"GALEX Time\" = \"UNIX Time\" - 315964800, change to MJD\n",
    "    \n",
    "    tt_gap = Table(data= dd_gap)\n",
    "    sel_gap = tt_gap[\"s2n\"]>3.5\n",
    "\n",
    "    fig_lc_src = plt.figure(\"Light curve\",figsize=(8, 4), clear=True)\n",
    "    vvis.plot_light_curve(rg, rg_src_ids = rg_src_id,fig=fig_lc_src, flux_var=\"flux\") #\n",
    "\n",
    "    plt.errorbar(tt_gap[sel_gap]['t_mean'],1.132*tt_gap[sel_gap]['flux'],yerr=tt_gap[sel_gap]['flux_err'],fmt=\".\")\n",
    "    plt.yscale('log')\n",
    "    plt.show()\n",
    "\n",
    "    display(tt_src)\n",
    "    display(tt_gap[sel_gap])\n",
    "widgets.interactive( plot_lc, rg_src_id=tt_srcs[\"rg_src_id\"])"
   ]
  },
  {
   "cell_type": "code",
   "execution_count": 4,
   "id": "df873184-eb45-4ac7-9da3-3baf75e4c2df",
   "metadata": {},
   "outputs": [
    {
     "name": "stdout",
     "output_type": "stream",
     "text": [
      "91.20108393559062 1e-06 Jy 109.64781961431808 1e-06 Jy 1.202264434617413 18.8 mag(AB)\n"
     ]
    }
   ],
   "source": [
    "# Calculate apperture flux correctin from http://www.galex.caltech.edu/researcher/techdoc-ch5.html\n",
    "f1 = mag2flux(19)\n",
    "f2 = mag2flux(19-0.20)\n",
    "mag = flux2mag(f2)\n",
    "print(f1,f2,f2/f1, mag)\n"
   ]
  },
  {
   "cell_type": "code",
   "execution_count": 5,
   "id": "0322156a-a468-4bdd-9686-9d61ec205d73",
   "metadata": {},
   "outputs": [
    {
     "data": {
      "text/plain": [
       "0.0002777777777777778"
      ]
     },
     "execution_count": 5,
     "metadata": {},
     "output_type": "execute_result"
    }
   ],
   "source": [
    "1/(60*60)"
   ]
  },
  {
   "cell_type": "code",
   "execution_count": null,
   "id": "48736486-a082-4e9b-b758-29e6698443f9",
   "metadata": {},
   "outputs": [],
   "source": []
  }
 ],
 "metadata": {
  "kernelspec": {
   "display_name": "Python 3 (ipykernel)",
   "language": "python",
   "name": "python3"
  },
  "language_info": {
   "codemirror_mode": {
    "name": "ipython",
    "version": 3
   },
   "file_extension": ".py",
   "mimetype": "text/x-python",
   "name": "python",
   "nbconvert_exporter": "python",
   "pygments_lexer": "ipython3",
   "version": "3.10.12"
  }
 },
 "nbformat": 4,
 "nbformat_minor": 5
}
