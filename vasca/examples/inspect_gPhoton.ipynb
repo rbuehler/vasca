{
 "cells": [
  {
   "cell_type": "markdown",
   "id": "5ba5cd42-e958-4d10-907d-70c3a71f7cb8",
   "metadata": {},
   "source": [
    "# Notebook to run gPhoton\n",
    "Run gPhoton to create GALEX light curves etc.\n",
    "Setup your source parameter and setting in the cell below."
   ]
  },
  {
   "cell_type": "code",
   "execution_count": 1,
   "id": "b319afee-6aa7-4b48-8ea4-f26a7124125c",
   "metadata": {},
   "outputs": [],
   "source": [
    "region_name = \"ALL_10-800\" \n",
    "outdir = \"./resources/gPhoton_out/\"\n",
    "region_fname = \"./vasca_pipeline/\"+region_name+\"/region_\"+region_name+\"_cat.fits\"\n",
    "\n",
    "srcs_ids = [55034 ,61491 ,64360 ,73354 ,76243 ,92867 ,104078 ,106745 ,226975 ,267514 ,588567 ,599887 ,] # WDs ALL"
   ]
  },
  {
   "cell_type": "code",
   "execution_count": 2,
   "id": "1ec09f28-d01d-41d9-b548-e68915107df4",
   "metadata": {},
   "outputs": [
    {
     "data": {
      "text/html": [
       "<div><i>Table length=12</i>\n",
       "<table id=\"table139997985572656\" class=\"table-striped table-bordered table-condensed\">\n",
       "<thead><tr><th>fd_src_id</th><th>nr_det</th><th>ra</th><th>dec</th><th>pos_err</th><th>pos_xv</th><th>pos_var</th><th>pos_cpval</th><th>pos_rchiq</th><th>coadd_src_id</th><th>coadd_dist</th><th>obs_filter_id</th><th>sel</th><th>flux</th><th>flux_err</th><th>flux_nxv</th><th>flux_var</th><th>flux_cpval</th><th>flux_rchiq</th><th>coadd_ffactor</th><th>coadd_fdiff_s2n</th><th>rg_fd_id</th><th>rg_src_id</th><th>nr_fd_srcs</th><th>hr</th><th>hr_err</th><th>otype</th><th>main_id</th><th>otypes</th><th>z_value</th><th>distance_distance</th><th>distance_unit</th><th>distance_result</th></tr></thead>\n",
       "<thead><tr><th></th><th></th><th>deg</th><th>deg</th><th>arcsec</th><th>arcsec2</th><th>arcsec2</th><th></th><th></th><th></th><th>arcsec</th><th></th><th></th><th>1e-06 Jy</th><th>1e-06 Jy</th><th></th><th>1e-12 Jy2</th><th></th><th></th><th></th><th></th><th></th><th></th><th></th><th></th><th></th><th></th><th></th><th></th><th></th><th></th><th></th><th>arcsec</th></tr></thead>\n",
       "<thead><tr><th>int32</th><th>int32[2]</th><th>float64</th><th>float64</th><th>float32</th><th>float32</th><th>float32</th><th>float32</th><th>float32</th><th>int64</th><th>float32</th><th>int32[2]</th><th>bool</th><th>float32[2]</th><th>float32[2]</th><th>float32[2]</th><th>float32[2]</th><th>float32[2]</th><th>float32[2]</th><th>float32[2]</th><th>float32[2]</th><th>int64</th><th>int32</th><th>int32</th><th>float32</th><th>float32</th><th>bytes32</th><th>bytes32</th><th>bytes32</th><th>float64</th><th>float64</th><th>bytes4</th><th>float32</th></tr></thead>\n",
       "<tr><td>-1</td><td>14 .. 4</td><td>348.90357602965054</td><td>19.41375292102418</td><td>0.12961677</td><td>-0.16667423</td><td>0.1757124</td><td>0.9601939</td><td>0.38698718</td><td>178527</td><td>0.27343646</td><td>1 .. 2</td><td>True</td><td>127.17284 .. 38.594788</td><td>0.6384927 .. 1.9439608</td><td>0.0018059316 .. 0.0030419875</td><td>36.337494 .. 59.990253</td><td>1.3913134e-13 .. 0.45650917</td><td>6.9238577 .. 0.86853236</td><td>1.002267 .. 1.0705498</td><td>0.35846016 .. 1.2124124</td><td>-1</td><td>55034</td><td>2</td><td>0.31256443</td><td>0.016097367</td><td>WD?</td><td>SDSS J231536.88+192448.9</td><td>blu|Pu*|*|Opt|WD?|WD?</td><td>--</td><td>168.9270</td><td>pc</td><td>0.4557</td></tr>\n",
       "<tr><td>-1</td><td>7 .. 2</td><td>334.6190008630954</td><td>-0.00334150877900888</td><td>0.18584667</td><td>-0.18340522</td><td>0.12893102</td><td>0.8110655</td><td>0.40349314</td><td>198217</td><td>0.26084808</td><td>1 .. 2</td><td>True</td><td>121.26046 .. 42.269413</td><td>0.7279036 .. 0.8880146</td><td>0.0016064999 .. 0.005644754</td><td>27.450546 .. 11.66761</td><td>2.65163e-07 .. 0.00661471</td><td>6.8656754 .. 7.3747196</td><td>0.9975268 .. 1.0487088</td><td>-0.38367364 .. 1.7196137</td><td>-1</td><td>61491</td><td>2</td><td>0.35823846</td><td>0.011588516</td><td>WD*</td><td>PB  5130</td><td>WD*|WD*|WD*|WD*|*|Opt|UV|WD?|WD?</td><td>1.3299500</td><td>121.7450</td><td>pc</td><td>0.3802</td></tr>\n",
       "<tr><td>-1</td><td>32 .. 4</td><td>333.54135905569626</td><td>0.8794295342456827</td><td>0.106176615</td><td>-0.26969245</td><td>0.14336883</td><td>0.9997828</td><td>0.34498087</td><td>208406</td><td>0.11125645</td><td>1 .. 2</td><td>True</td><td>19.849901 .. 5.189896</td><td>0.17154492 .. 0.40037686</td><td>0.06351051 .. -0.020882767</td><td>26.03123 .. 0.08260181</td><td>0.0 .. 0.9400651</td><td>26.48837 .. 0.13361953</td><td>0.94128394 .. 1.0394988</td><td>-5.53346 .. 0.3762283</td><td>-1</td><td>64360</td><td>2</td><td>0.34424755</td><td>0.02826839</td><td>WD*</td><td>GALEX J221409.8+005245</td><td>WD*|WD*|WD*|*|Opt|UV</td><td>--</td><td>439.0000</td><td>pc</td><td>0.2767</td></tr>\n",
       "<tr><td>-1</td><td>18 .. 6</td><td>303.01100514369136</td><td>-48.394108786088324</td><td>0.11078485</td><td>-0.1118269</td><td>0.21495172</td><td>0.59480566</td><td>0.64826185</td><td>236659</td><td>0.16462971</td><td>1 .. 2</td><td>True</td><td>145.71655 .. 53.254395</td><td>0.65051293 .. 1.6317714</td><td>0.011681384 .. 0.09355949</td><td>262.29507 .. 336.1793</td><td>0.0 .. 4.538933e-19</td><td>41.07661 .. 19.113188</td><td>0.9875043 .. 0.92640793</td><td>-2.2628753 .. -1.732858</td><td>-1</td><td>73354</td><td>2</td><td>0.38933843</td><td>0.012308751</td><td>WD?</td><td>Gaia DR3 6669015352243852800</td><td>*|WD?</td><td>--</td><td>--</td><td>--</td><td>0.3998</td></tr>\n",
       "<tr><td>-1</td><td>25 .. 12</td><td>261.0003596219375</td><td>60.74772407491583</td><td>0.09249079</td><td>-0.12485813</td><td>0.21191294</td><td>0.78836334</td><td>0.5457976</td><td>245032</td><td>0.072778955</td><td>1 .. 2</td><td>True</td><td>43.02675 .. 51.450314</td><td>0.27040577 .. 0.68775964</td><td>0.021784516 .. 0.014586984</td><td>42.229954 .. 74.628174</td><td>0.0 .. 9.499622e-33</td><td>27.235014 .. 16.378187</td><td>0.9762591 .. 0.9339476</td><td>-2.9283037 .. -4.3375144</td><td>-1</td><td>76243</td><td>2</td><td>1.0981839</td><td>0.017458435</td><td>WD?</td><td>ZTF J172400.04+604451.8</td><td>EB*|*|WD?|WD?</td><td>--</td><td>--</td><td>--</td><td>0.2700</td></tr>\n",
       "<tr><td>-1</td><td>15 .. -1</td><td>244.14364475974057</td><td>54.16992508668509</td><td>0.14302015</td><td>-0.149046</td><td>0.15964259</td><td>0.6340721</td><td>0.52604604</td><td>71751</td><td>0.20260328</td><td>1 .. 0</td><td>False</td><td>43.955715 .. -1.0</td><td>0.373552 .. -1.0</td><td>0.023890479 .. -100.0</td><td>48.38352 .. -1.0</td><td>0.0 .. -1.0</td><td>23.603268 .. -1.0</td><td>0.990053 .. -100.0</td><td>-1.0570939 .. -10000.0</td><td>-1</td><td>92867</td><td>2</td><td>-1.0</td><td>-1.0</td><td>WD?</td><td>GALEX J161634.4+541011</td><td>*|*|Opt|UV|WD?|WD?</td><td>--</td><td>93.6920</td><td>pc</td><td>1.0158</td></tr>\n",
       "<tr><td>-1</td><td>21 .. 1</td><td>219.22854193199083</td><td>34.06670048559544</td><td>0.11800814</td><td>-0.10925614</td><td>0.2025599</td><td>0.68355554</td><td>0.61700284</td><td>351692</td><td>0.035019293</td><td>1 .. 2</td><td>True</td><td>30.282242 .. 37.433167</td><td>0.3364404 .. 3.059399</td><td>0.013331741 .. -100.0</td><td>19.445185 .. -100.0</td><td>4.734923e-28 .. -1.0</td><td>9.079622 .. -1.0</td><td>1.0011699 .. 0.9832684</td><td>0.090507984 .. -0.18113555</td><td>-1</td><td>104078</td><td>2</td><td>1.1301088</td><td>0.1134821</td><td>WD?</td><td>GALEX J143654.8+340400</td><td>*|UV|WD?|WD?</td><td>--</td><td>--</td><td>--</td><td>0.2658</td></tr>\n",
       "<tr><td>-1</td><td>18 .. 8</td><td>218.05243811169709</td><td>35.840903328171464</td><td>0.12735511</td><td>-0.29414088</td><td>0.17379755</td><td>0.96632844</td><td>0.39901668</td><td>361741</td><td>0.07959464</td><td>1 .. 2</td><td>True</td><td>14.915235 .. 6.4086227</td><td>0.24988876 .. 0.38860035</td><td>0.04386847 .. 0.04654254</td><td>12.461055 .. 3.405273</td><td>3.1348733e-25 .. 0.030883376</td><td>9.390375 .. 2.204061</td><td>0.95756274 .. 0.97631735</td><td>-2.0785728 .. -0.309062</td><td>-1</td><td>106745</td><td>2</td><td>0.32614058</td><td>0.026615512</td><td>WD?</td><td>Gaia DR2 1480420251349953920</td><td>*|WD?</td><td>--</td><td>--</td><td>--</td><td>0.2143</td></tr>\n",
       "<tr><td>-1</td><td>8 .. 2</td><td>17.90849637066491</td><td>-46.12418089066694</td><td>0.16791977</td><td>0.17754589</td><td>0.47294554</td><td>0.04757083</td><td>1.22303</td><td>807965</td><td>0.16838291</td><td>1 .. 2</td><td>False</td><td>211.67215 .. 51.06775</td><td>0.9692165 .. 4.06685</td><td>0.002947837 .. -0.01447288</td><td>140.74606 .. 0.8718241</td><td>4.914994e-20 .. 0.8805627</td><td>15.212214 .. 0.022576839</td><td>0.98922604 .. 0.8520654</td><td>-1.915892 .. -2.1245766</td><td>-1</td><td>226975</td><td>2</td><td>0.25029808</td><td>0.024380246</td><td>WD?</td><td>GALEX J011138.0-460727</td><td>PM*|*|UV|WD?|WD?|WD?|WD?|WD?</td><td>--</td><td>152.5620</td><td>pc</td><td>1.2872</td></tr>\n",
       "<tr><td>-1</td><td>14 .. -1</td><td>357.12120255365335</td><td>-9.416754993209638</td><td>0.16907042</td><td>-0.2680231</td><td>0.1342233</td><td>0.9720384</td><td>0.33244652</td><td>940726</td><td>0.027343804</td><td>1 .. 0</td><td>True</td><td>16.348427 .. -1.0</td><td>0.22906503 .. -1.0</td><td>0.01764733 .. -100.0</td><td>5.4612293 .. -1.0</td><td>1.6703516e-17 .. -1.0</td><td>8.480622 .. -1.0</td><td>0.9799343 .. 1.0</td><td>-1.0902563 .. 0.0</td><td>-1</td><td>267514</td><td>1</td><td>-1.0</td><td>-1.0</td><td>WD*</td><td>GALEX J234829.1-092500</td><td>WD*|**|WD*|WD*|EB*|WD*|*|Opt|UV</td><td>-0.0000600</td><td>507.2900</td><td>pc</td><td>0.6189</td></tr>\n",
       "<tr><td>-1</td><td>15 .. -1</td><td>210.00141636784147</td><td>3.2144356068734976</td><td>0.13007838</td><td>0.042491015</td><td>0.29654562</td><td>0.042537145</td><td>1.1792775</td><td>2010948</td><td>0.29846194</td><td>1 .. 0</td><td>True</td><td>146.37997 .. -1.0</td><td>0.75588596 .. -1.0</td><td>0.003225269 .. -100.0</td><td>84.25254 .. -1.0</td><td>1.9072014e-12 .. -1.0</td><td>6.162609 .. -1.0</td><td>0.99770206 .. 1.0</td><td>-0.3538577 .. 0.0</td><td>-1</td><td>588567</td><td>1</td><td>-1.0</td><td>-1.0</td><td>WD*</td><td>GALEX J140000.3+031251</td><td>WD*|WD*|WD*|WD*|WD*|WD*|*|Opt|UV</td><td>0.0000630</td><td>313.7650</td><td>pc</td><td>0.1945</td></tr>\n",
       "<tr><td>-1</td><td>15 .. -1</td><td>207.03531485024092</td><td>-30.479189687581158</td><td>0.13244738</td><td>-0.1224625</td><td>0.14153127</td><td>0.81857866</td><td>0.54091847</td><td>2048910</td><td>0.088201396</td><td>1 .. 0</td><td>True</td><td>144.80977 .. -1.0</td><td>0.74000114 .. -1.0</td><td>0.0036297448 .. -100.0</td><td>87.941795 .. -1.0</td><td>1.1032776e-20 .. -1.0</td><td>9.209585 .. -1.0</td><td>0.99899083 .. 1.0</td><td>-0.15575865 .. 0.0</td><td>-1</td><td>599887</td><td>1</td><td>-1.0</td><td>-1.0</td><td>WD?</td><td>Gaia DR3 6175066552397551616</td><td>*|WD?</td><td>--</td><td>--</td><td>--</td><td>0.1621</td></tr>\n",
       "</table></div>"
      ],
      "text/plain": [
       "<Table length=12>\n",
       "fd_src_id  nr_det          ra         ... distance_unit distance_result\n",
       "                          deg         ...                    arcsec    \n",
       "  int32   int32[2]      float64       ...     bytes4        float32    \n",
       "--------- -------- ------------------ ... ------------- ---------------\n",
       "       -1  14 .. 4 348.90357602965054 ...            pc          0.4557\n",
       "       -1   7 .. 2  334.6190008630954 ...            pc          0.3802\n",
       "       -1  32 .. 4 333.54135905569626 ...            pc          0.2767\n",
       "       -1  18 .. 6 303.01100514369136 ...            --          0.3998\n",
       "       -1 25 .. 12  261.0003596219375 ...            --          0.2700\n",
       "       -1 15 .. -1 244.14364475974057 ...            pc          1.0158\n",
       "       -1  21 .. 1 219.22854193199083 ...            --          0.2658\n",
       "       -1  18 .. 8 218.05243811169709 ...            --          0.2143\n",
       "       -1   8 .. 2  17.90849637066491 ...            pc          1.2872\n",
       "       -1 14 .. -1 357.12120255365335 ...            pc          0.6189\n",
       "       -1 15 .. -1 210.00141636784147 ...            pc          0.1945\n",
       "       -1 15 .. -1 207.03531485024092 ...            --          0.1621"
      ]
     },
     "metadata": {},
     "output_type": "display_data"
    }
   ],
   "source": [
    "%matplotlib widget\n",
    "import ipywidgets as widgets\n",
    "import gPhoton\n",
    "import matplotlib.pyplot as plt\n",
    "import numpy as np\n",
    "from astropy.io import ascii\n",
    "from astropy.table import Table\n",
    "from astropy import units as uu\n",
    "import os\n",
    "from vasca.utils import mag2flux, flux2mag, tgalex_to_astrotime\n",
    "import vasca.visualization as vvis\n",
    "from vasca.region import Region\n",
    "from vasca.resource_manager import ResourceManager\n",
    "\n",
    "rg = Region()\n",
    "rg.load_from_fits(region_fname)\n",
    "\n",
    "#Subselect sources based on choice\n",
    "if len(srcs_ids)>0:\n",
    "    rg.tt_sources.add_index(\"rg_src_id\")\n",
    "    idx_srcs = rg.tt_sources.loc_indices[\"rg_src_id\", srcs_ids]\n",
    "    tt_srcs = Table(rg.tt_sources[idx_srcs])\n",
    "else:\n",
    "    tt_srcs = rg.tt_sources\n",
    "\n",
    "rm = ResourceManager()\n",
    "gphot_dir = rm.get_path(\"gal_gphoton\", \"sas_cloud\")\n",
    "\n",
    "display(tt_srcs)"
   ]
  },
  {
   "cell_type": "markdown",
   "id": "2a4559bd-0849-4f44-80a3-ea5c3ab00660",
   "metadata": {},
   "source": [
    "### Do aperture photometry for each visit with gPhoton"
   ]
  },
  {
   "cell_type": "code",
   "execution_count": 3,
   "id": "f1fd4218-6ade-47e3-982f-b9ce6cfc2034",
   "metadata": {},
   "outputs": [
    {
     "data": {
      "application/vnd.jupyter.widget-view+json": {
       "model_id": "b11acdefb89b4a1b8aedad5a2a2fbed7",
       "version_major": 2,
       "version_minor": 0
      },
      "text/plain": [
       "interactive(children=(Dropdown(description='rg_src_id', options=(55034, 61491, 64360, 73354, 76243, 92867, 104…"
      ]
     },
     "execution_count": 3,
     "metadata": {},
     "output_type": "execute_result"
    }
   ],
   "source": [
    "def get_lc(filename, sig_cut=3.5):\n",
    "    #Load file\n",
    "    dd_gph = np.load(filename,allow_pickle='TRUE').item()\n",
    "\n",
    "    # Get gphoton lc\n",
    "    keep_keys = ('t_mean', 'exptime','flux_bgsub', 'flux_bgsub_err','mag_bgsub','mag_bgsub_err_2',\"flags\",\"mag_mcatbgsub\",\"mag_mcatbgsub_err_2\", \"mag\", \"flags\")\n",
    "    dd_gap = {x: dd_gph[\"gAperture\"][x] for x in keep_keys if x in dd_gph[\"gAperture\"]}\n",
    "    dd_gap[\"s2n\"]=dd_gap['flux_bgsub']/dd_gap['flux_bgsub_err']\n",
    "    \n",
    "    # Units of flux_bgsub are in erg sec^-1 cm^-2 Å^-1. . Get also Jy flux from AB magnitude\n",
    "    dd_gap['flux'],dd_gap['flux_err'] = mag2flux(dd_gap[\"mag_mcatbgsub\"],dd_gap[\"mag_mcatbgsub_err_2\"])\n",
    "    dd_gap['t_mean']= tgalex_to_astrotime(dd_gap['t_mean'],\"mjd\")\n",
    "    # Units of time are in \"GALEX Time\" = \"UNIX Time\" - 315964800, change to MJD\n",
    "    \n",
    "    tt_gap = Table(data= dd_gap)\n",
    "    sel_gap = (tt_gap[\"s2n\"]>sig_cut) * (tt_gap[\"flags\"]<0.5)\n",
    "    return tt_gap,sel_gap\n",
    "\n",
    "def plot_lc(rg_src_id):\n",
    "\n",
    "    #Get table entries for that source\n",
    "    tt_src = tt_srcs[tt_srcs[\"rg_src_id\"]==rg_src_id]\n",
    "\n",
    "    fname = gphot_dir+\"/gPhoton_ra\"+str(round(tt_src[\"ra\"][0],5))+\"_dec\"+str(round(tt_src[\"dec\"][0],5))+\"_nuv_app.npy\"\n",
    "    tt_gap, sel_gap = get_lc(fname)\n",
    "\n",
    "    fig_lc_src = plt.figure(\"Light curve\",figsize=(12, 8), clear=True)\n",
    "    vvis.plot_light_curve(rg, rg_src_ids = rg_src_id,fig=fig_lc_src, flux_var=\"flux\", markersize=10) #\n",
    "\n",
    "    #plt.errorbar(tt_gap['t_mean'],1.132*tt_gap['flux'],yerr=tt_gap['flux_err'],fmt=\"k*\", label=\"gPhoton al l\", alpha=0.3)\n",
    "    plt.plot(tt_gap['t_mean'][sel_gap],1.120*tt_gap['flux'][sel_gap], lw=0,marker=\"o\", color=\"k\",label=\"gPhoton sel\") #,yerr=tt_gap['flux_err'][sel_gap],\n",
    "    plt.yscale('log')\n",
    "\n",
    "    #Add FUV if existent\n",
    "    fname_fuv = fname.replace(\"_nuv\",\"_fuv\")\n",
    "    if os.path.isfile(fname_fuv):\n",
    "        tt_gap_fuv,sel_gap_fuv = get_lc(fname_fuv)\n",
    "        #plt.errorbar(tt_gap_fuv['t_mean'],1.132*tt_gap_fuv['flux'],yerr=tt_gap_fuv['flux_err'],fmt=\"ko\", label=\"gPhoton all\", alpha=0.3)\n",
    "        plt.plot(tt_gap_fuv['t_mean'][sel_gap_fuv],1.120*tt_gap_fuv['flux'][sel_gap_fuv],label=\"gPhoton sel\", lw= 0, marker=\"o\", markerfacecolor=None, markeredgecolor=\"k\") #,yerr=tt_gap_fuv['flux_err'][sel_gap_fuv]\n",
    "\n",
    "    plt.legend()\n",
    "    plt.show()\n",
    "    display(tt_src)\n",
    "    display(tt_gap)\n",
    "                  \n",
    "widgets.interactive( plot_lc, rg_src_id=tt_srcs[\"rg_src_id\"])"
   ]
  },
  {
   "cell_type": "code",
   "execution_count": 4,
   "id": "df873184-eb45-4ac7-9da3-3baf75e4c2df",
   "metadata": {},
   "outputs": [
    {
     "name": "stdout",
     "output_type": "stream",
     "text": [
      "91.20108393559062 1e-06 Jy 109.64781961431808 1e-06 Jy 1.202264434617413 18.8 mag(AB)\n"
     ]
    }
   ],
   "source": [
    "# Calculate apperture flux correctin from http://www.galex.caltech.edu/researcher/techdoc-ch5.html\n",
    "f1 = mag2flux(19)\n",
    "f2 = mag2flux(19-0.20)\n",
    "mag = flux2mag(f2)\n",
    "print(f1,f2,f2/f1, mag)\n"
   ]
  },
  {
   "cell_type": "code",
   "execution_count": 5,
   "id": "0322156a-a468-4bdd-9686-9d61ec205d73",
   "metadata": {},
   "outputs": [
    {
     "data": {
      "text/plain": [
       "0.0002777777777777778"
      ]
     },
     "execution_count": 5,
     "metadata": {},
     "output_type": "execute_result"
    }
   ],
   "source": [
    "1/(60*60)"
   ]
  },
  {
   "cell_type": "code",
   "execution_count": null,
   "id": "48736486-a082-4e9b-b758-29e6698443f9",
   "metadata": {},
   "outputs": [],
   "source": []
  }
 ],
 "metadata": {
  "kernelspec": {
   "display_name": "Python 3 (ipykernel)",
   "language": "python",
   "name": "python3"
  },
  "language_info": {
   "codemirror_mode": {
    "name": "ipython",
    "version": 3
   },
   "file_extension": ".py",
   "mimetype": "text/x-python",
   "name": "python",
   "nbconvert_exporter": "python",
   "pygments_lexer": "ipython3",
   "version": "3.10.12"
  }
 },
 "nbformat": 4,
 "nbformat_minor": 5
}
