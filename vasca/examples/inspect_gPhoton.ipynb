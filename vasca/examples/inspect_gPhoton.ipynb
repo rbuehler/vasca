{
 "cells": [
  {
   "cell_type": "markdown",
   "id": "5ba5cd42-e958-4d10-907d-70c3a71f7cb8",
   "metadata": {},
   "source": [
    "# Notebook to run gPhoton\n",
    "Run gPhoton to create GALEX light curves etc.\n",
    "Setup your source parameter and setting in the cell below."
   ]
  },
  {
   "cell_type": "code",
   "execution_count": 1,
   "id": "b319afee-6aa7-4b48-8ea4-f26a7124125c",
   "metadata": {},
   "outputs": [],
   "source": [
    "from astropy.io import ascii\n",
    "from astropy import units as uu\n",
    "\n",
    "src_str = \"\"\"label\tra\tdec\n",
    "SDSS _142118.18+523547.1 215.3258439968967\t52.596545351520945\n",
    "PB_5130 334.61900740472345 -0.0033813554025151345\n",
    "GALEX_J221409.8+005245 333.5413675869932 0.8794347888579439\"\"\"\n",
    "run_src_idx = 2\n",
    "\n",
    "tt_srcs = ascii.read(src_str)\n",
    "outdir = \"./resources/gPhoton_out/\"\n",
    "outfile_fin = outdir+\"gPhoton_\"+str(tt_srcs[\"label\"][run_src_idx])+'_fin.npy'\n",
    "outfile_app = outdir+\"gPhoton_\"+str(tt_srcs[\"label\"][run_src_idx])+'_app.npy'\n",
    "ron = (6*uu.arcsec).to(uu.deg).value        # Radius of signal annulus\n",
    "roff1 = (10*uu.arcsec).to(uu.deg).value      # Inner radius of background ring\n",
    "roff2 = (15*uu.arcsec).to(uu.deg).value      # Outer radius of background ring\n",
    "#load_past_results = False"
   ]
  },
  {
   "cell_type": "code",
   "execution_count": 2,
   "id": "1ec09f28-d01d-41d9-b548-e68915107df4",
   "metadata": {},
   "outputs": [],
   "source": [
    "%matplotlib widget\n",
    "import gPhoton\n",
    "import matplotlib.pyplot as plt\n",
    "import numpy as np\n",
    "from astropy.io import ascii\n",
    "from astropy.table import Table\n",
    "import os\n",
    "from vasca.utils import mag2flux, flux2mag, tgalex_to_astrotime\n",
    "import vasca.visualization as vvis\n",
    "from vasca.region import Region"
   ]
  },
  {
   "cell_type": "markdown",
   "id": "2a4559bd-0849-4f44-80a3-ea5c3ab00660",
   "metadata": {},
   "source": [
    "### Do aperture photometry for each visit with gPhoton"
   ]
  },
  {
   "cell_type": "code",
   "execution_count": null,
   "id": "124053ac-1496-45fd-b4ad-7cf0f836e003",
   "metadata": {},
   "outputs": [
    {
     "name": "stdout",
     "output_type": "stream",
     "text": [
      "Running query with gFind for:\n",
      " label         ra               dec        \n",
      "----- ----------------- ------------------\n",
      "WD900 215.3258439968967 52.596545351520945\n",
      "NUV: 61701.0s (raw) in 48 exposures.\n",
      "    [ 775893225.995, 775893315.995 ], 90.000 seconds\n",
      "    [ 775899147.995, 775899237.995 ], 90.000 seconds\n",
      "    [ 777313477.995, 777315163.995 ], 1686.000 seconds\n",
      "    [ 777354890.995, 777355470.995 ], 580.000 seconds\n",
      "    [ 903243480.995, 903245052.995 ], 1572.000 seconds\n",
      "    [ 903480942.995, 903481678.995 ], 736.000 seconds\n",
      "    [ 903586710.995, 903588176.995 ], 1466.000 seconds\n",
      "    [ 903906287.995, 903907726.995 ], 1439.000 seconds\n",
      "    [ 904917809.995, 904919506.995 ], 1697.000 seconds\n",
      "    [ 906195657.995, 906197231.995 ], 1574.000 seconds\n",
      "    [ 906326883.995, 906327407.995 ], 524.000 seconds\n",
      "    [ 906409485.995, 906410247.995 ], 762.000 seconds\n",
      "    [ 933993847.995, 933995405.995 ], 1558.000 seconds\n",
      "    [ 934183202.995, 934184686.995 ], 1484.000 seconds\n",
      "    [ 934354830.995, 934356250.995 ], 1420.000 seconds\n",
      "    [ 934532383.995, 934533764.995 ], 1381.000 seconds\n",
      "    [ 934704005.995, 934705389.995 ], 1384.000 seconds\n",
      "    [ 934851931.995, 934853352.995 ], 1421.000 seconds\n",
      "    [ 935017578.995, 935019062.995 ], 1484.000 seconds\n",
      "    [ 935224603.995, 935226069.995 ], 1466.000 seconds\n",
      "    [ 935390209.995, 935391321.995 ], 1112.000 seconds\n",
      "    [ 935561712.995, 935562719.995 ], 1007.000 seconds\n",
      "    [ 935715476.995, 935716672.995 ], 1196.000 seconds\n",
      "    [ 936277362.995, 936279044.995 ], 1682.000 seconds\n",
      "    [ 936437083.995, 936438743.995 ], 1660.000 seconds\n",
      "    [ 936608650.995, 936610202.995 ], 1552.000 seconds\n",
      "    [ 936774313.995, 936775348.995 ], 1035.000 seconds\n",
      "    [ 936987745.995, 936988914.995 ], 1169.000 seconds\n",
      "    [ 937152961.995, 937154577.995 ], 1616.000 seconds\n",
      "    [ 937318602.995, 937320238.995 ], 1636.000 seconds\n",
      "    [ 937484383.995, 937485888.995 ], 1505.000 seconds\n",
      "    [ 937649847.995, 937651528.995 ], 1681.000 seconds\n",
      "    [ 937815459.995, 937817157.995 ], 1698.000 seconds\n",
      "    [ 937975156.995, 937976861.995 ], 1705.000 seconds\n",
      "    [ 938188092.995, 938189793.995 ], 1701.000 seconds\n",
      "    [ 964654722.995, 964655590.995 ], 868.000 seconds\n",
      "    [ 964660790.995, 964661504.995 ], 714.000 seconds\n",
      "    [ 965115562.995, 965116941.995 ], 1379.000 seconds\n",
      "    [ 965287201.995, 965288525.995 ], 1324.000 seconds\n",
      "    [ 965488416.995, 965489737.995 ], 1321.000 seconds\n",
      "    [ 965813810.995, 965815255.995 ], 1445.000 seconds\n",
      "    [ 965985334.995, 965986861.995 ], 1527.000 seconds\n",
      "    [ 966156990.995, 966158314.995 ], 1324.000 seconds\n",
      "    [ 966328439.995, 966329734.995 ], 1295.000 seconds\n",
      "    [ 966499827.995, 966501136.995 ], 1309.000 seconds\n",
      "    [ 967623642.995, 967624958.995 ], 1316.000 seconds\n",
      "    [ 967801314.995, 967802752.995 ], 1438.000 seconds\n",
      "    [ 997157621.995, 997158293.995 ], 672.000 seconds\n",
      "Running lightcurve with gAperture..\n"
     ]
    }
   ],
   "source": [
    "%%time\n",
    "pos_ra = tt_srcs[\"ra\"][run_src_idx]\n",
    "pos_dec = tt_srcs[\"dec\"][run_src_idx]\n",
    "\n",
    "#Run or load gFind\n",
    "if os.path.isfile(outfile_fin):\n",
    "    dd_gfind = np.load(outfile_fin,allow_pickle='TRUE').item()\n",
    "    t_bins = list(zip(dd_gfind[\"NUV\"][\"t0\"],dd_gfind[\"NUV\"][\"t1\"]))\n",
    "    print(\"Number of time bins:\",len(t_bins))\n",
    "else:\n",
    "    print(f\"Running query with gFind for:\\n\",tt_srcs[run_src_idx])\n",
    "    dd_gfind = gPhoton.gFind(band='NUV',skypos=[pos_ra,pos_dec]) #,maxgap=100.,minexp=100.\n",
    "    t_bins = list(zip(dd_gfind[\"NUV\"][\"t0\"],dd_gfind[\"NUV\"][\"t1\"]))\n",
    "    np.save(outfile_fin,dd_gfind)\n",
    "\n",
    "#Run or load gApperture\n",
    "if os.path.isfile(outfile_app):\n",
    "    dd_gph = np.load(outfile_app,allow_pickle='TRUE').item()\n",
    "else:\n",
    "    print(\"Running lightcurve with gAperture..\")\n",
    "    dd_gaperture = gPhoton.gAperture(band='NUV',skypos=[pos_ra,pos_dec],radius=ron, annulus=[roff1,roff2],tranges=t_bins)\n",
    "    dd_gph = {\"gAperture\":dd_gaperture,\"gFind\":dd_gfind}\n",
    "    np.save(outfile_app,dd_gph)\n",
    "    print(\"..done\")\n"
   ]
  },
  {
   "cell_type": "code",
   "execution_count": null,
   "id": "f1fd4218-6ade-47e3-982f-b9ce6cfc2034",
   "metadata": {},
   "outputs": [],
   "source": [
    "#print(dd_gph[\"gAperture\"].keys())\n",
    "#print(\"\\n\", dd_gph[\"gFind\"][\"NUV\"].keys())\n",
    "#print(dd_gph[\"gAperture\"]['photons'])\n",
    "keep_keys = ('t_mean', 'exptime','flux_bgsub', 'flux_bgsub_err','mag_bgsub','mag_bgsub_err_2',\"flags\",\"mag_mcatbgsub\",\"mag_mcatbgsub_err_2\", \"mag\")\n",
    "dd_gap = {x: dd_gph[\"gAperture\"][x] for x in keep_keys if x in dd_gph[\"gAperture\"]}\n",
    "dd_gap[\"s2n\"]=dd_gap['flux_bgsub']/dd_gap['flux_bgsub_err']\n",
    "\n",
    "# Units of flux_bgsub are in erg sec^-1 cm^-2 Å^-1. . Get also Jy flux from AB magnitude\n",
    "dd_gap['flux'],dd_gap['flux_err'] = mag2flux(dd_gap[\"mag_mcatbgsub\"],dd_gap[\"mag_mcatbgsub_err_2\"])\n",
    "dd_gap['t_mean']= tgalex_to_astrotime(dd_gap['t_mean'],\"mjd\")\n",
    "# Units of time are in \"GALEX Time\" = \"UNIX Time\" - 315964800, change to MJD\n",
    "\n",
    "tt_gap = Table(data= dd_gap)\n",
    "sel_gap = tt_gap[\"s2n\"]>3.5\n",
    "display(tt_gap[sel_gap])"
   ]
  },
  {
   "cell_type": "markdown",
   "id": "c15eca7a-bad4-499d-a672-23bfb75ed437",
   "metadata": {},
   "source": [
    "### Display lightcurve"
   ]
  },
  {
   "cell_type": "code",
   "execution_count": null,
   "id": "a1c9d8ed-cb6d-4b13-bc8f-a2d829fbc924",
   "metadata": {},
   "outputs": [],
   "source": [
    "region_name = \"WD\" #\"MDIS_10-800\" # \"TDS\" # _ELAISN1\n",
    "region_fname = \"./vasca_pipeline/\"+region_name+\"/region_\"+region_name+\".fits\"\n",
    "rg = Region()\n",
    "rg.load_from_fits(region_fname)\n",
    "rg_src_id= 142\n",
    "\n",
    "fig_lc_src = plt.figure(\"Light curve\",figsize=(8, 4), clear=True)\n",
    "vvis.plot_light_curve(rg, rg_src_ids = rg_src_id,fig=fig_lc_src, flux_var=\"flux_auto\") #\n",
    "plt.show()\n",
    "\n",
    "\n",
    "#fig = plt.figure(figsize=(8, 6), constrained_layout=True)\n",
    "plt.errorbar(tt_gap[sel_gap]['t_mean'],tt_gap[sel_gap]['flux'],yerr=tt_gap[sel_gap]['flux_err'],fmt=\".\")\n",
    "plt.yscale('log')\n",
    "\n",
    "#fig2 = plt.figure(figsize=(8, 6), constrained_layout=True)\n",
    "#ax = plt.gca()\n",
    "#ax.invert_yaxis()\n",
    "#plt.errorbar(tt_gap[sel_gap]['t_mean'],tt_gap[sel_gap]['mag_bgsub'],yerr=tt_gap[sel_gap]['mag_bgsub_err_2'],fmt=\"bo\")"
   ]
  },
  {
   "cell_type": "code",
   "execution_count": null,
   "id": "df873184-eb45-4ac7-9da3-3baf75e4c2df",
   "metadata": {},
   "outputs": [],
   "source": [
    "# Calculate apperture flux correctin from http://www.galex.caltech.edu/researcher/techdoc-ch5.html\n",
    "f1 = mag2flux(19)\n",
    "f2 = mag2flux(19-0.20)\n",
    "mag = flux2mag(f2)\n",
    "print(f1,f2,f2/f1, mag)\n"
   ]
  },
  {
   "cell_type": "code",
   "execution_count": null,
   "id": "0322156a-a468-4bdd-9686-9d61ec205d73",
   "metadata": {},
   "outputs": [],
   "source": []
  }
 ],
 "metadata": {
  "kernelspec": {
   "display_name": "Python 3 (ipykernel)",
   "language": "python",
   "name": "python3"
  },
  "language_info": {
   "codemirror_mode": {
    "name": "ipython",
    "version": 3
   },
   "file_extension": ".py",
   "mimetype": "text/x-python",
   "name": "python",
   "nbconvert_exporter": "python",
   "pygments_lexer": "ipython3",
   "version": "3.10.12"
  }
 },
 "nbformat": 4,
 "nbformat_minor": 5
}
