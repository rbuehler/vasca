{
 "cells": [
  {
   "cell_type": "markdown",
   "id": "59525c5b-fe82-4037-ac36-e1cd49b9ec5f",
   "metadata": {},
   "source": [
    "# Compare Time Domain Survey and VASCA catalogs"
   ]
  },
  {
   "cell_type": "code",
   "execution_count": 1,
   "id": "d172ab11-fe07-420d-b8bd-2b6d53e4eb71",
   "metadata": {},
   "outputs": [],
   "source": [
    "# General path setup and library loading\n",
    "%matplotlib widget\n",
    "import matplotlib.pyplot as plt\n",
    "from scipy.stats import chi2\n",
    "import numpy as np\n",
    "\n",
    "from jdaviz import Imviz\n",
    "from astropy.coordinates import SkyCoord, match_coordinates_sky\n",
    "from astropy import units as uu\n",
    "from astropy.table import Table\n",
    "from astropy.io import fits\n",
    "\n",
    "from loguru import logger\n",
    "\n",
    "from vasca.region import Region\n",
    "from vasca.field import BaseField\n",
    "import vasca.visualization as vvis"
   ]
  },
  {
   "cell_type": "code",
   "execution_count": null,
   "id": "f190c3fd-8234-4a51-99a9-048ef1e61c7a",
   "metadata": {},
   "outputs": [],
   "source": []
  },
  {
   "cell_type": "markdown",
   "id": "3937da23-9e0b-4c02-94be-ceb7d60f6b8a",
   "metadata": {},
   "source": [
    "### Load VASCA region"
   ]
  },
  {
   "cell_type": "code",
   "execution_count": 2,
   "id": "eeb559f1-2976-4f25-b236-35fa9e1ed538",
   "metadata": {},
   "outputs": [
    {
     "data": {
      "text/html": [
       "<div><i>Table length=7</i>\n",
       "<table id=\"table140186981328608\" class=\"table-striped table-bordered table-condensed\">\n",
       "<thead><tr><th>field_id</th><th>name</th><th>ra</th><th>dec</th><th>observatory</th><th>obs_filter</th><th>fov_diam</th><th>sel</th><th>nr_vis</th><th>time_bin_size_sum</th><th>time_start</th><th>time_stop</th><th>rg_fd_id</th></tr></thead>\n",
       "<thead><tr><th></th><th></th><th>deg</th><th>deg</th><th></th><th></th><th>deg</th><th></th><th></th><th>s</th><th>d</th><th>d</th><th></th></tr></thead>\n",
       "<thead><tr><th>bytes22</th><th>bytes22</th><th>float64</th><th>float64</th><th>bytes22</th><th>bytes22</th><th>float32</th><th>bool</th><th>int32</th><th>float32</th><th>float64</th><th>float64</th><th>int32</th></tr></thead>\n",
       "<tr><td>GNU2597312684324028416</td><td>PS_ELAISN1_MOS10</td><td>242.50638203682297</td><td>55.9801443588634</td><td>GALEX</td><td>NUV</td><td>1.2</td><td>True</td><td>24</td><td>29566.4</td><td>54960.17787037037</td><td>56821.33210648148</td><td>0</td></tr>\n",
       "<tr><td>GNU2597383053068206080</td><td>PS_ELAISN1_MOS11</td><td>244.57200462478102</td><td>55.1825511621234</td><td>GALEX</td><td>NUV</td><td>1.2</td><td>True</td><td>25</td><td>31369.5</td><td>54960.24638888889</td><td>56815.50054271557</td><td>1</td></tr>\n",
       "<tr><td>GNU2597453421812383744</td><td>PS_ELAISN1_MOS12</td><td>242.896209389035</td><td>55.0003489374844</td><td>GALEX</td><td>NUV</td><td>1.2</td><td>True</td><td>21</td><td>26349.451</td><td>54960.314884259256</td><td>56814.569061234084</td><td>2</td></tr>\n",
       "<tr><td>GNU2597523790556561408</td><td>PS_ELAISN1_MOS13</td><td>241.28881797574297</td><td>55.3529870930308</td><td>GALEX</td><td>NUV</td><td>1.2</td><td>True</td><td>22</td><td>27810.902</td><td>54960.38337962963</td><td>56819.53759259259</td><td>3</td></tr>\n",
       "<tr><td>GNU2597594159300739072</td><td>PS_ELAISN1_MOS14</td><td>243.95513153083402</td><td>54.1978605194106</td><td>GALEX</td><td>NUV</td><td>1.2</td><td>True</td><td>22</td><td>26881.852</td><td>54960.451886574076</td><td>56810.60611111111</td><td>4</td></tr>\n",
       "<tr><td>GNU2597664528044916736</td><td>PS_ELAISN1_MOS15</td><td>242.396514585217</td><td>53.9999872930018</td><td>GALEX</td><td>NUV</td><td>1.2</td><td>True</td><td>22</td><td>28044.65</td><td>54960.52040509259</td><td>56810.67461805556</td><td>5</td></tr>\n",
       "<tr><td>GNU2597734896789094400</td><td>PS_ELAISN1_MOS16</td><td>241.37385712300306</td><td>54.4519391954855</td><td>GALEX</td><td>NUV</td><td>1.2</td><td>True</td><td>21</td><td>26780.799</td><td>54960.588912037034</td><td>56807.7931854022</td><td>6</td></tr>\n",
       "</table></div>"
      ],
      "text/plain": [
       "<Table length=7>\n",
       "       field_id              name       ...     time_stop      rg_fd_id\n",
       "                                        ...         d                  \n",
       "       bytes22             bytes22      ...      float64        int32  \n",
       "---------------------- ---------------- ... ------------------ --------\n",
       "GNU2597312684324028416 PS_ELAISN1_MOS10 ...  56821.33210648148        0\n",
       "GNU2597383053068206080 PS_ELAISN1_MOS11 ...  56815.50054271557        1\n",
       "GNU2597453421812383744 PS_ELAISN1_MOS12 ... 56814.569061234084        2\n",
       "GNU2597523790556561408 PS_ELAISN1_MOS13 ...  56819.53759259259        3\n",
       "GNU2597594159300739072 PS_ELAISN1_MOS14 ...  56810.60611111111        4\n",
       "GNU2597664528044916736 PS_ELAISN1_MOS15 ...  56810.67461805556        5\n",
       "GNU2597734896789094400 PS_ELAISN1_MOS16 ...   56807.7931854022        6"
      ]
     },
     "metadata": {},
     "output_type": "display_data"
    }
   ],
   "source": [
    "region_name = \"TDS_ELAISN1\"  #_ELAISN1\n",
    "region_fname = \"./vasca_pipeline/\"+region_name+\"/region_\"+region_name+\".fits\"\n",
    "rg = Region()\n",
    "rg.load_from_fits(region_fname)\n",
    "display(rg.tt_fields)"
   ]
  },
  {
   "cell_type": "markdown",
   "id": "e432b571-6e7b-4761-ba21-e4be51705742",
   "metadata": {},
   "source": [
    "### Get TDS & VASCA data and match them positionally"
   ]
  },
  {
   "cell_type": "code",
   "execution_count": 3,
   "id": "7cd24d9c-df6b-4e07-bb83-f22075473823",
   "metadata": {},
   "outputs": [
    {
     "name": "stdout",
     "output_type": "stream",
     "text": [
      "Selected 594 out of 31322 sources\n"
     ]
    },
    {
     "data": {
      "text/html": [
       "<div><i>Table length=2</i>\n",
       "<table id=\"table140186981577728\" class=\"table-striped table-bordered table-condensed\">\n",
       "<thead><tr><th>fd_src_id</th><th>nr_det</th><th>nr_uls</th><th>ra</th><th>dec</th><th>pos_err</th><th>pos_nxv</th><th>pos_var</th><th>pos_cpval</th><th>pos_rchiq</th><th>flux</th><th>flux_err</th><th>flux_nxv</th><th>flux_var</th><th>flux_cpval</th><th>flux_rchiq</th><th>flux_dmaxabs</th><th>flux_sigmax</th><th>flux_sigmax_dflux</th><th>flux_skew</th><th>mag</th><th>mag_err</th><th>assoc_id</th><th>assoc_dist</th><th>assoc_ffactor</th><th>assoc_fdiff_s2n</th><th>sel</th><th>rg_fd_id</th><th>rg_src_id</th><th>nr_fd_srcs</th><th>tds_recno</th><th>tds_idx</th><th>tds_dist</th><th>tds_match</th></tr></thead>\n",
       "<thead><tr><th></th><th></th><th></th><th>deg</th><th>deg</th><th>arcsec</th><th></th><th>arcsec2</th><th></th><th></th><th>1e-06 Jy</th><th>1e-06 Jy</th><th>1e-12 Jy2</th><th>1e-12 Jy2</th><th></th><th></th><th>1e-06 Jy</th><th></th><th>1e-06 Jy</th><th>1e-12 Jy2</th><th>mag</th><th>mag</th><th></th><th>arcsec</th><th></th><th></th><th></th><th></th><th></th><th></th><th></th><th></th><th>arcsec</th><th></th></tr></thead>\n",
       "<thead><tr><th>int32</th><th>int32</th><th>int32</th><th>float64</th><th>float64</th><th>float32</th><th>float32</th><th>float32</th><th>float32</th><th>float32</th><th>float32</th><th>float32</th><th>float32</th><th>float32</th><th>float32</th><th>float32</th><th>float32</th><th>float32</th><th>float32</th><th>float32</th><th>float32</th><th>float32</th><th>int64</th><th>float32</th><th>float32</th><th>float32</th><th>bool</th><th>int32</th><th>int32</th><th>int32</th><th>int32</th><th>int64</th><th>float64</th><th>bool</th></tr></thead>\n",
       "<tr><td>-1</td><td>19</td><td>0</td><td>243.68769579044613</td><td>55.021948361962934</td><td>0.18757871</td><td>7.598095e-12</td><td>1.5080136</td><td>2.6854216e-06</td><td>2.2337022</td><td>8.027533</td><td>0.24923676</td><td>0.04459982</td><td>4.2858577</td><td>5.7080786e-08</td><td>3.85555</td><td>4.853364</td><td>3.981152</td><td>2.9207869</td><td>0.007890853</td><td>21.638546</td><td>0.033197403</td><td>-1</td><td>-1.0</td><td>-100.0</td><td>-10000.0</td><td>True</td><td>-1</td><td>123</td><td>2</td><td>630</td><td>99</td><td>379.2155586163366</td><td>False</td></tr>\n",
       "<tr><td>-1</td><td>11</td><td>0</td><td>243.22666025870427</td><td>54.17832377430886</td><td>0.23234223</td><td>1.6014028e-12</td><td>1.6955272</td><td>1.3393981e-06</td><td>2.7161357</td><td>8.539153</td><td>0.31457403</td><td>0.06167135</td><td>5.7748156</td><td>3.6760787e-07</td><td>4.924303</td><td>4.1258698</td><td>3.3663406</td><td>3.0174532</td><td>-0.23716071</td><td>21.571463</td><td>0.03927803</td><td>23789</td><td>0.7691421</td><td>0.7828796</td><td>-5.461463</td><td>True</td><td>-1</td><td>256</td><td>2</td><td>965</td><td>151</td><td>373.34109780626255</td><td>False</td></tr>\n",
       "</table></div>"
      ],
      "text/plain": [
       "<Table length=2>\n",
       "fd_src_id nr_det nr_uls ... tds_idx      tds_dist      tds_match\n",
       "                        ...               arcsec                \n",
       "  int32   int32  int32  ...  int64       float64          bool  \n",
       "--------- ------ ------ ... ------- ------------------ ---------\n",
       "       -1     19      0 ...      99  379.2155586163366     False\n",
       "       -1     11      0 ...     151 373.34109780626255     False"
      ]
     },
     "metadata": {},
     "output_type": "display_data"
    },
    {
     "data": {
      "text/html": [
       "<div><i>Table length=2</i>\n",
       "<table id=\"table140186981575376\" class=\"table-striped table-bordered table-condensed\">\n",
       "<thead><tr><th>recno</th><th>ID</th><th>ra</th><th>dec</th><th>l_mlow</th><th>mlow</th><th>l_Dmmax</th><th>Dmmax</th><th>l_sigint</th><th>sigint</th><th>l_Sd</th><th>Sd</th><th>l_Sy</th><th>Sy</th><th>LC</th><th>Mph</th><th>rmag</th><th>OT</th><th>z</th><th>X</th><th>Class</th><th>rg_src_id</th><th>vasca_idx</th><th>vasca_dist</th><th>vasca_match</th></tr></thead>\n",
       "<thead><tr><th></th><th></th><th>deg</th><th>deg</th><th></th><th>mag</th><th></th><th>mag</th><th></th><th>mag</th><th></th><th>mag</th><th></th><th>mag</th><th></th><th></th><th>mag</th><th></th><th></th><th></th><th></th><th></th><th></th><th>arcsec</th><th></th></tr></thead>\n",
       "<thead><tr><th>int32</th><th>bytes16</th><th>float64</th><th>float64</th><th>bytes1</th><th>float32</th><th>bytes1</th><th>float32</th><th>bytes1</th><th>float32</th><th>bytes1</th><th>float32</th><th>bytes1</th><th>float32</th><th>bytes1</th><th>bytes3</th><th>float32</th><th>bytes3</th><th>float32</th><th>bytes1</th><th>bytes12</th><th>int32</th><th>int64</th><th>float64</th><th>bool</th></tr></thead>\n",
       "<tr><td>3</td><td>ELAISN1_MOS15-02</td><td>242.0397</td><td>54.3586</td><td>&gt;</td><td>22.89</td><td>&gt;</td><td>4.03</td><td></td><td>1.37</td><td></td><td>0.84</td><td></td><td>2.93</td><td>V</td><td>pt</td><td>22.51</td><td>QSO</td><td>--</td><td></td><td>CV</td><td>940</td><td>10</td><td>41.4994</td><td>False</td></tr>\n",
       "<tr><td>4</td><td>ELAISN1_MOS15-09</td><td>242.3685</td><td>53.6738</td><td>&gt;</td><td>23.03</td><td>&gt;</td><td>4.02</td><td></td><td>1.23</td><td></td><td>0.01</td><td></td><td>2.15</td><td>F</td><td>ext</td><td>21.05</td><td></td><td>--</td><td></td><td>Galaxy Trans</td><td>27926</td><td>417</td><td>1.6707</td><td>True</td></tr>\n",
       "</table></div>"
      ],
      "text/plain": [
       "<Table length=2>\n",
       " recno          ID           ra    ... vasca_idx vasca_dist vasca_match\n",
       "                            deg    ...             arcsec              \n",
       " int32       bytes16      float64  ...   int64    float64       bool   \n",
       "-------- ---------------- -------- ... --------- ---------- -----------\n",
       "       3 ELAISN1_MOS15-02 242.0397 ...        10    41.4994       False\n",
       "       4 ELAISN1_MOS15-09 242.3685 ...       417     1.6707        True"
      ]
     },
     "metadata": {},
     "output_type": "display_data"
    }
   ],
   "source": [
    "#Select vasca sources, 5 sigma 0.000000573303, 4 sigma 0.00006334, 3 sigma = 0.002699796\n",
    "\n",
    "sel_flux_cpval = (rg.tt_sources[\"flux_cpval\"]<0.000000573303) * (rg.tt_sources[\"flux_cpval\"]>-0.5)\n",
    "sel_flux_nxv = rg.tt_sources[\"flux_nxv\"]>0.0006\n",
    "sel_flux_var = sel_flux_cpval*sel_flux_nxv\n",
    "\n",
    "sel_assoc_ffactor = rg.tt_sources[\"assoc_ffactor\"]>1.2\n",
    "sel_assoc_fdiff_s2n = rg.tt_sources[\"assoc_fdiff_s2n\"]>6\n",
    "sel_assoc = sel_assoc_ffactor * sel_assoc_fdiff_s2n\n",
    "\n",
    "sel_pos_cpval = rg.tt_sources[\"pos_cpval\"]>1e-10\n",
    "sel_flux = (rg.tt_sources[\"flux\"]> 0.144543) * (rg.tt_sources[\"flux\"]< 575.43)\n",
    "sel_quality = sel_pos_cpval * sel_flux\n",
    "\n",
    "sel_vasca = (sel_flux_var + sel_assoc )* sel_quality # \n",
    "rg.tt_sources[\"sel\"][:]=sel_vasca\n",
    "\n",
    "#sel_vasca = rg.tt_sources[\"sel\"]\n",
    "tt_vasca = rg.tt_sources[sel_vasca]\n",
    "\n",
    "print(f\"Selected {len(tt_vasca)} out of {len(rg.tt_sources)} sources\")\n",
    "# Print cut efficiencies\n",
    "#def print_cuteff(new_sel,pre_sel,cut_label):\n",
    "#    sel_temp = pre_sel*new_sel\n",
    "#    print(f\"Selection efficiency {cut_label}: {round(100*sel_temp.sum()/pre_sel.sum(),2)}%\")\n",
    "#print_cuteff(sel_flux_cpval,sel_flux_cpval*0+1,\"flux_cpval\")\n",
    "#print_cuteff(sel_pos_cpval,sel_flux_cpval,\"pos_cpval\")\n",
    "#print_cuteff(sel_flux_nxv,sel_pos_cpval*sel_flux_cpval,\"nxv\")\n",
    "\n",
    "#Read TDS\n",
    "tt_tds_all = Table.read(\"./TDS-ApJ_766_60/table4.fit\", hdu=\"J_ApJ_766_60_table4\")\n",
    "ids = tt_tds_all[\"ID\"].data.astype(dtype=str)\n",
    "sel_elai = (np.char.find(ids, 'ELAI') > -1)\n",
    "tt_tds = tt_tds_all[sel_elai] #tt_tds_all #\n",
    "tt_tds['RAJ2000'].name = 'ra'\n",
    "tt_tds['DEJ2000'].name = 'dec'\n",
    "\n",
    "#Match VASCA-TDS\n",
    "pos_tds = SkyCoord(ra=tt_tds[\"ra\"], dec=tt_tds[\"dec\"], unit=\"deg\", frame=\"icrs\")\n",
    "pos_vasca = SkyCoord(ra=tt_vasca[\"ra\"], dec=tt_vasca[\"dec\"], unit=\"deg\", frame=\"icrs\")\n",
    "\n",
    "match_dist = 10 * uu.arcsec\n",
    "idx_tds, dist_tds, _ = pos_vasca.match_to_catalog_sky(pos_tds)\n",
    "tt_vasca[\"tds_recno\"]=tt_tds[idx_tds][\"recno\"]\n",
    "tt_vasca[\"tds_idx\"]=idx_tds\n",
    "tt_vasca[\"tds_dist\"]=dist_tds.to(\"arcsec\")\n",
    "tt_vasca[\"tds_match\"] = tt_vasca[\"tds_dist\"] < match_dist\n",
    "\n",
    "idx_vasca, dist_vasca, _ = pos_tds.match_to_catalog_sky(pos_vasca)\n",
    "tt_tds[\"rg_src_id\"]=tt_vasca[idx_vasca][\"rg_src_id\"]\n",
    "tt_tds[\"vasca_idx\"]=idx_vasca\n",
    "tt_tds[\"vasca_dist\"]=dist_vasca.to(\"arcsec\")\n",
    "tt_tds[\"vasca_match\"] = tt_tds[\"vasca_dist\"] < match_dist\n",
    "\n",
    "display(tt_vasca[:2])\n",
    "display(tt_tds[:2])"
   ]
  },
  {
   "cell_type": "code",
   "execution_count": 4,
   "id": "6e327be7-34f3-453c-b395-e59c4cb32507",
   "metadata": {
    "scrolled": true,
    "tags": []
   },
   "outputs": [
    {
     "name": "stdout",
     "output_type": "stream",
     "text": [
      "Nr. sources VASCA/TDS : 594 / 160\n",
      "Nr. associated sources VASCA/TDS: 81 / 82\n",
      "Fraction of associated VASCA/TDS sources: 0.13636363636363635 / 0.5125\n",
      "Total Nr of TDS sources from MOS15: 26\n"
     ]
    },
    {
     "data": {
      "text/html": [
       "<div><i>Table length=14</i>\n",
       "<table id=\"table140186981565824\" class=\"table-striped table-bordered table-condensed\">\n",
       "<thead><tr><th>recno</th><th>ID</th><th>ra</th><th>dec</th></tr></thead>\n",
       "<thead><tr><th></th><th></th><th>deg</th><th>deg</th></tr></thead>\n",
       "<thead><tr><th>int32</th><th>bytes16</th><th>float64</th><th>float64</th></tr></thead>\n",
       "<tr><td>3</td><td>ELAISN1_MOS15-02</td><td>242.0397</td><td>54.3586</td></tr>\n",
       "<tr><td>59</td><td>ELAISN1_MOS15-10</td><td>242.3832</td><td>53.6801</td></tr>\n",
       "<tr><td>71</td><td>ELAISN1_MOS15-20</td><td>242.8292</td><td>53.7492</td></tr>\n",
       "<tr><td>127</td><td>ELAISN1_MOS15-16</td><td>242.7175</td><td>53.7547</td></tr>\n",
       "<tr><td>184</td><td>ELAISN1_MOS15-24</td><td>243.0512</td><td>54.2599</td></tr>\n",
       "<tr><td>212</td><td>ELAISN1_MOS15-11</td><td>242.4293</td><td>54.3621</td></tr>\n",
       "<tr><td>307</td><td>ELAISN1_MOS15-03</td><td>242.1960</td><td>54.0721</td></tr>\n",
       "<tr><td>390</td><td>ELAISN1_MOS15-22</td><td>242.8843</td><td>53.5921</td></tr>\n",
       "<tr><td>417</td><td>ELAISN1_MOS15-18</td><td>242.7775</td><td>53.9643</td></tr>\n",
       "<tr><td>441</td><td>ELAISN1_MOS15-13</td><td>242.4726</td><td>53.6579</td></tr>\n",
       "<tr><td>495</td><td>ELAISN1_MOS15-00</td><td>241.6487</td><td>54.3255</td></tr>\n",
       "<tr><td>873</td><td>ELAISN1_MOS15-14</td><td>242.6429</td><td>53.4919</td></tr>\n",
       "<tr><td>934</td><td>ELAISN1_MOS15-12</td><td>242.4613</td><td>53.4860</td></tr>\n",
       "<tr><td>1030</td><td>ELAISN1_MOS15-08</td><td>242.3049</td><td>53.9082</td></tr>\n",
       "</table></div>"
      ],
      "text/plain": [
       "<Table length=14>\n",
       " recno          ID           ra      dec   \n",
       "                            deg      deg   \n",
       " int32       bytes16      float64  float64 \n",
       "-------- ---------------- -------- --------\n",
       "       3 ELAISN1_MOS15-02 242.0397  54.3586\n",
       "      59 ELAISN1_MOS15-10 242.3832  53.6801\n",
       "      71 ELAISN1_MOS15-20 242.8292  53.7492\n",
       "     127 ELAISN1_MOS15-16 242.7175  53.7547\n",
       "     184 ELAISN1_MOS15-24 243.0512  54.2599\n",
       "     212 ELAISN1_MOS15-11 242.4293  54.3621\n",
       "     307 ELAISN1_MOS15-03 242.1960  54.0721\n",
       "     390 ELAISN1_MOS15-22 242.8843  53.5921\n",
       "     417 ELAISN1_MOS15-18 242.7775  53.9643\n",
       "     441 ELAISN1_MOS15-13 242.4726  53.6579\n",
       "     495 ELAISN1_MOS15-00 241.6487  54.3255\n",
       "     873 ELAISN1_MOS15-14 242.6429  53.4919\n",
       "     934 ELAISN1_MOS15-12 242.4613  53.4860\n",
       "    1030 ELAISN1_MOS15-08 242.3049  53.9082"
      ]
     },
     "metadata": {},
     "output_type": "display_data"
    }
   ],
   "source": [
    "sel_tmv = tt_tds[\"vasca_match\"]\n",
    "sel_vmt = tt_vasca[\"tds_match\"]\n",
    "print(\"Nr. sources VASCA/TDS :\",len(tt_vasca),\"/\",len(tt_tds))\n",
    "print(\"Nr. associated sources VASCA/TDS:\",sel_vmt.sum(),\"/\",sel_tmv.sum())\n",
    "print(\"Fraction of associated VASCA/TDS sources:\",sel_vmt.sum()/len(tt_vasca),\"/\",sel_tmv.sum()/len(tt_tds))\n",
    "\n",
    "ids_tds = tt_tds[\"ID\"].data.astype(dtype=str)\n",
    "sel_tds_mos15 = (np.char.find(ids_tds, 'MOS15') > -1)\n",
    "tt_tds_mos15 = tt_tds[sel_tds_mos15]\n",
    "print(\"Total Nr of TDS sources from MOS15:\",len(tt_tds_mos15))\n",
    "display(tt_tds_mos15[tt_tds_mos15[\"vasca_match\"]==False][\"recno\",\"ID\",\"ra\",\"dec\"])"
   ]
  },
  {
   "cell_type": "code",
   "execution_count": null,
   "id": "275db800-969e-4a69-9dff-63cd530439d5",
   "metadata": {},
   "outputs": [],
   "source": [
    "#PS_ELAISN1_MOS15 is field_id GNU2597664528044916736 (TDE PS1-10jh field)\n",
    "field_id = rg.tt_fields[\"field_id\"][0]\n",
    "fd = rg.get_field(field_id=field_id, load_method=\"FITS\", add_field=False)\n",
    "\n",
    "#from astropy.coordinates import Angle, SkyCoord\n",
    "#from regions import CircleSkyRegion\n",
    "#center = SkyCoord(243.0512, 54.2599, unit='deg')\n",
    "#radius = Angle(0.03, 'deg')\n",
    "#region = CircleSkyRegion(center, radius)\n",
    "\n",
    "fig, ax = vvis.plot_field_sky_map(fd, img_idx=-1, sky_region = fd.get_sky_region()) # \n",
    "ax = vvis.plot_sky_sources(rg.tt_sources,tt_det=rg.tt_detections, src_id=\"rg_src_id\", sky_region_wcs = (fd.get_sky_region(),fd.ref_wcs))\n",
    "\n",
    "plot_tds = {\"marker\":\"x\",\"color\":\"k\"}\n",
    "ax = vvis.plot_sky_sources(tt_tds, src_id=\"recno\",src_kwargs=plot_tds, sky_region_wcs = (fd.get_sky_region(),fd.ref_wcs))"
   ]
  },
  {
   "cell_type": "code",
   "execution_count": null,
   "id": "d0e2b450-7aaf-4ac2-a446-77b574b7b673",
   "metadata": {},
   "outputs": [],
   "source": [
    "import vasca.visualization as vvis\n",
    "_= vvis.plot_pipe_diagnostic(rg, \"tt_sources\", \"scatter\")\n",
    "_= vvis.plot_pipe_diagnostic(rg, \"tt_sources\", \"hist\")\n",
    "_= vvis.plot_pipe_diagnostic(fd, \"tt_detections\", \"hist\")\n",
    "_= vvis.plot_pipe_diagnostic(fd, \"tt_detections\", \"scatter\")"
   ]
  },
  {
   "cell_type": "code",
   "execution_count": null,
   "id": "012dde3f-813e-440f-8fc1-b2e3b0c8c7ba",
   "metadata": {},
   "outputs": [],
   "source": [
    "#rg.tt_coadd_sources[\"sel\"][:]=rg.tt_coadd_sources[\"flux\"]/rg.tt_coadd_sources[\"flux_err\"]>5\n",
    "display(rg.tt_coadd_sources)\n",
    "_ = vvis.plot_pipe_diagnostic(rg, \"tt_coadd_sources\", plot_type=\"hist\", fig_size=(16, 4))\n",
    "_ = vvis.plot_pipe_diagnostic(rg, \"tt_coadd_sources\", plot_type=\"scatter\", fig_size=(12, 4))"
   ]
  },
  {
   "cell_type": "code",
   "execution_count": null,
   "id": "b7ffc452-4cfe-44e8-9c33-97776359aa57",
   "metadata": {},
   "outputs": [],
   "source": []
  }
 ],
 "metadata": {
  "kernelspec": {
   "display_name": "Python 3 (ipykernel)",
   "language": "python",
   "name": "python3"
  },
  "language_info": {
   "codemirror_mode": {
    "name": "ipython",
    "version": 3
   },
   "file_extension": ".py",
   "mimetype": "text/x-python",
   "name": "python",
   "nbconvert_exporter": "python",
   "pygments_lexer": "ipython3",
   "version": "3.10.6"
  }
 },
 "nbformat": 4,
 "nbformat_minor": 5
}
