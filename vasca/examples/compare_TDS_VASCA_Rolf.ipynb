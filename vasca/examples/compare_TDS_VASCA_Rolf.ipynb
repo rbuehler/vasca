{
 "cells": [
  {
   "cell_type": "markdown",
   "id": "59525c5b-fe82-4037-ac36-e1cd49b9ec5f",
   "metadata": {},
   "source": [
    "# Compare Time Domain Survey and VASCA catalogs"
   ]
  },
  {
   "cell_type": "markdown",
   "id": "77effa05-cbf0-4d4e-9d4e-9910b70026db",
   "metadata": {},
   "source": [
    "### Setup main notebook options"
   ]
  },
  {
   "cell_type": "code",
   "execution_count": 1,
   "id": "39b3ad40-7c4f-4047-a27f-d17843893e93",
   "metadata": {},
   "outputs": [],
   "source": [
    "region_name = \"TDS_ELAISN1\"  #_ELAISN1\n",
    "redo_src_sel = True  # Redo source selection in dedicated cell below"
   ]
  },
  {
   "cell_type": "markdown",
   "id": "3937da23-9e0b-4c02-94be-ceb7d60f6b8a",
   "metadata": {},
   "source": [
    "### Load VASCA region"
   ]
  },
  {
   "cell_type": "code",
   "execution_count": 2,
   "id": "eeb559f1-2976-4f25-b236-35fa9e1ed538",
   "metadata": {},
   "outputs": [
    {
     "ename": "ModuleNotFoundError",
     "evalue": "No module named 'jdaviz'",
     "output_type": "error",
     "traceback": [
      "\u001b[0;31m---------------------------------------------------------------------------\u001b[0m",
      "\u001b[0;31mModuleNotFoundError\u001b[0m                       Traceback (most recent call last)",
      "\u001b[0;32m/tmp/ipykernel_8573/3581293793.py\u001b[0m in \u001b[0;36m<cell line: 7>\u001b[0;34m()\u001b[0m\n\u001b[1;32m      5\u001b[0m \u001b[0;32mimport\u001b[0m \u001b[0mnumpy\u001b[0m \u001b[0;32mas\u001b[0m \u001b[0mnp\u001b[0m\u001b[0;34m\u001b[0m\u001b[0;34m\u001b[0m\u001b[0m\n\u001b[1;32m      6\u001b[0m \u001b[0;34m\u001b[0m\u001b[0m\n\u001b[0;32m----> 7\u001b[0;31m \u001b[0;32mfrom\u001b[0m \u001b[0mjdaviz\u001b[0m \u001b[0;32mimport\u001b[0m \u001b[0mImviz\u001b[0m\u001b[0;34m\u001b[0m\u001b[0;34m\u001b[0m\u001b[0m\n\u001b[0m\u001b[1;32m      8\u001b[0m \u001b[0;32mfrom\u001b[0m \u001b[0mastropy\u001b[0m\u001b[0;34m.\u001b[0m\u001b[0mcoordinates\u001b[0m \u001b[0;32mimport\u001b[0m \u001b[0mSkyCoord\u001b[0m\u001b[0;34m,\u001b[0m \u001b[0mmatch_coordinates_sky\u001b[0m\u001b[0;34m\u001b[0m\u001b[0;34m\u001b[0m\u001b[0m\n\u001b[1;32m      9\u001b[0m \u001b[0;32mfrom\u001b[0m \u001b[0mastropy\u001b[0m \u001b[0;32mimport\u001b[0m \u001b[0munits\u001b[0m \u001b[0;32mas\u001b[0m \u001b[0muu\u001b[0m\u001b[0;34m\u001b[0m\u001b[0;34m\u001b[0m\u001b[0m\n",
      "\u001b[0;31mModuleNotFoundError\u001b[0m: No module named 'jdaviz'"
     ]
    }
   ],
   "source": [
    "# General path setup and library loading\n",
    "%matplotlib widget\n",
    "import matplotlib.pyplot as plt\n",
    "from scipy.stats import chi2\n",
    "import numpy as np\n",
    "\n",
    "from astropy.coordinates import SkyCoord, match_coordinates_sky\n",
    "from astropy import units as uu\n",
    "from astropy.table import Table\n",
    "from astropy.io import fits\n",
    "\n",
    "from loguru import logger\n",
    "\n",
    "from vasca.region import Region\n",
    "from vasca.field import BaseField\n",
    "from vasca.utils import sel_sources\n",
    "import vasca.visualization as vvis\n",
    "\n",
    "#Load region\n",
    "region_fname = \"./vasca_pipeline/\"+region_name+\"/region_\"+region_name+\".fits\"\n",
    "rg = Region()\n",
    "rg.load_from_fits(region_fname)\n",
    "display(rg.tt_fields)\n",
    "\n",
    "#Apply source selections\n",
    "sel_vasca =  sel_sources(rg.tt_sources)\n",
    "if redo_src_sel:\n",
    "    rg.tt_sources[\"sel\"][:]=sel_vasca   \n",
    "else:\n",
    "    sel_vasca = rg.tt_sources[\"sel\"]\n",
    "tt_vasca = rg.tt_sources[sel_vasca]"
   ]
  },
  {
   "cell_type": "markdown",
   "id": "e432b571-6e7b-4761-ba21-e4be51705742",
   "metadata": {},
   "source": [
    "### Get TDS & VASCA data and match them positionally"
   ]
  },
  {
   "cell_type": "code",
   "execution_count": null,
   "id": "7cd24d9c-df6b-4e07-bb83-f22075473823",
   "metadata": {},
   "outputs": [],
   "source": [
    "print(f\"Selected {len(tt_vasca)} out of {len(rg.tt_sources)} sources\")\n",
    "\n",
    "#Read TDS\n",
    "tt_tds_all = Table.read(\"./ressources/TDS-ApJ_766_60/table4.fit\", hdu=\"J_ApJ_766_60_table4\")\n",
    "ids = tt_tds_all[\"ID\"].data.astype(dtype=str)\n",
    "sel_elai = (np.char.find(ids, 'ELAI') > -1)\n",
    "tt_tds = tt_tds_all\n",
    "if \"ELAISN1\" in region_fname:    # restrict t ELAISN1 fields?\n",
    "    tt_tds = tt_tds_all[sel_elai]\n",
    "tt_tds['RAJ2000'].name = 'ra'\n",
    "tt_tds['DEJ2000'].name = 'dec'\n",
    "\n",
    "#Match VASCA-TDS\n",
    "pos_tds = SkyCoord(ra=tt_tds[\"ra\"], dec=tt_tds[\"dec\"], unit=\"deg\", frame=\"icrs\")\n",
    "pos_vasca = SkyCoord(ra=tt_vasca[\"ra\"], dec=tt_vasca[\"dec\"], unit=\"deg\", frame=\"icrs\")\n",
    "\n",
    "match_dist = 10 * uu.arcsec\n",
    "idx_tds, dist_tds, _ = pos_vasca.match_to_catalog_sky(pos_tds)\n",
    "tt_vasca[\"tds_recno\"]=tt_tds[idx_tds][\"recno\"]\n",
    "tt_vasca[\"tds_idx\"]=idx_tds\n",
    "tt_vasca[\"tds_dist\"]=dist_tds.to(\"arcsec\")\n",
    "tt_vasca[\"tds_match\"] = tt_vasca[\"tds_dist\"] < match_dist\n",
    "\n",
    "idx_vasca, dist_vasca, _ = pos_tds.match_to_catalog_sky(pos_vasca)\n",
    "tt_tds[\"rg_src_id\"]=tt_vasca[idx_vasca][\"rg_src_id\"]\n",
    "tt_tds[\"vasca_idx\"]=idx_vasca\n",
    "tt_tds[\"vasca_dist\"]=dist_vasca.to(\"arcsec\")\n",
    "tt_tds[\"vasca_match\"] = tt_tds[\"vasca_dist\"] < match_dist\n",
    "\n",
    "#display(\"Selected rg_src_ids\",tt_vasca[:][\"rg_src_id\"].data)\n",
    "#display(tt_tds[:2])\n",
    "\n",
    "sel_tmv = tt_tds[\"vasca_match\"]\n",
    "sel_vmt = tt_vasca[\"tds_match\"]\n",
    "print(\"Nr. sources VASCA/TDS :\",len(tt_vasca),\"/\",len(tt_tds))\n",
    "print(\"Nr. associated sources VASCA/TDS:\",sel_vmt.sum(),\"/\",sel_tmv.sum())\n",
    "print(\"Fraction of associated VASCA/TDS sources:\",sel_vmt.sum()/len(tt_vasca),\"/\",sel_tmv.sum()/len(tt_tds))"
   ]
  },
  {
   "cell_type": "code",
   "execution_count": null,
   "id": "275db800-969e-4a69-9dff-63cd530439d5",
   "metadata": {},
   "outputs": [],
   "source": [
    "#PS_ELAISN1_MOS15 is field_id GNU2597664528044916736 (TDE PS1-10jh field)\n",
    "field_id = rg.tt_fields[\"field_id\"][0]\n",
    "fd = rg.get_field(field_id=field_id, load_method=\"FITS\", add_field=False)\n",
    "\n",
    "fig, ax = vvis.plot_field_sky_map(fd, img_idx=-1, sky_region = fd.get_sky_region()) # \n",
    "ax = vvis.plot_sky_sources(rg.tt_sources,tt_det=rg.tt_detections, src_id=\"rg_src_id\", sky_region_wcs = (fd.get_sky_region(),fd.ref_wcs))\n",
    "\n",
    "plot_tds = {\"marker\":\"x\",\"color\":\"k\"}\n",
    "ax = vvis.plot_sky_sources(tt_tds, src_id=\"recno\",src_kwargs=plot_tds, sky_region_wcs = (fd.get_sky_region(),fd.ref_wcs))"
   ]
  },
  {
   "cell_type": "code",
   "execution_count": null,
   "id": "b7ffc452-4cfe-44e8-9c33-97776359aa57",
   "metadata": {},
   "outputs": [],
   "source": []
  }
 ],
 "metadata": {
  "kernelspec": {
   "display_name": "Python 3 (ipykernel)",
   "language": "python",
   "name": "python3"
  },
  "language_info": {
   "codemirror_mode": {
    "name": "ipython",
    "version": 3
   },
   "file_extension": ".py",
   "mimetype": "text/x-python",
   "name": "python",
   "nbconvert_exporter": "python",
   "pygments_lexer": "ipython3",
   "version": "3.10.9"
  }
 },
 "nbformat": 4,
 "nbformat_minor": 5
}
