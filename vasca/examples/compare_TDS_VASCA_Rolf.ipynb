{
 "cells": [
  {
   "cell_type": "markdown",
   "id": "59525c5b-fe82-4037-ac36-e1cd49b9ec5f",
   "metadata": {},
   "source": [
    "# Compare Time Domain Survey and VASCA catalogs"
   ]
  },
  {
   "cell_type": "markdown",
   "id": "77effa05-cbf0-4d4e-9d4e-9910b70026db",
   "metadata": {},
   "source": [
    "### Setup main notebook options"
   ]
  },
  {
   "cell_type": "code",
   "execution_count": 1,
   "id": "39b3ad40-7c4f-4047-a27f-d17843893e93",
   "metadata": {},
   "outputs": [],
   "source": [
    "region_name = \"TDS\"  #_ELAISN1\n",
    "redo_src_sel = False  # Redo source selection in dedicated cell below"
   ]
  },
  {
   "cell_type": "markdown",
   "id": "3937da23-9e0b-4c02-94be-ceb7d60f6b8a",
   "metadata": {},
   "source": [
    "### Load VASCA region"
   ]
  },
  {
   "cell_type": "code",
   "execution_count": 2,
   "id": "eeb559f1-2976-4f25-b236-35fa9e1ed538",
   "metadata": {},
   "outputs": [
    {
     "data": {
      "text/html": [
       "<div><i>Table length=2</i>\n",
       "<table id=\"table140670914621744\" class=\"table-striped table-bordered table-condensed\">\n",
       "<thead><tr><th>field_id</th><th>field_name</th><th>project</th><th>ra</th><th>dec</th><th>observatory</th><th>obs_filter</th><th>fov_diam</th><th>sel</th><th>nr_vis</th><th>time_bin_size_sum</th><th>time_start</th><th>time_stop</th><th>rg_fd_id</th></tr></thead>\n",
       "<thead><tr><th></th><th></th><th></th><th>deg</th><th>deg</th><th></th><th></th><th>deg</th><th></th><th></th><th>s</th><th>d</th><th>d</th><th></th></tr></thead>\n",
       "<thead><tr><th>bytes32</th><th>bytes32</th><th>bytes32</th><th>float64</th><th>float64</th><th>bytes22</th><th>bytes8</th><th>float32</th><th>bool</th><th>int32</th><th>float32</th><th>float64</th><th>float64</th><th>int64</th></tr></thead>\n",
       "<tr><td>GNU2592597978464124928</td><td>PS_XMMLSS_MOS00</td><td>DIS</td><td>35.578863351058885</td><td>-3.14176421214975</td><td>GALEX</td><td>NUV</td><td>1.2</td><td>True</td><td>27</td><td>40457.25</td><td>54791.262777777774</td><td>57213.3405928096</td><td>1</td></tr>\n",
       "<tr><td>GNU2592668347208302592</td><td>PS_XMMLSS_MOS01</td><td>DIS</td><td>36.49984981667359</td><td>-3.4923125504146</td><td>GALEX</td><td>NUV</td><td>1.2</td><td>True</td><td>26</td><td>38608.996</td><td>54791.33122685185</td><td>57205.55893265336</td><td>2</td></tr>\n",
       "</table></div>"
      ],
      "text/plain": [
       "<Table length=2>\n",
       "       field_id           field_name   project ...     time_stop     rg_fd_id\n",
       "                                               ...         d                 \n",
       "       bytes32             bytes32     bytes32 ...      float64       int64  \n",
       "---------------------- --------------- ------- ... ----------------- --------\n",
       "GNU2592597978464124928 PS_XMMLSS_MOS00     DIS ...  57213.3405928096        1\n",
       "GNU2592668347208302592 PS_XMMLSS_MOS01     DIS ... 57205.55893265336        2"
      ]
     },
     "metadata": {},
     "output_type": "display_data"
    },
    {
     "ename": "KeyError",
     "evalue": "'assoc_ffactor'",
     "output_type": "error",
     "traceback": [
      "\u001b[0;31m---------------------------------------------------------------------------\u001b[0m",
      "\u001b[0;31mKeyError\u001b[0m                                  Traceback (most recent call last)",
      "\u001b[0;32m/tmp/ipykernel_1282033/1865102256.py\u001b[0m in \u001b[0;36m<cell line: 26>\u001b[0;34m()\u001b[0m\n\u001b[1;32m     24\u001b[0m \u001b[0;34m\u001b[0m\u001b[0m\n\u001b[1;32m     25\u001b[0m \u001b[0;31m#Apply source selections\u001b[0m\u001b[0;34m\u001b[0m\u001b[0;34m\u001b[0m\u001b[0m\n\u001b[0;32m---> 26\u001b[0;31m \u001b[0msel_vasca\u001b[0m \u001b[0;34m=\u001b[0m  \u001b[0msel_sources\u001b[0m\u001b[0;34m(\u001b[0m\u001b[0mrg\u001b[0m\u001b[0;34m.\u001b[0m\u001b[0mtt_sources\u001b[0m\u001b[0;34m)\u001b[0m\u001b[0;34m\u001b[0m\u001b[0;34m\u001b[0m\u001b[0m\n\u001b[0m\u001b[1;32m     27\u001b[0m \u001b[0;32mif\u001b[0m \u001b[0mredo_src_sel\u001b[0m\u001b[0;34m:\u001b[0m\u001b[0;34m\u001b[0m\u001b[0;34m\u001b[0m\u001b[0m\n\u001b[1;32m     28\u001b[0m     \u001b[0mrg\u001b[0m\u001b[0;34m.\u001b[0m\u001b[0mtt_sources\u001b[0m\u001b[0;34m[\u001b[0m\u001b[0;34m\"sel\"\u001b[0m\u001b[0;34m]\u001b[0m\u001b[0;34m[\u001b[0m\u001b[0;34m:\u001b[0m\u001b[0;34m]\u001b[0m\u001b[0;34m=\u001b[0m\u001b[0msel_vasca\u001b[0m\u001b[0;34m\u001b[0m\u001b[0;34m\u001b[0m\u001b[0m\n",
      "\u001b[0;32m~/Code/vasca/vasca/utils.py\u001b[0m in \u001b[0;36msel_sources\u001b[0;34m(tt_srcs)\u001b[0m\n\u001b[1;32m    182\u001b[0m \u001b[0;34m\u001b[0m\u001b[0m\n\u001b[1;32m    183\u001b[0m     \u001b[0;31m# Coadd flux difference cut\u001b[0m\u001b[0;34m\u001b[0m\u001b[0;34m\u001b[0m\u001b[0m\n\u001b[0;32m--> 184\u001b[0;31m     \u001b[0msel_assoc_ffactor_nuv\u001b[0m \u001b[0;34m=\u001b[0m \u001b[0mtt_srcs\u001b[0m\u001b[0;34m[\u001b[0m\u001b[0;34m\"assoc_ffactor\"\u001b[0m\u001b[0;34m]\u001b[0m\u001b[0;34m[\u001b[0m\u001b[0;34m:\u001b[0m\u001b[0;34m,\u001b[0m \u001b[0;36m0\u001b[0m\u001b[0;34m]\u001b[0m \u001b[0;34m>\u001b[0m \u001b[0;36m1.5\u001b[0m\u001b[0;34m\u001b[0m\u001b[0;34m\u001b[0m\u001b[0m\n\u001b[0m\u001b[1;32m    185\u001b[0m     \u001b[0msel_assoc_fdiff_s2n_nuv\u001b[0m \u001b[0;34m=\u001b[0m \u001b[0mtt_srcs\u001b[0m\u001b[0;34m[\u001b[0m\u001b[0;34m\"assoc_fdiff_s2n\"\u001b[0m\u001b[0;34m]\u001b[0m\u001b[0;34m[\u001b[0m\u001b[0;34m:\u001b[0m\u001b[0;34m,\u001b[0m \u001b[0;36m0\u001b[0m\u001b[0;34m]\u001b[0m \u001b[0;34m>\u001b[0m \u001b[0;36m6\u001b[0m\u001b[0;34m\u001b[0m\u001b[0;34m\u001b[0m\u001b[0m\n\u001b[1;32m    186\u001b[0m     \u001b[0msel_assoc_nr_det_nuv\u001b[0m \u001b[0;34m=\u001b[0m \u001b[0mtt_srcs\u001b[0m\u001b[0;34m[\u001b[0m\u001b[0;34m\"nr_det\"\u001b[0m\u001b[0;34m]\u001b[0m\u001b[0;34m[\u001b[0m\u001b[0;34m:\u001b[0m\u001b[0;34m,\u001b[0m \u001b[0;36m0\u001b[0m\u001b[0;34m]\u001b[0m \u001b[0;34m>\u001b[0m \u001b[0;36m0\u001b[0m\u001b[0;34m\u001b[0m\u001b[0;34m\u001b[0m\u001b[0m\n",
      "\u001b[0;32m~/mambaforge/envs/vas/lib/python3.10/site-packages/astropy/table/table.py\u001b[0m in \u001b[0;36m__getitem__\u001b[0;34m(self, item)\u001b[0m\n\u001b[1;32m   2053\u001b[0m     \u001b[0;32mdef\u001b[0m \u001b[0m__getitem__\u001b[0m\u001b[0;34m(\u001b[0m\u001b[0mself\u001b[0m\u001b[0;34m,\u001b[0m \u001b[0mitem\u001b[0m\u001b[0;34m)\u001b[0m\u001b[0;34m:\u001b[0m\u001b[0;34m\u001b[0m\u001b[0;34m\u001b[0m\u001b[0m\n\u001b[1;32m   2054\u001b[0m         \u001b[0;32mif\u001b[0m \u001b[0misinstance\u001b[0m\u001b[0;34m(\u001b[0m\u001b[0mitem\u001b[0m\u001b[0;34m,\u001b[0m \u001b[0mstr\u001b[0m\u001b[0;34m)\u001b[0m\u001b[0;34m:\u001b[0m\u001b[0;34m\u001b[0m\u001b[0;34m\u001b[0m\u001b[0m\n\u001b[0;32m-> 2055\u001b[0;31m             \u001b[0;32mreturn\u001b[0m \u001b[0mself\u001b[0m\u001b[0;34m.\u001b[0m\u001b[0mcolumns\u001b[0m\u001b[0;34m[\u001b[0m\u001b[0mitem\u001b[0m\u001b[0;34m]\u001b[0m\u001b[0;34m\u001b[0m\u001b[0;34m\u001b[0m\u001b[0m\n\u001b[0m\u001b[1;32m   2056\u001b[0m         \u001b[0;32melif\u001b[0m \u001b[0misinstance\u001b[0m\u001b[0;34m(\u001b[0m\u001b[0mitem\u001b[0m\u001b[0;34m,\u001b[0m \u001b[0;34m(\u001b[0m\u001b[0mint\u001b[0m\u001b[0;34m,\u001b[0m \u001b[0mnp\u001b[0m\u001b[0;34m.\u001b[0m\u001b[0minteger\u001b[0m\u001b[0;34m)\u001b[0m\u001b[0;34m)\u001b[0m\u001b[0;34m:\u001b[0m\u001b[0;34m\u001b[0m\u001b[0;34m\u001b[0m\u001b[0m\n\u001b[1;32m   2057\u001b[0m             \u001b[0;32mreturn\u001b[0m \u001b[0mself\u001b[0m\u001b[0;34m.\u001b[0m\u001b[0mRow\u001b[0m\u001b[0;34m(\u001b[0m\u001b[0mself\u001b[0m\u001b[0;34m,\u001b[0m \u001b[0mitem\u001b[0m\u001b[0;34m)\u001b[0m\u001b[0;34m\u001b[0m\u001b[0;34m\u001b[0m\u001b[0m\n",
      "\u001b[0;32m~/mambaforge/envs/vas/lib/python3.10/site-packages/astropy/table/table.py\u001b[0m in \u001b[0;36m__getitem__\u001b[0;34m(self, item)\u001b[0m\n\u001b[1;32m    262\u001b[0m         \"\"\"\n\u001b[1;32m    263\u001b[0m         \u001b[0;32mif\u001b[0m \u001b[0misinstance\u001b[0m\u001b[0;34m(\u001b[0m\u001b[0mitem\u001b[0m\u001b[0;34m,\u001b[0m \u001b[0mstr\u001b[0m\u001b[0;34m)\u001b[0m\u001b[0;34m:\u001b[0m\u001b[0;34m\u001b[0m\u001b[0;34m\u001b[0m\u001b[0m\n\u001b[0;32m--> 264\u001b[0;31m             \u001b[0;32mreturn\u001b[0m \u001b[0mOrderedDict\u001b[0m\u001b[0;34m.\u001b[0m\u001b[0m__getitem__\u001b[0m\u001b[0;34m(\u001b[0m\u001b[0mself\u001b[0m\u001b[0;34m,\u001b[0m \u001b[0mitem\u001b[0m\u001b[0;34m)\u001b[0m\u001b[0;34m\u001b[0m\u001b[0;34m\u001b[0m\u001b[0m\n\u001b[0m\u001b[1;32m    265\u001b[0m         \u001b[0;32melif\u001b[0m \u001b[0misinstance\u001b[0m\u001b[0;34m(\u001b[0m\u001b[0mitem\u001b[0m\u001b[0;34m,\u001b[0m \u001b[0;34m(\u001b[0m\u001b[0mint\u001b[0m\u001b[0;34m,\u001b[0m \u001b[0mnp\u001b[0m\u001b[0;34m.\u001b[0m\u001b[0minteger\u001b[0m\u001b[0;34m)\u001b[0m\u001b[0;34m)\u001b[0m\u001b[0;34m:\u001b[0m\u001b[0;34m\u001b[0m\u001b[0;34m\u001b[0m\u001b[0m\n\u001b[1;32m    266\u001b[0m             \u001b[0;32mreturn\u001b[0m \u001b[0mlist\u001b[0m\u001b[0;34m(\u001b[0m\u001b[0mself\u001b[0m\u001b[0;34m.\u001b[0m\u001b[0mvalues\u001b[0m\u001b[0;34m(\u001b[0m\u001b[0;34m)\u001b[0m\u001b[0;34m)\u001b[0m\u001b[0;34m[\u001b[0m\u001b[0mitem\u001b[0m\u001b[0;34m]\u001b[0m\u001b[0;34m\u001b[0m\u001b[0;34m\u001b[0m\u001b[0m\n",
      "\u001b[0;31mKeyError\u001b[0m: 'assoc_ffactor'"
     ]
    }
   ],
   "source": [
    "# General path setup and library loading\n",
    "%matplotlib widget\n",
    "import matplotlib.pyplot as plt\n",
    "from scipy.stats import chi2\n",
    "import numpy as np\n",
    "\n",
    "from astropy.coordinates import SkyCoord, match_coordinates_sky\n",
    "from astropy import units as uu\n",
    "from astropy.table import Table\n",
    "from astropy.io import fits\n",
    "\n",
    "from loguru import logger\n",
    "\n",
    "from vasca.region import Region\n",
    "from vasca.field import BaseField\n",
    "from vasca.utils import sel_sources\n",
    "import vasca.visualization as vvis\n",
    "\n",
    "#Load region\n",
    "region_fname = \"./vasca_pipeline/\"+region_name+\"/region_\"+region_name+\"_cat.fits\"\n",
    "rg = Region()\n",
    "rg.load_from_fits(region_fname)\n",
    "display(rg.tt_fields[:2])\n",
    "\n",
    "#Apply source selections\n",
    "if redo_src_sel:\n",
    "    sel_vasca =  sel_sources(rg.tt_sources)\n",
    "    rg.tt_sources[\"sel\"][:]=sel_vasca   \n",
    "else:\n",
    "    sel_vasca = rg.tt_sources[\"sel\"]\n",
    "tt_vasca = rg.tt_sources[sel_vasca]"
   ]
  },
  {
   "cell_type": "markdown",
   "id": "e432b571-6e7b-4761-ba21-e4be51705742",
   "metadata": {},
   "source": [
    "### Get TDS & VASCA data and match them positionally"
   ]
  },
  {
   "cell_type": "code",
   "execution_count": null,
   "id": "7cd24d9c-df6b-4e07-bb83-f22075473823",
   "metadata": {},
   "outputs": [],
   "source": [
    "print(f\"Selected {len(tt_vasca)} out of {len(rg.tt_sources)} sources\")\n",
    "\n",
    "#Read TDS\n",
    "tt_tds_all = Table.read(\"./resources/TDS-ApJ_766_60/table4.fit\", hdu=\"J_ApJ_766_60_table4\")\n",
    "ids = tt_tds_all[\"ID\"].data.astype(dtype=str)\n",
    "sel_elai = (np.char.find(ids, 'ELAI') > -1)\n",
    "tt_tds = tt_tds_all\n",
    "if \"ELAISN1\" in region_fname:    # restrict t ELAISN1 fields?\n",
    "    tt_tds = tt_tds_all[sel_elai]\n",
    "tt_tds['RAJ2000'].name = 'ra'\n",
    "tt_tds['DEJ2000'].name = 'dec'\n",
    "\n",
    "#Match VASCA-TDS\n",
    "pos_tds = SkyCoord(ra=tt_tds[\"ra\"], dec=tt_tds[\"dec\"], unit=\"deg\", frame=\"icrs\")\n",
    "pos_vasca = SkyCoord(ra=tt_vasca[\"ra\"], dec=tt_vasca[\"dec\"], unit=\"deg\", frame=\"icrs\")\n",
    "\n",
    "match_dist = 10 * uu.arcsec\n",
    "idx_tds, dist_tds, _ = pos_vasca.match_to_catalog_sky(pos_tds)\n",
    "tt_vasca[\"tds_recno\"]=tt_tds[idx_tds][\"recno\"]\n",
    "tt_vasca[\"tds_idx\"]=idx_tds\n",
    "tt_vasca[\"tds_dist\"]=dist_tds.to(\"arcsec\")\n",
    "tt_vasca[\"tds_match\"] = tt_vasca[\"tds_dist\"] < match_dist\n",
    "\n",
    "idx_vasca, dist_vasca, _ = pos_tds.match_to_catalog_sky(pos_vasca)\n",
    "tt_tds[\"rg_src_id\"]=tt_vasca[idx_vasca][\"rg_src_id\"]\n",
    "tt_tds[\"vasca_idx\"]=idx_vasca\n",
    "tt_tds[\"vasca_dist\"]=dist_vasca.to(\"arcsec\")\n",
    "tt_tds[\"vasca_match\"] = tt_tds[\"vasca_dist\"] < match_dist\n",
    "\n",
    "#display(\"Selected rg_src_ids\",tt_vasca[:][\"rg_src_id\"].data)\n",
    "#display(tt_tds[:2])\n",
    "\n",
    "sel_tmv = tt_tds[\"vasca_match\"]\n",
    "sel_vmt = tt_vasca[\"tds_match\"]\n",
    "print(\"Nr. sources VASCA/TDS :\",len(tt_vasca),\"/\",len(tt_tds))\n",
    "print(\"Nr. associated sources VASCA/TDS:\",sel_vmt.sum(),\"/\",sel_tmv.sum())\n",
    "print(\"Fraction of associated VASCA/TDS sources:\",sel_vmt.sum()/len(tt_vasca),\"/\",sel_tmv.sum()/len(tt_tds))"
   ]
  },
  {
   "cell_type": "code",
   "execution_count": null,
   "id": "275db800-969e-4a69-9dff-63cd530439d5",
   "metadata": {},
   "outputs": [],
   "source": [
    "#PS_ELAISN1_MOS15 is field_id GNU2597664528044916736 (TDE PS1-10jh field)\n",
    "field_id = rg.tt_fields[\"field_id\"][0]\n",
    "fd = rg.get_field(field_id=field_id, load_method=\"FITS\", add_field=False)\n",
    "\n",
    "fig, ax = vvis.plot_field_sky_map(fd, img_idx=-1, sky_region = fd.get_sky_region()) # \n",
    "ax = vvis.plot_sky_sources(rg.tt_sources,tt_det=rg.tt_detections, src_id=\"rg_src_id\", sky_region_wcs = (fd.get_sky_region(),fd.ref_wcs))\n",
    "\n",
    "plot_tds = {\"marker\":\"x\",\"color\":\"k\"}\n",
    "ax = vvis.plot_sky_sources(tt_tds, src_id=\"recno\",src_kwargs=plot_tds, sky_region_wcs = (fd.get_sky_region(),fd.ref_wcs))"
   ]
  },
  {
   "cell_type": "code",
   "execution_count": null,
   "id": "b7ffc452-4cfe-44e8-9c33-97776359aa57",
   "metadata": {},
   "outputs": [],
   "source": []
  }
 ],
 "metadata": {
  "kernelspec": {
   "display_name": "Python 3 (ipykernel)",
   "language": "python",
   "name": "python3"
  },
  "language_info": {
   "codemirror_mode": {
    "name": "ipython",
    "version": 3
   },
   "file_extension": ".py",
   "mimetype": "text/x-python",
   "name": "python",
   "nbconvert_exporter": "python",
   "pygments_lexer": "ipython3",
   "version": "3.10.12"
  }
 },
 "nbformat": 4,
 "nbformat_minor": 5
}
