{
 "cells": [
  {
   "cell_type": "markdown",
   "id": "3d71aec9-140a-49df-a536-10d6fa7d8898",
   "metadata": {},
   "source": [
    "# Notebook to match VASCA sources to SIMBAD database sources positionally\n",
    "Set your option in the cell bellow"
   ]
  },
  {
   "cell_type": "code",
   "execution_count": 1,
   "id": "30de25fb-4fd8-4e4f-afa3-349b41a7fbb9",
   "metadata": {},
   "outputs": [],
   "source": [
    "from astropy import units as uu\n",
    "region_name = \"WD\" #\"MDIS_10-800\" #\"TDS\" #  _ELAISN1\n",
    "region_fname = \"./vasca_pipeline/\"+region_name+\"/region_\"+region_name+\".fits\"\n",
    "region_cat_fname = \"./vasca_pipeline/\"+region_name+\"/region_\"+region_name+\"_cat.fits\"\n",
    "simbad_query = True\n",
    "query_radius = 2 * uu.arcsec\n",
    "match_radius = 1 * uu.arcsec"
   ]
  },
  {
   "cell_type": "code",
   "execution_count": 2,
   "id": "7b55f43a-7d3b-48a6-9e1c-7f438d8d1686",
   "metadata": {},
   "outputs": [
    {
     "data": {
      "text/html": [
       "<div><i>Table length=2</i>\n",
       "<table id=\"table140257006227312\" class=\"table-striped table-bordered table-condensed\">\n",
       "<thead><tr><th>fd_src_id</th><th>nr_det</th><th>ra</th><th>dec</th><th>pos_err</th><th>pos_xv</th><th>pos_var</th><th>pos_cpval</th><th>pos_rchiq</th><th>coadd_src_id</th><th>coadd_dist</th><th>obs_filter_id</th><th>sel</th><th>flux</th><th>flux_err</th><th>flux_nxv</th><th>flux_var</th><th>flux_cpval</th><th>flux_rchiq</th><th>coadd_ffactor</th><th>coadd_fdiff_s2n</th><th>rg_fd_id</th><th>rg_src_id</th><th>nr_fd_srcs</th><th>hr</th><th>hr_err</th><th>otype</th><th>main_id</th><th>otypes</th><th>z_value</th><th>distance_distance</th><th>distance_unit</th><th>distance_result</th><th>ogrp</th></tr></thead>\n",
       "<thead><tr><th></th><th></th><th>deg</th><th>deg</th><th>arcsec</th><th>arcsec2</th><th>arcsec2</th><th></th><th></th><th></th><th>arcsec</th><th></th><th></th><th>1e-06 Jy</th><th>1e-06 Jy</th><th></th><th>1e-12 Jy2</th><th></th><th></th><th></th><th></th><th></th><th></th><th></th><th></th><th></th><th></th><th></th><th></th><th></th><th></th><th></th><th>arcsec</th><th></th></tr></thead>\n",
       "<thead><tr><th>int32</th><th>int32[2]</th><th>float64</th><th>float64</th><th>float32</th><th>float32</th><th>float32</th><th>float32</th><th>float32</th><th>int64</th><th>float32</th><th>int32[2]</th><th>bool</th><th>float32[2]</th><th>float32[2]</th><th>float32[2]</th><th>float32[2]</th><th>float32[2]</th><th>float32[2]</th><th>float32[2]</th><th>float32[2]</th><th>int64</th><th>int32</th><th>int32</th><th>float32</th><th>float32</th><th>bytes32</th><th>bytes32</th><th>bytes32</th><th>float64</th><th>float64</th><th>bytes4</th><th>float32</th><th>bytes8</th></tr></thead>\n",
       "<tr><td>-1</td><td>35 .. 12</td><td>215.7578797138266</td><td>52.55472889656352</td><td>0.0969887</td><td>-0.10515972</td><td>0.3684073</td><td>0.11797173</td><td>0.7773258</td><td>2172</td><td>0.1463604</td><td>1 .. 2</td><td>True</td><td>13.552042 .. 5.0590057</td><td>0.13476102 .. 0.2489886</td><td>0.14390667 .. 0.36439636</td><td>27.175077 .. 10.378859</td><td>0.0 .. 1.5987431e-26</td><td>44.26484 .. 13.622811</td><td>1.0377978 .. 2.0168262</td><td>2.425407 .. 8.54835</td><td>-1</td><td>31</td><td>6</td><td>0.36955848</td><td>0.019991705</td><td>QSO</td><td>[CBH2010] 215.757919+52.554806</td><td>AGN|QSO|QSO|QSO|AGN|*|G|Opt</td><td>0.8450000</td><td>--</td><td>--</td><td>0.4717</td><td>AGN</td></tr>\n",
       "<tr><td>-1</td><td>170 .. 46</td><td>215.57187273530468</td><td>53.03654526099138</td><td>0.04660307</td><td>-0.065545194</td><td>0.43132085</td><td>0.0005818189</td><td>0.840598</td><td>130</td><td>0.15241942</td><td>1 .. 2</td><td>True</td><td>13.527031 .. 3.8372507</td><td>0.060915094 .. 0.10942257</td><td>0.009331437 .. -0.009241477</td><td>2.4011583 .. 0.47210523</td><td>0.0 .. 0.7785344</td><td>3.8307788 .. 0.83346456</td><td>0.93223375 .. 1.0991906</td><td>-9.676658 .. 2.713656</td><td>-1</td><td>67</td><td>6</td><td>0.28451157</td><td>0.0096034</td><td>QSO</td><td>SDSS J142217.19+530211.2</td><td>AGN|QSO|QSO|QSO|QSO|AGN|*|G|Opt</td><td>0.8960000</td><td>--</td><td>--</td><td>0.6783</td><td>AGN</td></tr>\n",
       "</table></div>"
      ],
      "text/plain": [
       "<Table length=2>\n",
       "fd_src_id   nr_det          ra         ... distance_unit distance_result  ogrp \n",
       "                           deg         ...                    arcsec           \n",
       "  int32    int32[2]      float64       ...     bytes4        float32     bytes8\n",
       "--------- --------- ------------------ ... ------------- --------------- ------\n",
       "       -1  35 .. 12  215.7578797138266 ...            --          0.4717    AGN\n",
       "       -1 170 .. 46 215.57187273530468 ...            --          0.6783    AGN"
      ]
     },
     "metadata": {},
     "output_type": "display_data"
    }
   ],
   "source": [
    "%matplotlib widget\n",
    "import ipywidgets as widgets\n",
    "from IPython.display import display\n",
    "import matplotlib.pyplot as plt\n",
    "from regions import CircleSkyRegion\n",
    "from astropy.coordinates import SkyCoord\n",
    "from astropy.wcs.utils import pixel_to_skycoord\n",
    "from astropy.table import unique, Table, hstack, join, setdiff\n",
    "import numpy as np\n",
    "from vasca.region import Region\n",
    "from vasca.field import BaseField\n",
    "import vasca.visualization as vvis\n",
    "from vasca.tables import TableCollection, dd_vasca_columns\n",
    "from vasca.utils import otype2ogroup,dd_ogrp2otypes, dd_ogrp2col, get_col_cycler\n",
    "from astroquery.simbad import Simbad\n",
    "from itertools import cycle\n",
    "import warnings\n",
    "from astropy.utils.exceptions import AstropyWarning\n",
    "warnings.simplefilter('ignore', category=AstropyWarning)\n",
    "import numpy.ma as ma\n",
    "#import matplotlib as mpl\n",
    "from cycler import cycler\n",
    "\n",
    "#prepare file names\n",
    "\n",
    "#assocs_fname = \"./vasca_pipeline/\"+region_name+\"/assocs_\"+region_name+\".fits\"\n",
    "\n",
    "# Get region and source coordinates\n",
    "rg = Region()\n",
    "rg.load_from_fits(region_fname)\n",
    "\n",
    "#Create catalog file\n",
    "rc = rg.get_region_catalog()\n",
    "rc.write_to_fits(region_cat_fname)\n",
    "\n",
    "#rc.set_hardness_ratio()\n",
    "sel_src = rc.tt_sources[\"sel\"]\n",
    "tt_src = rc.tt_sources[sel_src]\n",
    "display(tt_src[0:2])\n",
    "\n",
    "# Add object group ID\n",
    "def add_ogrp(tc,tt_name):\n",
    "    \"Helper funtion to add ogrp:id column to tables\"\n",
    "    tt = tc.__dict__[tt_name]\n",
    "    tc.add_column(tt_name,\"ogrp\")\n",
    "    has_mask = ma.is_masked(tt[\"otype\"].data)\n",
    "    for ii in range(len(tt)):\n",
    "        if has_mask and tt[\"otype\"].mask[ii]:\n",
    "            tt[\"otype\"][ii]=\"none\"\n",
    "            tt[\"otype\"].mask[ii] = False\n",
    "        tt[\"ogrp\"][ii] = otype2ogroup(tt[\"otype\"][ii])"
   ]
  },
  {
   "cell_type": "markdown",
   "id": "c2b42832-3293-4967-a557-138ce55a8dcc",
   "metadata": {},
   "source": [
    "### Query the SIMBAD data or read from file"
   ]
  },
  {
   "cell_type": "code",
   "execution_count": 3,
   "id": "2123a104-4145-44c6-b296-83a61bcef9c3",
   "metadata": {},
   "outputs": [
    {
     "name": "stdout",
     "output_type": "stream",
     "text": [
      "Query to SIMBAD ...\n"
     ]
    },
    {
     "data": {
      "text/html": [
       "<div><i>Table length=2</i>\n",
       "<table id=\"table140256579698016\" class=\"table-striped table-bordered table-condensed\">\n",
       "<thead><tr><th>main_id</th><th>ra</th><th>dec</th><th>ra_prec</th><th>dec_prec</th><th>coo_err_maja</th><th>coo_err_mina</th><th>coo_err_angle</th><th>coo_qual</th><th>coo_wavelength</th><th>coo_bibcode</th><th>otype</th><th>otypes</th><th>distance_distance</th><th>distance_q</th><th>distance_unit</th><th>distance_merr</th><th>distance_perr</th><th>distance_method</th><th>distance_bibcode</th><th>distance_result</th><th>rvz_type</th><th>rvz_radvel</th><th>rvz_error</th><th>rvz_qual</th><th>rvz_wavelength</th><th>rvz_bibcode</th><th>z_value</th><th>script_number_id</th><th>rg_src_id</th><th>match_id</th></tr></thead>\n",
       "<thead><tr><th></th><th></th><th></th><th></th><th></th><th>mas</th><th>mas</th><th>deg</th><th></th><th></th><th></th><th></th><th></th><th></th><th></th><th></th><th></th><th></th><th></th><th></th><th>arcsec</th><th></th><th>km / s</th><th>km / s</th><th></th><th></th><th></th><th></th><th></th><th></th><th></th></tr></thead>\n",
       "<thead><tr><th>bytes32</th><th>float64</th><th>float64</th><th>int16</th><th>int16</th><th>float32</th><th>float32</th><th>int16</th><th>str1</th><th>str1</th><th>bytes32</th><th>bytes32</th><th>bytes32</th><th>float64</th><th>str1</th><th>str4</th><th>float64</th><th>float64</th><th>str8</th><th>str19</th><th>float32</th><th>str1</th><th>float64</th><th>float32</th><th>str1</th><th>str1</th><th>bytes32</th><th>float64</th><th>int32</th><th>int32</th><th>int32</th></tr></thead>\n",
       "<tr><td>[CBH2010] 215.757919+52.554806</td><td>215.75777874999997</td><td>52.55461277777778</td><td>14</td><td>14</td><td>0.599</td><td>0.557</td><td>90</td><td>A</td><td>O</td><td>2020yCat.1350....0G</td><td>QSO</td><td>AGN|QSO|QSO|QSO|AGN|*|G|Opt</td><td>--</td><td></td><td></td><td>--</td><td>--</td><td></td><td></td><td>0.4717</td><td>z</td><td>0.845</td><td>--</td><td>D</td><td>O</td><td>2018A&amp;A...613A..51P</td><td>0.8450000</td><td>1</td><td>31</td><td>0</td></tr>\n",
       "<tr><td>SDSS J142217.19+530211.2</td><td>215.57162375</td><td>53.036430555555555</td><td>14</td><td>14</td><td>0.423</td><td>0.428</td><td>90</td><td>A</td><td>O</td><td>2020yCat.1350....0G</td><td>QSO</td><td>AGN|QSO|QSO|QSO|QSO|AGN|*|G|Opt</td><td>--</td><td></td><td></td><td>--</td><td>--</td><td></td><td></td><td>0.6783</td><td>z</td><td>0.896</td><td>--</td><td>D</td><td>O</td><td>2018A&amp;A...613A..51P</td><td>0.8960000</td><td>2</td><td>67</td><td>1</td></tr>\n",
       "</table></div>"
      ],
      "text/plain": [
       "<Table length=2>\n",
       "           main_id                     ra         ... rg_src_id match_id\n",
       "                                                  ...                   \n",
       "           bytes32                  float64       ...   int32    int32  \n",
       "------------------------------ ------------------ ... --------- --------\n",
       "[CBH2010] 215.757919+52.554806 215.75777874999997 ...        31        0\n",
       "      SDSS J142217.19+530211.2       215.57162375 ...        67        1"
      ]
     },
     "metadata": {},
     "output_type": "display_data"
    }
   ],
   "source": [
    "# Get matches\n",
    "#mt = TableCollection()\n",
    "if simbad_query:\n",
    "    print(\"Query to SIMBAD ...\")\n",
    "    # Run query\n",
    "    src_coord = SkyCoord(tt_src[\"ra\"].quantity,tt_src[\"dec\"].quantity,frame='icrs')\n",
    "    customSimbad = Simbad()\n",
    "    customSimbad.TIMEOUT = 180\n",
    "    vo_entries = [\"otype(opt)\",\"otypes\", 'distance', \"distance_result\",\"velocity\",\"z_value\"]   # ,\"propermotions\"\n",
    "    customSimbad.add_votable_fields(*vo_entries)\n",
    "    tt_simbad = customSimbad.query_region(src_coord,radius=query_radius)\n",
    "    \n",
    "    # Change type to be handabel by astropy\n",
    "    vo_change_type = [\"MAIN_ID\",\"COO_BIBCODE\",\"OTYPE_opt\",\"OTYPES\", \"RVZ_BIBCODE\"]  # \"PM_BIBCODE\"\n",
    "    for vo in vo_change_type:\n",
    "        tt_simbad[vo] = tt_simbad[vo].data.astype(\"S32\")\n",
    "\n",
    "    # Write simbad and source info into matching tables\n",
    "    src_idx = tt_simbad[\"SCRIPT_NUMBER_ID\"]-1\n",
    "    tt_simbad[\"rg_src_id\"] = tt_src[src_idx][\"rg_src_id\"]\n",
    "    tt_simbad[\"match_id\"] = np.array(range(0,len(tt_simbad)), dtype= np.int32)\n",
    "\n",
    "    #Lower case column names\n",
    "    for col in tt_simbad.colnames:\n",
    "        tt_simbad.rename_column(col, col.lower())   \n",
    "\n",
    "    #Change unit to astropy format\n",
    "    skycoords = SkyCoord(tt_simbad[\"ra\"].data,tt_simbad[\"dec\"].data,frame='icrs', unit=(uu.hourangle, uu.deg))\n",
    "    tt_simbad[\"ra\"] = skycoords.ra.degree \n",
    "    tt_simbad[\"dec\"] = skycoords.dec.degree \n",
    "#    tt_simbad[\"dec\"] = tt_simbad[\"dec\"].data*uu.Unit(\"dms\").to(uu.degree)\n",
    "\n",
    "    tt_simbad.rename_column('otype_opt', 'otype')\n",
    "else:\n",
    "    tt_simbad = Table.read(region_fname, hdu=\"tt_simbad\")\n",
    "tt_simbad.sort(['rg_src_id', 'distance_result'])\n",
    "rc.add_table(tt_simbad,\"tt_simbad\")\n",
    "display(rc.tt_simbad[:2])"
   ]
  },
  {
   "cell_type": "markdown",
   "id": "687ed8dc-6549-4785-bba9-0fb79186bad4",
   "metadata": {},
   "source": [
    "### Create matching table"
   ]
  },
  {
   "cell_type": "code",
   "execution_count": 4,
   "id": "d381018f-63d8-47f4-ac5b-82770abfc896",
   "metadata": {},
   "outputs": [
    {
     "name": "stdout",
     "output_type": "stream",
     "text": [
      "Nr of sources with several possible associations within matching radius: 3 / 54 / 54 / 54\n"
     ]
    }
   ],
   "source": [
    "# Create simbad table with best match on top\n",
    "# Take the closest match\n",
    "mt_sim_cols = [\"rg_src_id\",\"otype\",\"main_id\",\"otypes\",\"z_value\",\"distance_distance\",\"distance_unit\",\"distance_result\"]\n",
    "tt_simbad_grp =  rc.tt_simbad.group_by('rg_src_id')\n",
    "mult_match = 0\n",
    "for key, tt_grp in zip(tt_simbad_grp.groups.keys, tt_simbad_grp.groups):\n",
    "    sel_dist = tt_grp[\"distance_result\"]< match_radius\n",
    "    if sel_dist.sum()>1:\n",
    "        mult_match += 1\n",
    "print(f\"Nr of sources with several possible associations within matching radius: {mult_match} / {len(tt_simbad_grp.groups.keys)} / {len(tt_src)} / {len(rc.tt_sources)}\")\n",
    "tu_simbad = unique(tt_simbad_grp, keys=\"rg_src_id\")"
   ]
  },
  {
   "cell_type": "code",
   "execution_count": 5,
   "id": "382b05cf-a19d-425b-ae3c-37e45ca2ced4",
   "metadata": {},
   "outputs": [
    {
     "data": {
      "text/html": [
       "<div><i>Table length=54</i>\n",
       "<table id=\"table140256579687456\" class=\"table-striped table-bordered table-condensed\">\n",
       "<thead><tr><th>fd_src_id</th><th>nr_det</th><th>ra</th><th>dec</th><th>pos_err</th><th>pos_xv</th><th>pos_var</th><th>pos_cpval</th><th>pos_rchiq</th><th>coadd_src_id</th><th>coadd_dist</th><th>obs_filter_id</th><th>sel</th><th>flux</th><th>flux_err</th><th>flux_nxv</th><th>flux_var</th><th>flux_cpval</th><th>flux_rchiq</th><th>coadd_ffactor</th><th>coadd_fdiff_s2n</th><th>rg_fd_id</th><th>rg_src_id</th><th>nr_fd_srcs</th><th>hr</th><th>hr_err</th><th>otype_1</th><th>main_id_1</th><th>otypes_1</th><th>z_value_1</th><th>distance_distance_1</th><th>distance_unit_1</th><th>distance_result_1</th><th>ogrp</th><th>otype_2</th><th>main_id_2</th><th>otypes_2</th><th>z_value_2</th><th>distance_distance_2</th><th>distance_unit_2</th><th>distance_result_2</th></tr></thead>\n",
       "<thead><tr><th></th><th></th><th>deg</th><th>deg</th><th>arcsec</th><th>arcsec2</th><th>arcsec2</th><th></th><th></th><th></th><th>arcsec</th><th></th><th></th><th>1e-06 Jy</th><th>1e-06 Jy</th><th></th><th>1e-12 Jy2</th><th></th><th></th><th></th><th></th><th></th><th></th><th></th><th></th><th></th><th></th><th></th><th></th><th></th><th></th><th></th><th>arcsec</th><th></th><th></th><th></th><th></th><th></th><th></th><th></th><th>arcsec</th></tr></thead>\n",
       "<thead><tr><th>int32</th><th>int32[2]</th><th>float64</th><th>float64</th><th>float32</th><th>float32</th><th>float32</th><th>float32</th><th>float32</th><th>int64</th><th>float32</th><th>int32[2]</th><th>bool</th><th>float32[2]</th><th>float32[2]</th><th>float32[2]</th><th>float32[2]</th><th>float32[2]</th><th>float32[2]</th><th>float32[2]</th><th>float32[2]</th><th>int64</th><th>int32</th><th>int32</th><th>float32</th><th>float32</th><th>bytes32</th><th>bytes32</th><th>bytes32</th><th>float64</th><th>float64</th><th>bytes4</th><th>float32</th><th>bytes8</th><th>bytes32</th><th>bytes32</th><th>bytes32</th><th>float64</th><th>float64</th><th>str4</th><th>float32</th></tr></thead>\n",
       "<tr><td>-1</td><td>35 .. 12</td><td>215.7578797138266</td><td>52.55472889656352</td><td>0.0969887</td><td>-0.10515972</td><td>0.3684073</td><td>0.11797173</td><td>0.7773258</td><td>2172</td><td>0.1463604</td><td>1 .. 2</td><td>True</td><td>13.552042 .. 5.0590057</td><td>0.13476102 .. 0.2489886</td><td>0.14390667 .. 0.36439636</td><td>27.175077 .. 10.378859</td><td>0.0 .. 1.5987431e-26</td><td>44.26484 .. 13.622811</td><td>1.0377978 .. 2.0168262</td><td>2.425407 .. 8.54835</td><td>-1</td><td>31</td><td>6</td><td>0.36955848</td><td>0.019991705</td><td>QSO</td><td>[CBH2010] 215.757919+52.554806</td><td>AGN|QSO|QSO|QSO|AGN|*|G|Opt</td><td>0.8450000</td><td>--</td><td>--</td><td>0.4717</td><td>AGN</td><td>QSO</td><td>[CBH2010] 215.757919+52.554806</td><td>AGN|QSO|QSO|QSO|AGN|*|G|Opt</td><td>0.8450000</td><td>--</td><td></td><td>0.4717</td></tr>\n",
       "<tr><td>-1</td><td>170 .. 46</td><td>215.57187273530468</td><td>53.03654526099138</td><td>0.04660307</td><td>-0.065545194</td><td>0.43132085</td><td>0.0005818189</td><td>0.840598</td><td>130</td><td>0.15241942</td><td>1 .. 2</td><td>True</td><td>13.527031 .. 3.8372507</td><td>0.060915094 .. 0.10942257</td><td>0.009331437 .. -0.009241477</td><td>2.4011583 .. 0.47210523</td><td>0.0 .. 0.7785344</td><td>3.8307788 .. 0.83346456</td><td>0.93223375 .. 1.0991906</td><td>-9.676658 .. 2.713656</td><td>-1</td><td>67</td><td>6</td><td>0.28451157</td><td>0.0096034</td><td>QSO</td><td>SDSS J142217.19+530211.2</td><td>AGN|QSO|QSO|QSO|QSO|AGN|*|G|Opt</td><td>0.8960000</td><td>--</td><td>--</td><td>0.6783</td><td>AGN</td><td>QSO</td><td>SDSS J142217.19+530211.2</td><td>AGN|QSO|QSO|QSO|QSO|AGN|*|G|Opt</td><td>0.8960000</td><td>--</td><td></td><td>0.6783</td></tr>\n",
       "<tr><td>-1</td><td>135 .. 68</td><td>215.53824492083686</td><td>53.099799252451675</td><td>0.04330824</td><td>0.0229016</td><td>0.41452467</td><td>0.107102014</td><td>1.0326743</td><td>153</td><td>0.78585744</td><td>1 .. 2</td><td>True</td><td>35.435486 .. 14.458667</td><td>0.09978798 .. 0.15735698</td><td>0.06931123 .. 0.025061248</td><td>88.579765 .. 7.070185</td><td>0.0 .. 1.1106611e-34</td><td>56.49397 .. 4.777942</td><td>0.964786 .. 1.2339201</td><td>-9.550007 .. 15.084977</td><td>-1</td><td>77</td><td>6</td><td>0.41823706</td><td>0.0057854126</td><td>QSO</td><td>SDSS J142209.13+530559.7</td><td>QSO|AGN|QSO|QSO|QSO|QSO|AGN|*|G|</td><td>0.7550000</td><td>--</td><td>--</td><td>0.5360</td><td>AGN</td><td>QSO</td><td>SDSS J142209.13+530559.7</td><td>QSO|AGN|QSO|QSO|QSO|QSO|AGN|*|G|</td><td>0.7550000</td><td>--</td><td></td><td>0.5360</td></tr>\n",
       "<tr><td>-1</td><td>134 .. 50</td><td>215.46305329295978</td><td>52.83074383786214</td><td>0.055545524</td><td>0.059869178</td><td>0.6485116</td><td>0.00010052279</td><td>1.0778353</td><td>212</td><td>0.29788187</td><td>1 .. 2</td><td>True</td><td>7.235762 .. 5.996281</td><td>0.057358414 .. 0.1186625</td><td>0.03100316 .. 0.075938195</td><td>2.0991583 .. 3.477642</td><td>0.0 .. 3.5964955e-28</td><td>5.041884 .. 5.035403</td><td>0.7725911 .. 1.0209435</td><td>-19.032454 .. 0.86173356</td><td>-1</td><td>99</td><td>6</td><td>0.83977437</td><td>0.023141544</td><td>G</td><td>[GBM2008] D3-29</td><td>EmG|G|G|UV</td><td>0.2021000</td><td>--</td><td>--</td><td>0.5865</td><td>GAL</td><td>G</td><td>[GBM2008] D3-29</td><td>EmG|G|G|UV</td><td>0.2021000</td><td>--</td><td></td><td>0.5865</td></tr>\n",
       "<tr><td>-1</td><td>165 .. 67</td><td>215.39972991190294</td><td>52.52751602616712</td><td>0.040147517</td><td>-0.053809952</td><td>0.33037305</td><td>0.002859528</td><td>0.82504463</td><td>276</td><td>0.08342701</td><td>1 .. 2</td><td>True</td><td>28.47718 .. 25.26502</td><td>0.08504929 .. 0.19666068</td><td>0.07729933 .. 0.100803316</td><td>64.0591 .. 67.140236</td><td>0.0 .. 0.0</td><td>44.080437 .. 27.337791</td><td>0.88418365 .. 1.0701914</td><td>-28.417543 .. 7.252695</td><td>-1</td><td>116</td><td>6</td><td>0.8634102</td><td>0.009653168</td><td>Sy1</td><td>Anon J142135+5231</td><td>AGN|AGN|Sy1|QSO|QSO|QSO|QSO|QSO|</td><td>0.2490000</td><td>--</td><td>--</td><td>0.3601</td><td>AGN</td><td>Sy1</td><td>Anon J142135+5231</td><td>AGN|AGN|Sy1|QSO|QSO|QSO|QSO|QSO|</td><td>0.2490000</td><td>--</td><td></td><td>0.3601</td></tr>\n",
       "<tr><td>-1</td><td>186 .. 63</td><td>215.30131587020878</td><td>52.69649534561962</td><td>0.040555816</td><td>-0.20896253</td><td>0.21469377</td><td>0.99999255</td><td>0.4593837</td><td>402</td><td>0.044579644</td><td>1 .. 2</td><td>True</td><td>14.917577 .. 7.549154</td><td>0.062402856 .. 0.11631322</td><td>0.0924364 .. 0.16595827</td><td>21.38873 .. 10.569383</td><td>0.0 .. 0.0</td><td>26.493687 .. 9.309929</td><td>1.0146382 .. 1.029985</td><td>2.2220304 .. 1.59008</td><td>-1</td><td>152</td><td>6</td><td>0.4331649</td><td>0.008194645</td><td>QSO</td><td>SDSS J142112.29+524147.2</td><td>QSO|AGN|QSO|QSO|QSO|QSO|AGN|*|G|</td><td>0.8420000</td><td>--</td><td>--</td><td>0.3207</td><td>AGN</td><td>QSO</td><td>SDSS J142112.29+524147.2</td><td>QSO|AGN|QSO|QSO|QSO|QSO|AGN|*|G|</td><td>0.8420000</td><td>--</td><td></td><td>0.3207</td></tr>\n",
       "<tr><td>...</td><td>...</td><td>...</td><td>...</td><td>...</td><td>...</td><td>...</td><td>...</td><td>...</td><td>...</td><td>...</td><td>...</td><td>...</td><td>...</td><td>...</td><td>...</td><td>...</td><td>...</td><td>...</td><td>...</td><td>...</td><td>...</td><td>...</td><td>...</td><td>...</td><td>...</td><td>...</td><td>...</td><td>...</td><td>...</td><td>...</td><td>...</td><td>...</td><td>...</td><td>...</td><td>...</td><td>...</td><td>...</td><td>...</td><td>...</td><td>...</td></tr>\n",
       "<tr><td>-1</td><td>14 .. 3</td><td>216.03806613710273</td><td>52.43481891410391</td><td>0.16184889</td><td>-0.103912584</td><td>0.35224387</td><td>0.47642693</td><td>0.7666703</td><td>9622</td><td>0.17524867</td><td>1 .. 2</td><td>True</td><td>12.116006 .. 7.0158415</td><td>0.19882828 .. 0.68265414</td><td>0.023454871 .. -0.016885914</td><td>4.0331426 .. 0.57663035</td><td>1.2118243e-15 .. 0.67714465</td><td>7.746438 .. 0.3898704</td><td>0.8910987 .. 1.1723864</td><td>-5.1239457 .. 1.2161173</td><td>-1</td><td>2175</td><td>2</td><td>0.5443833</td><td>0.056291223</td><td>Sy1</td><td>SDSS J142409.14+522604.7</td><td>QSO|Sy1|QSO|QSO|QSO|*|Opt|Rad</td><td>0.7460000</td><td>--</td><td>--</td><td>0.6182</td><td>AGN</td><td>Sy1</td><td>SDSS J142409.14+522604.7</td><td>QSO|Sy1|QSO|QSO|QSO|*|Opt|Rad</td><td>0.7460000</td><td>--</td><td></td><td>0.6182</td></tr>\n",
       "<tr><td>-1</td><td>17 .. 1</td><td>215.95711632933984</td><td>52.651096832711225</td><td>0.15727417</td><td>-0.026685502</td><td>0.43187597</td><td>0.13456827</td><td>0.9661707</td><td>9670</td><td>0.0595044</td><td>1 .. 2</td><td>True</td><td>11.79949 .. 4.2189994</td><td>0.17968705 .. 0.91419524</td><td>0.042522337 .. -100.0</td><td>6.4971223 .. -100.0</td><td>3.72342e-40 .. -1.0</td><td>14.446866 .. -1.0</td><td>0.99160564 .. 1.543454</td><td>-0.38295558 .. 1.5063334</td><td>-1</td><td>2191</td><td>2</td><td>0.3017669</td><td>0.06785567</td><td>QSO</td><td>SDSS J142349.72+523903.6</td><td>QSO|QSO|QSO|QSO|AGN|*|Opt|Rad</td><td>0.9210000</td><td>--</td><td>--</td><td>0.4317</td><td>AGN</td><td>QSO</td><td>SDSS J142349.72+523903.6</td><td>QSO|QSO|QSO|QSO|AGN|*|Opt|Rad</td><td>0.9210000</td><td>--</td><td></td><td>0.4317</td></tr>\n",
       "<tr><td>-1</td><td>13 .. 4</td><td>215.84640793499568</td><td>52.958813770165875</td><td>0.16425167</td><td>-0.19969732</td><td>0.2679814</td><td>0.836493</td><td>0.5536392</td><td>9791</td><td>0.041889254</td><td>1 .. 2</td><td>True</td><td>13.290009 .. 7.6895995</td><td>0.22335245 .. 0.5039264</td><td>0.074444495 .. 0.017636562</td><td>13.855796 .. 2.072502</td><td>1.15103e-40 .. 0.089373745</td><td>18.459623 .. 2.169111</td><td>0.8405863 .. 1.0744156</td><td>-7.03421 .. 0.7575873</td><td>-1</td><td>2227</td><td>2</td><td>0.36815253</td><td>0.031844173</td><td>QSO</td><td>[VV2006] J142323.1+525731</td><td>QSO|QSO|QSO|QSO|AGN|*|Opt</td><td>1.9680000</td><td>--</td><td>--</td><td>0.6494</td><td>AGN</td><td>QSO</td><td>[VV2006] J142323.1+525731</td><td>QSO|QSO|QSO|QSO|AGN|*|Opt</td><td>1.9680000</td><td>--</td><td></td><td>0.6494</td></tr>\n",
       "<tr><td>-1</td><td>194 .. -1</td><td>214.567876212931</td><td>52.4947750822241</td><td>0.048629533</td><td>-0.26893687</td><td>0.19149211</td><td>0.9999934</td><td>0.4153868</td><td>4693</td><td>0.12923843</td><td>1 .. 0</td><td>True</td><td>7.7024965 .. -1.0</td><td>0.049014524 .. -1.0</td><td>0.023200594 .. -100.0</td><td>1.892706 .. -1.0</td><td>0.0 .. -1.0</td><td>3.3166258 .. -1.0</td><td>0.97081584 .. -100.0</td><td>-2.5594335 .. -10000.0</td><td>-1</td><td>2987</td><td>2</td><td>-1.0</td><td>-1.0</td><td>QSO</td><td>[VV96] J141816.2+522940</td><td>QSO|AGN|QSO|QSO|QSO|AGN|QSO|*|G|</td><td>1.6080000</td><td>--</td><td>--</td><td>0.6606</td><td>AGN</td><td>QSO</td><td>[VV96] J141816.2+522940</td><td>QSO|AGN|QSO|QSO|QSO|AGN|QSO|*|G|</td><td>1.6080000</td><td>--</td><td></td><td>0.6606</td></tr>\n",
       "<tr><td>-1</td><td>14 .. -1</td><td>215.9748865713373</td><td>53.12312663993072</td><td>0.19249167</td><td>-0.17847767</td><td>0.34475228</td><td>0.3679622</td><td>0.6988455</td><td>9661</td><td>0.28881595</td><td>1 .. 0</td><td>True</td><td>5.4289484 .. -1.0</td><td>0.16167718 .. -1.0</td><td>0.06640753 .. -100.0</td><td>2.3494735 .. -1.0</td><td>2.9343965e-11 .. -1.0</td><td>5.9797406 .. -1.0</td><td>0.8567624 .. -100.0</td><td>-3.5996804 .. -10000.0</td><td>-1</td><td>3715</td><td>1</td><td>-1.0</td><td>-1.0</td><td>Sy1</td><td>SDSS J142353.90+530722.8</td><td>QSO|QSO|Sy1|QSO|QSO|AGN|Opt</td><td>0.6710700</td><td>--</td><td>--</td><td>0.7775</td><td>AGN</td><td>Sy1</td><td>SDSS J142353.90+530722.8</td><td>QSO|QSO|Sy1|QSO|QSO|AGN|Opt</td><td>0.6710700</td><td>--</td><td></td><td>0.7775</td></tr>\n",
       "<tr><td>-1</td><td>49 .. -1</td><td>214.83911873942426</td><td>53.27712332902306</td><td>0.10878202</td><td>-0.19418398</td><td>0.3924284</td><td>0.5896967</td><td>0.6633775</td><td>-1</td><td>-1.0</td><td>1 .. 0</td><td>True</td><td>3.3931468 .. -1.0</td><td>0.07437141 .. -1.0</td><td>0.04269502 .. -100.0</td><td>0.7834036 .. -1.0</td><td>2.2029747e-08 .. -1.0</td><td>2.5438368 .. -1.0</td><td>-100.0 .. -100.0</td><td>-10000.0 .. -10000.0</td><td>-1</td><td>5751</td><td>1</td><td>-1.0</td><td>-1.0</td><td>QSO</td><td>SDSS J141921.35+531637.1</td><td>QSO|AGN|QSO|QSO|QSO|AGN|Opt|Rad|</td><td>1.2950000</td><td>--</td><td>--</td><td>0.5604</td><td>AGN</td><td>QSO</td><td>SDSS J141921.35+531637.1</td><td>QSO|AGN|QSO|QSO|QSO|AGN|Opt|Rad|</td><td>1.2950000</td><td>--</td><td></td><td>0.5604</td></tr>\n",
       "</table></div>"
      ],
      "text/plain": [
       "<Table length=54>\n",
       "fd_src_id   nr_det          ra         ... distance_unit_2 distance_result_2\n",
       "                           deg         ...                       arcsec     \n",
       "  int32    int32[2]      float64       ...       str4           float32     \n",
       "--------- --------- ------------------ ... --------------- -----------------\n",
       "       -1  35 .. 12  215.7578797138266 ...                            0.4717\n",
       "       -1 170 .. 46 215.57187273530468 ...                            0.6783\n",
       "       -1 135 .. 68 215.53824492083686 ...                            0.5360\n",
       "       -1 134 .. 50 215.46305329295978 ...                            0.5865\n",
       "       -1 165 .. 67 215.39972991190294 ...                            0.3601\n",
       "       -1 186 .. 63 215.30131587020878 ...                            0.3207\n",
       "      ...       ...                ... ...             ...               ...\n",
       "       -1   14 .. 3 216.03806613710273 ...                            0.6182\n",
       "       -1   17 .. 1 215.95711632933984 ...                            0.4317\n",
       "       -1   13 .. 4 215.84640793499568 ...                            0.6494\n",
       "       -1 194 .. -1   214.567876212931 ...                            0.6606\n",
       "       -1  14 .. -1  215.9748865713373 ...                            0.7775\n",
       "       -1  49 .. -1 214.83911873942426 ...                            0.5604"
      ]
     },
     "metadata": {},
     "output_type": "display_data"
    },
    {
     "ename": "KeyError",
     "evalue": "'distance_result'",
     "output_type": "error",
     "traceback": [
      "\u001b[0;31m---------------------------------------------------------------------------\u001b[0m",
      "\u001b[0;31mKeyError\u001b[0m                                  Traceback (most recent call last)",
      "\u001b[0;32m/tmp/ipykernel_16296/3908586535.py\u001b[0m in \u001b[0;36m<cell line: 6>\u001b[0;34m()\u001b[0m\n\u001b[1;32m      4\u001b[0m \u001b[0;34m\u001b[0m\u001b[0m\n\u001b[1;32m      5\u001b[0m \u001b[0;31m#Select only sources with countrparts within a given radius\u001b[0m\u001b[0;34m\u001b[0m\u001b[0;34m\u001b[0m\u001b[0m\n\u001b[0;32m----> 6\u001b[0;31m \u001b[0msel_query\u001b[0m \u001b[0;34m=\u001b[0m \u001b[0;34m~\u001b[0m\u001b[0mtt_match\u001b[0m\u001b[0;34m[\u001b[0m\u001b[0;34m\"distance_result\"\u001b[0m\u001b[0;34m]\u001b[0m\u001b[0;34m.\u001b[0m\u001b[0mmask\u001b[0m\u001b[0;34m\u001b[0m\u001b[0;34m\u001b[0m\u001b[0m\n\u001b[0m\u001b[1;32m      7\u001b[0m \u001b[0mtt_match\u001b[0m\u001b[0;34m[\u001b[0m\u001b[0;34m\"sel\"\u001b[0m\u001b[0;34m]\u001b[0m \u001b[0;34m=\u001b[0m \u001b[0msel_query\u001b[0m\u001b[0;34m\u001b[0m\u001b[0;34m\u001b[0m\u001b[0m\n\u001b[1;32m      8\u001b[0m \u001b[0mtt_match\u001b[0m\u001b[0;34m[\u001b[0m\u001b[0;34m\"sel\"\u001b[0m\u001b[0;34m]\u001b[0m\u001b[0;34m[\u001b[0m\u001b[0mtt_match\u001b[0m\u001b[0;34m[\u001b[0m\u001b[0;34m\"sel\"\u001b[0m\u001b[0;34m]\u001b[0m\u001b[0;34m]\u001b[0m \u001b[0;34m=\u001b[0m \u001b[0mtt_match\u001b[0m\u001b[0;34m[\u001b[0m\u001b[0;34m\"distance_result\"\u001b[0m\u001b[0;34m]\u001b[0m\u001b[0;34m[\u001b[0m\u001b[0mtt_match\u001b[0m\u001b[0;34m[\u001b[0m\u001b[0;34m\"sel\"\u001b[0m\u001b[0;34m]\u001b[0m\u001b[0;34m]\u001b[0m\u001b[0;34m<\u001b[0m \u001b[0mmatch_radius\u001b[0m\u001b[0;34m\u001b[0m\u001b[0;34m\u001b[0m\u001b[0m\n",
      "\u001b[0;32m~/mambaforge/envs/vas/lib/python3.10/site-packages/astropy/table/table.py\u001b[0m in \u001b[0;36m__getitem__\u001b[0;34m(self, item)\u001b[0m\n\u001b[1;32m   2053\u001b[0m     \u001b[0;32mdef\u001b[0m \u001b[0m__getitem__\u001b[0m\u001b[0;34m(\u001b[0m\u001b[0mself\u001b[0m\u001b[0;34m,\u001b[0m \u001b[0mitem\u001b[0m\u001b[0;34m)\u001b[0m\u001b[0;34m:\u001b[0m\u001b[0;34m\u001b[0m\u001b[0;34m\u001b[0m\u001b[0m\n\u001b[1;32m   2054\u001b[0m         \u001b[0;32mif\u001b[0m \u001b[0misinstance\u001b[0m\u001b[0;34m(\u001b[0m\u001b[0mitem\u001b[0m\u001b[0;34m,\u001b[0m \u001b[0mstr\u001b[0m\u001b[0;34m)\u001b[0m\u001b[0;34m:\u001b[0m\u001b[0;34m\u001b[0m\u001b[0;34m\u001b[0m\u001b[0m\n\u001b[0;32m-> 2055\u001b[0;31m             \u001b[0;32mreturn\u001b[0m \u001b[0mself\u001b[0m\u001b[0;34m.\u001b[0m\u001b[0mcolumns\u001b[0m\u001b[0;34m[\u001b[0m\u001b[0mitem\u001b[0m\u001b[0;34m]\u001b[0m\u001b[0;34m\u001b[0m\u001b[0;34m\u001b[0m\u001b[0m\n\u001b[0m\u001b[1;32m   2056\u001b[0m         \u001b[0;32melif\u001b[0m \u001b[0misinstance\u001b[0m\u001b[0;34m(\u001b[0m\u001b[0mitem\u001b[0m\u001b[0;34m,\u001b[0m \u001b[0;34m(\u001b[0m\u001b[0mint\u001b[0m\u001b[0;34m,\u001b[0m \u001b[0mnp\u001b[0m\u001b[0;34m.\u001b[0m\u001b[0minteger\u001b[0m\u001b[0;34m)\u001b[0m\u001b[0;34m)\u001b[0m\u001b[0;34m:\u001b[0m\u001b[0;34m\u001b[0m\u001b[0;34m\u001b[0m\u001b[0m\n\u001b[1;32m   2057\u001b[0m             \u001b[0;32mreturn\u001b[0m \u001b[0mself\u001b[0m\u001b[0;34m.\u001b[0m\u001b[0mRow\u001b[0m\u001b[0;34m(\u001b[0m\u001b[0mself\u001b[0m\u001b[0;34m,\u001b[0m \u001b[0mitem\u001b[0m\u001b[0;34m)\u001b[0m\u001b[0;34m\u001b[0m\u001b[0;34m\u001b[0m\u001b[0m\n",
      "\u001b[0;32m~/mambaforge/envs/vas/lib/python3.10/site-packages/astropy/table/table.py\u001b[0m in \u001b[0;36m__getitem__\u001b[0;34m(self, item)\u001b[0m\n\u001b[1;32m    262\u001b[0m         \"\"\"\n\u001b[1;32m    263\u001b[0m         \u001b[0;32mif\u001b[0m \u001b[0misinstance\u001b[0m\u001b[0;34m(\u001b[0m\u001b[0mitem\u001b[0m\u001b[0;34m,\u001b[0m \u001b[0mstr\u001b[0m\u001b[0;34m)\u001b[0m\u001b[0;34m:\u001b[0m\u001b[0;34m\u001b[0m\u001b[0;34m\u001b[0m\u001b[0m\n\u001b[0;32m--> 264\u001b[0;31m             \u001b[0;32mreturn\u001b[0m \u001b[0mOrderedDict\u001b[0m\u001b[0;34m.\u001b[0m\u001b[0m__getitem__\u001b[0m\u001b[0;34m(\u001b[0m\u001b[0mself\u001b[0m\u001b[0;34m,\u001b[0m \u001b[0mitem\u001b[0m\u001b[0;34m)\u001b[0m\u001b[0;34m\u001b[0m\u001b[0;34m\u001b[0m\u001b[0m\n\u001b[0m\u001b[1;32m    265\u001b[0m         \u001b[0;32melif\u001b[0m \u001b[0misinstance\u001b[0m\u001b[0;34m(\u001b[0m\u001b[0mitem\u001b[0m\u001b[0;34m,\u001b[0m \u001b[0;34m(\u001b[0m\u001b[0mint\u001b[0m\u001b[0;34m,\u001b[0m \u001b[0mnp\u001b[0m\u001b[0;34m.\u001b[0m\u001b[0minteger\u001b[0m\u001b[0;34m)\u001b[0m\u001b[0;34m)\u001b[0m\u001b[0;34m:\u001b[0m\u001b[0;34m\u001b[0m\u001b[0;34m\u001b[0m\u001b[0m\n\u001b[1;32m    266\u001b[0m             \u001b[0;32mreturn\u001b[0m \u001b[0mlist\u001b[0m\u001b[0;34m(\u001b[0m\u001b[0mself\u001b[0m\u001b[0;34m.\u001b[0m\u001b[0mvalues\u001b[0m\u001b[0;34m(\u001b[0m\u001b[0;34m)\u001b[0m\u001b[0;34m)\u001b[0m\u001b[0;34m[\u001b[0m\u001b[0mitem\u001b[0m\u001b[0;34m]\u001b[0m\u001b[0;34m\u001b[0m\u001b[0;34m\u001b[0m\u001b[0m\n",
      "\u001b[0;31mKeyError\u001b[0m: 'distance_result'"
     ]
    }
   ],
   "source": [
    "mt_vas_cols = [\"rg_src_id\",\"pos_err\",\"ra\",\"dec\",\"obs_filter_id\",\"flux\",\"flux_err\",\"flux_nxv\",\"hr\",\"hr_err\",\"nr_det\", \"sel\"]\n",
    "tt_match = join(tt_src,tu_simbad[mt_sim_cols], keys='rg_src_id',join_type='outer')\n",
    "display(tt_match)\n",
    "\n",
    "#Select only sources with countrparts within a given radius\n",
    "sel_query = ~tt_match[\"distance_result\"].mask\n",
    "tt_match[\"sel\"] = sel_query\n",
    "tt_match[\"sel\"][tt_match[\"sel\"]] = tt_match[\"distance_result\"][tt_match[\"sel\"]]< match_radius\n",
    "sel_mt = tt_match[\"sel\"]\n",
    "\n",
    "#Add tables to table collection\n",
    "rc.add_table(tt_match,\"tt_sources\")\n",
    "\n",
    "# Add object group\n",
    "add_ogrp(rc,\"tt_sources\")\n",
    "\n",
    "display(rc.tt_sources)\n"
   ]
  },
  {
   "cell_type": "code",
   "execution_count": null,
   "id": "4f1020ea-338d-4579-92cd-1645352280f6",
   "metadata": {},
   "outputs": [],
   "source": [
    "fig, axs = plt.subplots(1, 2, figsize=(14, 6))\n",
    "axs = np.array(axs).flatten()\n",
    "_ = vvis.plot_table_hist(rc.tt_sources[sel_query], \"distance_result\", ax=axs[0], logx=False, obs_filter_id=None, density= False)\n",
    "_ = vvis.plot_table_hist(rc.tt_sources[sel_query], 'pos_err', ax=axs[1], logx=False, obs_filter_id=None, density= False)"
   ]
  },
  {
   "cell_type": "markdown",
   "id": "5de9a792-515f-4184-8709-ea83935c5b8d",
   "metadata": {},
   "source": [
    "### Plot found object types"
   ]
  },
  {
   "cell_type": "code",
   "execution_count": null,
   "id": "7ff8189f-fee8-4f92-a32c-10c7a5f91510",
   "metadata": {
    "scrolled": true
   },
   "outputs": [],
   "source": [
    "fig_otypes = plt.figure(\"Source types\",figsize=(14, 7))\n",
    "fig_otypes.clf()\n",
    "\n",
    "otypes_all, otype_cts_all= np.unique(rc.tt_sources[sel_mt][\"otype\"],return_counts=True)\n",
    "dd_otype2id = dict(zip(list(otypes_all),range(len(otypes_all))))\n",
    "\n",
    "tt_mt_grp =  rc.tt_sources[sel_mt].group_by(\"ogrp\")\n",
    "for group, tt_grp in zip(tt_mt_grp.groups.keys, tt_mt_grp.groups):\n",
    "    otypes, otype_cts= np.unique(tt_grp[\"otype\"],return_counts=True)\n",
    "    otypes_id = []\n",
    "    for otype in otypes:\n",
    "        otypes_id.append(dd_otype2id[otype])\n",
    "    plt.bar( otypes_id, otype_cts, align='center', label=group[0], color = dd_ogrp2col[group[0]])\n",
    "plt.yscale('log')\n",
    "#plt.grid()\n",
    "plt.xlabel(\"Object type\")\n",
    "plt.ylabel(\"Nr of sources\")\n",
    "plt.show()\n",
    "plt.legend()\n",
    "plt.xticks(range(len(otypes_all)), otypes_all, size='small')\n",
    "\n",
    "\n",
    "tt_nodes = Table.read('./resources/SIMBAD_otypes/otypes_nodes.csv') #, format='ascii.daophot'\n",
    "ids, ids_idx, _ = np.intersect1d(tt_nodes[\"Id\"],np.array(otypes_all),return_indices=True)\n",
    "candidate = np.asarray(np.ma.masked_array(data = tt_nodes[\"Candidate\"],mask = False, fill_value = \"none\"))\n",
    "can, can_idx, _ = np.intersect1d(candidate,np.array(otypes),return_indices=True)\n",
    "all_idx = np.unique(np.append(ids_idx,can_idx))\n",
    "tt_nodes.rename_column('Id', 'otype')\n",
    "rc.add_table(tt_nodes[all_idx],\"tt_otypes\")\n",
    "add_ogrp(rc,\"tt_otypes\")\n",
    "rc.tt_otypes[\"otype\",\"Candidate\",\"Description\",\"ogrp\",\"Label\",\"Category\",\"Subcategory\"].pprint_all()#show_dtype=True #,\"Status\",\"Priority\"\n",
    "rc.write_to_fits(region_cat_fname)"
   ]
  },
  {
   "cell_type": "markdown",
   "id": "e537463f-0000-49b3-a6c0-fd39e6c1d31f",
   "metadata": {},
   "source": [
    "### Scatter plots of source variables by group"
   ]
  },
  {
   "cell_type": "code",
   "execution_count": null,
   "id": "fc416e5f-1e62-430f-a1fd-4ccd74a36c59",
   "metadata": {},
   "outputs": [],
   "source": [
    "plot_kwargs = {\"markersize\": 3.0,\"alpha\":0.6}\n",
    "fig, axs = plt.subplots(2, 4, figsize=(19, 8))\n",
    "#fig.clf()\n",
    "axs = axs.flatten()\n",
    "plt_ogrops = [[\"AGN\",\"UNK\",\"GAL\",'Star'],[\"AGN\",'WD', 'CVN', 'B*', 'PM*',\"S*\", 'Grv', 'SN',\"Env\"]]\n",
    "\n",
    "plt_flts = [1,2]\n",
    "ctr = 0\n",
    "for flt in plt_flts:\n",
    "    for ogrps in plt_ogrops:\n",
    "        #axs[ctr].cla()\n",
    "        axs[ctr].set_prop_cycle(get_col_cycler(ogrps))\n",
    "        vvis.plot_table_scatter(rc.tt_sources,\"flux_nxv\", \"flux\", ax=axs[ctr], xscale=\"log\",yscale=\"log\", obs_filter_id=flt, grp_var=\"ogrp\",grp_vals = ogrps,**plot_kwargs)\n",
    "\n",
    "        #axs[ctr+4].cla()\n",
    "        axs[ctr+4].set_prop_cycle(get_col_cycler(ogrps))\n",
    "        vvis.plot_table_scatter(rc.tt_sources,\"flux_nxv\", \"hr\", ax=axs[ctr+4], xscale=\"log\",yscale=\"log\", obs_filter_id=flt, grp_var=\"ogrp\",grp_vals = ogrps,**plot_kwargs)\n",
    "        ctr +=1\n",
    "\n",
    "_ = axs[0].legend()\n",
    "_ = axs[1].legend()\n",
    "_ = axs[2].legend()\n",
    "_ = axs[3].legend()\n",
    "#print(dd_ogrp2otypes.keys())r"
   ]
  },
  {
   "cell_type": "markdown",
   "id": "629ed7b2-65ae-4ce2-8356-f87fa06666a2",
   "metadata": {},
   "source": [
    "### Print info for selected sources"
   ]
  },
  {
   "cell_type": "code",
   "execution_count": null,
   "id": "abd8b156-4074-40cc-8edc-71223de1a691",
   "metadata": {},
   "outputs": [],
   "source": [
    "# Make selection\n",
    "sel_otype = rc.tt_sources[\"otype\"] ==  \"RR*\"# \"No*\"#\"HS?\" #\"BS*\" #\"PM*\" # # \"SN*\" #\"EB*\"\n",
    "sel_otypes = (rc.tt_sources[\"otype\"] ==  \"WD?\")  + (rc.tt_sources[\"otype\"] ==\"WD*\")\n",
    "sel_flux_nxv = rc.tt_sources[\"flux_nxv\"][:,0]>2\n",
    "sel_flux_hr = rc.tt_sources[\"hr\"]>2\n",
    "sel_src_id = rc.tt_sources[\"rg_src_id\"]==15179\n",
    "sel_srcs =  sel_otypes  #sel_src_id  #sel_flux_nxv #sel_otype # sel_flux_nxv_fuv # sel_flux_hr#\n",
    "\n",
    "#Display match and simbad table for selected sources\n",
    "display(rc.tt_sources[sel_srcs])\n",
    "\n",
    "#Print oout list of source IDs to be used for further use, e.g. in inspect_sources.ipynb\n",
    "print(\"srcs_ids = [\", end=\"\")\n",
    "for src_id in rc.tt_sources[sel_srcs][\"rg_src_id\"].data:\n",
    "    print(src_id,\",\", end=\"\")\n",
    "print(\"]\")"
   ]
  },
  {
   "cell_type": "markdown",
   "id": "6456aa79-7267-475e-abaa-c06738932028",
   "metadata": {},
   "source": [
    "Identified sources:\n",
    "1) 150.38873296492392\t1.7245661255048343; GNU2605264352416104448 PS_COSMOS_MOS26; LINEAR 21145823;RR*;Very large flux_nxv_fuv=47 and very low hr 0.026; "
   ]
  },
  {
   "cell_type": "code",
   "execution_count": null,
   "id": "ca97ec46-3578-41c4-bbfa-940d4256a903",
   "metadata": {},
   "outputs": [],
   "source": [
    "from astroquery.simbad import Simbad\n",
    "\n",
    "testSimbad = Simbad()\n",
    "\n",
    "#testSimbad.list_votable_fields()\n",
    "all_vo_fields = [\"biblio\",\"cel\",\"cl.g\",\"coo(opt)\",\"coo_bibcode\",\"coo_err_angle\",\"coo_err_maja\",\"coo_err_mina\",\"coo_qual\",\"coo_wavelength\",\"coordinates\",\"dec(opt)\",\"dec_prec\",\"diameter\",\"dim\",\"dim_angle\",\"dim_bibcode\",\"dim_incl\",\"dim_majaxis\",\"dim_minaxis\",\"dim_qual\",\"dim_wavelength\",\"dimensions\",\"distance\",\"distance_result\",\"einstein\",\"fe_h\",\"flux(filtername)\",\"flux_bibcode(filtername)\",\"flux_error(filtername)\",\"flux_name(filtername)\",\"flux_qual(filtername)\",\"flux_system(filtername)\",\"flux_unit(filtername)\",\"fluxdata(filtername)\",\"gcrv\",\"gen\",\"gj\",\"hbet\",\"hbet1\",\"hgam\",\"id(opt)\",\"ids\",\"iras\",\"irc\",\"iso\",\"iue\",\"jp11\",\"link_bibcode\",\"main_id\",\"measurements\",\"membership\",\"mesplx\",\"mespm\",\"mk\",\"morphtype\",\"mt\",\"mt_bibcode\",\"mt_qual\",\"otype\",\"otype(opt)\",\"otypes\",\"parallax\",\"plx\",\"plx_bibcode\",\"plx_error\",\"plx_prec\",\"plx_qual\",\"pm\",\"pm_bibcode\",\"pm_err_angle\",\"pm_err_maja\",\"pm_err_mina\",\"pm_qual\",\"pmdec\",\"pmdec_prec\",\"pmra\",\"pmra_prec\",\"pos\",\"posa\",\"propermotions\",\"ra(opt)\",\"ra_prec\",\"rot\",\"rv_value\",\"rvz_bibcode\",\"rvz_error\",\"rvz_qual\",\"rvz_radvel\",\"rvz_type\",\"rvz_wavelength\",\"sao\",\"sp\",\"sp_bibcode\",\"sp_nature\",\"sp_qual\",\"sptype\",\"td1\",\"typed_id\",\"ubv\",\"uvby\",\"uvby1\",\"v*\",\"velocity\",\"xmm\",\"z_value\"]\n",
    "\n",
    "#for vo_field in all_vo_fields:\n",
    "#    print(\"*\",vo_field)\n",
    "#    testSimbad.get_field_description(vo_field)"
   ]
  },
  {
   "cell_type": "code",
   "execution_count": null,
   "id": "faee6507-701e-416f-8b93-8dc8c8bbcf6c",
   "metadata": {},
   "outputs": [],
   "source": []
  }
 ],
 "metadata": {
  "kernelspec": {
   "display_name": "Python 3 (ipykernel)",
   "language": "python",
   "name": "python3"
  },
  "language_info": {
   "codemirror_mode": {
    "name": "ipython",
    "version": 3
   },
   "file_extension": ".py",
   "mimetype": "text/x-python",
   "name": "python",
   "nbconvert_exporter": "python",
   "pygments_lexer": "ipython3",
   "version": "3.10.12"
  }
 },
 "nbformat": 4,
 "nbformat_minor": 5
}
