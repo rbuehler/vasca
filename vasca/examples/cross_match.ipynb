{
 "cells": [
  {
   "cell_type": "code",
   "execution_count": 1,
   "id": "30de25fb-4fd8-4e4f-afa3-349b41a7fbb9",
   "metadata": {},
   "outputs": [],
   "source": [
    "from astropy import units as uu\n",
    "region_name = \"TDS\" # _ELAISN1\n",
    "simbad_query = False\n",
    "radius = 4 * uu.arcsec"
   ]
  },
  {
   "cell_type": "code",
   "execution_count": 2,
   "id": "7b55f43a-7d3b-48a6-9e1c-7f438d8d1686",
   "metadata": {},
   "outputs": [],
   "source": [
    "%matplotlib widget\n",
    "import ipywidgets as widgets\n",
    "from IPython.display import display\n",
    "import matplotlib.pyplot as plt\n",
    "from regions import CircleSkyRegion\n",
    "from astropy.coordinates import SkyCoord\n",
    "from astropy.wcs.utils import pixel_to_skycoord\n",
    "from astropy.table import unique, Table\n",
    "import numpy as np\n",
    "from vasca.region import Region\n",
    "from vasca.field import BaseField\n",
    "import vasca.visualization as vvis\n",
    "from vasca.tables import TableCollection\n",
    "from vasca.tables_dict import dd_vasca_columns\n",
    "from astroquery.simbad import Simbad\n",
    "import warnings\n",
    "from astropy.utils.exceptions import AstropyWarning\n",
    "warnings.simplefilter('ignore', category=AstropyWarning)\n",
    "\n",
    "#prepare file names\n",
    "region_fname = \"./vasca_pipeline/\"+region_name+\"/region_\"+region_name+\".fits\"\n",
    "simbad_fname = \"./vasca_pipeline/\"+region_name+\"/simbad_\"+region_name+\".fits\"\n"
   ]
  },
  {
   "cell_type": "code",
   "execution_count": 3,
   "id": "2123a104-4145-44c6-b296-83a61bcef9c3",
   "metadata": {},
   "outputs": [
    {
     "data": {
      "text/html": [
       "<div><i>Table length=3</i>\n",
       "<table id=\"table139888674297056\" class=\"table-striped table-bordered table-condensed\">\n",
       "<thead><tr><th>rg_src_id</th><th>ra</th><th>dec</th><th>pos_err</th><th>obs_filter_id</th><th>sel</th><th>flux</th><th>flux_err</th><th>flux_nxv</th><th>otype</th></tr></thead>\n",
       "<thead><tr><th></th><th>deg</th><th>deg</th><th>arcsec</th><th></th><th></th><th>1e-06 Jy</th><th>1e-06 Jy</th><th></th><th></th></tr></thead>\n",
       "<thead><tr><th>int32</th><th>float64</th><th>float64</th><th>float32</th><th>int32[2]</th><th>bool</th><th>float32[2]</th><th>float32[2]</th><th>float32[2]</th><th>bytes32</th></tr></thead>\n",
       "<tr><td>8</td><td>334.64049826925117</td><td>0.4526866937010489</td><td>0.09875569</td><td>1 .. 2</td><td>True</td><td>9.525185 .. 5.7065663</td><td>0.13788767 .. 0.29823554</td><td>0.036390573 .. 0.013060489</td><td>QSO</td></tr>\n",
       "<tr><td>13</td><td>334.60403128211425</td><td>0.40736589666436374</td><td>0.06406002</td><td>1 .. 2</td><td>True</td><td>70.01522 .. 3.1264899</td><td>0.19698732 .. 0.23375492</td><td>0.00093811314 .. 0.013469439</td><td>QSO</td></tr>\n",
       "<tr><td>34</td><td>334.3024804041402</td><td>-0.41734493303878567</td><td>0.10900603</td><td>1 .. 2</td><td>True</td><td>19.545855 .. 16.19892</td><td>0.19674055 .. 0.65612185</td><td>0.006314165 .. -0.0027807432</td><td>QSO</td></tr>\n",
       "</table></div>"
      ],
      "text/plain": [
       "<Table length=3>\n",
       "rg_src_id         ra         ...           flux_nxv            otype \n",
       "                 deg         ...                                     \n",
       "  int32        float64       ...          float32[2]          bytes32\n",
       "--------- ------------------ ... ---------------------------- -------\n",
       "        8 334.64049826925117 ...   0.036390573 .. 0.013060489     QSO\n",
       "       13 334.60403128211425 ... 0.00093811314 .. 0.013469439     QSO\n",
       "       34  334.3024804041402 ... 0.006314165 .. -0.0027807432     QSO"
      ]
     },
     "metadata": {},
     "output_type": "display_data"
    },
    {
     "data": {
      "text/html": [
       "<div><i>Table length=3</i>\n",
       "<table id=\"table139888674296912\" class=\"table-striped table-bordered table-condensed\">\n",
       "<thead><tr><th>MAIN_ID</th><th>RA</th><th>DEC</th><th>RA_PREC</th><th>DEC_PREC</th><th>COO_ERR_MAJA</th><th>COO_ERR_MINA</th><th>COO_ERR_ANGLE</th><th>COO_QUAL</th><th>COO_WAVELENGTH</th><th>COO_BIBCODE</th><th>OTYPE</th><th>OTYPE_opt</th><th>OTYPES</th><th>SCRIPT_NUMBER_ID</th><th>rg_src_id</th><th>match_id</th></tr></thead>\n",
       "<thead><tr><th></th><th>&quot;h:m:s&quot;</th><th>&quot;d:m:s&quot;</th><th></th><th></th><th>mas</th><th>mas</th><th>deg</th><th></th><th></th><th></th><th></th><th></th><th></th><th></th><th></th><th></th></tr></thead>\n",
       "<thead><tr><th>bytes32</th><th>bytes13</th><th>bytes13</th><th>int16</th><th>int16</th><th>float32</th><th>float32</th><th>int16</th><th>bytes1</th><th>bytes1</th><th>bytes32</th><th>bytes32</th><th>bytes32</th><th>bytes32</th><th>int32</th><th>int32</th><th>int32</th></tr></thead>\n",
       "<tr><td>SDSS J221833.73+002709.2</td><td>22 18 33.7383</td><td>+00 27 09.244</td><td>14</td><td>14</td><td>0.739</td><td>0.787</td><td>90</td><td>A</td><td>O</td><td>2020yCat.1350....0G</td><td>QSO</td><td>QSO</td><td>AGN|QSO|QSO|QSO|*|G|G|Opt</td><td>1</td><td>8</td><td>0</td></tr>\n",
       "<tr><td>2MASS J22182502+0024270</td><td>22 18 25.0423</td><td>+00 24 26.465</td><td>14</td><td>14</td><td>0.158</td><td>0.164</td><td>90</td><td>A</td><td>O</td><td>2020yCat.1350....0G</td><td>QSO</td><td>QSO</td><td>QSO|QSO|AGN|QSO|QSO|QSO|NIR|*|*|</td><td>2</td><td>13</td><td>1</td></tr>\n",
       "<tr><td>SDSS J221712.61-002502.8</td><td>22 17 12.6032</td><td>-00 25 02.818</td><td>14</td><td>14</td><td>1.843</td><td>1.024</td><td>90</td><td>A</td><td>O</td><td>2020yCat.1350....0G</td><td>QSO</td><td>QSO</td><td>QSO|AGN|QSO|QSO|AGN|*|Opt|X|X</td><td>3</td><td>34</td><td>2</td></tr>\n",
       "</table></div>"
      ],
      "text/plain": [
       "<Table length=3>\n",
       "        MAIN_ID                RA           DEC      ... rg_src_id match_id\n",
       "                            \"h:m:s\"       \"d:m:s\"    ...                   \n",
       "        bytes32             bytes13       bytes13    ...   int32    int32  \n",
       "------------------------ ------------- ------------- ... --------- --------\n",
       "SDSS J221833.73+002709.2 22 18 33.7383 +00 27 09.244 ...         8        0\n",
       " 2MASS J22182502+0024270 22 18 25.0423 +00 24 26.465 ...        13        1\n",
       "SDSS J221712.61-002502.8 22 17 12.6032 -00 25 02.818 ...        34        2"
      ]
     },
     "metadata": {},
     "output_type": "display_data"
    }
   ],
   "source": [
    "#Load region\n",
    "mt = TableCollection()\n",
    "if simbad_query:\n",
    "    # Get region and source coordinates\n",
    "    rg = Region()\n",
    "    rg.load_from_fits(region_fname)\n",
    "    sel_src = rg.tt_sources[\"sel\"]\n",
    "    tt_src = rg.tt_sources[sel_src]\n",
    "    src_coord = SkyCoord(tt_src[\"ra\"].quantity,tt_src[\"dec\"].quantity,frame='icrs')\n",
    "\n",
    "    # Run query\n",
    "    customSimbad = Simbad()\n",
    "    customSimbad.add_votable_fields('otype',\"otype(opt)\",\"otypes\")\n",
    "    tt_simbad = customSimbad.query_region(src_coord,radius=radius)\n",
    "    \n",
    "    # Change type to be handabel by astropy\n",
    "    tt_simbad[\"MAIN_ID\"] = tt_simbad[\"MAIN_ID\"].data.astype(\"S32\")\n",
    "    tt_simbad[\"COO_BIBCODE\"] = tt_simbad[\"COO_BIBCODE\"].data.astype(\"S32\")\n",
    "    tt_simbad[\"OTYPE\"] = tt_simbad[\"OTYPE\"].data.astype(\"S32\")\n",
    "    tt_simbad[\"OTYPE_opt\"] = tt_simbad[\"OTYPE_opt\"].data.astype(\"S32\")\n",
    "    tt_simbad[\"OTYPES\"] = tt_simbad[\"OTYPES\"].data.astype(\"S32\")\n",
    "\n",
    "    # Write simbad and source info into matching tables\n",
    "    src_idx = tt_simbad[\"SCRIPT_NUMBER_ID\"]-1\n",
    "    tt_simbad[\"rg_src_id\"] = tt_src[src_idx][\"rg_src_id\"]\n",
    "    tu_simbad = unique(tt_simbad, keys='SCRIPT_NUMBER_ID')\n",
    "    tu_simbad[\"match_id\"] = np.array(range(0,len(tu_simbad)), dtype= np.int32)\n",
    "    display(tu_simbad)\n",
    "    \n",
    "    tt_match = Table(tt_src[\"rg_src_id\",\"ra\",\"dec\",\"pos_err\",\"obs_filter_id\",\"sel\",\"flux\",\"flux_err\",\"flux_nxv\"])\n",
    "    #tt_match[\"otype\"] = OTYPE_opt\n",
    "    tt_match.meta[\"rad\"]=str(radius)\n",
    "\n",
    "    # Add tables to table collection and write\n",
    "    mt.add_table(tt_match,\"tt_match\")\n",
    "    mt.add_table(tu_simbad,\"tt_simbad\")\n",
    "    mt.add_table(tt_simbad,\"tt_simbad_all\")\n",
    "\n",
    "    #Copy information into tt_match table\n",
    "    otype = np.array([dd_vasca_columns[\"otype\"][\"default\"]]*len(tt_match), dtype=\"S32\")\n",
    "    mt.add_column(\"tt_match\",\"otype\",otype)\n",
    "    mt.tt_match.add_index(\"rg_src_id\")\n",
    "    mt_idx = mt.tt_match.loc_indices[\"rg_src_id\", mt.tt_simbad[\"rg_src_id\"]]\n",
    "    mt.tt_match[\"otype\"][mt_idx] = mt.tt_simbad[\"OTYPE_opt\"]\n",
    "\n",
    "    #Write collectiion\n",
    "    mt.write_to_fits(simbad_fname)\n",
    "else:\n",
    "    #Load collection\n",
    "    mt.load_from_fits(simbad_fname) \n",
    "display(mt.tt_match[:3])\n",
    "display(mt.tt_simbad[:3])"
   ]
  },
  {
   "cell_type": "code",
   "execution_count": 4,
   "id": "7ff8189f-fee8-4f92-a32c-10c7a5f91510",
   "metadata": {},
   "outputs": [
    {
     "ename": "AttributeError",
     "evalue": "'TableCollection' object has no attribute 'tt_matches'",
     "output_type": "error",
     "traceback": [
      "\u001b[0;31m---------------------------------------------------------------------------\u001b[0m",
      "\u001b[0;31mAttributeError\u001b[0m                            Traceback (most recent call last)",
      "\u001b[0;32m/tmp/ipykernel_37718/4053777481.py\u001b[0m in \u001b[0;36m<cell line: 1>\u001b[0;34m()\u001b[0m\n\u001b[0;32m----> 1\u001b[0;31m \u001b[0motypes\u001b[0m\u001b[0;34m,\u001b[0m \u001b[0motype_cts\u001b[0m\u001b[0;34m=\u001b[0m \u001b[0mnp\u001b[0m\u001b[0;34m.\u001b[0m\u001b[0munique\u001b[0m\u001b[0;34m(\u001b[0m\u001b[0mmt\u001b[0m\u001b[0;34m.\u001b[0m\u001b[0mtt_matches\u001b[0m\u001b[0;34m[\u001b[0m\u001b[0;34m\"otype\"\u001b[0m\u001b[0;34m]\u001b[0m\u001b[0;34m,\u001b[0m\u001b[0mreturn_counts\u001b[0m\u001b[0;34m=\u001b[0m\u001b[0;32mTrue\u001b[0m\u001b[0;34m)\u001b[0m\u001b[0;34m\u001b[0m\u001b[0;34m\u001b[0m\u001b[0m\n\u001b[0m\u001b[1;32m      2\u001b[0m \u001b[0mfig_otypes\u001b[0m \u001b[0;34m=\u001b[0m \u001b[0mplt\u001b[0m\u001b[0;34m.\u001b[0m\u001b[0mfigure\u001b[0m\u001b[0;34m(\u001b[0m\u001b[0;34m\"Source types\"\u001b[0m\u001b[0;34m,\u001b[0m\u001b[0mfigsize\u001b[0m\u001b[0;34m=\u001b[0m\u001b[0;34m(\u001b[0m\u001b[0;36m21\u001b[0m\u001b[0;34m,\u001b[0m \u001b[0;36m7\u001b[0m\u001b[0;34m)\u001b[0m\u001b[0;34m)\u001b[0m\u001b[0;34m\u001b[0m\u001b[0;34m\u001b[0m\u001b[0m\n\u001b[1;32m      3\u001b[0m \u001b[0mplt\u001b[0m\u001b[0;34m.\u001b[0m\u001b[0mbar\u001b[0m\u001b[0;34m(\u001b[0m \u001b[0mrange\u001b[0m\u001b[0;34m(\u001b[0m\u001b[0mlen\u001b[0m\u001b[0;34m(\u001b[0m\u001b[0motypes\u001b[0m\u001b[0;34m)\u001b[0m\u001b[0;34m)\u001b[0m\u001b[0;34m,\u001b[0m \u001b[0motype_cts\u001b[0m\u001b[0;34m,\u001b[0m \u001b[0malign\u001b[0m\u001b[0;34m=\u001b[0m\u001b[0;34m'center'\u001b[0m\u001b[0;34m)\u001b[0m\u001b[0;34m\u001b[0m\u001b[0;34m\u001b[0m\u001b[0m\n\u001b[1;32m      4\u001b[0m \u001b[0mplt\u001b[0m\u001b[0;34m.\u001b[0m\u001b[0mxticks\u001b[0m\u001b[0;34m(\u001b[0m\u001b[0mrange\u001b[0m\u001b[0;34m(\u001b[0m\u001b[0mlen\u001b[0m\u001b[0;34m(\u001b[0m\u001b[0motypes\u001b[0m\u001b[0;34m)\u001b[0m\u001b[0;34m)\u001b[0m\u001b[0;34m,\u001b[0m \u001b[0motypes\u001b[0m\u001b[0;34m,\u001b[0m \u001b[0msize\u001b[0m\u001b[0;34m=\u001b[0m\u001b[0;34m'small'\u001b[0m\u001b[0;34m)\u001b[0m\u001b[0;34m\u001b[0m\u001b[0;34m\u001b[0m\u001b[0m\n\u001b[1;32m      5\u001b[0m \u001b[0mplt\u001b[0m\u001b[0;34m.\u001b[0m\u001b[0myscale\u001b[0m\u001b[0;34m(\u001b[0m\u001b[0;34m'log'\u001b[0m\u001b[0;34m)\u001b[0m\u001b[0;34m\u001b[0m\u001b[0;34m\u001b[0m\u001b[0m\n",
      "\u001b[0;31mAttributeError\u001b[0m: 'TableCollection' object has no attribute 'tt_matches'"
     ]
    }
   ],
   "source": [
    "otypes, otype_cts= np.unique(mt.tt_match[\"otype\"],return_counts=True)\n",
    "fig_otypes = plt.figure(\"Source types\",figsize=(21, 7))\n",
    "plt.bar( range(len(otypes)), otype_cts, align='center')\n",
    "plt.xticks(range(len(otypes)), otypes, size='small')\n",
    "plt.yscale('log')\n",
    "plt.grid()\n",
    "plt.xlabel(\"otype\")\n",
    "plt.ylabel(\"Nr of sources\")\n",
    "plt.show()"
   ]
  },
  {
   "cell_type": "markdown",
   "id": "c7577884-0f66-4642-a43e-f4a33b8348b3",
   "metadata": {},
   "source": [
    "Le?     \tPossible gravitational lens    \n",
    "PM*     \tHigh proper-motion Star   \n",
    "Pu*     \tPulsating variable Star \n",
    "Q?      \tPossible Quasar  \n",
    "QSO     \tQuasar \n",
    "RG*     \tRed Giant Branch star  \n",
    "RR*     \tVariable Star of RR Lyr type \n",
    "Rad     \tRadio-source\n",
    "SB*     \tSpectroscopic binary     \n",
    "SN*     \tSuperNova\n",
    "Sy1     \tSeyfert 1 Galaxy \n",
    "SyG     \tSeyfert Galaxy\n",
    "V*      \tVariable Star  \n",
    "WD*     \tWhite Dwarf\n",
    "WD?     \tWhite Dwarf Candidate    \n",
    "X      \tX-ray source\n",
    "blu     \tBlue object \n",
    "dS*     \tVariable Star of delta Sct type  \n",
    "ev      \ttransient event \n",
    "rG      \tRadio Galaxy   "
   ]
  },
  {
   "cell_type": "code",
   "execution_count": null,
   "id": "43151353-72c5-4784-b4a6-b41c331a0a07",
   "metadata": {},
   "outputs": [],
   "source": [
    "Simbad.get_field_description('SCRIPT_NUMBER_ID')"
   ]
  },
  {
   "cell_type": "code",
   "execution_count": null,
   "id": "9179c954-ff4a-49c7-b1cf-24651a5022c3",
   "metadata": {},
   "outputs": [],
   "source": [
    "from astropy.table import Table\n",
    "import numpy as np\n",
    "tt = Table()\n",
    "tt[\"A\"]= np.array([1,2,3,4])\n",
    "idx = [0,0,1]\n",
    "print(tt[idx])"
   ]
  },
  {
   "cell_type": "code",
   "execution_count": null,
   "id": "abd8b156-4074-40cc-8edc-71223de1a691",
   "metadata": {},
   "outputs": [],
   "source": []
  }
 ],
 "metadata": {
  "kernelspec": {
   "display_name": "Python 3 (ipykernel)",
   "language": "python",
   "name": "python3"
  },
  "language_info": {
   "codemirror_mode": {
    "name": "ipython",
    "version": 3
   },
   "file_extension": ".py",
   "mimetype": "text/x-python",
   "name": "python",
   "nbconvert_exporter": "python",
   "pygments_lexer": "ipython3",
   "version": "3.10.9"
  }
 },
 "nbformat": 4,
 "nbformat_minor": 5
}
