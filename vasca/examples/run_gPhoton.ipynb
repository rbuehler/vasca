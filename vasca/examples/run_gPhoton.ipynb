{
 "cells": [
  {
   "cell_type": "markdown",
   "id": "5ba5cd42-e958-4d10-907d-70c3a71f7cb8",
   "metadata": {},
   "source": [
    "# Notebook to run gPhoton\n",
    "Run gPhoton to create GALEX light curves etc.\n",
    "Setup your source parameter and setting in the cell below."
   ]
  },
  {
   "cell_type": "code",
   "execution_count": 1,
   "id": "b319afee-6aa7-4b48-8ea4-f26a7124125c",
   "metadata": {},
   "outputs": [],
   "source": [
    "from astropy.io import ascii\n",
    "from astropy import units as uu\n",
    "\n",
    "src_str = \"\"\"label\tra\tdec\n",
    "WD900 215.3258439968967\t52.596545351520945\"\"\"\n",
    "tt_srcs = ascii.read(src_str)\n",
    "outdir = \"./resources/gPhoton_out/\"\n",
    "outfile_fin = outdir+\"gPhoton_\"+str(tt_srcs[\"label\"][0])+'_fin.npy'\n",
    "outfile_app = outdir+\"gPhoton_\"+str(tt_srcs[\"label\"][0])+'_app.npy'\n",
    "ron = (5*uu.arcsec).to(uu.deg).value        # Radius of signal annulus\n",
    "roff1 = (17*uu.arcsec).to(uu.deg).value      # Inner radius of background ring\n",
    "roff2 = (20*uu.arcsec).to(uu.deg).value      # Outer radius of background ring\n",
    "#load_past_results = False"
   ]
  },
  {
   "cell_type": "code",
   "execution_count": 2,
   "id": "1ec09f28-d01d-41d9-b548-e68915107df4",
   "metadata": {},
   "outputs": [],
   "source": [
    "%matplotlib widget\n",
    "import gPhoton\n",
    "import matplotlib.pyplot as plt\n",
    "import numpy as np\n",
    "from astropy.io import ascii\n",
    "from astropy.table import Table\n",
    "import os"
   ]
  },
  {
   "cell_type": "markdown",
   "id": "2a4559bd-0849-4f44-80a3-ea5c3ab00660",
   "metadata": {},
   "source": [
    "### Do aperture photometry for each visit with gPhoton"
   ]
  },
  {
   "cell_type": "code",
   "execution_count": 3,
   "id": "124053ac-1496-45fd-b4ad-7cf0f836e003",
   "metadata": {},
   "outputs": [
    {
     "name": "stdout",
     "output_type": "stream",
     "text": [
      "Running query with gFind for:\n",
      " label         ra               dec        \n",
      "----- ----------------- ------------------\n",
      "WD900 215.3258439968967 52.596545351520945\n",
      "Failed: https://mastcomp.stsci.edu/portal/Mashup/MashupQuery.asmx/GalexPhotonListQueryTest?query=select time from GPFCore.dbo.NUVShutterPOTimeV where time >= 794781976995 and time < 794782843995 order by time -- 1694157530&format=extjs\n"
     ]
    },
    {
     "ename": "ValueError",
     "evalue": "Query never finished on server, run with verbose turned on for more info.",
     "output_type": "error",
     "traceback": [
      "\u001b[0;31m---------------------------------------------------------------------------\u001b[0m",
      "\u001b[0;31mValueError\u001b[0m                                Traceback (most recent call last)",
      "\u001b[0;32m<timed exec>\u001b[0m in \u001b[0;36m<module>\u001b[0;34m\u001b[0m\n",
      "\u001b[0;32m~/anaconda3/envs/vas/lib/python3.10/site-packages/gPhoton/gFind.py\u001b[0m in \u001b[0;36mgfind\u001b[0;34m(band, detsize, exponly, gaper, maxgap, minexp, quiet, retries, skypos, trange, verbose, skyrange)\u001b[0m\n",
      "\u001b[0;32m~/anaconda3/envs/vas/lib/python3.10/site-packages/gPhoton/dbasetools.py\u001b[0m in \u001b[0;36mfGetTimeRanges\u001b[0;34m(band, skypos, trange, detsize, verbose, maxgap, minexp, skyrange, maxgap_override, minexp_override)\u001b[0m\n",
      "\u001b[0;32m~/anaconda3/envs/vas/lib/python3.10/site-packages/gPhoton/dbasetools.py\u001b[0m in \u001b[0;36mget_valid_times\u001b[0;34m(band, skypos, trange, detsize, verbose, skyrange)\u001b[0m\n",
      "\u001b[0;32m~/anaconda3/envs/vas/lib/python3.10/site-packages/gPhoton/gQuery.py\u001b[0m in \u001b[0;36mgetArray\u001b[0;34m(query, verbose, retries)\u001b[0m\n",
      "\u001b[0;31mValueError\u001b[0m: Query never finished on server, run with verbose turned on for more info."
     ]
    }
   ],
   "source": [
    "%%time\n",
    "pos_ra = tt_srcs[\"ra\"][0]\n",
    "pos_dec = tt_srcs[\"dec\"][0]\n",
    "\n",
    "#Run or load gFind\n",
    "if os.path.isfile(outfile_fin):\n",
    "    t_bins = np.load(outfile_fin,allow_pickle='TRUE').item()\n",
    "else:\n",
    "    print(f\"Running query with gFind for:\\n\",tt_srcs[0])\n",
    "    dd_gfind = gPhoton.gFind(band='NUV',skypos=[pos_ra,pos_dec]) #,maxgap=100.,minexp=100.\n",
    "    t_bins = list(zip(dd_gfind[\"NUV\"][\"t0\"],dd_gfind[\"NUV\"][\"t1\"]))\n",
    "    np.save(outfile_fin,dd_gfind)\n",
    "\n",
    "#Run or load gApperture\n",
    "if os.path.isfile(outfile_app):\n",
    "    dd_gph = np.load(outfile_app,allow_pickle='TRUE').item()\n",
    "else:\n",
    "    print(\"Running lightcurve with gAperture..\")\n",
    "    dd_gaperture = gPhoton.gAperture(band='NUV',skypos=[pos_ra,pos_dec],radius=ron, annulus=[roff1,roff2],tranges=t_bins)\n",
    "    dd_gph = {\"gAperture\":dd_gaperture,\"gFind\":dd_gfind}\n",
    "    np.save(outfile_app,dd_gph)\n",
    "    print(\"..done\")"
   ]
  },
  {
   "cell_type": "code",
   "execution_count": null,
   "id": "f1fd4218-6ade-47e3-982f-b9ce6cfc2034",
   "metadata": {},
   "outputs": [],
   "source": [
    "print(dd_gph[\"gAperture\"].keys())\n",
    "print(\"\\n\", dd_gph[\"gFind\"][\"NUV\"].keys())\n",
    "#print(dd_gph[\"gAperture\"]['photons'])\n",
    "keep_keys = ('t_mean', 'exptime','flux_bgsub', 'flux_bgsub_err','mag_bgsub', 'mag_bgsub_err_1', 'mag_bgsub_err_2',\"flags\")\n",
    "dd_gap = {x: dd_gph[\"gAperture\"][x] for x in keep_keys if x in dd_gph[\"gAperture\"]}\n",
    "tt_gap = Table(data= dd_gap)\n",
    "tt_gap[\"s2n\"]=dd_gap['flux_bgsub']/dd_gap['flux_bgsub_err']\n",
    "sel_gap = tt_gap[\"s2n\"]>3.5\n",
    "display(tt_gap[sel_gap])"
   ]
  },
  {
   "cell_type": "markdown",
   "id": "c15eca7a-bad4-499d-a672-23bfb75ed437",
   "metadata": {},
   "source": [
    "### Display lightcurve"
   ]
  },
  {
   "cell_type": "code",
   "execution_count": null,
   "id": "a1c9d8ed-cb6d-4b13-bc8f-a2d829fbc924",
   "metadata": {},
   "outputs": [],
   "source": [
    "fig = plt.figure(figsize=(8, 6), constrained_layout=True)\n",
    "plt.errorbar(tt_gap[sel_gap]['t_mean'],tt_gap[sel_gap]['flux_bgsub'],yerr=tt_gap[sel_gap]['flux_bgsub_err'],fmt=\"bo\")\n",
    "\n",
    "fig2 = plt.figure(figsize=(8, 6), constrained_layout=True)\n",
    "ax = plt.gca()\n",
    "ax.invert_yaxis()\n",
    "plt.errorbar(tt_gap[sel_gap]['t_mean'],tt_gap[sel_gap]['mag_bgsub'],yerr=tt_gap[sel_gap]['mag_bgsub_err_1'],fmt=\"bo\")"
   ]
  },
  {
   "cell_type": "code",
   "execution_count": null,
   "id": "0322156a-a468-4bdd-9686-9d61ec205d73",
   "metadata": {},
   "outputs": [],
   "source": []
  }
 ],
 "metadata": {
  "kernelspec": {
   "display_name": "Python 3 (ipykernel)",
   "language": "python",
   "name": "python3"
  },
  "language_info": {
   "codemirror_mode": {
    "name": "ipython",
    "version": 3
   },
   "file_extension": ".py",
   "mimetype": "text/x-python",
   "name": "python",
   "nbconvert_exporter": "python",
   "pygments_lexer": "ipython3",
   "version": "3.10.12"
  }
 },
 "nbformat": 4,
 "nbformat_minor": 5
}
