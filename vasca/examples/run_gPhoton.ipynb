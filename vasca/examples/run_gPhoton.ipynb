{
 "cells": [
  {
   "cell_type": "code",
   "execution_count": 5,
   "id": "a5626410-a9fe-45e0-91a8-666c5eae42ff",
   "metadata": {},
   "outputs": [
    {
     "name": "stdout",
     "output_type": "stream",
     "text": [
      "Help on package gPhoton:\n",
      "\n",
      "NAME\n",
      "    gPhoton\n",
      "\n",
      "PACKAGE CONTENTS\n",
      "    run_gfind\n",
      "\n",
      "FILE\n",
      "    /home/buehler/Code/vasca/vasca/examples/gPhoton/__init__.py\n",
      "\n",
      "\n"
     ]
    },
    {
     "ename": "AttributeError",
     "evalue": "module 'gPhoton' has no attribute 'gFind'",
     "output_type": "error",
     "traceback": [
      "\u001b[0;31m---------------------------------------------------------------------------\u001b[0m",
      "\u001b[0;31mAttributeError\u001b[0m                            Traceback (most recent call last)",
      "\u001b[0;32m/tmp/ipykernel_24760/54719053.py\u001b[0m in \u001b[0;36m<cell line: 6>\u001b[0;34m()\u001b[0m\n\u001b[1;32m      4\u001b[0m \u001b[0mpos_dec\u001b[0m \u001b[0;34m=\u001b[0m \u001b[0;36m53.7492\u001b[0m\u001b[0;34m\u001b[0m\u001b[0;34m\u001b[0m\u001b[0m\n\u001b[1;32m      5\u001b[0m \u001b[0;34m\u001b[0m\u001b[0m\n\u001b[0;32m----> 6\u001b[0;31m \u001b[0mgPhoton\u001b[0m\u001b[0;34m.\u001b[0m\u001b[0mgFind\u001b[0m\u001b[0;34m(\u001b[0m\u001b[0mband\u001b[0m\u001b[0;34m=\u001b[0m\u001b[0;34m'NUV'\u001b[0m\u001b[0;34m,\u001b[0m\u001b[0mskypos\u001b[0m\u001b[0;34m=\u001b[0m\u001b[0;34m[\u001b[0m\u001b[0mpos_ra\u001b[0m\u001b[0;34m,\u001b[0m\u001b[0mpos_dec\u001b[0m\u001b[0;34m]\u001b[0m\u001b[0;34m)\u001b[0m \u001b[0;31m#,maxgap=100.,minexp=100.\u001b[0m\u001b[0;34m\u001b[0m\u001b[0;34m\u001b[0m\u001b[0m\n\u001b[0m",
      "\u001b[0;31mAttributeError\u001b[0m: module 'gPhoton' has no attribute 'gFind'"
     ]
    }
   ],
   "source": [
    "import gPhoton\n",
    "help(gPhoton)\n",
    "pos_ra = 242.8292\n",
    "pos_dec = 53.7492\n",
    "\n",
    "# recno 307\tELAISN1_MOS15-03, [242.1960,54.0721]\n",
    "\n",
    "gPhoton.gFind(band='NUV',skypos=[pos_ra,pos_dec]) #,maxgap=100.,minexp=100."
   ]
  },
  {
   "cell_type": "code",
   "execution_count": 6,
   "id": "ad4c959b-58b6-49f7-b39d-192c990fce2f",
   "metadata": {},
   "outputs": [
    {
     "ename": "AttributeError",
     "evalue": "module 'gPhoton' has no attribute 'gFind'",
     "output_type": "error",
     "traceback": [
      "\u001b[0;31m---------------------------------------------------------------------------\u001b[0m",
      "\u001b[0;31mAttributeError\u001b[0m                            Traceback (most recent call last)",
      "\u001b[0;32m/tmp/ipykernel_24760/423330787.py\u001b[0m in \u001b[0;36m<cell line: 1>\u001b[0;34m()\u001b[0m\n\u001b[0;32m----> 1\u001b[0;31m \u001b[0mgPhoton\u001b[0m\u001b[0;34m.\u001b[0m\u001b[0mgFind\u001b[0m\u001b[0;34m(\u001b[0m\u001b[0mband\u001b[0m\u001b[0;34m=\u001b[0m\u001b[0;34m'NUV'\u001b[0m\u001b[0;34m,\u001b[0m\u001b[0mskypos\u001b[0m\u001b[0;34m=\u001b[0m\u001b[0;34m[\u001b[0m\u001b[0mpos_ra\u001b[0m\u001b[0;34m,\u001b[0m\u001b[0mpos_dec\u001b[0m\u001b[0;34m]\u001b[0m\u001b[0;34m)\u001b[0m\u001b[0;34m\u001b[0m\u001b[0;34m\u001b[0m\u001b[0m\n\u001b[0m",
      "\u001b[0;31mAttributeError\u001b[0m: module 'gPhoton' has no attribute 'gFind'"
     ]
    }
   ],
   "source": [
    "gPhoton.gFind(band='NUV',skypos=[pos_ra,pos_dec])"
   ]
  },
  {
   "cell_type": "code",
   "execution_count": 10,
   "id": "72a4d20a-50cd-41eb-be64-1806e7636c9a",
   "metadata": {},
   "outputs": [
    {
     "ename": "ImportError",
     "evalue": "cannot import name 'gFind' from 'gPhoton' (/home/buehler/Code/vasca/vasca/examples/gPhoton/__init__.py)",
     "output_type": "error",
     "traceback": [
      "\u001b[0;31m---------------------------------------------------------------------------\u001b[0m",
      "\u001b[0;31mImportError\u001b[0m                               Traceback (most recent call last)",
      "\u001b[0;32m/tmp/ipykernel_24760/2839437204.py\u001b[0m in \u001b[0;36m<cell line: 1>\u001b[0;34m()\u001b[0m\n\u001b[0;32m----> 1\u001b[0;31m \u001b[0;32mfrom\u001b[0m \u001b[0mgPhoton\u001b[0m \u001b[0;32mimport\u001b[0m \u001b[0mgFind\u001b[0m\u001b[0;34m\u001b[0m\u001b[0;34m\u001b[0m\u001b[0m\n\u001b[0m",
      "\u001b[0;31mImportError\u001b[0m: cannot import name 'gFind' from 'gPhoton' (/home/buehler/Code/vasca/vasca/examples/gPhoton/__init__.py)"
     ]
    }
   ],
   "source": [
    "from gPhoton import gFind"
   ]
  },
  {
   "cell_type": "code",
   "execution_count": null,
   "id": "124053ac-1496-45fd-b4ad-7cf0f836e003",
   "metadata": {},
   "outputs": [],
   "source": []
  }
 ],
 "metadata": {
  "kernelspec": {
   "display_name": "Python 3 (ipykernel)",
   "language": "python",
   "name": "python3"
  },
  "language_info": {
   "codemirror_mode": {
    "name": "ipython",
    "version": 3
   },
   "file_extension": ".py",
   "mimetype": "text/x-python",
   "name": "python",
   "nbconvert_exporter": "python",
   "pygments_lexer": "ipython3",
   "version": "3.10.6"
  }
 },
 "nbformat": 4,
 "nbformat_minor": 5
}
