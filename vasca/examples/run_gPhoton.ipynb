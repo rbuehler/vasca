{
 "cells": [
  {
   "cell_type": "markdown",
   "id": "5ba5cd42-e958-4d10-907d-70c3a71f7cb8",
   "metadata": {},
   "source": [
    "Example notebook to run gPhoton to create GALEX light curves etc."
   ]
  },
  {
   "cell_type": "code",
   "execution_count": 1,
   "id": "1ec09f28-d01d-41d9-b548-e68915107df4",
   "metadata": {},
   "outputs": [],
   "source": [
    "%matplotlib widget\n",
    "import gPhoton\n",
    "import matplotlib.pyplot as plt\n",
    "import numpy as np\n",
    "from astropy import units as uu\n",
    "from astropy.io import ascii\n",
    "from astropy.table import Table"
   ]
  },
  {
   "cell_type": "markdown",
   "id": "2a4559bd-0849-4f44-80a3-ea5c3ab00660",
   "metadata": {},
   "source": [
    "Do aperture photometry for each visit with gPhoton"
   ]
  },
  {
   "cell_type": "code",
   "execution_count": 2,
   "id": "124053ac-1496-45fd-b4ad-7cf0f836e003",
   "metadata": {},
   "outputs": [
    {
     "name": "stdout",
     "output_type": "stream",
     "text": [
      "Running query with gFind for:\n",
      " recno        ID           ra      dec  \n",
      "----- ---------------- -------- -------\n",
      "   71 ELAISN1_MOS15-20 242.8292 53.7492\n",
      "NUV: 47629.0s (raw) in 44 exposures.\n",
      "    [ 768413194.995, 768413297.995 ], 103.000 seconds\n",
      "    [ 773123709.995, 773124202.995 ], 493.000 seconds\n",
      "    [ 775242112.995, 775243663.995 ], 1551.000 seconds\n",
      "    [ 799225954.995, 799227043.995 ], 1089.000 seconds\n",
      "    [ 799291027.995, 799292207.995 ], 1180.000 seconds\n",
      "    [ 799308775.995, 799309669.995 ], 894.000 seconds\n",
      "    [ 799415397.995, 799415513.995 ], 116.000 seconds\n",
      "    [ 802267370.995, 802268489.995 ], 1119.000 seconds\n",
      "    [ 802374181.995, 802374993.995 ], 812.000 seconds\n",
      "    [ 806071957.995, 806073409.995 ], 1452.000 seconds\n",
      "    [ 806108028.995, 806108899.995 ], 871.000 seconds\n",
      "    [ 806421101.995, 806422424.995 ], 1323.000 seconds\n",
      "    [ 806527645.995, 806528914.995 ], 1269.000 seconds\n",
      "    [ 806634281.995, 806635413.995 ], 1132.000 seconds\n",
      "    [ 806693305.995, 806694584.995 ], 1279.000 seconds\n",
      "    [ 806699140.995, 806700501.995 ], 1361.000 seconds\n",
      "    [ 836928036.995, 836929640.995 ], 1604.000 seconds\n",
      "    [ 837355422.995, 837355531.995 ], 109.000 seconds\n",
      "    [ 837408721.995, 837408776.995 ], 55.000 seconds\n",
      "    [ 837444221.995, 837444274.995 ], 53.000 seconds\n",
      "    [ 837460678.995, 837462022.995 ], 1344.000 seconds\n",
      "    [ 837703422.995, 837704644.995 ], 1222.000 seconds\n",
      "    [ 925907362.995, 925908630.995 ], 1268.000 seconds\n",
      "    [ 926120414.995, 926121720.995 ], 1306.000 seconds\n",
      "    [ 926286070.995, 926287455.995 ], 1385.000 seconds\n",
      "    [ 926451699.995, 926453170.995 ], 1471.000 seconds\n",
      "    [ 926623223.995, 926624774.995 ], 1551.000 seconds\n",
      "    [ 929622109.995, 929623558.995 ], 1449.000 seconds\n",
      "    [ 929799666.995, 929800990.995 ], 1324.000 seconds\n",
      "    [ 929959508.995, 929960707.995 ], 1199.000 seconds\n",
      "    [ 930137130.995, 930138222.995 ], 1092.000 seconds\n",
      "    [ 930320649.995, 930321725.995 ], 1076.000 seconds\n",
      "    [ 930498183.995, 930499348.995 ], 1165.000 seconds\n",
      "    [ 956946630.995, 956948007.995 ], 1377.000 seconds\n",
      "    [ 960827009.995, 960828157.995 ], 1148.000 seconds\n",
      "    [ 964411746.995, 964411985.995 ], 239.000 seconds\n",
      "    [ 987451730.995, 987452773.995 ], 1043.000 seconds\n",
      "    [ 987628884.995, 987630293.995 ], 1409.000 seconds\n",
      "    [ 987794532.995, 987795983.995 ], 1451.000 seconds\n",
      "    [ 988882691.995, 988884098.995 ], 1407.000 seconds\n",
      "    [ 989054196.995, 989055479.995 ], 1283.000 seconds\n",
      "    [ 989225709.995, 989226842.995 ], 1133.000 seconds\n",
      "    [ 991402316.995, 991403644.995 ], 1328.000 seconds\n",
      "    [ 991757486.995, 991758580.995 ], 1094.000 seconds\n",
      "Running lightcurve with gAperture..\n",
      "AB Magnitudes:                nearby.                       \n",
      "[21.28194349 21.44103237 21.45041497 21.46689486 21.55305955 21.42422404\n",
      " 21.39924581 21.21993374 21.28265731 21.53146247 21.50552428 21.41494215\n",
      " 21.2815471  21.33783357 21.30101838 21.35268365 21.5127165  21.32093138\n",
      " 21.10530852 22.44347101 21.52973054 21.40018425 21.45152643 21.42568806\n",
      " 21.50065444 21.54309391 21.51130556 21.41767122 21.49963376 21.56613163\n",
      " 21.40787635 21.47803212 21.49968473 21.43347339 21.2964154  21.38031278\n",
      " 21.41387179 20.70723999 21.29210047 21.49575586 21.35024263 21.47257128\n",
      " 21.38120129 21.38673278]\n",
      "..done\n",
      "CPU times: user 3min 7s, sys: 5.94 s, total: 3min 13s\n",
      "Wall time: 25min 53s\n"
     ]
    }
   ],
   "source": [
    "%%time\n",
    "\n",
    "# **** Setup analysis parameters *****\n",
    "\n",
    "#Sources from ELAISN1_MOS15 in TDS, but not in VASCA\n",
    "srcs = \"\"\"recno\tID\tra\tdec\n",
    "71\tELAISN1_MOS15-20\t242.8292\t53.7492\n",
    "184\tELAISN1_MOS15-24\t243.0512\t54.2599\n",
    "307\tELAISN1_MOS15-03\t242.1960\t54.0721\n",
    "390\tELAISN1_MOS15-22\t242.8843\t53.5921\n",
    "417\tELAISN1_MOS15-18\t242.7775\t53.9643\n",
    "441\tELAISN1_MOS15-13\t242.4726\t53.6579\n",
    "495\tELAISN1_MOS15-00\t241.6487\t54.3255\n",
    "873\tELAISN1_MOS15-14\t242.6429\t53.4919\n",
    "934\tELAISN1_MOS15-12\t242.4613\t53.4860\"\"\"\n",
    "tt_srcs = ascii.read(srcs)\n",
    "\n",
    "src_idx = 0\n",
    "outdir = \"./TDS-ApJ_766_60/\"\n",
    "gapp_outfile = outdir+str(tt_srcs[src_idx][\"ID\"])+'_gaperture.npy'\n",
    "ron = (10*uu.arcsec).to(uu.deg).value        # Radius of signal annulus\n",
    "roff1 = (10*uu.arcsec).to(uu.deg).value      # Inner radius of background ring\n",
    "roff2 = (20*uu.arcsec).to(uu.deg).value      # Outer radius of background ring\n",
    "\n",
    "pos_ra = tt_srcs[src_idx][\"ra\"]\n",
    "pos_dec = tt_srcs[src_idx][\"dec\"]\n",
    "\n",
    "# **** Run analysis *****\n",
    "\n",
    "#If running for the first time in this configuration set to True\n",
    "run_first_time = False\n",
    "if run_first_time:\n",
    "    print(f\"Running query with gFind for:\\n\",tt_srcs[src_idx])\n",
    "    dd_gfind = gPhoton.gFind(band='NUV',skypos=[pos_ra,pos_dec]) #,maxgap=100.,minexp=100.\n",
    "    t_bins = list(zip(dd_gfind[\"NUV\"][\"t0\"],dd_gfind[\"NUV\"][\"t1\"]))\n",
    "\n",
    "    print(\"Running lightcurve with gAperture..\")\n",
    "    dd_gaperture = gPhoton.gAperture(band='NUV',skypos=[pos_ra,pos_dec],radius=ron, annulus=[roff1,roff2],tranges=t_bins)\n",
    "    np.save(gapp_outfile, dd_gaperture)\n",
    "    print(\"..done\")\n",
    "else:\n",
    "    dd_gaperture = np.load(gapp_outfile,allow_pickle='TRUE').item()"
   ]
  },
  {
   "cell_type": "markdown",
   "id": "3f23c3fb-53f0-453d-a28e-e50f28a039b2",
   "metadata": {},
   "source": [
    "Draw light curves"
   ]
  },
  {
   "cell_type": "code",
   "execution_count": 35,
   "id": "f1fd4218-6ade-47e3-982f-b9ce6cfc2034",
   "metadata": {},
   "outputs": [
    {
     "name": "stdout",
     "output_type": "stream",
     "text": [
      "dict_keys(['params', 't0', 't1', 'exptime', 't0_data', 't1_data', 't_mean', 'q_mean', 'counts', 'flat_counts', 'responses', 'detxs', 'detys', 'detrad', 'racent', 'deccent', 'mcat_bg', 'bg_counts', 'bg_flat_counts', 'bg', 'cps', 'cps_err', 'cps_bgsub', 'cps_bgsub_err', 'cps_mcatbgsub', 'cps_mcatbgsub_err', 'flux', 'flux_err', 'flux_bgsub', 'flux_bgsub_err', 'flux_mcatbgsub', 'flux_mcatbgsub_err', 'mag', 'mag_err_1', 'mag_err_2', 'mag_bgsub', 'mag_bgsub_err_1', 'mag_bgsub_err_2', 'mag_mcatbgsub', 'mag_mcatbgsub_err_1', 'mag_mcatbgsub_err_2', 'photons', 'flags'])\n",
      "[  0.   0.   0.   0.   0.   0.   0.   0.   0.   0.   0.   0.   0.   0.\n",
      "   0.  65.   0.   0.   0.   0.   0.   4.   0.   0.   0.   0.   0.   0.\n",
      "   0.   0.   0.   0.   0.   0. 512.  32.   0.   0.   0.   0.   0.   0.\n",
      "   0.   0.]\n"
     ]
    },
    {
     "data": {
      "text/html": [
       "<div><i>Table length=5</i>\n",
       "<table id=\"table139960371702000\" class=\"table-striped table-bordered table-condensed\">\n",
       "<thead><tr><th>t_mean</th><th>exptime</th><th>flux_bgsub</th><th>flux_bgsub_err</th><th>mag_bgsub</th><th>mag_bgsub_err_1</th><th>mag_bgsub_err_2</th><th>flags</th><th>s2n</th></tr></thead>\n",
       "<thead><tr><th>float64</th><th>float64</th><th>float64</th><th>float64</th><th>float64</th><th>float64</th><th>float64</th><th>float64</th><th>float64</th></tr></thead>\n",
       "<tr><td>802267923.1495593</td><td>1014.5231948290783</td><td>1.7804307836427198e-17</td><td>5.0657652348447764e-18</td><td>22.73835531435877</td><td>0.27185614395139623</td><td>0.3635133769849723</td><td>0.0</td><td>3.5146334287188403</td></tr>\n",
       "<tr><td>802374589.1704702</td><td>734.4640726768934</td><td>2.0586436123474383e-17</td><td>5.6918150807960464e-18</td><td>22.58071512826742</td><td>0.26503822712795966</td><td>0.3513792773372728</td><td>0.0</td><td>3.6168490773588524</td></tr>\n",
       "<tr><td>929622856.1948605</td><td>1328.7775590872222</td><td>1.6944597116512677e-17</td><td>4.000550669890856e-18</td><td>22.792089932706926</td><td>0.23013045437616242</td><td>0.29240296163319357</td><td>0.0</td><td>4.235566179436733</td></tr>\n",
       "<tr><td>987629636.2642901</td><td>1276.2881343580063</td><td>4.8966987203231154e-17</td><td>5.423520237386851e-18</td><td>21.63990959102351</td><td>0.11404931664914031</td><td>0.12745094750555808</td><td>0.0</td><td>9.028635472894322</td></tr>\n",
       "<tr><td>989054810.7792666</td><td>1166.4554074674954</td><td>1.6718535217083914e-17</td><td>4.4307296598126346e-18</td><td>22.806672490026127</td><td>0.2552426301473467</td><td>0.33430973477554815</td><td>0.0</td><td>3.773314217006619</td></tr>\n",
       "</table></div>"
      ],
      "text/plain": [
       "<Table length=5>\n",
       "      t_mean           exptime       ...  flags         s2n        \n",
       "     float64           float64       ... float64      float64      \n",
       "----------------- ------------------ ... ------- ------------------\n",
       "802267923.1495593 1014.5231948290783 ...     0.0 3.5146334287188403\n",
       "802374589.1704702  734.4640726768934 ...     0.0 3.6168490773588524\n",
       "929622856.1948605 1328.7775590872222 ...     0.0  4.235566179436733\n",
       "987629636.2642901 1276.2881343580063 ...     0.0  9.028635472894322\n",
       "989054810.7792666 1166.4554074674954 ...     0.0  3.773314217006619"
      ]
     },
     "metadata": {},
     "output_type": "display_data"
    }
   ],
   "source": [
    "print(dd_gaperture.keys())\n",
    "print(dd_gaperture[\"flags\"])\n",
    "keep_keys = ('t_mean', 'exptime','flux_bgsub', 'flux_bgsub_err','mag_bgsub', 'mag_bgsub_err_1', 'mag_bgsub_err_2',\"flags\")\n",
    "dd_gapp = {x: dd_gaperture[x] for x in keep_keys if x in dd_gaperture}\n",
    "tt_gapp = Table(data= dd_gapp)\n",
    "tt_gapp[\"s2n\"]=dd_gaperture['flux_bgsub']/dd_gaperture['flux_bgsub_err']\n",
    "display(tt_gapp[tt_gapp[\"s2n\"]>3.5])"
   ]
  },
  {
   "cell_type": "code",
   "execution_count": null,
   "id": "a1c9d8ed-cb6d-4b13-bc8f-a2d829fbc924",
   "metadata": {},
   "outputs": [],
   "source": [
    "fig = plt.figure(figsize=(8, 6), constrained_layout=True)\n",
    "ax = plt.gca()\n",
    "#ax.invert_yaxis()\n",
    "    \n",
    "plt.errorbar(dd_gaperture['t_mean'],dd_gaperture['flux_bgsub'],yerr=dd_gaperture['flux_bgsub_err'],fmt=\"bo\")"
   ]
  },
  {
   "cell_type": "code",
   "execution_count": null,
   "id": "0322156a-a468-4bdd-9686-9d61ec205d73",
   "metadata": {},
   "outputs": [],
   "source": []
  }
 ],
 "metadata": {
  "kernelspec": {
   "display_name": "Python 3 (ipykernel)",
   "language": "python",
   "name": "python3"
  },
  "language_info": {
   "codemirror_mode": {
    "name": "ipython",
    "version": 3
   },
   "file_extension": ".py",
   "mimetype": "text/x-python",
   "name": "python",
   "nbconvert_exporter": "python",
   "pygments_lexer": "ipython3",
   "version": "3.10.6"
  }
 },
 "nbformat": 4,
 "nbformat_minor": 5
}
