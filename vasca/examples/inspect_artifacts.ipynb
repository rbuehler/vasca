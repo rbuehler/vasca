{
 "cells": [
  {
   "cell_type": "markdown",
   "id": "1e48a14a-618b-438e-b8cc-62efbe64beab",
   "metadata": {},
   "source": [
    "# Visualize artifacts and the detections on them "
   ]
  },
  {
   "cell_type": "markdown",
   "id": "315fae40-94c4-4a31-83ca-274e94cb289f",
   "metadata": {},
   "source": [
    "### Setup main notebook options"
   ]
  },
  {
   "cell_type": "code",
   "execution_count": 1,
   "id": "6c6138f1-a0c7-4250-96b5-1a637c6f6e5b",
   "metadata": {},
   "outputs": [],
   "source": [
    "region_name = \"TDS\"  #_ELAISN1\n",
    "\n",
    "# Add artifacts here\n",
    "dd_arts = [{\"field_id\":\"GNU2597312684324028416\", \"ra\":243.31, \"dec\":55.79, \"rad\":0.01},   # 0 Detection structures next to bright source\n",
    "           {\"field_id\":\"GNU2597312684324028416\", \"ra\":243.28, \"dec\":55.76, \"rad\":0.02},   # 1 Multiple circular artifacts due to bright star\n",
    "           {\"field_id\":\"GNU2597312684324028416\", \"ra\":243.41, \"dec\":56.27, \"rad\":0.02},   # 2 Edge line\n",
    "           {\"field_id\":\"GNU2597523790556561408\", \"ra\":241.405, \"dec\":55.615, \"rad\":0.01}, # 3 Ring without bright source,  Galaxy MCG+09-26-052 \n",
    "           {\"field_id\":\"GNU2597523790556561408\", \"ra\":241.58, \"dec\":55.43, \"rad\":0.01},   # 4 Line artifact\n",
    "           {\"field_id\":\"GNU2597523790556561408\", \"ra\":241.77, \"dec\":55.48, \"rad\":0.05},   # 5 Multiple rings\n",
    "           {\"field_id\":\"GNU2597523790556561408\", \"ra\":240.81, \"dec\":55.17, \"rad\":0.03},   # 6 Faint ring\n",
    "           {\"field_id\":\"GNU2597594159300739072\", \"ra\":244.30, \"dec\":53.695, \"rad\":0.02},  # 7 Edge line\n",
    "           {\"field_id\":\"GNU2597664528044916736\", \"ra\":242.79, \"dec\":53.97, \"rad\":0.01},   # 8 Ghost next to bright source\n",
    "           {\"field_id\":\"GNU2597664528044916736\", \"ra\":242.77, \"dec\":54.36, \"rad\":0.03},   # 9 Faint ring\n",
    "           {\"field_id\":\"GFU2597312684324028416\", \"ra\":243.36, \"dec\":55.75, \"rad\":0.07},   # 10 Very bright star makes cross, also effects in NUV\n",
    "           {\"field_id\":\"GNU2597383053068206080\", \"ra\":245.22, \"dec\":54.90, \"rad\":0.03},   # 11 Ring\n",
    "           {\"field_id\":\"GNU2597734896789094400\", \"ra\":241.67, \"dec\":54.69, \"rad\":0.03},   # 12 Ring\n",
    "           {\"field_id\":\"GNU2597734896789094400\", \"ra\":241.12, \"dec\":54.42, \"rad\":0.03},   # 13 Ring\n",
    "           {\"field_id\":\"GFU2597523790556561408\", \"ra\":241.405, \"dec\":55.615, \"rad\":0.03},  # 14 Ring without bright source, also NuV, Galaxy MCG+09-26-052\n",
    "           # From here on TDS non TDS_ELAI artifacts\n",
    "           {\"field_id\":\"GNU2592738715952480256\", \"ra\":34.92, \"dec\":-4.35, \"rad\":0.08},   #15 Large circle of circles with multiple detections on it\n",
    "           #{\"field_id\":\"\", \"ra\":, \"dec\":, \"rad\":0.01}, \n",
    "           #{\"field_id\":\"\", \"ra\":, \"dec\":, \"rad\":0.01}, \n",
    "           #{\"field_id\":\"\", \"ra\":, \"dec\":, \"rad\":0.01}, \n",
    "        ]\n",
    "\n",
    "# Variables to select detections and plotting options\n",
    "import numpy as np\n",
    "\n",
    "#Select artifacts that lead to detection removal. New column with \"art_sel\" will be created for detections to cut on. \n",
    "#This variable is zero if none of the artifacts below is selected, othervise the \"artifact value\"\n",
    "art_bit_sel = [1,2,4,8,16,32,64,128,256,512] # [2,4,8,128]\n",
    "\n",
    "# http://www.galex.caltech.edu/wiki/GCAT_Manual#Flags\n",
    "[1,2,4,8,16,32,64,128,256,512]\n",
    "#    ( 1): edge; Detector bevel edge reflection (NUV only).\n",
    "#    ( 2): window; Detector window reflection (NUV only).\n",
    "#    ( 4): dichroic; Dichroic reflection.\n",
    "#    ( 8): varpix; Varible pixel based on time slices.\n",
    "#    ( 16): brtedge; Bright star near field edge (NUV only)\n",
    "#    ( 32): Detector rim(annulus); proximity(>0.6 deg fld ctr)\n",
    "#    ( 64): dimask; dichroic reflection artifact mask flag\n",
    "#    (128): varmask; Masked pixel determined by varpix.\n",
    "#    (256): hotmask; Detector hot spots.\n",
    "#    (512): yaghost; Possible ghost image from YA slope. This is only relevant for data taken after the completion of GR6. \n",
    "\n",
    "s2n_min    = 5                                                       # Minimum s2n of detections\n",
    "r_fov_max  = 0.5                                                     #Maximum distance from the camera center\n",
    "vars       = [\"ellip_world\",\"size_world\",\"class_star\",\"art_sel\"]     # Variables to be used to select detections on artifacts\n",
    "vars_sel   = [[0.25,1.0]    ,[6,np.inf] ,[-0.5,0.1] ,[0.5,np.inf]]   # Selection of detections on artifacts\n",
    "vars_col   = [\"b\"          ,\"m\"         ,\"g\"         ,\"w\"]           # Circle color for selected detections on artifacts\n",
    "vars_ms    = [8            ,6.5         , 5          ,3.5]           # Marker size of circles showing detections selected by these artifacts. \n",
    "vars_bins  = [40           ,\"sqrt\"      , 40         ,\"sqrt\"]        # Nr bins for histogram plots\n",
    "vars_log   = [False        ,True        , False      , True ]        # Show histograms in logy?\n",
    "lw = 0.8                                                             # Line width for circles of detections on skymaps"
   ]
  },
  {
   "cell_type": "markdown",
   "id": "a2e7980c-fd21-4909-8a2c-9047beb7a4c1",
   "metadata": {},
   "source": [
    "### Load region"
   ]
  },
  {
   "cell_type": "code",
   "execution_count": 2,
   "id": "dbb1bbbb-3d8e-4475-89ca-d97839217283",
   "metadata": {},
   "outputs": [],
   "source": [
    "%matplotlib widget\n",
    "import ipywidgets as widgets\n",
    "from IPython.display import display\n",
    "import matplotlib.pyplot as plt\n",
    "\n",
    "from regions import CircleSkyRegion\n",
    "from astropy import units as uu\n",
    "from astropy.coordinates import SkyCoord\n",
    "from astropy.wcs.utils import pixel_to_skycoord\n",
    "from astropy.table import Table\n",
    "from astropy.nddata import bitmask\n",
    "\n",
    "from vasca.region import Region\n",
    "from vasca.field import BaseField\n",
    "import vasca.visualization as vvis\n",
    "\n",
    "from vasca.utils import mag2flux, sel_sources, dd_filter2id\n",
    "\n",
    "#Load region and field\n",
    "region_fname = \"./vasca_pipeline/\"+region_name+\"/region_\"+region_name+\".fits\"\n",
    "rg = Region()\n",
    "rg.load_from_fits(region_fname)"
   ]
  },
  {
   "cell_type": "markdown",
   "id": "e3ee61ad-3d92-4260-9a42-5c6bd538539d",
   "metadata": {},
   "source": [
    "### Display detections"
   ]
  },
  {
   "cell_type": "code",
   "execution_count": 3,
   "id": "20c16dff-8610-44bb-9026-1be915925574",
   "metadata": {},
   "outputs": [
    {
     "data": {
      "application/vnd.jupyter.widget-view+json": {
       "model_id": "a939991dcae14c3b8ae3c9cd2f3da935",
       "version_major": 2,
       "version_minor": 0
      },
      "text/plain": [
       "interactive(children=(IntSlider(value=0, description='art_idx', max=15), Output()), _dom_classes=('widget-inte…"
      ]
     },
     "execution_count": 3,
     "metadata": {},
     "output_type": "execute_result"
    }
   ],
   "source": [
    "def plot_art(art_idx):\n",
    "    # Get field\n",
    "    dd_art = dd_arts[art_idx]\n",
    "    fd = rg.get_field(field_id=dd_art[\"field_id\"], load_method=\"FITS\", add_field=True)\n",
    "    \n",
    "    # Prepare figute and sky region\n",
    "    fig_art = plt.figure(\"Sky map artifact\",figsize=(8, 7))\n",
    "    sky_center = SkyCoord(dd_art[\"ra\"]*uu.deg, dd_art[\"dec\"]*uu.deg, frame=\"icrs\")\n",
    "    sky_art= CircleSkyRegion(center=sky_center, radius=dd_art[\"rad\"]*uu.deg)\n",
    "    plt.cla()\n",
    "    ax, wcs_art = vvis.plot_field_sky_map(fd, img_idx=-1, sky_region = sky_art, fig=fig_art)\n",
    "\n",
    "    #Apply s2n  and r_fov cutcut\n",
    "    nr_det = len(fd.tt_detections)\n",
    "    sel_s2n = (fd.tt_detections[\"s2n\"]>s2n_min)\n",
    "    sel_fov = (fd.tt_detections[\"r_fov\"]<r_fov_max)\n",
    "    sel_s2nfov = sel_s2n * sel_fov\n",
    "    fd.tt_detections[\"sel\"]  = sel_s2nfov\n",
    "    tt_det_all = fd.tt_detections[sel_s2nfov]\n",
    "\n",
    "\n",
    "    # Apply bitmask cut\n",
    "    # See https://docs.astropy.org/en/stable/api/astropy.nddata.bitfield_to_boolean_mask.html\n",
    "    bit = bitmask.bitfield_to_boolean_mask(\n",
    "        tt_det_all[\"artifacts\"],\n",
    "        flip_bits=True,\n",
    "        dtype=bool,\n",
    "        good_mask_value=0,\n",
    "        ignore_flags=art_bit_sel,\n",
    "    )\n",
    "    tt_det_all[\"art_sel\"] = tt_det_all[\"artifacts\"] * bit\n",
    "\n",
    "    #Plot all detections that pass s2n\n",
    "    kdet_s2n = {\"marker\":\"o\",\"color\":\"r\",\"markersize\": 10,\"alpha\":1,\"markeredgewidth\": lw}\n",
    "    ax, tt_det = vvis.plot_sky_sources(tt_det_all, src_id=None,src_kwargs=kdet_s2n, sky_region_wcs = (sky_art,wcs_art), only_selected=True)\n",
    "    \n",
    "    if len(tt_det) == 0:\n",
    "        print(\"No detections passed the s2n and r_fov cut in this cutout\")\n",
    "        plt.show()\n",
    "        return\n",
    "\n",
    "    #Get cut efficiencies for field\n",
    "    tt_eff = Table()\n",
    "    tt_eff[\"s2n\"] = [round(sel_s2n.sum()/nr_det,6)]\n",
    "    tt_eff[\"r_fov\"] = [round(sel_fov.sum()/nr_det,6)]\n",
    "    tt_eff[\"s2nfov\"] = [round(sel_s2nfov.sum()/nr_det,6)]\n",
    "    sel_art_tot = np.zeros(len(tt_det_all), dtype=bool) # Total selections without artifactcut\n",
    "    for ii in range(len(vars)):\n",
    "        sel_art = (tt_det_all[vars[ii]]>vars_sel[ii][0]) * (tt_det_all[vars[ii]]<vars_sel[ii][1])\n",
    "        sel_art_tot += sel_art\n",
    "        tt_eff[vars[ii]] = [round(1.-sel_art.sum()/ nr_det,6)]\n",
    "    sel_noart = ~(sel_art_tot>0)\n",
    "    tt_eff[\"total\"] = [round((sel_s2nfov.sum()/ nr_det)*(sel_noart.sum()/len(tt_det_all)),6)]\n",
    "\n",
    "    # Add s2n und fov cut efficiencies\n",
    "    \n",
    "    #Plot circles for detections passing different cuts\n",
    "    for ii in range(len(vars)):\n",
    "        sel= (tt_det[vars[ii]]>vars_sel[ii][0]) * (tt_det[vars[ii]]<vars_sel[ii][1])\n",
    "        kdet_ell = {\"marker\":\"o\",\"color\":vars_col[ii],\"markersize\": vars_ms[ii],\"alpha\":1,\"markeredgewidth\": lw}\n",
    "        vvis.plot_sky_sources(tt_det[sel], src_id=None,src_kwargs=kdet_ell, sky_region_wcs = (sky_art,wcs_art), only_selected=True)\n",
    "    plt.tight_layout()\n",
    "    plt.show()\n",
    "    \n",
    "    #Draw some distributions in field\n",
    "    fig_dist, axs = plt.subplots(1,4,figsize=(12, 3.5))\n",
    "    axs = axs.flatten()\n",
    "    for ii in range(0,4):\n",
    "        axs[ii].hist([tt_det_all[vars[ii]],tt_det[vars[ii]]],density=True, bins = vars_bins[ii], log = vars_log[ii], histtype=\"step\")\n",
    "        axs[ii].set_xlabel(vars[ii])\n",
    "    plt.tight_layout()\n",
    "    plt.show()\n",
    "\n",
    "    display(tt_det[[\"ra\",\"dec\", \"artifacts\",\"r_fov\",\"s2n\"]+vars])\n",
    "    display(\"Kept fraction of detections in entire field\",tt_eff)\n",
    "widgets.interactive( plot_art, art_idx=widgets.IntSlider(min=0, max=len(dd_arts)-1, value=0, step=1))"
   ]
  }
 ],
 "metadata": {
  "kernelspec": {
   "display_name": "Python 3 (ipykernel)",
   "language": "python",
   "name": "python3"
  },
  "language_info": {
   "codemirror_mode": {
    "name": "ipython",
    "version": 3
   },
   "file_extension": ".py",
   "mimetype": "text/x-python",
   "name": "python",
   "nbconvert_exporter": "python",
   "pygments_lexer": "ipython3",
   "version": "3.10.9"
  }
 },
 "nbformat": 4,
 "nbformat_minor": 5
}
