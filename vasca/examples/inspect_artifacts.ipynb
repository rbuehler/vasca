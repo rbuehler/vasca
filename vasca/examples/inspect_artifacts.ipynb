{
 "cells": [
  {
   "cell_type": "code",
   "execution_count": 1,
   "id": "6c6138f1-a0c7-4250-96b5-1a637c6f6e5b",
   "metadata": {},
   "outputs": [],
   "source": [
    "region_name = \"TDS_ELAISN1\"  #_ELAISN1\n",
    "redo_src_sel = True  # Redo source selection in dedicated cell below\n",
    "field_id = \"GNU2597523790556561408\"\n",
    "art_nr = 0\n",
    "dd_arts = {0:{\"field_id\":\"GNU2597523790556561408\", \"ra\":241.288, \"dec\":55.352, \"rad\":0.55},  # All field\n",
    "           1:{\"field_id\":\"GNU2597523790556561408\", \"ra\":241.58, \"dec\":55.43, \"rad\":0.01},    # Line artifact\n",
    "          } \n",
    "dd_art = dd_arts[art_nr]"
   ]
  },
  {
   "cell_type": "code",
   "execution_count": 2,
   "id": "dbb1bbbb-3d8e-4475-89ca-d97839217283",
   "metadata": {},
   "outputs": [
    {
     "data": {
      "text/html": [
       "<div><i>Table length=14</i>\n",
       "<table id=\"table140159943429280\" class=\"table-striped table-bordered table-condensed\">\n",
       "<thead><tr><th>field_id</th><th>field_name</th><th>ra</th><th>dec</th><th>observatory</th><th>obs_filter</th><th>fov_diam</th><th>sel</th><th>nr_vis</th><th>time_bin_size_sum</th><th>time_start</th><th>time_stop</th><th>rg_fd_id</th></tr></thead>\n",
       "<thead><tr><th></th><th></th><th>deg</th><th>deg</th><th></th><th></th><th>deg</th><th></th><th></th><th>s</th><th>d</th><th>d</th><th></th></tr></thead>\n",
       "<thead><tr><th>bytes32</th><th>bytes32</th><th>float64</th><th>float64</th><th>bytes22</th><th>bytes8</th><th>float32</th><th>bool</th><th>int32</th><th>float32</th><th>float64</th><th>float64</th><th>int64</th></tr></thead>\n",
       "<tr><td>GNU2597312684324028416</td><td>PS_ELAISN1_MOS10</td><td>242.50638203682297</td><td>55.9801443588634</td><td>GALEX</td><td>NUV</td><td>1.2</td><td>True</td><td>24</td><td>29566.4</td><td>54960.17787037037</td><td>56821.33210648148</td><td>1</td></tr>\n",
       "<tr><td>GNU2597383053068206080</td><td>PS_ELAISN1_MOS11</td><td>244.57200462478102</td><td>55.1825511621234</td><td>GALEX</td><td>NUV</td><td>1.2</td><td>True</td><td>25</td><td>31369.5</td><td>54960.24638888889</td><td>56815.50054271557</td><td>2</td></tr>\n",
       "<tr><td>GNU2597453421812383744</td><td>PS_ELAISN1_MOS12</td><td>242.896209389035</td><td>55.0003489374844</td><td>GALEX</td><td>NUV</td><td>1.2</td><td>True</td><td>21</td><td>26349.451</td><td>54960.314884259256</td><td>56814.569061234084</td><td>3</td></tr>\n",
       "<tr><td>GNU2597523790556561408</td><td>PS_ELAISN1_MOS13</td><td>241.28881797574297</td><td>55.3529870930308</td><td>GALEX</td><td>NUV</td><td>1.2</td><td>True</td><td>22</td><td>27810.902</td><td>54960.38337962963</td><td>56819.53759259259</td><td>4</td></tr>\n",
       "<tr><td>GNU2597594159300739072</td><td>PS_ELAISN1_MOS14</td><td>243.95513153083402</td><td>54.1978605194106</td><td>GALEX</td><td>NUV</td><td>1.2</td><td>True</td><td>22</td><td>26881.852</td><td>54960.451886574076</td><td>56810.60611111111</td><td>5</td></tr>\n",
       "<tr><td>GNU2597664528044916736</td><td>PS_ELAISN1_MOS15</td><td>242.396514585217</td><td>53.9999872930018</td><td>GALEX</td><td>NUV</td><td>1.2</td><td>True</td><td>22</td><td>28044.65</td><td>54960.52040509259</td><td>56810.67461805556</td><td>6</td></tr>\n",
       "<tr><td>GNU2597734896789094400</td><td>PS_ELAISN1_MOS16</td><td>241.37385712300306</td><td>54.4519391954855</td><td>GALEX</td><td>NUV</td><td>1.2</td><td>True</td><td>21</td><td>26780.799</td><td>54960.588912037034</td><td>56807.7931854022</td><td>7</td></tr>\n",
       "<tr><td>GFU2597312684324028416</td><td>PS_ELAISN1_MOS10</td><td>242.50638203682297</td><td>55.9801443588634</td><td>GALEX</td><td>FUV</td><td>1.2</td><td>True</td><td>5</td><td>6920.1</td><td>54960.17787037037</td><td>56504.46356481482</td><td>8</td></tr>\n",
       "<tr><td>GFU2597383053068206080</td><td>PS_ELAISN1_MOS11</td><td>244.57200462478102</td><td>55.1825511621234</td><td>GALEX</td><td>FUV</td><td>1.2</td><td>True</td><td>5</td><td>6896.3994</td><td>54960.24638888889</td><td>56501.58207429109</td><td>9</td></tr>\n",
       "<tr><td>GFU2597453421812383744</td><td>PS_ELAISN1_MOS12</td><td>242.896209389035</td><td>55.0003489374844</td><td>GALEX</td><td>FUV</td><td>1.2</td><td>True</td><td>5</td><td>6929.0996</td><td>54960.314884259256</td><td>56508.650511791086</td><td>10</td></tr>\n",
       "<tr><td>GFU2597523790556561408</td><td>PS_ELAISN1_MOS13</td><td>241.28881797574297</td><td>55.3529870930308</td><td>GALEX</td><td>FUV</td><td>1.2</td><td>True</td><td>5</td><td>6942.2</td><td>54960.38337962963</td><td>56506.76889919705</td><td>11</td></tr>\n",
       "<tr><td>GFU2597594159300739072</td><td>PS_ELAISN1_MOS14</td><td>243.95513153083402</td><td>54.1978605194106</td><td>GALEX</td><td>FUV</td><td>1.2</td><td>True</td><td>5</td><td>6951.2</td><td>54960.451886574076</td><td>56513.78742151331</td><td>12</td></tr>\n",
       "<tr><td>GFU2597664528044916736</td><td>PS_ELAISN1_MOS15</td><td>242.396514585217</td><td>53.9999872930018</td><td>GALEX</td><td>FUV</td><td>1.2</td><td>True</td><td>5</td><td>6977.0</td><td>54960.52040509259</td><td>56519.80583333333</td><td>13</td></tr>\n",
       "<tr><td>GFU2597734896789094400</td><td>PS_ELAISN1_MOS16</td><td>241.37385712300306</td><td>54.4519391954855</td><td>GALEX</td><td>FUV</td><td>1.2</td><td>True</td><td>5</td><td>6887.0</td><td>54960.588912037034</td><td>56510.974315863714</td><td>14</td></tr>\n",
       "</table></div>"
      ],
      "text/plain": [
       "<Table length=14>\n",
       "       field_id           field_name    ...     time_stop      rg_fd_id\n",
       "                                        ...         d                  \n",
       "       bytes32             bytes32      ...      float64        int64  \n",
       "---------------------- ---------------- ... ------------------ --------\n",
       "GNU2597312684324028416 PS_ELAISN1_MOS10 ...  56821.33210648148        1\n",
       "GNU2597383053068206080 PS_ELAISN1_MOS11 ...  56815.50054271557        2\n",
       "GNU2597453421812383744 PS_ELAISN1_MOS12 ... 56814.569061234084        3\n",
       "GNU2597523790556561408 PS_ELAISN1_MOS13 ...  56819.53759259259        4\n",
       "GNU2597594159300739072 PS_ELAISN1_MOS14 ...  56810.60611111111        5\n",
       "GNU2597664528044916736 PS_ELAISN1_MOS15 ...  56810.67461805556        6\n",
       "GNU2597734896789094400 PS_ELAISN1_MOS16 ...   56807.7931854022        7\n",
       "GFU2597312684324028416 PS_ELAISN1_MOS10 ...  56504.46356481482        8\n",
       "GFU2597383053068206080 PS_ELAISN1_MOS11 ...  56501.58207429109        9\n",
       "GFU2597453421812383744 PS_ELAISN1_MOS12 ... 56508.650511791086       10\n",
       "GFU2597523790556561408 PS_ELAISN1_MOS13 ...  56506.76889919705       11\n",
       "GFU2597594159300739072 PS_ELAISN1_MOS14 ...  56513.78742151331       12\n",
       "GFU2597664528044916736 PS_ELAISN1_MOS15 ...  56519.80583333333       13\n",
       "GFU2597734896789094400 PS_ELAISN1_MOS16 ... 56510.974315863714       14"
      ]
     },
     "metadata": {},
     "output_type": "display_data"
    }
   ],
   "source": [
    "%matplotlib widget\n",
    "import ipywidgets as widgets\n",
    "from IPython.display import display\n",
    "import matplotlib.pyplot as plt\n",
    "\n",
    "from regions import CircleSkyRegion\n",
    "from astropy import units as uu\n",
    "from astropy.coordinates import SkyCoord\n",
    "from astropy.wcs.utils import pixel_to_skycoord\n",
    "import numpy as np\n",
    "\n",
    "from vasca.region import Region\n",
    "from vasca.field import BaseField\n",
    "import vasca.visualization as vvis\n",
    "\n",
    "from vasca.utils import mag2flux, sel_sources, dd_filter2id\n",
    "\n",
    "#Load region and field\n",
    "region_fname = \"./vasca_pipeline/\"+region_name+\"/region_\"+region_name+\".fits\"\n",
    "rg = Region()\n",
    "rg.load_from_fits(region_fname)\n",
    "display(rg.tt_fields)\n",
    "fd = rg.get_field(field_id=dd_art[\"field_id\"], load_method=\"FITS\", add_field=False)"
   ]
  },
  {
   "cell_type": "code",
   "execution_count": 3,
   "id": "20c16dff-8610-44bb-9026-1be915925574",
   "metadata": {},
   "outputs": [
    {
     "ename": "SyntaxError",
     "evalue": "expected ':' (3924714013.py, line 22)",
     "output_type": "error",
     "traceback": [
      "\u001b[0;36m  File \u001b[0;32m\"/tmp/ipykernel_14866/3924714013.py\"\u001b[0;36m, line \u001b[0;32m22\u001b[0m\n\u001b[0;31m    if dd_art[\"rad\"]<0.49\u001b[0m\n\u001b[0m                         ^\u001b[0m\n\u001b[0;31mSyntaxError\u001b[0m\u001b[0;31m:\u001b[0m expected ':'\n"
     ]
    }
   ],
   "source": [
    "from regions import CircleSkyRegion\n",
    "from astropy.coordinates import SkyCoord\n",
    "from astropy import units as uu\n",
    "\n",
    "fig_art = plt.figure(\"Sky map artifact\",figsize=(8, 7))\n",
    "\n",
    "sky_center = SkyCoord(dd_art[\"ra\"]*uu.deg, dd_art[\"dec\"]*uu.deg, frame=\"icrs\")\n",
    "sky_art= CircleSkyRegion(center=sky_center, radius=dd_art[\"rad\"]*uu.deg)\n",
    "plt.cla()\n",
    "ax, wcs_art = vvis.plot_field_sky_map(fd, img_idx=-1, sky_region = sky_art, fig=fig_art)\n",
    "\n",
    "#fig, ax = vvis.plot_field_sky_map(fd, img_idx=-1, sky_region = fd.get_sky_region())\n",
    "\n",
    "print(\"ellipse:blue , class_star:green, artifact:yellow\")\n",
    "lw= 0.25\n",
    "sel_s2n = fd.tt_detections[\"s2n\"]>3.5\n",
    "fd.tt_detections[\"sel\"]  = sel_s2n\n",
    "tt_det = fd.tt_detections\n",
    "kdet_s2n = {\"marker\":\"o\",\"color\":\"r\",\"markersize\": 5.5,\"alpha\":1,\"markeredgewidth\": lw}\n",
    "ax, tt_det = vvis.plot_sky_sources( fd.tt_detections[sel_s2n], src_id=None,src_kwargs=kdet_s2n, sky_region_wcs = (sky_art,wcs_art), only_selected=True)\n",
    "\n",
    "if dd_art[\"rad\"]<0.49:\n",
    "    sel_ell = tt_det[\"ellip_world\"]>0.5\n",
    "    tt_det[\"sel\"]  = sel_ell\n",
    "    kdet_ell = {\"marker\":\"o\",\"color\":\"b\",\"markersize\": 4.5,\"alpha\":1,\"markeredgewidth\": lw}\n",
    "    ax, tt_det_ell = vvis.plot_sky_sources(tt_det, src_id=None,src_kwargs=kdet_ell, sky_region_wcs = (sky_art,wcs_art), only_selected=True)\n",
    "    \n",
    "    sel_cs = tt_det[\"class_star\"]<0.6\n",
    "    tt_det[\"sel\"]  = sel_cs\n",
    "    kdet_cs = {\"marker\":\"o\",\"color\":\"g\",\"markersize\": 2.5,\"alpha\":1,\"markeredgewidth\": lw}\n",
    "    ax, tt_det_cs = vvis.plot_sky_sources(tt_det, src_id=None,src_kwargs=kdet_cs, sky_region_wcs = (sky_art,wcs_art), only_selected=True)\n",
    "    \n",
    "    sel_art = tt_det[\"artifacts\"]>0\n",
    "    tt_det[\"sel\"]  = sel_art\n",
    "    kdet_art = {\"marker\":\"o\",\"color\":\"y\",\"markersize\": 3.5,\"alpha\":1,\"markeredgewidth\": lw}\n",
    "    ax, tt_det_art = vvis.plot_sky_sources(tt_det, src_id=None,src_kwargs=kdet_art, sky_region_wcs = (sky_art,wcs_art), only_selected=True)\n",
    "\n",
    "plt.show()\n",
    "\n",
    "fig_dist, axs = plt.subplots(1,3,figsize=(9, 4),squeeze=False)\n",
    "axs = axs.flatten()\n",
    "axs[0].hist(tt_det[\"ellip_world\"])\n",
    "axs[0].set_xlabel(\"ellip_world\")\n",
    "axs[1].hist(tt_det[\"class_star\"])\n",
    "axs[1].set_xlabel(\"class_star\")\n",
    "axs[2].hist(tt_det[\"artifacts\"])\n",
    "axs[2].set_xlabel(\"artifacts\")\n",
    "plt.show()\n",
    "display(tt_det_ell,tt_det_cs,tt_det_art)"
   ]
  },
  {
   "cell_type": "markdown",
   "id": "4d941a6f-ceaa-49ee-bd4d-eac66de3959a",
   "metadata": {},
   "source": [
    "Interresting cases (ICCS):\n",
    "* 241.49, 55.50: Extended sourse cut out by class_star cut, but not ellipse"
   ]
  },
  {
   "cell_type": "code",
   "execution_count": null,
   "id": "3d6cf13f-3956-4f70-9469-725c531a6a5f",
   "metadata": {},
   "outputs": [],
   "source": [
    "#selections = { \"table\":\"tt_detections\",\"presel_type\":\"and\", \"sel_type\":\"and\",\n",
    "#              \"range\": {\"s2n\":[3.5,np.inf],\"r_fov\":[0.0,0.55], \"class_star\": [0.6,1.0] ,\"chkobj_type\": [-0.5,0.5]}}\n",
    "#print(selections)\n",
    "#fd.select_rows(selections, remove_unselected=False)"
   ]
  }
 ],
 "metadata": {
  "kernelspec": {
   "display_name": "Python 3 (ipykernel)",
   "language": "python",
   "name": "python3"
  },
  "language_info": {
   "codemirror_mode": {
    "name": "ipython",
    "version": 3
   },
   "file_extension": ".py",
   "mimetype": "text/x-python",
   "name": "python",
   "nbconvert_exporter": "python",
   "pygments_lexer": "ipython3",
   "version": "3.10.9"
  }
 },
 "nbformat": 4,
 "nbformat_minor": 5
}
