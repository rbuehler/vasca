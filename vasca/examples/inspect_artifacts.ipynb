{
 "cells": [
  {
   "cell_type": "markdown",
   "id": "1e48a14a-618b-438e-b8cc-62efbe64beab",
   "metadata": {},
   "source": [
    "# Visualize artifacts and the detections on them "
   ]
  },
  {
   "cell_type": "markdown",
   "id": "315fae40-94c4-4a31-83ca-274e94cb289f",
   "metadata": {},
   "source": [
    "### Setup main notebook options"
   ]
  },
  {
   "cell_type": "code",
   "execution_count": 1,
   "id": "6c6138f1-a0c7-4250-96b5-1a637c6f6e5b",
   "metadata": {},
   "outputs": [],
   "source": [
    "region_name = \"TDS_ELAISN1\"  #_ELAISN1\n",
    "\n",
    "# Add artifacts here\n",
    "dd_arts = [{\"field_id\":\"GNU2597312684324028416\", \"ra\":243.31, \"dec\":55.79, \"rad\":0.01},   # 0 Detection structures next to bright source\n",
    "           {\"field_id\":\"GNU2597312684324028416\", \"ra\":243.28, \"dec\":55.76, \"rad\":0.02},   # 1 Multiple circular artifacts due to bright star\n",
    "           {\"field_id\":\"GNU2597312684324028416\", \"ra\":243.41, \"dec\":56.27, \"rad\":0.02},   # 2 Edge line\n",
    "           {\"field_id\":\"GNU2597523790556561408\", \"ra\":241.405, \"dec\":55.615, \"rad\":0.01}, # 3 Ring without bright source\n",
    "           {\"field_id\":\"GNU2597523790556561408\", \"ra\":241.58, \"dec\":55.43, \"rad\":0.01},   # 4 Line artifact\n",
    "           {\"field_id\":\"GNU2597594159300739072\", \"ra\":244.30, \"dec\":53.695, \"rad\":0.02},  # 5 Edge line\n",
    "           {\"field_id\":\"GNU2597664528044916736\", \"ra\":242.79, \"dec\":53.97, \"rad\":0.01},   # 6 Ghost next to bright source\n",
    "           {\"field_id\":\"GFU2597312684324028416\", \"ra\":243.36, \"dec\":55.75, \"rad\":0.07},   # 7 Very bright star makes cross, also effects in NUV idx 0,1\n",
    "           #{\"field_id\":\"\", \"ra\":, \"dec\":, \"rad\":0.01},\n",
    "           #{\"field_id\":\"\", \"ra\":, \"dec\":, \"rad\":0.01},\n",
    "           #{\"field_id\":\"\", \"ra\":, \"dec\":, \"rad\":0.01}, \n",
    "        ]"
   ]
  },
  {
   "cell_type": "code",
   "execution_count": 2,
   "id": "dbb1bbbb-3d8e-4475-89ca-d97839217283",
   "metadata": {
    "jupyter": {
     "source_hidden": true
    }
   },
   "outputs": [],
   "source": [
    "%matplotlib widget\n",
    "import ipywidgets as widgets\n",
    "from IPython.display import display\n",
    "import matplotlib.pyplot as plt\n",
    "\n",
    "from regions import CircleSkyRegion\n",
    "from astropy import units as uu\n",
    "from astropy.coordinates import SkyCoord\n",
    "from astropy.wcs.utils import pixel_to_skycoord\n",
    "import numpy as np\n",
    "\n",
    "from vasca.region import Region\n",
    "from vasca.field import BaseField\n",
    "import vasca.visualization as vvis\n",
    "\n",
    "from vasca.utils import mag2flux, sel_sources, dd_filter2id\n",
    "\n",
    "#Load region and field\n",
    "region_fname = \"./vasca_pipeline/\"+region_name+\"/region_\"+region_name+\".fits\"\n",
    "rg = Region()\n",
    "rg.load_from_fits(region_fname)\n",
    "#display(rg.tt_fields)"
   ]
  },
  {
   "cell_type": "code",
   "execution_count": 3,
   "id": "20c16dff-8610-44bb-9026-1be915925574",
   "metadata": {},
   "outputs": [
    {
     "data": {
      "application/vnd.jupyter.widget-view+json": {
       "model_id": "ab006b1abe6f4629af37734bdc920fa7",
       "version_major": 2,
       "version_minor": 0
      },
      "text/plain": [
       "interactive(children=(IntSlider(value=0, description='art_idx', max=7), Output()), _dom_classes=('widget-inter…"
      ]
     },
     "execution_count": 3,
     "metadata": {},
     "output_type": "execute_result"
    }
   ],
   "source": [
    "def plot_art(art_idx):\n",
    "    dd_art = dd_arts[art_idx]\n",
    "    fd = rg.get_field(field_id=dd_art[\"field_id\"], load_method=\"FITS\", add_field=True)\n",
    "    fig_art = plt.figure(\"Sky map artifact\",figsize=(8, 7))\n",
    "    \n",
    "    sky_center = SkyCoord(dd_art[\"ra\"]*uu.deg, dd_art[\"dec\"]*uu.deg, frame=\"icrs\")\n",
    "    sky_art= CircleSkyRegion(center=sky_center, radius=dd_art[\"rad\"]*uu.deg)\n",
    "    plt.cla()\n",
    "    ax, wcs_art = vvis.plot_field_sky_map(fd, img_idx=-1, sky_region = sky_art, fig=fig_art)\n",
    "    \n",
    "    print(\"all:red, ellipse:blue , class_star:green, artifact:white\")\n",
    "    lw= 0.8\n",
    "    sel_s2n = fd.tt_detections[\"s2n\"]>3.5\n",
    "    fd.tt_detections[\"sel\"]  = sel_s2n\n",
    "    kdet_s2n = {\"marker\":\"o\",\"color\":\"r\",\"markersize\": 8,\"alpha\":1,\"markeredgewidth\": lw}\n",
    "    ax, tt_det = vvis.plot_sky_sources( fd.tt_detections, src_id=None,src_kwargs=kdet_s2n, sky_region_wcs = (sky_art,wcs_art), only_selected=True)\n",
    "    \n",
    "    sel_ell = tt_det[\"ellip_world\"]>0.5\n",
    "    tt_det[\"sel\"]  = sel_ell\n",
    "    kdet_ell = {\"marker\":\"o\",\"color\":\"b\",\"markersize\": 6.5,\"alpha\":1,\"markeredgewidth\": lw}\n",
    "    ax, tt_det_ell = vvis.plot_sky_sources(tt_det, src_id=None,src_kwargs=kdet_ell, sky_region_wcs = (sky_art,wcs_art), only_selected=True)\n",
    "    \n",
    "    sel_cs = tt_det[\"class_star\"]<0.5\n",
    "    tt_det[\"sel\"]  = sel_cs\n",
    "    kdet_cs = {\"marker\":\"o\",\"color\":\"g\",\"markersize\": 5,\"alpha\":1,\"markeredgewidth\": lw}\n",
    "    ax, tt_det_cs = vvis.plot_sky_sources(tt_det, src_id=None,src_kwargs=kdet_cs, sky_region_wcs = (sky_art,wcs_art), only_selected=True)\n",
    "    \n",
    "    sel_art = tt_det[\"artifacts\"]>0\n",
    "    tt_det[\"sel\"]  = sel_art\n",
    "    kdet_art = {\"marker\":\"o\",\"color\":\"w\",\"markersize\": 3.5,\"alpha\":1,\"markeredgewidth\": lw}\n",
    "    ax, tt_det_art = vvis.plot_sky_sources(tt_det, src_id=None,src_kwargs=kdet_art, sky_region_wcs = (sky_art,wcs_art), only_selected=True)\n",
    "    plt.show()\n",
    "    \n",
    "    #Draw some distributions in field\n",
    "    fig_dist, axs = plt.subplots(1,4,figsize=(12, 3.5),squeeze=False)\n",
    "    axs = axs.flatten()\n",
    "    plot_vars = [\"ellip_world\",\"size_world\",\"class_star\",\"artifacts\"]\n",
    "    plot_bins = [20           ,20          , 20         , \"sqrt\"]\n",
    "    plot_log  = [False        , False       , False      , True ]\n",
    "    for ii in range(0,4):\n",
    "        axs[ii].hist([fd.tt_detections[plot_vars[ii]],tt_det[plot_vars[ii]]],density=True, bins = plot_bins[ii], log = plot_log[ii])\n",
    "        #axs[ii].hist()\n",
    "        axs[ii].set_xlabel(plot_vars[ii])\n",
    "    \n",
    "    plt.show()\n",
    "    display(tt_det)\n",
    "widgets.interactive( plot_art, art_idx=widgets.IntSlider(min=0, max=len(dd_arts)-1, value=0, step=1))"
   ]
  },
  {
   "cell_type": "markdown",
   "id": "4d941a6f-ceaa-49ee-bd4d-eac66de3959a",
   "metadata": {},
   "source": [
    "Interresting cases (ICCS):\n",
    "* 241.49, 55.50: Extended sourse cut out by class_star cut, but not ellipse"
   ]
  },
  {
   "cell_type": "code",
   "execution_count": 4,
   "id": "3d6cf13f-3956-4f70-9469-725c531a6a5f",
   "metadata": {
    "jupyter": {
     "source_hidden": true
    }
   },
   "outputs": [],
   "source": [
    "#selections = { \"table\":\"tt_detections\",\"presel_type\":\"and\", \"sel_type\":\"and\",\n",
    "#              \"range\": {\"s2n\":[3.5,np.inf],\"r_fov\":[0.0,0.55], \"class_star\": [0.6,1.0] ,\"chkobj_type\": [-0.5,0.5]}}\n",
    "#print(selections)\n",
    "#fd.select_rows(selections, remove_unselected=False)"
   ]
  }
 ],
 "metadata": {
  "kernelspec": {
   "display_name": "Python 3 (ipykernel)",
   "language": "python",
   "name": "python3"
  },
  "language_info": {
   "codemirror_mode": {
    "name": "ipython",
    "version": 3
   },
   "file_extension": ".py",
   "mimetype": "text/x-python",
   "name": "python",
   "nbconvert_exporter": "python",
   "pygments_lexer": "ipython3",
   "version": "3.10.9"
  }
 },
 "nbformat": 4,
 "nbformat_minor": 5
}
