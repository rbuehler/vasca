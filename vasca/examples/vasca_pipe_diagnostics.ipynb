{
 "cells": [
  {
   "cell_type": "markdown",
   "id": "f8618e38-1c69-4f13-b965-1ff6cf2fce9b",
   "metadata": {},
   "source": [
    "# Diagnostic figures for sources and detections\n",
    "Select your setting below"
   ]
  },
  {
   "cell_type": "markdown",
   "id": "67d26449-7711-47a5-a415-4be3285e7ba4",
   "metadata": {},
   "source": [
    "## Show fields"
   ]
  },
  {
   "cell_type": "code",
   "execution_count": 5,
   "id": "d3ecb080-16d3-42b9-a335-e6f034f36294",
   "metadata": {},
   "outputs": [],
   "source": [
    "region_name = \"WD\" #\"TDS\"\n",
    "dets_field_id_nuv = \"GNU2534578948688314368\" #\"GNU2597664528044916736\"  # Field ID to show detections from\n",
    "dets_field_id_fuv = \"GNU2534578948688314368\""
   ]
  },
  {
   "cell_type": "code",
   "execution_count": 6,
   "id": "3b4f7027-9a5a-42d5-88ad-695d343c0f20",
   "metadata": {},
   "outputs": [
    {
     "data": {
      "text/html": [
       "<div><i>Table length=6</i>\n",
       "<table id=\"table139682066902480\" class=\"table-striped table-bordered table-condensed\">\n",
       "<thead><tr><th>field_id</th><th>field_name</th><th>project</th><th>ra</th><th>dec</th><th>observatory</th><th>obs_filter</th><th>fov_diam</th><th>sel</th><th>nr_vis</th><th>time_bin_size_sum</th><th>time_start</th><th>time_stop</th><th>rg_fd_id</th></tr></thead>\n",
       "<thead><tr><th></th><th></th><th></th><th>deg</th><th>deg</th><th></th><th></th><th>deg</th><th></th><th></th><th>s</th><th>d</th><th>d</th><th></th></tr></thead>\n",
       "<thead><tr><th>bytes32</th><th>bytes32</th><th>bytes32</th><th>float64</th><th>float64</th><th>bytes22</th><th>bytes8</th><th>float32</th><th>bool</th><th>int32</th><th>float32</th><th>float64</th><th>float64</th><th>int64</th></tr></thead>\n",
       "<tr><td>GNU2534578948688314368</td><td>GROTH_00</td><td>DIS</td><td>214.99207782079907</td><td>52.7837301934288</td><td>GALEX</td><td>NUV</td><td>1.2</td><td>True</td><td>188</td><td>257409.7</td><td>52809.54009259259</td><td>55713.58665509259</td><td>1</td></tr>\n",
       "<tr><td>GNU2534684502005907456</td><td>GROTH_01</td><td>DIS</td><td>215.02971782408997</td><td>52.7723721767936</td><td>GALEX</td><td>NUV</td><td>1.2</td><td>True</td><td>11</td><td>15863.25</td><td>54554.143958333334</td><td>56994.05002314815</td><td>2</td></tr>\n",
       "<tr><td>GNU2607305045997256704</td><td>PS_GROTH_MOS05</td><td>DIS</td><td>215.49424460210594</td><td>52.7780196325928</td><td>GALEX</td><td>NUV</td><td>1.2</td><td>True</td><td>18</td><td>25969.498</td><td>54955.725069444445</td><td>57328.919781358505</td><td>3</td></tr>\n",
       "<tr><td>GFU2534578948688314368</td><td>GROTH_00</td><td>DIS</td><td>214.99207782079907</td><td>52.7837301934288</td><td>GALEX</td><td>FUV</td><td>1.2</td><td>True</td><td>99</td><td>140796.31</td><td>52809.54009259259</td><td>55713.58665509259</td><td>4</td></tr>\n",
       "<tr><td>GFU2534684502005907456</td><td>GROTH_01</td><td>DIS</td><td>215.02971782408997</td><td>52.7723721767936</td><td>GALEX</td><td>FUV</td><td>1.2</td><td>True</td><td>9</td><td>13169.9</td><td>54554.143958333334</td><td>55960.00606608073</td><td>5</td></tr>\n",
       "<tr><td>GFU2607305045997256704</td><td>PS_GROTH_MOS05</td><td>DIS</td><td>215.49424460210594</td><td>52.7780196325928</td><td>GALEX</td><td>FUV</td><td>1.2</td><td>True</td><td>4</td><td>5378.4</td><td>54955.725069444445</td><td>56363.92515950521</td><td>6</td></tr>\n",
       "</table></div>"
      ],
      "text/plain": [
       "<Table length=6>\n",
       "       field_id          field_name   project ...     time_stop      rg_fd_id\n",
       "                                              ...         d                  \n",
       "       bytes32            bytes32     bytes32 ...      float64        int64  \n",
       "---------------------- -------------- ------- ... ------------------ --------\n",
       "GNU2534578948688314368       GROTH_00     DIS ...  55713.58665509259        1\n",
       "GNU2534684502005907456       GROTH_01     DIS ...  56994.05002314815        2\n",
       "GNU2607305045997256704 PS_GROTH_MOS05     DIS ... 57328.919781358505        3\n",
       "GFU2534578948688314368       GROTH_00     DIS ...  55713.58665509259        4\n",
       "GFU2534684502005907456       GROTH_01     DIS ...  55960.00606608073        5\n",
       "GFU2607305045997256704 PS_GROTH_MOS05     DIS ...  56363.92515950521        6"
      ]
     },
     "metadata": {},
     "output_type": "display_data"
    },
    {
     "name": "stdout",
     "output_type": "stream",
     "text": [
      "Nr sources: 6626 / 64\n",
      "Nr detections: 261460 / 9903\n"
     ]
    }
   ],
   "source": [
    "%matplotlib widget\n",
    "import ipywidgets as widgets\n",
    "from IPython.display import display\n",
    "import matplotlib.pyplot as plt\n",
    "\n",
    "from regions import CircleSkyRegion\n",
    "from astropy import units as uu\n",
    "from astropy.coordinates import SkyCoord\n",
    "from astropy.wcs.utils import pixel_to_skycoord\n",
    "import numpy as np\n",
    "\n",
    "from vasca.region import Region\n",
    "from vasca.field import BaseField\n",
    "import vasca.visualization as vvis\n",
    "\n",
    "from vasca.utils import mag2flux\n",
    "\n",
    "#Load region\n",
    "region_fname = \"./vasca_pipeline/\"+region_name+\"/region_\"+region_name+\".fits\"\n",
    "rg = Region()\n",
    "rg.load_from_fits(region_fname)\n",
    "display(rg.tt_fields)\n",
    "sel_var = rg.tt_sources[\"sel\"]\n",
    "print(\"Nr sources:\",len(rg.tt_sources),\"/\",rg.tt_sources[\"sel\"].sum())\n",
    "print(\"Nr detections:\",len(rg.tt_detections),\"/\",rg.tt_sources[sel_var][\"nr_det\"].sum())"
   ]
  },
  {
   "cell_type": "markdown",
   "id": "9bf2b59d-52ea-4ad1-9858-ee262c59fe8b",
   "metadata": {},
   "source": [
    "## Sources"
   ]
  },
  {
   "cell_type": "code",
   "execution_count": 7,
   "id": "69526020-3ab9-4887-be60-37e3ddfc950e",
   "metadata": {},
   "outputs": [
    {
     "name": "stderr",
     "output_type": "stream",
     "text": [
      "/home/buehler/Code/vasca/vasca/visualization.py:779: UserWarning: The figure layout has changed to tight\n",
      "  plt.tight_layout()\n",
      "/home/buehler/Code/vasca/vasca/visualization.py:779: UserWarning: The figure layout has changed to tight\n",
      "  plt.tight_layout()\n",
      "/home/buehler/Code/vasca/vasca/visualization.py:779: UserWarning: The figure layout has changed to tight\n",
      "  plt.tight_layout()\n"
     ]
    },
    {
     "name": "stdout",
     "output_type": "stream",
     "text": [
      "Total / selected sources: 64 / 6626 ( 0.97 %)\n"
     ]
    },
    {
     "name": "stderr",
     "output_type": "stream",
     "text": [
      "/home/buehler/Code/vasca/vasca/visualization.py:779: UserWarning: The figure layout has changed to tight\n",
      "  plt.tight_layout()\n"
     ]
    }
   ],
   "source": [
    "#_ = vvis.plot_pipe_diagnostic(rg, \"tt_sources\", \"scatter\")\n",
    "_ = vvis.plot_pipe_diagnostic(rg, \"tt_sources\", \"hist\", obs_filter_id=1)\n",
    "_ = vvis.plot_pipe_diagnostic(rg, \"tt_sources\", \"scatter\", obs_filter_id=1)\n",
    "_ = vvis.plot_pipe_diagnostic(rg, \"tt_sources\", \"hist\", obs_filter_id=2)\n",
    "_ = vvis.plot_pipe_diagnostic(rg, \"tt_sources\", \"scatter\", obs_filter_id=2)\n",
    "sel= rg.tt_sources[\"sel\"]\n",
    "nr_sel_srcs =len(rg.tt_sources[sel])\n",
    "nr_srcs = len(rg.tt_sources)\n",
    "print(\"Total / selected sources:\",nr_sel_srcs,\"/\",nr_srcs,\"(\",np.round(100*nr_sel_srcs/nr_srcs,2),\"%)\")"
   ]
  },
  {
   "cell_type": "markdown",
   "id": "d1b0b8ea-cbdf-45b3-afbf-aa801bfe88d2",
   "metadata": {},
   "source": [
    "## Detections"
   ]
  },
  {
   "cell_type": "code",
   "execution_count": 8,
   "id": "7bda8637-6ede-4feb-b1d2-ee1fef9b6664",
   "metadata": {},
   "outputs": [],
   "source": [
    "fd_nuv = rg.get_field(field_id=dets_field_id_nuv, load_method=\"FITS\", add_field=True)\n",
    "_ = vvis.plot_pipe_diagnostic(fd_nuv, \"tt_detections\", \"hist\", obs_filter_id=1)\n",
    "_ = vvis.plot_pipe_diagnostic(fd_nuv, \"tt_detections\", \"scatter\", obs_filter_id=1)\n",
    "#fd_fuv = rg.get_field(field_id=dets_field_id_fuv, load_method=\"FITS\", add_field=True)\n",
    "#_ = vvis.plot_pipe_diagnostic(fd_fuv, \"tt_detections\", \"hist\", obs_filter_id=2)\n",
    "#_ = vvis.plot_pipe_diagnostic(fd_fuv, \"tt_detections\", \"scatter\", obs_filter_id=2)"
   ]
  },
  {
   "cell_type": "code",
   "execution_count": null,
   "id": "8623aedd-0ac5-4119-a921-10f2b77a4677",
   "metadata": {},
   "outputs": [],
   "source": []
  }
 ],
 "metadata": {
  "kernelspec": {
   "display_name": "Python 3 (ipykernel)",
   "language": "python",
   "name": "python3"
  },
  "language_info": {
   "codemirror_mode": {
    "name": "ipython",
    "version": 3
   },
   "file_extension": ".py",
   "mimetype": "text/x-python",
   "name": "python",
   "nbconvert_exporter": "python",
   "pygments_lexer": "ipython3",
   "version": "3.10.12"
  }
 },
 "nbformat": 4,
 "nbformat_minor": 5
}
