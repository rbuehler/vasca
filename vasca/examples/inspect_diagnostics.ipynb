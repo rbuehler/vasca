{
 "cells": [
  {
   "cell_type": "markdown",
   "id": "f8618e38-1c69-4f13-b965-1ff6cf2fce9b",
   "metadata": {},
   "source": [
    "# Diagnostic figures for sources and detections\n",
    "Select your setting below"
   ]
  },
  {
   "cell_type": "markdown",
   "id": "67d26449-7711-47a5-a415-4be3285e7ba4",
   "metadata": {},
   "source": [
    "## Show fields"
   ]
  },
  {
   "cell_type": "code",
   "execution_count": 1,
   "id": "d3ecb080-16d3-42b9-a335-e6f034f36294",
   "metadata": {},
   "outputs": [],
   "source": [
    "region_name = \"TDS_ELAISN1\" #\"ALL_10-800\" #\"WD\" #\n",
    "dets_field_id_nuv = \"GNU2597312684324028416\" #\"GNU2534578948688314368\" #\"GNU2597664528044916736\"  # Field ID to show detections from\n",
    "dets_field_id_fuv = \"GFU2597312684324028416\" #\"GFU2534578948688314368\"\n",
    "redo_src_selection = True"
   ]
  },
  {
   "cell_type": "code",
   "execution_count": 2,
   "id": "3b4f7027-9a5a-42d5-88ad-695d343c0f20",
   "metadata": {},
   "outputs": [
    {
     "ename": "ImportError",
     "evalue": "cannot import name 'Region' from partially initialized module 'vasca.region' (most likely due to a circular import) (/home/buehler/Code/vasca/vasca/region.py)",
     "output_type": "error",
     "traceback": [
      "\u001b[0;31m---------------------------------------------------------------------------\u001b[0m",
      "\u001b[0;31mImportError\u001b[0m                               Traceback (most recent call last)",
      "Cell \u001b[0;32mIn[2], line 12\u001b[0m\n\u001b[1;32m      9\u001b[0m \u001b[38;5;28;01mfrom\u001b[39;00m \u001b[38;5;21;01mastropy\u001b[39;00m\u001b[38;5;21;01m.\u001b[39;00m\u001b[38;5;21;01mwcs\u001b[39;00m\u001b[38;5;21;01m.\u001b[39;00m\u001b[38;5;21;01mutils\u001b[39;00m \u001b[38;5;28;01mimport\u001b[39;00m pixel_to_skycoord\n\u001b[1;32m     10\u001b[0m \u001b[38;5;28;01mimport\u001b[39;00m \u001b[38;5;21;01mnumpy\u001b[39;00m \u001b[38;5;28;01mas\u001b[39;00m \u001b[38;5;21;01mnp\u001b[39;00m\n\u001b[0;32m---> 12\u001b[0m \u001b[38;5;28;01mfrom\u001b[39;00m \u001b[38;5;21;01mvasca\u001b[39;00m\u001b[38;5;21;01m.\u001b[39;00m\u001b[38;5;21;01mregion\u001b[39;00m \u001b[38;5;28;01mimport\u001b[39;00m Region\n\u001b[1;32m     13\u001b[0m \u001b[38;5;28;01mfrom\u001b[39;00m \u001b[38;5;21;01mvasca\u001b[39;00m\u001b[38;5;21;01m.\u001b[39;00m\u001b[38;5;21;01mfield\u001b[39;00m \u001b[38;5;28;01mimport\u001b[39;00m BaseField\n\u001b[1;32m     14\u001b[0m \u001b[38;5;28;01mimport\u001b[39;00m \u001b[38;5;21;01mvasca\u001b[39;00m\u001b[38;5;21;01m.\u001b[39;00m\u001b[38;5;21;01mvisualization\u001b[39;00m \u001b[38;5;28;01mas\u001b[39;00m \u001b[38;5;21;01mvvis\u001b[39;00m\n",
      "File \u001b[0;32m~/Code/vasca/vasca/region.py:22\u001b[0m\n\u001b[1;32m     20\u001b[0m \u001b[38;5;28;01mfrom\u001b[39;00m \u001b[38;5;21;01mvasca\u001b[39;00m\u001b[38;5;21;01m.\u001b[39;00m\u001b[38;5;21;01mtables_dict\u001b[39;00m \u001b[38;5;28;01mimport\u001b[39;00m dd_vasca_tables, dd_vasca_columns\n\u001b[1;32m     21\u001b[0m \u001b[38;5;28;01mfrom\u001b[39;00m \u001b[38;5;21;01mvasca\u001b[39;00m\u001b[38;5;21;01m.\u001b[39;00m\u001b[38;5;21;01mutils\u001b[39;00m \u001b[38;5;28;01mimport\u001b[39;00m dd_filter2id, run_LombScargle\n\u001b[0;32m---> 22\u001b[0m \u001b[38;5;28;01mfrom\u001b[39;00m \u001b[38;5;21;01mvasca\u001b[39;00m\u001b[38;5;21;01m.\u001b[39;00m\u001b[38;5;21;01mvasca_pipe\u001b[39;00m \u001b[38;5;28;01mimport\u001b[39;00m get_config\n\u001b[1;32m     25\u001b[0m \u001b[38;5;28;01mclass\u001b[39;00m \u001b[38;5;21;01mRegion\u001b[39;00m(TableCollection):\n\u001b[1;32m     26\u001b[0m \u001b[38;5;250m    \u001b[39m\u001b[38;5;124;03m\"\"\"\u001b[39;00m\n\u001b[1;32m     27\u001b[0m \u001b[38;5;124;03m    `~vasca.Region` defines a region in the sky as a\u001b[39;00m\n\u001b[1;32m     28\u001b[0m \u001b[38;5;124;03m    list of vasca.field objects. It provides functionality to\u001b[39;00m\n\u001b[1;32m     29\u001b[0m \u001b[38;5;124;03m    loop over fields to derive source lists, etc.\u001b[39;00m\n\u001b[1;32m     30\u001b[0m \u001b[38;5;124;03m    \"\"\"\u001b[39;00m\n",
      "File \u001b[0;32m~/Code/vasca/vasca/vasca_pipe.py:18\u001b[0m\n\u001b[1;32m     15\u001b[0m \u001b[38;5;28;01mfrom\u001b[39;00m \u001b[38;5;21;01mloguru\u001b[39;00m \u001b[38;5;28;01mimport\u001b[39;00m logger\n\u001b[1;32m     16\u001b[0m \u001b[38;5;28;01mfrom\u001b[39;00m \u001b[38;5;21;01myamlinclude\u001b[39;00m \u001b[38;5;28;01mimport\u001b[39;00m YamlIncludeConstructor\n\u001b[0;32m---> 18\u001b[0m \u001b[38;5;28;01mfrom\u001b[39;00m \u001b[38;5;21;01mvasca\u001b[39;00m\u001b[38;5;21;01m.\u001b[39;00m\u001b[38;5;21;01mregion\u001b[39;00m \u001b[38;5;28;01mimport\u001b[39;00m Region\n\u001b[1;32m     19\u001b[0m \u001b[38;5;28;01mfrom\u001b[39;00m \u001b[38;5;21;01mvasca\u001b[39;00m\u001b[38;5;21;01m.\u001b[39;00m\u001b[38;5;21;01mtables_dict\u001b[39;00m \u001b[38;5;28;01mimport\u001b[39;00m dd_vasca_tables\n\u001b[1;32m     20\u001b[0m \u001b[38;5;28;01mfrom\u001b[39;00m \u001b[38;5;21;01mvasca\u001b[39;00m\u001b[38;5;21;01m.\u001b[39;00m\u001b[38;5;21;01mtables\u001b[39;00m \u001b[38;5;28;01mimport\u001b[39;00m TableCollection\n",
      "\u001b[0;31mImportError\u001b[0m: cannot import name 'Region' from partially initialized module 'vasca.region' (most likely due to a circular import) (/home/buehler/Code/vasca/vasca/region.py)"
     ]
    }
   ],
   "source": [
    "%matplotlib widget\n",
    "import ipywidgets as widgets\n",
    "from IPython.display import display\n",
    "import matplotlib.pyplot as plt\n",
    "\n",
    "from regions import CircleSkyRegion\n",
    "from astropy import units as uu\n",
    "from astropy.coordinates import SkyCoord\n",
    "from astropy.wcs.utils import pixel_to_skycoord\n",
    "import numpy as np\n",
    "\n",
    "from vasca.region import Region\n",
    "from vasca.field import BaseField\n",
    "import vasca.visualization as vvis\n",
    "\n",
    "from vasca.utils import mag2flux\n",
    "\n",
    "#Load region\n",
    "region_fname = \"./vasca_pipeline/\"+region_name+\"/region_\"+region_name+\".fits\"\n",
    "rg = Region()\n",
    "rg.load_from_fits(region_fname)\n",
    "\n",
    "if redo_src_selection:\n",
    "    rg.redo_src_selection()\n",
    "\n",
    "display(rg.tt_fields)\n",
    "sel_var = rg.tt_sources[\"sel\"]\n",
    "print(\"Nr sources:\",len(rg.tt_sources),\"/\",rg.tt_sources[\"sel\"].sum())\n",
    "print(\"Nr detections:\",len(rg.tt_detections),\"/\",rg.tt_sources[sel_var][\"nr_det\"].sum())"
   ]
  },
  {
   "cell_type": "markdown",
   "id": "9bf2b59d-52ea-4ad1-9858-ee262c59fe8b",
   "metadata": {},
   "source": [
    "## Sources"
   ]
  },
  {
   "cell_type": "code",
   "execution_count": null,
   "id": "69526020-3ab9-4887-be60-37e3ddfc950e",
   "metadata": {},
   "outputs": [],
   "source": [
    "#_ = vvis.plot_pipe_diagnostic(rg, \"tt_sources\", \"scatter\")\n",
    "_ = vvis.plot_pipe_diagnostic(rg, \"tt_sources\", \"hist\", obs_filter_id=1)\n",
    "_ = vvis.plot_pipe_diagnostic(rg, \"tt_sources\", \"scatter\", obs_filter_id=1)\n",
    "_ = vvis.plot_pipe_diagnostic(rg, \"tt_sources\", \"hist\", obs_filter_id=2)\n",
    "_ = vvis.plot_pipe_diagnostic(rg, \"tt_sources\", \"scatter\", obs_filter_id=2)\n",
    "sel= rg.tt_sources[\"sel\"]\n",
    "nr_sel_srcs =len(rg.tt_sources[sel])\n",
    "nr_srcs = len(rg.tt_sources)\n",
    "print(\"Total / selected sources:\",nr_sel_srcs,\"/\",nr_srcs,\"(\",np.round(100*nr_sel_srcs/nr_srcs,2),\"%)\")"
   ]
  },
  {
   "cell_type": "markdown",
   "id": "d1b0b8ea-cbdf-45b3-afbf-aa801bfe88d2",
   "metadata": {},
   "source": [
    "## Detections"
   ]
  },
  {
   "cell_type": "code",
   "execution_count": null,
   "id": "7bda8637-6ede-4feb-b1d2-ee1fef9b6664",
   "metadata": {},
   "outputs": [],
   "source": [
    "fd_nuv = rg.get_field(field_id=dets_field_id_nuv, load_method=\"FITS\", add_field=True)\n",
    "_ = vvis.plot_pipe_diagnostic(fd_nuv, \"tt_detections\", \"hist\", obs_filter_id=1)\n",
    "_ = vvis.plot_pipe_diagnostic(fd_nuv, \"tt_detections\", \"scatter\", obs_filter_id=1)\n",
    "fd_fuv = rg.get_field(field_id=dets_field_id_fuv, load_method=\"FITS\", add_field=True)\n",
    "_ = vvis.plot_pipe_diagnostic(fd_fuv, \"tt_detections\", \"hist\", obs_filter_id=2)\n",
    "_ = vvis.plot_pipe_diagnostic(fd_fuv, \"tt_detections\", \"scatter\", obs_filter_id=2)"
   ]
  },
  {
   "cell_type": "code",
   "execution_count": null,
   "id": "8623aedd-0ac5-4119-a921-10f2b77a4677",
   "metadata": {},
   "outputs": [],
   "source": []
  }
 ],
 "metadata": {
  "kernelspec": {
   "display_name": "Python 3 (ipykernel)",
   "language": "python",
   "name": "python3"
  },
  "language_info": {
   "codemirror_mode": {
    "name": "ipython",
    "version": 3
   },
   "file_extension": ".py",
   "mimetype": "text/x-python",
   "name": "python",
   "nbconvert_exporter": "python",
   "pygments_lexer": "ipython3",
   "version": "3.10.12"
  }
 },
 "nbformat": 4,
 "nbformat_minor": 5
}
