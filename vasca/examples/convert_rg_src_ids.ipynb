{
 "cells": [
  {
   "cell_type": "markdown",
   "id": "ad68efba-0d96-417a-8bc5-2158b4b8c946",
   "metadata": {},
   "source": [
    "# Convert source ids from one region to another"
   ]
  },
  {
   "cell_type": "code",
   "execution_count": 1,
   "id": "3d3e2b59-8387-4cb5-8970-bfaae0b2500b",
   "metadata": {},
   "outputs": [],
   "source": [
    "from astropy import units as uu\n",
    "#First region, usually the old one\n",
    "region1_name = \"ALL_10-800\"  #\"ALL_10-800\" #\"CAINGSGII_10-800\"  #\"TDS\" #\"CAINGSGII_10-800\"  #\"TDS\" # \"MDIS_10-800\" # \"TDS\" # _ELAISN1\n",
    "region1_fname = \"./vasca_pipeline/\"+region1_name+\"/region_\"+region1_name+\".fits\"\n",
    "\n",
    "#Second region, usually the new one\n",
    "region2_name = \"TDS_ELAISN1\" #\"ALL_10-800_LOOSE\"\n",
    "region2_fname = \"./vasca_pipeline/\"+region2_name+\"/region_\"+region2_name+\".fits\"\n",
    "\n",
    "#Source IDs to be converted\n",
    "srcs_ids1 =  [2996 ,11821 ,55034 ,61491 ,64360 ,73354 ,76243 ,92867 ,104078 ,106745 ,124860 ,162490 ,182622 ,199884 ,226975 ,267514 ,588567 ,599887 ,789511 ,814134 ,] # WD and candidates, including GAIA info\n",
    "\n",
    "dist_max = 1*uu.arcsec"
   ]
  },
  {
   "cell_type": "code",
   "execution_count": 2,
   "id": "377bd014-e211-434a-a026-172e64c3b0e4",
   "metadata": {},
   "outputs": [],
   "source": [
    "%matplotlib widget\n",
    "import ipywidgets as widgets\n",
    "from IPython.display import display\n",
    "import matplotlib.pyplot as plt\n",
    "import numpy as np\n",
    "\n",
    "from astropy.coordinates import SkyCoord\n",
    "from astropy.table import unique, Table, hstack, join, setdiff\n",
    "from astroquery.simbad import Simbad\n",
    "from astropy.visualization import quantity_support\n",
    "from astropy.modeling.models import BlackBody\n",
    "from astropy import constants as cc\n",
    "from matplotlib.ticker import ScalarFormatter\n",
    "from astroquery.sdss import SDSS\n",
    "\n",
    "from vasca.region import Region\n",
    "from vasca.field import BaseField\n",
    "import vasca.visualization as vvis\n",
    "from vasca.tables import TableCollection, dd_vasca_columns\n",
    "from vasca.utils import otype2ogroup,dd_ogrp2otypes, dd_ogrp2col, dd_filter2wavelength, mag2flux, flux2mag, query_vizier_sed, add_ogrp\n",
    "\n",
    "from loguru import logger\n",
    "#logger.enable(\"vasca\")"
   ]
  },
  {
   "cell_type": "code",
   "execution_count": 3,
   "id": "c134f181-818a-415d-8e54-9fd72a76a5e2",
   "metadata": {},
   "outputs": [
    {
     "data": {
      "text/html": [
       "<div><i>Table length=1</i>\n",
       "<table id=\"table140642670994832\" class=\"table-striped table-bordered table-condensed\">\n",
       "<thead><tr><th>rg_src_id</th><th>rg_src_id1</th><th>dist_id1</th></tr></thead>\n",
       "<thead><tr><th></th><th></th><th>arcsec</th></tr></thead>\n",
       "<thead><tr><th>int32</th><th>int32</th><th>float64</th></tr></thead>\n",
       "<tr><td>3610</td><td>92867</td><td>0.10998979825014282</td></tr>\n",
       "</table></div>"
      ],
      "text/plain": [
       "<Table length=1>\n",
       "rg_src_id rg_src_id1       dist_id1     \n",
       "                            arcsec      \n",
       "  int32     int32          float64      \n",
       "--------- ---------- -------------------\n",
       "     3610      92867 0.10998979825014282"
      ]
     },
     "metadata": {},
     "output_type": "display_data"
    },
    {
     "name": "stdout",
     "output_type": "stream",
     "text": [
      "srcs_ids = [3610 ,]\n"
     ]
    }
   ],
   "source": [
    "rg1 = Region()\n",
    "rg1.load_from_fits(region1_fname)\n",
    "rg2 = Region()\n",
    "rg2.load_from_fits(region2_fname)\n",
    "\n",
    "if len(srcs_ids1)>0:\n",
    "    rg1.tt_sources.add_index(\"rg_src_id\")\n",
    "    idx1_srcs = rg1.tt_sources.loc_indices[\"rg_src_id\", srcs_ids1]\n",
    "    tt_srcs1 = Table(rg1.tt_sources[idx1_srcs])\n",
    "else:\n",
    "    tt_srcs1 = rg.tt_sources\n",
    "    \n",
    "coords1 = SkyCoord(tt_srcs1[\"ra\"], tt_srcs1[\"dec\"], frame=\"icrs\")\n",
    "coords2 = SkyCoord(rg2.tt_sources[\"ra\"], rg2.tt_sources[\"dec\"], frame=\"icrs\")\n",
    "idx1, d2d, d3d = coords2.match_to_catalog_sky(coords1)\n",
    "\n",
    "rg_src_id1 = tt_srcs1[idx1][\"rg_src_id\"]\n",
    "rg2.tt_sources[\"rg_src_id1\"]=rg_src_id1\n",
    "rg2.tt_sources[\"dist_id1\"]=d2d.to(uu.arcsec)\n",
    "sel = rg2.tt_sources[\"dist_id1\"] < dist_max\n",
    "display(rg2.tt_sources[\"rg_src_id\",\"rg_src_id1\",\"dist_id1\"][sel])\n",
    "print(\"srcs_ids = [\", end=\"\")\n",
    "for src_id in rg2.tt_sources[\"rg_src_id\"][sel].data:\n",
    "    print(src_id,\",\", end=\"\")\n",
    "print(\"]\")"
   ]
  },
  {
   "cell_type": "code",
   "execution_count": null,
   "id": "35d8aef5-4b9f-4ba3-b4b2-0d942f944a4e",
   "metadata": {},
   "outputs": [],
   "source": []
  }
 ],
 "metadata": {
  "kernelspec": {
   "display_name": "Python 3 (ipykernel)",
   "language": "python",
   "name": "python3"
  },
  "language_info": {
   "codemirror_mode": {
    "name": "ipython",
    "version": 3
   },
   "file_extension": ".py",
   "mimetype": "text/x-python",
   "name": "python",
   "nbconvert_exporter": "python",
   "pygments_lexer": "ipython3",
   "version": "3.10.12"
  }
 },
 "nbformat": 4,
 "nbformat_minor": 5
}
