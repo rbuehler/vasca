{
 "cells": [
  {
   "cell_type": "markdown",
   "id": "ad68efba-0d96-417a-8bc5-2158b4b8c946",
   "metadata": {},
   "source": [
    "# Convert source ids from one region to another"
   ]
  },
  {
   "cell_type": "code",
   "execution_count": 1,
   "id": "3d3e2b59-8387-4cb5-8970-bfaae0b2500b",
   "metadata": {},
   "outputs": [],
   "source": [
    "from astropy import units as uu\n",
    "#First region, usually the old one\n",
    "region1_name = \"ALL_10-800_LOOSE\"  #\"ALL_10-800\" #\"CAINGSGII_10-800\"  #\"TDS\" #\"CAINGSGII_10-800\"  #\"TDS\" # \"MDIS_10-800\" # \"TDS\" # _ELAISN1\n",
    "region1_fname = \"./vasca_pipeline/\"+region1_name+\"/region_\"+region1_name+\"_cat.fits\"\n",
    "\n",
    "#Source IDs to be converted\n",
    "srcs_ids1 = [4993 ,13580 ,14504 ,30475 ,50388 ,52994 ,79477 ,120265 ,138783 ,139480 ,162697 ,204419 ,221349 ,228958 ,236839 ,253214 ,253670\n",
    "            ,256433 ,261213 ,331466 ,340464 ,381336 ,390864 ,489430 ,498065 ,525310 ,532554 ,533185 ,540235 ,583838 ,639720 ,645215 ,645730\n",
    "            ,659787 ,666224 ,673175 ,680119 ,691408 ,714140 ,764827 ,1037284 ,1069077 ,1070938 ,1805505 ,1839206 ,2527679 ,3074917 ,] # WD ALL_10-800-LOOSE\n",
    "\n",
    "#Second region, usually the new one\n",
    "region2_name = \"ALL_10-800\"\n",
    "region2_fname = \"./vasca_pipeline/\"+region2_name+\"/region_\"+region2_name+\"_cat.fits\"\n",
    "\n",
    "#Maximum distance to be considered the same source\n",
    "dist_max = 1*uu.arcsec"
   ]
  },
  {
   "cell_type": "code",
   "execution_count": 2,
   "id": "377bd014-e211-434a-a026-172e64c3b0e4",
   "metadata": {},
   "outputs": [],
   "source": [
    "%matplotlib widget\n",
    "import ipywidgets as widgets\n",
    "from IPython.display import display\n",
    "import matplotlib.pyplot as plt\n",
    "import numpy as np\n",
    "\n",
    "from astropy.coordinates import SkyCoord\n",
    "from astropy.table import unique, Table, hstack, join, setdiff\n",
    "from astroquery.simbad import Simbad\n",
    "from astropy.visualization import quantity_support\n",
    "from astropy.modeling.models import BlackBody\n",
    "from astropy import constants as cc\n",
    "from matplotlib.ticker import ScalarFormatter\n",
    "from astroquery.sdss import SDSS\n",
    "\n",
    "from vasca.region import Region\n",
    "from vasca.field import BaseField\n",
    "import vasca.visualization as vvis\n",
    "from vasca.tables import TableCollection, dd_vasca_columns\n",
    "from vasca.utils import otype2ogroup,dd_ogrp2otypes, dd_ogrp2col, dd_filter2wavelength, mag2flux, flux2mag, query_vizier_sed, add_ogrp\n",
    "\n",
    "from loguru import logger\n",
    "#logger.enable(\"vasca\")"
   ]
  },
  {
   "cell_type": "code",
   "execution_count": 3,
   "id": "c134f181-818a-415d-8e54-9fd72a76a5e2",
   "metadata": {},
   "outputs": [
    {
     "name": "stderr",
     "output_type": "stream",
     "text": [
      "WARNING: UnitsWarning: 'log(cm.s**-2)' did not parse as fits unit: 'log' is not a recognized function If this is meant to be a custom unit, define it with 'u.def_unit'. To have it recognized inside a file reader or other code, enable it with 'u.add_enabled_units'. For details, see https://docs.astropy.org/en/latest/units/combining_and_defining.html [astropy.units.core]\n"
     ]
    },
    {
     "name": "stdout",
     "output_type": "stream",
     "text": [
      "rg_src_id rg_src_id1        dist_id1       \n",
      "                             arcsec        \n",
      "--------- ---------- ----------------------\n",
      "     8215      13580 2.5469069747238155e-11\n",
      "    32448      50388  2.289999370653732e-11\n",
      "    54184      79477    0.01262109044767649\n",
      "    98746     138783                    0.0\n",
      "   151796     204419                    0.0\n",
      "   166179     221349                    0.0\n",
      "   172775     228958  4.092245627246673e-10\n",
      "   193067     253214                    0.0\n",
      "   199832     261213  9.999674717101199e-11\n",
      "   259271     331466 1.0910436600057058e-10\n",
      "   265150     340464  1.658875934128795e-10\n",
      "   297278     381336 1.0196898108668681e-10\n",
      "   305192     390864 1.8172551574936445e-10\n",
      "   388172     489430  2.519746251174169e-10\n",
      "   432606     540235  1.144999685326866e-11\n",
      "   472623     583838 1.1103972181471528e-10\n",
      "   535864     659787  1.144999685326866e-11\n",
      "   541266     666224 2.8715562699842645e-11\n",
      "   625693     764827                    0.0\n",
      "  1521738    1805505 1.0216719607309669e-10\n",
      "  1551422    1839206 1.7783888024907468e-10\n",
      "  2136829    2527679                    0.0\n",
      "srcs_ids = [8215 ,32448 ,54184 ,98746 ,151796 ,166179 ,172775 ,193067 ,199832 ,259271 ,265150 ,297278 ,305192 ,388172 ,432606 ,472623 ,535864 ,541266 ,625693 ,1521738 ,1551422 ,2136829 ,]\n",
      "22 counterparts found, for 47 sources\n"
     ]
    }
   ],
   "source": [
    "rg1 = Region()\n",
    "rg1.load_from_fits(region1_fname)\n",
    "rg2 = Region()\n",
    "rg2.load_from_fits(region2_fname)\n",
    "\n",
    "if len(srcs_ids1)>0:\n",
    "    rg1.tt_sources.add_index(\"rg_src_id\")\n",
    "    idx1_srcs = rg1.tt_sources.loc_indices[\"rg_src_id\", srcs_ids1]\n",
    "    tt_srcs1 = Table(rg1.tt_sources[idx1_srcs])\n",
    "else:\n",
    "    tt_srcs1 = rg.tt_sources\n",
    "    \n",
    "coords1 = SkyCoord(tt_srcs1[\"ra\"], tt_srcs1[\"dec\"], frame=\"icrs\")\n",
    "coords2 = SkyCoord(rg2.tt_sources[\"ra\"], rg2.tt_sources[\"dec\"], frame=\"icrs\")\n",
    "idx1, d2d, d3d = coords2.match_to_catalog_sky(coords1)\n",
    "\n",
    "rg_src_id1 = tt_srcs1[idx1][\"rg_src_id\"]\n",
    "rg2.tt_sources[\"rg_src_id1\"]=rg_src_id1\n",
    "rg2.tt_sources[\"dist_id1\"]=d2d.to(uu.arcsec)\n",
    "sel = rg2.tt_sources[\"dist_id1\"] < dist_max\n",
    "#display(rg2.tt_sources[\"rg_src_id\",\"rg_src_id1\",\"dist_id1\"][sel])\n",
    "rg2.tt_sources[\"rg_src_id\",\"rg_src_id1\",\"dist_id1\"][sel].pprint_all()\n",
    "print(\"srcs_ids = [\", end=\"\")\n",
    "for src_id in rg2.tt_sources[\"rg_src_id\"][sel].data:\n",
    "    print(src_id,\",\", end=\"\")\n",
    "print(\"]\")\n",
    "print(sel.sum(), \"counterparts found, for\", len(srcs_ids1), \"sources\" )"
   ]
  },
  {
   "cell_type": "code",
   "execution_count": null,
   "id": "35d8aef5-4b9f-4ba3-b4b2-0d942f944a4e",
   "metadata": {},
   "outputs": [],
   "source": []
  }
 ],
 "metadata": {
  "kernelspec": {
   "display_name": "Python 3 (ipykernel)",
   "language": "python",
   "name": "python3"
  },
  "language_info": {
   "codemirror_mode": {
    "name": "ipython",
    "version": 3
   },
   "file_extension": ".py",
   "mimetype": "text/x-python",
   "name": "python",
   "nbconvert_exporter": "python",
   "pygments_lexer": "ipython3",
   "version": "3.10.12"
  }
 },
 "nbformat": 4,
 "nbformat_minor": 5
}
