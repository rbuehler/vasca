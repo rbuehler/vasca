{
 "cells": [
  {
   "cell_type": "markdown",
   "id": "ad68efba-0d96-417a-8bc5-2158b4b8c946",
   "metadata": {},
   "source": [
    "# Convert source ids from one region to another"
   ]
  },
  {
   "cell_type": "code",
   "execution_count": 1,
   "id": "3d3e2b59-8387-4cb5-8970-bfaae0b2500b",
   "metadata": {},
   "outputs": [],
   "source": [
    "from astropy import units as uu\n",
    "#First region, usually the old one\n",
    "region1_name = \"ALL_10-800\"  #\"ALL_10-800\" #\"CAINGSGII_10-800\"  #\"TDS\" #\"CAINGSGII_10-800\"  #\"TDS\" # \"MDIS_10-800\" # \"TDS\" # _ELAISN1\n",
    "region1_fname = \"./vasca_pipeline/\"+region1_name+\"/region_\"+region1_name+\".fits\"\n",
    "\n",
    "#Source IDs to be converted\n",
    "srcs_ids1 =  [2996 ,11821 ,55034 ,61491 ,64360 ,73354 ,76243 ,92867 ,104078 ,106745 ,124860 ,162490 ,182622 ,199884 ,226975 ,267514 ,588567 ,599887 ,789511 ,814134 ,] # WD and candidates, including GAIA info\n",
    "\n",
    "#Second region, usually the new one\n",
    "region2_name = \"ALL_10-800_LOOSE\"\n",
    "region2_fname = \"./vasca_pipeline/\"+region2_name+\"/region_\"+region2_name+\".fits\"\n",
    "\n",
    "#Maximum distance to be considered the same source\n",
    "dist_max = 1*uu.arcsec"
   ]
  },
  {
   "cell_type": "code",
   "execution_count": 2,
   "id": "377bd014-e211-434a-a026-172e64c3b0e4",
   "metadata": {},
   "outputs": [],
   "source": [
    "%matplotlib widget\n",
    "import ipywidgets as widgets\n",
    "from IPython.display import display\n",
    "import matplotlib.pyplot as plt\n",
    "import numpy as np\n",
    "\n",
    "from astropy.coordinates import SkyCoord\n",
    "from astropy.table import unique, Table, hstack, join, setdiff\n",
    "from astroquery.simbad import Simbad\n",
    "from astropy.visualization import quantity_support\n",
    "from astropy.modeling.models import BlackBody\n",
    "from astropy import constants as cc\n",
    "from matplotlib.ticker import ScalarFormatter\n",
    "from astroquery.sdss import SDSS\n",
    "\n",
    "from vasca.region import Region\n",
    "from vasca.field import BaseField\n",
    "import vasca.visualization as vvis\n",
    "from vasca.tables import TableCollection, dd_vasca_columns\n",
    "from vasca.utils import otype2ogroup,dd_ogrp2otypes, dd_ogrp2col, dd_filter2wavelength, mag2flux, flux2mag, query_vizier_sed, add_ogrp\n",
    "\n",
    "from loguru import logger\n",
    "#logger.enable(\"vasca\")"
   ]
  },
  {
   "cell_type": "code",
   "execution_count": 3,
   "id": "c134f181-818a-415d-8e54-9fd72a76a5e2",
   "metadata": {},
   "outputs": [
    {
     "name": "stdout",
     "output_type": "stream",
     "text": [
      "rg_src_id rg_src_id1        dist_id1       \n",
      "                             arcsec        \n",
      "--------- ---------- ----------------------\n",
      "     8215       2996  0.0006461470132057625\n",
      "    32448      11821  5.868269211343778e-11\n",
      "    67711      92867    0.21070969843371945\n",
      "   151796      55034    0.03358798928417413\n",
      "   166179      61491                    0.0\n",
      "   172775      64360     0.0200684618342995\n",
      "   193067      73354 1.4339030727067295e-10\n",
      "   199832      76243   0.017188398987915875\n",
      "   259271     104078   0.023469826296120298\n",
      "   265150     106745   0.024960750174426984\n",
      "   305192     124860   0.013248172871326059\n",
      "   388172     162490     0.1233475292268099\n",
      "   432606     182622    0.07792410812055205\n",
      "   472623     199884  5.126678565123436e-11\n",
      "   535864     226975    0.19300960416390975\n",
      "   625693     267514  6.057443324924953e-10\n",
      "  1521738     588567    0.11106603209001159\n",
      "  1551422     599887                    0.0\n",
      "  2136829     789511     0.2591118790872122\n",
      "  2210890     814134     0.8595619562530208\n",
      "srcs_ids = [8215 ,32448 ,67711 ,151796 ,166179 ,172775 ,193067 ,199832 ,259271 ,265150 ,305192 ,388172 ,432606 ,472623 ,535864 ,625693 ,1521738 ,1551422 ,2136829 ,2210890 ,]\n",
      "20 counterparts found, for 20 sources\n"
     ]
    }
   ],
   "source": [
    "rg1 = Region()\n",
    "rg1.load_from_fits(region1_fname)\n",
    "rg2 = Region()\n",
    "rg2.load_from_fits(region2_fname)\n",
    "\n",
    "if len(srcs_ids1)>0:\n",
    "    rg1.tt_sources.add_index(\"rg_src_id\")\n",
    "    idx1_srcs = rg1.tt_sources.loc_indices[\"rg_src_id\", srcs_ids1]\n",
    "    tt_srcs1 = Table(rg1.tt_sources[idx1_srcs])\n",
    "else:\n",
    "    tt_srcs1 = rg.tt_sources\n",
    "    \n",
    "coords1 = SkyCoord(tt_srcs1[\"ra\"], tt_srcs1[\"dec\"], frame=\"icrs\")\n",
    "coords2 = SkyCoord(rg2.tt_sources[\"ra\"], rg2.tt_sources[\"dec\"], frame=\"icrs\")\n",
    "idx1, d2d, d3d = coords2.match_to_catalog_sky(coords1)\n",
    "\n",
    "rg_src_id1 = tt_srcs1[idx1][\"rg_src_id\"]\n",
    "rg2.tt_sources[\"rg_src_id1\"]=rg_src_id1\n",
    "rg2.tt_sources[\"dist_id1\"]=d2d.to(uu.arcsec)\n",
    "sel = rg2.tt_sources[\"dist_id1\"] < dist_max\n",
    "#display(rg2.tt_sources[\"rg_src_id\",\"rg_src_id1\",\"dist_id1\"][sel])\n",
    "rg2.tt_sources[\"rg_src_id\",\"rg_src_id1\",\"dist_id1\"][sel].pprint_all()\n",
    "print(\"srcs_ids = [\", end=\"\")\n",
    "for src_id in rg2.tt_sources[\"rg_src_id\"][sel].data:\n",
    "    print(src_id,\",\", end=\"\")\n",
    "print(\"]\")\n",
    "print(sel.sum(), \"counterparts found, for\", len(srcs_ids1), \"sources\" )"
   ]
  },
  {
   "cell_type": "code",
   "execution_count": null,
   "id": "35d8aef5-4b9f-4ba3-b4b2-0d942f944a4e",
   "metadata": {},
   "outputs": [],
   "source": []
  }
 ],
 "metadata": {
  "kernelspec": {
   "display_name": "Python 3 (ipykernel)",
   "language": "python",
   "name": "python3"
  },
  "language_info": {
   "codemirror_mode": {
    "name": "ipython",
    "version": 3
   },
   "file_extension": ".py",
   "mimetype": "text/x-python",
   "name": "python",
   "nbconvert_exporter": "python",
   "pygments_lexer": "ipython3",
   "version": "3.10.12"
  }
 },
 "nbformat": 4,
 "nbformat_minor": 5
}
