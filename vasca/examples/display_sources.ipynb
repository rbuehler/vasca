{
 "cells": [
  {
   "cell_type": "markdown",
   "id": "c0fd65f4-8d6a-45e8-96b6-a972fe024459",
   "metadata": {},
   "source": [
    "# Visualize light curves for all the sources of a region and skymaps of its fields "
   ]
  },
  {
   "cell_type": "code",
   "execution_count": 3,
   "id": "a47713fa-f128-425f-a2d0-754e64ffb654",
   "metadata": {},
   "outputs": [],
   "source": [
    "%matplotlib widget\n",
    "import ipywidgets as widgets\n",
    "from IPython.display import display\n",
    "import matplotlib.pyplot as plt\n",
    "\n",
    "from vasca.region import Region\n",
    "from vasca.field import BaseField\n",
    "import vasca.visualization as vvis\n",
    "\n",
    "from vasca.utils import mag2flux\n",
    "\n",
    "#Setup region and plotting paramters\n",
    "region_name = \"TDS_ELAISN1\"\n",
    "\n",
    "lc_block_srcs = 5 #Setup light curve plotting parameters\n",
    "show_lc_pars = [\"rg_src_id\",\"nr_det\",\"flux\",\"flux_cpval\",\"flux_nxv\",\"flux_rchiq\"]\n",
    "show_map_pars = [\"rg_src_id\",\"ra\",\"dec\",\"pos_err\",\"pos_nxv\",\"nr_det\",\"flux\",\"flux_cpval\", \"nr_fd_srcs\"]\n",
    "sort_par = \"rg_src_id\" # \"flux\" #\"rg_src_id\" #\n",
    "\n",
    "#Load region\n",
    "region_fname = \"./vasca_pipeline/\"+region_name+\"/region_\"+region_name+\".fits\"\n",
    "rg = Region()\n",
    "rg.load_from_fits(region_fname)\n",
    "tt_srcs = rg.tt_sources[rg.tt_sources[\"sel\"]]\n",
    "nr_srcs = len(tt_srcs)\n",
    "tt_srcs.sort(sort_par)\n",
    "#display(tt_srcs)"
   ]
  },
  {
   "cell_type": "markdown",
   "id": "e7a1fe03-a8a7-4936-83ce-5f1a81b6c20f",
   "metadata": {},
   "source": [
    "### Draw light curves"
   ]
  },
  {
   "cell_type": "code",
   "execution_count": 7,
   "id": "b4b6f33c-ac4d-4467-a780-804bee76b0dd",
   "metadata": {},
   "outputs": [
    {
     "data": {
      "application/vnd.jupyter.widget-view+json": {
       "model_id": "10ad156034944cddbf499b8d0693d2ac",
       "version_major": 2,
       "version_minor": 0
      },
      "text/plain": [
       "interactive(children=(IntSlider(value=14, description='block_nr', max=28), Output()), _dom_classes=('widget-in…"
      ]
     },
     "metadata": {},
     "output_type": "display_data"
    }
   ],
   "source": [
    "nr_blocks = int(nr_srcs/lc_block_srcs)+1 \n",
    "fig_lc = plt.figure(\"Light curves\",figsize=(10, 9), constrained_layout=True)\n",
    "flux_ylim = mag2flux([24.5,14.5])/1e-6\n",
    "def plot_lc_range(block_nr):\n",
    "    plt.cla()\n",
    "    lc_min = lc_block_srcs * block_nr\n",
    "    lc_max = lc_min + lc_block_srcs if lc_min + lc_block_srcs<=nr_srcs-1 else nr_srcs-1\n",
    "    vvis.plot_light_curve(rg,fig=fig_lc, rg_src_ids = tt_srcs[\"rg_src_id\"][lc_min:lc_max],ylim = flux_ylim.value ) #, \n",
    "    plt.show()\n",
    "    display(tt_srcs[lc_min:lc_max][show_lc_pars])\n",
    "widgets.interactive( plot_lc_range, block_nr=(0,nr_blocks-1))"
   ]
  },
  {
   "cell_type": "markdown",
   "id": "20ff40c6-d108-4925-b04d-f85e3dd5f663",
   "metadata": {},
   "source": [
    "### Draw sky maps of fields"
   ]
  },
  {
   "cell_type": "code",
   "execution_count": 3,
   "id": "aaa5317e-41b7-47fe-9dca-29ae84bc127b",
   "metadata": {},
   "outputs": [
    {
     "data": {
      "application/vnd.jupyter.widget-view+json": {
       "model_id": "60899506f2b042d397fe749dd5c383d0",
       "version_major": 2,
       "version_minor": 0
      },
      "text/plain": [
       "interactive(children=(IntSlider(value=0, description='rg_fd_id', max=1), Output()), _dom_classes=('widget-inte…"
      ]
     },
     "metadata": {},
     "output_type": "display_data"
    }
   ],
   "source": [
    "fig_skymap = plt.figure(\"Sky map\",figsize=(8, 7), constrained_layout=True)\n",
    "rg.tt_sources.add_index(\"rg_src_id\")\n",
    "def plot_sky_field(rg_fd_id):\n",
    "    plt.cla()\n",
    "    fd = rg.get_field(rg_fd_id=rg_fd_id, load_method=\"FITS\", add_field=True)\n",
    "    fig, ax = vvis.plot_field_sky_map(fd, img_idx=-1, sky_region = fd.get_sky_region(),fig=fig_skymap) # \n",
    "    ax, rg_src_ids = vvis.plot_sky_sources(rg.tt_sources,tt_det=None, sky_region_wcs = (fd.get_sky_region(),fd.ref_wcs)) # \n",
    "    src_idx = rg.tt_sources.loc_indices[\"rg_src_id\", rg_src_ids]\n",
    "    plt.show()\n",
    "    display(rg.tt_sources[src_idx][show_map_pars])\n",
    "widgets.interactive( plot_sky_field, rg_fd_id=(rg.tt_fields[\"rg_fd_id\"].min(),rg.tt_fields[\"rg_fd_id\"].max()))"
   ]
  },
  {
   "cell_type": "code",
   "execution_count": null,
   "id": "40b02103-e651-4c98-bd2f-24461ed03f7e",
   "metadata": {},
   "outputs": [],
   "source": []
  }
 ],
 "metadata": {
  "kernelspec": {
   "display_name": "Python 3 (ipykernel)",
   "language": "python",
   "name": "python3"
  },
  "language_info": {
   "codemirror_mode": {
    "name": "ipython",
    "version": 3
   },
   "file_extension": ".py",
   "mimetype": "text/x-python",
   "name": "python",
   "nbconvert_exporter": "python",
   "pygments_lexer": "ipython3",
   "version": "3.10.6"
  }
 },
 "nbformat": 4,
 "nbformat_minor": 5
}
