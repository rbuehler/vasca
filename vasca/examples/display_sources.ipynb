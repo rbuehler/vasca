{
 "cells": [
  {
   "cell_type": "markdown",
   "id": "c0fd65f4-8d6a-45e8-96b6-a972fe024459",
   "metadata": {},
   "source": [
    "# Visualize light curves for all the sources of a region and skymaps of its fields "
   ]
  },
  {
   "cell_type": "code",
   "execution_count": 1,
   "id": "a47713fa-f128-425f-a2d0-754e64ffb654",
   "metadata": {},
   "outputs": [],
   "source": [
    "%matplotlib widget\n",
    "import ipywidgets as widgets\n",
    "from IPython.display import display\n",
    "import matplotlib.pyplot as plt\n",
    "\n",
    "from regions import CircleSkyRegion\n",
    "from astropy import units as uu\n",
    "from astropy.coordinates import SkyCoord\n",
    "from astropy.wcs.utils import pixel_to_skycoord\n",
    "\n",
    "from vasca.region import Region\n",
    "from vasca.field import BaseField\n",
    "import vasca.visualization as vvis\n",
    "\n",
    "from vasca.utils import mag2flux\n",
    "\n",
    "# ------------------  Setup region and plotting paramters  ----------------------\n",
    "\n",
    "region_name = \"TDS\" #_ELAISN1\n",
    "lc_block_srcs = 5 #Setup light curve plotting parameters\n",
    "show_lc_pars = [\"rg_src_id\",\"nr_det\",\"flux\",\"flux_cpval\",\"flux_nxv\",\"flux_rchiq\"]\n",
    "show_map_pars = [\"rg_src_id\",\"ra\",\"dec\",\"pos_err\",\"pos_nxv\",\"nr_det\",\"flux\",\"flux_cpval\", \"nr_fd_srcs\"]\n",
    "sort_par = \"rg_src_id\" # \"flux\" #\"rg_src_id\" #\n",
    "only_sel_srcs = True\n",
    "\n",
    "# -------------------------------------------------------------------------------\n",
    "\n",
    "#Load region\n",
    "region_fname = \"./vasca_pipeline/\"+region_name+\"/region_\"+region_name+\".fits\"\n",
    "rg = Region()\n",
    "rg.load_from_fits(region_fname)\n",
    "\n",
    "tt_srcs = rg.tt_sources\n",
    "if only_sel_srcs:\n",
    "    tt_srcs = rg.tt_sources[rg.tt_sources[\"sel\"]]\n",
    "nr_srcs = len(tt_srcs)\n",
    "tt_srcs.sort(sort_par)\n",
    "tt_srcs.add_index(\"rg_src_id\")"
   ]
  },
  {
   "cell_type": "markdown",
   "id": "23df4759-a6cd-462d-8fa6-dcd4c14bd395",
   "metadata": {},
   "source": [
    "### SHow all info for one source"
   ]
  },
  {
   "cell_type": "code",
   "execution_count": 2,
   "id": "c038cd88-42e8-4897-a277-bbf207f4c930",
   "metadata": {},
   "outputs": [
    {
     "data": {
      "application/vnd.jupyter.widget-view+json": {
       "model_id": "b44c1ead77104c3f95a93d6067262d39",
       "version_major": 2,
       "version_minor": 0
      },
      "text/plain": [
       "interactive(children=(Dropdown(description='rg_src_id', options=(2, 6, 145, 148, 154, 222, 271, 498, 555, 564,…"
      ]
     },
     "metadata": {},
     "output_type": "display_data"
    }
   ],
   "source": [
    "def plot_sky_src(rg_src_id=0):\n",
    "    if rg_src_id not in tt_srcs[\"rg_src_id\"]:\n",
    "        print(\"source ID does not exist\") \n",
    "        return\n",
    "    \n",
    "    fig_src = plt.figure(\"Sky map source\",figsize=(8, 7))\n",
    "    plt.cla()\n",
    "\n",
    "    tc_src = rg.get_src_from_id(rg_src_id)\n",
    "    \n",
    "    #Get sky region of source\n",
    "    sky_center = SkyCoord(tc_src.tt_sources[0][\"ra\"]*uu.deg, tc_src.tt_sources[0][\"dec\"]*uu.deg, frame=\"icrs\")\n",
    "    sky_region_src = CircleSkyRegion(center=sky_center, radius=0.5*uu.arcmin)\n",
    "    \n",
    "    #Get field to plot\n",
    "    fd_src = rg.get_field(rg_fd_id=tc_src.tt_fields[0][\"rg_fd_id\"], load_method=\"FITS\", add_field=True)\n",
    "    \n",
    "    #Plot\n",
    "    #plt.cla()\n",
    "    ax_src, wcs_src = vvis.plot_field_sky_map(fd_src, img_idx=-1, sky_region = sky_region_src,fig=fig_src) # \n",
    "    _ = vvis.plot_sky_sources(tc_src.tt_sources,tt_det=tc_src.tt_detections, sky_region_wcs = (sky_region_src,wcs_src),only_selected=False) #\n",
    "    plt.show()\n",
    "    \n",
    "    fig_lc_src = plt.figure(\"Light curve\",figsize=(8, 6))\n",
    "    plt.cla()\n",
    "    vvis.plot_light_curve(rg,fig=fig_lc_src, rg_src_ids = rg_src_id)\n",
    "    plt.show()\n",
    "    \n",
    "    \n",
    "    display(tc_src.tt_sources[show_map_pars])\n",
    "    display(tc_src.tt_detections)\n",
    "    display(tc_src.tt_fields)\n",
    "widgets.interactive( plot_sky_src, rg_src_id=tt_srcs[\"rg_src_id\"])"
   ]
  },
  {
   "cell_type": "markdown",
   "id": "20ff40c6-d108-4925-b04d-f85e3dd5f663",
   "metadata": {},
   "source": [
    "### Draw sky maps of fields"
   ]
  },
  {
   "cell_type": "code",
   "execution_count": 3,
   "id": "aaa5317e-41b7-47fe-9dca-29ae84bc127b",
   "metadata": {},
   "outputs": [
    {
     "data": {
      "application/vnd.jupyter.widget-view+json": {
       "model_id": "b1b510df0e1d49b387d1f3fd2442bc24",
       "version_major": 2,
       "version_minor": 0
      },
      "text/plain": [
       "interactive(children=(IntSlider(value=20, description='rg_fd_id', max=41), Output()), _dom_classes=('widget-in…"
      ]
     },
     "metadata": {},
     "output_type": "display_data"
    }
   ],
   "source": [
    "def plot_sky_field(rg_fd_id):\n",
    "    if rg_fd_id not in rg.tt_fields[\"rg_fd_id\"]:\n",
    "        print(\"source ID does not exist\") \n",
    "        return\n",
    "    fig_skymap = plt.figure(\"Sky map\",figsize=(9, 8)) #, constrained_layout=True\n",
    "    plt.cla()\n",
    "    fd = rg.get_field(rg_fd_id=rg_fd_id, load_method=\"FITS\", add_field=True)\n",
    "    ax, wcs = vvis.plot_field_sky_map(fd, img_idx=-1, sky_region = fd.get_sky_region(),fig=fig_skymap) # \n",
    "    ax, rg_src_ids = vvis.plot_sky_sources(tt_srcs,tt_det=rg.tt_detections, sky_region_wcs = (fd.get_sky_region(),wcs),only_selected=False) # \n",
    "    src_idx = tt_srcs.loc_indices[\"rg_src_id\", rg_src_ids]\n",
    "    plt.show()\n",
    "    display(tt_srcs[src_idx][show_map_pars])\n",
    "widgets.interactive( plot_sky_field, rg_fd_id=(rg.tt_fields[\"rg_fd_id\"].min(),rg.tt_fields[\"rg_fd_id\"].max()))"
   ]
  },
  {
   "cell_type": "markdown",
   "id": "e7a1fe03-a8a7-4936-83ce-5f1a81b6c20f",
   "metadata": {},
   "source": [
    "### Draw light curves"
   ]
  },
  {
   "cell_type": "code",
   "execution_count": 4,
   "id": "b4b6f33c-ac4d-4467-a780-804bee76b0dd",
   "metadata": {},
   "outputs": [
    {
     "data": {
      "application/vnd.jupyter.widget-view+json": {
       "model_id": "cc3b050b88bd4bd8b14795388818c42f",
       "version_major": 2,
       "version_minor": 0
      },
      "text/plain": [
       "interactive(children=(IntSlider(value=186, description='block_nr', max=373), Output()), _dom_classes=('widget-…"
      ]
     },
     "metadata": {},
     "output_type": "display_data"
    }
   ],
   "source": [
    "nr_blocks = int(nr_srcs/lc_block_srcs)+1 \n",
    "flux_ylim = mag2flux([24.5,14.5])/1e-6\n",
    "def plot_lc_range(block_nr):\n",
    "    fig_lc = plt.figure(\"Light curves\",figsize=(10, 9))\n",
    "    plt.cla()\n",
    "    lc_min = lc_block_srcs * block_nr\n",
    "    lc_max = lc_min + lc_block_srcs if lc_min + lc_block_srcs<=nr_srcs-1 else nr_srcs-1\n",
    "    vvis.plot_light_curve(rg,fig=fig_lc, rg_src_ids = tt_srcs[\"rg_src_id\"][lc_min:lc_max],ylim = flux_ylim.value ) #, \n",
    "    plt.show()\n",
    "    display(tt_srcs[lc_min:lc_max][show_lc_pars])\n",
    "widgets.interactive( plot_lc_range, block_nr=(0,nr_blocks-1))"
   ]
  },
  {
   "cell_type": "code",
   "execution_count": null,
   "id": "40b02103-e651-4c98-bd2f-24461ed03f7e",
   "metadata": {},
   "outputs": [],
   "source": []
  }
 ],
 "metadata": {
  "kernelspec": {
   "display_name": "Python 3 (ipykernel)",
   "language": "python",
   "name": "python3"
  },
  "language_info": {
   "codemirror_mode": {
    "name": "ipython",
    "version": 3
   },
   "file_extension": ".py",
   "mimetype": "text/x-python",
   "name": "python",
   "nbconvert_exporter": "python",
   "pygments_lexer": "ipython3",
   "version": "3.10.6"
  }
 },
 "nbformat": 4,
 "nbformat_minor": 5
}
