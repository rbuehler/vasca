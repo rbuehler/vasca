{
 "cells": [
  {
   "cell_type": "markdown",
   "id": "2ccb25d6-4601-4d17-97c5-6e7cb399dbfb",
   "metadata": {},
   "source": [
    "# VASCA result analysis example TDS\n",
    "### Example notebook to have a look at the results of 'vasca_pipe -cfg ../vasca_cfg.yaml' from the examples folder. The output of the pipline was stored in the folder vasca_pipeline."
   ]
  },
  {
   "cell_type": "code",
   "execution_count": 1,
   "id": "a634423b-968a-4fad-8435-4ef2340005ce",
   "metadata": {},
   "outputs": [],
   "source": [
    "# General path setup and library loading\n",
    "%matplotlib widget\n",
    "import matplotlib.pyplot as plt\n",
    "from scipy.stats import chi2\n",
    "import numpy as np\n",
    "\n",
    "from jdaviz import Imviz\n",
    "from astropy.coordinates import SkyCoord, match_coordinates_sky\n",
    "from astropy import units as uu\n",
    "from astropy.table import Table\n",
    "from astropy.io import fits\n",
    "\n",
    "from loguru import logger\n",
    "\n",
    "from vasca.region import Region\n",
    "from vasca.field import BaseField\n",
    "import vasca.visualization as vvis\n",
    "\n",
    "region_name = \"TDS_ELAI\"\n",
    "region_fname = \"./vasca_pipeline/\"+region_name+\"/region_\"+region_name+\".fits\""
   ]
  },
  {
   "cell_type": "markdown",
   "id": "0606f171-3b01-4112-b427-404d577afef4",
   "metadata": {},
   "source": [
    "### Basic region information"
   ]
  },
  {
   "cell_type": "code",
   "execution_count": 2,
   "id": "77f8401d-49cc-41d6-ba1b-c4caa9f7e842",
   "metadata": {},
   "outputs": [
    {
     "data": {
      "text/html": [
       "<div><i>Table length=1</i>\n",
       "<table id=\"table139773942670160\" class=\"table-striped table-bordered table-condensed\">\n",
       "<thead><tr><th>field_id</th><th>name</th><th>ra</th><th>dec</th><th>observatory</th><th>obs_filter</th><th>sel</th><th>fov_diam</th><th>nr_vis</th><th>time_bin_size_sum</th><th>time_start</th><th>time_stop</th><th>rg_fd_id</th></tr></thead>\n",
       "<thead><tr><th></th><th></th><th>deg</th><th>deg</th><th></th><th></th><th></th><th>deg</th><th></th><th>s</th><th>d</th><th>d</th><th></th></tr></thead>\n",
       "<thead><tr><th>bytes22</th><th>bytes22</th><th>float64</th><th>float64</th><th>bytes22</th><th>bytes22</th><th>bool</th><th>float32</th><th>int32</th><th>float32</th><th>float64</th><th>float64</th><th>int32</th></tr></thead>\n",
       "<tr><td>GNU2597664528044916736</td><td>PS_ELAISN1_MOS15</td><td>242.396514585217</td><td>53.9999872930018</td><td>GALEX</td><td>NUV</td><td>True</td><td>1.1</td><td>22</td><td>28044.65</td><td>54960.52040509259</td><td>56810.67461805556</td><td>0</td></tr>\n",
       "</table></div>"
      ],
      "text/plain": [
       "<Table length=1>\n",
       "       field_id              name       ...     time_stop     rg_fd_id\n",
       "                                        ...         d                 \n",
       "       bytes22             bytes22      ...      float64       int32  \n",
       "---------------------- ---------------- ... ----------------- --------\n",
       "GNU2597664528044916736 PS_ELAISN1_MOS15 ... 56810.67461805556        0"
      ]
     },
     "metadata": {},
     "output_type": "display_data"
    },
    {
     "data": {
      "text/html": [
       "<div><i>Table length=68</i>\n",
       "<table id=\"table139774002005280\" class=\"table-striped table-bordered table-condensed\">\n",
       "<thead><tr><th>fd_src_id</th><th>ra</th><th>dec</th><th>pos_err_mean</th><th>pos_err</th><th>pos_var</th><th>nr_det</th><th>nr_uls</th><th>mag_mean</th><th>mag_err_mean</th><th>mag_var</th><th>flux_cpval</th><th>flux_rchiq</th><th>mag_dmax</th><th>mag_dmax_abs</th><th>mag_dmax_sig</th><th>ul_weight</th><th>mag_sig_int2</th><th>mag_skew</th><th>sel</th><th>rg_fd_id</th><th>rg_src_id</th><th>nr_fd_srcs</th></tr></thead>\n",
       "<thead><tr><th></th><th>deg</th><th>deg</th><th>deg</th><th>deg</th><th>deg</th><th></th><th></th><th>mag</th><th>mag</th><th>mag2</th><th></th><th></th><th>mag</th><th>mag</th><th></th><th></th><th>mag</th><th></th><th></th><th></th><th></th><th></th></tr></thead>\n",
       "<thead><tr><th>int32</th><th>float64</th><th>float64</th><th>float32</th><th>float32</th><th>float32</th><th>int32</th><th>int32</th><th>float32</th><th>float32</th><th>float32</th><th>float32</th><th>float32</th><th>float32</th><th>float32</th><th>float32</th><th>float32</th><th>float32</th><th>float32</th><th>bool</th><th>int32</th><th>int32</th><th>int32</th></tr></thead>\n",
       "<tr><td>-1</td><td>243.05226796495188</td><td>54.1602333087138</td><td>0.00014896913</td><td>3.318835e-05</td><td>4.5517258e-08</td><td>20</td><td>0</td><td>19.722939</td><td>0.033732116</td><td>0.049606666</td><td>0.0</td><td>46.329163</td><td>0.4098339</td><td>0.41153145</td><td>16.180403</td><td>-1.0</td><td>0.04846881</td><td>-0.95487696</td><td>True</td><td>-1</td><td>1066</td><td>1</td></tr>\n",
       "<tr><td>-1</td><td>243.01002444890327</td><td>54.30915736827433</td><td>0.00016790311</td><td>3.947845e-05</td><td>6.83017e-08</td><td>18</td><td>0</td><td>20.7024</td><td>0.06021429</td><td>0.019183725</td><td>2.4111237e-11</td><td>5.100477</td><td>0.26187134</td><td>0.26187134</td><td>4.820832</td><td>-1.0</td><td>0.015557964</td><td>-0.1308935</td><td>True</td><td>-1</td><td>1404</td><td>1</td></tr>\n",
       "<tr><td>-1</td><td>243.00061426730588</td><td>53.749163628178785</td><td>0.00017009529</td><td>6.914086e-05</td><td>1.9957403e-08</td><td>6</td><td>0</td><td>19.400003</td><td>0.033908162</td><td>0.012734835</td><td>1.5326594e-10</td><td>10.932215</td><td>0.2112503</td><td>0.2112503</td><td>6.860072</td><td>-1.0</td><td>0.011585072</td><td>-1.6408125</td><td>True</td><td>-1</td><td>1487</td><td>1</td></tr>\n",
       "<tr><td>-1</td><td>242.99681341636062</td><td>54.33317925377084</td><td>0.00015935091</td><td>4.568788e-05</td><td>1.6923434e-07</td><td>12</td><td>0</td><td>20.001005</td><td>0.03942425</td><td>0.012429002</td><td>8.734066e-12</td><td>6.908556</td><td>0.24984169</td><td>0.24984169</td><td>6.5689425</td><td>-1.0</td><td>0.010874731</td><td>-1.7334745</td><td>True</td><td>-1</td><td>1522</td><td>1</td></tr>\n",
       "<tr><td>-1</td><td>242.97254871778915</td><td>54.17706373110254</td><td>0.00015122969</td><td>3.4387762e-05</td><td>1.0775002e-07</td><td>19</td><td>0</td><td>19.032818</td><td>0.024019372</td><td>0.00440335</td><td>2.4110234e-19</td><td>7.3218055</td><td>0.12687111</td><td>0.12687111</td><td>5.359784</td><td>-1.0</td><td>0.0038264198</td><td>-0.6971895</td><td>True</td><td>-1</td><td>1726</td><td>1</td></tr>\n",
       "<tr><td>-1</td><td>242.9550953142828</td><td>54.31596825537299</td><td>0.0002163788</td><td>5.5151162e-05</td><td>3.6284953e-07</td><td>15</td><td>0</td><td>21.498163</td><td>0.12442566</td><td>0.09096694</td><td>5.5295227e-11</td><td>5.6020455</td><td>0.61948204</td><td>0.61948204</td><td>5.5112286</td><td>-1.0</td><td>0.07548519</td><td>-0.43961006</td><td>True</td><td>-1</td><td>1869</td><td>1</td></tr>\n",
       "<tr><td>...</td><td>...</td><td>...</td><td>...</td><td>...</td><td>...</td><td>...</td><td>...</td><td>...</td><td>...</td><td>...</td><td>...</td><td>...</td><td>...</td><td>...</td><td>...</td><td>...</td><td>...</td><td>...</td><td>...</td><td>...</td><td>...</td><td>...</td></tr>\n",
       "<tr><td>-1</td><td>241.65560410839876</td><td>54.21466035989966</td><td>0.00015654099</td><td>3.4107932e-05</td><td>1.12848134e-07</td><td>21</td><td>0</td><td>19.65578</td><td>0.034522492</td><td>0.0069474033</td><td>2.0398397e-14</td><td>5.4954915</td><td>0.29523468</td><td>0.29523468</td><td>7.066624</td><td>-1.0</td><td>0.005755601</td><td>2.45276</td><td>True</td><td>-1</td><td>16214</td><td>1</td></tr>\n",
       "<tr><td>-1</td><td>241.64610573187383</td><td>53.8578228095203</td><td>0.00016867416</td><td>3.762271e-05</td><td>1.04083746e-07</td><td>20</td><td>0</td><td>20.066902</td><td>0.045543514</td><td>0.008427611</td><td>4.1084363e-09</td><td>4.1050725</td><td>0.29143333</td><td>0.29143333</td><td>5.7893395</td><td>-1.0</td><td>0.006353399</td><td>1.8425934</td><td>True</td><td>-1</td><td>16262</td><td>1</td></tr>\n",
       "<tr><td>-1</td><td>241.59829347106194</td><td>54.09883642148191</td><td>0.00013805678</td><td>6.8979454e-05</td><td>7.684907e-08</td><td>4</td><td>0</td><td>17.808384</td><td>0.012518138</td><td>0.01975175</td><td>0.0</td><td>128.65465</td><td>0.14476776</td><td>0.14476776</td><td>11.235894</td><td>-1.0</td><td>0.019595046</td><td>0.08709741</td><td>True</td><td>-1</td><td>16492</td><td>1</td></tr>\n",
       "<tr><td>-1</td><td>241.53319854137416</td><td>54.06303866600357</td><td>0.00013377817</td><td>2.8520033e-05</td><td>7.843606e-08</td><td>22</td><td>0</td><td>16.262194</td><td>0.005922169</td><td>0.0002375213</td><td>1.834238e-20</td><td>6.886898</td><td>0.036128998</td><td>0.036128998</td><td>6.2063303</td><td>-1.0</td><td>0.00020244921</td><td>0.4368691</td><td>True</td><td>-1</td><td>16717</td><td>1</td></tr>\n",
       "<tr><td>-1</td><td>241.4656259207467</td><td>53.934438747585375</td><td>0.00015128507</td><td>4.3571068e-05</td><td>1.8482577e-07</td><td>12</td><td>0</td><td>19.326317</td><td>0.027984073</td><td>0.0070701856</td><td>9.453362e-15</td><td>8.29605</td><td>0.1418953</td><td>0.1418953</td><td>5.1444364</td><td>-1.0</td><td>0.0062870774</td><td>-0.81698</td><td>True</td><td>-1</td><td>16842</td><td>1</td></tr>\n",
       "<tr><td>-1</td><td>241.45334710095784</td><td>54.0757069814982</td><td>0.00019961671</td><td>0.00013988432</td><td>7.070449e-08</td><td>2</td><td>0</td><td>22.097622</td><td>0.16993058</td><td>0.86319417</td><td>1.953649e-09</td><td>36.01938</td><td>0.65696144</td><td>0.65696144</td><td>6.6783037</td><td>-1.0</td><td>0.83431774</td><td>-100.0</td><td>True</td><td>-1</td><td>16847</td><td>1</td></tr>\n",
       "</table></div>"
      ],
      "text/plain": [
       "<Table length=68>\n",
       "fd_src_id         ra                dec         ... rg_src_id nr_fd_srcs\n",
       "                 deg                deg         ...                     \n",
       "  int32        float64            float64       ...   int32     int32   \n",
       "--------- ------------------ ------------------ ... --------- ----------\n",
       "       -1 243.05226796495188   54.1602333087138 ...      1066          1\n",
       "       -1 243.01002444890327  54.30915736827433 ...      1404          1\n",
       "       -1 243.00061426730588 53.749163628178785 ...      1487          1\n",
       "       -1 242.99681341636062  54.33317925377084 ...      1522          1\n",
       "       -1 242.97254871778915  54.17706373110254 ...      1726          1\n",
       "       -1  242.9550953142828  54.31596825537299 ...      1869          1\n",
       "      ...                ...                ... ...       ...        ...\n",
       "       -1 241.65560410839876  54.21466035989966 ...     16214          1\n",
       "       -1 241.64610573187383   53.8578228095203 ...     16262          1\n",
       "       -1 241.59829347106194  54.09883642148191 ...     16492          1\n",
       "       -1 241.53319854137416  54.06303866600357 ...     16717          1\n",
       "       -1  241.4656259207467 53.934438747585375 ...     16842          1\n",
       "       -1 241.45334710095784   54.0757069814982 ...     16847          1"
      ]
     },
     "metadata": {},
     "output_type": "display_data"
    }
   ],
   "source": [
    "rg = Region()\n",
    "rg.load_from_fits(region_fname)\n",
    "display(rg.tt_fields)\n",
    "sel_srcs = rg.tt_sources[\"sel\"]\n",
    "display(rg.tt_sources[sel_srcs])\n",
    "#rg.info() # Show available tables"
   ]
  },
  {
   "cell_type": "code",
   "execution_count": null,
   "id": "5f9e48ac-2af2-473a-8aab-c83734b81c65",
   "metadata": {},
   "outputs": [],
   "source": [
    "rg.set_src_id_info()\n",
    "print(rg.tt_src_id_map)"
   ]
  },
  {
   "cell_type": "markdown",
   "id": "2657678a-7f9a-48eb-9cbb-2e6eb773914f",
   "metadata": {},
   "source": [
    "### Basic info source TDE PS1-10jh"
   ]
  },
  {
   "cell_type": "code",
   "execution_count": 3,
   "id": "21fdcb27-8429-460a-960e-19ba5c512030",
   "metadata": {},
   "outputs": [
    {
     "name": "stdout",
     "output_type": "stream",
     "text": [
      "Found VASCA source is at distance: 0.0002552198797977209 deg\n"
     ]
    },
    {
     "data": {
      "text/html": [
       "<div><i>Table length=1</i>\n",
       "<table id=\"table139773942958256\" class=\"table-striped table-bordered table-condensed\">\n",
       "<thead><tr><th>field_id</th><th>name</th><th>ra</th><th>dec</th><th>observatory</th><th>obs_filter</th><th>sel</th><th>fov_diam</th><th>nr_vis</th><th>time_bin_size_sum</th><th>time_start</th><th>time_stop</th><th>rg_fd_id</th><th>fd_src_id</th></tr></thead>\n",
       "<thead><tr><th></th><th></th><th>deg</th><th>deg</th><th></th><th></th><th></th><th>deg</th><th></th><th>s</th><th>d</th><th>d</th><th></th><th></th></tr></thead>\n",
       "<thead><tr><th>bytes22</th><th>bytes22</th><th>float64</th><th>float64</th><th>bytes22</th><th>bytes22</th><th>bool</th><th>float32</th><th>int32</th><th>float32</th><th>float64</th><th>float64</th><th>int32</th><th>int32[1]</th></tr></thead>\n",
       "<tr><td>GNU2597664528044916736</td><td>PS_ELAISN1_MOS15</td><td>242.396514585217</td><td>53.9999872930018</td><td>GALEX</td><td>NUV</td><td>True</td><td>1.1</td><td>22</td><td>28044.65</td><td>54960.52040509259</td><td>56810.67461805556</td><td>0</td><td>3542</td></tr>\n",
       "</table></div>"
      ],
      "text/plain": [
       "<Table length=1>\n",
       "       field_id              name              ra        ... rg_fd_id fd_src_id\n",
       "                                              deg        ...                   \n",
       "       bytes22             bytes22          float64      ...  int32    int32[1]\n",
       "---------------------- ---------------- ---------------- ... -------- ---------\n",
       "GNU2597664528044916736 PS_ELAISN1_MOS15 242.396514585217 ...        0      3542"
      ]
     },
     "metadata": {},
     "output_type": "display_data"
    },
    {
     "data": {
      "text/html": [
       "<div><i>Table length=1</i>\n",
       "<table id=\"table139774045077904\" class=\"table-striped table-bordered table-condensed\">\n",
       "<thead><tr><th>fd_src_id</th><th>ra</th><th>dec</th><th>pos_err_mean</th><th>pos_err</th><th>pos_var</th><th>nr_det</th><th>nr_uls</th><th>mag_mean</th><th>mag_err_mean</th><th>mag_var</th><th>flux_cpval</th><th>flux_rchiq</th><th>mag_dmax</th><th>mag_dmax_abs</th><th>mag_dmax_sig</th><th>ul_weight</th><th>mag_sig_int2</th><th>mag_skew</th><th>sel</th><th>rg_fd_id</th><th>rg_src_id</th><th>nr_fd_srcs</th></tr></thead>\n",
       "<thead><tr><th></th><th>deg</th><th>deg</th><th>deg</th><th>deg</th><th>deg</th><th></th><th></th><th>mag</th><th>mag</th><th>mag2</th><th></th><th></th><th>mag</th><th>mag</th><th></th><th></th><th>mag</th><th></th><th></th><th></th><th></th><th></th></tr></thead>\n",
       "<thead><tr><th>int32</th><th>float64</th><th>float64</th><th>float32</th><th>float32</th><th>float32</th><th>int32</th><th>int32</th><th>float32</th><th>float32</th><th>float32</th><th>float32</th><th>float32</th><th>float32</th><th>float32</th><th>float32</th><th>float32</th><th>float32</th><th>float32</th><th>bool</th><th>int32</th><th>int32</th><th>int32</th></tr></thead>\n",
       "<tr><td>-1</td><td>242.36798811674439</td><td>53.67344982477235</td><td>0.00018841348</td><td>5.739136e-05</td><td>8.7359126e-08</td><td>10</td><td>0</td><td>21.619566</td><td>0.14499018</td><td>1.4587988</td><td>0.0</td><td>358.1139</td><td>2.359789</td><td>2.359789</td><td>91.9412</td><td>-1.0</td><td>1.4377766</td><td>-1.4794545</td><td>True</td><td>-1</td><td>8614</td><td>1</td></tr>\n",
       "</table></div>"
      ],
      "text/plain": [
       "<Table length=1>\n",
       "fd_src_id         ra                dec        ... rg_src_id nr_fd_srcs\n",
       "                 deg                deg        ...                     \n",
       "  int32        float64            float64      ...   int32     int32   \n",
       "--------- ------------------ ----------------- ... --------- ----------\n",
       "       -1 242.36798811674439 53.67344982477235 ...      8614          1"
      ]
     },
     "metadata": {},
     "output_type": "display_data"
    },
    {
     "data": {
      "text/html": [
       "<div><i>Table length=10</i>\n",
       "<table id=\"table139773955681696\" class=\"table-striped table-bordered table-condensed\">\n",
       "<thead><tr><th>vis_id</th><th>fd_src_id</th><th>det_id</th><th>ra</th><th>dec</th><th>pos_err</th><th>mag</th><th>mag_err</th><th>s2n</th><th>sel</th><th>rg_fd_id</th><th>rg_src_id</th></tr></thead>\n",
       "<thead><tr><th></th><th></th><th></th><th>deg</th><th>deg</th><th>deg</th><th>mag</th><th>mag</th><th></th><th></th><th></th><th></th></tr></thead>\n",
       "<thead><tr><th>int64</th><th>int32</th><th>int64</th><th>float64</th><th>float64</th><th>float32</th><th>float32</th><th>float32</th><th>float32</th><th>bool</th><th>int32</th><th>int32</th></tr></thead>\n",
       "<tr><td>2597664391310606336</td><td>3542</td><td>2597664391311656628</td><td>242.36788471263148</td><td>53.67282805781581</td><td>0.00022502651</td><td>22.028822</td><td>0.17892298</td><td>6.0696507</td><td>True</td><td>0</td><td>8614</td></tr>\n",
       "<tr><td>2597664391075725312</td><td>3542</td><td>2597664391076775587</td><td>242.3681994542763</td><td>53.67353780851961</td><td>0.00013662197</td><td>19.259777</td><td>0.025666283</td><td>42.31232</td><td>True</td><td>0</td><td>8614</td></tr>\n",
       "<tr><td>2597664391209943040</td><td>3542</td><td>2597664391210993395</td><td>242.36794187408043</td><td>53.67332903707245</td><td>0.00019463737</td><td>21.96821</td><td>0.13856263</td><td>7.8376107</td><td>True</td><td>0</td><td>8614</td></tr>\n",
       "<tr><td>2597664391142834176</td><td>3542</td><td>2597664391143884533</td><td>242.3678646423442</td><td>53.67336978366317</td><td>0.00019201534</td><td>22.054739</td><td>0.1382381</td><td>7.8560104</td><td>True</td><td>0</td><td>8614</td></tr>\n",
       "<tr><td>2597664391176388608</td><td>3542</td><td>2597664391177439011</td><td>242.3678701766545</td><td>53.67354550274539</td><td>0.00019144872</td><td>21.920156</td><td>0.12752803</td><td>8.515776</td><td>True</td><td>0</td><td>8614</td></tr>\n",
       "<tr><td>2597664391344160768</td><td>3542</td><td>2597664391345210822</td><td>242.36820101585513</td><td>53.67362779732314</td><td>0.00023043352</td><td>22.980015</td><td>0.30509055</td><td>3.5595992</td><td>True</td><td>0</td><td>8614</td></tr>\n",
       "<tr><td>2597664391243497472</td><td>3542</td><td>2597664391244547756</td><td>242.36809043633627</td><td>53.673386801808135</td><td>0.00018881161</td><td>22.01984</td><td>0.14823164</td><td>7.326371</td><td>True</td><td>0</td><td>8614</td></tr>\n",
       "<tr><td>2597664391109279744</td><td>3542</td><td>2597664391110329788</td><td>242.3676087982485</td><td>53.67350456522766</td><td>0.00018745614</td><td>22.281708</td><td>0.18018676</td><td>6.0270796</td><td>True</td><td>0</td><td>8614</td></tr>\n",
       "<tr><td>2597664390975062016</td><td>3542</td><td>2597664390976112253</td><td>242.36807120218452</td><td>53.67364529001413</td><td>0.00014597736</td><td>19.550726</td><td>0.032382373</td><td>33.536762</td><td>True</td><td>0</td><td>8614</td></tr>\n",
       "<tr><td>2597664391277051904</td><td>3542</td><td>2597664391278102118</td><td>242.36793383819526</td><td>53.673376313246045</td><td>0.00019170638</td><td>22.13166</td><td>0.17509234</td><td>6.2024417</td><td>True</td><td>0</td><td>8614</td></tr>\n",
       "</table></div>"
      ],
      "text/plain": [
       "<Table length=10>\n",
       "       vis_id       fd_src_id        det_id       ... sel  rg_fd_id rg_src_id\n",
       "                                                  ...                        \n",
       "       int64          int32          int64        ... bool  int32     int32  \n",
       "------------------- --------- ------------------- ... ---- -------- ---------\n",
       "2597664391310606336      3542 2597664391311656628 ... True        0      8614\n",
       "2597664391075725312      3542 2597664391076775587 ... True        0      8614\n",
       "2597664391209943040      3542 2597664391210993395 ... True        0      8614\n",
       "2597664391142834176      3542 2597664391143884533 ... True        0      8614\n",
       "2597664391176388608      3542 2597664391177439011 ... True        0      8614\n",
       "2597664391344160768      3542 2597664391345210822 ... True        0      8614\n",
       "2597664391243497472      3542 2597664391244547756 ... True        0      8614\n",
       "2597664391109279744      3542 2597664391110329788 ... True        0      8614\n",
       "2597664390975062016      3542 2597664390976112253 ... True        0      8614\n",
       "2597664391277051904      3542 2597664391278102118 ... True        0      8614"
      ]
     },
     "metadata": {},
     "output_type": "display_data"
    },
    {
     "data": {
      "application/vnd.jupyter.widget-view+json": {
       "model_id": "b0a4aab8cedf4f709826ebdd2f3b553e",
       "version_major": 2,
       "version_minor": 0
      },
      "image/png": "[encoded data removed]",
      "text/html": [
       "\n",
       "            <div style=\"display: inline-block;\">\n",
       "                <div class=\"jupyter-widgets widget-label\" style=\"text-align: center;\">\n",
       "                    Figure\n",
       "                </div>\n",
       "                <img src='data:image/png;base64,iVBORw0KGgoAAAANSUhEUgAABLAAAAJYCAYAAABy5h8aAAAAOXRFWHRTb2Z0d2FyZQBNYXRwbG90bGliIHZlcnNpb24zLjYuMSwgaHR0cHM6Ly9tYXRwbG90bGliLm9yZy/av/WaAAAACXBIWXMAAA9hAAAPYQGoP6dpAABc8UlEQVR4nO3de3xcdZ0//vdMLpNAm0ClV9tCS4FyUSgIBcFal9KWxZWirogiVlBWN0URRX+4Khdlu6LrhV0EXaRdHmxlRSkgav1CoVXkokIrRbByKXJrKrcmUHPP+f1xdtKGpiVtk8xk8nw+HueRzJkzJ+/pJ5NkXv183ieTJEkSAAAAAFCksoUuAAAAAAC2R4AFAAAAQFETYAEAAABQ1ARYAAAAABQ1ARYAAAAARU2ABQAAAEBRE2ABAAAAUNQEWAAAAAAUNQEWAAAAAEVNgAUAAABAURNgAQAAAFDUBFgAAAAAFDUBFgAAAABFTYAFAAAAQFETYAEAAABQ1ARYAAAAABQ1ARYAAAAARU2ABQAAAEBRE2ABAAAAUNQEWAAAAAAUNQEWAAAAAEVNgAUAAABAURNgAQAAAFDUBFgAAAAAFDUBFgAAAABFTYAFAAAAQFETYAEAAABQ1ARYAAAAABQ1ARYAAAAARU2ABQAAAEBRE2ABAAAAUNQEWAAAAAAUNQEWAAAAAEVNgAUAAABAURNgAQAAAFDUBFgAAAAAFDUBFgAAAABFTYAFAAAAQFETYAEAAABQ1ARYAAAAABQ1ARYAAAAARU2ABQAAAEBRE2ABAAAAUNQEWAAAAAAUNQEWAAAAAEVNgAUAAABAURNgAQAAAFDUBFgAAAAAFDUBFgAAAABFTYAFAAAAQFETYAEAAABQ1ARYAAAAABQ1ARYAAAAARU2ABQAAAEBRE2ABAAAAUNQEWAAAAAAUNQEWAAAAAEVNgAUAAABAURNgAQAAAFDUBFgAAAAAFDUBFgAAAABFTYAFAAAAQFETYAEAAABQ1ARYAAAAABQ1ARYAAAAARU2ABQAAAEBRE2ABAAAAUNQEWAAAAAAUNQEWAAAAAEVNgAUAAABAUSsvdAGUns7Oznjuuedi+PDhkclkCl0OAAAAJS5JknjllVdi3Lhxkc2aq1OKBFj0ueeeey4mTJhQ6DIAAAAYYp5++ukYP358ocugHwiw6HPDhw+PiPQHR01NTYGrAQAAoNQ1NjbGhAkTut6PUnoEWPS5/LLBmpoaARYAAAADRhub0mVhKAAAAABFTYAFAAAAQFGzhBAAoAcdHR3R1tZW6DIGTEVFRZSVlRW6DACAHgmwAABe49VXX41nnnkmkiQpdCkDJpPJxPjx42PYsGGFLgUAYCsCLACALXR0dMQzzzwTu+22W4wcOXJININNkiSef/75eOaZZ2K//fYzEwsAKDoCLACALbS1tUWSJDFy5Miorq4udDkDZuTIkfHkk09GW1ubAAsAKDqauAMA9GAozLza0lB7vgDA4CLAAgAAAKCoCbAAAPrYihU797jVq1fHscceGzU1NTF58uS4+uqru+77+c9/Hm9605ti9913j3333TfuvvvuiIhob2+P9773vTFhwoTIZDLx5JNP9njuJ598Mqqrq+OjH/3ozhUHAFBAAiwAgD62swHWhz70oZgzZ05s3LgxfvzjH8enP/3peOSRR+IPf/hDLFiwIP7rv/4rXnnllVi5cmXss88+XY9729veFj/60Y8il8tt89yf/vSn4/DDD9+5wgAACkwTdwCAPrJqVcTSpRE33RTR2RlxyikR06b1/vFPPvlknHbaaZHNZuPwww+PAw88MP70pz/F9ddfH//yL/8SRx99dEREjB8/vusx5eXl8alPfWq75/3lL38ZSZLECSecEM8888zOPDUAgIIyAwsAoA+sWhVx4YURd9wR0dSUfrzwwnR/b51zzjlx3XXXRXt7e/z2t7+Np556Ko4++uj47W9/G88//3xMmTIlJkyYEOeee260tLT06pytra1x/vnnx7//+7/v5DMDACg8ARYAwOtoa0u39vZ02/J2/vOf/CTixRcjpk6NGD48/fjii+n+7T2uvX3z1znxxBPj2muvjaqqqnjrW98aX/va12Ls2LHx7LPPxo9//OP49a9/HatWrYrf/e53cdlll/Wq9m9+85vx93//97Hvvvv2078OAED/E2ABAPSBJ56IqK2NyGTS25lMevuJJ3r3+JdeeilOOumk+PrXvx4tLS3xwAMPxAUXXBAPPPBAVFdXxznnnBNjx46NvfbaK84777z4+c9//rrnfPbZZ+Oaa66JL37xi7vwzAAACk8PLACA11FR8frHTJmSLhscPz4NrzKZiMbGiCOPjCjvxV9cjz/+eOy+++7x3ve+NyIi3vzmN8db3/rWWLlyZRxyyCGRySdjEd0+357f/e538fTTT8eUKVMiIuLVV1+Nzs7OePLJJ+P222/v1TkAAIqBAAsAoA+cckrE6tURDz+cBlcPPxwxYkTEvHm9e/z+++8ff/vb3+Lmm2+Od73rXfHII4/Er3/96/j4xz8ew4YNi//4j/+IuXPnRkVFRXzrW9+Kk046qeuxLS0tkSRJ1+fNzc1RVVUVJ554Yqxbt67ruG984xuxfv36uPzyy/vwmQMA9D8BFgBAH5g2LeLii9MrEC5dGnH88Wl41durENbW1saPfvSj+PznPx+nn356jBgxIs4777yYNWtWJEkS69atiwMPPDDKy8vj1FNPjfPPP7/rsQcccED85S9/iYiIqVOnRkREkiSRy+VizJgxXccNGzYsqqur4w1veENfPW0AgAGRSfL/XQd9pLGxMWpra6OhoSFqamoKXQ4A7JDm5uZYt25dTJo0KaqqqnbqHBddlG6DSV88bwAoFO9DS58ZWLADVq1K/1f9nnsijjkmXS7S2/9ZBwAAAHaOAAt6adWqiAsvjHjppYgNGyKamtJeJxdfLMQCoLuZMwtdAQBAackWugAYLJYuTcOrAw+MGDYs4qCD0ts33VToygAoNgIsAIC+JcCCXnriiYja2ogkichmIzo60iDrsccKXRkAAACUNgEW9NLkyRENDRGdnentsrKIV1+NmDQpXU7Y3l7Y+gAAAKBUCbCgl045JWKPPSLWro2oqIh4+OGIESMi3vOeiOrqdGZWU1NES0uhKwWgLwy1CzUPtecLAAwumrhDL02bFvEv/xKxbFnE449H7LtvxLx5mxu4V1SkW0dHGmRFRFRVRWQyBSsZgJ1QUVERmUwmnn/++Rg5cmRkhsAP8iRJ4vnnn49MJhMVFRWFLgcAYCuZxH+30ccaGxujtrY2GhoaoqamptDl9Jm2tjSMKu9l7JskEc3N6eeVlemSQwAGh1dffTWeeeaZITUrKZPJxPjx42PYsGGFLgUAdlipvg9lMzOwoJfa29Olgr2VyWw+vqUlorU1Db/8xzZA8Rs2bFjst99+0dbWVuhSBkxFRUWU+d8WAKBICbCgF9rbd20GVS63+TxNTWm4lctZXghQzMrKygQ6AABFQoAFvdDWtmOzr7alvDzdkiSdlZUkaZCVdTkFAAAA2CYBFryOzs6+nymVyaQN3iPSIKuz0/JCAAAA2BYBFryOlpa+mX21LT0tL8yHWwAAAIAAC7YrSQauT1V+eWFnZxpkRaRBlj5ZAAAADHUCLNiO5uaBnw2VzW6e8ZUPsiord62JPAAAAAxmAizYhiRJPxZyBlQ+yGppiWht1ScLAACAoUmABdvQ0rK5P1Wh6ZMFAADAUCbAgm1IknQ5XzHRJwsAAIChSIAFPWhtTftOFast+2Q1N6dhW0VFGm4BAABAqSmy+SVQHDo6Bk/T9KqqNMzKz8pqbS10RQAAANC3zNeA12hrG5wzmfIzxrbsk5XLWV4IAADA4DcI36ZD/2pv37w8bzDK98lKkrQRfZKkQVax9fMCAACA3hJgwRYG09LB17PllQpbWtIlhuXlaa8sAAAAGEzMyRjEfvWrX8U//MM/xLhx4yKTycRNN93U7f4NGzbE/PnzY9y4cbHbbrvF3Llz49FHH93uORcvXhyZTKbbVpVPQYaAYm/evrNyuXRWWSaTLi9sbi50RQAAANB7AqxBbNOmTXHooYfGFVdcsdV9SZLEvHnz4oknnoibb745Vq1aFXvvvXfMmjUrNm3atN3z1tTUxPr167u2v/zlL/31FIpKZ2fp94sqL0+DrFwuDbKamtLnDQAAAMXMEsJB7MQTT4wTTzyxx/seffTRuPfee+Ohhx6Kgw8+OCIirrzyyhgzZkz88Ic/jI9+9KPbPG8mk4kxY8b0S83FrKVlcPe+2hGZTPpckySdddbZmS4tHIzN6wEAACh9ZmCVqJaWloiIbsv/stls5HK5uOuuu7b72FdffTX23nvvmDBhQpx88snxxz/+sV9rLQZJUugKCiN/pcJ8mNXUlAZ5AAAAUEwEWCVq6tSpMXHixLjgggvi5ZdfjtbW1vja174WzzzzTKxfv36bjzvggAPimmuuiZtvvjmuu+666OzsjLe+9a3xzDPPbPMxLS0t0djY2G0bbJqbNzc8H6oqKtIgq7x88/JCAAAAKAYCrBJVUVERN954Y/z5z3+OESNGxG677RZ33nlnnHjiiZHNbnvYjznmmDjjjDPisMMOi7e//e1x4403xsiRI+N73/veNh+zcOHCqK2t7domTJjQH0+p3+RnX5V6/6veKitLg6yqKn2yAAAAKA4CrBJ2xBFHxOrVq2Pjxo2xfv36WLZsWbz44osxefLkXp+joqIipk2bFo899tg2j7nggguioaGha3v66af7ovwBsWJFumQulyt0JcUn3yerujqirS0NstrbC10VAAAAQ5GWzUNAbW1tRKSN3X//+9/HV77ylV4/tqOjI9asWRN///d/v81jcrlc5AZZArRqVcTSpRE33RRx0kkR73tfxLRpha6qeOWHNx9kZbNCPwAAAAaOAGsQe/XVV7vNjFq3bl2sXr06RowYERMnTowbbrghRo4cGRMnTow1a9bEpz71qZg3b17Mnj276zFnnHFGvPGNb4yFCxdGRMQll1wSRx99dEyZMiU2btwYX//61+Mvf/nLdq9aONisWhVx4YURL70U8be/Rfz61xF//GPExRcLsV5PRUW6dXRs7pFVVWX5JQAAAP1LgDWI/f73v493vOMdXbfPO++8iIj48Ic/HIsXL47169fHeeedFxs2bIixY8fGGWecEV/60pe6neOpp57q1hPr5Zdfjo997GNRX18fe+65ZxxxxBFx9913x0EHHTQwT2oALF2ahlcHHRSxaVP68eGH09lYAqzeyffJSpK0AX5EOiNrO+3VAAAAYKdlkiTfwhr6RmNjY9TW1kZDQ0PU1NQUupytnH56xMsvR4wfH/H730e85S0RzzwTseeeEdddV+jqBq+WlrTZe3l5OksLAABgoBT7+1B2nfkSDDmTJ0c0NGy++mCSpLf33bewdQ12uVw6KysiXV7Y0rL53xgAAAB2hQCLIeeUUyJGjEiXDTY2ph9HjIiYN6/QlZWGioo0yKqoSJcXNjWlM7MAAABgZ+mBxZAzbVrasP2mmyLuvjvirW9Nwyv9r/pWNru5T1Z+NlZFRbrEEAAAAHaEt5IMSdOmCawGSiaTXqkwIqKtLZ2Rlc2mSw4BAACgNwRYwICpqEi3zs40yIpIw61MprB1AQAAUNwEWMCA62l5YWVlRFlZoSsDAACgGAmwgILZcnlha2u6lZens7QAAAAgT4AFFIXKyvRje3u6vHDLcAsAAIChTYAFFJXy8nTTJwsAAIA8ARZQlPJ9siIimpvTPlkVFWm4BQAAwNDirSBQ9Lbsk9XUlDZ7zy85BAAAoPQJsIBBo6c+Wbmc5YUAAAClToAFDDpb9slqbk736ZMFAABQugRYwKClTxYAAMDQ4G0eUBLyfbLa2tLlhdlsurwQAACAwU+ABZSUiop06+zUJwsAAKBUCLCAkpRfXpgkES0tlhcCAAAMZt7KASUtk9l6eWFZ2eYrGgIAAFD8BFjAkJFfXtjRkQZZEZubwAMAAFC8BFjAkFNWtnl5YT7IyuXSZYcAAAAUHwEWMGRlMptnYLW0pI3f9ckCAAAoPt6mAUQ6Aytic5+sbHbzPgAAAApLgAWwhZ76ZFVVpbO1AAAAKAwBFkAPtuyT1dyc7tMnCwAAoDAEWADb0VOfrPLydJYWAAAAA0OABdBL+mQBAAAUhgALYAfpkwUAADCwBFgAO2nLPlktLenHiop0iSEAAAB9x9ssgF2UyaQzsCIiWlvTWVllZRGVlYWtCwAAoFQIsAD6UD60yi8vzGTSPlmWFwIAAOw8ARZAP+hpeWFlZbofAACAHSPAAuhHWy4vbGlJlxiWl6e9sgAAAOgdARbAAMnl0o/t7ZuXF+bDLQAAALZNgAUwwMrL062zMw2yItIgS58sAACAngmwAAokm037ZEVENDenfbIqKtJwCwAAgM28TQIoAvmlhK2t6ayssrLNVzQEAAAY6gRYAEUkH1rpkwUAALCZAAugCOmTBQAAsJkAC6CI6ZMFAAAgwAIYNPTJAgAAhioBFsAg01OfrFzO8kIAAKB0ZQtdADtv4cKFceSRR8bw4cNj1KhRMW/evFi7dm23Y5qbm6Ouri7e8IY3xLBhw+I973lPbNiwYbvnTZIkvvzlL8fYsWOjuro6Zs2aFY8++mh/PhVgJ5SXp8sLc7mIlpY0zOrsLHRVAAAAfU+ANYitXLky6urq4t57743bbrst2traYvbs2bFp06auYz796U/HT3/607jhhhti5cqV8dxzz8W73/3u7Z73sssui8svvzyuuuqquO+++2L33XePOXPmRHNzc38/JWAn5K9UWF0d0daWBlltbYWuCgAAoO9kkiRJCl0EfeP555+PUaNGxcqVK2PGjBnR0NAQI0eOjCVLlsR73/veiIj405/+FAceeGDcc889cfTRR291jiRJYty4cfGZz3wmPvvZz0ZERENDQ4wePToWL14c73//+1+3jsbGxqitrY2Ghoaoqanp2ycJ9Ep7expi5cMtAAAoZd6Hlj4zsEpIQ0NDRESMGDEiIiLuv//+aGtri1mzZnUdM3Xq1Jg4cWLcc889PZ5j3bp1UV9f3+0xtbW1MX369G0+pqWlJRobG7ttQGFtubywqcnyQgAAYHATYJWIzs7OOPfcc+PYY4+NQw45JCIi6uvro7KyMvbYY49ux44ePTrq6+t7PE9+/+jRo3v9mIULF0ZtbW3XNmHChF18NkBfyWTSIKuqavPywvb2QlcFAACwYwRYJaKuri4eeuihuP766wf8a19wwQXR0NDQtT399NMDXgOwffkrFVZXRyRJGmS1tBS6KgAAgN4RYJWABQsWxK233hp33nlnjB8/vmv/mDFjorW1NTZu3Njt+A0bNsSYMWN6PFd+/2uvVLi9x+Ryuaipqem2AcWroiINssrLNy8v1A0RAAAoZgKsQSxJkliwYEEsXbo07rjjjpg0aVK3+4844oioqKiI5cuXd+1bu3ZtPPXUU3HMMcf0eM5JkybFmDFjuj2msbEx7rvvvm0+Bhicyso2Ly9sbtYnCwAAKF7lhS6AnVdXVxdLliyJm2++OYYPH97Vo6q2tjaqq6ujtrY2zjrrrDjvvPNixIgRUVNTE+ecc04cc8wx3a5AOHXq1Fi4cGGccsopkclk4txzz42vfvWrsd9++8WkSZPiS1/6UowbNy7mzZtXoGcK9Kd8n6yIdFlhZ2c6O6uiorB1AQAA5AmwBrErr7wyIiJmzpzZbf+iRYti/vz5ERHxrW99K7LZbLznPe+JlpaWmDNnTnz3u9/tdvzatWu7rmAYEfG5z30uNm3aFGeffXZs3LgxjjvuuFi2bFlUVVX16/MBCi+XSz/mG75ns5v3AQAAFEomSXQ+oW81NjZGbW1tNDQ06IcFg1xHR0Rra/p5VVU6WwsAAIqN96GlzwwsALYp3ycrSdI+WRHpjKysDooAAMAAEmAB8Lr0yQIAAApJgAXADsn3xGpvT/tkZTLpPssLAQCA/iLAAmCnlJenW2en5YUAAED/EmABsEuyWcsLAQCA/iXAAqDP9LS8sKqqsDUBAACDnwALgD635fLCpqZ0X1WVPlkAAMDOEWAB0G/yywuTJF1emCTp0sJyv30AAIAd4C0EAP1uy6WEra3prKyysojKysLWBQAADA4CLAAGVD600icLAADoLQEWAAWR75OVJPpkAQAA2yfAAqCgMpm0T1ZERHOzPlkAAMDWvD0AoGjokwUAAPREgAVA0empT1YuZ3khAAAMVQIsAIrWln2ympvTfblcRDZb2LoAAICBJcACoOjpkwUAAEObP/0BGFTyfbLa2tLlhdlsOisLAAAoXQIsAAaliop06+zc3CerstLyQgAAKEUCLAAGtWw2XV6YJBEtLZYXAgBAKfLnPQAlIZOxvBAAAEqVAAuAkpNfXtjRkQZZEWm4lckUti4AAGDnCLAAKFllZZuXFzY3p/tyOX2yAABgsBFgAVDyMpk0yIpI+2R1dqY9sioqClsXAADQOwIsAIaUfE8sfbIAAGDwEGABMCTpkwUAAIOHAAuAIU2fLAAAKH4CLAAIfbIAAKCYCbAA4DV66pNVWWl5IQAAFIoACwC2Id8nq7Nz8/JCfbIAAGDgCbAA4HVks5v7ZLW0pB8rKtIlhgAAQP/zpzcA9FImk87Aiui+vDC/5BAAAOgfAiwA2AlbLi9sakrDrVzO8kIAAOgPAiwA2AU9LS+srIwoKyt0ZQAAUDoEWADQB7ZcXtjamm5lZWmYBQAA7BoBFgD0sXxo1d6+eXlhPtwCAAB2nAALAPpJeXm6JUkaZEWkQZY+WQAAsGMEWADQzzKZtE9WRERzcxpoVVSk4RYAAPD6/OkMAANoyz5ZTU36ZAEAQG8IsACgAPTJAgCA3hNgAUAB6ZMFAACvT4AFAEVAnywAANi2bKELYOctXLgwjjzyyBg+fHiMGjUq5s2bF2vXru12THNzc9TV1cUb3vCGGDZsWLznPe+JDRs2bPe88+fPj0wm022bO3dufz4VALZQVZWGWZ2d6ayslpZCVwQAAIUlwBrEVq5cGXV1dXHvvffGbbfdFm1tbTF79uzYtGlT1zGf/vSn46c//WnccMMNsXLlynjuuefi3e9+9+uee+7cubF+/fqu7Yc//GF/PhUAelBZmQZZ5eVpkJWfmQUAAEONhQmD2LJly7rdXrx4cYwaNSruv//+mDFjRjQ0NMQPfvCDWLJkSfzd3/1dREQsWrQoDjzwwLj33nvj6KOP3ua5c7lcjBkzpl/rB6B3ysrSICtJ0tlYSZKGW2Vlha4MAAAGhhlYJaShoSEiIkaMGBEREffff3+0tbXFrFmzuo6ZOnVqTJw4Me65557tnmvFihUxatSoOOCAA+ITn/hEvPjii9s8tqWlJRobG7ttAPS9/JUKq6sjOjrSWVmtrYWuCgAA+p8Aq0R0dnbGueeeG8cee2wccsghERFRX18flZWVsccee3Q7dvTo0VFfX7/Nc82dOzeuvfbaWL58eXzta1+LlStXxoknnhgdHR09Hr9w4cKora3t2iZMmNBnzwuAnuWXF2azlhcCAFD6LCEsEXV1dfHQQw/FXXfdtcvnev/739/1+Zve9KZ485vfHPvuu2+sWLEijj/++K2Ov+CCC+K8887rut3Y2CjEAhgg5eXpliRpiBURkculwRYAAJQKf96WgAULFsStt94ad955Z4wfP75r/5gxY6K1tTU2btzY7fgNGzbsUH+ryZMnx1577RWPPfZYj/fncrmoqanptgEwsDKZdEZWVVVEW1s6K6utrdBVAQBA3xBgDWJJksSCBQti6dKlcccdd8SkSZO63X/EEUdERUVFLF++vGvf2rVr46mnnopjjjmm11/nmWeeiRdffDHGjh3bZ7UD0D8ymXQGVnV1erupKW38DgAAg5kAaxCrq6uL6667LpYsWRLDhw+P+vr6qK+vj6ampoiIqK2tjbPOOivOO++8uPPOO+P++++Pj3zkI3HMMcd0uwLh1KlTY+nSpRER8eqrr8b5558f9957bzz55JOxfPnyOPnkk2PKlCkxZ86cgjxPAHZORUUaZFVUpEFWU5M+WQAADE56YA1iV155ZUREzJw5s9v+RYsWxfz58yMi4lvf+lZks9l4z3veEy0tLTFnzpz47ne/2+34tWvXdl3BsKysLB588MH47//+79i4cWOMGzcuZs+eHV/5ylcil8v1+3MCoO9ls2mQpU8WAACDVSZJ/F8sfauxsTFqa2ujoaFBPyyAItXSEtHZmTaAr6godDUAALvG+9DSZwYWAAxB+Um1+Ybv2ezmfQAAUGwEWAAwhFVUpFtnZxpkRaRXMsxkClsXAABsSYAFAPTYJ6uyMqKsrLB1AQBAhAALANhCJpMGWRERra3ppk8WAACFJsACAHpUWZl+bG9PlxdmMmmfLMsLAQAYaAIsAGC7ysvTLUnSqxcmSRpkZbOFrgwAgKFCgAUA9EomkzZ4j0iDrM5OywsBABgYAiwAYIflcunHLZcX5sMtAADoawIsAGCnbbm8sKkp3VdVpU8WAAB9S4AFAOyyLa9e2NycBloVFWm4BQAAu8qflQBAn8ovJWxtTWdllZVtvqIhAADsDAEWANAv8qGVPlkAAOwqARYA0K/0yQIAYFcJsACAAaFPFgAAO8ufjADAgNMnCwCAHSHAAgAKpqc+Wbmc5YUAAHQnwAIACm7LPlnNzem+XC4imy1sXQAAFAcBFgBQNLbsk9XSEtHZmQZbFRWFrQsAgMISYAEARSmXSz9aXggAgAALAChqlhcCACDAAgAGhfzywiRJr15oeSEAwNAhwAIABpX8UsKIiLa2dHlhNrt5HwAApUeABQAMWhUV6dbZmQZZERFVVfpkAQCUGgEWADDoZbOblxfqkwUAUHoEWABAycj3yYqIaGnRJwsAoFQIsACAkqRPFgBA6RBgAQAlTZ8sAIDBT4AFAAwJPfXJqqyMKCsrbF0AALw+ARYAMKS8tk9Wa6s+WQAAxU6ABQAMWfmeWO3tm/tkVVZaXggAUGwEWADAkFdenm6dnZuXF+qTBQBQPARYAAD/J98nKyINspIkXVpY7i8mAICC8ucYAEAPqqrSj21tm5cX5pccAgAwsARYAADbUVGRbp2daZAVYXkhAMBAE2ABAPRCfnlhkqRXL7S8EABg4PiTCwBgB2Qym5cXtrams7LKytKrFwIA0D8EWAAAOykfWrW3p0HWluEWAAB9R4AFALCLysvTLUn0yQIA6A/ZQhcw1DU3Nxe6BACgj2QyaZ+s6uq0T1ZTUzo7CwCAXSPAKoDOzs74yle+Em984xtj2LBh8cQTT0RExJe+9KX4wQ9+UODqAIC+UFWVBln5qxe2tha6IgCAwUuAVQBf/epXY/HixXHZZZdF5RYdXw855JC4+uqrC1gZANDXKivTICubTYMsk68BAHacAKsArr322vj+978fH/zgB6OsrKxr/6GHHhp/+tOfen2ehQsXxpFHHhnDhw+PUaNGxbx582Lt2rXdjvn+978fM2fOjJqamshkMrFx48ZenfuKK66IffbZJ6qqqmL69Onx29/+ttd1AQBbKy9Pg6xcLg2ymprS2VkAALw+AVYBPPvsszFlypSt9nd2dkZbW1uvz7Ny5cqoq6uLe++9N2677bZoa2uL2bNnx6ZNm7qO+dvf/hZz586NL3zhC70+7//+7//GeeedFxdeeGE88MADceihh8acOXPir3/9a6/PAQD0bMs+Wa2t+mQBAPSGqxAWwEEHHRS//vWvY++99+62/8c//nFMmzat1+dZtmxZt9uLFy+OUaNGxf333x8zZsyIiIhzzz03IiJWrFjR6/N+85vfjI997GPxkY98JCIirrrqqvjZz34W11xzTfx//9//1+vzAADbV1WVfmxrS4OsbDadoQUAQHcCrAL48pe/HB/+8Ifj2Wefjc7Ozrjxxhtj7dq1ce2118att9660+dtaGiIiIgRI0bs9DlaW1vj/vvvjwsuuKBrXzabjVmzZsU999zT42NaWlqipaWl63ZjY+NOf30AGIoqKtIt3/A9k0mDrEym0JUBABQHSwgL4OSTT46f/vSncfvtt8fuu+8eX/7yl+ORRx6Jn/70p3HCCSfs1Dk7Ozvj3HPPjWOPPTYOOeSQna7thRdeiI6Ojhg9enS3/aNHj476+voeH7Nw4cKora3t2iZMmLDTXx8AhrJsdnOfrJYWywsBAPLMwCqQt73tbXHbbbf12fnq6urioYceirvuuqvPztlbF1xwQZx33nldtxsbG4VYALALMhnLCwEAtiTAKgELFiyIW2+9NX71q1/F+PHjd+lce+21V5SVlcWGDRu67d+wYUOMGTOmx8fkcrnI+YsaAPpFfnlhR0caZEWk4ZblhQDAUCLAGiB77rlnZHr5l+ZLL73Uq+OSJIlzzjknli5dGitWrIhJkybtSokREVFZWRlHHHFELF++PObNmxcR6fLE5cuXx4IFC3b5/ADAzikrS5cXJklEc3O6r7Iy3Q8AUOoEWAPk29/+dtfnL774Ynz1q1+NOXPmxDHHHBMREffcc0/88pe/jC996Uu9PmddXV0sWbIkbr755hg+fHhXj6ra2tqorq6OiIj6+vqor6+Pxx57LCIi1qxZE8OHD4+JEyd2NXs//vjj45RTTukKqM4777z48Ic/HG95y1viqKOOim9/+9uxadOmrqsSAgCFk8mkQVZE2iertTWivDydpQUAUKoySZIkhS5iqHnPe94T73jHO7aa0fSf//mfcfvtt8dNN93Uq/Nsa0bXokWLYv78+RERcdFFF8XFF1+83WP22WefmD9/flx00UXdavn6178e9fX1cdhhh8Xll18e06dP71VdjY2NUVtbGw0NDVFTU9OrxwAAO6+tLW32rk8WAEOV96GlT4BVAMOGDYvVq1fHlClTuu1/7LHH4rDDDotXX321QJX1DT84AKAwOjvTWVkR+mQBMLR4H1r6soUuYCh6wxveEDfffPNW+2+++eZ4wxveUICKAIBSkM2mywurqtI+WU1NafN3AIDBTg+sArj44ovjox/9aKxYsaJrWd59990Xy5Yti//6r/8qcHUAwGCnTxYAUGoEWAUwf/78OPDAA+Pyyy+PG2+8MSIiDjzwwLjrrrt63WcKAKA38j2x2tvTGVnZbHr1QssLAYDBRA8s+py1xwBQvPTJAqAUeR9a+szAKoCnnnpqu/dPnDhxgCoBAIaafJ+sJEmDrCRJlxaW+6sQAChi/lQpgH322Scy2/nvzg7dVgGAfpbJpDOwItIeWU1NEWVl6fJCAIBiI8AqgFWrVnW73dbWFqtWrYpvfvObcemllxaoKgBgqMqHVh0daZCVyaS9sywvBACKhQCrAA499NCt9r3lLW+JcePGxde//vV497vfXYCqAIChrqxs6+WFlZXpfgCAQhJgFZEDDjggfve73xW6DABgiNtyeWFLS7rE0PJCAKCQBFgF0NjY2O12kiSxfv36uOiii2K//fYrUFUAAFvL5dKP7e2blxfmwy0AgIEiwCqAPfbYY6sm7kmSxIQJE+L6668vUFUAANtWXp5uSZIGWRFpkKVPFgAwEARYBXDnnXd2u53NZmPkyJExZcqUKHcNawCgiGUyaZ+siIjm5jTQqqhIwy0AgP7iT40CyGQy8da3vnWrsKq9vT1+9atfxYwZMwpUGQBA7+WXEra2prOy9MkCAPpLttAFDEXveMc74qWXXtpqf0NDQ7zjHe8oQEUAADuvsjKdlZXNpkFWc3OhKwIASo0ZWAWQJMlWPbAiIl588cXYfffdC1ARAMCu66lPVi6XBlsAALtCgDWA3v3ud0dEuoRw/vz5kctf1iciOjo64sEHH4y3vvWthSoPAKBP6JMFAPQ1f0YMoNra2ohIZ2ANHz48qvN/2UVEZWVlHH300fGxj32sUOUBAPS5fJ+stjZ9sgCAnSfAGkCLFi2KiIh99tknPvvZz1ouCAAMGRUV6dbRkQZZmUy6vLCHrgoAAFvJJEmSFLoISktjY2PU1tZGQ0ND1NTUFLocAKAIJUlES0v6sbIynZkFADvL+9DSZwbWADn88MNj+fLlseeee8a0adN6bOKe98ADDwxgZQAAAy+T2by8sKUlorU17ZFVUVHYugCA4iTAGiAnn3xyV9P2efPmFbYYAIAikr+uTXu75YUAQM8sIaTPmboJAOyKJEmvXhiRBlnZbGHrAaD4eR9a+szAKqDW1tb461//Gp2dnd32T5w4sUAVAQAUXiYTUV2dBlmtrRGdnZYXAsBQJ8AqgD//+c9x1llnxd13391tf5IkkclkoqOjo0CVAQAUj/xSwoiItrZ0eWE2u3kfADB0CLAK4CMf+UiUl5fHrbfeGmPHjt1uQ3cAANLZVxUV6WyspqZ0X1WVPlkAMFQIsApg9erVcf/998fUqVMLXQoAwKCSzW5eXpjvk1VZGVFWVti6AID+JcAqgIMOOiheeOGFQpcBADBo5ftkRUS0tKS9svTJAoDS5ZouBfC1r30tPve5z8WKFSvixRdfjMbGxm4bAAC9l8ulYVYmky4vbGkpdEUAQF/LJEmSFLqIoSb7f9eCfm3vq1Jp4u7ypQBAIXV2bg6x9MkCGBq8Dy19lhAWwJ133lnoEgAASla+T1bE5obv+mQBwOAmwCqAt7/97YUuAQBgSNAnCwBKgwCrAB588MEe92cymaiqqoqJEydGLpcb4KoAAEpX/k+r9vZ0VlYmk+6zvBAABgcBVgEcdthhW/W/2lJFRUWceuqp8b3vfS+qqqoGsDIAgNJWXp5u+T5ZSZIGWVmXNgKAouZXdQEsXbo09ttvv/j+978fq1evjtWrV8f3v//9OOCAA2LJkiXxgx/8IO6444744he/WOhSAQBKUjabNnivro5oa0tnZbW1FboqAGBbzMAqgEsvvTS+853vxJw5c7r2velNb4rx48fHl770pfjtb38bu+++e3zmM5+Jb3zjGwWsFACg9PW0vNAkeAAoLgKsAlizZk3svffeW+3fe++9Y82aNRGRLjNcv379QJcGADBkbbm8MH/1QssLAaA4+HVcAFOnTo1/+7d/i9bW1q59bW1t8W//9m8xderUiIh49tlnY/To0YUqEQBgyMpm06WFVVXplQubmtLZWQBA4ZiBVQBXXHFFvOtd74rx48fHm9/85ohIZ2V1dHTErbfeGhERTzzxRPzzP/9zIcsEABjStlxKmA+yysoiKisLWxcADEWZJEmSQhcxFL3yyivxP//zP/HnP/85IiIOOOCA+MAHPhDDhw8vcGW7rrGxMWpra6OhoSFqamoKXQ4AQJ9pb0+bveuTBVBcvA8tfQIs+pwfHABAqUuSiObm9HN9sgAKz/vQ0udXbQE9/PDDsWzZsrjlllu6bb21cOHCOPLII2P48OExatSomDdvXqxdu7bbMd///vdj5syZUVNTE5lMJjZu3Pi6573ooosik8l02/K9uQAASGdgVVenmz5ZAND/9MAqgCeeeCJOOeWUWLNmTWQymchPgstkMhER0dHR0avzrFy5Murq6uLII4+M9vb2+MIXvhCzZ8+Ohx9+OHbfffeIiPjb3/4Wc+fOjblz58YFF1zQ6xoPPvjguP3227tul5f7VgEA6El+KWFbmz5ZANBfpBIF8KlPfSomTZoUy5cvj0mTJsVvf/vbePHFF+Mzn/lMfOMb3+j1eZYtW9bt9uLFi2PUqFFx//33x4wZMyIi4txzz42IiBUrVuxQjeXl5TFmzJgdegwAwFBWUZFuHR1pkKVPFgD0HUsIC+Cee+6JSy65JPbaa6/IZrORzWbjuOOOi4ULF8YnP/nJnT5vQ0NDRESMGDFil2t89NFHY9y4cTF58uT44Ac/GE899dQunxMAYCgoK0uXFuZyaZDV1BTR2VnoqgBgcBNgFUBHR0fX1Qb32muveO655yIiYu+9996qh1VvdXZ2xrnnnhvHHntsHHLIIbtU3/Tp02Px4sWxbNmyuPLKK2PdunXxtre9LV555ZUej29paYnGxsZuGwDAULdln6z88kJ9sgBg51hCWACHHHJI/OEPf4hJkybF9OnT47LLLovKysr4/ve/H5MnT96pc9bV1cVDDz0Ud9111y7Xd+KJJ3Z9/uY3vzmmT58ee++9d/zoRz+Ks846a6vjFy5cGBdffPEuf10AgFKVy6Uf80FWNpv2yfq/FqgAwOswA6sAvvjFL0bn/80jv/jii7tmOP385z+P73znOzt8vgULFsStt94ad955Z4wfP76vy4099tgj9t9//3jsscd6vP+CCy6IhoaGru3pp5/u8xoAAEpBRUU6I6uiIqK52fJCAOgtM7AKYM6cOV2f77fffvGnP/0pXnrppdhzzz27rkTYG0mSxDnnnBNLly6NFStWxKRJk/qj3Hj11Vfj8ccfjw996EM93p/L5SKX/29FAABeVzabBllJEtHSkn6sqIhw4WcA6JlfkQPozDPP7NVx11xzTa+Oq6uriyVLlsTNN98cw4cPj/r6+oiIqK2tjerq6oiIqK+vj/r6+q7ZU2vWrInhw4fHxIkTu5q9H3/88XHKKafEggULIiLis5/9bPzDP/xD7L333vHcc8/FhRdeGGVlZXHaaaft0PMFAGD7trxS4ZbLC/3fIAB0J8AaQIsXL4699947pk2bFkmS7PL5rrzyyoiImDlzZrf9ixYtivnz50dExFVXXdWtP9WMGTO2Oubxxx+PF154oeuYZ555Jk477bR48cUXY+TIkXHcccfFvffeGyNHjtzlmgEA6FlFRbp1dqZBVkQabumTBQARmaQvkhR6pa6uLn74wx/G3nvvHR/5yEfi9NNP75oFVUoaGxujtrY2GhoaoqamptDlAAAMSkmS9smKSBu+l5UVth6AYuZ9aOnTxH0AXXHFFbF+/fr43Oc+Fz/96U9jwoQJ8b73vS9++ctf9smMLAAASkcmk/bJqq6OaG9PZ2W1tRW6KgAoDDOwCugvf/lLLF68OK699tpob2+PP/7xjzFs2LBCl7XLJN8AAP2jvT0NsfTJAujO+9DSpwdWAWWz2chkMpEkSXR0dBS6HAAAilx5ebrpkwXAUGMJ4QBraWmJH/7wh3HCCSfE/vvvH2vWrIn//M//jKeeeqokZl8BAND/stnNywubm9Mwy/+HAlDKzMAaQP/8z/8c119/fUyYMCHOPPPM+OEPfxh77bVXocsCAGAQq65OP7a0RLS2pjO0KioKWxMA9DU9sAZQNpuNiRMnxrRp0yKznXneN9544wBW1fesPQYAKJwt+2RVVlpeCAwN3oeWPjOwBtAZZ5yx3eAKAAB21ZZ9spqb0336ZAEw2AmwBtDixYsLXQIAAENEvk9WRBpkJUm6tLDcOwAABiG/vgAAoMRVVaUf29rShu/ZbEQuV9iaAGBHCLAAAGCIqKhIt87ONMjKZNIgy/JCAIqdAAsAAIaY/PLCJEmvXmh5IQDFzq8oAAAYojKZzcsLW1vTWVllZenVCwGgmAiwAACArtCqvX3z8sJ8uAUAhSbAAgAAupSXp1uSpEFWRNonK5stbF0ADG0CLAAAYCuZTNonKyKiuVmfLAAKy68fAABgu/JLCdva9MkCoDAEWAAAQK9UVKRbR4c+WQAMLAEWAACwQ8rK0uWF+mQBMFAEWAAAwE7RJwuAgeJXCwAAsMte2ycrm01nZQFAXxBgAQAAfaanPlm5XPoRAHaWAAsAAOhzW/bJamlJP1ZWpvsBYEcJsAAAgH6z5ZUKW1vTrawsDbMAoLcEWAAAwIDIh1bt7ZYXArBjXOgWAAAYUOXl6fLCXC69emFTU9ozi6FhxYpCVwAMRgIsAACgIDKZNMiqrt48K6utrdBV0d8EWMDOsIQQAAAouFwu/ZgPsrLZzfsAQIAFAAAUjfLydOvsTIOsiLQJvD5ZAEObJYQAAEDRyWY3Ly/UJ4u+YOkiDG4CLAAAoKjpk0VfEGDB4CbAAgAABoVcLg2yMpk0yGppKXRFMLgJ9RhMBFgAAMCgUl6eBlkVFWmQ1dQUkSSFrgoGHwEWg4kACwAAGJT0yWJXCXBg8BBgAQAAg14+yOroSIOs1tZCV8RgIMCCwaO80AUAAAD0lcrK9GO+4Xsmk/bOymQKWxcRq1ZFLF0acdNNEZ2dEaecEjFtWqGrAgYLARYAAFByysvTLUnSZu9JkgZZWWtQCmLVqogLL4x46aU0WLzjjojVqyMuvliIBfSOH98AAEDJymQiqqrS5YVtbWl40tZW6KqGnqVL0/DqoIMiamrSjy+9lM7GAugNM7AAAIAhIZdLP265vLCqqrA1DQUrVkQ88UREbW36b97ZmW7DhkU8+mihqwMGCzOwAACAIaW8PJ2RlculQVZTUxqo0D9WrIiYPDmioSH9d85k0qWcr74ase++6RLP/FUkm5rS2+3tha4aKDZmYAEAAENSJpMGWVv2yaqoSAMu+tYpp6Q9r/74x4hXXol4+OGIESMi3v3uzTPjtpSfJRexuQH/zo6P5vFQGvxoBgAAhrQtlxLm+2Rlsz0HK+ycadPShu0//nHET38acfzxEfPmbTtIyjfhf63W1nS2VkQaaEWk47et4zWPh9JhCeEgtnDhwjjyyCNj+PDhMWrUqJg3b16sXbu26/6XXnopzjnnnDjggAOiuro6Jk6cGJ/85CejoaFhu+dNkiS+/OUvx9ixY6O6ujpmzZoVj1qcDgDAEFBRkc7KKi9PA498WMKuO/TQiC99KZ11tbMBUmVlGjbmG/Pnl4JGbF6C2Nyczqhraor4yU92vHn8ihU78+yA/ibAGsRWrlwZdXV1ce+998Ztt90WbW1tMXv27Ni0aVNERDz33HPx3HPPxTe+8Y146KGHYvHixbFs2bI466yztnveyy67LC6//PK46qqr4r777ovdd9895syZE81+ewMAMESUlemT1ddaWvqnaX5+BlY+0KqqSsetujri8ccjhg9Pxy5J0mNra9P92yLAguJkCeEgtmzZsm63Fy9eHKNGjYr7778/ZsyYEYccckj85Cc/6bp/3333jUsvvTROP/30aG9vj/Ie5tgmSRLf/va344tf/GKcfPLJERFx7bXXxujRo+Omm26K97///f37pAAAoIjk+2RFpDN79MkaXPbbL102mM2mY9nenjaTf8tbCl0ZsKPMwCoh+aWBI0aM2O4xNTU1PYZXERHr1q2L+vr6mDVrVte+2tramD59etxzzz19WzAAAAwi+WVrSZLOyGptLXRFg0dnZxoiDbRTTkmbxT/8cERjY8Qjj0TssUfafwsYXPy/QYno7OyMc889N4499tg45JBDejzmhRdeiK985Stx9tlnb/M89fX1ERExevTobvtHjx7ddd9rtbS0REtLS9ftxsbGHS0fAAAGjYqKdOvo2HylvKqqzVfLY2utrYVpip9vHn/TTemVCE84IeLEE9Ox+/KXXZkQBhMBVomoq6uLhx56KO66664e729sbIyTTjopDjrooLjooov69GsvXLgwLr744j49JwAAFLt8n6wk2dzsPZcrzEyjwaBQAd+0aemWyURcdFF6ZcIvfjFdSjhUr0y4alUa6AnwGEz8aC0BCxYsiFtvvTXuvPPOGD9+/Fb3v/LKKzF37twYPnx4LF26NCoqKrZ5rjFjxkRExIYNG7rt37BhQ9d9r3XBBRdEQ0ND1/b000/vwrMBAIDBJd8nq7o6oq0tDUXa2gpdVfFIkkJX0N3SpWl4td9+vb8yYSlZtSriwgvT4C4f4F14YbofipkAaxBLkiQWLFgQS5cujTvuuCMmTZq01TGNjY0xe/bsqKysjFtuuSWqXueyH5MmTYoxY8bE8uXLu53jvvvui2OOOabHx+Ryuaipqem2AQDAUJS/+l0mk4YD+cbvQ9GqVekyvZ/8JOLSS4snIHniifRKhBUVvb8yYSlZujQN7Pbff2gGeAxeAqxBrK6uLq677rpYsmRJDB8+POrr66O+vj6a/m8hfj682rRpU/zgBz+IxsbGrmM6Ojq6zjN16tRYunRpRERkMpk499xz46tf/WrccsstsWbNmjjjjDNi3LhxMU+nQwAA6JXy8jTIqqxMQ6ympnSp1lCx5Syf5uaIO+8snlk+kyenM7DykiS9ve++haupv+SXt7a0bP4+/POf0+CqvDz9nhxqAR6Dlx5Yg9iVV14ZEREzZ87stn/RokUxf/78eOCBB+K+++6LiIgpU6Z0O2bdunWxzz77RETE2rVru65gGBHxuc99LjZt2hRnn312bNy4MY477rhYtmzZ687eAgAAustmN/fJam1NA4Py8nT2TynLz/I58MCITZvSWT4PP5zO8il0s/tTTkl7XuWvTPjHP0a84Q2D/8qE7e3p0tVMJt3y4VQu1/3ffP/902AxIt2fD/De8pbC1A29JcAaxJLXmYs8c+bM1z2mp/NkMpm45JJL4pJLLtml+gAAgFQ+SIjY3Ccrmy3MlfkGQn6ZXpKkz3PLWT4f/Whha3vtlQnf/vaIf/zHwdPEvLMz/R7Kz+jLB1b5sPT1vDbAe/jhiBEjBn+AR+kTYAEAAAygiop06+xMg6yIiKqqws9M6kuTJ6ezfPLXgdpyls9rFpAUxJZXJvz859N//2LU0rK5h1r+YzabLk3d2e+XLQO8n/wk4vjj0/BqsAR4DF0CLAAAgALYcsZMPsiqrIwoKytcTX0lP8vnkUeKf5ZPLpcu7yzkbLjOzjSsiki/L5Ik3frr+yEf4HV0pGEWDAYCLAAAgALLB1ktLWmYMtj7ZOVn+dxwQ8Sttxb3LJ9sduAa7CdJuvxvi2tqRfb/Lq1WarPwoK8JsAAAAIpEfhZQe/vg75P1pjdFHHxwOovooosKXc32lZWloVJfznZqb0+3fEP1iPTzysp0Kwa9aJkMRUOABQAAUGTKy9NtsPXJWrFic4+r9vbBE75VVkbcc0/EL36R9obq7EyXQfZmxliSbO5VlR+fJEnHr1h7a8FgJMACAAAoUoOtT9aWAVZEcQVu22sev2pVxFe/mjaab2pKG9CvXp0ug9wyxMov/8vPXMpfATCXK67n2luDsWaGLgEWAADAIDDY+mQV2/K07QVYS5em4dUBB6QB1oEHRvzxjxE//nH6ef65VFYW97/5jsovb8z34YJiJsACAAAYRF7bJ2swzwAqFk88EVFbuznQSZKIPfeM+MtfSnsZYDabhqGl/BwpHXJWAACAQai8PJ2VVVkZ0dychlnFMuupvX1wzVSaPDmdgZXNbt4aGiL23bfQlfWvTKZ4vmfg9QiwAAAABrF8n6zq6nR5YVNTGiAVUkdHGrANFqecEjFiRMTDD0c0NqYfR4yImDev0JX1P8sHGSx8qwIAAJSIqqo0yEqSNMhqaSlMHZ2dhfm6O2vatLRh+/HHp/9+xx+/dQP3UmUGFoPFIMrEAQAA6I2KinTr7NzcJ6uy0myb19qysfu0aemWyURcdFGhKhp4AiwGCwEWAABAicovL0ySdDZWkqTB1mBa3teftndlQqC4+LEFAABQ4jKZzVeaa2tLZ2WVlaWzsvpaW1v/nJf+YVYeg4UACwAAYAjJLy/s6Ni8vDAfbvWFjo7uVyA0y6m4DbZ+ZQxdAiwAAIAhqKyse8P3iIhcbtdn5Ly2p5IAq3gZGwYTARYAAMAQlsmkQVZE2iers1OfrKFi5syI1tZ0zC0lpNj5FgUAACAi0hlYW87KamnZsccnSRqIMXhUVKR9y6DYydQBAADo5rV9siI2z9Lans5ODdwHm0xGHywGBwEWAAAAPdrRPlmWogH9RYAFAADAdr1en6xVqyKWLo24+eY09DrllIhp0wpXLztG6MhgIMACAACg13K59GNbWzor68EHIy69NOKllyKamyPuuCNi9eqIiy8WYg0Wr71yJBQjOSsAAAA7rKIinZV1660RL7wQsf/+ETU1EQcdlIZZN91U6ArpLQEWg4EACwAAgJ22bl3EnnumywkzmXSrrY14/PFCVwaUEgEWAAAAO23y5IiGhs23kyS9ve++hauJHaMHFoOBb1MAAAB22imnRIwYEfHwwxGNjenHESMi5s0rdGX0liWEDAYCLAAAAHbatGlpw/bjj097Yh1//OBu4D5zZqErKIzOzkJXANvnKoQAAADskmnT0i2TibjookJXs2uGYoBVWZleVTJ/hUkoRmZgAQAAwBCmBxaDgW9TAAAAGOIsIaTYCbAAAAAAKGoCLAAAABjiMplCVwDbJ8ACAAAAoKgJsAAAAGCIS5JCVwDbJ8ACAAAAoKgJsAAAAGCIy0oHKHK+RQEAAGCISxLLCCluAiwAAAAY4ioqIlpbC10FbJsACwAAAIa4sjIzsChuAiwAAAAgMplCVwDbJsACAAAAorOz0BXAtgmwBrGFCxfGkUceGcOHD49Ro0bFvHnzYu3atV33v/TSS3HOOefEAQccENXV1TFx4sT45Cc/GQ0NDds97/z58yOTyXTb5s6d299PBwAAAKBHAqxBbOXKlVFXVxf33ntv3HbbbdHW1hazZ8+OTZs2RUTEc889F88991x84xvfiIceeigWL14cy5Yti7POOut1zz137txYv3591/bDH/6wv58OAAAwyM2cWegK2BWWEFLMMkmiTVupeP7552PUqFGxcuXKmDFjRo/H3HDDDXH66afHpk2bory8vMdj5s+fHxs3boybbrppp+pobGyM2traaGhoiJqamp06BwAAAAOrpSUilyt0FTvH+9DSZwZWCckvDRwxYsR2j6mpqdlmeJW3YsWKGDVqVBxwwAHxiU98Il588cU+rRUAAIDiogcWxcwMrBLR2dkZ73rXu2Ljxo1x11139XjMCy+8EEcccUScfvrpcemll27zXNdff33stttuMWnSpHj88cfjC1/4QgwbNizuueeeKCsr2+r4lpaWaGlp6brd2NgYEyZMkHwDAAAMIk1NEdXVha5i55iBVfoEWCXiE5/4RPziF7+Iu+66K8aPH7/V/Y2NjXHCCSfEiBEj4pZbbomKiopen/uJJ56IfffdN26//fY4/vjjt7r/oosuiosvvnir/X5wAAAADB4tLRGVlYOzF5YAq/RZQlgCFixYELfeemvceeedPYZXr7zySsydOzeGDx8eS5cu3aHwKiJi8uTJsddee8Vjjz3W4/0XXHBBNDQ0dG1PP/30Tj0PAAAACqesLKK9vdBVQM+23wiJopYkSZxzzjmxdOnSWLFiRUyaNGmrYxobG2POnDmRy+Xilltuiaqqqh3+Os8880y8+OKLMXbs2B7vz+VykRusnf4AAACIiIjy8nQZ4Q7OeYABYQbWIFZXVxfXXXddLFmyJIYPHx719fVRX18fTU1NEZGGV7Nnz45NmzbFD37wg2hsbOw6pqOjo+s8U6dOjaVLl0ZExKuvvhrnn39+3HvvvfHkk0/G8uXL4+STT44pU6bEnDlzCvI8AQAAgKHNDKxB7Morr4yIiJkzZ3bbv2jRopg/f3488MADcd9990VExJQpU7ods27duthnn30iImLt2rVdVzAsKyuLBx98MP77v/87Nm7cGOPGjYvZs2fHV77yFbOsAAAASlzWNBeKlCbu9DnN8wAAAAanwXolQu9DS59sFQAAAICiJsACAAAAIiIikyl0BdAzARYAAAAQEQIsipcACwAAAIiIiM7OQlcAPRNgAQAAAF1c6o1iJMACAAAAIiKioiKio6PQVcDWBFgAAABARESUlUW0txe6CtiaAAsAAACIiLSJuyWEFCMBFgAAAABFTYAFAAAAdMlKCihCvi0BAACALpYQUowEWAAAAEAXARbFSIAFAAAAdMlkut9esaIgZUA3AiwAAACgiwCLYiTAAgAAALp0dha6AtiaAAsAAADoUl4e0d5e6CqgOwEWAAAA0EWARTESYAEAAABdXtsDC4qBAAsAAADoJkkKXQF0J8ACAAAAoKgJsAAAAIBustICioxvSQAAAKAbSwgpNgIsAAAAoBsBFsVGgAUAAABAURNgAQAAAN3ogUWx8S0JAAAAbKWzs9AVwGYCLAAAAKCbysqI1tZCVwGbCbAAAACAbjKZQlcA3QmwAAAAgK0IsSgmAiwAAABgK3pgUUwEWAAAAAAUNQEWAAAAsJWsxIAi4tsRAAAA2EqSFLoC2EyABQAAAGxFgEUxEWABAAAAUNQEWAAAAMBWyspciZDiIcACAAAAtlJeHtHWVugqICXAAgAAALaSzZqBRfEQYAEAAAA9ymQKXQGkBFgAAABAjwRYFIvyQhcAAAAAFJ9VqyJ+9KOIn/0sXUp4yikR06YVuiqGKjOwBrGFCxfGkUceGcOHD49Ro0bFvHnzYu3atd2O+ad/+qfYd999o7q6OkaOHBknn3xy/OlPf9rueZMkiS9/+csxduzYqK6ujlmzZsWjjz7an08FAACAIrJqVcSFF0asXBnR1BRxxx3p7VWrCl0ZQ5UAaxBbuXJl1NXVxb333hu33XZbtLW1xezZs2PTpk1dxxxxxBGxaNGieOSRR+KXv/xlJEkSs2fPjo6Ojm2e97LLLovLL788rrrqqrjvvvti9913jzlz5kRzc/NAPC0AAAAKbOnSiJdeijjwwIiamoiDDkpv33RToStjqMokSZIUugj6xvPPPx+jRo2KlStXxowZM3o85sEHH4xDDz00Hnvssdh33323uj9Jkhg3blx85jOfic9+9rMREdHQ0BCjR4+OxYsXx/vf//7XraOxsTFqa2ujoaEhampqdu1JAQAAMOBOPz3i5Zcjxo2LeOCBiLe8JeKZZyL23DPiuusKXd3WvA8tfWZglZCGhoaIiBgxYkSP92/atCkWLVoUkyZNigkTJvR4zLp166K+vj5mzZrVta+2tjamT58e99xzT4+PaWlpicbGxm4bAAAAg9fkyRENDZubuCdJeruHeRAwIARYJaKzszPOPffcOPbYY+OQQw7pdt93v/vdGDZsWAwbNix+8YtfxG233RaVlZU9nqe+vj4iIkaPHt1t/+jRo7vue62FCxdGbW1t17atcAwAAIDB4ZRTIkaMiHj44YjGxvTjiBER8+YVujKGKgFWiairq4uHHnoorr/++q3u++AHPxirVq2KlStXxv777x/ve9/7+rSf1QUXXBANDQ1d29NPP91n5wYAAGDgTZsWcfHFEccfH1FdnX68+GJXIaRwygtdALtuwYIFceutt8avfvWrGD9+/Fb352dG7bfffnH00UfHnnvuGUuXLo3TTjttq2PHjBkTEREbNmyIsWPHdu3fsGFDHHbYYT1+/VwuF7lcrm+eDAAAAEVh2rR0y2QiLrqo0NUw1JmBNYglSRILFiyIpUuXxh133BGTJk3q1WOSJImWlpYe7580aVKMGTMmli9f3rWvsbEx7rvvvjjmmGP6rHYAAACA3hJgDWJ1dXVx3XXXxZIlS2L48OFRX18f9fX10dTUFBERTzzxRCxcuDDuv//+eOqpp+Luu++Of/zHf4zq6ur4+7//+67zTJ06NZYuXRoREZlMJs4999z46le/GrfcckusWbMmzjjjjBg3blzMs9gZAAAAKABLCAexK6+8MiIiZs6c2W3/okWLYv78+VFVVRW//vWv49vf/na8/PLLMXr06JgxY0bcfffdMWrUqK7j165d23UFw4iIz33uc7Fp06Y4++yzY+PGjXHcccfFsmXLoqqqakCeFwAAAMCWMkmSJIUugtLS2NgYtbW10dDQEDU1NYUuBwAAgF1w0UXF3wPL+9DSZwkhAAAAAEVNgAUAAABAURNgAQAAAFDUBFgAAAAAFDUBFgAAAABFTYAFAAAAQFETYAEAAABQ1ARYAAAAABQ1ARYAAAAARU2ABQAAAEBRE2ABAAAAUNQEWAAAAAAUNQEWAAAAAEVNgAUAAABAURNgAQAAAFDUBFgAAAAAFDUBFgAAAABFTYAFAAAAQFETYAEAAABQ1ARYAAAAABQ1ARYAAAAARU2ABQAAAEBRE2ABAAAAUNQEWAAAAMA2zZxZ6ApAgAUAAABshwCLYiDAAgAAAKCoCbAAAAAAKGoCLAAAAACKmgALAAAAgKImwAIAAACgqAmwAAAAAChqAiwAAAAAipoACwAAAICiJsACAAAAoKgJsAAAAAAoagIsAAAAAIqaAAsAAACAoibAAgAAAKCoCbAAAAAAKGoCLAAAAACKmgALAAAAgKImwAIAAACgqAmwAAAAAChq5YUugNKTJElERDQ2Nha4EgAAAIaC/PvP/PtRSo8Aiz73yiuvRETEhAkTClwJAAAAQ8krr7wStbW1hS6DfpBJxJP0sc7Oznjuuedi+PDhkclktrq/sbExJkyYEE8//XTU1NQUoEL6g3EtTca1NBnX0mRcS5NxLU3GtTQZ18JKkiReeeWVGDduXGSzuiWVIjOw6HPZbDbGjx//usfV1NT4wV6CjGtpMq6lybiWJuNamoxraTKupcm4Fo6ZV6VNLAkAAABAURNgAQAAAFDUBFgMuFwuFxdeeGHkcrlCl0IfMq6lybiWJuNamoxraTKupcm4libjCv1LE3cAAAAAipoZWAAAAAAUNQEWAAAAAEVNgAUAAABAURNgAQAAAFDUBFi8rosuuigymUy3berUqV33z5w5c6v7P/7xj3fd/+KLL8bcuXNj3LhxkcvlYsKECbFgwYJobGzsOmbFihVbnSOTyUR9fX23Wq644orYZ599oqqqKqZPnx6//e1v+/8foETt6rhu6cUXX4zx48dHJpOJjRs3drtvxYoVcfjhh0cul4spU6bE4sWLt3q8ce07AzGuXq8Dry/Gtacxu/7667sd4/U6sAZiXL1eB15f/RxevHhxvPnNb46qqqoYNWpU1NXVdbv/wQcfjLe97W1RVVUVEyZMiMsuu2yrc9xwww0xderUqKqqije96U3x85//vO+f8BAxEOP65JNP9vh6vffee7udw7j2nV0d18WLF/c4ZplMJv761792Hef3K/SN8kIXwOBw8MEHx+233951u7y8+7fOxz72sbjkkku6bu+2225dn2ez2Tj55JPjq1/9aowcOTIee+yxqKuri5deeimWLFnS7Txr166NmpqartujRo3q+vx///d/47zzzourrroqpk+fHt/+9rdjzpw5sXbt2m7H0Xu7Mq5bOuuss+LNb35zPPvss932r1u3Lk466aT4+Mc/Hv/zP/8Ty5cvj49+9KMxduzYmDNnTkQY1/7Q3+Oa5/U6sPpiXBctWhRz587tur3HHnt0fe71Whj9Pa55Xq8Da1fH9Zvf/Gb8+7//e3z961+P6dOnx6ZNm+LJJ5/sur+xsTFmz54ds2bNiquuuirWrFkTZ555Zuyxxx5x9tlnR0TE3XffHaeddlosXLgw3vnOd8aSJUti3rx58cADD8QhhxzSD8+69PX3uObdfvvtcfDBB3fdfsMb3tD1uXHte7syrqeeemq3n78REfPnz4/m5uaun59+v0IfSuB1XHjhhcmhhx66zfvf/va3J5/61Kd26Jzf+c53kvHjx3fdvvPOO5OISF5++eVtPuaoo45K6urqum53dHQk48aNSxYuXLhDX5tUX43rd7/73eTtb397snz58q3G8HOf+1xy8MEHdzv+1FNPTebMmdN127j2rYEYV6/XgdcX4xoRydKlS7d5v9frwBuIcfV6HXi7Oq4vvfRSUl1dndx+++3bPOa73/1usueeeyYtLS1d+z7/+c8nBxxwQNft973vfclJJ53U7XHTp09P/umf/un1nwRbGYhxXbduXRIRyapVq7Z5jHHtW339Puevf/1rUlFRkVx77bVd+/x+hb5jCSG98uijj8a4ceNi8uTJ8cEPfjCeeuqpbvf/z//8T+y1115xyCGHxAUXXBB/+9vftnmu5557Lm688cZ4+9vfvtV9hx12WIwdOzZOOOGE+M1vftO1v7W1Ne6///6YNWtW175sNhuzZs2Ke+65pw+e4dC0q+P68MMPxyWXXBLXXnttZLNb/zi55557uo1ZRMScOXO6xsy49o/+Htc8r9eB1Rc/h+vq6mKvvfaKo446Kq655ppIkqTrPq/Xwujvcc3zeh1YuzKut912W3R2dsazzz4bBx54YIwfPz7e9773xdNPP911zD333BMzZsyIysrKrn352Rovv/xy1zHbe02z4/p7XPPe9a53xahRo+K4446LW265pdt9xrXv9eX7nGuvvTZ22223eO9739u1z+9X6DuWEPK6pk+fHosXL44DDjgg1q9fHxdffHG87W1vi4ceeiiGDx8eH/jAB2LvvfeOcePGxYMPPhif//znY+3atXHjjTd2O89pp50WN998czQ1NcU//MM/xNVXX91139ixY+Oqq66Kt7zlLdHS0hJXX311zJw5M+677744/PDD44UXXoiOjo4YPXp0t3OOHj06/vSnPw3Iv0Op2dVxbWlpidNOOy2+/vWvx8SJE+OJJ57Y6mvU19f3OGaNjY3R1NQUL7/8snHtYwMxrl6vA68vfg5fcskl8Xd/93ex2267xf/7f/8v/vmf/zleffXV+OQnPxkRXq+FMBDj6vU68HZ1XJ944ono7OyMf/3Xf43vfOc7UVtbG1/84hfjhBNOiAcffDAqKyujvr4+Jk2a1O3r5sewvr4+9txzz22+pl/b/4zeGYhxHTZsWPz7v/97HHvssZHNZuMnP/lJzJs3L2666aZ417veFRHb/lltXHdOX73PyfvBD34QH/jAB6K6urprn9+v0IcKPQWMwefll19OampqkquvvrrH+/NLjh577LFu+9evX5888sgjyc0335wcdNBBySc+8Yntfp0ZM2Ykp59+epIkSfLss88mEZHcfffd3Y45//zzk6OOOmoXng15Ozqun/70p5NTTz216/6elqnst99+yb/+6792O8/PfvazJCKSv/3tb8Z1APTHuPbE63Vg7ezP4S196Utf6raU2+u18PpjXHvi9TqwdnRcL7300iQikl/+8pddx/z1r39NstlssmzZsiRJkuSEE05Izj777G7n+eMf/5hERPLwww8nSZIkFRUVyZIlS7odc8UVVySjRo3qs+c2lPXHuPbkQx/6UHLcccd13Tau/WtXfg7ffffdSUQkv//977vt9/sV+o4lhOywPfbYI/bff/947LHHerx/+vTpERFb3T9mzJiYOnVqvOtd74rvfe97ceWVV8b69eu3+XWOOuqornPstddeUVZWFhs2bOh2zIYNG2LMmDG78nT4Pzs6rnfccUfccMMNUV5eHuXl5XH88cdHRDpWF154YUSkY97TmNXU1ER1dbVxHQD9Ma498XodWDv7c/i1xzzzzDPR0tISEV6vxaA/xrUnXq8Da0fHdezYsRERcdBBB3UdM3LkyNhrr726ljZt6/Wav297xxjXvtEf47qt82z5NYxr/9qVn8NXX311HHbYYXHEEUd02+/3K/QdARY77NVXX43HH3+86xfxa61evToiYpv3R0R0dnZGRGz3D+zVq1d3naOysjKOOOKIWL58ebdzLF++PI455pgdfQr0YEfH9Sc/+Un84Q9/iNWrV8fq1au7loT++te/7rok9DHHHNNtzCLSHhD5MTOu/a8/xnVb5/F6HTh98XN49erVseeee0Yul4sIr9di0B/juq1jvF4Hzo6O67HHHhsR6ZUj81566aV44YUXYu+9946I9PX6q1/9Ktra2rqOue222+KAAw6IPffcs+uY7b2m2TX9Ma7bOs+WX8O49q+d/Tn86quvxo9+9KM466yztnqM36/Qhwo9BYzi95nPfCZZsWJFsm7duuQ3v/lNMmvWrGSvvfZK/vrXvyaPPfZYcskllyS///3vk3Xr1iU333xzMnny5GTGjBldj//Zz36WXHPNNcmaNWuSdevWJbfeemty4IEHJscee2zXMd/61reSm266KXn00UeTNWvWJJ/61KeSbDbb7Uot119/fZLL5ZLFixcnDz/8cHL22Wcne+yxR1JfXz+g/x6lYlfH9bV6Wmr2xBNPJLvttlty/vnnJ4888khyxRVXJGVlZd2myhvXvjUQ4+r1OvB2dVxvueWW5L/+67+SNWvWJI8++mjy3e9+N9ltt92SL3/5y13HeL0OvIEYV6/XgdcXP4dPPvnk5OCDD05+85vfJGvWrEne+c53JgcddFDS2tqaJEmSbNy4MRk9enTyoQ99KHnooYeS66+/Ptltt92S733ve13n+M1vfpOUl5cn3/jGN5JHHnkkufDCC5OKiopkzZo1A/rvUSoGYlwXL16cLFmyJHnkkUeSRx55JLn00kuTbDabXHPNNV3nMK59q6/+brr66quTqqqqHlsu+P0KfUeAxes69dRTk7FjxyaVlZXJG9/4xuTUU0/tWvf91FNPJTNmzEhGjBiR5HK5ZMqUKcn555+fNDQ0dD3+jjvuSI455piktrY2qaqqSvbbb7/k85//fLcf8F/72teSfffdN6mqqkpGjBiRzJw5M7njjju2quU//uM/kokTJyaVlZXJUUcdldx77739/vxL1a6O62ttq1fSnXfemRx22GFJZWVlMnny5GTRokVbPda49p2BGFev14G3q+P6i1/8IjnssMOSYcOGJbvvvnty6KGHJldddVXS0dHR7et4vQ6sgRhXr9eB1xc/hxsaGpIzzzwz2WOPPZIRI0Ykp5xySvLUU091O+YPf/hDctxxxyW5XC554xvfmPzbv/3bVrX86Ec/Svbff/+ksrIyOfjgg5Of/exn/ffES9xAjOvixYuTAw88MNltt92Smpqa5KijjkpuuOGGrWoxrn2nr/5uOuaYY5IPfOAD2/w6fr9C38gkSQ/XWgYAAACAIqEHFgAAAABFTYAFAAAAQFETYAEAAABQ1ARYAAAAABQ1ARYAAAAARU2ABQAAAEBRE2ABAAAAUNQEWAAAAAAUNQEWAEA/mj9/fmQymfj4xz++1X11dXWRyWRi/vz5XcfOmzdvq8dmMpmoqKiI0aNHxwknnBDXXHNNdHZ2DtAzAAAoPAEWAEA/mzBhQlx//fXR1NTUta+5uTmWLFkSEydO3O5j586dG+vXr48nn3wyfvGLX8Q73vGO+NSnPhXvfOc7o729vb9LBwAoCgIsAIB+dvjhh8eECRPixhtv7Np34403xsSJE2PatGnbfWwul4sxY8bEG9/4xjj88MPjC1/4Qtx8883xi1/8IhYvXtzPlQMAFAcBFgDAADjzzDNj0aJFXbevueaa+MhHPrJT5/q7v/u7OPTQQ7sFYgAApUyABQAwAE4//fS466674i9/+Uv85S9/id/85jdx+umn7/T5pk6dGk8++WTfFQgAUMTKC10AAMBQMHLkyDjppJNi8eLFkSRJnHTSSbHXXnvt9PmSJIlMJtOHFQIAFC8BFgDAADnzzDNjwYIFERFxxRVX7NK5HnnkkZg0aVJflAUAUPQsIQQAGCBz586N1tbWaGtrizlz5uz0ee64445Ys2ZNvOc97+nD6gAAipcZWAAAA6SsrCweeeSRrs97o6WlJerr66OjoyM2bNgQy5Yti4ULF8Y73/nOOOOMM/qzXACAoiHAAgAYQDU1Ndu8r7OzM8rLu/95tmzZshg7dmyUl5fHnnvuGYceemhcfvnl8eEPfziyWZPpAYChIZMkSVLoIgAASJcYTpkyJf7zP/+z0KUAABQV/20HAFBgL7/8ctx6662xYsWKmDVrVqHLAQAoOpYQAgAU2Jlnnhm/+93v4jOf+UycfPLJhS4HAKDoWEIIAAAAQFGzhBAAAACAoibAAgAAAKCoCbAAAAAAKGoCLAAAAACKmgALAAAAgKImwAIAAACgqAmwAAAAAChqAiwAAAAAipoACwAAAICiJsACAAAAoKgJsAAAAAAoagIsAAAAAIqaAAsAAACAoibAAgAAAKCoCbAAAAAAKGoCLAAAAACKmgALAAAAgKImwAIAAACgqAmwAAAAAChqAiwAAAAAipoACwAAAICiJsACAAAAoKj9/9ZkgacWSpoZAAAAAElFTkSuQmCC' width=1200.0/>\n",
       "            </div>\n",
       "        "
      ],
      "text/plain": [
       "Canvas(toolbar=Toolbar(toolitems=[('Home', 'Reset original view', 'home', 'home'), ('Back', 'Back to previous …"
      ]
     },
     "metadata": {},
     "output_type": "display_data"
    }
   ],
   "source": [
    "# αJ2000 = 16h09min28.296s, δJ2000 = +53 deg 40′ 23.52′′ from arXiv:1205.0252 in field \"GNU2597664528044916736\"\n",
    "#logger.enable(\"vasca\")\n",
    "\n",
    "src_ps1tde, dist = rg.get_src_from_sky_pos('16h09m28.296s', '+53d40m23.52s')\n",
    "print(\"Found VASCA source is at distance:\",dist.degree,\"deg\")\n",
    "\n",
    "fig_lc = plt.figure(figsize=(12, 6))\n",
    "vvis.plot_light_curve(src_ps1tde,rg_src_ids=src_ps1tde.tt_sources[\"rg_src_id\"][0])\n",
    "display(src_ps1tde.tt_fields)\n",
    "display(src_ps1tde.tt_sources)\n",
    "display(src_ps1tde.tt_detections)"
   ]
  },
  {
   "cell_type": "markdown",
   "id": "99774a88-01e4-49f1-90fa-653a50e70212",
   "metadata": {},
   "source": [
    "### Display TDE PS1-10jh field in the sky"
   ]
  },
  {
   "cell_type": "code",
   "execution_count": 6,
   "id": "085c90f3-1946-4f47-9cb2-6d8fd5c39b37",
   "metadata": {},
   "outputs": [
    {
     "data": {
      "text/plain": [
       "NoneType"
      ]
     },
     "execution_count": 6,
     "metadata": {},
     "output_type": "execute_result"
    }
   ],
   "source": [
    "fd = rg.fields[src_ps1tde.tt_fields[0][\"field_id\"]]\n",
    "fd_src_id = src_ps1tde.tt_fields[\"fd_src_id\"][0]\n",
    "\n",
    "#Select PS1-10jh\n",
    "#fd.tt_sources.add_index(\"fd_src_id\")\n",
    "#src_idx = fd.tt_sources.loc_indices[\"fd_src_id\",fd_src_id ]\n",
    "#sel_src = np.zeros(len(fd.tt_sources),dtype=bool)\n",
    "#sel_src[src_idx]=True\n",
    "#fd.tt_sources[\"sel\"][:]=sel_src\n",
    "\n",
    "#Select variable sources\n",
    "fd.tt_sources[\"sel\"][:] = fd.tt_sources[\"flux_cpval\"] <1e-3\n",
    "\n",
    "#fig_sky = vvis.plot_field_sky(fd,plot_detections=True)\n",
    "\n",
    "#display(Table(fd.tt_sources[src_idx]))\n",
    "type(None)"
   ]
  },
  {
   "cell_type": "markdown",
   "id": "2df189d1-a62e-4da5-94ce-6ed94b7101a1",
   "metadata": {},
   "source": [
    "### Show TDS coverage maps"
   ]
  },
  {
   "cell_type": "code",
   "execution_count": null,
   "id": "8f52ebf4-a2b9-4db6-95b6-afe76b38e9cd",
   "metadata": {},
   "outputs": [],
   "source": [
    "#logger.enable(\"vasca\")\n",
    "plot_coverage = False\n",
    "if plot_coverage:\n",
    "    rg.add_coverage_hp(nside=4096)\n",
    "    vvis.plot_region_sky_mollview(rg, var=\"nr_vis\")\n",
    "    vvis.plot_region_sky_mollview(rg, var=\"nr_fds\")\n",
    "    vvis.plot_region_sky_mollview(rg, var=\"exp\")\n",
    "rg.add_coverage_hp(nside=4096, coord_sys=\"icrs\")\n",
    "vvis.plot_region_sky_gnomeview(rg,rg.tt_fields[2][\"ra\"],rg.tt_fields[2][\"dec\"])"
   ]
  },
  {
   "cell_type": "markdown",
   "id": "efe4c5c2-8f3b-4a1a-b849-5ad16c864dc2",
   "metadata": {},
   "source": [
    "### Sky image with Imviz, show source and detection markers on-top"
   ]
  },
  {
   "cell_type": "code",
   "execution_count": null,
   "id": "4c285c1c-cb4a-4e8d-a945-a6564c70e611",
   "metadata": {},
   "outputs": [],
   "source": [
    "show_imviz = False\n",
    "if show_imviz:\n",
    "    hdup = fits.PrimaryHDU(fd.ref_img, header=fd.ref_wcs.to_header())\n",
    "    imviz = Imviz()\n",
    "    viewer = imviz.default_viewer\n",
    "    imviz.load_data(hdup, data_label=str(field_id))\n",
    "    imviz.show(loc='sidecar')\n",
    "\n",
    "    sel_det = fd.tt_detections[\"sel\"]\n",
    "    tt_det_sky = Table({'coord': SkyCoord(fd.tt_detections[sel_det][\"ra\"], fd.tt_detections[sel_det][\"dec\"], frame='fk5')})\n",
    "    viewer.marker = {'color':'blue', 'markersize': 5., 'fill': False} #, 'alpha': 1.0\n",
    "    viewer.add_markers(tt_det_sky, use_skycoord=True, marker_name='D')\n",
    "\n",
    "    srcs_sky = SkyCoord(fd.tt_sources[\"ra\"], fd.tt_sources[\"dec\"], frame='fk5')\n",
    "    tt_srcs_sky = Table({'coord':srcs_sky })\n",
    "    viewer.marker = {'color':'red', 'markersize': 2., 'fill': True} #, 'alpha': 1.0\n",
    "    viewer.add_markers(tt_srcs_sky, use_skycoord=True, marker_name='S')"
   ]
  },
  {
   "cell_type": "markdown",
   "id": "89a1d61b-4507-423c-822b-6aeabb19679a",
   "metadata": {},
   "source": [
    "### Show TDS diagnostic plots\n",
    "#### Display distribution for all sources in the region"
   ]
  },
  {
   "cell_type": "code",
   "execution_count": null,
   "id": "45d4cdd3-a474-47ce-8721-ad882bdaa15f",
   "metadata": {},
   "outputs": [],
   "source": [
    "fig_fd_det_diag_scat = vvis.plot_pipe_diagnostic(rg, \"tt_sources\", \"scatter\")\n",
    "fig_rg_src_diag_hist, plot_pars = vvis.plot_pipe_diagnostic(rg, \"tt_sources\", \"hist\")\n",
    "sel= rg.tt_sources[\"sel\"]\n",
    "nr_sel_srcs =len(rg.tt_sources[sel])\n",
    "nr_srcs = len(rg.tt_sources)\n",
    "print(\"Total / selected sources:\",nr_sel_srcs,\"/\",nr_srcs,\"(\",np.round(100*nr_sel_srcs/nr_srcs,2),\"%)\")"
   ]
  },
  {
   "cell_type": "markdown",
   "id": "61677353-3964-4a8b-a812-f3f338efe155",
   "metadata": {},
   "source": [
    "#### Display distribution for all detections in the field of TDE PS1-10jh"
   ]
  },
  {
   "cell_type": "code",
   "execution_count": null,
   "id": "0d06fa0c-88fe-42ef-b220-96b6ac168e21",
   "metadata": {},
   "outputs": [],
   "source": [
    "fig_det_diag_hist, plot_pars = vvis.plot_pipe_diagnostic(fd, \"tt_detections\", \"hist\",fig_size=(8, 10))"
   ]
  },
  {
   "cell_type": "markdown",
   "id": "ed2bc016-0284-42a4-860a-457d82223775",
   "metadata": {},
   "source": [
    "### Look into more details for the chisquare distribution"
   ]
  },
  {
   "cell_type": "code",
   "execution_count": null,
   "id": "e09101aa-0167-4118-9cb6-0080f785fff4",
   "metadata": {},
   "outputs": [],
   "source": [
    "#Setup binning\n",
    "rchisq_bins_lg = np.linspace(-2, 2, 61)\n",
    "rchisq_bins = np.power(10,rchisq_bins_lg)\n",
    "rchisq_bins_mean = (rchisq_bins[:-1]+rchisq_bins[1:])/2.\n",
    "rchisq_bins_width = rchisq_bins[1:]-rchisq_bins[:-1]\n",
    "\n",
    "#Select events\n",
    "sel_det = rg.tt_sources[\"nr_det\"]>10\n",
    "\n",
    "#Calculate expected rchiq distribution for selected events\n",
    "rchsq_pdf = np.zeros(len(rchisq_bins_mean))\n",
    "#Get summed reduced chisquare distribution\n",
    "for src in rg.tt_sources[sel_det]:\n",
    "    rchsq_pdf += chi2.pdf(rchisq_bins_mean, src[\"nr_det\"]-1, scale = 1/(src[\"nr_det\"]-1) )*rchisq_bins_width \n",
    "\n",
    "rchiq_hist, bins = np.histogram(rg.tt_sources[sel_det][\"flux_rchiq\"], bins = rchisq_bins)\n",
    "\n",
    "fig_rchsq = plt.figure()\n",
    "plt.loglog(rchisq_bins_mean, rchsq_pdf ,'r-', lw=2, alpha=0.6, label='pdf')\n",
    "plt.loglog(rchisq_bins_mean, rchiq_hist ,'b-', lw=2, alpha=0.6, label='hist')\n",
    "plt.ylim(1e-0,1e4)\n",
    "plt.legend()\n",
    "plt.ylabel(\"Number of sources\")\n",
    "plt.xlabel(\"Reduced chisquare\")"
   ]
  },
  {
   "cell_type": "markdown",
   "id": "4fea4c90-e4ae-4e17-8bb9-a5f8f2c0a785",
   "metadata": {},
   "source": [
    "### Look at the Pval distibutions for different magnitudes"
   ]
  },
  {
   "cell_type": "code",
   "execution_count": null,
   "id": "d7dc2acb-1afc-41a1-840d-aa43de8e873a",
   "metadata": {},
   "outputs": [],
   "source": [
    "#Get pval data and saturate it at low Pval for better plotting\n",
    "pval_min = 1e-8\n",
    "pvals = rg.tt_sources[\"flux_cpval\"]\n",
    "pvals = (pvals<pval_min+1e-12)*(pval_min+1e-12)+(pvals>pval_min)*pvals\n",
    "\n",
    "#if plot_logx:\n",
    "pval_bins_lg = np.linspace(np.log10(pval_min), 0, 101)\n",
    "pval_bins = np.power(10,pval_bins_lg)\n",
    "pval_bins_mean = (pval_bins[:-1]+pval_bins[1:])/2.\n",
    "\n",
    "#Plotting for different magnitude cuts\n",
    "fig_pval, axs = plt.subplots(1, 2, figsize=(12, 5), squeeze=False)\n",
    "axs = axs.flatten()\n",
    "for mag_cut in range(20,24):\n",
    "    sel_mag = (rg.tt_sources[\"mag_mean\"]<mag_cut) #* (rg.tt_sources[\"mag_mean\"]>mag_cut-1)\n",
    "\n",
    "    pval_hist, bins = np.histogram(pvals[sel_mag], bins=pval_bins, density=True)\n",
    "    axs[0].loglog(pval_bins_mean, pval_hist , lw=2, alpha=0.6, label=str(mag_cut))\n",
    "    axs[1].hist(rg.tt_sources[sel_mag][\"flux_cpval\"], bins=50, density=True ,label=\"mag < \"+str(mag_cut),alpha=0.4)   #, ,cumulative=1\n",
    "\n",
    "\n",
    "axs[0].set_ylabel(\"Source density\")\n",
    "axs[1].set_xlabel(\"Pval\")\n",
    "axs[1].set_xlabel(\"Pval\")\n",
    "plt.legend()\n",
    "plt.tight_layout()\n",
    "plt.semilogy()"
   ]
  },
  {
   "cell_type": "markdown",
   "id": "d2714096-23ba-4395-8925-f7880d2f1eb4",
   "metadata": {},
   "source": [
    "### Reproduce Fig. 3 from Gezari et al. ApJ 2013"
   ]
  },
  {
   "cell_type": "code",
   "execution_count": null,
   "id": "bb7f3f5d-5353-429c-9234-30de8123ec53",
   "metadata": {},
   "outputs": [],
   "source": [
    "#Source selection\n",
    "sel_cpval = rg.tt_sources[\"flux_cpval\"]>0.01\n",
    "#rg.tt_fields.add_index(\"field_id\")\n",
    "#fd = rg.tt_fields.loc[\"field_id\", \"GNU2605053246158405632\"]\n",
    "#sel_field = rg.tt_sources[\"rg_fd_id\"]==fd[\"rg_fd_id\"]\n",
    "sel_ndet = rg.tt_sources[\"nr_det\"]>10\n",
    "sel_all = sel_cpval*sel_ndet#*sel_field\n",
    "\n",
    "mag_var_hist, var_bins = np.histogram(rg.tt_sources[\"mag_mean\"][sel_all], bins=20, density=False, weights = np.sqrt(rg.tt_sources[\"mag_var\"][sel_all]))\n",
    "mag_err_hist, var_bins = np.histogram(rg.tt_sources[\"mag_mean\"][sel_all], bins=20, density=False, weights = rg.tt_sources[\"mag_err_mean\"][sel_all])\n",
    "mag_var_entries, bins = np.histogram(rg.tt_sources[\"mag_mean\"][sel_all], bins=var_bins, density=False)\n",
    "var_bins_mean = (var_bins[:-1]+var_bins[1:])/2.\n",
    "\n",
    "#Get TDS Fig 3 data\n",
    "tt_tds= Table.read(\"./TDS-ApJ_766_60/GezariApJ2013_TDS_Fig3.csv\")\n",
    "\n",
    "#Plot\n",
    "fig_mag_var = plt.figure(figsize=(5, 8))\n",
    "plt.plot(var_bins_mean , mag_var_hist/mag_var_entries ,lw=2, alpha=0.6, label=\"VASCA-ELAISN1 sqrt(mag variance)\")\n",
    "plt.plot(var_bins_mean , mag_err_hist/mag_var_entries ,lw=2, alpha=0.6, label=\"VASCA-ELAISN1 mean pipeline error\")\n",
    "#plt.plot(tt_tds[\"mag\"] , tt_tds[\"MOS23\"] ,lw=2, alpha=0.6, label=\"TDS-MOS23\")\n",
    "plt.plot(tt_tds[\"mag\"] , tt_tds[\"TDS\"] ,lw=2, alpha=0.6, label=\"TDS-All\")\n",
    "plt.xlabel(\"Magnitude\")\n",
    "plt.ylabel(\"Magnitude sigma\")\n",
    "plt.legend()\n",
    "plt.xlim([18, 23])\n",
    "fig_mag_var.savefig(\"./vasca_pipeline/\"+region_name+\"/vasca_\"+region_name+\"_mag_err.png\")\n",
    "#plt.semilogy()"
   ]
  },
  {
   "cell_type": "code",
   "execution_count": null,
   "id": "3e4ffacc-c925-4915-bbcf-2bd943598bdd",
   "metadata": {},
   "outputs": [],
   "source": [
    "### Angular resolution comparison distribution to errors"
   ]
  },
  {
   "cell_type": "code",
   "execution_count": null,
   "id": "040d1a6f-553b-4251-804b-eb5403c7dfae",
   "metadata": {},
   "outputs": [],
   "source": [
    "#Source selection\n",
    "sel_cpval = rg.tt_sources[\"flux_cpval\"]>0.01\n",
    "#sel_field = rg.tt_sources[\"rg_fd_id\"]==fd[\"rg_fd_id\"]\n",
    "sel_ndet = rg.tt_sources[\"nr_det\"]>10\n",
    "sel_all = np.ones(len(rg.tt_sources),dtype=bool) # sel_cpval*sel_ndet*sel_field\n",
    "\n",
    "pos_var_hist, var_bins = np.histogram(rg.tt_sources[\"mag_mean\"][sel_all], bins=20, density=False, weights = np.sqrt(rg.tt_sources[\"pos_var\"][sel_all]))\n",
    "pos_err_hist, var_bins = np.histogram(rg.tt_sources[\"mag_mean\"][sel_all], bins=20, density=False, weights = rg.tt_sources[\"pos_err_mean\"][sel_all])\n",
    "pos_var_entries, bins = np.histogram(rg.tt_sources[\"mag_mean\"][sel_all], bins=var_bins, density=False)\n",
    "pos_bins_mean = (var_bins[:-1]+var_bins[1:])/2.\n",
    "\n",
    "#Plot\n",
    "fig_pos_var = plt.figure(figsize=(5, 8))\n",
    "plt.plot(pos_bins_mean , 3600*pos_var_hist/pos_var_entries ,lw=2, alpha=0.6, label=\"VASCA sqrt(pos variance)\")\n",
    "plt.plot(pos_bins_mean , 3600*pos_err_hist/pos_var_entries ,lw=2, alpha=0.6, label=\"VASCA mean pipeline error\")\n",
    "plt.xlabel(\"Magnitude\")\n",
    "plt.ylabel(\"Detection position sigma [arc sec]\")\n",
    "plt.legend()\n",
    "plt.xlim([18, 23])\n",
    "fig_pos_var.savefig(\"./vasca_pipeline/\"+region_name+\"/vasca_\"+region_name+\"_pos_err.png\")\n",
    "#plt.semilogy()"
   ]
  },
  {
   "cell_type": "code",
   "execution_count": null,
   "id": "6ab727f4-c18a-45ce-8cf7-74d5b3fcf9e4",
   "metadata": {},
   "outputs": [],
   "source": []
  },
  {
   "cell_type": "code",
   "execution_count": null,
   "id": "ff2b3f16-befa-4267-bf52-07befd6ab658",
   "metadata": {},
   "outputs": [],
   "source": []
  },
  {
   "cell_type": "code",
   "execution_count": null,
   "id": "5ff70b55-ccd1-4eda-b672-2d2df3e37178",
   "metadata": {},
   "outputs": [],
   "source": []
  }
 ],
 "metadata": {
  "kernelspec": {
   "display_name": "Python 3 (ipykernel)",
   "language": "python",
   "name": "python3"
  },
  "language_info": {
   "codemirror_mode": {
    "name": "ipython",
    "version": 3
   },
   "file_extension": ".py",
   "mimetype": "text/x-python",
   "name": "python",
   "nbconvert_exporter": "python",
   "pygments_lexer": "ipython3",
   "version": "3.10.6"
  }
 },
 "nbformat": 4,
 "nbformat_minor": 5
}
