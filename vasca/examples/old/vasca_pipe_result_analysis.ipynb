{
 "cells": [
  {
   "cell_type": "markdown",
   "id": "2ccb25d6-4601-4d17-97c5-6e7cb399dbfb",
   "metadata": {},
   "source": [
    "# VASCA result analysis example TDS\n",
    "Example notebook to have a look at the results of 'vasca_pipe -cfg ../vasca_cfg.yaml' from the examples folder. The output of the pipline was stored in the folder vasca_pipeline. Enter the region to be analysed below (assumes to contain the field PS_ELAISN1_MOS15)"
   ]
  },
  {
   "cell_type": "code",
   "execution_count": 1,
   "id": "8f4d3c12-523e-4a3a-9e07-205e605f0435",
   "metadata": {},
   "outputs": [],
   "source": [
    "region_name = \"TDS_ELAISN1\" #"
   ]
  },
  {
   "cell_type": "markdown",
   "id": "0606f171-3b01-4112-b427-404d577afef4",
   "metadata": {},
   "source": [
    "### Basic region information"
   ]
  },
  {
   "cell_type": "code",
   "execution_count": 2,
   "id": "a634423b-968a-4fad-8435-4ef2340005ce",
   "metadata": {},
   "outputs": [
    {
     "data": {
      "text/html": [
       "<div><i>Table length=14</i>\n",
       "<table id=\"table140670016184784\" class=\"table-striped table-bordered table-condensed\">\n",
       "<thead><tr><th>field_id</th><th>field_name</th><th>project</th><th>ra</th><th>dec</th><th>observatory</th><th>obs_filter</th><th>fov_diam</th><th>sel</th><th>nr_vis</th><th>time_bin_size_sum</th><th>time_start</th><th>time_stop</th><th>rg_fd_id</th></tr></thead>\n",
       "<thead><tr><th></th><th></th><th></th><th>deg</th><th>deg</th><th></th><th></th><th>deg</th><th></th><th></th><th>s</th><th>d</th><th>d</th><th></th></tr></thead>\n",
       "<thead><tr><th>bytes32</th><th>bytes32</th><th>bytes32</th><th>float64</th><th>float64</th><th>bytes22</th><th>bytes8</th><th>float32</th><th>bool</th><th>int32</th><th>float32</th><th>float64</th><th>float64</th><th>int64</th></tr></thead>\n",
       "<tr><td>GNU2597312684324028416</td><td>PS_ELAISN1_MOS10</td><td>DIS</td><td>242.50638203682297</td><td>55.9801443588634</td><td>GALEX</td><td>NUV</td><td>1.2</td><td>True</td><td>24</td><td>29566.4</td><td>54960.17787037037</td><td>56821.33210648148</td><td>1</td></tr>\n",
       "<tr><td>GNU2597383053068206080</td><td>PS_ELAISN1_MOS11</td><td>DIS</td><td>244.57200462478102</td><td>55.1825511621234</td><td>GALEX</td><td>NUV</td><td>1.2</td><td>True</td><td>25</td><td>31369.5</td><td>54960.24638888889</td><td>56815.50054271557</td><td>2</td></tr>\n",
       "<tr><td>GNU2597453421812383744</td><td>PS_ELAISN1_MOS12</td><td>DIS</td><td>242.896209389035</td><td>55.0003489374844</td><td>GALEX</td><td>NUV</td><td>1.2</td><td>True</td><td>21</td><td>26349.451</td><td>54960.314884259256</td><td>56814.569061234084</td><td>3</td></tr>\n",
       "<tr><td>GNU2597523790556561408</td><td>PS_ELAISN1_MOS13</td><td>DIS</td><td>241.28881797574297</td><td>55.3529870930308</td><td>GALEX</td><td>NUV</td><td>1.2</td><td>True</td><td>22</td><td>27810.902</td><td>54960.38337962963</td><td>56819.53759259259</td><td>4</td></tr>\n",
       "<tr><td>GNU2597594159300739072</td><td>PS_ELAISN1_MOS14</td><td>DIS</td><td>243.95513153083402</td><td>54.1978605194106</td><td>GALEX</td><td>NUV</td><td>1.2</td><td>True</td><td>22</td><td>26881.852</td><td>54960.451886574076</td><td>56810.60611111111</td><td>5</td></tr>\n",
       "<tr><td>GNU2597664528044916736</td><td>PS_ELAISN1_MOS15</td><td>DIS</td><td>242.396514585217</td><td>53.9999872930018</td><td>GALEX</td><td>NUV</td><td>1.2</td><td>True</td><td>22</td><td>28044.65</td><td>54960.52040509259</td><td>56810.67461805556</td><td>6</td></tr>\n",
       "<tr><td>GNU2597734896789094400</td><td>PS_ELAISN1_MOS16</td><td>DIS</td><td>241.37385712300306</td><td>54.4519391954855</td><td>GALEX</td><td>NUV</td><td>1.2</td><td>True</td><td>21</td><td>26780.799</td><td>54960.588912037034</td><td>56807.7931854022</td><td>7</td></tr>\n",
       "<tr><td>GFU2597312684324028416</td><td>PS_ELAISN1_MOS10</td><td>DIS</td><td>242.50638203682297</td><td>55.9801443588634</td><td>GALEX</td><td>FUV</td><td>1.2</td><td>True</td><td>5</td><td>6920.1</td><td>54960.17787037037</td><td>56504.46356481482</td><td>8</td></tr>\n",
       "<tr><td>GFU2597383053068206080</td><td>PS_ELAISN1_MOS11</td><td>DIS</td><td>244.57200462478102</td><td>55.1825511621234</td><td>GALEX</td><td>FUV</td><td>1.2</td><td>True</td><td>5</td><td>6896.3994</td><td>54960.24638888889</td><td>56501.58207429109</td><td>9</td></tr>\n",
       "<tr><td>GFU2597453421812383744</td><td>PS_ELAISN1_MOS12</td><td>DIS</td><td>242.896209389035</td><td>55.0003489374844</td><td>GALEX</td><td>FUV</td><td>1.2</td><td>True</td><td>5</td><td>6929.0996</td><td>54960.314884259256</td><td>56508.650511791086</td><td>10</td></tr>\n",
       "<tr><td>GFU2597523790556561408</td><td>PS_ELAISN1_MOS13</td><td>DIS</td><td>241.28881797574297</td><td>55.3529870930308</td><td>GALEX</td><td>FUV</td><td>1.2</td><td>True</td><td>5</td><td>6942.2</td><td>54960.38337962963</td><td>56506.76889919705</td><td>11</td></tr>\n",
       "<tr><td>GFU2597594159300739072</td><td>PS_ELAISN1_MOS14</td><td>DIS</td><td>243.95513153083402</td><td>54.1978605194106</td><td>GALEX</td><td>FUV</td><td>1.2</td><td>True</td><td>5</td><td>6951.2</td><td>54960.451886574076</td><td>56513.78742151331</td><td>12</td></tr>\n",
       "<tr><td>GFU2597664528044916736</td><td>PS_ELAISN1_MOS15</td><td>DIS</td><td>242.396514585217</td><td>53.9999872930018</td><td>GALEX</td><td>FUV</td><td>1.2</td><td>True</td><td>5</td><td>6977.0</td><td>54960.52040509259</td><td>56519.80583333333</td><td>13</td></tr>\n",
       "<tr><td>GFU2597734896789094400</td><td>PS_ELAISN1_MOS16</td><td>DIS</td><td>241.37385712300306</td><td>54.4519391954855</td><td>GALEX</td><td>FUV</td><td>1.2</td><td>True</td><td>5</td><td>6887.0</td><td>54960.588912037034</td><td>56510.974315863714</td><td>14</td></tr>\n",
       "</table></div>"
      ],
      "text/plain": [
       "<Table length=14>\n",
       "       field_id           field_name    project ...     time_stop      rg_fd_id\n",
       "                                                ...         d                  \n",
       "       bytes32             bytes32      bytes32 ...      float64        int64  \n",
       "---------------------- ---------------- ------- ... ------------------ --------\n",
       "GNU2597312684324028416 PS_ELAISN1_MOS10     DIS ...  56821.33210648148        1\n",
       "GNU2597383053068206080 PS_ELAISN1_MOS11     DIS ...  56815.50054271557        2\n",
       "GNU2597453421812383744 PS_ELAISN1_MOS12     DIS ... 56814.569061234084        3\n",
       "GNU2597523790556561408 PS_ELAISN1_MOS13     DIS ...  56819.53759259259        4\n",
       "GNU2597594159300739072 PS_ELAISN1_MOS14     DIS ...  56810.60611111111        5\n",
       "GNU2597664528044916736 PS_ELAISN1_MOS15     DIS ...  56810.67461805556        6\n",
       "GNU2597734896789094400 PS_ELAISN1_MOS16     DIS ...   56807.7931854022        7\n",
       "GFU2597312684324028416 PS_ELAISN1_MOS10     DIS ...  56504.46356481482        8\n",
       "GFU2597383053068206080 PS_ELAISN1_MOS11     DIS ...  56501.58207429109        9\n",
       "GFU2597453421812383744 PS_ELAISN1_MOS12     DIS ... 56508.650511791086       10\n",
       "GFU2597523790556561408 PS_ELAISN1_MOS13     DIS ...  56506.76889919705       11\n",
       "GFU2597594159300739072 PS_ELAISN1_MOS14     DIS ...  56513.78742151331       12\n",
       "GFU2597664528044916736 PS_ELAISN1_MOS15     DIS ...  56519.80583333333       13\n",
       "GFU2597734896789094400 PS_ELAISN1_MOS16     DIS ... 56510.974315863714       14"
      ]
     },
     "metadata": {},
     "output_type": "display_data"
    },
    {
     "data": {
      "text/plain": [
       "'Nr. visits:'"
      ]
     },
     "metadata": {},
     "output_type": "display_data"
    },
    {
     "data": {
      "text/plain": [
       "157"
      ]
     },
     "metadata": {},
     "output_type": "display_data"
    },
    {
     "data": {
      "text/html": [
       "<div><i>Table length=279</i>\n",
       "<table id=\"table140670023889680\" class=\"table-striped table-bordered table-condensed\">\n",
       "<thead><tr><th>fd_src_id</th><th>nr_det</th><th>ra</th><th>dec</th><th>pos_err</th><th>pos_xv</th><th>pos_var</th><th>pos_cpval</th><th>pos_rchiq</th><th>coadd_src_id</th><th>coadd_dist</th><th>obs_filter_id</th><th>sel</th><th>flux</th><th>flux_err</th><th>flux_nxv</th><th>flux_var</th><th>flux_cpval</th><th>flux_rchiq</th><th>coadd_ffactor</th><th>coadd_fdiff_s2n</th><th>rg_fd_id</th><th>rg_src_id</th><th>nr_fd_srcs</th><th>hr</th><th>hr_err</th></tr></thead>\n",
       "<thead><tr><th></th><th></th><th>deg</th><th>deg</th><th>arcsec</th><th>arcsec2</th><th>arcsec2</th><th></th><th></th><th></th><th>arcsec</th><th></th><th></th><th>1e-06 Jy</th><th>1e-06 Jy</th><th></th><th>1e-12 Jy2</th><th></th><th></th><th></th><th></th><th></th><th></th><th></th><th></th><th></th></tr></thead>\n",
       "<thead><tr><th>int32</th><th>int32[2]</th><th>float64</th><th>float64</th><th>float32</th><th>float32</th><th>float32</th><th>float32</th><th>float32</th><th>int64</th><th>float32</th><th>int32[2]</th><th>bool</th><th>float32[2]</th><th>float32[2]</th><th>float32[2]</th><th>float32[2]</th><th>float32[2]</th><th>float32[2]</th><th>float32[2]</th><th>float32[2]</th><th>int64</th><th>int32</th><th>int32</th><th>float32</th><th>float32</th></tr></thead>\n",
       "<tr><td>-1</td><td>37 .. 6</td><td>242.14954540176362</td><td>54.477533708787995</td><td>0.12351337</td><td>-0.028621387</td><td>0.6924901</td><td>0.066330634</td><td>0.9926218</td><td>1553</td><td>0.28285635</td><td>1 .. 2</td><td>True</td><td>3.3923717 .. 2.3194184</td><td>0.09147618 .. 0.24691468</td><td>0.04920216 .. -0.048988312</td><td>0.88492024 .. 0.17959024</td><td>2.2368807e-08 .. 0.70401883</td><td>2.8615136 .. 0.59476835</td><td>1.0284034 .. 0.913001</td><td>0.61937046 .. -0.5825849</td><td>-1</td><td>64</td><td>5</td><td>0.51588815</td><td>0.06086555</td></tr>\n",
       "<tr><td>-1</td><td>43 .. 6</td><td>241.73128973587993</td><td>54.21458277747576</td><td>0.10655681</td><td>0.09641428</td><td>0.70499384</td><td>0.0004047829</td><td>1.1322029</td><td>82</td><td>0.061381638</td><td>1 .. 2</td><td>True</td><td>5.0359445 .. 2.6821027</td><td>0.09478029 .. 0.26673707</td><td>0.20109276 .. -0.04652912</td><td>5.5128784 .. 0.15138367</td><td>0.0 .. 0.7781128</td><td>12.639926 .. 0.49785042</td><td>0.89934415 .. 1.2653602</td><td>-4.277214 .. 1.458154</td><td>-1</td><td>117</td><td>5</td><td>0.47348508</td><td>0.051485203</td></tr>\n",
       "<tr><td>-1</td><td>25 .. 9</td><td>243.80729948693144</td><td>55.13798195575542</td><td>0.10036682</td><td>0.1999624</td><td>0.55108345</td><td>0.00012132985</td><td>1.5385453</td><td>22</td><td>0.12723769</td><td>1 .. 2</td><td>True</td><td>47.385117 .. 36.280155</td><td>0.2887377 .. 0.7269498</td><td>-0.00015724062 .. 0.02634199</td><td>1.7917591 .. 39.733063</td><td>0.84425646 .. 1.1380914e-15</td><td>0.71260524 .. 11.010487</td><td>1.008016 .. 0.9672708</td><td>1.0032972 .. -1.2807928</td><td>-1</td><td>195</td><td>4</td><td>0.722648</td><td>0.020928154</td></tr>\n",
       "<tr><td>-1</td><td>19 .. 5</td><td>243.417508689552</td><td>54.6413708213783</td><td>0.13613568</td><td>0.10999289</td><td>0.56631804</td><td>0.013669327</td><td>1.2926913</td><td>12249</td><td>0.19906053</td><td>1 .. 2</td><td>True</td><td>12.60008 .. 8.455425</td><td>0.19021043 .. 0.49607494</td><td>0.0149036 .. -0.008312294</td><td>3.0933459 .. 0.6665505</td><td>6.125467e-10 .. 0.6883676</td><td>4.490681 .. 0.5645798</td><td>0.9916762 .. -100.0</td><td>-0.4231157 .. -10000.0</td><td>-1</td><td>284</td><td>4</td><td>0.80914026</td><td>0.06897776</td></tr>\n",
       "<tr><td>-1</td><td>33 .. 8</td><td>243.2642981256917</td><td>53.91582089233751</td><td>0.09649239</td><td>0.071717896</td><td>0.46440256</td><td>0.006772958</td><td>1.2011418</td><td>13156</td><td>0.2090098</td><td>1 .. 2</td><td>True</td><td>18.44336 .. 12.563716</td><td>0.16551964 .. 0.46790412</td><td>-0.0013023168 .. 0.075797066</td><td>0.4869798 .. 13.769231</td><td>0.98948556 .. 2.805376e-10</td><td>0.51431084 .. 8.3786745</td><td>-100.0 .. 0.88169175</td><td>-10000.0 .. -2.3059502</td><td>-1</td><td>318</td><td>4</td><td>0.65451735</td><td>0.03388812</td></tr>\n",
       "<tr><td>-1</td><td>30 .. 10</td><td>243.25890118524842</td><td>53.9481277426756</td><td>0.097925045</td><td>0.039820455</td><td>0.43622467</td><td>0.0012568738</td><td>1.1721736</td><td>858</td><td>0.09042858</td><td>1 .. 2</td><td>True</td><td>19.581587 .. 10.267892</td><td>0.1791747 .. 0.37540022</td><td>-0.0007864857 .. 0.060426887</td><td>0.69449985 .. 7.8283167</td><td>0.8449439 .. 2.3193024e-08</td><td>0.7372322 .. 5.947717</td><td>-100.0 .. 0.94360733</td><td>-10000.0 .. -1.1945224</td><td>-1</td><td>323</td><td>4</td><td>0.51810956</td><td>0.023102002</td></tr>\n",
       "<tr><td>...</td><td>...</td><td>...</td><td>...</td><td>...</td><td>...</td><td>...</td><td>...</td><td>...</td><td>...</td><td>...</td><td>...</td><td>...</td><td>...</td><td>...</td><td>...</td><td>...</td><td>...</td><td>...</td><td>...</td><td>...</td><td>...</td><td>...</td><td>...</td><td>...</td><td>...</td></tr>\n",
       "<tr><td>-1</td><td>3 .. -1</td><td>240.97869899466562</td><td>54.779323853318076</td><td>0.46056756</td><td>0.012217927</td><td>1.1865556</td><td>0.04327811</td><td>1.5700542</td><td>30771</td><td>0.59621364</td><td>1 .. 0</td><td>True</td><td>3.761082 .. -1.0</td><td>0.3294666 .. -1.0</td><td>51.75507 .. -100.0</td><td>733.0765 .. -1.0</td><td>0.0 .. -1.0</td><td>436.9019 .. -1.0</td><td>4.2767987 .. 1.0</td><td>8.2801695 .. 0.0</td><td>-1</td><td>67574</td><td>1</td><td>-1.0</td><td>-1.0</td></tr>\n",
       "<tr><td>-1</td><td>20 .. -1</td><td>240.9754250221898</td><td>55.18011377898948</td><td>0.14948756</td><td>-0.27508888</td><td>0.17507675</td><td>0.94335324</td><td>0.38637567</td><td>-1</td><td>-1.0</td><td>1 .. 0</td><td>True</td><td>8.313057 .. -1.0</td><td>0.1683875 .. -1.0</td><td>0.034650512 .. -100.0</td><td>2.9841673 .. -1.0</td><td>4.6866656e-13 .. -1.0</td><td>5.279994 .. -1.0</td><td>-100.0 .. -100.0</td><td>-10000.0 .. -10000.0</td><td>-1</td><td>67597</td><td>1</td><td>-1.0</td><td>-1.0</td></tr>\n",
       "<tr><td>-1</td><td>3 .. -1</td><td>240.9018366274034</td><td>54.68975697564235</td><td>0.5222748</td><td>-0.23688968</td><td>1.0864552</td><td>0.13863407</td><td>0.98795867</td><td>-1</td><td>-1.0</td><td>1 .. 0</td><td>True</td><td>4.014354 .. -1.0</td><td>0.34060928 .. -1.0</td><td>2.8163629 .. -100.0</td><td>45.824432 .. -1.0</td><td>7.14759e-35 .. -1.0</td><td>78.6237 .. -1.0</td><td>-100.0 .. -100.0</td><td>-10000.0 .. -10000.0</td><td>-1</td><td>68250</td><td>1</td><td>-1.0</td><td>-1.0</td></tr>\n",
       "<tr><td>-1</td><td>-1 .. 3</td><td>240.8416085474219</td><td>55.18115560313472</td><td>0.3532938</td><td>-0.30200443</td><td>0.07252312</td><td>0.67904824</td><td>0.19353154</td><td>-1</td><td>-1.0</td><td>0 .. 2</td><td>True</td><td>-1.0 .. 156.63503</td><td>-1.0 .. 2.2842789</td><td>-100.0 .. 0.0125156045</td><td>-1.0 .. 323.81583</td><td>-1.0 .. 8.3920045e-11</td><td>-1.0 .. 23.201157</td><td>-100.0 .. -100.0</td><td>-10000.0 .. -10000.0</td><td>-1</td><td>68777</td><td>1</td><td>-1.0</td><td>-1.0</td></tr>\n",
       "<tr><td>-1</td><td>21 .. -1</td><td>240.81457203486903</td><td>55.60261665242721</td><td>0.10913031</td><td>-0.073200114</td><td>0.17689815</td><td>0.26096207</td><td>0.70715</td><td>-1</td><td>-1.0</td><td>1 .. 0</td><td>True</td><td>209.84769 .. -1.0</td><td>0.6270834 .. -1.0</td><td>0.000756584 .. -100.0</td><td>41.702816 .. -1.0</td><td>9.949548e-14 .. -1.0</td><td>5.3061347 .. -1.0</td><td>-100.0 .. -100.0</td><td>-10000.0 .. -10000.0</td><td>-1</td><td>69014</td><td>1</td><td>-1.0</td><td>-1.0</td></tr>\n",
       "<tr><td>-1</td><td>15 .. -1</td><td>240.68291252660418</td><td>54.76672203627</td><td>0.18039754</td><td>0.028174784</td><td>0.52117</td><td>0.051404484</td><td>1.0851688</td><td>-1</td><td>-1.0</td><td>1 .. 0</td><td>True</td><td>7.1095243 .. -1.0</td><td>0.1740184 .. -1.0</td><td>0.054177217 .. -100.0</td><td>3.2035947 .. -1.0</td><td>1.0419595e-14 .. -1.0</td><td>7.015301 .. -1.0</td><td>-100.0 .. -100.0</td><td>-10000.0 .. -10000.0</td><td>-1</td><td>70100</td><td>1</td><td>-1.0</td><td>-1.0</td></tr>\n",
       "</table></div>"
      ],
      "text/plain": [
       "<Table length=279>\n",
       "fd_src_id  nr_det          ra         ... nr_fd_srcs     hr        hr_err  \n",
       "                          deg         ...                                  \n",
       "  int32   int32[2]      float64       ...   int32     float32     float32  \n",
       "--------- -------- ------------------ ... ---------- ---------- -----------\n",
       "       -1  37 .. 6 242.14954540176362 ...          5 0.51588815  0.06086555\n",
       "       -1  43 .. 6 241.73128973587993 ...          5 0.47348508 0.051485203\n",
       "       -1  25 .. 9 243.80729948693144 ...          4   0.722648 0.020928154\n",
       "       -1  19 .. 5   243.417508689552 ...          4 0.80914026  0.06897776\n",
       "       -1  33 .. 8  243.2642981256917 ...          4 0.65451735  0.03388812\n",
       "       -1 30 .. 10 243.25890118524842 ...          4 0.51810956 0.023102002\n",
       "      ...      ...                ... ...        ...        ...         ...\n",
       "       -1  3 .. -1 240.97869899466562 ...          1       -1.0        -1.0\n",
       "       -1 20 .. -1  240.9754250221898 ...          1       -1.0        -1.0\n",
       "       -1  3 .. -1  240.9018366274034 ...          1       -1.0        -1.0\n",
       "       -1  -1 .. 3  240.8416085474219 ...          1       -1.0        -1.0\n",
       "       -1 21 .. -1 240.81457203486903 ...          1       -1.0        -1.0\n",
       "       -1 15 .. -1 240.68291252660418 ...          1       -1.0        -1.0"
      ]
     },
     "metadata": {},
     "output_type": "display_data"
    }
   ],
   "source": [
    "# General path setup and library loading\n",
    "%matplotlib widget\n",
    "import matplotlib.pyplot as plt\n",
    "import numpy as np\n",
    "\n",
    "#from jdaviz import Imviz\n",
    "from astropy.coordinates import SkyCoord, match_coordinates_sky\n",
    "from astropy import units as uu\n",
    "from astropy.table import Table\n",
    "from astropy.io import fits\n",
    "\n",
    "\n",
    "from loguru import logger\n",
    "\n",
    "from vasca.region import Region\n",
    "from vasca.field import BaseField\n",
    "import vasca.visualization as vvis\n",
    "from vasca.utils import mag2flux\n",
    "\n",
    "region_fname = \"./vasca_pipeline/\"+region_name+\"/region_\"+region_name+\".fits\"\n",
    "\n",
    "rg = Region()\n",
    "rg.load_from_fits(region_fname)\n",
    "display(rg.tt_fields)\n",
    "display(\"Nr. visits:\", len(rg.tt_visits))\n",
    "sel_srcs = rg.tt_sources[\"sel\"]\n",
    "display(rg.tt_sources[sel_srcs])\n",
    "#rg.info() # Show available tables"
   ]
  },
  {
   "cell_type": "markdown",
   "id": "2657678a-7f9a-48eb-9cbb-2e6eb773914f",
   "metadata": {},
   "source": [
    "### Basic info source TDE PS1-10jh"
   ]
  },
  {
   "cell_type": "code",
   "execution_count": 3,
   "id": "21fdcb27-8429-460a-960e-19ba5c512030",
   "metadata": {},
   "outputs": [
    {
     "name": "stderr",
     "output_type": "stream",
     "text": [
      "WARNING: VerifyWarning: Keyword name 'rg_src_id' is greater than 8 characters or contains characters not allowed by the FITS standard; a HIERARCH card will be created. [astropy.io.fits.card]\n"
     ]
    },
    {
     "name": "stdout",
     "output_type": "stream",
     "text": [
      "Found VASCA source is at distance: 0.00025457857169968086 deg\n"
     ]
    },
    {
     "ename": "AttributeError",
     "evalue": "Line2D.set() got an unexpected keyword argument 'rg_src_ids'",
     "output_type": "error",
     "traceback": [
      "\u001b[0;31m---------------------------------------------------------------------------\u001b[0m",
      "\u001b[0;31mAttributeError\u001b[0m                            Traceback (most recent call last)",
      "Cell \u001b[0;32mIn[3], line 7\u001b[0m\n\u001b[1;32m      4\u001b[0m src_ps1tde, dist \u001b[38;5;241m=\u001b[39m rg\u001b[38;5;241m.\u001b[39mget_src_from_sky_pos(\u001b[38;5;124m'\u001b[39m\u001b[38;5;124m16h09m28.296s\u001b[39m\u001b[38;5;124m'\u001b[39m, \u001b[38;5;124m'\u001b[39m\u001b[38;5;124m+53d40m23.52s\u001b[39m\u001b[38;5;124m'\u001b[39m)\n\u001b[1;32m      5\u001b[0m \u001b[38;5;28mprint\u001b[39m(\u001b[38;5;124m\"\u001b[39m\u001b[38;5;124mFound VASCA source is at distance:\u001b[39m\u001b[38;5;124m\"\u001b[39m,dist\u001b[38;5;241m.\u001b[39mdegree,\u001b[38;5;124m\"\u001b[39m\u001b[38;5;124mdeg\u001b[39m\u001b[38;5;124m\"\u001b[39m)\n\u001b[0;32m----> 7\u001b[0m fig_lc, ax_lc \u001b[38;5;241m=\u001b[39m \u001b[43mvvis\u001b[49m\u001b[38;5;241;43m.\u001b[39;49m\u001b[43mplot_light_curve\u001b[49m\u001b[43m(\u001b[49m\u001b[43msrc_ps1tde\u001b[49m\u001b[43m,\u001b[49m\u001b[43mrg_src_ids\u001b[49m\u001b[38;5;241;43m=\u001b[39;49m\u001b[43msrc_ps1tde\u001b[49m\u001b[38;5;241;43m.\u001b[39;49m\u001b[43mtt_sources\u001b[49m\u001b[43m[\u001b[49m\u001b[38;5;124;43m\"\u001b[39;49m\u001b[38;5;124;43mrg_src_id\u001b[39;49m\u001b[38;5;124;43m\"\u001b[39;49m\u001b[43m]\u001b[49m\u001b[43m[\u001b[49m\u001b[38;5;241;43m0\u001b[39;49m\u001b[43m]\u001b[49m\u001b[43m)\u001b[49m\n\u001b[1;32m      8\u001b[0m display(src_ps1tde\u001b[38;5;241m.\u001b[39mtt_fields)\n\u001b[1;32m      9\u001b[0m display(src_ps1tde\u001b[38;5;241m.\u001b[39mtt_sources)\n",
      "File \u001b[0;32m~/Code/vasca/vasca/visualization.py:1048\u001b[0m, in \u001b[0;36mplot_light_curve\u001b[0;34m(tc_src, fig, ax, show_gphoton, **errorbar_kwargs)\u001b[0m\n\u001b[1;32m   1046\u001b[0m     \u001b[38;5;66;03m# Plot\u001b[39;00m\n\u001b[1;32m   1047\u001b[0m     \u001b[38;5;28;01mif\u001b[39;00m sel\u001b[38;5;241m.\u001b[39msum() \u001b[38;5;241m>\u001b[39m \u001b[38;5;241m0\u001b[39m:\n\u001b[0;32m-> 1048\u001b[0m         \u001b[43max\u001b[49m\u001b[38;5;241;43m.\u001b[39;49m\u001b[43merrorbar\u001b[49m\u001b[43m(\u001b[49m\n\u001b[1;32m   1049\u001b[0m \u001b[43m            \u001b[49m\u001b[43mtt_lc\u001b[49m\u001b[43m[\u001b[49m\u001b[38;5;124;43m\"\u001b[39;49m\u001b[38;5;124;43mtime\u001b[39;49m\u001b[38;5;124;43m\"\u001b[39;49m\u001b[43m]\u001b[49m\u001b[43m[\u001b[49m\u001b[43msel\u001b[49m\u001b[43m]\u001b[49m\u001b[43m,\u001b[49m\n\u001b[1;32m   1050\u001b[0m \u001b[43m            \u001b[49m\u001b[43mtt_lc\u001b[49m\u001b[43m[\u001b[49m\u001b[38;5;124;43m\"\u001b[39;49m\u001b[38;5;124;43mflux\u001b[39;49m\u001b[38;5;124;43m\"\u001b[39;49m\u001b[43m]\u001b[49m\u001b[43m[\u001b[49m\u001b[43msel\u001b[49m\u001b[43m]\u001b[49m\u001b[43m,\u001b[49m\n\u001b[1;32m   1051\u001b[0m \u001b[43m            \u001b[49m\u001b[43myerr\u001b[49m\u001b[38;5;241;43m=\u001b[39;49m\u001b[43mtt_lc\u001b[49m\u001b[43m[\u001b[49m\u001b[38;5;124;43m\"\u001b[39;49m\u001b[38;5;124;43mflux_err\u001b[39;49m\u001b[38;5;124;43m\"\u001b[39;49m\u001b[43m]\u001b[49m\u001b[43m[\u001b[49m\u001b[43msel\u001b[49m\u001b[43m]\u001b[49m\u001b[43m,\u001b[49m\n\u001b[1;32m   1052\u001b[0m \u001b[43m            \u001b[49m\u001b[43mmarker\u001b[49m\u001b[38;5;241;43m=\u001b[39;49m\u001b[43mmar\u001b[49m\u001b[43m,\u001b[49m\n\u001b[1;32m   1053\u001b[0m \u001b[43m            \u001b[49m\u001b[43mlabel\u001b[49m\u001b[38;5;241;43m=\u001b[39;49m\u001b[43msrc_lab\u001b[49m\u001b[43m,\u001b[49m\n\u001b[1;32m   1054\u001b[0m \u001b[43m            \u001b[49m\u001b[38;5;241;43m*\u001b[39;49m\u001b[38;5;241;43m*\u001b[39;49m\u001b[43mplt_errorbar_kwargs\u001b[49m\u001b[43m,\u001b[49m\n\u001b[1;32m   1055\u001b[0m \u001b[43m        \u001b[49m\u001b[43m)\u001b[49m\n\u001b[1;32m   1057\u001b[0m ax\u001b[38;5;241m.\u001b[39mlegend(fontsize\u001b[38;5;241m=\u001b[39m\u001b[38;5;124m\"\u001b[39m\u001b[38;5;124msmall\u001b[39m\u001b[38;5;124m\"\u001b[39m)  \u001b[38;5;66;03m# bbox_to_anchor=(1.04, 1),\u001b[39;00m\n\u001b[1;32m   1058\u001b[0m ax\u001b[38;5;241m.\u001b[39mset_xlabel(\u001b[38;5;124m\"\u001b[39m\u001b[38;5;124mMJD\u001b[39m\u001b[38;5;124m\"\u001b[39m)\n",
      "File \u001b[0;32m~/miniforge3/envs/vas/lib/python3.10/site-packages/matplotlib/__init__.py:1446\u001b[0m, in \u001b[0;36m_preprocess_data.<locals>.inner\u001b[0;34m(ax, data, *args, **kwargs)\u001b[0m\n\u001b[1;32m   1443\u001b[0m \u001b[38;5;129m@functools\u001b[39m\u001b[38;5;241m.\u001b[39mwraps(func)\n\u001b[1;32m   1444\u001b[0m \u001b[38;5;28;01mdef\u001b[39;00m \u001b[38;5;21minner\u001b[39m(ax, \u001b[38;5;241m*\u001b[39margs, data\u001b[38;5;241m=\u001b[39m\u001b[38;5;28;01mNone\u001b[39;00m, \u001b[38;5;241m*\u001b[39m\u001b[38;5;241m*\u001b[39mkwargs):\n\u001b[1;32m   1445\u001b[0m     \u001b[38;5;28;01mif\u001b[39;00m data \u001b[38;5;129;01mis\u001b[39;00m \u001b[38;5;28;01mNone\u001b[39;00m:\n\u001b[0;32m-> 1446\u001b[0m         \u001b[38;5;28;01mreturn\u001b[39;00m \u001b[43mfunc\u001b[49m\u001b[43m(\u001b[49m\u001b[43max\u001b[49m\u001b[43m,\u001b[49m\u001b[43m \u001b[49m\u001b[38;5;241;43m*\u001b[39;49m\u001b[38;5;28;43mmap\u001b[39;49m\u001b[43m(\u001b[49m\u001b[43msanitize_sequence\u001b[49m\u001b[43m,\u001b[49m\u001b[43m \u001b[49m\u001b[43margs\u001b[49m\u001b[43m)\u001b[49m\u001b[43m,\u001b[49m\u001b[43m \u001b[49m\u001b[38;5;241;43m*\u001b[39;49m\u001b[38;5;241;43m*\u001b[39;49m\u001b[43mkwargs\u001b[49m\u001b[43m)\u001b[49m\n\u001b[1;32m   1448\u001b[0m     bound \u001b[38;5;241m=\u001b[39m new_sig\u001b[38;5;241m.\u001b[39mbind(ax, \u001b[38;5;241m*\u001b[39margs, \u001b[38;5;241m*\u001b[39m\u001b[38;5;241m*\u001b[39mkwargs)\n\u001b[1;32m   1449\u001b[0m     auto_label \u001b[38;5;241m=\u001b[39m (bound\u001b[38;5;241m.\u001b[39marguments\u001b[38;5;241m.\u001b[39mget(label_namer)\n\u001b[1;32m   1450\u001b[0m                   \u001b[38;5;129;01mor\u001b[39;00m bound\u001b[38;5;241m.\u001b[39mkwargs\u001b[38;5;241m.\u001b[39mget(label_namer))\n",
      "File \u001b[0;32m~/miniforge3/envs/vas/lib/python3.10/site-packages/matplotlib/axes/_axes.py:3542\u001b[0m, in \u001b[0;36mAxes.errorbar\u001b[0;34m(self, x, y, yerr, xerr, fmt, ecolor, elinewidth, capsize, barsabove, lolims, uplims, xlolims, xuplims, errorevery, capthick, **kwargs)\u001b[0m\n\u001b[1;32m   3536\u001b[0m kwargs[\u001b[38;5;124m'\u001b[39m\u001b[38;5;124mlabel\u001b[39m\u001b[38;5;124m'\u001b[39m] \u001b[38;5;241m=\u001b[39m \u001b[38;5;124m'\u001b[39m\u001b[38;5;124m_nolegend_\u001b[39m\u001b[38;5;124m'\u001b[39m\n\u001b[1;32m   3538\u001b[0m \u001b[38;5;66;03m# Create the main line and determine overall kwargs for child artists.\u001b[39;00m\n\u001b[1;32m   3539\u001b[0m \u001b[38;5;66;03m# We avoid calling self.plot() directly, or self._get_lines(), because\u001b[39;00m\n\u001b[1;32m   3540\u001b[0m \u001b[38;5;66;03m# that would call self._process_unit_info again, and do other indirect\u001b[39;00m\n\u001b[1;32m   3541\u001b[0m \u001b[38;5;66;03m# data processing.\u001b[39;00m\n\u001b[0;32m-> 3542\u001b[0m (data_line, base_style), \u001b[38;5;241m=\u001b[39m \u001b[38;5;28;43mself\u001b[39;49m\u001b[38;5;241;43m.\u001b[39;49m\u001b[43m_get_lines\u001b[49m\u001b[38;5;241;43m.\u001b[39;49m\u001b[43m_plot_args\u001b[49m\u001b[43m(\u001b[49m\n\u001b[1;32m   3543\u001b[0m \u001b[43m    \u001b[49m\u001b[43m(\u001b[49m\u001b[43mx\u001b[49m\u001b[43m,\u001b[49m\u001b[43m \u001b[49m\u001b[43my\u001b[49m\u001b[43m)\u001b[49m\u001b[43m \u001b[49m\u001b[38;5;28;43;01mif\u001b[39;49;00m\u001b[43m \u001b[49m\u001b[43mfmt\u001b[49m\u001b[43m \u001b[49m\u001b[38;5;241;43m==\u001b[39;49m\u001b[43m \u001b[49m\u001b[38;5;124;43m'\u001b[39;49m\u001b[38;5;124;43m'\u001b[39;49m\u001b[43m \u001b[49m\u001b[38;5;28;43;01melse\u001b[39;49;00m\u001b[43m \u001b[49m\u001b[43m(\u001b[49m\u001b[43mx\u001b[49m\u001b[43m,\u001b[49m\u001b[43m \u001b[49m\u001b[43my\u001b[49m\u001b[43m,\u001b[49m\u001b[43m \u001b[49m\u001b[43mfmt\u001b[49m\u001b[43m)\u001b[49m\u001b[43m,\u001b[49m\u001b[43m \u001b[49m\u001b[43mkwargs\u001b[49m\u001b[43m,\u001b[49m\u001b[43m \u001b[49m\u001b[43mreturn_kwargs\u001b[49m\u001b[38;5;241;43m=\u001b[39;49m\u001b[38;5;28;43;01mTrue\u001b[39;49;00m\u001b[43m)\u001b[49m\n\u001b[1;32m   3545\u001b[0m \u001b[38;5;66;03m# Do this after creating `data_line` to avoid modifying `base_style`.\u001b[39;00m\n\u001b[1;32m   3546\u001b[0m \u001b[38;5;28;01mif\u001b[39;00m barsabove:\n",
      "File \u001b[0;32m~/miniforge3/envs/vas/lib/python3.10/site-packages/matplotlib/axes/_base.py:542\u001b[0m, in \u001b[0;36m_process_plot_var_args._plot_args\u001b[0;34m(self, tup, kwargs, return_kwargs, ambiguous_fmt_datakey)\u001b[0m\n\u001b[1;32m    537\u001b[0m result \u001b[38;5;241m=\u001b[39m (make_artist(x[:, j \u001b[38;5;241m%\u001b[39m ncx], y[:, j \u001b[38;5;241m%\u001b[39m ncy], kw,\n\u001b[1;32m    538\u001b[0m                       {\u001b[38;5;241m*\u001b[39m\u001b[38;5;241m*\u001b[39mkwargs, \u001b[38;5;124m'\u001b[39m\u001b[38;5;124mlabel\u001b[39m\u001b[38;5;124m'\u001b[39m: label})\n\u001b[1;32m    539\u001b[0m           \u001b[38;5;28;01mfor\u001b[39;00m j, label \u001b[38;5;129;01min\u001b[39;00m \u001b[38;5;28menumerate\u001b[39m(labels))\n\u001b[1;32m    541\u001b[0m \u001b[38;5;28;01mif\u001b[39;00m return_kwargs:\n\u001b[0;32m--> 542\u001b[0m     \u001b[38;5;28;01mreturn\u001b[39;00m \u001b[38;5;28;43mlist\u001b[39;49m\u001b[43m(\u001b[49m\u001b[43mresult\u001b[49m\u001b[43m)\u001b[49m\n\u001b[1;32m    543\u001b[0m \u001b[38;5;28;01melse\u001b[39;00m:\n\u001b[1;32m    544\u001b[0m     \u001b[38;5;28;01mreturn\u001b[39;00m [l[\u001b[38;5;241m0\u001b[39m] \u001b[38;5;28;01mfor\u001b[39;00m l \u001b[38;5;129;01min\u001b[39;00m result]\n",
      "File \u001b[0;32m~/miniforge3/envs/vas/lib/python3.10/site-packages/matplotlib/axes/_base.py:537\u001b[0m, in \u001b[0;36m<genexpr>\u001b[0;34m(.0)\u001b[0m\n\u001b[1;32m    534\u001b[0m \u001b[38;5;28;01melse\u001b[39;00m:\n\u001b[1;32m    535\u001b[0m     labels \u001b[38;5;241m=\u001b[39m [label] \u001b[38;5;241m*\u001b[39m n_datasets\n\u001b[0;32m--> 537\u001b[0m result \u001b[38;5;241m=\u001b[39m (\u001b[43mmake_artist\u001b[49m\u001b[43m(\u001b[49m\u001b[43mx\u001b[49m\u001b[43m[\u001b[49m\u001b[43m:\u001b[49m\u001b[43m,\u001b[49m\u001b[43m \u001b[49m\u001b[43mj\u001b[49m\u001b[43m \u001b[49m\u001b[38;5;241;43m%\u001b[39;49m\u001b[43m \u001b[49m\u001b[43mncx\u001b[49m\u001b[43m]\u001b[49m\u001b[43m,\u001b[49m\u001b[43m \u001b[49m\u001b[43my\u001b[49m\u001b[43m[\u001b[49m\u001b[43m:\u001b[49m\u001b[43m,\u001b[49m\u001b[43m \u001b[49m\u001b[43mj\u001b[49m\u001b[43m \u001b[49m\u001b[38;5;241;43m%\u001b[39;49m\u001b[43m \u001b[49m\u001b[43mncy\u001b[49m\u001b[43m]\u001b[49m\u001b[43m,\u001b[49m\u001b[43m \u001b[49m\u001b[43mkw\u001b[49m\u001b[43m,\u001b[49m\n\u001b[1;32m    538\u001b[0m \u001b[43m                      \u001b[49m\u001b[43m{\u001b[49m\u001b[38;5;241;43m*\u001b[39;49m\u001b[38;5;241;43m*\u001b[39;49m\u001b[43mkwargs\u001b[49m\u001b[43m,\u001b[49m\u001b[43m \u001b[49m\u001b[38;5;124;43m'\u001b[39;49m\u001b[38;5;124;43mlabel\u001b[39;49m\u001b[38;5;124;43m'\u001b[39;49m\u001b[43m:\u001b[49m\u001b[43m \u001b[49m\u001b[43mlabel\u001b[49m\u001b[43m}\u001b[49m\u001b[43m)\u001b[49m\n\u001b[1;32m    539\u001b[0m           \u001b[38;5;28;01mfor\u001b[39;00m j, label \u001b[38;5;129;01min\u001b[39;00m \u001b[38;5;28menumerate\u001b[39m(labels))\n\u001b[1;32m    541\u001b[0m \u001b[38;5;28;01mif\u001b[39;00m return_kwargs:\n\u001b[1;32m    542\u001b[0m     \u001b[38;5;28;01mreturn\u001b[39;00m \u001b[38;5;28mlist\u001b[39m(result)\n",
      "File \u001b[0;32m~/miniforge3/envs/vas/lib/python3.10/site-packages/matplotlib/axes/_base.py:351\u001b[0m, in \u001b[0;36m_process_plot_var_args._makeline\u001b[0;34m(self, x, y, kw, kwargs)\u001b[0m\n\u001b[1;32m    349\u001b[0m default_dict \u001b[38;5;241m=\u001b[39m \u001b[38;5;28mself\u001b[39m\u001b[38;5;241m.\u001b[39m_getdefaults(\u001b[38;5;28mset\u001b[39m(), kw)\n\u001b[1;32m    350\u001b[0m \u001b[38;5;28mself\u001b[39m\u001b[38;5;241m.\u001b[39m_setdefaults(default_dict, kw)\n\u001b[0;32m--> 351\u001b[0m seg \u001b[38;5;241m=\u001b[39m \u001b[43mmlines\u001b[49m\u001b[38;5;241;43m.\u001b[39;49m\u001b[43mLine2D\u001b[49m\u001b[43m(\u001b[49m\u001b[43mx\u001b[49m\u001b[43m,\u001b[49m\u001b[43m \u001b[49m\u001b[43my\u001b[49m\u001b[43m,\u001b[49m\u001b[43m \u001b[49m\u001b[38;5;241;43m*\u001b[39;49m\u001b[38;5;241;43m*\u001b[39;49m\u001b[43mkw\u001b[49m\u001b[43m)\u001b[49m\n\u001b[1;32m    352\u001b[0m \u001b[38;5;28;01mreturn\u001b[39;00m seg, kw\n",
      "File \u001b[0;32m~/miniforge3/envs/vas/lib/python3.10/site-packages/matplotlib/_api/deprecation.py:454\u001b[0m, in \u001b[0;36mmake_keyword_only.<locals>.wrapper\u001b[0;34m(*args, **kwargs)\u001b[0m\n\u001b[1;32m    448\u001b[0m \u001b[38;5;28;01mif\u001b[39;00m \u001b[38;5;28mlen\u001b[39m(args) \u001b[38;5;241m>\u001b[39m name_idx:\n\u001b[1;32m    449\u001b[0m     warn_deprecated(\n\u001b[1;32m    450\u001b[0m         since, message\u001b[38;5;241m=\u001b[39m\u001b[38;5;124m\"\u001b[39m\u001b[38;5;124mPassing the \u001b[39m\u001b[38;5;132;01m%(name)s\u001b[39;00m\u001b[38;5;124m \u001b[39m\u001b[38;5;132;01m%(obj_type)s\u001b[39;00m\u001b[38;5;124m \u001b[39m\u001b[38;5;124m\"\u001b[39m\n\u001b[1;32m    451\u001b[0m         \u001b[38;5;124m\"\u001b[39m\u001b[38;5;124mpositionally is deprecated since Matplotlib \u001b[39m\u001b[38;5;132;01m%(since)s\u001b[39;00m\u001b[38;5;124m; the \u001b[39m\u001b[38;5;124m\"\u001b[39m\n\u001b[1;32m    452\u001b[0m         \u001b[38;5;124m\"\u001b[39m\u001b[38;5;124mparameter will become keyword-only \u001b[39m\u001b[38;5;132;01m%(removal)s\u001b[39;00m\u001b[38;5;124m.\u001b[39m\u001b[38;5;124m\"\u001b[39m,\n\u001b[1;32m    453\u001b[0m         name\u001b[38;5;241m=\u001b[39mname, obj_type\u001b[38;5;241m=\u001b[39m\u001b[38;5;124mf\u001b[39m\u001b[38;5;124m\"\u001b[39m\u001b[38;5;124mparameter of \u001b[39m\u001b[38;5;132;01m{\u001b[39;00mfunc\u001b[38;5;241m.\u001b[39m\u001b[38;5;18m__name__\u001b[39m\u001b[38;5;132;01m}\u001b[39;00m\u001b[38;5;124m()\u001b[39m\u001b[38;5;124m\"\u001b[39m)\n\u001b[0;32m--> 454\u001b[0m \u001b[38;5;28;01mreturn\u001b[39;00m \u001b[43mfunc\u001b[49m\u001b[43m(\u001b[49m\u001b[38;5;241;43m*\u001b[39;49m\u001b[43margs\u001b[49m\u001b[43m,\u001b[49m\u001b[43m \u001b[49m\u001b[38;5;241;43m*\u001b[39;49m\u001b[38;5;241;43m*\u001b[39;49m\u001b[43mkwargs\u001b[49m\u001b[43m)\u001b[49m\n",
      "File \u001b[0;32m~/miniforge3/envs/vas/lib/python3.10/site-packages/matplotlib/lines.py:395\u001b[0m, in \u001b[0;36mLine2D.__init__\u001b[0;34m(self, xdata, ydata, linewidth, linestyle, color, gapcolor, marker, markersize, markeredgewidth, markeredgecolor, markerfacecolor, markerfacecoloralt, fillstyle, antialiased, dash_capstyle, solid_capstyle, dash_joinstyle, solid_joinstyle, pickradius, drawstyle, markevery, **kwargs)\u001b[0m\n\u001b[1;32m    391\u001b[0m \u001b[38;5;28mself\u001b[39m\u001b[38;5;241m.\u001b[39mset_markeredgewidth(markeredgewidth)\n\u001b[1;32m    393\u001b[0m \u001b[38;5;66;03m# update kwargs before updating data to give the caller a\u001b[39;00m\n\u001b[1;32m    394\u001b[0m \u001b[38;5;66;03m# chance to init axes (and hence unit support)\u001b[39;00m\n\u001b[0;32m--> 395\u001b[0m \u001b[38;5;28;43mself\u001b[39;49m\u001b[38;5;241;43m.\u001b[39;49m\u001b[43m_internal_update\u001b[49m\u001b[43m(\u001b[49m\u001b[43mkwargs\u001b[49m\u001b[43m)\u001b[49m\n\u001b[1;32m    396\u001b[0m \u001b[38;5;28mself\u001b[39m\u001b[38;5;241m.\u001b[39m_pickradius \u001b[38;5;241m=\u001b[39m pickradius\n\u001b[1;32m    397\u001b[0m \u001b[38;5;28mself\u001b[39m\u001b[38;5;241m.\u001b[39mind_offset \u001b[38;5;241m=\u001b[39m \u001b[38;5;241m0\u001b[39m\n",
      "File \u001b[0;32m~/miniforge3/envs/vas/lib/python3.10/site-packages/matplotlib/artist.py:1223\u001b[0m, in \u001b[0;36mArtist._internal_update\u001b[0;34m(self, kwargs)\u001b[0m\n\u001b[1;32m   1216\u001b[0m \u001b[38;5;28;01mdef\u001b[39;00m \u001b[38;5;21m_internal_update\u001b[39m(\u001b[38;5;28mself\u001b[39m, kwargs):\n\u001b[1;32m   1217\u001b[0m \u001b[38;5;250m    \u001b[39m\u001b[38;5;124;03m\"\"\"\u001b[39;00m\n\u001b[1;32m   1218\u001b[0m \u001b[38;5;124;03m    Update artist properties without prenormalizing them, but generating\u001b[39;00m\n\u001b[1;32m   1219\u001b[0m \u001b[38;5;124;03m    errors as if calling `set`.\u001b[39;00m\n\u001b[1;32m   1220\u001b[0m \n\u001b[1;32m   1221\u001b[0m \u001b[38;5;124;03m    The lack of prenormalization is to maintain backcompatibility.\u001b[39;00m\n\u001b[1;32m   1222\u001b[0m \u001b[38;5;124;03m    \"\"\"\u001b[39;00m\n\u001b[0;32m-> 1223\u001b[0m     \u001b[38;5;28;01mreturn\u001b[39;00m \u001b[38;5;28;43mself\u001b[39;49m\u001b[38;5;241;43m.\u001b[39;49m\u001b[43m_update_props\u001b[49m\u001b[43m(\u001b[49m\n\u001b[1;32m   1224\u001b[0m \u001b[43m        \u001b[49m\u001b[43mkwargs\u001b[49m\u001b[43m,\u001b[49m\u001b[43m \u001b[49m\u001b[38;5;124;43m\"\u001b[39;49m\u001b[38;5;132;43;01m{cls.__name__}\u001b[39;49;00m\u001b[38;5;124;43m.set() got an unexpected keyword argument \u001b[39;49m\u001b[38;5;124;43m\"\u001b[39;49m\n\u001b[1;32m   1225\u001b[0m \u001b[43m        \u001b[49m\u001b[38;5;124;43m\"\u001b[39;49m\u001b[38;5;132;43;01m{prop_name!r}\u001b[39;49;00m\u001b[38;5;124;43m\"\u001b[39;49m\u001b[43m)\u001b[49m\n",
      "File \u001b[0;32m~/miniforge3/envs/vas/lib/python3.10/site-packages/matplotlib/artist.py:1197\u001b[0m, in \u001b[0;36mArtist._update_props\u001b[0;34m(self, props, errfmt)\u001b[0m\n\u001b[1;32m   1195\u001b[0m             func \u001b[38;5;241m=\u001b[39m \u001b[38;5;28mgetattr\u001b[39m(\u001b[38;5;28mself\u001b[39m, \u001b[38;5;124mf\u001b[39m\u001b[38;5;124m\"\u001b[39m\u001b[38;5;124mset_\u001b[39m\u001b[38;5;132;01m{\u001b[39;00mk\u001b[38;5;132;01m}\u001b[39;00m\u001b[38;5;124m\"\u001b[39m, \u001b[38;5;28;01mNone\u001b[39;00m)\n\u001b[1;32m   1196\u001b[0m             \u001b[38;5;28;01mif\u001b[39;00m \u001b[38;5;129;01mnot\u001b[39;00m \u001b[38;5;28mcallable\u001b[39m(func):\n\u001b[0;32m-> 1197\u001b[0m                 \u001b[38;5;28;01mraise\u001b[39;00m \u001b[38;5;167;01mAttributeError\u001b[39;00m(\n\u001b[1;32m   1198\u001b[0m                     errfmt\u001b[38;5;241m.\u001b[39mformat(\u001b[38;5;28mcls\u001b[39m\u001b[38;5;241m=\u001b[39m\u001b[38;5;28mtype\u001b[39m(\u001b[38;5;28mself\u001b[39m), prop_name\u001b[38;5;241m=\u001b[39mk))\n\u001b[1;32m   1199\u001b[0m             ret\u001b[38;5;241m.\u001b[39mappend(func(v))\n\u001b[1;32m   1200\u001b[0m \u001b[38;5;28;01mif\u001b[39;00m ret:\n",
      "\u001b[0;31mAttributeError\u001b[0m: Line2D.set() got an unexpected keyword argument 'rg_src_ids'"
     ]
    },
    {
     "data": {
      "application/vnd.jupyter.widget-view+json": {
       "model_id": "c9decdb96f814960ae9f55e03a1ac76b",
       "version_major": 2,
       "version_minor": 0
      },
      "image/png": "[encoded data removed]",
      "text/html": [
       "\n",
       "            <div style=\"display: inline-block;\">\n",
       "                <div class=\"jupyter-widgets widget-label\" style=\"text-align: center;\">\n",
       "                    Figure\n",
       "                </div>\n",
       "                <img src='data:image/png;base64,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' width=1200.0/>\n",
       "            </div>\n",
       "        "
      ],
      "text/plain": [
       "Canvas(toolbar=Toolbar(toolitems=[('Home', 'Reset original view', 'home', 'home'), ('Back', 'Back to previous …"
      ]
     },
     "metadata": {},
     "output_type": "display_data"
    }
   ],
   "source": [
    "# αJ2000 = 16h09min28.296s, δJ2000 = +53 deg 40′ 23.52′′ from arXiv:1205.0252 in field \"GNU2597664528044916736\"\n",
    "#logger.enable(\"vasca\")\n",
    "\n",
    "src_ps1tde, dist = rg.get_src_from_sky_pos('16h09m28.296s', '+53d40m23.52s')\n",
    "print(\"Found VASCA source is at distance:\",dist.degree,\"deg\")\n",
    "\n",
    "fig_lc, ax_lc = vvis.plot_light_curve(src_ps1tde,rg_src_ids=src_ps1tde.tt_sources[\"rg_src_id\"][0])\n",
    "display(src_ps1tde.tt_fields)\n",
    "display(src_ps1tde.tt_sources)\n",
    "display(src_ps1tde.tt_detections)"
   ]
  },
  {
   "cell_type": "markdown",
   "id": "99774a88-01e4-49f1-90fa-653a50e70212",
   "metadata": {},
   "source": [
    "### Display TDE PS1-10jh field in the sky"
   ]
  },
  {
   "cell_type": "code",
   "execution_count": null,
   "id": "085c90f3-1946-4f47-9cb2-6d8fd5c39b37",
   "metadata": {},
   "outputs": [],
   "source": [
    "fd = rg.get_field(field_id=src_ps1tde.tt_fields[0][\"field_id\"], load_method=\"FITS\", add_field=True)\n",
    "fd_src_id = src_ps1tde.tt_fields[\"fd_src_id\"][0]\n",
    "\n",
    "fig, ax = vvis.plot_field_sky_map(fd, img_idx=-1, sky_region = fd.get_sky_region()) # \n",
    "ax = vvis.plot_sky_sources(rg.tt_sources,tt_det=rg.tt_detections, sky_region_wcs = (fd.get_sky_region(),fd.ref_wcs)) # \n",
    "#display(Table(fd.tt_sources[src_idx]))"
   ]
  },
  {
   "cell_type": "markdown",
   "id": "2df189d1-a62e-4da5-94ce-6ed94b7101a1",
   "metadata": {},
   "source": [
    "### Show TDS coverage maps"
   ]
  },
  {
   "cell_type": "code",
   "execution_count": null,
   "id": "8f52ebf4-a2b9-4db6-95b6-afe76b38e9cd",
   "metadata": {},
   "outputs": [],
   "source": [
    "#logger.enable(\"vasca\")\n",
    "plot_coverage = True\n",
    "if plot_coverage:\n",
    "    rg.add_coverage_hp(nside=4096, coord_sys=\"icrs\")\n",
    "    #vvis.plot_region_sky_mollview(rg, var=\"nr_vis\")\n",
    "    #vvis.plot_region_sky_mollview(rg, var=\"nr_fds\")\n",
    "    #vvis.plot_region_sky_mollview(rg, var=\"exp\")\n",
    "    #rg.add_coverage_hp(nside=4096, )\n",
    "    vvis.plot_region_sky_gnomeview(rg,rg.tt_fields[0][\"ra\"],rg.tt_fields[0][\"dec\"])\n",
    "    #vvis.plot_region_sky_mollview(rg)"
   ]
  },
  {
   "cell_type": "markdown",
   "id": "efe4c5c2-8f3b-4a1a-b849-5ad16c864dc2",
   "metadata": {},
   "source": [
    "### Sky image with Imviz, show source and detection markers on-top"
   ]
  },
  {
   "cell_type": "code",
   "execution_count": null,
   "id": "4c285c1c-cb4a-4e8d-a945-a6564c70e611",
   "metadata": {},
   "outputs": [],
   "source": [
    "show_imviz = False\n",
    "if show_imviz:\n",
    "    hdup = fits.PrimaryHDU(fd.ref_img, header=fd.ref_wcs.to_header())\n",
    "    imviz = Imviz()\n",
    "    viewer = imviz.default_viewer\n",
    "    imviz.load_data(hdup, data_label=str(field_id))\n",
    "    imviz.show(loc='sidecar')\n",
    "\n",
    "    sel_det = fd.tt_detections[\"sel\"]\n",
    "    tt_det_sky = Table({'coord': SkyCoord(fd.tt_detections[sel_det][\"ra\"], fd.tt_detections[sel_det][\"dec\"], frame='fk5')})\n",
    "    viewer.marker = {'color':'blue', 'markersize': 5., 'fill': False} #, 'alpha': 1.0\n",
    "    viewer.add_markers(tt_det_sky, use_skycoord=True, marker_name='D')\n",
    "\n",
    "    srcs_sky = SkyCoord(fd.tt_sources[\"ra\"], fd.tt_sources[\"dec\"], frame='fk5')\n",
    "    tt_srcs_sky = Table({'coord':srcs_sky })\n",
    "    viewer.marker = {'color':'red', 'markersize': 2., 'fill': True} #, 'alpha': 1.0\n",
    "    viewer.add_markers(tt_srcs_sky, use_skycoord=True, marker_name='S')"
   ]
  },
  {
   "cell_type": "code",
   "execution_count": null,
   "id": "2fe3bf17-47f2-434d-a654-c08cbfa18337",
   "metadata": {},
   "outputs": [],
   "source": [
    "from vasca.utils import mag2flux\n",
    "from astropy import units as uu\n",
    "import matplotlib.pyplot as plt\n",
    "from astropy.table import QTable\n",
    "from astropy.visualization import quantity_support\n",
    "quantity_support()\n",
    "\n",
    "mags = range(14,28)*uu.ABmag\n",
    "tt = QTable([mags,mag2flux(mags)],names=[\"mag\",\"flux\"])\n",
    "display(tt)\n",
    "plt.figure(\"mag2flux\",figsize=(10, 10))\n",
    "plt.plot(tt[\"mag\"],tt[\"flux\"])\n",
    "plt.gca().invert_xaxis()\n",
    "plt.gca().set_yscale(\"log\")\n",
    "plt.gca().grid(True, color=\"grey\", ls=\"-\", lw=0.5)"
   ]
  }
 ],
 "metadata": {
  "kernelspec": {
   "display_name": "Python 3 (ipykernel)",
   "language": "python",
   "name": "python3"
  },
  "language_info": {
   "codemirror_mode": {
    "name": "ipython",
    "version": 3
   },
   "file_extension": ".py",
   "mimetype": "text/x-python",
   "name": "python",
   "nbconvert_exporter": "python",
   "pygments_lexer": "ipython3",
   "version": "3.10.12"
  }
 },
 "nbformat": 4,
 "nbformat_minor": 5
}
