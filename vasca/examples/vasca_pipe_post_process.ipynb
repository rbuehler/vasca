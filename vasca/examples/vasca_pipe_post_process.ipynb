{
 "cells": [
  {
   "cell_type": "markdown",
   "id": "b2195104-c49a-480d-94ea-bbb27979e84c",
   "metadata": {},
   "source": [
    "# Post-process vasca_pipe results\n",
    "Make catalog file of selected sources only, associate and get store additional info for listed sources"
   ]
  },
  {
   "cell_type": "code",
   "execution_count": 1,
   "id": "950c4fbe-f5d0-447c-9d74-25af6ff290bf",
   "metadata": {},
   "outputs": [],
   "source": [
    "region_name = \"ALL_10-800\" #\"CAINGSGII_10-800\"  #\"TDS\" #\"CAINGSGII_10-800\"  #\"TDS\" # \"MDIS_10-800\" # \"TDS\" # _ELAISN1\n",
    "region_fname = \"./vasca_pipeline/\"+region_name+\"/region_\"+region_name+\".fits\"\n",
    "region_cat_fname = region_fname.replace(\".fits\",\"_cat.fits\")\n",
    "do_cat = False\n",
    "do_cross_match = False\n",
    "do_src_prep = False\n",
    "do_variable_addition = True\n",
    "\n",
    "srcs_ids = []\n",
    "srcs_ids = [55034 ,61491 ,64360 ,73354 ,76243 ,92867 ,104078 ,106745 ,226975 ,267514 ,588567 ,599887 ,]  # WDs ALL"
   ]
  },
  {
   "cell_type": "code",
   "execution_count": 2,
   "id": "937306a8-d6b3-45dd-981d-421919026ddb",
   "metadata": {},
   "outputs": [
    {
     "name": "stderr",
     "output_type": "stream",
     "text": [
      "\u001b[32m2023-10-12 10:36:59.360\u001b[0m | \u001b[34m\u001b[1mDEBUG   \u001b[0m | \u001b[36mvasca.tables\u001b[0m:\u001b[36mload_from_fits\u001b[0m:\u001b[36m328\u001b[0m - \u001b[34m\u001b[1mLoading file with name './vasca_pipeline/ALL_10-800/region_ALL_10-800_cat.fits'\u001b[0m\n",
      "\u001b[32m2023-10-12 10:36:59.372\u001b[0m | \u001b[34m\u001b[1mDEBUG   \u001b[0m | \u001b[36mvasca.tables\u001b[0m:\u001b[36mload_from_fits\u001b[0m:\u001b[36m339\u001b[0m - \u001b[34m\u001b[1mLoading table 'tt_fields'\u001b[0m\n",
      "\u001b[32m2023-10-12 10:36:59.399\u001b[0m | \u001b[34m\u001b[1mDEBUG   \u001b[0m | \u001b[36mvasca.tables\u001b[0m:\u001b[36mload_from_fits\u001b[0m:\u001b[36m339\u001b[0m - \u001b[34m\u001b[1mLoading table 'tt_filters'\u001b[0m\n",
      "\u001b[32m2023-10-12 10:36:59.412\u001b[0m | \u001b[34m\u001b[1mDEBUG   \u001b[0m | \u001b[36mvasca.tables\u001b[0m:\u001b[36mload_from_fits\u001b[0m:\u001b[36m339\u001b[0m - \u001b[34m\u001b[1mLoading table 'tt_visits'\u001b[0m\n",
      "\u001b[32m2023-10-12 10:36:59.426\u001b[0m | \u001b[34m\u001b[1mDEBUG   \u001b[0m | \u001b[36mvasca.tables\u001b[0m:\u001b[36mload_from_fits\u001b[0m:\u001b[36m339\u001b[0m - \u001b[34m\u001b[1mLoading table 'tt_detections'\u001b[0m\n",
      "\u001b[32m2023-10-12 10:36:59.474\u001b[0m | \u001b[34m\u001b[1mDEBUG   \u001b[0m | \u001b[36mvasca.tables\u001b[0m:\u001b[36mload_from_fits\u001b[0m:\u001b[36m339\u001b[0m - \u001b[34m\u001b[1mLoading table 'tt_coadd_detections'\u001b[0m\n",
      "\u001b[32m2023-10-12 10:36:59.579\u001b[0m | \u001b[34m\u001b[1mDEBUG   \u001b[0m | \u001b[36mvasca.tables\u001b[0m:\u001b[36mload_from_fits\u001b[0m:\u001b[36m339\u001b[0m - \u001b[34m\u001b[1mLoading table 'tt_sources'\u001b[0m\n",
      "\u001b[32m2023-10-12 10:36:59.602\u001b[0m | \u001b[34m\u001b[1mDEBUG   \u001b[0m | \u001b[36mvasca.tables\u001b[0m:\u001b[36mload_from_fits\u001b[0m:\u001b[36m339\u001b[0m - \u001b[34m\u001b[1mLoading table 'tt_coadd_sources'\u001b[0m\n",
      "\u001b[32m2023-10-12 10:36:59.622\u001b[0m | \u001b[34m\u001b[1mDEBUG   \u001b[0m | \u001b[36mvasca.tables\u001b[0m:\u001b[36mload_from_fits\u001b[0m:\u001b[36m339\u001b[0m - \u001b[34m\u001b[1mLoading table 'tt_src_id_map'\u001b[0m\n"
     ]
    },
    {
     "ename": "KeyError",
     "evalue": "'tt_gaiadr3'",
     "output_type": "error",
     "traceback": [
      "\u001b[0;31m---------------------------------------------------------------------------\u001b[0m",
      "\u001b[0;31mKeyError\u001b[0m                                  Traceback (most recent call last)",
      "Cell \u001b[0;32mIn[2], line 43\u001b[0m\n\u001b[1;32m     41\u001b[0m \u001b[38;5;66;03m#Add variables\u001b[39;00m\n\u001b[1;32m     42\u001b[0m \u001b[38;5;28;01mif\u001b[39;00m do_variable_addition:\n\u001b[0;32m---> 43\u001b[0m     \u001b[43mrc\u001b[49m\u001b[38;5;241;43m.\u001b[39;49m\u001b[43madd_column\u001b[49m\u001b[43m(\u001b[49m\u001b[38;5;124;43m\"\u001b[39;49m\u001b[38;5;124;43mtt_gaiadr3\u001b[39;49m\u001b[38;5;124;43m\"\u001b[39;49m\u001b[43m,\u001b[49m\u001b[43m \u001b[49m\u001b[38;5;124;43m\"\u001b[39;49m\u001b[38;5;124;43mGmag_abs\u001b[39;49m\u001b[38;5;124;43m\"\u001b[39;49m\u001b[43m)\u001b[49m\n\u001b[1;32m     44\u001b[0m     sel_plx \u001b[38;5;241m=\u001b[39m rc\u001b[38;5;241m.\u001b[39mtt_gaiadr3[\u001b[38;5;124m\"\u001b[39m\u001b[38;5;124mRPlx\u001b[39m\u001b[38;5;124m\"\u001b[39m]\u001b[38;5;241m>\u001b[39m\u001b[38;5;241m3\u001b[39m\n\u001b[1;32m     45\u001b[0m     rc\u001b[38;5;241m.\u001b[39mtt_gaiadr3[\u001b[38;5;124m\"\u001b[39m\u001b[38;5;124mGmag_abs\u001b[39m\u001b[38;5;124m\"\u001b[39m][sel_plx]\u001b[38;5;241m=\u001b[39mrc\u001b[38;5;241m.\u001b[39mtt_gaiadr3[\u001b[38;5;124m\"\u001b[39m\u001b[38;5;124mGmag\u001b[39m\u001b[38;5;124m\"\u001b[39m][sel_plx] \u001b[38;5;241m+\u001b[39m \u001b[38;5;241m5.0\u001b[39m \u001b[38;5;241m*\u001b[39m np\u001b[38;5;241m.\u001b[39mlog10(rc\u001b[38;5;241m.\u001b[39mtt_gaiadr3[\u001b[38;5;124m\"\u001b[39m\u001b[38;5;124mPlx\u001b[39m\u001b[38;5;124m\"\u001b[39m][sel_plx]) \u001b[38;5;241m-\u001b[39m \u001b[38;5;241m10.0\u001b[39m\n",
      "File \u001b[0;32m~/Code/vasca/vasca/tables.py:1063\u001b[0m, in \u001b[0;36mTableCollection.add_column\u001b[0;34m(self, table_name, col_name, col_template, col_data)\u001b[0m\n\u001b[1;32m   1044\u001b[0m \u001b[38;5;250m\u001b[39m\u001b[38;5;124;03m\"\"\"\u001b[39;00m\n\u001b[1;32m   1045\u001b[0m \u001b[38;5;124;03mAdds column in a table, using the predefined VASCA columns.\u001b[39;00m\n\u001b[1;32m   1046\u001b[0m \u001b[38;5;124;03mIf column exists already replace it.\u001b[39;00m\n\u001b[0;32m   (...)\u001b[0m\n\u001b[1;32m   1060\u001b[0m \n\u001b[1;32m   1061\u001b[0m \u001b[38;5;124;03m\"\"\"\u001b[39;00m\n\u001b[1;32m   1062\u001b[0m \u001b[38;5;28;01mif\u001b[39;00m \u001b[38;5;28mtype\u001b[39m(col_data) \u001b[38;5;241m==\u001b[39m \u001b[38;5;28mtype\u001b[39m(\u001b[38;5;28;01mNone\u001b[39;00m):\n\u001b[0;32m-> 1063\u001b[0m     table_size \u001b[38;5;241m=\u001b[39m \u001b[38;5;28mlen\u001b[39m(\u001b[38;5;28;43mself\u001b[39;49m\u001b[38;5;241;43m.\u001b[39;49m\u001b[38;5;18;43m__dict__\u001b[39;49m\u001b[43m[\u001b[49m\u001b[43mtable_name\u001b[49m\u001b[43m]\u001b[49m)\n\u001b[1;32m   1064\u001b[0m     col_data \u001b[38;5;241m=\u001b[39m np\u001b[38;5;241m.\u001b[39marray([dd_vasca_columns[col_name][\u001b[38;5;124m\"\u001b[39m\u001b[38;5;124mdefault\u001b[39m\u001b[38;5;124m\"\u001b[39m]] \u001b[38;5;241m*\u001b[39m table_size)\n\u001b[1;32m   1065\u001b[0m col_template_copy \u001b[38;5;241m=\u001b[39m dd_vasca_columns[col_name]\u001b[38;5;241m.\u001b[39mcopy()\n",
      "\u001b[0;31mKeyError\u001b[0m: 'tt_gaiadr3'"
     ]
    }
   ],
   "source": [
    "%matplotlib widget\n",
    "import ipywidgets as widgets\n",
    "from IPython.display import display\n",
    "import matplotlib.pyplot as plt\n",
    "import numpy as np\n",
    "\n",
    "from astropy.coordinates import SkyCoord\n",
    "from astropy.table import unique, Table, hstack, join, setdiff\n",
    "from astropy import units as uu\n",
    "from astroquery.simbad import Simbad\n",
    "from astropy.visualization import quantity_support\n",
    "from astropy.modeling.models import BlackBody\n",
    "from astropy import constants as cc\n",
    "from matplotlib.ticker import ScalarFormatter\n",
    "from astroquery.sdss import SDSS\n",
    "\n",
    "from vasca.region import Region\n",
    "from vasca.field import BaseField\n",
    "import vasca.visualization as vvis\n",
    "from vasca.tables import TableCollection, dd_vasca_columns\n",
    "from vasca.utils import otype2ogroup,dd_ogrp2otypes, dd_ogrp2col, dd_filter2wavelength, mag2flux, flux2mag, query_vizier_sed, add_ogrp\n",
    "\n",
    "from loguru import logger\n",
    "logger.enable(\"vasca\")\n",
    "\n",
    "# Do catalog file\n",
    "\n",
    "if do_cat:\n",
    "    rg = Region()\n",
    "    rg.load_from_fits(region_fname)\n",
    "    rc = rg.get_region_catalog()\n",
    "else:\n",
    "    rc = Region()\n",
    "    rc.load_from_fits(region_cat_fname)\n",
    "\n",
    "#Cross match to SIMBAD and GAIA\n",
    "if do_cross_match:\n",
    "    rc.cross_match_cds(query_table=\"simbad\")\n",
    "    rc.cross_match_cds()\n",
    "\n",
    "#Add variables\n",
    "if do_variable_addition:\n",
    "    rc.add_column(\"tt_gaiadr3\", \"Gmag_abs\")\n",
    "    sel_plx = rc.tt_gaiadr3[\"RPlx\"]>3\n",
    "    rc.tt_gaiadr3[\"Gmag_abs\"][sel_plx]=rc.tt_gaiadr3[\"Gmag\"][sel_plx] + 5.0 * np.log10(rc.tt_gaiadr3[\"Plx\"][sel_plx]) - 10.0\n",
    "\n",
    "    # Add object groups\n",
    "    add_ogrp(rc,\"tt_simbad\")\n",
    "    add_ogrp(rc,\"tt_otypes\")\n",
    "    add_ogrp(rc,\"tt_gaiadr3\",provenance=\"GAIA\")\n",
    "\n",
    "#Write out all changes\n",
    "rc.write_to_fits(region_cat_fname, overwrite=True)\n",
    "\n",
    "#Prepare sources, including Vizier SED.\n",
    "if do_src_prep:\n",
    "    for src_id in srcs_ids:\n",
    "        tc_src = rc.get_src_from_id(src_id, load_from_file = False)\n",
    "print(\"Done\")"
   ]
  },
  {
   "cell_type": "code",
   "execution_count": null,
   "id": "0d1e9635-a4a9-48ef-8e4e-113e7059bd20",
   "metadata": {},
   "outputs": [],
   "source": []
  }
 ],
 "metadata": {
  "kernelspec": {
   "display_name": "Python 3 (ipykernel)",
   "language": "python",
   "name": "python3"
  },
  "language_info": {
   "codemirror_mode": {
    "name": "ipython",
    "version": 3
   },
   "file_extension": ".py",
   "mimetype": "text/x-python",
   "name": "python",
   "nbconvert_exporter": "python",
   "pygments_lexer": "ipython3",
   "version": "3.10.12"
  }
 },
 "nbformat": 4,
 "nbformat_minor": 5
}
