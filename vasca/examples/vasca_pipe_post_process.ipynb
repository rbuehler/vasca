{
 "cells": [
  {
   "cell_type": "markdown",
   "id": "b2195104-c49a-480d-94ea-bbb27979e84c",
   "metadata": {},
   "source": [
    "# Post-process vasca_pipe results\n",
    "Make catalog file of selected sources only, associate and get store additional info for listed sources"
   ]
  },
  {
   "cell_type": "code",
   "execution_count": 1,
   "id": "950c4fbe-f5d0-447c-9d74-25af6ff290bf",
   "metadata": {},
   "outputs": [],
   "source": [
    "region_name = \"ALL_10-800_LOOSE\" #\"CAINGSGII_10-800\"  #\"TDS\" #\"CAINGSGII_10-800\"  #\"TDS\" # \"MDIS_10-800\" # \"TDS\" # _ELAISN1\n",
    "region_fname = \"./vasca_pipeline/\"+region_name+\"/region_\"+region_name+\".fits\"\n",
    "region_cat_fname = region_fname.replace(\".fits\",\"_cat.fits\")\n",
    "\n",
    "do_cat = False                        # Recreate catalog file from vasca_pipe output region\n",
    "do_cross_match = True                  # Does source matching with CDS\n",
    "do_src_prep = False                  # Gets additional info for sources listes in srcs_ids list below.\n",
    "do_variable_addition = False            # Adds variables of matched sources to tt_sources\n",
    "do_LombScargle = False\n",
    "\n",
    "srcs_ids = []\n",
    "srcs_ids = [4993 ,13580 ,14504 ,30475 ,50388 ,52994 ,79477 ,120265 ,138783 ,139480 ,162697 ,204419 ,221349 ,228958 ,236839 ,253214 ,253670\n",
    "            ,256433 ,261213 ,331466 ,340464 ,381336 ,390864 ,489430 ,498065 ,525310 ,532554 ,533185 ,540235 ,583838 ,639720 ,645215 ,645730\n",
    "            ,659787 ,666224 ,673175 ,680119 ,691408 ,714140 ,764827 ,1037284 ,1069077 ,1070938 ,1805505 ,1839206 ,2527679 ,3074917 ,] # WD ALL_10-800-LOOSE"
   ]
  },
  {
   "cell_type": "code",
   "execution_count": 2,
   "id": "7b832742-bfb6-4650-a9f6-73c369a91b97",
   "metadata": {},
   "outputs": [
    {
     "name": "stdout",
     "output_type": "stream",
     "text": [
      "0.4.7.dev8893\n"
     ]
    }
   ],
   "source": [
    "import astroquery\n",
    "print(astroquery.__version__)"
   ]
  },
  {
   "cell_type": "code",
   "execution_count": null,
   "id": "937306a8-d6b3-45dd-981d-421919026ddb",
   "metadata": {},
   "outputs": [
    {
     "name": "stderr",
     "output_type": "stream",
     "text": [
      "\u001b[32m2023-11-02 14:26:45.431\u001b[0m | \u001b[34m\u001b[1mDEBUG   \u001b[0m | \u001b[36mvasca.tables\u001b[0m:\u001b[36mload_from_fits\u001b[0m:\u001b[36m330\u001b[0m - \u001b[34m\u001b[1mLoading file with name './vasca_pipeline/ALL_10-800_LOOSE/region_ALL_10-800_LOOSE_cat.fits'\u001b[0m\n",
      "\u001b[32m2023-11-02 14:26:45.440\u001b[0m | \u001b[34m\u001b[1mDEBUG   \u001b[0m | \u001b[36mvasca.tables\u001b[0m:\u001b[36mload_from_fits\u001b[0m:\u001b[36m341\u001b[0m - \u001b[34m\u001b[1mLoading table 'tt_fields'\u001b[0m\n",
      "\u001b[32m2023-11-02 14:26:45.453\u001b[0m | \u001b[34m\u001b[1mDEBUG   \u001b[0m | \u001b[36mvasca.tables\u001b[0m:\u001b[36mload_from_fits\u001b[0m:\u001b[36m341\u001b[0m - \u001b[34m\u001b[1mLoading table 'tt_filters'\u001b[0m\n",
      "\u001b[32m2023-11-02 14:26:45.460\u001b[0m | \u001b[34m\u001b[1mDEBUG   \u001b[0m | \u001b[36mvasca.tables\u001b[0m:\u001b[36mload_from_fits\u001b[0m:\u001b[36m341\u001b[0m - \u001b[34m\u001b[1mLoading table 'tt_visits'\u001b[0m\n",
      "\u001b[32m2023-11-02 14:26:45.468\u001b[0m | \u001b[34m\u001b[1mDEBUG   \u001b[0m | \u001b[36mvasca.tables\u001b[0m:\u001b[36mload_from_fits\u001b[0m:\u001b[36m341\u001b[0m - \u001b[34m\u001b[1mLoading table 'tt_sources'\u001b[0m\n",
      "\u001b[32m2023-11-02 14:26:45.496\u001b[0m | \u001b[34m\u001b[1mDEBUG   \u001b[0m | \u001b[36mvasca.tables\u001b[0m:\u001b[36mload_from_fits\u001b[0m:\u001b[36m341\u001b[0m - \u001b[34m\u001b[1mLoading table 'tt_detections'\u001b[0m\n",
      "\u001b[32m2023-11-02 14:26:45.535\u001b[0m | \u001b[34m\u001b[1mDEBUG   \u001b[0m | \u001b[36mvasca.tables\u001b[0m:\u001b[36mload_from_fits\u001b[0m:\u001b[36m341\u001b[0m - \u001b[34m\u001b[1mLoading table 'tt_coadd_detections'\u001b[0m\n",
      "\u001b[32m2023-11-02 14:26:45.622\u001b[0m | \u001b[34m\u001b[1mDEBUG   \u001b[0m | \u001b[36mvasca.tables\u001b[0m:\u001b[36mload_from_fits\u001b[0m:\u001b[36m341\u001b[0m - \u001b[34m\u001b[1mLoading table 'tt_coadd_sources'\u001b[0m\n",
      "\u001b[32m2023-11-02 14:26:45.641\u001b[0m | \u001b[34m\u001b[1mDEBUG   \u001b[0m | \u001b[36mvasca.tables\u001b[0m:\u001b[36mload_from_fits\u001b[0m:\u001b[36m341\u001b[0m - \u001b[34m\u001b[1mLoading table 'tt_src_id_map'\u001b[0m\n",
      "\u001b[32m2023-11-02 14:26:45.650\u001b[0m | \u001b[34m\u001b[1mDEBUG   \u001b[0m | \u001b[36mvasca.tables\u001b[0m:\u001b[36mload_from_fits\u001b[0m:\u001b[36m341\u001b[0m - \u001b[34m\u001b[1mLoading table 'tt_simbad'\u001b[0m\n",
      "\u001b[32m2023-11-02 14:26:45.687\u001b[0m | \u001b[34m\u001b[1mDEBUG   \u001b[0m | \u001b[36mvasca.tables\u001b[0m:\u001b[36mload_from_fits\u001b[0m:\u001b[36m341\u001b[0m - \u001b[34m\u001b[1mLoading table 'tt_gaiadr3'\u001b[0m\n",
      "WARNING: UnitsWarning: 'log(cm.s**-2)' did not parse as fits unit: 'log' is not a recognized function If this is meant to be a custom unit, define it with 'u.def_unit'. To have it recognized inside a file reader or other code, enable it with 'u.add_enabled_units'. For details, see https://docs.astropy.org/en/latest/units/combining_and_defining.html [astropy.units.core]\n",
      "\u001b[32m2023-11-02 14:26:45.774\u001b[0m | \u001b[34m\u001b[1mDEBUG   \u001b[0m | \u001b[36mvasca.tables\u001b[0m:\u001b[36mload_from_fits\u001b[0m:\u001b[36m341\u001b[0m - \u001b[34m\u001b[1mLoading table 'tt_lombscargle'\u001b[0m\n",
      "\u001b[32m2023-11-02 14:26:45.788\u001b[0m | \u001b[34m\u001b[1mDEBUG   \u001b[0m | \u001b[36mvasca.region\u001b[0m:\u001b[36mcross_match_cds\u001b[0m:\u001b[36m590\u001b[0m - \u001b[34m\u001b[1mQuery simbad table\u001b[0m\n",
      "\u001b[32m2023-11-02 14:26:45.789\u001b[0m | \u001b[33m\u001b[1mWARNING \u001b[0m | \u001b[36mvasca.region\u001b[0m:\u001b[36mcross_match_cds\u001b[0m:\u001b[36m600\u001b[0m - \u001b[33m\u001b[1mRegion already contained tt_simbad info\u001b[0m\n",
      "\u001b[32m2023-11-02 14:26:45.790\u001b[0m | \u001b[33m\u001b[1mWARNING \u001b[0m | \u001b[36mvasca.region\u001b[0m:\u001b[36mcross_match_cds\u001b[0m:\u001b[36m604\u001b[0m - \u001b[33m\u001b[1mAs overwrite is False, query stopped\u001b[0m\n",
      "\u001b[32m2023-11-02 14:26:45.790\u001b[0m | \u001b[34m\u001b[1mDEBUG   \u001b[0m | \u001b[36mvasca.region\u001b[0m:\u001b[36mcross_match_cds\u001b[0m:\u001b[36m590\u001b[0m - \u001b[34m\u001b[1mQuery I/355/gaiadr3 table\u001b[0m\n",
      "\u001b[32m2023-11-02 14:26:45.790\u001b[0m | \u001b[33m\u001b[1mWARNING \u001b[0m | \u001b[36mvasca.region\u001b[0m:\u001b[36mcross_match_cds\u001b[0m:\u001b[36m600\u001b[0m - \u001b[33m\u001b[1mRegion already contained tt_gaiadr3 info\u001b[0m\n",
      "\u001b[32m2023-11-02 14:26:45.791\u001b[0m | \u001b[34m\u001b[1mDEBUG   \u001b[0m | \u001b[36mvasca.tables\u001b[0m:\u001b[36mremove_tables\u001b[0m:\u001b[36m134\u001b[0m - \u001b[34m\u001b[1mRemoving tables '['tt_gaiadr3']'\u001b[0m\n",
      "\u001b[32m2023-11-02 14:26:45.796\u001b[0m | \u001b[34m\u001b[1mDEBUG   \u001b[0m | \u001b[36mvasca.region\u001b[0m:\u001b[36mcross_match_cds\u001b[0m:\u001b[36m677\u001b[0m - \u001b[34m\u001b[1mStarting Vizier query for 10413 sources..\u001b[0m\n"
     ]
    }
   ],
   "source": [
    "%matplotlib widget\n",
    "import ipywidgets as widgets\n",
    "from IPython.display import display\n",
    "import matplotlib.pyplot as plt\n",
    "import numpy as np\n",
    "\n",
    "from astropy.coordinates import SkyCoord\n",
    "from astropy.table import unique, Table, hstack, join, setdiff\n",
    "from astropy import units as uu\n",
    "from astroquery.simbad import Simbad\n",
    "from astropy.visualization import quantity_support\n",
    "from astropy.modeling.models import BlackBody\n",
    "from astropy import constants as cc\n",
    "from matplotlib.ticker import ScalarFormatter\n",
    "from astroquery.sdss import SDSS\n",
    "\n",
    "from vasca.region import Region\n",
    "from vasca.field import BaseField\n",
    "import vasca.visualization as vvis\n",
    "from vasca.tables import TableCollection, dd_vasca_columns\n",
    "from vasca.utils import otype2ogroup,dd_ogrp2otypes, dd_ogrp2col, dd_filter2wavelength, mag2flux, flux2mag, query_vizier_sed, add_ogrp\n",
    "\n",
    "from loguru import logger\n",
    "logger.enable(\"vasca\")\n",
    "\n",
    "# Do catalog file\n",
    "\n",
    "if do_cat:\n",
    "    rg = Region()\n",
    "    rg.load_from_fits(region_fname) \n",
    "    rc = rg.get_region_catalog()\n",
    "else:\n",
    "    rc = Region()\n",
    "    rc.load_from_fits(region_cat_fname)\n",
    "\n",
    "#Cross match to SIMBAD and GAIA\n",
    "if do_cross_match:\n",
    "    rc.cross_match_cds(query_table=\"simbad\", overwrite=False)\n",
    "    rc.cross_match_cds(overwrite=True)\n",
    "    #rc.cross_match_cds(query_table=\"I/358/varisum\",vizier_columns=[\"*\", \"NG\", \"dGmag\"],)\n",
    "\n",
    "#Add variables\n",
    "if do_variable_addition:\n",
    "    rc.add_column(\"tt_gaiadr3\", \"Gmag_abs\")\n",
    "    sel_plx = rc.tt_gaiadr3[\"RPlx\"]>3\n",
    "    rc.tt_gaiadr3[\"Gmag_abs\"][sel_plx]=rc.tt_gaiadr3[\"Gmag\"][sel_plx] + 5.0 * np.log10(rc.tt_gaiadr3[\"Plx\"][sel_plx]) - 10.0\n",
    "    rc.tt_gaiadr3[\"Plx_dist\"] = rc.tt_gaiadr3[\"Plx\"].quantity.to(uu.parsec, equivalencies=uu.parallax())\n",
    "\n",
    "    # Add normalized excess\n",
    "    rc.tt_sources[\"flux_ne\"]=np.sqrt(rc.tt_sources[\"flux_nxv\"])\n",
    "\n",
    "    # Add object groups\n",
    "    add_ogrp(rc.tt_simbad)\n",
    "    add_ogrp(rc.tt_gaiadr3,provenance=\"GAIA\")\n",
    "\n",
    "if do_LombScargle:\n",
    "    rc.set_LombScargle(nbins_min=20)\n",
    "\n",
    "#Write out all changes to region\n",
    "rc.write_to_fits(region_cat_fname, overwrite=True)\n",
    "\n",
    "#Prepare sources, including Vizier SED.\n",
    "if do_src_prep:\n",
    "    for src_id in srcs_ids:\n",
    "        print(f\"*********** Creating Source Table ID {src_id} *****************\")\n",
    "        tc_src = rc.get_src_from_id(src_id, load_from_file = False)\n",
    "print(\"Done\")"
   ]
  },
  {
   "cell_type": "code",
   "execution_count": null,
   "id": "37adcc52-904b-41a1-a2d8-25eebdbb1762",
   "metadata": {},
   "outputs": [],
   "source": []
  }
 ],
 "metadata": {
  "kernelspec": {
   "display_name": "Python 3 (ipykernel)",
   "language": "python",
   "name": "python3"
  },
  "language_info": {
   "codemirror_mode": {
    "name": "ipython",
    "version": 3
   },
   "file_extension": ".py",
   "mimetype": "text/x-python",
   "name": "python",
   "nbconvert_exporter": "python",
   "pygments_lexer": "ipython3",
   "version": "3.10.12"
  }
 },
 "nbformat": 4,
 "nbformat_minor": 5
}
