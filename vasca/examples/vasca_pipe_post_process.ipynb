{
 "cells": [
  {
   "cell_type": "markdown",
   "id": "b2195104-c49a-480d-94ea-bbb27979e84c",
   "metadata": {},
   "source": [
    "# Post-process vasca_pipe results\n",
    "Make catalog file of selected sources only, associate and get store additional info for listed sources"
   ]
  },
  {
   "cell_type": "code",
   "execution_count": 1,
   "id": "950c4fbe-f5d0-447c-9d74-25af6ff290bf",
   "metadata": {},
   "outputs": [],
   "source": [
    "region_name = \"ALL_10-800\" #\"CAINGSGII_10-800\"  #\"TDS\" #\"CAINGSGII_10-800\"  #\"TDS\" # \"MDIS_10-800\" # \"TDS\" # _ELAISN1\n",
    "region_fname = \"./vasca_pipeline/\"+region_name+\"/region_\"+region_name+\".fits\"\n",
    "region_cat_fname = region_fname.replace(\".fits\",\"_cat.fits\")\n",
    "do_cat = True\n",
    "do_cross_match = True\n",
    "do_src_prep = False\n",
    "\n",
    "srcs_ids = []\n",
    "srcs_ids = [55034 ,61491 ,64360 ,73354 ,76243 ,92867 ,104078 ,106745 ,226975 ,267514 ,588567 ,599887 ,]  # WDs ALL"
   ]
  },
  {
   "cell_type": "code",
   "execution_count": null,
   "id": "937306a8-d6b3-45dd-981d-421919026ddb",
   "metadata": {},
   "outputs": [
    {
     "name": "stderr",
     "output_type": "stream",
     "text": [
      "\u001b[32m2023-10-10 08:37:43.202\u001b[0m | \u001b[34m\u001b[1mDEBUG   \u001b[0m | \u001b[36mvasca.tables\u001b[0m:\u001b[36mload_from_fits\u001b[0m:\u001b[36m328\u001b[0m - \u001b[34m\u001b[1mLoading file with name './vasca_pipeline/ALL_10-800/region_ALL_10-800.fits'\u001b[0m\n",
      "\u001b[32m2023-10-10 08:37:43.214\u001b[0m | \u001b[34m\u001b[1mDEBUG   \u001b[0m | \u001b[36mvasca.tables\u001b[0m:\u001b[36mload_from_fits\u001b[0m:\u001b[36m339\u001b[0m - \u001b[34m\u001b[1mLoading table 'tt_fields'\u001b[0m\n",
      "\u001b[32m2023-10-10 08:37:43.237\u001b[0m | \u001b[34m\u001b[1mDEBUG   \u001b[0m | \u001b[36mvasca.tables\u001b[0m:\u001b[36mload_from_fits\u001b[0m:\u001b[36m339\u001b[0m - \u001b[34m\u001b[1mLoading table 'tt_filters'\u001b[0m\n",
      "\u001b[32m2023-10-10 08:37:43.248\u001b[0m | \u001b[34m\u001b[1mDEBUG   \u001b[0m | \u001b[36mvasca.tables\u001b[0m:\u001b[36mload_from_fits\u001b[0m:\u001b[36m339\u001b[0m - \u001b[34m\u001b[1mLoading table 'tt_visits'\u001b[0m\n",
      "\u001b[32m2023-10-10 08:37:43.270\u001b[0m | \u001b[34m\u001b[1mDEBUG   \u001b[0m | \u001b[36mvasca.tables\u001b[0m:\u001b[36mload_from_fits\u001b[0m:\u001b[36m339\u001b[0m - \u001b[34m\u001b[1mLoading table 'tt_detections'\u001b[0m\n",
      "\u001b[32m2023-10-10 08:37:44.883\u001b[0m | \u001b[34m\u001b[1mDEBUG   \u001b[0m | \u001b[36mvasca.tables\u001b[0m:\u001b[36mload_from_fits\u001b[0m:\u001b[36m339\u001b[0m - \u001b[34m\u001b[1mLoading table 'tt_coadd_detections'\u001b[0m\n",
      "\u001b[32m2023-10-10 08:37:45.543\u001b[0m | \u001b[34m\u001b[1mDEBUG   \u001b[0m | \u001b[36mvasca.tables\u001b[0m:\u001b[36mload_from_fits\u001b[0m:\u001b[36m339\u001b[0m - \u001b[34m\u001b[1mLoading table 'tt_sources'\u001b[0m\n",
      "\u001b[32m2023-10-10 08:37:46.021\u001b[0m | \u001b[34m\u001b[1mDEBUG   \u001b[0m | \u001b[36mvasca.tables\u001b[0m:\u001b[36mload_from_fits\u001b[0m:\u001b[36m339\u001b[0m - \u001b[34m\u001b[1mLoading table 'tt_coadd_sources'\u001b[0m\n",
      "\u001b[32m2023-10-10 08:37:47.382\u001b[0m | \u001b[34m\u001b[1mDEBUG   \u001b[0m | \u001b[36mvasca.tables\u001b[0m:\u001b[36mload_from_fits\u001b[0m:\u001b[36m339\u001b[0m - \u001b[34m\u001b[1mLoading table 'tt_src_id_map'\u001b[0m\n",
      "\u001b[32m2023-10-10 08:37:47.440\u001b[0m | \u001b[34m\u001b[1mDEBUG   \u001b[0m | \u001b[36mvasca.region\u001b[0m:\u001b[36msynch_src_sel\u001b[0m:\u001b[36m795\u001b[0m - \u001b[34m\u001b[1mSynchronizing selection in table tt_detections\u001b[0m\n",
      "\u001b[32m2023-10-10 08:37:47.569\u001b[0m | \u001b[34m\u001b[1mDEBUG   \u001b[0m | \u001b[36mvasca.region\u001b[0m:\u001b[36msynch_src_sel\u001b[0m:\u001b[36m795\u001b[0m - \u001b[34m\u001b[1mSynchronizing selection in table tt_sources\u001b[0m\n",
      "\u001b[32m2023-10-10 08:37:47.584\u001b[0m | \u001b[34m\u001b[1mDEBUG   \u001b[0m | \u001b[36mvasca.region\u001b[0m:\u001b[36msynch_src_sel\u001b[0m:\u001b[36m795\u001b[0m - \u001b[34m\u001b[1mSynchronizing selection in table tt_coadd_sources\u001b[0m\n",
      "\u001b[32m2023-10-10 08:37:47.654\u001b[0m | \u001b[34m\u001b[1mDEBUG   \u001b[0m | \u001b[36mvasca.region\u001b[0m:\u001b[36msynch_src_sel\u001b[0m:\u001b[36m795\u001b[0m - \u001b[34m\u001b[1mSynchronizing selection in table tt_src_id_map\u001b[0m\n",
      "\u001b[32m2023-10-10 08:37:47.669\u001b[0m | \u001b[34m\u001b[1mDEBUG   \u001b[0m | \u001b[36mvasca.tables\u001b[0m:\u001b[36madd_table\u001b[0m:\u001b[36m157\u001b[0m - \u001b[34m\u001b[1mAdding table 'tt_fields'\u001b[0m\n",
      "\u001b[32m2023-10-10 08:37:47.671\u001b[0m | \u001b[34m\u001b[1mDEBUG   \u001b[0m | \u001b[36mvasca.tables\u001b[0m:\u001b[36madd_table\u001b[0m:\u001b[36m157\u001b[0m - \u001b[34m\u001b[1mAdding table 'tt_filters'\u001b[0m\n",
      "\u001b[32m2023-10-10 08:37:47.674\u001b[0m | \u001b[34m\u001b[1mDEBUG   \u001b[0m | \u001b[36mvasca.tables\u001b[0m:\u001b[36madd_table\u001b[0m:\u001b[36m157\u001b[0m - \u001b[34m\u001b[1mAdding table 'tt_visits'\u001b[0m\n",
      "\u001b[32m2023-10-10 08:37:47.829\u001b[0m | \u001b[34m\u001b[1mDEBUG   \u001b[0m | \u001b[36mvasca.tables\u001b[0m:\u001b[36madd_table\u001b[0m:\u001b[36m157\u001b[0m - \u001b[34m\u001b[1mAdding table 'tt_detections'\u001b[0m\n",
      "\u001b[32m2023-10-10 08:37:48.033\u001b[0m | \u001b[34m\u001b[1mDEBUG   \u001b[0m | \u001b[36mvasca.tables\u001b[0m:\u001b[36madd_table\u001b[0m:\u001b[36m157\u001b[0m - \u001b[34m\u001b[1mAdding table 'tt_coadd_detections'\u001b[0m\n",
      "\u001b[32m2023-10-10 08:37:48.127\u001b[0m | \u001b[34m\u001b[1mDEBUG   \u001b[0m | \u001b[36mvasca.tables\u001b[0m:\u001b[36madd_table\u001b[0m:\u001b[36m157\u001b[0m - \u001b[34m\u001b[1mAdding table 'tt_sources'\u001b[0m\n",
      "\u001b[32m2023-10-10 08:37:48.221\u001b[0m | \u001b[34m\u001b[1mDEBUG   \u001b[0m | \u001b[36mvasca.tables\u001b[0m:\u001b[36madd_table\u001b[0m:\u001b[36m157\u001b[0m - \u001b[34m\u001b[1mAdding table 'tt_coadd_sources'\u001b[0m\n",
      "\u001b[32m2023-10-10 08:37:48.227\u001b[0m | \u001b[34m\u001b[1mDEBUG   \u001b[0m | \u001b[36mvasca.tables\u001b[0m:\u001b[36madd_table\u001b[0m:\u001b[36m157\u001b[0m - \u001b[34m\u001b[1mAdding table 'tt_src_id_map'\u001b[0m\n",
      "\u001b[32m2023-10-10 08:37:48.228\u001b[0m | \u001b[34m\u001b[1mDEBUG   \u001b[0m | \u001b[36mvasca.region\u001b[0m:\u001b[36mcross_match_cds\u001b[0m:\u001b[36m607\u001b[0m - \u001b[34m\u001b[1mQuery simbad table\u001b[0m\n",
      "\u001b[32m2023-10-10 08:37:48.237\u001b[0m | \u001b[34m\u001b[1mDEBUG   \u001b[0m | \u001b[36mvasca.region\u001b[0m:\u001b[36mcross_match_cds\u001b[0m:\u001b[36m652\u001b[0m - \u001b[34m\u001b[1mStarting SIMBAD query for 7117 sources..\u001b[0m\n",
      "\u001b[32m2023-10-10 08:37:52.638\u001b[0m | \u001b[34m\u001b[1mDEBUG   \u001b[0m | \u001b[36mvasca.region\u001b[0m:\u001b[36mcross_match_cds\u001b[0m:\u001b[36m654\u001b[0m - \u001b[34m\u001b[1m..query done.\u001b[0m\n",
      "\u001b[32m2023-10-10 08:37:54.047\u001b[0m | \u001b[34m\u001b[1mDEBUG   \u001b[0m | \u001b[36mvasca.tables\u001b[0m:\u001b[36madd_table\u001b[0m:\u001b[36m157\u001b[0m - \u001b[34m\u001b[1mAdding table 'tt_simbad'\u001b[0m\n",
      "\u001b[32m2023-10-10 08:37:54.080\u001b[0m | \u001b[34m\u001b[1mDEBUG   \u001b[0m | \u001b[36mvasca.tables\u001b[0m:\u001b[36madd_table\u001b[0m:\u001b[36m157\u001b[0m - \u001b[34m\u001b[1mAdding table 'tt_otypes'\u001b[0m\n",
      "\u001b[32m2023-10-10 08:37:54.083\u001b[0m | \u001b[34m\u001b[1mDEBUG   \u001b[0m | \u001b[36mvasca.region\u001b[0m:\u001b[36mcross_match_cds\u001b[0m:\u001b[36m607\u001b[0m - \u001b[34m\u001b[1mQuery I/355/gaiadr3 table\u001b[0m\n",
      "\u001b[32m2023-10-10 08:37:54.098\u001b[0m | \u001b[34m\u001b[1mDEBUG   \u001b[0m | \u001b[36mvasca.region\u001b[0m:\u001b[36mcross_match_cds\u001b[0m:\u001b[36m691\u001b[0m - \u001b[34m\u001b[1mStarting Vizier query for 7117 sources..\u001b[0m\n"
     ]
    }
   ],
   "source": [
    "%matplotlib widget\n",
    "import ipywidgets as widgets\n",
    "from IPython.display import display\n",
    "import matplotlib.pyplot as plt\n",
    "import numpy as np\n",
    "\n",
    "from astropy.coordinates import SkyCoord\n",
    "from astropy.table import unique, Table, hstack, join, setdiff\n",
    "from astropy import units as uu\n",
    "from astroquery.simbad import Simbad\n",
    "from astropy.visualization import quantity_support\n",
    "from astropy.modeling.models import BlackBody\n",
    "from astropy import constants as cc\n",
    "from matplotlib.ticker import ScalarFormatter\n",
    "from astroquery.sdss import SDSS\n",
    "\n",
    "from vasca.region import Region\n",
    "from vasca.field import BaseField\n",
    "import vasca.visualization as vvis\n",
    "from vasca.tables import TableCollection, dd_vasca_columns\n",
    "from vasca.utils import otype2ogroup,dd_ogrp2otypes, dd_ogrp2col, dd_filter2wavelength, mag2flux, flux2mag, query_vizier_sed\n",
    "\n",
    "from loguru import logger\n",
    "logger.enable(\"vasca\")\n",
    "\n",
    "# Do catalog file\n",
    "if do_cat:\n",
    "    rg = Region()\n",
    "    rg.load_from_fits(region_fname)\n",
    "    rc = rg.get_region_catalog()\n",
    "else:\n",
    "    rc = rg.load_from_fits(region_cat_fname)\n",
    "\n",
    "#Cross match to SIMBAD and GAIA\n",
    "if do_cross_match:\n",
    "    rc.cross_match_cds(query_table=\"simbad\")\n",
    "    rc.cross_match_cds()\n",
    "rc.write_to_fits(region_cat_fname, overwrite=True)\n",
    "\n",
    "#Prepare sources, including Vizier SED.\n",
    "if do_src_prep:\n",
    "    for src_id in srcs_ids:\n",
    "        tc_src = rc.get_src_from_id(src_id, load_from_file = False)\n",
    "print(\"Done\")"
   ]
  }
 ],
 "metadata": {
  "kernelspec": {
   "display_name": "Python 3 (ipykernel)",
   "language": "python",
   "name": "python3"
  },
  "language_info": {
   "codemirror_mode": {
    "name": "ipython",
    "version": 3
   },
   "file_extension": ".py",
   "mimetype": "text/x-python",
   "name": "python",
   "nbconvert_exporter": "python",
   "pygments_lexer": "ipython3",
   "version": "3.10.12"
  }
 },
 "nbformat": 4,
 "nbformat_minor": 5
}
