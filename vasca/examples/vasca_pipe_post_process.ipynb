{
 "cells": [
  {
   "cell_type": "code",
   "execution_count": 1,
   "id": "950c4fbe-f5d0-447c-9d74-25af6ff290bf",
   "metadata": {},
   "outputs": [],
   "source": [
    "region_name = \"ALL_10-800\" #\"CAINGSGII_10-800\"  #\"TDS\" #\"CAINGSGII_10-800\"  #\"TDS\" # \"MDIS_10-800\" # \"TDS\" # _ELAISN1\n",
    "region_fname = \"./vasca_pipeline/\"+region_name+\"/region_\"+region_name+\".fits\"\n",
    "\n",
    "srcs_ids = []\n",
    "srcs_ids = [55034 ,61491 ,64360 ,73354 ,76243 ,92867 ,104078 ,106745 ,226975 ,267514 ,588567 ,599887 ,]  # WDs ALL"
   ]
  },
  {
   "cell_type": "code",
   "execution_count": 2,
   "id": "937306a8-d6b3-45dd-981d-421919026ddb",
   "metadata": {},
   "outputs": [
    {
     "name": "stderr",
     "output_type": "stream",
     "text": [
      "\u001b[32m2023-10-06 15:25:58.212\u001b[0m | \u001b[34m\u001b[1mDEBUG   \u001b[0m | \u001b[36mvasca.tables\u001b[0m:\u001b[36mload_from_fits\u001b[0m:\u001b[36m328\u001b[0m - \u001b[34m\u001b[1mLoading file with name './vasca_pipeline/ALL_10-800/region_ALL_10-800.fits'\u001b[0m\n",
      "\u001b[32m2023-10-06 15:25:58.220\u001b[0m | \u001b[34m\u001b[1mDEBUG   \u001b[0m | \u001b[36mvasca.tables\u001b[0m:\u001b[36mload_from_fits\u001b[0m:\u001b[36m339\u001b[0m - \u001b[34m\u001b[1mLoading table 'tt_fields'\u001b[0m\n",
      "\u001b[32m2023-10-06 15:25:58.246\u001b[0m | \u001b[34m\u001b[1mDEBUG   \u001b[0m | \u001b[36mvasca.tables\u001b[0m:\u001b[36mload_from_fits\u001b[0m:\u001b[36m339\u001b[0m - \u001b[34m\u001b[1mLoading table 'tt_filters'\u001b[0m\n",
      "\u001b[32m2023-10-06 15:25:58.256\u001b[0m | \u001b[34m\u001b[1mDEBUG   \u001b[0m | \u001b[36mvasca.tables\u001b[0m:\u001b[36mload_from_fits\u001b[0m:\u001b[36m339\u001b[0m - \u001b[34m\u001b[1mLoading table 'tt_visits'\u001b[0m\n",
      "\u001b[32m2023-10-06 15:25:58.270\u001b[0m | \u001b[34m\u001b[1mDEBUG   \u001b[0m | \u001b[36mvasca.tables\u001b[0m:\u001b[36mload_from_fits\u001b[0m:\u001b[36m339\u001b[0m - \u001b[34m\u001b[1mLoading table 'tt_detections'\u001b[0m\n",
      "\u001b[32m2023-10-06 15:25:58.843\u001b[0m | \u001b[34m\u001b[1mDEBUG   \u001b[0m | \u001b[36mvasca.tables\u001b[0m:\u001b[36mload_from_fits\u001b[0m:\u001b[36m339\u001b[0m - \u001b[34m\u001b[1mLoading table 'tt_coadd_detections'\u001b[0m\n",
      "\u001b[32m2023-10-06 15:25:59.046\u001b[0m | \u001b[34m\u001b[1mDEBUG   \u001b[0m | \u001b[36mvasca.tables\u001b[0m:\u001b[36mload_from_fits\u001b[0m:\u001b[36m339\u001b[0m - \u001b[34m\u001b[1mLoading table 'tt_sources'\u001b[0m\n",
      "\u001b[32m2023-10-06 15:25:59.285\u001b[0m | \u001b[34m\u001b[1mDEBUG   \u001b[0m | \u001b[36mvasca.tables\u001b[0m:\u001b[36mload_from_fits\u001b[0m:\u001b[36m339\u001b[0m - \u001b[34m\u001b[1mLoading table 'tt_coadd_sources'\u001b[0m\n",
      "\u001b[32m2023-10-06 15:25:59.897\u001b[0m | \u001b[34m\u001b[1mDEBUG   \u001b[0m | \u001b[36mvasca.tables\u001b[0m:\u001b[36mload_from_fits\u001b[0m:\u001b[36m339\u001b[0m - \u001b[34m\u001b[1mLoading table 'tt_src_id_map'\u001b[0m\n",
      "\u001b[32m2023-10-06 15:25:59.922\u001b[0m | \u001b[34m\u001b[1mDEBUG   \u001b[0m | \u001b[36mvasca.region\u001b[0m:\u001b[36msynch_src_sel\u001b[0m:\u001b[36m784\u001b[0m - \u001b[34m\u001b[1mSynchronizing selection in table tt_detections\u001b[0m\n",
      "\u001b[32m2023-10-06 15:26:00.052\u001b[0m | \u001b[34m\u001b[1mDEBUG   \u001b[0m | \u001b[36mvasca.region\u001b[0m:\u001b[36msynch_src_sel\u001b[0m:\u001b[36m784\u001b[0m - \u001b[34m\u001b[1mSynchronizing selection in table tt_sources\u001b[0m\n",
      "\u001b[32m2023-10-06 15:26:00.068\u001b[0m | \u001b[34m\u001b[1mDEBUG   \u001b[0m | \u001b[36mvasca.region\u001b[0m:\u001b[36msynch_src_sel\u001b[0m:\u001b[36m784\u001b[0m - \u001b[34m\u001b[1mSynchronizing selection in table tt_coadd_sources\u001b[0m\n",
      "\u001b[32m2023-10-06 15:26:00.137\u001b[0m | \u001b[34m\u001b[1mDEBUG   \u001b[0m | \u001b[36mvasca.region\u001b[0m:\u001b[36msynch_src_sel\u001b[0m:\u001b[36m784\u001b[0m - \u001b[34m\u001b[1mSynchronizing selection in table tt_src_id_map\u001b[0m\n",
      "\u001b[32m2023-10-06 15:26:00.151\u001b[0m | \u001b[34m\u001b[1mDEBUG   \u001b[0m | \u001b[36mvasca.tables\u001b[0m:\u001b[36madd_table\u001b[0m:\u001b[36m157\u001b[0m - \u001b[34m\u001b[1mAdding table 'tt_fields'\u001b[0m\n",
      "\u001b[32m2023-10-06 15:26:00.153\u001b[0m | \u001b[34m\u001b[1mDEBUG   \u001b[0m | \u001b[36mvasca.tables\u001b[0m:\u001b[36madd_table\u001b[0m:\u001b[36m157\u001b[0m - \u001b[34m\u001b[1mAdding table 'tt_filters'\u001b[0m\n",
      "\u001b[32m2023-10-06 15:26:00.154\u001b[0m | \u001b[34m\u001b[1mDEBUG   \u001b[0m | \u001b[36mvasca.tables\u001b[0m:\u001b[36madd_table\u001b[0m:\u001b[36m157\u001b[0m - \u001b[34m\u001b[1mAdding table 'tt_visits'\u001b[0m\n",
      "\u001b[32m2023-10-06 15:26:00.301\u001b[0m | \u001b[34m\u001b[1mDEBUG   \u001b[0m | \u001b[36mvasca.tables\u001b[0m:\u001b[36madd_table\u001b[0m:\u001b[36m157\u001b[0m - \u001b[34m\u001b[1mAdding table 'tt_detections'\u001b[0m\n",
      "\u001b[32m2023-10-06 15:26:00.500\u001b[0m | \u001b[34m\u001b[1mDEBUG   \u001b[0m | \u001b[36mvasca.tables\u001b[0m:\u001b[36madd_table\u001b[0m:\u001b[36m157\u001b[0m - \u001b[34m\u001b[1mAdding table 'tt_coadd_detections'\u001b[0m\n",
      "\u001b[32m2023-10-06 15:26:00.595\u001b[0m | \u001b[34m\u001b[1mDEBUG   \u001b[0m | \u001b[36mvasca.tables\u001b[0m:\u001b[36madd_table\u001b[0m:\u001b[36m157\u001b[0m - \u001b[34m\u001b[1mAdding table 'tt_sources'\u001b[0m\n",
      "\u001b[32m2023-10-06 15:26:00.695\u001b[0m | \u001b[34m\u001b[1mDEBUG   \u001b[0m | \u001b[36mvasca.tables\u001b[0m:\u001b[36madd_table\u001b[0m:\u001b[36m157\u001b[0m - \u001b[34m\u001b[1mAdding table 'tt_coadd_sources'\u001b[0m\n",
      "\u001b[32m2023-10-06 15:26:00.701\u001b[0m | \u001b[34m\u001b[1mDEBUG   \u001b[0m | \u001b[36mvasca.tables\u001b[0m:\u001b[36madd_table\u001b[0m:\u001b[36m157\u001b[0m - \u001b[34m\u001b[1mAdding table 'tt_src_id_map'\u001b[0m\n",
      "\u001b[32m2023-10-06 15:26:00.702\u001b[0m | \u001b[34m\u001b[1mDEBUG   \u001b[0m | \u001b[36mvasca.region\u001b[0m:\u001b[36mcross_match_cds\u001b[0m:\u001b[36m602\u001b[0m - \u001b[34m\u001b[1mQuery simbad table\u001b[0m\n",
      "\u001b[32m2023-10-06 15:26:00.710\u001b[0m | \u001b[34m\u001b[1mDEBUG   \u001b[0m | \u001b[36mvasca.region\u001b[0m:\u001b[36mcross_match_cds\u001b[0m:\u001b[36m645\u001b[0m - \u001b[34m\u001b[1mStarting SIMBAD query for 100 sources..\u001b[0m\n",
      "\u001b[32m2023-10-06 15:26:02.373\u001b[0m | \u001b[34m\u001b[1mDEBUG   \u001b[0m | \u001b[36mvasca.region\u001b[0m:\u001b[36mcross_match_cds\u001b[0m:\u001b[36m647\u001b[0m - \u001b[34m\u001b[1m..query done.\u001b[0m\n",
      "\u001b[32m2023-10-06 15:26:02.469\u001b[0m | \u001b[34m\u001b[1mDEBUG   \u001b[0m | \u001b[36mvasca.tables\u001b[0m:\u001b[36madd_table\u001b[0m:\u001b[36m157\u001b[0m - \u001b[34m\u001b[1mAdding table 'tt_simbad'\u001b[0m\n",
      "\u001b[32m2023-10-06 15:26:02.496\u001b[0m | \u001b[34m\u001b[1mDEBUG   \u001b[0m | \u001b[36mvasca.tables\u001b[0m:\u001b[36madd_table\u001b[0m:\u001b[36m157\u001b[0m - \u001b[34m\u001b[1mAdding table 'tt_otypes'\u001b[0m\n",
      "\u001b[32m2023-10-06 15:26:02.499\u001b[0m | \u001b[34m\u001b[1mDEBUG   \u001b[0m | \u001b[36mvasca.region\u001b[0m:\u001b[36mcross_match_cds\u001b[0m:\u001b[36m602\u001b[0m - \u001b[34m\u001b[1mQuery I/355/gaiadr3 table\u001b[0m\n",
      "\u001b[32m2023-10-06 15:26:02.513\u001b[0m | \u001b[34m\u001b[1mDEBUG   \u001b[0m | \u001b[36mvasca.region\u001b[0m:\u001b[36mcross_match_cds\u001b[0m:\u001b[36m684\u001b[0m - \u001b[34m\u001b[1mStarting Vizier query for 100 sources..\u001b[0m\n",
      "\u001b[32m2023-10-06 15:26:02.608\u001b[0m | \u001b[34m\u001b[1mDEBUG   \u001b[0m | \u001b[36mvasca.region\u001b[0m:\u001b[36mcross_match_cds\u001b[0m:\u001b[36m691\u001b[0m - \u001b[34m\u001b[1m..query done.\u001b[0m\n",
      "\u001b[32m2023-10-06 15:26:02.659\u001b[0m | \u001b[34m\u001b[1mDEBUG   \u001b[0m | \u001b[36mvasca.tables\u001b[0m:\u001b[36madd_table\u001b[0m:\u001b[36m157\u001b[0m - \u001b[34m\u001b[1mAdding table 'tt_gaiadr3'\u001b[0m\n"
     ]
    },
    {
     "ename": "TypeError",
     "evalue": "str.replace() takes no keyword arguments",
     "output_type": "error",
     "traceback": [
      "\u001b[0;31m---------------------------------------------------------------------------\u001b[0m",
      "\u001b[0;31mTypeError\u001b[0m                                 Traceback (most recent call last)",
      "\u001b[0;32m/tmp/ipykernel_41795/1615788758.py\u001b[0m in \u001b[0;36m<cell line: 31>\u001b[0;34m()\u001b[0m\n\u001b[1;32m     29\u001b[0m \u001b[0mrc\u001b[0m\u001b[0;34m.\u001b[0m\u001b[0mcross_match_cds\u001b[0m\u001b[0;34m(\u001b[0m\u001b[0mquery_table\u001b[0m\u001b[0;34m=\u001b[0m\u001b[0;34m\"simbad\"\u001b[0m\u001b[0;34m)\u001b[0m\u001b[0;34m\u001b[0m\u001b[0;34m\u001b[0m\u001b[0m\n\u001b[1;32m     30\u001b[0m \u001b[0mrc\u001b[0m\u001b[0;34m.\u001b[0m\u001b[0mcross_match_cds\u001b[0m\u001b[0;34m(\u001b[0m\u001b[0;34m)\u001b[0m\u001b[0;34m\u001b[0m\u001b[0;34m\u001b[0m\u001b[0m\n\u001b[0;32m---> 31\u001b[0;31m \u001b[0mrc\u001b[0m\u001b[0;34m.\u001b[0m\u001b[0mwrite_to_fits\u001b[0m\u001b[0;34m(\u001b[0m\u001b[0mregion_fname\u001b[0m\u001b[0;34m.\u001b[0m\u001b[0mreplace\u001b[0m\u001b[0;34m(\u001b[0m\u001b[0;34m\".fits\"\u001b[0m\u001b[0;34m,\u001b[0m\u001b[0;34m\"_cat.fits\"\u001b[0m\u001b[0;34m,\u001b[0m \u001b[0moverwrite\u001b[0m\u001b[0;34m=\u001b[0m\u001b[0;32mTrue\u001b[0m\u001b[0;34m)\u001b[0m\u001b[0;34m)\u001b[0m\u001b[0;34m\u001b[0m\u001b[0;34m\u001b[0m\u001b[0m\n\u001b[0m",
      "\u001b[0;31mTypeError\u001b[0m: str.replace() takes no keyword arguments"
     ]
    }
   ],
   "source": [
    "%matplotlib widget\n",
    "import ipywidgets as widgets\n",
    "from IPython.display import display\n",
    "import matplotlib.pyplot as plt\n",
    "import numpy as np\n",
    "\n",
    "from astropy.coordinates import SkyCoord\n",
    "from astropy.table import unique, Table, hstack, join, setdiff\n",
    "from astropy import units as uu\n",
    "from astroquery.simbad import Simbad\n",
    "from astropy.visualization import quantity_support\n",
    "from astropy.modeling.models import BlackBody\n",
    "from astropy import constants as cc\n",
    "from matplotlib.ticker import ScalarFormatter\n",
    "from astroquery.sdss import SDSS\n",
    "\n",
    "from vasca.region import Region\n",
    "from vasca.field import BaseField\n",
    "import vasca.visualization as vvis\n",
    "from vasca.tables import TableCollection, dd_vasca_columns\n",
    "from vasca.utils import otype2ogroup,dd_ogrp2otypes, dd_ogrp2col, dd_filter2wavelength, mag2flux, flux2mag, query_vizier_sed\n",
    "\n",
    "from loguru import logger\n",
    "logger.enable(\"vasca\")\n",
    "\n",
    "rg = Region()\n",
    "rg.load_from_fits(region_fname)\n",
    "rc = rg.get_region_catalog()\n",
    "rc.cross_match_cds(query_table=\"simbad\")\n",
    "rc.cross_match_cds()\n",
    "rc.write_to_fits(region_fname.replace(\".fits\",\"_cat.fits\"), overwrite=True)"
   ]
  }
 ],
 "metadata": {
  "kernelspec": {
   "display_name": "Python 3 (ipykernel)",
   "language": "python",
   "name": "python3"
  },
  "language_info": {
   "codemirror_mode": {
    "name": "ipython",
    "version": 3
   },
   "file_extension": ".py",
   "mimetype": "text/x-python",
   "name": "python",
   "nbconvert_exporter": "python",
   "pygments_lexer": "ipython3",
   "version": "3.10.12"
  }
 },
 "nbformat": 4,
 "nbformat_minor": 5
}
