{
 "cells": [
  {
   "cell_type": "markdown",
   "id": "b2195104-c49a-480d-94ea-bbb27979e84c",
   "metadata": {},
   "source": [
    "# Post-process vasca_pipe results\n",
    "Make catalog file of selected sources only, associate and get store additional info for listed sources"
   ]
  },
  {
   "cell_type": "code",
   "execution_count": 1,
   "id": "950c4fbe-f5d0-447c-9d74-25af6ff290bf",
   "metadata": {},
   "outputs": [],
   "source": [
    "region_name = \"ALL_10-800_LOOSE\" #\"CAINGSGII_10-800\"  #\"TDS\" #\"CAINGSGII_10-800\"  #\"TDS\" # \"MDIS_10-800\" # \"TDS\" # _ELAISN1\n",
    "region_fname = \"./vasca_pipeline/\"+region_name+\"/region_\"+region_name+\".fits\"\n",
    "region_cat_fname = region_fname.replace(\".fits\",\"_cat.fits\")\n",
    "\n",
    "do_cat = False                        # Recreate catalog file from vasca_pipe output region\n",
    "do_cross_match = False                  # Does source matching with CDS\n",
    "do_src_prep = True                  # Gets additional info for sources listes in srcs_ids list below.\n",
    "do_variable_addition = False        # Adds variables of matched sources to tt_sources\n",
    "do_LombScargle = False\n",
    "\n",
    "\n",
    "srcs_ids = [4993 ,13580 ,14504 ,30475 ,50388 ,52994 ,79477 ,120265 ,138783 ,139480 ,162697 ,204419 ,221349 ,228958 ,236839 ,253214 ,253670\n",
    "            ,256433 ,261213 ,331466 ,340464 ,381336 ,390864 ,489430 ,498065 ,525310 ,532554 ,533185 ,540235 ,583838 ,639720 ,645215 ,645730\n",
    "            ,659787 ,666224 ,673175 ,680119 ,691408 ,714140 ,764827 ,1037284 ,1069077 ,1070938 ,1805505 ,1839206 ,2527679 ,3074917 ,] # WD ALL_10-800-LOOSE\n",
    "srcs_ids = [4993,14504,52994,120265,221349,236839,253214,381336,525310,533185,639720,666224,673175,680119,1070938] # # WD ALL_10-800-LOOSE BB SED# Additional candidates 139480,204419,532554,659787,79477,"
   ]
  },
  {
   "cell_type": "code",
   "execution_count": 2,
   "id": "937306a8-d6b3-45dd-981d-421919026ddb",
   "metadata": {},
   "outputs": [
    {
     "name": "stderr",
     "output_type": "stream",
     "text": [
      "\u001b[32m2023-11-15 11:30:34.456\u001b[0m | \u001b[34m\u001b[1mDEBUG   \u001b[0m | \u001b[36mvasca.tables\u001b[0m:\u001b[36mload_from_fits\u001b[0m:\u001b[36m330\u001b[0m - \u001b[34m\u001b[1mLoading file with name './vasca_pipeline/ALL_10-800_LOOSE/region_ALL_10-800_LOOSE_cat.fits'\u001b[0m\n",
      "\u001b[32m2023-11-15 11:30:34.464\u001b[0m | \u001b[34m\u001b[1mDEBUG   \u001b[0m | \u001b[36mvasca.tables\u001b[0m:\u001b[36mload_from_fits\u001b[0m:\u001b[36m341\u001b[0m - \u001b[34m\u001b[1mLoading table 'tt_fields'\u001b[0m\n",
      "\u001b[32m2023-11-15 11:30:34.478\u001b[0m | \u001b[34m\u001b[1mDEBUG   \u001b[0m | \u001b[36mvasca.tables\u001b[0m:\u001b[36mload_from_fits\u001b[0m:\u001b[36m341\u001b[0m - \u001b[34m\u001b[1mLoading table 'tt_filters'\u001b[0m\n",
      "\u001b[32m2023-11-15 11:30:34.484\u001b[0m | \u001b[34m\u001b[1mDEBUG   \u001b[0m | \u001b[36mvasca.tables\u001b[0m:\u001b[36mload_from_fits\u001b[0m:\u001b[36m341\u001b[0m - \u001b[34m\u001b[1mLoading table 'tt_visits'\u001b[0m\n",
      "\u001b[32m2023-11-15 11:30:34.492\u001b[0m | \u001b[34m\u001b[1mDEBUG   \u001b[0m | \u001b[36mvasca.tables\u001b[0m:\u001b[36mload_from_fits\u001b[0m:\u001b[36m341\u001b[0m - \u001b[34m\u001b[1mLoading table 'tt_sources'\u001b[0m\n",
      "\u001b[32m2023-11-15 11:30:34.518\u001b[0m | \u001b[34m\u001b[1mDEBUG   \u001b[0m | \u001b[36mvasca.tables\u001b[0m:\u001b[36mload_from_fits\u001b[0m:\u001b[36m341\u001b[0m - \u001b[34m\u001b[1mLoading table 'tt_detections'\u001b[0m\n",
      "\u001b[32m2023-11-15 11:30:34.560\u001b[0m | \u001b[34m\u001b[1mDEBUG   \u001b[0m | \u001b[36mvasca.tables\u001b[0m:\u001b[36mload_from_fits\u001b[0m:\u001b[36m341\u001b[0m - \u001b[34m\u001b[1mLoading table 'tt_coadd_detections'\u001b[0m\n",
      "\u001b[32m2023-11-15 11:30:34.651\u001b[0m | \u001b[34m\u001b[1mDEBUG   \u001b[0m | \u001b[36mvasca.tables\u001b[0m:\u001b[36mload_from_fits\u001b[0m:\u001b[36m341\u001b[0m - \u001b[34m\u001b[1mLoading table 'tt_coadd_sources'\u001b[0m\n",
      "\u001b[32m2023-11-15 11:30:34.669\u001b[0m | \u001b[34m\u001b[1mDEBUG   \u001b[0m | \u001b[36mvasca.tables\u001b[0m:\u001b[36mload_from_fits\u001b[0m:\u001b[36m341\u001b[0m - \u001b[34m\u001b[1mLoading table 'tt_src_id_map'\u001b[0m\n",
      "\u001b[32m2023-11-15 11:30:34.678\u001b[0m | \u001b[34m\u001b[1mDEBUG   \u001b[0m | \u001b[36mvasca.tables\u001b[0m:\u001b[36mload_from_fits\u001b[0m:\u001b[36m341\u001b[0m - \u001b[34m\u001b[1mLoading table 'tt_simbad'\u001b[0m\n",
      "\u001b[32m2023-11-15 11:30:34.713\u001b[0m | \u001b[34m\u001b[1mDEBUG   \u001b[0m | \u001b[36mvasca.tables\u001b[0m:\u001b[36mload_from_fits\u001b[0m:\u001b[36m341\u001b[0m - \u001b[34m\u001b[1mLoading table 'tt_lombscargle'\u001b[0m\n",
      "\u001b[32m2023-11-15 11:30:34.723\u001b[0m | \u001b[34m\u001b[1mDEBUG   \u001b[0m | \u001b[36mvasca.tables\u001b[0m:\u001b[36mload_from_fits\u001b[0m:\u001b[36m341\u001b[0m - \u001b[34m\u001b[1mLoading table 'tt_gaiadr3'\u001b[0m\n",
      "WARNING: UnitsWarning: 'log(cm.s**-2)' did not parse as fits unit: 'log' is not a recognized function If this is meant to be a custom unit, define it with 'u.def_unit'. To have it recognized inside a file reader or other code, enable it with 'u.add_enabled_units'. For details, see https://docs.astropy.org/en/latest/units/combining_and_defining.html [astropy.units.core]\n",
      "\u001b[32m2023-11-15 11:30:34.804\u001b[0m | \u001b[34m\u001b[1mDEBUG   \u001b[0m | \u001b[36mvasca.tables\u001b[0m:\u001b[36mload_from_fits\u001b[0m:\u001b[36m341\u001b[0m - \u001b[34m\u001b[1mLoading table 'tt_gfcat'\u001b[0m\n",
      "\u001b[32m2023-11-15 11:30:34.817\u001b[0m | \u001b[1mINFO    \u001b[0m | \u001b[36mvasca.tables\u001b[0m:\u001b[36mwrite_to_fits\u001b[0m:\u001b[36m224\u001b[0m - \u001b[1mWriting file with name './vasca_pipeline/ALL_10-800_LOOSE/region_ALL_10-800_LOOSE_cat.fits'\u001b[0m\n",
      "\u001b[32m2023-11-15 11:30:34.833\u001b[0m | \u001b[34m\u001b[1mDEBUG   \u001b[0m | \u001b[36mvasca.tables\u001b[0m:\u001b[36mwrite_to_fits\u001b[0m:\u001b[36m264\u001b[0m - \u001b[34m\u001b[1mWriting table 'tt_fields'\u001b[0m\n",
      "\u001b[32m2023-11-15 11:30:34.846\u001b[0m | \u001b[34m\u001b[1mDEBUG   \u001b[0m | \u001b[36mvasca.tables\u001b[0m:\u001b[36mwrite_to_fits\u001b[0m:\u001b[36m264\u001b[0m - \u001b[34m\u001b[1mWriting table 'tt_filters'\u001b[0m\n",
      "\u001b[32m2023-11-15 11:30:34.850\u001b[0m | \u001b[34m\u001b[1mDEBUG   \u001b[0m | \u001b[36mvasca.tables\u001b[0m:\u001b[36mwrite_to_fits\u001b[0m:\u001b[36m264\u001b[0m - \u001b[34m\u001b[1mWriting table 'tt_visits'\u001b[0m\n",
      "\u001b[32m2023-11-15 11:30:34.856\u001b[0m | \u001b[34m\u001b[1mDEBUG   \u001b[0m | \u001b[36mvasca.tables\u001b[0m:\u001b[36mwrite_to_fits\u001b[0m:\u001b[36m264\u001b[0m - \u001b[34m\u001b[1mWriting table 'tt_sources'\u001b[0m\n",
      "\u001b[32m2023-11-15 11:30:34.899\u001b[0m | \u001b[34m\u001b[1mDEBUG   \u001b[0m | \u001b[36mvasca.tables\u001b[0m:\u001b[36mwrite_to_fits\u001b[0m:\u001b[36m264\u001b[0m - \u001b[34m\u001b[1mWriting table 'tt_detections'\u001b[0m\n",
      "\u001b[32m2023-11-15 11:30:35.061\u001b[0m | \u001b[34m\u001b[1mDEBUG   \u001b[0m | \u001b[36mvasca.tables\u001b[0m:\u001b[36mwrite_to_fits\u001b[0m:\u001b[36m264\u001b[0m - \u001b[34m\u001b[1mWriting table 'tt_coadd_detections'\u001b[0m\n",
      "\u001b[32m2023-11-15 11:30:35.613\u001b[0m | \u001b[34m\u001b[1mDEBUG   \u001b[0m | \u001b[36mvasca.tables\u001b[0m:\u001b[36mwrite_to_fits\u001b[0m:\u001b[36m264\u001b[0m - \u001b[34m\u001b[1mWriting table 'tt_coadd_sources'\u001b[0m\n",
      "\u001b[32m2023-11-15 11:30:35.634\u001b[0m | \u001b[34m\u001b[1mDEBUG   \u001b[0m | \u001b[36mvasca.tables\u001b[0m:\u001b[36mwrite_to_fits\u001b[0m:\u001b[36m264\u001b[0m - \u001b[34m\u001b[1mWriting table 'tt_src_id_map'\u001b[0m\n",
      "\u001b[32m2023-11-15 11:30:35.640\u001b[0m | \u001b[34m\u001b[1mDEBUG   \u001b[0m | \u001b[36mvasca.tables\u001b[0m:\u001b[36mwrite_to_fits\u001b[0m:\u001b[36m264\u001b[0m - \u001b[34m\u001b[1mWriting table 'tt_simbad'\u001b[0m\n",
      "WARNING: VerifyWarning: Keyword name 'description' is greater than 8 characters or contains characters not allowed by the FITS standard; a HIERARCH card will be created. [astropy.io.fits.card]\n",
      "\u001b[32m2023-11-15 11:30:35.698\u001b[0m | \u001b[34m\u001b[1mDEBUG   \u001b[0m | \u001b[36mvasca.tables\u001b[0m:\u001b[36mwrite_to_fits\u001b[0m:\u001b[36m264\u001b[0m - \u001b[34m\u001b[1mWriting table 'tt_lombscargle'\u001b[0m\n",
      "\u001b[32m2023-11-15 11:30:35.705\u001b[0m | \u001b[34m\u001b[1mDEBUG   \u001b[0m | \u001b[36mvasca.tables\u001b[0m:\u001b[36mwrite_to_fits\u001b[0m:\u001b[36m264\u001b[0m - \u001b[34m\u001b[1mWriting table 'tt_gaiadr3'\u001b[0m\n",
      "\u001b[32m2023-11-15 11:30:35.878\u001b[0m | \u001b[34m\u001b[1mDEBUG   \u001b[0m | \u001b[36mvasca.tables\u001b[0m:\u001b[36mwrite_to_fits\u001b[0m:\u001b[36m264\u001b[0m - \u001b[34m\u001b[1mWriting table 'tt_gfcat'\u001b[0m\n",
      "\u001b[32m2023-11-15 11:30:36.038\u001b[0m | \u001b[34m\u001b[1mDEBUG   \u001b[0m | \u001b[36mvasca.region\u001b[0m:\u001b[36mget_src_from_id\u001b[0m:\u001b[36m337\u001b[0m - \u001b[34m\u001b[1mGetting Source object for rg_src_id: 4993\u001b[0m\n",
      "\u001b[32m2023-11-15 11:30:36.042\u001b[0m | \u001b[34m\u001b[1mDEBUG   \u001b[0m | \u001b[36mvasca.tables\u001b[0m:\u001b[36madd_table\u001b[0m:\u001b[36m159\u001b[0m - \u001b[34m\u001b[1mAdding table 'tt_sources'\u001b[0m\n",
      "\u001b[32m2023-11-15 11:30:36.068\u001b[0m | \u001b[34m\u001b[1mDEBUG   \u001b[0m | \u001b[36mvasca.tables\u001b[0m:\u001b[36madd_table\u001b[0m:\u001b[36m159\u001b[0m - \u001b[34m\u001b[1mAdding table 'tt_detections'\u001b[0m\n",
      "\u001b[32m2023-11-15 11:30:36.075\u001b[0m | \u001b[34m\u001b[1mDEBUG   \u001b[0m | \u001b[36mvasca.tables\u001b[0m:\u001b[36madd_table\u001b[0m:\u001b[36m159\u001b[0m - \u001b[34m\u001b[1mAdding table 'tt_simbad'\u001b[0m\n",
      "\u001b[32m2023-11-15 11:30:36.088\u001b[0m | \u001b[34m\u001b[1mDEBUG   \u001b[0m | \u001b[36mvasca.tables\u001b[0m:\u001b[36madd_table\u001b[0m:\u001b[36m159\u001b[0m - \u001b[34m\u001b[1mAdding table 'tt_gaiadr3'\u001b[0m\n",
      "\u001b[32m2023-11-15 11:30:36.096\u001b[0m | \u001b[34m\u001b[1mDEBUG   \u001b[0m | \u001b[36mvasca.tables\u001b[0m:\u001b[36madd_table\u001b[0m:\u001b[36m159\u001b[0m - \u001b[34m\u001b[1mAdding table 'tt_lombscargle'\u001b[0m\n",
      "\u001b[32m2023-11-15 11:30:36.101\u001b[0m | \u001b[34m\u001b[1mDEBUG   \u001b[0m | \u001b[36mvasca.tables\u001b[0m:\u001b[36madd_table\u001b[0m:\u001b[36m159\u001b[0m - \u001b[34m\u001b[1mAdding table 'tt_visits'\u001b[0m\n",
      "\u001b[32m2023-11-15 11:30:36.103\u001b[0m | \u001b[34m\u001b[1mDEBUG   \u001b[0m | \u001b[36mvasca.tables\u001b[0m:\u001b[36madd_table\u001b[0m:\u001b[36m159\u001b[0m - \u001b[34m\u001b[1mAdding table 'tt_fields'\u001b[0m\n",
      "\u001b[32m2023-11-15 11:30:36.104\u001b[0m | \u001b[34m\u001b[1mDEBUG   \u001b[0m | \u001b[36mvasca.tables\u001b[0m:\u001b[36madd_table\u001b[0m:\u001b[36m159\u001b[0m - \u001b[34m\u001b[1mAdding table 'tt_filters'\u001b[0m\n",
      "\u001b[32m2023-11-15 11:30:36.116\u001b[0m | \u001b[34m\u001b[1mDEBUG   \u001b[0m | \u001b[36mvasca.tables\u001b[0m:\u001b[36madd_table\u001b[0m:\u001b[36m159\u001b[0m - \u001b[34m\u001b[1mAdding table 'tt_source_lc'\u001b[0m\n"
     ]
    },
    {
     "name": "stdout",
     "output_type": "stream",
     "text": [
      "*********** Creating Source Table ID 4993 *****************\n"
     ]
    },
    {
     "name": "stderr",
     "output_type": "stream",
     "text": [
      "\u001b[32m2023-11-15 11:30:36.457\u001b[0m | \u001b[34m\u001b[1mDEBUG   \u001b[0m | \u001b[36mvasca.tables\u001b[0m:\u001b[36madd_table\u001b[0m:\u001b[36m159\u001b[0m - \u001b[34m\u001b[1mAdding table 'region:tt_sed'\u001b[0m\n",
      "\u001b[32m2023-11-15 11:30:36.465\u001b[0m | \u001b[33m\u001b[1mWARNING \u001b[0m | \u001b[36mvasca.source\u001b[0m:\u001b[36madd_vizier_SED\u001b[0m:\u001b[36m100\u001b[0m - \u001b[33m\u001b[1mSkipping row as flux contains nan\u001b[0m\n",
      "\u001b[32m2023-11-15 11:30:36.466\u001b[0m | \u001b[33m\u001b[1mWARNING \u001b[0m | \u001b[36mvasca.source\u001b[0m:\u001b[36madd_vizier_SED\u001b[0m:\u001b[36m100\u001b[0m - \u001b[33m\u001b[1mSkipping row as flux contains nan\u001b[0m\n",
      "\u001b[32m2023-11-15 11:30:36.466\u001b[0m | \u001b[33m\u001b[1mWARNING \u001b[0m | \u001b[36mvasca.source\u001b[0m:\u001b[36madd_vizier_SED\u001b[0m:\u001b[36m100\u001b[0m - \u001b[33m\u001b[1mSkipping row as flux contains nan\u001b[0m\n",
      "\u001b[32m2023-11-15 11:30:36.466\u001b[0m | \u001b[33m\u001b[1mWARNING \u001b[0m | \u001b[36mvasca.source\u001b[0m:\u001b[36madd_vizier_SED\u001b[0m:\u001b[36m100\u001b[0m - \u001b[33m\u001b[1mSkipping row as flux contains nan\u001b[0m\n",
      "\u001b[32m2023-11-15 11:30:36.467\u001b[0m | \u001b[33m\u001b[1mWARNING \u001b[0m | \u001b[36mvasca.source\u001b[0m:\u001b[36madd_vizier_SED\u001b[0m:\u001b[36m100\u001b[0m - \u001b[33m\u001b[1mSkipping row as flux contains nan\u001b[0m\n",
      "\u001b[32m2023-11-15 11:30:36.467\u001b[0m | \u001b[33m\u001b[1mWARNING \u001b[0m | \u001b[36mvasca.source\u001b[0m:\u001b[36madd_vizier_SED\u001b[0m:\u001b[36m100\u001b[0m - \u001b[33m\u001b[1mSkipping row as flux contains nan\u001b[0m\n",
      "\u001b[32m2023-11-15 11:30:36.468\u001b[0m | \u001b[33m\u001b[1mWARNING \u001b[0m | \u001b[36mvasca.source\u001b[0m:\u001b[36madd_vizier_SED\u001b[0m:\u001b[36m100\u001b[0m - \u001b[33m\u001b[1mSkipping row as flux contains nan\u001b[0m\n",
      "\u001b[32m2023-11-15 11:30:36.468\u001b[0m | \u001b[33m\u001b[1mWARNING \u001b[0m | \u001b[36mvasca.source\u001b[0m:\u001b[36madd_vizier_SED\u001b[0m:\u001b[36m100\u001b[0m - \u001b[33m\u001b[1mSkipping row as flux contains nan\u001b[0m\n",
      "\u001b[32m2023-11-15 11:30:36.468\u001b[0m | \u001b[33m\u001b[1mWARNING \u001b[0m | \u001b[36mvasca.source\u001b[0m:\u001b[36madd_vizier_SED\u001b[0m:\u001b[36m100\u001b[0m - \u001b[33m\u001b[1mSkipping row as flux contains nan\u001b[0m\n",
      "\u001b[32m2023-11-15 11:30:36.468\u001b[0m | \u001b[33m\u001b[1mWARNING \u001b[0m | \u001b[36mvasca.source\u001b[0m:\u001b[36madd_vizier_SED\u001b[0m:\u001b[36m100\u001b[0m - \u001b[33m\u001b[1mSkipping row as flux contains nan\u001b[0m\n",
      "\u001b[32m2023-11-15 11:30:36.469\u001b[0m | \u001b[33m\u001b[1mWARNING \u001b[0m | \u001b[36mvasca.source\u001b[0m:\u001b[36madd_vizier_SED\u001b[0m:\u001b[36m100\u001b[0m - \u001b[33m\u001b[1mSkipping row as flux contains nan\u001b[0m\n",
      "\u001b[32m2023-11-15 11:30:36.469\u001b[0m | \u001b[33m\u001b[1mWARNING \u001b[0m | \u001b[36mvasca.source\u001b[0m:\u001b[36madd_vizier_SED\u001b[0m:\u001b[36m100\u001b[0m - \u001b[33m\u001b[1mSkipping row as flux contains nan\u001b[0m\n",
      "\u001b[32m2023-11-15 11:30:36.521\u001b[0m | \u001b[33m\u001b[1mWARNING \u001b[0m | \u001b[36mvasca.source\u001b[0m:\u001b[36madd_vizier_SED\u001b[0m:\u001b[36m100\u001b[0m - \u001b[33m\u001b[1mSkipping row as flux contains nan\u001b[0m\n",
      "\u001b[32m2023-11-15 11:30:36.523\u001b[0m | \u001b[33m\u001b[1mWARNING \u001b[0m | \u001b[36mvasca.source\u001b[0m:\u001b[36madd_vizier_SED\u001b[0m:\u001b[36m100\u001b[0m - \u001b[33m\u001b[1mSkipping row as flux contains nan\u001b[0m\n",
      "\u001b[32m2023-11-15 11:30:36.526\u001b[0m | \u001b[33m\u001b[1mWARNING \u001b[0m | \u001b[36mvasca.source\u001b[0m:\u001b[36madd_vizier_SED\u001b[0m:\u001b[36m100\u001b[0m - \u001b[33m\u001b[1mSkipping row as flux contains nan\u001b[0m\n",
      "\u001b[32m2023-11-15 11:30:36.527\u001b[0m | \u001b[33m\u001b[1mWARNING \u001b[0m | \u001b[36mvasca.source\u001b[0m:\u001b[36madd_vizier_SED\u001b[0m:\u001b[36m100\u001b[0m - \u001b[33m\u001b[1mSkipping row as flux contains nan\u001b[0m\n",
      "\u001b[32m2023-11-15 11:30:36.527\u001b[0m | \u001b[33m\u001b[1mWARNING \u001b[0m | \u001b[36mvasca.source\u001b[0m:\u001b[36madd_vizier_SED\u001b[0m:\u001b[36m100\u001b[0m - \u001b[33m\u001b[1mSkipping row as flux contains nan\u001b[0m\n",
      "\u001b[32m2023-11-15 11:30:36.537\u001b[0m | \u001b[33m\u001b[1mWARNING \u001b[0m | \u001b[36mvasca.source\u001b[0m:\u001b[36madd_vizier_SED\u001b[0m:\u001b[36m100\u001b[0m - \u001b[33m\u001b[1mSkipping row as flux contains nan\u001b[0m\n",
      "\u001b[32m2023-11-15 11:30:36.537\u001b[0m | \u001b[33m\u001b[1mWARNING \u001b[0m | \u001b[36mvasca.source\u001b[0m:\u001b[36madd_vizier_SED\u001b[0m:\u001b[36m100\u001b[0m - \u001b[33m\u001b[1mSkipping row as flux contains nan\u001b[0m\n",
      "\u001b[32m2023-11-15 11:30:36.538\u001b[0m | \u001b[33m\u001b[1mWARNING \u001b[0m | \u001b[36mvasca.source\u001b[0m:\u001b[36madd_vizier_SED\u001b[0m:\u001b[36m100\u001b[0m - \u001b[33m\u001b[1mSkipping row as flux contains nan\u001b[0m\n",
      "\u001b[32m2023-11-15 11:30:36.538\u001b[0m | \u001b[33m\u001b[1mWARNING \u001b[0m | \u001b[36mvasca.source\u001b[0m:\u001b[36madd_vizier_SED\u001b[0m:\u001b[36m100\u001b[0m - \u001b[33m\u001b[1mSkipping row as flux contains nan\u001b[0m\n",
      "\u001b[32m2023-11-15 11:30:36.539\u001b[0m | \u001b[33m\u001b[1mWARNING \u001b[0m | \u001b[36mvasca.source\u001b[0m:\u001b[36madd_vizier_SED\u001b[0m:\u001b[36m100\u001b[0m - \u001b[33m\u001b[1mSkipping row as flux contains nan\u001b[0m\n",
      "\u001b[32m2023-11-15 11:30:36.540\u001b[0m | \u001b[33m\u001b[1mWARNING \u001b[0m | \u001b[36mvasca.source\u001b[0m:\u001b[36madd_vizier_SED\u001b[0m:\u001b[36m100\u001b[0m - \u001b[33m\u001b[1mSkipping row as flux contains nan\u001b[0m\n",
      "\u001b[32m2023-11-15 11:30:36.541\u001b[0m | \u001b[33m\u001b[1mWARNING \u001b[0m | \u001b[36mvasca.source\u001b[0m:\u001b[36madd_vizier_SED\u001b[0m:\u001b[36m100\u001b[0m - \u001b[33m\u001b[1mSkipping row as flux contains nan\u001b[0m\n",
      "\u001b[32m2023-11-15 11:30:36.541\u001b[0m | \u001b[33m\u001b[1mWARNING \u001b[0m | \u001b[36mvasca.source\u001b[0m:\u001b[36madd_vizier_SED\u001b[0m:\u001b[36m100\u001b[0m - \u001b[33m\u001b[1mSkipping row as flux contains nan\u001b[0m\n",
      "\u001b[32m2023-11-15 11:30:36.582\u001b[0m | \u001b[34m\u001b[1mDEBUG   \u001b[0m | \u001b[36mvasca.tables\u001b[0m:\u001b[36madd_table\u001b[0m:\u001b[36m159\u001b[0m - \u001b[34m\u001b[1mAdding table 'region:tt_gphoton_lc'\u001b[0m\n",
      "\u001b[32m2023-11-15 11:30:36.585\u001b[0m | \u001b[34m\u001b[1mDEBUG   \u001b[0m | \u001b[36mvasca.tables\u001b[0m:\u001b[36madd_table\u001b[0m:\u001b[36m159\u001b[0m - \u001b[34m\u001b[1mAdding table 'tt_gphoton_stats'\u001b[0m\n",
      "/home/buehler/miniforge3/envs/vas/lib/python3.10/site-packages/astroquery/sdss/core.py:874: VisibleDeprecationWarning: Reading unicode strings without specifying the encoding argument is deprecated. Set the encoding, use None for the system default.\n",
      "  arr = np.atleast_1d(np.genfromtxt(io.BytesIO(response.content),\n",
      "\u001b[32m2023-11-15 11:30:36.598\u001b[0m | \u001b[34m\u001b[1mDEBUG   \u001b[0m | \u001b[36mvasca.tables\u001b[0m:\u001b[36madd_table\u001b[0m:\u001b[36m159\u001b[0m - \u001b[34m\u001b[1mAdding table 'tt_spectrum_0'\u001b[0m\n",
      "\u001b[32m2023-11-15 11:30:36.603\u001b[0m | \u001b[34m\u001b[1mDEBUG   \u001b[0m | \u001b[36mvasca.tables\u001b[0m:\u001b[36madd_table\u001b[0m:\u001b[36m159\u001b[0m - \u001b[34m\u001b[1mAdding table 'tt_spectrum_1'\u001b[0m\n",
      "\u001b[32m2023-11-15 11:30:36.603\u001b[0m | \u001b[1mINFO    \u001b[0m | \u001b[36mvasca.tables\u001b[0m:\u001b[36mwrite_to_fits\u001b[0m:\u001b[36m224\u001b[0m - \u001b[1mWriting file with name './vasca_pipeline/ALL_10-800_LOOSE/sources/src_4993.fits'\u001b[0m\n",
      "\u001b[32m2023-11-15 11:30:36.605\u001b[0m | \u001b[34m\u001b[1mDEBUG   \u001b[0m | \u001b[36mvasca.tables\u001b[0m:\u001b[36mwrite_to_fits\u001b[0m:\u001b[36m264\u001b[0m - \u001b[34m\u001b[1mWriting table 'tt_sources'\u001b[0m\n",
      "\u001b[32m2023-11-15 11:30:36.637\u001b[0m | \u001b[34m\u001b[1mDEBUG   \u001b[0m | \u001b[36mvasca.tables\u001b[0m:\u001b[36mwrite_to_fits\u001b[0m:\u001b[36m264\u001b[0m - \u001b[34m\u001b[1mWriting table 'tt_detections'\u001b[0m\n",
      "\u001b[32m2023-11-15 11:30:36.650\u001b[0m | \u001b[34m\u001b[1mDEBUG   \u001b[0m | \u001b[36mvasca.tables\u001b[0m:\u001b[36mwrite_to_fits\u001b[0m:\u001b[36m264\u001b[0m - \u001b[34m\u001b[1mWriting table 'tt_simbad'\u001b[0m\n",
      "WARNING: VerifyWarning: Keyword name 'description' is greater than 8 characters or contains characters not allowed by the FITS standard; a HIERARCH card will be created. [astropy.io.fits.card]\n",
      "\u001b[32m2023-11-15 11:30:36.749\u001b[0m | \u001b[34m\u001b[1mDEBUG   \u001b[0m | \u001b[36mvasca.tables\u001b[0m:\u001b[36mwrite_to_fits\u001b[0m:\u001b[36m264\u001b[0m - \u001b[34m\u001b[1mWriting table 'tt_gaiadr3'\u001b[0m\n"
     ]
    },
    {
     "name": "stdout",
     "output_type": "stream",
     "text": [
      "{'rg_src_id': [4993], 'nr_det': [[38, 5]], 'wght_mean': [[139.78557867246226, 129.11279997274497]], 'wght_mean_err': [[0.425804799192372, 2.3211680677034257]], 'var': [[11.875196789866292, 41.34453817466543]], 'nxv': [[3.667645047515879e-05, -0.004128817377209825]], 'rchiq': [[1.4997833396927116, 1.518569483667735]], 'cpval': [[0.025928520957114252, 0.1936693989659613]]}\n"
     ]
    },
    {
     "name": "stderr",
     "output_type": "stream",
     "text": [
      "WARNING: UnitsWarning: 'log(cm.s**-2)' did not parse as fits unit: 'log' is not a recognized function If this is meant to be a custom unit, define it with 'u.def_unit'. To have it recognized inside a file reader or other code, enable it with 'u.add_enabled_units'. For details, see https://docs.astropy.org/en/latest/units/combining_and_defining.html [astropy.units.core]\n",
      "\u001b[32m2023-11-15 11:30:36.909\u001b[0m | \u001b[34m\u001b[1mDEBUG   \u001b[0m | \u001b[36mvasca.tables\u001b[0m:\u001b[36mwrite_to_fits\u001b[0m:\u001b[36m264\u001b[0m - \u001b[34m\u001b[1mWriting table 'tt_lombscargle'\u001b[0m\n",
      "\u001b[32m2023-11-15 11:30:36.916\u001b[0m | \u001b[34m\u001b[1mDEBUG   \u001b[0m | \u001b[36mvasca.tables\u001b[0m:\u001b[36mwrite_to_fits\u001b[0m:\u001b[36m264\u001b[0m - \u001b[34m\u001b[1mWriting table 'tt_visits'\u001b[0m\n",
      "\u001b[32m2023-11-15 11:30:36.923\u001b[0m | \u001b[34m\u001b[1mDEBUG   \u001b[0m | \u001b[36mvasca.tables\u001b[0m:\u001b[36mwrite_to_fits\u001b[0m:\u001b[36m264\u001b[0m - \u001b[34m\u001b[1mWriting table 'tt_fields'\u001b[0m\n",
      "\u001b[32m2023-11-15 11:30:36.936\u001b[0m | \u001b[34m\u001b[1mDEBUG   \u001b[0m | \u001b[36mvasca.tables\u001b[0m:\u001b[36mwrite_to_fits\u001b[0m:\u001b[36m264\u001b[0m - \u001b[34m\u001b[1mWriting table 'tt_filters'\u001b[0m\n",
      "\u001b[32m2023-11-15 11:30:36.941\u001b[0m | \u001b[34m\u001b[1mDEBUG   \u001b[0m | \u001b[36mvasca.tables\u001b[0m:\u001b[36mwrite_to_fits\u001b[0m:\u001b[36m264\u001b[0m - \u001b[34m\u001b[1mWriting table 'tt_source_lc'\u001b[0m\n",
      "WARNING: VerifyWarning: Keyword name 'rg_src_id' is greater than 8 characters or contains characters not allowed by the FITS standard; a HIERARCH card will be created. [astropy.io.fits.card]\n",
      "\u001b[32m2023-11-15 11:30:36.951\u001b[0m | \u001b[34m\u001b[1mDEBUG   \u001b[0m | \u001b[36mvasca.tables\u001b[0m:\u001b[36mwrite_to_fits\u001b[0m:\u001b[36m264\u001b[0m - \u001b[34m\u001b[1mWriting table 'tt_sed'\u001b[0m\n",
      "\u001b[32m2023-11-15 11:30:36.959\u001b[0m | \u001b[34m\u001b[1mDEBUG   \u001b[0m | \u001b[36mvasca.tables\u001b[0m:\u001b[36mwrite_to_fits\u001b[0m:\u001b[36m264\u001b[0m - \u001b[34m\u001b[1mWriting table 'tt_gphoton_lc'\u001b[0m\n",
      "\u001b[32m2023-11-15 11:30:36.969\u001b[0m | \u001b[34m\u001b[1mDEBUG   \u001b[0m | \u001b[36mvasca.tables\u001b[0m:\u001b[36mwrite_to_fits\u001b[0m:\u001b[36m264\u001b[0m - \u001b[34m\u001b[1mWriting table 'tt_gphoton_stats'\u001b[0m\n",
      "\u001b[32m2023-11-15 11:30:36.975\u001b[0m | \u001b[34m\u001b[1mDEBUG   \u001b[0m | \u001b[36mvasca.tables\u001b[0m:\u001b[36mwrite_to_fits\u001b[0m:\u001b[36m264\u001b[0m - \u001b[34m\u001b[1mWriting table 'tt_spectrum_0'\u001b[0m\n",
      "\u001b[32m2023-11-15 11:30:36.981\u001b[0m | \u001b[34m\u001b[1mDEBUG   \u001b[0m | \u001b[36mvasca.tables\u001b[0m:\u001b[36mwrite_to_fits\u001b[0m:\u001b[36m264\u001b[0m - \u001b[34m\u001b[1mWriting table 'tt_spectrum_1'\u001b[0m\n",
      "\u001b[32m2023-11-15 11:30:37.163\u001b[0m | \u001b[34m\u001b[1mDEBUG   \u001b[0m | \u001b[36mvasca.region\u001b[0m:\u001b[36mget_src_from_id\u001b[0m:\u001b[36m337\u001b[0m - \u001b[34m\u001b[1mGetting Source object for rg_src_id: 14504\u001b[0m\n",
      "\u001b[32m2023-11-15 11:30:37.168\u001b[0m | \u001b[34m\u001b[1mDEBUG   \u001b[0m | \u001b[36mvasca.tables\u001b[0m:\u001b[36madd_table\u001b[0m:\u001b[36m159\u001b[0m - \u001b[34m\u001b[1mAdding table 'tt_sources'\u001b[0m\n",
      "\u001b[32m2023-11-15 11:30:37.197\u001b[0m | \u001b[34m\u001b[1mDEBUG   \u001b[0m | \u001b[36mvasca.tables\u001b[0m:\u001b[36madd_table\u001b[0m:\u001b[36m159\u001b[0m - \u001b[34m\u001b[1mAdding table 'tt_detections'\u001b[0m\n",
      "\u001b[32m2023-11-15 11:30:37.204\u001b[0m | \u001b[34m\u001b[1mDEBUG   \u001b[0m | \u001b[36mvasca.tables\u001b[0m:\u001b[36madd_table\u001b[0m:\u001b[36m159\u001b[0m - \u001b[34m\u001b[1mAdding table 'tt_simbad'\u001b[0m\n",
      "\u001b[32m2023-11-15 11:30:37.217\u001b[0m | \u001b[34m\u001b[1mDEBUG   \u001b[0m | \u001b[36mvasca.tables\u001b[0m:\u001b[36madd_table\u001b[0m:\u001b[36m159\u001b[0m - \u001b[34m\u001b[1mAdding table 'tt_gaiadr3'\u001b[0m\n",
      "\u001b[32m2023-11-15 11:30:37.226\u001b[0m | \u001b[34m\u001b[1mDEBUG   \u001b[0m | \u001b[36mvasca.tables\u001b[0m:\u001b[36madd_table\u001b[0m:\u001b[36m159\u001b[0m - \u001b[34m\u001b[1mAdding table 'tt_lombscargle'\u001b[0m\n",
      "\u001b[32m2023-11-15 11:30:37.230\u001b[0m | \u001b[34m\u001b[1mDEBUG   \u001b[0m | \u001b[36mvasca.tables\u001b[0m:\u001b[36madd_table\u001b[0m:\u001b[36m159\u001b[0m - \u001b[34m\u001b[1mAdding table 'tt_visits'\u001b[0m\n",
      "\u001b[32m2023-11-15 11:30:37.233\u001b[0m | \u001b[34m\u001b[1mDEBUG   \u001b[0m | \u001b[36mvasca.tables\u001b[0m:\u001b[36madd_table\u001b[0m:\u001b[36m159\u001b[0m - \u001b[34m\u001b[1mAdding table 'tt_fields'\u001b[0m\n",
      "\u001b[32m2023-11-15 11:30:37.235\u001b[0m | \u001b[34m\u001b[1mDEBUG   \u001b[0m | \u001b[36mvasca.tables\u001b[0m:\u001b[36madd_table\u001b[0m:\u001b[36m159\u001b[0m - \u001b[34m\u001b[1mAdding table 'tt_filters'\u001b[0m\n",
      "\u001b[32m2023-11-15 11:30:37.242\u001b[0m | \u001b[34m\u001b[1mDEBUG   \u001b[0m | \u001b[36mvasca.tables\u001b[0m:\u001b[36madd_table\u001b[0m:\u001b[36m159\u001b[0m - \u001b[34m\u001b[1mAdding table 'tt_source_lc'\u001b[0m\n"
     ]
    },
    {
     "name": "stdout",
     "output_type": "stream",
     "text": [
      "*********** Creating Source Table ID 14504 *****************\n"
     ]
    },
    {
     "name": "stderr",
     "output_type": "stream",
     "text": [
      "\u001b[32m2023-11-15 11:30:37.623\u001b[0m | \u001b[34m\u001b[1mDEBUG   \u001b[0m | \u001b[36mvasca.tables\u001b[0m:\u001b[36madd_table\u001b[0m:\u001b[36m159\u001b[0m - \u001b[34m\u001b[1mAdding table 'region:tt_sed'\u001b[0m\n",
      "\u001b[32m2023-11-15 11:30:37.699\u001b[0m | \u001b[33m\u001b[1mWARNING \u001b[0m | \u001b[36mvasca.source\u001b[0m:\u001b[36madd_vizier_SED\u001b[0m:\u001b[36m100\u001b[0m - \u001b[33m\u001b[1mSkipping row as flux contains nan\u001b[0m\n",
      "\u001b[32m2023-11-15 11:30:37.700\u001b[0m | \u001b[33m\u001b[1mWARNING \u001b[0m | \u001b[36mvasca.source\u001b[0m:\u001b[36madd_vizier_SED\u001b[0m:\u001b[36m100\u001b[0m - \u001b[33m\u001b[1mSkipping row as flux contains nan\u001b[0m\n",
      "\u001b[32m2023-11-15 11:30:37.701\u001b[0m | \u001b[33m\u001b[1mWARNING \u001b[0m | \u001b[36mvasca.source\u001b[0m:\u001b[36madd_vizier_SED\u001b[0m:\u001b[36m100\u001b[0m - \u001b[33m\u001b[1mSkipping row as flux contains nan\u001b[0m\n",
      "\u001b[32m2023-11-15 11:30:37.701\u001b[0m | \u001b[33m\u001b[1mWARNING \u001b[0m | \u001b[36mvasca.source\u001b[0m:\u001b[36madd_vizier_SED\u001b[0m:\u001b[36m100\u001b[0m - \u001b[33m\u001b[1mSkipping row as flux contains nan\u001b[0m\n",
      "\u001b[32m2023-11-15 11:30:37.701\u001b[0m | \u001b[33m\u001b[1mWARNING \u001b[0m | \u001b[36mvasca.source\u001b[0m:\u001b[36madd_vizier_SED\u001b[0m:\u001b[36m100\u001b[0m - \u001b[33m\u001b[1mSkipping row as flux contains nan\u001b[0m\n",
      "\u001b[32m2023-11-15 11:30:37.702\u001b[0m | \u001b[33m\u001b[1mWARNING \u001b[0m | \u001b[36mvasca.source\u001b[0m:\u001b[36madd_vizier_SED\u001b[0m:\u001b[36m100\u001b[0m - \u001b[33m\u001b[1mSkipping row as flux contains nan\u001b[0m\n",
      "\u001b[32m2023-11-15 11:30:37.702\u001b[0m | \u001b[33m\u001b[1mWARNING \u001b[0m | \u001b[36mvasca.source\u001b[0m:\u001b[36madd_vizier_SED\u001b[0m:\u001b[36m100\u001b[0m - \u001b[33m\u001b[1mSkipping row as flux contains nan\u001b[0m\n",
      "\u001b[32m2023-11-15 11:30:37.702\u001b[0m | \u001b[33m\u001b[1mWARNING \u001b[0m | \u001b[36mvasca.source\u001b[0m:\u001b[36madd_vizier_SED\u001b[0m:\u001b[36m100\u001b[0m - \u001b[33m\u001b[1mSkipping row as flux contains nan\u001b[0m\n",
      "\u001b[32m2023-11-15 11:30:37.702\u001b[0m | \u001b[33m\u001b[1mWARNING \u001b[0m | \u001b[36mvasca.source\u001b[0m:\u001b[36madd_vizier_SED\u001b[0m:\u001b[36m100\u001b[0m - \u001b[33m\u001b[1mSkipping row as flux contains nan\u001b[0m\n",
      "\u001b[32m2023-11-15 11:30:37.702\u001b[0m | \u001b[33m\u001b[1mWARNING \u001b[0m | \u001b[36mvasca.source\u001b[0m:\u001b[36madd_vizier_SED\u001b[0m:\u001b[36m100\u001b[0m - \u001b[33m\u001b[1mSkipping row as flux contains nan\u001b[0m\n",
      "\u001b[32m2023-11-15 11:30:37.703\u001b[0m | \u001b[33m\u001b[1mWARNING \u001b[0m | \u001b[36mvasca.source\u001b[0m:\u001b[36madd_vizier_SED\u001b[0m:\u001b[36m100\u001b[0m - \u001b[33m\u001b[1mSkipping row as flux contains nan\u001b[0m\n",
      "\u001b[32m2023-11-15 11:30:37.703\u001b[0m | \u001b[33m\u001b[1mWARNING \u001b[0m | \u001b[36mvasca.source\u001b[0m:\u001b[36madd_vizier_SED\u001b[0m:\u001b[36m100\u001b[0m - \u001b[33m\u001b[1mSkipping row as flux contains nan\u001b[0m\n",
      "\u001b[32m2023-11-15 11:30:37.703\u001b[0m | \u001b[33m\u001b[1mWARNING \u001b[0m | \u001b[36mvasca.source\u001b[0m:\u001b[36madd_vizier_SED\u001b[0m:\u001b[36m100\u001b[0m - \u001b[33m\u001b[1mSkipping row as flux contains nan\u001b[0m\n",
      "\u001b[32m2023-11-15 11:30:37.703\u001b[0m | \u001b[33m\u001b[1mWARNING \u001b[0m | \u001b[36mvasca.source\u001b[0m:\u001b[36madd_vizier_SED\u001b[0m:\u001b[36m100\u001b[0m - \u001b[33m\u001b[1mSkipping row as flux contains nan\u001b[0m\n",
      "\u001b[32m2023-11-15 11:30:37.704\u001b[0m | \u001b[33m\u001b[1mWARNING \u001b[0m | \u001b[36mvasca.source\u001b[0m:\u001b[36madd_vizier_SED\u001b[0m:\u001b[36m100\u001b[0m - \u001b[33m\u001b[1mSkipping row as flux contains nan\u001b[0m\n",
      "\u001b[32m2023-11-15 11:30:37.704\u001b[0m | \u001b[33m\u001b[1mWARNING \u001b[0m | \u001b[36mvasca.source\u001b[0m:\u001b[36madd_vizier_SED\u001b[0m:\u001b[36m100\u001b[0m - \u001b[33m\u001b[1mSkipping row as flux contains nan\u001b[0m\n",
      "\u001b[32m2023-11-15 11:30:37.705\u001b[0m | \u001b[33m\u001b[1mWARNING \u001b[0m | \u001b[36mvasca.source\u001b[0m:\u001b[36madd_vizier_SED\u001b[0m:\u001b[36m100\u001b[0m - \u001b[33m\u001b[1mSkipping row as flux contains nan\u001b[0m\n",
      "\u001b[32m2023-11-15 11:30:37.705\u001b[0m | \u001b[33m\u001b[1mWARNING \u001b[0m | \u001b[36mvasca.source\u001b[0m:\u001b[36madd_vizier_SED\u001b[0m:\u001b[36m100\u001b[0m - \u001b[33m\u001b[1mSkipping row as flux contains nan\u001b[0m\n",
      "\u001b[32m2023-11-15 11:30:37.705\u001b[0m | \u001b[33m\u001b[1mWARNING \u001b[0m | \u001b[36mvasca.source\u001b[0m:\u001b[36madd_vizier_SED\u001b[0m:\u001b[36m100\u001b[0m - \u001b[33m\u001b[1mSkipping row as flux contains nan\u001b[0m\n",
      "\u001b[32m2023-11-15 11:30:37.705\u001b[0m | \u001b[33m\u001b[1mWARNING \u001b[0m | \u001b[36mvasca.source\u001b[0m:\u001b[36madd_vizier_SED\u001b[0m:\u001b[36m100\u001b[0m - \u001b[33m\u001b[1mSkipping row as flux contains nan\u001b[0m\n",
      "\u001b[32m2023-11-15 11:30:37.707\u001b[0m | \u001b[33m\u001b[1mWARNING \u001b[0m | \u001b[36mvasca.source\u001b[0m:\u001b[36madd_vizier_SED\u001b[0m:\u001b[36m100\u001b[0m - \u001b[33m\u001b[1mSkipping row as flux contains nan\u001b[0m\n",
      "\u001b[32m2023-11-15 11:30:37.707\u001b[0m | \u001b[33m\u001b[1mWARNING \u001b[0m | \u001b[36mvasca.source\u001b[0m:\u001b[36madd_vizier_SED\u001b[0m:\u001b[36m100\u001b[0m - \u001b[33m\u001b[1mSkipping row as flux contains nan\u001b[0m\n",
      "\u001b[32m2023-11-15 11:30:37.709\u001b[0m | \u001b[33m\u001b[1mWARNING \u001b[0m | \u001b[36mvasca.source\u001b[0m:\u001b[36madd_vizier_SED\u001b[0m:\u001b[36m100\u001b[0m - \u001b[33m\u001b[1mSkipping row as flux contains nan\u001b[0m\n",
      "\u001b[32m2023-11-15 11:30:37.711\u001b[0m | \u001b[33m\u001b[1mWARNING \u001b[0m | \u001b[36mvasca.source\u001b[0m:\u001b[36madd_vizier_SED\u001b[0m:\u001b[36m100\u001b[0m - \u001b[33m\u001b[1mSkipping row as flux contains nan\u001b[0m\n",
      "\u001b[32m2023-11-15 11:30:37.714\u001b[0m | \u001b[33m\u001b[1mWARNING \u001b[0m | \u001b[36mvasca.source\u001b[0m:\u001b[36madd_vizier_SED\u001b[0m:\u001b[36m100\u001b[0m - \u001b[33m\u001b[1mSkipping row as flux contains nan\u001b[0m\n",
      "\u001b[32m2023-11-15 11:30:37.717\u001b[0m | \u001b[33m\u001b[1mWARNING \u001b[0m | \u001b[36mvasca.source\u001b[0m:\u001b[36madd_vizier_SED\u001b[0m:\u001b[36m100\u001b[0m - \u001b[33m\u001b[1mSkipping row as flux contains nan\u001b[0m\n",
      "\u001b[32m2023-11-15 11:30:37.720\u001b[0m | \u001b[33m\u001b[1mWARNING \u001b[0m | \u001b[36mvasca.source\u001b[0m:\u001b[36madd_vizier_SED\u001b[0m:\u001b[36m100\u001b[0m - \u001b[33m\u001b[1mSkipping row as flux contains nan\u001b[0m\n",
      "\u001b[32m2023-11-15 11:30:37.725\u001b[0m | \u001b[33m\u001b[1mWARNING \u001b[0m | \u001b[36mvasca.source\u001b[0m:\u001b[36madd_vizier_SED\u001b[0m:\u001b[36m100\u001b[0m - \u001b[33m\u001b[1mSkipping row as flux contains nan\u001b[0m\n",
      "\u001b[32m2023-11-15 11:30:37.730\u001b[0m | \u001b[33m\u001b[1mWARNING \u001b[0m | \u001b[36mvasca.source\u001b[0m:\u001b[36madd_vizier_SED\u001b[0m:\u001b[36m100\u001b[0m - \u001b[33m\u001b[1mSkipping row as flux contains nan\u001b[0m\n",
      "\u001b[32m2023-11-15 11:30:37.733\u001b[0m | \u001b[33m\u001b[1mWARNING \u001b[0m | \u001b[36mvasca.source\u001b[0m:\u001b[36madd_vizier_SED\u001b[0m:\u001b[36m100\u001b[0m - \u001b[33m\u001b[1mSkipping row as flux contains nan\u001b[0m\n",
      "\u001b[32m2023-11-15 11:30:37.737\u001b[0m | \u001b[33m\u001b[1mWARNING \u001b[0m | \u001b[36mvasca.source\u001b[0m:\u001b[36madd_vizier_SED\u001b[0m:\u001b[36m100\u001b[0m - \u001b[33m\u001b[1mSkipping row as flux contains nan\u001b[0m\n",
      "\u001b[32m2023-11-15 11:30:37.740\u001b[0m | \u001b[33m\u001b[1mWARNING \u001b[0m | \u001b[36mvasca.source\u001b[0m:\u001b[36madd_vizier_SED\u001b[0m:\u001b[36m100\u001b[0m - \u001b[33m\u001b[1mSkipping row as flux contains nan\u001b[0m\n",
      "\u001b[32m2023-11-15 11:30:37.743\u001b[0m | \u001b[33m\u001b[1mWARNING \u001b[0m | \u001b[36mvasca.source\u001b[0m:\u001b[36madd_vizier_SED\u001b[0m:\u001b[36m100\u001b[0m - \u001b[33m\u001b[1mSkipping row as flux contains nan\u001b[0m\n",
      "\u001b[32m2023-11-15 11:30:37.747\u001b[0m | \u001b[33m\u001b[1mWARNING \u001b[0m | \u001b[36mvasca.source\u001b[0m:\u001b[36madd_vizier_SED\u001b[0m:\u001b[36m100\u001b[0m - \u001b[33m\u001b[1mSkipping row as flux contains nan\u001b[0m\n",
      "\u001b[32m2023-11-15 11:30:37.750\u001b[0m | \u001b[33m\u001b[1mWARNING \u001b[0m | \u001b[36mvasca.source\u001b[0m:\u001b[36madd_vizier_SED\u001b[0m:\u001b[36m100\u001b[0m - \u001b[33m\u001b[1mSkipping row as flux contains nan\u001b[0m\n",
      "\u001b[32m2023-11-15 11:30:37.752\u001b[0m | \u001b[33m\u001b[1mWARNING \u001b[0m | \u001b[36mvasca.source\u001b[0m:\u001b[36madd_vizier_SED\u001b[0m:\u001b[36m100\u001b[0m - \u001b[33m\u001b[1mSkipping row as flux contains nan\u001b[0m\n",
      "\u001b[32m2023-11-15 11:30:37.754\u001b[0m | \u001b[33m\u001b[1mWARNING \u001b[0m | \u001b[36mvasca.source\u001b[0m:\u001b[36madd_vizier_SED\u001b[0m:\u001b[36m100\u001b[0m - \u001b[33m\u001b[1mSkipping row as flux contains nan\u001b[0m\n",
      "\u001b[32m2023-11-15 11:30:37.756\u001b[0m | \u001b[33m\u001b[1mWARNING \u001b[0m | \u001b[36mvasca.source\u001b[0m:\u001b[36madd_vizier_SED\u001b[0m:\u001b[36m100\u001b[0m - \u001b[33m\u001b[1mSkipping row as flux contains nan\u001b[0m\n",
      "\u001b[32m2023-11-15 11:30:37.758\u001b[0m | \u001b[33m\u001b[1mWARNING \u001b[0m | \u001b[36mvasca.source\u001b[0m:\u001b[36madd_vizier_SED\u001b[0m:\u001b[36m100\u001b[0m - \u001b[33m\u001b[1mSkipping row as flux contains nan\u001b[0m\n",
      "\u001b[32m2023-11-15 11:30:37.760\u001b[0m | \u001b[33m\u001b[1mWARNING \u001b[0m | \u001b[36mvasca.source\u001b[0m:\u001b[36madd_vizier_SED\u001b[0m:\u001b[36m100\u001b[0m - \u001b[33m\u001b[1mSkipping row as flux contains nan\u001b[0m\n",
      "\u001b[32m2023-11-15 11:30:37.762\u001b[0m | \u001b[33m\u001b[1mWARNING \u001b[0m | \u001b[36mvasca.source\u001b[0m:\u001b[36madd_vizier_SED\u001b[0m:\u001b[36m100\u001b[0m - \u001b[33m\u001b[1mSkipping row as flux contains nan\u001b[0m\n",
      "\u001b[32m2023-11-15 11:30:37.764\u001b[0m | \u001b[33m\u001b[1mWARNING \u001b[0m | \u001b[36mvasca.source\u001b[0m:\u001b[36madd_vizier_SED\u001b[0m:\u001b[36m100\u001b[0m - \u001b[33m\u001b[1mSkipping row as flux contains nan\u001b[0m\n",
      "\u001b[32m2023-11-15 11:30:37.765\u001b[0m | \u001b[33m\u001b[1mWARNING \u001b[0m | \u001b[36mvasca.source\u001b[0m:\u001b[36madd_vizier_SED\u001b[0m:\u001b[36m100\u001b[0m - \u001b[33m\u001b[1mSkipping row as flux contains nan\u001b[0m\n",
      "\u001b[32m2023-11-15 11:30:37.766\u001b[0m | \u001b[33m\u001b[1mWARNING \u001b[0m | \u001b[36mvasca.source\u001b[0m:\u001b[36madd_vizier_SED\u001b[0m:\u001b[36m100\u001b[0m - \u001b[33m\u001b[1mSkipping row as flux contains nan\u001b[0m\n",
      "\u001b[32m2023-11-15 11:30:37.766\u001b[0m | \u001b[33m\u001b[1mWARNING \u001b[0m | \u001b[36mvasca.source\u001b[0m:\u001b[36madd_vizier_SED\u001b[0m:\u001b[36m100\u001b[0m - \u001b[33m\u001b[1mSkipping row as flux contains nan\u001b[0m\n",
      "\u001b[32m2023-11-15 11:30:37.766\u001b[0m | \u001b[33m\u001b[1mWARNING \u001b[0m | \u001b[36mvasca.source\u001b[0m:\u001b[36madd_vizier_SED\u001b[0m:\u001b[36m100\u001b[0m - \u001b[33m\u001b[1mSkipping row as flux contains nan\u001b[0m\n",
      "\u001b[32m2023-11-15 11:30:37.767\u001b[0m | \u001b[33m\u001b[1mWARNING \u001b[0m | \u001b[36mvasca.source\u001b[0m:\u001b[36madd_vizier_SED\u001b[0m:\u001b[36m100\u001b[0m - \u001b[33m\u001b[1mSkipping row as flux contains nan\u001b[0m\n",
      "\u001b[32m2023-11-15 11:30:37.773\u001b[0m | \u001b[33m\u001b[1mWARNING \u001b[0m | \u001b[36mvasca.source\u001b[0m:\u001b[36madd_vizier_SED\u001b[0m:\u001b[36m100\u001b[0m - \u001b[33m\u001b[1mSkipping row as flux contains nan\u001b[0m\n",
      "\u001b[32m2023-11-15 11:30:37.773\u001b[0m | \u001b[33m\u001b[1mWARNING \u001b[0m | \u001b[36mvasca.source\u001b[0m:\u001b[36madd_vizier_SED\u001b[0m:\u001b[36m100\u001b[0m - \u001b[33m\u001b[1mSkipping row as flux contains nan\u001b[0m\n",
      "\u001b[32m2023-11-15 11:30:37.774\u001b[0m | \u001b[33m\u001b[1mWARNING \u001b[0m | \u001b[36mvasca.source\u001b[0m:\u001b[36madd_vizier_SED\u001b[0m:\u001b[36m100\u001b[0m - \u001b[33m\u001b[1mSkipping row as flux contains nan\u001b[0m\n",
      "\u001b[32m2023-11-15 11:30:37.774\u001b[0m | \u001b[33m\u001b[1mWARNING \u001b[0m | \u001b[36mvasca.source\u001b[0m:\u001b[36madd_vizier_SED\u001b[0m:\u001b[36m100\u001b[0m - \u001b[33m\u001b[1mSkipping row as flux contains nan\u001b[0m\n",
      "\u001b[32m2023-11-15 11:30:37.774\u001b[0m | \u001b[33m\u001b[1mWARNING \u001b[0m | \u001b[36mvasca.source\u001b[0m:\u001b[36madd_vizier_SED\u001b[0m:\u001b[36m100\u001b[0m - \u001b[33m\u001b[1mSkipping row as flux contains nan\u001b[0m\n",
      "\u001b[32m2023-11-15 11:30:37.783\u001b[0m | \u001b[33m\u001b[1mWARNING \u001b[0m | \u001b[36mvasca.source\u001b[0m:\u001b[36madd_vizier_SED\u001b[0m:\u001b[36m100\u001b[0m - \u001b[33m\u001b[1mSkipping row as flux contains nan\u001b[0m\n",
      "\u001b[32m2023-11-15 11:30:37.784\u001b[0m | \u001b[33m\u001b[1mWARNING \u001b[0m | \u001b[36mvasca.source\u001b[0m:\u001b[36madd_vizier_SED\u001b[0m:\u001b[36m100\u001b[0m - \u001b[33m\u001b[1mSkipping row as flux contains nan\u001b[0m\n",
      "\u001b[32m2023-11-15 11:30:37.784\u001b[0m | \u001b[33m\u001b[1mWARNING \u001b[0m | \u001b[36mvasca.source\u001b[0m:\u001b[36madd_vizier_SED\u001b[0m:\u001b[36m100\u001b[0m - \u001b[33m\u001b[1mSkipping row as flux contains nan\u001b[0m\n",
      "\u001b[32m2023-11-15 11:30:37.802\u001b[0m | \u001b[34m\u001b[1mDEBUG   \u001b[0m | \u001b[36mvasca.tables\u001b[0m:\u001b[36madd_table\u001b[0m:\u001b[36m159\u001b[0m - \u001b[34m\u001b[1mAdding table 'region:tt_gphoton_lc'\u001b[0m\n",
      "\u001b[32m2023-11-15 11:30:37.805\u001b[0m | \u001b[34m\u001b[1mDEBUG   \u001b[0m | \u001b[36mvasca.tables\u001b[0m:\u001b[36madd_table\u001b[0m:\u001b[36m159\u001b[0m - \u001b[34m\u001b[1mAdding table 'tt_gphoton_stats'\u001b[0m\n",
      "\u001b[32m2023-11-15 11:30:37.813\u001b[0m | \u001b[34m\u001b[1mDEBUG   \u001b[0m | \u001b[36mvasca.tables\u001b[0m:\u001b[36madd_table\u001b[0m:\u001b[36m159\u001b[0m - \u001b[34m\u001b[1mAdding table 'tt_spectrum_0'\u001b[0m\n",
      "\u001b[32m2023-11-15 11:30:37.813\u001b[0m | \u001b[1mINFO    \u001b[0m | \u001b[36mvasca.tables\u001b[0m:\u001b[36mwrite_to_fits\u001b[0m:\u001b[36m224\u001b[0m - \u001b[1mWriting file with name './vasca_pipeline/ALL_10-800_LOOSE/sources/src_14504.fits'\u001b[0m\n",
      "\u001b[32m2023-11-15 11:30:37.814\u001b[0m | \u001b[34m\u001b[1mDEBUG   \u001b[0m | \u001b[36mvasca.tables\u001b[0m:\u001b[36mwrite_to_fits\u001b[0m:\u001b[36m264\u001b[0m - \u001b[34m\u001b[1mWriting table 'tt_sources'\u001b[0m\n",
      "\u001b[32m2023-11-15 11:30:37.848\u001b[0m | \u001b[34m\u001b[1mDEBUG   \u001b[0m | \u001b[36mvasca.tables\u001b[0m:\u001b[36mwrite_to_fits\u001b[0m:\u001b[36m264\u001b[0m - \u001b[34m\u001b[1mWriting table 'tt_detections'\u001b[0m\n",
      "\u001b[32m2023-11-15 11:30:37.861\u001b[0m | \u001b[34m\u001b[1mDEBUG   \u001b[0m | \u001b[36mvasca.tables\u001b[0m:\u001b[36mwrite_to_fits\u001b[0m:\u001b[36m264\u001b[0m - \u001b[34m\u001b[1mWriting table 'tt_simbad'\u001b[0m\n",
      "WARNING: VerifyWarning: Keyword name 'description' is greater than 8 characters or contains characters not allowed by the FITS standard; a HIERARCH card will be created. [astropy.io.fits.card]\n",
      "\u001b[32m2023-11-15 11:30:37.908\u001b[0m | \u001b[34m\u001b[1mDEBUG   \u001b[0m | \u001b[36mvasca.tables\u001b[0m:\u001b[36mwrite_to_fits\u001b[0m:\u001b[36m264\u001b[0m - \u001b[34m\u001b[1mWriting table 'tt_gaiadr3'\u001b[0m\n",
      "WARNING: UnitsWarning: 'log(cm.s**-2)' did not parse as fits unit: 'log' is not a recognized function If this is meant to be a custom unit, define it with 'u.def_unit'. To have it recognized inside a file reader or other code, enable it with 'u.add_enabled_units'. For details, see https://docs.astropy.org/en/latest/units/combining_and_defining.html [astropy.units.core]\n"
     ]
    },
    {
     "name": "stdout",
     "output_type": "stream",
     "text": [
      "{'rg_src_id': [14504], 'nr_det': [[43, 6]], 'wght_mean': [[38.75201352385814, 2.4137269231411285]], 'wght_mean_err': [[0.20197344870424155, 0.44931792889325955]], 'var': [[6.005209728680818, 0.278786318958844]], 'nxv': [[0.00191113813614957, -0.1870799423070717]], 'rchiq': [[2.4685161965564073, 0.14933271822095814]], 'cpval': [[3.9591377449525157e-07, 0.9803098583139962]]}\n"
     ]
    },
    {
     "name": "stderr",
     "output_type": "stream",
     "text": [
      "\u001b[32m2023-11-15 11:30:38.074\u001b[0m | \u001b[34m\u001b[1mDEBUG   \u001b[0m | \u001b[36mvasca.tables\u001b[0m:\u001b[36mwrite_to_fits\u001b[0m:\u001b[36m264\u001b[0m - \u001b[34m\u001b[1mWriting table 'tt_lombscargle'\u001b[0m\n",
      "\u001b[32m2023-11-15 11:30:38.081\u001b[0m | \u001b[34m\u001b[1mDEBUG   \u001b[0m | \u001b[36mvasca.tables\u001b[0m:\u001b[36mwrite_to_fits\u001b[0m:\u001b[36m264\u001b[0m - \u001b[34m\u001b[1mWriting table 'tt_visits'\u001b[0m\n",
      "\u001b[32m2023-11-15 11:30:38.087\u001b[0m | \u001b[34m\u001b[1mDEBUG   \u001b[0m | \u001b[36mvasca.tables\u001b[0m:\u001b[36mwrite_to_fits\u001b[0m:\u001b[36m264\u001b[0m - \u001b[34m\u001b[1mWriting table 'tt_fields'\u001b[0m\n",
      "\u001b[32m2023-11-15 11:30:38.100\u001b[0m | \u001b[34m\u001b[1mDEBUG   \u001b[0m | \u001b[36mvasca.tables\u001b[0m:\u001b[36mwrite_to_fits\u001b[0m:\u001b[36m264\u001b[0m - \u001b[34m\u001b[1mWriting table 'tt_filters'\u001b[0m\n",
      "\u001b[32m2023-11-15 11:30:38.104\u001b[0m | \u001b[34m\u001b[1mDEBUG   \u001b[0m | \u001b[36mvasca.tables\u001b[0m:\u001b[36mwrite_to_fits\u001b[0m:\u001b[36m264\u001b[0m - \u001b[34m\u001b[1mWriting table 'tt_source_lc'\u001b[0m\n",
      "WARNING: VerifyWarning: Keyword name 'rg_src_id' is greater than 8 characters or contains characters not allowed by the FITS standard; a HIERARCH card will be created. [astropy.io.fits.card]\n",
      "\u001b[32m2023-11-15 11:30:38.116\u001b[0m | \u001b[34m\u001b[1mDEBUG   \u001b[0m | \u001b[36mvasca.tables\u001b[0m:\u001b[36mwrite_to_fits\u001b[0m:\u001b[36m264\u001b[0m - \u001b[34m\u001b[1mWriting table 'tt_sed'\u001b[0m\n",
      "\u001b[32m2023-11-15 11:30:38.122\u001b[0m | \u001b[34m\u001b[1mDEBUG   \u001b[0m | \u001b[36mvasca.tables\u001b[0m:\u001b[36mwrite_to_fits\u001b[0m:\u001b[36m264\u001b[0m - \u001b[34m\u001b[1mWriting table 'tt_gphoton_lc'\u001b[0m\n",
      "\u001b[32m2023-11-15 11:30:38.133\u001b[0m | \u001b[34m\u001b[1mDEBUG   \u001b[0m | \u001b[36mvasca.tables\u001b[0m:\u001b[36mwrite_to_fits\u001b[0m:\u001b[36m264\u001b[0m - \u001b[34m\u001b[1mWriting table 'tt_gphoton_stats'\u001b[0m\n",
      "\u001b[32m2023-11-15 11:30:38.139\u001b[0m | \u001b[34m\u001b[1mDEBUG   \u001b[0m | \u001b[36mvasca.tables\u001b[0m:\u001b[36mwrite_to_fits\u001b[0m:\u001b[36m264\u001b[0m - \u001b[34m\u001b[1mWriting table 'tt_spectrum_0'\u001b[0m\n",
      "\u001b[32m2023-11-15 11:30:38.312\u001b[0m | \u001b[34m\u001b[1mDEBUG   \u001b[0m | \u001b[36mvasca.region\u001b[0m:\u001b[36mget_src_from_id\u001b[0m:\u001b[36m337\u001b[0m - \u001b[34m\u001b[1mGetting Source object for rg_src_id: 52994\u001b[0m\n",
      "\u001b[32m2023-11-15 11:30:38.316\u001b[0m | \u001b[34m\u001b[1mDEBUG   \u001b[0m | \u001b[36mvasca.tables\u001b[0m:\u001b[36madd_table\u001b[0m:\u001b[36m159\u001b[0m - \u001b[34m\u001b[1mAdding table 'tt_sources'\u001b[0m\n",
      "\u001b[32m2023-11-15 11:30:38.345\u001b[0m | \u001b[34m\u001b[1mDEBUG   \u001b[0m | \u001b[36mvasca.tables\u001b[0m:\u001b[36madd_table\u001b[0m:\u001b[36m159\u001b[0m - \u001b[34m\u001b[1mAdding table 'tt_detections'\u001b[0m\n",
      "\u001b[32m2023-11-15 11:30:38.351\u001b[0m | \u001b[34m\u001b[1mDEBUG   \u001b[0m | \u001b[36mvasca.tables\u001b[0m:\u001b[36madd_table\u001b[0m:\u001b[36m159\u001b[0m - \u001b[34m\u001b[1mAdding table 'tt_simbad'\u001b[0m\n",
      "\u001b[32m2023-11-15 11:30:38.367\u001b[0m | \u001b[34m\u001b[1mDEBUG   \u001b[0m | \u001b[36mvasca.tables\u001b[0m:\u001b[36madd_table\u001b[0m:\u001b[36m159\u001b[0m - \u001b[34m\u001b[1mAdding table 'tt_gaiadr3'\u001b[0m\n",
      "\u001b[32m2023-11-15 11:30:38.376\u001b[0m | \u001b[34m\u001b[1mDEBUG   \u001b[0m | \u001b[36mvasca.tables\u001b[0m:\u001b[36madd_table\u001b[0m:\u001b[36m159\u001b[0m - \u001b[34m\u001b[1mAdding table 'tt_lombscargle'\u001b[0m\n",
      "\u001b[32m2023-11-15 11:30:38.379\u001b[0m | \u001b[34m\u001b[1mDEBUG   \u001b[0m | \u001b[36mvasca.tables\u001b[0m:\u001b[36madd_table\u001b[0m:\u001b[36m159\u001b[0m - \u001b[34m\u001b[1mAdding table 'tt_visits'\u001b[0m\n",
      "\u001b[32m2023-11-15 11:30:38.382\u001b[0m | \u001b[34m\u001b[1mDEBUG   \u001b[0m | \u001b[36mvasca.tables\u001b[0m:\u001b[36madd_table\u001b[0m:\u001b[36m159\u001b[0m - \u001b[34m\u001b[1mAdding table 'tt_fields'\u001b[0m\n",
      "\u001b[32m2023-11-15 11:30:38.383\u001b[0m | \u001b[34m\u001b[1mDEBUG   \u001b[0m | \u001b[36mvasca.tables\u001b[0m:\u001b[36madd_table\u001b[0m:\u001b[36m159\u001b[0m - \u001b[34m\u001b[1mAdding table 'tt_filters'\u001b[0m\n",
      "\u001b[32m2023-11-15 11:30:38.391\u001b[0m | \u001b[34m\u001b[1mDEBUG   \u001b[0m | \u001b[36mvasca.tables\u001b[0m:\u001b[36madd_table\u001b[0m:\u001b[36m159\u001b[0m - \u001b[34m\u001b[1mAdding table 'tt_source_lc'\u001b[0m\n"
     ]
    },
    {
     "name": "stdout",
     "output_type": "stream",
     "text": [
      "*********** Creating Source Table ID 52994 *****************\n"
     ]
    },
    {
     "name": "stderr",
     "output_type": "stream",
     "text": [
      "\u001b[32m2023-11-15 11:30:38.721\u001b[0m | \u001b[34m\u001b[1mDEBUG   \u001b[0m | \u001b[36mvasca.tables\u001b[0m:\u001b[36madd_table\u001b[0m:\u001b[36m159\u001b[0m - \u001b[34m\u001b[1mAdding table 'region:tt_sed'\u001b[0m\n",
      "\u001b[32m2023-11-15 11:30:38.728\u001b[0m | \u001b[33m\u001b[1mWARNING \u001b[0m | \u001b[36mvasca.source\u001b[0m:\u001b[36madd_vizier_SED\u001b[0m:\u001b[36m100\u001b[0m - \u001b[33m\u001b[1mSkipping row as flux contains nan\u001b[0m\n",
      "\u001b[32m2023-11-15 11:30:38.742\u001b[0m | \u001b[33m\u001b[1mWARNING \u001b[0m | \u001b[36mvasca.source\u001b[0m:\u001b[36madd_vizier_SED\u001b[0m:\u001b[36m100\u001b[0m - \u001b[33m\u001b[1mSkipping row as flux contains nan\u001b[0m\n",
      "\u001b[32m2023-11-15 11:30:38.743\u001b[0m | \u001b[33m\u001b[1mWARNING \u001b[0m | \u001b[36mvasca.source\u001b[0m:\u001b[36madd_vizier_SED\u001b[0m:\u001b[36m100\u001b[0m - \u001b[33m\u001b[1mSkipping row as flux contains nan\u001b[0m\n",
      "\u001b[32m2023-11-15 11:30:38.743\u001b[0m | \u001b[33m\u001b[1mWARNING \u001b[0m | \u001b[36mvasca.source\u001b[0m:\u001b[36madd_vizier_SED\u001b[0m:\u001b[36m100\u001b[0m - \u001b[33m\u001b[1mSkipping row as flux contains nan\u001b[0m\n",
      "\u001b[32m2023-11-15 11:30:38.743\u001b[0m | \u001b[33m\u001b[1mWARNING \u001b[0m | \u001b[36mvasca.source\u001b[0m:\u001b[36madd_vizier_SED\u001b[0m:\u001b[36m100\u001b[0m - \u001b[33m\u001b[1mSkipping row as flux contains nan\u001b[0m\n",
      "\u001b[32m2023-11-15 11:30:38.743\u001b[0m | \u001b[33m\u001b[1mWARNING \u001b[0m | \u001b[36mvasca.source\u001b[0m:\u001b[36madd_vizier_SED\u001b[0m:\u001b[36m100\u001b[0m - \u001b[33m\u001b[1mSkipping row as flux contains nan\u001b[0m\n",
      "\u001b[32m2023-11-15 11:30:38.744\u001b[0m | \u001b[33m\u001b[1mWARNING \u001b[0m | \u001b[36mvasca.source\u001b[0m:\u001b[36madd_vizier_SED\u001b[0m:\u001b[36m100\u001b[0m - \u001b[33m\u001b[1mSkipping row as flux contains nan\u001b[0m\n",
      "\u001b[32m2023-11-15 11:30:38.744\u001b[0m | \u001b[33m\u001b[1mWARNING \u001b[0m | \u001b[36mvasca.source\u001b[0m:\u001b[36madd_vizier_SED\u001b[0m:\u001b[36m100\u001b[0m - \u001b[33m\u001b[1mSkipping row as flux contains nan\u001b[0m\n",
      "\u001b[32m2023-11-15 11:30:38.744\u001b[0m | \u001b[33m\u001b[1mWARNING \u001b[0m | \u001b[36mvasca.source\u001b[0m:\u001b[36madd_vizier_SED\u001b[0m:\u001b[36m100\u001b[0m - \u001b[33m\u001b[1mSkipping row as flux contains nan\u001b[0m\n",
      "\u001b[32m2023-11-15 11:30:38.745\u001b[0m | \u001b[33m\u001b[1mWARNING \u001b[0m | \u001b[36mvasca.source\u001b[0m:\u001b[36madd_vizier_SED\u001b[0m:\u001b[36m100\u001b[0m - \u001b[33m\u001b[1mSkipping row as flux contains nan\u001b[0m\n",
      "\u001b[32m2023-11-15 11:30:38.745\u001b[0m | \u001b[33m\u001b[1mWARNING \u001b[0m | \u001b[36mvasca.source\u001b[0m:\u001b[36madd_vizier_SED\u001b[0m:\u001b[36m100\u001b[0m - \u001b[33m\u001b[1mSkipping row as flux contains nan\u001b[0m\n",
      "\u001b[32m2023-11-15 11:30:38.745\u001b[0m | \u001b[33m\u001b[1mWARNING \u001b[0m | \u001b[36mvasca.source\u001b[0m:\u001b[36madd_vizier_SED\u001b[0m:\u001b[36m100\u001b[0m - \u001b[33m\u001b[1mSkipping row as flux contains nan\u001b[0m\n",
      "\u001b[32m2023-11-15 11:30:38.745\u001b[0m | \u001b[33m\u001b[1mWARNING \u001b[0m | \u001b[36mvasca.source\u001b[0m:\u001b[36madd_vizier_SED\u001b[0m:\u001b[36m100\u001b[0m - \u001b[33m\u001b[1mSkipping row as flux contains nan\u001b[0m\n",
      "\u001b[32m2023-11-15 11:30:38.746\u001b[0m | \u001b[33m\u001b[1mWARNING \u001b[0m | \u001b[36mvasca.source\u001b[0m:\u001b[36madd_vizier_SED\u001b[0m:\u001b[36m100\u001b[0m - \u001b[33m\u001b[1mSkipping row as flux contains nan\u001b[0m\n",
      "\u001b[32m2023-11-15 11:30:38.746\u001b[0m | \u001b[33m\u001b[1mWARNING \u001b[0m | \u001b[36mvasca.source\u001b[0m:\u001b[36madd_vizier_SED\u001b[0m:\u001b[36m100\u001b[0m - \u001b[33m\u001b[1mSkipping row as flux contains nan\u001b[0m\n",
      "\u001b[32m2023-11-15 11:30:38.746\u001b[0m | \u001b[33m\u001b[1mWARNING \u001b[0m | \u001b[36mvasca.source\u001b[0m:\u001b[36madd_vizier_SED\u001b[0m:\u001b[36m100\u001b[0m - \u001b[33m\u001b[1mSkipping row as flux contains nan\u001b[0m\n",
      "\u001b[32m2023-11-15 11:30:38.746\u001b[0m | \u001b[33m\u001b[1mWARNING \u001b[0m | \u001b[36mvasca.source\u001b[0m:\u001b[36madd_vizier_SED\u001b[0m:\u001b[36m100\u001b[0m - \u001b[33m\u001b[1mSkipping row as flux contains nan\u001b[0m\n",
      "\u001b[32m2023-11-15 11:30:38.746\u001b[0m | \u001b[33m\u001b[1mWARNING \u001b[0m | \u001b[36mvasca.source\u001b[0m:\u001b[36madd_vizier_SED\u001b[0m:\u001b[36m100\u001b[0m - \u001b[33m\u001b[1mSkipping row as flux contains nan\u001b[0m\n",
      "\u001b[32m2023-11-15 11:30:38.760\u001b[0m | \u001b[33m\u001b[1mWARNING \u001b[0m | \u001b[36mvasca.source\u001b[0m:\u001b[36madd_vizier_SED\u001b[0m:\u001b[36m100\u001b[0m - \u001b[33m\u001b[1mSkipping row as flux contains nan\u001b[0m\n",
      "\u001b[32m2023-11-15 11:30:38.761\u001b[0m | \u001b[33m\u001b[1mWARNING \u001b[0m | \u001b[36mvasca.source\u001b[0m:\u001b[36madd_vizier_SED\u001b[0m:\u001b[36m100\u001b[0m - \u001b[33m\u001b[1mSkipping row as flux contains nan\u001b[0m\n",
      "\u001b[32m2023-11-15 11:30:38.762\u001b[0m | \u001b[33m\u001b[1mWARNING \u001b[0m | \u001b[36mvasca.source\u001b[0m:\u001b[36madd_vizier_SED\u001b[0m:\u001b[36m100\u001b[0m - \u001b[33m\u001b[1mSkipping row as flux contains nan\u001b[0m\n",
      "\u001b[32m2023-11-15 11:30:38.780\u001b[0m | \u001b[33m\u001b[1mWARNING \u001b[0m | \u001b[36mvasca.source\u001b[0m:\u001b[36madd_vizier_SED\u001b[0m:\u001b[36m100\u001b[0m - \u001b[33m\u001b[1mSkipping row as flux contains nan\u001b[0m\n",
      "\u001b[32m2023-11-15 11:30:38.791\u001b[0m | \u001b[33m\u001b[1mWARNING \u001b[0m | \u001b[36mvasca.source\u001b[0m:\u001b[36madd_vizier_SED\u001b[0m:\u001b[36m100\u001b[0m - \u001b[33m\u001b[1mSkipping row as flux contains nan\u001b[0m\n",
      "\u001b[32m2023-11-15 11:30:38.792\u001b[0m | \u001b[33m\u001b[1mWARNING \u001b[0m | \u001b[36mvasca.source\u001b[0m:\u001b[36madd_vizier_SED\u001b[0m:\u001b[36m100\u001b[0m - \u001b[33m\u001b[1mSkipping row as flux contains nan\u001b[0m\n",
      "\u001b[32m2023-11-15 11:30:38.792\u001b[0m | \u001b[33m\u001b[1mWARNING \u001b[0m | \u001b[36mvasca.source\u001b[0m:\u001b[36madd_vizier_SED\u001b[0m:\u001b[36m100\u001b[0m - \u001b[33m\u001b[1mSkipping row as flux contains nan\u001b[0m\n",
      "\u001b[32m2023-11-15 11:30:38.814\u001b[0m | \u001b[34m\u001b[1mDEBUG   \u001b[0m | \u001b[36mvasca.tables\u001b[0m:\u001b[36madd_table\u001b[0m:\u001b[36m159\u001b[0m - \u001b[34m\u001b[1mAdding table 'region:tt_gphoton_lc'\u001b[0m\n",
      "\u001b[32m2023-11-15 11:30:38.819\u001b[0m | \u001b[34m\u001b[1mDEBUG   \u001b[0m | \u001b[36mvasca.tables\u001b[0m:\u001b[36madd_table\u001b[0m:\u001b[36m159\u001b[0m - \u001b[34m\u001b[1mAdding table 'tt_gphoton_stats'\u001b[0m\n",
      "/home/buehler/miniforge3/envs/vas/lib/python3.10/site-packages/astroquery/sdss/core.py:874: VisibleDeprecationWarning: Reading unicode strings without specifying the encoding argument is deprecated. Set the encoding, use None for the system default.\n",
      "  arr = np.atleast_1d(np.genfromtxt(io.BytesIO(response.content),\n",
      "\u001b[32m2023-11-15 11:30:38.830\u001b[0m | \u001b[34m\u001b[1mDEBUG   \u001b[0m | \u001b[36mvasca.tables\u001b[0m:\u001b[36madd_table\u001b[0m:\u001b[36m159\u001b[0m - \u001b[34m\u001b[1mAdding table 'tt_spectrum_0'\u001b[0m\n",
      "\u001b[32m2023-11-15 11:30:38.834\u001b[0m | \u001b[34m\u001b[1mDEBUG   \u001b[0m | \u001b[36mvasca.tables\u001b[0m:\u001b[36madd_table\u001b[0m:\u001b[36m159\u001b[0m - \u001b[34m\u001b[1mAdding table 'tt_spectrum_1'\u001b[0m\n",
      "\u001b[32m2023-11-15 11:30:38.835\u001b[0m | \u001b[1mINFO    \u001b[0m | \u001b[36mvasca.tables\u001b[0m:\u001b[36mwrite_to_fits\u001b[0m:\u001b[36m224\u001b[0m - \u001b[1mWriting file with name './vasca_pipeline/ALL_10-800_LOOSE/sources/src_52994.fits'\u001b[0m\n",
      "\u001b[32m2023-11-15 11:30:38.836\u001b[0m | \u001b[34m\u001b[1mDEBUG   \u001b[0m | \u001b[36mvasca.tables\u001b[0m:\u001b[36mwrite_to_fits\u001b[0m:\u001b[36m264\u001b[0m - \u001b[34m\u001b[1mWriting table 'tt_sources'\u001b[0m\n",
      "\u001b[32m2023-11-15 11:30:38.872\u001b[0m | \u001b[34m\u001b[1mDEBUG   \u001b[0m | \u001b[36mvasca.tables\u001b[0m:\u001b[36mwrite_to_fits\u001b[0m:\u001b[36m264\u001b[0m - \u001b[34m\u001b[1mWriting table 'tt_detections'\u001b[0m\n",
      "\u001b[32m2023-11-15 11:30:38.884\u001b[0m | \u001b[34m\u001b[1mDEBUG   \u001b[0m | \u001b[36mvasca.tables\u001b[0m:\u001b[36mwrite_to_fits\u001b[0m:\u001b[36m264\u001b[0m - \u001b[34m\u001b[1mWriting table 'tt_simbad'\u001b[0m\n",
      "WARNING: VerifyWarning: Keyword name 'description' is greater than 8 characters or contains characters not allowed by the FITS standard; a HIERARCH card will be created. [astropy.io.fits.card]\n",
      "\u001b[32m2023-11-15 11:30:38.931\u001b[0m | \u001b[34m\u001b[1mDEBUG   \u001b[0m | \u001b[36mvasca.tables\u001b[0m:\u001b[36mwrite_to_fits\u001b[0m:\u001b[36m264\u001b[0m - \u001b[34m\u001b[1mWriting table 'tt_gaiadr3'\u001b[0m\n",
      "WARNING: UnitsWarning: 'log(cm.s**-2)' did not parse as fits unit: 'log' is not a recognized function If this is meant to be a custom unit, define it with 'u.def_unit'. To have it recognized inside a file reader or other code, enable it with 'u.add_enabled_units'. For details, see https://docs.astropy.org/en/latest/units/combining_and_defining.html [astropy.units.core]\n"
     ]
    },
    {
     "name": "stdout",
     "output_type": "stream",
     "text": [
      "{'rg_src_id': [52994], 'nr_det': [[31, 11]], 'wght_mean': [[121.36320318400902, 140.46304089114707]], 'wght_mean_err': [[0.42413420310844246, 1.3030391558710634]], 'var': [[16.37987122687809, 25.196640356923254]], 'nxv': [[0.0005148473785863202, -0.0012420644558744144]], 'rchiq': [[2.3740684882863525, 0.9420215537607243]], 'cpval': [[3.3243979363832145e-05, 0.49274101678588145]]}\n"
     ]
    },
    {
     "name": "stderr",
     "output_type": "stream",
     "text": [
      "\u001b[32m2023-11-15 11:30:39.093\u001b[0m | \u001b[34m\u001b[1mDEBUG   \u001b[0m | \u001b[36mvasca.tables\u001b[0m:\u001b[36mwrite_to_fits\u001b[0m:\u001b[36m264\u001b[0m - \u001b[34m\u001b[1mWriting table 'tt_lombscargle'\u001b[0m\n",
      "\u001b[32m2023-11-15 11:30:39.100\u001b[0m | \u001b[34m\u001b[1mDEBUG   \u001b[0m | \u001b[36mvasca.tables\u001b[0m:\u001b[36mwrite_to_fits\u001b[0m:\u001b[36m264\u001b[0m - \u001b[34m\u001b[1mWriting table 'tt_visits'\u001b[0m\n",
      "\u001b[32m2023-11-15 11:30:39.108\u001b[0m | \u001b[34m\u001b[1mDEBUG   \u001b[0m | \u001b[36mvasca.tables\u001b[0m:\u001b[36mwrite_to_fits\u001b[0m:\u001b[36m264\u001b[0m - \u001b[34m\u001b[1mWriting table 'tt_fields'\u001b[0m\n",
      "\u001b[32m2023-11-15 11:30:39.119\u001b[0m | \u001b[34m\u001b[1mDEBUG   \u001b[0m | \u001b[36mvasca.tables\u001b[0m:\u001b[36mwrite_to_fits\u001b[0m:\u001b[36m264\u001b[0m - \u001b[34m\u001b[1mWriting table 'tt_filters'\u001b[0m\n",
      "\u001b[32m2023-11-15 11:30:39.125\u001b[0m | \u001b[34m\u001b[1mDEBUG   \u001b[0m | \u001b[36mvasca.tables\u001b[0m:\u001b[36mwrite_to_fits\u001b[0m:\u001b[36m264\u001b[0m - \u001b[34m\u001b[1mWriting table 'tt_source_lc'\u001b[0m\n",
      "WARNING: VerifyWarning: Keyword name 'rg_src_id' is greater than 8 characters or contains characters not allowed by the FITS standard; a HIERARCH card will be created. [astropy.io.fits.card]\n",
      "\u001b[32m2023-11-15 11:30:39.136\u001b[0m | \u001b[34m\u001b[1mDEBUG   \u001b[0m | \u001b[36mvasca.tables\u001b[0m:\u001b[36mwrite_to_fits\u001b[0m:\u001b[36m264\u001b[0m - \u001b[34m\u001b[1mWriting table 'tt_sed'\u001b[0m\n",
      "\u001b[32m2023-11-15 11:30:39.144\u001b[0m | \u001b[34m\u001b[1mDEBUG   \u001b[0m | \u001b[36mvasca.tables\u001b[0m:\u001b[36mwrite_to_fits\u001b[0m:\u001b[36m264\u001b[0m - \u001b[34m\u001b[1mWriting table 'tt_gphoton_lc'\u001b[0m\n",
      "\u001b[32m2023-11-15 11:30:39.153\u001b[0m | \u001b[34m\u001b[1mDEBUG   \u001b[0m | \u001b[36mvasca.tables\u001b[0m:\u001b[36mwrite_to_fits\u001b[0m:\u001b[36m264\u001b[0m - \u001b[34m\u001b[1mWriting table 'tt_gphoton_stats'\u001b[0m\n",
      "\u001b[32m2023-11-15 11:30:39.161\u001b[0m | \u001b[34m\u001b[1mDEBUG   \u001b[0m | \u001b[36mvasca.tables\u001b[0m:\u001b[36mwrite_to_fits\u001b[0m:\u001b[36m264\u001b[0m - \u001b[34m\u001b[1mWriting table 'tt_spectrum_0'\u001b[0m\n",
      "\u001b[32m2023-11-15 11:30:39.168\u001b[0m | \u001b[34m\u001b[1mDEBUG   \u001b[0m | \u001b[36mvasca.tables\u001b[0m:\u001b[36mwrite_to_fits\u001b[0m:\u001b[36m264\u001b[0m - \u001b[34m\u001b[1mWriting table 'tt_spectrum_1'\u001b[0m\n",
      "\u001b[32m2023-11-15 11:30:39.352\u001b[0m | \u001b[34m\u001b[1mDEBUG   \u001b[0m | \u001b[36mvasca.region\u001b[0m:\u001b[36mget_src_from_id\u001b[0m:\u001b[36m337\u001b[0m - \u001b[34m\u001b[1mGetting Source object for rg_src_id: 120265\u001b[0m\n",
      "\u001b[32m2023-11-15 11:30:39.357\u001b[0m | \u001b[34m\u001b[1mDEBUG   \u001b[0m | \u001b[36mvasca.tables\u001b[0m:\u001b[36madd_table\u001b[0m:\u001b[36m159\u001b[0m - \u001b[34m\u001b[1mAdding table 'tt_sources'\u001b[0m\n",
      "\u001b[32m2023-11-15 11:30:39.386\u001b[0m | \u001b[34m\u001b[1mDEBUG   \u001b[0m | \u001b[36mvasca.tables\u001b[0m:\u001b[36madd_table\u001b[0m:\u001b[36m159\u001b[0m - \u001b[34m\u001b[1mAdding table 'tt_detections'\u001b[0m\n",
      "\u001b[32m2023-11-15 11:30:39.393\u001b[0m | \u001b[34m\u001b[1mDEBUG   \u001b[0m | \u001b[36mvasca.tables\u001b[0m:\u001b[36madd_table\u001b[0m:\u001b[36m159\u001b[0m - \u001b[34m\u001b[1mAdding table 'tt_simbad'\u001b[0m\n",
      "\u001b[32m2023-11-15 11:30:39.409\u001b[0m | \u001b[34m\u001b[1mDEBUG   \u001b[0m | \u001b[36mvasca.tables\u001b[0m:\u001b[36madd_table\u001b[0m:\u001b[36m159\u001b[0m - \u001b[34m\u001b[1mAdding table 'tt_gaiadr3'\u001b[0m\n",
      "\u001b[32m2023-11-15 11:30:39.417\u001b[0m | \u001b[34m\u001b[1mDEBUG   \u001b[0m | \u001b[36mvasca.tables\u001b[0m:\u001b[36madd_table\u001b[0m:\u001b[36m159\u001b[0m - \u001b[34m\u001b[1mAdding table 'tt_lombscargle'\u001b[0m\n",
      "\u001b[32m2023-11-15 11:30:39.420\u001b[0m | \u001b[34m\u001b[1mDEBUG   \u001b[0m | \u001b[36mvasca.tables\u001b[0m:\u001b[36madd_table\u001b[0m:\u001b[36m159\u001b[0m - \u001b[34m\u001b[1mAdding table 'tt_visits'\u001b[0m\n",
      "\u001b[32m2023-11-15 11:30:39.423\u001b[0m | \u001b[34m\u001b[1mDEBUG   \u001b[0m | \u001b[36mvasca.tables\u001b[0m:\u001b[36madd_table\u001b[0m:\u001b[36m159\u001b[0m - \u001b[34m\u001b[1mAdding table 'tt_fields'\u001b[0m\n",
      "\u001b[32m2023-11-15 11:30:39.424\u001b[0m | \u001b[34m\u001b[1mDEBUG   \u001b[0m | \u001b[36mvasca.tables\u001b[0m:\u001b[36madd_table\u001b[0m:\u001b[36m159\u001b[0m - \u001b[34m\u001b[1mAdding table 'tt_filters'\u001b[0m\n",
      "\u001b[32m2023-11-15 11:30:39.432\u001b[0m | \u001b[34m\u001b[1mDEBUG   \u001b[0m | \u001b[36mvasca.tables\u001b[0m:\u001b[36madd_table\u001b[0m:\u001b[36m159\u001b[0m - \u001b[34m\u001b[1mAdding table 'tt_source_lc'\u001b[0m\n"
     ]
    },
    {
     "name": "stdout",
     "output_type": "stream",
     "text": [
      "*********** Creating Source Table ID 120265 *****************\n"
     ]
    },
    {
     "name": "stderr",
     "output_type": "stream",
     "text": [
      "\u001b[32m2023-11-15 11:30:39.698\u001b[0m | \u001b[34m\u001b[1mDEBUG   \u001b[0m | \u001b[36mvasca.tables\u001b[0m:\u001b[36madd_table\u001b[0m:\u001b[36m159\u001b[0m - \u001b[34m\u001b[1mAdding table 'region:tt_sed'\u001b[0m\n",
      "\u001b[32m2023-11-15 11:30:39.704\u001b[0m | \u001b[33m\u001b[1mWARNING \u001b[0m | \u001b[36mvasca.source\u001b[0m:\u001b[36madd_vizier_SED\u001b[0m:\u001b[36m100\u001b[0m - \u001b[33m\u001b[1mSkipping row as flux contains nan\u001b[0m\n",
      "\u001b[32m2023-11-15 11:30:39.726\u001b[0m | \u001b[33m\u001b[1mWARNING \u001b[0m | \u001b[36mvasca.source\u001b[0m:\u001b[36madd_vizier_SED\u001b[0m:\u001b[36m100\u001b[0m - \u001b[33m\u001b[1mSkipping row as flux contains nan\u001b[0m\n",
      "\u001b[32m2023-11-15 11:30:39.728\u001b[0m | \u001b[33m\u001b[1mWARNING \u001b[0m | \u001b[36mvasca.source\u001b[0m:\u001b[36madd_vizier_SED\u001b[0m:\u001b[36m100\u001b[0m - \u001b[33m\u001b[1mSkipping row as flux contains nan\u001b[0m\n",
      "\u001b[32m2023-11-15 11:30:39.729\u001b[0m | \u001b[33m\u001b[1mWARNING \u001b[0m | \u001b[36mvasca.source\u001b[0m:\u001b[36madd_vizier_SED\u001b[0m:\u001b[36m100\u001b[0m - \u001b[33m\u001b[1mSkipping row as flux contains nan\u001b[0m\n",
      "\u001b[32m2023-11-15 11:30:39.729\u001b[0m | \u001b[33m\u001b[1mWARNING \u001b[0m | \u001b[36mvasca.source\u001b[0m:\u001b[36madd_vizier_SED\u001b[0m:\u001b[36m100\u001b[0m - \u001b[33m\u001b[1mSkipping row as flux contains nan\u001b[0m\n",
      "\u001b[32m2023-11-15 11:30:39.741\u001b[0m | \u001b[34m\u001b[1mDEBUG   \u001b[0m | \u001b[36mvasca.tables\u001b[0m:\u001b[36madd_table\u001b[0m:\u001b[36m159\u001b[0m - \u001b[34m\u001b[1mAdding table 'region:tt_gphoton_lc'\u001b[0m\n",
      "\u001b[32m2023-11-15 11:30:39.744\u001b[0m | \u001b[34m\u001b[1mDEBUG   \u001b[0m | \u001b[36mvasca.tables\u001b[0m:\u001b[36madd_table\u001b[0m:\u001b[36m159\u001b[0m - \u001b[34m\u001b[1mAdding table 'tt_gphoton_stats'\u001b[0m\n",
      "\u001b[32m2023-11-15 11:30:39.746\u001b[0m | \u001b[33m\u001b[1mWARNING \u001b[0m | \u001b[36mvasca.source\u001b[0m:\u001b[36madd_spectrum\u001b[0m:\u001b[36m296\u001b[0m - \u001b[33m\u001b[1mNo spectrum found\u001b[0m\n",
      "\u001b[32m2023-11-15 11:30:39.747\u001b[0m | \u001b[1mINFO    \u001b[0m | \u001b[36mvasca.tables\u001b[0m:\u001b[36mwrite_to_fits\u001b[0m:\u001b[36m224\u001b[0m - \u001b[1mWriting file with name './vasca_pipeline/ALL_10-800_LOOSE/sources/src_120265.fits'\u001b[0m\n",
      "\u001b[32m2023-11-15 11:30:39.748\u001b[0m | \u001b[34m\u001b[1mDEBUG   \u001b[0m | \u001b[36mvasca.tables\u001b[0m:\u001b[36mwrite_to_fits\u001b[0m:\u001b[36m264\u001b[0m - \u001b[34m\u001b[1mWriting table 'tt_sources'\u001b[0m\n",
      "\u001b[32m2023-11-15 11:30:39.780\u001b[0m | \u001b[34m\u001b[1mDEBUG   \u001b[0m | \u001b[36mvasca.tables\u001b[0m:\u001b[36mwrite_to_fits\u001b[0m:\u001b[36m264\u001b[0m - \u001b[34m\u001b[1mWriting table 'tt_detections'\u001b[0m\n",
      "\u001b[32m2023-11-15 11:30:39.791\u001b[0m | \u001b[34m\u001b[1mDEBUG   \u001b[0m | \u001b[36mvasca.tables\u001b[0m:\u001b[36mwrite_to_fits\u001b[0m:\u001b[36m264\u001b[0m - \u001b[34m\u001b[1mWriting table 'tt_simbad'\u001b[0m\n",
      "WARNING: VerifyWarning: Keyword name 'description' is greater than 8 characters or contains characters not allowed by the FITS standard; a HIERARCH card will be created. [astropy.io.fits.card]\n",
      "\u001b[32m2023-11-15 11:30:39.838\u001b[0m | \u001b[34m\u001b[1mDEBUG   \u001b[0m | \u001b[36mvasca.tables\u001b[0m:\u001b[36mwrite_to_fits\u001b[0m:\u001b[36m264\u001b[0m - \u001b[34m\u001b[1mWriting table 'tt_gaiadr3'\u001b[0m\n",
      "WARNING: UnitsWarning: 'log(cm.s**-2)' did not parse as fits unit: 'log' is not a recognized function If this is meant to be a custom unit, define it with 'u.def_unit'. To have it recognized inside a file reader or other code, enable it with 'u.add_enabled_units'. For details, see https://docs.astropy.org/en/latest/units/combining_and_defining.html [astropy.units.core]\n"
     ]
    },
    {
     "name": "stdout",
     "output_type": "stream",
     "text": [
      "{'rg_src_id': [120265], 'nr_det': [[20, 7]], 'wght_mean': [[137.38358844672456, 198.51232739784663]], 'wght_mean_err': [[0.5069071385176055, 2.417559790508921]], 'var': [[5.895941431253552, 313.65492771348374]], 'nxv': [[-0.0001842599480210861, 0.005926442798670418]], 'rchiq': [[0.9921085660809499, 3.4546095777288506]], 'cpval': [[0.4664920928289559, 0.0020531271296649035]]}\n"
     ]
    },
    {
     "name": "stderr",
     "output_type": "stream",
     "text": [
      "\u001b[32m2023-11-15 11:30:40.003\u001b[0m | \u001b[34m\u001b[1mDEBUG   \u001b[0m | \u001b[36mvasca.tables\u001b[0m:\u001b[36mwrite_to_fits\u001b[0m:\u001b[36m264\u001b[0m - \u001b[34m\u001b[1mWriting table 'tt_lombscargle'\u001b[0m\n",
      "\u001b[32m2023-11-15 11:30:40.010\u001b[0m | \u001b[34m\u001b[1mDEBUG   \u001b[0m | \u001b[36mvasca.tables\u001b[0m:\u001b[36mwrite_to_fits\u001b[0m:\u001b[36m264\u001b[0m - \u001b[34m\u001b[1mWriting table 'tt_visits'\u001b[0m\n",
      "\u001b[32m2023-11-15 11:30:40.015\u001b[0m | \u001b[34m\u001b[1mDEBUG   \u001b[0m | \u001b[36mvasca.tables\u001b[0m:\u001b[36mwrite_to_fits\u001b[0m:\u001b[36m264\u001b[0m - \u001b[34m\u001b[1mWriting table 'tt_fields'\u001b[0m\n",
      "\u001b[32m2023-11-15 11:30:40.028\u001b[0m | \u001b[34m\u001b[1mDEBUG   \u001b[0m | \u001b[36mvasca.tables\u001b[0m:\u001b[36mwrite_to_fits\u001b[0m:\u001b[36m264\u001b[0m - \u001b[34m\u001b[1mWriting table 'tt_filters'\u001b[0m\n",
      "\u001b[32m2023-11-15 11:30:40.033\u001b[0m | \u001b[34m\u001b[1mDEBUG   \u001b[0m | \u001b[36mvasca.tables\u001b[0m:\u001b[36mwrite_to_fits\u001b[0m:\u001b[36m264\u001b[0m - \u001b[34m\u001b[1mWriting table 'tt_source_lc'\u001b[0m\n",
      "WARNING: VerifyWarning: Keyword name 'rg_src_id' is greater than 8 characters or contains characters not allowed by the FITS standard; a HIERARCH card will be created. [astropy.io.fits.card]\n",
      "\u001b[32m2023-11-15 11:30:40.043\u001b[0m | \u001b[34m\u001b[1mDEBUG   \u001b[0m | \u001b[36mvasca.tables\u001b[0m:\u001b[36mwrite_to_fits\u001b[0m:\u001b[36m264\u001b[0m - \u001b[34m\u001b[1mWriting table 'tt_sed'\u001b[0m\n",
      "\u001b[32m2023-11-15 11:30:40.050\u001b[0m | \u001b[34m\u001b[1mDEBUG   \u001b[0m | \u001b[36mvasca.tables\u001b[0m:\u001b[36mwrite_to_fits\u001b[0m:\u001b[36m264\u001b[0m - \u001b[34m\u001b[1mWriting table 'tt_gphoton_lc'\u001b[0m\n",
      "\u001b[32m2023-11-15 11:30:40.060\u001b[0m | \u001b[34m\u001b[1mDEBUG   \u001b[0m | \u001b[36mvasca.tables\u001b[0m:\u001b[36mwrite_to_fits\u001b[0m:\u001b[36m264\u001b[0m - \u001b[34m\u001b[1mWriting table 'tt_gphoton_stats'\u001b[0m\n",
      "\u001b[32m2023-11-15 11:30:40.217\u001b[0m | \u001b[34m\u001b[1mDEBUG   \u001b[0m | \u001b[36mvasca.region\u001b[0m:\u001b[36mget_src_from_id\u001b[0m:\u001b[36m337\u001b[0m - \u001b[34m\u001b[1mGetting Source object for rg_src_id: 221349\u001b[0m\n",
      "\u001b[32m2023-11-15 11:30:40.274\u001b[0m | \u001b[34m\u001b[1mDEBUG   \u001b[0m | \u001b[36mvasca.tables\u001b[0m:\u001b[36madd_table\u001b[0m:\u001b[36m159\u001b[0m - \u001b[34m\u001b[1mAdding table 'tt_sources'\u001b[0m\n",
      "\u001b[32m2023-11-15 11:30:40.303\u001b[0m | \u001b[34m\u001b[1mDEBUG   \u001b[0m | \u001b[36mvasca.tables\u001b[0m:\u001b[36madd_table\u001b[0m:\u001b[36m159\u001b[0m - \u001b[34m\u001b[1mAdding table 'tt_detections'\u001b[0m\n",
      "\u001b[32m2023-11-15 11:30:40.310\u001b[0m | \u001b[34m\u001b[1mDEBUG   \u001b[0m | \u001b[36mvasca.tables\u001b[0m:\u001b[36madd_table\u001b[0m:\u001b[36m159\u001b[0m - \u001b[34m\u001b[1mAdding table 'tt_simbad'\u001b[0m\n",
      "\u001b[32m2023-11-15 11:30:40.324\u001b[0m | \u001b[34m\u001b[1mDEBUG   \u001b[0m | \u001b[36mvasca.tables\u001b[0m:\u001b[36madd_table\u001b[0m:\u001b[36m159\u001b[0m - \u001b[34m\u001b[1mAdding table 'tt_gaiadr3'\u001b[0m\n",
      "\u001b[32m2023-11-15 11:30:40.334\u001b[0m | \u001b[34m\u001b[1mDEBUG   \u001b[0m | \u001b[36mvasca.tables\u001b[0m:\u001b[36madd_table\u001b[0m:\u001b[36m159\u001b[0m - \u001b[34m\u001b[1mAdding table 'tt_visits'\u001b[0m\n",
      "\u001b[32m2023-11-15 11:30:40.337\u001b[0m | \u001b[34m\u001b[1mDEBUG   \u001b[0m | \u001b[36mvasca.tables\u001b[0m:\u001b[36madd_table\u001b[0m:\u001b[36m159\u001b[0m - \u001b[34m\u001b[1mAdding table 'tt_fields'\u001b[0m\n",
      "\u001b[32m2023-11-15 11:30:40.338\u001b[0m | \u001b[34m\u001b[1mDEBUG   \u001b[0m | \u001b[36mvasca.tables\u001b[0m:\u001b[36madd_table\u001b[0m:\u001b[36m159\u001b[0m - \u001b[34m\u001b[1mAdding table 'tt_filters'\u001b[0m\n",
      "\u001b[32m2023-11-15 11:30:40.344\u001b[0m | \u001b[34m\u001b[1mDEBUG   \u001b[0m | \u001b[36mvasca.tables\u001b[0m:\u001b[36madd_table\u001b[0m:\u001b[36m159\u001b[0m - \u001b[34m\u001b[1mAdding table 'tt_source_lc'\u001b[0m\n"
     ]
    },
    {
     "name": "stdout",
     "output_type": "stream",
     "text": [
      "*********** Creating Source Table ID 221349 *****************\n"
     ]
    },
    {
     "name": "stderr",
     "output_type": "stream",
     "text": [
      "\u001b[32m2023-11-15 11:30:40.748\u001b[0m | \u001b[34m\u001b[1mDEBUG   \u001b[0m | \u001b[36mvasca.tables\u001b[0m:\u001b[36madd_table\u001b[0m:\u001b[36m159\u001b[0m - \u001b[34m\u001b[1mAdding table 'region:tt_sed'\u001b[0m\n",
      "\u001b[32m2023-11-15 11:30:40.757\u001b[0m | \u001b[33m\u001b[1mWARNING \u001b[0m | \u001b[36mvasca.source\u001b[0m:\u001b[36madd_vizier_SED\u001b[0m:\u001b[36m100\u001b[0m - \u001b[33m\u001b[1mSkipping row as flux contains nan\u001b[0m\n",
      "\u001b[32m2023-11-15 11:30:40.758\u001b[0m | \u001b[33m\u001b[1mWARNING \u001b[0m | \u001b[36mvasca.source\u001b[0m:\u001b[36madd_vizier_SED\u001b[0m:\u001b[36m100\u001b[0m - \u001b[33m\u001b[1mSkipping row as flux contains nan\u001b[0m\n",
      "\u001b[32m2023-11-15 11:30:40.759\u001b[0m | \u001b[33m\u001b[1mWARNING \u001b[0m | \u001b[36mvasca.source\u001b[0m:\u001b[36madd_vizier_SED\u001b[0m:\u001b[36m100\u001b[0m - \u001b[33m\u001b[1mSkipping row as flux contains nan\u001b[0m\n",
      "\u001b[32m2023-11-15 11:30:40.759\u001b[0m | \u001b[33m\u001b[1mWARNING \u001b[0m | \u001b[36mvasca.source\u001b[0m:\u001b[36madd_vizier_SED\u001b[0m:\u001b[36m100\u001b[0m - \u001b[33m\u001b[1mSkipping row as flux contains nan\u001b[0m\n",
      "\u001b[32m2023-11-15 11:30:40.759\u001b[0m | \u001b[33m\u001b[1mWARNING \u001b[0m | \u001b[36mvasca.source\u001b[0m:\u001b[36madd_vizier_SED\u001b[0m:\u001b[36m100\u001b[0m - \u001b[33m\u001b[1mSkipping row as flux contains nan\u001b[0m\n",
      "\u001b[32m2023-11-15 11:30:40.760\u001b[0m | \u001b[33m\u001b[1mWARNING \u001b[0m | \u001b[36mvasca.source\u001b[0m:\u001b[36madd_vizier_SED\u001b[0m:\u001b[36m100\u001b[0m - \u001b[33m\u001b[1mSkipping row as flux contains nan\u001b[0m\n",
      "\u001b[32m2023-11-15 11:30:40.760\u001b[0m | \u001b[33m\u001b[1mWARNING \u001b[0m | \u001b[36mvasca.source\u001b[0m:\u001b[36madd_vizier_SED\u001b[0m:\u001b[36m100\u001b[0m - \u001b[33m\u001b[1mSkipping row as flux contains nan\u001b[0m\n",
      "\u001b[32m2023-11-15 11:30:40.760\u001b[0m | \u001b[33m\u001b[1mWARNING \u001b[0m | \u001b[36mvasca.source\u001b[0m:\u001b[36madd_vizier_SED\u001b[0m:\u001b[36m100\u001b[0m - \u001b[33m\u001b[1mSkipping row as flux contains nan\u001b[0m\n",
      "\u001b[32m2023-11-15 11:30:40.761\u001b[0m | \u001b[33m\u001b[1mWARNING \u001b[0m | \u001b[36mvasca.source\u001b[0m:\u001b[36madd_vizier_SED\u001b[0m:\u001b[36m100\u001b[0m - \u001b[33m\u001b[1mSkipping row as flux contains nan\u001b[0m\n",
      "\u001b[32m2023-11-15 11:30:40.761\u001b[0m | \u001b[33m\u001b[1mWARNING \u001b[0m | \u001b[36mvasca.source\u001b[0m:\u001b[36madd_vizier_SED\u001b[0m:\u001b[36m100\u001b[0m - \u001b[33m\u001b[1mSkipping row as flux contains nan\u001b[0m\n",
      "\u001b[32m2023-11-15 11:30:40.761\u001b[0m | \u001b[33m\u001b[1mWARNING \u001b[0m | \u001b[36mvasca.source\u001b[0m:\u001b[36madd_vizier_SED\u001b[0m:\u001b[36m100\u001b[0m - \u001b[33m\u001b[1mSkipping row as flux contains nan\u001b[0m\n",
      "\u001b[32m2023-11-15 11:30:40.762\u001b[0m | \u001b[33m\u001b[1mWARNING \u001b[0m | \u001b[36mvasca.source\u001b[0m:\u001b[36madd_vizier_SED\u001b[0m:\u001b[36m100\u001b[0m - \u001b[33m\u001b[1mSkipping row as flux contains nan\u001b[0m\n",
      "\u001b[32m2023-11-15 11:30:40.851\u001b[0m | \u001b[33m\u001b[1mWARNING \u001b[0m | \u001b[36mvasca.source\u001b[0m:\u001b[36madd_vizier_SED\u001b[0m:\u001b[36m100\u001b[0m - \u001b[33m\u001b[1mSkipping row as flux contains nan\u001b[0m\n",
      "\u001b[32m2023-11-15 11:30:40.856\u001b[0m | \u001b[33m\u001b[1mWARNING \u001b[0m | \u001b[36mvasca.source\u001b[0m:\u001b[36madd_vizier_SED\u001b[0m:\u001b[36m100\u001b[0m - \u001b[33m\u001b[1mSkipping row as flux contains nan\u001b[0m\n",
      "\u001b[32m2023-11-15 11:30:40.857\u001b[0m | \u001b[33m\u001b[1mWARNING \u001b[0m | \u001b[36mvasca.source\u001b[0m:\u001b[36madd_vizier_SED\u001b[0m:\u001b[36m100\u001b[0m - \u001b[33m\u001b[1mSkipping row as flux contains nan\u001b[0m\n",
      "\u001b[32m2023-11-15 11:30:40.858\u001b[0m | \u001b[33m\u001b[1mWARNING \u001b[0m | \u001b[36mvasca.source\u001b[0m:\u001b[36madd_vizier_SED\u001b[0m:\u001b[36m100\u001b[0m - \u001b[33m\u001b[1mSkipping row as flux contains nan\u001b[0m\n",
      "\u001b[32m2023-11-15 11:30:40.858\u001b[0m | \u001b[33m\u001b[1mWARNING \u001b[0m | \u001b[36mvasca.source\u001b[0m:\u001b[36madd_vizier_SED\u001b[0m:\u001b[36m100\u001b[0m - \u001b[33m\u001b[1mSkipping row as flux contains nan\u001b[0m\n",
      "\u001b[32m2023-11-15 11:30:40.859\u001b[0m | \u001b[33m\u001b[1mWARNING \u001b[0m | \u001b[36mvasca.source\u001b[0m:\u001b[36madd_vizier_SED\u001b[0m:\u001b[36m100\u001b[0m - \u001b[33m\u001b[1mSkipping row as flux contains nan\u001b[0m\n",
      "\u001b[32m2023-11-15 11:30:40.859\u001b[0m | \u001b[33m\u001b[1mWARNING \u001b[0m | \u001b[36mvasca.source\u001b[0m:\u001b[36madd_vizier_SED\u001b[0m:\u001b[36m100\u001b[0m - \u001b[33m\u001b[1mSkipping row as flux contains nan\u001b[0m\n",
      "\u001b[32m2023-11-15 11:30:40.860\u001b[0m | \u001b[33m\u001b[1mWARNING \u001b[0m | \u001b[36mvasca.source\u001b[0m:\u001b[36madd_vizier_SED\u001b[0m:\u001b[36m100\u001b[0m - \u001b[33m\u001b[1mSkipping row as flux contains nan\u001b[0m\n",
      "\u001b[32m2023-11-15 11:30:40.860\u001b[0m | \u001b[33m\u001b[1mWARNING \u001b[0m | \u001b[36mvasca.source\u001b[0m:\u001b[36madd_vizier_SED\u001b[0m:\u001b[36m100\u001b[0m - \u001b[33m\u001b[1mSkipping row as flux contains nan\u001b[0m\n",
      "\u001b[32m2023-11-15 11:30:40.860\u001b[0m | \u001b[33m\u001b[1mWARNING \u001b[0m | \u001b[36mvasca.source\u001b[0m:\u001b[36madd_vizier_SED\u001b[0m:\u001b[36m100\u001b[0m - \u001b[33m\u001b[1mSkipping row as flux contains nan\u001b[0m\n",
      "\u001b[32m2023-11-15 11:30:40.861\u001b[0m | \u001b[33m\u001b[1mWARNING \u001b[0m | \u001b[36mvasca.source\u001b[0m:\u001b[36madd_vizier_SED\u001b[0m:\u001b[36m100\u001b[0m - \u001b[33m\u001b[1mSkipping row as flux contains nan\u001b[0m\n",
      "\u001b[32m2023-11-15 11:30:40.861\u001b[0m | \u001b[33m\u001b[1mWARNING \u001b[0m | \u001b[36mvasca.source\u001b[0m:\u001b[36madd_vizier_SED\u001b[0m:\u001b[36m100\u001b[0m - \u001b[33m\u001b[1mSkipping row as flux contains nan\u001b[0m\n",
      "\u001b[32m2023-11-15 11:30:40.862\u001b[0m | \u001b[33m\u001b[1mWARNING \u001b[0m | \u001b[36mvasca.source\u001b[0m:\u001b[36madd_vizier_SED\u001b[0m:\u001b[36m100\u001b[0m - \u001b[33m\u001b[1mSkipping row as flux contains nan\u001b[0m\n",
      "\u001b[32m2023-11-15 11:30:40.864\u001b[0m | \u001b[33m\u001b[1mWARNING \u001b[0m | \u001b[36mvasca.source\u001b[0m:\u001b[36madd_vizier_SED\u001b[0m:\u001b[36m100\u001b[0m - \u001b[33m\u001b[1mSkipping row as flux contains nan\u001b[0m\n",
      "\u001b[32m2023-11-15 11:30:40.865\u001b[0m | \u001b[33m\u001b[1mWARNING \u001b[0m | \u001b[36mvasca.source\u001b[0m:\u001b[36madd_vizier_SED\u001b[0m:\u001b[36m100\u001b[0m - \u001b[33m\u001b[1mSkipping row as flux contains nan\u001b[0m\n",
      "\u001b[32m2023-11-15 11:30:40.865\u001b[0m | \u001b[33m\u001b[1mWARNING \u001b[0m | \u001b[36mvasca.source\u001b[0m:\u001b[36madd_vizier_SED\u001b[0m:\u001b[36m100\u001b[0m - \u001b[33m\u001b[1mSkipping row as flux contains nan\u001b[0m\n",
      "\u001b[32m2023-11-15 11:30:40.867\u001b[0m | \u001b[33m\u001b[1mWARNING \u001b[0m | \u001b[36mvasca.source\u001b[0m:\u001b[36madd_vizier_SED\u001b[0m:\u001b[36m100\u001b[0m - \u001b[33m\u001b[1mSkipping row as flux contains nan\u001b[0m\n",
      "\u001b[32m2023-11-15 11:30:40.869\u001b[0m | \u001b[33m\u001b[1mWARNING \u001b[0m | \u001b[36mvasca.source\u001b[0m:\u001b[36madd_vizier_SED\u001b[0m:\u001b[36m100\u001b[0m - \u001b[33m\u001b[1mSkipping row as flux contains nan\u001b[0m\n",
      "\u001b[32m2023-11-15 11:30:40.871\u001b[0m | \u001b[33m\u001b[1mWARNING \u001b[0m | \u001b[36mvasca.source\u001b[0m:\u001b[36madd_vizier_SED\u001b[0m:\u001b[36m100\u001b[0m - \u001b[33m\u001b[1mSkipping row as flux contains nan\u001b[0m\n",
      "\u001b[32m2023-11-15 11:30:40.873\u001b[0m | \u001b[33m\u001b[1mWARNING \u001b[0m | \u001b[36mvasca.source\u001b[0m:\u001b[36madd_vizier_SED\u001b[0m:\u001b[36m100\u001b[0m - \u001b[33m\u001b[1mSkipping row as flux contains nan\u001b[0m\n",
      "\u001b[32m2023-11-15 11:30:40.875\u001b[0m | \u001b[33m\u001b[1mWARNING \u001b[0m | \u001b[36mvasca.source\u001b[0m:\u001b[36madd_vizier_SED\u001b[0m:\u001b[36m100\u001b[0m - \u001b[33m\u001b[1mSkipping row as flux contains nan\u001b[0m\n",
      "\u001b[32m2023-11-15 11:30:40.877\u001b[0m | \u001b[33m\u001b[1mWARNING \u001b[0m | \u001b[36mvasca.source\u001b[0m:\u001b[36madd_vizier_SED\u001b[0m:\u001b[36m100\u001b[0m - \u001b[33m\u001b[1mSkipping row as flux contains nan\u001b[0m\n",
      "\u001b[32m2023-11-15 11:30:40.879\u001b[0m | \u001b[33m\u001b[1mWARNING \u001b[0m | \u001b[36mvasca.source\u001b[0m:\u001b[36madd_vizier_SED\u001b[0m:\u001b[36m100\u001b[0m - \u001b[33m\u001b[1mSkipping row as flux contains nan\u001b[0m\n",
      "\u001b[32m2023-11-15 11:30:40.881\u001b[0m | \u001b[33m\u001b[1mWARNING \u001b[0m | \u001b[36mvasca.source\u001b[0m:\u001b[36madd_vizier_SED\u001b[0m:\u001b[36m100\u001b[0m - \u001b[33m\u001b[1mSkipping row as flux contains nan\u001b[0m\n",
      "\u001b[32m2023-11-15 11:30:40.883\u001b[0m | \u001b[33m\u001b[1mWARNING \u001b[0m | \u001b[36mvasca.source\u001b[0m:\u001b[36madd_vizier_SED\u001b[0m:\u001b[36m100\u001b[0m - \u001b[33m\u001b[1mSkipping row as flux contains nan\u001b[0m\n",
      "\u001b[32m2023-11-15 11:30:40.885\u001b[0m | \u001b[33m\u001b[1mWARNING \u001b[0m | \u001b[36mvasca.source\u001b[0m:\u001b[36madd_vizier_SED\u001b[0m:\u001b[36m100\u001b[0m - \u001b[33m\u001b[1mSkipping row as flux contains nan\u001b[0m\n",
      "\u001b[32m2023-11-15 11:30:40.887\u001b[0m | \u001b[33m\u001b[1mWARNING \u001b[0m | \u001b[36mvasca.source\u001b[0m:\u001b[36madd_vizier_SED\u001b[0m:\u001b[36m100\u001b[0m - \u001b[33m\u001b[1mSkipping row as flux contains nan\u001b[0m\n",
      "\u001b[32m2023-11-15 11:30:40.889\u001b[0m | \u001b[33m\u001b[1mWARNING \u001b[0m | \u001b[36mvasca.source\u001b[0m:\u001b[36madd_vizier_SED\u001b[0m:\u001b[36m100\u001b[0m - \u001b[33m\u001b[1mSkipping row as flux contains nan\u001b[0m\n",
      "\u001b[32m2023-11-15 11:30:40.891\u001b[0m | \u001b[33m\u001b[1mWARNING \u001b[0m | \u001b[36mvasca.source\u001b[0m:\u001b[36madd_vizier_SED\u001b[0m:\u001b[36m100\u001b[0m - \u001b[33m\u001b[1mSkipping row as flux contains nan\u001b[0m\n",
      "\u001b[32m2023-11-15 11:30:40.893\u001b[0m | \u001b[33m\u001b[1mWARNING \u001b[0m | \u001b[36mvasca.source\u001b[0m:\u001b[36madd_vizier_SED\u001b[0m:\u001b[36m100\u001b[0m - \u001b[33m\u001b[1mSkipping row as flux contains nan\u001b[0m\n",
      "\u001b[32m2023-11-15 11:30:40.895\u001b[0m | \u001b[33m\u001b[1mWARNING \u001b[0m | \u001b[36mvasca.source\u001b[0m:\u001b[36madd_vizier_SED\u001b[0m:\u001b[36m100\u001b[0m - \u001b[33m\u001b[1mSkipping row as flux contains nan\u001b[0m\n",
      "\u001b[32m2023-11-15 11:30:40.896\u001b[0m | \u001b[33m\u001b[1mWARNING \u001b[0m | \u001b[36mvasca.source\u001b[0m:\u001b[36madd_vizier_SED\u001b[0m:\u001b[36m100\u001b[0m - \u001b[33m\u001b[1mSkipping row as flux contains nan\u001b[0m\n",
      "\u001b[32m2023-11-15 11:30:40.898\u001b[0m | \u001b[33m\u001b[1mWARNING \u001b[0m | \u001b[36mvasca.source\u001b[0m:\u001b[36madd_vizier_SED\u001b[0m:\u001b[36m100\u001b[0m - \u001b[33m\u001b[1mSkipping row as flux contains nan\u001b[0m\n",
      "\u001b[32m2023-11-15 11:30:40.899\u001b[0m | \u001b[33m\u001b[1mWARNING \u001b[0m | \u001b[36mvasca.source\u001b[0m:\u001b[36madd_vizier_SED\u001b[0m:\u001b[36m100\u001b[0m - \u001b[33m\u001b[1mSkipping row as flux contains nan\u001b[0m\n",
      "\u001b[32m2023-11-15 11:30:40.909\u001b[0m | \u001b[33m\u001b[1mWARNING \u001b[0m | \u001b[36mvasca.source\u001b[0m:\u001b[36madd_vizier_SED\u001b[0m:\u001b[36m100\u001b[0m - \u001b[33m\u001b[1mSkipping row as flux contains nan\u001b[0m\n",
      "\u001b[32m2023-11-15 11:30:40.910\u001b[0m | \u001b[33m\u001b[1mWARNING \u001b[0m | \u001b[36mvasca.source\u001b[0m:\u001b[36madd_vizier_SED\u001b[0m:\u001b[36m100\u001b[0m - \u001b[33m\u001b[1mSkipping row as flux contains nan\u001b[0m\n",
      "\u001b[32m2023-11-15 11:30:40.910\u001b[0m | \u001b[33m\u001b[1mWARNING \u001b[0m | \u001b[36mvasca.source\u001b[0m:\u001b[36madd_vizier_SED\u001b[0m:\u001b[36m100\u001b[0m - \u001b[33m\u001b[1mSkipping row as flux contains nan\u001b[0m\n",
      "\u001b[32m2023-11-15 11:30:40.928\u001b[0m | \u001b[34m\u001b[1mDEBUG   \u001b[0m | \u001b[36mvasca.tables\u001b[0m:\u001b[36madd_table\u001b[0m:\u001b[36m159\u001b[0m - \u001b[34m\u001b[1mAdding table 'region:tt_gphoton_lc'\u001b[0m\n",
      "\u001b[32m2023-11-15 11:30:40.931\u001b[0m | \u001b[34m\u001b[1mDEBUG   \u001b[0m | \u001b[36mvasca.tables\u001b[0m:\u001b[36madd_table\u001b[0m:\u001b[36m159\u001b[0m - \u001b[34m\u001b[1mAdding table 'tt_gphoton_stats'\u001b[0m\n",
      "\u001b[32m2023-11-15 11:30:40.944\u001b[0m | \u001b[34m\u001b[1mDEBUG   \u001b[0m | \u001b[36mvasca.tables\u001b[0m:\u001b[36madd_table\u001b[0m:\u001b[36m159\u001b[0m - \u001b[34m\u001b[1mAdding table 'tt_spectrum_0'\u001b[0m\n",
      "\u001b[32m2023-11-15 11:30:40.945\u001b[0m | \u001b[1mINFO    \u001b[0m | \u001b[36mvasca.tables\u001b[0m:\u001b[36mwrite_to_fits\u001b[0m:\u001b[36m224\u001b[0m - \u001b[1mWriting file with name './vasca_pipeline/ALL_10-800_LOOSE/sources/src_221349.fits'\u001b[0m\n",
      "\u001b[32m2023-11-15 11:30:40.946\u001b[0m | \u001b[34m\u001b[1mDEBUG   \u001b[0m | \u001b[36mvasca.tables\u001b[0m:\u001b[36mwrite_to_fits\u001b[0m:\u001b[36m264\u001b[0m - \u001b[34m\u001b[1mWriting table 'tt_sources'\u001b[0m\n",
      "\u001b[32m2023-11-15 11:30:40.981\u001b[0m | \u001b[34m\u001b[1mDEBUG   \u001b[0m | \u001b[36mvasca.tables\u001b[0m:\u001b[36mwrite_to_fits\u001b[0m:\u001b[36m264\u001b[0m - \u001b[34m\u001b[1mWriting table 'tt_detections'\u001b[0m\n",
      "\u001b[32m2023-11-15 11:30:40.993\u001b[0m | \u001b[34m\u001b[1mDEBUG   \u001b[0m | \u001b[36mvasca.tables\u001b[0m:\u001b[36mwrite_to_fits\u001b[0m:\u001b[36m264\u001b[0m - \u001b[34m\u001b[1mWriting table 'tt_simbad'\u001b[0m\n",
      "WARNING: VerifyWarning: Keyword name 'description' is greater than 8 characters or contains characters not allowed by the FITS standard; a HIERARCH card will be created. [astropy.io.fits.card]\n",
      "\u001b[32m2023-11-15 11:30:41.039\u001b[0m | \u001b[34m\u001b[1mDEBUG   \u001b[0m | \u001b[36mvasca.tables\u001b[0m:\u001b[36mwrite_to_fits\u001b[0m:\u001b[36m264\u001b[0m - \u001b[34m\u001b[1mWriting table 'tt_gaiadr3'\u001b[0m\n",
      "WARNING: UnitsWarning: 'log(cm.s**-2)' did not parse as fits unit: 'log' is not a recognized function If this is meant to be a custom unit, define it with 'u.def_unit'. To have it recognized inside a file reader or other code, enable it with 'u.add_enabled_units'. For details, see https://docs.astropy.org/en/latest/units/combining_and_defining.html [astropy.units.core]\n"
     ]
    },
    {
     "name": "stdout",
     "output_type": "stream",
     "text": [
      "{'rg_src_id': [221349], 'nr_det': [[10, 4]], 'wght_mean': [[118.56752448863102, 39.836427333531354]], 'wght_mean_err': [[0.8215822799385435, 1.6680317814021788]], 'var': [[34.32119575663195, 25.18190859737693]], 'nxv': [[0.0010780884657057175, -0.019003122324446713]], 'rchiq': [[5.7905144033246225, 1.0384986302406822]], 'cpval': [[4.300203785074797e-08, 0.3741584977622436]]}\n"
     ]
    },
    {
     "name": "stderr",
     "output_type": "stream",
     "text": [
      "\u001b[32m2023-11-15 11:30:41.200\u001b[0m | \u001b[34m\u001b[1mDEBUG   \u001b[0m | \u001b[36mvasca.tables\u001b[0m:\u001b[36mwrite_to_fits\u001b[0m:\u001b[36m264\u001b[0m - \u001b[34m\u001b[1mWriting table 'tt_visits'\u001b[0m\n",
      "\u001b[32m2023-11-15 11:30:41.207\u001b[0m | \u001b[34m\u001b[1mDEBUG   \u001b[0m | \u001b[36mvasca.tables\u001b[0m:\u001b[36mwrite_to_fits\u001b[0m:\u001b[36m264\u001b[0m - \u001b[34m\u001b[1mWriting table 'tt_fields'\u001b[0m\n",
      "\u001b[32m2023-11-15 11:30:41.220\u001b[0m | \u001b[34m\u001b[1mDEBUG   \u001b[0m | \u001b[36mvasca.tables\u001b[0m:\u001b[36mwrite_to_fits\u001b[0m:\u001b[36m264\u001b[0m - \u001b[34m\u001b[1mWriting table 'tt_filters'\u001b[0m\n",
      "\u001b[32m2023-11-15 11:30:41.225\u001b[0m | \u001b[34m\u001b[1mDEBUG   \u001b[0m | \u001b[36mvasca.tables\u001b[0m:\u001b[36mwrite_to_fits\u001b[0m:\u001b[36m264\u001b[0m - \u001b[34m\u001b[1mWriting table 'tt_source_lc'\u001b[0m\n",
      "WARNING: VerifyWarning: Keyword name 'rg_src_id' is greater than 8 characters or contains characters not allowed by the FITS standard; a HIERARCH card will be created. [astropy.io.fits.card]\n",
      "\u001b[32m2023-11-15 11:30:41.236\u001b[0m | \u001b[34m\u001b[1mDEBUG   \u001b[0m | \u001b[36mvasca.tables\u001b[0m:\u001b[36mwrite_to_fits\u001b[0m:\u001b[36m264\u001b[0m - \u001b[34m\u001b[1mWriting table 'tt_sed'\u001b[0m\n",
      "\u001b[32m2023-11-15 11:30:41.244\u001b[0m | \u001b[34m\u001b[1mDEBUG   \u001b[0m | \u001b[36mvasca.tables\u001b[0m:\u001b[36mwrite_to_fits\u001b[0m:\u001b[36m264\u001b[0m - \u001b[34m\u001b[1mWriting table 'tt_gphoton_lc'\u001b[0m\n",
      "\u001b[32m2023-11-15 11:30:41.253\u001b[0m | \u001b[34m\u001b[1mDEBUG   \u001b[0m | \u001b[36mvasca.tables\u001b[0m:\u001b[36mwrite_to_fits\u001b[0m:\u001b[36m264\u001b[0m - \u001b[34m\u001b[1mWriting table 'tt_gphoton_stats'\u001b[0m\n",
      "\u001b[32m2023-11-15 11:30:41.261\u001b[0m | \u001b[34m\u001b[1mDEBUG   \u001b[0m | \u001b[36mvasca.tables\u001b[0m:\u001b[36mwrite_to_fits\u001b[0m:\u001b[36m264\u001b[0m - \u001b[34m\u001b[1mWriting table 'tt_spectrum_0'\u001b[0m\n",
      "\u001b[32m2023-11-15 11:30:41.408\u001b[0m | \u001b[34m\u001b[1mDEBUG   \u001b[0m | \u001b[36mvasca.region\u001b[0m:\u001b[36mget_src_from_id\u001b[0m:\u001b[36m337\u001b[0m - \u001b[34m\u001b[1mGetting Source object for rg_src_id: 236839\u001b[0m\n",
      "\u001b[32m2023-11-15 11:30:41.413\u001b[0m | \u001b[34m\u001b[1mDEBUG   \u001b[0m | \u001b[36mvasca.tables\u001b[0m:\u001b[36madd_table\u001b[0m:\u001b[36m159\u001b[0m - \u001b[34m\u001b[1mAdding table 'tt_sources'\u001b[0m\n",
      "\u001b[32m2023-11-15 11:30:41.442\u001b[0m | \u001b[34m\u001b[1mDEBUG   \u001b[0m | \u001b[36mvasca.tables\u001b[0m:\u001b[36madd_table\u001b[0m:\u001b[36m159\u001b[0m - \u001b[34m\u001b[1mAdding table 'tt_detections'\u001b[0m\n",
      "\u001b[32m2023-11-15 11:30:41.450\u001b[0m | \u001b[34m\u001b[1mDEBUG   \u001b[0m | \u001b[36mvasca.tables\u001b[0m:\u001b[36madd_table\u001b[0m:\u001b[36m159\u001b[0m - \u001b[34m\u001b[1mAdding table 'tt_simbad'\u001b[0m\n",
      "\u001b[32m2023-11-15 11:30:41.465\u001b[0m | \u001b[34m\u001b[1mDEBUG   \u001b[0m | \u001b[36mvasca.tables\u001b[0m:\u001b[36madd_table\u001b[0m:\u001b[36m159\u001b[0m - \u001b[34m\u001b[1mAdding table 'tt_gaiadr3'\u001b[0m\n",
      "\u001b[32m2023-11-15 11:30:41.477\u001b[0m | \u001b[34m\u001b[1mDEBUG   \u001b[0m | \u001b[36mvasca.tables\u001b[0m:\u001b[36madd_table\u001b[0m:\u001b[36m159\u001b[0m - \u001b[34m\u001b[1mAdding table 'tt_visits'\u001b[0m\n",
      "\u001b[32m2023-11-15 11:30:41.480\u001b[0m | \u001b[34m\u001b[1mDEBUG   \u001b[0m | \u001b[36mvasca.tables\u001b[0m:\u001b[36madd_table\u001b[0m:\u001b[36m159\u001b[0m - \u001b[34m\u001b[1mAdding table 'tt_fields'\u001b[0m\n",
      "\u001b[32m2023-11-15 11:30:41.481\u001b[0m | \u001b[34m\u001b[1mDEBUG   \u001b[0m | \u001b[36mvasca.tables\u001b[0m:\u001b[36madd_table\u001b[0m:\u001b[36m159\u001b[0m - \u001b[34m\u001b[1mAdding table 'tt_filters'\u001b[0m\n",
      "\u001b[32m2023-11-15 11:30:41.487\u001b[0m | \u001b[34m\u001b[1mDEBUG   \u001b[0m | \u001b[36mvasca.tables\u001b[0m:\u001b[36madd_table\u001b[0m:\u001b[36m159\u001b[0m - \u001b[34m\u001b[1mAdding table 'tt_source_lc'\u001b[0m\n"
     ]
    },
    {
     "name": "stdout",
     "output_type": "stream",
     "text": [
      "*********** Creating Source Table ID 236839 *****************\n"
     ]
    },
    {
     "name": "stderr",
     "output_type": "stream",
     "text": [
      "\u001b[32m2023-11-15 11:30:41.749\u001b[0m | \u001b[34m\u001b[1mDEBUG   \u001b[0m | \u001b[36mvasca.tables\u001b[0m:\u001b[36madd_table\u001b[0m:\u001b[36m159\u001b[0m - \u001b[34m\u001b[1mAdding table 'region:tt_sed'\u001b[0m\n",
      "\u001b[32m2023-11-15 11:30:41.759\u001b[0m | \u001b[33m\u001b[1mWARNING \u001b[0m | \u001b[36mvasca.source\u001b[0m:\u001b[36madd_vizier_SED\u001b[0m:\u001b[36m100\u001b[0m - \u001b[33m\u001b[1mSkipping row as flux contains nan\u001b[0m\n",
      "\u001b[32m2023-11-15 11:30:41.760\u001b[0m | \u001b[33m\u001b[1mWARNING \u001b[0m | \u001b[36mvasca.source\u001b[0m:\u001b[36madd_vizier_SED\u001b[0m:\u001b[36m100\u001b[0m - \u001b[33m\u001b[1mSkipping row as flux contains nan\u001b[0m\n",
      "\u001b[32m2023-11-15 11:30:41.760\u001b[0m | \u001b[33m\u001b[1mWARNING \u001b[0m | \u001b[36mvasca.source\u001b[0m:\u001b[36madd_vizier_SED\u001b[0m:\u001b[36m100\u001b[0m - \u001b[33m\u001b[1mSkipping row as flux contains nan\u001b[0m\n",
      "\u001b[32m2023-11-15 11:30:41.761\u001b[0m | \u001b[33m\u001b[1mWARNING \u001b[0m | \u001b[36mvasca.source\u001b[0m:\u001b[36madd_vizier_SED\u001b[0m:\u001b[36m100\u001b[0m - \u001b[33m\u001b[1mSkipping row as flux contains nan\u001b[0m\n",
      "\u001b[32m2023-11-15 11:30:41.761\u001b[0m | \u001b[33m\u001b[1mWARNING \u001b[0m | \u001b[36mvasca.source\u001b[0m:\u001b[36madd_vizier_SED\u001b[0m:\u001b[36m100\u001b[0m - \u001b[33m\u001b[1mSkipping row as flux contains nan\u001b[0m\n",
      "\u001b[32m2023-11-15 11:30:41.761\u001b[0m | \u001b[33m\u001b[1mWARNING \u001b[0m | \u001b[36mvasca.source\u001b[0m:\u001b[36madd_vizier_SED\u001b[0m:\u001b[36m100\u001b[0m - \u001b[33m\u001b[1mSkipping row as flux contains nan\u001b[0m\n",
      "\u001b[32m2023-11-15 11:30:41.762\u001b[0m | \u001b[33m\u001b[1mWARNING \u001b[0m | \u001b[36mvasca.source\u001b[0m:\u001b[36madd_vizier_SED\u001b[0m:\u001b[36m100\u001b[0m - \u001b[33m\u001b[1mSkipping row as flux contains nan\u001b[0m\n",
      "\u001b[32m2023-11-15 11:30:41.762\u001b[0m | \u001b[33m\u001b[1mWARNING \u001b[0m | \u001b[36mvasca.source\u001b[0m:\u001b[36madd_vizier_SED\u001b[0m:\u001b[36m100\u001b[0m - \u001b[33m\u001b[1mSkipping row as flux contains nan\u001b[0m\n",
      "\u001b[32m2023-11-15 11:30:41.763\u001b[0m | \u001b[33m\u001b[1mWARNING \u001b[0m | \u001b[36mvasca.source\u001b[0m:\u001b[36madd_vizier_SED\u001b[0m:\u001b[36m100\u001b[0m - \u001b[33m\u001b[1mSkipping row as flux contains nan\u001b[0m\n",
      "\u001b[32m2023-11-15 11:30:41.763\u001b[0m | \u001b[33m\u001b[1mWARNING \u001b[0m | \u001b[36mvasca.source\u001b[0m:\u001b[36madd_vizier_SED\u001b[0m:\u001b[36m100\u001b[0m - \u001b[33m\u001b[1mSkipping row as flux contains nan\u001b[0m\n",
      "\u001b[32m2023-11-15 11:30:41.770\u001b[0m | \u001b[33m\u001b[1mWARNING \u001b[0m | \u001b[36mvasca.source\u001b[0m:\u001b[36madd_vizier_SED\u001b[0m:\u001b[36m100\u001b[0m - \u001b[33m\u001b[1mSkipping row as flux contains nan\u001b[0m\n",
      "\u001b[32m2023-11-15 11:30:41.771\u001b[0m | \u001b[33m\u001b[1mWARNING \u001b[0m | \u001b[36mvasca.source\u001b[0m:\u001b[36madd_vizier_SED\u001b[0m:\u001b[36m100\u001b[0m - \u001b[33m\u001b[1mSkipping row as flux contains nan\u001b[0m\n",
      "\u001b[32m2023-11-15 11:30:41.771\u001b[0m | \u001b[33m\u001b[1mWARNING \u001b[0m | \u001b[36mvasca.source\u001b[0m:\u001b[36madd_vizier_SED\u001b[0m:\u001b[36m100\u001b[0m - \u001b[33m\u001b[1mSkipping row as flux contains nan\u001b[0m\n",
      "\u001b[32m2023-11-15 11:30:41.784\u001b[0m | \u001b[34m\u001b[1mDEBUG   \u001b[0m | \u001b[36mvasca.tables\u001b[0m:\u001b[36madd_table\u001b[0m:\u001b[36m159\u001b[0m - \u001b[34m\u001b[1mAdding table 'region:tt_gphoton_lc'\u001b[0m\n",
      "\u001b[32m2023-11-15 11:30:41.786\u001b[0m | \u001b[34m\u001b[1mDEBUG   \u001b[0m | \u001b[36mvasca.tables\u001b[0m:\u001b[36madd_table\u001b[0m:\u001b[36m159\u001b[0m - \u001b[34m\u001b[1mAdding table 'tt_gphoton_stats'\u001b[0m\n",
      "\u001b[32m2023-11-15 11:30:41.791\u001b[0m | \u001b[33m\u001b[1mWARNING \u001b[0m | \u001b[36mvasca.source\u001b[0m:\u001b[36madd_spectrum\u001b[0m:\u001b[36m296\u001b[0m - \u001b[33m\u001b[1mNo spectrum found\u001b[0m\n",
      "\u001b[32m2023-11-15 11:30:41.791\u001b[0m | \u001b[1mINFO    \u001b[0m | \u001b[36mvasca.tables\u001b[0m:\u001b[36mwrite_to_fits\u001b[0m:\u001b[36m224\u001b[0m - \u001b[1mWriting file with name './vasca_pipeline/ALL_10-800_LOOSE/sources/src_236839.fits'\u001b[0m\n",
      "\u001b[32m2023-11-15 11:30:41.793\u001b[0m | \u001b[34m\u001b[1mDEBUG   \u001b[0m | \u001b[36mvasca.tables\u001b[0m:\u001b[36mwrite_to_fits\u001b[0m:\u001b[36m264\u001b[0m - \u001b[34m\u001b[1mWriting table 'tt_sources'\u001b[0m\n",
      "\u001b[32m2023-11-15 11:30:41.832\u001b[0m | \u001b[34m\u001b[1mDEBUG   \u001b[0m | \u001b[36mvasca.tables\u001b[0m:\u001b[36mwrite_to_fits\u001b[0m:\u001b[36m264\u001b[0m - \u001b[34m\u001b[1mWriting table 'tt_detections'\u001b[0m\n",
      "\u001b[32m2023-11-15 11:30:41.844\u001b[0m | \u001b[34m\u001b[1mDEBUG   \u001b[0m | \u001b[36mvasca.tables\u001b[0m:\u001b[36mwrite_to_fits\u001b[0m:\u001b[36m264\u001b[0m - \u001b[34m\u001b[1mWriting table 'tt_simbad'\u001b[0m\n",
      "WARNING: VerifyWarning: Keyword name 'description' is greater than 8 characters or contains characters not allowed by the FITS standard; a HIERARCH card will be created. [astropy.io.fits.card]\n",
      "\u001b[32m2023-11-15 11:30:41.890\u001b[0m | \u001b[34m\u001b[1mDEBUG   \u001b[0m | \u001b[36mvasca.tables\u001b[0m:\u001b[36mwrite_to_fits\u001b[0m:\u001b[36m264\u001b[0m - \u001b[34m\u001b[1mWriting table 'tt_gaiadr3'\u001b[0m\n",
      "WARNING: UnitsWarning: 'log(cm.s**-2)' did not parse as fits unit: 'log' is not a recognized function If this is meant to be a custom unit, define it with 'u.def_unit'. To have it recognized inside a file reader or other code, enable it with 'u.add_enabled_units'. For details, see https://docs.astropy.org/en/latest/units/combining_and_defining.html [astropy.units.core]\n"
     ]
    },
    {
     "name": "stdout",
     "output_type": "stream",
     "text": [
      "{'rg_src_id': [236839], 'nr_det': [[]]}\n"
     ]
    },
    {
     "name": "stderr",
     "output_type": "stream",
     "text": [
      "\u001b[32m2023-11-15 11:30:42.054\u001b[0m | \u001b[34m\u001b[1mDEBUG   \u001b[0m | \u001b[36mvasca.tables\u001b[0m:\u001b[36mwrite_to_fits\u001b[0m:\u001b[36m264\u001b[0m - \u001b[34m\u001b[1mWriting table 'tt_visits'\u001b[0m\n",
      "\u001b[32m2023-11-15 11:30:42.060\u001b[0m | \u001b[34m\u001b[1mDEBUG   \u001b[0m | \u001b[36mvasca.tables\u001b[0m:\u001b[36mwrite_to_fits\u001b[0m:\u001b[36m264\u001b[0m - \u001b[34m\u001b[1mWriting table 'tt_fields'\u001b[0m\n",
      "\u001b[32m2023-11-15 11:30:42.072\u001b[0m | \u001b[34m\u001b[1mDEBUG   \u001b[0m | \u001b[36mvasca.tables\u001b[0m:\u001b[36mwrite_to_fits\u001b[0m:\u001b[36m264\u001b[0m - \u001b[34m\u001b[1mWriting table 'tt_filters'\u001b[0m\n",
      "\u001b[32m2023-11-15 11:30:42.077\u001b[0m | \u001b[34m\u001b[1mDEBUG   \u001b[0m | \u001b[36mvasca.tables\u001b[0m:\u001b[36mwrite_to_fits\u001b[0m:\u001b[36m264\u001b[0m - \u001b[34m\u001b[1mWriting table 'tt_source_lc'\u001b[0m\n",
      "WARNING: VerifyWarning: Keyword name 'rg_src_id' is greater than 8 characters or contains characters not allowed by the FITS standard; a HIERARCH card will be created. [astropy.io.fits.card]\n",
      "\u001b[32m2023-11-15 11:30:42.087\u001b[0m | \u001b[34m\u001b[1mDEBUG   \u001b[0m | \u001b[36mvasca.tables\u001b[0m:\u001b[36mwrite_to_fits\u001b[0m:\u001b[36m264\u001b[0m - \u001b[34m\u001b[1mWriting table 'tt_sed'\u001b[0m\n",
      "\u001b[32m2023-11-15 11:30:42.094\u001b[0m | \u001b[34m\u001b[1mDEBUG   \u001b[0m | \u001b[36mvasca.tables\u001b[0m:\u001b[36mwrite_to_fits\u001b[0m:\u001b[36m264\u001b[0m - \u001b[34m\u001b[1mWriting table 'tt_gphoton_lc'\u001b[0m\n",
      "\u001b[32m2023-11-15 11:30:42.104\u001b[0m | \u001b[34m\u001b[1mDEBUG   \u001b[0m | \u001b[36mvasca.tables\u001b[0m:\u001b[36mwrite_to_fits\u001b[0m:\u001b[36m264\u001b[0m - \u001b[34m\u001b[1mWriting table 'tt_gphoton_stats'\u001b[0m\n",
      "\u001b[32m2023-11-15 11:30:42.229\u001b[0m | \u001b[34m\u001b[1mDEBUG   \u001b[0m | \u001b[36mvasca.region\u001b[0m:\u001b[36mget_src_from_id\u001b[0m:\u001b[36m337\u001b[0m - \u001b[34m\u001b[1mGetting Source object for rg_src_id: 253214\u001b[0m\n",
      "\u001b[32m2023-11-15 11:30:42.234\u001b[0m | \u001b[34m\u001b[1mDEBUG   \u001b[0m | \u001b[36mvasca.tables\u001b[0m:\u001b[36madd_table\u001b[0m:\u001b[36m159\u001b[0m - \u001b[34m\u001b[1mAdding table 'tt_sources'\u001b[0m\n",
      "\u001b[32m2023-11-15 11:30:42.263\u001b[0m | \u001b[34m\u001b[1mDEBUG   \u001b[0m | \u001b[36mvasca.tables\u001b[0m:\u001b[36madd_table\u001b[0m:\u001b[36m159\u001b[0m - \u001b[34m\u001b[1mAdding table 'tt_detections'\u001b[0m\n",
      "\u001b[32m2023-11-15 11:30:42.270\u001b[0m | \u001b[34m\u001b[1mDEBUG   \u001b[0m | \u001b[36mvasca.tables\u001b[0m:\u001b[36madd_table\u001b[0m:\u001b[36m159\u001b[0m - \u001b[34m\u001b[1mAdding table 'tt_simbad'\u001b[0m\n",
      "\u001b[32m2023-11-15 11:30:42.285\u001b[0m | \u001b[34m\u001b[1mDEBUG   \u001b[0m | \u001b[36mvasca.tables\u001b[0m:\u001b[36madd_table\u001b[0m:\u001b[36m159\u001b[0m - \u001b[34m\u001b[1mAdding table 'tt_gaiadr3'\u001b[0m\n",
      "\u001b[32m2023-11-15 11:30:42.295\u001b[0m | \u001b[34m\u001b[1mDEBUG   \u001b[0m | \u001b[36mvasca.tables\u001b[0m:\u001b[36madd_table\u001b[0m:\u001b[36m159\u001b[0m - \u001b[34m\u001b[1mAdding table 'tt_visits'\u001b[0m\n",
      "\u001b[32m2023-11-15 11:30:42.299\u001b[0m | \u001b[34m\u001b[1mDEBUG   \u001b[0m | \u001b[36mvasca.tables\u001b[0m:\u001b[36madd_table\u001b[0m:\u001b[36m159\u001b[0m - \u001b[34m\u001b[1mAdding table 'tt_fields'\u001b[0m\n",
      "\u001b[32m2023-11-15 11:30:42.300\u001b[0m | \u001b[34m\u001b[1mDEBUG   \u001b[0m | \u001b[36mvasca.tables\u001b[0m:\u001b[36madd_table\u001b[0m:\u001b[36m159\u001b[0m - \u001b[34m\u001b[1mAdding table 'tt_filters'\u001b[0m\n",
      "\u001b[32m2023-11-15 11:30:42.307\u001b[0m | \u001b[34m\u001b[1mDEBUG   \u001b[0m | \u001b[36mvasca.tables\u001b[0m:\u001b[36madd_table\u001b[0m:\u001b[36m159\u001b[0m - \u001b[34m\u001b[1mAdding table 'tt_source_lc'\u001b[0m\n"
     ]
    },
    {
     "name": "stdout",
     "output_type": "stream",
     "text": [
      "*********** Creating Source Table ID 253214 *****************\n"
     ]
    },
    {
     "name": "stderr",
     "output_type": "stream",
     "text": [
      "\u001b[32m2023-11-15 11:30:42.664\u001b[0m | \u001b[34m\u001b[1mDEBUG   \u001b[0m | \u001b[36mvasca.tables\u001b[0m:\u001b[36madd_table\u001b[0m:\u001b[36m159\u001b[0m - \u001b[34m\u001b[1mAdding table 'region:tt_sed'\u001b[0m\n",
      "\u001b[32m2023-11-15 11:30:42.666\u001b[0m | \u001b[33m\u001b[1mWARNING \u001b[0m | \u001b[36mvasca.source\u001b[0m:\u001b[36madd_vizier_SED\u001b[0m:\u001b[36m100\u001b[0m - \u001b[33m\u001b[1mSkipping row as flux contains nan\u001b[0m\n",
      "\u001b[32m2023-11-15 11:30:42.666\u001b[0m | \u001b[33m\u001b[1mWARNING \u001b[0m | \u001b[36mvasca.source\u001b[0m:\u001b[36madd_vizier_SED\u001b[0m:\u001b[36m100\u001b[0m - \u001b[33m\u001b[1mSkipping row as flux contains nan\u001b[0m\n",
      "\u001b[32m2023-11-15 11:30:42.667\u001b[0m | \u001b[33m\u001b[1mWARNING \u001b[0m | \u001b[36mvasca.source\u001b[0m:\u001b[36madd_vizier_SED\u001b[0m:\u001b[36m100\u001b[0m - \u001b[33m\u001b[1mSkipping row as flux contains nan\u001b[0m\n",
      "\u001b[32m2023-11-15 11:30:42.669\u001b[0m | \u001b[33m\u001b[1mWARNING \u001b[0m | \u001b[36mvasca.source\u001b[0m:\u001b[36madd_vizier_SED\u001b[0m:\u001b[36m100\u001b[0m - \u001b[33m\u001b[1mSkipping row as flux contains nan\u001b[0m\n",
      "\u001b[32m2023-11-15 11:30:42.670\u001b[0m | \u001b[33m\u001b[1mWARNING \u001b[0m | \u001b[36mvasca.source\u001b[0m:\u001b[36madd_vizier_SED\u001b[0m:\u001b[36m100\u001b[0m - \u001b[33m\u001b[1mSkipping row as flux contains nan\u001b[0m\n",
      "\u001b[32m2023-11-15 11:30:42.671\u001b[0m | \u001b[33m\u001b[1mWARNING \u001b[0m | \u001b[36mvasca.source\u001b[0m:\u001b[36madd_vizier_SED\u001b[0m:\u001b[36m100\u001b[0m - \u001b[33m\u001b[1mSkipping row as flux contains nan\u001b[0m\n",
      "\u001b[32m2023-11-15 11:30:42.672\u001b[0m | \u001b[33m\u001b[1mWARNING \u001b[0m | \u001b[36mvasca.source\u001b[0m:\u001b[36madd_vizier_SED\u001b[0m:\u001b[36m100\u001b[0m - \u001b[33m\u001b[1mSkipping row as flux contains nan\u001b[0m\n",
      "\u001b[32m2023-11-15 11:30:42.672\u001b[0m | \u001b[33m\u001b[1mWARNING \u001b[0m | \u001b[36mvasca.source\u001b[0m:\u001b[36madd_vizier_SED\u001b[0m:\u001b[36m100\u001b[0m - \u001b[33m\u001b[1mSkipping row as flux contains nan\u001b[0m\n",
      "\u001b[32m2023-11-15 11:30:42.673\u001b[0m | \u001b[33m\u001b[1mWARNING \u001b[0m | \u001b[36mvasca.source\u001b[0m:\u001b[36madd_vizier_SED\u001b[0m:\u001b[36m100\u001b[0m - \u001b[33m\u001b[1mSkipping row as flux contains nan\u001b[0m\n",
      "\u001b[32m2023-11-15 11:30:42.673\u001b[0m | \u001b[33m\u001b[1mWARNING \u001b[0m | \u001b[36mvasca.source\u001b[0m:\u001b[36madd_vizier_SED\u001b[0m:\u001b[36m100\u001b[0m - \u001b[33m\u001b[1mSkipping row as flux contains nan\u001b[0m\n",
      "\u001b[32m2023-11-15 11:30:42.674\u001b[0m | \u001b[33m\u001b[1mWARNING \u001b[0m | \u001b[36mvasca.source\u001b[0m:\u001b[36madd_vizier_SED\u001b[0m:\u001b[36m100\u001b[0m - \u001b[33m\u001b[1mSkipping row as flux contains nan\u001b[0m\n",
      "\u001b[32m2023-11-15 11:30:42.675\u001b[0m | \u001b[33m\u001b[1mWARNING \u001b[0m | \u001b[36mvasca.source\u001b[0m:\u001b[36madd_vizier_SED\u001b[0m:\u001b[36m100\u001b[0m - \u001b[33m\u001b[1mSkipping row as flux contains nan\u001b[0m\n",
      "\u001b[32m2023-11-15 11:30:42.675\u001b[0m | \u001b[33m\u001b[1mWARNING \u001b[0m | \u001b[36mvasca.source\u001b[0m:\u001b[36madd_vizier_SED\u001b[0m:\u001b[36m100\u001b[0m - \u001b[33m\u001b[1mSkipping row as flux contains nan\u001b[0m\n",
      "\u001b[32m2023-11-15 11:30:42.676\u001b[0m | \u001b[33m\u001b[1mWARNING \u001b[0m | \u001b[36mvasca.source\u001b[0m:\u001b[36madd_vizier_SED\u001b[0m:\u001b[36m100\u001b[0m - \u001b[33m\u001b[1mSkipping row as flux contains nan\u001b[0m\n",
      "\u001b[32m2023-11-15 11:30:42.678\u001b[0m | \u001b[33m\u001b[1mWARNING \u001b[0m | \u001b[36mvasca.source\u001b[0m:\u001b[36madd_vizier_SED\u001b[0m:\u001b[36m100\u001b[0m - \u001b[33m\u001b[1mSkipping row as flux contains nan\u001b[0m\n",
      "\u001b[32m2023-11-15 11:30:42.679\u001b[0m | \u001b[33m\u001b[1mWARNING \u001b[0m | \u001b[36mvasca.source\u001b[0m:\u001b[36madd_vizier_SED\u001b[0m:\u001b[36m100\u001b[0m - \u001b[33m\u001b[1mSkipping row as flux contains nan\u001b[0m\n",
      "\u001b[32m2023-11-15 11:30:42.679\u001b[0m | \u001b[33m\u001b[1mWARNING \u001b[0m | \u001b[36mvasca.source\u001b[0m:\u001b[36madd_vizier_SED\u001b[0m:\u001b[36m100\u001b[0m - \u001b[33m\u001b[1mSkipping row as flux contains nan\u001b[0m\n",
      "\u001b[32m2023-11-15 11:30:42.689\u001b[0m | \u001b[33m\u001b[1mWARNING \u001b[0m | \u001b[36mvasca.source\u001b[0m:\u001b[36madd_vizier_SED\u001b[0m:\u001b[36m100\u001b[0m - \u001b[33m\u001b[1mSkipping row as flux contains nan\u001b[0m\n",
      "\u001b[32m2023-11-15 11:30:42.689\u001b[0m | \u001b[33m\u001b[1mWARNING \u001b[0m | \u001b[36mvasca.source\u001b[0m:\u001b[36madd_vizier_SED\u001b[0m:\u001b[36m100\u001b[0m - \u001b[33m\u001b[1mSkipping row as flux contains nan\u001b[0m\n",
      "\u001b[32m2023-11-15 11:30:42.695\u001b[0m | \u001b[33m\u001b[1mWARNING \u001b[0m | \u001b[36mvasca.source\u001b[0m:\u001b[36madd_vizier_SED\u001b[0m:\u001b[36m100\u001b[0m - \u001b[33m\u001b[1mSkipping row as flux contains nan\u001b[0m\n",
      "\u001b[32m2023-11-15 11:30:42.695\u001b[0m | \u001b[33m\u001b[1mWARNING \u001b[0m | \u001b[36mvasca.source\u001b[0m:\u001b[36madd_vizier_SED\u001b[0m:\u001b[36m100\u001b[0m - \u001b[33m\u001b[1mSkipping row as flux contains nan\u001b[0m\n",
      "\u001b[32m2023-11-15 11:30:42.695\u001b[0m | \u001b[33m\u001b[1mWARNING \u001b[0m | \u001b[36mvasca.source\u001b[0m:\u001b[36madd_vizier_SED\u001b[0m:\u001b[36m100\u001b[0m - \u001b[33m\u001b[1mSkipping row as flux contains nan\u001b[0m\n",
      "\u001b[32m2023-11-15 11:30:42.696\u001b[0m | \u001b[33m\u001b[1mWARNING \u001b[0m | \u001b[36mvasca.source\u001b[0m:\u001b[36madd_vizier_SED\u001b[0m:\u001b[36m100\u001b[0m - \u001b[33m\u001b[1mSkipping row as flux contains nan\u001b[0m\n",
      "\u001b[32m2023-11-15 11:30:42.696\u001b[0m | \u001b[33m\u001b[1mWARNING \u001b[0m | \u001b[36mvasca.source\u001b[0m:\u001b[36madd_vizier_SED\u001b[0m:\u001b[36m100\u001b[0m - \u001b[33m\u001b[1mSkipping row as flux contains nan\u001b[0m\n",
      "\u001b[32m2023-11-15 11:30:42.696\u001b[0m | \u001b[33m\u001b[1mWARNING \u001b[0m | \u001b[36mvasca.source\u001b[0m:\u001b[36madd_vizier_SED\u001b[0m:\u001b[36m100\u001b[0m - \u001b[33m\u001b[1mSkipping row as flux contains nan\u001b[0m\n",
      "\u001b[32m2023-11-15 11:30:42.697\u001b[0m | \u001b[33m\u001b[1mWARNING \u001b[0m | \u001b[36mvasca.source\u001b[0m:\u001b[36madd_vizier_SED\u001b[0m:\u001b[36m100\u001b[0m - \u001b[33m\u001b[1mSkipping row as flux contains nan\u001b[0m\n",
      "\u001b[32m2023-11-15 11:30:42.697\u001b[0m | \u001b[33m\u001b[1mWARNING \u001b[0m | \u001b[36mvasca.source\u001b[0m:\u001b[36madd_vizier_SED\u001b[0m:\u001b[36m100\u001b[0m - \u001b[33m\u001b[1mSkipping row as flux contains nan\u001b[0m\n",
      "\u001b[32m2023-11-15 11:30:42.697\u001b[0m | \u001b[33m\u001b[1mWARNING \u001b[0m | \u001b[36mvasca.source\u001b[0m:\u001b[36madd_vizier_SED\u001b[0m:\u001b[36m100\u001b[0m - \u001b[33m\u001b[1mSkipping row as flux contains nan\u001b[0m\n",
      "\u001b[32m2023-11-15 11:30:42.697\u001b[0m | \u001b[33m\u001b[1mWARNING \u001b[0m | \u001b[36mvasca.source\u001b[0m:\u001b[36madd_vizier_SED\u001b[0m:\u001b[36m100\u001b[0m - \u001b[33m\u001b[1mSkipping row as flux contains nan\u001b[0m\n",
      "\u001b[32m2023-11-15 11:30:42.697\u001b[0m | \u001b[33m\u001b[1mWARNING \u001b[0m | \u001b[36mvasca.source\u001b[0m:\u001b[36madd_vizier_SED\u001b[0m:\u001b[36m100\u001b[0m - \u001b[33m\u001b[1mSkipping row as flux contains nan\u001b[0m\n",
      "\u001b[32m2023-11-15 11:30:42.699\u001b[0m | \u001b[33m\u001b[1mWARNING \u001b[0m | \u001b[36mvasca.source\u001b[0m:\u001b[36madd_vizier_SED\u001b[0m:\u001b[36m100\u001b[0m - \u001b[33m\u001b[1mSkipping row as flux contains nan\u001b[0m\n",
      "\u001b[32m2023-11-15 11:30:42.699\u001b[0m | \u001b[33m\u001b[1mWARNING \u001b[0m | \u001b[36mvasca.source\u001b[0m:\u001b[36madd_vizier_SED\u001b[0m:\u001b[36m100\u001b[0m - \u001b[33m\u001b[1mSkipping row as flux contains nan\u001b[0m\n",
      "\u001b[32m2023-11-15 11:30:42.700\u001b[0m | \u001b[33m\u001b[1mWARNING \u001b[0m | \u001b[36mvasca.source\u001b[0m:\u001b[36madd_vizier_SED\u001b[0m:\u001b[36m100\u001b[0m - \u001b[33m\u001b[1mSkipping row as flux contains nan\u001b[0m\n",
      "\u001b[32m2023-11-15 11:30:42.701\u001b[0m | \u001b[33m\u001b[1mWARNING \u001b[0m | \u001b[36mvasca.source\u001b[0m:\u001b[36madd_vizier_SED\u001b[0m:\u001b[36m100\u001b[0m - \u001b[33m\u001b[1mSkipping row as flux contains nan\u001b[0m\n",
      "\u001b[32m2023-11-15 11:30:42.702\u001b[0m | \u001b[33m\u001b[1mWARNING \u001b[0m | \u001b[36mvasca.source\u001b[0m:\u001b[36madd_vizier_SED\u001b[0m:\u001b[36m100\u001b[0m - \u001b[33m\u001b[1mSkipping row as flux contains nan\u001b[0m\n",
      "\u001b[32m2023-11-15 11:30:42.703\u001b[0m | \u001b[33m\u001b[1mWARNING \u001b[0m | \u001b[36mvasca.source\u001b[0m:\u001b[36madd_vizier_SED\u001b[0m:\u001b[36m100\u001b[0m - \u001b[33m\u001b[1mSkipping row as flux contains nan\u001b[0m\n",
      "\u001b[32m2023-11-15 11:30:42.711\u001b[0m | \u001b[33m\u001b[1mWARNING \u001b[0m | \u001b[36mvasca.source\u001b[0m:\u001b[36madd_vizier_SED\u001b[0m:\u001b[36m100\u001b[0m - \u001b[33m\u001b[1mSkipping row as flux contains nan\u001b[0m\n",
      "\u001b[32m2023-11-15 11:30:42.711\u001b[0m | \u001b[33m\u001b[1mWARNING \u001b[0m | \u001b[36mvasca.source\u001b[0m:\u001b[36madd_vizier_SED\u001b[0m:\u001b[36m100\u001b[0m - \u001b[33m\u001b[1mSkipping row as flux contains nan\u001b[0m\n",
      "\u001b[32m2023-11-15 11:30:42.713\u001b[0m | \u001b[33m\u001b[1mWARNING \u001b[0m | \u001b[36mvasca.source\u001b[0m:\u001b[36madd_vizier_SED\u001b[0m:\u001b[36m100\u001b[0m - \u001b[33m\u001b[1mSkipping row as flux contains nan\u001b[0m\n",
      "\u001b[32m2023-11-15 11:30:42.714\u001b[0m | \u001b[33m\u001b[1mWARNING \u001b[0m | \u001b[36mvasca.source\u001b[0m:\u001b[36madd_vizier_SED\u001b[0m:\u001b[36m100\u001b[0m - \u001b[33m\u001b[1mSkipping row as flux contains nan\u001b[0m\n",
      "\u001b[32m2023-11-15 11:30:42.715\u001b[0m | \u001b[33m\u001b[1mWARNING \u001b[0m | \u001b[36mvasca.source\u001b[0m:\u001b[36madd_vizier_SED\u001b[0m:\u001b[36m100\u001b[0m - \u001b[33m\u001b[1mSkipping row as flux contains nan\u001b[0m\n",
      "\u001b[32m2023-11-15 11:30:42.716\u001b[0m | \u001b[33m\u001b[1mWARNING \u001b[0m | \u001b[36mvasca.source\u001b[0m:\u001b[36madd_vizier_SED\u001b[0m:\u001b[36m100\u001b[0m - \u001b[33m\u001b[1mSkipping row as flux contains nan\u001b[0m\n",
      "\u001b[32m2023-11-15 11:30:42.717\u001b[0m | \u001b[33m\u001b[1mWARNING \u001b[0m | \u001b[36mvasca.source\u001b[0m:\u001b[36madd_vizier_SED\u001b[0m:\u001b[36m100\u001b[0m - \u001b[33m\u001b[1mSkipping row as flux contains nan\u001b[0m\n",
      "\u001b[32m2023-11-15 11:30:42.718\u001b[0m | \u001b[33m\u001b[1mWARNING \u001b[0m | \u001b[36mvasca.source\u001b[0m:\u001b[36madd_vizier_SED\u001b[0m:\u001b[36m100\u001b[0m - \u001b[33m\u001b[1mSkipping row as flux contains nan\u001b[0m\n",
      "\u001b[32m2023-11-15 11:30:42.728\u001b[0m | \u001b[34m\u001b[1mDEBUG   \u001b[0m | \u001b[36mvasca.tables\u001b[0m:\u001b[36madd_table\u001b[0m:\u001b[36m159\u001b[0m - \u001b[34m\u001b[1mAdding table 'region:tt_gphoton_lc'\u001b[0m\n",
      "\u001b[32m2023-11-15 11:30:42.731\u001b[0m | \u001b[34m\u001b[1mDEBUG   \u001b[0m | \u001b[36mvasca.tables\u001b[0m:\u001b[36madd_table\u001b[0m:\u001b[36m159\u001b[0m - \u001b[34m\u001b[1mAdding table 'tt_gphoton_stats'\u001b[0m\n",
      "\u001b[32m2023-11-15 11:30:42.735\u001b[0m | \u001b[33m\u001b[1mWARNING \u001b[0m | \u001b[36mvasca.source\u001b[0m:\u001b[36madd_spectrum\u001b[0m:\u001b[36m296\u001b[0m - \u001b[33m\u001b[1mNo spectrum found\u001b[0m\n",
      "\u001b[32m2023-11-15 11:30:42.735\u001b[0m | \u001b[1mINFO    \u001b[0m | \u001b[36mvasca.tables\u001b[0m:\u001b[36mwrite_to_fits\u001b[0m:\u001b[36m224\u001b[0m - \u001b[1mWriting file with name './vasca_pipeline/ALL_10-800_LOOSE/sources/src_253214.fits'\u001b[0m\n",
      "\u001b[32m2023-11-15 11:30:42.737\u001b[0m | \u001b[34m\u001b[1mDEBUG   \u001b[0m | \u001b[36mvasca.tables\u001b[0m:\u001b[36mwrite_to_fits\u001b[0m:\u001b[36m264\u001b[0m - \u001b[34m\u001b[1mWriting table 'tt_sources'\u001b[0m\n",
      "\u001b[32m2023-11-15 11:30:42.773\u001b[0m | \u001b[34m\u001b[1mDEBUG   \u001b[0m | \u001b[36mvasca.tables\u001b[0m:\u001b[36mwrite_to_fits\u001b[0m:\u001b[36m264\u001b[0m - \u001b[34m\u001b[1mWriting table 'tt_detections'\u001b[0m\n",
      "\u001b[32m2023-11-15 11:30:42.792\u001b[0m | \u001b[34m\u001b[1mDEBUG   \u001b[0m | \u001b[36mvasca.tables\u001b[0m:\u001b[36mwrite_to_fits\u001b[0m:\u001b[36m264\u001b[0m - \u001b[34m\u001b[1mWriting table 'tt_simbad'\u001b[0m\n",
      "WARNING: VerifyWarning: Keyword name 'description' is greater than 8 characters or contains characters not allowed by the FITS standard; a HIERARCH card will be created. [astropy.io.fits.card]\n",
      "\u001b[32m2023-11-15 11:30:42.838\u001b[0m | \u001b[34m\u001b[1mDEBUG   \u001b[0m | \u001b[36mvasca.tables\u001b[0m:\u001b[36mwrite_to_fits\u001b[0m:\u001b[36m264\u001b[0m - \u001b[34m\u001b[1mWriting table 'tt_gaiadr3'\u001b[0m\n",
      "WARNING: UnitsWarning: 'log(cm.s**-2)' did not parse as fits unit: 'log' is not a recognized function If this is meant to be a custom unit, define it with 'u.def_unit'. To have it recognized inside a file reader or other code, enable it with 'u.add_enabled_units'. For details, see https://docs.astropy.org/en/latest/units/combining_and_defining.html [astropy.units.core]\n"
     ]
    },
    {
     "name": "stdout",
     "output_type": "stream",
     "text": [
      "{'rg_src_id': [253214], 'nr_det': [[25, 8]], 'wght_mean': [[145.19067106530608, 45.22813664722923]], 'wght_mean_err': [[0.5927166829531584, 1.3565233761358026]], 'var': [[271.6029168451069, 308.699605208706]], 'nxv': [[0.011801601318079622, 0.1316467158966431]], 'rchiq': [[34.76352616808996, 25.38939428773605]], 'cpval': [[1.154743758311668e-160, 5.885961125882814e-35]]}\n"
     ]
    },
    {
     "name": "stderr",
     "output_type": "stream",
     "text": [
      "\u001b[32m2023-11-15 11:30:42.995\u001b[0m | \u001b[34m\u001b[1mDEBUG   \u001b[0m | \u001b[36mvasca.tables\u001b[0m:\u001b[36mwrite_to_fits\u001b[0m:\u001b[36m264\u001b[0m - \u001b[34m\u001b[1mWriting table 'tt_visits'\u001b[0m\n",
      "\u001b[32m2023-11-15 11:30:43.002\u001b[0m | \u001b[34m\u001b[1mDEBUG   \u001b[0m | \u001b[36mvasca.tables\u001b[0m:\u001b[36mwrite_to_fits\u001b[0m:\u001b[36m264\u001b[0m - \u001b[34m\u001b[1mWriting table 'tt_fields'\u001b[0m\n",
      "\u001b[32m2023-11-15 11:30:43.014\u001b[0m | \u001b[34m\u001b[1mDEBUG   \u001b[0m | \u001b[36mvasca.tables\u001b[0m:\u001b[36mwrite_to_fits\u001b[0m:\u001b[36m264\u001b[0m - \u001b[34m\u001b[1mWriting table 'tt_filters'\u001b[0m\n",
      "\u001b[32m2023-11-15 11:30:43.019\u001b[0m | \u001b[34m\u001b[1mDEBUG   \u001b[0m | \u001b[36mvasca.tables\u001b[0m:\u001b[36mwrite_to_fits\u001b[0m:\u001b[36m264\u001b[0m - \u001b[34m\u001b[1mWriting table 'tt_source_lc'\u001b[0m\n",
      "WARNING: VerifyWarning: Keyword name 'rg_src_id' is greater than 8 characters or contains characters not allowed by the FITS standard; a HIERARCH card will be created. [astropy.io.fits.card]\n",
      "\u001b[32m2023-11-15 11:30:43.031\u001b[0m | \u001b[34m\u001b[1mDEBUG   \u001b[0m | \u001b[36mvasca.tables\u001b[0m:\u001b[36mwrite_to_fits\u001b[0m:\u001b[36m264\u001b[0m - \u001b[34m\u001b[1mWriting table 'tt_sed'\u001b[0m\n",
      "\u001b[32m2023-11-15 11:30:43.039\u001b[0m | \u001b[34m\u001b[1mDEBUG   \u001b[0m | \u001b[36mvasca.tables\u001b[0m:\u001b[36mwrite_to_fits\u001b[0m:\u001b[36m264\u001b[0m - \u001b[34m\u001b[1mWriting table 'tt_gphoton_lc'\u001b[0m\n",
      "\u001b[32m2023-11-15 11:30:43.048\u001b[0m | \u001b[34m\u001b[1mDEBUG   \u001b[0m | \u001b[36mvasca.tables\u001b[0m:\u001b[36mwrite_to_fits\u001b[0m:\u001b[36m264\u001b[0m - \u001b[34m\u001b[1mWriting table 'tt_gphoton_stats'\u001b[0m\n",
      "\u001b[32m2023-11-15 11:30:43.179\u001b[0m | \u001b[34m\u001b[1mDEBUG   \u001b[0m | \u001b[36mvasca.region\u001b[0m:\u001b[36mget_src_from_id\u001b[0m:\u001b[36m337\u001b[0m - \u001b[34m\u001b[1mGetting Source object for rg_src_id: 381336\u001b[0m\n",
      "\u001b[32m2023-11-15 11:30:43.184\u001b[0m | \u001b[34m\u001b[1mDEBUG   \u001b[0m | \u001b[36mvasca.tables\u001b[0m:\u001b[36madd_table\u001b[0m:\u001b[36m159\u001b[0m - \u001b[34m\u001b[1mAdding table 'tt_sources'\u001b[0m\n",
      "\u001b[32m2023-11-15 11:30:43.212\u001b[0m | \u001b[34m\u001b[1mDEBUG   \u001b[0m | \u001b[36mvasca.tables\u001b[0m:\u001b[36madd_table\u001b[0m:\u001b[36m159\u001b[0m - \u001b[34m\u001b[1mAdding table 'tt_detections'\u001b[0m\n",
      "\u001b[32m2023-11-15 11:30:43.220\u001b[0m | \u001b[34m\u001b[1mDEBUG   \u001b[0m | \u001b[36mvasca.tables\u001b[0m:\u001b[36madd_table\u001b[0m:\u001b[36m159\u001b[0m - \u001b[34m\u001b[1mAdding table 'tt_simbad'\u001b[0m\n",
      "\u001b[32m2023-11-15 11:30:43.235\u001b[0m | \u001b[34m\u001b[1mDEBUG   \u001b[0m | \u001b[36mvasca.tables\u001b[0m:\u001b[36madd_table\u001b[0m:\u001b[36m159\u001b[0m - \u001b[34m\u001b[1mAdding table 'tt_gaiadr3'\u001b[0m\n",
      "\u001b[32m2023-11-15 11:30:43.245\u001b[0m | \u001b[34m\u001b[1mDEBUG   \u001b[0m | \u001b[36mvasca.tables\u001b[0m:\u001b[36madd_table\u001b[0m:\u001b[36m159\u001b[0m - \u001b[34m\u001b[1mAdding table 'tt_visits'\u001b[0m\n",
      "\u001b[32m2023-11-15 11:30:43.249\u001b[0m | \u001b[34m\u001b[1mDEBUG   \u001b[0m | \u001b[36mvasca.tables\u001b[0m:\u001b[36madd_table\u001b[0m:\u001b[36m159\u001b[0m - \u001b[34m\u001b[1mAdding table 'tt_fields'\u001b[0m\n",
      "\u001b[32m2023-11-15 11:30:43.250\u001b[0m | \u001b[34m\u001b[1mDEBUG   \u001b[0m | \u001b[36mvasca.tables\u001b[0m:\u001b[36madd_table\u001b[0m:\u001b[36m159\u001b[0m - \u001b[34m\u001b[1mAdding table 'tt_filters'\u001b[0m\n",
      "\u001b[32m2023-11-15 11:30:43.257\u001b[0m | \u001b[34m\u001b[1mDEBUG   \u001b[0m | \u001b[36mvasca.tables\u001b[0m:\u001b[36madd_table\u001b[0m:\u001b[36m159\u001b[0m - \u001b[34m\u001b[1mAdding table 'tt_source_lc'\u001b[0m\n"
     ]
    },
    {
     "name": "stdout",
     "output_type": "stream",
     "text": [
      "*********** Creating Source Table ID 381336 *****************\n"
     ]
    },
    {
     "name": "stderr",
     "output_type": "stream",
     "text": [
      "\u001b[32m2023-11-15 11:30:43.558\u001b[0m | \u001b[34m\u001b[1mDEBUG   \u001b[0m | \u001b[36mvasca.tables\u001b[0m:\u001b[36madd_table\u001b[0m:\u001b[36m159\u001b[0m - \u001b[34m\u001b[1mAdding table 'region:tt_sed'\u001b[0m\n",
      "\u001b[32m2023-11-15 11:30:43.573\u001b[0m | \u001b[33m\u001b[1mWARNING \u001b[0m | \u001b[36mvasca.source\u001b[0m:\u001b[36madd_vizier_SED\u001b[0m:\u001b[36m100\u001b[0m - \u001b[33m\u001b[1mSkipping row as flux contains nan\u001b[0m\n",
      "\u001b[32m2023-11-15 11:30:43.582\u001b[0m | \u001b[34m\u001b[1mDEBUG   \u001b[0m | \u001b[36mvasca.tables\u001b[0m:\u001b[36madd_table\u001b[0m:\u001b[36m159\u001b[0m - \u001b[34m\u001b[1mAdding table 'region:tt_gphoton_lc'\u001b[0m\n",
      "\u001b[32m2023-11-15 11:30:43.585\u001b[0m | \u001b[34m\u001b[1mDEBUG   \u001b[0m | \u001b[36mvasca.tables\u001b[0m:\u001b[36madd_table\u001b[0m:\u001b[36m159\u001b[0m - \u001b[34m\u001b[1mAdding table 'tt_gphoton_stats'\u001b[0m\n",
      "\u001b[32m2023-11-15 11:30:43.587\u001b[0m | \u001b[33m\u001b[1mWARNING \u001b[0m | \u001b[36mvasca.source\u001b[0m:\u001b[36madd_spectrum\u001b[0m:\u001b[36m296\u001b[0m - \u001b[33m\u001b[1mNo spectrum found\u001b[0m\n",
      "\u001b[32m2023-11-15 11:30:43.588\u001b[0m | \u001b[1mINFO    \u001b[0m | \u001b[36mvasca.tables\u001b[0m:\u001b[36mwrite_to_fits\u001b[0m:\u001b[36m224\u001b[0m - \u001b[1mWriting file with name './vasca_pipeline/ALL_10-800_LOOSE/sources/src_381336.fits'\u001b[0m\n",
      "\u001b[32m2023-11-15 11:30:43.589\u001b[0m | \u001b[34m\u001b[1mDEBUG   \u001b[0m | \u001b[36mvasca.tables\u001b[0m:\u001b[36mwrite_to_fits\u001b[0m:\u001b[36m264\u001b[0m - \u001b[34m\u001b[1mWriting table 'tt_sources'\u001b[0m\n",
      "\u001b[32m2023-11-15 11:30:43.620\u001b[0m | \u001b[34m\u001b[1mDEBUG   \u001b[0m | \u001b[36mvasca.tables\u001b[0m:\u001b[36mwrite_to_fits\u001b[0m:\u001b[36m264\u001b[0m - \u001b[34m\u001b[1mWriting table 'tt_detections'\u001b[0m\n",
      "\u001b[32m2023-11-15 11:30:43.633\u001b[0m | \u001b[34m\u001b[1mDEBUG   \u001b[0m | \u001b[36mvasca.tables\u001b[0m:\u001b[36mwrite_to_fits\u001b[0m:\u001b[36m264\u001b[0m - \u001b[34m\u001b[1mWriting table 'tt_simbad'\u001b[0m\n",
      "WARNING: VerifyWarning: Keyword name 'description' is greater than 8 characters or contains characters not allowed by the FITS standard; a HIERARCH card will be created. [astropy.io.fits.card]\n",
      "\u001b[32m2023-11-15 11:30:43.679\u001b[0m | \u001b[34m\u001b[1mDEBUG   \u001b[0m | \u001b[36mvasca.tables\u001b[0m:\u001b[36mwrite_to_fits\u001b[0m:\u001b[36m264\u001b[0m - \u001b[34m\u001b[1mWriting table 'tt_gaiadr3'\u001b[0m\n",
      "WARNING: UnitsWarning: 'log(cm.s**-2)' did not parse as fits unit: 'log' is not a recognized function If this is meant to be a custom unit, define it with 'u.def_unit'. To have it recognized inside a file reader or other code, enable it with 'u.add_enabled_units'. For details, see https://docs.astropy.org/en/latest/units/combining_and_defining.html [astropy.units.core]\n"
     ]
    },
    {
     "name": "stdout",
     "output_type": "stream",
     "text": [
      "{'rg_src_id': [381336], 'nr_det': [[18, 10]], 'wght_mean': [[98.46639781820028, 151.1523915765875]], 'wght_mean_err': [[0.47365403194203537, 1.1708420240329351]], 'var': [[23.191826355421643, 39.30905187054958]], 'nxv': [[0.0007602659984405823, 0.0005388723764169489]], 'rchiq': [[5.632081618766799, 3.15789782891528]], 'cpval': [[5.429144192100424e-13, 0.0008109370127804381]]}\n"
     ]
    },
    {
     "name": "stderr",
     "output_type": "stream",
     "text": [
      "\u001b[32m2023-11-15 11:30:43.845\u001b[0m | \u001b[34m\u001b[1mDEBUG   \u001b[0m | \u001b[36mvasca.tables\u001b[0m:\u001b[36mwrite_to_fits\u001b[0m:\u001b[36m264\u001b[0m - \u001b[34m\u001b[1mWriting table 'tt_visits'\u001b[0m\n",
      "\u001b[32m2023-11-15 11:30:43.852\u001b[0m | \u001b[34m\u001b[1mDEBUG   \u001b[0m | \u001b[36mvasca.tables\u001b[0m:\u001b[36mwrite_to_fits\u001b[0m:\u001b[36m264\u001b[0m - \u001b[34m\u001b[1mWriting table 'tt_fields'\u001b[0m\n",
      "\u001b[32m2023-11-15 11:30:43.864\u001b[0m | \u001b[34m\u001b[1mDEBUG   \u001b[0m | \u001b[36mvasca.tables\u001b[0m:\u001b[36mwrite_to_fits\u001b[0m:\u001b[36m264\u001b[0m - \u001b[34m\u001b[1mWriting table 'tt_filters'\u001b[0m\n",
      "\u001b[32m2023-11-15 11:30:43.869\u001b[0m | \u001b[34m\u001b[1mDEBUG   \u001b[0m | \u001b[36mvasca.tables\u001b[0m:\u001b[36mwrite_to_fits\u001b[0m:\u001b[36m264\u001b[0m - \u001b[34m\u001b[1mWriting table 'tt_source_lc'\u001b[0m\n",
      "WARNING: VerifyWarning: Keyword name 'rg_src_id' is greater than 8 characters or contains characters not allowed by the FITS standard; a HIERARCH card will be created. [astropy.io.fits.card]\n",
      "\u001b[32m2023-11-15 11:30:43.880\u001b[0m | \u001b[34m\u001b[1mDEBUG   \u001b[0m | \u001b[36mvasca.tables\u001b[0m:\u001b[36mwrite_to_fits\u001b[0m:\u001b[36m264\u001b[0m - \u001b[34m\u001b[1mWriting table 'tt_sed'\u001b[0m\n",
      "\u001b[32m2023-11-15 11:30:43.886\u001b[0m | \u001b[34m\u001b[1mDEBUG   \u001b[0m | \u001b[36mvasca.tables\u001b[0m:\u001b[36mwrite_to_fits\u001b[0m:\u001b[36m264\u001b[0m - \u001b[34m\u001b[1mWriting table 'tt_gphoton_lc'\u001b[0m\n",
      "\u001b[32m2023-11-15 11:30:43.896\u001b[0m | \u001b[34m\u001b[1mDEBUG   \u001b[0m | \u001b[36mvasca.tables\u001b[0m:\u001b[36mwrite_to_fits\u001b[0m:\u001b[36m264\u001b[0m - \u001b[34m\u001b[1mWriting table 'tt_gphoton_stats'\u001b[0m\n",
      "\u001b[32m2023-11-15 11:30:44.037\u001b[0m | \u001b[34m\u001b[1mDEBUG   \u001b[0m | \u001b[36mvasca.region\u001b[0m:\u001b[36mget_src_from_id\u001b[0m:\u001b[36m337\u001b[0m - \u001b[34m\u001b[1mGetting Source object for rg_src_id: 525310\u001b[0m\n",
      "\u001b[32m2023-11-15 11:30:44.043\u001b[0m | \u001b[34m\u001b[1mDEBUG   \u001b[0m | \u001b[36mvasca.tables\u001b[0m:\u001b[36madd_table\u001b[0m:\u001b[36m159\u001b[0m - \u001b[34m\u001b[1mAdding table 'tt_sources'\u001b[0m\n",
      "\u001b[32m2023-11-15 11:30:44.070\u001b[0m | \u001b[34m\u001b[1mDEBUG   \u001b[0m | \u001b[36mvasca.tables\u001b[0m:\u001b[36madd_table\u001b[0m:\u001b[36m159\u001b[0m - \u001b[34m\u001b[1mAdding table 'tt_detections'\u001b[0m\n",
      "\u001b[32m2023-11-15 11:30:44.078\u001b[0m | \u001b[34m\u001b[1mDEBUG   \u001b[0m | \u001b[36mvasca.tables\u001b[0m:\u001b[36madd_table\u001b[0m:\u001b[36m159\u001b[0m - \u001b[34m\u001b[1mAdding table 'tt_simbad'\u001b[0m\n",
      "\u001b[32m2023-11-15 11:30:44.095\u001b[0m | \u001b[34m\u001b[1mDEBUG   \u001b[0m | \u001b[36mvasca.tables\u001b[0m:\u001b[36madd_table\u001b[0m:\u001b[36m159\u001b[0m - \u001b[34m\u001b[1mAdding table 'tt_gaiadr3'\u001b[0m\n",
      "\u001b[32m2023-11-15 11:30:44.105\u001b[0m | \u001b[34m\u001b[1mDEBUG   \u001b[0m | \u001b[36mvasca.tables\u001b[0m:\u001b[36madd_table\u001b[0m:\u001b[36m159\u001b[0m - \u001b[34m\u001b[1mAdding table 'tt_visits'\u001b[0m\n",
      "\u001b[32m2023-11-15 11:30:44.109\u001b[0m | \u001b[34m\u001b[1mDEBUG   \u001b[0m | \u001b[36mvasca.tables\u001b[0m:\u001b[36madd_table\u001b[0m:\u001b[36m159\u001b[0m - \u001b[34m\u001b[1mAdding table 'tt_fields'\u001b[0m\n",
      "\u001b[32m2023-11-15 11:30:44.110\u001b[0m | \u001b[34m\u001b[1mDEBUG   \u001b[0m | \u001b[36mvasca.tables\u001b[0m:\u001b[36madd_table\u001b[0m:\u001b[36m159\u001b[0m - \u001b[34m\u001b[1mAdding table 'tt_filters'\u001b[0m\n",
      "\u001b[32m2023-11-15 11:30:44.117\u001b[0m | \u001b[34m\u001b[1mDEBUG   \u001b[0m | \u001b[36mvasca.tables\u001b[0m:\u001b[36madd_table\u001b[0m:\u001b[36m159\u001b[0m - \u001b[34m\u001b[1mAdding table 'tt_source_lc'\u001b[0m\n"
     ]
    },
    {
     "name": "stdout",
     "output_type": "stream",
     "text": [
      "*********** Creating Source Table ID 525310 *****************\n"
     ]
    },
    {
     "name": "stderr",
     "output_type": "stream",
     "text": [
      "\u001b[32m2023-11-15 11:30:44.419\u001b[0m | \u001b[34m\u001b[1mDEBUG   \u001b[0m | \u001b[36mvasca.tables\u001b[0m:\u001b[36madd_table\u001b[0m:\u001b[36m159\u001b[0m - \u001b[34m\u001b[1mAdding table 'region:tt_sed'\u001b[0m\n",
      "\u001b[32m2023-11-15 11:30:44.422\u001b[0m | \u001b[33m\u001b[1mWARNING \u001b[0m | \u001b[36mvasca.source\u001b[0m:\u001b[36madd_vizier_SED\u001b[0m:\u001b[36m100\u001b[0m - \u001b[33m\u001b[1mSkipping row as flux contains nan\u001b[0m\n",
      "\u001b[32m2023-11-15 11:30:44.451\u001b[0m | \u001b[33m\u001b[1mWARNING \u001b[0m | \u001b[36mvasca.source\u001b[0m:\u001b[36madd_vizier_SED\u001b[0m:\u001b[36m100\u001b[0m - \u001b[33m\u001b[1mSkipping row as flux contains nan\u001b[0m\n",
      "\u001b[32m2023-11-15 11:30:44.452\u001b[0m | \u001b[33m\u001b[1mWARNING \u001b[0m | \u001b[36mvasca.source\u001b[0m:\u001b[36madd_vizier_SED\u001b[0m:\u001b[36m100\u001b[0m - \u001b[33m\u001b[1mSkipping row as flux contains nan\u001b[0m\n",
      "\u001b[32m2023-11-15 11:30:44.453\u001b[0m | \u001b[33m\u001b[1mWARNING \u001b[0m | \u001b[36mvasca.source\u001b[0m:\u001b[36madd_vizier_SED\u001b[0m:\u001b[36m100\u001b[0m - \u001b[33m\u001b[1mSkipping row as flux contains nan\u001b[0m\n",
      "\u001b[32m2023-11-15 11:30:44.454\u001b[0m | \u001b[33m\u001b[1mWARNING \u001b[0m | \u001b[36mvasca.source\u001b[0m:\u001b[36madd_vizier_SED\u001b[0m:\u001b[36m100\u001b[0m - \u001b[33m\u001b[1mSkipping row as flux contains nan\u001b[0m\n",
      "\u001b[32m2023-11-15 11:30:44.456\u001b[0m | \u001b[33m\u001b[1mWARNING \u001b[0m | \u001b[36mvasca.source\u001b[0m:\u001b[36madd_vizier_SED\u001b[0m:\u001b[36m100\u001b[0m - \u001b[33m\u001b[1mSkipping row as flux contains nan\u001b[0m\n",
      "\u001b[32m2023-11-15 11:30:44.456\u001b[0m | \u001b[33m\u001b[1mWARNING \u001b[0m | \u001b[36mvasca.source\u001b[0m:\u001b[36madd_vizier_SED\u001b[0m:\u001b[36m100\u001b[0m - \u001b[33m\u001b[1mSkipping row as flux contains nan\u001b[0m\n",
      "\u001b[32m2023-11-15 11:30:44.456\u001b[0m | \u001b[33m\u001b[1mWARNING \u001b[0m | \u001b[36mvasca.source\u001b[0m:\u001b[36madd_vizier_SED\u001b[0m:\u001b[36m100\u001b[0m - \u001b[33m\u001b[1mSkipping row as flux contains nan\u001b[0m\n",
      "\u001b[32m2023-11-15 11:30:44.471\u001b[0m | \u001b[34m\u001b[1mDEBUG   \u001b[0m | \u001b[36mvasca.tables\u001b[0m:\u001b[36madd_table\u001b[0m:\u001b[36m159\u001b[0m - \u001b[34m\u001b[1mAdding table 'region:tt_gphoton_lc'\u001b[0m\n",
      "\u001b[32m2023-11-15 11:30:44.474\u001b[0m | \u001b[34m\u001b[1mDEBUG   \u001b[0m | \u001b[36mvasca.tables\u001b[0m:\u001b[36madd_table\u001b[0m:\u001b[36m159\u001b[0m - \u001b[34m\u001b[1mAdding table 'tt_gphoton_stats'\u001b[0m\n",
      "\u001b[32m2023-11-15 11:30:44.481\u001b[0m | \u001b[34m\u001b[1mDEBUG   \u001b[0m | \u001b[36mvasca.tables\u001b[0m:\u001b[36madd_table\u001b[0m:\u001b[36m159\u001b[0m - \u001b[34m\u001b[1mAdding table 'tt_spectrum_0'\u001b[0m\n",
      "\u001b[32m2023-11-15 11:30:44.482\u001b[0m | \u001b[1mINFO    \u001b[0m | \u001b[36mvasca.tables\u001b[0m:\u001b[36mwrite_to_fits\u001b[0m:\u001b[36m224\u001b[0m - \u001b[1mWriting file with name './vasca_pipeline/ALL_10-800_LOOSE/sources/src_525310.fits'\u001b[0m\n",
      "\u001b[32m2023-11-15 11:30:44.483\u001b[0m | \u001b[34m\u001b[1mDEBUG   \u001b[0m | \u001b[36mvasca.tables\u001b[0m:\u001b[36mwrite_to_fits\u001b[0m:\u001b[36m264\u001b[0m - \u001b[34m\u001b[1mWriting table 'tt_sources'\u001b[0m\n",
      "\u001b[32m2023-11-15 11:30:44.515\u001b[0m | \u001b[34m\u001b[1mDEBUG   \u001b[0m | \u001b[36mvasca.tables\u001b[0m:\u001b[36mwrite_to_fits\u001b[0m:\u001b[36m264\u001b[0m - \u001b[34m\u001b[1mWriting table 'tt_detections'\u001b[0m\n",
      "\u001b[32m2023-11-15 11:30:44.526\u001b[0m | \u001b[34m\u001b[1mDEBUG   \u001b[0m | \u001b[36mvasca.tables\u001b[0m:\u001b[36mwrite_to_fits\u001b[0m:\u001b[36m264\u001b[0m - \u001b[34m\u001b[1mWriting table 'tt_simbad'\u001b[0m\n",
      "WARNING: VerifyWarning: Keyword name 'description' is greater than 8 characters or contains characters not allowed by the FITS standard; a HIERARCH card will be created. [astropy.io.fits.card]\n",
      "\u001b[32m2023-11-15 11:30:44.570\u001b[0m | \u001b[34m\u001b[1mDEBUG   \u001b[0m | \u001b[36mvasca.tables\u001b[0m:\u001b[36mwrite_to_fits\u001b[0m:\u001b[36m264\u001b[0m - \u001b[34m\u001b[1mWriting table 'tt_gaiadr3'\u001b[0m\n",
      "WARNING: UnitsWarning: 'log(cm.s**-2)' did not parse as fits unit: 'log' is not a recognized function If this is meant to be a custom unit, define it with 'u.def_unit'. To have it recognized inside a file reader or other code, enable it with 'u.add_enabled_units'. For details, see https://docs.astropy.org/en/latest/units/combining_and_defining.html [astropy.units.core]\n"
     ]
    },
    {
     "name": "stdout",
     "output_type": "stream",
     "text": [
      "{'rg_src_id': [525310], 'nr_det': [[13, 2]], 'wght_mean': [[115.96214109075028, 169.4640529583675]], 'wght_mean_err': [[0.5656507552905344, 10.686867542549141]], 'var': [[11.254264953431559, 275.48277008605226]], 'nxv': [[-0.00016257799765662917, 0.0015534065656846007]], 'rchiq': [[1.2459769413553383, 1.1932276018577146]], 'cpval': [[0.24408720036959985, 0.27467947623931743]]}\n"
     ]
    },
    {
     "name": "stderr",
     "output_type": "stream",
     "text": [
      "\u001b[32m2023-11-15 11:30:44.729\u001b[0m | \u001b[34m\u001b[1mDEBUG   \u001b[0m | \u001b[36mvasca.tables\u001b[0m:\u001b[36mwrite_to_fits\u001b[0m:\u001b[36m264\u001b[0m - \u001b[34m\u001b[1mWriting table 'tt_visits'\u001b[0m\n",
      "\u001b[32m2023-11-15 11:30:44.735\u001b[0m | \u001b[34m\u001b[1mDEBUG   \u001b[0m | \u001b[36mvasca.tables\u001b[0m:\u001b[36mwrite_to_fits\u001b[0m:\u001b[36m264\u001b[0m - \u001b[34m\u001b[1mWriting table 'tt_fields'\u001b[0m\n",
      "\u001b[32m2023-11-15 11:30:44.805\u001b[0m | \u001b[34m\u001b[1mDEBUG   \u001b[0m | \u001b[36mvasca.tables\u001b[0m:\u001b[36mwrite_to_fits\u001b[0m:\u001b[36m264\u001b[0m - \u001b[34m\u001b[1mWriting table 'tt_filters'\u001b[0m\n",
      "\u001b[32m2023-11-15 11:30:44.810\u001b[0m | \u001b[34m\u001b[1mDEBUG   \u001b[0m | \u001b[36mvasca.tables\u001b[0m:\u001b[36mwrite_to_fits\u001b[0m:\u001b[36m264\u001b[0m - \u001b[34m\u001b[1mWriting table 'tt_source_lc'\u001b[0m\n",
      "WARNING: VerifyWarning: Keyword name 'rg_src_id' is greater than 8 characters or contains characters not allowed by the FITS standard; a HIERARCH card will be created. [astropy.io.fits.card]\n",
      "\u001b[32m2023-11-15 11:30:44.824\u001b[0m | \u001b[34m\u001b[1mDEBUG   \u001b[0m | \u001b[36mvasca.tables\u001b[0m:\u001b[36mwrite_to_fits\u001b[0m:\u001b[36m264\u001b[0m - \u001b[34m\u001b[1mWriting table 'tt_sed'\u001b[0m\n",
      "\u001b[32m2023-11-15 11:30:44.833\u001b[0m | \u001b[34m\u001b[1mDEBUG   \u001b[0m | \u001b[36mvasca.tables\u001b[0m:\u001b[36mwrite_to_fits\u001b[0m:\u001b[36m264\u001b[0m - \u001b[34m\u001b[1mWriting table 'tt_gphoton_lc'\u001b[0m\n",
      "\u001b[32m2023-11-15 11:30:44.844\u001b[0m | \u001b[34m\u001b[1mDEBUG   \u001b[0m | \u001b[36mvasca.tables\u001b[0m:\u001b[36mwrite_to_fits\u001b[0m:\u001b[36m264\u001b[0m - \u001b[34m\u001b[1mWriting table 'tt_gphoton_stats'\u001b[0m\n",
      "\u001b[32m2023-11-15 11:30:44.851\u001b[0m | \u001b[34m\u001b[1mDEBUG   \u001b[0m | \u001b[36mvasca.tables\u001b[0m:\u001b[36mwrite_to_fits\u001b[0m:\u001b[36m264\u001b[0m - \u001b[34m\u001b[1mWriting table 'tt_spectrum_0'\u001b[0m\n",
      "\u001b[32m2023-11-15 11:30:45.003\u001b[0m | \u001b[34m\u001b[1mDEBUG   \u001b[0m | \u001b[36mvasca.region\u001b[0m:\u001b[36mget_src_from_id\u001b[0m:\u001b[36m337\u001b[0m - \u001b[34m\u001b[1mGetting Source object for rg_src_id: 533185\u001b[0m\n",
      "\u001b[32m2023-11-15 11:30:45.008\u001b[0m | \u001b[34m\u001b[1mDEBUG   \u001b[0m | \u001b[36mvasca.tables\u001b[0m:\u001b[36madd_table\u001b[0m:\u001b[36m159\u001b[0m - \u001b[34m\u001b[1mAdding table 'tt_sources'\u001b[0m\n",
      "\u001b[32m2023-11-15 11:30:45.037\u001b[0m | \u001b[34m\u001b[1mDEBUG   \u001b[0m | \u001b[36mvasca.tables\u001b[0m:\u001b[36madd_table\u001b[0m:\u001b[36m159\u001b[0m - \u001b[34m\u001b[1mAdding table 'tt_detections'\u001b[0m\n",
      "\u001b[32m2023-11-15 11:30:45.045\u001b[0m | \u001b[34m\u001b[1mDEBUG   \u001b[0m | \u001b[36mvasca.tables\u001b[0m:\u001b[36madd_table\u001b[0m:\u001b[36m159\u001b[0m - \u001b[34m\u001b[1mAdding table 'tt_simbad'\u001b[0m\n",
      "\u001b[32m2023-11-15 11:30:45.062\u001b[0m | \u001b[34m\u001b[1mDEBUG   \u001b[0m | \u001b[36mvasca.tables\u001b[0m:\u001b[36madd_table\u001b[0m:\u001b[36m159\u001b[0m - \u001b[34m\u001b[1mAdding table 'tt_gaiadr3'\u001b[0m\n",
      "\u001b[32m2023-11-15 11:30:45.071\u001b[0m | \u001b[34m\u001b[1mDEBUG   \u001b[0m | \u001b[36mvasca.tables\u001b[0m:\u001b[36madd_table\u001b[0m:\u001b[36m159\u001b[0m - \u001b[34m\u001b[1mAdding table 'tt_lombscargle'\u001b[0m\n",
      "\u001b[32m2023-11-15 11:30:45.075\u001b[0m | \u001b[34m\u001b[1mDEBUG   \u001b[0m | \u001b[36mvasca.tables\u001b[0m:\u001b[36madd_table\u001b[0m:\u001b[36m159\u001b[0m - \u001b[34m\u001b[1mAdding table 'tt_visits'\u001b[0m\n",
      "\u001b[32m2023-11-15 11:30:45.079\u001b[0m | \u001b[34m\u001b[1mDEBUG   \u001b[0m | \u001b[36mvasca.tables\u001b[0m:\u001b[36madd_table\u001b[0m:\u001b[36m159\u001b[0m - \u001b[34m\u001b[1mAdding table 'tt_fields'\u001b[0m\n",
      "\u001b[32m2023-11-15 11:30:45.081\u001b[0m | \u001b[34m\u001b[1mDEBUG   \u001b[0m | \u001b[36mvasca.tables\u001b[0m:\u001b[36madd_table\u001b[0m:\u001b[36m159\u001b[0m - \u001b[34m\u001b[1mAdding table 'tt_filters'\u001b[0m\n",
      "\u001b[32m2023-11-15 11:30:45.091\u001b[0m | \u001b[34m\u001b[1mDEBUG   \u001b[0m | \u001b[36mvasca.tables\u001b[0m:\u001b[36madd_table\u001b[0m:\u001b[36m159\u001b[0m - \u001b[34m\u001b[1mAdding table 'tt_source_lc'\u001b[0m\n"
     ]
    },
    {
     "name": "stdout",
     "output_type": "stream",
     "text": [
      "*********** Creating Source Table ID 533185 *****************\n"
     ]
    },
    {
     "name": "stderr",
     "output_type": "stream",
     "text": [
      "\u001b[32m2023-11-15 11:30:45.359\u001b[0m | \u001b[34m\u001b[1mDEBUG   \u001b[0m | \u001b[36mvasca.tables\u001b[0m:\u001b[36madd_table\u001b[0m:\u001b[36m159\u001b[0m - \u001b[34m\u001b[1mAdding table 'region:tt_sed'\u001b[0m\n",
      "\u001b[32m2023-11-15 11:30:45.362\u001b[0m | \u001b[33m\u001b[1mWARNING \u001b[0m | \u001b[36mvasca.source\u001b[0m:\u001b[36madd_vizier_SED\u001b[0m:\u001b[36m100\u001b[0m - \u001b[33m\u001b[1mSkipping row as flux contains nan\u001b[0m\n",
      "\u001b[32m2023-11-15 11:30:45.368\u001b[0m | \u001b[33m\u001b[1mWARNING \u001b[0m | \u001b[36mvasca.source\u001b[0m:\u001b[36madd_vizier_SED\u001b[0m:\u001b[36m100\u001b[0m - \u001b[33m\u001b[1mSkipping row as flux contains nan\u001b[0m\n",
      "\u001b[32m2023-11-15 11:30:45.368\u001b[0m | \u001b[33m\u001b[1mWARNING \u001b[0m | \u001b[36mvasca.source\u001b[0m:\u001b[36madd_vizier_SED\u001b[0m:\u001b[36m100\u001b[0m - \u001b[33m\u001b[1mSkipping row as flux contains nan\u001b[0m\n",
      "\u001b[32m2023-11-15 11:30:45.369\u001b[0m | \u001b[33m\u001b[1mWARNING \u001b[0m | \u001b[36mvasca.source\u001b[0m:\u001b[36madd_vizier_SED\u001b[0m:\u001b[36m100\u001b[0m - \u001b[33m\u001b[1mSkipping row as flux contains nan\u001b[0m\n",
      "\u001b[32m2023-11-15 11:30:45.369\u001b[0m | \u001b[33m\u001b[1mWARNING \u001b[0m | \u001b[36mvasca.source\u001b[0m:\u001b[36madd_vizier_SED\u001b[0m:\u001b[36m100\u001b[0m - \u001b[33m\u001b[1mSkipping row as flux contains nan\u001b[0m\n",
      "\u001b[32m2023-11-15 11:30:45.369\u001b[0m | \u001b[33m\u001b[1mWARNING \u001b[0m | \u001b[36mvasca.source\u001b[0m:\u001b[36madd_vizier_SED\u001b[0m:\u001b[36m100\u001b[0m - \u001b[33m\u001b[1mSkipping row as flux contains nan\u001b[0m\n",
      "\u001b[32m2023-11-15 11:30:45.370\u001b[0m | \u001b[33m\u001b[1mWARNING \u001b[0m | \u001b[36mvasca.source\u001b[0m:\u001b[36madd_vizier_SED\u001b[0m:\u001b[36m100\u001b[0m - \u001b[33m\u001b[1mSkipping row as flux contains nan\u001b[0m\n",
      "\u001b[32m2023-11-15 11:30:45.370\u001b[0m | \u001b[33m\u001b[1mWARNING \u001b[0m | \u001b[36mvasca.source\u001b[0m:\u001b[36madd_vizier_SED\u001b[0m:\u001b[36m100\u001b[0m - \u001b[33m\u001b[1mSkipping row as flux contains nan\u001b[0m\n",
      "\u001b[32m2023-11-15 11:30:45.371\u001b[0m | \u001b[33m\u001b[1mWARNING \u001b[0m | \u001b[36mvasca.source\u001b[0m:\u001b[36madd_vizier_SED\u001b[0m:\u001b[36m100\u001b[0m - \u001b[33m\u001b[1mSkipping row as flux contains nan\u001b[0m\n",
      "\u001b[32m2023-11-15 11:30:45.371\u001b[0m | \u001b[33m\u001b[1mWARNING \u001b[0m | \u001b[36mvasca.source\u001b[0m:\u001b[36madd_vizier_SED\u001b[0m:\u001b[36m100\u001b[0m - \u001b[33m\u001b[1mSkipping row as flux contains nan\u001b[0m\n",
      "\u001b[32m2023-11-15 11:30:45.372\u001b[0m | \u001b[33m\u001b[1mWARNING \u001b[0m | \u001b[36mvasca.source\u001b[0m:\u001b[36madd_vizier_SED\u001b[0m:\u001b[36m100\u001b[0m - \u001b[33m\u001b[1mSkipping row as flux contains nan\u001b[0m\n",
      "\u001b[32m2023-11-15 11:30:45.377\u001b[0m | \u001b[33m\u001b[1mWARNING \u001b[0m | \u001b[36mvasca.source\u001b[0m:\u001b[36madd_vizier_SED\u001b[0m:\u001b[36m100\u001b[0m - \u001b[33m\u001b[1mSkipping row as flux contains nan\u001b[0m\n",
      "\u001b[32m2023-11-15 11:30:45.385\u001b[0m | \u001b[33m\u001b[1mWARNING \u001b[0m | \u001b[36mvasca.source\u001b[0m:\u001b[36madd_vizier_SED\u001b[0m:\u001b[36m100\u001b[0m - \u001b[33m\u001b[1mSkipping row as flux contains nan\u001b[0m\n",
      "\u001b[32m2023-11-15 11:30:45.386\u001b[0m | \u001b[33m\u001b[1mWARNING \u001b[0m | \u001b[36mvasca.source\u001b[0m:\u001b[36madd_vizier_SED\u001b[0m:\u001b[36m100\u001b[0m - \u001b[33m\u001b[1mSkipping row as flux contains nan\u001b[0m\n",
      "\u001b[32m2023-11-15 11:30:45.386\u001b[0m | \u001b[33m\u001b[1mWARNING \u001b[0m | \u001b[36mvasca.source\u001b[0m:\u001b[36madd_vizier_SED\u001b[0m:\u001b[36m100\u001b[0m - \u001b[33m\u001b[1mSkipping row as flux contains nan\u001b[0m\n",
      "\u001b[32m2023-11-15 11:30:45.387\u001b[0m | \u001b[33m\u001b[1mWARNING \u001b[0m | \u001b[36mvasca.source\u001b[0m:\u001b[36madd_vizier_SED\u001b[0m:\u001b[36m100\u001b[0m - \u001b[33m\u001b[1mSkipping row as flux contains nan\u001b[0m\n",
      "\u001b[32m2023-11-15 11:30:45.387\u001b[0m | \u001b[33m\u001b[1mWARNING \u001b[0m | \u001b[36mvasca.source\u001b[0m:\u001b[36madd_vizier_SED\u001b[0m:\u001b[36m100\u001b[0m - \u001b[33m\u001b[1mSkipping row as flux contains nan\u001b[0m\n",
      "\u001b[32m2023-11-15 11:30:45.416\u001b[0m | \u001b[34m\u001b[1mDEBUG   \u001b[0m | \u001b[36mvasca.tables\u001b[0m:\u001b[36madd_table\u001b[0m:\u001b[36m159\u001b[0m - \u001b[34m\u001b[1mAdding table 'region:tt_gphoton_lc'\u001b[0m\n",
      "\u001b[32m2023-11-15 11:30:45.419\u001b[0m | \u001b[34m\u001b[1mDEBUG   \u001b[0m | \u001b[36mvasca.tables\u001b[0m:\u001b[36madd_table\u001b[0m:\u001b[36m159\u001b[0m - \u001b[34m\u001b[1mAdding table 'tt_gphoton_stats'\u001b[0m\n",
      "\u001b[32m2023-11-15 11:30:45.422\u001b[0m | \u001b[33m\u001b[1mWARNING \u001b[0m | \u001b[36mvasca.source\u001b[0m:\u001b[36madd_spectrum\u001b[0m:\u001b[36m296\u001b[0m - \u001b[33m\u001b[1mNo spectrum found\u001b[0m\n",
      "\u001b[32m2023-11-15 11:30:45.422\u001b[0m | \u001b[1mINFO    \u001b[0m | \u001b[36mvasca.tables\u001b[0m:\u001b[36mwrite_to_fits\u001b[0m:\u001b[36m224\u001b[0m - \u001b[1mWriting file with name './vasca_pipeline/ALL_10-800_LOOSE/sources/src_533185.fits'\u001b[0m\n",
      "\u001b[32m2023-11-15 11:30:45.425\u001b[0m | \u001b[34m\u001b[1mDEBUG   \u001b[0m | \u001b[36mvasca.tables\u001b[0m:\u001b[36mwrite_to_fits\u001b[0m:\u001b[36m264\u001b[0m - \u001b[34m\u001b[1mWriting table 'tt_sources'\u001b[0m\n",
      "\u001b[32m2023-11-15 11:30:45.457\u001b[0m | \u001b[34m\u001b[1mDEBUG   \u001b[0m | \u001b[36mvasca.tables\u001b[0m:\u001b[36mwrite_to_fits\u001b[0m:\u001b[36m264\u001b[0m - \u001b[34m\u001b[1mWriting table 'tt_detections'\u001b[0m\n",
      "\u001b[32m2023-11-15 11:30:45.470\u001b[0m | \u001b[34m\u001b[1mDEBUG   \u001b[0m | \u001b[36mvasca.tables\u001b[0m:\u001b[36mwrite_to_fits\u001b[0m:\u001b[36m264\u001b[0m - \u001b[34m\u001b[1mWriting table 'tt_simbad'\u001b[0m\n",
      "WARNING: VerifyWarning: Keyword name 'description' is greater than 8 characters or contains characters not allowed by the FITS standard; a HIERARCH card will be created. [astropy.io.fits.card]\n",
      "\u001b[32m2023-11-15 11:30:45.515\u001b[0m | \u001b[34m\u001b[1mDEBUG   \u001b[0m | \u001b[36mvasca.tables\u001b[0m:\u001b[36mwrite_to_fits\u001b[0m:\u001b[36m264\u001b[0m - \u001b[34m\u001b[1mWriting table 'tt_gaiadr3'\u001b[0m\n",
      "WARNING: UnitsWarning: 'log(cm.s**-2)' did not parse as fits unit: 'log' is not a recognized function If this is meant to be a custom unit, define it with 'u.def_unit'. To have it recognized inside a file reader or other code, enable it with 'u.add_enabled_units'. For details, see https://docs.astropy.org/en/latest/units/combining_and_defining.html [astropy.units.core]\n"
     ]
    },
    {
     "name": "stdout",
     "output_type": "stream",
     "text": [
      "{'rg_src_id': [533185], 'nr_det': [[]]}\n"
     ]
    },
    {
     "name": "stderr",
     "output_type": "stream",
     "text": [
      "\u001b[32m2023-11-15 11:30:45.676\u001b[0m | \u001b[34m\u001b[1mDEBUG   \u001b[0m | \u001b[36mvasca.tables\u001b[0m:\u001b[36mwrite_to_fits\u001b[0m:\u001b[36m264\u001b[0m - \u001b[34m\u001b[1mWriting table 'tt_lombscargle'\u001b[0m\n",
      "\u001b[32m2023-11-15 11:30:45.684\u001b[0m | \u001b[34m\u001b[1mDEBUG   \u001b[0m | \u001b[36mvasca.tables\u001b[0m:\u001b[36mwrite_to_fits\u001b[0m:\u001b[36m264\u001b[0m - \u001b[34m\u001b[1mWriting table 'tt_visits'\u001b[0m\n",
      "\u001b[32m2023-11-15 11:30:45.691\u001b[0m | \u001b[34m\u001b[1mDEBUG   \u001b[0m | \u001b[36mvasca.tables\u001b[0m:\u001b[36mwrite_to_fits\u001b[0m:\u001b[36m264\u001b[0m - \u001b[34m\u001b[1mWriting table 'tt_fields'\u001b[0m\n",
      "\u001b[32m2023-11-15 11:30:45.703\u001b[0m | \u001b[34m\u001b[1mDEBUG   \u001b[0m | \u001b[36mvasca.tables\u001b[0m:\u001b[36mwrite_to_fits\u001b[0m:\u001b[36m264\u001b[0m - \u001b[34m\u001b[1mWriting table 'tt_filters'\u001b[0m\n",
      "\u001b[32m2023-11-15 11:30:45.709\u001b[0m | \u001b[34m\u001b[1mDEBUG   \u001b[0m | \u001b[36mvasca.tables\u001b[0m:\u001b[36mwrite_to_fits\u001b[0m:\u001b[36m264\u001b[0m - \u001b[34m\u001b[1mWriting table 'tt_source_lc'\u001b[0m\n",
      "WARNING: VerifyWarning: Keyword name 'rg_src_id' is greater than 8 characters or contains characters not allowed by the FITS standard; a HIERARCH card will be created. [astropy.io.fits.card]\n",
      "\u001b[32m2023-11-15 11:30:45.719\u001b[0m | \u001b[34m\u001b[1mDEBUG   \u001b[0m | \u001b[36mvasca.tables\u001b[0m:\u001b[36mwrite_to_fits\u001b[0m:\u001b[36m264\u001b[0m - \u001b[34m\u001b[1mWriting table 'tt_sed'\u001b[0m\n",
      "\u001b[32m2023-11-15 11:30:45.726\u001b[0m | \u001b[34m\u001b[1mDEBUG   \u001b[0m | \u001b[36mvasca.tables\u001b[0m:\u001b[36mwrite_to_fits\u001b[0m:\u001b[36m264\u001b[0m - \u001b[34m\u001b[1mWriting table 'tt_gphoton_lc'\u001b[0m\n",
      "\u001b[32m2023-11-15 11:30:45.742\u001b[0m | \u001b[34m\u001b[1mDEBUG   \u001b[0m | \u001b[36mvasca.tables\u001b[0m:\u001b[36mwrite_to_fits\u001b[0m:\u001b[36m264\u001b[0m - \u001b[34m\u001b[1mWriting table 'tt_gphoton_stats'\u001b[0m\n",
      "\u001b[32m2023-11-15 11:30:45.888\u001b[0m | \u001b[34m\u001b[1mDEBUG   \u001b[0m | \u001b[36mvasca.region\u001b[0m:\u001b[36mget_src_from_id\u001b[0m:\u001b[36m337\u001b[0m - \u001b[34m\u001b[1mGetting Source object for rg_src_id: 639720\u001b[0m\n",
      "\u001b[32m2023-11-15 11:30:45.894\u001b[0m | \u001b[34m\u001b[1mDEBUG   \u001b[0m | \u001b[36mvasca.tables\u001b[0m:\u001b[36madd_table\u001b[0m:\u001b[36m159\u001b[0m - \u001b[34m\u001b[1mAdding table 'tt_sources'\u001b[0m\n",
      "\u001b[32m2023-11-15 11:30:45.927\u001b[0m | \u001b[34m\u001b[1mDEBUG   \u001b[0m | \u001b[36mvasca.tables\u001b[0m:\u001b[36madd_table\u001b[0m:\u001b[36m159\u001b[0m - \u001b[34m\u001b[1mAdding table 'tt_detections'\u001b[0m\n",
      "\u001b[32m2023-11-15 11:30:45.935\u001b[0m | \u001b[34m\u001b[1mDEBUG   \u001b[0m | \u001b[36mvasca.tables\u001b[0m:\u001b[36madd_table\u001b[0m:\u001b[36m159\u001b[0m - \u001b[34m\u001b[1mAdding table 'tt_simbad'\u001b[0m\n",
      "\u001b[32m2023-11-15 11:30:45.952\u001b[0m | \u001b[34m\u001b[1mDEBUG   \u001b[0m | \u001b[36mvasca.tables\u001b[0m:\u001b[36madd_table\u001b[0m:\u001b[36m159\u001b[0m - \u001b[34m\u001b[1mAdding table 'tt_gaiadr3'\u001b[0m\n",
      "\u001b[32m2023-11-15 11:30:45.960\u001b[0m | \u001b[34m\u001b[1mDEBUG   \u001b[0m | \u001b[36mvasca.tables\u001b[0m:\u001b[36madd_table\u001b[0m:\u001b[36m159\u001b[0m - \u001b[34m\u001b[1mAdding table 'tt_lombscargle'\u001b[0m\n",
      "\u001b[32m2023-11-15 11:30:45.965\u001b[0m | \u001b[34m\u001b[1mDEBUG   \u001b[0m | \u001b[36mvasca.tables\u001b[0m:\u001b[36madd_table\u001b[0m:\u001b[36m159\u001b[0m - \u001b[34m\u001b[1mAdding table 'tt_visits'\u001b[0m\n",
      "\u001b[32m2023-11-15 11:30:45.970\u001b[0m | \u001b[34m\u001b[1mDEBUG   \u001b[0m | \u001b[36mvasca.tables\u001b[0m:\u001b[36madd_table\u001b[0m:\u001b[36m159\u001b[0m - \u001b[34m\u001b[1mAdding table 'tt_fields'\u001b[0m\n",
      "\u001b[32m2023-11-15 11:30:45.971\u001b[0m | \u001b[34m\u001b[1mDEBUG   \u001b[0m | \u001b[36mvasca.tables\u001b[0m:\u001b[36madd_table\u001b[0m:\u001b[36m159\u001b[0m - \u001b[34m\u001b[1mAdding table 'tt_filters'\u001b[0m\n",
      "\u001b[32m2023-11-15 11:30:45.982\u001b[0m | \u001b[34m\u001b[1mDEBUG   \u001b[0m | \u001b[36mvasca.tables\u001b[0m:\u001b[36madd_table\u001b[0m:\u001b[36m159\u001b[0m - \u001b[34m\u001b[1mAdding table 'tt_source_lc'\u001b[0m\n"
     ]
    },
    {
     "name": "stdout",
     "output_type": "stream",
     "text": [
      "*********** Creating Source Table ID 639720 *****************\n"
     ]
    },
    {
     "name": "stderr",
     "output_type": "stream",
     "text": [
      "\u001b[32m2023-11-15 11:30:46.261\u001b[0m | \u001b[34m\u001b[1mDEBUG   \u001b[0m | \u001b[36mvasca.tables\u001b[0m:\u001b[36madd_table\u001b[0m:\u001b[36m159\u001b[0m - \u001b[34m\u001b[1mAdding table 'region:tt_sed'\u001b[0m\n",
      "\u001b[32m2023-11-15 11:30:46.265\u001b[0m | \u001b[33m\u001b[1mWARNING \u001b[0m | \u001b[36mvasca.source\u001b[0m:\u001b[36madd_vizier_SED\u001b[0m:\u001b[36m100\u001b[0m - \u001b[33m\u001b[1mSkipping row as flux contains nan\u001b[0m\n",
      "\u001b[32m2023-11-15 11:30:46.286\u001b[0m | \u001b[33m\u001b[1mWARNING \u001b[0m | \u001b[36mvasca.source\u001b[0m:\u001b[36madd_vizier_SED\u001b[0m:\u001b[36m100\u001b[0m - \u001b[33m\u001b[1mSkipping row as flux contains nan\u001b[0m\n",
      "\u001b[32m2023-11-15 11:30:46.287\u001b[0m | \u001b[33m\u001b[1mWARNING \u001b[0m | \u001b[36mvasca.source\u001b[0m:\u001b[36madd_vizier_SED\u001b[0m:\u001b[36m100\u001b[0m - \u001b[33m\u001b[1mSkipping row as flux contains nan\u001b[0m\n",
      "\u001b[32m2023-11-15 11:30:46.288\u001b[0m | \u001b[33m\u001b[1mWARNING \u001b[0m | \u001b[36mvasca.source\u001b[0m:\u001b[36madd_vizier_SED\u001b[0m:\u001b[36m100\u001b[0m - \u001b[33m\u001b[1mSkipping row as flux contains nan\u001b[0m\n",
      "\u001b[32m2023-11-15 11:30:46.288\u001b[0m | \u001b[33m\u001b[1mWARNING \u001b[0m | \u001b[36mvasca.source\u001b[0m:\u001b[36madd_vizier_SED\u001b[0m:\u001b[36m100\u001b[0m - \u001b[33m\u001b[1mSkipping row as flux contains nan\u001b[0m\n",
      "\u001b[32m2023-11-15 11:30:46.290\u001b[0m | \u001b[33m\u001b[1mWARNING \u001b[0m | \u001b[36mvasca.source\u001b[0m:\u001b[36madd_vizier_SED\u001b[0m:\u001b[36m100\u001b[0m - \u001b[33m\u001b[1mSkipping row as flux contains nan\u001b[0m\n",
      "\u001b[32m2023-11-15 11:30:46.293\u001b[0m | \u001b[33m\u001b[1mWARNING \u001b[0m | \u001b[36mvasca.source\u001b[0m:\u001b[36madd_vizier_SED\u001b[0m:\u001b[36m100\u001b[0m - \u001b[33m\u001b[1mSkipping row as flux contains nan\u001b[0m\n",
      "\u001b[32m2023-11-15 11:30:46.294\u001b[0m | \u001b[33m\u001b[1mWARNING \u001b[0m | \u001b[36mvasca.source\u001b[0m:\u001b[36madd_vizier_SED\u001b[0m:\u001b[36m100\u001b[0m - \u001b[33m\u001b[1mSkipping row as flux contains nan\u001b[0m\n",
      "\u001b[32m2023-11-15 11:30:46.295\u001b[0m | \u001b[33m\u001b[1mWARNING \u001b[0m | \u001b[36mvasca.source\u001b[0m:\u001b[36madd_vizier_SED\u001b[0m:\u001b[36m100\u001b[0m - \u001b[33m\u001b[1mSkipping row as flux contains nan\u001b[0m\n",
      "\u001b[32m2023-11-15 11:30:46.304\u001b[0m | \u001b[34m\u001b[1mDEBUG   \u001b[0m | \u001b[36mvasca.tables\u001b[0m:\u001b[36madd_table\u001b[0m:\u001b[36m159\u001b[0m - \u001b[34m\u001b[1mAdding table 'region:tt_gphoton_lc'\u001b[0m\n",
      "\u001b[32m2023-11-15 11:30:46.306\u001b[0m | \u001b[34m\u001b[1mDEBUG   \u001b[0m | \u001b[36mvasca.tables\u001b[0m:\u001b[36madd_table\u001b[0m:\u001b[36m159\u001b[0m - \u001b[34m\u001b[1mAdding table 'tt_gphoton_stats'\u001b[0m\n",
      "\u001b[32m2023-11-15 11:30:46.310\u001b[0m | \u001b[33m\u001b[1mWARNING \u001b[0m | \u001b[36mvasca.source\u001b[0m:\u001b[36madd_spectrum\u001b[0m:\u001b[36m296\u001b[0m - \u001b[33m\u001b[1mNo spectrum found\u001b[0m\n",
      "\u001b[32m2023-11-15 11:30:46.310\u001b[0m | \u001b[1mINFO    \u001b[0m | \u001b[36mvasca.tables\u001b[0m:\u001b[36mwrite_to_fits\u001b[0m:\u001b[36m224\u001b[0m - \u001b[1mWriting file with name './vasca_pipeline/ALL_10-800_LOOSE/sources/src_639720.fits'\u001b[0m\n",
      "\u001b[32m2023-11-15 11:30:46.312\u001b[0m | \u001b[34m\u001b[1mDEBUG   \u001b[0m | \u001b[36mvasca.tables\u001b[0m:\u001b[36mwrite_to_fits\u001b[0m:\u001b[36m264\u001b[0m - \u001b[34m\u001b[1mWriting table 'tt_sources'\u001b[0m\n",
      "\u001b[32m2023-11-15 11:30:46.345\u001b[0m | \u001b[34m\u001b[1mDEBUG   \u001b[0m | \u001b[36mvasca.tables\u001b[0m:\u001b[36mwrite_to_fits\u001b[0m:\u001b[36m264\u001b[0m - \u001b[34m\u001b[1mWriting table 'tt_detections'\u001b[0m\n",
      "\u001b[32m2023-11-15 11:30:46.366\u001b[0m | \u001b[34m\u001b[1mDEBUG   \u001b[0m | \u001b[36mvasca.tables\u001b[0m:\u001b[36mwrite_to_fits\u001b[0m:\u001b[36m264\u001b[0m - \u001b[34m\u001b[1mWriting table 'tt_simbad'\u001b[0m\n",
      "WARNING: VerifyWarning: Keyword name 'description' is greater than 8 characters or contains characters not allowed by the FITS standard; a HIERARCH card will be created. [astropy.io.fits.card]\n",
      "\u001b[32m2023-11-15 11:30:46.413\u001b[0m | \u001b[34m\u001b[1mDEBUG   \u001b[0m | \u001b[36mvasca.tables\u001b[0m:\u001b[36mwrite_to_fits\u001b[0m:\u001b[36m264\u001b[0m - \u001b[34m\u001b[1mWriting table 'tt_gaiadr3'\u001b[0m\n",
      "WARNING: UnitsWarning: 'log(cm.s**-2)' did not parse as fits unit: 'log' is not a recognized function If this is meant to be a custom unit, define it with 'u.def_unit'. To have it recognized inside a file reader or other code, enable it with 'u.add_enabled_units'. For details, see https://docs.astropy.org/en/latest/units/combining_and_defining.html [astropy.units.core]\n"
     ]
    },
    {
     "name": "stdout",
     "output_type": "stream",
     "text": [
      "{'rg_src_id': [639720], 'nr_det': [[28]], 'wght_mean': [[52.22403614679315]], 'wght_mean_err': [[0.298230911231588]], 'var': [[7.381873687630011]], 'nxv': [[0.001023963516580513]], 'rchiq': [[2.352585908477634]], 'cpval': [[8.951882133388325e-05]]}\n"
     ]
    },
    {
     "name": "stderr",
     "output_type": "stream",
     "text": [
      "\u001b[32m2023-11-15 11:30:46.583\u001b[0m | \u001b[34m\u001b[1mDEBUG   \u001b[0m | \u001b[36mvasca.tables\u001b[0m:\u001b[36mwrite_to_fits\u001b[0m:\u001b[36m264\u001b[0m - \u001b[34m\u001b[1mWriting table 'tt_lombscargle'\u001b[0m\n",
      "\u001b[32m2023-11-15 11:30:46.590\u001b[0m | \u001b[34m\u001b[1mDEBUG   \u001b[0m | \u001b[36mvasca.tables\u001b[0m:\u001b[36mwrite_to_fits\u001b[0m:\u001b[36m264\u001b[0m - \u001b[34m\u001b[1mWriting table 'tt_visits'\u001b[0m\n",
      "\u001b[32m2023-11-15 11:30:46.596\u001b[0m | \u001b[34m\u001b[1mDEBUG   \u001b[0m | \u001b[36mvasca.tables\u001b[0m:\u001b[36mwrite_to_fits\u001b[0m:\u001b[36m264\u001b[0m - \u001b[34m\u001b[1mWriting table 'tt_fields'\u001b[0m\n",
      "\u001b[32m2023-11-15 11:30:46.608\u001b[0m | \u001b[34m\u001b[1mDEBUG   \u001b[0m | \u001b[36mvasca.tables\u001b[0m:\u001b[36mwrite_to_fits\u001b[0m:\u001b[36m264\u001b[0m - \u001b[34m\u001b[1mWriting table 'tt_filters'\u001b[0m\n",
      "\u001b[32m2023-11-15 11:30:46.613\u001b[0m | \u001b[34m\u001b[1mDEBUG   \u001b[0m | \u001b[36mvasca.tables\u001b[0m:\u001b[36mwrite_to_fits\u001b[0m:\u001b[36m264\u001b[0m - \u001b[34m\u001b[1mWriting table 'tt_source_lc'\u001b[0m\n",
      "WARNING: VerifyWarning: Keyword name 'rg_src_id' is greater than 8 characters or contains characters not allowed by the FITS standard; a HIERARCH card will be created. [astropy.io.fits.card]\n",
      "\u001b[32m2023-11-15 11:30:46.625\u001b[0m | \u001b[34m\u001b[1mDEBUG   \u001b[0m | \u001b[36mvasca.tables\u001b[0m:\u001b[36mwrite_to_fits\u001b[0m:\u001b[36m264\u001b[0m - \u001b[34m\u001b[1mWriting table 'tt_sed'\u001b[0m\n",
      "\u001b[32m2023-11-15 11:30:46.631\u001b[0m | \u001b[34m\u001b[1mDEBUG   \u001b[0m | \u001b[36mvasca.tables\u001b[0m:\u001b[36mwrite_to_fits\u001b[0m:\u001b[36m264\u001b[0m - \u001b[34m\u001b[1mWriting table 'tt_gphoton_lc'\u001b[0m\n",
      "\u001b[32m2023-11-15 11:30:46.642\u001b[0m | \u001b[34m\u001b[1mDEBUG   \u001b[0m | \u001b[36mvasca.tables\u001b[0m:\u001b[36mwrite_to_fits\u001b[0m:\u001b[36m264\u001b[0m - \u001b[34m\u001b[1mWriting table 'tt_gphoton_stats'\u001b[0m\n",
      "\u001b[32m2023-11-15 11:30:46.800\u001b[0m | \u001b[34m\u001b[1mDEBUG   \u001b[0m | \u001b[36mvasca.region\u001b[0m:\u001b[36mget_src_from_id\u001b[0m:\u001b[36m337\u001b[0m - \u001b[34m\u001b[1mGetting Source object for rg_src_id: 666224\u001b[0m\n",
      "\u001b[32m2023-11-15 11:30:46.806\u001b[0m | \u001b[34m\u001b[1mDEBUG   \u001b[0m | \u001b[36mvasca.tables\u001b[0m:\u001b[36madd_table\u001b[0m:\u001b[36m159\u001b[0m - \u001b[34m\u001b[1mAdding table 'tt_sources'\u001b[0m\n",
      "\u001b[32m2023-11-15 11:30:46.835\u001b[0m | \u001b[34m\u001b[1mDEBUG   \u001b[0m | \u001b[36mvasca.tables\u001b[0m:\u001b[36madd_table\u001b[0m:\u001b[36m159\u001b[0m - \u001b[34m\u001b[1mAdding table 'tt_detections'\u001b[0m\n",
      "\u001b[32m2023-11-15 11:30:46.844\u001b[0m | \u001b[34m\u001b[1mDEBUG   \u001b[0m | \u001b[36mvasca.tables\u001b[0m:\u001b[36madd_table\u001b[0m:\u001b[36m159\u001b[0m - \u001b[34m\u001b[1mAdding table 'tt_simbad'\u001b[0m\n",
      "\u001b[32m2023-11-15 11:30:46.862\u001b[0m | \u001b[34m\u001b[1mDEBUG   \u001b[0m | \u001b[36mvasca.tables\u001b[0m:\u001b[36madd_table\u001b[0m:\u001b[36m159\u001b[0m - \u001b[34m\u001b[1mAdding table 'tt_gaiadr3'\u001b[0m\n",
      "\u001b[32m2023-11-15 11:30:46.872\u001b[0m | \u001b[34m\u001b[1mDEBUG   \u001b[0m | \u001b[36mvasca.tables\u001b[0m:\u001b[36madd_table\u001b[0m:\u001b[36m159\u001b[0m - \u001b[34m\u001b[1mAdding table 'tt_visits'\u001b[0m\n",
      "\u001b[32m2023-11-15 11:30:46.877\u001b[0m | \u001b[34m\u001b[1mDEBUG   \u001b[0m | \u001b[36mvasca.tables\u001b[0m:\u001b[36madd_table\u001b[0m:\u001b[36m159\u001b[0m - \u001b[34m\u001b[1mAdding table 'tt_fields'\u001b[0m\n",
      "\u001b[32m2023-11-15 11:30:46.878\u001b[0m | \u001b[34m\u001b[1mDEBUG   \u001b[0m | \u001b[36mvasca.tables\u001b[0m:\u001b[36madd_table\u001b[0m:\u001b[36m159\u001b[0m - \u001b[34m\u001b[1mAdding table 'tt_filters'\u001b[0m\n",
      "\u001b[32m2023-11-15 11:30:46.887\u001b[0m | \u001b[34m\u001b[1mDEBUG   \u001b[0m | \u001b[36mvasca.tables\u001b[0m:\u001b[36madd_table\u001b[0m:\u001b[36m159\u001b[0m - \u001b[34m\u001b[1mAdding table 'tt_source_lc'\u001b[0m\n"
     ]
    },
    {
     "name": "stdout",
     "output_type": "stream",
     "text": [
      "*********** Creating Source Table ID 666224 *****************\n"
     ]
    },
    {
     "name": "stderr",
     "output_type": "stream",
     "text": [
      "\u001b[32m2023-11-15 11:30:47.145\u001b[0m | \u001b[34m\u001b[1mDEBUG   \u001b[0m | \u001b[36mvasca.tables\u001b[0m:\u001b[36madd_table\u001b[0m:\u001b[36m159\u001b[0m - \u001b[34m\u001b[1mAdding table 'region:tt_sed'\u001b[0m\n",
      "\u001b[32m2023-11-15 11:30:47.149\u001b[0m | \u001b[33m\u001b[1mWARNING \u001b[0m | \u001b[36mvasca.source\u001b[0m:\u001b[36madd_vizier_SED\u001b[0m:\u001b[36m100\u001b[0m - \u001b[33m\u001b[1mSkipping row as flux contains nan\u001b[0m\n",
      "\u001b[32m2023-11-15 11:30:47.163\u001b[0m | \u001b[33m\u001b[1mWARNING \u001b[0m | \u001b[36mvasca.source\u001b[0m:\u001b[36madd_vizier_SED\u001b[0m:\u001b[36m100\u001b[0m - \u001b[33m\u001b[1mSkipping row as flux contains nan\u001b[0m\n",
      "\u001b[32m2023-11-15 11:30:47.164\u001b[0m | \u001b[33m\u001b[1mWARNING \u001b[0m | \u001b[36mvasca.source\u001b[0m:\u001b[36madd_vizier_SED\u001b[0m:\u001b[36m100\u001b[0m - \u001b[33m\u001b[1mSkipping row as flux contains nan\u001b[0m\n",
      "\u001b[32m2023-11-15 11:30:47.164\u001b[0m | \u001b[33m\u001b[1mWARNING \u001b[0m | \u001b[36mvasca.source\u001b[0m:\u001b[36madd_vizier_SED\u001b[0m:\u001b[36m100\u001b[0m - \u001b[33m\u001b[1mSkipping row as flux contains nan\u001b[0m\n",
      "\u001b[32m2023-11-15 11:30:47.164\u001b[0m | \u001b[33m\u001b[1mWARNING \u001b[0m | \u001b[36mvasca.source\u001b[0m:\u001b[36madd_vizier_SED\u001b[0m:\u001b[36m100\u001b[0m - \u001b[33m\u001b[1mSkipping row as flux contains nan\u001b[0m\n",
      "\u001b[32m2023-11-15 11:30:47.164\u001b[0m | \u001b[33m\u001b[1mWARNING \u001b[0m | \u001b[36mvasca.source\u001b[0m:\u001b[36madd_vizier_SED\u001b[0m:\u001b[36m100\u001b[0m - \u001b[33m\u001b[1mSkipping row as flux contains nan\u001b[0m\n",
      "\u001b[32m2023-11-15 11:30:47.165\u001b[0m | \u001b[33m\u001b[1mWARNING \u001b[0m | \u001b[36mvasca.source\u001b[0m:\u001b[36madd_vizier_SED\u001b[0m:\u001b[36m100\u001b[0m - \u001b[33m\u001b[1mSkipping row as flux contains nan\u001b[0m\n",
      "\u001b[32m2023-11-15 11:30:47.165\u001b[0m | \u001b[33m\u001b[1mWARNING \u001b[0m | \u001b[36mvasca.source\u001b[0m:\u001b[36madd_vizier_SED\u001b[0m:\u001b[36m100\u001b[0m - \u001b[33m\u001b[1mSkipping row as flux contains nan\u001b[0m\n",
      "\u001b[32m2023-11-15 11:30:47.171\u001b[0m | \u001b[34m\u001b[1mDEBUG   \u001b[0m | \u001b[36mvasca.tables\u001b[0m:\u001b[36madd_table\u001b[0m:\u001b[36m159\u001b[0m - \u001b[34m\u001b[1mAdding table 'region:tt_gphoton_lc'\u001b[0m\n",
      "\u001b[32m2023-11-15 11:30:47.174\u001b[0m | \u001b[34m\u001b[1mDEBUG   \u001b[0m | \u001b[36mvasca.tables\u001b[0m:\u001b[36madd_table\u001b[0m:\u001b[36m159\u001b[0m - \u001b[34m\u001b[1mAdding table 'tt_gphoton_stats'\u001b[0m\n",
      "\u001b[32m2023-11-15 11:30:47.176\u001b[0m | \u001b[33m\u001b[1mWARNING \u001b[0m | \u001b[36mvasca.source\u001b[0m:\u001b[36madd_spectrum\u001b[0m:\u001b[36m296\u001b[0m - \u001b[33m\u001b[1mNo spectrum found\u001b[0m\n",
      "\u001b[32m2023-11-15 11:30:47.177\u001b[0m | \u001b[1mINFO    \u001b[0m | \u001b[36mvasca.tables\u001b[0m:\u001b[36mwrite_to_fits\u001b[0m:\u001b[36m224\u001b[0m - \u001b[1mWriting file with name './vasca_pipeline/ALL_10-800_LOOSE/sources/src_666224.fits'\u001b[0m\n",
      "\u001b[32m2023-11-15 11:30:47.178\u001b[0m | \u001b[34m\u001b[1mDEBUG   \u001b[0m | \u001b[36mvasca.tables\u001b[0m:\u001b[36mwrite_to_fits\u001b[0m:\u001b[36m264\u001b[0m - \u001b[34m\u001b[1mWriting table 'tt_sources'\u001b[0m\n",
      "\u001b[32m2023-11-15 11:30:47.209\u001b[0m | \u001b[34m\u001b[1mDEBUG   \u001b[0m | \u001b[36mvasca.tables\u001b[0m:\u001b[36mwrite_to_fits\u001b[0m:\u001b[36m264\u001b[0m - \u001b[34m\u001b[1mWriting table 'tt_detections'\u001b[0m\n",
      "\u001b[32m2023-11-15 11:30:47.222\u001b[0m | \u001b[34m\u001b[1mDEBUG   \u001b[0m | \u001b[36mvasca.tables\u001b[0m:\u001b[36mwrite_to_fits\u001b[0m:\u001b[36m264\u001b[0m - \u001b[34m\u001b[1mWriting table 'tt_simbad'\u001b[0m\n",
      "WARNING: VerifyWarning: Keyword name 'description' is greater than 8 characters or contains characters not allowed by the FITS standard; a HIERARCH card will be created. [astropy.io.fits.card]\n",
      "\u001b[32m2023-11-15 11:30:47.269\u001b[0m | \u001b[34m\u001b[1mDEBUG   \u001b[0m | \u001b[36mvasca.tables\u001b[0m:\u001b[36mwrite_to_fits\u001b[0m:\u001b[36m264\u001b[0m - \u001b[34m\u001b[1mWriting table 'tt_gaiadr3'\u001b[0m\n",
      "WARNING: UnitsWarning: 'log(cm.s**-2)' did not parse as fits unit: 'log' is not a recognized function If this is meant to be a custom unit, define it with 'u.def_unit'. To have it recognized inside a file reader or other code, enable it with 'u.add_enabled_units'. For details, see https://docs.astropy.org/en/latest/units/combining_and_defining.html [astropy.units.core]\n"
     ]
    },
    {
     "name": "stdout",
     "output_type": "stream",
     "text": [
      "{'rg_src_id': [666224], 'nr_det': [[14, 3]], 'wght_mean': [[72.80860857600227, 36.90915197288735]], 'wght_mean_err': [[0.48235445776881375, 1.7004741960918603]], 'var': [[26.177945050515994, 0.8387116329450206]], 'nxv': [[0.0024903507268921954, -0.0537389207353201]], 'rchiq': [[5.067162759111385, 0.02094330362388687]], 'cpval': [[4.573771164476626e-09, 0.9792744843100412]]}\n"
     ]
    },
    {
     "name": "stderr",
     "output_type": "stream",
     "text": [
      "\u001b[32m2023-11-15 11:30:47.423\u001b[0m | \u001b[34m\u001b[1mDEBUG   \u001b[0m | \u001b[36mvasca.tables\u001b[0m:\u001b[36mwrite_to_fits\u001b[0m:\u001b[36m264\u001b[0m - \u001b[34m\u001b[1mWriting table 'tt_visits'\u001b[0m\n",
      "\u001b[32m2023-11-15 11:30:47.429\u001b[0m | \u001b[34m\u001b[1mDEBUG   \u001b[0m | \u001b[36mvasca.tables\u001b[0m:\u001b[36mwrite_to_fits\u001b[0m:\u001b[36m264\u001b[0m - \u001b[34m\u001b[1mWriting table 'tt_fields'\u001b[0m\n",
      "\u001b[32m2023-11-15 11:30:47.442\u001b[0m | \u001b[34m\u001b[1mDEBUG   \u001b[0m | \u001b[36mvasca.tables\u001b[0m:\u001b[36mwrite_to_fits\u001b[0m:\u001b[36m264\u001b[0m - \u001b[34m\u001b[1mWriting table 'tt_filters'\u001b[0m\n",
      "\u001b[32m2023-11-15 11:30:47.446\u001b[0m | \u001b[34m\u001b[1mDEBUG   \u001b[0m | \u001b[36mvasca.tables\u001b[0m:\u001b[36mwrite_to_fits\u001b[0m:\u001b[36m264\u001b[0m - \u001b[34m\u001b[1mWriting table 'tt_source_lc'\u001b[0m\n",
      "WARNING: VerifyWarning: Keyword name 'rg_src_id' is greater than 8 characters or contains characters not allowed by the FITS standard; a HIERARCH card will be created. [astropy.io.fits.card]\n",
      "\u001b[32m2023-11-15 11:30:47.457\u001b[0m | \u001b[34m\u001b[1mDEBUG   \u001b[0m | \u001b[36mvasca.tables\u001b[0m:\u001b[36mwrite_to_fits\u001b[0m:\u001b[36m264\u001b[0m - \u001b[34m\u001b[1mWriting table 'tt_sed'\u001b[0m\n",
      "\u001b[32m2023-11-15 11:30:47.463\u001b[0m | \u001b[34m\u001b[1mDEBUG   \u001b[0m | \u001b[36mvasca.tables\u001b[0m:\u001b[36mwrite_to_fits\u001b[0m:\u001b[36m264\u001b[0m - \u001b[34m\u001b[1mWriting table 'tt_gphoton_lc'\u001b[0m\n",
      "\u001b[32m2023-11-15 11:30:47.473\u001b[0m | \u001b[34m\u001b[1mDEBUG   \u001b[0m | \u001b[36mvasca.tables\u001b[0m:\u001b[36mwrite_to_fits\u001b[0m:\u001b[36m264\u001b[0m - \u001b[34m\u001b[1mWriting table 'tt_gphoton_stats'\u001b[0m\n",
      "\u001b[32m2023-11-15 11:30:47.610\u001b[0m | \u001b[34m\u001b[1mDEBUG   \u001b[0m | \u001b[36mvasca.region\u001b[0m:\u001b[36mget_src_from_id\u001b[0m:\u001b[36m337\u001b[0m - \u001b[34m\u001b[1mGetting Source object for rg_src_id: 673175\u001b[0m\n",
      "\u001b[32m2023-11-15 11:30:47.616\u001b[0m | \u001b[34m\u001b[1mDEBUG   \u001b[0m | \u001b[36mvasca.tables\u001b[0m:\u001b[36madd_table\u001b[0m:\u001b[36m159\u001b[0m - \u001b[34m\u001b[1mAdding table 'tt_sources'\u001b[0m\n",
      "\u001b[32m2023-11-15 11:30:47.647\u001b[0m | \u001b[34m\u001b[1mDEBUG   \u001b[0m | \u001b[36mvasca.tables\u001b[0m:\u001b[36madd_table\u001b[0m:\u001b[36m159\u001b[0m - \u001b[34m\u001b[1mAdding table 'tt_detections'\u001b[0m\n",
      "\u001b[32m2023-11-15 11:30:47.693\u001b[0m | \u001b[34m\u001b[1mDEBUG   \u001b[0m | \u001b[36mvasca.tables\u001b[0m:\u001b[36madd_table\u001b[0m:\u001b[36m159\u001b[0m - \u001b[34m\u001b[1mAdding table 'tt_gaiadr3'\u001b[0m\n",
      "\u001b[32m2023-11-15 11:30:47.701\u001b[0m | \u001b[34m\u001b[1mDEBUG   \u001b[0m | \u001b[36mvasca.tables\u001b[0m:\u001b[36madd_table\u001b[0m:\u001b[36m159\u001b[0m - \u001b[34m\u001b[1mAdding table 'tt_lombscargle'\u001b[0m\n",
      "\u001b[32m2023-11-15 11:30:47.707\u001b[0m | \u001b[34m\u001b[1mDEBUG   \u001b[0m | \u001b[36mvasca.tables\u001b[0m:\u001b[36madd_table\u001b[0m:\u001b[36m159\u001b[0m - \u001b[34m\u001b[1mAdding table 'tt_visits'\u001b[0m\n",
      "\u001b[32m2023-11-15 11:30:47.712\u001b[0m | \u001b[34m\u001b[1mDEBUG   \u001b[0m | \u001b[36mvasca.tables\u001b[0m:\u001b[36madd_table\u001b[0m:\u001b[36m159\u001b[0m - \u001b[34m\u001b[1mAdding table 'tt_fields'\u001b[0m\n",
      "\u001b[32m2023-11-15 11:30:47.713\u001b[0m | \u001b[34m\u001b[1mDEBUG   \u001b[0m | \u001b[36mvasca.tables\u001b[0m:\u001b[36madd_table\u001b[0m:\u001b[36m159\u001b[0m - \u001b[34m\u001b[1mAdding table 'tt_filters'\u001b[0m\n",
      "\u001b[32m2023-11-15 11:30:47.725\u001b[0m | \u001b[34m\u001b[1mDEBUG   \u001b[0m | \u001b[36mvasca.tables\u001b[0m:\u001b[36madd_table\u001b[0m:\u001b[36m159\u001b[0m - \u001b[34m\u001b[1mAdding table 'tt_source_lc'\u001b[0m\n"
     ]
    },
    {
     "name": "stdout",
     "output_type": "stream",
     "text": [
      "*********** Creating Source Table ID 673175 *****************\n"
     ]
    },
    {
     "name": "stderr",
     "output_type": "stream",
     "text": [
      "\u001b[32m2023-11-15 11:30:48.042\u001b[0m | \u001b[34m\u001b[1mDEBUG   \u001b[0m | \u001b[36mvasca.tables\u001b[0m:\u001b[36madd_table\u001b[0m:\u001b[36m159\u001b[0m - \u001b[34m\u001b[1mAdding table 'region:tt_sed'\u001b[0m\n",
      "\u001b[32m2023-11-15 11:30:48.044\u001b[0m | \u001b[33m\u001b[1mWARNING \u001b[0m | \u001b[36mvasca.source\u001b[0m:\u001b[36madd_vizier_SED\u001b[0m:\u001b[36m100\u001b[0m - \u001b[33m\u001b[1mSkipping row as flux contains nan\u001b[0m\n",
      "\u001b[32m2023-11-15 11:30:48.045\u001b[0m | \u001b[33m\u001b[1mWARNING \u001b[0m | \u001b[36mvasca.source\u001b[0m:\u001b[36madd_vizier_SED\u001b[0m:\u001b[36m100\u001b[0m - \u001b[33m\u001b[1mSkipping row as flux contains nan\u001b[0m\n",
      "\u001b[32m2023-11-15 11:30:48.045\u001b[0m | \u001b[33m\u001b[1mWARNING \u001b[0m | \u001b[36mvasca.source\u001b[0m:\u001b[36madd_vizier_SED\u001b[0m:\u001b[36m100\u001b[0m - \u001b[33m\u001b[1mSkipping row as flux contains nan\u001b[0m\n",
      "\u001b[32m2023-11-15 11:30:48.046\u001b[0m | \u001b[33m\u001b[1mWARNING \u001b[0m | \u001b[36mvasca.source\u001b[0m:\u001b[36madd_vizier_SED\u001b[0m:\u001b[36m100\u001b[0m - \u001b[33m\u001b[1mSkipping row as flux contains nan\u001b[0m\n",
      "\u001b[32m2023-11-15 11:30:48.047\u001b[0m | \u001b[33m\u001b[1mWARNING \u001b[0m | \u001b[36mvasca.source\u001b[0m:\u001b[36madd_vizier_SED\u001b[0m:\u001b[36m100\u001b[0m - \u001b[33m\u001b[1mSkipping row as flux contains nan\u001b[0m\n",
      "\u001b[32m2023-11-15 11:30:48.047\u001b[0m | \u001b[33m\u001b[1mWARNING \u001b[0m | \u001b[36mvasca.source\u001b[0m:\u001b[36madd_vizier_SED\u001b[0m:\u001b[36m100\u001b[0m - \u001b[33m\u001b[1mSkipping row as flux contains nan\u001b[0m\n",
      "\u001b[32m2023-11-15 11:30:48.048\u001b[0m | \u001b[33m\u001b[1mWARNING \u001b[0m | \u001b[36mvasca.source\u001b[0m:\u001b[36madd_vizier_SED\u001b[0m:\u001b[36m100\u001b[0m - \u001b[33m\u001b[1mSkipping row as flux contains nan\u001b[0m\n",
      "\u001b[32m2023-11-15 11:30:48.048\u001b[0m | \u001b[33m\u001b[1mWARNING \u001b[0m | \u001b[36mvasca.source\u001b[0m:\u001b[36madd_vizier_SED\u001b[0m:\u001b[36m100\u001b[0m - \u001b[33m\u001b[1mSkipping row as flux contains nan\u001b[0m\n",
      "\u001b[32m2023-11-15 11:30:48.049\u001b[0m | \u001b[33m\u001b[1mWARNING \u001b[0m | \u001b[36mvasca.source\u001b[0m:\u001b[36madd_vizier_SED\u001b[0m:\u001b[36m100\u001b[0m - \u001b[33m\u001b[1mSkipping row as flux contains nan\u001b[0m\n",
      "\u001b[32m2023-11-15 11:30:48.054\u001b[0m | \u001b[33m\u001b[1mWARNING \u001b[0m | \u001b[36mvasca.source\u001b[0m:\u001b[36madd_vizier_SED\u001b[0m:\u001b[36m100\u001b[0m - \u001b[33m\u001b[1mSkipping row as flux contains nan\u001b[0m\n",
      "\u001b[32m2023-11-15 11:30:48.055\u001b[0m | \u001b[33m\u001b[1mWARNING \u001b[0m | \u001b[36mvasca.source\u001b[0m:\u001b[36madd_vizier_SED\u001b[0m:\u001b[36m100\u001b[0m - \u001b[33m\u001b[1mSkipping row as flux contains nan\u001b[0m\n",
      "\u001b[32m2023-11-15 11:30:48.055\u001b[0m | \u001b[33m\u001b[1mWARNING \u001b[0m | \u001b[36mvasca.source\u001b[0m:\u001b[36madd_vizier_SED\u001b[0m:\u001b[36m100\u001b[0m - \u001b[33m\u001b[1mSkipping row as flux contains nan\u001b[0m\n",
      "\u001b[32m2023-11-15 11:30:48.056\u001b[0m | \u001b[33m\u001b[1mWARNING \u001b[0m | \u001b[36mvasca.source\u001b[0m:\u001b[36madd_vizier_SED\u001b[0m:\u001b[36m100\u001b[0m - \u001b[33m\u001b[1mSkipping row as flux contains nan\u001b[0m\n",
      "\u001b[32m2023-11-15 11:30:48.059\u001b[0m | \u001b[33m\u001b[1mWARNING \u001b[0m | \u001b[36mvasca.source\u001b[0m:\u001b[36madd_vizier_SED\u001b[0m:\u001b[36m100\u001b[0m - \u001b[33m\u001b[1mSkipping row as flux contains nan\u001b[0m\n",
      "\u001b[32m2023-11-15 11:30:48.059\u001b[0m | \u001b[33m\u001b[1mWARNING \u001b[0m | \u001b[36mvasca.source\u001b[0m:\u001b[36madd_vizier_SED\u001b[0m:\u001b[36m100\u001b[0m - \u001b[33m\u001b[1mSkipping row as flux contains nan\u001b[0m\n",
      "\u001b[32m2023-11-15 11:30:48.060\u001b[0m | \u001b[33m\u001b[1mWARNING \u001b[0m | \u001b[36mvasca.source\u001b[0m:\u001b[36madd_vizier_SED\u001b[0m:\u001b[36m100\u001b[0m - \u001b[33m\u001b[1mSkipping row as flux contains nan\u001b[0m\n",
      "\u001b[32m2023-11-15 11:30:48.063\u001b[0m | \u001b[33m\u001b[1mWARNING \u001b[0m | \u001b[36mvasca.source\u001b[0m:\u001b[36madd_vizier_SED\u001b[0m:\u001b[36m100\u001b[0m - \u001b[33m\u001b[1mSkipping row as flux contains nan\u001b[0m\n",
      "\u001b[32m2023-11-15 11:30:48.067\u001b[0m | \u001b[33m\u001b[1mWARNING \u001b[0m | \u001b[36mvasca.source\u001b[0m:\u001b[36madd_vizier_SED\u001b[0m:\u001b[36m100\u001b[0m - \u001b[33m\u001b[1mSkipping row as flux contains nan\u001b[0m\n",
      "\u001b[32m2023-11-15 11:30:48.068\u001b[0m | \u001b[33m\u001b[1mWARNING \u001b[0m | \u001b[36mvasca.source\u001b[0m:\u001b[36madd_vizier_SED\u001b[0m:\u001b[36m100\u001b[0m - \u001b[33m\u001b[1mSkipping row as flux contains nan\u001b[0m\n",
      "\u001b[32m2023-11-15 11:30:48.068\u001b[0m | \u001b[33m\u001b[1mWARNING \u001b[0m | \u001b[36mvasca.source\u001b[0m:\u001b[36madd_vizier_SED\u001b[0m:\u001b[36m100\u001b[0m - \u001b[33m\u001b[1mSkipping row as flux contains nan\u001b[0m\n",
      "\u001b[32m2023-11-15 11:30:48.068\u001b[0m | \u001b[33m\u001b[1mWARNING \u001b[0m | \u001b[36mvasca.source\u001b[0m:\u001b[36madd_vizier_SED\u001b[0m:\u001b[36m100\u001b[0m - \u001b[33m\u001b[1mSkipping row as flux contains nan\u001b[0m\n",
      "\u001b[32m2023-11-15 11:30:48.068\u001b[0m | \u001b[33m\u001b[1mWARNING \u001b[0m | \u001b[36mvasca.source\u001b[0m:\u001b[36madd_vizier_SED\u001b[0m:\u001b[36m100\u001b[0m - \u001b[33m\u001b[1mSkipping row as flux contains nan\u001b[0m\n",
      "\u001b[32m2023-11-15 11:30:48.068\u001b[0m | \u001b[33m\u001b[1mWARNING \u001b[0m | \u001b[36mvasca.source\u001b[0m:\u001b[36madd_vizier_SED\u001b[0m:\u001b[36m100\u001b[0m - \u001b[33m\u001b[1mSkipping row as flux contains nan\u001b[0m\n",
      "\u001b[32m2023-11-15 11:30:48.069\u001b[0m | \u001b[33m\u001b[1mWARNING \u001b[0m | \u001b[36mvasca.source\u001b[0m:\u001b[36madd_vizier_SED\u001b[0m:\u001b[36m100\u001b[0m - \u001b[33m\u001b[1mSkipping row as flux contains nan\u001b[0m\n",
      "\u001b[32m2023-11-15 11:30:48.069\u001b[0m | \u001b[33m\u001b[1mWARNING \u001b[0m | \u001b[36mvasca.source\u001b[0m:\u001b[36madd_vizier_SED\u001b[0m:\u001b[36m100\u001b[0m - \u001b[33m\u001b[1mSkipping row as flux contains nan\u001b[0m\n",
      "\u001b[32m2023-11-15 11:30:48.069\u001b[0m | \u001b[33m\u001b[1mWARNING \u001b[0m | \u001b[36mvasca.source\u001b[0m:\u001b[36madd_vizier_SED\u001b[0m:\u001b[36m100\u001b[0m - \u001b[33m\u001b[1mSkipping row as flux contains nan\u001b[0m\n",
      "\u001b[32m2023-11-15 11:30:48.069\u001b[0m | \u001b[33m\u001b[1mWARNING \u001b[0m | \u001b[36mvasca.source\u001b[0m:\u001b[36madd_vizier_SED\u001b[0m:\u001b[36m100\u001b[0m - \u001b[33m\u001b[1mSkipping row as flux contains nan\u001b[0m\n",
      "\u001b[32m2023-11-15 11:30:48.070\u001b[0m | \u001b[33m\u001b[1mWARNING \u001b[0m | \u001b[36mvasca.source\u001b[0m:\u001b[36madd_vizier_SED\u001b[0m:\u001b[36m100\u001b[0m - \u001b[33m\u001b[1mSkipping row as flux contains nan\u001b[0m\n",
      "\u001b[32m2023-11-15 11:30:48.072\u001b[0m | \u001b[33m\u001b[1mWARNING \u001b[0m | \u001b[36mvasca.source\u001b[0m:\u001b[36madd_vizier_SED\u001b[0m:\u001b[36m100\u001b[0m - \u001b[33m\u001b[1mSkipping row as flux contains nan\u001b[0m\n",
      "\u001b[32m2023-11-15 11:30:48.076\u001b[0m | \u001b[33m\u001b[1mWARNING \u001b[0m | \u001b[36mvasca.source\u001b[0m:\u001b[36madd_vizier_SED\u001b[0m:\u001b[36m100\u001b[0m - \u001b[33m\u001b[1mSkipping row as flux contains nan\u001b[0m\n",
      "\u001b[32m2023-11-15 11:30:48.082\u001b[0m | \u001b[33m\u001b[1mWARNING \u001b[0m | \u001b[36mvasca.source\u001b[0m:\u001b[36madd_vizier_SED\u001b[0m:\u001b[36m100\u001b[0m - \u001b[33m\u001b[1mSkipping row as flux contains nan\u001b[0m\n",
      "\u001b[32m2023-11-15 11:30:48.086\u001b[0m | \u001b[33m\u001b[1mWARNING \u001b[0m | \u001b[36mvasca.source\u001b[0m:\u001b[36madd_vizier_SED\u001b[0m:\u001b[36m100\u001b[0m - \u001b[33m\u001b[1mSkipping row as flux contains nan\u001b[0m\n",
      "\u001b[32m2023-11-15 11:30:48.095\u001b[0m | \u001b[33m\u001b[1mWARNING \u001b[0m | \u001b[36mvasca.source\u001b[0m:\u001b[36madd_vizier_SED\u001b[0m:\u001b[36m100\u001b[0m - \u001b[33m\u001b[1mSkipping row as flux contains nan\u001b[0m\n",
      "\u001b[32m2023-11-15 11:30:48.096\u001b[0m | \u001b[33m\u001b[1mWARNING \u001b[0m | \u001b[36mvasca.source\u001b[0m:\u001b[36madd_vizier_SED\u001b[0m:\u001b[36m100\u001b[0m - \u001b[33m\u001b[1mSkipping row as flux contains nan\u001b[0m\n",
      "\u001b[32m2023-11-15 11:30:48.109\u001b[0m | \u001b[34m\u001b[1mDEBUG   \u001b[0m | \u001b[36mvasca.tables\u001b[0m:\u001b[36madd_table\u001b[0m:\u001b[36m159\u001b[0m - \u001b[34m\u001b[1mAdding table 'region:tt_gphoton_lc'\u001b[0m\n",
      "\u001b[32m2023-11-15 11:30:48.112\u001b[0m | \u001b[34m\u001b[1mDEBUG   \u001b[0m | \u001b[36mvasca.tables\u001b[0m:\u001b[36madd_table\u001b[0m:\u001b[36m159\u001b[0m - \u001b[34m\u001b[1mAdding table 'tt_gphoton_stats'\u001b[0m\n",
      "\u001b[32m2023-11-15 11:30:48.115\u001b[0m | \u001b[33m\u001b[1mWARNING \u001b[0m | \u001b[36mvasca.source\u001b[0m:\u001b[36madd_spectrum\u001b[0m:\u001b[36m296\u001b[0m - \u001b[33m\u001b[1mNo spectrum found\u001b[0m\n",
      "\u001b[32m2023-11-15 11:30:48.115\u001b[0m | \u001b[1mINFO    \u001b[0m | \u001b[36mvasca.tables\u001b[0m:\u001b[36mwrite_to_fits\u001b[0m:\u001b[36m224\u001b[0m - \u001b[1mWriting file with name './vasca_pipeline/ALL_10-800_LOOSE/sources/src_673175.fits'\u001b[0m\n",
      "\u001b[32m2023-11-15 11:30:48.117\u001b[0m | \u001b[34m\u001b[1mDEBUG   \u001b[0m | \u001b[36mvasca.tables\u001b[0m:\u001b[36mwrite_to_fits\u001b[0m:\u001b[36m264\u001b[0m - \u001b[34m\u001b[1mWriting table 'tt_sources'\u001b[0m\n",
      "\u001b[32m2023-11-15 11:30:48.148\u001b[0m | \u001b[34m\u001b[1mDEBUG   \u001b[0m | \u001b[36mvasca.tables\u001b[0m:\u001b[36mwrite_to_fits\u001b[0m:\u001b[36m264\u001b[0m - \u001b[34m\u001b[1mWriting table 'tt_detections'\u001b[0m\n",
      "\u001b[32m2023-11-15 11:30:48.160\u001b[0m | \u001b[34m\u001b[1mDEBUG   \u001b[0m | \u001b[36mvasca.tables\u001b[0m:\u001b[36mwrite_to_fits\u001b[0m:\u001b[36m264\u001b[0m - \u001b[34m\u001b[1mWriting table 'tt_gaiadr3'\u001b[0m\n",
      "WARNING: UnitsWarning: 'log(cm.s**-2)' did not parse as fits unit: 'log' is not a recognized function If this is meant to be a custom unit, define it with 'u.def_unit'. To have it recognized inside a file reader or other code, enable it with 'u.add_enabled_units'. For details, see https://docs.astropy.org/en/latest/units/combining_and_defining.html [astropy.units.core]\n",
      "WARNING: VerifyWarning: Keyword name 'description' is greater than 8 characters or contains characters not allowed by the FITS standard; a HIERARCH card will be created. [astropy.io.fits.card]\n"
     ]
    },
    {
     "name": "stdout",
     "output_type": "stream",
     "text": [
      "{'rg_src_id': [673175], 'nr_det': [[41]], 'wght_mean': [[41.76955911559862]], 'wght_mean_err': [[0.22529270849293911]], 'var': [[3.686748829058858]], 'nxv': [[0.0002610102994437343]], 'rchiq': [[1.6566773641695938]], 'cpval': [[0.005608498273089621]]}\n"
     ]
    },
    {
     "name": "stderr",
     "output_type": "stream",
     "text": [
      "\u001b[32m2023-11-15 11:30:48.334\u001b[0m | \u001b[34m\u001b[1mDEBUG   \u001b[0m | \u001b[36mvasca.tables\u001b[0m:\u001b[36mwrite_to_fits\u001b[0m:\u001b[36m264\u001b[0m - \u001b[34m\u001b[1mWriting table 'tt_lombscargle'\u001b[0m\n",
      "\u001b[32m2023-11-15 11:30:48.342\u001b[0m | \u001b[34m\u001b[1mDEBUG   \u001b[0m | \u001b[36mvasca.tables\u001b[0m:\u001b[36mwrite_to_fits\u001b[0m:\u001b[36m264\u001b[0m - \u001b[34m\u001b[1mWriting table 'tt_visits'\u001b[0m\n",
      "\u001b[32m2023-11-15 11:30:48.348\u001b[0m | \u001b[34m\u001b[1mDEBUG   \u001b[0m | \u001b[36mvasca.tables\u001b[0m:\u001b[36mwrite_to_fits\u001b[0m:\u001b[36m264\u001b[0m - \u001b[34m\u001b[1mWriting table 'tt_fields'\u001b[0m\n",
      "\u001b[32m2023-11-15 11:30:48.362\u001b[0m | \u001b[34m\u001b[1mDEBUG   \u001b[0m | \u001b[36mvasca.tables\u001b[0m:\u001b[36mwrite_to_fits\u001b[0m:\u001b[36m264\u001b[0m - \u001b[34m\u001b[1mWriting table 'tt_filters'\u001b[0m\n",
      "\u001b[32m2023-11-15 11:30:48.367\u001b[0m | \u001b[34m\u001b[1mDEBUG   \u001b[0m | \u001b[36mvasca.tables\u001b[0m:\u001b[36mwrite_to_fits\u001b[0m:\u001b[36m264\u001b[0m - \u001b[34m\u001b[1mWriting table 'tt_source_lc'\u001b[0m\n",
      "WARNING: VerifyWarning: Keyword name 'rg_src_id' is greater than 8 characters or contains characters not allowed by the FITS standard; a HIERARCH card will be created. [astropy.io.fits.card]\n",
      "\u001b[32m2023-11-15 11:30:48.378\u001b[0m | \u001b[34m\u001b[1mDEBUG   \u001b[0m | \u001b[36mvasca.tables\u001b[0m:\u001b[36mwrite_to_fits\u001b[0m:\u001b[36m264\u001b[0m - \u001b[34m\u001b[1mWriting table 'tt_sed'\u001b[0m\n",
      "\u001b[32m2023-11-15 11:30:48.384\u001b[0m | \u001b[34m\u001b[1mDEBUG   \u001b[0m | \u001b[36mvasca.tables\u001b[0m:\u001b[36mwrite_to_fits\u001b[0m:\u001b[36m264\u001b[0m - \u001b[34m\u001b[1mWriting table 'tt_gphoton_lc'\u001b[0m\n",
      "\u001b[32m2023-11-15 11:30:48.395\u001b[0m | \u001b[34m\u001b[1mDEBUG   \u001b[0m | \u001b[36mvasca.tables\u001b[0m:\u001b[36mwrite_to_fits\u001b[0m:\u001b[36m264\u001b[0m - \u001b[34m\u001b[1mWriting table 'tt_gphoton_stats'\u001b[0m\n",
      "\u001b[32m2023-11-15 11:30:48.573\u001b[0m | \u001b[34m\u001b[1mDEBUG   \u001b[0m | \u001b[36mvasca.region\u001b[0m:\u001b[36mget_src_from_id\u001b[0m:\u001b[36m337\u001b[0m - \u001b[34m\u001b[1mGetting Source object for rg_src_id: 680119\u001b[0m\n",
      "\u001b[32m2023-11-15 11:30:48.580\u001b[0m | \u001b[34m\u001b[1mDEBUG   \u001b[0m | \u001b[36mvasca.tables\u001b[0m:\u001b[36madd_table\u001b[0m:\u001b[36m159\u001b[0m - \u001b[34m\u001b[1mAdding table 'tt_sources'\u001b[0m\n",
      "\u001b[32m2023-11-15 11:30:48.607\u001b[0m | \u001b[34m\u001b[1mDEBUG   \u001b[0m | \u001b[36mvasca.tables\u001b[0m:\u001b[36madd_table\u001b[0m:\u001b[36m159\u001b[0m - \u001b[34m\u001b[1mAdding table 'tt_detections'\u001b[0m\n",
      "\u001b[32m2023-11-15 11:30:48.616\u001b[0m | \u001b[34m\u001b[1mDEBUG   \u001b[0m | \u001b[36mvasca.tables\u001b[0m:\u001b[36madd_table\u001b[0m:\u001b[36m159\u001b[0m - \u001b[34m\u001b[1mAdding table 'tt_simbad'\u001b[0m\n",
      "\u001b[32m2023-11-15 11:30:48.635\u001b[0m | \u001b[34m\u001b[1mDEBUG   \u001b[0m | \u001b[36mvasca.tables\u001b[0m:\u001b[36madd_table\u001b[0m:\u001b[36m159\u001b[0m - \u001b[34m\u001b[1mAdding table 'tt_gaiadr3'\u001b[0m\n",
      "\u001b[32m2023-11-15 11:30:48.645\u001b[0m | \u001b[34m\u001b[1mDEBUG   \u001b[0m | \u001b[36mvasca.tables\u001b[0m:\u001b[36madd_table\u001b[0m:\u001b[36m159\u001b[0m - \u001b[34m\u001b[1mAdding table 'tt_lombscargle'\u001b[0m\n",
      "\u001b[32m2023-11-15 11:30:48.650\u001b[0m | \u001b[34m\u001b[1mDEBUG   \u001b[0m | \u001b[36mvasca.tables\u001b[0m:\u001b[36madd_table\u001b[0m:\u001b[36m159\u001b[0m - \u001b[34m\u001b[1mAdding table 'tt_visits'\u001b[0m\n",
      "\u001b[32m2023-11-15 11:30:48.655\u001b[0m | \u001b[34m\u001b[1mDEBUG   \u001b[0m | \u001b[36mvasca.tables\u001b[0m:\u001b[36madd_table\u001b[0m:\u001b[36m159\u001b[0m - \u001b[34m\u001b[1mAdding table 'tt_fields'\u001b[0m\n",
      "\u001b[32m2023-11-15 11:30:48.656\u001b[0m | \u001b[34m\u001b[1mDEBUG   \u001b[0m | \u001b[36mvasca.tables\u001b[0m:\u001b[36madd_table\u001b[0m:\u001b[36m159\u001b[0m - \u001b[34m\u001b[1mAdding table 'tt_filters'\u001b[0m\n",
      "\u001b[32m2023-11-15 11:30:48.668\u001b[0m | \u001b[34m\u001b[1mDEBUG   \u001b[0m | \u001b[36mvasca.tables\u001b[0m:\u001b[36madd_table\u001b[0m:\u001b[36m159\u001b[0m - \u001b[34m\u001b[1mAdding table 'tt_source_lc'\u001b[0m\n"
     ]
    },
    {
     "name": "stdout",
     "output_type": "stream",
     "text": [
      "*********** Creating Source Table ID 680119 *****************\n"
     ]
    },
    {
     "name": "stderr",
     "output_type": "stream",
     "text": [
      "\u001b[32m2023-11-15 11:30:48.922\u001b[0m | \u001b[34m\u001b[1mDEBUG   \u001b[0m | \u001b[36mvasca.tables\u001b[0m:\u001b[36madd_table\u001b[0m:\u001b[36m159\u001b[0m - \u001b[34m\u001b[1mAdding table 'region:tt_sed'\u001b[0m\n",
      "\u001b[32m2023-11-15 11:30:48.926\u001b[0m | \u001b[33m\u001b[1mWARNING \u001b[0m | \u001b[36mvasca.source\u001b[0m:\u001b[36madd_vizier_SED\u001b[0m:\u001b[36m100\u001b[0m - \u001b[33m\u001b[1mSkipping row as flux contains nan\u001b[0m\n",
      "\u001b[32m2023-11-15 11:30:48.938\u001b[0m | \u001b[33m\u001b[1mWARNING \u001b[0m | \u001b[36mvasca.source\u001b[0m:\u001b[36madd_vizier_SED\u001b[0m:\u001b[36m100\u001b[0m - \u001b[33m\u001b[1mSkipping row as flux contains nan\u001b[0m\n",
      "\u001b[32m2023-11-15 11:30:48.939\u001b[0m | \u001b[33m\u001b[1mWARNING \u001b[0m | \u001b[36mvasca.source\u001b[0m:\u001b[36madd_vizier_SED\u001b[0m:\u001b[36m100\u001b[0m - \u001b[33m\u001b[1mSkipping row as flux contains nan\u001b[0m\n",
      "\u001b[32m2023-11-15 11:30:48.939\u001b[0m | \u001b[33m\u001b[1mWARNING \u001b[0m | \u001b[36mvasca.source\u001b[0m:\u001b[36madd_vizier_SED\u001b[0m:\u001b[36m100\u001b[0m - \u001b[33m\u001b[1mSkipping row as flux contains nan\u001b[0m\n",
      "\u001b[32m2023-11-15 11:30:48.940\u001b[0m | \u001b[33m\u001b[1mWARNING \u001b[0m | \u001b[36mvasca.source\u001b[0m:\u001b[36madd_vizier_SED\u001b[0m:\u001b[36m100\u001b[0m - \u001b[33m\u001b[1mSkipping row as flux contains nan\u001b[0m\n",
      "\u001b[32m2023-11-15 11:30:48.940\u001b[0m | \u001b[33m\u001b[1mWARNING \u001b[0m | \u001b[36mvasca.source\u001b[0m:\u001b[36madd_vizier_SED\u001b[0m:\u001b[36m100\u001b[0m - \u001b[33m\u001b[1mSkipping row as flux contains nan\u001b[0m\n",
      "\u001b[32m2023-11-15 11:30:48.951\u001b[0m | \u001b[34m\u001b[1mDEBUG   \u001b[0m | \u001b[36mvasca.tables\u001b[0m:\u001b[36madd_table\u001b[0m:\u001b[36m159\u001b[0m - \u001b[34m\u001b[1mAdding table 'region:tt_gphoton_lc'\u001b[0m\n",
      "\u001b[32m2023-11-15 11:30:48.953\u001b[0m | \u001b[34m\u001b[1mDEBUG   \u001b[0m | \u001b[36mvasca.tables\u001b[0m:\u001b[36madd_table\u001b[0m:\u001b[36m159\u001b[0m - \u001b[34m\u001b[1mAdding table 'tt_gphoton_stats'\u001b[0m\n",
      "\u001b[32m2023-11-15 11:30:48.955\u001b[0m | \u001b[33m\u001b[1mWARNING \u001b[0m | \u001b[36mvasca.source\u001b[0m:\u001b[36madd_spectrum\u001b[0m:\u001b[36m296\u001b[0m - \u001b[33m\u001b[1mNo spectrum found\u001b[0m\n",
      "\u001b[32m2023-11-15 11:30:48.955\u001b[0m | \u001b[1mINFO    \u001b[0m | \u001b[36mvasca.tables\u001b[0m:\u001b[36mwrite_to_fits\u001b[0m:\u001b[36m224\u001b[0m - \u001b[1mWriting file with name './vasca_pipeline/ALL_10-800_LOOSE/sources/src_680119.fits'\u001b[0m\n",
      "\u001b[32m2023-11-15 11:30:48.956\u001b[0m | \u001b[34m\u001b[1mDEBUG   \u001b[0m | \u001b[36mvasca.tables\u001b[0m:\u001b[36mwrite_to_fits\u001b[0m:\u001b[36m264\u001b[0m - \u001b[34m\u001b[1mWriting table 'tt_sources'\u001b[0m\n",
      "\u001b[32m2023-11-15 11:30:48.987\u001b[0m | \u001b[34m\u001b[1mDEBUG   \u001b[0m | \u001b[36mvasca.tables\u001b[0m:\u001b[36mwrite_to_fits\u001b[0m:\u001b[36m264\u001b[0m - \u001b[34m\u001b[1mWriting table 'tt_detections'\u001b[0m\n",
      "\u001b[32m2023-11-15 11:30:48.999\u001b[0m | \u001b[34m\u001b[1mDEBUG   \u001b[0m | \u001b[36mvasca.tables\u001b[0m:\u001b[36mwrite_to_fits\u001b[0m:\u001b[36m264\u001b[0m - \u001b[34m\u001b[1mWriting table 'tt_simbad'\u001b[0m\n",
      "WARNING: VerifyWarning: Keyword name 'description' is greater than 8 characters or contains characters not allowed by the FITS standard; a HIERARCH card will be created. [astropy.io.fits.card]\n",
      "\u001b[32m2023-11-15 11:30:49.046\u001b[0m | \u001b[34m\u001b[1mDEBUG   \u001b[0m | \u001b[36mvasca.tables\u001b[0m:\u001b[36mwrite_to_fits\u001b[0m:\u001b[36m264\u001b[0m - \u001b[34m\u001b[1mWriting table 'tt_gaiadr3'\u001b[0m\n",
      "WARNING: UnitsWarning: 'log(cm.s**-2)' did not parse as fits unit: 'log' is not a recognized function If this is meant to be a custom unit, define it with 'u.def_unit'. To have it recognized inside a file reader or other code, enable it with 'u.add_enabled_units'. For details, see https://docs.astropy.org/en/latest/units/combining_and_defining.html [astropy.units.core]\n"
     ]
    },
    {
     "name": "stdout",
     "output_type": "stream",
     "text": [
      "{'rg_src_id': [680119], 'nr_det': [[]]}\n"
     ]
    },
    {
     "name": "stderr",
     "output_type": "stream",
     "text": [
      "\u001b[32m2023-11-15 11:30:49.210\u001b[0m | \u001b[34m\u001b[1mDEBUG   \u001b[0m | \u001b[36mvasca.tables\u001b[0m:\u001b[36mwrite_to_fits\u001b[0m:\u001b[36m264\u001b[0m - \u001b[34m\u001b[1mWriting table 'tt_lombscargle'\u001b[0m\n",
      "\u001b[32m2023-11-15 11:30:49.218\u001b[0m | \u001b[34m\u001b[1mDEBUG   \u001b[0m | \u001b[36mvasca.tables\u001b[0m:\u001b[36mwrite_to_fits\u001b[0m:\u001b[36m264\u001b[0m - \u001b[34m\u001b[1mWriting table 'tt_visits'\u001b[0m\n",
      "\u001b[32m2023-11-15 11:30:49.224\u001b[0m | \u001b[34m\u001b[1mDEBUG   \u001b[0m | \u001b[36mvasca.tables\u001b[0m:\u001b[36mwrite_to_fits\u001b[0m:\u001b[36m264\u001b[0m - \u001b[34m\u001b[1mWriting table 'tt_fields'\u001b[0m\n",
      "\u001b[32m2023-11-15 11:30:49.235\u001b[0m | \u001b[34m\u001b[1mDEBUG   \u001b[0m | \u001b[36mvasca.tables\u001b[0m:\u001b[36mwrite_to_fits\u001b[0m:\u001b[36m264\u001b[0m - \u001b[34m\u001b[1mWriting table 'tt_filters'\u001b[0m\n",
      "\u001b[32m2023-11-15 11:30:49.240\u001b[0m | \u001b[34m\u001b[1mDEBUG   \u001b[0m | \u001b[36mvasca.tables\u001b[0m:\u001b[36mwrite_to_fits\u001b[0m:\u001b[36m264\u001b[0m - \u001b[34m\u001b[1mWriting table 'tt_source_lc'\u001b[0m\n",
      "WARNING: VerifyWarning: Keyword name 'rg_src_id' is greater than 8 characters or contains characters not allowed by the FITS standard; a HIERARCH card will be created. [astropy.io.fits.card]\n",
      "\u001b[32m2023-11-15 11:30:49.252\u001b[0m | \u001b[34m\u001b[1mDEBUG   \u001b[0m | \u001b[36mvasca.tables\u001b[0m:\u001b[36mwrite_to_fits\u001b[0m:\u001b[36m264\u001b[0m - \u001b[34m\u001b[1mWriting table 'tt_sed'\u001b[0m\n",
      "\u001b[32m2023-11-15 11:30:49.262\u001b[0m | \u001b[34m\u001b[1mDEBUG   \u001b[0m | \u001b[36mvasca.tables\u001b[0m:\u001b[36mwrite_to_fits\u001b[0m:\u001b[36m264\u001b[0m - \u001b[34m\u001b[1mWriting table 'tt_gphoton_lc'\u001b[0m\n",
      "\u001b[32m2023-11-15 11:30:49.272\u001b[0m | \u001b[34m\u001b[1mDEBUG   \u001b[0m | \u001b[36mvasca.tables\u001b[0m:\u001b[36mwrite_to_fits\u001b[0m:\u001b[36m264\u001b[0m - \u001b[34m\u001b[1mWriting table 'tt_gphoton_stats'\u001b[0m\n",
      "\u001b[32m2023-11-15 11:30:49.424\u001b[0m | \u001b[34m\u001b[1mDEBUG   \u001b[0m | \u001b[36mvasca.region\u001b[0m:\u001b[36mget_src_from_id\u001b[0m:\u001b[36m337\u001b[0m - \u001b[34m\u001b[1mGetting Source object for rg_src_id: 1070938\u001b[0m\n",
      "\u001b[32m2023-11-15 11:30:49.430\u001b[0m | \u001b[34m\u001b[1mDEBUG   \u001b[0m | \u001b[36mvasca.tables\u001b[0m:\u001b[36madd_table\u001b[0m:\u001b[36m159\u001b[0m - \u001b[34m\u001b[1mAdding table 'tt_sources'\u001b[0m\n",
      "\u001b[32m2023-11-15 11:30:49.461\u001b[0m | \u001b[34m\u001b[1mDEBUG   \u001b[0m | \u001b[36mvasca.tables\u001b[0m:\u001b[36madd_table\u001b[0m:\u001b[36m159\u001b[0m - \u001b[34m\u001b[1mAdding table 'tt_detections'\u001b[0m\n",
      "\u001b[32m2023-11-15 11:30:49.469\u001b[0m | \u001b[34m\u001b[1mDEBUG   \u001b[0m | \u001b[36mvasca.tables\u001b[0m:\u001b[36madd_table\u001b[0m:\u001b[36m159\u001b[0m - \u001b[34m\u001b[1mAdding table 'tt_simbad'\u001b[0m\n",
      "\u001b[32m2023-11-15 11:30:49.488\u001b[0m | \u001b[34m\u001b[1mDEBUG   \u001b[0m | \u001b[36mvasca.tables\u001b[0m:\u001b[36madd_table\u001b[0m:\u001b[36m159\u001b[0m - \u001b[34m\u001b[1mAdding table 'tt_gaiadr3'\u001b[0m\n",
      "\u001b[32m2023-11-15 11:30:49.499\u001b[0m | \u001b[34m\u001b[1mDEBUG   \u001b[0m | \u001b[36mvasca.tables\u001b[0m:\u001b[36madd_table\u001b[0m:\u001b[36m159\u001b[0m - \u001b[34m\u001b[1mAdding table 'tt_visits'\u001b[0m\n",
      "\u001b[32m2023-11-15 11:30:49.502\u001b[0m | \u001b[34m\u001b[1mDEBUG   \u001b[0m | \u001b[36mvasca.tables\u001b[0m:\u001b[36madd_table\u001b[0m:\u001b[36m159\u001b[0m - \u001b[34m\u001b[1mAdding table 'tt_fields'\u001b[0m\n",
      "\u001b[32m2023-11-15 11:30:49.504\u001b[0m | \u001b[34m\u001b[1mDEBUG   \u001b[0m | \u001b[36mvasca.tables\u001b[0m:\u001b[36madd_table\u001b[0m:\u001b[36m159\u001b[0m - \u001b[34m\u001b[1mAdding table 'tt_filters'\u001b[0m\n",
      "\u001b[32m2023-11-15 11:30:49.513\u001b[0m | \u001b[34m\u001b[1mDEBUG   \u001b[0m | \u001b[36mvasca.tables\u001b[0m:\u001b[36madd_table\u001b[0m:\u001b[36m159\u001b[0m - \u001b[34m\u001b[1mAdding table 'tt_source_lc'\u001b[0m\n"
     ]
    },
    {
     "name": "stdout",
     "output_type": "stream",
     "text": [
      "*********** Creating Source Table ID 1070938 *****************\n"
     ]
    },
    {
     "name": "stderr",
     "output_type": "stream",
     "text": [
      "\u001b[32m2023-11-15 11:30:49.787\u001b[0m | \u001b[34m\u001b[1mDEBUG   \u001b[0m | \u001b[36mvasca.tables\u001b[0m:\u001b[36madd_table\u001b[0m:\u001b[36m159\u001b[0m - \u001b[34m\u001b[1mAdding table 'region:tt_sed'\u001b[0m\n",
      "\u001b[32m2023-11-15 11:30:49.804\u001b[0m | \u001b[33m\u001b[1mWARNING \u001b[0m | \u001b[36mvasca.source\u001b[0m:\u001b[36madd_vizier_SED\u001b[0m:\u001b[36m100\u001b[0m - \u001b[33m\u001b[1mSkipping row as flux contains nan\u001b[0m\n",
      "\u001b[32m2023-11-15 11:30:49.805\u001b[0m | \u001b[33m\u001b[1mWARNING \u001b[0m | \u001b[36mvasca.source\u001b[0m:\u001b[36madd_vizier_SED\u001b[0m:\u001b[36m100\u001b[0m - \u001b[33m\u001b[1mSkipping row as flux contains nan\u001b[0m\n",
      "\u001b[32m2023-11-15 11:30:49.805\u001b[0m | \u001b[33m\u001b[1mWARNING \u001b[0m | \u001b[36mvasca.source\u001b[0m:\u001b[36madd_vizier_SED\u001b[0m:\u001b[36m100\u001b[0m - \u001b[33m\u001b[1mSkipping row as flux contains nan\u001b[0m\n",
      "\u001b[32m2023-11-15 11:30:49.812\u001b[0m | \u001b[34m\u001b[1mDEBUG   \u001b[0m | \u001b[36mvasca.tables\u001b[0m:\u001b[36madd_table\u001b[0m:\u001b[36m159\u001b[0m - \u001b[34m\u001b[1mAdding table 'region:tt_gphoton_lc'\u001b[0m\n",
      "\u001b[32m2023-11-15 11:30:49.815\u001b[0m | \u001b[34m\u001b[1mDEBUG   \u001b[0m | \u001b[36mvasca.tables\u001b[0m:\u001b[36madd_table\u001b[0m:\u001b[36m159\u001b[0m - \u001b[34m\u001b[1mAdding table 'tt_gphoton_stats'\u001b[0m\n",
      "\u001b[32m2023-11-15 11:30:49.818\u001b[0m | \u001b[33m\u001b[1mWARNING \u001b[0m | \u001b[36mvasca.source\u001b[0m:\u001b[36madd_spectrum\u001b[0m:\u001b[36m296\u001b[0m - \u001b[33m\u001b[1mNo spectrum found\u001b[0m\n",
      "\u001b[32m2023-11-15 11:30:49.818\u001b[0m | \u001b[1mINFO    \u001b[0m | \u001b[36mvasca.tables\u001b[0m:\u001b[36mwrite_to_fits\u001b[0m:\u001b[36m224\u001b[0m - \u001b[1mWriting file with name './vasca_pipeline/ALL_10-800_LOOSE/sources/src_1070938.fits'\u001b[0m\n",
      "\u001b[32m2023-11-15 11:30:49.819\u001b[0m | \u001b[34m\u001b[1mDEBUG   \u001b[0m | \u001b[36mvasca.tables\u001b[0m:\u001b[36mwrite_to_fits\u001b[0m:\u001b[36m264\u001b[0m - \u001b[34m\u001b[1mWriting table 'tt_sources'\u001b[0m\n",
      "\u001b[32m2023-11-15 11:30:49.850\u001b[0m | \u001b[34m\u001b[1mDEBUG   \u001b[0m | \u001b[36mvasca.tables\u001b[0m:\u001b[36mwrite_to_fits\u001b[0m:\u001b[36m264\u001b[0m - \u001b[34m\u001b[1mWriting table 'tt_detections'\u001b[0m\n",
      "\u001b[32m2023-11-15 11:30:49.862\u001b[0m | \u001b[34m\u001b[1mDEBUG   \u001b[0m | \u001b[36mvasca.tables\u001b[0m:\u001b[36mwrite_to_fits\u001b[0m:\u001b[36m264\u001b[0m - \u001b[34m\u001b[1mWriting table 'tt_simbad'\u001b[0m\n",
      "WARNING: VerifyWarning: Keyword name 'description' is greater than 8 characters or contains characters not allowed by the FITS standard; a HIERARCH card will be created. [astropy.io.fits.card]\n",
      "\u001b[32m2023-11-15 11:30:49.907\u001b[0m | \u001b[34m\u001b[1mDEBUG   \u001b[0m | \u001b[36mvasca.tables\u001b[0m:\u001b[36mwrite_to_fits\u001b[0m:\u001b[36m264\u001b[0m - \u001b[34m\u001b[1mWriting table 'tt_gaiadr3'\u001b[0m\n",
      "WARNING: UnitsWarning: 'log(cm.s**-2)' did not parse as fits unit: 'log' is not a recognized function If this is meant to be a custom unit, define it with 'u.def_unit'. To have it recognized inside a file reader or other code, enable it with 'u.add_enabled_units'. For details, see https://docs.astropy.org/en/latest/units/combining_and_defining.html [astropy.units.core]\n"
     ]
    },
    {
     "name": "stdout",
     "output_type": "stream",
     "text": [
      "{'rg_src_id': [1070938], 'nr_det': [[2, 2]], 'wght_mean': [[120.1442906016066, 27.746967229299514]], 'wght_mean_err': [[6.290148413443886, 6.784920283211608]], 'var': [[7.3668638283540275, 24.06030198470923]], 'nxv': [[-0.005179260094281239, -0.09554866262249478]], 'rchiq': [[0.08970014024597171, 0.2464622602221886]], 'cpval': [[0.7645587118106081, 0.6195771989409855]]}\n"
     ]
    },
    {
     "name": "stderr",
     "output_type": "stream",
     "text": [
      "\u001b[32m2023-11-15 11:30:50.064\u001b[0m | \u001b[34m\u001b[1mDEBUG   \u001b[0m | \u001b[36mvasca.tables\u001b[0m:\u001b[36mwrite_to_fits\u001b[0m:\u001b[36m264\u001b[0m - \u001b[34m\u001b[1mWriting table 'tt_visits'\u001b[0m\n",
      "\u001b[32m2023-11-15 11:30:50.071\u001b[0m | \u001b[34m\u001b[1mDEBUG   \u001b[0m | \u001b[36mvasca.tables\u001b[0m:\u001b[36mwrite_to_fits\u001b[0m:\u001b[36m264\u001b[0m - \u001b[34m\u001b[1mWriting table 'tt_fields'\u001b[0m\n",
      "\u001b[32m2023-11-15 11:30:50.083\u001b[0m | \u001b[34m\u001b[1mDEBUG   \u001b[0m | \u001b[36mvasca.tables\u001b[0m:\u001b[36mwrite_to_fits\u001b[0m:\u001b[36m264\u001b[0m - \u001b[34m\u001b[1mWriting table 'tt_filters'\u001b[0m\n",
      "\u001b[32m2023-11-15 11:30:50.087\u001b[0m | \u001b[34m\u001b[1mDEBUG   \u001b[0m | \u001b[36mvasca.tables\u001b[0m:\u001b[36mwrite_to_fits\u001b[0m:\u001b[36m264\u001b[0m - \u001b[34m\u001b[1mWriting table 'tt_source_lc'\u001b[0m\n",
      "WARNING: VerifyWarning: Keyword name 'rg_src_id' is greater than 8 characters or contains characters not allowed by the FITS standard; a HIERARCH card will be created. [astropy.io.fits.card]\n",
      "\u001b[32m2023-11-15 11:30:50.098\u001b[0m | \u001b[34m\u001b[1mDEBUG   \u001b[0m | \u001b[36mvasca.tables\u001b[0m:\u001b[36mwrite_to_fits\u001b[0m:\u001b[36m264\u001b[0m - \u001b[34m\u001b[1mWriting table 'tt_sed'\u001b[0m\n",
      "\u001b[32m2023-11-15 11:30:50.105\u001b[0m | \u001b[34m\u001b[1mDEBUG   \u001b[0m | \u001b[36mvasca.tables\u001b[0m:\u001b[36mwrite_to_fits\u001b[0m:\u001b[36m264\u001b[0m - \u001b[34m\u001b[1mWriting table 'tt_gphoton_lc'\u001b[0m\n",
      "\u001b[32m2023-11-15 11:30:50.115\u001b[0m | \u001b[34m\u001b[1mDEBUG   \u001b[0m | \u001b[36mvasca.tables\u001b[0m:\u001b[36mwrite_to_fits\u001b[0m:\u001b[36m264\u001b[0m - \u001b[34m\u001b[1mWriting table 'tt_gphoton_stats'\u001b[0m\n"
     ]
    },
    {
     "name": "stdout",
     "output_type": "stream",
     "text": [
      "Done\n"
     ]
    }
   ],
   "source": [
    "%matplotlib widget\n",
    "import ipywidgets as widgets\n",
    "from IPython.display import display\n",
    "import matplotlib.pyplot as plt\n",
    "import numpy as np\n",
    "\n",
    "from astropy.coordinates import SkyCoord\n",
    "from astropy.table import unique, Table, hstack, join, setdiff\n",
    "from astropy import units as uu\n",
    "from astroquery.simbad import Simbad\n",
    "from astropy.visualization import quantity_support\n",
    "from astropy.modeling.models import BlackBody\n",
    "from astropy import constants as cc\n",
    "from matplotlib.ticker import ScalarFormatter\n",
    "from astroquery.sdss import SDSS\n",
    "\n",
    "from vasca.region import Region\n",
    "from vasca.field import BaseField\n",
    "import vasca.visualization as vvis\n",
    "from vasca.tables import TableCollection, dd_vasca_columns\n",
    "from vasca.utils import otype2ogroup,dd_ogrp2otypes, dd_ogrp2col, dd_filter2wavelength, mag2flux, flux2mag, query_vizier_sed, add_ogrp\n",
    "\n",
    "from loguru import logger\n",
    "logger.enable(\"vasca\")\n",
    "\n",
    "# Do catalog file\n",
    "\n",
    "if do_cat:\n",
    "    rg = Region()\n",
    "    rg.load_from_fits(region_fname) \n",
    "    rc = rg.get_region_catalog()\n",
    "else:\n",
    "    rc = Region()\n",
    "    rc.load_from_fits(region_cat_fname)\n",
    "\n",
    "#Cross match to SIMBAD and GAIA\n",
    "if do_cross_match:\n",
    "    rc.cross_match_cds(query_table=\"simbad\", overwrite=False)\n",
    "    rc.cross_match_cds(overwrite=True)\n",
    "\n",
    "    #Crossmatch with GFCAT\n",
    "    tt_cat = Table.read(\"./resources/GFCAT/hlsp_gfcat_galex_imaging_object-cat_fuv-nuv_v1_table.ecsv\")\n",
    "    rc.add_table(tt_cat,\"tt_gfcat\")\n",
    "    rc.cross_match(dist_max=1 * uu.arcsec, dist_s2n_max=None, cat_table_name=\"tt_gfcat\",cat_id_name=\"gfcat_src_id\",cat_name=\"gfcat\", src_table_name=\"tt_sources\")\n",
    "    \n",
    "    #rc.cross_match_cds(query_table=\"I/358/varisum\",vizier_columns=[\"*\", \"NG\", \"dGmag\"],)\n",
    "\n",
    "#Add variables\n",
    "if do_variable_addition:\n",
    "    rc.add_column(\"tt_gaiadr3\", \"Gmag_abs\")\n",
    "    sel_plx = rc.tt_gaiadr3[\"RPlx\"]>3\n",
    "    rc.tt_gaiadr3[\"Gmag_abs\"][sel_plx]=rc.tt_gaiadr3[\"Gmag\"][sel_plx] + 5.0 * np.log10(rc.tt_gaiadr3[\"Plx\"][sel_plx]) - 10.0\n",
    "    rc.tt_gaiadr3[\"Plx_dist\"] = rc.tt_gaiadr3[\"Plx\"].quantity.to(uu.parsec, equivalencies=uu.parallax())\n",
    "\n",
    "    # Add normalized excess\n",
    "    rc.tt_sources[\"flux_ne\"]=np.sqrt(rc.tt_sources[\"flux_nxv\"])\n",
    "\n",
    "    # Add object groups\n",
    "    add_ogrp(rc.tt_simbad)\n",
    "    add_ogrp(rc.tt_gaiadr3,provenance=\"GAIA\")\n",
    "\n",
    "if do_LombScargle:\n",
    "    rc.set_LombScargle(nbins_min=20)\n",
    "\n",
    "#Write out all changes to region\n",
    "rc.write_to_fits(region_cat_fname, overwrite=True)\n",
    "\n",
    "#Prepare sources, including Vizier SED.\n",
    "if do_src_prep:\n",
    "    for src_id in srcs_ids:\n",
    "        print(f\"*********** Creating Source Table ID {src_id} *****************\")\n",
    "        tc_src = rc.get_src_from_id(src_id, load_from_file = False)\n",
    "print(\"Done\")"
   ]
  },
  {
   "cell_type": "code",
   "execution_count": null,
   "id": "37adcc52-904b-41a1-a2d8-25eebdbb1762",
   "metadata": {},
   "outputs": [],
   "source": []
  }
 ],
 "metadata": {
  "kernelspec": {
   "display_name": "Python 3 (ipykernel)",
   "language": "python",
   "name": "python3"
  },
  "language_info": {
   "codemirror_mode": {
    "name": "ipython",
    "version": 3
   },
   "file_extension": ".py",
   "mimetype": "text/x-python",
   "name": "python",
   "nbconvert_exporter": "python",
   "pygments_lexer": "ipython3",
   "version": "3.10.12"
  }
 },
 "nbformat": 4,
 "nbformat_minor": 5
}
