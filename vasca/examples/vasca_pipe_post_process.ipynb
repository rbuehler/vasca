{
 "cells": [
  {
   "cell_type": "markdown",
   "id": "b2195104-c49a-480d-94ea-bbb27979e84c",
   "metadata": {},
   "source": [
    "# Post-process vasca_pipe results\n",
    "Make catalog file of selected sources only, associate and get store additional info for listed sources"
   ]
  },
  {
   "cell_type": "code",
   "execution_count": 1,
   "id": "950c4fbe-f5d0-447c-9d74-25af6ff290bf",
   "metadata": {},
   "outputs": [],
   "source": [
    "region_name = \"ALL_10-800\" #\"CAINGSGII_10-800\"  #\"TDS\" #\"CAINGSGII_10-800\"  #\"TDS\" # \"MDIS_10-800\" # \"TDS\" # _ELAISN1\n",
    "region_fname = \"./vasca_pipeline/\"+region_name+\"/region_\"+region_name+\".fits\"\n",
    "region_cat_fname = region_fname.replace(\".fits\",\"_cat.fits\")\n",
    "do_cat = False\n",
    "do_cross_match = False\n",
    "do_src_prep = False\n",
    "do_variable_addition = True\n",
    "\n",
    "srcs_ids = []\n",
    "srcs_ids = [55034 ,61491 ,64360 ,73354 ,76243 ,92867 ,104078 ,106745 ,226975 ,267514 ,588567 ,599887 ,]  # WDs ALL"
   ]
  },
  {
   "cell_type": "code",
   "execution_count": 2,
   "id": "937306a8-d6b3-45dd-981d-421919026ddb",
   "metadata": {},
   "outputs": [
    {
     "name": "stderr",
     "output_type": "stream",
     "text": [
      "\u001b[32m2023-10-10 14:26:30.809\u001b[0m | \u001b[34m\u001b[1mDEBUG   \u001b[0m | \u001b[36mvasca.tables\u001b[0m:\u001b[36mload_from_fits\u001b[0m:\u001b[36m328\u001b[0m - \u001b[34m\u001b[1mLoading file with name './vasca_pipeline/ALL_10-800/region_ALL_10-800_cat.fits'\u001b[0m\n",
      "\u001b[32m2023-10-10 14:26:30.827\u001b[0m | \u001b[34m\u001b[1mDEBUG   \u001b[0m | \u001b[36mvasca.tables\u001b[0m:\u001b[36mload_from_fits\u001b[0m:\u001b[36m339\u001b[0m - \u001b[34m\u001b[1mLoading table 'tt_fields'\u001b[0m\n",
      "\u001b[32m2023-10-10 14:26:30.853\u001b[0m | \u001b[34m\u001b[1mDEBUG   \u001b[0m | \u001b[36mvasca.tables\u001b[0m:\u001b[36mload_from_fits\u001b[0m:\u001b[36m339\u001b[0m - \u001b[34m\u001b[1mLoading table 'tt_filters'\u001b[0m\n",
      "\u001b[32m2023-10-10 14:26:30.863\u001b[0m | \u001b[34m\u001b[1mDEBUG   \u001b[0m | \u001b[36mvasca.tables\u001b[0m:\u001b[36mload_from_fits\u001b[0m:\u001b[36m339\u001b[0m - \u001b[34m\u001b[1mLoading table 'tt_visits'\u001b[0m\n",
      "\u001b[32m2023-10-10 14:26:30.878\u001b[0m | \u001b[34m\u001b[1mDEBUG   \u001b[0m | \u001b[36mvasca.tables\u001b[0m:\u001b[36mload_from_fits\u001b[0m:\u001b[36m339\u001b[0m - \u001b[34m\u001b[1mLoading table 'tt_detections'\u001b[0m\n",
      "\u001b[32m2023-10-10 14:26:30.919\u001b[0m | \u001b[34m\u001b[1mDEBUG   \u001b[0m | \u001b[36mvasca.tables\u001b[0m:\u001b[36mload_from_fits\u001b[0m:\u001b[36m339\u001b[0m - \u001b[34m\u001b[1mLoading table 'tt_coadd_detections'\u001b[0m\n",
      "\u001b[32m2023-10-10 14:26:31.140\u001b[0m | \u001b[34m\u001b[1mDEBUG   \u001b[0m | \u001b[36mvasca.tables\u001b[0m:\u001b[36mload_from_fits\u001b[0m:\u001b[36m339\u001b[0m - \u001b[34m\u001b[1mLoading table 'tt_sources'\u001b[0m\n",
      "\u001b[32m2023-10-10 14:26:31.181\u001b[0m | \u001b[34m\u001b[1mDEBUG   \u001b[0m | \u001b[36mvasca.tables\u001b[0m:\u001b[36mload_from_fits\u001b[0m:\u001b[36m339\u001b[0m - \u001b[34m\u001b[1mLoading table 'tt_coadd_sources'\u001b[0m\n",
      "\u001b[32m2023-10-10 14:26:31.227\u001b[0m | \u001b[34m\u001b[1mDEBUG   \u001b[0m | \u001b[36mvasca.tables\u001b[0m:\u001b[36mload_from_fits\u001b[0m:\u001b[36m339\u001b[0m - \u001b[34m\u001b[1mLoading table 'tt_src_id_map'\u001b[0m\n",
      "\u001b[32m2023-10-10 14:26:31.261\u001b[0m | \u001b[34m\u001b[1mDEBUG   \u001b[0m | \u001b[36mvasca.tables\u001b[0m:\u001b[36mload_from_fits\u001b[0m:\u001b[36m339\u001b[0m - \u001b[34m\u001b[1mLoading table 'tt_simbad'\u001b[0m\n",
      "\u001b[32m2023-10-10 14:26:31.338\u001b[0m | \u001b[34m\u001b[1mDEBUG   \u001b[0m | \u001b[36mvasca.tables\u001b[0m:\u001b[36mload_from_fits\u001b[0m:\u001b[36m339\u001b[0m - \u001b[34m\u001b[1mLoading table 'tt_otypes'\u001b[0m\n",
      "\u001b[32m2023-10-10 14:26:31.360\u001b[0m | \u001b[34m\u001b[1mDEBUG   \u001b[0m | \u001b[36mvasca.tables\u001b[0m:\u001b[36mload_from_fits\u001b[0m:\u001b[36m339\u001b[0m - \u001b[34m\u001b[1mLoading table 'tt_gaiadr3'\u001b[0m\n",
      "WARNING: UnitsWarning: 'log(cm.s**-2)' did not parse as fits unit: 'log' is not a recognized function If this is meant to be a custom unit, define it with 'u.def_unit'. To have it recognized inside a file reader or other code, enable it with 'u.add_enabled_units'. For details, see https://docs.astropy.org/en/latest/units/combining_and_defining.html [astropy.units.core]\n",
      "\u001b[32m2023-10-10 14:26:31.576\u001b[0m | \u001b[1mINFO    \u001b[0m | \u001b[36mvasca.tables\u001b[0m:\u001b[36mwrite_to_fits\u001b[0m:\u001b[36m222\u001b[0m - \u001b[1mWriting file with name './vasca_pipeline/ALL_10-800/region_ALL_10-800_cat.fits'\u001b[0m\n",
      "\u001b[32m2023-10-10 14:26:31.624\u001b[0m | \u001b[34m\u001b[1mDEBUG   \u001b[0m | \u001b[36mvasca.tables\u001b[0m:\u001b[36mwrite_to_fits\u001b[0m:\u001b[36m262\u001b[0m - \u001b[34m\u001b[1mWriting table 'tt_fields'\u001b[0m\n",
      "\u001b[32m2023-10-10 14:26:31.651\u001b[0m | \u001b[34m\u001b[1mDEBUG   \u001b[0m | \u001b[36mvasca.tables\u001b[0m:\u001b[36mwrite_to_fits\u001b[0m:\u001b[36m262\u001b[0m - \u001b[34m\u001b[1mWriting table 'tt_filters'\u001b[0m\n",
      "\u001b[32m2023-10-10 14:26:31.664\u001b[0m | \u001b[34m\u001b[1mDEBUG   \u001b[0m | \u001b[36mvasca.tables\u001b[0m:\u001b[36mwrite_to_fits\u001b[0m:\u001b[36m262\u001b[0m - \u001b[34m\u001b[1mWriting table 'tt_visits'\u001b[0m\n",
      "\u001b[32m2023-10-10 14:26:31.680\u001b[0m | \u001b[34m\u001b[1mDEBUG   \u001b[0m | \u001b[36mvasca.tables\u001b[0m:\u001b[36mwrite_to_fits\u001b[0m:\u001b[36m262\u001b[0m - \u001b[34m\u001b[1mWriting table 'tt_detections'\u001b[0m\n",
      "\u001b[32m2023-10-10 14:26:31.831\u001b[0m | \u001b[34m\u001b[1mDEBUG   \u001b[0m | \u001b[36mvasca.tables\u001b[0m:\u001b[36mwrite_to_fits\u001b[0m:\u001b[36m262\u001b[0m - \u001b[34m\u001b[1mWriting table 'tt_coadd_detections'\u001b[0m\n",
      "\u001b[32m2023-10-10 14:26:33.529\u001b[0m | \u001b[34m\u001b[1mDEBUG   \u001b[0m | \u001b[36mvasca.tables\u001b[0m:\u001b[36mwrite_to_fits\u001b[0m:\u001b[36m262\u001b[0m - \u001b[34m\u001b[1mWriting table 'tt_sources'\u001b[0m\n",
      "\u001b[32m2023-10-10 14:26:33.600\u001b[0m | \u001b[34m\u001b[1mDEBUG   \u001b[0m | \u001b[36mvasca.tables\u001b[0m:\u001b[36mwrite_to_fits\u001b[0m:\u001b[36m262\u001b[0m - \u001b[34m\u001b[1mWriting table 'tt_coadd_sources'\u001b[0m\n",
      "\u001b[32m2023-10-10 14:26:33.659\u001b[0m | \u001b[34m\u001b[1mDEBUG   \u001b[0m | \u001b[36mvasca.tables\u001b[0m:\u001b[36mwrite_to_fits\u001b[0m:\u001b[36m262\u001b[0m - \u001b[34m\u001b[1mWriting table 'tt_src_id_map'\u001b[0m\n",
      "\u001b[32m2023-10-10 14:26:33.670\u001b[0m | \u001b[34m\u001b[1mDEBUG   \u001b[0m | \u001b[36mvasca.tables\u001b[0m:\u001b[36mwrite_to_fits\u001b[0m:\u001b[36m262\u001b[0m - \u001b[34m\u001b[1mWriting table 'tt_simbad'\u001b[0m\n",
      "WARNING: VerifyWarning: Keyword name 'description' is greater than 8 characters or contains characters not allowed by the FITS standard; a HIERARCH card will be created. [astropy.io.fits.card]\n",
      "\u001b[32m2023-10-10 14:26:33.781\u001b[0m | \u001b[34m\u001b[1mDEBUG   \u001b[0m | \u001b[36mvasca.tables\u001b[0m:\u001b[36mwrite_to_fits\u001b[0m:\u001b[36m262\u001b[0m - \u001b[34m\u001b[1mWriting table 'tt_otypes'\u001b[0m\n",
      "\u001b[32m2023-10-10 14:26:33.803\u001b[0m | \u001b[34m\u001b[1mDEBUG   \u001b[0m | \u001b[36mvasca.tables\u001b[0m:\u001b[36mwrite_to_fits\u001b[0m:\u001b[36m262\u001b[0m - \u001b[34m\u001b[1mWriting table 'tt_gaiadr3'\u001b[0m\n"
     ]
    },
    {
     "name": "stdout",
     "output_type": "stream",
     "text": [
      "Done\n"
     ]
    }
   ],
   "source": [
    "%matplotlib widget\n",
    "import ipywidgets as widgets\n",
    "from IPython.display import display\n",
    "import matplotlib.pyplot as plt\n",
    "import numpy as np\n",
    "\n",
    "from astropy.coordinates import SkyCoord\n",
    "from astropy.table import unique, Table, hstack, join, setdiff\n",
    "from astropy import units as uu\n",
    "from astroquery.simbad import Simbad\n",
    "from astropy.visualization import quantity_support\n",
    "from astropy.modeling.models import BlackBody\n",
    "from astropy import constants as cc\n",
    "from matplotlib.ticker import ScalarFormatter\n",
    "from astroquery.sdss import SDSS\n",
    "\n",
    "from vasca.region import Region\n",
    "from vasca.field import BaseField\n",
    "import vasca.visualization as vvis\n",
    "from vasca.tables import TableCollection, dd_vasca_columns\n",
    "from vasca.utils import otype2ogroup,dd_ogrp2otypes, dd_ogrp2col, dd_filter2wavelength, mag2flux, flux2mag, query_vizier_sed, add_ogrp\n",
    "\n",
    "from loguru import logger\n",
    "logger.enable(\"vasca\")\n",
    "\n",
    "# Do catalog file\n",
    "\n",
    "if do_cat:\n",
    "    rg = Region()\n",
    "    rg.load_from_fits(region_fname)\n",
    "    rc = rg.get_region_catalog()\n",
    "else:\n",
    "    rc = Region()\n",
    "    rc.load_from_fits(region_cat_fname)\n",
    "\n",
    "#Cross match to SIMBAD and GAIA\n",
    "if do_cross_match:\n",
    "    rc.cross_match_cds(query_table=\"simbad\")\n",
    "    rc.cross_match_cds()\n",
    "\n",
    "#Add variables\n",
    "if do_variable_addition:\n",
    "    rc.add_column(\"tt_gaiadr3\", \"Gmag_abs\")\n",
    "    sel_plx = rc.tt_gaiadr3[\"RPlx\"]>3\n",
    "    rc.tt_gaiadr3[\"Gmag_abs\"][sel_plx]=rc.tt_gaiadr3[\"Gmag\"][sel_plx] + 5.0 * np.log10(rc.tt_gaiadr3[\"Plx\"][sel_plx]) - 10.0\n",
    "\n",
    "    # Add object groups\n",
    "    add_ogrp(rc,\"tt_simbad\")\n",
    "    add_ogrp(rc,\"tt_otypes\")\n",
    "    add_ogrp(rc,\"tt_gaiadr3\",provenance=\"GAIA\")\n",
    "\n",
    "#Write out all changes\n",
    "rc.write_to_fits(region_cat_fname, overwrite=True)\n",
    "\n",
    "#Prepare sources, including Vizier SED.\n",
    "if do_src_prep:\n",
    "    for src_id in srcs_ids:\n",
    "        tc_src = rc.get_src_from_id(src_id, load_from_file = False)\n",
    "print(\"Done\")"
   ]
  },
  {
   "cell_type": "code",
   "execution_count": null,
   "id": "0d1e9635-a4a9-48ef-8e4e-113e7059bd20",
   "metadata": {},
   "outputs": [],
   "source": []
  }
 ],
 "metadata": {
  "kernelspec": {
   "display_name": "Python 3 (ipykernel)",
   "language": "python",
   "name": "python3"
  },
  "language_info": {
   "codemirror_mode": {
    "name": "ipython",
    "version": 3
   },
   "file_extension": ".py",
   "mimetype": "text/x-python",
   "name": "python",
   "nbconvert_exporter": "python",
   "pygments_lexer": "ipython3",
   "version": "3.10.12"
  }
 },
 "nbformat": 4,
 "nbformat_minor": 5
}
