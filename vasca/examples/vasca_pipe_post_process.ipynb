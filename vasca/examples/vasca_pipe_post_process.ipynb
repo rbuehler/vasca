{
 "cells": [
  {
   "cell_type": "markdown",
   "id": "b2195104-c49a-480d-94ea-bbb27979e84c",
   "metadata": {},
   "source": [
    "# Post-process vasca_pipe results\n",
    "Make catalog file of selected sources only, associate and get store additional info for listed sources"
   ]
  },
  {
   "cell_type": "code",
   "execution_count": 1,
   "id": "950c4fbe-f5d0-447c-9d74-25af6ff290bf",
   "metadata": {},
   "outputs": [],
   "source": [
    "region_name = \"ALL_10-800_LOOSE\" #\"CAINGSGII_10-800\"  #\"TDS\" #\"CAINGSGII_10-800\"  #\"TDS\" # \"MDIS_10-800\" # \"TDS\" # _ELAISN1\n",
    "region_fname = \"./vasca_pipeline/\"+region_name+\"/region_\"+region_name+\".fits\"\n",
    "region_cat_fname = region_fname.replace(\".fits\",\"_cat.fits\")\n",
    "\n",
    "redo_src_selection = True\n",
    "do_cat = False                        # Recreate catalog file from vasca_pipe output region\n",
    "do_cross_match = False                  # Does source matching with CDS\n",
    "do_src_prep = False                  # Gets additional info for sources listes in srcs_ids list below.\n",
    "do_variable_addition = False            # Adds variables of matched sources to tt_sources\n",
    "do_LombScargle = True\n",
    "\n",
    "srcs_ids = []\n",
    "srcs_ids = [4993 ,13580 ,14504 ,30475 ,50388 ,52994 ,79477 ,120265 ,138783 ,139480 ,162697 ,204419 ,221349 ,228958 ,236839 ,253214 ,\n",
    "            253670 ,256433 ,261213 ,331466 ,340464 ,381336 ,390864 ,489430 ,498065 ,525310 ,532554 ,533185 ,540235 ,583838 ,639720 ,\n",
    "            645215 ,645730 ,659787 ,666224 ,673175 ,680119 ,691408 ,714140 ,764827 ,1037284 ,1069077 ,1070938 ,1805505 ,1839206\n",
    "            ,2527679 ,3074917 ,] # WD ALL_10-800-LOOSE"
   ]
  },
  {
   "cell_type": "code",
   "execution_count": 2,
   "id": "937306a8-d6b3-45dd-981d-421919026ddb",
   "metadata": {},
   "outputs": [
    {
     "name": "stderr",
     "output_type": "stream",
     "text": [
      "\u001b[32m2023-10-25 16:38:36.941\u001b[0m | \u001b[34m\u001b[1mDEBUG   \u001b[0m | \u001b[36mvasca.tables\u001b[0m:\u001b[36mload_from_fits\u001b[0m:\u001b[36m330\u001b[0m - \u001b[34m\u001b[1mLoading file with name './vasca_pipeline/ALL_10-800_LOOSE/region_ALL_10-800_LOOSE_cat.fits'\u001b[0m\n",
      "\u001b[32m2023-10-25 16:38:36.948\u001b[0m | \u001b[34m\u001b[1mDEBUG   \u001b[0m | \u001b[36mvasca.tables\u001b[0m:\u001b[36mload_from_fits\u001b[0m:\u001b[36m341\u001b[0m - \u001b[34m\u001b[1mLoading table 'tt_fields'\u001b[0m\n",
      "\u001b[32m2023-10-25 16:38:36.960\u001b[0m | \u001b[34m\u001b[1mDEBUG   \u001b[0m | \u001b[36mvasca.tables\u001b[0m:\u001b[36mload_from_fits\u001b[0m:\u001b[36m341\u001b[0m - \u001b[34m\u001b[1mLoading table 'tt_filters'\u001b[0m\n",
      "\u001b[32m2023-10-25 16:38:36.965\u001b[0m | \u001b[34m\u001b[1mDEBUG   \u001b[0m | \u001b[36mvasca.tables\u001b[0m:\u001b[36mload_from_fits\u001b[0m:\u001b[36m341\u001b[0m - \u001b[34m\u001b[1mLoading table 'tt_visits'\u001b[0m\n",
      "\u001b[32m2023-10-25 16:38:36.972\u001b[0m | \u001b[34m\u001b[1mDEBUG   \u001b[0m | \u001b[36mvasca.tables\u001b[0m:\u001b[36mload_from_fits\u001b[0m:\u001b[36m341\u001b[0m - \u001b[34m\u001b[1mLoading table 'tt_sources'\u001b[0m\n",
      "\u001b[32m2023-10-25 16:38:36.990\u001b[0m | \u001b[34m\u001b[1mDEBUG   \u001b[0m | \u001b[36mvasca.tables\u001b[0m:\u001b[36mload_from_fits\u001b[0m:\u001b[36m341\u001b[0m - \u001b[34m\u001b[1mLoading table 'tt_detections'\u001b[0m\n",
      "\u001b[32m2023-10-25 16:38:37.021\u001b[0m | \u001b[34m\u001b[1mDEBUG   \u001b[0m | \u001b[36mvasca.tables\u001b[0m:\u001b[36mload_from_fits\u001b[0m:\u001b[36m341\u001b[0m - \u001b[34m\u001b[1mLoading table 'tt_coadd_detections'\u001b[0m\n",
      "\u001b[32m2023-10-25 16:38:37.096\u001b[0m | \u001b[34m\u001b[1mDEBUG   \u001b[0m | \u001b[36mvasca.tables\u001b[0m:\u001b[36mload_from_fits\u001b[0m:\u001b[36m341\u001b[0m - \u001b[34m\u001b[1mLoading table 'tt_coadd_sources'\u001b[0m\n",
      "\u001b[32m2023-10-25 16:38:37.111\u001b[0m | \u001b[34m\u001b[1mDEBUG   \u001b[0m | \u001b[36mvasca.tables\u001b[0m:\u001b[36mload_from_fits\u001b[0m:\u001b[36m341\u001b[0m - \u001b[34m\u001b[1mLoading table 'tt_src_id_map'\u001b[0m\n",
      "\u001b[32m2023-10-25 16:38:37.118\u001b[0m | \u001b[34m\u001b[1mDEBUG   \u001b[0m | \u001b[36mvasca.tables\u001b[0m:\u001b[36mload_from_fits\u001b[0m:\u001b[36m341\u001b[0m - \u001b[34m\u001b[1mLoading table 'tt_simbad'\u001b[0m\n",
      "\u001b[32m2023-10-25 16:38:37.148\u001b[0m | \u001b[34m\u001b[1mDEBUG   \u001b[0m | \u001b[36mvasca.tables\u001b[0m:\u001b[36mload_from_fits\u001b[0m:\u001b[36m341\u001b[0m - \u001b[34m\u001b[1mLoading table 'tt_gaiadr3'\u001b[0m\n",
      "WARNING: UnitsWarning: 'log(cm.s**-2)' did not parse as fits unit: 'log' is not a recognized function If this is meant to be a custom unit, define it with 'u.def_unit'. To have it recognized inside a file reader or other code, enable it with 'u.add_enabled_units'. For details, see https://docs.astropy.org/en/latest/units/combining_and_defining.html [astropy.units.core]\n",
      "\u001b[32m2023-10-25 16:38:37.220\u001b[0m | \u001b[34m\u001b[1mDEBUG   \u001b[0m | \u001b[36mvasca.tables\u001b[0m:\u001b[36mload_from_fits\u001b[0m:\u001b[36m341\u001b[0m - \u001b[34m\u001b[1mLoading table 'tt_lombscargle'\u001b[0m\n",
      "\u001b[32m2023-10-25 16:38:37.232\u001b[0m | \u001b[34m\u001b[1mDEBUG   \u001b[0m | \u001b[36mvasca.region\u001b[0m:\u001b[36mset_LombScargle\u001b[0m:\u001b[36m835\u001b[0m - \u001b[34m\u001b[1mRunning LombScargle..\u001b[0m\n",
      "\u001b[32m2023-10-25 16:39:10.873\u001b[0m | \u001b[34m\u001b[1mDEBUG   \u001b[0m | \u001b[36mvasca.region\u001b[0m:\u001b[36mset_LombScargle\u001b[0m:\u001b[36m837\u001b[0m - \u001b[34m\u001b[1mStarting source loop\u001b[0m\n",
      "\u001b[32m2023-10-25 16:39:31.646\u001b[0m | \u001b[34m\u001b[1mDEBUG   \u001b[0m | \u001b[36mvasca.tables\u001b[0m:\u001b[36madd_table\u001b[0m:\u001b[36m159\u001b[0m - \u001b[34m\u001b[1mAdding table 'region:tt_lombscargle'\u001b[0m\n",
      "\u001b[32m2023-10-25 16:39:31.647\u001b[0m | \u001b[33m\u001b[1mWARNING \u001b[0m | \u001b[36mvasca.tables\u001b[0m:\u001b[36madd_table\u001b[0m:\u001b[36m166\u001b[0m - \u001b[33m\u001b[1mTable 'tt_lombscargle' already exists, overwriting\u001b[0m\n",
      "\u001b[32m2023-10-25 16:39:31.697\u001b[0m | \u001b[1mINFO    \u001b[0m | \u001b[36mvasca.tables\u001b[0m:\u001b[36mwrite_to_fits\u001b[0m:\u001b[36m224\u001b[0m - \u001b[1mWriting file with name './vasca_pipeline/ALL_10-800_LOOSE/region_ALL_10-800_LOOSE_cat.fits'\u001b[0m\n",
      "\u001b[32m2023-10-25 16:39:31.713\u001b[0m | \u001b[34m\u001b[1mDEBUG   \u001b[0m | \u001b[36mvasca.tables\u001b[0m:\u001b[36mwrite_to_fits\u001b[0m:\u001b[36m264\u001b[0m - \u001b[34m\u001b[1mWriting table 'tt_fields'\u001b[0m\n",
      "\u001b[32m2023-10-25 16:39:31.723\u001b[0m | \u001b[34m\u001b[1mDEBUG   \u001b[0m | \u001b[36mvasca.tables\u001b[0m:\u001b[36mwrite_to_fits\u001b[0m:\u001b[36m264\u001b[0m - \u001b[34m\u001b[1mWriting table 'tt_filters'\u001b[0m\n",
      "\u001b[32m2023-10-25 16:39:31.727\u001b[0m | \u001b[34m\u001b[1mDEBUG   \u001b[0m | \u001b[36mvasca.tables\u001b[0m:\u001b[36mwrite_to_fits\u001b[0m:\u001b[36m264\u001b[0m - \u001b[34m\u001b[1mWriting table 'tt_visits'\u001b[0m\n",
      "\u001b[32m2023-10-25 16:39:31.732\u001b[0m | \u001b[34m\u001b[1mDEBUG   \u001b[0m | \u001b[36mvasca.tables\u001b[0m:\u001b[36mwrite_to_fits\u001b[0m:\u001b[36m264\u001b[0m - \u001b[34m\u001b[1mWriting table 'tt_sources'\u001b[0m\n",
      "\u001b[32m2023-10-25 16:39:31.760\u001b[0m | \u001b[34m\u001b[1mDEBUG   \u001b[0m | \u001b[36mvasca.tables\u001b[0m:\u001b[36mwrite_to_fits\u001b[0m:\u001b[36m264\u001b[0m - \u001b[34m\u001b[1mWriting table 'tt_detections'\u001b[0m\n"
     ]
    },
    {
     "name": "stdout",
     "output_type": "stream",
     "text": [
      "rg_src_id 227\n",
      "ls_peak_power 0.20724782605017353\n",
      "ls_peak_freq 0.06355605783610711\n",
      "ls_peak_pval 1.6287164876490332e-09\n",
      "ls_pval_alt_flt 0.9954682742556383\n",
      "ls_model_rchiq 3.0704353476293504\n",
      "ls_model_pval 5.896341474136372e-53\n"
     ]
    },
    {
     "name": "stderr",
     "output_type": "stream",
     "text": [
      "\u001b[32m2023-10-25 16:39:31.895\u001b[0m | \u001b[34m\u001b[1mDEBUG   \u001b[0m | \u001b[36mvasca.tables\u001b[0m:\u001b[36mwrite_to_fits\u001b[0m:\u001b[36m264\u001b[0m - \u001b[34m\u001b[1mWriting table 'tt_coadd_detections'\u001b[0m\n",
      "\u001b[32m2023-10-25 16:39:32.318\u001b[0m | \u001b[34m\u001b[1mDEBUG   \u001b[0m | \u001b[36mvasca.tables\u001b[0m:\u001b[36mwrite_to_fits\u001b[0m:\u001b[36m264\u001b[0m - \u001b[34m\u001b[1mWriting table 'tt_coadd_sources'\u001b[0m\n",
      "\u001b[32m2023-10-25 16:39:32.337\u001b[0m | \u001b[34m\u001b[1mDEBUG   \u001b[0m | \u001b[36mvasca.tables\u001b[0m:\u001b[36mwrite_to_fits\u001b[0m:\u001b[36m264\u001b[0m - \u001b[34m\u001b[1mWriting table 'tt_src_id_map'\u001b[0m\n",
      "\u001b[32m2023-10-25 16:39:32.342\u001b[0m | \u001b[34m\u001b[1mDEBUG   \u001b[0m | \u001b[36mvasca.tables\u001b[0m:\u001b[36mwrite_to_fits\u001b[0m:\u001b[36m264\u001b[0m - \u001b[34m\u001b[1mWriting table 'tt_simbad'\u001b[0m\n",
      "WARNING: VerifyWarning: Keyword name 'description' is greater than 8 characters or contains characters not allowed by the FITS standard; a HIERARCH card will be created. [astropy.io.fits.card]\n",
      "\u001b[32m2023-10-25 16:39:32.387\u001b[0m | \u001b[34m\u001b[1mDEBUG   \u001b[0m | \u001b[36mvasca.tables\u001b[0m:\u001b[36mwrite_to_fits\u001b[0m:\u001b[36m264\u001b[0m - \u001b[34m\u001b[1mWriting table 'tt_gaiadr3'\u001b[0m\n",
      "WARNING: UnitsWarning: 'log(cm.s**-2)' did not parse as fits unit: 'log' is not a recognized function If this is meant to be a custom unit, define it with 'u.def_unit'. To have it recognized inside a file reader or other code, enable it with 'u.add_enabled_units'. For details, see https://docs.astropy.org/en/latest/units/combining_and_defining.html [astropy.units.core]\n",
      "\u001b[32m2023-10-25 16:39:32.536\u001b[0m | \u001b[34m\u001b[1mDEBUG   \u001b[0m | \u001b[36mvasca.tables\u001b[0m:\u001b[36mwrite_to_fits\u001b[0m:\u001b[36m264\u001b[0m - \u001b[34m\u001b[1mWriting table 'tt_lombscargle'\u001b[0m\n"
     ]
    },
    {
     "name": "stdout",
     "output_type": "stream",
     "text": [
      "Done\n"
     ]
    }
   ],
   "source": [
    "%matplotlib widget\n",
    "import ipywidgets as widgets\n",
    "from IPython.display import display\n",
    "import matplotlib.pyplot as plt\n",
    "import numpy as np\n",
    "\n",
    "from astropy.coordinates import SkyCoord\n",
    "from astropy.table import unique, Table, hstack, join, setdiff\n",
    "from astropy import units as uu\n",
    "from astroquery.simbad import Simbad\n",
    "from astropy.visualization import quantity_support\n",
    "from astropy.modeling.models import BlackBody\n",
    "from astropy import constants as cc\n",
    "from matplotlib.ticker import ScalarFormatter\n",
    "from astroquery.sdss import SDSS\n",
    "\n",
    "from vasca.region import Region\n",
    "from vasca.field import BaseField\n",
    "import vasca.visualization as vvis\n",
    "from vasca.tables import TableCollection, dd_vasca_columns\n",
    "from vasca.utils import otype2ogroup,dd_ogrp2otypes, dd_ogrp2col, dd_filter2wavelength, mag2flux, flux2mag, query_vizier_sed, add_ogrp\n",
    "\n",
    "from loguru import logger\n",
    "logger.enable(\"vasca\")\n",
    "\n",
    "# Do catalog file\n",
    "\n",
    "if do_cat:\n",
    "    rg = Region()\n",
    "    rg.load_from_fits(region_fname)\n",
    "    if redo_src_selection:\n",
    "        \n",
    "    \n",
    "    rc = rg.get_region_catalog()\n",
    "else:\n",
    "    rc = Region()\n",
    "    rc.load_from_fits(region_cat_fname)\n",
    "\n",
    "#Cross match to SIMBAD and GAIA\n",
    "if do_cross_match:\n",
    "    rc.cross_match_cds(query_table=\"simbad\")\n",
    "    rc.cross_match_cds()\n",
    "\n",
    "#Add variables\n",
    "if do_variable_addition:\n",
    "    rc.add_column(\"tt_gaiadr3\", \"Gmag_abs\")\n",
    "    sel_plx = rc.tt_gaiadr3[\"RPlx\"]>3\n",
    "    rc.tt_gaiadr3[\"Gmag_abs\"][sel_plx]=rc.tt_gaiadr3[\"Gmag\"][sel_plx] + 5.0 * np.log10(rc.tt_gaiadr3[\"Plx\"][sel_plx]) - 10.0\n",
    "\n",
    "    # Add object groups\n",
    "    add_ogrp(rc.tt_simbad)\n",
    "    add_ogrp(rc.tt_gaiadr3,provenance=\"GAIA\")\n",
    "\n",
    "if do_LombScargle:\n",
    "    rc.set_LombScargle()\n",
    "\n",
    "#Write out all changes to region\n",
    "rc.write_to_fits(region_cat_fname, overwrite=True)\n",
    "\n",
    "#Prepare sources, including Vizier SED.\n",
    "if do_src_prep:\n",
    "    for src_id in srcs_ids:\n",
    "        tc_src = rc.get_src_from_id(src_id, load_from_file = False)\n",
    "print(\"Done\")"
   ]
  },
  {
   "cell_type": "code",
   "execution_count": null,
   "id": "7b832742-bfb6-4650-a9f6-73c369a91b97",
   "metadata": {},
   "outputs": [],
   "source": []
  }
 ],
 "metadata": {
  "kernelspec": {
   "display_name": "Python 3 (ipykernel)",
   "language": "python",
   "name": "python3"
  },
  "language_info": {
   "codemirror_mode": {
    "name": "ipython",
    "version": 3
   },
   "file_extension": ".py",
   "mimetype": "text/x-python",
   "name": "python",
   "nbconvert_exporter": "python",
   "pygments_lexer": "ipython3",
   "version": "3.10.12"
  }
 },
 "nbformat": 4,
 "nbformat_minor": 5
}
