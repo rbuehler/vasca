{
 "cells": [
  {
   "cell_type": "markdown",
   "id": "5c54f82c-ed1a-4e48-a9ee-04c5a7caa7b4",
   "metadata": {},
   "source": [
    "# Reformat catalog for CDS upload\n",
    "Setup catalog info below"
   ]
  },
  {
   "cell_type": "code",
   "execution_count": 1,
   "id": "becb5045-960c-465d-8ba3-ca0697cf8fbf",
   "metadata": {},
   "outputs": [],
   "source": [
    "region_name = \"ALL_10-800\" #\"CAINGSGII_10-800\" #\"TDS\" #\"CAINGSGII_10-800\" #\"WD\" #\"MDIS_10-800\" #\"TDS\" #  _ELAISN1\n",
    "region_dir_name = \"./vasca_pipeline/\"+region_name+\"/\"\n",
    "region_cat_fname = region_dir_name+\"region_\"+region_name+\"_cat.fits\"\n",
    "print_latex = True\n",
    "tabnames_4CDS = [\"tt_sources\",\"tt_detections\",\"tt_fields\",\"tt_visits\", \"tt_coadd_sources\"] #,\"tt_filters\""
   ]
  },
  {
   "cell_type": "code",
   "execution_count": 2,
   "id": "4b5024aa-394b-41a8-a3bc-dedabf21f278",
   "metadata": {},
   "outputs": [
    {
     "name": "stderr",
     "output_type": "stream",
     "text": [
      "WARNING: UnitsWarning: 'log(cm.s**-2)' did not parse as fits unit: 'log' is not a recognized function If this is meant to be a custom unit, define it with 'u.def_unit'. To have it recognized inside a file reader or other code, enable it with 'u.add_enabled_units'. For details, see https://docs.astropy.org/en/latest/units/combining_and_defining.html [astropy.units.core]\n"
     ]
    }
   ],
   "source": [
    "%matplotlib widget\n",
    "import os\n",
    "import ipywidgets as widgets\n",
    "from IPython.display import display\n",
    "import matplotlib.pyplot as plt\n",
    "from scipy.stats import chi2\n",
    "\n",
    "from regions import CircleSkyRegion\n",
    "from astropy import units as uu\n",
    "from astropy.coordinates import SkyCoord\n",
    "from astropy.wcs.utils import pixel_to_skycoord\n",
    "from astropy.table import Table,Column\n",
    "import numpy as np\n",
    "from matplotlib.ticker import ScalarFormatter\n",
    "\n",
    "from vasca.region import Region\n",
    "from vasca.field import BaseField\n",
    "import vasca.visualization as vvis\n",
    "\n",
    "from vasca.utils import mag2flux, flux2mag, select_obs_filter,freq2period,period2freq,flux2mag_np,mag2flux_np, dd_filter2id,get_flat_table\n",
    "from vasca.tables_dict import dd_vasca_columns\n",
    "import cdspyreadme\n",
    "\n",
    "rc = Region()\n",
    "rc.load_from_fits(region_cat_fname)"
   ]
  },
  {
   "cell_type": "code",
   "execution_count": 3,
   "id": "c14e8ea8-d8d9-4db5-9a76-e84df533e8d3",
   "metadata": {},
   "outputs": [
    {
     "name": "stderr",
     "output_type": "stream",
     "text": [
      "WARNING: MergeConflictWarning: Cannot merge meta key 'NAME' types <class 'str'> and <class 'str'>, choosing NAME='tt_simbad' [astropy.utils.metadata]\n",
      "WARNING: MergeConflictWarning: Cannot merge meta key 'EXTNAME' types <class 'str'> and <class 'str'>, choosing EXTNAME='tt_simbad' [astropy.utils.metadata]\n",
      "WARNING: MergeConflictWarning: Cannot merge meta key 'NAME' types <class 'str'> and <class 'str'>, choosing NAME='tt_gaiadr3' [astropy.utils.metadata]\n",
      "WARNING: MergeConflictWarning: Cannot merge meta key 'EXTNAME' types <class 'str'> and <class 'str'>, choosing EXTNAME='tt_gaiadr3' [astropy.utils.metadata]\n",
      "WARNING: MergeConflictWarning: Cannot merge meta key 'NAME' types <class 'str'> and <class 'str'>, choosing NAME='tt_gaiaedr3_wd' [astropy.utils.metadata]\n",
      "WARNING: MergeConflictWarning: Cannot merge meta key 'EXTNAME' types <class 'str'> and <class 'str'>, choosing EXTNAME='tt_gaiaedr3_wd' [astropy.utils.metadata]\n",
      "WARNING: MergeConflictWarning: Cannot merge meta key 'NAME' types <class 'str'> and <class 'str'>, choosing NAME='tt_gfcat' [astropy.utils.metadata]\n",
      "WARNING: MergeConflictWarning: Cannot merge meta key 'EXTNAME' types <class 'str'> and <class 'str'>, choosing EXTNAME='tt_gfcat' [astropy.utils.metadata]\n",
      "WARNING: MergeConflictWarning: In merged column 'rg_src_id' the 'description' attribute does not match (Region source ID nr != Region source ID number).  Using Region source ID number for merged output [astropy.utils.metadata]\n",
      "WARNING: MergeConflictWarning: Cannot merge meta key 'INFO' types <class 'str'> and <class 'str'>, choosing INFO='LombScargle results information' [astropy.utils.metadata]\n",
      "WARNING: MergeConflictWarning: Cannot merge meta key 'EXTNAME' types <class 'str'> and <class 'str'>, choosing EXTNAME='tt_lombscargle' [astropy.utils.metadata]\n"
     ]
    },
    {
     "data": {
      "text/html": [
       "<div><i>Table length=4202</i>\n",
       "<table id=\"table130299855126336\" class=\"table-striped table-bordered table-condensed\">\n",
       "<thead><tr><th>fd_src_id</th><th>nr_det</th><th>ra</th><th>dec</th><th>pos_err</th><th>pos_xv</th><th>pos_var</th><th>pos_cpval</th><th>pos_rchiq</th><th>coadd_src_id</th><th>coadd_dist</th><th>obs_filter_id</th><th>sel</th><th>flux</th><th>flux_err</th><th>flux_nxv</th><th>flux_var</th><th>flux_cpval</th><th>flux_rchiq</th><th>coadd_ffactor</th><th>coadd_fdiff_s2n</th><th>rg_fd_id</th><th>rg_src_id</th><th>nr_fd_srcs</th><th>hr</th><th>hr_err</th><th>gfcat_dist</th><th>flux_ne</th><th>src_name</th><th>otype_simbad</th><th>ogrp_simbad</th><th>main_id_simbad</th><th>Source_gaiadr3</th><th>WDJname_gaiaedr3_wd</th><th>objid_gfcat</th><th>ls_peak_pval</th><th>ls_model_rchiq</th></tr></thead>\n",
       "<thead><tr><th></th><th></th><th>deg</th><th>deg</th><th>arcsec</th><th>arcsec2</th><th>arcsec2</th><th></th><th></th><th></th><th>arcsec</th><th></th><th></th><th>1e-06 Jy</th><th>1e-06 Jy</th><th></th><th>1e-12 Jy2</th><th></th><th></th><th></th><th></th><th></th><th></th><th></th><th></th><th></th><th>arcsec</th><th></th><th></th><th></th><th></th><th></th><th></th><th></th><th></th><th></th><th></th></tr></thead>\n",
       "<thead><tr><th>int32</th><th>int32[2]</th><th>float64</th><th>float64</th><th>float32</th><th>float32</th><th>float32</th><th>float32</th><th>float32</th><th>int64</th><th>float32</th><th>int32[2]</th><th>bool</th><th>float32[2]</th><th>float32[2]</th><th>float32[2]</th><th>float32[2]</th><th>float32[2]</th><th>float32[2]</th><th>float32[2]</th><th>float32[2]</th><th>int64</th><th>int32</th><th>int32</th><th>float32</th><th>float32</th><th>float32</th><th>float32[2]</th><th>bytes24</th><th>bytes32</th><th>bytes8</th><th>bytes32</th><th>bytes32</th><th>bytes32</th><th>bytes32</th><th>float32</th><th>float32</th></tr></thead>\n",
       "<tr><td>-1</td><td>47 .. 23</td><td>150.19490602211764</td><td>2.0679693223742093</td><td>0.4</td><td>-0.3145582</td><td>0.1782018</td><td>1.0</td><td>0.3056839</td><td>846948</td><td>0.21220322</td><td>1 .. 2</td><td>True</td><td>13.532883 .. 7.885985</td><td>0.12551127 .. 0.21120642</td><td>0.016849143 .. 0.049125932</td><td>4.0856714 .. 4.8104725</td><td>1.2275191e-28 .. 5.1074105e-15</td><td>5.287477 .. 5.337544</td><td>0.87979734 .. -100.0</td><td>-10.652894 .. -10000.0</td><td>-1</td><td>41</td><td>10</td><td>0.5638935</td><td>0.017211191</td><td>-1.0</td><td>0.12980425 .. 0.2216437</td><td>1UVA J100046.8+20404.7</td><td>Sy1</td><td>AGN</td><td>2XMM J100046.7+020404</td><td>3836069006998531584</td><td>none</td><td>none</td><td>0.0015057425</td><td>3.068476</td></tr>\n",
       "<tr><td>-1</td><td>52 .. 21</td><td>150.14575525319893</td><td>2.043119350119519</td><td>0.4</td><td>-0.4227665</td><td>0.21190573</td><td>0.9999997</td><td>0.35446438</td><td>60853</td><td>0.04379872</td><td>1 .. 2</td><td>True</td><td>9.605367 .. 3.214509</td><td>0.110952616 .. 0.14565498</td><td>0.03246673 .. 0.124309875</td><td>3.953956 .. 1.8266395</td><td>4.6e-44 .. 1.6166583e-10</td><td>6.637378 .. 4.4029164</td><td>0.9722032 .. -100.0</td><td>-1.9600928 .. -10000.0</td><td>-1</td><td>68</td><td>10</td><td>0.31352478</td><td>0.016040279</td><td>-1.0</td><td>0.18018526 .. 0.35257605</td><td>1UVA J100035.0+20235.2</td><td>QSO</td><td>AGN</td><td>[VV2006] J100034.9+020235</td><td>3836046123412862208</td><td>none</td><td>none</td><td>8.094213e-05</td><td>3.5829577</td></tr>\n",
       "<tr><td>-1</td><td>51 .. 15</td><td>150.1238162438856</td><td>2.3582791864775623</td><td>0.4</td><td>-0.4074375</td><td>0.34807077</td><td>0.9984573</td><td>0.4788965</td><td>60963</td><td>0.49892545</td><td>1 .. 2</td><td>True</td><td>4.74536 .. 2.0279975</td><td>0.09180167 .. 0.13630387</td><td>0.038752627 .. -0.020157373</td><td>1.3399466 .. 0.21601771</td><td>3.234778e-14 .. 0.7105721</td><td>3.301219 .. 0.76322645</td><td>1.0893145 .. 0.89833885</td><td>2.9820533 .. -1.0648746</td><td>-1</td><td>78</td><td>10</td><td>0.38465926</td><td>0.028614176</td><td>-1.0</td><td>0.19685687 .. --</td><td>1UVA J100029.7+22129.8</td><td>AGN</td><td>AGN</td><td>SDSS J100029.68+022129.7</td><td>none</td><td>none</td><td>none</td><td>4.0372954e-05</td><td>1.7101912</td></tr>\n",
       "<tr><td>-1</td><td>59 .. 30</td><td>150.10184338530402</td><td>2.1057012051197965</td><td>0.4</td><td>-0.17573585</td><td>0.5495302</td><td>0.9015797</td><td>0.68491304</td><td>5517</td><td>0.061854117</td><td>1 .. 2</td><td>True</td><td>9.296468 .. 2.951195</td><td>0.10489585 .. 0.11785795</td><td>0.013181753 .. -0.014853068</td><td>2.135304 .. 0.45649937</td><td>1.5528824e-10 .. 0.35459468</td><td>2.6424856 .. 1.0769472</td><td>0.9817608 .. 1.0610845</td><td>-1.2745699 .. 0.8033374</td><td>-1</td><td>87</td><td>10</td><td>0.3342513</td><td>0.01473882</td><td>-1.0</td><td>0.114811815 .. --</td><td>1UVA J100024.4+20620.5</td><td>QSO</td><td>AGN</td><td>[VV2006] J100024.5+020619</td><td>3836257710681556224</td><td>none</td><td>none</td><td>0.071036786</td><td>1.9897256</td></tr>\n",
       "<tr><td>-1</td><td>33 .. 16</td><td>149.99382518479524</td><td>2.2584836044357988</td><td>0.4</td><td>-0.17237434</td><td>0.7430915</td><td>0.5145142</td><td>0.8718875</td><td>61505</td><td>0.112886705</td><td>1 .. 2</td><td>True</td><td>6.3600893 .. 2.4594784</td><td>0.1326177 .. 0.1499497</td><td>0.06368081 .. 0.025650851</td><td>3.4215415 .. 0.567953</td><td>9.025521e-33 .. 0.022104042</td><td>7.345019 .. 1.8610328</td><td>1.0697773 .. -100.0</td><td>2.785847 .. -10000.0</td><td>-1</td><td>150</td><td>10</td><td>0.34056744</td><td>0.02542837</td><td>-1.0</td><td>0.25235057 .. 0.16015883</td><td>1UVA J95958.5+21530.5</td><td>GrG</td><td>Galaxy</td><td>[AFH2012] 303</td><td>none</td><td>none</td><td>none</td><td>7.0122894e-07</td><td>1.9957895</td></tr>\n",
       "<tr><td>-1</td><td>201 .. 52</td><td>215.0734704033208</td><td>52.492277018785515</td><td>0.4</td><td>-0.09417356</td><td>0.54168403</td><td>0.00097290607</td><td>0.8645891</td><td>3790</td><td>0.19789155</td><td>1 .. 2</td><td>True</td><td>6.860704 .. 2.5457907</td><td>0.04726609 .. 0.08709823</td><td>0.00837064 .. -0.029300157</td><td>0.8832056 .. 0.250831</td><td>4.5626e-14 .. 0.99937075</td><td>1.9360666 .. 0.48102832</td><td>0.97232914 .. 1.156314</td><td>-1.0173489 .. 1.489808</td><td>-1</td><td>299</td><td>8</td><td>0.38658655</td><td>0.015792036</td><td>-1.0</td><td>0.0914912 .. --</td><td>1UVA J142017.6+522932.2</td><td>none</td><td>none</td><td>none</td><td>none</td><td>none</td><td>none</td><td>8.5843355e-10</td><td>1.4640905</td></tr>\n",
       "<tr><td>...</td><td>...</td><td>...</td><td>...</td><td>...</td><td>...</td><td>...</td><td>...</td><td>...</td><td>...</td><td>...</td><td>...</td><td>...</td><td>...</td><td>...</td><td>...</td><td>...</td><td>...</td><td>...</td><td>...</td><td>...</td><td>...</td><td>...</td><td>...</td><td>...</td><td>...</td><td>...</td><td>...</td><td>...</td><td>...</td><td>...</td><td>...</td><td>...</td><td>...</td><td>...</td><td>...</td><td>...</td></tr>\n",
       "<tr><td>-1</td><td>9 .. -1</td><td>8.576005463576456</td><td>-41.87108750982818</td><td>0.4</td><td>0.0774381</td><td>0.3408768</td><td>0.041617773</td><td>1.3028445</td><td>-1</td><td>-1.0</td><td>1 .. 0</td><td>True</td><td>160.8345 .. -1.0</td><td>1.0324454 .. -1.0</td><td>0.0043238364 .. -100.0</td><td>132.57164 .. -1.0</td><td>3.9147817e-25 .. -1.0</td><td>16.767597 .. -1.0</td><td>-100.0 .. -100.0</td><td>-10000.0 .. -10000.0</td><td>-1</td><td>1942335</td><td>1</td><td>-1.0</td><td>-1.0</td><td>-1.0</td><td>0.06575588 .. --</td><td>1UVA J03418.2-415215.9</td><td>LP?</td><td>Star</td><td>DENIS J003418.3-415216</td><td>4993174329442926080</td><td>none</td><td>none</td><td>-1.0</td><td>-1.0</td></tr>\n",
       "<tr><td>-1</td><td>8 .. -1</td><td>8.00795512738832</td><td>-44.35310080524897</td><td>0.4</td><td>-0.1968871</td><td>0.15267819</td><td>0.76291376</td><td>0.42644975</td><td>-1</td><td>-1.0</td><td>1 .. 0</td><td>True</td><td>24.029562 .. -1.0</td><td>0.43581063 .. -1.0</td><td>0.10303849 .. -100.0</td><td>61.627075 .. -1.0</td><td>0.0 .. -1.0</td><td>39.316082 .. -1.0</td><td>-100.0 .. -100.0</td><td>-10000.0 .. -10000.0</td><td>-1</td><td>1947476</td><td>1</td><td>-1.0</td><td>-1.0</td><td>-1.0</td><td>0.32099608 .. --</td><td>1UVA J03201.9-442111.2</td><td>RR*</td><td>Star</td><td>DES J003201.93-442110.9</td><td>4980310696233451136</td><td>none</td><td>none</td><td>-1.0</td><td>-1.0</td></tr>\n",
       "<tr><td>-1</td><td>4 .. -1</td><td>6.476485133811305</td><td>-71.64575935955612</td><td>0.42254618</td><td>0.5118115</td><td>1.35829</td><td>0.046909314</td><td>1.4828753</td><td>-1</td><td>-1.0</td><td>1 .. 0</td><td>True</td><td>3.6794333 .. -1.0</td><td>0.3212436 .. -1.0</td><td>0.4325275 .. -100.0</td><td>6.3018556 .. -1.0</td><td>1.9788551e-10 .. -1.0</td><td>16.049904 .. -1.0</td><td>-100.0 .. -100.0</td><td>-10000.0 .. -10000.0</td><td>-1</td><td>1962250</td><td>1</td><td>-1.0</td><td>-1.0</td><td>-1.0</td><td>0.65766823 .. --</td><td>1UVA J02554.4-713844.7</td><td>RR*</td><td>Star</td><td>OGLE SMC706.04.008128</td><td>4689844974288765568</td><td>none</td><td>none</td><td>-1.0</td><td>-1.0</td></tr>\n",
       "<tr><td>-1</td><td>-1 .. 35</td><td>4.986356856543351</td><td>17.07798969502485</td><td>0.4</td><td>-0.23993886</td><td>0.09938809</td><td>0.9998248</td><td>0.29573542</td><td>-1</td><td>-1.0</td><td>0 .. 2</td><td>True</td><td>-1.0 .. 22.009468</td><td>-1.0 .. 0.24610455</td><td>-100.0 .. 0.012089223</td><td>-1.0 .. 8.177225</td><td>-1.0 .. 8.367799e-09</td><td>-1.0 .. 3.0169737</td><td>-100.0 .. -100.0</td><td>-10000.0 .. -10000.0</td><td>-1</td><td>1976961</td><td>1</td><td>-1.0</td><td>-1.0</td><td>-1.0</td><td>-- .. 0.109951004</td><td>1UVA J01956.7+170440.8</td><td>*</td><td>Star</td><td>BD+16    20</td><td>2793606540757272064</td><td>none</td><td>none</td><td>-1.0</td><td>-1.0</td></tr>\n",
       "<tr><td>-1</td><td>-1 .. 35</td><td>4.3431712518332235</td><td>16.510496457062175</td><td>0.4</td><td>-0.12631029</td><td>0.22547589</td><td>0.7858811</td><td>0.6772995</td><td>-1</td><td>-1.0</td><td>0 .. 2</td><td>True</td><td>-1.0 .. 22.426191</td><td>-1.0 .. 0.25228256</td><td>-100.0 .. 0.18022093</td><td>-1.0 .. 93.12515</td><td>-1.0 .. 0.0</td><td>-1.0 .. 15.965855</td><td>-100.0 .. -100.0</td><td>-10000.0 .. -10000.0</td><td>-1</td><td>1983574</td><td>1</td><td>-1.0</td><td>-1.0</td><td>-1.0</td><td>-- .. 0.42452437</td><td>1UVA J01722.4+163037.8</td><td>*</td><td>Star</td><td>HD   1309</td><td>2793466456104092288</td><td>none</td><td>none</td><td>-1.0</td><td>-1.0</td></tr>\n",
       "<tr><td>-1</td><td>11 .. -1</td><td>0.7911487735767304</td><td>-43.05375971539038</td><td>0.4</td><td>-0.13646068</td><td>0.33245295</td><td>0.31256503</td><td>0.69500095</td><td>1271699</td><td>0.05486636</td><td>1 .. 0</td><td>True</td><td>8.719524 .. -1.0</td><td>0.21298043 .. -1.0</td><td>0.032380402 .. -100.0</td><td>3.0160825 .. -1.0</td><td>5.4765827e-09 .. -1.0</td><td>5.9051433 .. -1.0</td><td>0.97411466 .. 1.0</td><td>-0.7933482 .. 0.0</td><td>-1</td><td>1987789</td><td>1</td><td>-1.0</td><td>-1.0</td><td>-1.0</td><td>0.17994556 .. --</td><td>1UVA J00309.9-430313.5</td><td>RR*</td><td>Star</td><td>DES J000309.84-430313.4</td><td>4994901245597961216</td><td>none</td><td>none</td><td>-1.0</td><td>-1.0</td></tr>\n",
       "</table></div>"
      ],
      "text/plain": [
       "<Table length=4202>\n",
       "fd_src_id   nr_det          ra         ...  ls_peak_pval ls_model_rchiq\n",
       "                           deg         ...                             \n",
       "  int32    int32[2]      float64       ...    float32       float32    \n",
       "--------- --------- ------------------ ... ------------- --------------\n",
       "       -1  47 .. 23 150.19490602211764 ...  0.0015057425       3.068476\n",
       "       -1  52 .. 21 150.14575525319893 ...  8.094213e-05      3.5829577\n",
       "       -1  51 .. 15  150.1238162438856 ... 4.0372954e-05      1.7101912\n",
       "       -1  59 .. 30 150.10184338530402 ...   0.071036786      1.9897256\n",
       "       -1  33 .. 16 149.99382518479524 ... 7.0122894e-07      1.9957895\n",
       "       -1 201 .. 52  215.0734704033208 ... 8.5843355e-10      1.4640905\n",
       "      ...       ...                ... ...           ...            ...\n",
       "       -1   9 .. -1  8.576005463576456 ...          -1.0           -1.0\n",
       "       -1   8 .. -1   8.00795512738832 ...          -1.0           -1.0\n",
       "       -1   4 .. -1  6.476485133811305 ...          -1.0           -1.0\n",
       "       -1  -1 .. 35  4.986356856543351 ...          -1.0           -1.0\n",
       "       -1  -1 .. 35 4.3431712518332235 ...          -1.0           -1.0\n",
       "       -1  11 .. -1 0.7911487735767304 ...          -1.0           -1.0"
      ]
     },
     "metadata": {},
     "output_type": "display_data"
    },
    {
     "data": {
      "text/html": [
       "<div><i>Table length=133058</i>\n",
       "<table id=\"table130299853998736\" class=\"table-striped table-bordered table-condensed\">\n",
       "<thead><tr><th>vis_id</th><th>fd_src_id</th><th>ra</th><th>dec</th><th>pos_err</th><th>flux</th><th>flux_err</th><th>flux_app_ratio</th><th>s2n</th><th>sel</th><th>r_fov</th><th>artifacts</th><th>class_star</th><th>chkobj_type</th><th>size_world</th><th>ellip_world</th><th>flux_auto</th><th>flux_auto_err</th><th>rg_fd_id</th><th>rg_src_id</th><th>obs_filter</th></tr></thead>\n",
       "<thead><tr><th></th><th></th><th>deg</th><th>deg</th><th>arcsec</th><th>1e-06 Jy</th><th>1e-06 Jy</th><th></th><th></th><th></th><th>deg</th><th></th><th></th><th></th><th>arcsec</th><th></th><th>Jy</th><th>Jy</th><th></th><th></th><th></th></tr></thead>\n",
       "<thead><tr><th>uint64</th><th>int32</th><th>float64</th><th>float64</th><th>float32</th><th>float32</th><th>float32</th><th>float32</th><th>float32</th><th>bool</th><th>float32</th><th>int64</th><th>float32</th><th>int32</th><th>float32</th><th>float32</th><th>float32</th><th>float32</th><th>int64</th><th>int32</th><th>bytes8</th></tr></thead>\n",
       "<tr><td>2518745845218672640</td><td>200</td><td>53.413730851927276</td><td>-28.289945007098186</td><td>0.62011015</td><td>27.90702</td><td>1.1415521</td><td>0.70133233</td><td>21.760221</td><td>True</td><td>0.4971887</td><td>1</td><td>0.97624475</td><td>0</td><td>3.9381106</td><td>0.22328553</td><td>30.128954</td><td>1.3845885</td><td>3</td><td>22515</td><td>NUV</td></tr>\n",
       "<tr><td>2518745845218672640</td><td>624</td><td>53.30202025247929</td><td>-28.194783952584167</td><td>0.6614574</td><td>8.241435</td><td>0.7498808</td><td>0.87157047</td><td>9.216578</td><td>True</td><td>0.36643726</td><td>0</td><td>0.9832993</td><td>0</td><td>2.5385818</td><td>0.16107683</td><td>7.507178</td><td>0.8145299</td><td>3</td><td>65533</td><td>NUV</td></tr>\n",
       "<tr><td>2518745845218672640</td><td>1466</td><td>53.18392394791309</td><td>-28.174699527742074</td><td>0.619121</td><td>14.75565</td><td>0.90745723</td><td>0.7960999</td><td>14.253685</td><td>True</td><td>0.31483153</td><td>0</td><td>0.98376745</td><td>0</td><td>2.7928307</td><td>0.18637805</td><td>14.172639</td><td>0.994314</td><td>3</td><td>23009</td><td>NUV</td></tr>\n",
       "<tr><td>2518745845218672640</td><td>639</td><td>53.27820706401691</td><td>-28.15385639959932</td><td>0.94363064</td><td>2.9380674</td><td>0.59172744</td><td>0.7092295</td><td>3.5465844</td><td>True</td><td>0.3204557</td><td>0</td><td>0.9777641</td><td>0</td><td>2.5331943</td><td>0.2802301</td><td>2.4617727</td><td>0.694125</td><td>3</td><td>295247</td><td>NUV</td></tr>\n",
       "<tr><td>2518745845218672640</td><td>696</td><td>53.12523217992214</td><td>-28.13408186751818</td><td>0.86808515</td><td>3.4921951</td><td>0.63950026</td><td>0.65538746</td><td>4.745185</td><td>True</td><td>0.26941594</td><td>0</td><td>0.25050837</td><td>0</td><td>3.1413975</td><td>0.42950013</td><td>4.1479063</td><td>0.8741296</td><td>3</td><td>66137</td><td>NUV</td></tr>\n",
       "<tr><td>2518745845218672640</td><td>4551</td><td>53.0846557118251</td><td>-28.03755668843335</td><td>0.70581585</td><td>5.055414</td><td>0.67544055</td><td>0.8214941</td><td>6.616273</td><td>True</td><td>0.17595807</td><td>0</td><td>0.9826577</td><td>0</td><td>2.3506565</td><td>0.058262195</td><td>4.8502007</td><td>0.73307145</td><td>3</td><td>66285</td><td>NUV</td></tr>\n",
       "<tr><td>...</td><td>...</td><td>...</td><td>...</td><td>...</td><td>...</td><td>...</td><td>...</td><td>...</td><td>...</td><td>...</td><td>...</td><td>...</td><td>...</td><td>...</td><td>...</td><td>...</td><td>...</td><td>...</td><td>...</td><td>...</td></tr>\n",
       "<tr><td>3386709119003000832</td><td>449</td><td>344.23127374112613</td><td>0.42879995171220786</td><td>0.731752</td><td>12.103431</td><td>1.53426</td><td>0.75102186</td><td>7.671765</td><td>True</td><td>0.39218503</td><td>0</td><td>0.8984503</td><td>0</td><td>2.6420417</td><td>0.09115885</td><td>11.238172</td><td>1.4648744</td><td>659</td><td>88343</td><td>FUV</td></tr>\n",
       "<tr><td>3386709119003000832</td><td>10</td><td>344.83069862357246</td><td>0.4681577973476666</td><td>0.7459656</td><td>9.357024</td><td>1.5294656</td><td>0.80624187</td><td>5.8231306</td><td>True</td><td>0.44149047</td><td>0</td><td>0.9827231</td><td>0</td><td>2.2632453</td><td>0.04394787</td><td>8.181391</td><td>1.4049815</td><td>659</td><td>87371</td><td>FUV</td></tr>\n",
       "<tr><td>3386709119036555264</td><td>13</td><td>344.8256935287942</td><td>-0.019821013830112505</td><td>0.65234494</td><td>11.608826</td><td>1.0458748</td><td>0.89259547</td><td>11.245969</td><td>True</td><td>0.3433099</td><td>0</td><td>0.98413074</td><td>0</td><td>2.6429875</td><td>0.2256649</td><td>12.024248</td><td>1.0692052</td><td>659</td><td>87380</td><td>FUV</td></tr>\n",
       "<tr><td>3386709119036555264</td><td>137</td><td>344.84401803584456</td><td>0.256080293869545</td><td>0.79379797</td><td>2.815017</td><td>0.6469499</td><td>1.0265785</td><td>4.0787764</td><td>True</td><td>0.33259824</td><td>0</td><td>0.9815438</td><td>0</td><td>1.8362231</td><td>0.05176178</td><td>2.4344308</td><td>0.5968532</td><td>659</td><td>87349</td><td>FUV</td></tr>\n",
       "<tr><td>3386709119036555264</td><td>10</td><td>344.8304973134365</td><td>0.46847012739050964</td><td>0.65330213</td><td>10.801708</td><td>1.1188477</td><td>0.8277148</td><td>9.387816</td><td>True</td><td>0.43748188</td><td>0</td><td>0.9835256</td><td>0</td><td>2.494753</td><td>0.05975749</td><td>10.399615</td><td>1.1077778</td><td>659</td><td>87371</td><td>FUV</td></tr>\n",
       "<tr><td>3386709119036555264</td><td>152</td><td>344.7619651490339</td><td>0.545484950363072</td><td>0.94896126</td><td>2.5997505</td><td>0.70635456</td><td>0.8391396</td><td>3.6444414</td><td>True</td><td>0.45791695</td><td>0</td><td>0.96540195</td><td>0</td><td>1.882979</td><td>0.18289447</td><td>3.3048594</td><td>0.90682197</td><td>659</td><td>87489</td><td>FUV</td></tr>\n",
       "</table></div>"
      ],
      "text/plain": [
       "<Table length=133058>\n",
       "       vis_id       fd_src_id         ra         ... rg_src_id obs_filter\n",
       "                                     deg         ...                     \n",
       "       uint64         int32        float64       ...   int32     bytes8  \n",
       "------------------- --------- ------------------ ... --------- ----------\n",
       "2518745845218672640       200 53.413730851927276 ...     22515        NUV\n",
       "2518745845218672640       624  53.30202025247929 ...     65533        NUV\n",
       "2518745845218672640      1466  53.18392394791309 ...     23009        NUV\n",
       "2518745845218672640       639  53.27820706401691 ...    295247        NUV\n",
       "2518745845218672640       696  53.12523217992214 ...     66137        NUV\n",
       "2518745845218672640      4551   53.0846557118251 ...     66285        NUV\n",
       "                ...       ...                ... ...       ...        ...\n",
       "3386709119003000832       449 344.23127374112613 ...     88343        FUV\n",
       "3386709119003000832        10 344.83069862357246 ...     87371        FUV\n",
       "3386709119036555264        13  344.8256935287942 ...     87380        FUV\n",
       "3386709119036555264       137 344.84401803584456 ...     87349        FUV\n",
       "3386709119036555264        10  344.8304973134365 ...     87371        FUV\n",
       "3386709119036555264       152  344.7619651490339 ...     87489        FUV"
      ]
     },
     "metadata": {},
     "output_type": "display_data"
    }
   ],
   "source": [
    "#Add Object group to source table\n",
    "rc.copy_table_columns(\"tt_sources\",\"tt_simbad\",[\"otype\",\"ogrp\", \"main_id\"],\"simbad_match_id\")\n",
    "#rc.tt_sources.rename_column(\"match_distance\",\"match_distance_simbad\"),\"match_distance\"\n",
    "rc.tt_sources.rename_column(\"ogrp\",\"ogrp_simbad\")\n",
    "rc.tt_sources.rename_column(\"otype\",\"otype_simbad\")\n",
    "rc.tt_sources.rename_column(\"main_id\",\"main_id_simbad\")\n",
    "\n",
    "copy_cols = [\"Source\"] #,,\"Plx_dist\",\"AG\",\"RPlx\", ,\"AG\",,\"RPlx\",,\"Plx\"   ,\"BP-RP\",\"Gmag_abs\"\n",
    "rc.copy_table_columns(\"tt_sources\",\"tt_gaiadr3\",copy_cols,\"gaiadr3_match_id\")\n",
    "for col in copy_cols:\n",
    "    rc.tt_sources.rename_column(col,col+\"_gaiadr3\")\n",
    "\n",
    "rc.copy_table_columns(\"tt_sources\",\"tt_gaiaedr3_wd\",[\"WDJname\"],\"gaiaedr3_wd_match_id\") # ,\"Pwd\"\n",
    "rc.tt_sources.rename_column(\"WDJname\",\"WDJname_gaiaedr3_wd\")\n",
    "#rc.tt_sources.rename_column(\"Pwd\",\"Pwd_gaiaedr3_wd\")\n",
    "\n",
    "rc.copy_table_columns(\"tt_sources\",\"tt_gfcat\",[\"gfcat_objid\"],\"gfcat_src_id\")\n",
    "rc.tt_sources.rename_column(\"gfcat_objid\",\"objid_gfcat\")\n",
    "\n",
    "rc.tt_sources.remove_columns([\"gaiaedr3_wd_match_id\",\"simbad_match_id\",\"gaiadr3_match_id\",\"gfcat_src_id\"]) \n",
    "\n",
    "rc.copy_table_columns(\"tt_sources\",\"tt_lombscargle\",[\"ls_peak_pval\", \"ls_model_rchiq\"],\"rg_src_id\")\n",
    "\n",
    "# Add minimum position error of 0.4 arc sec for systematics\n",
    "rc.tt_sources[\"pos_err\"][rc.tt_sources[\"pos_err\"]<0.4]=0.4\n",
    "display(rc.tt_sources)\n",
    "\n",
    "# Add filter to tt_detections\n",
    "rc.add_column(\"tt_detections\", \"obs_filter\", col_data=None)\n",
    "rc.tt_detections[\"obs_filter\"][rc.tt_detections[\"obs_filter_id\"]==1]=\"NUV\"\n",
    "rc.tt_detections[\"obs_filter\"][rc.tt_detections[\"obs_filter_id\"]==2]=\"FUV\"\n",
    "rc.tt_detections.remove_column(\"obs_filter_id\")\n",
    "display(rc.tt_detections)"
   ]
  },
  {
   "cell_type": "markdown",
   "id": "e6b6e359-413d-4b0c-8432-adb72223354c",
   "metadata": {},
   "source": [
    "### Print out LATEX for paper tables"
   ]
  },
  {
   "cell_type": "code",
   "execution_count": 4,
   "id": "a327f7ec-2c58-44c9-b442-c8b576235408",
   "metadata": {},
   "outputs": [
    {
     "name": "stdout",
     "output_type": "stream",
     "text": [
      "SOURCES &  \\\\\n",
      "DETECTIONS &  \\\\\n",
      "FIELDS &  \\\\\n",
      "VISITS &  \\\\\n",
      "COADD\\_SOURCES &  \\\\\n",
      "\n",
      "\n",
      "SRC\\_NAME & VASCA catalog source name &  \\\\\n",
      "NR\\_DET & Number of detections &  \\\\\n",
      "RA & Sky coordinate Right Ascension (J2000) & degree \\\\\n",
      "DEC & Sky coordinate Declination (J2000) & degree \\\\\n",
      "POS\\_ERR & Sky coordinate position error & arcsec \\\\\n",
      "POS\\_XV & Sky position excess variance & arcsec2 \\\\\n",
      "POS\\_VAR & Sky position variance & arcsec2 \\\\\n",
      "POS\\_CPVAL & Sky position quality &  \\\\\n",
      "POS\\_RCHIQ & Sky position reduced chisquared of the constant mean &  \\\\\n",
      "FLUX & Flux density & e-6Jy \\\\\n",
      "FLUX\\_ERR & Flux density error & e-6Jy \\\\\n",
      "FLUX\\_NXV & Flux normalized excess variance &  \\\\\n",
      "FLUX\\_VAR & Flux variance & e-2Jy2 \\\\\n",
      "FLUX\\_CPVAL & Probability value for a constant flux from the chisquare test &  \\\\\n",
      "FLUX\\_RCHIQ & Flux reduced chisquared of the constant mean &  \\\\\n",
      "COADD\\_FFACTOR & Source flux divided by flux of the associated co-add source &  \\\\\n",
      "COADD\\_FDIFF\\_S2N & Signal to noise of the flux difference &  \\\\\n",
      "RG\\_SRC\\_ID & Region source ID number &  \\\\\n",
      "NR\\_FD\\_SRCS & Number of field sources &  \\\\\n",
      "HR & Flux hardness ratio, only simultaneous detections considered &  \\\\\n",
      "HR\\_ERR & Flux hardness ratio error &  \\\\\n",
      "OGRP\\_SIMBAD & SIMBAD source type group in VASCA &  \\\\\n",
      "OTYPE\\_SIMBAD & SIMBAD source type &  \\\\\n",
      "MAIN\\_ID\\_SIMBAD & SIMBAD main ID &  \\\\\n",
      "SOURCE\\_GAIADR3 & GAIA DR3 source ID &  \\\\\n",
      "WDJNAME\\_GAIAEDR3\\_WD & GAIA-EDR3-WD object name &  \\\\\n",
      "OBJID\\_GFCAT & GFCAT object ID &  \\\\\n",
      "LS\\_PEAK\\_PVAL & LombScargle power probability value &  \\\\\n",
      "LS\\_PEAK\\_FREQ & LombScargle peak frequency & /d \\\\\n"
     ]
    }
   ],
   "source": [
    "#Latex table names print out and tt_sources  columns\n",
    "if print_latex:\n",
    "    for tabname in tabnames_4CDS:\n",
    "        new_tab_name = tabname.replace(\"tt_\",\"\").upper()\n",
    "        print(new_tab_name.replace(\"_\",\"\\_\"), \"&  \\\\\\\\\")\n",
    "    \n",
    "    cat_cols = ['src_name','nr_det', 'ra', 'dec', 'pos_err', 'pos_xv', 'pos_var', 'pos_cpval', 'pos_rchiq',\n",
    "                'flux', 'flux_err', 'flux_nxv', 'flux_var', 'flux_cpval', 'flux_rchiq', 'coadd_ffactor', 'coadd_fdiff_s2n',\n",
    "                'rg_src_id', 'nr_fd_srcs', 'hr', 'hr_err',\"ogrp_simbad\",\"otype_simbad\",\"main_id_simbad\",\"Source_gaiadr3\",\"WDJname_gaiaedr3_wd\",\"objid_gfcat\",\"ls_peak_pval\", \"ls_peak_freq\"]\n",
    "    print(\"\\n\")\n",
    "    for col in cat_cols:\n",
    "        icol = dd_vasca_columns[col.replace(\"_simbad\",\"\").replace(\"_gaiadr3\",\"\").replace(\"_gaiaedr3_wd\",\"\").replace(\"objid_gfcat\",\"gfcat_objid\")]\n",
    "        print(col.replace(\"_\",\"\\_\").upper(),\"&\",icol[\"description\"],\"&\",icol[\"unit\"].replace(\"1\",\"\"), \"\\\\\\\\\")"
   ]
  },
  {
   "cell_type": "markdown",
   "id": "b652b594-a309-4607-9ba1-6ba7ea739b99",
   "metadata": {},
   "source": [
    "### Rename table columns, remove unwanted columns and store into CDS table"
   ]
  },
  {
   "cell_type": "code",
   "execution_count": 5,
   "id": "f6b82b09-9aef-4d90-a0e9-9420a37138e7",
   "metadata": {
    "scrolled": true
   },
   "outputs": [
    {
     "name": "stdout",
     "output_type": "stream",
     "text": [
      "tt_sources\n"
     ]
    },
    {
     "data": {
      "text/html": [
       "<div><i>Table length=4202</i>\n",
       "<table id=\"table130299747722400\" class=\"table-striped table-bordered table-condensed\">\n",
       "<thead><tr><th>RAJ2000</th><th>DECJ2000</th><th>POS_ERR</th><th>POS_XV</th><th>POS_VAR</th><th>POS_CPVAL</th><th>POS_RCHIQ</th><th>COADD_SRC_ID</th><th>RG_SRC_ID</th><th>NR_FD_SRCS</th><th>HR</th><th>HR_ERR</th><th>SRC_NAME</th><th>OTYPE_SIMBAD</th><th>OGRP_SIMBAD</th><th>MAIN_ID_SIMBAD</th><th>SOURCE_GAIADR3</th><th>WDJNAME_GAIAEDR3_WD</th><th>OBJID_GFCAT</th><th>LS_PEAK_PVAL</th><th>LS_MODEL_RCHIQ</th><th>NR_DET_NUV</th><th>NR_DET_FUV</th><th>OBS_FILTER_ID_NUV</th><th>FLUX_NUV</th><th>FLUX_FUV</th><th>FLUX_ERR_NUV</th><th>FLUX_ERR_FUV</th><th>FLUX_NXV_NUV</th><th>FLUX_NXV_FUV</th><th>FLUX_VAR_NUV</th><th>FLUX_VAR_FUV</th><th>FLUX_CPVAL_NUV</th><th>FLUX_CPVAL_FUV</th><th>FLUX_RCHIQ_NUV</th><th>FLUX_RCHIQ_FUV</th><th>COADD_FFACTOR_NUV</th><th>COADD_FFACTOR_FUV</th><th>COADD_FDIFF_S2N_NUV</th><th>COADD_FDIFF_S2N_FUV</th><th>FLUX_NE_NUV</th><th>FLUX_NE_FUV</th></tr></thead>\n",
       "<thead><tr><th>deg</th><th>deg</th><th>arcsec</th><th>arcsec2</th><th>arcsec2</th><th></th><th></th><th></th><th></th><th></th><th></th><th></th><th></th><th></th><th></th><th></th><th></th><th></th><th></th><th></th><th></th><th></th><th></th><th></th><th>1e-06 Jy</th><th>1e-06 Jy</th><th>1e-06 Jy</th><th>1e-06 Jy</th><th></th><th></th><th>1e-12 Jy2</th><th>1e-12 Jy2</th><th></th><th></th><th></th><th></th><th></th><th></th><th></th><th></th><th></th><th></th></tr></thead>\n",
       "<thead><tr><th>float64</th><th>float64</th><th>float32</th><th>float32</th><th>float32</th><th>float32</th><th>float32</th><th>int64</th><th>int32</th><th>int32</th><th>float32</th><th>float32</th><th>bytes24</th><th>bytes32</th><th>bytes8</th><th>bytes32</th><th>bytes32</th><th>bytes32</th><th>bytes32</th><th>float32</th><th>float32</th><th>int32</th><th>int32</th><th>int32</th><th>float32</th><th>float32</th><th>float32</th><th>float32</th><th>float32</th><th>float32</th><th>float32</th><th>float32</th><th>float32</th><th>float32</th><th>float32</th><th>float32</th><th>float32</th><th>float32</th><th>float32</th><th>float32</th><th>float32</th><th>float32</th></tr></thead>\n",
       "<tr><td>150.19490602211764</td><td>2.0679693223742093</td><td>0.4</td><td>-0.3145582</td><td>0.1782018</td><td>1.0</td><td>0.3056839</td><td>846948</td><td>41</td><td>10</td><td>0.5638935</td><td>0.017211191</td><td>1UVA J100046.8+20404.7</td><td>Sy1</td><td>AGN</td><td>2XMM J100046.7+020404</td><td>3836069006998531584</td><td>none</td><td>none</td><td>0.0015057425</td><td>3.068476</td><td>47</td><td>23</td><td>1</td><td>13.532883</td><td>7.885985</td><td>0.12551127</td><td>0.21120642</td><td>0.016849143</td><td>0.049125932</td><td>4.0856714</td><td>4.8104725</td><td>1.2275191e-28</td><td>5.1074105e-15</td><td>5.287477</td><td>5.337544</td><td>0.87979734</td><td>-100.0</td><td>-10.652894</td><td>-10000.0</td><td>0.12980425</td><td>0.2216437</td></tr>\n",
       "<tr><td>150.14575525319893</td><td>2.043119350119519</td><td>0.4</td><td>-0.4227665</td><td>0.21190573</td><td>0.9999997</td><td>0.35446438</td><td>60853</td><td>68</td><td>10</td><td>0.31352478</td><td>0.016040279</td><td>1UVA J100035.0+20235.2</td><td>QSO</td><td>AGN</td><td>[VV2006] J100034.9+020235</td><td>3836046123412862208</td><td>none</td><td>none</td><td>8.094213e-05</td><td>3.5829577</td><td>52</td><td>21</td><td>1</td><td>9.605367</td><td>3.214509</td><td>0.110952616</td><td>0.14565498</td><td>0.03246673</td><td>0.124309875</td><td>3.953956</td><td>1.8266395</td><td>4.6e-44</td><td>1.6166583e-10</td><td>6.637378</td><td>4.4029164</td><td>0.9722032</td><td>-100.0</td><td>-1.9600928</td><td>-10000.0</td><td>0.18018526</td><td>0.35257605</td></tr>\n",
       "<tr><td>150.1238162438856</td><td>2.3582791864775623</td><td>0.4</td><td>-0.4074375</td><td>0.34807077</td><td>0.9984573</td><td>0.4788965</td><td>60963</td><td>78</td><td>10</td><td>0.38465926</td><td>0.028614176</td><td>1UVA J100029.7+22129.8</td><td>AGN</td><td>AGN</td><td>SDSS J100029.68+022129.7</td><td>none</td><td>none</td><td>none</td><td>4.0372954e-05</td><td>1.7101912</td><td>51</td><td>15</td><td>1</td><td>4.74536</td><td>2.0279975</td><td>0.09180167</td><td>0.13630387</td><td>0.038752627</td><td>-0.020157373</td><td>1.3399466</td><td>0.21601771</td><td>3.234778e-14</td><td>0.7105721</td><td>3.301219</td><td>0.76322645</td><td>1.0893145</td><td>0.89833885</td><td>2.9820533</td><td>-1.0648746</td><td>0.19685687</td><td>nan</td></tr>\n",
       "<tr><td>150.10184338530402</td><td>2.1057012051197965</td><td>0.4</td><td>-0.17573585</td><td>0.5495302</td><td>0.9015797</td><td>0.68491304</td><td>5517</td><td>87</td><td>10</td><td>0.3342513</td><td>0.01473882</td><td>1UVA J100024.4+20620.5</td><td>QSO</td><td>AGN</td><td>[VV2006] J100024.5+020619</td><td>3836257710681556224</td><td>none</td><td>none</td><td>0.071036786</td><td>1.9897256</td><td>59</td><td>30</td><td>1</td><td>9.296468</td><td>2.951195</td><td>0.10489585</td><td>0.11785795</td><td>0.013181753</td><td>-0.014853068</td><td>2.135304</td><td>0.45649937</td><td>1.5528824e-10</td><td>0.35459468</td><td>2.6424856</td><td>1.0769472</td><td>0.9817608</td><td>1.0610845</td><td>-1.2745699</td><td>0.8033374</td><td>0.114811815</td><td>nan</td></tr>\n",
       "<tr><td>149.99382518479524</td><td>2.2584836044357988</td><td>0.4</td><td>-0.17237434</td><td>0.7430915</td><td>0.5145142</td><td>0.8718875</td><td>61505</td><td>150</td><td>10</td><td>0.34056744</td><td>0.02542837</td><td>1UVA J95958.5+21530.5</td><td>GrG</td><td>Galaxy</td><td>[AFH2012] 303</td><td>none</td><td>none</td><td>none</td><td>7.0122894e-07</td><td>1.9957895</td><td>33</td><td>16</td><td>1</td><td>6.3600893</td><td>2.4594784</td><td>0.1326177</td><td>0.1499497</td><td>0.06368081</td><td>0.025650851</td><td>3.4215415</td><td>0.567953</td><td>9.025521e-33</td><td>0.022104042</td><td>7.345019</td><td>1.8610328</td><td>1.0697773</td><td>-100.0</td><td>2.785847</td><td>-10000.0</td><td>0.25235057</td><td>0.16015883</td></tr>\n",
       "<tr><td>215.0734704033208</td><td>52.492277018785515</td><td>0.4</td><td>-0.09417356</td><td>0.54168403</td><td>0.00097290607</td><td>0.8645891</td><td>3790</td><td>299</td><td>8</td><td>0.38658655</td><td>0.015792036</td><td>1UVA J142017.6+522932.2</td><td>none</td><td>none</td><td>none</td><td>none</td><td>none</td><td>none</td><td>8.5843355e-10</td><td>1.4640905</td><td>201</td><td>52</td><td>1</td><td>6.860704</td><td>2.5457907</td><td>0.04726609</td><td>0.08709823</td><td>0.00837064</td><td>-0.029300157</td><td>0.8832056</td><td>0.250831</td><td>4.5626e-14</td><td>0.99937075</td><td>1.9360666</td><td>0.48102832</td><td>0.97232914</td><td>1.156314</td><td>-1.0173489</td><td>1.489808</td><td>0.0914912</td><td>nan</td></tr>\n",
       "<tr><td>...</td><td>...</td><td>...</td><td>...</td><td>...</td><td>...</td><td>...</td><td>...</td><td>...</td><td>...</td><td>...</td><td>...</td><td>...</td><td>...</td><td>...</td><td>...</td><td>...</td><td>...</td><td>...</td><td>...</td><td>...</td><td>...</td><td>...</td><td>...</td><td>...</td><td>...</td><td>...</td><td>...</td><td>...</td><td>...</td><td>...</td><td>...</td><td>...</td><td>...</td><td>...</td><td>...</td><td>...</td><td>...</td><td>...</td><td>...</td><td>...</td><td>...</td></tr>\n",
       "<tr><td>8.576005463576456</td><td>-41.87108750982818</td><td>0.4</td><td>0.0774381</td><td>0.3408768</td><td>0.041617773</td><td>1.3028445</td><td>-1</td><td>1942335</td><td>1</td><td>-1.0</td><td>-1.0</td><td>1UVA J03418.2-415215.9</td><td>LP?</td><td>Star</td><td>DENIS J003418.3-415216</td><td>4993174329442926080</td><td>none</td><td>none</td><td>-1.0</td><td>-1.0</td><td>9</td><td>-1</td><td>1</td><td>160.8345</td><td>-1.0</td><td>1.0324454</td><td>-1.0</td><td>0.0043238364</td><td>-100.0</td><td>132.57164</td><td>-1.0</td><td>3.9147817e-25</td><td>-1.0</td><td>16.767597</td><td>-1.0</td><td>-100.0</td><td>-100.0</td><td>-10000.0</td><td>-10000.0</td><td>0.06575588</td><td>nan</td></tr>\n",
       "<tr><td>8.00795512738832</td><td>-44.35310080524897</td><td>0.4</td><td>-0.1968871</td><td>0.15267819</td><td>0.76291376</td><td>0.42644975</td><td>-1</td><td>1947476</td><td>1</td><td>-1.0</td><td>-1.0</td><td>1UVA J03201.9-442111.2</td><td>RR*</td><td>Star</td><td>DES J003201.93-442110.9</td><td>4980310696233451136</td><td>none</td><td>none</td><td>-1.0</td><td>-1.0</td><td>8</td><td>-1</td><td>1</td><td>24.029562</td><td>-1.0</td><td>0.43581063</td><td>-1.0</td><td>0.10303849</td><td>-100.0</td><td>61.627075</td><td>-1.0</td><td>0.0</td><td>-1.0</td><td>39.316082</td><td>-1.0</td><td>-100.0</td><td>-100.0</td><td>-10000.0</td><td>-10000.0</td><td>0.32099608</td><td>nan</td></tr>\n",
       "<tr><td>6.476485133811305</td><td>-71.64575935955612</td><td>0.42254618</td><td>0.5118115</td><td>1.35829</td><td>0.046909314</td><td>1.4828753</td><td>-1</td><td>1962250</td><td>1</td><td>-1.0</td><td>-1.0</td><td>1UVA J02554.4-713844.7</td><td>RR*</td><td>Star</td><td>OGLE SMC706.04.008128</td><td>4689844974288765568</td><td>none</td><td>none</td><td>-1.0</td><td>-1.0</td><td>4</td><td>-1</td><td>1</td><td>3.6794333</td><td>-1.0</td><td>0.3212436</td><td>-1.0</td><td>0.4325275</td><td>-100.0</td><td>6.3018556</td><td>-1.0</td><td>1.9788551e-10</td><td>-1.0</td><td>16.049904</td><td>-1.0</td><td>-100.0</td><td>-100.0</td><td>-10000.0</td><td>-10000.0</td><td>0.65766823</td><td>nan</td></tr>\n",
       "<tr><td>4.986356856543351</td><td>17.07798969502485</td><td>0.4</td><td>-0.23993886</td><td>0.09938809</td><td>0.9998248</td><td>0.29573542</td><td>-1</td><td>1976961</td><td>1</td><td>-1.0</td><td>-1.0</td><td>1UVA J01956.7+170440.8</td><td>*</td><td>Star</td><td>BD+16    20</td><td>2793606540757272064</td><td>none</td><td>none</td><td>-1.0</td><td>-1.0</td><td>-1</td><td>35</td><td>0</td><td>-1.0</td><td>22.009468</td><td>-1.0</td><td>0.24610455</td><td>-100.0</td><td>0.012089223</td><td>-1.0</td><td>8.177225</td><td>-1.0</td><td>8.367799e-09</td><td>-1.0</td><td>3.0169737</td><td>-100.0</td><td>-100.0</td><td>-10000.0</td><td>-10000.0</td><td>nan</td><td>0.109951004</td></tr>\n",
       "<tr><td>4.3431712518332235</td><td>16.510496457062175</td><td>0.4</td><td>-0.12631029</td><td>0.22547589</td><td>0.7858811</td><td>0.6772995</td><td>-1</td><td>1983574</td><td>1</td><td>-1.0</td><td>-1.0</td><td>1UVA J01722.4+163037.8</td><td>*</td><td>Star</td><td>HD   1309</td><td>2793466456104092288</td><td>none</td><td>none</td><td>-1.0</td><td>-1.0</td><td>-1</td><td>35</td><td>0</td><td>-1.0</td><td>22.426191</td><td>-1.0</td><td>0.25228256</td><td>-100.0</td><td>0.18022093</td><td>-1.0</td><td>93.12515</td><td>-1.0</td><td>0.0</td><td>-1.0</td><td>15.965855</td><td>-100.0</td><td>-100.0</td><td>-10000.0</td><td>-10000.0</td><td>nan</td><td>0.42452437</td></tr>\n",
       "<tr><td>0.7911487735767304</td><td>-43.05375971539038</td><td>0.4</td><td>-0.13646068</td><td>0.33245295</td><td>0.31256503</td><td>0.69500095</td><td>1271699</td><td>1987789</td><td>1</td><td>-1.0</td><td>-1.0</td><td>1UVA J00309.9-430313.5</td><td>RR*</td><td>Star</td><td>DES J000309.84-430313.4</td><td>4994901245597961216</td><td>none</td><td>none</td><td>-1.0</td><td>-1.0</td><td>11</td><td>-1</td><td>1</td><td>8.719524</td><td>-1.0</td><td>0.21298043</td><td>-1.0</td><td>0.032380402</td><td>-100.0</td><td>3.0160825</td><td>-1.0</td><td>5.4765827e-09</td><td>-1.0</td><td>5.9051433</td><td>-1.0</td><td>0.97411466</td><td>1.0</td><td>-0.7933482</td><td>0.0</td><td>0.17994556</td><td>nan</td></tr>\n",
       "</table></div>"
      ],
      "text/plain": [
       "<Table length=4202>\n",
       "     RAJ2000            DECJ2000       POS_ERR   ... FLUX_NE_NUV FLUX_NE_FUV\n",
       "       deg                deg           arcsec   ...                        \n",
       "     float64            float64        float32   ...   float32     float32  \n",
       "------------------ ------------------ ---------- ... ----------- -----------\n",
       "150.19490602211764 2.0679693223742093        0.4 ...  0.12980425   0.2216437\n",
       "150.14575525319893  2.043119350119519        0.4 ...  0.18018526  0.35257605\n",
       " 150.1238162438856 2.3582791864775623        0.4 ...  0.19685687         nan\n",
       "150.10184338530402 2.1057012051197965        0.4 ... 0.114811815         nan\n",
       "149.99382518479524 2.2584836044357988        0.4 ...  0.25235057  0.16015883\n",
       " 215.0734704033208 52.492277018785515        0.4 ...   0.0914912         nan\n",
       "               ...                ...        ... ...         ...         ...\n",
       " 8.576005463576456 -41.87108750982818        0.4 ...  0.06575588         nan\n",
       "  8.00795512738832 -44.35310080524897        0.4 ...  0.32099608         nan\n",
       " 6.476485133811305 -71.64575935955612 0.42254618 ...  0.65766823         nan\n",
       " 4.986356856543351  17.07798969502485        0.4 ...         nan 0.109951004\n",
       "4.3431712518332235 16.510496457062175        0.4 ...         nan  0.42452437\n",
       "0.7911487735767304 -43.05375971539038        0.4 ...  0.17994556         nan"
      ]
     },
     "metadata": {},
     "output_type": "display_data"
    },
    {
     "name": "stdout",
     "output_type": "stream",
     "text": [
      "tt_detections\n"
     ]
    },
    {
     "data": {
      "text/html": [
       "<div><i>Table length=133058</i>\n",
       "<table id=\"table130299747721680\" class=\"table-striped table-bordered table-condensed\">\n",
       "<thead><tr><th>VIS_ID</th><th>FD_SRC_ID</th><th>RAJ2000</th><th>DECJ2000</th><th>POS_ERR</th><th>FLUX</th><th>FLUX_ERR</th><th>FLUX_APP_RATIO</th><th>S2N</th><th>R_FOV</th><th>ARTIFACTS</th><th>CLASS_STAR</th><th>CHKOBJ_TYPE</th><th>SIZE_WORLD</th><th>ELLIP_WORLD</th><th>FLUX_AUTO</th><th>FLUX_AUTO_ERR</th><th>RG_SRC_ID</th><th>OBS_FILTER</th></tr></thead>\n",
       "<thead><tr><th></th><th></th><th>deg</th><th>deg</th><th>arcsec</th><th>1e-06 Jy</th><th>1e-06 Jy</th><th></th><th></th><th>deg</th><th></th><th></th><th></th><th>arcsec</th><th></th><th>Jy</th><th>Jy</th><th></th><th></th></tr></thead>\n",
       "<thead><tr><th>uint64</th><th>int32</th><th>float64</th><th>float64</th><th>float32</th><th>float32</th><th>float32</th><th>float32</th><th>float32</th><th>float32</th><th>int64</th><th>float32</th><th>int32</th><th>float32</th><th>float32</th><th>float32</th><th>float32</th><th>int32</th><th>bytes8</th></tr></thead>\n",
       "<tr><td>2518745845218672640</td><td>200</td><td>53.413730851927276</td><td>-28.289945007098186</td><td>0.62011015</td><td>27.90702</td><td>1.1415521</td><td>0.70133233</td><td>21.760221</td><td>0.4971887</td><td>1</td><td>0.97624475</td><td>0</td><td>3.9381106</td><td>0.22328553</td><td>30.128954</td><td>1.3845885</td><td>22515</td><td>NUV</td></tr>\n",
       "<tr><td>2518745845218672640</td><td>624</td><td>53.30202025247929</td><td>-28.194783952584167</td><td>0.6614574</td><td>8.241435</td><td>0.7498808</td><td>0.87157047</td><td>9.216578</td><td>0.36643726</td><td>0</td><td>0.9832993</td><td>0</td><td>2.5385818</td><td>0.16107683</td><td>7.507178</td><td>0.8145299</td><td>65533</td><td>NUV</td></tr>\n",
       "<tr><td>2518745845218672640</td><td>1466</td><td>53.18392394791309</td><td>-28.174699527742074</td><td>0.619121</td><td>14.75565</td><td>0.90745723</td><td>0.7960999</td><td>14.253685</td><td>0.31483153</td><td>0</td><td>0.98376745</td><td>0</td><td>2.7928307</td><td>0.18637805</td><td>14.172639</td><td>0.994314</td><td>23009</td><td>NUV</td></tr>\n",
       "<tr><td>2518745845218672640</td><td>639</td><td>53.27820706401691</td><td>-28.15385639959932</td><td>0.94363064</td><td>2.9380674</td><td>0.59172744</td><td>0.7092295</td><td>3.5465844</td><td>0.3204557</td><td>0</td><td>0.9777641</td><td>0</td><td>2.5331943</td><td>0.2802301</td><td>2.4617727</td><td>0.694125</td><td>295247</td><td>NUV</td></tr>\n",
       "<tr><td>2518745845218672640</td><td>696</td><td>53.12523217992214</td><td>-28.13408186751818</td><td>0.86808515</td><td>3.4921951</td><td>0.63950026</td><td>0.65538746</td><td>4.745185</td><td>0.26941594</td><td>0</td><td>0.25050837</td><td>0</td><td>3.1413975</td><td>0.42950013</td><td>4.1479063</td><td>0.8741296</td><td>66137</td><td>NUV</td></tr>\n",
       "<tr><td>2518745845218672640</td><td>4551</td><td>53.0846557118251</td><td>-28.03755668843335</td><td>0.70581585</td><td>5.055414</td><td>0.67544055</td><td>0.8214941</td><td>6.616273</td><td>0.17595807</td><td>0</td><td>0.9826577</td><td>0</td><td>2.3506565</td><td>0.058262195</td><td>4.8502007</td><td>0.73307145</td><td>66285</td><td>NUV</td></tr>\n",
       "<tr><td>...</td><td>...</td><td>...</td><td>...</td><td>...</td><td>...</td><td>...</td><td>...</td><td>...</td><td>...</td><td>...</td><td>...</td><td>...</td><td>...</td><td>...</td><td>...</td><td>...</td><td>...</td><td>...</td></tr>\n",
       "<tr><td>3386709119003000832</td><td>449</td><td>344.23127374112613</td><td>0.42879995171220786</td><td>0.731752</td><td>12.103431</td><td>1.53426</td><td>0.75102186</td><td>7.671765</td><td>0.39218503</td><td>0</td><td>0.8984503</td><td>0</td><td>2.6420417</td><td>0.09115885</td><td>11.238172</td><td>1.4648744</td><td>88343</td><td>FUV</td></tr>\n",
       "<tr><td>3386709119003000832</td><td>10</td><td>344.83069862357246</td><td>0.4681577973476666</td><td>0.7459656</td><td>9.357024</td><td>1.5294656</td><td>0.80624187</td><td>5.8231306</td><td>0.44149047</td><td>0</td><td>0.9827231</td><td>0</td><td>2.2632453</td><td>0.04394787</td><td>8.181391</td><td>1.4049815</td><td>87371</td><td>FUV</td></tr>\n",
       "<tr><td>3386709119036555264</td><td>13</td><td>344.8256935287942</td><td>-0.019821013830112505</td><td>0.65234494</td><td>11.608826</td><td>1.0458748</td><td>0.89259547</td><td>11.245969</td><td>0.3433099</td><td>0</td><td>0.98413074</td><td>0</td><td>2.6429875</td><td>0.2256649</td><td>12.024248</td><td>1.0692052</td><td>87380</td><td>FUV</td></tr>\n",
       "<tr><td>3386709119036555264</td><td>137</td><td>344.84401803584456</td><td>0.256080293869545</td><td>0.79379797</td><td>2.815017</td><td>0.6469499</td><td>1.0265785</td><td>4.0787764</td><td>0.33259824</td><td>0</td><td>0.9815438</td><td>0</td><td>1.8362231</td><td>0.05176178</td><td>2.4344308</td><td>0.5968532</td><td>87349</td><td>FUV</td></tr>\n",
       "<tr><td>3386709119036555264</td><td>10</td><td>344.8304973134365</td><td>0.46847012739050964</td><td>0.65330213</td><td>10.801708</td><td>1.1188477</td><td>0.8277148</td><td>9.387816</td><td>0.43748188</td><td>0</td><td>0.9835256</td><td>0</td><td>2.494753</td><td>0.05975749</td><td>10.399615</td><td>1.1077778</td><td>87371</td><td>FUV</td></tr>\n",
       "<tr><td>3386709119036555264</td><td>152</td><td>344.7619651490339</td><td>0.545484950363072</td><td>0.94896126</td><td>2.5997505</td><td>0.70635456</td><td>0.8391396</td><td>3.6444414</td><td>0.45791695</td><td>0</td><td>0.96540195</td><td>0</td><td>1.882979</td><td>0.18289447</td><td>3.3048594</td><td>0.90682197</td><td>87489</td><td>FUV</td></tr>\n",
       "</table></div>"
      ],
      "text/plain": [
       "<Table length=133058>\n",
       "       VIS_ID       FD_SRC_ID      RAJ2000       ... RG_SRC_ID OBS_FILTER\n",
       "                                     deg         ...                     \n",
       "       uint64         int32        float64       ...   int32     bytes8  \n",
       "------------------- --------- ------------------ ... --------- ----------\n",
       "2518745845218672640       200 53.413730851927276 ...     22515        NUV\n",
       "2518745845218672640       624  53.30202025247929 ...     65533        NUV\n",
       "2518745845218672640      1466  53.18392394791309 ...     23009        NUV\n",
       "2518745845218672640       639  53.27820706401691 ...    295247        NUV\n",
       "2518745845218672640       696  53.12523217992214 ...     66137        NUV\n",
       "2518745845218672640      4551   53.0846557118251 ...     66285        NUV\n",
       "                ...       ...                ... ...       ...        ...\n",
       "3386709119003000832       449 344.23127374112613 ...     88343        FUV\n",
       "3386709119003000832        10 344.83069862357246 ...     87371        FUV\n",
       "3386709119036555264        13  344.8256935287942 ...     87380        FUV\n",
       "3386709119036555264       137 344.84401803584456 ...     87349        FUV\n",
       "3386709119036555264        10  344.8304973134365 ...     87371        FUV\n",
       "3386709119036555264       152  344.7619651490339 ...     87489        FUV"
      ]
     },
     "metadata": {},
     "output_type": "display_data"
    },
    {
     "name": "stdout",
     "output_type": "stream",
     "text": [
      "tt_fields\n"
     ]
    },
    {
     "data": {
      "text/html": [
       "<div><i>Table length=640</i>\n",
       "<table id=\"table130301824767488\" class=\"table-striped table-bordered table-condensed\">\n",
       "<thead><tr><th>FIELD_ID</th><th>FIELD_NAME</th><th>PROJECT</th><th>RAJ2000</th><th>DECJ2000</th><th>OBSERVATORY</th><th>OBS_FILTER</th><th>FOV_DIAM</th><th>NR_VIS</th><th>TIME_BIN_SIZE_SUM</th><th>TIME_START</th><th>TIME_STOP</th></tr></thead>\n",
       "<thead><tr><th></th><th></th><th></th><th>deg</th><th>deg</th><th></th><th></th><th>deg</th><th></th><th>s</th><th>d</th><th>d</th></tr></thead>\n",
       "<thead><tr><th>bytes32</th><th>bytes32</th><th>bytes32</th><th>float64</th><th>float64</th><th>bytes22</th><th>bytes8</th><th>float32</th><th>int32</th><th>float32</th><th>float64</th><th>float64</th></tr></thead>\n",
       "<tr><td>GNU2509140647668088832</td><td>PKS2155m304</td><td>DIS</td><td>329.7262466081879</td><td>-30.2657589090371</td><td>GALEX</td><td>NUV</td><td>1.2</td><td>1</td><td>240.05</td><td>54691.15467592593</td><td>54931.20467897769</td></tr>\n",
       "<tr><td>GNU2509211016412266496</td><td>HPQ_3C454p3</td><td>DIS</td><td>343.48735799747396</td><td>16.1446550539213</td><td>GALEX</td><td>NUV</td><td>1.2</td><td>1</td><td>103.0</td><td>54738.14524305556</td><td>54841.14524305556</td></tr>\n",
       "<tr><td>GNU2518745981248339968</td><td>CDFS_00</td><td>DIS</td><td>53.1273118243563</td><td>-27.8744513655764</td><td>GALEX</td><td>NUV</td><td>1.2</td><td>9</td><td>1757.0</td><td>52954.039131944446</td><td>54256.218136574076</td></tr>\n",
       "<tr><td>GNU2518851534364606464</td><td>CDFS_01</td><td>DIS</td><td>52.012981707647214</td><td>-28.2176904865393</td><td>GALEX</td><td>NUV</td><td>1.2</td><td>1</td><td>34.1</td><td>52976.559745370374</td><td>53010.659743844495</td></tr>\n",
       "<tr><td>GNU2518957087480872960</td><td>CDFS_02</td><td>DIS</td><td>53.125889581000706</td><td>-26.8016267586752</td><td>GALEX</td><td>NUV</td><td>1.2</td><td>4</td><td>1232.0</td><td>53714.89915509259</td><td>54394.07542824074</td></tr>\n",
       "<tr><td>GNU2519027456225050624</td><td>CDFS_03</td><td>DIS</td><td>54.16583693007192</td><td>-27.3163848506865</td><td>GALEX</td><td>NUV</td><td>1.2</td><td>3</td><td>603.05</td><td>53306.16232638889</td><td>53833.21823221842</td></tr>\n",
       "<tr><td>...</td><td>...</td><td>...</td><td>...</td><td>...</td><td>...</td><td>...</td><td>...</td><td>...</td><td>...</td><td>...</td><td>...</td></tr>\n",
       "<tr><td>GFU3193969266206441472</td><td>GI5_067001_AKARI_DFS0</td><td>GII</td><td>71.0970870208456</td><td>-53.3236751553728</td><td>GALEX</td><td>FUV</td><td>1.2</td><td>5</td><td>7047.0</td><td>54873.83467592593</td><td>56443.75208333333</td></tr>\n",
       "<tr><td>GFU3363733861535055872</td><td>WDST_LB_227p</td><td>CAI</td><td>62.368320024271895</td><td>17.1340279648515</td><td>GALEX</td><td>FUV</td><td>1.2</td><td>4</td><td>2586.35</td><td>54411.30483796296</td><td>55951.97353262442</td></tr>\n",
       "<tr><td>GFU3365844923860385792</td><td>WDST_HZ_4a</td><td>CAI</td><td>58.31181913686078</td><td>9.94277286412581</td><td>GALEX</td><td>FUV</td><td>1.2</td><td>21</td><td>29646.65</td><td>54799.27177083334</td><td>56339.94480577257</td></tr>\n",
       "<tr><td>GFU3384598193982406656</td><td>WDST_J2112m0640</td><td>CAI</td><td>318.125774571189</td><td>-6.67998928345195</td><td>GALEX</td><td>FUV</td><td>1.2</td><td>20</td><td>21290.451</td><td>54655.280185185184</td><td>56166.349131944444</td></tr>\n",
       "<tr><td>GFU3386005568865959936</td><td>WDST_J2241p1316</td><td>CAI</td><td>340.37887649227</td><td>13.2825179943633</td><td>GALEX</td><td>FUV</td><td>1.2</td><td>8</td><td>11587.15</td><td>54662.40116898148</td><td>56451.20584490741</td></tr>\n",
       "<tr><td>GFU3386709256307736576</td><td>WDST_J2258p0009</td><td>CAI</td><td>344.52304347462496</td><td>0.15625211807549</td><td>GALEX</td><td>FUV</td><td>1.2</td><td>6</td><td>8006.3</td><td>54698.68635416667</td><td>56447.32435438368</td></tr>\n",
       "</table></div>"
      ],
      "text/plain": [
       "<Table length=640>\n",
       "       FIELD_ID              FIELD_NAME      ...     TIME_STOP     \n",
       "                                             ...         d         \n",
       "       bytes32                bytes32        ...      float64      \n",
       "---------------------- --------------------- ... ------------------\n",
       "GNU2509140647668088832           PKS2155m304 ...  54931.20467897769\n",
       "GNU2509211016412266496           HPQ_3C454p3 ...  54841.14524305556\n",
       "GNU2518745981248339968               CDFS_00 ... 54256.218136574076\n",
       "GNU2518851534364606464               CDFS_01 ... 53010.659743844495\n",
       "GNU2518957087480872960               CDFS_02 ...  54394.07542824074\n",
       "GNU2519027456225050624               CDFS_03 ...  53833.21823221842\n",
       "                   ...                   ... ...                ...\n",
       "GFU3193969266206441472 GI5_067001_AKARI_DFS0 ...  56443.75208333333\n",
       "GFU3363733861535055872          WDST_LB_227p ...  55951.97353262442\n",
       "GFU3365844923860385792            WDST_HZ_4a ...  56339.94480577257\n",
       "GFU3384598193982406656       WDST_J2112m0640 ... 56166.349131944444\n",
       "GFU3386005568865959936       WDST_J2241p1316 ...  56451.20584490741\n",
       "GFU3386709256307736576       WDST_J2258p0009 ...  56447.32435438368"
      ]
     },
     "metadata": {},
     "output_type": "display_data"
    },
    {
     "name": "stdout",
     "output_type": "stream",
     "text": [
      "tt_visits\n"
     ]
    },
    {
     "data": {
      "text/html": [
       "<div><i>Table length=5449</i>\n",
       "<table id=\"table130299747722832\" class=\"table-striped table-bordered table-condensed\">\n",
       "<thead><tr><th>VIS_ID</th><th>TIME_BIN_START</th><th>TIME_BIN_SIZE</th><th>OBS_FILTER_ID</th></tr></thead>\n",
       "<thead><tr><th></th><th>d</th><th>s</th><th></th></tr></thead>\n",
       "<thead><tr><th>uint64</th><th>float64</th><th>float32</th><th>int32</th></tr></thead>\n",
       "<tr><td>2482083728193486848</td><td>52925.31974537037</td><td>1640.05</td><td>3</td></tr>\n",
       "<tr><td>2482083728227041280</td><td>52925.593773148146</td><td>1641.1</td><td>3</td></tr>\n",
       "<tr><td>2482083728260595712</td><td>55096.102175925924</td><td>320.0</td><td>1</td></tr>\n",
       "<tr><td>2482083728294150144</td><td>55097.05846064815</td><td>512.0</td><td>1</td></tr>\n",
       "<tr><td>2482083728327704576</td><td>55104.575578703705</td><td>1678.0</td><td>1</td></tr>\n",
       "<tr><td>2482083728428367872</td><td>55105.26012731482</td><td>1677.05</td><td>1</td></tr>\n",
       "<tr><td>...</td><td>...</td><td>...</td><td>...</td></tr>\n",
       "<tr><td>3386709119003000832</td><td>54727.23935185185</td><td>797.05</td><td>3</td></tr>\n",
       "<tr><td>3386709119036555264</td><td>54746.274305555555</td><td>1701.05</td><td>3</td></tr>\n",
       "<tr><td>3386709119070109696</td><td>55069.180300925924</td><td>1002.0</td><td>1</td></tr>\n",
       "<tr><td>3386709119103664128</td><td>55083.48773148148</td><td>1643.05</td><td>1</td></tr>\n",
       "<tr><td>3386709119137218560</td><td>55083.830104166664</td><td>1033.05</td><td>1</td></tr>\n",
       "<tr><td>3386709119170772992</td><td>55110.1216087963</td><td>1632.0</td><td>1</td></tr>\n",
       "</table></div>"
      ],
      "text/plain": [
       "<Table length=5449>\n",
       "       VIS_ID         TIME_BIN_START   TIME_BIN_SIZE OBS_FILTER_ID\n",
       "                            d                s                    \n",
       "       uint64            float64          float32        int32    \n",
       "------------------- ------------------ ------------- -------------\n",
       "2482083728193486848  52925.31974537037       1640.05             3\n",
       "2482083728227041280 52925.593773148146        1641.1             3\n",
       "2482083728260595712 55096.102175925924         320.0             1\n",
       "2482083728294150144  55097.05846064815         512.0             1\n",
       "2482083728327704576 55104.575578703705        1678.0             1\n",
       "2482083728428367872  55105.26012731482       1677.05             1\n",
       "                ...                ...           ...           ...\n",
       "3386709119003000832  54727.23935185185        797.05             3\n",
       "3386709119036555264 54746.274305555555       1701.05             3\n",
       "3386709119070109696 55069.180300925924        1002.0             1\n",
       "3386709119103664128  55083.48773148148       1643.05             1\n",
       "3386709119137218560 55083.830104166664       1033.05             1\n",
       "3386709119170772992   55110.1216087963        1632.0             1"
      ]
     },
     "metadata": {},
     "output_type": "display_data"
    },
    {
     "name": "stdout",
     "output_type": "stream",
     "text": [
      "tt_coadd_sources\n"
     ]
    },
    {
     "data": {
      "text/html": [
       "<div><i>Table length=2435</i>\n",
       "<table id=\"table130299748144880\" class=\"table-striped table-bordered table-condensed\">\n",
       "<thead><tr><th>RAJ2000</th><th>DECJ2000</th><th>POS_ERR</th><th>POS_XV</th><th>POS_VAR</th><th>POS_CPVAL</th><th>POS_RCHIQ</th><th>COADD_SRC_ID</th><th>COADD_FFACTOR</th><th>COADD_FDIFF_S2N</th><th>NR_FD_DETS</th><th>RG_SRC_ID</th><th>NR_DET_NUV</th><th>NR_DET_FUV</th><th>OBS_FILTER_ID_NUV</th><th>FLUX_NUV</th><th>FLUX_FUV</th><th>FLUX_ERR_NUV</th><th>FLUX_ERR_FUV</th><th>FLUX_NXV_NUV</th><th>FLUX_NXV_FUV</th><th>FLUX_VAR_NUV</th><th>FLUX_VAR_FUV</th><th>FLUX_CPVAL_NUV</th><th>FLUX_CPVAL_FUV</th><th>FLUX_RCHIQ_NUV</th><th>FLUX_RCHIQ_FUV</th></tr></thead>\n",
       "<thead><tr><th>deg</th><th>deg</th><th>arcsec</th><th>arcsec2</th><th>arcsec2</th><th></th><th></th><th></th><th></th><th></th><th></th><th></th><th></th><th></th><th></th><th>1e-06 Jy</th><th>1e-06 Jy</th><th>1e-06 Jy</th><th>1e-06 Jy</th><th></th><th></th><th>1e-12 Jy2</th><th>1e-12 Jy2</th><th></th><th></th><th></th><th></th></tr></thead>\n",
       "<thead><tr><th>float64</th><th>float64</th><th>float32</th><th>float32</th><th>float32</th><th>float32</th><th>float32</th><th>int64</th><th>float32</th><th>float32</th><th>int32</th><th>int32</th><th>int32</th><th>int32</th><th>int32</th><th>float32</th><th>float32</th><th>float32</th><th>float32</th><th>float32</th><th>float32</th><th>float32</th><th>float32</th><th>float32</th><th>float32</th><th>float32</th><th>float32</th></tr></thead>\n",
       "<tr><td>53.01019686171658</td><td>-27.27185778662949</td><td>0.23161383</td><td>-0.13973066</td><td>0.14420831</td><td>0.6175979</td><td>0.40009072</td><td>61</td><td>-100.0</td><td>-10000.0</td><td>-1</td><td>3962</td><td>3</td><td>2</td><td>1</td><td>147.36476</td><td>82.93363</td><td>0.21306285</td><td>0.47076347</td><td>0.008423994</td><td>-8.822509e-05</td><td>183.07819</td><td>4.55579</td><td>0.0</td><td>0.34752873</td><td>1353.2373</td><td>0.88246024</td></tr>\n",
       "<tr><td>306.5087473500289</td><td>-43.96201083529074</td><td>0.2621267</td><td>-0.25865906</td><td>0.02755884</td><td>0.9148524</td><td>0.092834264</td><td>108</td><td>-100.0</td><td>-10000.0</td><td>-1</td><td>10430</td><td>2</td><td>2</td><td>1</td><td>90.95539</td><td>37.56389</td><td>0.33069217</td><td>0.45907465</td><td>0.000965997</td><td>-0.00021573759</td><td>8.232098</td><td>0.20132086</td><td>4.905402e-09</td><td>0.5280853</td><td>34.226593</td><td>0.39807463</td></tr>\n",
       "<tr><td>244.9729381664936</td><td>55.12462784698586</td><td>0.2706465</td><td>-0.2625886</td><td>0.04939227</td><td>0.85750896</td><td>0.14466107</td><td>146</td><td>-100.0</td><td>-10000.0</td><td>-1</td><td>11280</td><td>2</td><td>2</td><td>1</td><td>19.705061</td><td>6.6761193</td><td>0.13458285</td><td>0.30325738</td><td>0.025711887</td><td>0.19527005</td><td>10.023085</td><td>8.921799</td><td>0.0</td><td>1.6592301e-10</td><td>254.1941</td><td>40.83166</td></tr>\n",
       "<tr><td>244.95163752211394</td><td>55.13903652728861</td><td>0.26060283</td><td>-0.17705204</td><td>0.1038711</td><td>0.5819675</td><td>0.36075017</td><td>149</td><td>-100.0</td><td>-10000.0</td><td>-1</td><td>11291</td><td>2</td><td>2</td><td>1</td><td>456.61932</td><td>72.96044</td><td>0.53369516</td><td>0.8878632</td><td>1.6821323e-06</td><td>0.004478144</td><td>0.9412466</td><td>25.506413</td><td>0.20676579</td><td>9.223169e-05</td><td>1.5939283</td><td>15.289419</td></tr>\n",
       "<tr><td>244.94605897958323</td><td>55.39501812862455</td><td>0.28470534</td><td>-0.25324744</td><td>0.09832097</td><td>0.6418037</td><td>0.2989826</td><td>150</td><td>-100.0</td><td>-10000.0</td><td>-1</td><td>11292</td><td>2</td><td>2</td><td>1</td><td>6.9047728</td><td>3.4646213</td><td>0.099998936</td><td>0.23654515</td><td>0.12719424</td><td>0.0045329113</td><td>6.084349</td><td>0.17010325</td><td>0.0</td><td>0.22529657</td><td>300.4494</td><td>1.4703114</td></tr>\n",
       "<tr><td>244.9143923278137</td><td>55.41736331131758</td><td>0.28445518</td><td>-0.26905397</td><td>0.08280459</td><td>0.78841835</td><td>0.2054989</td><td>152</td><td>-100.0</td><td>-10000.0</td><td>-1</td><td>11305</td><td>2</td><td>2</td><td>1</td><td>7.65115</td><td>3.5899456</td><td>0.10207792</td><td>0.23550881</td><td>0.1486895</td><td>-0.0043540183</td><td>8.727264</td><td>0.06311293</td><td>0.0</td><td>0.46687844</td><td>379.99692</td><td>0.52935433</td></tr>\n",
       "<tr><td>...</td><td>...</td><td>...</td><td>...</td><td>...</td><td>...</td><td>...</td><td>...</td><td>...</td><td>...</td><td>...</td><td>...</td><td>...</td><td>...</td><td>...</td><td>...</td><td>...</td><td>...</td><td>...</td><td>...</td><td>...</td><td>...</td><td>...</td><td>...</td><td>...</td><td>...</td><td>...</td></tr>\n",
       "<tr><td>4.881798693731509</td><td>16.31148548571217</td><td>0.47983882</td><td>-187852950000.0</td><td>-1296000000.0</td><td>1.0</td><td>-1.0</td><td>1264741</td><td>-100.0</td><td>-10000.0</td><td>-1</td><td>391763</td><td>1</td><td>-1</td><td>1</td><td>28.080936</td><td>-1.0</td><td>0.14780109</td><td>-1.0</td><td>-100.0</td><td>-100.0</td><td>-100.0</td><td>-1.0</td><td>-1.0</td><td>-1.0</td><td>-1.0</td><td>-1.0</td></tr>\n",
       "<tr><td>4.256782424369453</td><td>16.994106081981624</td><td>0.47949994</td><td>-198884050000.0</td><td>-1296000000.0</td><td>1.0</td><td>-1.0</td><td>1267181</td><td>-100.0</td><td>-10000.0</td><td>-1</td><td>392855</td><td>1</td><td>-1</td><td>1</td><td>247.08304</td><td>-1.0</td><td>0.36699575</td><td>-1.0</td><td>-100.0</td><td>-100.0</td><td>-100.0</td><td>-1.0</td><td>-1.0</td><td>-1.0</td><td>-1.0</td><td>-1.0</td></tr>\n",
       "<tr><td>0.7911297404062043</td><td>-43.05376594843687</td><td>0.49863958</td><td>-1201555800000.0</td><td>-1296000000.0</td><td>1.0</td><td>-1.0</td><td>1271699</td><td>-100.0</td><td>-10000.0</td><td>-1</td><td>1987789</td><td>1</td><td>-1</td><td>1</td><td>8.95123</td><td>-1.0</td><td>0.1998466</td><td>-1.0</td><td>-100.0</td><td>-100.0</td><td>-100.0</td><td>-1.0</td><td>-1.0</td><td>-1.0</td><td>-1.0</td><td>-1.0</td></tr>\n",
       "<tr><td>0.7522475040804106</td><td>-42.69576752489907</td><td>0.7116844</td><td>-1181624400000.0</td><td>-1296000000.0</td><td>1.0</td><td>-1.0</td><td>1271856</td><td>-100.0</td><td>-10000.0</td><td>-1</td><td>394262</td><td>-1</td><td>1</td><td>0</td><td>-1.0</td><td>0.7478115</td><td>-1.0</td><td>0.131647</td><td>-100.0</td><td>-100.0</td><td>-1.0</td><td>-100.0</td><td>-1.0</td><td>-1.0</td><td>-1.0</td><td>-1.0</td></tr>\n",
       "<tr><td>0.4696002050672737</td><td>-42.887716943373704</td><td>0.48114592</td><td>-1192045700000.0</td><td>-1296000000.0</td><td>1.0</td><td>-1.0</td><td>1272871</td><td>-100.0</td><td>-10000.0</td><td>-1</td><td>394907</td><td>1</td><td>-1</td><td>1</td><td>59.9509</td><td>-1.0</td><td>0.39325792</td><td>-1.0</td><td>-100.0</td><td>-100.0</td><td>-100.0</td><td>-1.0</td><td>-1.0</td><td>-1.0</td><td>-1.0</td><td>-1.0</td></tr>\n",
       "<tr><td>0.03188057642331487</td><td>-43.17062270263227</td><td>0.47977963</td><td>-1207680000000.0</td><td>-1296000000.0</td><td>1.0</td><td>-1.0</td><td>1274488</td><td>-100.0</td><td>-10000.0</td><td>-1</td><td>395758</td><td>1</td><td>-1</td><td>1</td><td>73.15145</td><td>-1.0</td><td>0.40796587</td><td>-1.0</td><td>-100.0</td><td>-100.0</td><td>-100.0</td><td>-1.0</td><td>-1.0</td><td>-1.0</td><td>-1.0</td><td>-1.0</td></tr>\n",
       "</table></div>"
      ],
      "text/plain": [
       "<Table length=2435>\n",
       "      RAJ2000             DECJ2000      ... FLUX_RCHIQ_NUV FLUX_RCHIQ_FUV\n",
       "        deg                 deg         ...                              \n",
       "      float64             float64       ...    float32        float32    \n",
       "------------------- ------------------- ... -------------- --------------\n",
       "  53.01019686171658  -27.27185778662949 ...      1353.2373     0.88246024\n",
       "  306.5087473500289  -43.96201083529074 ...      34.226593     0.39807463\n",
       "  244.9729381664936   55.12462784698586 ...       254.1941       40.83166\n",
       " 244.95163752211394   55.13903652728861 ...      1.5939283      15.289419\n",
       " 244.94605897958323   55.39501812862455 ...       300.4494      1.4703114\n",
       "  244.9143923278137   55.41736331131758 ...      379.99692     0.52935433\n",
       "                ...                 ... ...            ...            ...\n",
       "  4.881798693731509   16.31148548571217 ...           -1.0           -1.0\n",
       "  4.256782424369453  16.994106081981624 ...           -1.0           -1.0\n",
       " 0.7911297404062043  -43.05376594843687 ...           -1.0           -1.0\n",
       " 0.7522475040804106  -42.69576752489907 ...           -1.0           -1.0\n",
       " 0.4696002050672737 -42.887716943373704 ...           -1.0           -1.0\n",
       "0.03188057642331487  -43.17062270263227 ...           -1.0           -1.0"
      ]
     },
     "metadata": {},
     "output_type": "display_data"
    }
   ],
   "source": [
    "#print(rc.tt_sources.colnames)\n",
    "tablemaker = cdspyreadme.CDSTablesMaker()\n",
    "\n",
    "\n",
    "for tabname in tabnames_4CDS:\n",
    "    print(tabname)\n",
    "    tt = get_flat_table(rc.__dict__[tabname])\n",
    "    for colname in tt.colnames:\n",
    "        new_col_name = colname.upper()\n",
    "        if new_col_name not in tt.colnames:\n",
    "            tt.rename_column(colname,new_col_name)\n",
    "\n",
    "\n",
    "        #tt.rename_column(\"MAINCAT_MATCH_ID\",\"WDMAIN_MATCH_ID\")\n",
    "\n",
    "# rc.tt_sources.remove_columns([\"GFCAT_DIST\",\"FD_SRC_ID\",\"COADD_DIST\",\"SEL\",\"RG_FD_ID\"])\n",
    "    if \"RA\" in tt.colnames:\n",
    "        if tabname == \"tt_gaiadr3\":\n",
    "            tt.rename_column(\"RAJ2000\",\"RA_GAIA\")\n",
    "            tt.rename_column(\"DEJ2000\",\"DEC_GAIA\")\n",
    "            \n",
    "        tt.rename_column(\"RA\",\"RAJ2000\")\n",
    "        tt.rename_column(\"DEC\",\"DECJ2000\")\n",
    "    remove_cols = [\"GFCAT_DIST\",\"COADD_DIST\",\"SEL\",\"RG_FD_ID\",\"OBS_FILTER_ID_FUV\",\"OBS_FILTER_ID_FUV\"]\n",
    "    if tabname not in [\"tt_src_id_map\", \"tt_detections\", \"tt_coadd_detections\"]:\n",
    "        remove_cols.append(\"FD_SRC_ID\")\n",
    "    for rcol in remove_cols:\n",
    "        if rcol in tt.colnames:\n",
    "            tt.remove_column(rcol) \n",
    "    display(tt)\n",
    "\n",
    "    tablemaker.addTable(tt, name=tabname.replace(\"tt_\",\"\").upper())"
   ]
  },
  {
   "cell_type": "code",
   "execution_count": 6,
   "id": "011640a3-b1ed-4411-aea9-46378905a4d2",
   "metadata": {},
   "outputs": [],
   "source": [
    "os.chdir(region_dir_name+\"/CDS\")\n",
    "tablemaker.writeCDSTables()\n",
    "\n",
    "\n",
    "tablemaker.title = \"1UVA catalog of time-variable ultraviolet sources\"\n",
    "tablemaker.author = 'R. Buehler and J. Schliwinski'\n",
    "tablemaker.date = 2024\n",
    "tablemaker.abstract = \"\"\"Here, we present the 1UVA catalog of time variable ultraviolet (UV) sources. We describe a new analysis pipeline, the VAriable Source\n",
    "Clustering Analysis (VASCA). We apply the pipeline to 10 years of data from the GALaxy Evolution eXplorer (GALEX) satellite.\n",
    "We analyse a sky area of 302 deg2 , resulting in the detection of 4202 time-variable UV sources. We cross correlate these sources with\n",
    "multi-frequency data from the Gaia satellite and the SIMBAD database, finding an association for 3655 sources. The source sample\n",
    "is dominated by Active Galactic Nuclei (≈73 %) and stars (≈24 %). We look at UV and multi-frequency properties of these sources,\n",
    "focusing on the stellar population. We find UV variability for four White Dwarfs. One of them, WD J004917.14-252556.81, has\n",
    "recently been found to be the most massive pulsating White Dwarf. Its Spectral Energy Distribution shows no sign of a stellar\n",
    "companion. The observed flux variability is unexpected and difficult to explain..\"\"\"\n",
    "tablemaker.more_description = \"\"\"The catalog paper has the title \"The time-variable ultraviolet sky: Active Galactic Nuclei, Stars and White Dwarfs\" \"\"\"\n",
    "tablemaker.keywords = \"Ultraviolet: general, stars, galaxies – Galaxies: active – Stars: Hertzsprung-Russell and C-M diagrams, white dwarfs\"\n",
    "\n",
    "with open(\"ReadMe\", \"w\") as fd:\n",
    "    tablemaker.makeReadMe(out=fd)"
   ]
  },
  {
   "cell_type": "code",
   "execution_count": 7,
   "id": "f3fa699e-7088-4be1-8159-b251d2b9127c",
   "metadata": {},
   "outputs": [
    {
     "data": {
      "text/html": [
       "<div><i>Table length=2</i>\n",
       "<table id=\"table130299747715680\" class=\"table-striped table-bordered table-condensed\">\n",
       "<thead><tr><th>main_id</th><th>ra</th><th>dec</th><th>ra_prec</th><th>dec_prec</th><th>coo_err_maja</th><th>coo_err_mina</th><th>coo_err_angle</th><th>coo_qual</th><th>coo_wavelength</th><th>coo_bibcode</th><th>otype</th><th>otypes</th><th>distance_distance</th><th>distance_q</th><th>distance_unit</th><th>distance_merr</th><th>distance_perr</th><th>distance_method</th><th>distance_bibcode</th><th>match_distance</th><th>rvz_type</th><th>rvz_radvel</th><th>rvz_error</th><th>rvz_qual</th><th>rvz_wavelength</th><th>rvz_bibcode</th><th>z_value</th><th>sp_type</th><th>sp_qual</th><th>sp_bibcode</th><th>script_number_id</th><th>rg_src_id</th><th>simbad_match_id</th><th>ogrp</th></tr></thead>\n",
       "<thead><tr><th></th><th>deg</th><th>deg</th><th></th><th></th><th>mas</th><th>mas</th><th>deg</th><th></th><th></th><th></th><th></th><th></th><th></th><th></th><th></th><th></th><th></th><th></th><th></th><th>arcsec</th><th></th><th>km / s</th><th>km / s</th><th></th><th></th><th></th><th></th><th></th><th></th><th></th><th></th><th></th><th></th><th></th></tr></thead>\n",
       "<thead><tr><th>bytes32</th><th>float64</th><th>float64</th><th>int16</th><th>int16</th><th>float32</th><th>float32</th><th>int16</th><th>bytes1</th><th>bytes1</th><th>bytes32</th><th>bytes32</th><th>bytes32</th><th>float64</th><th>bytes1</th><th>bytes4</th><th>float64</th><th>float64</th><th>bytes8</th><th>bytes19</th><th>float32</th><th>bytes1</th><th>float64</th><th>float32</th><th>bytes1</th><th>bytes1</th><th>bytes32</th><th>float64</th><th>bytes32</th><th>bytes32</th><th>bytes32</th><th>int32</th><th>int32</th><th>int32</th><th>bytes8</th></tr></thead>\n",
       "<tr><td>2XMM J100046.7+020404</td><td>150.19472291666665</td><td>2.067906388888889</td><td>14</td><td>14</td><td>2.287</td><td>3.314</td><td>90</td><td>C</td><td>O</td><td>2020yCat.1350....0G</td><td>Sy1</td><td>Sy1|AGN|AGN|AGN|AGN|AGN|*|AG?|G|</td><td>--</td><td>--</td><td>--</td><td>--</td><td>--</td><td>--</td><td>--</td><td>0.6957</td><td>z</td><td>0.552</td><td>0.000</td><td>C</td><td>O</td><td>2009ApJ...696.1195T</td><td>0.5524000</td><td>--</td><td>--</td><td>--</td><td>1</td><td>41</td><td>0</td><td>AGN</td></tr>\n",
       "<tr><td>[VV2006] J100034.9+020235</td><td>150.14558874999997</td><td>2.043054722222222</td><td>14</td><td>14</td><td>1.578</td><td>2.045</td><td>90</td><td>C</td><td>O</td><td>2020yCat.1350....0G</td><td>QSO</td><td>QSO|AGN|QSO|AGN|AGN|AGN|AGN|AGN|</td><td>--</td><td>--</td><td>--</td><td>--</td><td>--</td><td>--</td><td>--</td><td>0.6421</td><td>z</td><td>1.177</td><td>0.001</td><td>C</td><td>O</td><td>2009ApJ...696.1195T</td><td>1.1767000</td><td>--</td><td>--</td><td>--</td><td>2</td><td>68</td><td>1</td><td>AGN</td></tr>\n",
       "</table></div>"
      ],
      "text/plain": [
       "<Table length=2>\n",
       "         main_id                  ra         ... simbad_match_id  ogrp \n",
       "                                 deg         ...                       \n",
       "         bytes32               float64       ...      int32      bytes8\n",
       "------------------------- ------------------ ... --------------- ------\n",
       "    2XMM J100046.7+020404 150.19472291666665 ...               0    AGN\n",
       "[VV2006] J100034.9+020235 150.14558874999997 ...               1    AGN"
      ]
     },
     "metadata": {},
     "output_type": "display_data"
    },
    {
     "data": {
      "text/html": [
       "<div><i>Table length=2</i>\n",
       "<table id=\"table130299747718224\" class=\"table-striped table-bordered table-condensed\">\n",
       "<thead><tr><th>_q</th><th>ra</th><th>dec</th><th>Source</th><th>e_RA_ICRS</th><th>e_DE_ICRS</th><th>Plx</th><th>e_Plx</th><th>PM</th><th>pmRA</th><th>e_pmRA</th><th>pmDE</th><th>e_pmDE</th><th>RUWE</th><th>FG</th><th>e_FG</th><th>Gmag</th><th>FBP</th><th>e_FBP</th><th>BPmag</th><th>FRP</th><th>e_FRP</th><th>RPmag</th><th>BP-RP</th><th>RV</th><th>e_RV</th><th>Vbroad</th><th>GRVSmag</th><th>QSO</th><th>Gal</th><th>NSS</th><th>XPcont</th><th>XPsamp</th><th>RVS</th><th>EpochPh</th><th>EpochRV</th><th>MCMCGSP</th><th>MCMCMSC</th><th>And</th><th>Teff</th><th>logg</th><th>__Fe_H_</th><th>Dist</th><th>A0</th><th>HIP</th><th>PS1</th><th>SDSS13</th><th>SKYM2</th><th>TYC2</th><th>URAT1</th><th>AllWISE</th><th>APASS9</th><th>GSC23</th><th>RAVE5</th><th>_2MASS</th><th>RAVE6</th><th>RAJ2000</th><th>DEJ2000</th><th>PQSO</th><th>PGal</th><th>PSS</th><th>RPlx</th><th>VarFlag</th><th>o_Gmag</th><th>RFRP</th><th>RFBP</th><th>AG</th><th>E_BP-RP</th><th>rg_src_id</th><th>match_distance</th><th>gaiadr3_match_id</th><th>Gmag_abs</th><th>Plx_dist</th><th>ogrp</th></tr></thead>\n",
       "<thead><tr><th></th><th>deg</th><th>deg</th><th></th><th>mas</th><th>mas</th><th>mas</th><th>mas</th><th>mas / yr</th><th>mas / yr</th><th>mas / yr</th><th>mas / yr</th><th>mas / yr</th><th></th><th></th><th></th><th>mag</th><th></th><th></th><th>mag</th><th></th><th></th><th>mag</th><th>mag</th><th>km / s</th><th>km / s</th><th>km / s</th><th>mag</th><th></th><th></th><th></th><th></th><th></th><th></th><th></th><th></th><th></th><th></th><th></th><th>K</th><th>log(cm.s**-2)</th><th></th><th>pc</th><th>mag</th><th></th><th></th><th></th><th></th><th></th><th></th><th></th><th></th><th></th><th></th><th></th><th></th><th>deg</th><th>deg</th><th></th><th></th><th></th><th></th><th></th><th></th><th></th><th></th><th>mag</th><th>mag</th><th></th><th>arcsec</th><th></th><th></th><th>pc</th><th></th></tr></thead>\n",
       "<thead><tr><th>int32</th><th>float64</th><th>float64</th><th>int64</th><th>float64</th><th>float64</th><th>float64</th><th>float32</th><th>float64</th><th>float64</th><th>float32</th><th>float64</th><th>float32</th><th>float64</th><th>float64</th><th>float32</th><th>float64</th><th>float32</th><th>float32</th><th>float64</th><th>float32</th><th>float32</th><th>float64</th><th>float64</th><th>float64</th><th>float32</th><th>float64</th><th>float64</th><th>uint8</th><th>uint8</th><th>uint8</th><th>uint8</th><th>uint8</th><th>uint8</th><th>uint8</th><th>uint8</th><th>uint8</th><th>uint8</th><th>uint8</th><th>float64</th><th>float64</th><th>float64</th><th>float64</th><th>float64</th><th>int32</th><th>int64</th><th>int64</th><th>int32</th><th>bytes12</th><th>bytes15</th><th>bytes19</th><th>int32</th><th>bytes10</th><th>bytes16</th><th>bytes17</th><th>bytes21</th><th>float64</th><th>float64</th><th>float64</th><th>float64</th><th>float64</th><th>float64</th><th>bytes13</th><th>int16</th><th>float32</th><th>float32</th><th>float32</th><th>float32</th><th>int32</th><th>float64</th><th>int32</th><th>float32</th><th>float64</th><th>bytes8</th></tr></thead>\n",
       "<tr><td>1</td><td>150.2</td><td>2.1</td><td>3836069006998531584</td><td>2.2872</td><td>3.3137</td><td>--</td><td>--</td><td>--</td><td>--</td><td>--</td><td>--</td><td>--</td><td>--</td><td>95.82888</td><td>1.689</td><td>20.733625</td><td>93.75</td><td>16.38</td><td>20.408556</td><td>130.9</td><td>9.985</td><td>19.455320</td><td>0.953236</td><td>--</td><td>--</td><td>--</td><td>--</td><td>0</td><td>0</td><td>0</td><td>0</td><td>0</td><td>0</td><td>0</td><td>0</td><td>0</td><td>0</td><td>0</td><td>--</td><td>--</td><td>--</td><td>--</td><td>--</td><td>--</td><td>110481501947501974</td><td>1237651753997304055</td><td>--</td><td>--</td><td>--</td><td>J100046.74+020404.4</td><td>--</td><td>N6SS000981</td><td>--</td><td>--</td><td>--</td><td>150.2</td><td>2.1</td><td>0.001869</td><td>0.000724</td><td>0.996765</td><td>--</td><td>NOT_AVAILABLE</td><td>79</td><td>13.11</td><td>5.725</td><td>--</td><td>--</td><td>41</td><td>0.6956587221689177</td><td>0</td><td>-100.0</td><td>--</td><td>none</td></tr>\n",
       "<tr><td>2</td><td>150.1</td><td>2.0</td><td>3836046123412862208</td><td>1.5776</td><td>2.0453</td><td>--</td><td>--</td><td>--</td><td>--</td><td>--</td><td>--</td><td>--</td><td>--</td><td>90.12499</td><td>2.676</td><td>20.800253</td><td>37.12</td><td>20.52</td><td>21.414429</td><td>59.56</td><td>10.83</td><td>20.310590</td><td>1.103838</td><td>--</td><td>--</td><td>--</td><td>--</td><td>0</td><td>0</td><td>0</td><td>0</td><td>0</td><td>0</td><td>0</td><td>0</td><td>0</td><td>0</td><td>0</td><td>--</td><td>--</td><td>--</td><td>--</td><td>--</td><td>--</td><td>110451501456232172</td><td>1237651736280760581</td><td>--</td><td>--</td><td>--</td><td>J100034.94+020234.9</td><td>--</td><td>N6SS004829</td><td>--</td><td>--</td><td>--</td><td>150.1</td><td>2.0</td><td>0.001265</td><td>0.000013</td><td>0.997987</td><td>--</td><td>NOT_AVAILABLE</td><td>43</td><td>5.497</td><td>1.809</td><td>--</td><td>--</td><td>68</td><td>0.6420858569707824</td><td>1</td><td>-100.0</td><td>--</td><td>none</td></tr>\n",
       "</table></div>"
      ],
      "text/plain": [
       "<Table length=2>\n",
       "  _q         ra             dec       ... Gmag_abs Plx_dist  ogrp \n",
       "            deg             deg       ...             pc          \n",
       "int32     float64         float64     ... float32  float64  bytes8\n",
       "----- --------------- --------------- ... -------- -------- ------\n",
       "    1           150.2             2.1 ...   -100.0       --   none\n",
       "    2           150.1             2.0 ...   -100.0       --   none"
      ]
     },
     "metadata": {},
     "output_type": "display_data"
    },
    {
     "data": {
      "text/html": [
       "<div><i>Table length=2</i>\n",
       "<table id=\"table130299747713664\" class=\"table-striped table-bordered table-condensed\">\n",
       "<thead><tr><th>gfcat_objid</th><th>ra</th><th>dec</th><th>n_gfcat</th><th>simbad_id</th><th>simbad_otype</th><th>simbad_match_offset</th><th>simbad_n_match</th><th>n_galex</th><th>gfcat_src_id</th><th>rg_src_id</th></tr></thead>\n",
       "<thead><tr><th></th><th>deg</th><th>deg</th><th></th><th></th><th></th><th></th><th></th><th></th><th></th><th></th></tr></thead>\n",
       "<thead><tr><th>bytes24</th><th>float64</th><th>float64</th><th>int64</th><th>bytes44</th><th>bytes52</th><th>bytes9</th><th>int64</th><th>int64</th><th>int32</th><th>int32</th></tr></thead>\n",
       "<tr><td>GFCAT J163938.3+410644.4</td><td>249.909726</td><td>41.112356</td><td>9</td><td>V* AF Her</td><td>RRLyrae</td><td>2.021917</td><td>1</td><td>84</td><td>0</td><td>-1</td></tr>\n",
       "<tr><td>GFCAT J204615.6-045550.4</td><td>311.565113</td><td>-4.93067</td><td>1</td><td>2MASS J20461427-0456025</td><td>Low-Mass*</td><td>23.589757</td><td>0</td><td>13</td><td>1</td><td>-1</td></tr>\n",
       "</table></div>"
      ],
      "text/plain": [
       "<Table length=2>\n",
       "      gfcat_objid            ra        dec    ... gfcat_src_id rg_src_id\n",
       "                            deg        deg    ...                       \n",
       "        bytes24           float64    float64  ...    int32       int32  \n",
       "------------------------ ---------- --------- ... ------------ ---------\n",
       "GFCAT J163938.3+410644.4 249.909726 41.112356 ...            0        -1\n",
       "GFCAT J204615.6-045550.4 311.565113  -4.93067 ...            1        -1"
      ]
     },
     "metadata": {},
     "output_type": "display_data"
    },
    {
     "data": {
      "text/html": [
       "<div><i>Table length=2</i>\n",
       "<table id=\"table130299747715680\" class=\"table-striped table-bordered table-condensed\">\n",
       "<thead><tr><th>_q</th><th>WDJname</th><th>GaiaEDR3</th><th>ra</th><th>dec</th><th>Plx</th><th>Pwd</th><th>pmRA</th><th>pmDE</th><th>Gmag</th><th>BPmag</th><th>RPmag</th><th>TeffH</th><th>loggH</th><th>MassH</th><th>TeffHe</th><th>loggHe</th><th>MassHe</th><th>rgeo</th><th>rpgeo</th><th>SDSS12</th><th>umag</th><th>gmag</th><th>rmag</th><th>imag</th><th>zmag</th><th>_RA.icrs</th><th>_DE.icrs</th><th>meanAV</th><th>minAV</th><th>maxAV</th><th>rg_src_id</th><th>match_distance</th><th>gaiaedr3_wd_match_id</th></tr></thead>\n",
       "<thead><tr><th></th><th></th><th></th><th>deg</th><th>deg</th><th>mas</th><th></th><th>mas / yr</th><th>mas / yr</th><th>mag</th><th>mag</th><th>mag</th><th>K</th><th>log(cm.s**-2)</th><th>solMass</th><th>K</th><th>log(cm.s**-2)</th><th>solMass</th><th>pc</th><th>pc</th><th></th><th>mag</th><th>mag</th><th>mag</th><th>mag</th><th>mag</th><th>deg</th><th>deg</th><th>mag</th><th>mag</th><th>mag</th><th></th><th>arcsec</th><th></th></tr></thead>\n",
       "<thead><tr><th>int32</th><th>bytes23</th><th>int64</th><th>float64</th><th>float64</th><th>float64</th><th>float64</th><th>float64</th><th>float64</th><th>float32</th><th>float32</th><th>float32</th><th>float64</th><th>float64</th><th>float64</th><th>float64</th><th>float64</th><th>float64</th><th>float64</th><th>float64</th><th>bytes19</th><th>float32</th><th>float32</th><th>float32</th><th>float32</th><th>float32</th><th>float64</th><th>float64</th><th>float32</th><th>float32</th><th>float32</th><th>int32</th><th>float64</th><th>int32</th></tr></thead>\n",
       "<tr><td>197</td><td>WDJ202622.19-434031.74</td><td>6679051075906933888</td><td>306.6</td><td>-43.7</td><td>0.6442</td><td>0.520516</td><td>11.036</td><td>-3.767</td><td>19.9644</td><td>20.0073</td><td>19.8234</td><td>--</td><td>--</td><td>--</td><td>--</td><td>--</td><td>--</td><td>1718.51770000</td><td>2819.34839000</td><td>--</td><td>--</td><td>--</td><td>--</td><td>--</td><td>--</td><td>306.6</td><td>-43.7</td><td>0.130</td><td>0.130</td><td>0.130</td><td>10407</td><td>0.29353535062614117</td><td>0</td></tr>\n",
       "<tr><td>315</td><td>WDJ104356.75+580731.92</td><td>855167540988615296</td><td>161.0</td><td>58.1</td><td>5.4931</td><td>0.144880</td><td>-61.045</td><td>-19.888</td><td>17.2745</td><td>17.4169</td><td>16.8548</td><td>--</td><td>--</td><td>--</td><td>--</td><td>--</td><td>--</td><td>181.05345200</td><td>182.06933600</td><td>J104356.73+580731.8</td><td>17.765</td><td>17.537</td><td>17.635</td><td>17.623</td><td>17.189</td><td>161.0</td><td>58.1</td><td>0.030</td><td>0.030</td><td>0.030</td><td>17756</td><td>0.8107444132924932</td><td>1</td></tr>\n",
       "</table></div>"
      ],
      "text/plain": [
       "<Table length=2>\n",
       "  _q         WDJname         ...    match_distance   gaiaedr3_wd_match_id\n",
       "                             ...        arcsec                           \n",
       "int32        bytes23         ...       float64              int32        \n",
       "----- ---------------------- ... ------------------- --------------------\n",
       "  197 WDJ202622.19-434031.74 ... 0.29353535062614117                    0\n",
       "  315 WDJ104356.75+580731.92 ...  0.8107444132924932                    1"
      ]
     },
     "metadata": {},
     "output_type": "display_data"
    },
    {
     "data": {
      "text/html": [
       "<div><i>Table length=2</i>\n",
       "<table id=\"table130299747718224\" class=\"table-striped table-bordered table-condensed\">\n",
       "<thead><tr><th>fd_src_id</th><th>nr_det</th><th>ra</th><th>dec</th><th>pos_err</th><th>pos_xv</th><th>pos_var</th><th>pos_cpval</th><th>pos_rchiq</th><th>coadd_src_id</th><th>coadd_dist</th><th>obs_filter_id</th><th>sel</th><th>flux</th><th>flux_err</th><th>flux_nxv</th><th>flux_var</th><th>flux_cpval</th><th>flux_rchiq</th><th>coadd_ffactor</th><th>coadd_fdiff_s2n</th><th>rg_fd_id</th><th>rg_src_id</th><th>nr_fd_srcs</th><th>hr</th><th>hr_err</th><th>gfcat_dist</th><th>flux_ne</th><th>src_name</th><th>otype_simbad</th><th>ogrp_simbad</th><th>main_id_simbad</th><th>Source_gaiadr3</th><th>WDJname_gaiaedr3_wd</th><th>objid_gfcat</th><th>ls_peak_pval</th><th>ls_model_rchiq</th></tr></thead>\n",
       "<thead><tr><th></th><th></th><th>deg</th><th>deg</th><th>arcsec</th><th>arcsec2</th><th>arcsec2</th><th></th><th></th><th></th><th>arcsec</th><th></th><th></th><th>1e-06 Jy</th><th>1e-06 Jy</th><th></th><th>1e-12 Jy2</th><th></th><th></th><th></th><th></th><th></th><th></th><th></th><th></th><th></th><th>arcsec</th><th></th><th></th><th></th><th></th><th></th><th></th><th></th><th></th><th></th><th></th></tr></thead>\n",
       "<thead><tr><th>int32</th><th>int32[2]</th><th>float64</th><th>float64</th><th>float32</th><th>float32</th><th>float32</th><th>float32</th><th>float32</th><th>int64</th><th>float32</th><th>int32[2]</th><th>bool</th><th>float32[2]</th><th>float32[2]</th><th>float32[2]</th><th>float32[2]</th><th>float32[2]</th><th>float32[2]</th><th>float32[2]</th><th>float32[2]</th><th>int64</th><th>int32</th><th>int32</th><th>float32</th><th>float32</th><th>float32</th><th>float32[2]</th><th>bytes24</th><th>bytes32</th><th>bytes8</th><th>bytes32</th><th>bytes32</th><th>bytes32</th><th>bytes32</th><th>float32</th><th>float32</th></tr></thead>\n",
       "<tr><td>-1</td><td>47 .. 23</td><td>150.19490602211764</td><td>2.0679693223742093</td><td>0.4</td><td>-0.3145582</td><td>0.1782018</td><td>1.0</td><td>0.3056839</td><td>846948</td><td>0.21220322</td><td>1 .. 2</td><td>True</td><td>13.532883 .. 7.885985</td><td>0.12551127 .. 0.21120642</td><td>0.016849143 .. 0.049125932</td><td>4.0856714 .. 4.8104725</td><td>1.2275191e-28 .. 5.1074105e-15</td><td>5.287477 .. 5.337544</td><td>0.87979734 .. -100.0</td><td>-10.652894 .. -10000.0</td><td>-1</td><td>41</td><td>10</td><td>0.5638935</td><td>0.017211191</td><td>-1.0</td><td>0.12980425 .. 0.2216437</td><td>1UVA J100046.8+20404.7</td><td>Sy1</td><td>AGN</td><td>2XMM J100046.7+020404</td><td>3836069006998531584</td><td>none</td><td>none</td><td>0.0015057425</td><td>3.068476</td></tr>\n",
       "<tr><td>-1</td><td>52 .. 21</td><td>150.14575525319893</td><td>2.043119350119519</td><td>0.4</td><td>-0.4227665</td><td>0.21190573</td><td>0.9999997</td><td>0.35446438</td><td>60853</td><td>0.04379872</td><td>1 .. 2</td><td>True</td><td>9.605367 .. 3.214509</td><td>0.110952616 .. 0.14565498</td><td>0.03246673 .. 0.124309875</td><td>3.953956 .. 1.8266395</td><td>4.6e-44 .. 1.6166583e-10</td><td>6.637378 .. 4.4029164</td><td>0.9722032 .. -100.0</td><td>-1.9600928 .. -10000.0</td><td>-1</td><td>68</td><td>10</td><td>0.31352478</td><td>0.016040279</td><td>-1.0</td><td>0.18018526 .. 0.35257605</td><td>1UVA J100035.0+20235.2</td><td>QSO</td><td>AGN</td><td>[VV2006] J100034.9+020235</td><td>3836046123412862208</td><td>none</td><td>none</td><td>8.094213e-05</td><td>3.5829577</td></tr>\n",
       "</table></div>"
      ],
      "text/plain": [
       "<Table length=2>\n",
       "fd_src_id  nr_det          ra         ... ls_peak_pval ls_model_rchiq\n",
       "                          deg         ...                            \n",
       "  int32   int32[2]      float64       ...   float32       float32    \n",
       "--------- -------- ------------------ ... ------------ --------------\n",
       "       -1 47 .. 23 150.19490602211764 ... 0.0015057425       3.068476\n",
       "       -1 52 .. 21 150.14575525319893 ... 8.094213e-05      3.5829577"
      ]
     },
     "metadata": {},
     "output_type": "display_data"
    },
    {
     "data": {
      "text/html": [
       "<div><i>Table length=2</i>\n",
       "<table id=\"table130302469074960\" class=\"table-striped table-bordered table-condensed\">\n",
       "<thead><tr><th>rg_src_id</th><th>ls_peak_power</th><th>ls_peak_freq</th><th>ls_peak_pval</th><th>ls_pval_alt_flt</th><th>ls_model_rchiq</th><th>ls_model_pval</th></tr></thead>\n",
       "<thead><tr><th></th><th></th><th>1 / d</th><th></th><th></th><th></th><th></th></tr></thead>\n",
       "<thead><tr><th>int32</th><th>float32</th><th>float32</th><th>float32</th><th>float32</th><th>float32</th><th>float32</th></tr></thead>\n",
       "<tr><td>41</td><td>0.44715345</td><td>0.9750193</td><td>0.0015057425</td><td>0.9999908</td><td>3.068476</td><td>3.5325888e-11</td></tr>\n",
       "<tr><td>68</td><td>0.4836102</td><td>0.9984624</td><td>8.094213e-05</td><td>0.12976168</td><td>3.5829577</td><td>3.7953617e-16</td></tr>\n",
       "</table></div>"
      ],
      "text/plain": [
       "<Table length=2>\n",
       "rg_src_id ls_peak_power ls_peak_freq ... ls_model_rchiq ls_model_pval\n",
       "                           1 / d     ...                             \n",
       "  int32      float32      float32    ...    float32        float32   \n",
       "--------- ------------- ------------ ... -------------- -------------\n",
       "       41    0.44715345    0.9750193 ...       3.068476 3.5325888e-11\n",
       "       68     0.4836102    0.9984624 ...      3.5829577 3.7953617e-16"
      ]
     },
     "metadata": {},
     "output_type": "display_data"
    }
   ],
   "source": [
    "display(rc.tt_simbad[0:2])\n",
    "display(rc.tt_gaiadr3[0:2])\n",
    "display(rc.tt_gfcat[0:2])\n",
    "display(rc.tt_gaiaedr3_wd[0:2])\n",
    "display(rc.tt_sources[0:2])\n",
    "display(rc.tt_lombscargle[0:2])"
   ]
  },
  {
   "cell_type": "code",
   "execution_count": null,
   "id": "fb595249-5a2d-412a-a26d-788f4140a149",
   "metadata": {},
   "outputs": [],
   "source": []
  }
 ],
 "metadata": {
  "kernelspec": {
   "display_name": "Python 3 (ipykernel)",
   "language": "python",
   "name": "python3"
  },
  "language_info": {
   "codemirror_mode": {
    "name": "ipython",
    "version": 3
   },
   "file_extension": ".py",
   "mimetype": "text/x-python",
   "name": "python",
   "nbconvert_exporter": "python",
   "pygments_lexer": "ipython3",
   "version": "3.10.12"
  }
 },
 "nbformat": 4,
 "nbformat_minor": 5
}
