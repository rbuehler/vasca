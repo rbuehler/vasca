{
 "cells": [
  {
   "cell_type": "markdown",
   "id": "5c54f82c-ed1a-4e48-a9ee-04c5a7caa7b4",
   "metadata": {},
   "source": [
    "# Reformat catalog for CDS upload\n",
    "Setup catalog info below"
   ]
  },
  {
   "cell_type": "code",
   "execution_count": 1,
   "id": "becb5045-960c-465d-8ba3-ca0697cf8fbf",
   "metadata": {},
   "outputs": [],
   "source": [
    "region_name = \"ALL_10-800\" #\"CAINGSGII_10-800\" #\"TDS\" #\"CAINGSGII_10-800\" #\"WD\" #\"MDIS_10-800\" #\"TDS\" #  _ELAISN1\n",
    "region_dir_name = \"./vasca_pipeline/\"+region_name+\"/\"\n",
    "region_cat_fname = region_dir_name+\"region_\"+region_name+\"_cat.fits\"\n",
    "print_latex = True\n",
    "tabnames_4CDS = [\"tt_sources\",\"tt_detections\",\"tt_fields\",\"tt_visits\", \"tt_coadd_sources\"]"
   ]
  },
  {
   "cell_type": "code",
   "execution_count": 2,
   "id": "4b5024aa-394b-41a8-a3bc-dedabf21f278",
   "metadata": {},
   "outputs": [
    {
     "name": "stderr",
     "output_type": "stream",
     "text": [
      "WARNING: UnitsWarning: 'log(cm.s**-2)' did not parse as fits unit: 'log' is not a recognized function If this is meant to be a custom unit, define it with 'u.def_unit'. To have it recognized inside a file reader or other code, enable it with 'u.add_enabled_units'. For details, see https://docs.astropy.org/en/latest/units/combining_and_defining.html [astropy.units.core]\n"
     ]
    }
   ],
   "source": [
    "%matplotlib widget\n",
    "import os\n",
    "import ipywidgets as widgets\n",
    "from IPython.display import display\n",
    "import matplotlib.pyplot as plt\n",
    "from scipy.stats import chi2\n",
    "\n",
    "from regions import CircleSkyRegion\n",
    "from astropy import units as uu\n",
    "from astropy.coordinates import SkyCoord\n",
    "from astropy.wcs.utils import pixel_to_skycoord\n",
    "from astropy.table import Table,Column\n",
    "import numpy as np\n",
    "from matplotlib.ticker import ScalarFormatter\n",
    "\n",
    "from vasca.region import Region\n",
    "from vasca.field import BaseField\n",
    "import vasca.visualization as vvis\n",
    "\n",
    "from vasca.utils import mag2flux, flux2mag, select_obs_filter,freq2period,period2freq,flux2mag_np,mag2flux_np, dd_filter2id,get_flat_table\n",
    "from vasca.tables_dict import dd_vasca_columns\n",
    "import cdspyreadme\n",
    "\n",
    "rc = Region()\n",
    "rc.load_from_fits(region_cat_fname)"
   ]
  },
  {
   "cell_type": "code",
   "execution_count": 3,
   "id": "c14e8ea8-d8d9-4db5-9a76-e84df533e8d3",
   "metadata": {},
   "outputs": [
    {
     "name": "stderr",
     "output_type": "stream",
     "text": [
      "WARNING: MergeConflictWarning: Cannot merge meta key 'NAME' types <class 'str'> and <class 'str'>, choosing NAME='tt_simbad' [astropy.utils.metadata]\n",
      "WARNING: MergeConflictWarning: Cannot merge meta key 'EXTNAME' types <class 'str'> and <class 'str'>, choosing EXTNAME='tt_simbad' [astropy.utils.metadata]\n",
      "WARNING: MergeConflictWarning: Cannot merge meta key 'NAME' types <class 'str'> and <class 'str'>, choosing NAME='tt_gaiadr3' [astropy.utils.metadata]\n",
      "WARNING: MergeConflictWarning: Cannot merge meta key 'EXTNAME' types <class 'str'> and <class 'str'>, choosing EXTNAME='tt_gaiadr3' [astropy.utils.metadata]\n",
      "WARNING: MergeConflictWarning: Cannot merge meta key 'NAME' types <class 'str'> and <class 'str'>, choosing NAME='tt_gaiaedr3_wd' [astropy.utils.metadata]\n",
      "WARNING: MergeConflictWarning: Cannot merge meta key 'EXTNAME' types <class 'str'> and <class 'str'>, choosing EXTNAME='tt_gaiaedr3_wd' [astropy.utils.metadata]\n",
      "WARNING: MergeConflictWarning: Cannot merge meta key 'NAME' types <class 'str'> and <class 'str'>, choosing NAME='tt_gfcat' [astropy.utils.metadata]\n",
      "WARNING: MergeConflictWarning: Cannot merge meta key 'EXTNAME' types <class 'str'> and <class 'str'>, choosing EXTNAME='tt_gfcat' [astropy.utils.metadata]\n",
      "WARNING: MergeConflictWarning: In merged column 'rg_src_id' the 'description' attribute does not match (Region source ID nr != Region source ID number).  Using Region source ID number for merged output [astropy.utils.metadata]\n",
      "WARNING: MergeConflictWarning: Cannot merge meta key 'INFO' types <class 'str'> and <class 'str'>, choosing INFO='LombScargle results information' [astropy.utils.metadata]\n",
      "WARNING: MergeConflictWarning: Cannot merge meta key 'EXTNAME' types <class 'str'> and <class 'str'>, choosing EXTNAME='tt_lombscargle' [astropy.utils.metadata]\n"
     ]
    }
   ],
   "source": [
    "#Add Object group to source table\n",
    "rc.copy_table_columns(\"tt_sources\",\"tt_simbad\",[\"otype\",\"ogrp\", \"main_id\"],\"simbad_match_id\")\n",
    "#rc.tt_sources.rename_column(\"match_distance\",\"match_distance_simbad\"),\"match_distance\"\n",
    "rc.tt_sources.rename_column(\"ogrp\",\"ogrp_simbad\")\n",
    "rc.tt_sources.rename_column(\"otype\",\"otype_simbad\")\n",
    "rc.tt_sources.rename_column(\"main_id\",\"main_id_simbad\")\n",
    "\n",
    "copy_cols = [\"Source\"] #,,\"Plx_dist\",\"AG\",\"RPlx\", ,\"AG\",,\"RPlx\",,\"Plx\"   ,\"BP-RP\",\"Gmag_abs\"\n",
    "rc.copy_table_columns(\"tt_sources\",\"tt_gaiadr3\",copy_cols,\"gaiadr3_match_id\")\n",
    "for col in copy_cols:\n",
    "    rc.tt_sources.rename_column(col,col+\"_gaiadr3\")\n",
    "\n",
    "rc.copy_table_columns(\"tt_sources\",\"tt_gaiaedr3_wd\",[\"WDJname\"],\"gaiaedr3_wd_match_id\") # ,\"Pwd\"\n",
    "rc.tt_sources.rename_column(\"WDJname\",\"WDJname_gaiaedr3_wd\")\n",
    "#rc.tt_sources.rename_column(\"Pwd\",\"Pwd_gaiaedr3_wd\")\n",
    "\n",
    "rc.copy_table_columns(\"tt_sources\",\"tt_gfcat\",[\"gfcat_objid\"],\"gfcat_src_id\")\n",
    "rc.tt_sources.rename_column(\"gfcat_objid\",\"objid_gfcat\")\n",
    "\n",
    "rc.tt_sources.remove_columns([\"gaiaedr3_wd_match_id\",\"simbad_match_id\",\"gaiadr3_match_id\",\"gfcat_src_id\"]) \n",
    "\n",
    "rc.copy_table_columns(\"tt_sources\",\"tt_lombscargle\",[\"ls_peak_pval\", \"ls_model_rchiq\"],\"rg_src_id\")"
   ]
  },
  {
   "cell_type": "markdown",
   "id": "e6b6e359-413d-4b0c-8432-adb72223354c",
   "metadata": {},
   "source": [
    "### Print out LATEX for paper tables"
   ]
  },
  {
   "cell_type": "code",
   "execution_count": 5,
   "id": "a327f7ec-2c58-44c9-b442-c8b576235408",
   "metadata": {},
   "outputs": [
    {
     "name": "stdout",
     "output_type": "stream",
     "text": [
      "SOURCES &  \\\\\n",
      "DETECTIONS &  \\\\\n",
      "FIELDS &  \\\\\n",
      "VISITS &  \\\\\n",
      "COADD\\_SOURCES &  \\\\\n",
      "\n",
      "\n",
      "SRC\\_NAME & VASCA catalog source name &  \\\\\n",
      "NR\\_DET & Number of detections &  \\\\\n",
      "RA & Sky coordinate Right Ascension (J2000) & degree \\\\\n",
      "DEC & Sky coordinate Declination (J2000) & degree \\\\\n",
      "POS\\_ERR & Sky coordinate position error & arcsec \\\\\n",
      "POS\\_XV & Sky position excess variance & arcsec2 \\\\\n",
      "POS\\_VAR & Sky position variance & arcsec2 \\\\\n",
      "POS\\_CPVAL & Sky position quality &  \\\\\n",
      "POS\\_RCHIQ & Sky position reduced chisquared of the constant mean &  \\\\\n",
      "OBS\\_FILTER\\_ID & Observation filter ID number &  \\\\\n",
      "SEL & Selection of rows for VASCA analysis &  \\\\\n",
      "FLUX & Flux density & e-6Jy \\\\\n",
      "FLUX\\_ERR & Flux density error & e-6Jy \\\\\n",
      "FLUX\\_NXV & Flux normalized excess variance &  \\\\\n",
      "FLUX\\_VAR & Flux variance & e-2Jy2 \\\\\n",
      "FLUX\\_CPVAL & Probability value for a constant flux from the chisquare test &  \\\\\n",
      "FLUX\\_RCHIQ & Flux reduced chisquared of the constant mean &  \\\\\n",
      "COADD\\_FFACTOR & Source flux divided by flux of the associated co-add source &  \\\\\n",
      "COADD\\_FDIFF\\_S2N & Signal to noise of the flux difference &  \\\\\n",
      "RG\\_SRC\\_ID & Region source ID number &  \\\\\n",
      "NR\\_FD\\_SRCS & Number of field sources &  \\\\\n",
      "HR & Flux hardness ratio, only simulateneous detections considered &  \\\\\n",
      "HR\\_ERR & Flux hardness ratio error &  \\\\\n",
      "OGRP & SIMBAD source type group in VASCA &  \\\\\n",
      "OTYPE & SIMBAD source type &  \\\\\n",
      "MAIN\\_ID & SIMBAD main ID &  \\\\\n",
      "SOURCE & GAIA DR3 source ID &  \\\\\n"
     ]
    },
    {
     "ename": "KeyError",
     "evalue": "'wdjname'",
     "output_type": "error",
     "traceback": [
      "\u001b[0;31m---------------------------------------------------------------------------\u001b[0m",
      "\u001b[0;31mKeyError\u001b[0m                                  Traceback (most recent call last)",
      "Cell \u001b[0;32mIn[5], line 12\u001b[0m\n\u001b[1;32m     10\u001b[0m \u001b[38;5;28mprint\u001b[39m(\u001b[38;5;124m\"\u001b[39m\u001b[38;5;130;01m\\n\u001b[39;00m\u001b[38;5;124m\"\u001b[39m)\n\u001b[1;32m     11\u001b[0m \u001b[38;5;28;01mfor\u001b[39;00m col \u001b[38;5;129;01min\u001b[39;00m cat_cols:\n\u001b[0;32m---> 12\u001b[0m     icol \u001b[38;5;241m=\u001b[39m \u001b[43mdd_vasca_columns\u001b[49m\u001b[43m[\u001b[49m\u001b[43mcol\u001b[49m\u001b[38;5;241;43m.\u001b[39;49m\u001b[43mreplace\u001b[49m\u001b[43m(\u001b[49m\u001b[38;5;124;43m\"\u001b[39;49m\u001b[38;5;124;43m_simbad\u001b[39;49m\u001b[38;5;124;43m\"\u001b[39;49m\u001b[43m,\u001b[49m\u001b[38;5;124;43m\"\u001b[39;49m\u001b[38;5;124;43m\"\u001b[39;49m\u001b[43m)\u001b[49m\u001b[38;5;241;43m.\u001b[39;49m\u001b[43mreplace\u001b[49m\u001b[43m(\u001b[49m\u001b[38;5;124;43m\"\u001b[39;49m\u001b[38;5;124;43m_gaiadr3\u001b[39;49m\u001b[38;5;124;43m\"\u001b[39;49m\u001b[43m,\u001b[49m\u001b[38;5;124;43m\"\u001b[39;49m\u001b[38;5;124;43m\"\u001b[39;49m\u001b[43m)\u001b[49m\u001b[38;5;241;43m.\u001b[39;49m\u001b[43mreplace\u001b[49m\u001b[43m(\u001b[49m\u001b[38;5;124;43m\"\u001b[39;49m\u001b[38;5;124;43m_gaiaedr3_wd\u001b[39;49m\u001b[38;5;124;43m\"\u001b[39;49m\u001b[43m,\u001b[49m\u001b[38;5;124;43m\"\u001b[39;49m\u001b[38;5;124;43m\"\u001b[39;49m\u001b[43m)\u001b[49m\u001b[38;5;241;43m.\u001b[39;49m\u001b[43mreplace\u001b[49m\u001b[43m(\u001b[49m\u001b[38;5;124;43m\"\u001b[39;49m\u001b[38;5;124;43mobjid_gfcat\u001b[39;49m\u001b[38;5;124;43m\"\u001b[39;49m\u001b[43m,\u001b[49m\u001b[38;5;124;43m\"\u001b[39;49m\u001b[38;5;124;43mgfcat_objid\u001b[39;49m\u001b[38;5;124;43m\"\u001b[39;49m\u001b[43m)\u001b[49m\u001b[43m]\u001b[49m\n\u001b[1;32m     13\u001b[0m     \u001b[38;5;28mprint\u001b[39m(icol[\u001b[38;5;124m\"\u001b[39m\u001b[38;5;124mname\u001b[39m\u001b[38;5;124m\"\u001b[39m]\u001b[38;5;241m.\u001b[39mreplace(\u001b[38;5;124m\"\u001b[39m\u001b[38;5;124m_\u001b[39m\u001b[38;5;124m\"\u001b[39m,\u001b[38;5;124m\"\u001b[39m\u001b[38;5;124m\\\u001b[39m\u001b[38;5;124m_\u001b[39m\u001b[38;5;124m\"\u001b[39m)\u001b[38;5;241m.\u001b[39mupper(),\u001b[38;5;124m\"\u001b[39m\u001b[38;5;124m&\u001b[39m\u001b[38;5;124m\"\u001b[39m,icol[\u001b[38;5;124m\"\u001b[39m\u001b[38;5;124mdescription\u001b[39m\u001b[38;5;124m\"\u001b[39m],\u001b[38;5;124m\"\u001b[39m\u001b[38;5;124m&\u001b[39m\u001b[38;5;124m\"\u001b[39m,icol[\u001b[38;5;124m\"\u001b[39m\u001b[38;5;124munit\u001b[39m\u001b[38;5;124m\"\u001b[39m]\u001b[38;5;241m.\u001b[39mreplace(\u001b[38;5;124m\"\u001b[39m\u001b[38;5;124m1\u001b[39m\u001b[38;5;124m\"\u001b[39m,\u001b[38;5;124m\"\u001b[39m\u001b[38;5;124m\"\u001b[39m), \u001b[38;5;124m\"\u001b[39m\u001b[38;5;130;01m\\\\\u001b[39;00m\u001b[38;5;130;01m\\\\\u001b[39;00m\u001b[38;5;124m\"\u001b[39m)\n",
      "\u001b[0;31mKeyError\u001b[0m: 'wdjname'"
     ]
    }
   ],
   "source": [
    "#Latex table names print out and tt_sources  columns\n",
    "if print_latex:\n",
    "    for tabname in tabnames_4CDS:\n",
    "        new_tab_name = tabname.replace(\"tt_\",\"\").upper()\n",
    "        print(new_tab_name.replace(\"_\",\"\\_\"), \"&  \\\\\\\\\")\n",
    "    \n",
    "    cat_cols = ['src_name','nr_det', 'ra', 'dec', 'pos_err', 'pos_xv', 'pos_var', 'pos_cpval', 'pos_rchiq', 'obs_filter_id',\n",
    "                'sel', 'flux', 'flux_err', 'flux_nxv', 'flux_var', 'flux_cpval', 'flux_rchiq', 'coadd_ffactor', 'coadd_fdiff_s2n',\n",
    "                'rg_src_id', 'nr_fd_srcs', 'hr', 'hr_err',\"ogrp_simbad\",\"otype_simbad\",\"main_id_simbad\",\"Source_gaiadr3\",\"WDJname_gaiaedr3_wd\",\"objid_gfcat\",\"ls_peak_pval\", \"ls_model_rchiq\"]\n",
    "    print(\"\\n\")\n",
    "    for col in cat_cols:\n",
    "        icol = dd_vasca_columns[col.replace(\"_simbad\",\"\").replace(\"_gaiadr3\",\"\").replace(\"_gaiaedr3_wd\",\"\").replace(\"objid_gfcat\",\"gfcat_objid\")]\n",
    "        print(icol[\"name\"].replace(\"_\",\"\\_\").upper(),\"&\",icol[\"description\"],\"&\",icol[\"unit\"].replace(\"1\",\"\"), \"\\\\\\\\\")"
   ]
  },
  {
   "cell_type": "markdown",
   "id": "b652b594-a309-4607-9ba1-6ba7ea739b99",
   "metadata": {},
   "source": [
    "### Rename table columns, remove unwanted columns and store into CDS table"
   ]
  },
  {
   "cell_type": "code",
   "execution_count": null,
   "id": "f6b82b09-9aef-4d90-a0e9-9420a37138e7",
   "metadata": {
    "scrolled": true
   },
   "outputs": [],
   "source": [
    "#print(rc.tt_sources.colnames)\n",
    "tablemaker = cdspyreadme.CDSTablesMaker()\n",
    "\n",
    "\n",
    "for tabname in tabnames_4CDS:\n",
    "    print(tabname)\n",
    "    tt = get_flat_table(rc.__dict__[tabname])\n",
    "    for colname in tt.colnames:\n",
    "        new_col_name = colname.upper()\n",
    "        if new_col_name not in tt.colnames:\n",
    "            tt.rename_column(colname,new_col_name)\n",
    "\n",
    "\n",
    "        #tt.rename_column(\"MAINCAT_MATCH_ID\",\"WDMAIN_MATCH_ID\")\n",
    "\n",
    "# rc.tt_sources.remove_columns([\"GFCAT_DIST\",\"FD_SRC_ID\",\"COADD_DIST\",\"SEL\",\"RG_FD_ID\"])\n",
    "    if \"RA\" in tt.colnames:\n",
    "        if tabname == \"tt_gaiadr3\":\n",
    "            tt.rename_column(\"RAJ2000\",\"RA_GAIA\")\n",
    "            tt.rename_column(\"DEJ2000\",\"DEC_GAIA\")\n",
    "            \n",
    "        tt.rename_column(\"RA\",\"RAJ2000\")\n",
    "        tt.rename_column(\"DEC\",\"DECJ2000\")\n",
    "    remove_cols = [\"GFCAT_DIST\",\"COADD_DIST\",\"SEL\",\"RG_FD_ID\"]\n",
    "    if tabname not in [\"tt_src_id_map\", \"tt_detections\", \"tt_coadd_detections\"]:\n",
    "        remove_cols.append(\"FD_SRC_ID\")\n",
    "    for rcol in remove_cols:\n",
    "        if rcol in tt.colnames:\n",
    "            tt.remove_column(rcol) \n",
    "    display(tt)\n",
    "\n",
    "    tablemaker.addTable(tt, name=tabname.replace(\"tt_\",\"\").upper())"
   ]
  },
  {
   "cell_type": "code",
   "execution_count": null,
   "id": "011640a3-b1ed-4411-aea9-46378905a4d2",
   "metadata": {},
   "outputs": [],
   "source": [
    "os.chdir(region_dir_name+\"/CDS\")\n",
    "tablemaker.writeCDSTables()\n",
    "with open(\"ReadMe\", \"w\") as fd:\n",
    "    tablemaker.makeReadMe(out=fd)"
   ]
  },
  {
   "cell_type": "code",
   "execution_count": null,
   "id": "f3fa699e-7088-4be1-8159-b251d2b9127c",
   "metadata": {},
   "outputs": [],
   "source": [
    "display(rc.tt_simbad[0:2])\n",
    "display(rc.tt_gaiadr3[0:2])\n",
    "display(rc.tt_gfcat[0:2])\n",
    "display(rc.tt_gaiaedr3_wd[0:2])\n",
    "display(rc.tt_sources[0:2])"
   ]
  },
  {
   "cell_type": "code",
   "execution_count": null,
   "id": "fb595249-5a2d-412a-a26d-788f4140a149",
   "metadata": {},
   "outputs": [],
   "source": []
  }
 ],
 "metadata": {
  "kernelspec": {
   "display_name": "Python 3 (ipykernel)",
   "language": "python",
   "name": "python3"
  },
  "language_info": {
   "codemirror_mode": {
    "name": "ipython",
    "version": 3
   },
   "file_extension": ".py",
   "mimetype": "text/x-python",
   "name": "python",
   "nbconvert_exporter": "python",
   "pygments_lexer": "ipython3",
   "version": "3.10.12"
  }
 },
 "nbformat": 4,
 "nbformat_minor": 5
}
